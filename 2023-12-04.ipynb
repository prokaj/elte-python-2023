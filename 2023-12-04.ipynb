{
  "cells": [
    {
      "cell_type": "markdown",
      "metadata": {
        "id": "fx5onpunikLT"
      },
      "source": [
        "[![Open In Colab](https://colab.research.google.com/assets/colab-badge.svg)](https://colab.research.google.com/github/prokaj/elte-python-2023/blob/main/2023-12-04.ipynb)   "
      ]
    },
    {
      "cell_type": "markdown",
      "metadata": {
        "id": "dnFalksDikLV"
      },
      "source": [
        "Néhány import amit később használni fogunk:"
      ]
    },
    {
      "cell_type": "code",
      "execution_count": 1,
      "metadata": {
        "id": "F_ki9YCvikLV",
        "outputId": "9427e6f6-1293-4fff-ae72-38999cafc1df",
        "colab": {
          "base_uri": "https://localhost:8080/"
        }
      },
      "outputs": [
        {
          "output_type": "stream",
          "name": "stdout",
          "text": [
            "\u001b[?25l     \u001b[90m━━━━━━━━━━━━━━━━━━━━━━━━━━━━━━━━━━━━━━━━\u001b[0m \u001b[32m0.0/71.6 kB\u001b[0m \u001b[31m?\u001b[0m eta \u001b[36m-:--:--\u001b[0m\r\u001b[2K     \u001b[91m━━━━━━━━━━━━━━━━━━━━━━━━━━━━━━━━━━\u001b[0m\u001b[90m╺\u001b[0m\u001b[90m━━━━━\u001b[0m \u001b[32m61.4/71.6 kB\u001b[0m \u001b[31m2.1 MB/s\u001b[0m eta \u001b[36m0:00:01\u001b[0m\r\u001b[2K     \u001b[90m━━━━━━━━━━━━━━━━━━━━━━━━━━━━━━━━━━━━━━━━\u001b[0m \u001b[32m71.6/71.6 kB\u001b[0m \u001b[31m1.8 MB/s\u001b[0m eta \u001b[36m0:00:00\u001b[0m\n",
            "\u001b[?25h  Preparing metadata (setup.py) ... \u001b[?25l\u001b[?25hdone\n",
            "  Building wheel for pycosat (setup.py) ... \u001b[?25l\u001b[?25hdone\n",
            "\u001b[2K     \u001b[90m━━━━━━━━━━━━━━━━━━━━━━━━━━━━━━━━━━━━━━━━\u001b[0m \u001b[32m1.6/1.6 MB\u001b[0m \u001b[31m6.0 MB/s\u001b[0m eta \u001b[36m0:00:00\u001b[0m\n",
            "\u001b[?25h"
          ]
        }
      ],
      "source": [
        "import importlib\n",
        "import math\n",
        "import graphviz\n",
        "import matplotlib.pyplot as plt\n",
        "from pprint import pprint\n",
        "from tqdm.auto import tqdm\n",
        "import itertools\n",
        "\n",
        "from IPython.display import SVG, Image, display_html\n",
        "\n",
        "if importlib.util.find_spec('pycosat') is None:\n",
        "    ! pip install --quiet pycosat\n",
        "\n",
        "if importlib.util.find_spec('ipytest') is None:\n",
        "    ! pip install --quiet ipytest\n",
        "\n",
        "import ipytest\n",
        "\n",
        "ipytest.autoconfig()"
      ]
    },
    {
      "cell_type": "markdown",
      "metadata": {
        "id": "aACD9HCwikLX"
      },
      "source": [
        "# Házi feladat"
      ]
    },
    {
      "cell_type": "markdown",
      "metadata": {
        "id": "aEjozwscikLX"
      },
      "source": [
        "##### Polygon osztály további metódusai.\n",
        "\n",
        "A gyakorlaton látott Polygon osztályt egészítsük ki egy is_inner metódussal, ami egy tetszőleges síkbeli pontról eldönti, hogy a polygon belsejében van-e (a visszatérési érték bool típusú, True vagy False).\n",
        "\n",
        "Egy egyszerű algoritmus ennek eldöntésére a következő. Indítsunk ki egy félegyenest az adott pontból. Számoljuk meg, hogy hányszor metszi a polygont. Mivel a félegyenes ,,vége” a polygon külsejéhez tartozik és minden átmetszéssel egyik oldalról átkerülünk a másik oldalra ezért a metszések számának paritása megadja, hogy melyik oldalon vagyunk. Amire oda kell figyelni az az, hogy ha félegyenes tartalmazza valamelyik élet, akkor a fenti érvelés nem korrekt!\n",
        "\n",
        "Egy másik lehetőség, a körülfordulási szám számolása. Itt az ötlet az, hogy minden élre számoljuk ki, mekkora szög alatt látszik és ezeket a szögeket előjelesen adjuk össze. Az eredmény a teljes szög többszöröse, a hányados a körülfordulási szám. Ha a töröttvonal nem kerüli meg a pontot akkor a külsőben vagyunk, ha egyszer kerüli meg, akkor a belsőben. Ha a töröttvonal polygon, akkor más lehetőség nincs.\n",
        "\n",
        "Emellett implementáljuk az is_polygon metódust, ami ellenőrzi, hogy a polygon csúcsai között nincsennek ismétlődések és a különböző élek nem metszik egymást belső pontban. Az __init__ metódus egészítsük ki ellenőrzéssel, ha a kapott csúcs sorozatot nem tekinthető polygonnak dobjon hibát!\n",
        "\n",
        "Ellenőrzésképpen készítsünk néhány polygont, legyen köztük konvex és nem konvex is és rajzoljuk a Polygon típus draw metódusával. Az ábra tartalmazzon egy választott pontot a belőle kiinduló félegyenes alkalmas darabjával és a metszéspontokkal.\n"
      ]
    },
    {
      "cell_type": "code",
      "execution_count": 2,
      "metadata": {
        "id": "OI-wjrurikLY"
      },
      "outputs": [],
      "source": [
        "import math\n",
        "import numpy as np\n",
        "from itertools import cycle\n",
        "import matplotlib.pyplot as plt\n"
      ]
    },
    {
      "cell_type": "code",
      "execution_count": 3,
      "metadata": {
        "id": "F-gr3m-PikLZ"
      },
      "outputs": [],
      "source": [
        "\n",
        "class Point(np.ndarray):\n",
        "    def __new__(cls, point):\n",
        "        point = np.asarray(point)\n",
        "        assert point.shape[-1] == 2\n",
        "        return point.view(cls)\n",
        "\n",
        "    def __repr__(self):\n",
        "        if self.ndim > 1:\n",
        "            return \"Array of Points\"\n",
        "        else:\n",
        "            a, b =  self\n",
        "        return f\"Point{(a,b)}\"\n",
        "\n",
        "Vec = Point"
      ]
    },
    {
      "cell_type": "code",
      "execution_count": 4,
      "metadata": {
        "id": "HmNcvtHJikLZ"
      },
      "outputs": [],
      "source": [
        "class Line:\n",
        "    def __init__(self, P1, P2):\n",
        "        self.P1, self.P2 = Point(P1), Point(P2)\n",
        "\n",
        "    def p_v(self):\n",
        "        return self.P1, self.P2-self.P1\n",
        "\n",
        "    def is_parallel(self, other) -> bool:\n",
        "        v0 = self.P2-self.P1\n",
        "        v1 = other.P2-other.P1\n",
        "        return np.linalg.det(np.stack((v0, v1))) == 0\n",
        "\n",
        "    def intersection(self, other):\n",
        "        p0, v0 = self.p_v()\n",
        "        p1, v1 = other.p_v()\n",
        "        if (rotate90(v0)*v1).sum() != 0:\n",
        "            A = np.stack((v0, v1), axis=-1)\n",
        "            x = p1-p0\n",
        "            t, s = np.linalg.solve(A, x)\n",
        "            return t\n",
        "        else:\n",
        "            return np.inf\n",
        "\n",
        "    def side(self, points):\n",
        "        p0, v0 = self.p_v()\n",
        "        n = rotate90(v0)\n",
        "        side = (np.array(points)-p0) @ n\n",
        "        if (side>=0).all():\n",
        "            return 1\n",
        "        if (side<=0).all():\n",
        "            return -1\n",
        "        else:\n",
        "            return 0\n",
        "\n",
        "    def point(self, t):\n",
        "        p, v = self.p_v()\n",
        "        return Point(p+t*v)\n",
        "\n",
        "    def __str__(self):\n",
        "        return f\"Line{self.P1}-{self.P2}\"\n",
        "\n",
        "    def __repr__(self):\n",
        "        return str(self)\n"
      ]
    },
    {
      "cell_type": "code",
      "execution_count": 5,
      "metadata": {
        "id": "Y7hRcdc1ikLa"
      },
      "outputs": [],
      "source": [
        "def rotate90(x):\n",
        "    return np.flip(x, -1)*np.array([-1, 1])\n"
      ]
    },
    {
      "cell_type": "code",
      "execution_count": 6,
      "metadata": {
        "id": "zomr_F7zikLb"
      },
      "outputs": [],
      "source": [
        "class Polygon:\n",
        "\n",
        "    def __init__(self, nodes):\n",
        "        self.nodes = list(Point(node) for node in nodes)\n",
        "        is_poly = self.is_polygon()\n",
        "        if not is_poly:\n",
        "            raise ValueError(is_poly.message)\n",
        "\n",
        "    def area(self):\n",
        "        nodes = np.array(self.nodes)\n",
        "        nodes = nodes-nodes[0]\n",
        "        area = 0\n",
        "        for v1, v2 in zip(nodes[1:], nodes[2:]):\n",
        "            area += v1[0]*v2[1]-v1[1]*v2[0]\n",
        "        return abs(area)/2\n",
        "\n",
        "    def perimeter(self):\n",
        "        total = 0\n",
        "        p0 = self.nodes[-1]\n",
        "        for p in self.nodes:\n",
        "            total += np.linalg.norm(p-p0)\n",
        "            p0 = p\n",
        "        return total\n",
        "\n",
        "    def is_convex(self):\n",
        "        nodes = np.array(self.nodes + self.nodes[:1])\n",
        "        edges = np.diff(nodes, axis=0)\n",
        "        idx = np.array([i%len(edges) for i in range(1, len(edges)+1)])\n",
        "        edges1 = edges[idx]\n",
        "        sgn = (rotate90(edges) * edges1).sum(axis=1)\n",
        "        return (min(sgn)*max(sgn)>=0)\n",
        "\n",
        "    def draw(self,  *args, fill=False, **kwargs):\n",
        "        nodes = self.nodes + self.nodes[:1]\n",
        "        x, y = np.array(nodes).T\n",
        "        if fill:\n",
        "            plt.fill(x, y, alpha=0.5)\n",
        "        plt.plot(x, y, *args, **kwargs)\n",
        "        plt.axis('equal')\n",
        "\n",
        "    def __repr__(self):\n",
        "        return f'{type(self).__name__}({[tuple(x) for x in self.nodes]})'\n",
        "\n"
      ]
    },
    {
      "cell_type": "code",
      "execution_count": 7,
      "metadata": {
        "id": "BVDkeIoZikLb"
      },
      "outputs": [],
      "source": [
        "class Rectangle(Polygon):\n",
        "\n",
        "    def __init__(self, P1, P2, r):\n",
        "        \"\"\"\n",
        "        P1, P2 froms an edge and r is the ratio of edge lengths.\n",
        "\n",
        "        Assuming that e is P1P2 rotated counterclockwise by 90 degree\n",
        "        the vertices are:\n",
        "        P1, P2, P2+r*e, P1+r*e\n",
        "        \"\"\"\n",
        "        P1, P2 = Point(P1), Point(P2)\n",
        "        v = rotate90(P2-P1)*r\n",
        "        super(Rectangle, self).__init__([P1, P2, P2+v, P1+v])\n",
        "\n",
        "\n",
        "class Square(Rectangle):\n",
        "\n",
        "    def __init__(self, P1, P2):\n",
        "        super(Square, self).__init__(P1, P2, 1)\n"
      ]
    },
    {
      "cell_type": "code",
      "execution_count": 8,
      "metadata": {
        "id": "Lqb7hBNEikLb"
      },
      "outputs": [],
      "source": [
        "def edge_lines(polygon):\n",
        "    nodes = polygon.nodes\n",
        "    p0 = nodes[-1]\n",
        "    for p1 in nodes:\n",
        "        yield Line(p0, p1)\n",
        "        p0 = p1\n",
        "\n",
        "\n",
        "def is_inner_a(polygon, point, return_points=False):\n",
        "    edges = list(edge_lines(polygon))\n",
        "    while True:\n",
        "        line = Line(point, np.random.normal(size=2))\n",
        "\n",
        "        while any(line.is_parallel(edge) for edge in edges):\n",
        "            line = Line(point, np.random.normal(size=2))\n",
        "\n",
        "        t_values =[edge.intersection(line) for edge in edges]\n",
        "\n",
        "        if all(not (t==0 or t==1) for t in t_values):\n",
        "            break\n",
        "\n",
        "    def pos_side(point):\n",
        "        return (point-line.P1)@(line.P2-line.P1) > 0\n",
        "\n",
        "    points = [\n",
        "        edge.point(t) for edge, t in zip(edges, t_values)\n",
        "        if (0<t<1)]\n",
        "    points = [p for p in points if pos_side(p)]\n",
        "\n",
        "    if return_points:\n",
        "        return (len(points) & 1) == 1, line, points\n",
        "    return (len(points) & 1) == 1\n",
        "\n",
        "\n",
        "def angle(e1, e2):\n",
        "    cosa = e1@e2\n",
        "    sina = rotate90(e1)@e2\n",
        "    alpha = np.arccos(cosa.clip(-1,1))\n",
        "    # print(type(alpha))\n",
        "    alpha=float(alpha)\n",
        "    return alpha if sina >= 0 else -alpha\n",
        "\n",
        "\n",
        "def normalize(v):\n",
        "    normv= np.linalg.norm(v)\n",
        "    return v/normv if normv > 0 else None\n",
        "\n",
        "\n",
        "def is_inner_b(polygon, point):\n",
        "    point = Point(point)\n",
        "    alpha = 0\n",
        "    p0 = polygon.nodes[-1]\n",
        "    for p1 in polygon.nodes:\n",
        "        e0, e1 = normalize(p0-point), normalize(p1-point)\n",
        "        if e0 is not None and e1 is not None:\n",
        "            alpha += angle(e0, e1)\n",
        "        else:\n",
        "            return False\n",
        "        p0 = p1\n",
        "    return round(abs(alpha/(2*math.pi))) == 1\n",
        "\n",
        "class Bool:\n",
        "    def __init__(self, message=\"\"):\n",
        "        self.message = message\n",
        "\n",
        "    def __bool__(self):\n",
        "        return not self.message\n",
        "\n",
        "    def __str__(self):\n",
        "        return f\"{False}, reason {self.message}\" if self.message else f\"{True}\"\n",
        "\n",
        "def is_polygon(polygon):\n",
        "    nodes = polygon.nodes\n",
        "    if len(nodes) != len(np.unique(nodes, axis=0)):\n",
        "        return Bool(\"nodes are not unique\")\n",
        "    edges = list(edge_lines(polygon))\n",
        "    e0 = edges[-1]\n",
        "    for e1 in edges:\n",
        "        if e0.is_parallel(e1) and e0.p_v()[1] @ e1.p_v()[1] < 0:\n",
        "            return Bool(\"parallel subsequent edges\")\n",
        "        e0 = e1\n",
        "    for (i0, e0), (i1, e1) in itertools.combinations(enumerate(edges), 2):\n",
        "        if (\n",
        "            i1 - i0 > 1 and (not (i0==0 and i1==len(edges)-1))\n",
        "            and (0<=e0.intersection(e1)<=1 and 0<=e1.intersection(e0)<=1)\n",
        "            ):\n",
        "            return Bool(f\"intersection at inner point {e0}, {e1}, {e1.point(e1.intersection(e0))}\")\n",
        "    return True\n",
        "\n",
        "\n",
        "Polygon.is_polygon = is_polygon\n",
        "Polygon.is_inner = is_inner_a"
      ]
    },
    {
      "cell_type": "code",
      "execution_count": 9,
      "metadata": {
        "id": "oXqbcPd9ikLc",
        "outputId": "9fe82814-4de5-4110-9807-fb9252707cd1",
        "colab": {
          "base_uri": "https://localhost:8080/"
        }
      },
      "outputs": [
        {
          "output_type": "stream",
          "name": "stdout",
          "text": [
            "\u001b[32m.\u001b[0m\u001b[32m                                                                                            [100%]\u001b[0m\n",
            "\u001b[32m\u001b[32m\u001b[1m1 passed\u001b[0m\u001b[32m in 0.02s\u001b[0m\u001b[0m\n"
          ]
        }
      ],
      "source": [
        "%%ipytest\n",
        "from pytest import raises\n",
        "\n",
        "def test_is_polygon():\n",
        "\n",
        "    p = Square([0,0], [1,0])\n",
        "    assert is_polygon(p) == True\n",
        "\n",
        "    with raises(ValueError, match=\"parallel subsequent edges\"):\n",
        "        p = Polygon([[0,0], [1,0]])\n",
        "\n",
        "    with raises(ValueError, match=\"nodes are not unique\"):\n",
        "        Polygon([[0,0], [0,1], [1,1], [0,0], [1,0], [0,-1]])\n"
      ]
    },
    {
      "cell_type": "markdown",
      "metadata": {
        "id": "OnAKGZn2ikLc"
      },
      "source": [
        "Célszerű ellenőrizni, jól működik-e a `Line` osztály."
      ]
    },
    {
      "cell_type": "code",
      "execution_count": 10,
      "metadata": {
        "id": "MfQY1dudikLd",
        "outputId": "1f45598e-32b5-4024-cadd-7c6837b00f49",
        "colab": {
          "base_uri": "https://localhost:8080/"
        }
      },
      "outputs": [
        {
          "output_type": "stream",
          "name": "stdout",
          "text": [
            "\u001b[32m.\u001b[0m\u001b[32m                                                                                            [100%]\u001b[0m\n",
            "\u001b[32m\u001b[32m\u001b[1m1 passed\u001b[0m\u001b[32m in 0.02s\u001b[0m\u001b[0m\n"
          ]
        }
      ],
      "source": [
        "%%ipytest\n",
        "\n",
        "def test_Line():\n",
        "    p0 = Point([1,0])\n",
        "    p1 = Vec([0,1])\n",
        "    l0 = Line(p0, p0+p1)\n",
        "    l1 = Line(p1, p1+p1)\n",
        "    l2 = Line(p1, p1+p0)\n",
        "    assert l0.is_parallel(l1) == True\n",
        "    assert l0.is_parallel(l2) == False\n",
        "    assert tuple(l0.point(l0.intersection(l2))) == (1, 1)"
      ]
    },
    {
      "cell_type": "code",
      "execution_count": 14,
      "metadata": {
        "id": "yZiHjuy8ikLd",
        "outputId": "dcf5f5ce-1b3d-4047-8ae6-ae5d6bb91c66",
        "colab": {
          "base_uri": "https://localhost:8080/",
          "height": 525
        }
      },
      "outputs": [
        {
          "output_type": "stream",
          "name": "stdout",
          "text": [
            "is_inner=False, len(points)=2\n"
          ]
        },
        {
          "output_type": "display_data",
          "data": {
            "text/plain": [
              "<Figure size 640x480 with 1 Axes>"
            ],
            "image/png": "[encoded data removed]"
          },
          "metadata": {}
        }
      ],
      "source": [
        "\n",
        "nodes = np.array([[0,0], [2,0], [3, 1], [2,2], [1,1], [0,2]]) - np.array([1,1])\n",
        "polygon = Polygon(list(nodes))\n",
        "point = np.random.uniform(-2, 2, size=2)\n",
        "\n",
        "fig = plt.figure(\n",
        "        layout=\"compressed\",\n",
        "        )\n",
        "\n",
        "ax = fig.add_subplot(\n",
        "    1, 1, 1,\n",
        "    aspect=\"equal\",\n",
        ")\n",
        "\n",
        "ax.set_xlim(-3, 3, emit=True)\n",
        "ax.set_ylim(-3, 3, emit=True)\n",
        "\n",
        "polygon.draw(\"o-\")\n",
        "\n",
        "plt.plot(*point, 'or')\n",
        "\n",
        "is_inner, line, points = is_inner_a(polygon, point, True)\n",
        "\n",
        "print(f\"{is_inner=}, {len(points)=}\")\n",
        "\n",
        "plt.axline(line.P1, line.P2, alpha=0.5)\n",
        "plt.arrow(*line.P1, *(line.P2-line.P1), head_width=0.05, alpha=0.5)\n",
        "\n",
        "if len(points)>0:\n",
        "    ax.plot(*np.stack(points, axis=1), 'ob')\n",
        "\n",
        "\n",
        "\n",
        "ax.grid()\n",
        "plt.show()\n"
      ]
    },
    {
      "cell_type": "markdown",
      "metadata": {
        "id": "Or5mGSotikLd"
      },
      "source": [
        "# Sudoku"
      ]
    },
    {
      "cell_type": "markdown",
      "metadata": {
        "id": "P9e1UsP9ikLd"
      },
      "source": [
        "## Sudoku tábla `Matplotlib`-bel"
      ]
    },
    {
      "cell_type": "markdown",
      "metadata": {
        "id": "073d32aCikLd"
      },
      "source": [
        "A cél sudoku solver megírása. Ma csak megjelenítéssel és feladványok beolvasásával foglakozunk.\n",
        "\n",
        "Ez egy [project Euler](https://projecteuler.net/problem=96) feladat. A teszt adatok is onnan vannak:\n",
        "\n",
        "https://projecteuler.net/project/resources/p096_sudoku.txt"
      ]
    },
    {
      "cell_type": "code",
      "execution_count": 15,
      "metadata": {
        "id": "9l1a3KOlikLe",
        "outputId": "87708750-2e9d-4c1c-a474-25238a5e5edf",
        "colab": {
          "base_uri": "https://localhost:8080/"
        }
      },
      "outputs": [
        {
          "output_type": "execute_result",
          "data": {
            "text/plain": [
              "[['A0', 'B0', 'C0', 'D0', 'E0', 'F0', 'G0', 'H0', 'I0'],\n",
              " ['A1', 'B1', 'C1', 'D1', 'E1', 'F1', 'G1', 'H1', 'I1'],\n",
              " ['A2', 'B2', 'C2', 'D2', 'E2', 'F2', 'G2', 'H2', 'I2'],\n",
              " ['A3', 'B3', 'C3', 'D3', 'E3', 'F3', 'G3', 'H3', 'I3'],\n",
              " ['A4', 'B4', 'C4', 'D4', 'E4', 'F4', 'G4', 'H4', 'I4'],\n",
              " ['A5', 'B5', 'C5', 'D5', 'E5', 'F5', 'G5', 'H5', 'I5'],\n",
              " ['A6', 'B6', 'C6', 'D6', 'E6', 'F6', 'G6', 'H6', 'I6'],\n",
              " ['A7', 'B7', 'C7', 'D7', 'E7', 'F7', 'G7', 'H7', 'I7'],\n",
              " ['A8', 'B8', 'C8', 'D8', 'E8', 'F8', 'G8', 'H8', 'I8']]"
            ]
          },
          "metadata": {},
          "execution_count": 15
        }
      ],
      "source": [
        "grid = [[f\"{col}{row}\" for col in \"ABCDEFGHI\"] for row in range(9)]\n",
        "grid"
      ]
    },
    {
      "cell_type": "code",
      "execution_count": 16,
      "metadata": {
        "id": "vKSxfnxMikLe"
      },
      "outputs": [],
      "source": [
        "import uuid\n",
        "\n",
        "class HTMLGrid:\n",
        "    css = \"\"\"\n",
        "        .sudoku-board, .sudoku-board .box, .sudoku-board .box div {\n",
        "            box-sizing: border-box;\n",
        "        }\n",
        "\n",
        "        .sudoku-board, .sudoku-board .box{\n",
        "            display: flex;\n",
        "            flex-wrap: wrap;\n",
        "        }\n",
        "\n",
        "        .sudoku-board .box {\n",
        "           border: solid 1px;\n",
        "           width: 152px;\n",
        "        }\n",
        "\n",
        "        .sudoku-board .box > div {\n",
        "            border: solid 1px;\n",
        "            width: 50px;\n",
        "            text-align: center;\n",
        "        }\n",
        "\n",
        "        .sudoku-board .box > div:before {\n",
        "            display: inline-block;\n",
        "            padding-top: 100%;\n",
        "            content: '';\n",
        "            vertical-align: middle;\n",
        "        }\n",
        "\n",
        "        .sudoku-board .box .clue {\n",
        "            background-color: LightGray;\n",
        "            font-weight: bold;\n",
        "        }\n",
        "\n",
        "        .sudoku-board {\n",
        "            width: 460px;\n",
        "            margin: 0px;\n",
        "            font-size: calc(0.8vw + 10px);\n",
        "            border: solid 2px;\n",
        "        }\n",
        "\n",
        "        .sudoku-board .box div {\n",
        "            color: gray;\n",
        "            text-shadow: 1px 1px 1px white;\n",
        "            vertical-align: middle;\n",
        "        }\n",
        "    \"\"\"\n",
        "\n",
        "    def __init__(self, transform=None):\n",
        "        self.transform = self._transform if transform is None else transform\n",
        "\n",
        "    @staticmethod\n",
        "    def _transform(val):\n",
        "        if isinstance(val, str):\n",
        "            return \"\", val\n",
        "        if val < 0:\n",
        "            return 'class=\"solved\"', -val\n",
        "        elif val == 0:\n",
        "            return \"\", \"\"\n",
        "        else:\n",
        "            return 'class=\"clue\"', val\n",
        "\n",
        "    def box(self, content):\n",
        "        inner = \"\".join(f\"<div {div_class}>{val}</div>\" for div_class, val in content)\n",
        "        return f'<div class=\"box\">{inner}</div>\\n'\n",
        "\n",
        "    def board(self, boxes):\n",
        "        inner = \"\".join(self.box(box) for box in boxes)\n",
        "        return f'<div class=\"sudoku-board\">\\n{inner}</div>\\n'\n",
        "\n",
        "    def __call__(self, grid, title=\"\"):\n",
        "        boxes = [[0]*9 for _ in range(9)]\n",
        "        for i, line in enumerate(grid):\n",
        "          a, ra = divmod(i, 3)\n",
        "          for j, val in enumerate(line):\n",
        "            b, rb = divmod(j, 3)\n",
        "            boxes[a*3+b][ra*3+rb] = self.transform(val)\n",
        "        header = f\"<h3>{title}</h3>\" if title else \"\"\n",
        "        html = f\"<html>\\n<head>\\n<style>\\n{self.css}\\n</style>\\n</head>\\n<body>\\n{header}\\n{self.board(boxes)}</body></html>\"\n",
        "        html = html.replace('sudoku-board', f'sudoku-board-{uuid.uuid1()!s}')\n",
        "        return html\n"
      ]
    },
    {
      "cell_type": "markdown",
      "metadata": {
        "id": "AQ7c8clOikLe"
      },
      "source": [
        "Ellenőrzés EXCEL oszlop-sor jelöléssel"
      ]
    },
    {
      "cell_type": "code",
      "execution_count": 18,
      "metadata": {
        "id": "9Yr5cvFzikLf",
        "outputId": "c1c5cd2c-9202-441d-fb81-bc5aeba2482d",
        "colab": {
          "base_uri": "https://localhost:8080/",
          "height": 1000
        }
      },
      "outputs": [
        {
          "output_type": "stream",
          "name": "stdout",
          "text": [
            "<html>\n",
            "<head>\n",
            "<style>\n",
            "\n",
            "        .sudoku-board-e3658df2-929a-11ee-895d-0242ac1c000c, .sudoku-board-e3658df2-929a-11ee-895d-0242ac1c000c .box, .sudoku-board-e3658df2-929a-11ee-895d-0242ac1c000c .box div {\n",
            "            box-sizing: border-box;\n",
            "        }\n",
            "        \n",
            "        .sudoku-board-e3658df2-929a-11ee-895d-0242ac1c000c, .sudoku-board-e3658df2-929a-11ee-895d-0242ac1c000c .box{\n",
            "            display: flex;\n",
            "            flex-wrap: wrap;\n",
            "        }\n",
            "\n",
            "        .sudoku-board-e3658df2-929a-11ee-895d-0242ac1c000c .box {\n",
            "           border: solid 1px;\n",
            "           width: 152px;  \n",
            "        }\n",
            "        \n",
            "        .sudoku-board-e3658df2-929a-11ee-895d-0242ac1c000c .box > div {\n",
            "            border: solid 1px;\n",
            "            width: 50px;\n",
            "            text-align: center;\n",
            "        }\n",
            "\n",
            "        .sudoku-board-e3658df2-929a-11ee-895d-0242ac1c000c .box > div:before {\n",
            "            display: inline-block;\n",
            "            padding-top: 100%;\n",
            "            content: '';\n",
            "            vertical-align: middle;\n",
            "        }\n",
            "\n",
            "        .sudoku-board-e3658df2-929a-11ee-895d-0242ac1c000c .box .clue {\n",
            "            background-color: LightGray;\n",
            "            font-weight: bold;\n",
            "        }\n",
            "\n",
            "        .sudoku-board-e3658df2-929a-11ee-895d-0242ac1c000c {\n",
            "            width: 460px;\n",
            "            margin: 0px;\n",
            "            font-size: calc(0.8vw + 10px);\n",
            "            border: solid 2px;\n",
            "        }\n",
            "\n",
            "        .sudoku-board-e3658df2-929a-11ee-895d-0242ac1c000c .box div {\n",
            "            color: gray;\n",
            "            text-shadow: 1px 1px 1px white;\n",
            "            vertical-align: middle;\n",
            "        }\n",
            "    \n",
            "</style>\n",
            "</head>\n",
            "<body>\n",
            "<h3>Grid</h3>\n",
            "<div class=\"sudoku-board-e3658df2-929a-11ee-895d-0242ac1c000c\">\n",
            "<div class=\"box\"><div >A0</div><div >B0</div><div >C0</div><div >A1</div><div >B1</div><div >C1</div><div >A2</div><div >B2</div><div >C2</div></div>\n",
            "<div class=\"box\"><div >D0</div><div >E0</div><div >F0</div><div >D1</div><div >E1</div><div >F1</div><div >D2</div><div >E2</div><div >F2</div></div>\n",
            "<div class=\"box\"><div >G0</div><div >H0</div><div >I0</div><div >G1</div><div >H1</div><div >I1</div><div >G2</div><div >H2</div><div >I2</div></div>\n",
            "<div class=\"box\"><div >A3</div><div >B3</div><div >C3</div><div >A4</div><div >B4</div><div >C4</div><div >A5</div><div >B5</div><div >C5</div></div>\n",
            "<div class=\"box\"><div >D3</div><div >E3</div><div >F3</div><div >D4</div><div >E4</div><div >F4</div><div >D5</div><div >E5</div><div >F5</div></div>\n",
            "<div class=\"box\"><div >G3</div><div >H3</div><div >I3</div><div >G4</div><div >H4</div><div >I4</div><div >G5</div><div >H5</div><div >I5</div></div>\n",
            "<div class=\"box\"><div >A6</div><div >B6</div><div >C6</div><div >A7</div><div >B7</div><div >C7</div><div >A8</div><div >B8</div><div >C8</div></div>\n",
            "<div class=\"box\"><div >D6</div><div >E6</div><div >F6</div><div >D7</div><div >E7</div><div >F7</div><div >D8</div><div >E8</div><div >F8</div></div>\n",
            "<div class=\"box\"><div >G6</div><div >H6</div><div >I6</div><div >G7</div><div >H7</div><div >I7</div><div >G8</div><div >H8</div><div >I8</div></div>\n",
            "</div>\n",
            "</body></html>\n"
          ]
        },
        {
          "output_type": "display_data",
          "data": {
            "text/html": [
              "<html>\n",
              "<head>\n",
              "<style>\n",
              "\n",
              "        .sudoku-board-e3658df2-929a-11ee-895d-0242ac1c000c, .sudoku-board-e3658df2-929a-11ee-895d-0242ac1c000c .box, .sudoku-board-e3658df2-929a-11ee-895d-0242ac1c000c .box div {\n",
              "            box-sizing: border-box;\n",
              "        }\n",
              "        \n",
              "        .sudoku-board-e3658df2-929a-11ee-895d-0242ac1c000c, .sudoku-board-e3658df2-929a-11ee-895d-0242ac1c000c .box{\n",
              "            display: flex;\n",
              "            flex-wrap: wrap;\n",
              "        }\n",
              "\n",
              "        .sudoku-board-e3658df2-929a-11ee-895d-0242ac1c000c .box {\n",
              "           border: solid 1px;\n",
              "           width: 152px;  \n",
              "        }\n",
              "        \n",
              "        .sudoku-board-e3658df2-929a-11ee-895d-0242ac1c000c .box > div {\n",
              "            border: solid 1px;\n",
              "            width: 50px;\n",
              "            text-align: center;\n",
              "        }\n",
              "\n",
              "        .sudoku-board-e3658df2-929a-11ee-895d-0242ac1c000c .box > div:before {\n",
              "            display: inline-block;\n",
              "            padding-top: 100%;\n",
              "            content: '';\n",
              "            vertical-align: middle;\n",
              "        }\n",
              "\n",
              "        .sudoku-board-e3658df2-929a-11ee-895d-0242ac1c000c .box .clue {\n",
              "            background-color: LightGray;\n",
              "            font-weight: bold;\n",
              "        }\n",
              "\n",
              "        .sudoku-board-e3658df2-929a-11ee-895d-0242ac1c000c {\n",
              "            width: 460px;\n",
              "            margin: 0px;\n",
              "            font-size: calc(0.8vw + 10px);\n",
              "            border: solid 2px;\n",
              "        }\n",
              "\n",
              "        .sudoku-board-e3658df2-929a-11ee-895d-0242ac1c000c .box div {\n",
              "            color: gray;\n",
              "            text-shadow: 1px 1px 1px white;\n",
              "            vertical-align: middle;\n",
              "        }\n",
              "    \n",
              "</style>\n",
              "</head>\n",
              "<body>\n",
              "<h3>Grid</h3>\n",
              "<div class=\"sudoku-board-e3658df2-929a-11ee-895d-0242ac1c000c\">\n",
              "<div class=\"box\"><div >A0</div><div >B0</div><div >C0</div><div >A1</div><div >B1</div><div >C1</div><div >A2</div><div >B2</div><div >C2</div></div>\n",
              "<div class=\"box\"><div >D0</div><div >E0</div><div >F0</div><div >D1</div><div >E1</div><div >F1</div><div >D2</div><div >E2</div><div >F2</div></div>\n",
              "<div class=\"box\"><div >G0</div><div >H0</div><div >I0</div><div >G1</div><div >H1</div><div >I1</div><div >G2</div><div >H2</div><div >I2</div></div>\n",
              "<div class=\"box\"><div >A3</div><div >B3</div><div >C3</div><div >A4</div><div >B4</div><div >C4</div><div >A5</div><div >B5</div><div >C5</div></div>\n",
              "<div class=\"box\"><div >D3</div><div >E3</div><div >F3</div><div >D4</div><div >E4</div><div >F4</div><div >D5</div><div >E5</div><div >F5</div></div>\n",
              "<div class=\"box\"><div >G3</div><div >H3</div><div >I3</div><div >G4</div><div >H4</div><div >I4</div><div >G5</div><div >H5</div><div >I5</div></div>\n",
              "<div class=\"box\"><div >A6</div><div >B6</div><div >C6</div><div >A7</div><div >B7</div><div >C7</div><div >A8</div><div >B8</div><div >C8</div></div>\n",
              "<div class=\"box\"><div >D6</div><div >E6</div><div >F6</div><div >D7</div><div >E7</div><div >F7</div><div >D8</div><div >E8</div><div >F8</div></div>\n",
              "<div class=\"box\"><div >G6</div><div >H6</div><div >I6</div><div >G7</div><div >H7</div><div >I7</div><div >G8</div><div >H8</div><div >I8</div></div>\n",
              "</div>\n",
              "</body></html>"
            ]
          },
          "metadata": {}
        },
        {
          "output_type": "display_data",
          "data": {
            "text/html": [
              "<html>\n",
              "<head>\n",
              "<style>\n",
              "\n",
              "        .sudoku-board-e3671294-929a-11ee-895d-0242ac1c000c, .sudoku-board-e3671294-929a-11ee-895d-0242ac1c000c .box, .sudoku-board-e3671294-929a-11ee-895d-0242ac1c000c .box div {\n",
              "            box-sizing: border-box;\n",
              "        }\n",
              "        \n",
              "        .sudoku-board-e3671294-929a-11ee-895d-0242ac1c000c, .sudoku-board-e3671294-929a-11ee-895d-0242ac1c000c .box{\n",
              "            display: flex;\n",
              "            flex-wrap: wrap;\n",
              "        }\n",
              "\n",
              "        .sudoku-board-e3671294-929a-11ee-895d-0242ac1c000c .box {\n",
              "           border: solid 1px;\n",
              "           width: 152px;  \n",
              "        }\n",
              "        \n",
              "        .sudoku-board-e3671294-929a-11ee-895d-0242ac1c000c .box > div {\n",
              "            border: solid 1px;\n",
              "            width: 50px;\n",
              "            text-align: center;\n",
              "        }\n",
              "\n",
              "        .sudoku-board-e3671294-929a-11ee-895d-0242ac1c000c .box > div:before {\n",
              "            display: inline-block;\n",
              "            padding-top: 100%;\n",
              "            content: '';\n",
              "            vertical-align: middle;\n",
              "        }\n",
              "\n",
              "        .sudoku-board-e3671294-929a-11ee-895d-0242ac1c000c .box .clue {\n",
              "            background-color: LightGray;\n",
              "            font-weight: bold;\n",
              "        }\n",
              "\n",
              "        .sudoku-board-e3671294-929a-11ee-895d-0242ac1c000c {\n",
              "            width: 460px;\n",
              "            margin: 0px;\n",
              "            font-size: calc(0.8vw + 10px);\n",
              "            border: solid 2px;\n",
              "        }\n",
              "\n",
              "        .sudoku-board-e3671294-929a-11ee-895d-0242ac1c000c .box div {\n",
              "            color: gray;\n",
              "            text-shadow: 1px 1px 1px white;\n",
              "            vertical-align: middle;\n",
              "        }\n",
              "    \n",
              "</style>\n",
              "</head>\n",
              "<body>\n",
              "<h3>Hard problem</h3>\n",
              "<div class=\"sudoku-board-e3671294-929a-11ee-895d-0242ac1c000c\">\n",
              "<div class=\"box\"><div ></div><div class=\"clue\">2</div><div ></div><div ></div><div ></div><div ></div><div ></div><div class=\"clue\">7</div><div class=\"clue\">4</div></div>\n",
              "<div class=\"box\"><div ></div><div ></div><div ></div><div class=\"clue\">6</div><div ></div><div ></div><div ></div><div class=\"clue\">8</div><div ></div></div>\n",
              "<div class=\"box\"><div ></div><div ></div><div ></div><div ></div><div ></div><div class=\"clue\">3</div><div ></div><div ></div><div ></div></div>\n",
              "<div class=\"box\"><div ></div><div ></div><div ></div><div ></div><div class=\"clue\">8</div><div ></div><div class=\"clue\">6</div><div ></div><div ></div></div>\n",
              "<div class=\"box\"><div ></div><div ></div><div class=\"clue\">3</div><div ></div><div class=\"clue\">4</div><div ></div><div class=\"clue\">5</div><div ></div><div ></div></div>\n",
              "<div class=\"box\"><div ></div><div ></div><div class=\"clue\">2</div><div ></div><div class=\"clue\">1</div><div ></div><div ></div><div ></div><div ></div></div>\n",
              "<div class=\"box\"><div ></div><div ></div><div ></div><div class=\"clue\">5</div><div ></div><div ></div><div ></div><div ></div><div ></div></div>\n",
              "<div class=\"box\"><div ></div><div class=\"clue\">1</div><div ></div><div ></div><div ></div><div class=\"clue\">9</div><div ></div><div ></div><div ></div></div>\n",
              "<div class=\"box\"><div class=\"clue\">7</div><div class=\"clue\">8</div><div ></div><div ></div><div ></div><div ></div><div ></div><div class=\"clue\">4</div><div ></div></div>\n",
              "</div>\n",
              "</body></html>"
            ]
          },
          "metadata": {}
        }
      ],
      "source": [
        "html_grid = HTMLGrid()\n",
        "grid = [[f'{j}{i}' for j in \"ABCDEFGHI\"] for i in range(9)]\n",
        "html = html_grid(grid, \"Grid\")\n",
        "print(html)\n",
        "\n",
        "display_html(html, raw=True)\n",
        "grid=[\n",
        "    [0, 2, 0, 0, 0, 0, 0, 0, 0],\n",
        "    [0, 0, 0, 6, 0, 0, 0, 0, 3],\n",
        "    [0, 7, 4, 0, 8, 0, 0, 0, 0],\n",
        "    [0, 0, 0, 0, 0, 3, 0, 0, 2],\n",
        "    [0, 8, 0, 0, 4, 0, 0, 1, 0],\n",
        "    [6, 0, 0, 5, 0, 0, 0, 0, 0],\n",
        "    [0, 0, 0, 0, 1, 0, 7, 8, 0],\n",
        "    [5, 0, 0, 0, 0, 9, 0, 0, 0],\n",
        "    [0, 0, 0, 0, 0, 0, 0, 4, 0]\n",
        "    ]\n",
        "\n",
        "html = html_grid(grid, \"Hard problem\")\n",
        "# print(html)\n",
        "display_html(html, raw=True)\n"
      ]
    },
    {
      "cell_type": "code",
      "execution_count": 20,
      "metadata": {
        "id": "iUQ3li2DikLf"
      },
      "outputs": [],
      "source": [
        "\n",
        "from IPython.core.pylabtools import print_figure\n",
        "import matplotlib.pyplot as plt"
      ]
    },
    {
      "cell_type": "code",
      "execution_count": 21,
      "metadata": {
        "id": "i5GI5X6BikLf"
      },
      "outputs": [],
      "source": [
        "\n",
        "\n",
        "def figure_data(grid, title=\"\", format=\"svg\"):\n",
        "    size = len(grid)\n",
        "    fig = plt.figure(\n",
        "        figsize=(4, 4),\n",
        "        layout=\"compressed\",\n",
        "        )\n",
        "\n",
        "    ax = fig.add_subplot(\n",
        "        1, 1, 1,\n",
        "        aspect=\"equal\",\n",
        "        xmargin=0.01,\n",
        "        ymargin=0.01\n",
        "    )\n",
        "\n",
        "    ax.axis(\"off\")\n",
        "    ax.set_title(title, loc=\"left\", fontdict={\"weight\": \"bold\"})\n",
        "\n",
        "    for x, row in enumerate(reversed(grid)):\n",
        "        for y, value in enumerate(row):\n",
        "            ax.text(\n",
        "                y+0.5, x+0.5,\n",
        "                value,\n",
        "                ha='center',\n",
        "                va='center',\n",
        "                fontsize=12,\n",
        "                color=\"gray\"\n",
        "            )\n",
        "\n",
        "    for x in range(size+1):\n",
        "        linewidth = 1\n",
        "        if x % 3 == 0:\n",
        "            linewidth = 2\n",
        "        ax.plot((0, size), (x, x), color=\"black\", linewidth=linewidth)\n",
        "        ax.plot((x, x), (0, size), color=\"black\", linewidth=linewidth)\n",
        "\n",
        "    data = print_figure(fig, format)\n",
        "    plt.close(fig)\n",
        "    return data\n"
      ]
    },
    {
      "cell_type": "code",
      "execution_count": 22,
      "metadata": {
        "id": "SfdyN8wEikLf",
        "outputId": "cae46c3e-52f3-4937-92d7-2195123731a9",
        "colab": {
          "base_uri": "https://localhost:8080/",
          "height": 827
        }
      },
      "outputs": [
        {
          "output_type": "display_data",
          "data": {
            "image/png": "[encoded data removed]",
            "text/plain": [
              "<IPython.core.display.Image object>"
            ]
          },
          "metadata": {}
        },
        {
          "output_type": "execute_result",
          "data": {
            "text/plain": [
              "<IPython.core.display.SVG object>"
            ],
            "image/svg+xml": "<svg xmlns:xlink=\"http://www.w3.org/1999/xlink\" xmlns=\"http://www.w3.org/2000/svg\" width=\"281.281395pt\" height=\"296.39952pt\" viewBox=\"0 0 281.281395 296.39952\" version=\"1.1\">\n <metadata>\n  <rdf:RDF xmlns:dc=\"http://purl.org/dc/elements/1.1/\" xmlns:cc=\"http://creativecommons.org/ns#\" xmlns:rdf=\"http://www.w3.org/1999/02/22-rdf-syntax-ns#\">\n   <cc:Work>\n    <dc:type rdf:resource=\"http://purl.org/dc/dcmitype/StillImage\"/>\n    <dc:date>2023-12-04T11:49:24.167264</dc:date>\n    <dc:format>image/svg+xml</dc:format>\n    <dc:creator>\n     <cc:Agent>\n      <dc:title>Matplotlib v3.7.1, https://matplotlib.org/</dc:title>\n     </cc:Agent>\n    </dc:creator>\n   </cc:Work>\n  </rdf:RDF>\n </metadata>\n <defs>\n  <style type=\"text/css\">*{stroke-linejoin: round; stroke-linecap: butt}</style>\n </defs>\n <g id=\"figure_1\">\n  <g id=\"patch_1\">\n   <path d=\"M 0 296.39952  L 281.281395 296.39952  L 281.281395 0  L 0 0  z \" style=\"fill: #ffffff\"/>\n  </g>\n  <g id=\"axes_1\">\n   <g id=\"line2d_1\">\n    <path d=\"M 9.816484 286.583036  L 271.464911 286.583036  \" clip-path=\"url(#pde813530b7)\" style=\"fill: none; stroke: #000000; stroke-width: 2; stroke-linecap: square\"/>\n   </g>\n   <g id=\"line2d_2\">\n    <path d=\"M 9.816484 286.583036  L 9.816484 24.934609  \" clip-path=\"url(#pde813530b7)\" style=\"fill: none; stroke: #000000; stroke-width: 2; stroke-linecap: square\"/>\n   </g>\n   <g id=\"line2d_3\">\n    <path d=\"M 9.816484 257.510988  L 271.464911 257.510988  \" clip-path=\"url(#pde813530b7)\" style=\"fill: none; stroke: #000000; stroke-linecap: square\"/>\n   </g>\n   <g id=\"line2d_4\">\n    <path d=\"M 38.888532 286.583036  L 38.888532 24.934609  \" clip-path=\"url(#pde813530b7)\" style=\"fill: none; stroke: #000000; stroke-linecap: square\"/>\n   </g>\n   <g id=\"line2d_5\">\n    <path d=\"M 9.816484 228.438941  L 271.464911 228.438941  \" clip-path=\"url(#pde813530b7)\" style=\"fill: none; stroke: #000000; stroke-linecap: square\"/>\n   </g>\n   <g id=\"line2d_6\">\n    <path d=\"M 67.960579 286.583036  L 67.960579 24.934609  \" clip-path=\"url(#pde813530b7)\" style=\"fill: none; stroke: #000000; stroke-linecap: square\"/>\n   </g>\n   <g id=\"line2d_7\">\n    <path d=\"M 9.816484 199.366894  L 271.464911 199.366894  \" clip-path=\"url(#pde813530b7)\" style=\"fill: none; stroke: #000000; stroke-width: 2; stroke-linecap: square\"/>\n   </g>\n   <g id=\"line2d_8\">\n    <path d=\"M 97.032626 286.583036  L 97.032626 24.934609  \" clip-path=\"url(#pde813530b7)\" style=\"fill: none; stroke: #000000; stroke-width: 2; stroke-linecap: square\"/>\n   </g>\n   <g id=\"line2d_9\">\n    <path d=\"M 9.816484 170.294846  L 271.464911 170.294846  \" clip-path=\"url(#pde813530b7)\" style=\"fill: none; stroke: #000000; stroke-linecap: square\"/>\n   </g>\n   <g id=\"line2d_10\">\n    <path d=\"M 126.104674 286.583036  L 126.104674 24.934609  \" clip-path=\"url(#pde813530b7)\" style=\"fill: none; stroke: #000000; stroke-linecap: square\"/>\n   </g>\n   <g id=\"line2d_11\">\n    <path d=\"M 9.816484 141.222799  L 271.464911 141.222799  \" clip-path=\"url(#pde813530b7)\" style=\"fill: none; stroke: #000000; stroke-linecap: square\"/>\n   </g>\n   <g id=\"line2d_12\">\n    <path d=\"M 155.176721 286.583036  L 155.176721 24.934609  \" clip-path=\"url(#pde813530b7)\" style=\"fill: none; stroke: #000000; stroke-linecap: square\"/>\n   </g>\n   <g id=\"line2d_13\">\n    <path d=\"M 9.816484 112.150751  L 271.464911 112.150751  \" clip-path=\"url(#pde813530b7)\" style=\"fill: none; stroke: #000000; stroke-width: 2; stroke-linecap: square\"/>\n   </g>\n   <g id=\"line2d_14\">\n    <path d=\"M 184.248769 286.583036  L 184.248769 24.934609  \" clip-path=\"url(#pde813530b7)\" style=\"fill: none; stroke: #000000; stroke-width: 2; stroke-linecap: square\"/>\n   </g>\n   <g id=\"line2d_15\">\n    <path d=\"M 9.816484 83.078704  L 271.464911 83.078704  \" clip-path=\"url(#pde813530b7)\" style=\"fill: none; stroke: #000000; stroke-linecap: square\"/>\n   </g>\n   <g id=\"line2d_16\">\n    <path d=\"M 213.320816 286.583036  L 213.320816 24.934609  \" clip-path=\"url(#pde813530b7)\" style=\"fill: none; stroke: #000000; stroke-linecap: square\"/>\n   </g>\n   <g id=\"line2d_17\">\n    <path d=\"M 9.816484 54.006657  L 271.464911 54.006657  \" clip-path=\"url(#pde813530b7)\" style=\"fill: none; stroke: #000000; stroke-linecap: square\"/>\n   </g>\n   <g id=\"line2d_18\">\n    <path d=\"M 242.392863 286.583036  L 242.392863 24.934609  \" clip-path=\"url(#pde813530b7)\" style=\"fill: none; stroke: #000000; stroke-linecap: square\"/>\n   </g>\n   <g id=\"line2d_19\">\n    <path d=\"M 9.816484 24.934609  L 271.464911 24.934609  \" clip-path=\"url(#pde813530b7)\" style=\"fill: none; stroke: #000000; stroke-width: 2; stroke-linecap: square\"/>\n   </g>\n   <g id=\"line2d_20\">\n    <path d=\"M 271.464911 286.583036  L 271.464911 24.934609  \" clip-path=\"url(#pde813530b7)\" style=\"fill: none; stroke: #000000; stroke-width: 2; stroke-linecap: square\"/>\n   </g>\n   <g id=\"text_1\">\n    <!-- 0 -->\n    <g style=\"fill: #808080\" transform=\"translate(20.535008 275.358262) scale(0.12 -0.12)\">\n     <defs>\n      <path id=\"DejaVuSans-30\" d=\"M 2034 4250  Q 1547 4250 1301 3770  Q 1056 3291 1056 2328  Q 1056 1369 1301 889  Q 1547 409 2034 409  Q 2525 409 2770 889  Q 3016 1369 3016 2328  Q 3016 3291 2770 3770  Q 2525 4250 2034 4250  z M 2034 4750  Q 2819 4750 3233 4129  Q 3647 3509 3647 2328  Q 3647 1150 3233 529  Q 2819 -91 2034 -91  Q 1250 -91 836 529  Q 422 1150 422 2328  Q 422 3509 836 4129  Q 1250 4750 2034 4750  z \" transform=\"scale(0.015625)\"/>\n     </defs>\n     <use xlink:href=\"#DejaVuSans-30\"/>\n    </g>\n   </g>\n   <g id=\"text_2\">\n    <!-- 0 -->\n    <g style=\"fill: #808080\" transform=\"translate(49.607055 275.358262) scale(0.12 -0.12)\">\n     <use xlink:href=\"#DejaVuSans-30\"/>\n    </g>\n   </g>\n   <g id=\"text_3\">\n    <!-- 0 -->\n    <g style=\"fill: #808080\" transform=\"translate(78.679103 275.358262) scale(0.12 -0.12)\">\n     <use xlink:href=\"#DejaVuSans-30\"/>\n    </g>\n   </g>\n   <g id=\"text_4\">\n    <!-- 0 -->\n    <g style=\"fill: #808080\" transform=\"translate(107.75115 275.358262) scale(0.12 -0.12)\">\n     <use xlink:href=\"#DejaVuSans-30\"/>\n    </g>\n   </g>\n   <g id=\"text_5\">\n    <!-- 0 -->\n    <g style=\"fill: #808080\" transform=\"translate(136.823197 275.358262) scale(0.12 -0.12)\">\n     <use xlink:href=\"#DejaVuSans-30\"/>\n    </g>\n   </g>\n   <g id=\"text_6\">\n    <!-- 0 -->\n    <g style=\"fill: #808080\" transform=\"translate(165.895245 275.358262) scale(0.12 -0.12)\">\n     <use xlink:href=\"#DejaVuSans-30\"/>\n    </g>\n   </g>\n   <g id=\"text_7\">\n    <!-- 0 -->\n    <g style=\"fill: #808080\" transform=\"translate(194.967292 275.358262) scale(0.12 -0.12)\">\n     <use xlink:href=\"#DejaVuSans-30\"/>\n    </g>\n   </g>\n   <g id=\"text_8\">\n    <!-- 4 -->\n    <g style=\"fill: #808080\" transform=\"translate(224.03934 275.358262) scale(0.12 -0.12)\">\n     <defs>\n      <path id=\"DejaVuSans-34\" d=\"M 2419 4116  L 825 1625  L 2419 1625  L 2419 4116  z M 2253 4666  L 3047 4666  L 3047 1625  L 3713 1625  L 3713 1100  L 3047 1100  L 3047 0  L 2419 0  L 2419 1100  L 313 1100  L 313 1709  L 2253 4666  z \" transform=\"scale(0.015625)\"/>\n     </defs>\n     <use xlink:href=\"#DejaVuSans-34\"/>\n    </g>\n   </g>\n   <g id=\"text_9\">\n    <!-- 0 -->\n    <g style=\"fill: #808080\" transform=\"translate(253.111387 275.358262) scale(0.12 -0.12)\">\n     <use xlink:href=\"#DejaVuSans-30\"/>\n    </g>\n   </g>\n   <g id=\"text_10\">\n    <!-- 5 -->\n    <g style=\"fill: #808080\" transform=\"translate(20.535008 246.286215) scale(0.12 -0.12)\">\n     <defs>\n      <path id=\"DejaVuSans-35\" d=\"M 691 4666  L 3169 4666  L 3169 4134  L 1269 4134  L 1269 2991  Q 1406 3038 1543 3061  Q 1681 3084 1819 3084  Q 2600 3084 3056 2656  Q 3513 2228 3513 1497  Q 3513 744 3044 326  Q 2575 -91 1722 -91  Q 1428 -91 1123 -41  Q 819 9 494 109  L 494 744  Q 775 591 1075 516  Q 1375 441 1709 441  Q 2250 441 2565 725  Q 2881 1009 2881 1497  Q 2881 1984 2565 2268  Q 2250 2553 1709 2553  Q 1456 2553 1204 2497  Q 953 2441 691 2322  L 691 4666  z \" transform=\"scale(0.015625)\"/>\n     </defs>\n     <use xlink:href=\"#DejaVuSans-35\"/>\n    </g>\n   </g>\n   <g id=\"text_11\">\n    <!-- 0 -->\n    <g style=\"fill: #808080\" transform=\"translate(49.607055 246.286215) scale(0.12 -0.12)\">\n     <use xlink:href=\"#DejaVuSans-30\"/>\n    </g>\n   </g>\n   <g id=\"text_12\">\n    <!-- 0 -->\n    <g style=\"fill: #808080\" transform=\"translate(78.679103 246.286215) scale(0.12 -0.12)\">\n     <use xlink:href=\"#DejaVuSans-30\"/>\n    </g>\n   </g>\n   <g id=\"text_13\">\n    <!-- 0 -->\n    <g style=\"fill: #808080\" transform=\"translate(107.75115 246.286215) scale(0.12 -0.12)\">\n     <use xlink:href=\"#DejaVuSans-30\"/>\n    </g>\n   </g>\n   <g id=\"text_14\">\n    <!-- 0 -->\n    <g style=\"fill: #808080\" transform=\"translate(136.823197 246.286215) scale(0.12 -0.12)\">\n     <use xlink:href=\"#DejaVuSans-30\"/>\n    </g>\n   </g>\n   <g id=\"text_15\">\n    <!-- 9 -->\n    <g style=\"fill: #808080\" transform=\"translate(165.895245 246.286215) scale(0.12 -0.12)\">\n     <defs>\n      <path id=\"DejaVuSans-39\" d=\"M 703 97  L 703 672  Q 941 559 1184 500  Q 1428 441 1663 441  Q 2288 441 2617 861  Q 2947 1281 2994 2138  Q 2813 1869 2534 1725  Q 2256 1581 1919 1581  Q 1219 1581 811 2004  Q 403 2428 403 3163  Q 403 3881 828 4315  Q 1253 4750 1959 4750  Q 2769 4750 3195 4129  Q 3622 3509 3622 2328  Q 3622 1225 3098 567  Q 2575 -91 1691 -91  Q 1453 -91 1209 -44  Q 966 3 703 97  z M 1959 2075  Q 2384 2075 2632 2365  Q 2881 2656 2881 3163  Q 2881 3666 2632 3958  Q 2384 4250 1959 4250  Q 1534 4250 1286 3958  Q 1038 3666 1038 3163  Q 1038 2656 1286 2365  Q 1534 2075 1959 2075  z \" transform=\"scale(0.015625)\"/>\n     </defs>\n     <use xlink:href=\"#DejaVuSans-39\"/>\n    </g>\n   </g>\n   <g id=\"text_16\">\n    <!-- 0 -->\n    <g style=\"fill: #808080\" transform=\"translate(194.967292 246.286215) scale(0.12 -0.12)\">\n     <use xlink:href=\"#DejaVuSans-30\"/>\n    </g>\n   </g>\n   <g id=\"text_17\">\n    <!-- 0 -->\n    <g style=\"fill: #808080\" transform=\"translate(224.03934 246.286215) scale(0.12 -0.12)\">\n     <use xlink:href=\"#DejaVuSans-30\"/>\n    </g>\n   </g>\n   <g id=\"text_18\">\n    <!-- 0 -->\n    <g style=\"fill: #808080\" transform=\"translate(253.111387 246.286215) scale(0.12 -0.12)\">\n     <use xlink:href=\"#DejaVuSans-30\"/>\n    </g>\n   </g>\n   <g id=\"text_19\">\n    <!-- 0 -->\n    <g style=\"fill: #808080\" transform=\"translate(20.535008 217.214167) scale(0.12 -0.12)\">\n     <use xlink:href=\"#DejaVuSans-30\"/>\n    </g>\n   </g>\n   <g id=\"text_20\">\n    <!-- 0 -->\n    <g style=\"fill: #808080\" transform=\"translate(49.607055 217.214167) scale(0.12 -0.12)\">\n     <use xlink:href=\"#DejaVuSans-30\"/>\n    </g>\n   </g>\n   <g id=\"text_21\">\n    <!-- 0 -->\n    <g style=\"fill: #808080\" transform=\"translate(78.679103 217.214167) scale(0.12 -0.12)\">\n     <use xlink:href=\"#DejaVuSans-30\"/>\n    </g>\n   </g>\n   <g id=\"text_22\">\n    <!-- 0 -->\n    <g style=\"fill: #808080\" transform=\"translate(107.75115 217.214167) scale(0.12 -0.12)\">\n     <use xlink:href=\"#DejaVuSans-30\"/>\n    </g>\n   </g>\n   <g id=\"text_23\">\n    <!-- 1 -->\n    <g style=\"fill: #808080\" transform=\"translate(136.823197 217.214167) scale(0.12 -0.12)\">\n     <defs>\n      <path id=\"DejaVuSans-31\" d=\"M 794 531  L 1825 531  L 1825 4091  L 703 3866  L 703 4441  L 1819 4666  L 2450 4666  L 2450 531  L 3481 531  L 3481 0  L 794 0  L 794 531  z \" transform=\"scale(0.015625)\"/>\n     </defs>\n     <use xlink:href=\"#DejaVuSans-31\"/>\n    </g>\n   </g>\n   <g id=\"text_24\">\n    <!-- 0 -->\n    <g style=\"fill: #808080\" transform=\"translate(165.895245 217.214167) scale(0.12 -0.12)\">\n     <use xlink:href=\"#DejaVuSans-30\"/>\n    </g>\n   </g>\n   <g id=\"text_25\">\n    <!-- 7 -->\n    <g style=\"fill: #808080\" transform=\"translate(194.967292 217.214167) scale(0.12 -0.12)\">\n     <defs>\n      <path id=\"DejaVuSans-37\" d=\"M 525 4666  L 3525 4666  L 3525 4397  L 1831 0  L 1172 0  L 2766 4134  L 525 4134  L 525 4666  z \" transform=\"scale(0.015625)\"/>\n     </defs>\n     <use xlink:href=\"#DejaVuSans-37\"/>\n    </g>\n   </g>\n   <g id=\"text_26\">\n    <!-- 8 -->\n    <g style=\"fill: #808080\" transform=\"translate(224.03934 217.214167) scale(0.12 -0.12)\">\n     <defs>\n      <path id=\"DejaVuSans-38\" d=\"M 2034 2216  Q 1584 2216 1326 1975  Q 1069 1734 1069 1313  Q 1069 891 1326 650  Q 1584 409 2034 409  Q 2484 409 2743 651  Q 3003 894 3003 1313  Q 3003 1734 2745 1975  Q 2488 2216 2034 2216  z M 1403 2484  Q 997 2584 770 2862  Q 544 3141 544 3541  Q 544 4100 942 4425  Q 1341 4750 2034 4750  Q 2731 4750 3128 4425  Q 3525 4100 3525 3541  Q 3525 3141 3298 2862  Q 3072 2584 2669 2484  Q 3125 2378 3379 2068  Q 3634 1759 3634 1313  Q 3634 634 3220 271  Q 2806 -91 2034 -91  Q 1263 -91 848 271  Q 434 634 434 1313  Q 434 1759 690 2068  Q 947 2378 1403 2484  z M 1172 3481  Q 1172 3119 1398 2916  Q 1625 2713 2034 2713  Q 2441 2713 2670 2916  Q 2900 3119 2900 3481  Q 2900 3844 2670 4047  Q 2441 4250 2034 4250  Q 1625 4250 1398 4047  Q 1172 3844 1172 3481  z \" transform=\"scale(0.015625)\"/>\n     </defs>\n     <use xlink:href=\"#DejaVuSans-38\"/>\n    </g>\n   </g>\n   <g id=\"text_27\">\n    <!-- 0 -->\n    <g style=\"fill: #808080\" transform=\"translate(253.111387 217.214167) scale(0.12 -0.12)\">\n     <use xlink:href=\"#DejaVuSans-30\"/>\n    </g>\n   </g>\n   <g id=\"text_28\">\n    <!-- 6 -->\n    <g style=\"fill: #808080\" transform=\"translate(20.535008 188.14212) scale(0.12 -0.12)\">\n     <defs>\n      <path id=\"DejaVuSans-36\" d=\"M 2113 2584  Q 1688 2584 1439 2293  Q 1191 2003 1191 1497  Q 1191 994 1439 701  Q 1688 409 2113 409  Q 2538 409 2786 701  Q 3034 994 3034 1497  Q 3034 2003 2786 2293  Q 2538 2584 2113 2584  z M 3366 4563  L 3366 3988  Q 3128 4100 2886 4159  Q 2644 4219 2406 4219  Q 1781 4219 1451 3797  Q 1122 3375 1075 2522  Q 1259 2794 1537 2939  Q 1816 3084 2150 3084  Q 2853 3084 3261 2657  Q 3669 2231 3669 1497  Q 3669 778 3244 343  Q 2819 -91 2113 -91  Q 1303 -91 875 529  Q 447 1150 447 2328  Q 447 3434 972 4092  Q 1497 4750 2381 4750  Q 2619 4750 2861 4703  Q 3103 4656 3366 4563  z \" transform=\"scale(0.015625)\"/>\n     </defs>\n     <use xlink:href=\"#DejaVuSans-36\"/>\n    </g>\n   </g>\n   <g id=\"text_29\">\n    <!-- 0 -->\n    <g style=\"fill: #808080\" transform=\"translate(49.607055 188.14212) scale(0.12 -0.12)\">\n     <use xlink:href=\"#DejaVuSans-30\"/>\n    </g>\n   </g>\n   <g id=\"text_30\">\n    <!-- 0 -->\n    <g style=\"fill: #808080\" transform=\"translate(78.679103 188.14212) scale(0.12 -0.12)\">\n     <use xlink:href=\"#DejaVuSans-30\"/>\n    </g>\n   </g>\n   <g id=\"text_31\">\n    <!-- 5 -->\n    <g style=\"fill: #808080\" transform=\"translate(107.75115 188.14212) scale(0.12 -0.12)\">\n     <use xlink:href=\"#DejaVuSans-35\"/>\n    </g>\n   </g>\n   <g id=\"text_32\">\n    <!-- 0 -->\n    <g style=\"fill: #808080\" transform=\"translate(136.823197 188.14212) scale(0.12 -0.12)\">\n     <use xlink:href=\"#DejaVuSans-30\"/>\n    </g>\n   </g>\n   <g id=\"text_33\">\n    <!-- 0 -->\n    <g style=\"fill: #808080\" transform=\"translate(165.895245 188.14212) scale(0.12 -0.12)\">\n     <use xlink:href=\"#DejaVuSans-30\"/>\n    </g>\n   </g>\n   <g id=\"text_34\">\n    <!-- 0 -->\n    <g style=\"fill: #808080\" transform=\"translate(194.967292 188.14212) scale(0.12 -0.12)\">\n     <use xlink:href=\"#DejaVuSans-30\"/>\n    </g>\n   </g>\n   <g id=\"text_35\">\n    <!-- 0 -->\n    <g style=\"fill: #808080\" transform=\"translate(224.03934 188.14212) scale(0.12 -0.12)\">\n     <use xlink:href=\"#DejaVuSans-30\"/>\n    </g>\n   </g>\n   <g id=\"text_36\">\n    <!-- 0 -->\n    <g style=\"fill: #808080\" transform=\"translate(253.111387 188.14212) scale(0.12 -0.12)\">\n     <use xlink:href=\"#DejaVuSans-30\"/>\n    </g>\n   </g>\n   <g id=\"text_37\">\n    <!-- 0 -->\n    <g style=\"fill: #808080\" transform=\"translate(20.535008 159.070072) scale(0.12 -0.12)\">\n     <use xlink:href=\"#DejaVuSans-30\"/>\n    </g>\n   </g>\n   <g id=\"text_38\">\n    <!-- 8 -->\n    <g style=\"fill: #808080\" transform=\"translate(49.607055 159.070072) scale(0.12 -0.12)\">\n     <use xlink:href=\"#DejaVuSans-38\"/>\n    </g>\n   </g>\n   <g id=\"text_39\">\n    <!-- 0 -->\n    <g style=\"fill: #808080\" transform=\"translate(78.679103 159.070072) scale(0.12 -0.12)\">\n     <use xlink:href=\"#DejaVuSans-30\"/>\n    </g>\n   </g>\n   <g id=\"text_40\">\n    <!-- 0 -->\n    <g style=\"fill: #808080\" transform=\"translate(107.75115 159.070072) scale(0.12 -0.12)\">\n     <use xlink:href=\"#DejaVuSans-30\"/>\n    </g>\n   </g>\n   <g id=\"text_41\">\n    <!-- 4 -->\n    <g style=\"fill: #808080\" transform=\"translate(136.823197 159.070072) scale(0.12 -0.12)\">\n     <use xlink:href=\"#DejaVuSans-34\"/>\n    </g>\n   </g>\n   <g id=\"text_42\">\n    <!-- 0 -->\n    <g style=\"fill: #808080\" transform=\"translate(165.895245 159.070072) scale(0.12 -0.12)\">\n     <use xlink:href=\"#DejaVuSans-30\"/>\n    </g>\n   </g>\n   <g id=\"text_43\">\n    <!-- 0 -->\n    <g style=\"fill: #808080\" transform=\"translate(194.967292 159.070072) scale(0.12 -0.12)\">\n     <use xlink:href=\"#DejaVuSans-30\"/>\n    </g>\n   </g>\n   <g id=\"text_44\">\n    <!-- 1 -->\n    <g style=\"fill: #808080\" transform=\"translate(224.03934 159.070072) scale(0.12 -0.12)\">\n     <use xlink:href=\"#DejaVuSans-31\"/>\n    </g>\n   </g>\n   <g id=\"text_45\">\n    <!-- 0 -->\n    <g style=\"fill: #808080\" transform=\"translate(253.111387 159.070072) scale(0.12 -0.12)\">\n     <use xlink:href=\"#DejaVuSans-30\"/>\n    </g>\n   </g>\n   <g id=\"text_46\">\n    <!-- 0 -->\n    <g style=\"fill: #808080\" transform=\"translate(20.535008 129.998025) scale(0.12 -0.12)\">\n     <use xlink:href=\"#DejaVuSans-30\"/>\n    </g>\n   </g>\n   <g id=\"text_47\">\n    <!-- 0 -->\n    <g style=\"fill: #808080\" transform=\"translate(49.607055 129.998025) scale(0.12 -0.12)\">\n     <use xlink:href=\"#DejaVuSans-30\"/>\n    </g>\n   </g>\n   <g id=\"text_48\">\n    <!-- 0 -->\n    <g style=\"fill: #808080\" transform=\"translate(78.679103 129.998025) scale(0.12 -0.12)\">\n     <use xlink:href=\"#DejaVuSans-30\"/>\n    </g>\n   </g>\n   <g id=\"text_49\">\n    <!-- 0 -->\n    <g style=\"fill: #808080\" transform=\"translate(107.75115 129.998025) scale(0.12 -0.12)\">\n     <use xlink:href=\"#DejaVuSans-30\"/>\n    </g>\n   </g>\n   <g id=\"text_50\">\n    <!-- 0 -->\n    <g style=\"fill: #808080\" transform=\"translate(136.823197 129.998025) scale(0.12 -0.12)\">\n     <use xlink:href=\"#DejaVuSans-30\"/>\n    </g>\n   </g>\n   <g id=\"text_51\">\n    <!-- 3 -->\n    <g style=\"fill: #808080\" transform=\"translate(165.895245 129.998025) scale(0.12 -0.12)\">\n     <defs>\n      <path id=\"DejaVuSans-33\" d=\"M 2597 2516  Q 3050 2419 3304 2112  Q 3559 1806 3559 1356  Q 3559 666 3084 287  Q 2609 -91 1734 -91  Q 1441 -91 1130 -33  Q 819 25 488 141  L 488 750  Q 750 597 1062 519  Q 1375 441 1716 441  Q 2309 441 2620 675  Q 2931 909 2931 1356  Q 2931 1769 2642 2001  Q 2353 2234 1838 2234  L 1294 2234  L 1294 2753  L 1863 2753  Q 2328 2753 2575 2939  Q 2822 3125 2822 3475  Q 2822 3834 2567 4026  Q 2313 4219 1838 4219  Q 1578 4219 1281 4162  Q 984 4106 628 3988  L 628 4550  Q 988 4650 1302 4700  Q 1616 4750 1894 4750  Q 2613 4750 3031 4423  Q 3450 4097 3450 3541  Q 3450 3153 3228 2886  Q 3006 2619 2597 2516  z \" transform=\"scale(0.015625)\"/>\n     </defs>\n     <use xlink:href=\"#DejaVuSans-33\"/>\n    </g>\n   </g>\n   <g id=\"text_52\">\n    <!-- 0 -->\n    <g style=\"fill: #808080\" transform=\"translate(194.967292 129.998025) scale(0.12 -0.12)\">\n     <use xlink:href=\"#DejaVuSans-30\"/>\n    </g>\n   </g>\n   <g id=\"text_53\">\n    <!-- 0 -->\n    <g style=\"fill: #808080\" transform=\"translate(224.03934 129.998025) scale(0.12 -0.12)\">\n     <use xlink:href=\"#DejaVuSans-30\"/>\n    </g>\n   </g>\n   <g id=\"text_54\">\n    <!-- 2 -->\n    <g style=\"fill: #808080\" transform=\"translate(253.111387 129.998025) scale(0.12 -0.12)\">\n     <defs>\n      <path id=\"DejaVuSans-32\" d=\"M 1228 531  L 3431 531  L 3431 0  L 469 0  L 469 531  Q 828 903 1448 1529  Q 2069 2156 2228 2338  Q 2531 2678 2651 2914  Q 2772 3150 2772 3378  Q 2772 3750 2511 3984  Q 2250 4219 1831 4219  Q 1534 4219 1204 4116  Q 875 4013 500 3803  L 500 4441  Q 881 4594 1212 4672  Q 1544 4750 1819 4750  Q 2544 4750 2975 4387  Q 3406 4025 3406 3419  Q 3406 3131 3298 2873  Q 3191 2616 2906 2266  Q 2828 2175 2409 1742  Q 1991 1309 1228 531  z \" transform=\"scale(0.015625)\"/>\n     </defs>\n     <use xlink:href=\"#DejaVuSans-32\"/>\n    </g>\n   </g>\n   <g id=\"text_55\">\n    <!-- 0 -->\n    <g style=\"fill: #808080\" transform=\"translate(20.535008 100.925978) scale(0.12 -0.12)\">\n     <use xlink:href=\"#DejaVuSans-30\"/>\n    </g>\n   </g>\n   <g id=\"text_56\">\n    <!-- 7 -->\n    <g style=\"fill: #808080\" transform=\"translate(49.607055 100.925978) scale(0.12 -0.12)\">\n     <use xlink:href=\"#DejaVuSans-37\"/>\n    </g>\n   </g>\n   <g id=\"text_57\">\n    <!-- 4 -->\n    <g style=\"fill: #808080\" transform=\"translate(78.679103 100.925978) scale(0.12 -0.12)\">\n     <use xlink:href=\"#DejaVuSans-34\"/>\n    </g>\n   </g>\n   <g id=\"text_58\">\n    <!-- 0 -->\n    <g style=\"fill: #808080\" transform=\"translate(107.75115 100.925978) scale(0.12 -0.12)\">\n     <use xlink:href=\"#DejaVuSans-30\"/>\n    </g>\n   </g>\n   <g id=\"text_59\">\n    <!-- 8 -->\n    <g style=\"fill: #808080\" transform=\"translate(136.823197 100.925978) scale(0.12 -0.12)\">\n     <use xlink:href=\"#DejaVuSans-38\"/>\n    </g>\n   </g>\n   <g id=\"text_60\">\n    <!-- 0 -->\n    <g style=\"fill: #808080\" transform=\"translate(165.895245 100.925978) scale(0.12 -0.12)\">\n     <use xlink:href=\"#DejaVuSans-30\"/>\n    </g>\n   </g>\n   <g id=\"text_61\">\n    <!-- 0 -->\n    <g style=\"fill: #808080\" transform=\"translate(194.967292 100.925978) scale(0.12 -0.12)\">\n     <use xlink:href=\"#DejaVuSans-30\"/>\n    </g>\n   </g>\n   <g id=\"text_62\">\n    <!-- 0 -->\n    <g style=\"fill: #808080\" transform=\"translate(224.03934 100.925978) scale(0.12 -0.12)\">\n     <use xlink:href=\"#DejaVuSans-30\"/>\n    </g>\n   </g>\n   <g id=\"text_63\">\n    <!-- 0 -->\n    <g style=\"fill: #808080\" transform=\"translate(253.111387 100.925978) scale(0.12 -0.12)\">\n     <use xlink:href=\"#DejaVuSans-30\"/>\n    </g>\n   </g>\n   <g id=\"text_64\">\n    <!-- 0 -->\n    <g style=\"fill: #808080\" transform=\"translate(20.535008 71.85393) scale(0.12 -0.12)\">\n     <use xlink:href=\"#DejaVuSans-30\"/>\n    </g>\n   </g>\n   <g id=\"text_65\">\n    <!-- 0 -->\n    <g style=\"fill: #808080\" transform=\"translate(49.607055 71.85393) scale(0.12 -0.12)\">\n     <use xlink:href=\"#DejaVuSans-30\"/>\n    </g>\n   </g>\n   <g id=\"text_66\">\n    <!-- 0 -->\n    <g style=\"fill: #808080\" transform=\"translate(78.679103 71.85393) scale(0.12 -0.12)\">\n     <use xlink:href=\"#DejaVuSans-30\"/>\n    </g>\n   </g>\n   <g id=\"text_67\">\n    <!-- 6 -->\n    <g style=\"fill: #808080\" transform=\"translate(107.75115 71.85393) scale(0.12 -0.12)\">\n     <use xlink:href=\"#DejaVuSans-36\"/>\n    </g>\n   </g>\n   <g id=\"text_68\">\n    <!-- 0 -->\n    <g style=\"fill: #808080\" transform=\"translate(136.823197 71.85393) scale(0.12 -0.12)\">\n     <use xlink:href=\"#DejaVuSans-30\"/>\n    </g>\n   </g>\n   <g id=\"text_69\">\n    <!-- 0 -->\n    <g style=\"fill: #808080\" transform=\"translate(165.895245 71.85393) scale(0.12 -0.12)\">\n     <use xlink:href=\"#DejaVuSans-30\"/>\n    </g>\n   </g>\n   <g id=\"text_70\">\n    <!-- 0 -->\n    <g style=\"fill: #808080\" transform=\"translate(194.967292 71.85393) scale(0.12 -0.12)\">\n     <use xlink:href=\"#DejaVuSans-30\"/>\n    </g>\n   </g>\n   <g id=\"text_71\">\n    <!-- 0 -->\n    <g style=\"fill: #808080\" transform=\"translate(224.03934 71.85393) scale(0.12 -0.12)\">\n     <use xlink:href=\"#DejaVuSans-30\"/>\n    </g>\n   </g>\n   <g id=\"text_72\">\n    <!-- 3 -->\n    <g style=\"fill: #808080\" transform=\"translate(253.111387 71.85393) scale(0.12 -0.12)\">\n     <use xlink:href=\"#DejaVuSans-33\"/>\n    </g>\n   </g>\n   <g id=\"text_73\">\n    <!-- 0 -->\n    <g style=\"fill: #808080\" transform=\"translate(20.535008 42.781883) scale(0.12 -0.12)\">\n     <use xlink:href=\"#DejaVuSans-30\"/>\n    </g>\n   </g>\n   <g id=\"text_74\">\n    <!-- 2 -->\n    <g style=\"fill: #808080\" transform=\"translate(49.607055 42.781883) scale(0.12 -0.12)\">\n     <use xlink:href=\"#DejaVuSans-32\"/>\n    </g>\n   </g>\n   <g id=\"text_75\">\n    <!-- 0 -->\n    <g style=\"fill: #808080\" transform=\"translate(78.679103 42.781883) scale(0.12 -0.12)\">\n     <use xlink:href=\"#DejaVuSans-30\"/>\n    </g>\n   </g>\n   <g id=\"text_76\">\n    <!-- 0 -->\n    <g style=\"fill: #808080\" transform=\"translate(107.75115 42.781883) scale(0.12 -0.12)\">\n     <use xlink:href=\"#DejaVuSans-30\"/>\n    </g>\n   </g>\n   <g id=\"text_77\">\n    <!-- 0 -->\n    <g style=\"fill: #808080\" transform=\"translate(136.823197 42.781883) scale(0.12 -0.12)\">\n     <use xlink:href=\"#DejaVuSans-30\"/>\n    </g>\n   </g>\n   <g id=\"text_78\">\n    <!-- 0 -->\n    <g style=\"fill: #808080\" transform=\"translate(165.895245 42.781883) scale(0.12 -0.12)\">\n     <use xlink:href=\"#DejaVuSans-30\"/>\n    </g>\n   </g>\n   <g id=\"text_79\">\n    <!-- 0 -->\n    <g style=\"fill: #808080\" transform=\"translate(194.967292 42.781883) scale(0.12 -0.12)\">\n     <use xlink:href=\"#DejaVuSans-30\"/>\n    </g>\n   </g>\n   <g id=\"text_80\">\n    <!-- 0 -->\n    <g style=\"fill: #808080\" transform=\"translate(224.03934 42.781883) scale(0.12 -0.12)\">\n     <use xlink:href=\"#DejaVuSans-30\"/>\n    </g>\n   </g>\n   <g id=\"text_81\">\n    <!-- 0 -->\n    <g style=\"fill: #808080\" transform=\"translate(253.111387 42.781883) scale(0.12 -0.12)\">\n     <use xlink:href=\"#DejaVuSans-30\"/>\n    </g>\n   </g>\n   <g id=\"text_82\">\n    <!-- Sudoku grid -->\n    <g transform=\"translate(7.2 16.318125) scale(0.12 -0.12)\">\n     <defs>\n      <path id=\"DejaVuSans-Bold-53\" d=\"M 3834 4519  L 3834 3531  Q 3450 3703 3084 3790  Q 2719 3878 2394 3878  Q 1963 3878 1756 3759  Q 1550 3641 1550 3391  Q 1550 3203 1689 3098  Q 1828 2994 2194 2919  L 2706 2816  Q 3484 2659 3812 2340  Q 4141 2022 4141 1434  Q 4141 663 3683 286  Q 3225 -91 2284 -91  Q 1841 -91 1394 -6  Q 947 78 500 244  L 500 1259  Q 947 1022 1364 901  Q 1781 781 2169 781  Q 2563 781 2772 912  Q 2981 1044 2981 1288  Q 2981 1506 2839 1625  Q 2697 1744 2272 1838  L 1806 1941  Q 1106 2091 782 2419  Q 459 2747 459 3303  Q 459 4000 909 4375  Q 1359 4750 2203 4750  Q 2588 4750 2994 4692  Q 3400 4634 3834 4519  z \" transform=\"scale(0.015625)\"/>\n      <path id=\"DejaVuSans-Bold-75\" d=\"M 500 1363  L 500 3500  L 1625 3500  L 1625 3150  Q 1625 2866 1622 2436  Q 1619 2006 1619 1863  Q 1619 1441 1641 1255  Q 1663 1069 1716 984  Q 1784 875 1895 815  Q 2006 756 2150 756  Q 2500 756 2700 1025  Q 2900 1294 2900 1772  L 2900 3500  L 4019 3500  L 4019 0  L 2900 0  L 2900 506  Q 2647 200 2364 54  Q 2081 -91 1741 -91  Q 1134 -91 817 281  Q 500 653 500 1363  z \" transform=\"scale(0.015625)\"/>\n      <path id=\"DejaVuSans-Bold-64\" d=\"M 2919 2988  L 2919 4863  L 4044 4863  L 4044 0  L 2919 0  L 2919 506  Q 2688 197 2409 53  Q 2131 -91 1766 -91  Q 1119 -91 703 423  Q 288 938 288 1747  Q 288 2556 703 3070  Q 1119 3584 1766 3584  Q 2128 3584 2408 3439  Q 2688 3294 2919 2988  z M 2181 722  Q 2541 722 2730 984  Q 2919 1247 2919 1747  Q 2919 2247 2730 2509  Q 2541 2772 2181 2772  Q 1825 2772 1636 2509  Q 1447 2247 1447 1747  Q 1447 1247 1636 984  Q 1825 722 2181 722  z \" transform=\"scale(0.015625)\"/>\n      <path id=\"DejaVuSans-Bold-6f\" d=\"M 2203 2784  Q 1831 2784 1636 2517  Q 1441 2250 1441 1747  Q 1441 1244 1636 976  Q 1831 709 2203 709  Q 2569 709 2762 976  Q 2956 1244 2956 1747  Q 2956 2250 2762 2517  Q 2569 2784 2203 2784  z M 2203 3584  Q 3106 3584 3614 3096  Q 4122 2609 4122 1747  Q 4122 884 3614 396  Q 3106 -91 2203 -91  Q 1297 -91 786 396  Q 275 884 275 1747  Q 275 2609 786 3096  Q 1297 3584 2203 3584  z \" transform=\"scale(0.015625)\"/>\n      <path id=\"DejaVuSans-Bold-6b\" d=\"M 538 4863  L 1656 4863  L 1656 2216  L 2944 3500  L 4244 3500  L 2534 1894  L 4378 0  L 3022 0  L 1656 1459  L 1656 0  L 538 0  L 538 4863  z \" transform=\"scale(0.015625)\"/>\n      <path id=\"DejaVuSans-Bold-20\" transform=\"scale(0.015625)\"/>\n      <path id=\"DejaVuSans-Bold-67\" d=\"M 2919 594  Q 2688 288 2409 144  Q 2131 0 1766 0  Q 1125 0 706 504  Q 288 1009 288 1791  Q 288 2575 706 3076  Q 1125 3578 1766 3578  Q 2131 3578 2409 3434  Q 2688 3291 2919 2981  L 2919 3500  L 4044 3500  L 4044 353  Q 4044 -491 3511 -936  Q 2978 -1381 1966 -1381  Q 1638 -1381 1331 -1331  Q 1025 -1281 716 -1178  L 716 -306  Q 1009 -475 1290 -558  Q 1572 -641 1856 -641  Q 2406 -641 2662 -400  Q 2919 -159 2919 353  L 2919 594  z M 2181 2772  Q 1834 2772 1640 2515  Q 1447 2259 1447 1791  Q 1447 1309 1634 1061  Q 1822 813 2181 813  Q 2531 813 2725 1069  Q 2919 1325 2919 1791  Q 2919 2259 2725 2515  Q 2531 2772 2181 2772  z \" transform=\"scale(0.015625)\"/>\n      <path id=\"DejaVuSans-Bold-72\" d=\"M 3138 2547  Q 2991 2616 2845 2648  Q 2700 2681 2553 2681  Q 2122 2681 1889 2404  Q 1656 2128 1656 1613  L 1656 0  L 538 0  L 538 3500  L 1656 3500  L 1656 2925  Q 1872 3269 2151 3426  Q 2431 3584 2822 3584  Q 2878 3584 2943 3579  Q 3009 3575 3134 3559  L 3138 2547  z \" transform=\"scale(0.015625)\"/>\n      <path id=\"DejaVuSans-Bold-69\" d=\"M 538 3500  L 1656 3500  L 1656 0  L 538 0  L 538 3500  z M 538 4863  L 1656 4863  L 1656 3950  L 538 3950  L 538 4863  z \" transform=\"scale(0.015625)\"/>\n     </defs>\n     <use xlink:href=\"#DejaVuSans-Bold-53\"/>\n     <use xlink:href=\"#DejaVuSans-Bold-75\" x=\"72.021484\"/>\n     <use xlink:href=\"#DejaVuSans-Bold-64\" x=\"143.212891\"/>\n     <use xlink:href=\"#DejaVuSans-Bold-6f\" x=\"214.794922\"/>\n     <use xlink:href=\"#DejaVuSans-Bold-6b\" x=\"283.496094\"/>\n     <use xlink:href=\"#DejaVuSans-Bold-75\" x=\"350\"/>\n     <use xlink:href=\"#DejaVuSans-Bold-20\" x=\"421.191406\"/>\n     <use xlink:href=\"#DejaVuSans-Bold-67\" x=\"456.005859\"/>\n     <use xlink:href=\"#DejaVuSans-Bold-72\" x=\"527.587891\"/>\n     <use xlink:href=\"#DejaVuSans-Bold-69\" x=\"576.904297\"/>\n     <use xlink:href=\"#DejaVuSans-Bold-64\" x=\"611.181641\"/>\n    </g>\n   </g>\n  </g>\n </g>\n <defs>\n  <clipPath id=\"pde813530b7\">\n   <rect x=\"7.2\" y=\"22.318125\" width=\"266.881395\" height=\"266.881395\"/>\n  </clipPath>\n </defs>\n</svg>"
          },
          "metadata": {},
          "execution_count": 22
        }
      ],
      "source": [
        "display(Image(figure_data(grid, \"Sudoku grid\", \"png\")))\n",
        "SVG(figure_data(grid, \"Sudoku grid\", \"svg\"))"
      ]
    },
    {
      "cell_type": "code",
      "execution_count": 24,
      "metadata": {
        "id": "oSFlboDMikLf"
      },
      "outputs": [],
      "source": [
        "def char_value(x):\n",
        "    return int(x) if x.isdigit() else 0\n",
        "\n",
        "class Sudoku:\n",
        "    html_grid = HTMLGrid()\n",
        "\n",
        "    def __init__(self, grid, name=None):\n",
        "        self.grid = grid\n",
        "        self.name = name if name is not None else \"Unnamed Sudoku\"\n",
        "        self._svg_data = None\n",
        "\n",
        "    @classmethod\n",
        "    def from_str(cls, grid, name):\n",
        "        grid = [[char_value(x) for x in line.strip()] for line in grid]\n",
        "        return cls(grid, name)\n",
        "\n",
        "    def enumerate(self):\n",
        "        grid = self.grid\n",
        "        for row, line in enumerate(grid, 1):\n",
        "            for col, value in enumerate(line, 1):\n",
        "                if value != 0:\n",
        "                    yield row, col, value\n",
        "\n",
        "    def copy(self):\n",
        "        grid = [line.copy() for line in self.grid]\n",
        "        return type(self)(grid, self.name)\n",
        "\n",
        "    def as_symbols(self, symbols=\" 𝟭𝟮𝟯𝟰𝟱𝟲𝟳𝟴𝟵\", neg_symbols=\" 123456789\"):\n",
        "        return [\n",
        "            [symbols[abs(x)] if x>=0 else neg_symbols[abs(x)]  for x in line]\n",
        "            for line in self.grid\n",
        "            ]\n",
        "\n",
        "    def txt(self):\n",
        "        return '\\n'.join(map(' '.join, self.as_symbols(\"_𝟭𝟮𝟯𝟰𝟱𝟲𝟳𝟴𝟵\", \"_123456789\")))\n",
        "\n",
        "    def __str__(self):\n",
        "        return f'{self.name}:\\n{self.txt()}'\n",
        "\n",
        "    def _repr_html_(self):\n",
        "        return self.html_grid(self.grid, self.name)\n",
        "\n",
        "    def _repr_svg_(self):\n",
        "        return self.svg\n",
        "\n",
        "    @property\n",
        "    def svg(self):\n",
        "        if self._svg_data is None:\n",
        "            fig = self.draw()\n",
        "            self._svg_data = print_figure(fig, fmt=\"svg\")\n",
        "        return self._svg_data\n",
        "\n",
        "    def draw(self, **kwargs):\n",
        "        grid = self.grid\n",
        "        size = len(grid)\n",
        "        ax = plt.subplot(1, 1, 1, aspect=\"equal\")\n",
        "        ax.axis(\"off\")\n",
        "        ax.set_title(self.name, loc=\"left\", fontdict={\"weight\": \"bold\"})\n",
        "\n",
        "        text_args = {\n",
        "            'fontsize': \"12\",\n",
        "            'color': \"gray\",\n",
        "            'ha': 'center',\n",
        "            'va': 'center'\n",
        "            }\n",
        "        text_args.update(kwargs)\n",
        "        for row, col, value in self.enumerate():\n",
        "            row = size-row+1\n",
        "            if value > 0:\n",
        "                ax.fill([col-1, col, col, col-1], [row-1, row-1, row, row], color=\"lightgray\", alpha=0.5)\n",
        "\n",
        "            ax.text(\n",
        "                col-0.5, row-0.5,\n",
        "                abs(value),\n",
        "                **text_args,\n",
        "                fontweight= \"bold\" if value > 0 else 'normal'\n",
        "            )\n",
        "\n",
        "        for x in range(size+1):\n",
        "            linewidth = 1\n",
        "            if x % 3 == 0:\n",
        "                linewidth = 2\n",
        "            ax.plot((0, size), (x, x), color=\"black\", linewidth=linewidth)\n",
        "            ax.plot((x, x), (0, size), color=\"black\", linewidth=linewidth)\n",
        "\n",
        "        plt.close(ax.figure)\n",
        "\n",
        "        return ax.figure\n",
        ""
      ]
    },
    {
      "cell_type": "markdown",
      "metadata": {
        "id": "alXQY0GUikLg"
      },
      "source": [
        "### Egy nehéz sudoku"
      ]
    },
    {
      "cell_type": "code",
      "execution_count": 75,
      "metadata": {
        "id": "ul41JpXDikLg",
        "outputId": "fd9b679c-4dbf-4565-f22f-4772f3885955",
        "colab": {
          "base_uri": "https://localhost:8080/",
          "height": 428
        }
      },
      "outputs": [
        {
          "output_type": "execute_result",
          "data": {
            "text/plain": [
              "<Figure size 640x480 with 1 Axes>"
            ],
            "image/png": "[encoded data removed]"
          },
          "metadata": {},
          "execution_count": 75
        }
      ],
      "source": [
        "grid=[\n",
        "    [0, 2, 0, 0, 0, 0, 0, 0, 0],\n",
        "    [0, 0, 0, 6, 0, 0, 0, 0, 3],\n",
        "    [0, 7, 4, 0, 8, 0, 0, 0, 0],\n",
        "    [0, 0, 0, 0, 0, 3, 0, 0, 2],\n",
        "    [0, 8, 0, 0, 4, 0, 0, 1, 0],\n",
        "    [6, 0, 0, 5, 0, 0, 0, 0, 0],\n",
        "    [0, 0, 0, 0, 1, 0, 7, 8, 0],\n",
        "    [5, 0, 0, 0, 0, 9, 0, 0, 0],\n",
        "    [0, 0, 0, 0, 0, 0, 0, 4, 0]\n",
        "    ]\n",
        "sudoku = Sudoku(grid, \"A hard problem\")\n",
        "\n",
        "sudoku.draw()"
      ]
    },
    {
      "cell_type": "code",
      "execution_count": null,
      "metadata": {
        "id": "Vc-o6-YcikLh"
      },
      "outputs": [],
      "source": [
        "print(sudoku)\n",
        "display(sudoku)\n",
        "display(SVG(sudoku.svg))\n"
      ]
    },
    {
      "cell_type": "code",
      "execution_count": null,
      "metadata": {
        "id": "A1mgZX9NikLh"
      },
      "outputs": [],
      "source": [
        "list(sudoku.enumerate())"
      ]
    },
    {
      "cell_type": "markdown",
      "metadata": {
        "id": "WGr4cQhjikLh"
      },
      "source": [
        "## Hogyan fogalmazható meg a feladat a matek eszközeivel?"
      ]
    },
    {
      "cell_type": "markdown",
      "metadata": {
        "id": "17Bs0hPhikLi"
      },
      "source": [
        "Adottak követelmények (`Item`) és opciók (`Option`). A feladat az opciók egy részének kiválasztása úgy, hogy az összes követelmény teljesüljön.\n",
        "\n",
        "Egy lehetséges formalizálás, $x_1,\\dots, x_m$ logikai változók, egy\n",
        "$c=c(x_1,\\dots,x_n)$ logikai kifejezés.\n",
        "\n",
        "A kérdés ezután az, hogy az $x_i$ értékek (Igaz/Hamis) milyen választása mellett lesz a $c$ logikai kifejezés értéke igaz.\n",
        "\n",
        "Minden logikai kifejezés felírható $\\wedge$ (és) $\\vee$ (vagy) és $\\neg$ (tagadás) segítségével.\n",
        "\n",
        "pl.\n",
        "$$\n",
        "    x_1\\Rightarrow x_2,\\quad \\neg x_1\\vee x_2\n",
        "$$\n",
        "\n",
        "A logikai kifejezés $c$ megadható olyan alakban is, ahol\n",
        "$$\n",
        "    c(x_1,\\dots, x_m) = \\large\\wedge_i c_i(x_1,\\dots,x_m)\\quad\n",
        "    c_i(x_1,\\dots,x_m) = (\\vee_{j\\in S_i} x_j) \\vee (\\vee_{j\\in S'_i} \\neg x_j),\\quad S,S'\\subset\\{1,\\dots, m\\}\n",
        "$$\n",
        "\n",
        "$c_i$ megadató $S$ és $S'$ segítségével. Ha $S_i\\cap S'_i\\neq \\emptyset$ akkor $c_i$ mindig igaz, ezért $c$-ből elhagyható. Ha a váltózók indexelése 1-től indul, akkor egy kényelmes kódolása $c_i$-nek\n",
        "az indexek előjeles listája:\n",
        "$$\n",
        "    \\{j:j \\in S_i\\}\\cup\\{-j:j\\in S'_i\\}\n",
        "$$\n"
      ]
    },
    {
      "cell_type": "markdown",
      "metadata": {
        "id": "K02bYiUuikLi"
      },
      "source": [
        "## Sudoku tábla"
      ]
    },
    {
      "cell_type": "code",
      "execution_count": 26,
      "metadata": {
        "id": "K_ceq4EVikLi"
      },
      "outputs": [],
      "source": [
        "class Option(int):\n",
        "    max_value = 9*9*9\n",
        "\n",
        "    def __init__(self, val):\n",
        "        if not (1 <= abs(val) <= self.max_value):\n",
        "            raise ValueError(f\"Absolute value must be in [1, {self.max_value}]. Obtained {val}\")\n",
        "\n",
        "    def apply(self, grid):\n",
        "        row, col, val = self.to_triple()\n",
        "        row, col = row-1, col-1\n",
        "        if grid[row][col]!=0 and abs(grid[row][col])!=val:\n",
        "            raise ValueError(\"Grid cell at {row+1}, {col+1} is not empty!\")\n",
        "        if grid[row][col] == 0:\n",
        "            grid[row][col] = -val\n",
        "\n",
        "    @classmethod\n",
        "    def from_triple(cls, row, col, val):\n",
        "        if not (1<= row <= 9 and 1<= col <= 9 and 1<= val <= 9):\n",
        "            raise ValueError(\n",
        "                \"Invalid triple. \"\n",
        "                \"All numbers must be in [1, 9]. \"\n",
        "                f\"Obtained {row=}, {col=}, {val=}\"\n",
        "                )\n",
        "        return cls((row-1)*81+(col-1)*9+val-1 + 1)\n",
        "\n",
        "    @classmethod\n",
        "    def instances(cls):\n",
        "        for i in range(1, cls.max_value+1):\n",
        "            yield cls(i)\n",
        "\n",
        "    def to_triple(self):\n",
        "        n = abs(self)-1\n",
        "        n, val = divmod(n, 9)\n",
        "        row, col = divmod(n, 9)\n",
        "        row, col, val = row+1, col+1, val+1\n",
        "        return row, col, val\n",
        "\n",
        "    def __neg__(self):\n",
        "        return Option(-int(self))\n",
        "\n",
        "    def __str__(self):\n",
        "        row, col, val = self.to_triple()\n",
        "        prefix = 'not ' if self < 0 else ''\n",
        "        return f\"{prefix}{val}@({row}, {col})\"\n",
        "\n",
        "    def __repr__(self):\n",
        "        return f\"{type(self).__name__}({self!s}, code={self:d})\"\n",
        "\n",
        "    def items(self):\n",
        "        row, col, val = self.to_triple()\n",
        "        yield Item.not_empty(row, col)\n",
        "        yield Item.row_contains(row, val)\n",
        "        yield Item.col_contains(col, val)\n",
        "        yield Item.square_contains(row, col, val)\n",
        "\n",
        "\n",
        "class Clause(list):\n",
        "    def __str__(self):\n",
        "        return ' or '. join(map(str, self))"
      ]
    },
    {
      "cell_type": "code",
      "execution_count": 27,
      "metadata": {
        "id": "tOLPPxBuikLi",
        "outputId": "9ad3c5cb-af15-4afb-d331-13d0743a77ca",
        "colab": {
          "base_uri": "https://localhost:8080/"
        }
      },
      "outputs": [
        {
          "output_type": "stream",
          "name": "stdout",
          "text": [
            "\u001b[32m.\u001b[0m\u001b[32m.\u001b[0m\u001b[32m.\u001b[0m\u001b[32m                                                                                          [100%]\u001b[0m\n",
            "\u001b[32m\u001b[32m\u001b[1m3 passed\u001b[0m\u001b[32m in 0.04s\u001b[0m\u001b[0m\n"
          ]
        }
      ],
      "source": [
        "%%ipytest\n",
        "from pytest import raises\n",
        "\n",
        "def test_option():\n",
        "    for i in range(1, 10):\n",
        "        for j in range(1, 10):\n",
        "            for val in range(1,10):\n",
        "                option = Option.from_triple(i, j, val)\n",
        "                assert str(option) == f\"{val}@({i}, {j})\"\n",
        "                assert option.to_triple() == (i, j, val)\n",
        "\n",
        "def test_option_invalid():\n",
        "    with raises(ValueError):\n",
        "        option = Option.from_triple(10,9,9)\n",
        "\n",
        "    with raises(ValueError):\n",
        "        option = Option.from_triple(0,9,9)\n",
        "\n",
        "    with raises(ValueError):\n",
        "        option = Option.from_triple(1,10,9)\n",
        "\n",
        "    with raises(ValueError):\n",
        "        option = Option.from_triple(1,0,9)\n",
        "\n",
        "    with raises(ValueError):\n",
        "        option = Option.from_triple(1,9,19)\n",
        "\n",
        "    with raises(ValueError):\n",
        "        option = Option.from_triple(1,9,0)\n",
        "\n",
        "def test_option_all():\n",
        "    for i, o in enumerate(Option.instances(), 1):\n",
        "        assert o == i\n",
        "    assert i == Option.max_value\n",
        "\n"
      ]
    },
    {
      "cell_type": "code",
      "execution_count": 28,
      "metadata": {
        "id": "PZLB8VByikLi",
        "outputId": "5ae03d6c-e179-4928-f0f5-0fbffd1d66e5",
        "colab": {
          "base_uri": "https://localhost:8080/"
        }
      },
      "outputs": [
        {
          "output_type": "execute_result",
          "data": {
            "text/plain": [
              "Option(not 9@(1, 1), code=-9)"
            ]
          },
          "metadata": {},
          "execution_count": 28
        }
      ],
      "source": [
        "-Option.from_triple(1,1,9)"
      ]
    },
    {
      "cell_type": "code",
      "execution_count": 29,
      "metadata": {
        "id": "mFxxu47_ikLj"
      },
      "outputs": [],
      "source": [
        "def subsquare(i, j):\n",
        "    x, y = 3*i+1, 3*j+1\n",
        "    for row in range(x, x+3):\n",
        "        for col in range(y, y+3):\n",
        "            yield row, col\n",
        "\n",
        "class Item(int):\n",
        "    max_value = 4*9*9-1\n",
        "\n",
        "\n",
        "    def __init__(self, value):\n",
        "        if not (0 <= value <= self.max_value):\n",
        "            raise ValueError(f\"Value must be in [0, max_value]. Obtained {value}\")\n",
        "\n",
        "    @classmethod\n",
        "    def from_triple(cls, item_type, a, b):\n",
        "        if not (0 <= item_type < 4 and 0 <= a < 9 and 0 <= b < 9):\n",
        "            raise ValueError(f\"Invalid parameters: {item_type=}, {a=}, {b=}\")\n",
        "        return cls(item_type*81+a*9+b)\n",
        "\n",
        "    @classmethod\n",
        "    def not_empty(cls, row, col):\n",
        "        return cls.from_triple(0, row-1, col-1)\n",
        "\n",
        "    @classmethod\n",
        "    def row_contains(cls, row, val):\n",
        "        return cls.from_triple(1, row-1, val-1)\n",
        "\n",
        "    @classmethod\n",
        "    def col_contains(cls, col, val):\n",
        "        return cls.from_triple(2, col-1, val-1)\n",
        "\n",
        "    @classmethod\n",
        "    def square_contains(cls, row, col, val):\n",
        "        sq = 3*((row-1)//3) + ((col-1)//3)\n",
        "        return cls.from_triple(3, sq, val-1)\n",
        "\n",
        "    @classmethod\n",
        "    def instances(cls):\n",
        "        for i in range(cls.max_value+1):\n",
        "            yield cls(i)\n",
        "\n",
        "    def __str__(self):\n",
        "        n = self\n",
        "        item_type, n = divmod(n, 81)\n",
        "        i, j = divmod(n, 9)\n",
        "        match item_type:\n",
        "            case 0:\n",
        "                return f\"cell{(i+1, j+1)} ¬∅\"\n",
        "            case 1:\n",
        "                return f\"∃{j+1} in row[{i+1}]\"\n",
        "            case 2:\n",
        "                return f\"∃{j+1} in col[{i+1}]\"\n",
        "            case 3:\n",
        "                val = j+1\n",
        "                i, j = divmod(i, 3)\n",
        "                return f\"∃{val} in square{(i+1, j+1)}\"\n",
        "\n",
        "    def __repr__(self):\n",
        "        return f\"{type(self).__name__}({self!s}, code={self:d})\"\n",
        "\n",
        "    def options(self):\n",
        "        n = self\n",
        "        item_type, n = divmod(n, 81)\n",
        "        i, j = divmod(n, 9)\n",
        "        match item_type:\n",
        "            case 0:\n",
        "                row, col = i+1, j+1\n",
        "                for val in range(1, 10):\n",
        "                    yield Option.from_triple(row, col, val)\n",
        "            case 1:\n",
        "                row = i+1\n",
        "                val = j+1\n",
        "                for col in range(1, 10):\n",
        "                    yield Option.from_triple(row, col, val)\n",
        "            case 2:\n",
        "                val = j+1\n",
        "                col = i+1\n",
        "                for row in range(1, 10):\n",
        "                    yield Option.from_triple(row, col, val)\n",
        "            case 3:\n",
        "                val = j+1\n",
        "                i, j = divmod(i, 3)\n",
        "                for row,col in subsquare(i, j):\n",
        "                    yield Option.from_triple(row, col, val)\n",
        "\n",
        "    def cnf(self):\n",
        "        return Clause(self.options())\n"
      ]
    },
    {
      "cell_type": "code",
      "execution_count": 31,
      "metadata": {
        "id": "ZCuX9kcvikLj",
        "outputId": "2d9fc5c5-c543-43ad-9167-6b73d6ca6ad1",
        "colab": {
          "base_uri": "https://localhost:8080/"
        }
      },
      "outputs": [
        {
          "output_type": "stream",
          "name": "stdout",
          "text": [
            "item=Item(∃1 in square(2, 3), code=288)\n",
            "1@(4, 7) or 1@(4, 8) or 1@(4, 9) or 1@(5, 7) or 1@(5, 8) or 1@(5, 9) or 1@(6, 7) or 1@(6, 8) or 1@(6, 9)\n",
            "{Option(1@(4, 7), code=298),\n",
            " Option(1@(4, 8), code=307),\n",
            " Option(1@(4, 9), code=316),\n",
            " Option(1@(5, 7), code=379),\n",
            " Option(1@(5, 8), code=388),\n",
            " Option(1@(5, 9), code=397),\n",
            " Option(1@(6, 7), code=460),\n",
            " Option(1@(6, 8), code=469),\n",
            " Option(1@(6, 9), code=478)}\n",
            "len(list(Item.instances()))=324\n"
          ]
        }
      ],
      "source": [
        "\n",
        "item = Item(81*3+45)\n",
        "print(f\"{item=}\")\n",
        "print(item.cnf())\n",
        "pprint(set(item.options()))\n",
        "print(f\"{len(list(Item.instances()))=}\")"
      ]
    },
    {
      "cell_type": "code",
      "execution_count": 32,
      "metadata": {
        "id": "cENTHD1mikLj",
        "outputId": "5c42d777-d3e4-4716-998b-2b1bb4d8b542",
        "colab": {
          "base_uri": "https://localhost:8080/"
        }
      },
      "outputs": [
        {
          "output_type": "stream",
          "name": "stdout",
          "text": [
            "1@(1, 1) or 2@(1, 1) or not 3@(1, 1)\n"
          ]
        }
      ],
      "source": [
        "print(Clause([Option(1), Option(2), -Option(3)]))"
      ]
    },
    {
      "cell_type": "code",
      "execution_count": null,
      "metadata": {
        "id": "nKNmXNSYikLj"
      },
      "outputs": [],
      "source": [
        "option = Option(100)\n",
        "print(f\"{option=}\")\n",
        "pprint(list(option.items()))"
      ]
    },
    {
      "cell_type": "markdown",
      "metadata": {
        "id": "ItWIYHvsikLj"
      },
      "source": [
        "## Sudoku solver a `picosat` könyvtárral."
      ]
    },
    {
      "cell_type": "markdown",
      "metadata": {
        "id": "kZdtSHQ5ikLk"
      },
      "source": [
        "A következő kód a `picosat` solver `github` repositorijáról van:\n",
        "\n",
        "https://pypi.org/project/pycosat/\n",
        "\n",
        "https://github.com/conda/pycosat/blob/main/examples/sudoku.py\n",
        "\n",
        "```python\n",
        "\"\"\"\n",
        "The implementation of this Sudoku solver is based on the paper:\n",
        "\n",
        "    \"A SAT-based Sudoku solver\" by Tjark Weber\n",
        "\n",
        "    https://www.lri.fr/~conchon/mpri/weber.pdf\n",
        "\n",
        "If you want to understand the code below, in particular the function valid(),\n",
        "which calculates the 324 clauses corresponding to 9 cells, you are strongly\n",
        "encouraged to read the paper first.  The paper is very short, but contains\n",
        "all necessary information.\n",
        "\"\"\"\n",
        "import pycosat\n",
        "\n",
        "\n",
        "def v(i, j, d):\n",
        "    \"\"\"\n",
        "    Return the number of the variable of cell i, j and digit d,\n",
        "    which is an integer in the range of 1 to 729 (including).\n",
        "    \"\"\"\n",
        "    return 81 * (i - 1) + 9 * (j - 1) + d\n",
        "\n",
        "\n",
        "def sudoku_clauses():\n",
        "    \"\"\"\n",
        "    Create the (11745) Sudoku clauses, and return them as a list.\n",
        "    Note that these clauses are *independent* of the particular\n",
        "    Sudoku puzzle at hand.\n",
        "    \"\"\"\n",
        "    res = []\n",
        "    # for all cells, ensure that the each cell:\n",
        "    for i in range(1, 10):\n",
        "        for j in range(1, 10):\n",
        "            # denotes (at least) one of the 9 digits (1 clause)\n",
        "            res.append([v(i, j, d) for d in range(1, 10)])\n",
        "            # does not denote two different digits at once (36 clauses)\n",
        "            for d in range(1, 10):\n",
        "                for dp in range(d + 1, 10):\n",
        "                    res.append([-v(i, j, d), -v(i, j, dp)])\n",
        "\n",
        "    def valid(cells):\n",
        "        # Append 324 clauses, corresponding to 9 cells, to the result.\n",
        "        # The 9 cells are represented by a list tuples.  The new clauses\n",
        "        # ensure that the cells contain distinct values.\n",
        "        for i, xi in enumerate(cells):\n",
        "            for j, xj in enumerate(cells):\n",
        "                if i < j:\n",
        "                    for d in range(1, 10):\n",
        "                        res.append([-v(xi[0], xi[1], d), -v(xj[0], xj[1], d)])\n",
        "\n",
        "    # ensure rows and columns have distinct values\n",
        "    for i in range(1, 10):\n",
        "        valid([(i, j) for j in range(1, 10)])\n",
        "        valid([(j, i) for j in range(1, 10)])\n",
        "    # ensure 3x3 sub-grids \"regions\" have distinct values\n",
        "    for i in 1, 4, 7:\n",
        "        for j in 1, 4 ,7:\n",
        "            valid([(i + k % 3, j + k // 3) for k in range(9)])\n",
        "\n",
        "    assert len(res) == 81 * (1 + 36) + 27 * 324\n",
        "    return res\n",
        "\n",
        "\n",
        "def solve(grid):\n",
        "    \"\"\"\n",
        "    solve a Sudoku grid inplace\n",
        "    \"\"\"\n",
        "    clauses = sudoku_clauses()\n",
        "    for i in range(1, 10):\n",
        "        for j in range(1, 10):\n",
        "            d = grid[i - 1][j - 1]\n",
        "            # For each digit already known, a clause (with one literal).\n",
        "            # Note:\n",
        "            #     We could also remove all variables for the known cells\n",
        "            #     altogether (which would be more efficient).  However, for\n",
        "            #     the sake of simplicity, we decided not to do that.\n",
        "            if d:\n",
        "                clauses.append([v(i, j, d)])\n",
        "\n",
        "    # solve the SAT problem\n",
        "    sol = set(pycosat.solve(clauses))\n",
        "\n",
        "    def read_cell(i, j):\n",
        "        # return the digit of cell i, j according to the solution\n",
        "        for d in range(1, 10):\n",
        "            if v(i, j, d) in sol:\n",
        "                return d\n",
        "\n",
        "    for i in range(1, 10):\n",
        "        for j in range(1, 10):\n",
        "            grid[i - 1][j - 1] = read_cell(i, j)\n",
        "\n",
        "\n",
        "if __name__ == '__main__':\n",
        "    from pprint import pprint\n",
        "\n",
        "    # hard Sudoku problem, see Fig. 3 in paper by Weber\n",
        "    hard = [[0, 2, 0, 0, 0, 0, 0, 0, 0],\n",
        "            [0, 0, 0, 6, 0, 0, 0, 0, 3],\n",
        "            [0, 7, 4, 0, 8, 0, 0, 0, 0],\n",
        "            [0, 0, 0, 0, 0, 3, 0, 0, 2],\n",
        "            [0, 8, 0, 0, 4, 0, 0, 1, 0],\n",
        "            [6, 0, 0, 5, 0, 0, 0, 0, 0],\n",
        "            [0, 0, 0, 0, 1, 0, 7, 8, 0],\n",
        "            [5, 0, 0, 0, 0, 9, 0, 0, 0],\n",
        "            [0, 0, 0, 0, 0, 0, 0, 4, 0]]\n",
        "    solve(hard)\n",
        "    pprint(hard)\n",
        "    assert [[1, 2, 6, 4, 3, 7, 9, 5, 8],\n",
        "            [8, 9, 5, 6, 2, 1, 4, 7, 3],\n",
        "            [3, 7, 4, 9, 8, 5, 1, 2, 6],\n",
        "            [4, 5, 7, 1, 9, 3, 8, 6, 2],\n",
        "            [9, 8, 3, 2, 4, 6, 5, 1, 7],\n",
        "            [6, 1, 2, 5, 7, 8, 3, 9, 4],\n",
        "            [2, 6, 9, 3, 1, 4, 7, 8, 5],\n",
        "            [5, 4, 8, 7, 6, 9, 2, 3, 1],\n",
        "            [7, 3, 1, 8, 5, 2, 6, 4, 9]] == hard\n",
        "\n",
        "```"
      ]
    },
    {
      "cell_type": "code",
      "execution_count": 34,
      "metadata": {
        "id": "CdTAGnlaikLk"
      },
      "outputs": [],
      "source": [
        "import pycosat\n",
        "from itertools import product, combinations\n"
      ]
    },
    {
      "cell_type": "code",
      "execution_count": 35,
      "metadata": {
        "id": "3sTR_y5VikLk"
      },
      "outputs": [],
      "source": [
        "def sudoku_clauses_naive():\n",
        "    one_value_per_cell = [\n",
        "        Clause((-Option.from_triple(row, col, val0), -Option.from_triple(row, col, val1)))\n",
        "        for row, col, (val0, val1) in product(\n",
        "            range(1, 10),\n",
        "            range(1, 10),\n",
        "            combinations(range(1, 10), 2)\n",
        "        )\n",
        "    ]\n",
        "\n",
        "    return (\n",
        "        [Item(i).cnf() for i in range(4*81)] +\n",
        "        one_value_per_cell\n",
        "    )"
      ]
    },
    {
      "cell_type": "code",
      "execution_count": 36,
      "metadata": {
        "id": "qTAxyDhyikLl"
      },
      "outputs": [],
      "source": [
        "\n",
        "def sudoku_clauses():\n",
        "    one_value_per_cell = [\n",
        "        Clause((-Option.from_triple(row, col, val0), -Option.from_triple(row, col, val1)))\n",
        "        for row, col, (val0, val1) in product(\n",
        "            range(1, 10),\n",
        "            range(1, 10),\n",
        "            combinations(range(1, 10), 2)\n",
        "        )\n",
        "    ]\n",
        "\n",
        "    one_location_per_row = [\n",
        "        Clause((-Option.from_triple(row, col0, val), -Option.from_triple(row, col1, val)))\n",
        "        for row, (col0, col1), val in product(\n",
        "            range(1, 10),\n",
        "            combinations(range(1, 10), 2),\n",
        "            range(1, 10),\n",
        "        )\n",
        "    ]\n",
        "\n",
        "    one_location_per_col = [\n",
        "        Clause((-Option.from_triple(row0, col, val), -Option.from_triple(row1, col, val)))\n",
        "        for (row0, row1), col, val in product(\n",
        "            combinations(range(1, 10), 2),\n",
        "            range(1, 10),\n",
        "            range(1, 10)\n",
        "        )\n",
        "    ]\n",
        "\n",
        "    one_location_per_square = [\n",
        "        Clause((-Option.from_triple(row0, col0, val), -Option.from_triple(row1, col1, val)))\n",
        "        for i in range(9)\n",
        "        for ((row0, col0), (row1, col1)), val in product(\n",
        "            combinations(subsquare(i//3, i%3), 2),\n",
        "            range(1, 10)\n",
        "        )\n",
        "    ]\n",
        "\n",
        "    return (\n",
        "        [Item(i).cnf() for i in range(4*81)] +\n",
        "        one_value_per_cell +\n",
        "        one_location_per_row +\n",
        "        one_location_per_col +\n",
        "        one_location_per_square\n",
        "    )"
      ]
    },
    {
      "cell_type": "code",
      "execution_count": 37,
      "metadata": {
        "id": "tR9eu8ncikLl",
        "outputId": "1e3e4abb-8ad6-4c2d-8cd9-2b2bf8570c12",
        "colab": {
          "base_uri": "https://localhost:8080/"
        }
      },
      "outputs": [
        {
          "output_type": "stream",
          "name": "stdout",
          "text": [
            "len(clauses)=3240\n",
            " clauses[0]=1@(1, 1) or 2@(1, 1) or 3@(1, 1) or 4@(1, 1) or 5@(1, 1) or 6@(1, 1) or 7@(1, 1) or 8@(1, 1) or 9@(1, 1)\n",
            " clauses[-5]=not 6@(9, 9) or not 8@(9, 9)\n"
          ]
        }
      ],
      "source": [
        "clauses = sudoku_clauses_naive()\n",
        "print(f\"{len(clauses)=}\\n {clauses[0]=!s}\\n {clauses[-5]=!s}\")"
      ]
    },
    {
      "cell_type": "code",
      "execution_count": 38,
      "metadata": {
        "id": "SZafMuVnikLl"
      },
      "outputs": [],
      "source": [
        "def naive_solver(sudoku, **kwargs):\n",
        "    \"\"\"\n",
        "    solve a Sudoku grid inplace\n",
        "    \"\"\"\n",
        "    clauses = sudoku_clauses_naive()\n",
        "\n",
        "    clauses.extend(\n",
        "        Clause([Option.from_triple(row, col, val)])\n",
        "        for row, col, val in sudoku.enumerate()\n",
        "    )\n",
        "\n",
        "    sudoku_solved = sudoku.copy()\n",
        "    grid = sudoku_solved.grid\n",
        "    for option in pycosat.solve(clauses, **kwargs):\n",
        "        if option > 0:\n",
        "            Option(option).apply(grid)\n",
        "    sudoku_solved.name += \" solved\"\n",
        "    return sudoku_solved"
      ]
    },
    {
      "cell_type": "code",
      "execution_count": 39,
      "metadata": {
        "id": "PT8dmVgQikLl"
      },
      "outputs": [],
      "source": [
        "def modified_solver(sudoku, **kwargs):\n",
        "    \"\"\"\n",
        "    solve a Sudoku grid inplace\n",
        "    \"\"\"\n",
        "    clauses = sudoku_clauses()\n",
        "\n",
        "    clauses.extend(\n",
        "        Clause([Option.from_triple(row, col, val)])\n",
        "        for row, col, val in sudoku.enumerate()\n",
        "    )\n",
        "\n",
        "    sudoku_solved = sudoku.copy()\n",
        "    grid = sudoku_solved.grid\n",
        "    for option in pycosat.solve(clauses, **kwargs):\n",
        "        if option > 0:\n",
        "            Option(option).apply(grid)\n",
        "    sudoku_solved.name += \" solved\"\n",
        "    return sudoku_solved\n"
      ]
    },
    {
      "cell_type": "code",
      "execution_count": 40,
      "metadata": {
        "id": "WOTK97TLikLl"
      },
      "outputs": [],
      "source": [
        "class PycosatSolver:\n",
        "    naive_clauses = sudoku_clauses_naive()\n",
        "    clauses = sudoku_clauses()\n",
        "    def solve(self, sudoku, which=\"modified\", **kwargs):\n",
        "        clauses = self.clauses if which == \"modified\" else self.naive_clauses\n",
        "        clauses = clauses.copy()\n",
        "        clauses.extend(\n",
        "            Clause([Option.from_triple(row, col, val)])\n",
        "            for row, col, val in sudoku.enumerate()\n",
        "        )\n",
        "        sudoku_solved = sudoku.copy()\n",
        "        grid = sudoku_solved.grid\n",
        "        for option in pycosat.solve(clauses, **kwargs):\n",
        "            if option > 0:\n",
        "                Option(option).apply(grid)\n",
        "        sudoku_solved.name += \" solved\"\n",
        "        return sudoku_solved\n",
        "\n",
        ""
      ]
    },
    {
      "cell_type": "code",
      "execution_count": 41,
      "metadata": {
        "id": "wC6XO6ihikLm",
        "outputId": "1a271c06-6f0f-40ac-ba9c-d9eabf9910b7",
        "colab": {
          "base_uri": "https://localhost:8080/"
        }
      },
      "outputs": [
        {
          "output_type": "stream",
          "name": "stdout",
          "text": [
            "1.32 s ± 185 ms per loop (mean ± std. dev. of 7 runs, 1 loop each)\n"
          ]
        }
      ],
      "source": [
        "%timeit sudoku_solved = naive_solver(sudoku)"
      ]
    },
    {
      "cell_type": "code",
      "execution_count": 42,
      "metadata": {
        "id": "ZQ1vt_NlikLm",
        "outputId": "6cd126c4-3b26-43fd-8696-ed02aa4575e1",
        "colab": {
          "base_uri": "https://localhost:8080/"
        }
      },
      "outputs": [
        {
          "output_type": "stream",
          "name": "stdout",
          "text": [
            "57.2 ms ± 19.6 ms per loop (mean ± std. dev. of 7 runs, 10 loops each)\n"
          ]
        }
      ],
      "source": [
        "%timeit sudoku_solved = modified_solver(sudoku)"
      ]
    },
    {
      "cell_type": "code",
      "execution_count": 43,
      "metadata": {
        "id": "Hn9TMz2VikLm",
        "outputId": "69911d5a-3332-4d2f-de3f-513ba0c71cf4",
        "colab": {
          "base_uri": "https://localhost:8080/"
        }
      },
      "outputs": [
        {
          "output_type": "stream",
          "name": "stdout",
          "text": [
            "A hard problem solved:\n",
            "1 𝟮 6 4 3 7 9 5 8\n",
            "8 9 5 𝟲 2 1 4 7 𝟯\n",
            "3 𝟳 𝟰 9 𝟴 5 1 2 6\n",
            "4 5 7 1 9 𝟯 8 6 𝟮\n",
            "9 𝟴 3 2 𝟰 6 5 𝟭 7\n",
            "𝟲 1 2 𝟱 7 8 3 9 4\n",
            "2 6 9 3 𝟭 4 𝟳 𝟴 5\n",
            "𝟱 4 8 7 6 𝟵 2 3 1\n",
            "7 3 1 8 5 2 6 𝟰 9\n"
          ]
        }
      ],
      "source": [
        "sudoku_solved = modified_solver(sudoku)\n",
        "print(sudoku_solved)"
      ]
    },
    {
      "cell_type": "code",
      "execution_count": null,
      "metadata": {
        "id": "N8JyJ2nfikLm"
      },
      "outputs": [],
      "source": [
        "display(SVG(sudoku_solved.svg))"
      ]
    },
    {
      "cell_type": "code",
      "execution_count": 44,
      "metadata": {
        "id": "bVijqNnOikLm",
        "outputId": "227e5031-b407-402b-97f7-0fb8009db23a",
        "colab": {
          "base_uri": "https://localhost:8080/",
          "height": 428
        }
      },
      "outputs": [
        {
          "output_type": "execute_result",
          "data": {
            "text/plain": [
              "<Figure size 640x480 with 1 Axes>"
            ],
            "image/png": "[encoded data removed]"
          },
          "metadata": {},
          "execution_count": 44
        }
      ],
      "source": [
        "sudoku_solved.draw()"
      ]
    },
    {
      "cell_type": "markdown",
      "metadata": {
        "id": "EZ86ovrjikLn"
      },
      "source": [
        "## Egész értékű programozás"
      ]
    },
    {
      "cell_type": "markdown",
      "metadata": {
        "id": "Z7N0Fte0ikLn"
      },
      "source": [
        "A sudoku feladat úgy is megfogalmazható, hogy adott egy mátrix $A$. $A_{i,j}=1$ ha az $j$. opció kielégíti a $i$. követelményt. A korábbi $x_1,\\dots,x_m$ logikai változókat egy $x$ vektorba összefogva ($\\text{Hamis}=0$ és $\\text{Igaz}=1$)\n",
        "$$\n",
        "    v = Ax\n",
        "$$\n",
        "esetén $v_i$ azt adja meg, hogy a $i$. követelményt hány opció teljesíti a kiválasztottak közül. Azt szeretnénk, ha ez 1 lenne minden $i$-re.\n",
        "\n",
        "Azaz a feladat\n",
        "$$\n",
        "    Ax = \\mathbb{1}, \\quad \\text{úgy, hogy  $x_i\\in\\{0, 1\\}$}\n",
        "$$\n",
        "Ha több megoldás van akkor vehetjük azt, ami minimalizál egy lineráris kifejezést."
      ]
    },
    {
      "cell_type": "markdown",
      "metadata": {
        "id": "gu71R4_wikLn"
      },
      "source": [
        "## Lineáris programozás"
      ]
    },
    {
      "cell_type": "markdown",
      "metadata": {
        "id": "NPAh_TWpikLn"
      },
      "source": [
        "A lineáris programozási feladat általános alakja:\n",
        "$$\n",
        "    x_0=\\arg\\max_x c^T x,\\quad\\text{úgy, hogy}\\quad\n",
        "    Ax \\leq b, \\quad x\\geq0\n",
        "$$\n",
        "Azaz azt az $x_0$ vektort keressük, ami a $\\sum_jc_jx_j$ összeget maximalizálja azon nem negatív koordinátájú $x$-ek között, amik a lineáris feltételnek $(Ax)_j\\geq 0$ eleget tesznek.\n",
        "\n",
        "A feladatban $A$, $c$ és $b$ adottak és $c$, $b$ **nem negatívak** (azaz a koordináták ilyenek).\n",
        "\n",
        "Példa:"
      ]
    },
    {
      "cell_type": "code",
      "execution_count": 46,
      "metadata": {
        "id": "SDxvT5hBikLn"
      },
      "outputs": [],
      "source": [
        "import numpy as np\n",
        "import matplotlib.pyplot as plt"
      ]
    },
    {
      "cell_type": "code",
      "execution_count": 47,
      "metadata": {
        "id": "mBTQaG18ikLo",
        "outputId": "1cbd19b9-ba86-40e1-b647-07a9afeef2eb",
        "colab": {
          "base_uri": "https://localhost:8080/"
        }
      },
      "outputs": [
        {
          "output_type": "stream",
          "name": "stdout",
          "text": [
            "c=array([1, 1]), b=array([2, 3]),\n",
            "A=[[1 2]\n",
            " [2 1]]\n"
          ]
        }
      ],
      "source": [
        "c = np.array([1, 1])\n",
        "b = np.array([2, 3])\n",
        "A = np.array([[1, 2], [2, 1]])\n",
        "print(f\"{c=}, {b=},\\n{A=!s}\")"
      ]
    },
    {
      "cell_type": "code",
      "execution_count": 48,
      "metadata": {
        "id": "bMoZxuNTikLo",
        "outputId": "df2013c3-07b2-4e14-ee67-fbd0a8725210",
        "colab": {
          "base_uri": "https://localhost:8080/",
          "height": 546
        }
      },
      "outputs": [
        {
          "output_type": "display_data",
          "data": {
            "text/plain": [
              "<Figure size 640x480 with 1 Axes>"
            ],
            "image/png": "[encoded data removed]"
          },
          "metadata": {}
        }
      ],
      "source": [
        "def line(v, b):\n",
        "    p0 = b/(v@v)*v\n",
        "    v_perp = np.array([v[1], -v[0]])\n",
        "    p1 = p0+v_perp\n",
        "    return p0, p1\n",
        "\n",
        "def y_fun(v, b):\n",
        "    return lambda x: b/v[1]-(v[0]/v[1])*x\n",
        "\n",
        "ax = plt.axes((0, 0, 1, 1))\n",
        "ax.set_xlim((-4, 4))\n",
        "ax.set_ylim((-4, 4))\n",
        "ax.set_aspect(\"equal\")\n",
        "for v, b0 in zip(A, b):\n",
        "    ax.axline(*line(v, b0))\n",
        "ax.grid()\n",
        "ax.plot([4/3], [1/3], 'or')\n",
        "ax.axline((4/3, 1/3), (1/3, 4/3), color='red', alpha=0.5)\n",
        "\n",
        "\n",
        "xs = np.linspace(-4, 4, 201)\n",
        "\n",
        "ax.fill_between(xs, -4, np.minimum(y_fun(A[0], b[0])(xs), y_fun(A[1], b[1])(xs)), alpha=0.5)\n",
        "plt.show()\n"
      ]
    },
    {
      "cell_type": "markdown",
      "metadata": {
        "id": "N36xyC5FikLo"
      },
      "source": [
        "## `scipy` mixed integer solver (`milp`)."
      ]
    },
    {
      "cell_type": "code",
      "execution_count": 49,
      "metadata": {
        "id": "9U88aPAkikLu"
      },
      "outputs": [],
      "source": [
        "from scipy.optimize import milp, Bounds, LinearConstraint\n",
        "import numpy as np"
      ]
    },
    {
      "cell_type": "code",
      "execution_count": 50,
      "metadata": {
        "id": "AwDrWw_jikLv",
        "outputId": "111f04ee-0d01-43a7-9b2c-0804fd5b9bba",
        "colab": {
          "base_uri": "https://localhost:8080/"
        }
      },
      "outputs": [
        {
          "output_type": "stream",
          "name": "stdout",
          "text": [
            "Help on function milp in module scipy.optimize._milp:\n",
            "\n",
            "milp(c, *, integrality=None, bounds=None, constraints=None, options=None)\n",
            "    Mixed-integer linear programming\n",
            "    \n",
            "    Solves problems of the following form:\n",
            "    \n",
            "    .. math::\n",
            "    \n",
            "        \\min_x \\ & c^T x \\\\\n",
            "        \\mbox{such that} \\ & b_l \\leq A x \\leq b_u,\\\\\n",
            "        & l \\leq x \\leq u, \\\\\n",
            "        & x_i \\in \\mathbb{Z}, i \\in X_i\n",
            "    \n",
            "    where :math:`x` is a vector of decision variables;\n",
            "    :math:`c`, :math:`b_l`, :math:`b_u`, :math:`l`, and :math:`u` are vectors;\n",
            "    :math:`A` is a matrix, and :math:`X_i` is the set of indices of\n",
            "    decision variables that must be integral. (In this context, a\n",
            "    variable that can assume only integer values is said to be \"integral\";\n",
            "    it has an \"integrality\" constraint.)\n",
            "    \n",
            "    Alternatively, that's:\n",
            "    \n",
            "    minimize::\n",
            "    \n",
            "        c @ x\n",
            "    \n",
            "    such that::\n",
            "    \n",
            "        b_l <= A @ x <= b_u\n",
            "        l <= x <= u\n",
            "        Specified elements of x must be integers\n",
            "    \n",
            "    By default, ``l = 0`` and ``u = np.inf`` unless specified with\n",
            "    ``bounds``.\n",
            "    \n",
            "    Parameters\n",
            "    ----------\n",
            "    c : 1D dense array_like\n",
            "        The coefficients of the linear objective function to be minimized.\n",
            "        `c` is converted to a double precision array before the problem is\n",
            "        solved.\n",
            "    integrality : 1D dense array_like, optional\n",
            "        Indicates the type of integrality constraint on each decision variable.\n",
            "    \n",
            "        ``0`` : Continuous variable; no integrality constraint.\n",
            "    \n",
            "        ``1`` : Integer variable; decision variable must be an integer\n",
            "        within `bounds`.\n",
            "    \n",
            "        ``2`` : Semi-continuous variable; decision variable must be within\n",
            "        `bounds` or take value ``0``.\n",
            "    \n",
            "        ``3`` : Semi-integer variable; decision variable must be an integer\n",
            "        within `bounds` or take value ``0``.\n",
            "    \n",
            "        By default, all variables are continuous. `integrality` is converted\n",
            "        to an array of integers before the problem is solved.\n",
            "    \n",
            "    bounds : scipy.optimize.Bounds, optional\n",
            "        Bounds on the decision variables. Lower and upper bounds are converted\n",
            "        to double precision arrays before the problem is solved. The\n",
            "        ``keep_feasible`` parameter of the `Bounds` object is ignored. If\n",
            "        not specified, all decision variables are constrained to be\n",
            "        non-negative.\n",
            "    constraints : sequence of scipy.optimize.LinearConstraint, optional\n",
            "        Linear constraints of the optimization problem. Arguments may be\n",
            "        one of the following:\n",
            "    \n",
            "        1. A single `LinearConstraint` object\n",
            "        2. A single tuple that can be converted to a `LinearConstraint` object\n",
            "           as ``LinearConstraint(*constraints)``\n",
            "        3. A sequence composed entirely of objects of type 1. and 2.\n",
            "    \n",
            "        Before the problem is solved, all values are converted to double\n",
            "        precision, and the matrices of constraint coefficients are converted to\n",
            "        instances of `scipy.sparse.csc_array`. The ``keep_feasible`` parameter\n",
            "        of `LinearConstraint` objects is ignored.\n",
            "    options : dict, optional\n",
            "        A dictionary of solver options. The following keys are recognized.\n",
            "    \n",
            "        disp : bool (default: ``False``)\n",
            "            Set to ``True`` if indicators of optimization status are to be\n",
            "            printed to the console during optimization.\n",
            "        node_limit : int, optional\n",
            "            The maximum number of nodes (linear program relaxations) to solve\n",
            "            before stopping. Default is no maximum number of nodes.\n",
            "        presolve : bool (default: ``True``)\n",
            "            Presolve attempts to identify trivial infeasibilities,\n",
            "            identify trivial unboundedness, and simplify the problem before\n",
            "            sending it to the main solver.\n",
            "        time_limit : float, optional\n",
            "            The maximum number of seconds allotted to solve the problem.\n",
            "            Default is no time limit.\n",
            "        mip_rel_gap : float, optional\n",
            "            Termination criterion for MIP solver: solver will terminate when\n",
            "            the gap between the primal objective value and the dual objective\n",
            "            bound, scaled by the primal objective value, is <= mip_rel_gap.\n",
            "    \n",
            "    Returns\n",
            "    -------\n",
            "    res : OptimizeResult\n",
            "        An instance of :class:`scipy.optimize.OptimizeResult`. The object\n",
            "        is guaranteed to have the following attributes.\n",
            "    \n",
            "        status : int\n",
            "            An integer representing the exit status of the algorithm.\n",
            "    \n",
            "            ``0`` : Optimal solution found.\n",
            "    \n",
            "            ``1`` : Iteration or time limit reached.\n",
            "    \n",
            "            ``2`` : Problem is infeasible.\n",
            "    \n",
            "            ``3`` : Problem is unbounded.\n",
            "    \n",
            "            ``4`` : Other; see message for details.\n",
            "    \n",
            "        success : bool\n",
            "            ``True`` when an optimal solution is found and ``False`` otherwise.\n",
            "    \n",
            "        message : str\n",
            "            A string descriptor of the exit status of the algorithm.\n",
            "    \n",
            "        The following attributes will also be present, but the values may be\n",
            "        ``None``, depending on the solution status.\n",
            "    \n",
            "        x : ndarray\n",
            "            The values of the decision variables that minimize the\n",
            "            objective function while satisfying the constraints.\n",
            "        fun : float\n",
            "            The optimal value of the objective function ``c @ x``.\n",
            "        mip_node_count : int\n",
            "            The number of subproblems or \"nodes\" solved by the MILP solver.\n",
            "        mip_dual_bound : float\n",
            "            The MILP solver's final estimate of the lower bound on the optimal\n",
            "            solution.\n",
            "        mip_gap : float\n",
            "            The difference between the primal objective value and the dual\n",
            "            objective bound, scaled by the primal objective value.\n",
            "    \n",
            "    Notes\n",
            "    -----\n",
            "    `milp` is a wrapper of the HiGHS linear optimization software [1]_. The\n",
            "    algorithm is deterministic, and it typically finds the global optimum of\n",
            "    moderately challenging mixed-integer linear programs (when it exists).\n",
            "    \n",
            "    References\n",
            "    ----------\n",
            "    .. [1] Huangfu, Q., Galabova, I., Feldmeier, M., and Hall, J. A. J.\n",
            "           \"HiGHS - high performance software for linear optimization.\"\n",
            "           https://highs.dev/\n",
            "    .. [2] Huangfu, Q. and Hall, J. A. J. \"Parallelizing the dual revised\n",
            "           simplex method.\" Mathematical Programming Computation, 10 (1),\n",
            "           119-142, 2018. DOI: 10.1007/s12532-017-0130-5\n",
            "    \n",
            "    Examples\n",
            "    --------\n",
            "    Consider the problem at\n",
            "    https://en.wikipedia.org/wiki/Integer_programming#Example, which is\n",
            "    expressed as a maximization problem of two variables. Since `milp` requires\n",
            "    that the problem be expressed as a minimization problem, the objective\n",
            "    function coefficients on the decision variables are:\n",
            "    \n",
            "    >>> import numpy as np\n",
            "    >>> c = -np.array([0, 1])\n",
            "    \n",
            "    Note the negative sign: we maximize the original objective function\n",
            "    by minimizing the negative of the objective function.\n",
            "    \n",
            "    We collect the coefficients of the constraints into arrays like:\n",
            "    \n",
            "    >>> A = np.array([[-1, 1], [3, 2], [2, 3]])\n",
            "    >>> b_u = np.array([1, 12, 12])\n",
            "    >>> b_l = np.full_like(b_u, -np.inf)\n",
            "    \n",
            "    Because there is no lower limit on these constraints, we have defined a\n",
            "    variable ``b_l`` full of values representing negative infinity. This may\n",
            "    be unfamiliar to users of `scipy.optimize.linprog`, which only accepts\n",
            "    \"less than\" (or \"upper bound\") inequality constraints of the form\n",
            "    ``A_ub @ x <= b_u``. By accepting both ``b_l`` and ``b_u`` of constraints\n",
            "    ``b_l <= A_ub @ x <= b_u``, `milp` makes it easy to specify \"greater than\"\n",
            "    inequality constraints, \"less than\" inequality constraints, and equality\n",
            "    constraints concisely.\n",
            "    \n",
            "    These arrays are collected into a single `LinearConstraint` object like:\n",
            "    \n",
            "    >>> from scipy.optimize import LinearConstraint\n",
            "    >>> constraints = LinearConstraint(A, b_l, b_u)\n",
            "    \n",
            "    The non-negativity bounds on the decision variables are enforced by\n",
            "    default, so we do not need to provide an argument for `bounds`.\n",
            "    \n",
            "    Finally, the problem states that both decision variables must be integers:\n",
            "    \n",
            "    >>> integrality = np.ones_like(c)\n",
            "    \n",
            "    We solve the problem like:\n",
            "    \n",
            "    >>> from scipy.optimize import milp\n",
            "    >>> res = milp(c=c, constraints=constraints, integrality=integrality)\n",
            "    >>> res.x\n",
            "    [1.0, 2.0]\n",
            "    \n",
            "    Note that had we solved the relaxed problem (without integrality\n",
            "    constraints):\n",
            "    \n",
            "    >>> res = milp(c=c, constraints=constraints)  # OR:\n",
            "    >>> # from scipy.optimize import linprog; res = linprog(c, A, b_u)\n",
            "    >>> res.x\n",
            "    [1.8, 2.8]\n",
            "    \n",
            "    we would not have obtained the correct solution by rounding to the nearest\n",
            "    integers.\n",
            "    \n",
            "    Other examples are given :ref:`in the tutorial <tutorial-optimize_milp>`.\n",
            "\n"
          ]
        }
      ],
      "source": [
        "help(milp)"
      ]
    },
    {
      "cell_type": "code",
      "execution_count": 51,
      "metadata": {
        "id": "RpOyvZpqikLv",
        "outputId": "742c4402-d8e7-44f8-d334-5dfd5bd76877",
        "colab": {
          "base_uri": "https://localhost:8080/",
          "height": 428
        }
      },
      "outputs": [
        {
          "output_type": "execute_result",
          "data": {
            "text/plain": [
              "<Figure size 640x480 with 1 Axes>"
            ],
            "image/png": "[encoded data removed]"
          },
          "metadata": {},
          "execution_count": 51
        }
      ],
      "source": [
        "sudoku.draw()"
      ]
    },
    {
      "cell_type": "code",
      "execution_count": 52,
      "metadata": {
        "id": "TQDlSEabikLv"
      },
      "outputs": [],
      "source": [
        "def sudoku_adj_matrix():\n",
        "    options = list(Option.instances())\n",
        "\n",
        "    A = np.zeros((Item.max_value+1, len(options)))\n",
        "    for j, option in enumerate(options):\n",
        "        for item in option.items():\n",
        "            A[item][j] = 1\n",
        "    return A, options\n"
      ]
    },
    {
      "cell_type": "code",
      "execution_count": 53,
      "metadata": {
        "id": "uoOH2c3vikLv",
        "outputId": "f4955e56-fe4d-4a6d-f890-0b8430aa22bb",
        "colab": {
          "base_uri": "https://localhost:8080/"
        }
      },
      "outputs": [
        {
          "output_type": "stream",
          "name": "stdout",
          "text": [
            "array([[1., 1., 1., ..., 0., 0., 0.],\n",
            "       [0., 0., 0., ..., 0., 0., 0.],\n",
            "       [0., 0., 0., ..., 0., 0., 0.],\n",
            "       ...,\n",
            "       [0., 0., 0., ..., 1., 0., 0.],\n",
            "       [0., 0., 0., ..., 0., 1., 0.],\n",
            "       [0., 0., 0., ..., 0., 0., 1.]])\n"
          ]
        }
      ],
      "source": [
        "A, options = sudoku_adj_matrix()\n",
        "pprint(A)"
      ]
    },
    {
      "cell_type": "code",
      "execution_count": 54,
      "metadata": {
        "id": "qvP-DyXzikLv"
      },
      "outputs": [],
      "source": [
        "\n",
        "class MilpSolver():\n",
        "    A, options = sudoku_adj_matrix()\n",
        "    options_ub = np.ones_like(options)\n",
        "    items_b = np.ones(A.shape[0])\n",
        "\n",
        "    def solve(self, sudoku):\n",
        "        lower_bound = np.zeros_like(self.options_ub)\n",
        "\n",
        "        lower_bound[\n",
        "            [Option.from_triple(row, col, val)-1 for row, col, val in sudoku.enumerate()]\n",
        "            ] = 1\n",
        "        bounds = Bounds(lower_bound, self.options_ub)\n",
        "        constraints = LinearConstraint(self.A, self.items_b, self.items_b)\n",
        "        solution = milp(\n",
        "            self.options_ub, # all one vector, could be almost anything\n",
        "            integrality=self.options_ub,\n",
        "            bounds=bounds,\n",
        "            constraints=constraints\n",
        "            )\n",
        "        sudoku_solved = sudoku.copy()\n",
        "        sudoku_solved.name += \" solved\"\n",
        "        for option, include in zip(self.options, solution.x):\n",
        "            if include == 1:\n",
        "                option.apply(sudoku_solved.grid)\n",
        "\n",
        "        sudoku_solved.milp_solution = solution\n",
        "        return sudoku_solved\n",
        "\n",
        "\n",
        "\n"
      ]
    },
    {
      "cell_type": "code",
      "execution_count": 55,
      "metadata": {
        "id": "nskjbG6OikLw"
      },
      "outputs": [],
      "source": [
        "milp_solver = MilpSolver()\n",
        "sudoku_solved = milp_solver.solve(sudoku)"
      ]
    },
    {
      "cell_type": "code",
      "execution_count": 56,
      "metadata": {
        "id": "YZ-eaqWxikLw",
        "outputId": "5b01e188-10ad-4593-d09f-1049d72c021c",
        "colab": {
          "base_uri": "https://localhost:8080/"
        }
      },
      "outputs": [
        {
          "output_type": "stream",
          "name": "stdout",
          "text": [
            "13.8 ms ± 2.5 ms per loop (mean ± std. dev. of 7 runs, 100 loops each)\n"
          ]
        }
      ],
      "source": [
        "%timeit sudoku_solved = milp_solver.solve(sudoku)\n"
      ]
    },
    {
      "cell_type": "code",
      "execution_count": 57,
      "metadata": {
        "id": "1fo4xqXEikLx",
        "outputId": "2f4de5aa-48e2-4a01-a613-2fb789ccd4ce",
        "colab": {
          "base_uri": "https://localhost:8080/",
          "height": 657
        }
      },
      "outputs": [
        {
          "output_type": "stream",
          "name": "stdout",
          "text": [
            "        message: Optimization terminated successfully. (HiGHS Status 7: Optimal)\n",
            "        success: True\n",
            "         status: 0\n",
            "            fun: 81.0\n",
            "              x: [ 1.000e+00  0.000e+00 ...  0.000e+00  1.000e+00]\n",
            " mip_node_count: 0\n",
            " mip_dual_bound: 81.0\n",
            "        mip_gap: 0.0\n"
          ]
        },
        {
          "output_type": "execute_result",
          "data": {
            "text/plain": [
              "<__main__.Sudoku at 0x7a92c834f130>"
            ],
            "text/html": [
              "<html>\n",
              "<head>\n",
              "<style>\n",
              "\n",
              "        .sudoku-board-2ed98e96-92a0-11ee-895d-0242ac1c000c, .sudoku-board-2ed98e96-92a0-11ee-895d-0242ac1c000c .box, .sudoku-board-2ed98e96-92a0-11ee-895d-0242ac1c000c .box div {\n",
              "            box-sizing: border-box;\n",
              "        }\n",
              "        \n",
              "        .sudoku-board-2ed98e96-92a0-11ee-895d-0242ac1c000c, .sudoku-board-2ed98e96-92a0-11ee-895d-0242ac1c000c .box{\n",
              "            display: flex;\n",
              "            flex-wrap: wrap;\n",
              "        }\n",
              "\n",
              "        .sudoku-board-2ed98e96-92a0-11ee-895d-0242ac1c000c .box {\n",
              "           border: solid 1px;\n",
              "           width: 152px;  \n",
              "        }\n",
              "        \n",
              "        .sudoku-board-2ed98e96-92a0-11ee-895d-0242ac1c000c .box > div {\n",
              "            border: solid 1px;\n",
              "            width: 50px;\n",
              "            text-align: center;\n",
              "        }\n",
              "\n",
              "        .sudoku-board-2ed98e96-92a0-11ee-895d-0242ac1c000c .box > div:before {\n",
              "            display: inline-block;\n",
              "            padding-top: 100%;\n",
              "            content: '';\n",
              "            vertical-align: middle;\n",
              "        }\n",
              "\n",
              "        .sudoku-board-2ed98e96-92a0-11ee-895d-0242ac1c000c .box .clue {\n",
              "            background-color: LightGray;\n",
              "            font-weight: bold;\n",
              "        }\n",
              "\n",
              "        .sudoku-board-2ed98e96-92a0-11ee-895d-0242ac1c000c {\n",
              "            width: 460px;\n",
              "            margin: 0px;\n",
              "            font-size: calc(0.8vw + 10px);\n",
              "            border: solid 2px;\n",
              "        }\n",
              "\n",
              "        .sudoku-board-2ed98e96-92a0-11ee-895d-0242ac1c000c .box div {\n",
              "            color: gray;\n",
              "            text-shadow: 1px 1px 1px white;\n",
              "            vertical-align: middle;\n",
              "        }\n",
              "    \n",
              "</style>\n",
              "</head>\n",
              "<body>\n",
              "<h3>A hard problem solved</h3>\n",
              "<div class=\"sudoku-board-2ed98e96-92a0-11ee-895d-0242ac1c000c\">\n",
              "<div class=\"box\"><div class=\"solved\">1</div><div class=\"clue\">2</div><div class=\"solved\">6</div><div class=\"solved\">8</div><div class=\"solved\">9</div><div class=\"solved\">5</div><div class=\"solved\">3</div><div class=\"clue\">7</div><div class=\"clue\">4</div></div>\n",
              "<div class=\"box\"><div class=\"solved\">4</div><div class=\"solved\">3</div><div class=\"solved\">7</div><div class=\"clue\">6</div><div class=\"solved\">2</div><div class=\"solved\">1</div><div class=\"solved\">9</div><div class=\"clue\">8</div><div class=\"solved\">5</div></div>\n",
              "<div class=\"box\"><div class=\"solved\">9</div><div class=\"solved\">5</div><div class=\"solved\">8</div><div class=\"solved\">4</div><div class=\"solved\">7</div><div class=\"clue\">3</div><div class=\"solved\">1</div><div class=\"solved\">2</div><div class=\"solved\">6</div></div>\n",
              "<div class=\"box\"><div class=\"solved\">4</div><div class=\"solved\">5</div><div class=\"solved\">7</div><div class=\"solved\">9</div><div class=\"clue\">8</div><div class=\"solved\">3</div><div class=\"clue\">6</div><div class=\"solved\">1</div><div class=\"solved\">2</div></div>\n",
              "<div class=\"box\"><div class=\"solved\">1</div><div class=\"solved\">9</div><div class=\"clue\">3</div><div class=\"solved\">2</div><div class=\"clue\">4</div><div class=\"solved\">6</div><div class=\"clue\">5</div><div class=\"solved\">7</div><div class=\"solved\">8</div></div>\n",
              "<div class=\"box\"><div class=\"solved\">8</div><div class=\"solved\">6</div><div class=\"clue\">2</div><div class=\"solved\">5</div><div class=\"clue\">1</div><div class=\"solved\">7</div><div class=\"solved\">3</div><div class=\"solved\">9</div><div class=\"solved\">4</div></div>\n",
              "<div class=\"box\"><div class=\"solved\">2</div><div class=\"solved\">6</div><div class=\"solved\">9</div><div class=\"clue\">5</div><div class=\"solved\">4</div><div class=\"solved\">8</div><div class=\"solved\">7</div><div class=\"solved\">3</div><div class=\"solved\">1</div></div>\n",
              "<div class=\"box\"><div class=\"solved\">3</div><div class=\"clue\">1</div><div class=\"solved\">4</div><div class=\"solved\">7</div><div class=\"solved\">6</div><div class=\"clue\">9</div><div class=\"solved\">8</div><div class=\"solved\">5</div><div class=\"solved\">2</div></div>\n",
              "<div class=\"box\"><div class=\"clue\">7</div><div class=\"clue\">8</div><div class=\"solved\">5</div><div class=\"solved\">2</div><div class=\"solved\">3</div><div class=\"solved\">1</div><div class=\"solved\">6</div><div class=\"clue\">4</div><div class=\"solved\">9</div></div>\n",
              "</div>\n",
              "</body></html>"
            ],
            "image/svg+xml": "<?xml version=\"1.0\" encoding=\"utf-8\" standalone=\"no\"?>\n<!DOCTYPE svg PUBLIC \"-//W3C//DTD SVG 1.1//EN\"\n  \"http://www.w3.org/Graphics/SVG/1.1/DTD/svg11.dtd\">\n<svg xmlns:xlink=\"http://www.w3.org/1999/xlink\" width=\"280.512pt\" height=\"295.630125pt\" viewBox=\"0 0 280.512 295.630125\" xmlns=\"http://www.w3.org/2000/svg\" version=\"1.1\">\n <metadata>\n  <rdf:RDF xmlns:dc=\"http://purl.org/dc/elements/1.1/\" xmlns:cc=\"http://creativecommons.org/ns#\" xmlns:rdf=\"http://www.w3.org/1999/02/22-rdf-syntax-ns#\">\n   <cc:Work>\n    <dc:type rdf:resource=\"http://purl.org/dc/dcmitype/StillImage\"/>\n    <dc:date>2023-12-04T12:25:17.618065</dc:date>\n    <dc:format>image/svg+xml</dc:format>\n    <dc:creator>\n     <cc:Agent>\n      <dc:title>Matplotlib v3.7.1, https://matplotlib.org/</dc:title>\n     </cc:Agent>\n    </dc:creator>\n   </cc:Work>\n  </rdf:RDF>\n </metadata>\n <defs>\n  <style type=\"text/css\">*{stroke-linejoin: round; stroke-linecap: butt}</style>\n </defs>\n <g id=\"figure_1\">\n  <g id=\"patch_1\">\n   <path d=\"M 0 295.630125 \nL 280.512 295.630125 \nL 280.512 0 \nL 0 0 \nz\n\" style=\"fill: #ffffff\"/>\n  </g>\n  <g id=\"axes_1\">\n   <g id=\"patch_2\">\n    <path d=\"M 46.176 61.294125 \nL 73.056 61.294125 \nL 73.056 34.414125 \nL 46.176 34.414125 \nz\n\" clip-path=\"url(#p1e9c81f53f)\" style=\"fill: #d3d3d3; opacity: 0.5; stroke: #d3d3d3; stroke-linejoin: miter\"/>\n   </g>\n   <g id=\"patch_3\">\n    <path d=\"M 99.936 88.174125 \nL 126.816 88.174125 \nL 126.816 61.294125 \nL 99.936 61.294125 \nz\n\" clip-path=\"url(#p1e9c81f53f)\" style=\"fill: #d3d3d3; opacity: 0.5; stroke: #d3d3d3; stroke-linejoin: miter\"/>\n   </g>\n   <g id=\"patch_4\">\n    <path d=\"M 234.336 88.174125 \nL 261.216 88.174125 \nL 261.216 61.294125 \nL 234.336 61.294125 \nz\n\" clip-path=\"url(#p1e9c81f53f)\" style=\"fill: #d3d3d3; opacity: 0.5; stroke: #d3d3d3; stroke-linejoin: miter\"/>\n   </g>\n   <g id=\"patch_5\">\n    <path d=\"M 46.176 115.054125 \nL 73.056 115.054125 \nL 73.056 88.174125 \nL 46.176 88.174125 \nz\n\" clip-path=\"url(#p1e9c81f53f)\" style=\"fill: #d3d3d3; opacity: 0.5; stroke: #d3d3d3; stroke-linejoin: miter\"/>\n   </g>\n   <g id=\"patch_6\">\n    <path d=\"M 73.056 115.054125 \nL 99.936 115.054125 \nL 99.936 88.174125 \nL 73.056 88.174125 \nz\n\" clip-path=\"url(#p1e9c81f53f)\" style=\"fill: #d3d3d3; opacity: 0.5; stroke: #d3d3d3; stroke-linejoin: miter\"/>\n   </g>\n   <g id=\"patch_7\">\n    <path d=\"M 126.816 115.054125 \nL 153.696 115.054125 \nL 153.696 88.174125 \nL 126.816 88.174125 \nz\n\" clip-path=\"url(#p1e9c81f53f)\" style=\"fill: #d3d3d3; opacity: 0.5; stroke: #d3d3d3; stroke-linejoin: miter\"/>\n   </g>\n   <g id=\"patch_8\">\n    <path d=\"M 153.696 141.934125 \nL 180.576 141.934125 \nL 180.576 115.054125 \nL 153.696 115.054125 \nz\n\" clip-path=\"url(#p1e9c81f53f)\" style=\"fill: #d3d3d3; opacity: 0.5; stroke: #d3d3d3; stroke-linejoin: miter\"/>\n   </g>\n   <g id=\"patch_9\">\n    <path d=\"M 234.336 141.934125 \nL 261.216 141.934125 \nL 261.216 115.054125 \nL 234.336 115.054125 \nz\n\" clip-path=\"url(#p1e9c81f53f)\" style=\"fill: #d3d3d3; opacity: 0.5; stroke: #d3d3d3; stroke-linejoin: miter\"/>\n   </g>\n   <g id=\"patch_10\">\n    <path d=\"M 46.176 168.814125 \nL 73.056 168.814125 \nL 73.056 141.934125 \nL 46.176 141.934125 \nz\n\" clip-path=\"url(#p1e9c81f53f)\" style=\"fill: #d3d3d3; opacity: 0.5; stroke: #d3d3d3; stroke-linejoin: miter\"/>\n   </g>\n   <g id=\"patch_11\">\n    <path d=\"M 126.816 168.814125 \nL 153.696 168.814125 \nL 153.696 141.934125 \nL 126.816 141.934125 \nz\n\" clip-path=\"url(#p1e9c81f53f)\" style=\"fill: #d3d3d3; opacity: 0.5; stroke: #d3d3d3; stroke-linejoin: miter\"/>\n   </g>\n   <g id=\"patch_12\">\n    <path d=\"M 207.456 168.814125 \nL 234.336 168.814125 \nL 234.336 141.934125 \nL 207.456 141.934125 \nz\n\" clip-path=\"url(#p1e9c81f53f)\" style=\"fill: #d3d3d3; opacity: 0.5; stroke: #d3d3d3; stroke-linejoin: miter\"/>\n   </g>\n   <g id=\"patch_13\">\n    <path d=\"M 19.296 195.694125 \nL 46.176 195.694125 \nL 46.176 168.814125 \nL 19.296 168.814125 \nz\n\" clip-path=\"url(#p1e9c81f53f)\" style=\"fill: #d3d3d3; opacity: 0.5; stroke: #d3d3d3; stroke-linejoin: miter\"/>\n   </g>\n   <g id=\"patch_14\">\n    <path d=\"M 99.936 195.694125 \nL 126.816 195.694125 \nL 126.816 168.814125 \nL 99.936 168.814125 \nz\n\" clip-path=\"url(#p1e9c81f53f)\" style=\"fill: #d3d3d3; opacity: 0.5; stroke: #d3d3d3; stroke-linejoin: miter\"/>\n   </g>\n   <g id=\"patch_15\">\n    <path d=\"M 126.816 222.574125 \nL 153.696 222.574125 \nL 153.696 195.694125 \nL 126.816 195.694125 \nz\n\" clip-path=\"url(#p1e9c81f53f)\" style=\"fill: #d3d3d3; opacity: 0.5; stroke: #d3d3d3; stroke-linejoin: miter\"/>\n   </g>\n   <g id=\"patch_16\">\n    <path d=\"M 180.576 222.574125 \nL 207.456 222.574125 \nL 207.456 195.694125 \nL 180.576 195.694125 \nz\n\" clip-path=\"url(#p1e9c81f53f)\" style=\"fill: #d3d3d3; opacity: 0.5; stroke: #d3d3d3; stroke-linejoin: miter\"/>\n   </g>\n   <g id=\"patch_17\">\n    <path d=\"M 207.456 222.574125 \nL 234.336 222.574125 \nL 234.336 195.694125 \nL 207.456 195.694125 \nz\n\" clip-path=\"url(#p1e9c81f53f)\" style=\"fill: #d3d3d3; opacity: 0.5; stroke: #d3d3d3; stroke-linejoin: miter\"/>\n   </g>\n   <g id=\"patch_18\">\n    <path d=\"M 19.296 249.454125 \nL 46.176 249.454125 \nL 46.176 222.574125 \nL 19.296 222.574125 \nz\n\" clip-path=\"url(#p1e9c81f53f)\" style=\"fill: #d3d3d3; opacity: 0.5; stroke: #d3d3d3; stroke-linejoin: miter\"/>\n   </g>\n   <g id=\"patch_19\">\n    <path d=\"M 153.696 249.454125 \nL 180.576 249.454125 \nL 180.576 222.574125 \nL 153.696 222.574125 \nz\n\" clip-path=\"url(#p1e9c81f53f)\" style=\"fill: #d3d3d3; opacity: 0.5; stroke: #d3d3d3; stroke-linejoin: miter\"/>\n   </g>\n   <g id=\"patch_20\">\n    <path d=\"M 207.456 276.334125 \nL 234.336 276.334125 \nL 234.336 249.454125 \nL 207.456 249.454125 \nz\n\" clip-path=\"url(#p1e9c81f53f)\" style=\"fill: #d3d3d3; opacity: 0.5; stroke: #d3d3d3; stroke-linejoin: miter\"/>\n   </g>\n   <g id=\"line2d_1\">\n    <path d=\"M 19.296 276.334125 \nL 261.216 276.334125 \n\" clip-path=\"url(#p1e9c81f53f)\" style=\"fill: none; stroke: #000000; stroke-width: 2; stroke-linecap: square\"/>\n   </g>\n   <g id=\"line2d_2\">\n    <path d=\"M 19.296 276.334125 \nL 19.296 34.414125 \n\" clip-path=\"url(#p1e9c81f53f)\" style=\"fill: none; stroke: #000000; stroke-width: 2; stroke-linecap: square\"/>\n   </g>\n   <g id=\"line2d_3\">\n    <path d=\"M 19.296 249.454125 \nL 261.216 249.454125 \n\" clip-path=\"url(#p1e9c81f53f)\" style=\"fill: none; stroke: #000000; stroke-linecap: square\"/>\n   </g>\n   <g id=\"line2d_4\">\n    <path d=\"M 46.176 276.334125 \nL 46.176 34.414125 \n\" clip-path=\"url(#p1e9c81f53f)\" style=\"fill: none; stroke: #000000; stroke-linecap: square\"/>\n   </g>\n   <g id=\"line2d_5\">\n    <path d=\"M 19.296 222.574125 \nL 261.216 222.574125 \n\" clip-path=\"url(#p1e9c81f53f)\" style=\"fill: none; stroke: #000000; stroke-linecap: square\"/>\n   </g>\n   <g id=\"line2d_6\">\n    <path d=\"M 73.056 276.334125 \nL 73.056 34.414125 \n\" clip-path=\"url(#p1e9c81f53f)\" style=\"fill: none; stroke: #000000; stroke-linecap: square\"/>\n   </g>\n   <g id=\"line2d_7\">\n    <path d=\"M 19.296 195.694125 \nL 261.216 195.694125 \n\" clip-path=\"url(#p1e9c81f53f)\" style=\"fill: none; stroke: #000000; stroke-width: 2; stroke-linecap: square\"/>\n   </g>\n   <g id=\"line2d_8\">\n    <path d=\"M 99.936 276.334125 \nL 99.936 34.414125 \n\" clip-path=\"url(#p1e9c81f53f)\" style=\"fill: none; stroke: #000000; stroke-width: 2; stroke-linecap: square\"/>\n   </g>\n   <g id=\"line2d_9\">\n    <path d=\"M 19.296 168.814125 \nL 261.216 168.814125 \n\" clip-path=\"url(#p1e9c81f53f)\" style=\"fill: none; stroke: #000000; stroke-linecap: square\"/>\n   </g>\n   <g id=\"line2d_10\">\n    <path d=\"M 126.816 276.334125 \nL 126.816 34.414125 \n\" clip-path=\"url(#p1e9c81f53f)\" style=\"fill: none; stroke: #000000; stroke-linecap: square\"/>\n   </g>\n   <g id=\"line2d_11\">\n    <path d=\"M 19.296 141.934125 \nL 261.216 141.934125 \n\" clip-path=\"url(#p1e9c81f53f)\" style=\"fill: none; stroke: #000000; stroke-linecap: square\"/>\n   </g>\n   <g id=\"line2d_12\">\n    <path d=\"M 153.696 276.334125 \nL 153.696 34.414125 \n\" clip-path=\"url(#p1e9c81f53f)\" style=\"fill: none; stroke: #000000; stroke-linecap: square\"/>\n   </g>\n   <g id=\"line2d_13\">\n    <path d=\"M 19.296 115.054125 \nL 261.216 115.054125 \n\" clip-path=\"url(#p1e9c81f53f)\" style=\"fill: none; stroke: #000000; stroke-width: 2; stroke-linecap: square\"/>\n   </g>\n   <g id=\"line2d_14\">\n    <path d=\"M 180.576 276.334125 \nL 180.576 34.414125 \n\" clip-path=\"url(#p1e9c81f53f)\" style=\"fill: none; stroke: #000000; stroke-width: 2; stroke-linecap: square\"/>\n   </g>\n   <g id=\"line2d_15\">\n    <path d=\"M 19.296 88.174125 \nL 261.216 88.174125 \n\" clip-path=\"url(#p1e9c81f53f)\" style=\"fill: none; stroke: #000000; stroke-linecap: square\"/>\n   </g>\n   <g id=\"line2d_16\">\n    <path d=\"M 207.456 276.334125 \nL 207.456 34.414125 \n\" clip-path=\"url(#p1e9c81f53f)\" style=\"fill: none; stroke: #000000; stroke-linecap: square\"/>\n   </g>\n   <g id=\"line2d_17\">\n    <path d=\"M 19.296 61.294125 \nL 261.216 61.294125 \n\" clip-path=\"url(#p1e9c81f53f)\" style=\"fill: none; stroke: #000000; stroke-linecap: square\"/>\n   </g>\n   <g id=\"line2d_18\">\n    <path d=\"M 234.336 276.334125 \nL 234.336 34.414125 \n\" clip-path=\"url(#p1e9c81f53f)\" style=\"fill: none; stroke: #000000; stroke-linecap: square\"/>\n   </g>\n   <g id=\"line2d_19\">\n    <path d=\"M 19.296 34.414125 \nL 261.216 34.414125 \n\" clip-path=\"url(#p1e9c81f53f)\" style=\"fill: none; stroke: #000000; stroke-width: 2; stroke-linecap: square\"/>\n   </g>\n   <g id=\"line2d_20\">\n    <path d=\"M 261.216 276.334125 \nL 261.216 34.414125 \n\" clip-path=\"url(#p1e9c81f53f)\" style=\"fill: none; stroke: #000000; stroke-width: 2; stroke-linecap: square\"/>\n   </g>\n   <g id=\"text_1\">\n    <!-- 1 -->\n    <g style=\"fill: #808080\" transform=\"translate(28.9185 51.165375) scale(0.12 -0.12)\">\n     <defs>\n      <path id=\"DejaVuSans-31\" d=\"M 794 531 \nL 1825 531 \nL 1825 4091 \nL 703 3866 \nL 703 4441 \nL 1819 4666 \nL 2450 4666 \nL 2450 531 \nL 3481 531 \nL 3481 0 \nL 794 0 \nL 794 531 \nz\n\" transform=\"scale(0.015625)\"/>\n     </defs>\n     <use xlink:href=\"#DejaVuSans-31\"/>\n    </g>\n   </g>\n   <g id=\"text_2\">\n    <!-- 2 -->\n    <g style=\"fill: #808080\" transform=\"translate(55.441312 51.165375) scale(0.12 -0.12)\">\n     <defs>\n      <path id=\"DejaVuSans-Bold-32\" d=\"M 1844 884 \nL 3897 884 \nL 3897 0 \nL 506 0 \nL 506 884 \nL 2209 2388 \nQ 2438 2594 2547 2791 \nQ 2656 2988 2656 3200 \nQ 2656 3528 2436 3728 \nQ 2216 3928 1850 3928 \nQ 1569 3928 1234 3808 \nQ 900 3688 519 3450 \nL 519 4475 \nQ 925 4609 1322 4679 \nQ 1719 4750 2100 4750 \nQ 2938 4750 3402 4381 \nQ 3866 4013 3866 3353 \nQ 3866 2972 3669 2642 \nQ 3472 2313 2841 1759 \nL 1844 884 \nz\n\" transform=\"scale(0.015625)\"/>\n     </defs>\n     <use xlink:href=\"#DejaVuSans-Bold-32\"/>\n    </g>\n   </g>\n   <g id=\"text_3\">\n    <!-- 6 -->\n    <g style=\"fill: #808080\" transform=\"translate(82.6785 51.165375) scale(0.12 -0.12)\">\n     <defs>\n      <path id=\"DejaVuSans-36\" d=\"M 2113 2584 \nQ 1688 2584 1439 2293 \nQ 1191 2003 1191 1497 \nQ 1191 994 1439 701 \nQ 1688 409 2113 409 \nQ 2538 409 2786 701 \nQ 3034 994 3034 1497 \nQ 3034 2003 2786 2293 \nQ 2538 2584 2113 2584 \nz\nM 3366 4563 \nL 3366 3988 \nQ 3128 4100 2886 4159 \nQ 2644 4219 2406 4219 \nQ 1781 4219 1451 3797 \nQ 1122 3375 1075 2522 \nQ 1259 2794 1537 2939 \nQ 1816 3084 2150 3084 \nQ 2853 3084 3261 2657 \nQ 3669 2231 3669 1497 \nQ 3669 778 3244 343 \nQ 2819 -91 2113 -91 \nQ 1303 -91 875 529 \nQ 447 1150 447 2328 \nQ 447 3434 972 4092 \nQ 1497 4750 2381 4750 \nQ 2619 4750 2861 4703 \nQ 3103 4656 3366 4563 \nz\n\" transform=\"scale(0.015625)\"/>\n     </defs>\n     <use xlink:href=\"#DejaVuSans-36\"/>\n    </g>\n   </g>\n   <g id=\"text_4\">\n    <!-- 4 -->\n    <g style=\"fill: #808080\" transform=\"translate(109.5585 51.165375) scale(0.12 -0.12)\">\n     <defs>\n      <path id=\"DejaVuSans-34\" d=\"M 2419 4116 \nL 825 1625 \nL 2419 1625 \nL 2419 4116 \nz\nM 2253 4666 \nL 3047 4666 \nL 3047 1625 \nL 3713 1625 \nL 3713 1100 \nL 3047 1100 \nL 3047 0 \nL 2419 0 \nL 2419 1100 \nL 313 1100 \nL 313 1709 \nL 2253 4666 \nz\n\" transform=\"scale(0.015625)\"/>\n     </defs>\n     <use xlink:href=\"#DejaVuSans-34\"/>\n    </g>\n   </g>\n   <g id=\"text_5\">\n    <!-- 3 -->\n    <g style=\"fill: #808080\" transform=\"translate(136.4385 51.165375) scale(0.12 -0.12)\">\n     <defs>\n      <path id=\"DejaVuSans-33\" d=\"M 2597 2516 \nQ 3050 2419 3304 2112 \nQ 3559 1806 3559 1356 \nQ 3559 666 3084 287 \nQ 2609 -91 1734 -91 \nQ 1441 -91 1130 -33 \nQ 819 25 488 141 \nL 488 750 \nQ 750 597 1062 519 \nQ 1375 441 1716 441 \nQ 2309 441 2620 675 \nQ 2931 909 2931 1356 \nQ 2931 1769 2642 2001 \nQ 2353 2234 1838 2234 \nL 1294 2234 \nL 1294 2753 \nL 1863 2753 \nQ 2328 2753 2575 2939 \nQ 2822 3125 2822 3475 \nQ 2822 3834 2567 4026 \nQ 2313 4219 1838 4219 \nQ 1578 4219 1281 4162 \nQ 984 4106 628 3988 \nL 628 4550 \nQ 988 4650 1302 4700 \nQ 1616 4750 1894 4750 \nQ 2613 4750 3031 4423 \nQ 3450 4097 3450 3541 \nQ 3450 3153 3228 2886 \nQ 3006 2619 2597 2516 \nz\n\" transform=\"scale(0.015625)\"/>\n     </defs>\n     <use xlink:href=\"#DejaVuSans-33\"/>\n    </g>\n   </g>\n   <g id=\"text_6\">\n    <!-- 7 -->\n    <g style=\"fill: #808080\" transform=\"translate(163.3185 51.165375) scale(0.12 -0.12)\">\n     <defs>\n      <path id=\"DejaVuSans-37\" d=\"M 525 4666 \nL 3525 4666 \nL 3525 4397 \nL 1831 0 \nL 1172 0 \nL 2766 4134 \nL 525 4134 \nL 525 4666 \nz\n\" transform=\"scale(0.015625)\"/>\n     </defs>\n     <use xlink:href=\"#DejaVuSans-37\"/>\n    </g>\n   </g>\n   <g id=\"text_7\">\n    <!-- 9 -->\n    <g style=\"fill: #808080\" transform=\"translate(190.1985 51.165375) scale(0.12 -0.12)\">\n     <defs>\n      <path id=\"DejaVuSans-39\" d=\"M 703 97 \nL 703 672 \nQ 941 559 1184 500 \nQ 1428 441 1663 441 \nQ 2288 441 2617 861 \nQ 2947 1281 2994 2138 \nQ 2813 1869 2534 1725 \nQ 2256 1581 1919 1581 \nQ 1219 1581 811 2004 \nQ 403 2428 403 3163 \nQ 403 3881 828 4315 \nQ 1253 4750 1959 4750 \nQ 2769 4750 3195 4129 \nQ 3622 3509 3622 2328 \nQ 3622 1225 3098 567 \nQ 2575 -91 1691 -91 \nQ 1453 -91 1209 -44 \nQ 966 3 703 97 \nz\nM 1959 2075 \nQ 2384 2075 2632 2365 \nQ 2881 2656 2881 3163 \nQ 2881 3666 2632 3958 \nQ 2384 4250 1959 4250 \nQ 1534 4250 1286 3958 \nQ 1038 3666 1038 3163 \nQ 1038 2656 1286 2365 \nQ 1534 2075 1959 2075 \nz\n\" transform=\"scale(0.015625)\"/>\n     </defs>\n     <use xlink:href=\"#DejaVuSans-39\"/>\n    </g>\n   </g>\n   <g id=\"text_8\">\n    <!-- 5 -->\n    <g style=\"fill: #808080\" transform=\"translate(217.0785 51.165375) scale(0.12 -0.12)\">\n     <defs>\n      <path id=\"DejaVuSans-35\" d=\"M 691 4666 \nL 3169 4666 \nL 3169 4134 \nL 1269 4134 \nL 1269 2991 \nQ 1406 3038 1543 3061 \nQ 1681 3084 1819 3084 \nQ 2600 3084 3056 2656 \nQ 3513 2228 3513 1497 \nQ 3513 744 3044 326 \nQ 2575 -91 1722 -91 \nQ 1428 -91 1123 -41 \nQ 819 9 494 109 \nL 494 744 \nQ 775 591 1075 516 \nQ 1375 441 1709 441 \nQ 2250 441 2565 725 \nQ 2881 1009 2881 1497 \nQ 2881 1984 2565 2268 \nQ 2250 2553 1709 2553 \nQ 1456 2553 1204 2497 \nQ 953 2441 691 2322 \nL 691 4666 \nz\n\" transform=\"scale(0.015625)\"/>\n     </defs>\n     <use xlink:href=\"#DejaVuSans-35\"/>\n    </g>\n   </g>\n   <g id=\"text_9\">\n    <!-- 8 -->\n    <g style=\"fill: #808080\" transform=\"translate(243.9585 51.165375) scale(0.12 -0.12)\">\n     <defs>\n      <path id=\"DejaVuSans-38\" d=\"M 2034 2216 \nQ 1584 2216 1326 1975 \nQ 1069 1734 1069 1313 \nQ 1069 891 1326 650 \nQ 1584 409 2034 409 \nQ 2484 409 2743 651 \nQ 3003 894 3003 1313 \nQ 3003 1734 2745 1975 \nQ 2488 2216 2034 2216 \nz\nM 1403 2484 \nQ 997 2584 770 2862 \nQ 544 3141 544 3541 \nQ 544 4100 942 4425 \nQ 1341 4750 2034 4750 \nQ 2731 4750 3128 4425 \nQ 3525 4100 3525 3541 \nQ 3525 3141 3298 2862 \nQ 3072 2584 2669 2484 \nQ 3125 2378 3379 2068 \nQ 3634 1759 3634 1313 \nQ 3634 634 3220 271 \nQ 2806 -91 2034 -91 \nQ 1263 -91 848 271 \nQ 434 634 434 1313 \nQ 434 1759 690 2068 \nQ 947 2378 1403 2484 \nz\nM 1172 3481 \nQ 1172 3119 1398 2916 \nQ 1625 2713 2034 2713 \nQ 2441 2713 2670 2916 \nQ 2900 3119 2900 3481 \nQ 2900 3844 2670 4047 \nQ 2441 4250 2034 4250 \nQ 1625 4250 1398 4047 \nQ 1172 3844 1172 3481 \nz\n\" transform=\"scale(0.015625)\"/>\n     </defs>\n     <use xlink:href=\"#DejaVuSans-38\"/>\n    </g>\n   </g>\n   <g id=\"text_10\">\n    <!-- 8 -->\n    <g style=\"fill: #808080\" transform=\"translate(28.9185 78.045375) scale(0.12 -0.12)\">\n     <use xlink:href=\"#DejaVuSans-38\"/>\n    </g>\n   </g>\n   <g id=\"text_11\">\n    <!-- 9 -->\n    <g style=\"fill: #808080\" transform=\"translate(55.7985 78.045375) scale(0.12 -0.12)\">\n     <use xlink:href=\"#DejaVuSans-39\"/>\n    </g>\n   </g>\n   <g id=\"text_12\">\n    <!-- 5 -->\n    <g style=\"fill: #808080\" transform=\"translate(82.6785 78.045375) scale(0.12 -0.12)\">\n     <use xlink:href=\"#DejaVuSans-35\"/>\n    </g>\n   </g>\n   <g id=\"text_13\">\n    <!-- 6 -->\n    <g style=\"fill: #808080\" transform=\"translate(109.201312 78.045375) scale(0.12 -0.12)\">\n     <defs>\n      <path id=\"DejaVuSans-Bold-36\" d=\"M 2316 2303 \nQ 2000 2303 1842 2098 \nQ 1684 1894 1684 1484 \nQ 1684 1075 1842 870 \nQ 2000 666 2316 666 \nQ 2634 666 2792 870 \nQ 2950 1075 2950 1484 \nQ 2950 1894 2792 2098 \nQ 2634 2303 2316 2303 \nz\nM 3803 4544 \nL 3803 3681 \nQ 3506 3822 3243 3889 \nQ 2981 3956 2731 3956 \nQ 2194 3956 1894 3657 \nQ 1594 3359 1544 2772 \nQ 1750 2925 1990 3001 \nQ 2231 3078 2516 3078 \nQ 3231 3078 3670 2659 \nQ 4109 2241 4109 1563 \nQ 4109 813 3618 361 \nQ 3128 -91 2303 -91 \nQ 1394 -91 895 523 \nQ 397 1138 397 2266 \nQ 397 3422 980 4083 \nQ 1563 4744 2578 4744 \nQ 2900 4744 3203 4694 \nQ 3506 4644 3803 4544 \nz\n\" transform=\"scale(0.015625)\"/>\n     </defs>\n     <use xlink:href=\"#DejaVuSans-Bold-36\"/>\n    </g>\n   </g>\n   <g id=\"text_14\">\n    <!-- 2 -->\n    <g style=\"fill: #808080\" transform=\"translate(136.4385 78.045375) scale(0.12 -0.12)\">\n     <defs>\n      <path id=\"DejaVuSans-32\" d=\"M 1228 531 \nL 3431 531 \nL 3431 0 \nL 469 0 \nL 469 531 \nQ 828 903 1448 1529 \nQ 2069 2156 2228 2338 \nQ 2531 2678 2651 2914 \nQ 2772 3150 2772 3378 \nQ 2772 3750 2511 3984 \nQ 2250 4219 1831 4219 \nQ 1534 4219 1204 4116 \nQ 875 4013 500 3803 \nL 500 4441 \nQ 881 4594 1212 4672 \nQ 1544 4750 1819 4750 \nQ 2544 4750 2975 4387 \nQ 3406 4025 3406 3419 \nQ 3406 3131 3298 2873 \nQ 3191 2616 2906 2266 \nQ 2828 2175 2409 1742 \nQ 1991 1309 1228 531 \nz\n\" transform=\"scale(0.015625)\"/>\n     </defs>\n     <use xlink:href=\"#DejaVuSans-32\"/>\n    </g>\n   </g>\n   <g id=\"text_15\">\n    <!-- 1 -->\n    <g style=\"fill: #808080\" transform=\"translate(163.3185 78.045375) scale(0.12 -0.12)\">\n     <use xlink:href=\"#DejaVuSans-31\"/>\n    </g>\n   </g>\n   <g id=\"text_16\">\n    <!-- 4 -->\n    <g style=\"fill: #808080\" transform=\"translate(190.1985 78.045375) scale(0.12 -0.12)\">\n     <use xlink:href=\"#DejaVuSans-34\"/>\n    </g>\n   </g>\n   <g id=\"text_17\">\n    <!-- 7 -->\n    <g style=\"fill: #808080\" transform=\"translate(217.0785 78.045375) scale(0.12 -0.12)\">\n     <use xlink:href=\"#DejaVuSans-37\"/>\n    </g>\n   </g>\n   <g id=\"text_18\">\n    <!-- 3 -->\n    <g style=\"fill: #808080\" transform=\"translate(243.601312 78.045375) scale(0.12 -0.12)\">\n     <defs>\n      <path id=\"DejaVuSans-Bold-33\" d=\"M 2981 2516 \nQ 3453 2394 3698 2092 \nQ 3944 1791 3944 1325 \nQ 3944 631 3412 270 \nQ 2881 -91 1863 -91 \nQ 1503 -91 1142 -33 \nQ 781 25 428 141 \nL 428 1069 \nQ 766 900 1098 814 \nQ 1431 728 1753 728 \nQ 2231 728 2486 893 \nQ 2741 1059 2741 1369 \nQ 2741 1688 2480 1852 \nQ 2219 2016 1709 2016 \nL 1228 2016 \nL 1228 2791 \nL 1734 2791 \nQ 2188 2791 2409 2933 \nQ 2631 3075 2631 3366 \nQ 2631 3634 2415 3781 \nQ 2200 3928 1806 3928 \nQ 1516 3928 1219 3862 \nQ 922 3797 628 3669 \nL 628 4550 \nQ 984 4650 1334 4700 \nQ 1684 4750 2022 4750 \nQ 2931 4750 3382 4451 \nQ 3834 4153 3834 3553 \nQ 3834 3144 3618 2883 \nQ 3403 2622 2981 2516 \nz\n\" transform=\"scale(0.015625)\"/>\n     </defs>\n     <use xlink:href=\"#DejaVuSans-Bold-33\"/>\n    </g>\n   </g>\n   <g id=\"text_19\">\n    <!-- 3 -->\n    <g style=\"fill: #808080\" transform=\"translate(28.9185 104.925375) scale(0.12 -0.12)\">\n     <use xlink:href=\"#DejaVuSans-33\"/>\n    </g>\n   </g>\n   <g id=\"text_20\">\n    <!-- 7 -->\n    <g style=\"fill: #808080\" transform=\"translate(55.441312 104.925375) scale(0.12 -0.12)\">\n     <defs>\n      <path id=\"DejaVuSans-Bold-37\" d=\"M 428 4666 \nL 3944 4666 \nL 3944 3988 \nL 2125 0 \nL 953 0 \nL 2675 3781 \nL 428 3781 \nL 428 4666 \nz\n\" transform=\"scale(0.015625)\"/>\n     </defs>\n     <use xlink:href=\"#DejaVuSans-Bold-37\"/>\n    </g>\n   </g>\n   <g id=\"text_21\">\n    <!-- 4 -->\n    <g style=\"fill: #808080\" transform=\"translate(82.321312 104.925375) scale(0.12 -0.12)\">\n     <defs>\n      <path id=\"DejaVuSans-Bold-34\" d=\"M 2356 3675 \nL 1038 1722 \nL 2356 1722 \nL 2356 3675 \nz\nM 2156 4666 \nL 3494 4666 \nL 3494 1722 \nL 4159 1722 \nL 4159 850 \nL 3494 850 \nL 3494 0 \nL 2356 0 \nL 2356 850 \nL 288 850 \nL 288 1881 \nL 2156 4666 \nz\n\" transform=\"scale(0.015625)\"/>\n     </defs>\n     <use xlink:href=\"#DejaVuSans-Bold-34\"/>\n    </g>\n   </g>\n   <g id=\"text_22\">\n    <!-- 9 -->\n    <g style=\"fill: #808080\" transform=\"translate(109.5585 104.925375) scale(0.12 -0.12)\">\n     <use xlink:href=\"#DejaVuSans-39\"/>\n    </g>\n   </g>\n   <g id=\"text_23\">\n    <!-- 8 -->\n    <g style=\"fill: #808080\" transform=\"translate(136.081312 104.925375) scale(0.12 -0.12)\">\n     <defs>\n      <path id=\"DejaVuSans-Bold-38\" d=\"M 2228 2088 \nQ 1891 2088 1709 1903 \nQ 1528 1719 1528 1375 \nQ 1528 1031 1709 848 \nQ 1891 666 2228 666 \nQ 2563 666 2741 848 \nQ 2919 1031 2919 1375 \nQ 2919 1722 2741 1905 \nQ 2563 2088 2228 2088 \nz\nM 1350 2484 \nQ 925 2613 709 2878 \nQ 494 3144 494 3541 \nQ 494 4131 934 4440 \nQ 1375 4750 2228 4750 \nQ 3075 4750 3515 4442 \nQ 3956 4134 3956 3541 \nQ 3956 3144 3739 2878 \nQ 3522 2613 3097 2484 \nQ 3572 2353 3814 2058 \nQ 4056 1763 4056 1313 \nQ 4056 619 3595 264 \nQ 3134 -91 2228 -91 \nQ 1319 -91 855 264 \nQ 391 619 391 1313 \nQ 391 1763 633 2058 \nQ 875 2353 1350 2484 \nz\nM 1631 3419 \nQ 1631 3141 1786 2991 \nQ 1941 2841 2228 2841 \nQ 2509 2841 2662 2991 \nQ 2816 3141 2816 3419 \nQ 2816 3697 2662 3845 \nQ 2509 3994 2228 3994 \nQ 1941 3994 1786 3844 \nQ 1631 3694 1631 3419 \nz\n\" transform=\"scale(0.015625)\"/>\n     </defs>\n     <use xlink:href=\"#DejaVuSans-Bold-38\"/>\n    </g>\n   </g>\n   <g id=\"text_24\">\n    <!-- 5 -->\n    <g style=\"fill: #808080\" transform=\"translate(163.3185 104.925375) scale(0.12 -0.12)\">\n     <use xlink:href=\"#DejaVuSans-35\"/>\n    </g>\n   </g>\n   <g id=\"text_25\">\n    <!-- 1 -->\n    <g style=\"fill: #808080\" transform=\"translate(190.1985 104.925375) scale(0.12 -0.12)\">\n     <use xlink:href=\"#DejaVuSans-31\"/>\n    </g>\n   </g>\n   <g id=\"text_26\">\n    <!-- 2 -->\n    <g style=\"fill: #808080\" transform=\"translate(217.0785 104.925375) scale(0.12 -0.12)\">\n     <use xlink:href=\"#DejaVuSans-32\"/>\n    </g>\n   </g>\n   <g id=\"text_27\">\n    <!-- 6 -->\n    <g style=\"fill: #808080\" transform=\"translate(243.9585 104.925375) scale(0.12 -0.12)\">\n     <use xlink:href=\"#DejaVuSans-36\"/>\n    </g>\n   </g>\n   <g id=\"text_28\">\n    <!-- 4 -->\n    <g style=\"fill: #808080\" transform=\"translate(28.9185 131.805375) scale(0.12 -0.12)\">\n     <use xlink:href=\"#DejaVuSans-34\"/>\n    </g>\n   </g>\n   <g id=\"text_29\">\n    <!-- 5 -->\n    <g style=\"fill: #808080\" transform=\"translate(55.7985 131.805375) scale(0.12 -0.12)\">\n     <use xlink:href=\"#DejaVuSans-35\"/>\n    </g>\n   </g>\n   <g id=\"text_30\">\n    <!-- 7 -->\n    <g style=\"fill: #808080\" transform=\"translate(82.6785 131.805375) scale(0.12 -0.12)\">\n     <use xlink:href=\"#DejaVuSans-37\"/>\n    </g>\n   </g>\n   <g id=\"text_31\">\n    <!-- 1 -->\n    <g style=\"fill: #808080\" transform=\"translate(109.5585 131.805375) scale(0.12 -0.12)\">\n     <use xlink:href=\"#DejaVuSans-31\"/>\n    </g>\n   </g>\n   <g id=\"text_32\">\n    <!-- 9 -->\n    <g style=\"fill: #808080\" transform=\"translate(136.4385 131.805375) scale(0.12 -0.12)\">\n     <use xlink:href=\"#DejaVuSans-39\"/>\n    </g>\n   </g>\n   <g id=\"text_33\">\n    <!-- 3 -->\n    <g style=\"fill: #808080\" transform=\"translate(162.961312 131.805375) scale(0.12 -0.12)\">\n     <use xlink:href=\"#DejaVuSans-Bold-33\"/>\n    </g>\n   </g>\n   <g id=\"text_34\">\n    <!-- 8 -->\n    <g style=\"fill: #808080\" transform=\"translate(190.1985 131.805375) scale(0.12 -0.12)\">\n     <use xlink:href=\"#DejaVuSans-38\"/>\n    </g>\n   </g>\n   <g id=\"text_35\">\n    <!-- 6 -->\n    <g style=\"fill: #808080\" transform=\"translate(217.0785 131.805375) scale(0.12 -0.12)\">\n     <use xlink:href=\"#DejaVuSans-36\"/>\n    </g>\n   </g>\n   <g id=\"text_36\">\n    <!-- 2 -->\n    <g style=\"fill: #808080\" transform=\"translate(243.601312 131.805375) scale(0.12 -0.12)\">\n     <use xlink:href=\"#DejaVuSans-Bold-32\"/>\n    </g>\n   </g>\n   <g id=\"text_37\">\n    <!-- 9 -->\n    <g style=\"fill: #808080\" transform=\"translate(28.9185 158.685375) scale(0.12 -0.12)\">\n     <use xlink:href=\"#DejaVuSans-39\"/>\n    </g>\n   </g>\n   <g id=\"text_38\">\n    <!-- 8 -->\n    <g style=\"fill: #808080\" transform=\"translate(55.441312 158.685375) scale(0.12 -0.12)\">\n     <use xlink:href=\"#DejaVuSans-Bold-38\"/>\n    </g>\n   </g>\n   <g id=\"text_39\">\n    <!-- 3 -->\n    <g style=\"fill: #808080\" transform=\"translate(82.6785 158.685375) scale(0.12 -0.12)\">\n     <use xlink:href=\"#DejaVuSans-33\"/>\n    </g>\n   </g>\n   <g id=\"text_40\">\n    <!-- 2 -->\n    <g style=\"fill: #808080\" transform=\"translate(109.5585 158.685375) scale(0.12 -0.12)\">\n     <use xlink:href=\"#DejaVuSans-32\"/>\n    </g>\n   </g>\n   <g id=\"text_41\">\n    <!-- 4 -->\n    <g style=\"fill: #808080\" transform=\"translate(136.081312 158.685375) scale(0.12 -0.12)\">\n     <use xlink:href=\"#DejaVuSans-Bold-34\"/>\n    </g>\n   </g>\n   <g id=\"text_42\">\n    <!-- 6 -->\n    <g style=\"fill: #808080\" transform=\"translate(163.3185 158.685375) scale(0.12 -0.12)\">\n     <use xlink:href=\"#DejaVuSans-36\"/>\n    </g>\n   </g>\n   <g id=\"text_43\">\n    <!-- 5 -->\n    <g style=\"fill: #808080\" transform=\"translate(190.1985 158.685375) scale(0.12 -0.12)\">\n     <use xlink:href=\"#DejaVuSans-35\"/>\n    </g>\n   </g>\n   <g id=\"text_44\">\n    <!-- 1 -->\n    <g style=\"fill: #808080\" transform=\"translate(216.721312 158.685375) scale(0.12 -0.12)\">\n     <defs>\n      <path id=\"DejaVuSans-Bold-31\" d=\"M 750 831 \nL 1813 831 \nL 1813 3847 \nL 722 3622 \nL 722 4441 \nL 1806 4666 \nL 2950 4666 \nL 2950 831 \nL 4013 831 \nL 4013 0 \nL 750 0 \nL 750 831 \nz\n\" transform=\"scale(0.015625)\"/>\n     </defs>\n     <use xlink:href=\"#DejaVuSans-Bold-31\"/>\n    </g>\n   </g>\n   <g id=\"text_45\">\n    <!-- 7 -->\n    <g style=\"fill: #808080\" transform=\"translate(243.9585 158.685375) scale(0.12 -0.12)\">\n     <use xlink:href=\"#DejaVuSans-37\"/>\n    </g>\n   </g>\n   <g id=\"text_46\">\n    <!-- 6 -->\n    <g style=\"fill: #808080\" transform=\"translate(28.561312 185.565375) scale(0.12 -0.12)\">\n     <use xlink:href=\"#DejaVuSans-Bold-36\"/>\n    </g>\n   </g>\n   <g id=\"text_47\">\n    <!-- 1 -->\n    <g style=\"fill: #808080\" transform=\"translate(55.7985 185.565375) scale(0.12 -0.12)\">\n     <use xlink:href=\"#DejaVuSans-31\"/>\n    </g>\n   </g>\n   <g id=\"text_48\">\n    <!-- 2 -->\n    <g style=\"fill: #808080\" transform=\"translate(82.6785 185.565375) scale(0.12 -0.12)\">\n     <use xlink:href=\"#DejaVuSans-32\"/>\n    </g>\n   </g>\n   <g id=\"text_49\">\n    <!-- 5 -->\n    <g style=\"fill: #808080\" transform=\"translate(109.201312 185.565375) scale(0.12 -0.12)\">\n     <defs>\n      <path id=\"DejaVuSans-Bold-35\" d=\"M 678 4666 \nL 3669 4666 \nL 3669 3781 \nL 1638 3781 \nL 1638 3059 \nQ 1775 3097 1914 3117 \nQ 2053 3138 2203 3138 \nQ 3056 3138 3531 2711 \nQ 4006 2284 4006 1522 \nQ 4006 766 3489 337 \nQ 2972 -91 2053 -91 \nQ 1656 -91 1267 -14 \nQ 878 63 494 219 \nL 494 1166 \nQ 875 947 1217 837 \nQ 1559 728 1863 728 \nQ 2300 728 2551 942 \nQ 2803 1156 2803 1522 \nQ 2803 1891 2551 2103 \nQ 2300 2316 1863 2316 \nQ 1603 2316 1309 2248 \nQ 1016 2181 678 2041 \nL 678 4666 \nz\n\" transform=\"scale(0.015625)\"/>\n     </defs>\n     <use xlink:href=\"#DejaVuSans-Bold-35\"/>\n    </g>\n   </g>\n   <g id=\"text_50\">\n    <!-- 7 -->\n    <g style=\"fill: #808080\" transform=\"translate(136.4385 185.565375) scale(0.12 -0.12)\">\n     <use xlink:href=\"#DejaVuSans-37\"/>\n    </g>\n   </g>\n   <g id=\"text_51\">\n    <!-- 8 -->\n    <g style=\"fill: #808080\" transform=\"translate(163.3185 185.565375) scale(0.12 -0.12)\">\n     <use xlink:href=\"#DejaVuSans-38\"/>\n    </g>\n   </g>\n   <g id=\"text_52\">\n    <!-- 3 -->\n    <g style=\"fill: #808080\" transform=\"translate(190.1985 185.565375) scale(0.12 -0.12)\">\n     <use xlink:href=\"#DejaVuSans-33\"/>\n    </g>\n   </g>\n   <g id=\"text_53\">\n    <!-- 9 -->\n    <g style=\"fill: #808080\" transform=\"translate(217.0785 185.565375) scale(0.12 -0.12)\">\n     <use xlink:href=\"#DejaVuSans-39\"/>\n    </g>\n   </g>\n   <g id=\"text_54\">\n    <!-- 4 -->\n    <g style=\"fill: #808080\" transform=\"translate(243.9585 185.565375) scale(0.12 -0.12)\">\n     <use xlink:href=\"#DejaVuSans-34\"/>\n    </g>\n   </g>\n   <g id=\"text_55\">\n    <!-- 2 -->\n    <g style=\"fill: #808080\" transform=\"translate(28.9185 212.445375) scale(0.12 -0.12)\">\n     <use xlink:href=\"#DejaVuSans-32\"/>\n    </g>\n   </g>\n   <g id=\"text_56\">\n    <!-- 6 -->\n    <g style=\"fill: #808080\" transform=\"translate(55.7985 212.445375) scale(0.12 -0.12)\">\n     <use xlink:href=\"#DejaVuSans-36\"/>\n    </g>\n   </g>\n   <g id=\"text_57\">\n    <!-- 9 -->\n    <g style=\"fill: #808080\" transform=\"translate(82.6785 212.445375) scale(0.12 -0.12)\">\n     <use xlink:href=\"#DejaVuSans-39\"/>\n    </g>\n   </g>\n   <g id=\"text_58\">\n    <!-- 3 -->\n    <g style=\"fill: #808080\" transform=\"translate(109.5585 212.445375) scale(0.12 -0.12)\">\n     <use xlink:href=\"#DejaVuSans-33\"/>\n    </g>\n   </g>\n   <g id=\"text_59\">\n    <!-- 1 -->\n    <g style=\"fill: #808080\" transform=\"translate(136.081312 212.445375) scale(0.12 -0.12)\">\n     <use xlink:href=\"#DejaVuSans-Bold-31\"/>\n    </g>\n   </g>\n   <g id=\"text_60\">\n    <!-- 4 -->\n    <g style=\"fill: #808080\" transform=\"translate(163.3185 212.445375) scale(0.12 -0.12)\">\n     <use xlink:href=\"#DejaVuSans-34\"/>\n    </g>\n   </g>\n   <g id=\"text_61\">\n    <!-- 7 -->\n    <g style=\"fill: #808080\" transform=\"translate(189.841312 212.445375) scale(0.12 -0.12)\">\n     <use xlink:href=\"#DejaVuSans-Bold-37\"/>\n    </g>\n   </g>\n   <g id=\"text_62\">\n    <!-- 8 -->\n    <g style=\"fill: #808080\" transform=\"translate(216.721312 212.445375) scale(0.12 -0.12)\">\n     <use xlink:href=\"#DejaVuSans-Bold-38\"/>\n    </g>\n   </g>\n   <g id=\"text_63\">\n    <!-- 5 -->\n    <g style=\"fill: #808080\" transform=\"translate(243.9585 212.445375) scale(0.12 -0.12)\">\n     <use xlink:href=\"#DejaVuSans-35\"/>\n    </g>\n   </g>\n   <g id=\"text_64\">\n    <!-- 5 -->\n    <g style=\"fill: #808080\" transform=\"translate(28.561312 239.325375) scale(0.12 -0.12)\">\n     <use xlink:href=\"#DejaVuSans-Bold-35\"/>\n    </g>\n   </g>\n   <g id=\"text_65\">\n    <!-- 4 -->\n    <g style=\"fill: #808080\" transform=\"translate(55.7985 239.325375) scale(0.12 -0.12)\">\n     <use xlink:href=\"#DejaVuSans-34\"/>\n    </g>\n   </g>\n   <g id=\"text_66\">\n    <!-- 8 -->\n    <g style=\"fill: #808080\" transform=\"translate(82.6785 239.325375) scale(0.12 -0.12)\">\n     <use xlink:href=\"#DejaVuSans-38\"/>\n    </g>\n   </g>\n   <g id=\"text_67\">\n    <!-- 7 -->\n    <g style=\"fill: #808080\" transform=\"translate(109.5585 239.325375) scale(0.12 -0.12)\">\n     <use xlink:href=\"#DejaVuSans-37\"/>\n    </g>\n   </g>\n   <g id=\"text_68\">\n    <!-- 6 -->\n    <g style=\"fill: #808080\" transform=\"translate(136.4385 239.325375) scale(0.12 -0.12)\">\n     <use xlink:href=\"#DejaVuSans-36\"/>\n    </g>\n   </g>\n   <g id=\"text_69\">\n    <!-- 9 -->\n    <g style=\"fill: #808080\" transform=\"translate(162.961312 239.325375) scale(0.12 -0.12)\">\n     <defs>\n      <path id=\"DejaVuSans-Bold-39\" d=\"M 641 103 \nL 641 966 \nQ 928 831 1190 764 \nQ 1453 697 1709 697 \nQ 2247 697 2547 995 \nQ 2847 1294 2900 1881 \nQ 2688 1725 2447 1647 \nQ 2206 1569 1925 1569 \nQ 1209 1569 770 1986 \nQ 331 2403 331 3084 \nQ 331 3838 820 4291 \nQ 1309 4744 2131 4744 \nQ 3044 4744 3544 4128 \nQ 4044 3513 4044 2388 \nQ 4044 1231 3459 570 \nQ 2875 -91 1856 -91 \nQ 1528 -91 1228 -42 \nQ 928 6 641 103 \nz\nM 2125 2350 \nQ 2441 2350 2600 2554 \nQ 2759 2759 2759 3169 \nQ 2759 3575 2600 3781 \nQ 2441 3988 2125 3988 \nQ 1809 3988 1650 3781 \nQ 1491 3575 1491 3169 \nQ 1491 2759 1650 2554 \nQ 1809 2350 2125 2350 \nz\n\" transform=\"scale(0.015625)\"/>\n     </defs>\n     <use xlink:href=\"#DejaVuSans-Bold-39\"/>\n    </g>\n   </g>\n   <g id=\"text_70\">\n    <!-- 2 -->\n    <g style=\"fill: #808080\" transform=\"translate(190.1985 239.325375) scale(0.12 -0.12)\">\n     <use xlink:href=\"#DejaVuSans-32\"/>\n    </g>\n   </g>\n   <g id=\"text_71\">\n    <!-- 3 -->\n    <g style=\"fill: #808080\" transform=\"translate(217.0785 239.325375) scale(0.12 -0.12)\">\n     <use xlink:href=\"#DejaVuSans-33\"/>\n    </g>\n   </g>\n   <g id=\"text_72\">\n    <!-- 1 -->\n    <g style=\"fill: #808080\" transform=\"translate(243.9585 239.325375) scale(0.12 -0.12)\">\n     <use xlink:href=\"#DejaVuSans-31\"/>\n    </g>\n   </g>\n   <g id=\"text_73\">\n    <!-- 7 -->\n    <g style=\"fill: #808080\" transform=\"translate(28.9185 266.205375) scale(0.12 -0.12)\">\n     <use xlink:href=\"#DejaVuSans-37\"/>\n    </g>\n   </g>\n   <g id=\"text_74\">\n    <!-- 3 -->\n    <g style=\"fill: #808080\" transform=\"translate(55.7985 266.205375) scale(0.12 -0.12)\">\n     <use xlink:href=\"#DejaVuSans-33\"/>\n    </g>\n   </g>\n   <g id=\"text_75\">\n    <!-- 1 -->\n    <g style=\"fill: #808080\" transform=\"translate(82.6785 266.205375) scale(0.12 -0.12)\">\n     <use xlink:href=\"#DejaVuSans-31\"/>\n    </g>\n   </g>\n   <g id=\"text_76\">\n    <!-- 8 -->\n    <g style=\"fill: #808080\" transform=\"translate(109.5585 266.205375) scale(0.12 -0.12)\">\n     <use xlink:href=\"#DejaVuSans-38\"/>\n    </g>\n   </g>\n   <g id=\"text_77\">\n    <!-- 5 -->\n    <g style=\"fill: #808080\" transform=\"translate(136.4385 266.205375) scale(0.12 -0.12)\">\n     <use xlink:href=\"#DejaVuSans-35\"/>\n    </g>\n   </g>\n   <g id=\"text_78\">\n    <!-- 2 -->\n    <g style=\"fill: #808080\" transform=\"translate(163.3185 266.205375) scale(0.12 -0.12)\">\n     <use xlink:href=\"#DejaVuSans-32\"/>\n    </g>\n   </g>\n   <g id=\"text_79\">\n    <!-- 6 -->\n    <g style=\"fill: #808080\" transform=\"translate(190.1985 266.205375) scale(0.12 -0.12)\">\n     <use xlink:href=\"#DejaVuSans-36\"/>\n    </g>\n   </g>\n   <g id=\"text_80\">\n    <!-- 4 -->\n    <g style=\"fill: #808080\" transform=\"translate(216.721312 266.205375) scale(0.12 -0.12)\">\n     <use xlink:href=\"#DejaVuSans-Bold-34\"/>\n    </g>\n   </g>\n   <g id=\"text_81\">\n    <!-- 9 -->\n    <g style=\"fill: #808080\" transform=\"translate(243.9585 266.205375) scale(0.12 -0.12)\">\n     <use xlink:href=\"#DejaVuSans-39\"/>\n    </g>\n   </g>\n   <g id=\"text_82\">\n    <!-- A hard problem solved -->\n    <g transform=\"translate(7.2 16.318125) scale(0.12 -0.12)\">\n     <defs>\n      <path id=\"DejaVuSans-Bold-41\" d=\"M 3419 850 \nL 1538 850 \nL 1241 0 \nL 31 0 \nL 1759 4666 \nL 3194 4666 \nL 4922 0 \nL 3713 0 \nL 3419 850 \nz\nM 1838 1716 \nL 3116 1716 \nL 2478 3572 \nL 1838 1716 \nz\n\" transform=\"scale(0.015625)\"/>\n      <path id=\"DejaVuSans-Bold-20\" transform=\"scale(0.015625)\"/>\n      <path id=\"DejaVuSans-Bold-68\" d=\"M 4056 2131 \nL 4056 0 \nL 2931 0 \nL 2931 347 \nL 2931 1625 \nQ 2931 2084 2911 2256 \nQ 2891 2428 2841 2509 \nQ 2775 2619 2662 2680 \nQ 2550 2741 2406 2741 \nQ 2056 2741 1856 2470 \nQ 1656 2200 1656 1722 \nL 1656 0 \nL 538 0 \nL 538 4863 \nL 1656 4863 \nL 1656 2988 \nQ 1909 3294 2193 3439 \nQ 2478 3584 2822 3584 \nQ 3428 3584 3742 3212 \nQ 4056 2841 4056 2131 \nz\n\" transform=\"scale(0.015625)\"/>\n      <path id=\"DejaVuSans-Bold-61\" d=\"M 2106 1575 \nQ 1756 1575 1579 1456 \nQ 1403 1338 1403 1106 \nQ 1403 894 1545 773 \nQ 1688 653 1941 653 \nQ 2256 653 2472 879 \nQ 2688 1106 2688 1447 \nL 2688 1575 \nL 2106 1575 \nz\nM 3816 1997 \nL 3816 0 \nL 2688 0 \nL 2688 519 \nQ 2463 200 2181 54 \nQ 1900 -91 1497 -91 \nQ 953 -91 614 226 \nQ 275 544 275 1050 \nQ 275 1666 698 1953 \nQ 1122 2241 2028 2241 \nL 2688 2241 \nL 2688 2328 \nQ 2688 2594 2478 2717 \nQ 2269 2841 1825 2841 \nQ 1466 2841 1156 2769 \nQ 847 2697 581 2553 \nL 581 3406 \nQ 941 3494 1303 3539 \nQ 1666 3584 2028 3584 \nQ 2975 3584 3395 3211 \nQ 3816 2838 3816 1997 \nz\n\" transform=\"scale(0.015625)\"/>\n      <path id=\"DejaVuSans-Bold-72\" d=\"M 3138 2547 \nQ 2991 2616 2845 2648 \nQ 2700 2681 2553 2681 \nQ 2122 2681 1889 2404 \nQ 1656 2128 1656 1613 \nL 1656 0 \nL 538 0 \nL 538 3500 \nL 1656 3500 \nL 1656 2925 \nQ 1872 3269 2151 3426 \nQ 2431 3584 2822 3584 \nQ 2878 3584 2943 3579 \nQ 3009 3575 3134 3559 \nL 3138 2547 \nz\n\" transform=\"scale(0.015625)\"/>\n      <path id=\"DejaVuSans-Bold-64\" d=\"M 2919 2988 \nL 2919 4863 \nL 4044 4863 \nL 4044 0 \nL 2919 0 \nL 2919 506 \nQ 2688 197 2409 53 \nQ 2131 -91 1766 -91 \nQ 1119 -91 703 423 \nQ 288 938 288 1747 \nQ 288 2556 703 3070 \nQ 1119 3584 1766 3584 \nQ 2128 3584 2408 3439 \nQ 2688 3294 2919 2988 \nz\nM 2181 722 \nQ 2541 722 2730 984 \nQ 2919 1247 2919 1747 \nQ 2919 2247 2730 2509 \nQ 2541 2772 2181 2772 \nQ 1825 2772 1636 2509 \nQ 1447 2247 1447 1747 \nQ 1447 1247 1636 984 \nQ 1825 722 2181 722 \nz\n\" transform=\"scale(0.015625)\"/>\n      <path id=\"DejaVuSans-Bold-70\" d=\"M 1656 506 \nL 1656 -1331 \nL 538 -1331 \nL 538 3500 \nL 1656 3500 \nL 1656 2988 \nQ 1888 3294 2169 3439 \nQ 2450 3584 2816 3584 \nQ 3463 3584 3878 3070 \nQ 4294 2556 4294 1747 \nQ 4294 938 3878 423 \nQ 3463 -91 2816 -91 \nQ 2450 -91 2169 54 \nQ 1888 200 1656 506 \nz\nM 2400 2772 \nQ 2041 2772 1848 2508 \nQ 1656 2244 1656 1747 \nQ 1656 1250 1848 986 \nQ 2041 722 2400 722 \nQ 2759 722 2948 984 \nQ 3138 1247 3138 1747 \nQ 3138 2247 2948 2509 \nQ 2759 2772 2400 2772 \nz\n\" transform=\"scale(0.015625)\"/>\n      <path id=\"DejaVuSans-Bold-6f\" d=\"M 2203 2784 \nQ 1831 2784 1636 2517 \nQ 1441 2250 1441 1747 \nQ 1441 1244 1636 976 \nQ 1831 709 2203 709 \nQ 2569 709 2762 976 \nQ 2956 1244 2956 1747 \nQ 2956 2250 2762 2517 \nQ 2569 2784 2203 2784 \nz\nM 2203 3584 \nQ 3106 3584 3614 3096 \nQ 4122 2609 4122 1747 \nQ 4122 884 3614 396 \nQ 3106 -91 2203 -91 \nQ 1297 -91 786 396 \nQ 275 884 275 1747 \nQ 275 2609 786 3096 \nQ 1297 3584 2203 3584 \nz\n\" transform=\"scale(0.015625)\"/>\n      <path id=\"DejaVuSans-Bold-62\" d=\"M 2400 722 \nQ 2759 722 2948 984 \nQ 3138 1247 3138 1747 \nQ 3138 2247 2948 2509 \nQ 2759 2772 2400 2772 \nQ 2041 2772 1848 2508 \nQ 1656 2244 1656 1747 \nQ 1656 1250 1848 986 \nQ 2041 722 2400 722 \nz\nM 1656 2988 \nQ 1888 3294 2169 3439 \nQ 2450 3584 2816 3584 \nQ 3463 3584 3878 3070 \nQ 4294 2556 4294 1747 \nQ 4294 938 3878 423 \nQ 3463 -91 2816 -91 \nQ 2450 -91 2169 54 \nQ 1888 200 1656 506 \nL 1656 0 \nL 538 0 \nL 538 4863 \nL 1656 4863 \nL 1656 2988 \nz\n\" transform=\"scale(0.015625)\"/>\n      <path id=\"DejaVuSans-Bold-6c\" d=\"M 538 4863 \nL 1656 4863 \nL 1656 0 \nL 538 0 \nL 538 4863 \nz\n\" transform=\"scale(0.015625)\"/>\n      <path id=\"DejaVuSans-Bold-65\" d=\"M 4031 1759 \nL 4031 1441 \nL 1416 1441 \nQ 1456 1047 1700 850 \nQ 1944 653 2381 653 \nQ 2734 653 3104 758 \nQ 3475 863 3866 1075 \nL 3866 213 \nQ 3469 63 3072 -14 \nQ 2675 -91 2278 -91 \nQ 1328 -91 801 392 \nQ 275 875 275 1747 \nQ 275 2603 792 3093 \nQ 1309 3584 2216 3584 \nQ 3041 3584 3536 3087 \nQ 4031 2591 4031 1759 \nz\nM 2881 2131 \nQ 2881 2450 2695 2645 \nQ 2509 2841 2209 2841 \nQ 1884 2841 1681 2658 \nQ 1478 2475 1428 2131 \nL 2881 2131 \nz\n\" transform=\"scale(0.015625)\"/>\n      <path id=\"DejaVuSans-Bold-6d\" d=\"M 3781 2919 \nQ 3994 3244 4286 3414 \nQ 4578 3584 4928 3584 \nQ 5531 3584 5847 3212 \nQ 6163 2841 6163 2131 \nL 6163 0 \nL 5038 0 \nL 5038 1825 \nQ 5041 1866 5042 1909 \nQ 5044 1953 5044 2034 \nQ 5044 2406 4934 2573 \nQ 4825 2741 4581 2741 \nQ 4263 2741 4089 2478 \nQ 3916 2216 3909 1719 \nL 3909 0 \nL 2784 0 \nL 2784 1825 \nQ 2784 2406 2684 2573 \nQ 2584 2741 2328 2741 \nQ 2006 2741 1831 2477 \nQ 1656 2213 1656 1722 \nL 1656 0 \nL 531 0 \nL 531 3500 \nL 1656 3500 \nL 1656 2988 \nQ 1863 3284 2130 3434 \nQ 2397 3584 2719 3584 \nQ 3081 3584 3359 3409 \nQ 3638 3234 3781 2919 \nz\n\" transform=\"scale(0.015625)\"/>\n      <path id=\"DejaVuSans-Bold-73\" d=\"M 3272 3391 \nL 3272 2541 \nQ 2913 2691 2578 2766 \nQ 2244 2841 1947 2841 \nQ 1628 2841 1473 2761 \nQ 1319 2681 1319 2516 \nQ 1319 2381 1436 2309 \nQ 1553 2238 1856 2203 \nL 2053 2175 \nQ 2913 2066 3209 1816 \nQ 3506 1566 3506 1031 \nQ 3506 472 3093 190 \nQ 2681 -91 1863 -91 \nQ 1516 -91 1145 -36 \nQ 775 19 384 128 \nL 384 978 \nQ 719 816 1070 734 \nQ 1422 653 1784 653 \nQ 2113 653 2278 743 \nQ 2444 834 2444 1013 \nQ 2444 1163 2330 1236 \nQ 2216 1309 1875 1350 \nL 1678 1375 \nQ 931 1469 631 1722 \nQ 331 1975 331 2491 \nQ 331 3047 712 3315 \nQ 1094 3584 1881 3584 \nQ 2191 3584 2531 3537 \nQ 2872 3491 3272 3391 \nz\n\" transform=\"scale(0.015625)\"/>\n      <path id=\"DejaVuSans-Bold-76\" d=\"M 97 3500 \nL 1216 3500 \nL 2088 1081 \nL 2956 3500 \nL 4078 3500 \nL 2700 0 \nL 1472 0 \nL 97 3500 \nz\n\" transform=\"scale(0.015625)\"/>\n     </defs>\n     <use xlink:href=\"#DejaVuSans-Bold-41\"/>\n     <use xlink:href=\"#DejaVuSans-Bold-20\" x=\"77.392578\"/>\n     <use xlink:href=\"#DejaVuSans-Bold-68\" x=\"112.207031\"/>\n     <use xlink:href=\"#DejaVuSans-Bold-61\" x=\"183.398438\"/>\n     <use xlink:href=\"#DejaVuSans-Bold-72\" x=\"250.878906\"/>\n     <use xlink:href=\"#DejaVuSans-Bold-64\" x=\"300.195312\"/>\n     <use xlink:href=\"#DejaVuSans-Bold-20\" x=\"371.777344\"/>\n     <use xlink:href=\"#DejaVuSans-Bold-70\" x=\"406.591797\"/>\n     <use xlink:href=\"#DejaVuSans-Bold-72\" x=\"478.173828\"/>\n     <use xlink:href=\"#DejaVuSans-Bold-6f\" x=\"527.490234\"/>\n     <use xlink:href=\"#DejaVuSans-Bold-62\" x=\"596.191406\"/>\n     <use xlink:href=\"#DejaVuSans-Bold-6c\" x=\"667.773438\"/>\n     <use xlink:href=\"#DejaVuSans-Bold-65\" x=\"702.050781\"/>\n     <use xlink:href=\"#DejaVuSans-Bold-6d\" x=\"769.873047\"/>\n     <use xlink:href=\"#DejaVuSans-Bold-20\" x=\"874.072266\"/>\n     <use xlink:href=\"#DejaVuSans-Bold-73\" x=\"908.886719\"/>\n     <use xlink:href=\"#DejaVuSans-Bold-6f\" x=\"968.408203\"/>\n     <use xlink:href=\"#DejaVuSans-Bold-6c\" x=\"1037.109375\"/>\n     <use xlink:href=\"#DejaVuSans-Bold-76\" x=\"1071.386719\"/>\n     <use xlink:href=\"#DejaVuSans-Bold-65\" x=\"1136.572266\"/>\n     <use xlink:href=\"#DejaVuSans-Bold-64\" x=\"1204.394531\"/>\n    </g>\n   </g>\n  </g>\n </g>\n <defs>\n  <clipPath id=\"p1e9c81f53f\">\n   <rect x=\"7.2\" y=\"22.318125\" width=\"266.112\" height=\"266.112\"/>\n  </clipPath>\n </defs>\n</svg>\n"
          },
          "metadata": {},
          "execution_count": 57
        }
      ],
      "source": [
        "print(sudoku_solved.milp_solution)\n",
        "sudoku_solved"
      ]
    },
    {
      "cell_type": "code",
      "execution_count": null,
      "metadata": {
        "id": "K58KpuZlikLx"
      },
      "outputs": [],
      "source": [
        "print(sudoku_solved)"
      ]
    },
    {
      "cell_type": "markdown",
      "metadata": {
        "id": "mxEd0k8rikLx"
      },
      "source": [
        "## Google `OR-tools` (operation research tools)"
      ]
    },
    {
      "cell_type": "code",
      "execution_count": null,
      "metadata": {
        "id": "li3WHKGgikLx"
      },
      "outputs": [],
      "source": [
        "if importlib.util.find_spec('ortools') is None:\n",
        "    ! pip install ortools\n"
      ]
    },
    {
      "cell_type": "markdown",
      "metadata": {
        "id": "vkDN778CikLx"
      },
      "source": [
        "Ezzel is megoldhatnánk. HF."
      ]
    },
    {
      "cell_type": "markdown",
      "metadata": {
        "id": "X0ZwpB9rikLx"
      },
      "source": [
        "## Feladványok a netről"
      ]
    },
    {
      "cell_type": "code",
      "execution_count": 58,
      "metadata": {
        "id": "v32jPi-3ikLy"
      },
      "outputs": [],
      "source": [
        "import urllib"
      ]
    },
    {
      "cell_type": "code",
      "execution_count": 59,
      "metadata": {
        "id": "VDdnTwERikLy"
      },
      "outputs": [],
      "source": [
        "dowload_large = False #or True\n",
        "\n",
        "url50 = \"https://projecteuler.net/project/resources/p096_sudoku.txt\"\n",
        "\n",
        "urllib.request.urlretrieve(url50, \"/tmp/sudoku.txt\")\n",
        "\n",
        "\n",
        "url50000 = \"https://github.com/t-dillon/tdoku/raw/master/data.zip\"\n",
        "\n",
        "if dowload_large:\n",
        "    urllib.request.urlretrieve(url50000, \"/tmp/sudoku-large.zip\")\n",
        "\n"
      ]
    },
    {
      "cell_type": "code",
      "execution_count": 60,
      "metadata": {
        "id": "PfWaWE40ikLy"
      },
      "outputs": [],
      "source": [
        "if dowload_large:\n",
        "    ! unzip -l /tmp/sudoku-large.zip\n",
        "    ! unzip -q /tmp/sudoku-large.zip data/puzzles2_17_clue"
      ]
    },
    {
      "cell_type": "code",
      "execution_count": 61,
      "metadata": {
        "id": "YcDm47XfikLy"
      },
      "outputs": [],
      "source": [
        "def drop_comment(file):\n",
        "    while True:\n",
        "        try:\n",
        "            line = next(file).strip()\n",
        "        except EOFError:\n",
        "            return\n",
        "        if not line.startswith(\"#\"):\n",
        "            yield line"
      ]
    },
    {
      "cell_type": "code",
      "execution_count": 62,
      "metadata": {
        "id": "MLXxsA8mikLy"
      },
      "outputs": [],
      "source": [
        "if dowload_large:\n",
        "    with open('data/puzzles2_17_clue', 'r') as file:\n",
        "        line = next(drop_comment(file))\n",
        "        grid = [[int(ch) if ch.isdigit() else 0 for ch in line[i: i+9]] for i in range(0,81,9)]\n",
        "        sudoku = Sudoku(grid)\n",
        "    sudoku"
      ]
    },
    {
      "cell_type": "code",
      "execution_count": 63,
      "metadata": {
        "id": "NNPq9tZ7ikLy"
      },
      "outputs": [],
      "source": [
        "with open('/tmp/sudoku.txt') as f:\n",
        "    name = f.readline().strip()\n",
        "    grid = [f.readline() for _ in range(9)]\n",
        "    sudoku = Sudoku.from_str(grid, name)"
      ]
    },
    {
      "cell_type": "code",
      "execution_count": 64,
      "metadata": {
        "id": "YyMi5-J0ikLy"
      },
      "outputs": [],
      "source": [
        "def read_sudokus(filename):\n",
        "    with open(filename, \"r\") as file:\n",
        "        lines = iter(file)\n",
        "        while True:\n",
        "            try:\n",
        "                name = next(lines).strip()\n",
        "                grid = [next(lines) for _ in range(9)]\n",
        "            except StopIteration:\n",
        "                break\n",
        "            yield Sudoku.from_str(grid, name)"
      ]
    },
    {
      "cell_type": "code",
      "execution_count": 65,
      "metadata": {
        "id": "LJsvrRYyikLy"
      },
      "outputs": [],
      "source": [
        "from tqdm.auto import tqdm"
      ]
    },
    {
      "cell_type": "code",
      "execution_count": 66,
      "metadata": {
        "id": "5C2hs7VNikLz"
      },
      "outputs": [],
      "source": [
        "sudokus = list(read_sudokus(\"/tmp/sudoku.txt\"))"
      ]
    },
    {
      "cell_type": "code",
      "execution_count": 67,
      "metadata": {
        "id": "Z81-c6uXikLz",
        "outputId": "49938adf-ddf2-4344-ce2a-e8f78e27a337",
        "colab": {
          "base_uri": "https://localhost:8080/",
          "height": 84,
          "referenced_widgets": [
            "97dcc9a25e2642c597100969d9c32277",
            "99e8f8649077415ca5d4e200456746a3",
            "44a73be4b84042bf9a664a3f446b0732",
            "4d1ebaabcbca4efe8169b32857254f2f",
            "e78d8c1120b74799ad16fcc7fb22dbbc",
            "1d9d05b83d874be09712b145008fe46c",
            "b085755733e740e69121c9f6e0dd22c8",
            "f56f9fb682c642fda1dea76f12b8f926",
            "e2fe7aef9e4542e38eaebe4ec662a6ba",
            "71c2c66956f240fe8849e72aac941783",
            "08374c1f8180407985aa188fd193afc8"
          ]
        }
      },
      "outputs": [
        {
          "output_type": "display_data",
          "data": {
            "text/plain": [
              "  0%|          | 0/50 [00:00<?, ?it/s]"
            ],
            "application/vnd.jupyter.widget-view+json": {
              "version_major": 2,
              "version_minor": 0,
              "model_id": "97dcc9a25e2642c597100969d9c32277"
            }
          },
          "metadata": {}
        },
        {
          "output_type": "stream",
          "name": "stdout",
          "text": [
            "CPU times: user 366 ms, sys: 8.56 ms, total: 374 ms\n",
            "Wall time: 384 ms\n"
          ]
        }
      ],
      "source": [
        "%%time\n",
        "\n",
        "sudoku_milp = MilpSolver()\n",
        "solved_milp = [sudoku_milp.solve(sudoku) for sudoku in tqdm(sudokus)]\n",
        ""
      ]
    },
    {
      "cell_type": "code",
      "execution_count": 68,
      "metadata": {
        "id": "fFgoHCcTikLz",
        "outputId": "2df912ce-efb1-4dd1-eca1-f06f88a31a78",
        "colab": {
          "base_uri": "https://localhost:8080/",
          "height": 518
        }
      },
      "outputs": [
        {
          "output_type": "execute_result",
          "data": {
            "text/plain": [
              "<__main__.Sudoku at 0x7a92c1ce5cc0>"
            ],
            "text/html": [
              "<html>\n",
              "<head>\n",
              "<style>\n",
              "\n",
              "        .sudoku-board-9a9a5296-92a0-11ee-895d-0242ac1c000c, .sudoku-board-9a9a5296-92a0-11ee-895d-0242ac1c000c .box, .sudoku-board-9a9a5296-92a0-11ee-895d-0242ac1c000c .box div {\n",
              "            box-sizing: border-box;\n",
              "        }\n",
              "        \n",
              "        .sudoku-board-9a9a5296-92a0-11ee-895d-0242ac1c000c, .sudoku-board-9a9a5296-92a0-11ee-895d-0242ac1c000c .box{\n",
              "            display: flex;\n",
              "            flex-wrap: wrap;\n",
              "        }\n",
              "\n",
              "        .sudoku-board-9a9a5296-92a0-11ee-895d-0242ac1c000c .box {\n",
              "           border: solid 1px;\n",
              "           width: 152px;  \n",
              "        }\n",
              "        \n",
              "        .sudoku-board-9a9a5296-92a0-11ee-895d-0242ac1c000c .box > div {\n",
              "            border: solid 1px;\n",
              "            width: 50px;\n",
              "            text-align: center;\n",
              "        }\n",
              "\n",
              "        .sudoku-board-9a9a5296-92a0-11ee-895d-0242ac1c000c .box > div:before {\n",
              "            display: inline-block;\n",
              "            padding-top: 100%;\n",
              "            content: '';\n",
              "            vertical-align: middle;\n",
              "        }\n",
              "\n",
              "        .sudoku-board-9a9a5296-92a0-11ee-895d-0242ac1c000c .box .clue {\n",
              "            background-color: LightGray;\n",
              "            font-weight: bold;\n",
              "        }\n",
              "\n",
              "        .sudoku-board-9a9a5296-92a0-11ee-895d-0242ac1c000c {\n",
              "            width: 460px;\n",
              "            margin: 0px;\n",
              "            font-size: calc(0.8vw + 10px);\n",
              "            border: solid 2px;\n",
              "        }\n",
              "\n",
              "        .sudoku-board-9a9a5296-92a0-11ee-895d-0242ac1c000c .box div {\n",
              "            color: gray;\n",
              "            text-shadow: 1px 1px 1px white;\n",
              "            vertical-align: middle;\n",
              "        }\n",
              "    \n",
              "</style>\n",
              "</head>\n",
              "<body>\n",
              "<h3>Grid 04 solved</h3>\n",
              "<div class=\"sudoku-board-9a9a5296-92a0-11ee-895d-0242ac1c000c\">\n",
              "<div class=\"box\"><div class=\"solved\">1</div><div class=\"clue\">3</div><div class=\"solved\">7</div><div class=\"solved\">9</div><div class=\"solved\">2</div><div class=\"clue\">8</div><div class=\"clue\">4</div><div class=\"clue\">6</div><div class=\"solved\">5</div></div>\n",
              "<div class=\"box\"><div class=\"solved\">2</div><div class=\"clue\">5</div><div class=\"solved\">6</div><div class=\"solved\">3</div><div class=\"clue\">1</div><div class=\"solved\">4</div><div class=\"solved\">8</div><div class=\"solved\">9</div><div class=\"solved\">7</div></div>\n",
              "<div class=\"box\"><div class=\"solved\">8</div><div class=\"clue\">4</div><div class=\"solved\">9</div><div class=\"clue\">5</div><div class=\"solved\">6</div><div class=\"solved\">7</div><div class=\"solved\">3</div><div class=\"clue\">1</div><div class=\"clue\">2</div></div>\n",
              "<div class=\"box\"><div class=\"solved\">6</div><div class=\"clue\">7</div><div class=\"solved\">3</div><div class=\"solved\">8</div><div class=\"solved\">1</div><div class=\"solved\">9</div><div class=\"solved\">5</div><div class=\"clue\">4</div><div class=\"solved\">2</div></div>\n",
              "<div class=\"box\"><div class=\"clue\">5</div><div class=\"solved\">4</div><div class=\"clue\">2</div><div class=\"clue\">6</div><div class=\"solved\">7</div><div class=\"clue\">3</div><div class=\"clue\">1</div><div class=\"solved\">8</div><div class=\"clue\">9</div></div>\n",
              "<div class=\"box\"><div class=\"solved\">9</div><div class=\"clue\">8</div><div class=\"solved\">1</div><div class=\"solved\">2</div><div class=\"solved\">5</div><div class=\"solved\">4</div><div class=\"solved\">7</div><div class=\"clue\">3</div><div class=\"solved\">6</div></div>\n",
              "<div class=\"box\"><div class=\"clue\">2</div><div class=\"clue\">5</div><div class=\"solved\">6</div><div class=\"solved\">3</div><div class=\"solved\">9</div><div class=\"clue\">1</div><div class=\"solved\">7</div><div class=\"clue\">8</div><div class=\"solved\">4</div></div>\n",
              "<div class=\"box\"><div class=\"solved\">7</div><div class=\"solved\">3</div><div class=\"solved\">1</div><div class=\"solved\">4</div><div class=\"clue\">2</div><div class=\"solved\">8</div><div class=\"solved\">9</div><div class=\"clue\">6</div><div class=\"solved\">5</div></div>\n",
              "<div class=\"box\"><div class=\"solved\">4</div><div class=\"clue\">9</div><div class=\"clue\">8</div><div class=\"clue\">6</div><div class=\"solved\">7</div><div class=\"solved\">5</div><div class=\"solved\">1</div><div class=\"clue\">2</div><div class=\"solved\">3</div></div>\n",
              "</div>\n",
              "</body></html>"
            ],
            "image/svg+xml": "<?xml version=\"1.0\" encoding=\"utf-8\" standalone=\"no\"?>\n<!DOCTYPE svg PUBLIC \"-//W3C//DTD SVG 1.1//EN\"\n  \"http://www.w3.org/Graphics/SVG/1.1/DTD/svg11.dtd\">\n<svg xmlns:xlink=\"http://www.w3.org/1999/xlink\" width=\"280.512pt\" height=\"295.630125pt\" viewBox=\"0 0 280.512 295.630125\" xmlns=\"http://www.w3.org/2000/svg\" version=\"1.1\">\n <metadata>\n  <rdf:RDF xmlns:dc=\"http://purl.org/dc/elements/1.1/\" xmlns:cc=\"http://creativecommons.org/ns#\" xmlns:rdf=\"http://www.w3.org/1999/02/22-rdf-syntax-ns#\">\n   <cc:Work>\n    <dc:type rdf:resource=\"http://purl.org/dc/dcmitype/StillImage\"/>\n    <dc:date>2023-12-04T12:28:18.409902</dc:date>\n    <dc:format>image/svg+xml</dc:format>\n    <dc:creator>\n     <cc:Agent>\n      <dc:title>Matplotlib v3.7.1, https://matplotlib.org/</dc:title>\n     </cc:Agent>\n    </dc:creator>\n   </cc:Work>\n  </rdf:RDF>\n </metadata>\n <defs>\n  <style type=\"text/css\">*{stroke-linejoin: round; stroke-linecap: butt}</style>\n </defs>\n <g id=\"figure_1\">\n  <g id=\"patch_1\">\n   <path d=\"M 0 295.630125 \nL 280.512 295.630125 \nL 280.512 0 \nL 0 0 \nz\n\" style=\"fill: #ffffff\"/>\n  </g>\n  <g id=\"axes_1\">\n   <g id=\"patch_2\">\n    <path d=\"M 46.176 61.294125 \nL 73.056 61.294125 \nL 73.056 34.414125 \nL 46.176 34.414125 \nz\n\" clip-path=\"url(#p587fbfb033)\" style=\"fill: #d3d3d3; opacity: 0.5; stroke: #d3d3d3; stroke-linejoin: miter\"/>\n   </g>\n   <g id=\"patch_3\">\n    <path d=\"M 126.816 61.294125 \nL 153.696 61.294125 \nL 153.696 34.414125 \nL 126.816 34.414125 \nz\n\" clip-path=\"url(#p587fbfb033)\" style=\"fill: #d3d3d3; opacity: 0.5; stroke: #d3d3d3; stroke-linejoin: miter\"/>\n   </g>\n   <g id=\"patch_4\">\n    <path d=\"M 207.456 61.294125 \nL 234.336 61.294125 \nL 234.336 34.414125 \nL 207.456 34.414125 \nz\n\" clip-path=\"url(#p587fbfb033)\" style=\"fill: #d3d3d3; opacity: 0.5; stroke: #d3d3d3; stroke-linejoin: miter\"/>\n   </g>\n   <g id=\"patch_5\">\n    <path d=\"M 73.056 88.174125 \nL 99.936 88.174125 \nL 99.936 61.294125 \nL 73.056 61.294125 \nz\n\" clip-path=\"url(#p587fbfb033)\" style=\"fill: #d3d3d3; opacity: 0.5; stroke: #d3d3d3; stroke-linejoin: miter\"/>\n   </g>\n   <g id=\"patch_6\">\n    <path d=\"M 126.816 88.174125 \nL 153.696 88.174125 \nL 153.696 61.294125 \nL 126.816 61.294125 \nz\n\" clip-path=\"url(#p587fbfb033)\" style=\"fill: #d3d3d3; opacity: 0.5; stroke: #d3d3d3; stroke-linejoin: miter\"/>\n   </g>\n   <g id=\"patch_7\">\n    <path d=\"M 180.576 88.174125 \nL 207.456 88.174125 \nL 207.456 61.294125 \nL 180.576 61.294125 \nz\n\" clip-path=\"url(#p587fbfb033)\" style=\"fill: #d3d3d3; opacity: 0.5; stroke: #d3d3d3; stroke-linejoin: miter\"/>\n   </g>\n   <g id=\"patch_8\">\n    <path d=\"M 19.296 115.054125 \nL 46.176 115.054125 \nL 46.176 88.174125 \nL 19.296 88.174125 \nz\n\" clip-path=\"url(#p587fbfb033)\" style=\"fill: #d3d3d3; opacity: 0.5; stroke: #d3d3d3; stroke-linejoin: miter\"/>\n   </g>\n   <g id=\"patch_9\">\n    <path d=\"M 46.176 115.054125 \nL 73.056 115.054125 \nL 73.056 88.174125 \nL 46.176 88.174125 \nz\n\" clip-path=\"url(#p587fbfb033)\" style=\"fill: #d3d3d3; opacity: 0.5; stroke: #d3d3d3; stroke-linejoin: miter\"/>\n   </g>\n   <g id=\"patch_10\">\n    <path d=\"M 207.456 115.054125 \nL 234.336 115.054125 \nL 234.336 88.174125 \nL 207.456 88.174125 \nz\n\" clip-path=\"url(#p587fbfb033)\" style=\"fill: #d3d3d3; opacity: 0.5; stroke: #d3d3d3; stroke-linejoin: miter\"/>\n   </g>\n   <g id=\"patch_11\">\n    <path d=\"M 234.336 115.054125 \nL 261.216 115.054125 \nL 261.216 88.174125 \nL 234.336 88.174125 \nz\n\" clip-path=\"url(#p587fbfb033)\" style=\"fill: #d3d3d3; opacity: 0.5; stroke: #d3d3d3; stroke-linejoin: miter\"/>\n   </g>\n   <g id=\"patch_12\">\n    <path d=\"M 46.176 141.934125 \nL 73.056 141.934125 \nL 73.056 115.054125 \nL 46.176 115.054125 \nz\n\" clip-path=\"url(#p587fbfb033)\" style=\"fill: #d3d3d3; opacity: 0.5; stroke: #d3d3d3; stroke-linejoin: miter\"/>\n   </g>\n   <g id=\"patch_13\">\n    <path d=\"M 99.936 141.934125 \nL 126.816 141.934125 \nL 126.816 115.054125 \nL 99.936 115.054125 \nz\n\" clip-path=\"url(#p587fbfb033)\" style=\"fill: #d3d3d3; opacity: 0.5; stroke: #d3d3d3; stroke-linejoin: miter\"/>\n   </g>\n   <g id=\"patch_14\">\n    <path d=\"M 153.696 141.934125 \nL 180.576 141.934125 \nL 180.576 115.054125 \nL 153.696 115.054125 \nz\n\" clip-path=\"url(#p587fbfb033)\" style=\"fill: #d3d3d3; opacity: 0.5; stroke: #d3d3d3; stroke-linejoin: miter\"/>\n   </g>\n   <g id=\"patch_15\">\n    <path d=\"M 207.456 141.934125 \nL 234.336 141.934125 \nL 234.336 115.054125 \nL 207.456 115.054125 \nz\n\" clip-path=\"url(#p587fbfb033)\" style=\"fill: #d3d3d3; opacity: 0.5; stroke: #d3d3d3; stroke-linejoin: miter\"/>\n   </g>\n   <g id=\"patch_16\">\n    <path d=\"M 99.936 168.814125 \nL 126.816 168.814125 \nL 126.816 141.934125 \nL 99.936 141.934125 \nz\n\" clip-path=\"url(#p587fbfb033)\" style=\"fill: #d3d3d3; opacity: 0.5; stroke: #d3d3d3; stroke-linejoin: miter\"/>\n   </g>\n   <g id=\"patch_17\">\n    <path d=\"M 153.696 168.814125 \nL 180.576 168.814125 \nL 180.576 141.934125 \nL 153.696 141.934125 \nz\n\" clip-path=\"url(#p587fbfb033)\" style=\"fill: #d3d3d3; opacity: 0.5; stroke: #d3d3d3; stroke-linejoin: miter\"/>\n   </g>\n   <g id=\"patch_18\">\n    <path d=\"M 46.176 195.694125 \nL 73.056 195.694125 \nL 73.056 168.814125 \nL 46.176 168.814125 \nz\n\" clip-path=\"url(#p587fbfb033)\" style=\"fill: #d3d3d3; opacity: 0.5; stroke: #d3d3d3; stroke-linejoin: miter\"/>\n   </g>\n   <g id=\"patch_19\">\n    <path d=\"M 99.936 195.694125 \nL 126.816 195.694125 \nL 126.816 168.814125 \nL 99.936 168.814125 \nz\n\" clip-path=\"url(#p587fbfb033)\" style=\"fill: #d3d3d3; opacity: 0.5; stroke: #d3d3d3; stroke-linejoin: miter\"/>\n   </g>\n   <g id=\"patch_20\">\n    <path d=\"M 153.696 195.694125 \nL 180.576 195.694125 \nL 180.576 168.814125 \nL 153.696 168.814125 \nz\n\" clip-path=\"url(#p587fbfb033)\" style=\"fill: #d3d3d3; opacity: 0.5; stroke: #d3d3d3; stroke-linejoin: miter\"/>\n   </g>\n   <g id=\"patch_21\">\n    <path d=\"M 207.456 195.694125 \nL 234.336 195.694125 \nL 234.336 168.814125 \nL 207.456 168.814125 \nz\n\" clip-path=\"url(#p587fbfb033)\" style=\"fill: #d3d3d3; opacity: 0.5; stroke: #d3d3d3; stroke-linejoin: miter\"/>\n   </g>\n   <g id=\"patch_22\">\n    <path d=\"M 19.296 222.574125 \nL 46.176 222.574125 \nL 46.176 195.694125 \nL 19.296 195.694125 \nz\n\" clip-path=\"url(#p587fbfb033)\" style=\"fill: #d3d3d3; opacity: 0.5; stroke: #d3d3d3; stroke-linejoin: miter\"/>\n   </g>\n   <g id=\"patch_23\">\n    <path d=\"M 46.176 222.574125 \nL 73.056 222.574125 \nL 73.056 195.694125 \nL 46.176 195.694125 \nz\n\" clip-path=\"url(#p587fbfb033)\" style=\"fill: #d3d3d3; opacity: 0.5; stroke: #d3d3d3; stroke-linejoin: miter\"/>\n   </g>\n   <g id=\"patch_24\">\n    <path d=\"M 207.456 222.574125 \nL 234.336 222.574125 \nL 234.336 195.694125 \nL 207.456 195.694125 \nz\n\" clip-path=\"url(#p587fbfb033)\" style=\"fill: #d3d3d3; opacity: 0.5; stroke: #d3d3d3; stroke-linejoin: miter\"/>\n   </g>\n   <g id=\"patch_25\">\n    <path d=\"M 234.336 222.574125 \nL 261.216 222.574125 \nL 261.216 195.694125 \nL 234.336 195.694125 \nz\n\" clip-path=\"url(#p587fbfb033)\" style=\"fill: #d3d3d3; opacity: 0.5; stroke: #d3d3d3; stroke-linejoin: miter\"/>\n   </g>\n   <g id=\"patch_26\">\n    <path d=\"M 73.056 249.454125 \nL 99.936 249.454125 \nL 99.936 222.574125 \nL 73.056 222.574125 \nz\n\" clip-path=\"url(#p587fbfb033)\" style=\"fill: #d3d3d3; opacity: 0.5; stroke: #d3d3d3; stroke-linejoin: miter\"/>\n   </g>\n   <g id=\"patch_27\">\n    <path d=\"M 126.816 249.454125 \nL 153.696 249.454125 \nL 153.696 222.574125 \nL 126.816 222.574125 \nz\n\" clip-path=\"url(#p587fbfb033)\" style=\"fill: #d3d3d3; opacity: 0.5; stroke: #d3d3d3; stroke-linejoin: miter\"/>\n   </g>\n   <g id=\"patch_28\">\n    <path d=\"M 180.576 249.454125 \nL 207.456 249.454125 \nL 207.456 222.574125 \nL 180.576 222.574125 \nz\n\" clip-path=\"url(#p587fbfb033)\" style=\"fill: #d3d3d3; opacity: 0.5; stroke: #d3d3d3; stroke-linejoin: miter\"/>\n   </g>\n   <g id=\"patch_29\">\n    <path d=\"M 46.176 276.334125 \nL 73.056 276.334125 \nL 73.056 249.454125 \nL 46.176 249.454125 \nz\n\" clip-path=\"url(#p587fbfb033)\" style=\"fill: #d3d3d3; opacity: 0.5; stroke: #d3d3d3; stroke-linejoin: miter\"/>\n   </g>\n   <g id=\"patch_30\">\n    <path d=\"M 126.816 276.334125 \nL 153.696 276.334125 \nL 153.696 249.454125 \nL 126.816 249.454125 \nz\n\" clip-path=\"url(#p587fbfb033)\" style=\"fill: #d3d3d3; opacity: 0.5; stroke: #d3d3d3; stroke-linejoin: miter\"/>\n   </g>\n   <g id=\"patch_31\">\n    <path d=\"M 207.456 276.334125 \nL 234.336 276.334125 \nL 234.336 249.454125 \nL 207.456 249.454125 \nz\n\" clip-path=\"url(#p587fbfb033)\" style=\"fill: #d3d3d3; opacity: 0.5; stroke: #d3d3d3; stroke-linejoin: miter\"/>\n   </g>\n   <g id=\"line2d_1\">\n    <path d=\"M 19.296 276.334125 \nL 261.216 276.334125 \n\" clip-path=\"url(#p587fbfb033)\" style=\"fill: none; stroke: #000000; stroke-width: 2; stroke-linecap: square\"/>\n   </g>\n   <g id=\"line2d_2\">\n    <path d=\"M 19.296 276.334125 \nL 19.296 34.414125 \n\" clip-path=\"url(#p587fbfb033)\" style=\"fill: none; stroke: #000000; stroke-width: 2; stroke-linecap: square\"/>\n   </g>\n   <g id=\"line2d_3\">\n    <path d=\"M 19.296 249.454125 \nL 261.216 249.454125 \n\" clip-path=\"url(#p587fbfb033)\" style=\"fill: none; stroke: #000000; stroke-linecap: square\"/>\n   </g>\n   <g id=\"line2d_4\">\n    <path d=\"M 46.176 276.334125 \nL 46.176 34.414125 \n\" clip-path=\"url(#p587fbfb033)\" style=\"fill: none; stroke: #000000; stroke-linecap: square\"/>\n   </g>\n   <g id=\"line2d_5\">\n    <path d=\"M 19.296 222.574125 \nL 261.216 222.574125 \n\" clip-path=\"url(#p587fbfb033)\" style=\"fill: none; stroke: #000000; stroke-linecap: square\"/>\n   </g>\n   <g id=\"line2d_6\">\n    <path d=\"M 73.056 276.334125 \nL 73.056 34.414125 \n\" clip-path=\"url(#p587fbfb033)\" style=\"fill: none; stroke: #000000; stroke-linecap: square\"/>\n   </g>\n   <g id=\"line2d_7\">\n    <path d=\"M 19.296 195.694125 \nL 261.216 195.694125 \n\" clip-path=\"url(#p587fbfb033)\" style=\"fill: none; stroke: #000000; stroke-width: 2; stroke-linecap: square\"/>\n   </g>\n   <g id=\"line2d_8\">\n    <path d=\"M 99.936 276.334125 \nL 99.936 34.414125 \n\" clip-path=\"url(#p587fbfb033)\" style=\"fill: none; stroke: #000000; stroke-width: 2; stroke-linecap: square\"/>\n   </g>\n   <g id=\"line2d_9\">\n    <path d=\"M 19.296 168.814125 \nL 261.216 168.814125 \n\" clip-path=\"url(#p587fbfb033)\" style=\"fill: none; stroke: #000000; stroke-linecap: square\"/>\n   </g>\n   <g id=\"line2d_10\">\n    <path d=\"M 126.816 276.334125 \nL 126.816 34.414125 \n\" clip-path=\"url(#p587fbfb033)\" style=\"fill: none; stroke: #000000; stroke-linecap: square\"/>\n   </g>\n   <g id=\"line2d_11\">\n    <path d=\"M 19.296 141.934125 \nL 261.216 141.934125 \n\" clip-path=\"url(#p587fbfb033)\" style=\"fill: none; stroke: #000000; stroke-linecap: square\"/>\n   </g>\n   <g id=\"line2d_12\">\n    <path d=\"M 153.696 276.334125 \nL 153.696 34.414125 \n\" clip-path=\"url(#p587fbfb033)\" style=\"fill: none; stroke: #000000; stroke-linecap: square\"/>\n   </g>\n   <g id=\"line2d_13\">\n    <path d=\"M 19.296 115.054125 \nL 261.216 115.054125 \n\" clip-path=\"url(#p587fbfb033)\" style=\"fill: none; stroke: #000000; stroke-width: 2; stroke-linecap: square\"/>\n   </g>\n   <g id=\"line2d_14\">\n    <path d=\"M 180.576 276.334125 \nL 180.576 34.414125 \n\" clip-path=\"url(#p587fbfb033)\" style=\"fill: none; stroke: #000000; stroke-width: 2; stroke-linecap: square\"/>\n   </g>\n   <g id=\"line2d_15\">\n    <path d=\"M 19.296 88.174125 \nL 261.216 88.174125 \n\" clip-path=\"url(#p587fbfb033)\" style=\"fill: none; stroke: #000000; stroke-linecap: square\"/>\n   </g>\n   <g id=\"line2d_16\">\n    <path d=\"M 207.456 276.334125 \nL 207.456 34.414125 \n\" clip-path=\"url(#p587fbfb033)\" style=\"fill: none; stroke: #000000; stroke-linecap: square\"/>\n   </g>\n   <g id=\"line2d_17\">\n    <path d=\"M 19.296 61.294125 \nL 261.216 61.294125 \n\" clip-path=\"url(#p587fbfb033)\" style=\"fill: none; stroke: #000000; stroke-linecap: square\"/>\n   </g>\n   <g id=\"line2d_18\">\n    <path d=\"M 234.336 276.334125 \nL 234.336 34.414125 \n\" clip-path=\"url(#p587fbfb033)\" style=\"fill: none; stroke: #000000; stroke-linecap: square\"/>\n   </g>\n   <g id=\"line2d_19\">\n    <path d=\"M 19.296 34.414125 \nL 261.216 34.414125 \n\" clip-path=\"url(#p587fbfb033)\" style=\"fill: none; stroke: #000000; stroke-width: 2; stroke-linecap: square\"/>\n   </g>\n   <g id=\"line2d_20\">\n    <path d=\"M 261.216 276.334125 \nL 261.216 34.414125 \n\" clip-path=\"url(#p587fbfb033)\" style=\"fill: none; stroke: #000000; stroke-width: 2; stroke-linecap: square\"/>\n   </g>\n   <g id=\"text_1\">\n    <!-- 1 -->\n    <g style=\"fill: #808080\" transform=\"translate(28.9185 51.165375) scale(0.12 -0.12)\">\n     <defs>\n      <path id=\"DejaVuSans-31\" d=\"M 794 531 \nL 1825 531 \nL 1825 4091 \nL 703 3866 \nL 703 4441 \nL 1819 4666 \nL 2450 4666 \nL 2450 531 \nL 3481 531 \nL 3481 0 \nL 794 0 \nL 794 531 \nz\n\" transform=\"scale(0.015625)\"/>\n     </defs>\n     <use xlink:href=\"#DejaVuSans-31\"/>\n    </g>\n   </g>\n   <g id=\"text_2\">\n    <!-- 3 -->\n    <g style=\"fill: #808080\" transform=\"translate(55.441312 51.165375) scale(0.12 -0.12)\">\n     <defs>\n      <path id=\"DejaVuSans-Bold-33\" d=\"M 2981 2516 \nQ 3453 2394 3698 2092 \nQ 3944 1791 3944 1325 \nQ 3944 631 3412 270 \nQ 2881 -91 1863 -91 \nQ 1503 -91 1142 -33 \nQ 781 25 428 141 \nL 428 1069 \nQ 766 900 1098 814 \nQ 1431 728 1753 728 \nQ 2231 728 2486 893 \nQ 2741 1059 2741 1369 \nQ 2741 1688 2480 1852 \nQ 2219 2016 1709 2016 \nL 1228 2016 \nL 1228 2791 \nL 1734 2791 \nQ 2188 2791 2409 2933 \nQ 2631 3075 2631 3366 \nQ 2631 3634 2415 3781 \nQ 2200 3928 1806 3928 \nQ 1516 3928 1219 3862 \nQ 922 3797 628 3669 \nL 628 4550 \nQ 984 4650 1334 4700 \nQ 1684 4750 2022 4750 \nQ 2931 4750 3382 4451 \nQ 3834 4153 3834 3553 \nQ 3834 3144 3618 2883 \nQ 3403 2622 2981 2516 \nz\n\" transform=\"scale(0.015625)\"/>\n     </defs>\n     <use xlink:href=\"#DejaVuSans-Bold-33\"/>\n    </g>\n   </g>\n   <g id=\"text_3\">\n    <!-- 7 -->\n    <g style=\"fill: #808080\" transform=\"translate(82.6785 51.165375) scale(0.12 -0.12)\">\n     <defs>\n      <path id=\"DejaVuSans-37\" d=\"M 525 4666 \nL 3525 4666 \nL 3525 4397 \nL 1831 0 \nL 1172 0 \nL 2766 4134 \nL 525 4134 \nL 525 4666 \nz\n\" transform=\"scale(0.015625)\"/>\n     </defs>\n     <use xlink:href=\"#DejaVuSans-37\"/>\n    </g>\n   </g>\n   <g id=\"text_4\">\n    <!-- 2 -->\n    <g style=\"fill: #808080\" transform=\"translate(109.5585 51.165375) scale(0.12 -0.12)\">\n     <defs>\n      <path id=\"DejaVuSans-32\" d=\"M 1228 531 \nL 3431 531 \nL 3431 0 \nL 469 0 \nL 469 531 \nQ 828 903 1448 1529 \nQ 2069 2156 2228 2338 \nQ 2531 2678 2651 2914 \nQ 2772 3150 2772 3378 \nQ 2772 3750 2511 3984 \nQ 2250 4219 1831 4219 \nQ 1534 4219 1204 4116 \nQ 875 4013 500 3803 \nL 500 4441 \nQ 881 4594 1212 4672 \nQ 1544 4750 1819 4750 \nQ 2544 4750 2975 4387 \nQ 3406 4025 3406 3419 \nQ 3406 3131 3298 2873 \nQ 3191 2616 2906 2266 \nQ 2828 2175 2409 1742 \nQ 1991 1309 1228 531 \nz\n\" transform=\"scale(0.015625)\"/>\n     </defs>\n     <use xlink:href=\"#DejaVuSans-32\"/>\n    </g>\n   </g>\n   <g id=\"text_5\">\n    <!-- 5 -->\n    <g style=\"fill: #808080\" transform=\"translate(136.081312 51.165375) scale(0.12 -0.12)\">\n     <defs>\n      <path id=\"DejaVuSans-Bold-35\" d=\"M 678 4666 \nL 3669 4666 \nL 3669 3781 \nL 1638 3781 \nL 1638 3059 \nQ 1775 3097 1914 3117 \nQ 2053 3138 2203 3138 \nQ 3056 3138 3531 2711 \nQ 4006 2284 4006 1522 \nQ 4006 766 3489 337 \nQ 2972 -91 2053 -91 \nQ 1656 -91 1267 -14 \nQ 878 63 494 219 \nL 494 1166 \nQ 875 947 1217 837 \nQ 1559 728 1863 728 \nQ 2300 728 2551 942 \nQ 2803 1156 2803 1522 \nQ 2803 1891 2551 2103 \nQ 2300 2316 1863 2316 \nQ 1603 2316 1309 2248 \nQ 1016 2181 678 2041 \nL 678 4666 \nz\n\" transform=\"scale(0.015625)\"/>\n     </defs>\n     <use xlink:href=\"#DejaVuSans-Bold-35\"/>\n    </g>\n   </g>\n   <g id=\"text_6\">\n    <!-- 6 -->\n    <g style=\"fill: #808080\" transform=\"translate(163.3185 51.165375) scale(0.12 -0.12)\">\n     <defs>\n      <path id=\"DejaVuSans-36\" d=\"M 2113 2584 \nQ 1688 2584 1439 2293 \nQ 1191 2003 1191 1497 \nQ 1191 994 1439 701 \nQ 1688 409 2113 409 \nQ 2538 409 2786 701 \nQ 3034 994 3034 1497 \nQ 3034 2003 2786 2293 \nQ 2538 2584 2113 2584 \nz\nM 3366 4563 \nL 3366 3988 \nQ 3128 4100 2886 4159 \nQ 2644 4219 2406 4219 \nQ 1781 4219 1451 3797 \nQ 1122 3375 1075 2522 \nQ 1259 2794 1537 2939 \nQ 1816 3084 2150 3084 \nQ 2853 3084 3261 2657 \nQ 3669 2231 3669 1497 \nQ 3669 778 3244 343 \nQ 2819 -91 2113 -91 \nQ 1303 -91 875 529 \nQ 447 1150 447 2328 \nQ 447 3434 972 4092 \nQ 1497 4750 2381 4750 \nQ 2619 4750 2861 4703 \nQ 3103 4656 3366 4563 \nz\n\" transform=\"scale(0.015625)\"/>\n     </defs>\n     <use xlink:href=\"#DejaVuSans-36\"/>\n    </g>\n   </g>\n   <g id=\"text_7\">\n    <!-- 8 -->\n    <g style=\"fill: #808080\" transform=\"translate(190.1985 51.165375) scale(0.12 -0.12)\">\n     <defs>\n      <path id=\"DejaVuSans-38\" d=\"M 2034 2216 \nQ 1584 2216 1326 1975 \nQ 1069 1734 1069 1313 \nQ 1069 891 1326 650 \nQ 1584 409 2034 409 \nQ 2484 409 2743 651 \nQ 3003 894 3003 1313 \nQ 3003 1734 2745 1975 \nQ 2488 2216 2034 2216 \nz\nM 1403 2484 \nQ 997 2584 770 2862 \nQ 544 3141 544 3541 \nQ 544 4100 942 4425 \nQ 1341 4750 2034 4750 \nQ 2731 4750 3128 4425 \nQ 3525 4100 3525 3541 \nQ 3525 3141 3298 2862 \nQ 3072 2584 2669 2484 \nQ 3125 2378 3379 2068 \nQ 3634 1759 3634 1313 \nQ 3634 634 3220 271 \nQ 2806 -91 2034 -91 \nQ 1263 -91 848 271 \nQ 434 634 434 1313 \nQ 434 1759 690 2068 \nQ 947 2378 1403 2484 \nz\nM 1172 3481 \nQ 1172 3119 1398 2916 \nQ 1625 2713 2034 2713 \nQ 2441 2713 2670 2916 \nQ 2900 3119 2900 3481 \nQ 2900 3844 2670 4047 \nQ 2441 4250 2034 4250 \nQ 1625 4250 1398 4047 \nQ 1172 3844 1172 3481 \nz\n\" transform=\"scale(0.015625)\"/>\n     </defs>\n     <use xlink:href=\"#DejaVuSans-38\"/>\n    </g>\n   </g>\n   <g id=\"text_8\">\n    <!-- 4 -->\n    <g style=\"fill: #808080\" transform=\"translate(216.721312 51.165375) scale(0.12 -0.12)\">\n     <defs>\n      <path id=\"DejaVuSans-Bold-34\" d=\"M 2356 3675 \nL 1038 1722 \nL 2356 1722 \nL 2356 3675 \nz\nM 2156 4666 \nL 3494 4666 \nL 3494 1722 \nL 4159 1722 \nL 4159 850 \nL 3494 850 \nL 3494 0 \nL 2356 0 \nL 2356 850 \nL 288 850 \nL 288 1881 \nL 2156 4666 \nz\n\" transform=\"scale(0.015625)\"/>\n     </defs>\n     <use xlink:href=\"#DejaVuSans-Bold-34\"/>\n    </g>\n   </g>\n   <g id=\"text_9\">\n    <!-- 9 -->\n    <g style=\"fill: #808080\" transform=\"translate(243.9585 51.165375) scale(0.12 -0.12)\">\n     <defs>\n      <path id=\"DejaVuSans-39\" d=\"M 703 97 \nL 703 672 \nQ 941 559 1184 500 \nQ 1428 441 1663 441 \nQ 2288 441 2617 861 \nQ 2947 1281 2994 2138 \nQ 2813 1869 2534 1725 \nQ 2256 1581 1919 1581 \nQ 1219 1581 811 2004 \nQ 403 2428 403 3163 \nQ 403 3881 828 4315 \nQ 1253 4750 1959 4750 \nQ 2769 4750 3195 4129 \nQ 3622 3509 3622 2328 \nQ 3622 1225 3098 567 \nQ 2575 -91 1691 -91 \nQ 1453 -91 1209 -44 \nQ 966 3 703 97 \nz\nM 1959 2075 \nQ 2384 2075 2632 2365 \nQ 2881 2656 2881 3163 \nQ 2881 3666 2632 3958 \nQ 2384 4250 1959 4250 \nQ 1534 4250 1286 3958 \nQ 1038 3666 1038 3163 \nQ 1038 2656 1286 2365 \nQ 1534 2075 1959 2075 \nz\n\" transform=\"scale(0.015625)\"/>\n     </defs>\n     <use xlink:href=\"#DejaVuSans-39\"/>\n    </g>\n   </g>\n   <g id=\"text_10\">\n    <!-- 9 -->\n    <g style=\"fill: #808080\" transform=\"translate(28.9185 78.045375) scale(0.12 -0.12)\">\n     <use xlink:href=\"#DejaVuSans-39\"/>\n    </g>\n   </g>\n   <g id=\"text_11\">\n    <!-- 2 -->\n    <g style=\"fill: #808080\" transform=\"translate(55.7985 78.045375) scale(0.12 -0.12)\">\n     <use xlink:href=\"#DejaVuSans-32\"/>\n    </g>\n   </g>\n   <g id=\"text_12\">\n    <!-- 8 -->\n    <g style=\"fill: #808080\" transform=\"translate(82.321312 78.045375) scale(0.12 -0.12)\">\n     <defs>\n      <path id=\"DejaVuSans-Bold-38\" d=\"M 2228 2088 \nQ 1891 2088 1709 1903 \nQ 1528 1719 1528 1375 \nQ 1528 1031 1709 848 \nQ 1891 666 2228 666 \nQ 2563 666 2741 848 \nQ 2919 1031 2919 1375 \nQ 2919 1722 2741 1905 \nQ 2563 2088 2228 2088 \nz\nM 1350 2484 \nQ 925 2613 709 2878 \nQ 494 3144 494 3541 \nQ 494 4131 934 4440 \nQ 1375 4750 2228 4750 \nQ 3075 4750 3515 4442 \nQ 3956 4134 3956 3541 \nQ 3956 3144 3739 2878 \nQ 3522 2613 3097 2484 \nQ 3572 2353 3814 2058 \nQ 4056 1763 4056 1313 \nQ 4056 619 3595 264 \nQ 3134 -91 2228 -91 \nQ 1319 -91 855 264 \nQ 391 619 391 1313 \nQ 391 1763 633 2058 \nQ 875 2353 1350 2484 \nz\nM 1631 3419 \nQ 1631 3141 1786 2991 \nQ 1941 2841 2228 2841 \nQ 2509 2841 2662 2991 \nQ 2816 3141 2816 3419 \nQ 2816 3697 2662 3845 \nQ 2509 3994 2228 3994 \nQ 1941 3994 1786 3844 \nQ 1631 3694 1631 3419 \nz\n\" transform=\"scale(0.015625)\"/>\n     </defs>\n     <use xlink:href=\"#DejaVuSans-Bold-38\"/>\n    </g>\n   </g>\n   <g id=\"text_13\">\n    <!-- 3 -->\n    <g style=\"fill: #808080\" transform=\"translate(109.5585 78.045375) scale(0.12 -0.12)\">\n     <defs>\n      <path id=\"DejaVuSans-33\" d=\"M 2597 2516 \nQ 3050 2419 3304 2112 \nQ 3559 1806 3559 1356 \nQ 3559 666 3084 287 \nQ 2609 -91 1734 -91 \nQ 1441 -91 1130 -33 \nQ 819 25 488 141 \nL 488 750 \nQ 750 597 1062 519 \nQ 1375 441 1716 441 \nQ 2309 441 2620 675 \nQ 2931 909 2931 1356 \nQ 2931 1769 2642 2001 \nQ 2353 2234 1838 2234 \nL 1294 2234 \nL 1294 2753 \nL 1863 2753 \nQ 2328 2753 2575 2939 \nQ 2822 3125 2822 3475 \nQ 2822 3834 2567 4026 \nQ 2313 4219 1838 4219 \nQ 1578 4219 1281 4162 \nQ 984 4106 628 3988 \nL 628 4550 \nQ 988 4650 1302 4700 \nQ 1616 4750 1894 4750 \nQ 2613 4750 3031 4423 \nQ 3450 4097 3450 3541 \nQ 3450 3153 3228 2886 \nQ 3006 2619 2597 2516 \nz\n\" transform=\"scale(0.015625)\"/>\n     </defs>\n     <use xlink:href=\"#DejaVuSans-33\"/>\n    </g>\n   </g>\n   <g id=\"text_14\">\n    <!-- 1 -->\n    <g style=\"fill: #808080\" transform=\"translate(136.081312 78.045375) scale(0.12 -0.12)\">\n     <defs>\n      <path id=\"DejaVuSans-Bold-31\" d=\"M 750 831 \nL 1813 831 \nL 1813 3847 \nL 722 3622 \nL 722 4441 \nL 1806 4666 \nL 2950 4666 \nL 2950 831 \nL 4013 831 \nL 4013 0 \nL 750 0 \nL 750 831 \nz\n\" transform=\"scale(0.015625)\"/>\n     </defs>\n     <use xlink:href=\"#DejaVuSans-Bold-31\"/>\n    </g>\n   </g>\n   <g id=\"text_15\">\n    <!-- 4 -->\n    <g style=\"fill: #808080\" transform=\"translate(163.3185 78.045375) scale(0.12 -0.12)\">\n     <defs>\n      <path id=\"DejaVuSans-34\" d=\"M 2419 4116 \nL 825 1625 \nL 2419 1625 \nL 2419 4116 \nz\nM 2253 4666 \nL 3047 4666 \nL 3047 1625 \nL 3713 1625 \nL 3713 1100 \nL 3047 1100 \nL 3047 0 \nL 2419 0 \nL 2419 1100 \nL 313 1100 \nL 313 1709 \nL 2253 4666 \nz\n\" transform=\"scale(0.015625)\"/>\n     </defs>\n     <use xlink:href=\"#DejaVuSans-34\"/>\n    </g>\n   </g>\n   <g id=\"text_16\">\n    <!-- 5 -->\n    <g style=\"fill: #808080\" transform=\"translate(189.841312 78.045375) scale(0.12 -0.12)\">\n     <use xlink:href=\"#DejaVuSans-Bold-35\"/>\n    </g>\n   </g>\n   <g id=\"text_17\">\n    <!-- 6 -->\n    <g style=\"fill: #808080\" transform=\"translate(217.0785 78.045375) scale(0.12 -0.12)\">\n     <use xlink:href=\"#DejaVuSans-36\"/>\n    </g>\n   </g>\n   <g id=\"text_18\">\n    <!-- 7 -->\n    <g style=\"fill: #808080\" transform=\"translate(243.9585 78.045375) scale(0.12 -0.12)\">\n     <use xlink:href=\"#DejaVuSans-37\"/>\n    </g>\n   </g>\n   <g id=\"text_19\">\n    <!-- 4 -->\n    <g style=\"fill: #808080\" transform=\"translate(28.561312 104.925375) scale(0.12 -0.12)\">\n     <use xlink:href=\"#DejaVuSans-Bold-34\"/>\n    </g>\n   </g>\n   <g id=\"text_20\">\n    <!-- 6 -->\n    <g style=\"fill: #808080\" transform=\"translate(55.441312 104.925375) scale(0.12 -0.12)\">\n     <defs>\n      <path id=\"DejaVuSans-Bold-36\" d=\"M 2316 2303 \nQ 2000 2303 1842 2098 \nQ 1684 1894 1684 1484 \nQ 1684 1075 1842 870 \nQ 2000 666 2316 666 \nQ 2634 666 2792 870 \nQ 2950 1075 2950 1484 \nQ 2950 1894 2792 2098 \nQ 2634 2303 2316 2303 \nz\nM 3803 4544 \nL 3803 3681 \nQ 3506 3822 3243 3889 \nQ 2981 3956 2731 3956 \nQ 2194 3956 1894 3657 \nQ 1594 3359 1544 2772 \nQ 1750 2925 1990 3001 \nQ 2231 3078 2516 3078 \nQ 3231 3078 3670 2659 \nQ 4109 2241 4109 1563 \nQ 4109 813 3618 361 \nQ 3128 -91 2303 -91 \nQ 1394 -91 895 523 \nQ 397 1138 397 2266 \nQ 397 3422 980 4083 \nQ 1563 4744 2578 4744 \nQ 2900 4744 3203 4694 \nQ 3506 4644 3803 4544 \nz\n\" transform=\"scale(0.015625)\"/>\n     </defs>\n     <use xlink:href=\"#DejaVuSans-Bold-36\"/>\n    </g>\n   </g>\n   <g id=\"text_21\">\n    <!-- 5 -->\n    <g style=\"fill: #808080\" transform=\"translate(82.6785 104.925375) scale(0.12 -0.12)\">\n     <defs>\n      <path id=\"DejaVuSans-35\" d=\"M 691 4666 \nL 3169 4666 \nL 3169 4134 \nL 1269 4134 \nL 1269 2991 \nQ 1406 3038 1543 3061 \nQ 1681 3084 1819 3084 \nQ 2600 3084 3056 2656 \nQ 3513 2228 3513 1497 \nQ 3513 744 3044 326 \nQ 2575 -91 1722 -91 \nQ 1428 -91 1123 -41 \nQ 819 9 494 109 \nL 494 744 \nQ 775 591 1075 516 \nQ 1375 441 1709 441 \nQ 2250 441 2565 725 \nQ 2881 1009 2881 1497 \nQ 2881 1984 2565 2268 \nQ 2250 2553 1709 2553 \nQ 1456 2553 1204 2497 \nQ 953 2441 691 2322 \nL 691 4666 \nz\n\" transform=\"scale(0.015625)\"/>\n     </defs>\n     <use xlink:href=\"#DejaVuSans-35\"/>\n    </g>\n   </g>\n   <g id=\"text_22\">\n    <!-- 8 -->\n    <g style=\"fill: #808080\" transform=\"translate(109.5585 104.925375) scale(0.12 -0.12)\">\n     <use xlink:href=\"#DejaVuSans-38\"/>\n    </g>\n   </g>\n   <g id=\"text_23\">\n    <!-- 9 -->\n    <g style=\"fill: #808080\" transform=\"translate(136.4385 104.925375) scale(0.12 -0.12)\">\n     <use xlink:href=\"#DejaVuSans-39\"/>\n    </g>\n   </g>\n   <g id=\"text_24\">\n    <!-- 7 -->\n    <g style=\"fill: #808080\" transform=\"translate(163.3185 104.925375) scale(0.12 -0.12)\">\n     <use xlink:href=\"#DejaVuSans-37\"/>\n    </g>\n   </g>\n   <g id=\"text_25\">\n    <!-- 3 -->\n    <g style=\"fill: #808080\" transform=\"translate(190.1985 104.925375) scale(0.12 -0.12)\">\n     <use xlink:href=\"#DejaVuSans-33\"/>\n    </g>\n   </g>\n   <g id=\"text_26\">\n    <!-- 1 -->\n    <g style=\"fill: #808080\" transform=\"translate(216.721312 104.925375) scale(0.12 -0.12)\">\n     <use xlink:href=\"#DejaVuSans-Bold-31\"/>\n    </g>\n   </g>\n   <g id=\"text_27\">\n    <!-- 2 -->\n    <g style=\"fill: #808080\" transform=\"translate(243.601312 104.925375) scale(0.12 -0.12)\">\n     <defs>\n      <path id=\"DejaVuSans-Bold-32\" d=\"M 1844 884 \nL 3897 884 \nL 3897 0 \nL 506 0 \nL 506 884 \nL 2209 2388 \nQ 2438 2594 2547 2791 \nQ 2656 2988 2656 3200 \nQ 2656 3528 2436 3728 \nQ 2216 3928 1850 3928 \nQ 1569 3928 1234 3808 \nQ 900 3688 519 3450 \nL 519 4475 \nQ 925 4609 1322 4679 \nQ 1719 4750 2100 4750 \nQ 2938 4750 3402 4381 \nQ 3866 4013 3866 3353 \nQ 3866 2972 3669 2642 \nQ 3472 2313 2841 1759 \nL 1844 884 \nz\n\" transform=\"scale(0.015625)\"/>\n     </defs>\n     <use xlink:href=\"#DejaVuSans-Bold-32\"/>\n    </g>\n   </g>\n   <g id=\"text_28\">\n    <!-- 6 -->\n    <g style=\"fill: #808080\" transform=\"translate(28.9185 131.805375) scale(0.12 -0.12)\">\n     <use xlink:href=\"#DejaVuSans-36\"/>\n    </g>\n   </g>\n   <g id=\"text_29\">\n    <!-- 7 -->\n    <g style=\"fill: #808080\" transform=\"translate(55.441312 131.805375) scale(0.12 -0.12)\">\n     <defs>\n      <path id=\"DejaVuSans-Bold-37\" d=\"M 428 4666 \nL 3944 4666 \nL 3944 3988 \nL 2125 0 \nL 953 0 \nL 2675 3781 \nL 428 3781 \nL 428 4666 \nz\n\" transform=\"scale(0.015625)\"/>\n     </defs>\n     <use xlink:href=\"#DejaVuSans-Bold-37\"/>\n    </g>\n   </g>\n   <g id=\"text_30\">\n    <!-- 3 -->\n    <g style=\"fill: #808080\" transform=\"translate(82.6785 131.805375) scale(0.12 -0.12)\">\n     <use xlink:href=\"#DejaVuSans-33\"/>\n    </g>\n   </g>\n   <g id=\"text_31\">\n    <!-- 5 -->\n    <g style=\"fill: #808080\" transform=\"translate(109.201312 131.805375) scale(0.12 -0.12)\">\n     <use xlink:href=\"#DejaVuSans-Bold-35\"/>\n    </g>\n   </g>\n   <g id=\"text_32\">\n    <!-- 4 -->\n    <g style=\"fill: #808080\" transform=\"translate(136.4385 131.805375) scale(0.12 -0.12)\">\n     <use xlink:href=\"#DejaVuSans-34\"/>\n    </g>\n   </g>\n   <g id=\"text_33\">\n    <!-- 2 -->\n    <g style=\"fill: #808080\" transform=\"translate(162.961312 131.805375) scale(0.12 -0.12)\">\n     <use xlink:href=\"#DejaVuSans-Bold-32\"/>\n    </g>\n   </g>\n   <g id=\"text_34\">\n    <!-- 9 -->\n    <g style=\"fill: #808080\" transform=\"translate(190.1985 131.805375) scale(0.12 -0.12)\">\n     <use xlink:href=\"#DejaVuSans-39\"/>\n    </g>\n   </g>\n   <g id=\"text_35\">\n    <!-- 8 -->\n    <g style=\"fill: #808080\" transform=\"translate(216.721312 131.805375) scale(0.12 -0.12)\">\n     <use xlink:href=\"#DejaVuSans-Bold-38\"/>\n    </g>\n   </g>\n   <g id=\"text_36\">\n    <!-- 1 -->\n    <g style=\"fill: #808080\" transform=\"translate(243.9585 131.805375) scale(0.12 -0.12)\">\n     <use xlink:href=\"#DejaVuSans-31\"/>\n    </g>\n   </g>\n   <g id=\"text_37\">\n    <!-- 8 -->\n    <g style=\"fill: #808080\" transform=\"translate(28.9185 158.685375) scale(0.12 -0.12)\">\n     <use xlink:href=\"#DejaVuSans-38\"/>\n    </g>\n   </g>\n   <g id=\"text_38\">\n    <!-- 1 -->\n    <g style=\"fill: #808080\" transform=\"translate(55.7985 158.685375) scale(0.12 -0.12)\">\n     <use xlink:href=\"#DejaVuSans-31\"/>\n    </g>\n   </g>\n   <g id=\"text_39\">\n    <!-- 9 -->\n    <g style=\"fill: #808080\" transform=\"translate(82.6785 158.685375) scale(0.12 -0.12)\">\n     <use xlink:href=\"#DejaVuSans-39\"/>\n    </g>\n   </g>\n   <g id=\"text_40\">\n    <!-- 6 -->\n    <g style=\"fill: #808080\" transform=\"translate(109.201312 158.685375) scale(0.12 -0.12)\">\n     <use xlink:href=\"#DejaVuSans-Bold-36\"/>\n    </g>\n   </g>\n   <g id=\"text_41\">\n    <!-- 7 -->\n    <g style=\"fill: #808080\" transform=\"translate(136.4385 158.685375) scale(0.12 -0.12)\">\n     <use xlink:href=\"#DejaVuSans-37\"/>\n    </g>\n   </g>\n   <g id=\"text_42\">\n    <!-- 3 -->\n    <g style=\"fill: #808080\" transform=\"translate(162.961312 158.685375) scale(0.12 -0.12)\">\n     <use xlink:href=\"#DejaVuSans-Bold-33\"/>\n    </g>\n   </g>\n   <g id=\"text_43\">\n    <!-- 2 -->\n    <g style=\"fill: #808080\" transform=\"translate(190.1985 158.685375) scale(0.12 -0.12)\">\n     <use xlink:href=\"#DejaVuSans-32\"/>\n    </g>\n   </g>\n   <g id=\"text_44\">\n    <!-- 5 -->\n    <g style=\"fill: #808080\" transform=\"translate(217.0785 158.685375) scale(0.12 -0.12)\">\n     <use xlink:href=\"#DejaVuSans-35\"/>\n    </g>\n   </g>\n   <g id=\"text_45\">\n    <!-- 4 -->\n    <g style=\"fill: #808080\" transform=\"translate(243.9585 158.685375) scale(0.12 -0.12)\">\n     <use xlink:href=\"#DejaVuSans-34\"/>\n    </g>\n   </g>\n   <g id=\"text_46\">\n    <!-- 5 -->\n    <g style=\"fill: #808080\" transform=\"translate(28.9185 185.565375) scale(0.12 -0.12)\">\n     <use xlink:href=\"#DejaVuSans-35\"/>\n    </g>\n   </g>\n   <g id=\"text_47\">\n    <!-- 4 -->\n    <g style=\"fill: #808080\" transform=\"translate(55.441312 185.565375) scale(0.12 -0.12)\">\n     <use xlink:href=\"#DejaVuSans-Bold-34\"/>\n    </g>\n   </g>\n   <g id=\"text_48\">\n    <!-- 2 -->\n    <g style=\"fill: #808080\" transform=\"translate(82.6785 185.565375) scale(0.12 -0.12)\">\n     <use xlink:href=\"#DejaVuSans-32\"/>\n    </g>\n   </g>\n   <g id=\"text_49\">\n    <!-- 1 -->\n    <g style=\"fill: #808080\" transform=\"translate(109.201312 185.565375) scale(0.12 -0.12)\">\n     <use xlink:href=\"#DejaVuSans-Bold-31\"/>\n    </g>\n   </g>\n   <g id=\"text_50\">\n    <!-- 8 -->\n    <g style=\"fill: #808080\" transform=\"translate(136.4385 185.565375) scale(0.12 -0.12)\">\n     <use xlink:href=\"#DejaVuSans-38\"/>\n    </g>\n   </g>\n   <g id=\"text_51\">\n    <!-- 9 -->\n    <g style=\"fill: #808080\" transform=\"translate(162.961312 185.565375) scale(0.12 -0.12)\">\n     <defs>\n      <path id=\"DejaVuSans-Bold-39\" d=\"M 641 103 \nL 641 966 \nQ 928 831 1190 764 \nQ 1453 697 1709 697 \nQ 2247 697 2547 995 \nQ 2847 1294 2900 1881 \nQ 2688 1725 2447 1647 \nQ 2206 1569 1925 1569 \nQ 1209 1569 770 1986 \nQ 331 2403 331 3084 \nQ 331 3838 820 4291 \nQ 1309 4744 2131 4744 \nQ 3044 4744 3544 4128 \nQ 4044 3513 4044 2388 \nQ 4044 1231 3459 570 \nQ 2875 -91 1856 -91 \nQ 1528 -91 1228 -42 \nQ 928 6 641 103 \nz\nM 2125 2350 \nQ 2441 2350 2600 2554 \nQ 2759 2759 2759 3169 \nQ 2759 3575 2600 3781 \nQ 2441 3988 2125 3988 \nQ 1809 3988 1650 3781 \nQ 1491 3575 1491 3169 \nQ 1491 2759 1650 2554 \nQ 1809 2350 2125 2350 \nz\n\" transform=\"scale(0.015625)\"/>\n     </defs>\n     <use xlink:href=\"#DejaVuSans-Bold-39\"/>\n    </g>\n   </g>\n   <g id=\"text_52\">\n    <!-- 7 -->\n    <g style=\"fill: #808080\" transform=\"translate(190.1985 185.565375) scale(0.12 -0.12)\">\n     <use xlink:href=\"#DejaVuSans-37\"/>\n    </g>\n   </g>\n   <g id=\"text_53\">\n    <!-- 3 -->\n    <g style=\"fill: #808080\" transform=\"translate(216.721312 185.565375) scale(0.12 -0.12)\">\n     <use xlink:href=\"#DejaVuSans-Bold-33\"/>\n    </g>\n   </g>\n   <g id=\"text_54\">\n    <!-- 6 -->\n    <g style=\"fill: #808080\" transform=\"translate(243.9585 185.565375) scale(0.12 -0.12)\">\n     <use xlink:href=\"#DejaVuSans-36\"/>\n    </g>\n   </g>\n   <g id=\"text_55\">\n    <!-- 2 -->\n    <g style=\"fill: #808080\" transform=\"translate(28.561312 212.445375) scale(0.12 -0.12)\">\n     <use xlink:href=\"#DejaVuSans-Bold-32\"/>\n    </g>\n   </g>\n   <g id=\"text_56\">\n    <!-- 5 -->\n    <g style=\"fill: #808080\" transform=\"translate(55.441312 212.445375) scale(0.12 -0.12)\">\n     <use xlink:href=\"#DejaVuSans-Bold-35\"/>\n    </g>\n   </g>\n   <g id=\"text_57\">\n    <!-- 6 -->\n    <g style=\"fill: #808080\" transform=\"translate(82.6785 212.445375) scale(0.12 -0.12)\">\n     <use xlink:href=\"#DejaVuSans-36\"/>\n    </g>\n   </g>\n   <g id=\"text_58\">\n    <!-- 7 -->\n    <g style=\"fill: #808080\" transform=\"translate(109.5585 212.445375) scale(0.12 -0.12)\">\n     <use xlink:href=\"#DejaVuSans-37\"/>\n    </g>\n   </g>\n   <g id=\"text_59\">\n    <!-- 3 -->\n    <g style=\"fill: #808080\" transform=\"translate(136.4385 212.445375) scale(0.12 -0.12)\">\n     <use xlink:href=\"#DejaVuSans-33\"/>\n    </g>\n   </g>\n   <g id=\"text_60\">\n    <!-- 1 -->\n    <g style=\"fill: #808080\" transform=\"translate(163.3185 212.445375) scale(0.12 -0.12)\">\n     <use xlink:href=\"#DejaVuSans-31\"/>\n    </g>\n   </g>\n   <g id=\"text_61\">\n    <!-- 4 -->\n    <g style=\"fill: #808080\" transform=\"translate(190.1985 212.445375) scale(0.12 -0.12)\">\n     <use xlink:href=\"#DejaVuSans-34\"/>\n    </g>\n   </g>\n   <g id=\"text_62\">\n    <!-- 9 -->\n    <g style=\"fill: #808080\" transform=\"translate(216.721312 212.445375) scale(0.12 -0.12)\">\n     <use xlink:href=\"#DejaVuSans-Bold-39\"/>\n    </g>\n   </g>\n   <g id=\"text_63\">\n    <!-- 8 -->\n    <g style=\"fill: #808080\" transform=\"translate(243.601312 212.445375) scale(0.12 -0.12)\">\n     <use xlink:href=\"#DejaVuSans-Bold-38\"/>\n    </g>\n   </g>\n   <g id=\"text_64\">\n    <!-- 3 -->\n    <g style=\"fill: #808080\" transform=\"translate(28.9185 239.325375) scale(0.12 -0.12)\">\n     <use xlink:href=\"#DejaVuSans-33\"/>\n    </g>\n   </g>\n   <g id=\"text_65\">\n    <!-- 9 -->\n    <g style=\"fill: #808080\" transform=\"translate(55.7985 239.325375) scale(0.12 -0.12)\">\n     <use xlink:href=\"#DejaVuSans-39\"/>\n    </g>\n   </g>\n   <g id=\"text_66\">\n    <!-- 1 -->\n    <g style=\"fill: #808080\" transform=\"translate(82.321312 239.325375) scale(0.12 -0.12)\">\n     <use xlink:href=\"#DejaVuSans-Bold-31\"/>\n    </g>\n   </g>\n   <g id=\"text_67\">\n    <!-- 4 -->\n    <g style=\"fill: #808080\" transform=\"translate(109.5585 239.325375) scale(0.12 -0.12)\">\n     <use xlink:href=\"#DejaVuSans-34\"/>\n    </g>\n   </g>\n   <g id=\"text_68\">\n    <!-- 2 -->\n    <g style=\"fill: #808080\" transform=\"translate(136.081312 239.325375) scale(0.12 -0.12)\">\n     <use xlink:href=\"#DejaVuSans-Bold-32\"/>\n    </g>\n   </g>\n   <g id=\"text_69\">\n    <!-- 8 -->\n    <g style=\"fill: #808080\" transform=\"translate(163.3185 239.325375) scale(0.12 -0.12)\">\n     <use xlink:href=\"#DejaVuSans-38\"/>\n    </g>\n   </g>\n   <g id=\"text_70\">\n    <!-- 6 -->\n    <g style=\"fill: #808080\" transform=\"translate(189.841312 239.325375) scale(0.12 -0.12)\">\n     <use xlink:href=\"#DejaVuSans-Bold-36\"/>\n    </g>\n   </g>\n   <g id=\"text_71\">\n    <!-- 7 -->\n    <g style=\"fill: #808080\" transform=\"translate(217.0785 239.325375) scale(0.12 -0.12)\">\n     <use xlink:href=\"#DejaVuSans-37\"/>\n    </g>\n   </g>\n   <g id=\"text_72\">\n    <!-- 5 -->\n    <g style=\"fill: #808080\" transform=\"translate(243.9585 239.325375) scale(0.12 -0.12)\">\n     <use xlink:href=\"#DejaVuSans-35\"/>\n    </g>\n   </g>\n   <g id=\"text_73\">\n    <!-- 7 -->\n    <g style=\"fill: #808080\" transform=\"translate(28.9185 266.205375) scale(0.12 -0.12)\">\n     <use xlink:href=\"#DejaVuSans-37\"/>\n    </g>\n   </g>\n   <g id=\"text_74\">\n    <!-- 8 -->\n    <g style=\"fill: #808080\" transform=\"translate(55.441312 266.205375) scale(0.12 -0.12)\">\n     <use xlink:href=\"#DejaVuSans-Bold-38\"/>\n    </g>\n   </g>\n   <g id=\"text_75\">\n    <!-- 4 -->\n    <g style=\"fill: #808080\" transform=\"translate(82.6785 266.205375) scale(0.12 -0.12)\">\n     <use xlink:href=\"#DejaVuSans-34\"/>\n    </g>\n   </g>\n   <g id=\"text_76\">\n    <!-- 9 -->\n    <g style=\"fill: #808080\" transform=\"translate(109.5585 266.205375) scale(0.12 -0.12)\">\n     <use xlink:href=\"#DejaVuSans-39\"/>\n    </g>\n   </g>\n   <g id=\"text_77\">\n    <!-- 6 -->\n    <g style=\"fill: #808080\" transform=\"translate(136.081312 266.205375) scale(0.12 -0.12)\">\n     <use xlink:href=\"#DejaVuSans-Bold-36\"/>\n    </g>\n   </g>\n   <g id=\"text_78\">\n    <!-- 5 -->\n    <g style=\"fill: #808080\" transform=\"translate(163.3185 266.205375) scale(0.12 -0.12)\">\n     <use xlink:href=\"#DejaVuSans-35\"/>\n    </g>\n   </g>\n   <g id=\"text_79\">\n    <!-- 1 -->\n    <g style=\"fill: #808080\" transform=\"translate(190.1985 266.205375) scale(0.12 -0.12)\">\n     <use xlink:href=\"#DejaVuSans-31\"/>\n    </g>\n   </g>\n   <g id=\"text_80\">\n    <!-- 2 -->\n    <g style=\"fill: #808080\" transform=\"translate(216.721312 266.205375) scale(0.12 -0.12)\">\n     <use xlink:href=\"#DejaVuSans-Bold-32\"/>\n    </g>\n   </g>\n   <g id=\"text_81\">\n    <!-- 3 -->\n    <g style=\"fill: #808080\" transform=\"translate(243.9585 266.205375) scale(0.12 -0.12)\">\n     <use xlink:href=\"#DejaVuSans-33\"/>\n    </g>\n   </g>\n   <g id=\"text_82\">\n    <!-- Grid 04 solved -->\n    <g transform=\"translate(7.2 16.318125) scale(0.12 -0.12)\">\n     <defs>\n      <path id=\"DejaVuSans-Bold-47\" d=\"M 4781 347 \nQ 4331 128 3847 18 \nQ 3363 -91 2847 -91 \nQ 1681 -91 1000 561 \nQ 319 1213 319 2328 \nQ 319 3456 1012 4103 \nQ 1706 4750 2913 4750 \nQ 3378 4750 3804 4662 \nQ 4231 4575 4609 4403 \nL 4609 3438 \nQ 4219 3659 3833 3768 \nQ 3447 3878 3059 3878 \nQ 2341 3878 1952 3476 \nQ 1563 3075 1563 2328 \nQ 1563 1588 1938 1184 \nQ 2313 781 3003 781 \nQ 3191 781 3352 804 \nQ 3513 828 3641 878 \nL 3641 1784 \nL 2906 1784 \nL 2906 2591 \nL 4781 2591 \nL 4781 347 \nz\n\" transform=\"scale(0.015625)\"/>\n      <path id=\"DejaVuSans-Bold-72\" d=\"M 3138 2547 \nQ 2991 2616 2845 2648 \nQ 2700 2681 2553 2681 \nQ 2122 2681 1889 2404 \nQ 1656 2128 1656 1613 \nL 1656 0 \nL 538 0 \nL 538 3500 \nL 1656 3500 \nL 1656 2925 \nQ 1872 3269 2151 3426 \nQ 2431 3584 2822 3584 \nQ 2878 3584 2943 3579 \nQ 3009 3575 3134 3559 \nL 3138 2547 \nz\n\" transform=\"scale(0.015625)\"/>\n      <path id=\"DejaVuSans-Bold-69\" d=\"M 538 3500 \nL 1656 3500 \nL 1656 0 \nL 538 0 \nL 538 3500 \nz\nM 538 4863 \nL 1656 4863 \nL 1656 3950 \nL 538 3950 \nL 538 4863 \nz\n\" transform=\"scale(0.015625)\"/>\n      <path id=\"DejaVuSans-Bold-64\" d=\"M 2919 2988 \nL 2919 4863 \nL 4044 4863 \nL 4044 0 \nL 2919 0 \nL 2919 506 \nQ 2688 197 2409 53 \nQ 2131 -91 1766 -91 \nQ 1119 -91 703 423 \nQ 288 938 288 1747 \nQ 288 2556 703 3070 \nQ 1119 3584 1766 3584 \nQ 2128 3584 2408 3439 \nQ 2688 3294 2919 2988 \nz\nM 2181 722 \nQ 2541 722 2730 984 \nQ 2919 1247 2919 1747 \nQ 2919 2247 2730 2509 \nQ 2541 2772 2181 2772 \nQ 1825 2772 1636 2509 \nQ 1447 2247 1447 1747 \nQ 1447 1247 1636 984 \nQ 1825 722 2181 722 \nz\n\" transform=\"scale(0.015625)\"/>\n      <path id=\"DejaVuSans-Bold-20\" transform=\"scale(0.015625)\"/>\n      <path id=\"DejaVuSans-Bold-30\" d=\"M 2944 2338 \nQ 2944 3213 2780 3570 \nQ 2616 3928 2228 3928 \nQ 1841 3928 1675 3570 \nQ 1509 3213 1509 2338 \nQ 1509 1453 1675 1090 \nQ 1841 728 2228 728 \nQ 2613 728 2778 1090 \nQ 2944 1453 2944 2338 \nz\nM 4147 2328 \nQ 4147 1169 3647 539 \nQ 3147 -91 2228 -91 \nQ 1306 -91 806 539 \nQ 306 1169 306 2328 \nQ 306 3491 806 4120 \nQ 1306 4750 2228 4750 \nQ 3147 4750 3647 4120 \nQ 4147 3491 4147 2328 \nz\n\" transform=\"scale(0.015625)\"/>\n      <path id=\"DejaVuSans-Bold-73\" d=\"M 3272 3391 \nL 3272 2541 \nQ 2913 2691 2578 2766 \nQ 2244 2841 1947 2841 \nQ 1628 2841 1473 2761 \nQ 1319 2681 1319 2516 \nQ 1319 2381 1436 2309 \nQ 1553 2238 1856 2203 \nL 2053 2175 \nQ 2913 2066 3209 1816 \nQ 3506 1566 3506 1031 \nQ 3506 472 3093 190 \nQ 2681 -91 1863 -91 \nQ 1516 -91 1145 -36 \nQ 775 19 384 128 \nL 384 978 \nQ 719 816 1070 734 \nQ 1422 653 1784 653 \nQ 2113 653 2278 743 \nQ 2444 834 2444 1013 \nQ 2444 1163 2330 1236 \nQ 2216 1309 1875 1350 \nL 1678 1375 \nQ 931 1469 631 1722 \nQ 331 1975 331 2491 \nQ 331 3047 712 3315 \nQ 1094 3584 1881 3584 \nQ 2191 3584 2531 3537 \nQ 2872 3491 3272 3391 \nz\n\" transform=\"scale(0.015625)\"/>\n      <path id=\"DejaVuSans-Bold-6f\" d=\"M 2203 2784 \nQ 1831 2784 1636 2517 \nQ 1441 2250 1441 1747 \nQ 1441 1244 1636 976 \nQ 1831 709 2203 709 \nQ 2569 709 2762 976 \nQ 2956 1244 2956 1747 \nQ 2956 2250 2762 2517 \nQ 2569 2784 2203 2784 \nz\nM 2203 3584 \nQ 3106 3584 3614 3096 \nQ 4122 2609 4122 1747 \nQ 4122 884 3614 396 \nQ 3106 -91 2203 -91 \nQ 1297 -91 786 396 \nQ 275 884 275 1747 \nQ 275 2609 786 3096 \nQ 1297 3584 2203 3584 \nz\n\" transform=\"scale(0.015625)\"/>\n      <path id=\"DejaVuSans-Bold-6c\" d=\"M 538 4863 \nL 1656 4863 \nL 1656 0 \nL 538 0 \nL 538 4863 \nz\n\" transform=\"scale(0.015625)\"/>\n      <path id=\"DejaVuSans-Bold-76\" d=\"M 97 3500 \nL 1216 3500 \nL 2088 1081 \nL 2956 3500 \nL 4078 3500 \nL 2700 0 \nL 1472 0 \nL 97 3500 \nz\n\" transform=\"scale(0.015625)\"/>\n      <path id=\"DejaVuSans-Bold-65\" d=\"M 4031 1759 \nL 4031 1441 \nL 1416 1441 \nQ 1456 1047 1700 850 \nQ 1944 653 2381 653 \nQ 2734 653 3104 758 \nQ 3475 863 3866 1075 \nL 3866 213 \nQ 3469 63 3072 -14 \nQ 2675 -91 2278 -91 \nQ 1328 -91 801 392 \nQ 275 875 275 1747 \nQ 275 2603 792 3093 \nQ 1309 3584 2216 3584 \nQ 3041 3584 3536 3087 \nQ 4031 2591 4031 1759 \nz\nM 2881 2131 \nQ 2881 2450 2695 2645 \nQ 2509 2841 2209 2841 \nQ 1884 2841 1681 2658 \nQ 1478 2475 1428 2131 \nL 2881 2131 \nz\n\" transform=\"scale(0.015625)\"/>\n     </defs>\n     <use xlink:href=\"#DejaVuSans-Bold-47\"/>\n     <use xlink:href=\"#DejaVuSans-Bold-72\" x=\"82.080078\"/>\n     <use xlink:href=\"#DejaVuSans-Bold-69\" x=\"131.396484\"/>\n     <use xlink:href=\"#DejaVuSans-Bold-64\" x=\"165.673828\"/>\n     <use xlink:href=\"#DejaVuSans-Bold-20\" x=\"237.255859\"/>\n     <use xlink:href=\"#DejaVuSans-Bold-30\" x=\"272.070312\"/>\n     <use xlink:href=\"#DejaVuSans-Bold-34\" x=\"341.650391\"/>\n     <use xlink:href=\"#DejaVuSans-Bold-20\" x=\"411.230469\"/>\n     <use xlink:href=\"#DejaVuSans-Bold-73\" x=\"446.044922\"/>\n     <use xlink:href=\"#DejaVuSans-Bold-6f\" x=\"505.566406\"/>\n     <use xlink:href=\"#DejaVuSans-Bold-6c\" x=\"574.267578\"/>\n     <use xlink:href=\"#DejaVuSans-Bold-76\" x=\"608.544922\"/>\n     <use xlink:href=\"#DejaVuSans-Bold-65\" x=\"673.730469\"/>\n     <use xlink:href=\"#DejaVuSans-Bold-64\" x=\"741.552734\"/>\n    </g>\n   </g>\n  </g>\n </g>\n <defs>\n  <clipPath id=\"p587fbfb033\">\n   <rect x=\"7.2\" y=\"22.318125\" width=\"266.112\" height=\"266.112\"/>\n  </clipPath>\n </defs>\n</svg>\n"
          },
          "metadata": {},
          "execution_count": 68
        }
      ],
      "source": [
        "solved_milp[3]"
      ]
    },
    {
      "cell_type": "code",
      "execution_count": 69,
      "metadata": {
        "id": "yvstU28YikL0"
      },
      "outputs": [],
      "source": [
        "sudokus = list(read_sudokus(\"/tmp/sudoku.txt\"))"
      ]
    },
    {
      "cell_type": "code",
      "execution_count": 70,
      "metadata": {
        "id": "xWdl8cDLikL0",
        "outputId": "1b47cf33-39b3-45f6-abfb-b2f8de12e36a",
        "colab": {
          "base_uri": "https://localhost:8080/",
          "height": 84,
          "referenced_widgets": [
            "ff5a28d791c2405691bf410748dce247",
            "d5bad80378de42e3a6a330a20fa5b99c",
            "b0954af05b6d436ab335eda6794042e9",
            "f07c3ee4026d4b0a84fac6ec05f5fb59",
            "bb2bde9922124042bb1604215a82e96f",
            "3497c2c4c4934b73bd21e1f5995a2451",
            "eaa707f3a54e41ae8e80d3d2e252f45e",
            "09d4a0dc1700460795a992c9402ef1a3",
            "de4c2ea44ae84930b328bf393dae70a3",
            "3141b8c5a44743178ec7dcaa56fe219a",
            "423c6f1393c04033b537e9fad8d08ef5"
          ]
        }
      },
      "outputs": [
        {
          "output_type": "display_data",
          "data": {
            "text/plain": [
              "  0%|          | 0/50 [00:00<?, ?it/s]"
            ],
            "application/vnd.jupyter.widget-view+json": {
              "version_major": 2,
              "version_minor": 0,
              "model_id": "ff5a28d791c2405691bf410748dce247"
            }
          },
          "metadata": {}
        },
        {
          "output_type": "stream",
          "name": "stdout",
          "text": [
            "CPU times: user 252 ms, sys: 5.35 ms, total: 257 ms\n",
            "Wall time: 271 ms\n"
          ]
        }
      ],
      "source": [
        "%%time\n",
        "\n",
        "pycosat_solver = PycosatSolver()\n",
        "solved_picosat = [pycosat_solver.solve(sudoku) for sudoku in tqdm(sudokus)]\n",
        "\n"
      ]
    },
    {
      "cell_type": "code",
      "execution_count": 71,
      "metadata": {
        "id": "2PoXXP33ikL0"
      },
      "outputs": [],
      "source": [
        "sudokus = list(read_sudokus(\"/tmp/sudoku.txt\"))"
      ]
    },
    {
      "cell_type": "code",
      "execution_count": 72,
      "metadata": {
        "id": "n-oDEI0zikL0",
        "outputId": "faa01820-6727-42ac-da6b-ed37cb7fbaa8",
        "colab": {
          "base_uri": "https://localhost:8080/",
          "height": 84,
          "referenced_widgets": [
            "a222c415853c4af3b0db5cb3fb5a7f3a",
            "5b3e0ffc747848c6ad4fee18ce6e3ab8",
            "0394bb02149f4e9cac4e507b2f65a13d",
            "276f110b2036416682aca0c0290b70d8",
            "647d02b1c2744942bfe0071da2ac5a55",
            "af6268b6c63f419fa289e9e891087969",
            "9298e3c3468e4a668ed061358b5bbc9d",
            "d92c6d9603e646a39f355be73ee3b7ba",
            "87af2ed9928b4c33ac44cbf89ab0cb2a",
            "b994592ded704918a9f810d5da80ba6b",
            "9d6563fde66d4427868f7690127f7cfd"
          ]
        }
      },
      "outputs": [
        {
          "output_type": "display_data",
          "data": {
            "text/plain": [
              "  0%|          | 0/50 [00:00<?, ?it/s]"
            ],
            "application/vnd.jupyter.widget-view+json": {
              "version_major": 2,
              "version_minor": 0,
              "model_id": "a222c415853c4af3b0db5cb3fb5a7f3a"
            }
          },
          "metadata": {}
        },
        {
          "output_type": "stream",
          "name": "stdout",
          "text": [
            "CPU times: user 7.07 s, sys: 13.7 ms, total: 7.08 s\n",
            "Wall time: 7.24 s\n"
          ]
        }
      ],
      "source": [
        "%%time\n",
        "\n",
        "pycosat_solver = PycosatSolver()\n",
        "solved_naive = [pycosat_solver.solve(sudoku, \"naive\") for sudoku in tqdm(sudokus)]\n"
      ]
    },
    {
      "cell_type": "markdown",
      "metadata": {
        "id": "7m6AUP_IikL1"
      },
      "source": [
        "## Saját solver"
      ]
    },
    {
      "cell_type": "markdown",
      "metadata": {
        "id": "zau_XhnrikL1"
      },
      "source": [
        "\n",
        "A Sudokuban ki kell tölteni a hiányzó mezőket úgy, hogy minden sor, oszlop és a 9 db 3x3-as négyzet mindegyike tartalmazza az összes számot egytől kilencig.\n",
        "\n",
        "Minden oszlop, sor és kis négyzet kilenc követelményt jelent nevezetesen azt, hogy az adott tábla részen kell, hogy legyen $1,...,9$.\n",
        "Ez összesen $3*9*9$ követelmény. További követlemény, hogy minden mező pontosan egy értéket tartalmazhat. Ez további 81 követelmény, így összesen $4*9*9$\n",
        "követelmény van.\n",
        "\n",
        "Minden cellába írhatjuk a 9 szám bármelyikét ez összesen $9*9*9$ opció.\n",
        "\n",
        "Minden opció ki tud elégíteni néhány követelményt, pl. ha az opció az hogy (1,1) mezőben 2 van, akkor ha ezt az opciót kiválasztjuk, azzal teljesülni fog,\n",
        "hogy az első sorban, első oszlopban és az (1,1) tartalmazó 3x3-as négyzetben is van 2-es.\n",
        "\n",
        "A feladványt, akkor oldottuk meg, ha kiválasztottuk az opciók egy részét úgy, hogy minden követelményt pontosan egy opció teljesít a kiválasztottak közül.\n",
        "\n",
        "\n",
        "Kicsit messzebről ránézve, van egy páros gráfunk. A csúcsok egyik csoportja a követelményekből, a másik az opciókból áll. Egy követelmény és egy opció között akkor megy él, ha az adott opció kiválasztásával kielégítjük a követelményt.\n",
        "\n",
        "A cél opciók egy részének kiválasztása úgy, hogy minden követelménynek pontosan egy szomszédja legyen a kiválasztott opciók között (exact cover).\n",
        "\n",
        "A megoldás megtalálása elméletben egyszerű.\n",
        "\n",
        "1. `G` a játék gráfja (mátrixa). Töröljük azokat az opciókat, amik összegyeztethetelenek a kitöltött mezőkkel.\n",
        "2. Válasszunk egy `item` követelményt.\n",
        "3. A `item` szomszédjait ellenőrizzük le. Azaz menjünk végig azokon az opciókon, amik `item`-et kielégítik:\n",
        "   \n",
        "   - Mindegyik opcióra  készítsük el azt a  kisebb gráfot, amit úgy kapunk, hogy a kiválsztott opciót\n",
        "     beírjuk a táblába.\n",
        "   \n",
        "     Így néhány további követelményt is kielégítünk és néhány opciót el is kell hagynunk.\n",
        "\n",
        "   - Oldjuk meg a kisebb gráffal a feladatot:\n",
        "     \n",
        "     Ha a kisebb feladatnak nincs megoldása, a kiválasztott opcióval nem lehet megoldani a problémát.\n",
        "     Nézzük a következő lehetőséget.\n",
        "\n",
        "     Ha a kisebb feladatnak van megoldása, akkor a feladat megoldása a kiválasztott opció és a kisebb probléma megoldása együtt.\n",
        "\n",
        "Lehet, hogy kóddal leírva könnyebben érthető.\n",
        "\n",
        "```python\n",
        "def search(G):\n",
        "    if G.items:\n",
        "      item = first_item(G.items)\n",
        "      for option in G.options[item]:\n",
        "            solution = search(new_graph(G, option))\n",
        "            if solution is not None:\n",
        "                return (option,) + solution\n",
        "      return None\n",
        "    return tuple()\n",
        "```\n",
        "\n",
        "Itt `new_graph(G, option)` visszaadja a gráfot amit úgy kapunk, hogy\n",
        "`option` által kielégített követelményeket  és azokat az opciókat amik `option`-nal összeegyeztethetlenek elhagyjuk.\n",
        "\n",
        "Azt feltételezzük, hogy a `new_graph` függvény nem módosítja `G`-t a visszaadott gráf másolat.\n",
        "\n",
        "\n",
        "A futási idő attól függ, hogyan választjuk ki követelményt. A legegyszerűbb módszer: vegyük azt amihez aktuálisan a legkevesebb opció tartozik.\n",
        "Ez pont annak felel meg, amit a játék során magunk is csinálnánk, pl ha egy mezőbe csak egy lehetőség maradt az kitöltjük."
      ]
    },
    {
      "cell_type": "code",
      "execution_count": 73,
      "metadata": {
        "id": "76rEoTjWikL1"
      },
      "outputs": [],
      "source": [
        "def sudoku_graph():\n",
        "    options = {option: list(option.items()) for option in Option.instances()}\n",
        "    items = {item: set(item.options()) for item in Item.instances()}\n",
        "    return options, items\n",
        "\n",
        "\n",
        "def new_graph(graph, option):\n",
        "    options, items = graph\n",
        "    items_covered = [item for item in options[option] if item in items]\n",
        "    conflicting_options = set(o for item in items_covered for o in items[item])\n",
        "    new_options = {\n",
        "        key: [item for item in value if item not in items_covered]\n",
        "        for key, value in options.items()\n",
        "        if key not in conflicting_options\n",
        "    }\n",
        "    new_items = {\n",
        "        key: [opt for opt in value if opt not in conflicting_options]\n",
        "        for key, value in items.items()\n",
        "        if key not in items_covered\n",
        "    }\n",
        "    return new_options, new_items\n",
        "\n",
        "def first_item(items):\n",
        "    return min(items, key=lambda item: len(items[item]))\n",
        "\n",
        "def search(graph):\n",
        "    _, items = graph\n",
        "    if items:\n",
        "        item = first_item(items)\n",
        "        for option in items[item]:\n",
        "            solution = search(new_graph(graph, option))\n",
        "            if solution is not None:\n",
        "                return (option,) + solution\n",
        "        return None\n",
        "    return tuple()\n",
        "\n",
        "def initial_graph(sudoku):\n",
        "    graph = sudoku_graph()\n",
        "    for row, col, val in sudoku.enumerate():\n",
        "        option = Option.from_triple(row, col, val)\n",
        "        graph = new_graph(graph, option)\n",
        "    return graph\n",
        "\n",
        "def sudoku_solver(sudoku):\n",
        "    graph = initial_graph(sudoku)\n",
        "\n",
        "    solution = search(graph)\n",
        "    if solution is None:\n",
        "        return None\n",
        "\n",
        "    sudoku_solved = sudoku.copy()\n",
        "    for option in solution:\n",
        "        option.apply(sudoku_solved.grid)\n",
        "    return sudoku_solved\n",
        ""
      ]
    },
    {
      "cell_type": "code",
      "execution_count": 76,
      "metadata": {
        "id": "lP9Z43REikL1",
        "outputId": "be96a298-b7a7-46db-9ea8-2514258e7706",
        "colab": {
          "base_uri": "https://localhost:8080/",
          "height": 518
        }
      },
      "outputs": [
        {
          "output_type": "execute_result",
          "data": {
            "text/plain": [
              "<__main__.Sudoku at 0x7a92c1a1e800>"
            ],
            "text/html": [
              "<html>\n",
              "<head>\n",
              "<style>\n",
              "\n",
              "        .sudoku-board-2cadf4a2-92a2-11ee-895d-0242ac1c000c, .sudoku-board-2cadf4a2-92a2-11ee-895d-0242ac1c000c .box, .sudoku-board-2cadf4a2-92a2-11ee-895d-0242ac1c000c .box div {\n",
              "            box-sizing: border-box;\n",
              "        }\n",
              "        \n",
              "        .sudoku-board-2cadf4a2-92a2-11ee-895d-0242ac1c000c, .sudoku-board-2cadf4a2-92a2-11ee-895d-0242ac1c000c .box{\n",
              "            display: flex;\n",
              "            flex-wrap: wrap;\n",
              "        }\n",
              "\n",
              "        .sudoku-board-2cadf4a2-92a2-11ee-895d-0242ac1c000c .box {\n",
              "           border: solid 1px;\n",
              "           width: 152px;  \n",
              "        }\n",
              "        \n",
              "        .sudoku-board-2cadf4a2-92a2-11ee-895d-0242ac1c000c .box > div {\n",
              "            border: solid 1px;\n",
              "            width: 50px;\n",
              "            text-align: center;\n",
              "        }\n",
              "\n",
              "        .sudoku-board-2cadf4a2-92a2-11ee-895d-0242ac1c000c .box > div:before {\n",
              "            display: inline-block;\n",
              "            padding-top: 100%;\n",
              "            content: '';\n",
              "            vertical-align: middle;\n",
              "        }\n",
              "\n",
              "        .sudoku-board-2cadf4a2-92a2-11ee-895d-0242ac1c000c .box .clue {\n",
              "            background-color: LightGray;\n",
              "            font-weight: bold;\n",
              "        }\n",
              "\n",
              "        .sudoku-board-2cadf4a2-92a2-11ee-895d-0242ac1c000c {\n",
              "            width: 460px;\n",
              "            margin: 0px;\n",
              "            font-size: calc(0.8vw + 10px);\n",
              "            border: solid 2px;\n",
              "        }\n",
              "\n",
              "        .sudoku-board-2cadf4a2-92a2-11ee-895d-0242ac1c000c .box div {\n",
              "            color: gray;\n",
              "            text-shadow: 1px 1px 1px white;\n",
              "            vertical-align: middle;\n",
              "        }\n",
              "    \n",
              "</style>\n",
              "</head>\n",
              "<body>\n",
              "<h3>A hard problem</h3>\n",
              "<div class=\"sudoku-board-2cadf4a2-92a2-11ee-895d-0242ac1c000c\">\n",
              "<div class=\"box\"><div ></div><div class=\"clue\">2</div><div ></div><div ></div><div ></div><div ></div><div ></div><div class=\"clue\">7</div><div class=\"clue\">4</div></div>\n",
              "<div class=\"box\"><div ></div><div ></div><div ></div><div class=\"clue\">6</div><div ></div><div ></div><div ></div><div class=\"clue\">8</div><div ></div></div>\n",
              "<div class=\"box\"><div ></div><div ></div><div ></div><div ></div><div ></div><div class=\"clue\">3</div><div ></div><div ></div><div ></div></div>\n",
              "<div class=\"box\"><div ></div><div ></div><div ></div><div ></div><div class=\"clue\">8</div><div ></div><div class=\"clue\">6</div><div ></div><div ></div></div>\n",
              "<div class=\"box\"><div ></div><div ></div><div class=\"clue\">3</div><div ></div><div class=\"clue\">4</div><div ></div><div class=\"clue\">5</div><div ></div><div ></div></div>\n",
              "<div class=\"box\"><div ></div><div ></div><div class=\"clue\">2</div><div ></div><div class=\"clue\">1</div><div ></div><div ></div><div ></div><div ></div></div>\n",
              "<div class=\"box\"><div ></div><div ></div><div ></div><div class=\"clue\">5</div><div ></div><div ></div><div ></div><div ></div><div ></div></div>\n",
              "<div class=\"box\"><div ></div><div class=\"clue\">1</div><div ></div><div ></div><div ></div><div class=\"clue\">9</div><div ></div><div ></div><div ></div></div>\n",
              "<div class=\"box\"><div class=\"clue\">7</div><div class=\"clue\">8</div><div ></div><div ></div><div ></div><div ></div><div ></div><div class=\"clue\">4</div><div ></div></div>\n",
              "</div>\n",
              "</body></html>"
            ],
            "image/svg+xml": "<?xml version=\"1.0\" encoding=\"utf-8\" standalone=\"no\"?>\n<!DOCTYPE svg PUBLIC \"-//W3C//DTD SVG 1.1//EN\"\n  \"http://www.w3.org/Graphics/SVG/1.1/DTD/svg11.dtd\">\n<svg xmlns:xlink=\"http://www.w3.org/1999/xlink\" width=\"280.512pt\" height=\"295.630125pt\" viewBox=\"0 0 280.512 295.630125\" xmlns=\"http://www.w3.org/2000/svg\" version=\"1.1\">\n <metadata>\n  <rdf:RDF xmlns:dc=\"http://purl.org/dc/elements/1.1/\" xmlns:cc=\"http://creativecommons.org/ns#\" xmlns:rdf=\"http://www.w3.org/1999/02/22-rdf-syntax-ns#\">\n   <cc:Work>\n    <dc:type rdf:resource=\"http://purl.org/dc/dcmitype/StillImage\"/>\n    <dc:date>2023-12-04T12:39:33.116064</dc:date>\n    <dc:format>image/svg+xml</dc:format>\n    <dc:creator>\n     <cc:Agent>\n      <dc:title>Matplotlib v3.7.1, https://matplotlib.org/</dc:title>\n     </cc:Agent>\n    </dc:creator>\n   </cc:Work>\n  </rdf:RDF>\n </metadata>\n <defs>\n  <style type=\"text/css\">*{stroke-linejoin: round; stroke-linecap: butt}</style>\n </defs>\n <g id=\"figure_1\">\n  <g id=\"patch_1\">\n   <path d=\"M 0 295.630125 \nL 280.512 295.630125 \nL 280.512 0 \nL 0 0 \nz\n\" style=\"fill: #ffffff\"/>\n  </g>\n  <g id=\"axes_1\">\n   <g id=\"patch_2\">\n    <path d=\"M 46.176 61.294125 \nL 73.056 61.294125 \nL 73.056 34.414125 \nL 46.176 34.414125 \nz\n\" clip-path=\"url(#pf95fc99095)\" style=\"fill: #d3d3d3; opacity: 0.5; stroke: #d3d3d3; stroke-linejoin: miter\"/>\n   </g>\n   <g id=\"patch_3\">\n    <path d=\"M 99.936 88.174125 \nL 126.816 88.174125 \nL 126.816 61.294125 \nL 99.936 61.294125 \nz\n\" clip-path=\"url(#pf95fc99095)\" style=\"fill: #d3d3d3; opacity: 0.5; stroke: #d3d3d3; stroke-linejoin: miter\"/>\n   </g>\n   <g id=\"patch_4\">\n    <path d=\"M 234.336 88.174125 \nL 261.216 88.174125 \nL 261.216 61.294125 \nL 234.336 61.294125 \nz\n\" clip-path=\"url(#pf95fc99095)\" style=\"fill: #d3d3d3; opacity: 0.5; stroke: #d3d3d3; stroke-linejoin: miter\"/>\n   </g>\n   <g id=\"patch_5\">\n    <path d=\"M 46.176 115.054125 \nL 73.056 115.054125 \nL 73.056 88.174125 \nL 46.176 88.174125 \nz\n\" clip-path=\"url(#pf95fc99095)\" style=\"fill: #d3d3d3; opacity: 0.5; stroke: #d3d3d3; stroke-linejoin: miter\"/>\n   </g>\n   <g id=\"patch_6\">\n    <path d=\"M 73.056 115.054125 \nL 99.936 115.054125 \nL 99.936 88.174125 \nL 73.056 88.174125 \nz\n\" clip-path=\"url(#pf95fc99095)\" style=\"fill: #d3d3d3; opacity: 0.5; stroke: #d3d3d3; stroke-linejoin: miter\"/>\n   </g>\n   <g id=\"patch_7\">\n    <path d=\"M 126.816 115.054125 \nL 153.696 115.054125 \nL 153.696 88.174125 \nL 126.816 88.174125 \nz\n\" clip-path=\"url(#pf95fc99095)\" style=\"fill: #d3d3d3; opacity: 0.5; stroke: #d3d3d3; stroke-linejoin: miter\"/>\n   </g>\n   <g id=\"patch_8\">\n    <path d=\"M 153.696 141.934125 \nL 180.576 141.934125 \nL 180.576 115.054125 \nL 153.696 115.054125 \nz\n\" clip-path=\"url(#pf95fc99095)\" style=\"fill: #d3d3d3; opacity: 0.5; stroke: #d3d3d3; stroke-linejoin: miter\"/>\n   </g>\n   <g id=\"patch_9\">\n    <path d=\"M 234.336 141.934125 \nL 261.216 141.934125 \nL 261.216 115.054125 \nL 234.336 115.054125 \nz\n\" clip-path=\"url(#pf95fc99095)\" style=\"fill: #d3d3d3; opacity: 0.5; stroke: #d3d3d3; stroke-linejoin: miter\"/>\n   </g>\n   <g id=\"patch_10\">\n    <path d=\"M 46.176 168.814125 \nL 73.056 168.814125 \nL 73.056 141.934125 \nL 46.176 141.934125 \nz\n\" clip-path=\"url(#pf95fc99095)\" style=\"fill: #d3d3d3; opacity: 0.5; stroke: #d3d3d3; stroke-linejoin: miter\"/>\n   </g>\n   <g id=\"patch_11\">\n    <path d=\"M 126.816 168.814125 \nL 153.696 168.814125 \nL 153.696 141.934125 \nL 126.816 141.934125 \nz\n\" clip-path=\"url(#pf95fc99095)\" style=\"fill: #d3d3d3; opacity: 0.5; stroke: #d3d3d3; stroke-linejoin: miter\"/>\n   </g>\n   <g id=\"patch_12\">\n    <path d=\"M 207.456 168.814125 \nL 234.336 168.814125 \nL 234.336 141.934125 \nL 207.456 141.934125 \nz\n\" clip-path=\"url(#pf95fc99095)\" style=\"fill: #d3d3d3; opacity: 0.5; stroke: #d3d3d3; stroke-linejoin: miter\"/>\n   </g>\n   <g id=\"patch_13\">\n    <path d=\"M 19.296 195.694125 \nL 46.176 195.694125 \nL 46.176 168.814125 \nL 19.296 168.814125 \nz\n\" clip-path=\"url(#pf95fc99095)\" style=\"fill: #d3d3d3; opacity: 0.5; stroke: #d3d3d3; stroke-linejoin: miter\"/>\n   </g>\n   <g id=\"patch_14\">\n    <path d=\"M 99.936 195.694125 \nL 126.816 195.694125 \nL 126.816 168.814125 \nL 99.936 168.814125 \nz\n\" clip-path=\"url(#pf95fc99095)\" style=\"fill: #d3d3d3; opacity: 0.5; stroke: #d3d3d3; stroke-linejoin: miter\"/>\n   </g>\n   <g id=\"patch_15\">\n    <path d=\"M 126.816 222.574125 \nL 153.696 222.574125 \nL 153.696 195.694125 \nL 126.816 195.694125 \nz\n\" clip-path=\"url(#pf95fc99095)\" style=\"fill: #d3d3d3; opacity: 0.5; stroke: #d3d3d3; stroke-linejoin: miter\"/>\n   </g>\n   <g id=\"patch_16\">\n    <path d=\"M 180.576 222.574125 \nL 207.456 222.574125 \nL 207.456 195.694125 \nL 180.576 195.694125 \nz\n\" clip-path=\"url(#pf95fc99095)\" style=\"fill: #d3d3d3; opacity: 0.5; stroke: #d3d3d3; stroke-linejoin: miter\"/>\n   </g>\n   <g id=\"patch_17\">\n    <path d=\"M 207.456 222.574125 \nL 234.336 222.574125 \nL 234.336 195.694125 \nL 207.456 195.694125 \nz\n\" clip-path=\"url(#pf95fc99095)\" style=\"fill: #d3d3d3; opacity: 0.5; stroke: #d3d3d3; stroke-linejoin: miter\"/>\n   </g>\n   <g id=\"patch_18\">\n    <path d=\"M 19.296 249.454125 \nL 46.176 249.454125 \nL 46.176 222.574125 \nL 19.296 222.574125 \nz\n\" clip-path=\"url(#pf95fc99095)\" style=\"fill: #d3d3d3; opacity: 0.5; stroke: #d3d3d3; stroke-linejoin: miter\"/>\n   </g>\n   <g id=\"patch_19\">\n    <path d=\"M 153.696 249.454125 \nL 180.576 249.454125 \nL 180.576 222.574125 \nL 153.696 222.574125 \nz\n\" clip-path=\"url(#pf95fc99095)\" style=\"fill: #d3d3d3; opacity: 0.5; stroke: #d3d3d3; stroke-linejoin: miter\"/>\n   </g>\n   <g id=\"patch_20\">\n    <path d=\"M 207.456 276.334125 \nL 234.336 276.334125 \nL 234.336 249.454125 \nL 207.456 249.454125 \nz\n\" clip-path=\"url(#pf95fc99095)\" style=\"fill: #d3d3d3; opacity: 0.5; stroke: #d3d3d3; stroke-linejoin: miter\"/>\n   </g>\n   <g id=\"line2d_1\">\n    <path d=\"M 19.296 276.334125 \nL 261.216 276.334125 \n\" clip-path=\"url(#pf95fc99095)\" style=\"fill: none; stroke: #000000; stroke-width: 2; stroke-linecap: square\"/>\n   </g>\n   <g id=\"line2d_2\">\n    <path d=\"M 19.296 276.334125 \nL 19.296 34.414125 \n\" clip-path=\"url(#pf95fc99095)\" style=\"fill: none; stroke: #000000; stroke-width: 2; stroke-linecap: square\"/>\n   </g>\n   <g id=\"line2d_3\">\n    <path d=\"M 19.296 249.454125 \nL 261.216 249.454125 \n\" clip-path=\"url(#pf95fc99095)\" style=\"fill: none; stroke: #000000; stroke-linecap: square\"/>\n   </g>\n   <g id=\"line2d_4\">\n    <path d=\"M 46.176 276.334125 \nL 46.176 34.414125 \n\" clip-path=\"url(#pf95fc99095)\" style=\"fill: none; stroke: #000000; stroke-linecap: square\"/>\n   </g>\n   <g id=\"line2d_5\">\n    <path d=\"M 19.296 222.574125 \nL 261.216 222.574125 \n\" clip-path=\"url(#pf95fc99095)\" style=\"fill: none; stroke: #000000; stroke-linecap: square\"/>\n   </g>\n   <g id=\"line2d_6\">\n    <path d=\"M 73.056 276.334125 \nL 73.056 34.414125 \n\" clip-path=\"url(#pf95fc99095)\" style=\"fill: none; stroke: #000000; stroke-linecap: square\"/>\n   </g>\n   <g id=\"line2d_7\">\n    <path d=\"M 19.296 195.694125 \nL 261.216 195.694125 \n\" clip-path=\"url(#pf95fc99095)\" style=\"fill: none; stroke: #000000; stroke-width: 2; stroke-linecap: square\"/>\n   </g>\n   <g id=\"line2d_8\">\n    <path d=\"M 99.936 276.334125 \nL 99.936 34.414125 \n\" clip-path=\"url(#pf95fc99095)\" style=\"fill: none; stroke: #000000; stroke-width: 2; stroke-linecap: square\"/>\n   </g>\n   <g id=\"line2d_9\">\n    <path d=\"M 19.296 168.814125 \nL 261.216 168.814125 \n\" clip-path=\"url(#pf95fc99095)\" style=\"fill: none; stroke: #000000; stroke-linecap: square\"/>\n   </g>\n   <g id=\"line2d_10\">\n    <path d=\"M 126.816 276.334125 \nL 126.816 34.414125 \n\" clip-path=\"url(#pf95fc99095)\" style=\"fill: none; stroke: #000000; stroke-linecap: square\"/>\n   </g>\n   <g id=\"line2d_11\">\n    <path d=\"M 19.296 141.934125 \nL 261.216 141.934125 \n\" clip-path=\"url(#pf95fc99095)\" style=\"fill: none; stroke: #000000; stroke-linecap: square\"/>\n   </g>\n   <g id=\"line2d_12\">\n    <path d=\"M 153.696 276.334125 \nL 153.696 34.414125 \n\" clip-path=\"url(#pf95fc99095)\" style=\"fill: none; stroke: #000000; stroke-linecap: square\"/>\n   </g>\n   <g id=\"line2d_13\">\n    <path d=\"M 19.296 115.054125 \nL 261.216 115.054125 \n\" clip-path=\"url(#pf95fc99095)\" style=\"fill: none; stroke: #000000; stroke-width: 2; stroke-linecap: square\"/>\n   </g>\n   <g id=\"line2d_14\">\n    <path d=\"M 180.576 276.334125 \nL 180.576 34.414125 \n\" clip-path=\"url(#pf95fc99095)\" style=\"fill: none; stroke: #000000; stroke-width: 2; stroke-linecap: square\"/>\n   </g>\n   <g id=\"line2d_15\">\n    <path d=\"M 19.296 88.174125 \nL 261.216 88.174125 \n\" clip-path=\"url(#pf95fc99095)\" style=\"fill: none; stroke: #000000; stroke-linecap: square\"/>\n   </g>\n   <g id=\"line2d_16\">\n    <path d=\"M 207.456 276.334125 \nL 207.456 34.414125 \n\" clip-path=\"url(#pf95fc99095)\" style=\"fill: none; stroke: #000000; stroke-linecap: square\"/>\n   </g>\n   <g id=\"line2d_17\">\n    <path d=\"M 19.296 61.294125 \nL 261.216 61.294125 \n\" clip-path=\"url(#pf95fc99095)\" style=\"fill: none; stroke: #000000; stroke-linecap: square\"/>\n   </g>\n   <g id=\"line2d_18\">\n    <path d=\"M 234.336 276.334125 \nL 234.336 34.414125 \n\" clip-path=\"url(#pf95fc99095)\" style=\"fill: none; stroke: #000000; stroke-linecap: square\"/>\n   </g>\n   <g id=\"line2d_19\">\n    <path d=\"M 19.296 34.414125 \nL 261.216 34.414125 \n\" clip-path=\"url(#pf95fc99095)\" style=\"fill: none; stroke: #000000; stroke-width: 2; stroke-linecap: square\"/>\n   </g>\n   <g id=\"line2d_20\">\n    <path d=\"M 261.216 276.334125 \nL 261.216 34.414125 \n\" clip-path=\"url(#pf95fc99095)\" style=\"fill: none; stroke: #000000; stroke-width: 2; stroke-linecap: square\"/>\n   </g>\n   <g id=\"text_1\">\n    <!-- 2 -->\n    <g style=\"fill: #808080\" transform=\"translate(55.441312 51.165375) scale(0.12 -0.12)\">\n     <defs>\n      <path id=\"DejaVuSans-Bold-32\" d=\"M 1844 884 \nL 3897 884 \nL 3897 0 \nL 506 0 \nL 506 884 \nL 2209 2388 \nQ 2438 2594 2547 2791 \nQ 2656 2988 2656 3200 \nQ 2656 3528 2436 3728 \nQ 2216 3928 1850 3928 \nQ 1569 3928 1234 3808 \nQ 900 3688 519 3450 \nL 519 4475 \nQ 925 4609 1322 4679 \nQ 1719 4750 2100 4750 \nQ 2938 4750 3402 4381 \nQ 3866 4013 3866 3353 \nQ 3866 2972 3669 2642 \nQ 3472 2313 2841 1759 \nL 1844 884 \nz\n\" transform=\"scale(0.015625)\"/>\n     </defs>\n     <use xlink:href=\"#DejaVuSans-Bold-32\"/>\n    </g>\n   </g>\n   <g id=\"text_2\">\n    <!-- 6 -->\n    <g style=\"fill: #808080\" transform=\"translate(109.201312 78.045375) scale(0.12 -0.12)\">\n     <defs>\n      <path id=\"DejaVuSans-Bold-36\" d=\"M 2316 2303 \nQ 2000 2303 1842 2098 \nQ 1684 1894 1684 1484 \nQ 1684 1075 1842 870 \nQ 2000 666 2316 666 \nQ 2634 666 2792 870 \nQ 2950 1075 2950 1484 \nQ 2950 1894 2792 2098 \nQ 2634 2303 2316 2303 \nz\nM 3803 4544 \nL 3803 3681 \nQ 3506 3822 3243 3889 \nQ 2981 3956 2731 3956 \nQ 2194 3956 1894 3657 \nQ 1594 3359 1544 2772 \nQ 1750 2925 1990 3001 \nQ 2231 3078 2516 3078 \nQ 3231 3078 3670 2659 \nQ 4109 2241 4109 1563 \nQ 4109 813 3618 361 \nQ 3128 -91 2303 -91 \nQ 1394 -91 895 523 \nQ 397 1138 397 2266 \nQ 397 3422 980 4083 \nQ 1563 4744 2578 4744 \nQ 2900 4744 3203 4694 \nQ 3506 4644 3803 4544 \nz\n\" transform=\"scale(0.015625)\"/>\n     </defs>\n     <use xlink:href=\"#DejaVuSans-Bold-36\"/>\n    </g>\n   </g>\n   <g id=\"text_3\">\n    <!-- 3 -->\n    <g style=\"fill: #808080\" transform=\"translate(243.601312 78.045375) scale(0.12 -0.12)\">\n     <defs>\n      <path id=\"DejaVuSans-Bold-33\" d=\"M 2981 2516 \nQ 3453 2394 3698 2092 \nQ 3944 1791 3944 1325 \nQ 3944 631 3412 270 \nQ 2881 -91 1863 -91 \nQ 1503 -91 1142 -33 \nQ 781 25 428 141 \nL 428 1069 \nQ 766 900 1098 814 \nQ 1431 728 1753 728 \nQ 2231 728 2486 893 \nQ 2741 1059 2741 1369 \nQ 2741 1688 2480 1852 \nQ 2219 2016 1709 2016 \nL 1228 2016 \nL 1228 2791 \nL 1734 2791 \nQ 2188 2791 2409 2933 \nQ 2631 3075 2631 3366 \nQ 2631 3634 2415 3781 \nQ 2200 3928 1806 3928 \nQ 1516 3928 1219 3862 \nQ 922 3797 628 3669 \nL 628 4550 \nQ 984 4650 1334 4700 \nQ 1684 4750 2022 4750 \nQ 2931 4750 3382 4451 \nQ 3834 4153 3834 3553 \nQ 3834 3144 3618 2883 \nQ 3403 2622 2981 2516 \nz\n\" transform=\"scale(0.015625)\"/>\n     </defs>\n     <use xlink:href=\"#DejaVuSans-Bold-33\"/>\n    </g>\n   </g>\n   <g id=\"text_4\">\n    <!-- 7 -->\n    <g style=\"fill: #808080\" transform=\"translate(55.441312 104.925375) scale(0.12 -0.12)\">\n     <defs>\n      <path id=\"DejaVuSans-Bold-37\" d=\"M 428 4666 \nL 3944 4666 \nL 3944 3988 \nL 2125 0 \nL 953 0 \nL 2675 3781 \nL 428 3781 \nL 428 4666 \nz\n\" transform=\"scale(0.015625)\"/>\n     </defs>\n     <use xlink:href=\"#DejaVuSans-Bold-37\"/>\n    </g>\n   </g>\n   <g id=\"text_5\">\n    <!-- 4 -->\n    <g style=\"fill: #808080\" transform=\"translate(82.321312 104.925375) scale(0.12 -0.12)\">\n     <defs>\n      <path id=\"DejaVuSans-Bold-34\" d=\"M 2356 3675 \nL 1038 1722 \nL 2356 1722 \nL 2356 3675 \nz\nM 2156 4666 \nL 3494 4666 \nL 3494 1722 \nL 4159 1722 \nL 4159 850 \nL 3494 850 \nL 3494 0 \nL 2356 0 \nL 2356 850 \nL 288 850 \nL 288 1881 \nL 2156 4666 \nz\n\" transform=\"scale(0.015625)\"/>\n     </defs>\n     <use xlink:href=\"#DejaVuSans-Bold-34\"/>\n    </g>\n   </g>\n   <g id=\"text_6\">\n    <!-- 8 -->\n    <g style=\"fill: #808080\" transform=\"translate(136.081312 104.925375) scale(0.12 -0.12)\">\n     <defs>\n      <path id=\"DejaVuSans-Bold-38\" d=\"M 2228 2088 \nQ 1891 2088 1709 1903 \nQ 1528 1719 1528 1375 \nQ 1528 1031 1709 848 \nQ 1891 666 2228 666 \nQ 2563 666 2741 848 \nQ 2919 1031 2919 1375 \nQ 2919 1722 2741 1905 \nQ 2563 2088 2228 2088 \nz\nM 1350 2484 \nQ 925 2613 709 2878 \nQ 494 3144 494 3541 \nQ 494 4131 934 4440 \nQ 1375 4750 2228 4750 \nQ 3075 4750 3515 4442 \nQ 3956 4134 3956 3541 \nQ 3956 3144 3739 2878 \nQ 3522 2613 3097 2484 \nQ 3572 2353 3814 2058 \nQ 4056 1763 4056 1313 \nQ 4056 619 3595 264 \nQ 3134 -91 2228 -91 \nQ 1319 -91 855 264 \nQ 391 619 391 1313 \nQ 391 1763 633 2058 \nQ 875 2353 1350 2484 \nz\nM 1631 3419 \nQ 1631 3141 1786 2991 \nQ 1941 2841 2228 2841 \nQ 2509 2841 2662 2991 \nQ 2816 3141 2816 3419 \nQ 2816 3697 2662 3845 \nQ 2509 3994 2228 3994 \nQ 1941 3994 1786 3844 \nQ 1631 3694 1631 3419 \nz\n\" transform=\"scale(0.015625)\"/>\n     </defs>\n     <use xlink:href=\"#DejaVuSans-Bold-38\"/>\n    </g>\n   </g>\n   <g id=\"text_7\">\n    <!-- 3 -->\n    <g style=\"fill: #808080\" transform=\"translate(162.961312 131.805375) scale(0.12 -0.12)\">\n     <use xlink:href=\"#DejaVuSans-Bold-33\"/>\n    </g>\n   </g>\n   <g id=\"text_8\">\n    <!-- 2 -->\n    <g style=\"fill: #808080\" transform=\"translate(243.601312 131.805375) scale(0.12 -0.12)\">\n     <use xlink:href=\"#DejaVuSans-Bold-32\"/>\n    </g>\n   </g>\n   <g id=\"text_9\">\n    <!-- 8 -->\n    <g style=\"fill: #808080\" transform=\"translate(55.441312 158.685375) scale(0.12 -0.12)\">\n     <use xlink:href=\"#DejaVuSans-Bold-38\"/>\n    </g>\n   </g>\n   <g id=\"text_10\">\n    <!-- 4 -->\n    <g style=\"fill: #808080\" transform=\"translate(136.081312 158.685375) scale(0.12 -0.12)\">\n     <use xlink:href=\"#DejaVuSans-Bold-34\"/>\n    </g>\n   </g>\n   <g id=\"text_11\">\n    <!-- 1 -->\n    <g style=\"fill: #808080\" transform=\"translate(216.721312 158.685375) scale(0.12 -0.12)\">\n     <defs>\n      <path id=\"DejaVuSans-Bold-31\" d=\"M 750 831 \nL 1813 831 \nL 1813 3847 \nL 722 3622 \nL 722 4441 \nL 1806 4666 \nL 2950 4666 \nL 2950 831 \nL 4013 831 \nL 4013 0 \nL 750 0 \nL 750 831 \nz\n\" transform=\"scale(0.015625)\"/>\n     </defs>\n     <use xlink:href=\"#DejaVuSans-Bold-31\"/>\n    </g>\n   </g>\n   <g id=\"text_12\">\n    <!-- 6 -->\n    <g style=\"fill: #808080\" transform=\"translate(28.561312 185.565375) scale(0.12 -0.12)\">\n     <use xlink:href=\"#DejaVuSans-Bold-36\"/>\n    </g>\n   </g>\n   <g id=\"text_13\">\n    <!-- 5 -->\n    <g style=\"fill: #808080\" transform=\"translate(109.201312 185.565375) scale(0.12 -0.12)\">\n     <defs>\n      <path id=\"DejaVuSans-Bold-35\" d=\"M 678 4666 \nL 3669 4666 \nL 3669 3781 \nL 1638 3781 \nL 1638 3059 \nQ 1775 3097 1914 3117 \nQ 2053 3138 2203 3138 \nQ 3056 3138 3531 2711 \nQ 4006 2284 4006 1522 \nQ 4006 766 3489 337 \nQ 2972 -91 2053 -91 \nQ 1656 -91 1267 -14 \nQ 878 63 494 219 \nL 494 1166 \nQ 875 947 1217 837 \nQ 1559 728 1863 728 \nQ 2300 728 2551 942 \nQ 2803 1156 2803 1522 \nQ 2803 1891 2551 2103 \nQ 2300 2316 1863 2316 \nQ 1603 2316 1309 2248 \nQ 1016 2181 678 2041 \nL 678 4666 \nz\n\" transform=\"scale(0.015625)\"/>\n     </defs>\n     <use xlink:href=\"#DejaVuSans-Bold-35\"/>\n    </g>\n   </g>\n   <g id=\"text_14\">\n    <!-- 1 -->\n    <g style=\"fill: #808080\" transform=\"translate(136.081312 212.445375) scale(0.12 -0.12)\">\n     <use xlink:href=\"#DejaVuSans-Bold-31\"/>\n    </g>\n   </g>\n   <g id=\"text_15\">\n    <!-- 7 -->\n    <g style=\"fill: #808080\" transform=\"translate(189.841312 212.445375) scale(0.12 -0.12)\">\n     <use xlink:href=\"#DejaVuSans-Bold-37\"/>\n    </g>\n   </g>\n   <g id=\"text_16\">\n    <!-- 8 -->\n    <g style=\"fill: #808080\" transform=\"translate(216.721312 212.445375) scale(0.12 -0.12)\">\n     <use xlink:href=\"#DejaVuSans-Bold-38\"/>\n    </g>\n   </g>\n   <g id=\"text_17\">\n    <!-- 5 -->\n    <g style=\"fill: #808080\" transform=\"translate(28.561312 239.325375) scale(0.12 -0.12)\">\n     <use xlink:href=\"#DejaVuSans-Bold-35\"/>\n    </g>\n   </g>\n   <g id=\"text_18\">\n    <!-- 9 -->\n    <g style=\"fill: #808080\" transform=\"translate(162.961312 239.325375) scale(0.12 -0.12)\">\n     <defs>\n      <path id=\"DejaVuSans-Bold-39\" d=\"M 641 103 \nL 641 966 \nQ 928 831 1190 764 \nQ 1453 697 1709 697 \nQ 2247 697 2547 995 \nQ 2847 1294 2900 1881 \nQ 2688 1725 2447 1647 \nQ 2206 1569 1925 1569 \nQ 1209 1569 770 1986 \nQ 331 2403 331 3084 \nQ 331 3838 820 4291 \nQ 1309 4744 2131 4744 \nQ 3044 4744 3544 4128 \nQ 4044 3513 4044 2388 \nQ 4044 1231 3459 570 \nQ 2875 -91 1856 -91 \nQ 1528 -91 1228 -42 \nQ 928 6 641 103 \nz\nM 2125 2350 \nQ 2441 2350 2600 2554 \nQ 2759 2759 2759 3169 \nQ 2759 3575 2600 3781 \nQ 2441 3988 2125 3988 \nQ 1809 3988 1650 3781 \nQ 1491 3575 1491 3169 \nQ 1491 2759 1650 2554 \nQ 1809 2350 2125 2350 \nz\n\" transform=\"scale(0.015625)\"/>\n     </defs>\n     <use xlink:href=\"#DejaVuSans-Bold-39\"/>\n    </g>\n   </g>\n   <g id=\"text_19\">\n    <!-- 4 -->\n    <g style=\"fill: #808080\" transform=\"translate(216.721312 266.205375) scale(0.12 -0.12)\">\n     <use xlink:href=\"#DejaVuSans-Bold-34\"/>\n    </g>\n   </g>\n   <g id=\"text_20\">\n    <!-- A hard problem -->\n    <g transform=\"translate(7.2 16.318125) scale(0.12 -0.12)\">\n     <defs>\n      <path id=\"DejaVuSans-Bold-41\" d=\"M 3419 850 \nL 1538 850 \nL 1241 0 \nL 31 0 \nL 1759 4666 \nL 3194 4666 \nL 4922 0 \nL 3713 0 \nL 3419 850 \nz\nM 1838 1716 \nL 3116 1716 \nL 2478 3572 \nL 1838 1716 \nz\n\" transform=\"scale(0.015625)\"/>\n      <path id=\"DejaVuSans-Bold-20\" transform=\"scale(0.015625)\"/>\n      <path id=\"DejaVuSans-Bold-68\" d=\"M 4056 2131 \nL 4056 0 \nL 2931 0 \nL 2931 347 \nL 2931 1625 \nQ 2931 2084 2911 2256 \nQ 2891 2428 2841 2509 \nQ 2775 2619 2662 2680 \nQ 2550 2741 2406 2741 \nQ 2056 2741 1856 2470 \nQ 1656 2200 1656 1722 \nL 1656 0 \nL 538 0 \nL 538 4863 \nL 1656 4863 \nL 1656 2988 \nQ 1909 3294 2193 3439 \nQ 2478 3584 2822 3584 \nQ 3428 3584 3742 3212 \nQ 4056 2841 4056 2131 \nz\n\" transform=\"scale(0.015625)\"/>\n      <path id=\"DejaVuSans-Bold-61\" d=\"M 2106 1575 \nQ 1756 1575 1579 1456 \nQ 1403 1338 1403 1106 \nQ 1403 894 1545 773 \nQ 1688 653 1941 653 \nQ 2256 653 2472 879 \nQ 2688 1106 2688 1447 \nL 2688 1575 \nL 2106 1575 \nz\nM 3816 1997 \nL 3816 0 \nL 2688 0 \nL 2688 519 \nQ 2463 200 2181 54 \nQ 1900 -91 1497 -91 \nQ 953 -91 614 226 \nQ 275 544 275 1050 \nQ 275 1666 698 1953 \nQ 1122 2241 2028 2241 \nL 2688 2241 \nL 2688 2328 \nQ 2688 2594 2478 2717 \nQ 2269 2841 1825 2841 \nQ 1466 2841 1156 2769 \nQ 847 2697 581 2553 \nL 581 3406 \nQ 941 3494 1303 3539 \nQ 1666 3584 2028 3584 \nQ 2975 3584 3395 3211 \nQ 3816 2838 3816 1997 \nz\n\" transform=\"scale(0.015625)\"/>\n      <path id=\"DejaVuSans-Bold-72\" d=\"M 3138 2547 \nQ 2991 2616 2845 2648 \nQ 2700 2681 2553 2681 \nQ 2122 2681 1889 2404 \nQ 1656 2128 1656 1613 \nL 1656 0 \nL 538 0 \nL 538 3500 \nL 1656 3500 \nL 1656 2925 \nQ 1872 3269 2151 3426 \nQ 2431 3584 2822 3584 \nQ 2878 3584 2943 3579 \nQ 3009 3575 3134 3559 \nL 3138 2547 \nz\n\" transform=\"scale(0.015625)\"/>\n      <path id=\"DejaVuSans-Bold-64\" d=\"M 2919 2988 \nL 2919 4863 \nL 4044 4863 \nL 4044 0 \nL 2919 0 \nL 2919 506 \nQ 2688 197 2409 53 \nQ 2131 -91 1766 -91 \nQ 1119 -91 703 423 \nQ 288 938 288 1747 \nQ 288 2556 703 3070 \nQ 1119 3584 1766 3584 \nQ 2128 3584 2408 3439 \nQ 2688 3294 2919 2988 \nz\nM 2181 722 \nQ 2541 722 2730 984 \nQ 2919 1247 2919 1747 \nQ 2919 2247 2730 2509 \nQ 2541 2772 2181 2772 \nQ 1825 2772 1636 2509 \nQ 1447 2247 1447 1747 \nQ 1447 1247 1636 984 \nQ 1825 722 2181 722 \nz\n\" transform=\"scale(0.015625)\"/>\n      <path id=\"DejaVuSans-Bold-70\" d=\"M 1656 506 \nL 1656 -1331 \nL 538 -1331 \nL 538 3500 \nL 1656 3500 \nL 1656 2988 \nQ 1888 3294 2169 3439 \nQ 2450 3584 2816 3584 \nQ 3463 3584 3878 3070 \nQ 4294 2556 4294 1747 \nQ 4294 938 3878 423 \nQ 3463 -91 2816 -91 \nQ 2450 -91 2169 54 \nQ 1888 200 1656 506 \nz\nM 2400 2772 \nQ 2041 2772 1848 2508 \nQ 1656 2244 1656 1747 \nQ 1656 1250 1848 986 \nQ 2041 722 2400 722 \nQ 2759 722 2948 984 \nQ 3138 1247 3138 1747 \nQ 3138 2247 2948 2509 \nQ 2759 2772 2400 2772 \nz\n\" transform=\"scale(0.015625)\"/>\n      <path id=\"DejaVuSans-Bold-6f\" d=\"M 2203 2784 \nQ 1831 2784 1636 2517 \nQ 1441 2250 1441 1747 \nQ 1441 1244 1636 976 \nQ 1831 709 2203 709 \nQ 2569 709 2762 976 \nQ 2956 1244 2956 1747 \nQ 2956 2250 2762 2517 \nQ 2569 2784 2203 2784 \nz\nM 2203 3584 \nQ 3106 3584 3614 3096 \nQ 4122 2609 4122 1747 \nQ 4122 884 3614 396 \nQ 3106 -91 2203 -91 \nQ 1297 -91 786 396 \nQ 275 884 275 1747 \nQ 275 2609 786 3096 \nQ 1297 3584 2203 3584 \nz\n\" transform=\"scale(0.015625)\"/>\n      <path id=\"DejaVuSans-Bold-62\" d=\"M 2400 722 \nQ 2759 722 2948 984 \nQ 3138 1247 3138 1747 \nQ 3138 2247 2948 2509 \nQ 2759 2772 2400 2772 \nQ 2041 2772 1848 2508 \nQ 1656 2244 1656 1747 \nQ 1656 1250 1848 986 \nQ 2041 722 2400 722 \nz\nM 1656 2988 \nQ 1888 3294 2169 3439 \nQ 2450 3584 2816 3584 \nQ 3463 3584 3878 3070 \nQ 4294 2556 4294 1747 \nQ 4294 938 3878 423 \nQ 3463 -91 2816 -91 \nQ 2450 -91 2169 54 \nQ 1888 200 1656 506 \nL 1656 0 \nL 538 0 \nL 538 4863 \nL 1656 4863 \nL 1656 2988 \nz\n\" transform=\"scale(0.015625)\"/>\n      <path id=\"DejaVuSans-Bold-6c\" d=\"M 538 4863 \nL 1656 4863 \nL 1656 0 \nL 538 0 \nL 538 4863 \nz\n\" transform=\"scale(0.015625)\"/>\n      <path id=\"DejaVuSans-Bold-65\" d=\"M 4031 1759 \nL 4031 1441 \nL 1416 1441 \nQ 1456 1047 1700 850 \nQ 1944 653 2381 653 \nQ 2734 653 3104 758 \nQ 3475 863 3866 1075 \nL 3866 213 \nQ 3469 63 3072 -14 \nQ 2675 -91 2278 -91 \nQ 1328 -91 801 392 \nQ 275 875 275 1747 \nQ 275 2603 792 3093 \nQ 1309 3584 2216 3584 \nQ 3041 3584 3536 3087 \nQ 4031 2591 4031 1759 \nz\nM 2881 2131 \nQ 2881 2450 2695 2645 \nQ 2509 2841 2209 2841 \nQ 1884 2841 1681 2658 \nQ 1478 2475 1428 2131 \nL 2881 2131 \nz\n\" transform=\"scale(0.015625)\"/>\n      <path id=\"DejaVuSans-Bold-6d\" d=\"M 3781 2919 \nQ 3994 3244 4286 3414 \nQ 4578 3584 4928 3584 \nQ 5531 3584 5847 3212 \nQ 6163 2841 6163 2131 \nL 6163 0 \nL 5038 0 \nL 5038 1825 \nQ 5041 1866 5042 1909 \nQ 5044 1953 5044 2034 \nQ 5044 2406 4934 2573 \nQ 4825 2741 4581 2741 \nQ 4263 2741 4089 2478 \nQ 3916 2216 3909 1719 \nL 3909 0 \nL 2784 0 \nL 2784 1825 \nQ 2784 2406 2684 2573 \nQ 2584 2741 2328 2741 \nQ 2006 2741 1831 2477 \nQ 1656 2213 1656 1722 \nL 1656 0 \nL 531 0 \nL 531 3500 \nL 1656 3500 \nL 1656 2988 \nQ 1863 3284 2130 3434 \nQ 2397 3584 2719 3584 \nQ 3081 3584 3359 3409 \nQ 3638 3234 3781 2919 \nz\n\" transform=\"scale(0.015625)\"/>\n     </defs>\n     <use xlink:href=\"#DejaVuSans-Bold-41\"/>\n     <use xlink:href=\"#DejaVuSans-Bold-20\" x=\"77.392578\"/>\n     <use xlink:href=\"#DejaVuSans-Bold-68\" x=\"112.207031\"/>\n     <use xlink:href=\"#DejaVuSans-Bold-61\" x=\"183.398438\"/>\n     <use xlink:href=\"#DejaVuSans-Bold-72\" x=\"250.878906\"/>\n     <use xlink:href=\"#DejaVuSans-Bold-64\" x=\"300.195312\"/>\n     <use xlink:href=\"#DejaVuSans-Bold-20\" x=\"371.777344\"/>\n     <use xlink:href=\"#DejaVuSans-Bold-70\" x=\"406.591797\"/>\n     <use xlink:href=\"#DejaVuSans-Bold-72\" x=\"478.173828\"/>\n     <use xlink:href=\"#DejaVuSans-Bold-6f\" x=\"527.490234\"/>\n     <use xlink:href=\"#DejaVuSans-Bold-62\" x=\"596.191406\"/>\n     <use xlink:href=\"#DejaVuSans-Bold-6c\" x=\"667.773438\"/>\n     <use xlink:href=\"#DejaVuSans-Bold-65\" x=\"702.050781\"/>\n     <use xlink:href=\"#DejaVuSans-Bold-6d\" x=\"769.873047\"/>\n    </g>\n   </g>\n  </g>\n </g>\n <defs>\n  <clipPath id=\"pf95fc99095\">\n   <rect x=\"7.2\" y=\"22.318125\" width=\"266.112\" height=\"266.112\"/>\n  </clipPath>\n </defs>\n</svg>\n"
          },
          "metadata": {},
          "execution_count": 76
        }
      ],
      "source": [
        "sudoku"
      ]
    },
    {
      "cell_type": "code",
      "execution_count": null,
      "metadata": {
        "id": "sFt1-XkfikL1"
      },
      "outputs": [],
      "source": [
        "options, items = initial_graph(sudoku)"
      ]
    },
    {
      "cell_type": "code",
      "execution_count": null,
      "metadata": {
        "id": "s8kuEzp4ikL2"
      },
      "outputs": [],
      "source": [
        "# pprint(items)"
      ]
    },
    {
      "cell_type": "code",
      "execution_count": 78,
      "metadata": {
        "id": "pJYBp9IQikL3",
        "outputId": "9e3b30fa-a4f5-4e31-a19b-0190284d2caf",
        "colab": {
          "base_uri": "https://localhost:8080/"
        }
      },
      "outputs": [
        {
          "output_type": "stream",
          "name": "stdout",
          "text": [
            "79.4 ms ± 408 µs per loop (mean ± std. dev. of 7 runs, 10 loops each)\n"
          ]
        }
      ],
      "source": [
        "\n",
        "%timeit sudoku_solved = sudoku_solver(sudoku)"
      ]
    },
    {
      "cell_type": "code",
      "execution_count": 79,
      "metadata": {
        "id": "6OxBvIbrikL3",
        "outputId": "fc52cf06-9ee6-406f-be6c-d476c6c7720f",
        "colab": {
          "base_uri": "https://localhost:8080/",
          "height": 518
        }
      },
      "outputs": [
        {
          "output_type": "execute_result",
          "data": {
            "text/plain": [
              "<__main__.Sudoku at 0x7a92d45ca4d0>"
            ],
            "text/html": [
              "<html>\n",
              "<head>\n",
              "<style>\n",
              "\n",
              "        .sudoku-board-a60610c8-92a2-11ee-895d-0242ac1c000c, .sudoku-board-a60610c8-92a2-11ee-895d-0242ac1c000c .box, .sudoku-board-a60610c8-92a2-11ee-895d-0242ac1c000c .box div {\n",
              "            box-sizing: border-box;\n",
              "        }\n",
              "        \n",
              "        .sudoku-board-a60610c8-92a2-11ee-895d-0242ac1c000c, .sudoku-board-a60610c8-92a2-11ee-895d-0242ac1c000c .box{\n",
              "            display: flex;\n",
              "            flex-wrap: wrap;\n",
              "        }\n",
              "\n",
              "        .sudoku-board-a60610c8-92a2-11ee-895d-0242ac1c000c .box {\n",
              "           border: solid 1px;\n",
              "           width: 152px;  \n",
              "        }\n",
              "        \n",
              "        .sudoku-board-a60610c8-92a2-11ee-895d-0242ac1c000c .box > div {\n",
              "            border: solid 1px;\n",
              "            width: 50px;\n",
              "            text-align: center;\n",
              "        }\n",
              "\n",
              "        .sudoku-board-a60610c8-92a2-11ee-895d-0242ac1c000c .box > div:before {\n",
              "            display: inline-block;\n",
              "            padding-top: 100%;\n",
              "            content: '';\n",
              "            vertical-align: middle;\n",
              "        }\n",
              "\n",
              "        .sudoku-board-a60610c8-92a2-11ee-895d-0242ac1c000c .box .clue {\n",
              "            background-color: LightGray;\n",
              "            font-weight: bold;\n",
              "        }\n",
              "\n",
              "        .sudoku-board-a60610c8-92a2-11ee-895d-0242ac1c000c {\n",
              "            width: 460px;\n",
              "            margin: 0px;\n",
              "            font-size: calc(0.8vw + 10px);\n",
              "            border: solid 2px;\n",
              "        }\n",
              "\n",
              "        .sudoku-board-a60610c8-92a2-11ee-895d-0242ac1c000c .box div {\n",
              "            color: gray;\n",
              "            text-shadow: 1px 1px 1px white;\n",
              "            vertical-align: middle;\n",
              "        }\n",
              "    \n",
              "</style>\n",
              "</head>\n",
              "<body>\n",
              "<h3>A hard problem</h3>\n",
              "<div class=\"sudoku-board-a60610c8-92a2-11ee-895d-0242ac1c000c\">\n",
              "<div class=\"box\"><div class=\"solved\">1</div><div class=\"clue\">2</div><div class=\"solved\">6</div><div class=\"solved\">8</div><div class=\"solved\">9</div><div class=\"solved\">5</div><div class=\"solved\">3</div><div class=\"clue\">7</div><div class=\"clue\">4</div></div>\n",
              "<div class=\"box\"><div class=\"solved\">4</div><div class=\"solved\">3</div><div class=\"solved\">7</div><div class=\"clue\">6</div><div class=\"solved\">2</div><div class=\"solved\">1</div><div class=\"solved\">9</div><div class=\"clue\">8</div><div class=\"solved\">5</div></div>\n",
              "<div class=\"box\"><div class=\"solved\">9</div><div class=\"solved\">5</div><div class=\"solved\">8</div><div class=\"solved\">4</div><div class=\"solved\">7</div><div class=\"clue\">3</div><div class=\"solved\">1</div><div class=\"solved\">2</div><div class=\"solved\">6</div></div>\n",
              "<div class=\"box\"><div class=\"solved\">4</div><div class=\"solved\">5</div><div class=\"solved\">7</div><div class=\"solved\">9</div><div class=\"clue\">8</div><div class=\"solved\">3</div><div class=\"clue\">6</div><div class=\"solved\">1</div><div class=\"solved\">2</div></div>\n",
              "<div class=\"box\"><div class=\"solved\">1</div><div class=\"solved\">9</div><div class=\"clue\">3</div><div class=\"solved\">2</div><div class=\"clue\">4</div><div class=\"solved\">6</div><div class=\"clue\">5</div><div class=\"solved\">7</div><div class=\"solved\">8</div></div>\n",
              "<div class=\"box\"><div class=\"solved\">8</div><div class=\"solved\">6</div><div class=\"clue\">2</div><div class=\"solved\">5</div><div class=\"clue\">1</div><div class=\"solved\">7</div><div class=\"solved\">3</div><div class=\"solved\">9</div><div class=\"solved\">4</div></div>\n",
              "<div class=\"box\"><div class=\"solved\">2</div><div class=\"solved\">6</div><div class=\"solved\">9</div><div class=\"clue\">5</div><div class=\"solved\">4</div><div class=\"solved\">8</div><div class=\"solved\">7</div><div class=\"solved\">3</div><div class=\"solved\">1</div></div>\n",
              "<div class=\"box\"><div class=\"solved\">3</div><div class=\"clue\">1</div><div class=\"solved\">4</div><div class=\"solved\">7</div><div class=\"solved\">6</div><div class=\"clue\">9</div><div class=\"solved\">8</div><div class=\"solved\">5</div><div class=\"solved\">2</div></div>\n",
              "<div class=\"box\"><div class=\"clue\">7</div><div class=\"clue\">8</div><div class=\"solved\">5</div><div class=\"solved\">2</div><div class=\"solved\">3</div><div class=\"solved\">1</div><div class=\"solved\">6</div><div class=\"clue\">4</div><div class=\"solved\">9</div></div>\n",
              "</div>\n",
              "</body></html>"
            ],
            "image/svg+xml": "<?xml version=\"1.0\" encoding=\"utf-8\" standalone=\"no\"?>\n<!DOCTYPE svg PUBLIC \"-//W3C//DTD SVG 1.1//EN\"\n  \"http://www.w3.org/Graphics/SVG/1.1/DTD/svg11.dtd\">\n<svg xmlns:xlink=\"http://www.w3.org/1999/xlink\" width=\"280.512pt\" height=\"295.630125pt\" viewBox=\"0 0 280.512 295.630125\" xmlns=\"http://www.w3.org/2000/svg\" version=\"1.1\">\n <metadata>\n  <rdf:RDF xmlns:dc=\"http://purl.org/dc/elements/1.1/\" xmlns:cc=\"http://creativecommons.org/ns#\" xmlns:rdf=\"http://www.w3.org/1999/02/22-rdf-syntax-ns#\">\n   <cc:Work>\n    <dc:type rdf:resource=\"http://purl.org/dc/dcmitype/StillImage\"/>\n    <dc:date>2023-12-04T12:42:56.525489</dc:date>\n    <dc:format>image/svg+xml</dc:format>\n    <dc:creator>\n     <cc:Agent>\n      <dc:title>Matplotlib v3.7.1, https://matplotlib.org/</dc:title>\n     </cc:Agent>\n    </dc:creator>\n   </cc:Work>\n  </rdf:RDF>\n </metadata>\n <defs>\n  <style type=\"text/css\">*{stroke-linejoin: round; stroke-linecap: butt}</style>\n </defs>\n <g id=\"figure_1\">\n  <g id=\"patch_1\">\n   <path d=\"M 0 295.630125 \nL 280.512 295.630125 \nL 280.512 0 \nL 0 0 \nz\n\" style=\"fill: #ffffff\"/>\n  </g>\n  <g id=\"axes_1\">\n   <g id=\"patch_2\">\n    <path d=\"M 46.176 61.294125 \nL 73.056 61.294125 \nL 73.056 34.414125 \nL 46.176 34.414125 \nz\n\" clip-path=\"url(#p3938272c58)\" style=\"fill: #d3d3d3; opacity: 0.5; stroke: #d3d3d3; stroke-linejoin: miter\"/>\n   </g>\n   <g id=\"patch_3\">\n    <path d=\"M 99.936 88.174125 \nL 126.816 88.174125 \nL 126.816 61.294125 \nL 99.936 61.294125 \nz\n\" clip-path=\"url(#p3938272c58)\" style=\"fill: #d3d3d3; opacity: 0.5; stroke: #d3d3d3; stroke-linejoin: miter\"/>\n   </g>\n   <g id=\"patch_4\">\n    <path d=\"M 234.336 88.174125 \nL 261.216 88.174125 \nL 261.216 61.294125 \nL 234.336 61.294125 \nz\n\" clip-path=\"url(#p3938272c58)\" style=\"fill: #d3d3d3; opacity: 0.5; stroke: #d3d3d3; stroke-linejoin: miter\"/>\n   </g>\n   <g id=\"patch_5\">\n    <path d=\"M 46.176 115.054125 \nL 73.056 115.054125 \nL 73.056 88.174125 \nL 46.176 88.174125 \nz\n\" clip-path=\"url(#p3938272c58)\" style=\"fill: #d3d3d3; opacity: 0.5; stroke: #d3d3d3; stroke-linejoin: miter\"/>\n   </g>\n   <g id=\"patch_6\">\n    <path d=\"M 73.056 115.054125 \nL 99.936 115.054125 \nL 99.936 88.174125 \nL 73.056 88.174125 \nz\n\" clip-path=\"url(#p3938272c58)\" style=\"fill: #d3d3d3; opacity: 0.5; stroke: #d3d3d3; stroke-linejoin: miter\"/>\n   </g>\n   <g id=\"patch_7\">\n    <path d=\"M 126.816 115.054125 \nL 153.696 115.054125 \nL 153.696 88.174125 \nL 126.816 88.174125 \nz\n\" clip-path=\"url(#p3938272c58)\" style=\"fill: #d3d3d3; opacity: 0.5; stroke: #d3d3d3; stroke-linejoin: miter\"/>\n   </g>\n   <g id=\"patch_8\">\n    <path d=\"M 153.696 141.934125 \nL 180.576 141.934125 \nL 180.576 115.054125 \nL 153.696 115.054125 \nz\n\" clip-path=\"url(#p3938272c58)\" style=\"fill: #d3d3d3; opacity: 0.5; stroke: #d3d3d3; stroke-linejoin: miter\"/>\n   </g>\n   <g id=\"patch_9\">\n    <path d=\"M 234.336 141.934125 \nL 261.216 141.934125 \nL 261.216 115.054125 \nL 234.336 115.054125 \nz\n\" clip-path=\"url(#p3938272c58)\" style=\"fill: #d3d3d3; opacity: 0.5; stroke: #d3d3d3; stroke-linejoin: miter\"/>\n   </g>\n   <g id=\"patch_10\">\n    <path d=\"M 46.176 168.814125 \nL 73.056 168.814125 \nL 73.056 141.934125 \nL 46.176 141.934125 \nz\n\" clip-path=\"url(#p3938272c58)\" style=\"fill: #d3d3d3; opacity: 0.5; stroke: #d3d3d3; stroke-linejoin: miter\"/>\n   </g>\n   <g id=\"patch_11\">\n    <path d=\"M 126.816 168.814125 \nL 153.696 168.814125 \nL 153.696 141.934125 \nL 126.816 141.934125 \nz\n\" clip-path=\"url(#p3938272c58)\" style=\"fill: #d3d3d3; opacity: 0.5; stroke: #d3d3d3; stroke-linejoin: miter\"/>\n   </g>\n   <g id=\"patch_12\">\n    <path d=\"M 207.456 168.814125 \nL 234.336 168.814125 \nL 234.336 141.934125 \nL 207.456 141.934125 \nz\n\" clip-path=\"url(#p3938272c58)\" style=\"fill: #d3d3d3; opacity: 0.5; stroke: #d3d3d3; stroke-linejoin: miter\"/>\n   </g>\n   <g id=\"patch_13\">\n    <path d=\"M 19.296 195.694125 \nL 46.176 195.694125 \nL 46.176 168.814125 \nL 19.296 168.814125 \nz\n\" clip-path=\"url(#p3938272c58)\" style=\"fill: #d3d3d3; opacity: 0.5; stroke: #d3d3d3; stroke-linejoin: miter\"/>\n   </g>\n   <g id=\"patch_14\">\n    <path d=\"M 99.936 195.694125 \nL 126.816 195.694125 \nL 126.816 168.814125 \nL 99.936 168.814125 \nz\n\" clip-path=\"url(#p3938272c58)\" style=\"fill: #d3d3d3; opacity: 0.5; stroke: #d3d3d3; stroke-linejoin: miter\"/>\n   </g>\n   <g id=\"patch_15\">\n    <path d=\"M 126.816 222.574125 \nL 153.696 222.574125 \nL 153.696 195.694125 \nL 126.816 195.694125 \nz\n\" clip-path=\"url(#p3938272c58)\" style=\"fill: #d3d3d3; opacity: 0.5; stroke: #d3d3d3; stroke-linejoin: miter\"/>\n   </g>\n   <g id=\"patch_16\">\n    <path d=\"M 180.576 222.574125 \nL 207.456 222.574125 \nL 207.456 195.694125 \nL 180.576 195.694125 \nz\n\" clip-path=\"url(#p3938272c58)\" style=\"fill: #d3d3d3; opacity: 0.5; stroke: #d3d3d3; stroke-linejoin: miter\"/>\n   </g>\n   <g id=\"patch_17\">\n    <path d=\"M 207.456 222.574125 \nL 234.336 222.574125 \nL 234.336 195.694125 \nL 207.456 195.694125 \nz\n\" clip-path=\"url(#p3938272c58)\" style=\"fill: #d3d3d3; opacity: 0.5; stroke: #d3d3d3; stroke-linejoin: miter\"/>\n   </g>\n   <g id=\"patch_18\">\n    <path d=\"M 19.296 249.454125 \nL 46.176 249.454125 \nL 46.176 222.574125 \nL 19.296 222.574125 \nz\n\" clip-path=\"url(#p3938272c58)\" style=\"fill: #d3d3d3; opacity: 0.5; stroke: #d3d3d3; stroke-linejoin: miter\"/>\n   </g>\n   <g id=\"patch_19\">\n    <path d=\"M 153.696 249.454125 \nL 180.576 249.454125 \nL 180.576 222.574125 \nL 153.696 222.574125 \nz\n\" clip-path=\"url(#p3938272c58)\" style=\"fill: #d3d3d3; opacity: 0.5; stroke: #d3d3d3; stroke-linejoin: miter\"/>\n   </g>\n   <g id=\"patch_20\">\n    <path d=\"M 207.456 276.334125 \nL 234.336 276.334125 \nL 234.336 249.454125 \nL 207.456 249.454125 \nz\n\" clip-path=\"url(#p3938272c58)\" style=\"fill: #d3d3d3; opacity: 0.5; stroke: #d3d3d3; stroke-linejoin: miter\"/>\n   </g>\n   <g id=\"line2d_1\">\n    <path d=\"M 19.296 276.334125 \nL 261.216 276.334125 \n\" clip-path=\"url(#p3938272c58)\" style=\"fill: none; stroke: #000000; stroke-width: 2; stroke-linecap: square\"/>\n   </g>\n   <g id=\"line2d_2\">\n    <path d=\"M 19.296 276.334125 \nL 19.296 34.414125 \n\" clip-path=\"url(#p3938272c58)\" style=\"fill: none; stroke: #000000; stroke-width: 2; stroke-linecap: square\"/>\n   </g>\n   <g id=\"line2d_3\">\n    <path d=\"M 19.296 249.454125 \nL 261.216 249.454125 \n\" clip-path=\"url(#p3938272c58)\" style=\"fill: none; stroke: #000000; stroke-linecap: square\"/>\n   </g>\n   <g id=\"line2d_4\">\n    <path d=\"M 46.176 276.334125 \nL 46.176 34.414125 \n\" clip-path=\"url(#p3938272c58)\" style=\"fill: none; stroke: #000000; stroke-linecap: square\"/>\n   </g>\n   <g id=\"line2d_5\">\n    <path d=\"M 19.296 222.574125 \nL 261.216 222.574125 \n\" clip-path=\"url(#p3938272c58)\" style=\"fill: none; stroke: #000000; stroke-linecap: square\"/>\n   </g>\n   <g id=\"line2d_6\">\n    <path d=\"M 73.056 276.334125 \nL 73.056 34.414125 \n\" clip-path=\"url(#p3938272c58)\" style=\"fill: none; stroke: #000000; stroke-linecap: square\"/>\n   </g>\n   <g id=\"line2d_7\">\n    <path d=\"M 19.296 195.694125 \nL 261.216 195.694125 \n\" clip-path=\"url(#p3938272c58)\" style=\"fill: none; stroke: #000000; stroke-width: 2; stroke-linecap: square\"/>\n   </g>\n   <g id=\"line2d_8\">\n    <path d=\"M 99.936 276.334125 \nL 99.936 34.414125 \n\" clip-path=\"url(#p3938272c58)\" style=\"fill: none; stroke: #000000; stroke-width: 2; stroke-linecap: square\"/>\n   </g>\n   <g id=\"line2d_9\">\n    <path d=\"M 19.296 168.814125 \nL 261.216 168.814125 \n\" clip-path=\"url(#p3938272c58)\" style=\"fill: none; stroke: #000000; stroke-linecap: square\"/>\n   </g>\n   <g id=\"line2d_10\">\n    <path d=\"M 126.816 276.334125 \nL 126.816 34.414125 \n\" clip-path=\"url(#p3938272c58)\" style=\"fill: none; stroke: #000000; stroke-linecap: square\"/>\n   </g>\n   <g id=\"line2d_11\">\n    <path d=\"M 19.296 141.934125 \nL 261.216 141.934125 \n\" clip-path=\"url(#p3938272c58)\" style=\"fill: none; stroke: #000000; stroke-linecap: square\"/>\n   </g>\n   <g id=\"line2d_12\">\n    <path d=\"M 153.696 276.334125 \nL 153.696 34.414125 \n\" clip-path=\"url(#p3938272c58)\" style=\"fill: none; stroke: #000000; stroke-linecap: square\"/>\n   </g>\n   <g id=\"line2d_13\">\n    <path d=\"M 19.296 115.054125 \nL 261.216 115.054125 \n\" clip-path=\"url(#p3938272c58)\" style=\"fill: none; stroke: #000000; stroke-width: 2; stroke-linecap: square\"/>\n   </g>\n   <g id=\"line2d_14\">\n    <path d=\"M 180.576 276.334125 \nL 180.576 34.414125 \n\" clip-path=\"url(#p3938272c58)\" style=\"fill: none; stroke: #000000; stroke-width: 2; stroke-linecap: square\"/>\n   </g>\n   <g id=\"line2d_15\">\n    <path d=\"M 19.296 88.174125 \nL 261.216 88.174125 \n\" clip-path=\"url(#p3938272c58)\" style=\"fill: none; stroke: #000000; stroke-linecap: square\"/>\n   </g>\n   <g id=\"line2d_16\">\n    <path d=\"M 207.456 276.334125 \nL 207.456 34.414125 \n\" clip-path=\"url(#p3938272c58)\" style=\"fill: none; stroke: #000000; stroke-linecap: square\"/>\n   </g>\n   <g id=\"line2d_17\">\n    <path d=\"M 19.296 61.294125 \nL 261.216 61.294125 \n\" clip-path=\"url(#p3938272c58)\" style=\"fill: none; stroke: #000000; stroke-linecap: square\"/>\n   </g>\n   <g id=\"line2d_18\">\n    <path d=\"M 234.336 276.334125 \nL 234.336 34.414125 \n\" clip-path=\"url(#p3938272c58)\" style=\"fill: none; stroke: #000000; stroke-linecap: square\"/>\n   </g>\n   <g id=\"line2d_19\">\n    <path d=\"M 19.296 34.414125 \nL 261.216 34.414125 \n\" clip-path=\"url(#p3938272c58)\" style=\"fill: none; stroke: #000000; stroke-width: 2; stroke-linecap: square\"/>\n   </g>\n   <g id=\"line2d_20\">\n    <path d=\"M 261.216 276.334125 \nL 261.216 34.414125 \n\" clip-path=\"url(#p3938272c58)\" style=\"fill: none; stroke: #000000; stroke-width: 2; stroke-linecap: square\"/>\n   </g>\n   <g id=\"text_1\">\n    <!-- 1 -->\n    <g style=\"fill: #808080\" transform=\"translate(28.9185 51.165375) scale(0.12 -0.12)\">\n     <defs>\n      <path id=\"DejaVuSans-31\" d=\"M 794 531 \nL 1825 531 \nL 1825 4091 \nL 703 3866 \nL 703 4441 \nL 1819 4666 \nL 2450 4666 \nL 2450 531 \nL 3481 531 \nL 3481 0 \nL 794 0 \nL 794 531 \nz\n\" transform=\"scale(0.015625)\"/>\n     </defs>\n     <use xlink:href=\"#DejaVuSans-31\"/>\n    </g>\n   </g>\n   <g id=\"text_2\">\n    <!-- 2 -->\n    <g style=\"fill: #808080\" transform=\"translate(55.441312 51.165375) scale(0.12 -0.12)\">\n     <defs>\n      <path id=\"DejaVuSans-Bold-32\" d=\"M 1844 884 \nL 3897 884 \nL 3897 0 \nL 506 0 \nL 506 884 \nL 2209 2388 \nQ 2438 2594 2547 2791 \nQ 2656 2988 2656 3200 \nQ 2656 3528 2436 3728 \nQ 2216 3928 1850 3928 \nQ 1569 3928 1234 3808 \nQ 900 3688 519 3450 \nL 519 4475 \nQ 925 4609 1322 4679 \nQ 1719 4750 2100 4750 \nQ 2938 4750 3402 4381 \nQ 3866 4013 3866 3353 \nQ 3866 2972 3669 2642 \nQ 3472 2313 2841 1759 \nL 1844 884 \nz\n\" transform=\"scale(0.015625)\"/>\n     </defs>\n     <use xlink:href=\"#DejaVuSans-Bold-32\"/>\n    </g>\n   </g>\n   <g id=\"text_3\">\n    <!-- 6 -->\n    <g style=\"fill: #808080\" transform=\"translate(82.6785 51.165375) scale(0.12 -0.12)\">\n     <defs>\n      <path id=\"DejaVuSans-36\" d=\"M 2113 2584 \nQ 1688 2584 1439 2293 \nQ 1191 2003 1191 1497 \nQ 1191 994 1439 701 \nQ 1688 409 2113 409 \nQ 2538 409 2786 701 \nQ 3034 994 3034 1497 \nQ 3034 2003 2786 2293 \nQ 2538 2584 2113 2584 \nz\nM 3366 4563 \nL 3366 3988 \nQ 3128 4100 2886 4159 \nQ 2644 4219 2406 4219 \nQ 1781 4219 1451 3797 \nQ 1122 3375 1075 2522 \nQ 1259 2794 1537 2939 \nQ 1816 3084 2150 3084 \nQ 2853 3084 3261 2657 \nQ 3669 2231 3669 1497 \nQ 3669 778 3244 343 \nQ 2819 -91 2113 -91 \nQ 1303 -91 875 529 \nQ 447 1150 447 2328 \nQ 447 3434 972 4092 \nQ 1497 4750 2381 4750 \nQ 2619 4750 2861 4703 \nQ 3103 4656 3366 4563 \nz\n\" transform=\"scale(0.015625)\"/>\n     </defs>\n     <use xlink:href=\"#DejaVuSans-36\"/>\n    </g>\n   </g>\n   <g id=\"text_4\">\n    <!-- 4 -->\n    <g style=\"fill: #808080\" transform=\"translate(109.5585 51.165375) scale(0.12 -0.12)\">\n     <defs>\n      <path id=\"DejaVuSans-34\" d=\"M 2419 4116 \nL 825 1625 \nL 2419 1625 \nL 2419 4116 \nz\nM 2253 4666 \nL 3047 4666 \nL 3047 1625 \nL 3713 1625 \nL 3713 1100 \nL 3047 1100 \nL 3047 0 \nL 2419 0 \nL 2419 1100 \nL 313 1100 \nL 313 1709 \nL 2253 4666 \nz\n\" transform=\"scale(0.015625)\"/>\n     </defs>\n     <use xlink:href=\"#DejaVuSans-34\"/>\n    </g>\n   </g>\n   <g id=\"text_5\">\n    <!-- 3 -->\n    <g style=\"fill: #808080\" transform=\"translate(136.4385 51.165375) scale(0.12 -0.12)\">\n     <defs>\n      <path id=\"DejaVuSans-33\" d=\"M 2597 2516 \nQ 3050 2419 3304 2112 \nQ 3559 1806 3559 1356 \nQ 3559 666 3084 287 \nQ 2609 -91 1734 -91 \nQ 1441 -91 1130 -33 \nQ 819 25 488 141 \nL 488 750 \nQ 750 597 1062 519 \nQ 1375 441 1716 441 \nQ 2309 441 2620 675 \nQ 2931 909 2931 1356 \nQ 2931 1769 2642 2001 \nQ 2353 2234 1838 2234 \nL 1294 2234 \nL 1294 2753 \nL 1863 2753 \nQ 2328 2753 2575 2939 \nQ 2822 3125 2822 3475 \nQ 2822 3834 2567 4026 \nQ 2313 4219 1838 4219 \nQ 1578 4219 1281 4162 \nQ 984 4106 628 3988 \nL 628 4550 \nQ 988 4650 1302 4700 \nQ 1616 4750 1894 4750 \nQ 2613 4750 3031 4423 \nQ 3450 4097 3450 3541 \nQ 3450 3153 3228 2886 \nQ 3006 2619 2597 2516 \nz\n\" transform=\"scale(0.015625)\"/>\n     </defs>\n     <use xlink:href=\"#DejaVuSans-33\"/>\n    </g>\n   </g>\n   <g id=\"text_6\">\n    <!-- 7 -->\n    <g style=\"fill: #808080\" transform=\"translate(163.3185 51.165375) scale(0.12 -0.12)\">\n     <defs>\n      <path id=\"DejaVuSans-37\" d=\"M 525 4666 \nL 3525 4666 \nL 3525 4397 \nL 1831 0 \nL 1172 0 \nL 2766 4134 \nL 525 4134 \nL 525 4666 \nz\n\" transform=\"scale(0.015625)\"/>\n     </defs>\n     <use xlink:href=\"#DejaVuSans-37\"/>\n    </g>\n   </g>\n   <g id=\"text_7\">\n    <!-- 9 -->\n    <g style=\"fill: #808080\" transform=\"translate(190.1985 51.165375) scale(0.12 -0.12)\">\n     <defs>\n      <path id=\"DejaVuSans-39\" d=\"M 703 97 \nL 703 672 \nQ 941 559 1184 500 \nQ 1428 441 1663 441 \nQ 2288 441 2617 861 \nQ 2947 1281 2994 2138 \nQ 2813 1869 2534 1725 \nQ 2256 1581 1919 1581 \nQ 1219 1581 811 2004 \nQ 403 2428 403 3163 \nQ 403 3881 828 4315 \nQ 1253 4750 1959 4750 \nQ 2769 4750 3195 4129 \nQ 3622 3509 3622 2328 \nQ 3622 1225 3098 567 \nQ 2575 -91 1691 -91 \nQ 1453 -91 1209 -44 \nQ 966 3 703 97 \nz\nM 1959 2075 \nQ 2384 2075 2632 2365 \nQ 2881 2656 2881 3163 \nQ 2881 3666 2632 3958 \nQ 2384 4250 1959 4250 \nQ 1534 4250 1286 3958 \nQ 1038 3666 1038 3163 \nQ 1038 2656 1286 2365 \nQ 1534 2075 1959 2075 \nz\n\" transform=\"scale(0.015625)\"/>\n     </defs>\n     <use xlink:href=\"#DejaVuSans-39\"/>\n    </g>\n   </g>\n   <g id=\"text_8\">\n    <!-- 5 -->\n    <g style=\"fill: #808080\" transform=\"translate(217.0785 51.165375) scale(0.12 -0.12)\">\n     <defs>\n      <path id=\"DejaVuSans-35\" d=\"M 691 4666 \nL 3169 4666 \nL 3169 4134 \nL 1269 4134 \nL 1269 2991 \nQ 1406 3038 1543 3061 \nQ 1681 3084 1819 3084 \nQ 2600 3084 3056 2656 \nQ 3513 2228 3513 1497 \nQ 3513 744 3044 326 \nQ 2575 -91 1722 -91 \nQ 1428 -91 1123 -41 \nQ 819 9 494 109 \nL 494 744 \nQ 775 591 1075 516 \nQ 1375 441 1709 441 \nQ 2250 441 2565 725 \nQ 2881 1009 2881 1497 \nQ 2881 1984 2565 2268 \nQ 2250 2553 1709 2553 \nQ 1456 2553 1204 2497 \nQ 953 2441 691 2322 \nL 691 4666 \nz\n\" transform=\"scale(0.015625)\"/>\n     </defs>\n     <use xlink:href=\"#DejaVuSans-35\"/>\n    </g>\n   </g>\n   <g id=\"text_9\">\n    <!-- 8 -->\n    <g style=\"fill: #808080\" transform=\"translate(243.9585 51.165375) scale(0.12 -0.12)\">\n     <defs>\n      <path id=\"DejaVuSans-38\" d=\"M 2034 2216 \nQ 1584 2216 1326 1975 \nQ 1069 1734 1069 1313 \nQ 1069 891 1326 650 \nQ 1584 409 2034 409 \nQ 2484 409 2743 651 \nQ 3003 894 3003 1313 \nQ 3003 1734 2745 1975 \nQ 2488 2216 2034 2216 \nz\nM 1403 2484 \nQ 997 2584 770 2862 \nQ 544 3141 544 3541 \nQ 544 4100 942 4425 \nQ 1341 4750 2034 4750 \nQ 2731 4750 3128 4425 \nQ 3525 4100 3525 3541 \nQ 3525 3141 3298 2862 \nQ 3072 2584 2669 2484 \nQ 3125 2378 3379 2068 \nQ 3634 1759 3634 1313 \nQ 3634 634 3220 271 \nQ 2806 -91 2034 -91 \nQ 1263 -91 848 271 \nQ 434 634 434 1313 \nQ 434 1759 690 2068 \nQ 947 2378 1403 2484 \nz\nM 1172 3481 \nQ 1172 3119 1398 2916 \nQ 1625 2713 2034 2713 \nQ 2441 2713 2670 2916 \nQ 2900 3119 2900 3481 \nQ 2900 3844 2670 4047 \nQ 2441 4250 2034 4250 \nQ 1625 4250 1398 4047 \nQ 1172 3844 1172 3481 \nz\n\" transform=\"scale(0.015625)\"/>\n     </defs>\n     <use xlink:href=\"#DejaVuSans-38\"/>\n    </g>\n   </g>\n   <g id=\"text_10\">\n    <!-- 8 -->\n    <g style=\"fill: #808080\" transform=\"translate(28.9185 78.045375) scale(0.12 -0.12)\">\n     <use xlink:href=\"#DejaVuSans-38\"/>\n    </g>\n   </g>\n   <g id=\"text_11\">\n    <!-- 9 -->\n    <g style=\"fill: #808080\" transform=\"translate(55.7985 78.045375) scale(0.12 -0.12)\">\n     <use xlink:href=\"#DejaVuSans-39\"/>\n    </g>\n   </g>\n   <g id=\"text_12\">\n    <!-- 5 -->\n    <g style=\"fill: #808080\" transform=\"translate(82.6785 78.045375) scale(0.12 -0.12)\">\n     <use xlink:href=\"#DejaVuSans-35\"/>\n    </g>\n   </g>\n   <g id=\"text_13\">\n    <!-- 6 -->\n    <g style=\"fill: #808080\" transform=\"translate(109.201312 78.045375) scale(0.12 -0.12)\">\n     <defs>\n      <path id=\"DejaVuSans-Bold-36\" d=\"M 2316 2303 \nQ 2000 2303 1842 2098 \nQ 1684 1894 1684 1484 \nQ 1684 1075 1842 870 \nQ 2000 666 2316 666 \nQ 2634 666 2792 870 \nQ 2950 1075 2950 1484 \nQ 2950 1894 2792 2098 \nQ 2634 2303 2316 2303 \nz\nM 3803 4544 \nL 3803 3681 \nQ 3506 3822 3243 3889 \nQ 2981 3956 2731 3956 \nQ 2194 3956 1894 3657 \nQ 1594 3359 1544 2772 \nQ 1750 2925 1990 3001 \nQ 2231 3078 2516 3078 \nQ 3231 3078 3670 2659 \nQ 4109 2241 4109 1563 \nQ 4109 813 3618 361 \nQ 3128 -91 2303 -91 \nQ 1394 -91 895 523 \nQ 397 1138 397 2266 \nQ 397 3422 980 4083 \nQ 1563 4744 2578 4744 \nQ 2900 4744 3203 4694 \nQ 3506 4644 3803 4544 \nz\n\" transform=\"scale(0.015625)\"/>\n     </defs>\n     <use xlink:href=\"#DejaVuSans-Bold-36\"/>\n    </g>\n   </g>\n   <g id=\"text_14\">\n    <!-- 2 -->\n    <g style=\"fill: #808080\" transform=\"translate(136.4385 78.045375) scale(0.12 -0.12)\">\n     <defs>\n      <path id=\"DejaVuSans-32\" d=\"M 1228 531 \nL 3431 531 \nL 3431 0 \nL 469 0 \nL 469 531 \nQ 828 903 1448 1529 \nQ 2069 2156 2228 2338 \nQ 2531 2678 2651 2914 \nQ 2772 3150 2772 3378 \nQ 2772 3750 2511 3984 \nQ 2250 4219 1831 4219 \nQ 1534 4219 1204 4116 \nQ 875 4013 500 3803 \nL 500 4441 \nQ 881 4594 1212 4672 \nQ 1544 4750 1819 4750 \nQ 2544 4750 2975 4387 \nQ 3406 4025 3406 3419 \nQ 3406 3131 3298 2873 \nQ 3191 2616 2906 2266 \nQ 2828 2175 2409 1742 \nQ 1991 1309 1228 531 \nz\n\" transform=\"scale(0.015625)\"/>\n     </defs>\n     <use xlink:href=\"#DejaVuSans-32\"/>\n    </g>\n   </g>\n   <g id=\"text_15\">\n    <!-- 1 -->\n    <g style=\"fill: #808080\" transform=\"translate(163.3185 78.045375) scale(0.12 -0.12)\">\n     <use xlink:href=\"#DejaVuSans-31\"/>\n    </g>\n   </g>\n   <g id=\"text_16\">\n    <!-- 4 -->\n    <g style=\"fill: #808080\" transform=\"translate(190.1985 78.045375) scale(0.12 -0.12)\">\n     <use xlink:href=\"#DejaVuSans-34\"/>\n    </g>\n   </g>\n   <g id=\"text_17\">\n    <!-- 7 -->\n    <g style=\"fill: #808080\" transform=\"translate(217.0785 78.045375) scale(0.12 -0.12)\">\n     <use xlink:href=\"#DejaVuSans-37\"/>\n    </g>\n   </g>\n   <g id=\"text_18\">\n    <!-- 3 -->\n    <g style=\"fill: #808080\" transform=\"translate(243.601312 78.045375) scale(0.12 -0.12)\">\n     <defs>\n      <path id=\"DejaVuSans-Bold-33\" d=\"M 2981 2516 \nQ 3453 2394 3698 2092 \nQ 3944 1791 3944 1325 \nQ 3944 631 3412 270 \nQ 2881 -91 1863 -91 \nQ 1503 -91 1142 -33 \nQ 781 25 428 141 \nL 428 1069 \nQ 766 900 1098 814 \nQ 1431 728 1753 728 \nQ 2231 728 2486 893 \nQ 2741 1059 2741 1369 \nQ 2741 1688 2480 1852 \nQ 2219 2016 1709 2016 \nL 1228 2016 \nL 1228 2791 \nL 1734 2791 \nQ 2188 2791 2409 2933 \nQ 2631 3075 2631 3366 \nQ 2631 3634 2415 3781 \nQ 2200 3928 1806 3928 \nQ 1516 3928 1219 3862 \nQ 922 3797 628 3669 \nL 628 4550 \nQ 984 4650 1334 4700 \nQ 1684 4750 2022 4750 \nQ 2931 4750 3382 4451 \nQ 3834 4153 3834 3553 \nQ 3834 3144 3618 2883 \nQ 3403 2622 2981 2516 \nz\n\" transform=\"scale(0.015625)\"/>\n     </defs>\n     <use xlink:href=\"#DejaVuSans-Bold-33\"/>\n    </g>\n   </g>\n   <g id=\"text_19\">\n    <!-- 3 -->\n    <g style=\"fill: #808080\" transform=\"translate(28.9185 104.925375) scale(0.12 -0.12)\">\n     <use xlink:href=\"#DejaVuSans-33\"/>\n    </g>\n   </g>\n   <g id=\"text_20\">\n    <!-- 7 -->\n    <g style=\"fill: #808080\" transform=\"translate(55.441312 104.925375) scale(0.12 -0.12)\">\n     <defs>\n      <path id=\"DejaVuSans-Bold-37\" d=\"M 428 4666 \nL 3944 4666 \nL 3944 3988 \nL 2125 0 \nL 953 0 \nL 2675 3781 \nL 428 3781 \nL 428 4666 \nz\n\" transform=\"scale(0.015625)\"/>\n     </defs>\n     <use xlink:href=\"#DejaVuSans-Bold-37\"/>\n    </g>\n   </g>\n   <g id=\"text_21\">\n    <!-- 4 -->\n    <g style=\"fill: #808080\" transform=\"translate(82.321312 104.925375) scale(0.12 -0.12)\">\n     <defs>\n      <path id=\"DejaVuSans-Bold-34\" d=\"M 2356 3675 \nL 1038 1722 \nL 2356 1722 \nL 2356 3675 \nz\nM 2156 4666 \nL 3494 4666 \nL 3494 1722 \nL 4159 1722 \nL 4159 850 \nL 3494 850 \nL 3494 0 \nL 2356 0 \nL 2356 850 \nL 288 850 \nL 288 1881 \nL 2156 4666 \nz\n\" transform=\"scale(0.015625)\"/>\n     </defs>\n     <use xlink:href=\"#DejaVuSans-Bold-34\"/>\n    </g>\n   </g>\n   <g id=\"text_22\">\n    <!-- 9 -->\n    <g style=\"fill: #808080\" transform=\"translate(109.5585 104.925375) scale(0.12 -0.12)\">\n     <use xlink:href=\"#DejaVuSans-39\"/>\n    </g>\n   </g>\n   <g id=\"text_23\">\n    <!-- 8 -->\n    <g style=\"fill: #808080\" transform=\"translate(136.081312 104.925375) scale(0.12 -0.12)\">\n     <defs>\n      <path id=\"DejaVuSans-Bold-38\" d=\"M 2228 2088 \nQ 1891 2088 1709 1903 \nQ 1528 1719 1528 1375 \nQ 1528 1031 1709 848 \nQ 1891 666 2228 666 \nQ 2563 666 2741 848 \nQ 2919 1031 2919 1375 \nQ 2919 1722 2741 1905 \nQ 2563 2088 2228 2088 \nz\nM 1350 2484 \nQ 925 2613 709 2878 \nQ 494 3144 494 3541 \nQ 494 4131 934 4440 \nQ 1375 4750 2228 4750 \nQ 3075 4750 3515 4442 \nQ 3956 4134 3956 3541 \nQ 3956 3144 3739 2878 \nQ 3522 2613 3097 2484 \nQ 3572 2353 3814 2058 \nQ 4056 1763 4056 1313 \nQ 4056 619 3595 264 \nQ 3134 -91 2228 -91 \nQ 1319 -91 855 264 \nQ 391 619 391 1313 \nQ 391 1763 633 2058 \nQ 875 2353 1350 2484 \nz\nM 1631 3419 \nQ 1631 3141 1786 2991 \nQ 1941 2841 2228 2841 \nQ 2509 2841 2662 2991 \nQ 2816 3141 2816 3419 \nQ 2816 3697 2662 3845 \nQ 2509 3994 2228 3994 \nQ 1941 3994 1786 3844 \nQ 1631 3694 1631 3419 \nz\n\" transform=\"scale(0.015625)\"/>\n     </defs>\n     <use xlink:href=\"#DejaVuSans-Bold-38\"/>\n    </g>\n   </g>\n   <g id=\"text_24\">\n    <!-- 5 -->\n    <g style=\"fill: #808080\" transform=\"translate(163.3185 104.925375) scale(0.12 -0.12)\">\n     <use xlink:href=\"#DejaVuSans-35\"/>\n    </g>\n   </g>\n   <g id=\"text_25\">\n    <!-- 1 -->\n    <g style=\"fill: #808080\" transform=\"translate(190.1985 104.925375) scale(0.12 -0.12)\">\n     <use xlink:href=\"#DejaVuSans-31\"/>\n    </g>\n   </g>\n   <g id=\"text_26\">\n    <!-- 2 -->\n    <g style=\"fill: #808080\" transform=\"translate(217.0785 104.925375) scale(0.12 -0.12)\">\n     <use xlink:href=\"#DejaVuSans-32\"/>\n    </g>\n   </g>\n   <g id=\"text_27\">\n    <!-- 6 -->\n    <g style=\"fill: #808080\" transform=\"translate(243.9585 104.925375) scale(0.12 -0.12)\">\n     <use xlink:href=\"#DejaVuSans-36\"/>\n    </g>\n   </g>\n   <g id=\"text_28\">\n    <!-- 4 -->\n    <g style=\"fill: #808080\" transform=\"translate(28.9185 131.805375) scale(0.12 -0.12)\">\n     <use xlink:href=\"#DejaVuSans-34\"/>\n    </g>\n   </g>\n   <g id=\"text_29\">\n    <!-- 5 -->\n    <g style=\"fill: #808080\" transform=\"translate(55.7985 131.805375) scale(0.12 -0.12)\">\n     <use xlink:href=\"#DejaVuSans-35\"/>\n    </g>\n   </g>\n   <g id=\"text_30\">\n    <!-- 7 -->\n    <g style=\"fill: #808080\" transform=\"translate(82.6785 131.805375) scale(0.12 -0.12)\">\n     <use xlink:href=\"#DejaVuSans-37\"/>\n    </g>\n   </g>\n   <g id=\"text_31\">\n    <!-- 1 -->\n    <g style=\"fill: #808080\" transform=\"translate(109.5585 131.805375) scale(0.12 -0.12)\">\n     <use xlink:href=\"#DejaVuSans-31\"/>\n    </g>\n   </g>\n   <g id=\"text_32\">\n    <!-- 9 -->\n    <g style=\"fill: #808080\" transform=\"translate(136.4385 131.805375) scale(0.12 -0.12)\">\n     <use xlink:href=\"#DejaVuSans-39\"/>\n    </g>\n   </g>\n   <g id=\"text_33\">\n    <!-- 3 -->\n    <g style=\"fill: #808080\" transform=\"translate(162.961312 131.805375) scale(0.12 -0.12)\">\n     <use xlink:href=\"#DejaVuSans-Bold-33\"/>\n    </g>\n   </g>\n   <g id=\"text_34\">\n    <!-- 8 -->\n    <g style=\"fill: #808080\" transform=\"translate(190.1985 131.805375) scale(0.12 -0.12)\">\n     <use xlink:href=\"#DejaVuSans-38\"/>\n    </g>\n   </g>\n   <g id=\"text_35\">\n    <!-- 6 -->\n    <g style=\"fill: #808080\" transform=\"translate(217.0785 131.805375) scale(0.12 -0.12)\">\n     <use xlink:href=\"#DejaVuSans-36\"/>\n    </g>\n   </g>\n   <g id=\"text_36\">\n    <!-- 2 -->\n    <g style=\"fill: #808080\" transform=\"translate(243.601312 131.805375) scale(0.12 -0.12)\">\n     <use xlink:href=\"#DejaVuSans-Bold-32\"/>\n    </g>\n   </g>\n   <g id=\"text_37\">\n    <!-- 9 -->\n    <g style=\"fill: #808080\" transform=\"translate(28.9185 158.685375) scale(0.12 -0.12)\">\n     <use xlink:href=\"#DejaVuSans-39\"/>\n    </g>\n   </g>\n   <g id=\"text_38\">\n    <!-- 8 -->\n    <g style=\"fill: #808080\" transform=\"translate(55.441312 158.685375) scale(0.12 -0.12)\">\n     <use xlink:href=\"#DejaVuSans-Bold-38\"/>\n    </g>\n   </g>\n   <g id=\"text_39\">\n    <!-- 3 -->\n    <g style=\"fill: #808080\" transform=\"translate(82.6785 158.685375) scale(0.12 -0.12)\">\n     <use xlink:href=\"#DejaVuSans-33\"/>\n    </g>\n   </g>\n   <g id=\"text_40\">\n    <!-- 2 -->\n    <g style=\"fill: #808080\" transform=\"translate(109.5585 158.685375) scale(0.12 -0.12)\">\n     <use xlink:href=\"#DejaVuSans-32\"/>\n    </g>\n   </g>\n   <g id=\"text_41\">\n    <!-- 4 -->\n    <g style=\"fill: #808080\" transform=\"translate(136.081312 158.685375) scale(0.12 -0.12)\">\n     <use xlink:href=\"#DejaVuSans-Bold-34\"/>\n    </g>\n   </g>\n   <g id=\"text_42\">\n    <!-- 6 -->\n    <g style=\"fill: #808080\" transform=\"translate(163.3185 158.685375) scale(0.12 -0.12)\">\n     <use xlink:href=\"#DejaVuSans-36\"/>\n    </g>\n   </g>\n   <g id=\"text_43\">\n    <!-- 5 -->\n    <g style=\"fill: #808080\" transform=\"translate(190.1985 158.685375) scale(0.12 -0.12)\">\n     <use xlink:href=\"#DejaVuSans-35\"/>\n    </g>\n   </g>\n   <g id=\"text_44\">\n    <!-- 1 -->\n    <g style=\"fill: #808080\" transform=\"translate(216.721312 158.685375) scale(0.12 -0.12)\">\n     <defs>\n      <path id=\"DejaVuSans-Bold-31\" d=\"M 750 831 \nL 1813 831 \nL 1813 3847 \nL 722 3622 \nL 722 4441 \nL 1806 4666 \nL 2950 4666 \nL 2950 831 \nL 4013 831 \nL 4013 0 \nL 750 0 \nL 750 831 \nz\n\" transform=\"scale(0.015625)\"/>\n     </defs>\n     <use xlink:href=\"#DejaVuSans-Bold-31\"/>\n    </g>\n   </g>\n   <g id=\"text_45\">\n    <!-- 7 -->\n    <g style=\"fill: #808080\" transform=\"translate(243.9585 158.685375) scale(0.12 -0.12)\">\n     <use xlink:href=\"#DejaVuSans-37\"/>\n    </g>\n   </g>\n   <g id=\"text_46\">\n    <!-- 6 -->\n    <g style=\"fill: #808080\" transform=\"translate(28.561312 185.565375) scale(0.12 -0.12)\">\n     <use xlink:href=\"#DejaVuSans-Bold-36\"/>\n    </g>\n   </g>\n   <g id=\"text_47\">\n    <!-- 1 -->\n    <g style=\"fill: #808080\" transform=\"translate(55.7985 185.565375) scale(0.12 -0.12)\">\n     <use xlink:href=\"#DejaVuSans-31\"/>\n    </g>\n   </g>\n   <g id=\"text_48\">\n    <!-- 2 -->\n    <g style=\"fill: #808080\" transform=\"translate(82.6785 185.565375) scale(0.12 -0.12)\">\n     <use xlink:href=\"#DejaVuSans-32\"/>\n    </g>\n   </g>\n   <g id=\"text_49\">\n    <!-- 5 -->\n    <g style=\"fill: #808080\" transform=\"translate(109.201312 185.565375) scale(0.12 -0.12)\">\n     <defs>\n      <path id=\"DejaVuSans-Bold-35\" d=\"M 678 4666 \nL 3669 4666 \nL 3669 3781 \nL 1638 3781 \nL 1638 3059 \nQ 1775 3097 1914 3117 \nQ 2053 3138 2203 3138 \nQ 3056 3138 3531 2711 \nQ 4006 2284 4006 1522 \nQ 4006 766 3489 337 \nQ 2972 -91 2053 -91 \nQ 1656 -91 1267 -14 \nQ 878 63 494 219 \nL 494 1166 \nQ 875 947 1217 837 \nQ 1559 728 1863 728 \nQ 2300 728 2551 942 \nQ 2803 1156 2803 1522 \nQ 2803 1891 2551 2103 \nQ 2300 2316 1863 2316 \nQ 1603 2316 1309 2248 \nQ 1016 2181 678 2041 \nL 678 4666 \nz\n\" transform=\"scale(0.015625)\"/>\n     </defs>\n     <use xlink:href=\"#DejaVuSans-Bold-35\"/>\n    </g>\n   </g>\n   <g id=\"text_50\">\n    <!-- 7 -->\n    <g style=\"fill: #808080\" transform=\"translate(136.4385 185.565375) scale(0.12 -0.12)\">\n     <use xlink:href=\"#DejaVuSans-37\"/>\n    </g>\n   </g>\n   <g id=\"text_51\">\n    <!-- 8 -->\n    <g style=\"fill: #808080\" transform=\"translate(163.3185 185.565375) scale(0.12 -0.12)\">\n     <use xlink:href=\"#DejaVuSans-38\"/>\n    </g>\n   </g>\n   <g id=\"text_52\">\n    <!-- 3 -->\n    <g style=\"fill: #808080\" transform=\"translate(190.1985 185.565375) scale(0.12 -0.12)\">\n     <use xlink:href=\"#DejaVuSans-33\"/>\n    </g>\n   </g>\n   <g id=\"text_53\">\n    <!-- 9 -->\n    <g style=\"fill: #808080\" transform=\"translate(217.0785 185.565375) scale(0.12 -0.12)\">\n     <use xlink:href=\"#DejaVuSans-39\"/>\n    </g>\n   </g>\n   <g id=\"text_54\">\n    <!-- 4 -->\n    <g style=\"fill: #808080\" transform=\"translate(243.9585 185.565375) scale(0.12 -0.12)\">\n     <use xlink:href=\"#DejaVuSans-34\"/>\n    </g>\n   </g>\n   <g id=\"text_55\">\n    <!-- 2 -->\n    <g style=\"fill: #808080\" transform=\"translate(28.9185 212.445375) scale(0.12 -0.12)\">\n     <use xlink:href=\"#DejaVuSans-32\"/>\n    </g>\n   </g>\n   <g id=\"text_56\">\n    <!-- 6 -->\n    <g style=\"fill: #808080\" transform=\"translate(55.7985 212.445375) scale(0.12 -0.12)\">\n     <use xlink:href=\"#DejaVuSans-36\"/>\n    </g>\n   </g>\n   <g id=\"text_57\">\n    <!-- 9 -->\n    <g style=\"fill: #808080\" transform=\"translate(82.6785 212.445375) scale(0.12 -0.12)\">\n     <use xlink:href=\"#DejaVuSans-39\"/>\n    </g>\n   </g>\n   <g id=\"text_58\">\n    <!-- 3 -->\n    <g style=\"fill: #808080\" transform=\"translate(109.5585 212.445375) scale(0.12 -0.12)\">\n     <use xlink:href=\"#DejaVuSans-33\"/>\n    </g>\n   </g>\n   <g id=\"text_59\">\n    <!-- 1 -->\n    <g style=\"fill: #808080\" transform=\"translate(136.081312 212.445375) scale(0.12 -0.12)\">\n     <use xlink:href=\"#DejaVuSans-Bold-31\"/>\n    </g>\n   </g>\n   <g id=\"text_60\">\n    <!-- 4 -->\n    <g style=\"fill: #808080\" transform=\"translate(163.3185 212.445375) scale(0.12 -0.12)\">\n     <use xlink:href=\"#DejaVuSans-34\"/>\n    </g>\n   </g>\n   <g id=\"text_61\">\n    <!-- 7 -->\n    <g style=\"fill: #808080\" transform=\"translate(189.841312 212.445375) scale(0.12 -0.12)\">\n     <use xlink:href=\"#DejaVuSans-Bold-37\"/>\n    </g>\n   </g>\n   <g id=\"text_62\">\n    <!-- 8 -->\n    <g style=\"fill: #808080\" transform=\"translate(216.721312 212.445375) scale(0.12 -0.12)\">\n     <use xlink:href=\"#DejaVuSans-Bold-38\"/>\n    </g>\n   </g>\n   <g id=\"text_63\">\n    <!-- 5 -->\n    <g style=\"fill: #808080\" transform=\"translate(243.9585 212.445375) scale(0.12 -0.12)\">\n     <use xlink:href=\"#DejaVuSans-35\"/>\n    </g>\n   </g>\n   <g id=\"text_64\">\n    <!-- 5 -->\n    <g style=\"fill: #808080\" transform=\"translate(28.561312 239.325375) scale(0.12 -0.12)\">\n     <use xlink:href=\"#DejaVuSans-Bold-35\"/>\n    </g>\n   </g>\n   <g id=\"text_65\">\n    <!-- 4 -->\n    <g style=\"fill: #808080\" transform=\"translate(55.7985 239.325375) scale(0.12 -0.12)\">\n     <use xlink:href=\"#DejaVuSans-34\"/>\n    </g>\n   </g>\n   <g id=\"text_66\">\n    <!-- 8 -->\n    <g style=\"fill: #808080\" transform=\"translate(82.6785 239.325375) scale(0.12 -0.12)\">\n     <use xlink:href=\"#DejaVuSans-38\"/>\n    </g>\n   </g>\n   <g id=\"text_67\">\n    <!-- 7 -->\n    <g style=\"fill: #808080\" transform=\"translate(109.5585 239.325375) scale(0.12 -0.12)\">\n     <use xlink:href=\"#DejaVuSans-37\"/>\n    </g>\n   </g>\n   <g id=\"text_68\">\n    <!-- 6 -->\n    <g style=\"fill: #808080\" transform=\"translate(136.4385 239.325375) scale(0.12 -0.12)\">\n     <use xlink:href=\"#DejaVuSans-36\"/>\n    </g>\n   </g>\n   <g id=\"text_69\">\n    <!-- 9 -->\n    <g style=\"fill: #808080\" transform=\"translate(162.961312 239.325375) scale(0.12 -0.12)\">\n     <defs>\n      <path id=\"DejaVuSans-Bold-39\" d=\"M 641 103 \nL 641 966 \nQ 928 831 1190 764 \nQ 1453 697 1709 697 \nQ 2247 697 2547 995 \nQ 2847 1294 2900 1881 \nQ 2688 1725 2447 1647 \nQ 2206 1569 1925 1569 \nQ 1209 1569 770 1986 \nQ 331 2403 331 3084 \nQ 331 3838 820 4291 \nQ 1309 4744 2131 4744 \nQ 3044 4744 3544 4128 \nQ 4044 3513 4044 2388 \nQ 4044 1231 3459 570 \nQ 2875 -91 1856 -91 \nQ 1528 -91 1228 -42 \nQ 928 6 641 103 \nz\nM 2125 2350 \nQ 2441 2350 2600 2554 \nQ 2759 2759 2759 3169 \nQ 2759 3575 2600 3781 \nQ 2441 3988 2125 3988 \nQ 1809 3988 1650 3781 \nQ 1491 3575 1491 3169 \nQ 1491 2759 1650 2554 \nQ 1809 2350 2125 2350 \nz\n\" transform=\"scale(0.015625)\"/>\n     </defs>\n     <use xlink:href=\"#DejaVuSans-Bold-39\"/>\n    </g>\n   </g>\n   <g id=\"text_70\">\n    <!-- 2 -->\n    <g style=\"fill: #808080\" transform=\"translate(190.1985 239.325375) scale(0.12 -0.12)\">\n     <use xlink:href=\"#DejaVuSans-32\"/>\n    </g>\n   </g>\n   <g id=\"text_71\">\n    <!-- 3 -->\n    <g style=\"fill: #808080\" transform=\"translate(217.0785 239.325375) scale(0.12 -0.12)\">\n     <use xlink:href=\"#DejaVuSans-33\"/>\n    </g>\n   </g>\n   <g id=\"text_72\">\n    <!-- 1 -->\n    <g style=\"fill: #808080\" transform=\"translate(243.9585 239.325375) scale(0.12 -0.12)\">\n     <use xlink:href=\"#DejaVuSans-31\"/>\n    </g>\n   </g>\n   <g id=\"text_73\">\n    <!-- 7 -->\n    <g style=\"fill: #808080\" transform=\"translate(28.9185 266.205375) scale(0.12 -0.12)\">\n     <use xlink:href=\"#DejaVuSans-37\"/>\n    </g>\n   </g>\n   <g id=\"text_74\">\n    <!-- 3 -->\n    <g style=\"fill: #808080\" transform=\"translate(55.7985 266.205375) scale(0.12 -0.12)\">\n     <use xlink:href=\"#DejaVuSans-33\"/>\n    </g>\n   </g>\n   <g id=\"text_75\">\n    <!-- 1 -->\n    <g style=\"fill: #808080\" transform=\"translate(82.6785 266.205375) scale(0.12 -0.12)\">\n     <use xlink:href=\"#DejaVuSans-31\"/>\n    </g>\n   </g>\n   <g id=\"text_76\">\n    <!-- 8 -->\n    <g style=\"fill: #808080\" transform=\"translate(109.5585 266.205375) scale(0.12 -0.12)\">\n     <use xlink:href=\"#DejaVuSans-38\"/>\n    </g>\n   </g>\n   <g id=\"text_77\">\n    <!-- 5 -->\n    <g style=\"fill: #808080\" transform=\"translate(136.4385 266.205375) scale(0.12 -0.12)\">\n     <use xlink:href=\"#DejaVuSans-35\"/>\n    </g>\n   </g>\n   <g id=\"text_78\">\n    <!-- 2 -->\n    <g style=\"fill: #808080\" transform=\"translate(163.3185 266.205375) scale(0.12 -0.12)\">\n     <use xlink:href=\"#DejaVuSans-32\"/>\n    </g>\n   </g>\n   <g id=\"text_79\">\n    <!-- 6 -->\n    <g style=\"fill: #808080\" transform=\"translate(190.1985 266.205375) scale(0.12 -0.12)\">\n     <use xlink:href=\"#DejaVuSans-36\"/>\n    </g>\n   </g>\n   <g id=\"text_80\">\n    <!-- 4 -->\n    <g style=\"fill: #808080\" transform=\"translate(216.721312 266.205375) scale(0.12 -0.12)\">\n     <use xlink:href=\"#DejaVuSans-Bold-34\"/>\n    </g>\n   </g>\n   <g id=\"text_81\">\n    <!-- 9 -->\n    <g style=\"fill: #808080\" transform=\"translate(243.9585 266.205375) scale(0.12 -0.12)\">\n     <use xlink:href=\"#DejaVuSans-39\"/>\n    </g>\n   </g>\n   <g id=\"text_82\">\n    <!-- A hard problem -->\n    <g transform=\"translate(7.2 16.318125) scale(0.12 -0.12)\">\n     <defs>\n      <path id=\"DejaVuSans-Bold-41\" d=\"M 3419 850 \nL 1538 850 \nL 1241 0 \nL 31 0 \nL 1759 4666 \nL 3194 4666 \nL 4922 0 \nL 3713 0 \nL 3419 850 \nz\nM 1838 1716 \nL 3116 1716 \nL 2478 3572 \nL 1838 1716 \nz\n\" transform=\"scale(0.015625)\"/>\n      <path id=\"DejaVuSans-Bold-20\" transform=\"scale(0.015625)\"/>\n      <path id=\"DejaVuSans-Bold-68\" d=\"M 4056 2131 \nL 4056 0 \nL 2931 0 \nL 2931 347 \nL 2931 1625 \nQ 2931 2084 2911 2256 \nQ 2891 2428 2841 2509 \nQ 2775 2619 2662 2680 \nQ 2550 2741 2406 2741 \nQ 2056 2741 1856 2470 \nQ 1656 2200 1656 1722 \nL 1656 0 \nL 538 0 \nL 538 4863 \nL 1656 4863 \nL 1656 2988 \nQ 1909 3294 2193 3439 \nQ 2478 3584 2822 3584 \nQ 3428 3584 3742 3212 \nQ 4056 2841 4056 2131 \nz\n\" transform=\"scale(0.015625)\"/>\n      <path id=\"DejaVuSans-Bold-61\" d=\"M 2106 1575 \nQ 1756 1575 1579 1456 \nQ 1403 1338 1403 1106 \nQ 1403 894 1545 773 \nQ 1688 653 1941 653 \nQ 2256 653 2472 879 \nQ 2688 1106 2688 1447 \nL 2688 1575 \nL 2106 1575 \nz\nM 3816 1997 \nL 3816 0 \nL 2688 0 \nL 2688 519 \nQ 2463 200 2181 54 \nQ 1900 -91 1497 -91 \nQ 953 -91 614 226 \nQ 275 544 275 1050 \nQ 275 1666 698 1953 \nQ 1122 2241 2028 2241 \nL 2688 2241 \nL 2688 2328 \nQ 2688 2594 2478 2717 \nQ 2269 2841 1825 2841 \nQ 1466 2841 1156 2769 \nQ 847 2697 581 2553 \nL 581 3406 \nQ 941 3494 1303 3539 \nQ 1666 3584 2028 3584 \nQ 2975 3584 3395 3211 \nQ 3816 2838 3816 1997 \nz\n\" transform=\"scale(0.015625)\"/>\n      <path id=\"DejaVuSans-Bold-72\" d=\"M 3138 2547 \nQ 2991 2616 2845 2648 \nQ 2700 2681 2553 2681 \nQ 2122 2681 1889 2404 \nQ 1656 2128 1656 1613 \nL 1656 0 \nL 538 0 \nL 538 3500 \nL 1656 3500 \nL 1656 2925 \nQ 1872 3269 2151 3426 \nQ 2431 3584 2822 3584 \nQ 2878 3584 2943 3579 \nQ 3009 3575 3134 3559 \nL 3138 2547 \nz\n\" transform=\"scale(0.015625)\"/>\n      <path id=\"DejaVuSans-Bold-64\" d=\"M 2919 2988 \nL 2919 4863 \nL 4044 4863 \nL 4044 0 \nL 2919 0 \nL 2919 506 \nQ 2688 197 2409 53 \nQ 2131 -91 1766 -91 \nQ 1119 -91 703 423 \nQ 288 938 288 1747 \nQ 288 2556 703 3070 \nQ 1119 3584 1766 3584 \nQ 2128 3584 2408 3439 \nQ 2688 3294 2919 2988 \nz\nM 2181 722 \nQ 2541 722 2730 984 \nQ 2919 1247 2919 1747 \nQ 2919 2247 2730 2509 \nQ 2541 2772 2181 2772 \nQ 1825 2772 1636 2509 \nQ 1447 2247 1447 1747 \nQ 1447 1247 1636 984 \nQ 1825 722 2181 722 \nz\n\" transform=\"scale(0.015625)\"/>\n      <path id=\"DejaVuSans-Bold-70\" d=\"M 1656 506 \nL 1656 -1331 \nL 538 -1331 \nL 538 3500 \nL 1656 3500 \nL 1656 2988 \nQ 1888 3294 2169 3439 \nQ 2450 3584 2816 3584 \nQ 3463 3584 3878 3070 \nQ 4294 2556 4294 1747 \nQ 4294 938 3878 423 \nQ 3463 -91 2816 -91 \nQ 2450 -91 2169 54 \nQ 1888 200 1656 506 \nz\nM 2400 2772 \nQ 2041 2772 1848 2508 \nQ 1656 2244 1656 1747 \nQ 1656 1250 1848 986 \nQ 2041 722 2400 722 \nQ 2759 722 2948 984 \nQ 3138 1247 3138 1747 \nQ 3138 2247 2948 2509 \nQ 2759 2772 2400 2772 \nz\n\" transform=\"scale(0.015625)\"/>\n      <path id=\"DejaVuSans-Bold-6f\" d=\"M 2203 2784 \nQ 1831 2784 1636 2517 \nQ 1441 2250 1441 1747 \nQ 1441 1244 1636 976 \nQ 1831 709 2203 709 \nQ 2569 709 2762 976 \nQ 2956 1244 2956 1747 \nQ 2956 2250 2762 2517 \nQ 2569 2784 2203 2784 \nz\nM 2203 3584 \nQ 3106 3584 3614 3096 \nQ 4122 2609 4122 1747 \nQ 4122 884 3614 396 \nQ 3106 -91 2203 -91 \nQ 1297 -91 786 396 \nQ 275 884 275 1747 \nQ 275 2609 786 3096 \nQ 1297 3584 2203 3584 \nz\n\" transform=\"scale(0.015625)\"/>\n      <path id=\"DejaVuSans-Bold-62\" d=\"M 2400 722 \nQ 2759 722 2948 984 \nQ 3138 1247 3138 1747 \nQ 3138 2247 2948 2509 \nQ 2759 2772 2400 2772 \nQ 2041 2772 1848 2508 \nQ 1656 2244 1656 1747 \nQ 1656 1250 1848 986 \nQ 2041 722 2400 722 \nz\nM 1656 2988 \nQ 1888 3294 2169 3439 \nQ 2450 3584 2816 3584 \nQ 3463 3584 3878 3070 \nQ 4294 2556 4294 1747 \nQ 4294 938 3878 423 \nQ 3463 -91 2816 -91 \nQ 2450 -91 2169 54 \nQ 1888 200 1656 506 \nL 1656 0 \nL 538 0 \nL 538 4863 \nL 1656 4863 \nL 1656 2988 \nz\n\" transform=\"scale(0.015625)\"/>\n      <path id=\"DejaVuSans-Bold-6c\" d=\"M 538 4863 \nL 1656 4863 \nL 1656 0 \nL 538 0 \nL 538 4863 \nz\n\" transform=\"scale(0.015625)\"/>\n      <path id=\"DejaVuSans-Bold-65\" d=\"M 4031 1759 \nL 4031 1441 \nL 1416 1441 \nQ 1456 1047 1700 850 \nQ 1944 653 2381 653 \nQ 2734 653 3104 758 \nQ 3475 863 3866 1075 \nL 3866 213 \nQ 3469 63 3072 -14 \nQ 2675 -91 2278 -91 \nQ 1328 -91 801 392 \nQ 275 875 275 1747 \nQ 275 2603 792 3093 \nQ 1309 3584 2216 3584 \nQ 3041 3584 3536 3087 \nQ 4031 2591 4031 1759 \nz\nM 2881 2131 \nQ 2881 2450 2695 2645 \nQ 2509 2841 2209 2841 \nQ 1884 2841 1681 2658 \nQ 1478 2475 1428 2131 \nL 2881 2131 \nz\n\" transform=\"scale(0.015625)\"/>\n      <path id=\"DejaVuSans-Bold-6d\" d=\"M 3781 2919 \nQ 3994 3244 4286 3414 \nQ 4578 3584 4928 3584 \nQ 5531 3584 5847 3212 \nQ 6163 2841 6163 2131 \nL 6163 0 \nL 5038 0 \nL 5038 1825 \nQ 5041 1866 5042 1909 \nQ 5044 1953 5044 2034 \nQ 5044 2406 4934 2573 \nQ 4825 2741 4581 2741 \nQ 4263 2741 4089 2478 \nQ 3916 2216 3909 1719 \nL 3909 0 \nL 2784 0 \nL 2784 1825 \nQ 2784 2406 2684 2573 \nQ 2584 2741 2328 2741 \nQ 2006 2741 1831 2477 \nQ 1656 2213 1656 1722 \nL 1656 0 \nL 531 0 \nL 531 3500 \nL 1656 3500 \nL 1656 2988 \nQ 1863 3284 2130 3434 \nQ 2397 3584 2719 3584 \nQ 3081 3584 3359 3409 \nQ 3638 3234 3781 2919 \nz\n\" transform=\"scale(0.015625)\"/>\n     </defs>\n     <use xlink:href=\"#DejaVuSans-Bold-41\"/>\n     <use xlink:href=\"#DejaVuSans-Bold-20\" x=\"77.392578\"/>\n     <use xlink:href=\"#DejaVuSans-Bold-68\" x=\"112.207031\"/>\n     <use xlink:href=\"#DejaVuSans-Bold-61\" x=\"183.398438\"/>\n     <use xlink:href=\"#DejaVuSans-Bold-72\" x=\"250.878906\"/>\n     <use xlink:href=\"#DejaVuSans-Bold-64\" x=\"300.195312\"/>\n     <use xlink:href=\"#DejaVuSans-Bold-20\" x=\"371.777344\"/>\n     <use xlink:href=\"#DejaVuSans-Bold-70\" x=\"406.591797\"/>\n     <use xlink:href=\"#DejaVuSans-Bold-72\" x=\"478.173828\"/>\n     <use xlink:href=\"#DejaVuSans-Bold-6f\" x=\"527.490234\"/>\n     <use xlink:href=\"#DejaVuSans-Bold-62\" x=\"596.191406\"/>\n     <use xlink:href=\"#DejaVuSans-Bold-6c\" x=\"667.773438\"/>\n     <use xlink:href=\"#DejaVuSans-Bold-65\" x=\"702.050781\"/>\n     <use xlink:href=\"#DejaVuSans-Bold-6d\" x=\"769.873047\"/>\n    </g>\n   </g>\n  </g>\n </g>\n <defs>\n  <clipPath id=\"p3938272c58\">\n   <rect x=\"7.2\" y=\"22.318125\" width=\"266.112\" height=\"266.112\"/>\n  </clipPath>\n </defs>\n</svg>\n"
          },
          "metadata": {},
          "execution_count": 79
        }
      ],
      "source": [
        "sudoku_solved = sudoku_solver(sudoku)\n",
        "sudoku_solved"
      ]
    },
    {
      "cell_type": "markdown",
      "metadata": {
        "id": "IgQteQs3ikL3"
      },
      "source": [
        "### Logging. Megoldás lépésről lépésre"
      ]
    },
    {
      "cell_type": "code",
      "execution_count": 80,
      "metadata": {
        "id": "TKO5C0niikL4"
      },
      "outputs": [],
      "source": [
        "import logging\n",
        "logger = logging.getLogger('sudoku')\n",
        "logging.basicConfig()\n",
        "logger.setLevel(logging.WARNING)\n"
      ]
    },
    {
      "cell_type": "code",
      "execution_count": 81,
      "metadata": {
        "id": "Q13R7J-jikL4"
      },
      "outputs": [],
      "source": [
        "\n",
        "def search(graph):\n",
        "    _, items = graph\n",
        "    if items:\n",
        "        item = first_item(items)\n",
        "        logger.info('considering %s', item)\n",
        "\n",
        "        for option in items[item]:\n",
        "            logger.info('trying %s', option)\n",
        "            solution = search(new_graph(graph, option))\n",
        "            if solution is not None:\n",
        "                logger.info('%s works', option)\n",
        "                return (option,) + solution\n",
        "            logger.info('%s rejected', option)\n",
        "        return None\n",
        "    return tuple()"
      ]
    },
    {
      "cell_type": "code",
      "execution_count": null,
      "metadata": {
        "id": "0sI9DYARikL4"
      },
      "outputs": [],
      "source": [
        "# logger.setLevel(logging.DEBUG)"
      ]
    },
    {
      "cell_type": "code",
      "execution_count": 82,
      "metadata": {
        "id": "BVaMerdYikL4"
      },
      "outputs": [],
      "source": [
        "from contextlib import contextmanager\n",
        "\n",
        "@contextmanager\n",
        "def using_level(level):\n",
        "    logger = logging.getLogger('sudoku')\n",
        "    _level = logger.level\n",
        "    try:\n",
        "        logger.setLevel(level)\n",
        "        yield\n",
        "    finally:\n",
        "        logger.setLevel(_level)"
      ]
    },
    {
      "cell_type": "code",
      "execution_count": 83,
      "metadata": {
        "id": "dWVP4JPqikL5"
      },
      "outputs": [],
      "source": [
        "sudoku_solved = sudoku_solver(sudoku)\n"
      ]
    },
    {
      "cell_type": "code",
      "execution_count": 84,
      "metadata": {
        "id": "Hso6F6yQikL5",
        "outputId": "f6d23fe6-94be-4362-db83-8917c32f0f7b",
        "colab": {
          "base_uri": "https://localhost:8080/"
        }
      },
      "outputs": [
        {
          "output_type": "stream",
          "name": "stderr",
          "text": [
            "INFO:sudoku:considering ∃6 in square(1, 1)\n",
            "INFO:sudoku:trying 6@(1, 3)\n",
            "INFO:sudoku:considering cell(8, 9) ¬∅\n",
            "INFO:sudoku:trying 1@(8, 9)\n",
            "INFO:sudoku:considering ∃4 in row[2]\n",
            "INFO:sudoku:trying 4@(2, 6)\n",
            "INFO:sudoku:considering ∃4 in row[1]\n",
            "INFO:sudoku:trying 4@(1, 9)\n",
            "INFO:sudoku:considering ∃8 in col[9]\n",
            "INFO:sudoku:trying 8@(6, 9)\n",
            "INFO:sudoku:considering ∃8 in row[4]\n",
            "INFO:sudoku:trying 8@(4, 4)\n",
            "INFO:sudoku:considering ∃8 in row[8]\n",
            "INFO:sudoku:trying 8@(8, 3)\n",
            "INFO:sudoku:considering ∃8 in row[9]\n",
            "INFO:sudoku:trying 8@(9, 6)\n",
            "INFO:sudoku:considering ∃7 in col[9]\n",
            "INFO:sudoku:trying 7@(5, 9)\n",
            "INFO:sudoku:considering ∃1 in square(2, 2)\n",
            "INFO:sudoku:trying 1@(6, 6)\n",
            "INFO:sudoku:considering ∃7 in col[6]\n",
            "INFO:sudoku:trying 7@(1, 6)\n",
            "INFO:sudoku:considering ∃7 in row[2]\n",
            "INFO:sudoku:trying 7@(2, 8)\n",
            "INFO:sudoku:considering cell(1, 8) ¬∅\n",
            "INFO:sudoku:trying 5@(1, 8)\n",
            "INFO:sudoku:considering ∃5 in row[3]\n",
            "INFO:sudoku:trying 5@(3, 6)\n",
            "INFO:sudoku:considering ∃5 in row[7]\n",
            "INFO:sudoku:trying 5@(7, 9)\n",
            "INFO:sudoku:considering ∃5 in row[9]\n",
            "INFO:sudoku:trying 5@(9, 5)\n",
            "INFO:sudoku:considering cell(1, 5) ¬∅\n",
            "INFO:sudoku:trying 3@(1, 5)\n",
            "INFO:sudoku:considering ∃3 in row[3]\n",
            "INFO:sudoku:trying 3@(3, 1)\n",
            "INFO:sudoku:considering cell(1, 4) ¬∅\n",
            "INFO:sudoku:trying 9@(1, 4)\n",
            "INFO:sudoku:considering cell(2, 5) ¬∅\n",
            "INFO:sudoku:trying 2@(2, 5)\n",
            "INFO:sudoku:considering cell(3, 4) ¬∅\n",
            "INFO:sudoku:trying 1@(3, 4)\n",
            "INFO:sudoku:considering cell(5, 4) ¬∅\n",
            "INFO:sudoku:trying 2@(5, 4)\n",
            "INFO:sudoku:considering cell(5, 1) ¬∅\n",
            "INFO:sudoku:trying 9@(5, 1)\n",
            "INFO:sudoku:considering cell(5, 6) ¬∅\n",
            "INFO:sudoku:trying 6@(5, 6)\n",
            "INFO:sudoku:considering cell(7, 6) ¬∅\n",
            "INFO:sudoku:trying 2@(7, 6)\n",
            "INFO:sudoku:considering cell(7, 1) ¬∅\n",
            "INFO:sudoku:trying 4@(7, 1)\n",
            "INFO:sudoku:considering cell(7, 4) ¬∅\n",
            "INFO:sudoku:trying 3@(7, 4)\n",
            "INFO:sudoku:considering cell(7, 3) ¬∅\n",
            "INFO:sudoku:trying 9@(7, 3)\n",
            "INFO:sudoku:considering cell(7, 2) ¬∅\n",
            "INFO:sudoku:trying 6@(7, 2)\n",
            "INFO:sudoku:considering cell(8, 2) ¬∅\n",
            "INFO:sudoku:trying 3@(8, 2)\n",
            "INFO:sudoku:considering cell(6, 2) ¬∅\n",
            "INFO:sudoku:trying 4@(6, 2)\n",
            "INFO:sudoku:considering cell(9, 2) ¬∅\n",
            "INFO:sudoku:trying 1@(9, 2)\n",
            "INFO:sudoku:considering cell(4, 2) ¬∅\n",
            "INFO:sudoku:trying 5@(4, 2)\n",
            "INFO:sudoku:considering cell(2, 2) ¬∅\n",
            "INFO:sudoku:trying 9@(2, 2)\n",
            "INFO:sudoku:considering cell(5, 3) ¬∅\n",
            "INFO:sudoku:trying 3@(5, 3)\n",
            "INFO:sudoku:considering cell(5, 7) ¬∅\n",
            "INFO:sudoku:trying 5@(5, 7)\n",
            "INFO:sudoku:considering cell(9, 4) ¬∅\n",
            "INFO:sudoku:trying 7@(9, 4)\n",
            "INFO:sudoku:considering ∃7 in row[8]\n",
            "INFO:sudoku:7@(9, 4) rejected\n",
            "INFO:sudoku:5@(5, 7) rejected\n",
            "INFO:sudoku:3@(5, 3) rejected\n",
            "INFO:sudoku:9@(2, 2) rejected\n",
            "INFO:sudoku:5@(4, 2) rejected\n",
            "INFO:sudoku:1@(9, 2) rejected\n",
            "INFO:sudoku:4@(6, 2) rejected\n",
            "INFO:sudoku:3@(8, 2) rejected\n",
            "INFO:sudoku:6@(7, 2) rejected\n",
            "INFO:sudoku:9@(7, 3) rejected\n",
            "INFO:sudoku:3@(7, 4) rejected\n",
            "INFO:sudoku:4@(7, 1) rejected\n",
            "INFO:sudoku:2@(7, 6) rejected\n",
            "INFO:sudoku:6@(5, 6) rejected\n",
            "INFO:sudoku:9@(5, 1) rejected\n",
            "INFO:sudoku:2@(5, 4) rejected\n",
            "INFO:sudoku:1@(3, 4) rejected\n",
            "INFO:sudoku:2@(2, 5) rejected\n",
            "INFO:sudoku:9@(1, 4) rejected\n",
            "INFO:sudoku:trying 1@(1, 4)\n",
            "INFO:sudoku:considering ∃1 in row[3]\n",
            "INFO:sudoku:trying 1@(3, 7)\n",
            "INFO:sudoku:considering cell(1, 1) ¬∅\n",
            "INFO:sudoku:trying 8@(1, 1)\n",
            "INFO:sudoku:considering cell(1, 7) ¬∅\n",
            "INFO:sudoku:trying 9@(1, 7)\n",
            "INFO:sudoku:considering cell(3, 9) ¬∅\n",
            "INFO:sudoku:trying 6@(3, 9)\n",
            "INFO:sudoku:considering cell(3, 8) ¬∅\n",
            "INFO:sudoku:trying 2@(3, 8)\n",
            "INFO:sudoku:considering cell(2, 7) ¬∅\n",
            "INFO:sudoku:trying 8@(2, 7)\n",
            "INFO:sudoku:considering cell(3, 4) ¬∅\n",
            "INFO:sudoku:trying 9@(3, 4)\n",
            "INFO:sudoku:considering cell(2, 5) ¬∅\n",
            "INFO:sudoku:trying 2@(2, 5)\n",
            "INFO:sudoku:considering cell(5, 4) ¬∅\n",
            "INFO:sudoku:trying 2@(5, 4)\n",
            "INFO:sudoku:considering cell(5, 1) ¬∅\n",
            "INFO:sudoku:trying 9@(5, 1)\n",
            "INFO:sudoku:considering cell(2, 1) ¬∅\n",
            "INFO:sudoku:trying 1@(2, 1)\n",
            "INFO:sudoku:considering cell(5, 6) ¬∅\n",
            "INFO:sudoku:trying 6@(5, 6)\n",
            "INFO:sudoku:considering cell(7, 6) ¬∅\n",
            "INFO:sudoku:trying 2@(7, 6)\n",
            "INFO:sudoku:considering cell(7, 1) ¬∅\n",
            "INFO:sudoku:trying 4@(7, 1)\n",
            "INFO:sudoku:considering cell(4, 1) ¬∅\n",
            "INFO:sudoku:trying 7@(4, 1)\n",
            "INFO:sudoku:considering cell(4, 5) ¬∅\n",
            "INFO:sudoku:trying 9@(4, 5)\n",
            "INFO:sudoku:considering cell(4, 8) ¬∅\n",
            "INFO:sudoku:trying 6@(4, 8)\n",
            "INFO:sudoku:considering cell(6, 5) ¬∅\n",
            "INFO:sudoku:trying 7@(6, 5)\n",
            "INFO:sudoku:considering cell(7, 4) ¬∅\n",
            "INFO:sudoku:trying 3@(7, 4)\n",
            "INFO:sudoku:considering cell(7, 3) ¬∅\n",
            "INFO:sudoku:trying 9@(7, 3)\n",
            "INFO:sudoku:considering cell(2, 3) ¬∅\n",
            "INFO:sudoku:trying 5@(2, 3)\n",
            "INFO:sudoku:considering cell(2, 2) ¬∅\n",
            "INFO:sudoku:trying 9@(2, 2)\n",
            "INFO:sudoku:considering cell(4, 3) ¬∅\n",
            "INFO:sudoku:trying 1@(4, 3)\n",
            "INFO:sudoku:considering cell(5, 3) ¬∅\n",
            "INFO:sudoku:trying 3@(5, 3)\n",
            "INFO:sudoku:considering cell(5, 7) ¬∅\n",
            "INFO:sudoku:trying 5@(5, 7)\n",
            "INFO:sudoku:considering cell(4, 7) ¬∅\n",
            "INFO:sudoku:trying 4@(4, 7)\n",
            "INFO:sudoku:considering cell(4, 2) ¬∅\n",
            "INFO:sudoku:trying 5@(4, 2)\n",
            "INFO:sudoku:considering cell(6, 2) ¬∅\n",
            "INFO:sudoku:trying 4@(6, 2)\n",
            "INFO:sudoku:considering cell(6, 3) ¬∅\n",
            "INFO:sudoku:trying 2@(6, 3)\n",
            "INFO:sudoku:considering cell(6, 7) ¬∅\n",
            "INFO:sudoku:trying 3@(6, 7)\n",
            "INFO:sudoku:considering cell(6, 8) ¬∅\n",
            "INFO:sudoku:trying 9@(6, 8)\n",
            "INFO:sudoku:considering cell(7, 2) ¬∅\n",
            "INFO:sudoku:trying 6@(7, 2)\n",
            "INFO:sudoku:considering cell(8, 2) ¬∅\n",
            "INFO:sudoku:trying 3@(8, 2)\n",
            "INFO:sudoku:considering cell(8, 8) ¬∅\n",
            "INFO:sudoku:3@(8, 2) rejected\n",
            "INFO:sudoku:6@(7, 2) rejected\n",
            "INFO:sudoku:9@(6, 8) rejected\n",
            "INFO:sudoku:3@(6, 7) rejected\n",
            "INFO:sudoku:2@(6, 3) rejected\n",
            "INFO:sudoku:4@(6, 2) rejected\n",
            "INFO:sudoku:5@(4, 2) rejected\n",
            "INFO:sudoku:4@(4, 7) rejected\n",
            "INFO:sudoku:5@(5, 7) rejected\n",
            "INFO:sudoku:3@(5, 3) rejected\n",
            "INFO:sudoku:1@(4, 3) rejected\n",
            "INFO:sudoku:9@(2, 2) rejected\n",
            "INFO:sudoku:5@(2, 3) rejected\n",
            "INFO:sudoku:9@(7, 3) rejected\n",
            "INFO:sudoku:3@(7, 4) rejected\n",
            "INFO:sudoku:7@(6, 5) rejected\n",
            "INFO:sudoku:6@(4, 8) rejected\n",
            "INFO:sudoku:9@(4, 5) rejected\n",
            "INFO:sudoku:7@(4, 1) rejected\n",
            "INFO:sudoku:4@(7, 1) rejected\n",
            "INFO:sudoku:2@(7, 6) rejected\n",
            "INFO:sudoku:6@(5, 6) rejected\n",
            "INFO:sudoku:1@(2, 1) rejected\n",
            "INFO:sudoku:9@(5, 1) rejected\n",
            "INFO:sudoku:2@(5, 4) rejected\n",
            "INFO:sudoku:2@(2, 5) rejected\n",
            "INFO:sudoku:9@(3, 4) rejected\n",
            "INFO:sudoku:8@(2, 7) rejected\n",
            "INFO:sudoku:2@(3, 8) rejected\n",
            "INFO:sudoku:6@(3, 9) rejected\n",
            "INFO:sudoku:9@(1, 7) rejected\n",
            "INFO:sudoku:8@(1, 1) rejected\n",
            "INFO:sudoku:trying 9@(1, 1)\n",
            "INFO:sudoku:considering cell(1, 7) ¬∅\n",
            "INFO:sudoku:trying 8@(1, 7)\n",
            "INFO:sudoku:considering cell(5, 1) ¬∅\n",
            "INFO:sudoku:trying 2@(5, 1)\n",
            "INFO:sudoku:considering cell(5, 4) ¬∅\n",
            "INFO:sudoku:trying 9@(5, 4)\n",
            "INFO:sudoku:considering cell(3, 4) ¬∅\n",
            "INFO:sudoku:trying 2@(3, 4)\n",
            "INFO:sudoku:considering cell(2, 5) ¬∅\n",
            "INFO:sudoku:trying 9@(2, 5)\n",
            "INFO:sudoku:considering cell(2, 7) ¬∅\n",
            "INFO:sudoku:trying 2@(2, 7)\n",
            "INFO:sudoku:considering cell(5, 6) ¬∅\n",
            "INFO:sudoku:trying 6@(5, 6)\n",
            "INFO:sudoku:considering cell(4, 5) ¬∅\n",
            "INFO:sudoku:trying 7@(4, 5)\n",
            "INFO:sudoku:considering cell(6, 5) ¬∅\n",
            "INFO:sudoku:trying 2@(6, 5)\n",
            "INFO:sudoku:considering cell(7, 1) ¬∅\n",
            "INFO:sudoku:trying 4@(7, 1)\n",
            "INFO:sudoku:considering cell(4, 1) ¬∅\n",
            "INFO:sudoku:trying 1@(4, 1)\n",
            "INFO:sudoku:considering cell(2, 1) ¬∅\n",
            "INFO:sudoku:trying 8@(2, 1)\n",
            "INFO:sudoku:considering cell(7, 4) ¬∅\n",
            "INFO:sudoku:trying 3@(7, 4)\n",
            "INFO:sudoku:considering cell(7, 6) ¬∅\n",
            "INFO:sudoku:trying 2@(7, 6)\n",
            "INFO:sudoku:considering cell(7, 3) ¬∅\n",
            "INFO:sudoku:trying 9@(7, 3)\n",
            "INFO:sudoku:considering cell(4, 3) ¬∅\n",
            "INFO:sudoku:trying 5@(4, 3)\n",
            "INFO:sudoku:considering cell(2, 3) ¬∅\n",
            "INFO:sudoku:trying 1@(2, 3)\n",
            "INFO:sudoku:considering cell(2, 2) ¬∅\n",
            "INFO:sudoku:trying 5@(2, 2)\n",
            "INFO:sudoku:considering cell(5, 3) ¬∅\n",
            "INFO:sudoku:trying 3@(5, 3)\n",
            "INFO:sudoku:considering cell(5, 7) ¬∅\n",
            "INFO:sudoku:trying 5@(5, 7)\n",
            "INFO:sudoku:considering cell(6, 3) ¬∅\n",
            "INFO:sudoku:trying 7@(6, 3)\n",
            "INFO:sudoku:considering cell(7, 2) ¬∅\n",
            "INFO:sudoku:trying 6@(7, 2)\n",
            "INFO:sudoku:considering cell(8, 2) ¬∅\n",
            "INFO:sudoku:trying 3@(8, 2)\n",
            "INFO:sudoku:considering cell(8, 5) ¬∅\n",
            "INFO:sudoku:trying 6@(8, 5)\n",
            "INFO:sudoku:considering cell(8, 7) ¬∅\n",
            "INFO:sudoku:6@(8, 5) rejected\n",
            "INFO:sudoku:3@(8, 2) rejected\n",
            "INFO:sudoku:6@(7, 2) rejected\n",
            "INFO:sudoku:7@(6, 3) rejected\n",
            "INFO:sudoku:5@(5, 7) rejected\n",
            "INFO:sudoku:3@(5, 3) rejected\n",
            "INFO:sudoku:5@(2, 2) rejected\n",
            "INFO:sudoku:1@(2, 3) rejected\n",
            "INFO:sudoku:5@(4, 3) rejected\n",
            "INFO:sudoku:9@(7, 3) rejected\n",
            "INFO:sudoku:2@(7, 6) rejected\n",
            "INFO:sudoku:3@(7, 4) rejected\n",
            "INFO:sudoku:8@(2, 1) rejected\n",
            "INFO:sudoku:1@(4, 1) rejected\n",
            "INFO:sudoku:4@(7, 1) rejected\n",
            "INFO:sudoku:2@(6, 5) rejected\n",
            "INFO:sudoku:7@(4, 5) rejected\n",
            "INFO:sudoku:6@(5, 6) rejected\n",
            "INFO:sudoku:2@(2, 7) rejected\n",
            "INFO:sudoku:9@(2, 5) rejected\n",
            "INFO:sudoku:2@(3, 4) rejected\n",
            "INFO:sudoku:9@(5, 4) rejected\n",
            "INFO:sudoku:2@(5, 1) rejected\n",
            "INFO:sudoku:8@(1, 7) rejected\n",
            "INFO:sudoku:9@(1, 1) rejected\n",
            "INFO:sudoku:1@(3, 7) rejected\n",
            "INFO:sudoku:1@(1, 4) rejected\n",
            "INFO:sudoku:3@(3, 1) rejected\n",
            "INFO:sudoku:3@(1, 5) rejected\n",
            "INFO:sudoku:trying 9@(1, 5)\n",
            "INFO:sudoku:considering cell(2, 5) ¬∅\n",
            "INFO:sudoku:trying 2@(2, 5)\n",
            "INFO:sudoku:considering cell(6, 5) ¬∅\n",
            "INFO:sudoku:trying 7@(6, 5)\n",
            "INFO:sudoku:considering cell(4, 5) ¬∅\n",
            "INFO:sudoku:trying 6@(4, 5)\n",
            "INFO:sudoku:considering cell(4, 8) ¬∅\n",
            "INFO:sudoku:trying 9@(4, 8)\n",
            "INFO:sudoku:considering cell(5, 6) ¬∅\n",
            "INFO:sudoku:trying 2@(5, 6)\n",
            "INFO:sudoku:considering cell(5, 4) ¬∅\n",
            "INFO:sudoku:trying 9@(5, 4)\n",
            "INFO:sudoku:considering cell(5, 1) ¬∅\n",
            "INFO:sudoku:trying 3@(5, 1)\n",
            "INFO:sudoku:considering ∃3 in square(1, 1)\n",
            "INFO:sudoku:3@(5, 1) rejected\n",
            "INFO:sudoku:9@(5, 4) rejected\n",
            "INFO:sudoku:2@(5, 6) rejected\n",
            "INFO:sudoku:9@(4, 8) rejected\n",
            "INFO:sudoku:6@(4, 5) rejected\n",
            "INFO:sudoku:7@(6, 5) rejected\n",
            "INFO:sudoku:2@(2, 5) rejected\n",
            "INFO:sudoku:9@(1, 5) rejected\n",
            "INFO:sudoku:5@(9, 5) rejected\n",
            "INFO:sudoku:5@(7, 9) rejected\n",
            "INFO:sudoku:5@(3, 6) rejected\n",
            "INFO:sudoku:5@(1, 8) rejected\n",
            "INFO:sudoku:trying 9@(1, 8)\n",
            "INFO:sudoku:considering cell(6, 8) ¬∅\n",
            "INFO:sudoku:trying 3@(6, 8)\n",
            "INFO:sudoku:considering cell(1, 4) ¬∅\n",
            "INFO:sudoku:trying 1@(1, 4)\n",
            "INFO:sudoku:considering cell(1, 1) ¬∅\n",
            "INFO:sudoku:trying 3@(1, 1)\n",
            "INFO:sudoku:considering cell(1, 5) ¬∅\n",
            "INFO:sudoku:trying 5@(1, 5)\n",
            "INFO:sudoku:considering cell(1, 7) ¬∅\n",
            "INFO:sudoku:trying 8@(1, 7)\n",
            "INFO:sudoku:considering cell(3, 6) ¬∅\n",
            "INFO:sudoku:trying 2@(3, 6)\n",
            "INFO:sudoku:considering cell(2, 5) ¬∅\n",
            "INFO:sudoku:trying 9@(2, 5)\n",
            "INFO:sudoku:considering cell(3, 4) ¬∅\n",
            "INFO:sudoku:trying 3@(3, 4)\n",
            "INFO:sudoku:considering cell(5, 6) ¬∅\n",
            "INFO:sudoku:trying 6@(5, 6)\n",
            "INFO:sudoku:considering cell(4, 5) ¬∅\n",
            "INFO:sudoku:trying 7@(4, 5)\n",
            "INFO:sudoku:considering cell(6, 5) ¬∅\n",
            "INFO:sudoku:trying 2@(6, 5)\n",
            "INFO:sudoku:considering cell(5, 4) ¬∅\n",
            "INFO:sudoku:trying 9@(5, 4)\n",
            "INFO:sudoku:considering cell(5, 1) ¬∅\n",
            "INFO:sudoku:trying 2@(5, 1)\n",
            "INFO:sudoku:considering cell(5, 7) ¬∅\n",
            "INFO:sudoku:trying 5@(5, 7)\n",
            "INFO:sudoku:considering cell(4, 8) ¬∅\n",
            "INFO:sudoku:trying 6@(4, 8)\n",
            "INFO:sudoku:considering cell(3, 8) ¬∅\n",
            "INFO:sudoku:trying 5@(3, 8)\n",
            "INFO:sudoku:considering cell(3, 9) ¬∅\n",
            "INFO:sudoku:trying 6@(3, 9)\n",
            "INFO:sudoku:considering cell(3, 7) ¬∅\n",
            "INFO:sudoku:trying 1@(3, 7)\n",
            "INFO:sudoku:considering cell(2, 7) ¬∅\n",
            "INFO:sudoku:trying 2@(2, 7)\n",
            "INFO:sudoku:considering cell(3, 1) ¬∅\n",
            "INFO:sudoku:trying 9@(3, 1)\n",
            "INFO:sudoku:considering cell(5, 3) ¬∅\n",
            "INFO:sudoku:trying 3@(5, 3)\n",
            "INFO:sudoku:considering cell(7, 1) ¬∅\n",
            "INFO:sudoku:trying 4@(7, 1)\n",
            "INFO:sudoku:considering cell(4, 1) ¬∅\n",
            "INFO:sudoku:trying 1@(4, 1)\n",
            "INFO:sudoku:considering cell(2, 1) ¬∅\n",
            "INFO:sudoku:trying 8@(2, 1)\n",
            "INFO:sudoku:considering cell(7, 4) ¬∅\n",
            "INFO:sudoku:trying 2@(7, 4)\n",
            "INFO:sudoku:considering cell(7, 3) ¬∅\n",
            "INFO:sudoku:trying 9@(7, 3)\n",
            "INFO:sudoku:considering cell(4, 3) ¬∅\n",
            "INFO:sudoku:trying 5@(4, 3)\n",
            "INFO:sudoku:considering cell(2, 3) ¬∅\n",
            "INFO:sudoku:trying 1@(2, 3)\n",
            "INFO:sudoku:considering cell(2, 2) ¬∅\n",
            "INFO:sudoku:trying 5@(2, 2)\n",
            "INFO:sudoku:considering cell(6, 3) ¬∅\n",
            "INFO:sudoku:trying 7@(6, 3)\n",
            "INFO:sudoku:considering cell(7, 6) ¬∅\n",
            "INFO:sudoku:trying 5@(7, 6)\n",
            "INFO:sudoku:considering cell(7, 9) ¬∅\n",
            "INFO:sudoku:5@(7, 6) rejected\n",
            "INFO:sudoku:7@(6, 3) rejected\n",
            "INFO:sudoku:5@(2, 2) rejected\n",
            "INFO:sudoku:1@(2, 3) rejected\n",
            "INFO:sudoku:5@(4, 3) rejected\n",
            "INFO:sudoku:9@(7, 3) rejected\n",
            "INFO:sudoku:2@(7, 4) rejected\n",
            "INFO:sudoku:8@(2, 1) rejected\n",
            "INFO:sudoku:1@(4, 1) rejected\n",
            "INFO:sudoku:4@(7, 1) rejected\n",
            "INFO:sudoku:3@(5, 3) rejected\n",
            "INFO:sudoku:9@(3, 1) rejected\n",
            "INFO:sudoku:2@(2, 7) rejected\n",
            "INFO:sudoku:1@(3, 7) rejected\n",
            "INFO:sudoku:6@(3, 9) rejected\n",
            "INFO:sudoku:5@(3, 8) rejected\n",
            "INFO:sudoku:6@(4, 8) rejected\n",
            "INFO:sudoku:5@(5, 7) rejected\n",
            "INFO:sudoku:2@(5, 1) rejected\n",
            "INFO:sudoku:9@(5, 4) rejected\n",
            "INFO:sudoku:2@(6, 5) rejected\n",
            "INFO:sudoku:7@(4, 5) rejected\n",
            "INFO:sudoku:6@(5, 6) rejected\n",
            "INFO:sudoku:3@(3, 4) rejected\n",
            "INFO:sudoku:9@(2, 5) rejected\n",
            "INFO:sudoku:2@(3, 6) rejected\n",
            "INFO:sudoku:8@(1, 7) rejected\n",
            "INFO:sudoku:5@(1, 5) rejected\n",
            "INFO:sudoku:3@(1, 1) rejected\n",
            "INFO:sudoku:trying 8@(1, 1)\n",
            "INFO:sudoku:considering cell(1, 7) ¬∅\n",
            "INFO:sudoku:trying 5@(1, 7)\n",
            "INFO:sudoku:considering cell(1, 5) ¬∅\n",
            "INFO:sudoku:trying 3@(1, 5)\n",
            "INFO:sudoku:considering cell(3, 9) ¬∅\n",
            "INFO:sudoku:trying 6@(3, 9)\n",
            "INFO:sudoku:considering cell(3, 8) ¬∅\n",
            "INFO:sudoku:trying 2@(3, 8)\n",
            "INFO:sudoku:considering cell(3, 4) ¬∅\n",
            "INFO:sudoku:trying 9@(3, 4)\n",
            "INFO:sudoku:considering cell(3, 6) ¬∅\n",
            "INFO:sudoku:trying 5@(3, 6)\n",
            "INFO:sudoku:considering cell(2, 5) ¬∅\n",
            "INFO:sudoku:trying 2@(2, 5)\n",
            "INFO:sudoku:considering cell(3, 7) ¬∅\n",
            "INFO:sudoku:trying 1@(3, 7)\n",
            "INFO:sudoku:considering cell(2, 7) ¬∅\n",
            "INFO:sudoku:trying 8@(2, 7)\n",
            "INFO:sudoku:considering cell(3, 1) ¬∅\n",
            "INFO:sudoku:trying 3@(3, 1)\n",
            "INFO:sudoku:considering cell(5, 4) ¬∅\n",
            "INFO:sudoku:trying 2@(5, 4)\n",
            "INFO:sudoku:considering cell(5, 1) ¬∅\n",
            "INFO:sudoku:trying 9@(5, 1)\n",
            "INFO:sudoku:considering cell(2, 1) ¬∅\n",
            "INFO:sudoku:trying 1@(2, 1)\n",
            "INFO:sudoku:considering cell(5, 6) ¬∅\n",
            "INFO:sudoku:trying 6@(5, 6)\n",
            "INFO:sudoku:considering cell(5, 7) ¬∅\n",
            "INFO:sudoku:6@(5, 6) rejected\n",
            "INFO:sudoku:1@(2, 1) rejected\n",
            "INFO:sudoku:9@(5, 1) rejected\n",
            "INFO:sudoku:2@(5, 4) rejected\n",
            "INFO:sudoku:3@(3, 1) rejected\n",
            "INFO:sudoku:8@(2, 7) rejected\n",
            "INFO:sudoku:1@(3, 7) rejected\n",
            "INFO:sudoku:2@(2, 5) rejected\n",
            "INFO:sudoku:5@(3, 6) rejected\n",
            "INFO:sudoku:9@(3, 4) rejected\n",
            "INFO:sudoku:2@(3, 8) rejected\n",
            "INFO:sudoku:6@(3, 9) rejected\n",
            "INFO:sudoku:3@(1, 5) rejected\n",
            "INFO:sudoku:5@(1, 7) rejected\n",
            "INFO:sudoku:8@(1, 1) rejected\n",
            "INFO:sudoku:1@(1, 4) rejected\n",
            "INFO:sudoku:trying 3@(1, 4)\n",
            "INFO:sudoku:considering cell(1, 5) ¬∅\n",
            "INFO:sudoku:trying 5@(1, 5)\n",
            "INFO:sudoku:considering cell(3, 6) ¬∅\n",
            "INFO:sudoku:trying 2@(3, 6)\n",
            "INFO:sudoku:considering cell(2, 5) ¬∅\n",
            "INFO:sudoku:trying 9@(2, 5)\n",
            "INFO:sudoku:considering cell(3, 4) ¬∅\n",
            "INFO:sudoku:trying 1@(3, 4)\n",
            "INFO:sudoku:considering cell(5, 6) ¬∅\n",
            "INFO:sudoku:trying 6@(5, 6)\n",
            "INFO:sudoku:considering cell(4, 5) ¬∅\n",
            "INFO:sudoku:trying 7@(4, 5)\n",
            "INFO:sudoku:considering cell(6, 5) ¬∅\n",
            "INFO:sudoku:trying 2@(6, 5)\n",
            "INFO:sudoku:considering cell(5, 4) ¬∅\n",
            "INFO:sudoku:trying 9@(5, 4)\n",
            "INFO:sudoku:considering cell(5, 7) ¬∅\n",
            "INFO:sudoku:trying 5@(5, 7)\n",
            "INFO:sudoku:considering cell(3, 7) ¬∅\n",
            "INFO:sudoku:trying 6@(3, 7)\n",
            "INFO:sudoku:considering cell(3, 8) ¬∅\n",
            "INFO:sudoku:trying 5@(3, 8)\n",
            "INFO:sudoku:considering cell(3, 9) ¬∅\n",
            "INFO:sudoku:5@(3, 8) rejected\n",
            "INFO:sudoku:6@(3, 7) rejected\n",
            "INFO:sudoku:5@(5, 7) rejected\n",
            "INFO:sudoku:9@(5, 4) rejected\n",
            "INFO:sudoku:2@(6, 5) rejected\n",
            "INFO:sudoku:7@(4, 5) rejected\n",
            "INFO:sudoku:6@(5, 6) rejected\n",
            "INFO:sudoku:1@(3, 4) rejected\n",
            "INFO:sudoku:9@(2, 5) rejected\n",
            "INFO:sudoku:2@(3, 6) rejected\n",
            "INFO:sudoku:5@(1, 5) rejected\n",
            "INFO:sudoku:3@(1, 4) rejected\n",
            "INFO:sudoku:3@(6, 8) rejected\n",
            "INFO:sudoku:9@(1, 8) rejected\n",
            "INFO:sudoku:7@(2, 8) rejected\n",
            "INFO:sudoku:7@(1, 6) rejected\n",
            "INFO:sudoku:1@(6, 6) rejected\n",
            "INFO:sudoku:7@(5, 9) rejected\n",
            "INFO:sudoku:8@(9, 6) rejected\n",
            "INFO:sudoku:8@(8, 3) rejected\n",
            "INFO:sudoku:8@(4, 4) rejected\n",
            "INFO:sudoku:8@(6, 9) rejected\n",
            "INFO:sudoku:4@(1, 9) rejected\n",
            "INFO:sudoku:trying 4@(1, 7)\n",
            "INFO:sudoku:considering ∃4 in col[9]\n",
            "INFO:sudoku:trying 4@(6, 9)\n",
            "INFO:sudoku:considering ∃8 in col[9]\n",
            "INFO:sudoku:trying 8@(1, 9)\n",
            "INFO:sudoku:considering ∃7 in col[9]\n",
            "INFO:sudoku:trying 7@(5, 9)\n",
            "INFO:sudoku:considering cell(5, 4) ¬∅\n",
            "INFO:sudoku:trying 2@(5, 4)\n",
            "INFO:sudoku:considering cell(5, 6) ¬∅\n",
            "INFO:sudoku:trying 6@(5, 6)\n",
            "INFO:sudoku:considering ∃2 in row[6]\n",
            "INFO:sudoku:trying 2@(6, 3)\n",
            "INFO:sudoku:considering cell(4, 5) ¬∅\n",
            "INFO:sudoku:trying 9@(4, 5)\n",
            "INFO:sudoku:considering cell(6, 5) ¬∅\n",
            "INFO:sudoku:trying 7@(6, 5)\n",
            "INFO:sudoku:considering ∃7 in row[2]\n",
            "INFO:sudoku:trying 7@(2, 8)\n",
            "INFO:sudoku:considering cell(1, 5) ¬∅\n",
            "INFO:sudoku:trying 3@(1, 5)\n",
            "INFO:sudoku:considering ∃3 in row[3]\n",
            "INFO:sudoku:trying 3@(3, 1)\n",
            "INFO:sudoku:considering cell(5, 1) ¬∅\n",
            "INFO:sudoku:trying 9@(5, 1)\n",
            "INFO:sudoku:considering cell(1, 1) ¬∅\n",
            "INFO:sudoku:trying 1@(1, 1)\n",
            "INFO:sudoku:considering cell(2, 1) ¬∅\n",
            "INFO:sudoku:trying 8@(2, 1)\n",
            "INFO:sudoku:considering ∃1 in row[2]\n",
            "INFO:sudoku:trying 1@(2, 7)\n",
            "INFO:sudoku:considering ∃2 in row[2]\n",
            "INFO:sudoku:trying 2@(2, 5)\n",
            "INFO:sudoku:considering cell(8, 5) ¬∅\n",
            "INFO:sudoku:trying 6@(8, 5)\n",
            "INFO:sudoku:considering cell(9, 5) ¬∅\n",
            "INFO:sudoku:trying 5@(9, 5)\n",
            "INFO:sudoku:considering cell(7, 6) ¬∅\n",
            "INFO:sudoku:trying 2@(7, 6)\n",
            "INFO:sudoku:considering cell(7, 1) ¬∅\n",
            "INFO:sudoku:trying 4@(7, 1)\n",
            "INFO:sudoku:considering cell(4, 1) ¬∅\n",
            "INFO:sudoku:trying 7@(4, 1)\n",
            "INFO:sudoku:considering cell(7, 4) ¬∅\n",
            "INFO:sudoku:trying 3@(7, 4)\n",
            "INFO:sudoku:considering cell(7, 3) ¬∅\n",
            "INFO:sudoku:trying 9@(7, 3)\n",
            "INFO:sudoku:considering cell(2, 3) ¬∅\n",
            "INFO:sudoku:trying 5@(2, 3)\n",
            "INFO:sudoku:considering cell(2, 2) ¬∅\n",
            "INFO:sudoku:trying 9@(2, 2)\n",
            "INFO:sudoku:considering cell(4, 3) ¬∅\n",
            "INFO:sudoku:trying 1@(4, 3)\n",
            "INFO:sudoku:considering cell(4, 4) ¬∅\n",
            "INFO:sudoku:trying 8@(4, 4)\n",
            "INFO:sudoku:considering cell(5, 3) ¬∅\n",
            "INFO:sudoku:trying 3@(5, 3)\n",
            "INFO:sudoku:considering cell(6, 2) ¬∅\n",
            "INFO:sudoku:3@(5, 3) rejected\n",
            "INFO:sudoku:8@(4, 4) rejected\n",
            "INFO:sudoku:1@(4, 3) rejected\n",
            "INFO:sudoku:9@(2, 2) rejected\n",
            "INFO:sudoku:5@(2, 3) rejected\n",
            "INFO:sudoku:9@(7, 3) rejected\n",
            "INFO:sudoku:3@(7, 4) rejected\n",
            "INFO:sudoku:7@(4, 1) rejected\n",
            "INFO:sudoku:4@(7, 1) rejected\n",
            "INFO:sudoku:2@(7, 6) rejected\n",
            "INFO:sudoku:5@(9, 5) rejected\n",
            "INFO:sudoku:6@(8, 5) rejected\n",
            "INFO:sudoku:2@(2, 5) rejected\n",
            "INFO:sudoku:1@(2, 7) rejected\n",
            "INFO:sudoku:8@(2, 1) rejected\n",
            "INFO:sudoku:1@(1, 1) rejected\n",
            "INFO:sudoku:9@(5, 1) rejected\n",
            "INFO:sudoku:3@(3, 1) rejected\n",
            "INFO:sudoku:3@(1, 5) rejected\n",
            "INFO:sudoku:trying 5@(1, 5)\n",
            "INFO:sudoku:considering cell(1, 8) ¬∅\n",
            "INFO:sudoku:trying 9@(1, 8)\n",
            "INFO:sudoku:considering cell(2, 5) ¬∅\n",
            "INFO:sudoku:trying 2@(2, 5)\n",
            "INFO:sudoku:considering cell(3, 6) ¬∅\n",
            "INFO:sudoku:trying 1@(3, 6)\n",
            "INFO:sudoku:considering cell(1, 6) ¬∅\n",
            "INFO:sudoku:trying 7@(1, 6)\n",
            "INFO:sudoku:considering cell(1, 4) ¬∅\n",
            "INFO:sudoku:trying 3@(1, 4)\n",
            "INFO:sudoku:considering cell(1, 1) ¬∅\n",
            "INFO:sudoku:trying 1@(1, 1)\n",
            "INFO:sudoku:considering cell(3, 4) ¬∅\n",
            "INFO:sudoku:trying 9@(3, 4)\n",
            "INFO:sudoku:considering cell(3, 1) ¬∅\n",
            "INFO:sudoku:trying 3@(3, 1)\n",
            "INFO:sudoku:considering cell(5, 1) ¬∅\n",
            "INFO:sudoku:trying 9@(5, 1)\n",
            "INFO:sudoku:considering cell(2, 1) ¬∅\n",
            "INFO:sudoku:trying 8@(2, 1)\n",
            "INFO:sudoku:considering cell(6, 6) ¬∅\n",
            "INFO:sudoku:trying 8@(6, 6)\n",
            "INFO:sudoku:considering cell(4, 4) ¬∅\n",
            "INFO:sudoku:trying 1@(4, 4)\n",
            "INFO:sudoku:considering cell(6, 8) ¬∅\n",
            "INFO:sudoku:trying 3@(6, 8)\n",
            "INFO:sudoku:considering cell(5, 7) ¬∅\n",
            "INFO:sudoku:trying 5@(5, 7)\n",
            "INFO:sudoku:considering cell(2, 7) ¬∅\n",
            "INFO:sudoku:trying 1@(2, 7)\n",
            "INFO:sudoku:considering cell(4, 8) ¬∅\n",
            "INFO:sudoku:trying 6@(4, 8)\n",
            "INFO:sudoku:considering cell(4, 7) ¬∅\n",
            "INFO:sudoku:trying 8@(4, 7)\n",
            "INFO:sudoku:considering cell(5, 3) ¬∅\n",
            "INFO:sudoku:trying 3@(5, 3)\n",
            "INFO:sudoku:considering cell(6, 2) ¬∅\n",
            "INFO:sudoku:trying 1@(6, 2)\n",
            "INFO:sudoku:considering cell(6, 7) ¬∅\n",
            "INFO:sudoku:trying 9@(6, 7)\n",
            "INFO:sudoku:considering cell(7, 3) ¬∅\n",
            "INFO:sudoku:trying 9@(7, 3)\n",
            "INFO:sudoku:considering cell(2, 3) ¬∅\n",
            "INFO:sudoku:trying 5@(2, 3)\n",
            "INFO:sudoku:considering cell(2, 2) ¬∅\n",
            "INFO:sudoku:trying 9@(2, 2)\n",
            "INFO:sudoku:considering cell(4, 3) ¬∅\n",
            "INFO:sudoku:trying 7@(4, 3)\n",
            "INFO:sudoku:considering cell(4, 1) ¬∅\n",
            "INFO:sudoku:trying 4@(4, 1)\n",
            "INFO:sudoku:considering cell(4, 2) ¬∅\n",
            "INFO:sudoku:trying 5@(4, 2)\n",
            "INFO:sudoku:considering cell(7, 1) ¬∅\n",
            "INFO:sudoku:trying 2@(7, 1)\n",
            "INFO:sudoku:considering cell(7, 4) ¬∅\n",
            "INFO:sudoku:trying 4@(7, 4)\n",
            "INFO:sudoku:considering cell(7, 6) ¬∅\n",
            "INFO:sudoku:trying 5@(7, 6)\n",
            "INFO:sudoku:considering cell(7, 9) ¬∅\n",
            "INFO:sudoku:trying 6@(7, 9)\n",
            "INFO:sudoku:considering cell(3, 9) ¬∅\n",
            "INFO:sudoku:trying 5@(3, 9)\n",
            "INFO:sudoku:considering ∃5 in row[9]\n",
            "INFO:sudoku:5@(3, 9) rejected\n",
            "INFO:sudoku:6@(7, 9) rejected\n",
            "INFO:sudoku:5@(7, 6) rejected\n",
            "INFO:sudoku:4@(7, 4) rejected\n",
            "INFO:sudoku:2@(7, 1) rejected\n",
            "INFO:sudoku:5@(4, 2) rejected\n",
            "INFO:sudoku:4@(4, 1) rejected\n",
            "INFO:sudoku:7@(4, 3) rejected\n",
            "INFO:sudoku:9@(2, 2) rejected\n",
            "INFO:sudoku:5@(2, 3) rejected\n",
            "INFO:sudoku:9@(7, 3) rejected\n",
            "INFO:sudoku:9@(6, 7) rejected\n",
            "INFO:sudoku:1@(6, 2) rejected\n",
            "INFO:sudoku:3@(5, 3) rejected\n",
            "INFO:sudoku:8@(4, 7) rejected\n",
            "INFO:sudoku:6@(4, 8) rejected\n",
            "INFO:sudoku:1@(2, 7) rejected\n",
            "INFO:sudoku:5@(5, 7) rejected\n",
            "INFO:sudoku:3@(6, 8) rejected\n",
            "INFO:sudoku:1@(4, 4) rejected\n",
            "INFO:sudoku:8@(6, 6) rejected\n",
            "INFO:sudoku:8@(2, 1) rejected\n",
            "INFO:sudoku:9@(5, 1) rejected\n",
            "INFO:sudoku:3@(3, 1) rejected\n",
            "INFO:sudoku:9@(3, 4) rejected\n",
            "INFO:sudoku:1@(1, 1) rejected\n",
            "INFO:sudoku:3@(1, 4) rejected\n",
            "INFO:sudoku:7@(1, 6) rejected\n",
            "INFO:sudoku:1@(3, 6) rejected\n",
            "INFO:sudoku:2@(2, 5) rejected\n",
            "INFO:sudoku:9@(1, 8) rejected\n",
            "INFO:sudoku:5@(1, 5) rejected\n",
            "INFO:sudoku:7@(2, 8) rejected\n",
            "INFO:sudoku:7@(6, 5) rejected\n",
            "INFO:sudoku:9@(4, 5) rejected\n",
            "INFO:sudoku:trying 7@(4, 5)\n",
            "INFO:sudoku:considering ∃7 in row[6]\n",
            "INFO:sudoku:7@(4, 5) rejected\n",
            "INFO:sudoku:2@(6, 3) rejected\n",
            "INFO:sudoku:6@(5, 6) rejected\n",
            "INFO:sudoku:2@(5, 4) rejected\n",
            "INFO:sudoku:trying 9@(5, 4)\n",
            "INFO:sudoku:considering cell(4, 5) ¬∅\n",
            "INFO:sudoku:trying 6@(4, 5)\n",
            "INFO:sudoku:considering cell(5, 6) ¬∅\n",
            "INFO:sudoku:trying 2@(5, 6)\n",
            "INFO:sudoku:considering cell(5, 1) ¬∅\n",
            "INFO:sudoku:trying 3@(5, 1)\n",
            "INFO:sudoku:considering ∃3 in square(1, 1)\n",
            "INFO:sudoku:3@(5, 1) rejected\n",
            "INFO:sudoku:2@(5, 6) rejected\n",
            "INFO:sudoku:6@(4, 5) rejected\n",
            "INFO:sudoku:trying 7@(4, 5)\n",
            "INFO:sudoku:considering cell(6, 5) ¬∅\n",
            "INFO:sudoku:trying 2@(6, 5)\n",
            "INFO:sudoku:considering cell(5, 6) ¬∅\n",
            "INFO:sudoku:trying 6@(5, 6)\n",
            "INFO:sudoku:considering ∃7 in row[2]\n",
            "INFO:sudoku:trying 7@(2, 8)\n",
            "INFO:sudoku:considering ∃2 in row[2]\n",
            "INFO:sudoku:trying 2@(2, 7)\n",
            "INFO:sudoku:considering ∃7 in row[6]\n",
            "INFO:sudoku:trying 7@(6, 3)\n",
            "INFO:sudoku:considering ∃7 in row[8]\n",
            "INFO:sudoku:trying 7@(8, 4)\n",
            "INFO:sudoku:considering ∃7 in row[1]\n",
            "INFO:sudoku:trying 7@(1, 6)\n",
            "INFO:sudoku:considering ∃4 in row[8]\n",
            "INFO:sudoku:trying 4@(8, 2)\n",
            "INFO:sudoku:considering ∃4 in row[4]\n",
            "INFO:sudoku:trying 4@(4, 1)\n",
            "INFO:sudoku:considering ∃4 in row[7]\n",
            "INFO:sudoku:trying 4@(7, 4)\n",
            "INFO:sudoku:considering ∃8 in row[8]\n",
            "INFO:sudoku:trying 8@(8, 3)\n",
            "INFO:sudoku:considering ∃8 in row[2]\n",
            "INFO:sudoku:trying 8@(2, 1)\n",
            "INFO:sudoku:considering ∃2 in row[8]\n",
            "INFO:sudoku:trying 2@(8, 8)\n",
            "INFO:sudoku:considering ∃7 in row[9]\n",
            "INFO:sudoku:trying 7@(9, 1)\n",
            "INFO:sudoku:considering ∃1 in col[7]\n",
            "INFO:sudoku:trying 1@(3, 7)\n",
            "INFO:sudoku:considering ∃1 in col[1]\n",
            "INFO:sudoku:trying 1@(1, 1)\n",
            "INFO:sudoku:considering ∃1 in row[2]\n",
            "INFO:sudoku:1@(1, 1) rejected\n",
            "INFO:sudoku:1@(3, 7) rejected\n",
            "INFO:sudoku:7@(9, 1) rejected\n",
            "INFO:sudoku:2@(8, 8) rejected\n",
            "INFO:sudoku:8@(2, 1) rejected\n",
            "INFO:sudoku:8@(8, 3) rejected\n",
            "INFO:sudoku:4@(7, 4) rejected\n",
            "INFO:sudoku:4@(4, 1) rejected\n",
            "INFO:sudoku:4@(8, 2) rejected\n",
            "INFO:sudoku:7@(1, 6) rejected\n",
            "INFO:sudoku:7@(8, 4) rejected\n",
            "INFO:sudoku:7@(6, 3) rejected\n",
            "INFO:sudoku:2@(2, 7) rejected\n",
            "INFO:sudoku:7@(2, 8) rejected\n",
            "INFO:sudoku:6@(5, 6) rejected\n",
            "INFO:sudoku:2@(6, 5) rejected\n",
            "INFO:sudoku:7@(4, 5) rejected\n",
            "INFO:sudoku:9@(5, 4) rejected\n",
            "INFO:sudoku:7@(5, 9) rejected\n",
            "INFO:sudoku:8@(1, 9) rejected\n",
            "INFO:sudoku:4@(6, 9) rejected\n",
            "INFO:sudoku:4@(1, 7) rejected\n",
            "INFO:sudoku:4@(2, 6) rejected\n",
            "INFO:sudoku:trying 4@(2, 7)\n",
            "INFO:sudoku:considering ∃4 in col[9]\n",
            "INFO:sudoku:trying 4@(6, 9)\n",
            "INFO:sudoku:considering ∃8 in col[9]\n",
            "INFO:sudoku:trying 8@(1, 9)\n",
            "INFO:sudoku:considering ∃7 in col[9]\n",
            "INFO:sudoku:trying 7@(5, 9)\n",
            "INFO:sudoku:considering cell(5, 4) ¬∅\n",
            "INFO:sudoku:trying 2@(5, 4)\n",
            "INFO:sudoku:considering cell(5, 6) ¬∅\n",
            "INFO:sudoku:trying 6@(5, 6)\n",
            "INFO:sudoku:considering ∃2 in row[6]\n",
            "INFO:sudoku:trying 2@(6, 3)\n",
            "INFO:sudoku:considering cell(4, 5) ¬∅\n",
            "INFO:sudoku:trying 9@(4, 5)\n",
            "INFO:sudoku:considering cell(6, 5) ¬∅\n",
            "INFO:sudoku:trying 7@(6, 5)\n",
            "INFO:sudoku:considering cell(1, 5) ¬∅\n",
            "INFO:sudoku:trying 3@(1, 5)\n",
            "INFO:sudoku:considering ∃3 in row[3]\n",
            "INFO:sudoku:trying 3@(3, 1)\n",
            "INFO:sudoku:considering cell(5, 1) ¬∅\n",
            "INFO:sudoku:trying 9@(5, 1)\n",
            "INFO:sudoku:considering cell(1, 1) ¬∅\n",
            "INFO:sudoku:trying 1@(1, 1)\n",
            "INFO:sudoku:considering cell(2, 1) ¬∅\n",
            "INFO:sudoku:trying 8@(2, 1)\n",
            "INFO:sudoku:considering ∃1 in row[2]\n",
            "INFO:sudoku:trying 1@(2, 6)\n",
            "INFO:sudoku:considering cell(3, 4) ¬∅\n",
            "INFO:sudoku:trying 9@(3, 4)\n",
            "INFO:sudoku:considering cell(6, 6) ¬∅\n",
            "INFO:sudoku:trying 8@(6, 6)\n",
            "INFO:sudoku:considering cell(4, 4) ¬∅\n",
            "INFO:sudoku:trying 1@(4, 4)\n",
            "INFO:sudoku:considering ∃7 in row[2]\n",
            "INFO:sudoku:trying 7@(2, 8)\n",
            "INFO:sudoku:considering ∃2 in row[2]\n",
            "INFO:sudoku:trying 2@(2, 5)\n",
            "INFO:sudoku:considering cell(3, 6) ¬∅\n",
            "INFO:sudoku:trying 5@(3, 6)\n",
            "INFO:sudoku:considering cell(3, 9) ¬∅\n",
            "INFO:sudoku:trying 6@(3, 9)\n",
            "INFO:sudoku:considering cell(3, 8) ¬∅\n",
            "INFO:sudoku:trying 2@(3, 8)\n",
            "INFO:sudoku:considering cell(3, 7) ¬∅\n",
            "INFO:sudoku:trying 1@(3, 7)\n",
            "INFO:sudoku:considering cell(8, 5) ¬∅\n",
            "INFO:sudoku:trying 6@(8, 5)\n",
            "INFO:sudoku:considering cell(8, 8) ¬∅\n",
            "INFO:sudoku:trying 3@(8, 8)\n",
            "INFO:sudoku:considering cell(6, 8) ¬∅\n",
            "INFO:sudoku:trying 9@(6, 8)\n",
            "INFO:sudoku:considering cell(1, 8) ¬∅\n",
            "INFO:sudoku:trying 5@(1, 8)\n",
            "INFO:sudoku:considering cell(1, 7) ¬∅\n",
            "INFO:sudoku:trying 9@(1, 7)\n",
            "INFO:sudoku:considering cell(4, 8) ¬∅\n",
            "INFO:sudoku:trying 6@(4, 8)\n",
            "INFO:sudoku:considering cell(6, 7) ¬∅\n",
            "INFO:sudoku:trying 3@(6, 7)\n",
            "INFO:sudoku:considering cell(5, 7) ¬∅\n",
            "INFO:sudoku:trying 5@(5, 7)\n",
            "INFO:sudoku:considering cell(4, 7) ¬∅\n",
            "INFO:sudoku:trying 8@(4, 7)\n",
            "INFO:sudoku:considering cell(5, 3) ¬∅\n",
            "INFO:sudoku:trying 3@(5, 3)\n",
            "INFO:sudoku:considering cell(6, 2) ¬∅\n",
            "INFO:sudoku:trying 1@(6, 2)\n",
            "INFO:sudoku:considering cell(7, 3) ¬∅\n",
            "INFO:sudoku:trying 9@(7, 3)\n",
            "INFO:sudoku:considering cell(2, 3) ¬∅\n",
            "INFO:sudoku:trying 5@(2, 3)\n",
            "INFO:sudoku:considering cell(2, 2) ¬∅\n",
            "INFO:sudoku:trying 9@(2, 2)\n",
            "INFO:sudoku:considering cell(4, 3) ¬∅\n",
            "INFO:sudoku:trying 7@(4, 3)\n",
            "INFO:sudoku:considering cell(4, 1) ¬∅\n",
            "INFO:sudoku:trying 4@(4, 1)\n",
            "INFO:sudoku:considering cell(4, 2) ¬∅\n",
            "INFO:sudoku:trying 5@(4, 2)\n",
            "INFO:sudoku:considering cell(7, 1) ¬∅\n",
            "INFO:sudoku:trying 2@(7, 1)\n",
            "INFO:sudoku:considering cell(7, 6) ¬∅\n",
            "INFO:sudoku:trying 4@(7, 6)\n",
            "INFO:sudoku:considering cell(1, 6) ¬∅\n",
            "INFO:sudoku:trying 7@(1, 6)\n",
            "INFO:sudoku:considering cell(1, 4) ¬∅\n",
            "INFO:sudoku:trying 4@(1, 4)\n",
            "INFO:sudoku:considering cell(7, 4) ¬∅\n",
            "INFO:sudoku:trying 3@(7, 4)\n",
            "INFO:sudoku:considering cell(7, 2) ¬∅\n",
            "INFO:sudoku:trying 6@(7, 2)\n",
            "INFO:sudoku:considering cell(7, 9) ¬∅\n",
            "INFO:sudoku:trying 5@(7, 9)\n",
            "INFO:sudoku:considering cell(8, 2) ¬∅\n",
            "INFO:sudoku:trying 4@(8, 2)\n",
            "INFO:sudoku:considering cell(8, 3) ¬∅\n",
            "INFO:sudoku:trying 8@(8, 3)\n",
            "INFO:sudoku:considering cell(8, 4) ¬∅\n",
            "INFO:sudoku:trying 7@(8, 4)\n",
            "INFO:sudoku:considering cell(8, 7) ¬∅\n",
            "INFO:sudoku:trying 2@(8, 7)\n",
            "INFO:sudoku:considering cell(9, 1) ¬∅\n",
            "INFO:sudoku:trying 7@(9, 1)\n",
            "INFO:sudoku:considering cell(9, 2) ¬∅\n",
            "INFO:sudoku:trying 3@(9, 2)\n",
            "INFO:sudoku:considering cell(9, 3) ¬∅\n",
            "INFO:sudoku:trying 1@(9, 3)\n",
            "INFO:sudoku:considering cell(9, 4) ¬∅\n",
            "INFO:sudoku:trying 8@(9, 4)\n",
            "INFO:sudoku:considering cell(9, 5) ¬∅\n",
            "INFO:sudoku:trying 5@(9, 5)\n",
            "INFO:sudoku:considering cell(9, 6) ¬∅\n",
            "INFO:sudoku:trying 2@(9, 6)\n",
            "INFO:sudoku:considering cell(9, 7) ¬∅\n",
            "INFO:sudoku:trying 6@(9, 7)\n",
            "INFO:sudoku:considering cell(9, 9) ¬∅\n",
            "INFO:sudoku:trying 9@(9, 9)\n",
            "INFO:sudoku:9@(9, 9) works\n",
            "INFO:sudoku:6@(9, 7) works\n",
            "INFO:sudoku:2@(9, 6) works\n",
            "INFO:sudoku:5@(9, 5) works\n",
            "INFO:sudoku:8@(9, 4) works\n",
            "INFO:sudoku:1@(9, 3) works\n",
            "INFO:sudoku:3@(9, 2) works\n",
            "INFO:sudoku:7@(9, 1) works\n",
            "INFO:sudoku:2@(8, 7) works\n",
            "INFO:sudoku:7@(8, 4) works\n",
            "INFO:sudoku:8@(8, 3) works\n",
            "INFO:sudoku:4@(8, 2) works\n",
            "INFO:sudoku:5@(7, 9) works\n",
            "INFO:sudoku:6@(7, 2) works\n",
            "INFO:sudoku:3@(7, 4) works\n",
            "INFO:sudoku:4@(1, 4) works\n",
            "INFO:sudoku:7@(1, 6) works\n",
            "INFO:sudoku:4@(7, 6) works\n",
            "INFO:sudoku:2@(7, 1) works\n",
            "INFO:sudoku:5@(4, 2) works\n",
            "INFO:sudoku:4@(4, 1) works\n",
            "INFO:sudoku:7@(4, 3) works\n",
            "INFO:sudoku:9@(2, 2) works\n",
            "INFO:sudoku:5@(2, 3) works\n",
            "INFO:sudoku:9@(7, 3) works\n",
            "INFO:sudoku:1@(6, 2) works\n",
            "INFO:sudoku:3@(5, 3) works\n",
            "INFO:sudoku:8@(4, 7) works\n",
            "INFO:sudoku:5@(5, 7) works\n",
            "INFO:sudoku:3@(6, 7) works\n",
            "INFO:sudoku:6@(4, 8) works\n",
            "INFO:sudoku:9@(1, 7) works\n",
            "INFO:sudoku:5@(1, 8) works\n",
            "INFO:sudoku:9@(6, 8) works\n",
            "INFO:sudoku:3@(8, 8) works\n",
            "INFO:sudoku:6@(8, 5) works\n",
            "INFO:sudoku:1@(3, 7) works\n",
            "INFO:sudoku:2@(3, 8) works\n",
            "INFO:sudoku:6@(3, 9) works\n",
            "INFO:sudoku:5@(3, 6) works\n",
            "INFO:sudoku:2@(2, 5) works\n",
            "INFO:sudoku:7@(2, 8) works\n",
            "INFO:sudoku:1@(4, 4) works\n",
            "INFO:sudoku:8@(6, 6) works\n",
            "INFO:sudoku:9@(3, 4) works\n",
            "INFO:sudoku:1@(2, 6) works\n",
            "INFO:sudoku:8@(2, 1) works\n",
            "INFO:sudoku:1@(1, 1) works\n",
            "INFO:sudoku:9@(5, 1) works\n",
            "INFO:sudoku:3@(3, 1) works\n",
            "INFO:sudoku:3@(1, 5) works\n",
            "INFO:sudoku:7@(6, 5) works\n",
            "INFO:sudoku:9@(4, 5) works\n",
            "INFO:sudoku:2@(6, 3) works\n",
            "INFO:sudoku:6@(5, 6) works\n",
            "INFO:sudoku:2@(5, 4) works\n",
            "INFO:sudoku:7@(5, 9) works\n",
            "INFO:sudoku:8@(1, 9) works\n",
            "INFO:sudoku:4@(6, 9) works\n",
            "INFO:sudoku:4@(2, 7) works\n",
            "INFO:sudoku:1@(8, 9) works\n",
            "INFO:sudoku:6@(1, 3) works\n"
          ]
        }
      ],
      "source": [
        "with using_level(logging.INFO):\n",
        "    sudoku_solved = sudoku_solver(sudoku)\n"
      ]
    },
    {
      "cell_type": "code",
      "execution_count": null,
      "metadata": {
        "id": "ThfpbawXikL5"
      },
      "outputs": [],
      "source": [
        "sudokus = list(read_sudokus(\"/tmp/sudoku.txt\"))"
      ]
    },
    {
      "cell_type": "code",
      "execution_count": null,
      "metadata": {
        "id": "-hH-sOwqikL5"
      },
      "outputs": [],
      "source": [
        "solutions = [sudoku_solver(sudoku) for sudoku in tqdm(sudokus)]"
      ]
    },
    {
      "cell_type": "markdown",
      "metadata": {
        "id": "EGK6_kAAikL5"
      },
      "source": [
        "A fenti módszer mindig lemásolja a maradék gráfot és azon dolgozik tovább. [Knuth __Dancing Link__](https://arxiv.org/abs/cs/0011047)-nek nevezett módszerével a másolások elkerülhetőek, és valamivel gyorsabb lenne a számolás.\n"
      ]
    },
    {
      "cell_type": "markdown",
      "metadata": {
        "id": "PJHy5535ikL5"
      },
      "source": [
        "# Ha maradna idő"
      ]
    },
    {
      "cell_type": "markdown",
      "metadata": {
        "id": "2JRGc3FlikL6"
      },
      "source": [
        "## Feladatok előadásról"
      ]
    },
    {
      "cell_type": "markdown",
      "metadata": {
        "id": "2sTdA7iOikL6"
      },
      "source": [
        "### Ismétlődések törlése"
      ]
    },
    {
      "cell_type": "markdown",
      "metadata": {
        "id": "lCzHPCAyikL6"
      },
      "source": [
        "\n",
        "Egy adott sztringből távolítsuk el az egymás mellett álló ismétlődő karatereket.\n",
        "\n",
        "Példa:\n",
        "```\n",
        "\"kukkkuuuurrrriiiikuuuuuuuu\" -> \"kukuriku\".\n",
        "```\n",
        "\n",
        "(Ez már volt korábban. Most keressünk elegánsabb megoldást, pl. az `itertools` könyvtár függvényeinek segítségével.)\n"
      ]
    },
    {
      "cell_type": "code",
      "execution_count": null,
      "metadata": {
        "id": "1UXSP5ipikL6"
      },
      "outputs": [],
      "source": [
        "\n",
        "def remove_consecutive_duplicates(string):\n",
        "    pass\n"
      ]
    },
    {
      "cell_type": "markdown",
      "metadata": {
        "id": "Y-CHN_sgikL6"
      },
      "source": [
        "### Számolás polinomokkal"
      ]
    },
    {
      "cell_type": "markdown",
      "metadata": {
        "id": "G2gdNfCrikL6"
      },
      "source": [
        "Írjunk egy `Polynomial` osztályt, ahol a polinomot tároljuk el, mint az együtthatóinak listáját.\n",
        "\n",
        "Implementáljuk két ilyen polinom összeadását (azaz írjuk meg az `__add__`, valamint a `__repr__`  metódust, hogy lássuk, mi egy ilyen egyed ,,tartalma'').\n",
        "\n",
        "Egy polinom függvény is. Implementáljuk a `__call__` metódust is, ami kiértékeli a polinomot egy adott pontban!\n"
      ]
    },
    {
      "cell_type": "code",
      "execution_count": null,
      "metadata": {
        "id": "wtiFW2cfikL6"
      },
      "outputs": [],
      "source": [
        "from itertools import dropwhile\n",
        "from fractions import Fraction\n"
      ]
    },
    {
      "cell_type": "code",
      "execution_count": null,
      "metadata": {
        "id": "IzMCgjjWikL6"
      },
      "outputs": [],
      "source": [
        "def format_term(k, coeff, fmt=\"x^{k}\"):\n",
        "    sep = \"-\" if coeff < 0 else \"+\"\n",
        "    coeff = abs(coeff)\n",
        "    c = f\"{coeff}\" if coeff != 1 else \"\"\n",
        "    match k:\n",
        "        case 0:\n",
        "            x = \"\"\n",
        "            c = f\"{coeff}\"\n",
        "        case 1:\n",
        "            x = \"x\"\n",
        "        case _:\n",
        "            x = fmt.format(k=k)\n",
        "    return f\"{c}{x}\", sep\n",
        "\n",
        "class Polynomial:\n",
        "    def __init__(self, *coefficients):\n",
        "        self.coeff = tuple(dropwhile(lambda x: x==0, coefficients))[::-1]\n",
        "\n",
        "    def degree(self):\n",
        "        return len(self.coeff)-1 if self.coeff else 0\n",
        "\n",
        "    def __eq__(self, other):\n",
        "        return isinstance(other, type(self)) and self.coeff == other.coeff\n",
        "\n",
        "    def __add__(self, other):\n",
        "\n",
        "        coeff_a = self.coeff\n",
        "        coeff_b = other.coeff\n",
        "\n",
        "        if len(coeff_a) < len(coeff_b):\n",
        "            coeff_a, coeff_b = coeff_b, coeff_a\n",
        "\n",
        "        coeff = list(coeff_a)\n",
        "\n",
        "        for i, c in enumerate(coeff_b):\n",
        "            coeff[i] += c\n",
        "\n",
        "        return Polynomial(*reversed(coeff))\n",
        "\n",
        "    def __sub__(self, other):\n",
        "        return self+(-1)*other\n",
        "\n",
        "    def __mul__(self, other):\n",
        "        coeff = [0]*(len(self.coeff)+len(other.coeff)-1)\n",
        "        for i, ca in enumerate(self.coeff):\n",
        "            for j, cb in enumerate(other.coeff):\n",
        "                coeff[i+j] += ca*cb\n",
        "\n",
        "        return Polynomial(*reversed(coeff))\n",
        "\n",
        "    def __rmul__(self, c):\n",
        "        coeff = [c0*c for c0 in self.coeff]\n",
        "        return Polynomial(*reversed(coeff))\n",
        "\n",
        "    def leading_coeff(self):\n",
        "        return self.coeff[-1] if self.coeff else 0\n",
        "\n",
        "    def __divmod__(self, other):\n",
        "        if not isinstance(other, type(self)):\n",
        "            raise TypeError\n",
        "\n",
        "        m = Polynomial()\n",
        "        r = self\n",
        "        main_coeff = other.leading_coeff()\n",
        "        other_dg = other.degree()\n",
        "\n",
        "        while r.degree() >= other_dg:\n",
        "            c = r.leading_coeff()/main_coeff\n",
        "            m += c*monomial(r.degree()-other_dg)\n",
        "            r = self-m*other\n",
        "        return m, r\n",
        "\n",
        "    def __mod__(self, other):\n",
        "        return divmod(self, other)[1]\n",
        "\n",
        "    def __floordiv__(self, other):\n",
        "        return divmod(self, other)[0]\n",
        "\n",
        "    def __call__(self, x):\n",
        "        value = 0\n",
        "        for c in reversed(self.coeff):\n",
        "            value *= x\n",
        "            value += c\n",
        "        return value\n",
        "\n",
        "    def as_token_list(self, formatter, fmt):\n",
        "        coeffs = [(k, coeff) for k, coeff in enumerate(self.coeff) if coeff != 0]\n",
        "        if len(coeffs) == 0:\n",
        "            coeffs = [(0, 0)]\n",
        "        tokens = [token for k, coeff in coeffs for token in format_term(k, coeff, fmt)]\n",
        "        if tokens[-1] == \"+\":\n",
        "            tokens.pop()\n",
        "        tokens.reverse()\n",
        "        return tokens\n",
        "\n",
        "    def __str__(self):\n",
        "        return ''.join(self.as_token_list(format_term, \"x^{k}\"))\n",
        "\n",
        "    def __repr__(self):\n",
        "        return f\"{type(self).__name__}({', '.join(map(str, reversed(self.coeff)))})\"\n",
        "\n",
        "    def _repr_latex_(self):\n",
        "        formula = ''.join(self.as_token_list(format_term, \"x^{{{k}}}\"))\n",
        "        return f\"$x\\mapsto {formula}$\"\n",
        "\n",
        "\n",
        "def monomial(degree, unit=1):\n",
        "    coeff = [unit]+[0]*degree\n",
        "    return Polynomial(*coeff)"
      ]
    },
    {
      "cell_type": "markdown",
      "metadata": {
        "id": "VfXLyH59ikL7"
      },
      "source": [
        "Néhány példa:"
      ]
    },
    {
      "cell_type": "code",
      "execution_count": null,
      "metadata": {
        "id": "ly6GGxQ3ikL7"
      },
      "outputs": [],
      "source": [
        "p = Polynomial(-1, -0.0, -3)    # -> x^2 - 3\n",
        "q = Polynomial(2, 0, -1, 1)  # -> 2x^3 + 3x + 1\n",
        "display(p)\n",
        "display(q)\n",
        "display(p*q)\n",
        "display(2*p)\n",
        "print(str(q))\n",
        "## p**2"
      ]
    },
    {
      "cell_type": "code",
      "execution_count": null,
      "metadata": {
        "id": "c3YGUB0bikL7"
      },
      "outputs": [],
      "source": [
        "p = Fraction(1,1)*p\n",
        "q = Fraction(1,1)*q\n",
        "\n",
        "m, r = divmod(q, p)\n",
        "display(m)\n",
        "display(r)\n",
        "display(p)\n",
        "display(q)\n",
        "display(m*p)"
      ]
    },
    {
      "cell_type": "markdown",
      "metadata": {
        "id": "I0G7t_B_ikL7"
      },
      "source": [
        "#### Korábbi feladat"
      ]
    },
    {
      "cell_type": "markdown",
      "metadata": {
        "id": "J6t_7xZaikL7"
      },
      "source": [
        "Írjunk egy függvényt, ami kiszámolja az első $n$ természetes szám $p$-ik hatványösszegét.\n",
        "\n",
        "pl. `p = 0`-ra\n",
        "\n",
        "```Python\n",
        "def f0(n):\n",
        "    return n\n",
        "```\n",
        "\n",
        "jó, mert $k^0=1$ ha $k=1,\\dots,n$ és ezek összege pont $n$.\n",
        "\n",
        "Ha `p = 1`, akkor\n",
        "\n",
        "```Python\n",
        "def f1(n):\n",
        "    return n*(n+1)//2\n",
        "```\n",
        "\n",
        "jó, mert $\\sum_{k=1}^n k = n(n+1)/2$.\n",
        "\n",
        "Még `p = 2`-t is tanultuk\n",
        "\n",
        "```Python\n",
        "def f2(n):\n",
        "    return n*(n+1)*(2*n+1)//6\n",
        "```\n",
        "\n",
        "Általános $p$-re tudunk-e ilyen függvényt írni?"
      ]
    },
    {
      "cell_type": "code",
      "execution_count": null,
      "metadata": {
        "id": "OOpUMHl6ikL7"
      },
      "outputs": [],
      "source": [
        "def mk_power_sum(p):\n",
        "    def f(n):\n",
        "        total = 0\n",
        "        for k in range(1, n+1):\n",
        "            total += k**p\n",
        "        return total\n",
        "\n",
        "    f.__doc__ = f\"\"\"\n",
        "        {p}-ik hatványok összegét számolja\n",
        "        \"\"\"\n",
        "\n",
        "    return f"
      ]
    },
    {
      "cell_type": "code",
      "execution_count": null,
      "metadata": {
        "id": "BoimeyueikL8"
      },
      "outputs": [],
      "source": [
        "f2_slow = mk_power_sum(2)"
      ]
    },
    {
      "cell_type": "code",
      "execution_count": null,
      "metadata": {
        "id": "d-d1gj5pikL8"
      },
      "outputs": [],
      "source": [
        "f2_slow?"
      ]
    },
    {
      "cell_type": "code",
      "execution_count": null,
      "metadata": {
        "id": "vXkfG9jYikL8"
      },
      "outputs": [],
      "source": [
        "[f2_slow(i) for i in range(0, 10)]"
      ]
    },
    {
      "cell_type": "code",
      "execution_count": null,
      "metadata": {
        "id": "SjqNGAQVikL8"
      },
      "outputs": [],
      "source": [
        "def f2_fast(n):\n",
        "    return n*(n+1)*(2*n+1)//6"
      ]
    },
    {
      "cell_type": "code",
      "execution_count": null,
      "metadata": {
        "id": "DIr33n4aikL8"
      },
      "outputs": [],
      "source": [
        "%timeit f2_slow(10_000)\n",
        "%timeit f2_fast(10_000)"
      ]
    },
    {
      "cell_type": "markdown",
      "metadata": {
        "id": "rlWZfXYWikL8"
      },
      "source": [
        "### Ötlet"
      ]
    },
    {
      "cell_type": "markdown",
      "metadata": {
        "id": "6l0lbpIKikL9"
      },
      "source": [
        "$$\n",
        "    \\sum_{k=r}^n  \\binom{k}{r} = \\binom{n+1}{r+1}\n",
        "$$\n",
        "\n",
        "**Bizonyítás.**\n",
        "$\\{1,2,\\dots,n+1\\}$-ből válasszunk ki $r+1$ különböző számot.\n",
        "\n",
        "Összes lehetőség:\n",
        "$$\n",
        "\\binom{n+1}{r+1}.\n",
        "$$\n",
        "\n",
        "Számoljuk meg az eseteket aszerint szétbontva is, hogy legnagyobb kiválasztott szám mivel egyenlő.\n",
        "\n",
        "Ha a legnagyobb szám $k+1$, akkor a maradék $r$ számot $\\{1,2,\\dots, k\\}$ közül választjuk. Így az esetek száma\n",
        "$$\n",
        "    \\sum_{k+1=r+1}^{n+1} \\binom{k}{r} =  \\sum_{k=r}^{n} \\binom{k}{r}\n",
        "$$  \n",
        "$k+1$ helyett $k$ az összegzési változó"
      ]
    },
    {
      "cell_type": "markdown",
      "metadata": {
        "id": "-3i5pVU2ikL9"
      },
      "source": [
        "Ugyanez másképp.\n",
        "\n",
        "$$\n",
        "\\binom{k}{r} = \\frac{1}{r!} k(k-1)\\cdots(k-r+1) = \\frac{1}{r!}p_r(k-r+1),\\quad\\text{ahol}\\quad p_r(x) = x(x+1)\\cdots(x+r-1)\n",
        "$$\n",
        "és\n",
        "$$\n",
        "    \\sum_{j=1}^{n-r+1} \\frac{1}{r!}p_r(j) = \\frac{1}{(r+1)!}p_{r+1}(n+1-(r+1)+1)= \\frac{1}{(r+1)!} p_{r+1}(n-r+1)\\quad\\text{minden $n\\geq r$ és $r\\geq 0$-ra}\n",
        "$$\n",
        "\n",
        "Az összegzés felső határa és $p_{r+1}$ argumentuma ugyanaz, azaz\n",
        "\n",
        "$$\n",
        "\\sum_{j=0}^{n} p_r(j) = \\frac{1}{r+1}p_{r+1}(n)\n",
        "$$"
      ]
    },
    {
      "cell_type": "markdown",
      "metadata": {
        "id": "SXcNyky2ikL9"
      },
      "source": [
        "**Lineáris algebra.**\n",
        "\n",
        "$$\n",
        "p_0\\equiv 1,\\quad p_1(x)=x,\\quad p_2(x)=x(x+1),\\quad\\dots,\\quad p_r(x)=x(x+1)\\cdots(x+r-1)\n",
        "$$\n",
        "\n",
        "bázis a legfeljebb $r$-edfokú polinomok vektorterében.\n",
        "\n",
        "$$\n",
        "    x^r = \\sum_{i=0}^r a_i p_i(x)\n",
        "$$\n",
        "és\n",
        "$$\n",
        "    \\sum_{k=0}^n k^r = \\sum_{k=0}^n \\sum_{i=0}^r a_i p_i(k) =  \\sum_{i=0}^r a_i  \\sum_{k=0}^n p_i(k) = \\sum_{i=0}^r \\frac{a_i}{r+1}  p_{i+1}(n)\n",
        "$$\n"
      ]
    },
    {
      "cell_type": "markdown",
      "metadata": {
        "id": "mMu-ph6sikL9"
      },
      "source": [
        "### Összefoglalva\n"
      ]
    },
    {
      "cell_type": "markdown",
      "metadata": {
        "id": "nRaXMEggikL9"
      },
      "source": [
        "\n",
        "- Egy polinomot az együtthatókkal ábrázolhatunk.\n",
        "- Kellene egy függvény, ami a természetes $1, x, x^2,\\dots$ bázisban felírt polinomot a $p_0,p_1,\\dots$ bázisban ír fel.\n",
        "- $p_0, p_1, \\dots,$ bázisban az összegzés könnyű, lényegében arrébb kell tolni az együtthatókat.\n",
        "- A $p_0,p_1,\\dots$ bázisban felírt polinomot vagy visszaszámoljuk a természetes bázisba, vagy megírjuk a függvényt, ami kiértékeli a függvényt egy adott pontban."
      ]
    },
    {
      "cell_type": "markdown",
      "metadata": {
        "id": "RTcHIb-fikL9"
      },
      "source": [
        "Vegyük észre, hogy $p_0$ azonosan 1, $p_1(0)=0$, $p_2(0)=p_2(-1)=0$, stb.\n",
        "\n",
        "Ha $f=\\sum_i a_i p_i$, akkor\n",
        "$$\n",
        "    f(0) = \\sum_i a_i p(0) = a_0, \\quad f(-1) = a_0 p_0(-1) + a_1 p_1(-1),\\quad f(-k) = a_0 p_0(-k) + a_1 p_1(-k) + \\cdots + a_k p_k(-k).\n",
        "$$\n",
        "amiből\n",
        "\n",
        "$$\n",
        "\\begin{align*}\n",
        "    a_0 & = f(0)\\\\\n",
        "    a_1 & = \\frac{f(-1) - a_0 p_0(-1)}{p_1(-1)}\\\\\n",
        "    \\vdots\\\\\n",
        "    a_k & = \\frac{f(-k) - \\sum_{j=0}^{k-1} a_j p_j(-k)}{p_{k}(-k)}\\\\\n",
        "    \\vdots\n",
        "\\end{align*}\n",
        "$$  \n",
        "Kihasználhatjuk még, hogy\n",
        "$$\n",
        "p_k(-k)=(-k)(-k+1)\\cdots(-k+(k-1))=(-1)^k k!.\n",
        "$$"
      ]
    },
    {
      "cell_type": "code",
      "execution_count": null,
      "metadata": {
        "id": "Ce2dJkvLikL9"
      },
      "outputs": [],
      "source": [
        "def basis():\n",
        "    i = 0\n",
        "    p = Polynomial(1)\n",
        "    while True:\n",
        "        yield p\n",
        "        p *= Polynomial(1,i)\n",
        "        i += 1\n"
      ]
    },
    {
      "cell_type": "code",
      "execution_count": null,
      "metadata": {
        "id": "g4Dypw-2ikL9"
      },
      "outputs": [],
      "source": [
        "from itertools import islice"
      ]
    },
    {
      "cell_type": "markdown",
      "metadata": {
        "id": "zMk59BN6ikL-"
      },
      "source": [
        "$$\n",
        "p_k(-k)=(-k)(-k+1)\\cdots(-k+(k-1))=(-1)^k k!.\n",
        "$$\n",
        "ellenőrzése.\n"
      ]
    },
    {
      "cell_type": "code",
      "execution_count": null,
      "metadata": {
        "id": "Xl5159NtikL-"
      },
      "outputs": [],
      "source": [
        "for i, p in zip(range(5), basis()):\n",
        "    display(p)\n",
        "    print(f\"{i=}, {p(-i)=}\")\n",
        "    print(\"-\"*20)"
      ]
    },
    {
      "cell_type": "code",
      "execution_count": null,
      "metadata": {
        "id": "rSc2NIT0ikL-"
      },
      "outputs": [],
      "source": [
        "from typing import Callable\n",
        "\n",
        "def mk_fast_polynomial_sum(p: Polynomial) -> Polynomial:\n",
        "    \"\"\"return a polynomial q such that q(n)=sum_{k=1}^n p(k)\"\"\"\n",
        "    q = Polynomial()\n",
        "    q0 = Polynomial()\n",
        "\n",
        "    it = iter(basis())\n",
        "    i = 0\n",
        "\n",
        "    while q0 != p:\n",
        "        pi = next(it)\n",
        "        if i > 0:\n",
        "            q += (coeff/i)*pi\n",
        "        coeff = ((p(-i) - q0(-i))/pi(-i))\n",
        "        q0 += coeff*pi\n",
        "        i += 1\n",
        "\n",
        "    q += (coeff/i)*next(it)\n",
        "    return q\n",
        "\n",
        "def mk_fast_power_sum(k:int) -> Callable[[int], int]:\n",
        "    coeff = mk_fast_polynomial_sum(monomial(k, unit=Fraction(1,1))).coeff\n",
        "    f = math.lcm(*[c.denominator for c in coeff])\n",
        "    p = Polynomial(*[int(c*f) for c in reversed(coeff)])\n",
        "    def fun(x: int) -> int:\n",
        "        return p(x)//f\n",
        "\n",
        "    fun.__doc__ = f\"computes sum_{{k=1}}^n x^{k}\"\n",
        "    return fun\n"
      ]
    },
    {
      "cell_type": "markdown",
      "metadata": {
        "id": "yhdjPIl_ikL-"
      },
      "source": [
        "#### Gyors ellenőrzés."
      ]
    },
    {
      "cell_type": "code",
      "execution_count": null,
      "metadata": {
        "id": "0CQs09ecikL-"
      },
      "outputs": [],
      "source": [
        "%%ipytest\n",
        "\n",
        "def test_fast_power_sum():\n",
        "    for i in range(1, 4):\n",
        "        f = mk_fast_power_sum(i)\n",
        "        g = mk_power_sum(i)\n",
        "        for n in range(1000):\n",
        "            assert f(n) == g(n)"
      ]
    },
    {
      "cell_type": "code",
      "execution_count": null,
      "metadata": {
        "id": "HFJCu2lVikL-"
      },
      "outputs": [],
      "source": [
        "f2 = mk_fast_polynomial_sum(monomial(2, Fraction(1,1)))\n",
        "f2a = mk_fast_power_sum(2)"
      ]
    },
    {
      "cell_type": "code",
      "execution_count": null,
      "metadata": {
        "id": "d5jnKi2nikL_"
      },
      "outputs": [],
      "source": [
        "%timeit f2_slow(10_000)\n",
        "%timeit f2(10_000)\n",
        "%timeit f2a(10_000)\n",
        "%timeit f2_fast(10_000)"
      ]
    },
    {
      "cell_type": "markdown",
      "metadata": {
        "id": "Hw7cXu75ikL_"
      },
      "source": [
        "Törtekkel számolni kicsit lassabb!"
      ]
    },
    {
      "cell_type": "markdown",
      "metadata": {
        "id": "rD69vffcikL_"
      },
      "source": [
        "Hogyan emlékszik `f2a` a kiszámolt `p` és `f` értékre. A `__closure__` nevű attribútum tárolja."
      ]
    },
    {
      "cell_type": "code",
      "execution_count": null,
      "metadata": {
        "id": "kn7cJIf-ikL_"
      },
      "outputs": [],
      "source": [
        "print(f\"{f2.__dict__}\")\n",
        "for cell in f2a.__closure__:\n",
        "    print(cell.cell_contents)\n"
      ]
    },
    {
      "cell_type": "code",
      "execution_count": null,
      "metadata": {
        "id": "d2G3oGvyikL_"
      },
      "outputs": [],
      "source": [
        "f2a = mk_fast_power_sum(2)\n",
        "print(f\"{f2a.__closure__[0].cell_contents=}, {f2a(2)=}\")\n",
        "f2a.__closure__[0].cell_contents = 3\n",
        "print(f\"{f2a.__closure__[0].cell_contents=}, {f2a(2)=}\")"
      ]
    },
    {
      "cell_type": "code",
      "execution_count": null,
      "metadata": {
        "id": "sAnP7TrBikMA"
      },
      "outputs": [],
      "source": [
        "help(mk_fast_power_sum(2))"
      ]
    },
    {
      "cell_type": "code",
      "execution_count": null,
      "metadata": {
        "id": "0GR8-zp6ikMA"
      },
      "outputs": [],
      "source": [
        "[mk_fast_power_sum(2)(i) for i in range(5)]"
      ]
    },
    {
      "cell_type": "code",
      "execution_count": null,
      "metadata": {
        "id": "ZNJbUIOnikMA"
      },
      "outputs": [],
      "source": [
        "mk_fast_polynomial_sum(monomial(8))"
      ]
    },
    {
      "cell_type": "markdown",
      "metadata": {
        "id": "owUduz--ikMA"
      },
      "source": [
        "Ugyanez a polinom racionális együtthatókkal"
      ]
    },
    {
      "cell_type": "code",
      "execution_count": null,
      "metadata": {
        "id": "P9w_ZHAjikMA"
      },
      "outputs": [],
      "source": [
        "mk_fast_polynomial_sum(monomial(8, unit=Fraction(1, 1)))"
      ]
    },
    {
      "cell_type": "code",
      "execution_count": null,
      "metadata": {
        "id": "Ud2SJhuhikMA"
      },
      "outputs": [],
      "source": [
        "q = mk_fast_polynomial_sum(monomial(4, Fraction(1,1)))\n",
        "display(q)\n",
        "display(30*q)"
      ]
    },
    {
      "cell_type": "markdown",
      "metadata": {
        "id": "stG-6PmrikMB"
      },
      "source": [
        "Az első néhány hatványösszeget számoló polinom:"
      ]
    },
    {
      "cell_type": "code",
      "execution_count": null,
      "metadata": {
        "id": "TleYK7KBikMB"
      },
      "outputs": [],
      "source": [
        "for k in range(10):\n",
        "    p_k = mk_fast_polynomial_sum(monomial(k, Fraction(1, 1)))\n",
        "    f = math.lcm(*(c.denominator for c in p_k.coeff))\n",
        "    print(f\"{k=}, {p_k=!s:>50}, {f:>3}*p_k={f*p_k!s:>40}\")\n"
      ]
    },
    {
      "cell_type": "markdown",
      "metadata": {
        "id": "x7LJov42ikMB"
      },
      "source": [
        "Igaz-e, hogy a gyökök racionálisak?\n",
        "\n",
        "$\\sum_{i=0}^n i^k = P_{k+1}(n)$\n",
        "\n",
        "$k=0,1,2,3$ esetén igen.\n",
        "\n",
        "$$\n",
        "\\begin{aligned}\n",
        "    x^2+x &= x(x+1)\\\\\n",
        "    2x^3+3x^2+x &= x(x+1)(2x+1)\\\\\n",
        "    x^4+2x^3+x^2&= x^2(x+1)^2\n",
        "\\end{aligned}\n",
        "$$\n"
      ]
    },
    {
      "cell_type": "code",
      "execution_count": null,
      "metadata": {
        "id": "IzUbZW2sikMB"
      },
      "outputs": [],
      "source": [
        "p_5 = mk_fast_polynomial_sum(monomial(4, unit=Fraction(1, 1)))\n",
        "\n",
        "print(f\"{p_5(0)=!s}, {p_5(-1)=!s}, {p_5(Fraction(-1, 2))=!s}, {p_5.degree()=}\")"
      ]
    },
    {
      "cell_type": "markdown",
      "metadata": {
        "id": "ELmfGZKfikMB"
      },
      "source": [
        "Három gyököt találtunk. Legyen $q=x(x+1)(2x+1)$. Ekkor $q$ gyökei pont  a megtalált gyökök."
      ]
    },
    {
      "cell_type": "code",
      "execution_count": null,
      "metadata": {
        "id": "tqyPn-WZikMB"
      },
      "outputs": [],
      "source": [
        "q = monomial(1)*Polynomial(1,1)*Polynomial(2,1)\n",
        "display(q)\n",
        "print(f\"{q(0)=!s}, {q(-1)=!s}, {q(Fraction(-1, 2))=!s}\")"
      ]
    },
    {
      "cell_type": "code",
      "execution_count": null,
      "metadata": {
        "id": "np3Wz0UqikMB"
      },
      "outputs": [],
      "source": [
        "p, r = divmod(30*p_5, q)\n",
        "print(f\"{p=!s}, {r=!s}\")"
      ]
    },
    {
      "cell_type": "markdown",
      "metadata": {
        "id": "mOb95TihikMC"
      },
      "source": [
        "Gyökök:\n",
        "$$\n",
        "    x_{1,2}=\\frac{-3\\pm\\sqrt{3^2-4\\cdot 3\\cdot(-1)}}{2\\cdot3}=\\frac12\\left(-1\\pm\\sqrt{\\frac7{3}}\\right)\n",
        "$$"
      ]
    },
    {
      "cell_type": "code",
      "execution_count": null,
      "metadata": {
        "id": "6qOGlE-JikMC"
      },
      "outputs": [],
      "source": [
        "xs = np.linspace(-2, 1, 201)\n",
        "plt.plot(xs, [p(x) for x in xs], label=\"p(x)\")\n",
        "plt.plot(xs, [10*p_5(x) for x in xs], label=\"10*p_5(x)\")\n",
        "plt.legend()\n",
        "plt.grid()\n",
        "plt.show()"
      ]
    },
    {
      "cell_type": "markdown",
      "metadata": {
        "id": "AlS397egikMC"
      },
      "source": [
        "# Egy gráfelméleti algoritmus"
      ]
    },
    {
      "cell_type": "markdown",
      "metadata": {
        "id": "IBuNecaDikMC"
      },
      "source": [
        "## Feladat"
      ]
    },
    {
      "cell_type": "markdown",
      "metadata": {
        "id": "hNCRV923ikMC"
      },
      "source": [
        "Adott egy `n` csúcsú irányítatlan gráf az élek listájával. A gráf csúcsait `0`-tól `n-1`-ig címkéztük meg, az éleket pedig a végpontokkal.\n",
        "\n",
        "Emellett adott egy kiindulási pont és egy végpont. Azt szeretnénk eldönteni, hogy el lehet-e jutni a kiindulási pontból a végpontba a gráf éleit használva.\n",
        "\n",
        "Gondolhatunk arra, hogy a gráf egy úthálózatot ír le és a kérdés az, hogy el tudunk-e jutni `A`-ból `B`-be."
      ]
    },
    {
      "cell_type": "markdown",
      "metadata": {
        "id": "2p8Xe3cJikMC"
      },
      "source": [
        "Pl. `n = 3`, élek `edges = [[0,1], [1,2], [2,0]]`, `A =  0`, `B = 2`."
      ]
    },
    {
      "cell_type": "markdown",
      "metadata": {
        "id": "ZhqaYB3OikMC"
      },
      "source": [
        "Gráfok megjelenítésére egy hasznos könyvtár a `graphviz`."
      ]
    },
    {
      "cell_type": "code",
      "execution_count": null,
      "metadata": {
        "id": "eY4f3zucikMD"
      },
      "outputs": [],
      "source": [
        "import importlib\n",
        "if importlib.util.find_spec('graphviz') is None:\n",
        "    ! pip install graphviz\n",
        "import graphviz"
      ]
    },
    {
      "cell_type": "code",
      "execution_count": null,
      "metadata": {
        "id": "-aW2w08UikMD"
      },
      "outputs": [],
      "source": [
        "edges = [[0,1], [1,2], [2,0]]\n",
        "g0 = graphviz.Graph()\n",
        "\n",
        "g0.edges([(str(a), str(b)) for a, b in edges])\n",
        "g0"
      ]
    },
    {
      "cell_type": "markdown",
      "metadata": {
        "id": "el_svAOLikME"
      },
      "source": [
        "A gráf összefüggő, tetszőleges `A`, `B` esetén a válasz: `True`"
      ]
    },
    {
      "cell_type": "code",
      "execution_count": null,
      "metadata": {
        "id": "UHXEY2PEikME"
      },
      "outputs": [],
      "source": [
        "n = 6\n",
        "edges = [[0,1],[0,2],[3,5],[5,4],[4,3]]\n",
        "A = 0\n",
        "B = 5\n",
        "\n",
        "g1 = graphviz.Graph()\n",
        "g1.edges([(str(a), str(b)) for a, b in edges])\n",
        "g1"
      ]
    },
    {
      "cell_type": "markdown",
      "metadata": {
        "id": "tdb8s1E0ikME"
      },
      "source": [
        "Nincs út 0 és 5 között. A válasz: `False`"
      ]
    },
    {
      "cell_type": "markdown",
      "metadata": {
        "id": "ReN_LGAuikME"
      },
      "source": [
        "Összefüggőségi komponenseket szeretnénk számolni.\n",
        "\n"
      ]
    },
    {
      "cell_type": "markdown",
      "metadata": {
        "id": "dCa1o0tZikME"
      },
      "source": [
        "## Ötlet.\n",
        "\n",
        "Az él nélküli gráfból indulunk ki. Itt egy elemű komponensek vannak.\n",
        "\n",
        "Minden komponensből válasszunk egy reprezentáns és minden $i$ pontra feljegyezzük, melyik komponensben van.\n",
        "\n",
        "\n"
      ]
    },
    {
      "cell_type": "code",
      "execution_count": null,
      "metadata": {
        "id": "AMa5h00_ikME"
      },
      "outputs": [],
      "source": [
        "def show_graph(roots, direction = 'LR'):\n",
        "    g = graphviz.Digraph(graph_attr={'rankdir': direction})\n",
        "    g.edges((str(i), str(r)) for i, r in enumerate(roots))\n",
        "    return g"
      ]
    },
    {
      "cell_type": "code",
      "execution_count": null,
      "metadata": {
        "id": "nomHBD25ikME"
      },
      "outputs": [],
      "source": [
        "n = 5\n",
        "roots = [i for i in range(n)]\n",
        "display(show_graph(roots, 'TD'))"
      ]
    },
    {
      "cell_type": "markdown",
      "metadata": {
        "id": "SUGj-fHtikME"
      },
      "source": [
        "ha behúzzuk a $(0, 1)$ élet, akkor $0$ és $1$ azonos komponensbe kerül. Választhatunk a két összeuniózott komponens reprezentánsa között, legyen pl. 1"
      ]
    },
    {
      "cell_type": "code",
      "execution_count": null,
      "metadata": {
        "id": "Mxmrpw7pikMF"
      },
      "outputs": [],
      "source": [
        "roots[0] = 1\n",
        "display(show_graph(roots, 'TD'))"
      ]
    },
    {
      "cell_type": "markdown",
      "metadata": {
        "id": "hRWbQdaSikMF"
      },
      "source": [
        "Ha most a (0, 2) élet akarjuk behúzni, akkor nem állíthatjuk át `roots[0]`. Meg kell keresnünk `0` komponensének reprezentását, ez 1 és vagy `roots[1]`-et állítjuk 2 -re, vagy `roots[2]`-t 1-re."
      ]
    },
    {
      "cell_type": "code",
      "execution_count": null,
      "metadata": {
        "id": "3rOijjqMikMF"
      },
      "outputs": [],
      "source": [
        "def find(roots, a):\n",
        "    while a != roots[a]:\n",
        "        a = roots[a]\n",
        "    return a"
      ]
    },
    {
      "cell_type": "code",
      "execution_count": null,
      "metadata": {
        "id": "641Fuu-dikMF"
      },
      "outputs": [],
      "source": [
        "find(roots, 0), find(roots, 2)"
      ]
    },
    {
      "cell_type": "code",
      "execution_count": null,
      "metadata": {
        "id": "ZuwFexyKikMF"
      },
      "outputs": [],
      "source": [
        "def union(roots, a, b):\n",
        "    ra = find(roots, a)\n",
        "    rb = find(roots, b)\n",
        "    roots[ra] = rb"
      ]
    },
    {
      "cell_type": "code",
      "execution_count": null,
      "metadata": {
        "id": "RVBgjm96ikMF"
      },
      "outputs": [],
      "source": [
        "union(roots, 0, 2)\n",
        "print(f\"After union(0, 2) {roots=}\")\n",
        "display(show_graph(roots))\n",
        "\n",
        "union(roots, 3, 4)\n",
        "print(f\"After union(3, 4) {roots=}\")\n",
        "print(roots)\n",
        "display(show_graph(roots))\n",
        "\n",
        "union(roots, 3, 2)\n",
        "print(f\"After union(3, 2) {roots=}\")\n",
        "print(roots)\n",
        "display(show_graph(roots))"
      ]
    },
    {
      "cell_type": "markdown",
      "metadata": {
        "id": "UQIfZ4OiikMG"
      },
      "source": [
        "Ezután az a kérdés, hogy el lehet-e jutni `A`-ból, `B`-be könnyen eldönthető. Ha `A` és `B` azonos komponensben van, akkor `A` és `B` között megy út az eredeti gráfban, különben nem."
      ]
    },
    {
      "cell_type": "markdown",
      "metadata": {
        "id": "USwF8uVdikMG"
      },
      "source": [
        "1. példa\n",
        "`n = 3`, élek `edges = [[0,1], [1,2], [2,0]]`, `A =  0`, `B = 2`."
      ]
    },
    {
      "cell_type": "code",
      "execution_count": null,
      "metadata": {
        "id": "IYeu96QYikMG"
      },
      "outputs": [],
      "source": [
        "def show_edges(edges, direction='LR'):\n",
        "    g = graphviz.Graph(graph_attr={'rankdir': direction})\n",
        "    g.edges([(str(a), str(b)) for a, b in edges])\n",
        "    return g"
      ]
    },
    {
      "cell_type": "code",
      "execution_count": null,
      "metadata": {
        "id": "G0qSX55TikMG"
      },
      "outputs": [],
      "source": [
        "n = 3\n",
        "edges = [[0,1], [1,2], [2,0]]\n",
        "A =  0\n",
        "B = 2\n",
        "\n",
        "display(show_edges(edges, 'TD'))\n",
        "print(f\"Eredeti gráf\")\n",
        "print(\"=\"*50)\n",
        "\n",
        "roots = [i for i in range(n)]\n",
        "for a, b in edges:\n",
        "    union(roots, a, b)\n",
        "\n",
        "display(show_graph(roots))\n",
        "print(f\"{A=} és {B=} {'azonos' if find(roots, A)==find(roots, B) else 'különböző'} komponensben van\")"
      ]
    },
    {
      "cell_type": "markdown",
      "metadata": {
        "id": "8_ad3ERvikMG"
      },
      "source": [
        "2. példa"
      ]
    },
    {
      "cell_type": "code",
      "execution_count": null,
      "metadata": {
        "id": "mWhq_uxBikMG"
      },
      "outputs": [],
      "source": [
        "n = 6\n",
        "edges = [[0,1],[0,2],[3,5],[5,4],[4,3]]\n",
        "A = 0\n",
        "B = 5\n",
        "\n",
        "display(show_edges(edges))\n",
        "print(f\"Eredeti gráf\")\n",
        "print(\"=\"*50)\n",
        "\n",
        "roots = [i for i in range(n)]\n",
        "for a, b in edges:\n",
        "    union(roots, a, b)\n",
        "\n",
        "display(show_graph(roots))\n",
        "print(f\"{A=} és {B=} {'azonos' if find(roots, A)==find(roots, B) else 'különböző'} komponensben van\")\n"
      ]
    },
    {
      "cell_type": "markdown",
      "metadata": {
        "id": "2lAbhyewikMG"
      },
      "source": [
        "Látszik, hogy először létre kell hoznunk a `roots` tömböt, majd utána ezzel kell számolnunk.\n",
        "\n",
        "Célszerű egy osztályt léterhozni:"
      ]
    },
    {
      "cell_type": "code",
      "execution_count": null,
      "metadata": {
        "id": "HibLhU6RikMG"
      },
      "outputs": [],
      "source": [
        "class UnionFind:\n",
        "    def __init__(self, n):\n",
        "        self.roots = [i for i in range(n)]\n",
        "\n",
        "    def find(self, a):\n",
        "        while a != self.roots[a]:\n",
        "            a = self.roots[a]\n",
        "        return a\n",
        "\n",
        "    def union(self, a, b):\n",
        "        ra, rb = self.find(a), self.find(b)\n",
        "        if ra != rb:\n",
        "            self.roots[ra] = rb\n",
        "        return self\n",
        "\n",
        "    def show(self, *args, **kwargs):\n",
        "        display(show_graph(self.roots, *args, **kwargs))"
      ]
    },
    {
      "cell_type": "markdown",
      "metadata": {
        "id": "S3BMUsvmikMH"
      },
      "source": [
        "Mi történik, ha nagyobb gráfunk van?"
      ]
    },
    {
      "cell_type": "code",
      "execution_count": null,
      "metadata": {
        "id": "OwQmM1WiikMH"
      },
      "outputs": [],
      "source": [
        "n = 10\n",
        "edges = [(0,i+1) for i in range(n-1)]\n",
        "display(show_edges(edges, 'TD'))\n",
        "\n",
        "uf = UnionFind(n)\n",
        "for a, b in edges:\n",
        "    uf.union(a, b)\n",
        "\n",
        "uf.show()"
      ]
    },
    {
      "cell_type": "markdown",
      "metadata": {
        "id": "lvnVDFYJikMH"
      },
      "source": [
        "Valahányszor behúzzuk a $(0, i)$ élet, meg kell keresni $0$ reprezentánsát. $k$ él behúzása után $k$-lépéssel találjuk meg. Ha 10 helyett 10_000 méretű a gráf ez nem fog működni.\n",
        "\n",
        "### Javítási lehetőségek.\n",
        "\n",
        "- Amikor megkeressük $i$ reprezentánsát végig megyünk a reprezentánshoz vezető úton. Minden meglátogatott csúcsra ismerté válik a reprezentáns értéke. Ezt beírhatjuk a `roots` tömbe. (path compression)\n",
        "\n",
        "- A nagyobb komponensbe kössük be a kisebbet és ne fordítva. Ehhez  a ,,méretet'' nyilván kell tartani."
      ]
    },
    {
      "cell_type": "code",
      "execution_count": null,
      "metadata": {
        "id": "jzz3Mt7tikMH"
      },
      "outputs": [],
      "source": [
        "def find_better(roots, a):\n",
        "    ra = roots[a]\n",
        "    if a != ra:\n",
        "        ra = find_better(roots, ra)\n",
        "        roots[a] = ra\n",
        "    return ra\n",
        "\n",
        "def find_better_without_recursion(roots, a):\n",
        "    stack = []\n",
        "\n",
        "    ra = roots[a]\n",
        "    while a != ra:\n",
        "        stack.append(a)\n",
        "        a = ra\n",
        "        ra = roots[a]\n",
        "\n",
        "    while stack:\n",
        "        roots[stack.pop()] = ra\n",
        "\n",
        "    return ra\n",
        "\n",
        "\n",
        "def union_sizes(roots, sizes, a, b):\n",
        "    ra = find_better(roots, a)\n",
        "    rb = find_better(roots, b)\n",
        "    if ra != rb:\n",
        "        if sizes[ra] < sizes[rb]:\n",
        "            ra, rb = rb, ra\n",
        "        roots[rb] = ra\n",
        "        sizes[ra] += sizes[rb]\n",
        "\n",
        "def union_ranks(roots, ranks, a, b):\n",
        "    ra = find_better(roots, a)\n",
        "    rb = find_better(roots, b)\n",
        "    if ra != rb:\n",
        "        if ranks[ra] < ranks[rb]:\n",
        "            ra, rb = rb, ra\n",
        "        roots[rb] = ra\n",
        "        if ranks[ra] == ranks[rb]:\n",
        "            ranks[ra] += 1"
      ]
    },
    {
      "cell_type": "code",
      "execution_count": null,
      "metadata": {
        "id": "DucGTnyOikMH"
      },
      "outputs": [],
      "source": [
        "n = 10\n",
        "edges = [(0, i) for i in range(1, n)]\n",
        "display(show_edges(edges, 'TD'))\n",
        "\n",
        "roots = [i for i in range(n)]\n",
        "\n",
        "for a, b in edges:\n",
        "    ra = find_better(roots, a)\n",
        "    rb = find_better(roots, b)\n",
        "    roots[ra] = rb\n",
        "\n",
        "display(show_graph(roots, 'LR'))\n"
      ]
    },
    {
      "cell_type": "code",
      "execution_count": null,
      "metadata": {
        "id": "yTEEeiK3ikMH"
      },
      "outputs": [],
      "source": [
        "n = 10\n",
        "edges = [(0, i) for i in range(1, n)]\n",
        "display(show_edges(edges, 'TD'))\n",
        "\n",
        "roots = [i for i in range(n)]\n",
        "\n",
        "for a, b in edges:\n",
        "    ra = find_better(roots, a)\n",
        "    rb = find_better(roots, b)\n",
        "    roots[rb] = ra\n",
        "\n",
        "display(show_graph(roots, 'TD'))\n"
      ]
    },
    {
      "cell_type": "code",
      "execution_count": null,
      "metadata": {
        "id": "Cg2MjrgGikMH"
      },
      "outputs": [],
      "source": [
        "n = 10\n",
        "edges = [(0, i) for i in range(1, n)]\n",
        "display(show_edges(edges, 'TD'))\n",
        "\n",
        "roots = [i for i in range(n)]\n",
        "sizes = [1]*n\n",
        "\n",
        "for a, b in edges:\n",
        "    union_sizes(roots, sizes, a, b)\n",
        "\n",
        "display(show_graph(roots, 'TD'))\n"
      ]
    },
    {
      "cell_type": "code",
      "execution_count": null,
      "metadata": {
        "id": "Apb6fSw3ikMI"
      },
      "outputs": [],
      "source": [
        "n = 10\n",
        "edges = [(0, i) for i in range(1, n)]\n",
        "display(show_edges(edges, 'TD'))\n",
        "\n",
        "roots = [i for i in range(n)]\n",
        "ranks = [0]*n\n",
        "\n",
        "for a, b in edges:\n",
        "    union_ranks(roots, ranks, a, b)\n",
        "\n",
        "display(show_graph(roots, 'TD'))\n"
      ]
    },
    {
      "cell_type": "markdown",
      "metadata": {
        "id": "gg2Y4KAJikMI"
      },
      "source": [
        "### Szokásos implementáció"
      ]
    },
    {
      "cell_type": "code",
      "execution_count": null,
      "metadata": {
        "id": "Xm9VRr44ikMI"
      },
      "outputs": [],
      "source": [
        "class UnionFind:\n",
        "    def __init__(self, n):\n",
        "        self.roots = [i for i in range(n)]\n",
        "        self.sizes = [1]*n\n",
        "\n",
        "    def find(self, a):\n",
        "        ra = self.roots[a]\n",
        "        if a != ra:\n",
        "            ra = self.find( ra)\n",
        "            self.roots[a] = ra\n",
        "        return ra\n",
        "\n",
        "    def union(self, a, b):\n",
        "        ra = self.find(a)\n",
        "        rb = self.find(b)\n",
        "        if ra != rb:\n",
        "            if self.sizes[ra] < self.sizes[rb]:\n",
        "                ra, rb = rb, ra\n",
        "            self.roots[rb] = ra\n",
        "            self.sizes[ra] += self.sizes[rb]\n"
      ]
    },
    {
      "cell_type": "code",
      "execution_count": null,
      "metadata": {
        "id": "4eVdIvZwikMI"
      },
      "outputs": [],
      "source": [
        "uf = UnionFind(10)\n",
        "print(uf)\n",
        "uf.union(1, 2)\n",
        "print(uf)\n",
        "uf.union(5, 9)\n",
        "uf.union(6, 7)\n",
        "print(uf)\n",
        "\n",
        "uf"
      ]
    },
    {
      "cell_type": "markdown",
      "metadata": {
        "id": "nZ7UxMy4ikMI"
      },
      "source": [
        "`__str__` és `__repr__` metódusok"
      ]
    },
    {
      "cell_type": "code",
      "execution_count": null,
      "metadata": {
        "id": "YxgBoRK4ikMI"
      },
      "outputs": [],
      "source": [
        "def as_set(seq):\n",
        "    return f\"{{{', '.join(map(str, seq))}}}\"\n",
        "\n",
        "def uf_str(self):\n",
        "    components = {}\n",
        "    for a in range(len(self.roots)):\n",
        "        ra = self.find(a)\n",
        "        if ra not in components:\n",
        "            components[ra] = []\n",
        "        components[ra].append(a)\n",
        "    return f\"{{{ ', '.join(map(as_set, components.values()))}}}\"\n",
        "\n",
        "def uf_repr(self):\n",
        "    return f\"{type(self).__name__}({len(self.roots)})\"\n",
        "\n",
        "# Így is lehet:\n",
        "UnionFind.__str__ = uf_str\n",
        "UnionFind.__repr__ = uf_repr"
      ]
    },
    {
      "cell_type": "code",
      "execution_count": null,
      "metadata": {
        "id": "pZPogl88ikMI"
      },
      "outputs": [],
      "source": [
        "uf = UnionFind(10)\n",
        "print(uf)\n",
        "uf.union(1, 2)\n",
        "print(uf)\n",
        "uf.union(5, 9)\n",
        "uf.union(6, 7)\n",
        "print(uf)\n",
        "\n",
        "uf"
      ]
    },
    {
      "cell_type": "markdown",
      "metadata": {
        "id": "R4OYHzvyikMJ"
      },
      "source": [
        "### További kérdések\n",
        "\n",
        "- Tegyük fel, hogy a komponensek száma érdekel minket. Hogyan oldanánk, meg, hogy konstans idő alatt megkaphassuk.\n",
        "- Tegyük fel, hogy a legnagyobb komponens méretet érdekel minket. Hogyan oldanánk, meg, hogy konstans idő alatt megkaphassuk.\n",
        "- Hogyan ellenőriznénk, hogy két partíció azonos?"
      ]
    },
    {
      "cell_type": "markdown",
      "metadata": {
        "id": "AFZIPtDOikMJ"
      },
      "source": [
        "# Faktoriális értékének közelítése"
      ]
    },
    {
      "cell_type": "markdown",
      "metadata": {
        "id": "JpN7aty6ikMJ"
      },
      "source": [
        "Mekkora $n!$, ha $n$ nagy?\n",
        "\n",
        "Ötlet:\n",
        "$$\n",
        "    \\log n! = \\sum_{k=1}^n \\log k \\approx \\int_1^{?} \\log x dx = \\left[ x(\\log x-1)\\right]_{x=1}^{x=?}\n",
        "$$"
      ]
    },
    {
      "cell_type": "code",
      "execution_count": null,
      "metadata": {
        "id": "41gYUlj6ikMJ"
      },
      "outputs": [],
      "source": [
        "import matplotlib.pyplot as plt\n",
        "import math\n",
        "\n",
        "def subdivision(a, b, n):\n",
        "    d = (b-a)/n\n",
        "    return [a+i*d for i in range(n+1)]\n",
        "\n",
        "def add_function_curve(f, a, b, n=100):\n",
        "    xs = subdivision(a, b, n)\n",
        "    fxs = [f(x) for x in  xs]\n",
        "    plt.plot(xs, fxs, \"r-\")"
      ]
    },
    {
      "cell_type": "markdown",
      "metadata": {
        "id": "-g-N_jykikMJ"
      },
      "source": [
        "## Téglalap közelítés"
      ]
    },
    {
      "cell_type": "code",
      "execution_count": null,
      "metadata": {
        "id": "XiHuqg64ikMJ"
      },
      "outputs": [],
      "source": [
        "k_values = [k for k in range(1, 11)]\n",
        "for k in k_values:\n",
        "    plt.fill_between([k+i for k in k_values for i in range(2)], [math.log(k) for k in k_values for i in range(2)], color='lightblue')\n",
        "\n",
        "add_function_curve(math.log, 1, 11)\n"
      ]
    },
    {
      "cell_type": "markdown",
      "metadata": {
        "id": "7quu2GN2ikMJ"
      },
      "source": [
        "A hiba:"
      ]
    },
    {
      "cell_type": "code",
      "execution_count": null,
      "metadata": {
        "id": "VI7th-MgikMJ"
      },
      "outputs": [],
      "source": [
        "def primitive_function(x):\n",
        "    return x*(math.log(x)-1)\n",
        "\n",
        "def rectangle_error(k):\n",
        "    return primitive_function(k+1)-primitive_function(k)-math.log(k)\n",
        "\n",
        "def cummulative_error(n, error_fun=rectangle_error):\n",
        "    return sum(error_fun(k) for k in range(1, n+1))"
      ]
    },
    {
      "cell_type": "code",
      "execution_count": null,
      "metadata": {
        "id": "HtA66ysiikMJ"
      },
      "outputs": [],
      "source": [
        "for n in [10, 100, 1000]:\n",
        "    print(f\"{n=}, {cummulative_error(n)=}\")"
      ]
    },
    {
      "cell_type": "markdown",
      "metadata": {
        "id": "haKPlPnLikMJ"
      },
      "source": [
        "### Javítás, trapéz összeg közelítés"
      ]
    },
    {
      "cell_type": "markdown",
      "metadata": {
        "id": "FoblK46EikMJ"
      },
      "source": [
        "Téglalapok helyett minden egység intervallumon a beírt trapézt  használjuk."
      ]
    },
    {
      "cell_type": "code",
      "execution_count": null,
      "metadata": {
        "id": "mzDEEP4MikMJ"
      },
      "outputs": [],
      "source": [
        "k_values = [k for k in range(1, 11)]\n",
        "for k in k_values:\n",
        "    plt.fill_between(k_values, [math.log(k) for k in k_values], color='lightblue')\n",
        "\n",
        "add_function_curve(math.log, 1, 10)\n"
      ]
    },
    {
      "cell_type": "code",
      "execution_count": null,
      "metadata": {
        "id": "AD4ecCskikMJ"
      },
      "outputs": [],
      "source": [
        "def error_fun(x):\n",
        "    k, t = divmod(x, 1)\n",
        "    return math.log(x) - ((1-t)*math.log(k) + t*math.log(k+1))\n",
        "\n",
        "xs = subdivision(1, 10, 100)\n",
        "plt.fill_between(xs, [error_fun(x) for x in xs], color='lightblue')\n",
        "add_function_curve(error_fun, 1, 10, 500)\n"
      ]
    },
    {
      "cell_type": "code",
      "execution_count": null,
      "metadata": {
        "id": "DybbdPA3ikMK"
      },
      "outputs": [],
      "source": [
        "def modified_error_fun(x):\n",
        "    k = x//1\n",
        "    return k*k*error_fun(x)\n",
        "\n",
        "for a in [1, 100, 1000, 10000]:\n",
        "    b = a+10\n",
        "    xs = subdivision(a, b, 1000)\n",
        "\n",
        "    plt.fill_between(xs, [modified_error_fun(x) for x in xs], color='lightblue')\n",
        "    add_function_curve(modified_error_fun, a, b, 1000)\n",
        "    plt.show()"
      ]
    },
    {
      "cell_type": "code",
      "execution_count": null,
      "metadata": {
        "id": "96YsDFNFikML"
      },
      "outputs": [],
      "source": [
        "def trapezoid_error(k):\n",
        "    return primitive_function(k+1)-primitive_function(k)-0.5*(math.log(k)+math.log(k+1))\n"
      ]
    },
    {
      "cell_type": "code",
      "execution_count": null,
      "metadata": {
        "id": "MbnqC5VeikML"
      },
      "outputs": [],
      "source": [
        "for n in [10, 100, 1000]:\n",
        "    print(f\"{n = :>4}, {cummulative_error(n, trapezoid_error) = :.8f}\")"
      ]
    },
    {
      "cell_type": "markdown",
      "metadata": {
        "id": "iN3fLl-_ikML"
      },
      "source": [
        "## Látszik, hogy a hiba lassan nő. Tudunk-e felső becslést adni rá?\n",
        "\n",
        "$$\n",
        "    \\int_{k}^{k+1} \\log x dx = \\int_0^1 \\log(k+x) dx\n",
        "$$\n",
        "\n",
        "A beírt trapéz területe integrállal\n",
        "\n",
        "$$\n",
        "    \\int_0^1 x\\log(k+1)+(1-x)\\log(k) dx\n",
        "$$\n",
        "\n",
        "Tudjuk-e becsülni a két integrandus különbségét?\n",
        "$$\n",
        "    \\log(k+x) - (x\\log(k+1)+(1-x)\\log(k))\n",
        "$$\n",
        "\n",
        "Átalakítás mindkét tagból levonunk $\\log(k)$-t:\n",
        "$$\n",
        "    \\log(k+x) - \\log(k) - (x\\log(k+1)+(1-x)\\log(k) -\\log(k)) = \\log(1+\\tfrac{x}{k}) - x\\log(1+\\tfrac1k)\n",
        "$$\n"
      ]
    },
    {
      "cell_type": "code",
      "execution_count": null,
      "metadata": {
        "id": "fgnNeH8fikML"
      },
      "outputs": [],
      "source": [
        "xs = subdivision(0, 1, 100)\n",
        "\n",
        "for k in range(1, 4):\n",
        "    plt.fill_between(xs, [math.log(k+x)-math.log(k) for x in xs], [math.log(k+1)*x+math.log(k)*(1-x)-math.log(k) for x in xs], color=\"blue\")\n",
        "\n",
        "plt.grid()"
      ]
    },
    {
      "cell_type": "markdown",
      "metadata": {
        "id": "t6i4rZDAikMM"
      },
      "source": [
        "A logaritmus függvény konkáv, a derivált monoton fogy ($1/x$) és egy beírt húr mindig a végponthoz behúzott érintő egyenesek alatt van.\n",
        "\n",
        "$$\n",
        "    \\log (1+x)\\leq x\n",
        "$$\n",
        "\n",
        "ezért\n",
        "$$\n",
        "    \\log(1+x/k) - x \\log(1+1/k)\\leq \\frac xk - x\\log(1+1/k) = x(1/k -\\log(1+1/k))\n",
        "$$\n",
        "\n",
        "de\n",
        "$$\n",
        "    \\log(1+1/k) = \\log\\frac{k+1}{k} = -\\log\\frac{k}{k+1} = -\\log(1-1/(k+1)) \\geq \\frac1{k+1}\n",
        "$$\n",
        "\n",
        "Így\n",
        "\n",
        "$$\n",
        "    \\log(1+x/k) - x \\log(1+1/k)\\leq x\\left(\\frac1k-\\frac1{k+1}\\right)\n",
        "$$\n",
        "és\n",
        "a $k$. intervallumon elkövetett hiba legfeljebb\n",
        "$$\n",
        "    \\int_{0}^{1} \\log(k+x) - ((1-x)\\log(k)+x\\log(k+1))dx = \\int_0^1 x dx \\left(\\frac1k -\\frac1{k+1}\\right)\n",
        "$$\n",
        "A hibák összege legfeljebb:\n",
        "$$\n",
        "    \\frac12 \\sum_{k=1}^\\infty \\frac1k -\\frac1{k+1} =\\frac12\n",
        "$$"
      ]
    },
    {
      "cell_type": "markdown",
      "metadata": {
        "id": "dk-i0lxTikMM"
      },
      "source": [
        "Összefoglalva:\n",
        "\n",
        "$$\n",
        "    \\log n! = \\int_1^n \\log x dx + \\frac12 \\log n + r_n = n(\\log(n) - 1) + 1 + \\frac12 \\log (n) + r_n\n",
        "$$\n",
        "ahol $r_n$ a közelítés hibája az első $n$ intervallumon\n",
        "$$\n",
        "    r_n = \\sum_{k=1}^n \\int_0^1 \\log(1+x/k)-x\\log(1+1/k)dx \\leq 1/2\n",
        "$$\n",
        "$(r_n)$ monoton nő, ezért létezik limesze.\n",
        "\n",
        "Visszaírva faktoriálisra:\n",
        "\n",
        "$$\n",
        "    n! = \\sqrt{n}\\left(\\frac{n}{e}\\right)^n c_n\n",
        "$$\n",
        "ahol $c_n=e^{1+r_n}\\leq e^{3/2}$\n",
        "\n",
        "Analízisben a Wallis formula következményeként szerepel\n",
        "\n",
        "$$\n",
        "\\lim c_n = \\sqrt{2\\pi}\n",
        "$$\n",
        "\n",
        "Ez a nevezetes **Stirling** formula:\n",
        "$$\n",
        " \\frac{n!}{\\sqrt{2\\pi n}\\left(\\frac{n}{e}\\right)^n} \\to 1\n",
        "$$\n"
      ]
    },
    {
      "cell_type": "markdown",
      "metadata": {
        "id": "nx0n3OdjikMM"
      },
      "source": [
        "### Wallis formula középiskolai eszközökkel"
      ]
    },
    {
      "cell_type": "markdown",
      "metadata": {
        "id": "RXlqtbYlikMM"
      },
      "source": [
        "\n",
        "Középiskolai tudást használva is kiszámíthatnánk a limeszt. Ehhez a\n",
        "$$\n",
        "    I_n = \\int_{0}^{\\pi/2} \\cos^n(x) dx\n",
        "$$\n",
        "sorozatot kellen vizsgálni. Parciálisan integrálva:\n",
        "$$\n",
        "    I_{n+2} = \\int_{0}^{\\pi/2} (1-\\sin^2x)\\cos^n(x) dx\n",
        "    = I_n - \\int_{0}^{\\pi/2} \\sin^2(x)\\cos^n(x) dx\n",
        "$$\n",
        "ahol\n",
        "$$\n",
        "\\begin{aligned}\n",
        "-\\int_{0}^{\\pi/2} \\sin^2(x)\\cos^n(x) dx\n",
        "& =\n",
        "\\frac1{n+1} \\int_{0}^{\\pi/2} \\sin(x)(\\cos^{n+1}(x))' dx\n",
        "\\\\\n",
        "&=\n",
        "\\frac{1}{n+1}\\left[\\sin(x)\\cos^{n+1}(x)\\right]_{x=0}^{x=\\pi/2}-\\frac{1}{n+1}\\int_0^{\\pi/2}\\cos^{n+2}(x)dx\n",
        "\\\\\n",
        "&= -\\frac{1}{n+1} I_{n+2}\n",
        "\\end{aligned}\n",
        "$$\n",
        "\n",
        "**Összefoglalva**:\n",
        "\n",
        "$$\n",
        "    I_{n+2} = \\int_{0}^{\\pi/2} (1-\\sin^2x)\\cos^n(x) dx\n",
        "    = I_n - \\frac{1}{n+1}I_{n+2} = \\frac{n+1}{n+2} I_n\n",
        "$$\n",
        "\n",
        "Ha $n=2k$ páros, akkor\n",
        "$$\n",
        "    I_{2k} = \\frac{2k-1}{2k} I_{2k-2} = \\frac{(2k-1)(2k-3)}{2k(2k-2)} I_{2k-4} =\\cdots=\\frac{(2k-1)!!}{2^k k!}I_0=\\frac{1}{2^{2k}}\\binom{2k}{k}\\frac{\\pi}2\n",
        "$$\n",
        "Ha $n=2k+1$ páratlan, akkor\n",
        "$$\n",
        "    I_{2k+1} = \\frac{2k}{2k-1} I_{2k-3} = \\frac{(2k)(2k-2)}{(2k+1)(2k-1)} I_{2k-3} =\\cdots=\\frac{2^k k!}{(2k+1)!!}I_1=\\frac{2^{2k}}{(2k+1)\\binom{2k}{k}}=\\frac{2^{2(k+1)}}{2(k+1)\\binom{2(k+1)}{k+1}}\n",
        "$$\n",
        "Mivel $(I_n)$ monoton fogyó:\n",
        "$$\n",
        "    I_{2k-1}=\\frac{2^{2k}}{2k\\binom{2k}{k}}  > I_{2k} = \\frac{1}{2^{2k}}\\binom{2k}{k}\\frac{\\pi}2  > I_{2k+1}= \\frac{2^k k!}{(2k+1)!!}I_1=\\frac{2^{2k}}{(2k+1)\\binom{2k}{k}}\n",
        "$$\n",
        "Átrendezés után\n",
        "$$\n",
        "\\frac{1}{2k\\pi/2} < \\left(\\frac{1}{2^{2k}}\\binom{2k}{k}\\right)^2 < \\frac{1}{(2k+1)\\pi/2}\n",
        "$$\n",
        "és\n",
        "$$\n",
        "    \\lim_{n\\to\\infty}\\sqrt{n} \\frac{1}{2^{2n}}\\binom{2n}{n} = \\frac{1}{\\sqrt{\\pi}}\n",
        "$$\n",
        "\n",
        "Másfelől a faktoriális közelítését használva:\n",
        "$$\n",
        "    \\sqrt{n}\\frac1{2^{2n}}\\binom{2n}{n}\n",
        "    = \\sqrt{n} \\frac1{2^{2n}} \\frac{c_{2n} \\sqrt{2n} \\left(\\frac{2n}{e}\\right)^{2n}}{c_n^2 n\\left(\\frac{n}{e}\\right)^{2n}}\n",
        "    \\to \\lim_{n\\to\\infty} \\frac{\\sqrt{2}c_{2n}}{c_n^2} = \\lim_{n\\to\\infty}\\frac{\\sqrt{2}}{c_n}=\\frac1{\\sqrt{\\pi}}\n",
        "$$\n",
        "amiből $\\lim_n c_n =\\sqrt{2\\pi}$.\n",
        "\n"
      ]
    },
    {
      "cell_type": "markdown",
      "metadata": {
        "id": "QkfGbWjtikMM"
      },
      "source": [
        "# Conway Game of Life"
      ]
    },
    {
      "cell_type": "markdown",
      "metadata": {
        "id": "XNc-YZ2LikMN"
      },
      "source": [
        "\n",
        "The Game of Life is a cellular automaton created by mathematician John Conway in 1970. The game consists of a board of cells that are either on or off. One creates an initial configuration of these on/off states and observes how it evolves. There are four simple rules to determine the next state of the game board, given the current state:\n",
        "\n",
        "- **Overpopulation**: if a living cell is surrounded by more than three living cells, it dies.\n",
        "- **Stasis**: if a living cell is surrounded by two or three living cells, it survives.\n",
        "- **Underpopulation**: if a living cell is surrounded by fewer than two living cells, it dies.\n",
        "- **Reproduction**: if a dead cell is surrounded by exactly three cells, it becomes a live cell.\n",
        "\n",
        "\n",
        "Írjunk egy osztályt a játékhoz, pl. az `__init__` metódus hozzalétre a megadott konfigurációnak megfelelő objektumot. Legyen egy `step` metódus, ami a rendszert a következő állapotába viszi és az `__str__` metódus pedig\n",
        "valahogy ábrázolja az aktuális állapotot.\n",
        "\n",
        "Tegyük fel, hogy a rács amin a rendszer él, egy $n\\times n$-es rács, ahol mindkét irányban ciklikusan körbemegyünk,\n",
        "azaz a csúcsokat modulo $n$ tekintjük.\n"
      ]
    },
    {
      "cell_type": "code",
      "execution_count": null,
      "metadata": {
        "id": "wV4wIz8_ikMN"
      },
      "outputs": [],
      "source": [
        "class ConwayGoL:\n",
        "\n",
        "    def __init__(self, state):\n",
        "        self.state = list(state)\n",
        "\n",
        "    def step(self):\n",
        "        return self\n",
        "\n",
        "    def __repr__(self):\n",
        "        return f\"{type(self).__name__}({self.state})\""
      ]
    },
    {
      "cell_type": "code",
      "execution_count": null,
      "metadata": {
        "id": "1uzMZmucikMN"
      },
      "outputs": [],
      "source": [
        "import random\n",
        "\n",
        "init_state = [] ## ???\n",
        "conway = ConwayGoL(init_state)\n",
        "\n",
        "conway.step()\n"
      ]
    },
    {
      "cell_type": "markdown",
      "metadata": {
        "id": "EeRGYz2FikMN"
      },
      "source": [
        "A játék állapotának leírásához egy $m\\times n$ rács minden pontjáról tudni kell, hogy foglalt-e vagy sem.\n",
        "\n",
        "```python\n",
        "m, n = 11, 11\n",
        "state = [[0]*n for _ in range(m)]\n",
        "```\n",
        "\n",
        "Véletlenszerű kezdeti állapot:\n",
        "```python\n",
        "state = [[random.randint(0,1) for _ in range(n)] for _ in range(m)]\n",
        "```"
      ]
    },
    {
      "cell_type": "code",
      "execution_count": null,
      "metadata": {
        "id": "0YhtI79rikMN"
      },
      "outputs": [],
      "source": [
        "def random_state(n, m, p):\n",
        "    return [[int(random.random()<p) for _ in range(m)] for _ in range(n)]\n",
        "\n",
        "state = random_state(5, 6, 0.2)\n",
        "print(state)"
      ]
    },
    {
      "cell_type": "markdown",
      "metadata": {
        "id": "UMkVfpIjikMO"
      },
      "source": [
        "Szebb megjelenítés?"
      ]
    },
    {
      "cell_type": "code",
      "execution_count": null,
      "metadata": {
        "id": "0Fb9kn6EikMO"
      },
      "outputs": [],
      "source": [
        "def as_matrix(lst, n):\n",
        "    return [lst[i:i+n] for i in range(0, len(lst), n)]\n",
        "\n",
        "print('\\n'.join(''.join(map(str, line)) for line in state))\n"
      ]
    },
    {
      "cell_type": "code",
      "execution_count": null,
      "metadata": {
        "id": "NbCwtRkuikMO"
      },
      "outputs": [],
      "source": [
        "for symbols in [\n",
        "    \"\\u2b1c\\u2b1b\",\n",
        "    \"·♥\",\n",
        "    \"🟡🟥\"\n",
        "    ]:\n",
        "    print('\\n'.join(''.join(symbols[x] for x in line) for line in state))\n"
      ]
    },
    {
      "cell_type": "code",
      "execution_count": null,
      "metadata": {
        "id": "W9BtjHbhikMO"
      },
      "outputs": [],
      "source": [
        "import matplotlib.pyplot as plt\n",
        "\n",
        "img = plt.matshow(state, cmap=\"Pastel1\", vmax=1, vmin=0, alpha=0.8)\n",
        "img.axes.axis(\"off\")\n",
        "n, m = len(state), len(state[0])\n",
        "for pos in range(0, n+1):\n",
        "    img.axes.axhline(y=pos-0.5, color=\"gray\")\n",
        "for pos in range(0, m+1):\n",
        "    img.axes.axvline(x=pos-0.5, color=\"gray\")\n",
        "\n",
        "plt.show()\n"
      ]
    },
    {
      "cell_type": "code",
      "execution_count": null,
      "metadata": {
        "id": "clSwhPFwikMO"
      },
      "outputs": [],
      "source": [
        "\n",
        "def cgol_str(self):\n",
        "    symbols = \"\\u2b1c\\u2b1b\"\n",
        "    return '\\n'.join(''.join(symbols[x] for x in line) for line in self.state)\n",
        "\n",
        "ConwayGoL.__str__ = cgol_str\n",
        "\n",
        ""
      ]
    },
    {
      "cell_type": "code",
      "execution_count": null,
      "metadata": {
        "id": "9nDAxnhfikMO"
      },
      "outputs": [],
      "source": [
        "conway = ConwayGoL(state)\n",
        "print(conway)"
      ]
    },
    {
      "cell_type": "markdown",
      "metadata": {
        "id": "xaGNDrNdikMO"
      },
      "source": [
        "A `step` metódushoz ki kellene számolni egy adott csúcs foglalt szomszédainak számát `cnt`. Ha ez kész,\n",
        "akkor az $i$ csúcs új állapota:\n",
        "\n",
        "$$\n",
        "    \\text{state}_{t+1}[i]=\n",
        "    \\begin{cases}\n",
        "    1 &\\text{Ha $\\text{cnt}[i]\\in\\{2,3\\}$ és $\\text{state}_t[i]=1$}\\\\\n",
        "    1 &\\text{Ha $\\text{cnt}[i]\\in\\{3\\}$ és $\\text{state}_t[i]=0$}\\\\\n",
        "    0 &\\text{különben}\n",
        "    \\end{cases}\n",
        "$$"
      ]
    },
    {
      "cell_type": "code",
      "execution_count": null,
      "metadata": {
        "id": "j49UyZ5BikMP"
      },
      "outputs": [],
      "source": [
        "def newstate(state, count):\n",
        "    return [int((c==3)|((c==2) & (s==1))) for s, c in  zip(state, count)]"
      ]
    },
    {
      "cell_type": "code",
      "execution_count": null,
      "metadata": {
        "id": "WgHGC8oSikMP"
      },
      "outputs": [],
      "source": [
        "import ipytest\n",
        "ipytest.autoconfig()"
      ]
    },
    {
      "cell_type": "code",
      "execution_count": null,
      "metadata": {
        "id": "ECyIdALjikMP"
      },
      "outputs": [],
      "source": [
        "%%ipytest\n",
        "\n",
        "def test_newstate():\n",
        "    res = [0]*9\n",
        "    res[2] = 1\n",
        "    res[3] = 1\n",
        "    assert newstate([1]*9, list(range(9))) == res\n",
        "    res = [0]*9\n",
        "    res[3] = 1\n",
        "    assert newstate([0]*9, list(range(9))) == res\n"
      ]
    },
    {
      "cell_type": "code",
      "execution_count": null,
      "metadata": {
        "id": "bhB5QfhdikMP"
      },
      "outputs": [],
      "source": [
        "def count_neighbors(state):\n",
        "    delta = [(0,-1), (0, 1), (1,-1), (1,0), (1,1), (-1,-1), (-1,0), (-1,1)]\n",
        "    m, n = len(state), len(state[0])\n",
        "    return [ [sum(state[(i+di) % m][(j+dj) % n] for di, dj in delta) for j in range(n)] for i in range(m)]\n",
        "\n",
        "def cgol_step(self):\n",
        "    counts = count_neighbors(self.state)\n",
        "    self.state = [ newstate(line, cnt) for line, cnt in zip(self.state, counts) ]\n",
        "    return self\n",
        "\n",
        "ConwayGoL.step = cgol_step"
      ]
    },
    {
      "cell_type": "code",
      "execution_count": null,
      "metadata": {
        "id": "ADe-El3rikMP"
      },
      "outputs": [],
      "source": [
        "@classmethod\n",
        "def cgol_from_random_state(cls, n, m,  p):\n",
        "    return cls(random_state(n, m, p))\n",
        "\n",
        "ConwayGoL.from_random_state=cgol_from_random_state"
      ]
    },
    {
      "cell_type": "code",
      "execution_count": null,
      "metadata": {
        "id": "fd40E_jjikMP"
      },
      "outputs": [],
      "source": [
        "conway = ConwayGoL.from_random_state(5, 10, 0.2)\n",
        "print(conway)\n",
        "print(*count_neighbors(conway.state), sep='\\n')"
      ]
    },
    {
      "cell_type": "code",
      "execution_count": null,
      "metadata": {
        "id": "vE4Oo3nGikMP"
      },
      "outputs": [],
      "source": [
        "conway = ConwayGoL.from_random_state(5, 5, 0.25)\n",
        "print(conway)\n",
        "print(\"-\"*20)\n",
        "print(conway.step())"
      ]
    },
    {
      "cell_type": "markdown",
      "metadata": {
        "id": "rl4E05EVikMQ"
      },
      "source": [
        "Tudunk-e valami animációszerűt készíteni? Jupyter notebook-ban pl. a következő képpen lehet:"
      ]
    },
    {
      "cell_type": "code",
      "execution_count": null,
      "metadata": {
        "id": "lvVyagliikMQ"
      },
      "outputs": [],
      "source": [
        "from ipywidgets import Output\n",
        "from time import sleep\n"
      ]
    },
    {
      "cell_type": "code",
      "execution_count": null,
      "metadata": {
        "id": "5dpgxNL4ikMQ"
      },
      "outputs": [],
      "source": [
        "\n",
        "out = Output()\n",
        "display(out)\n",
        "conway = ConwayGoL.from_random_state(n=21, m=51, p=0.2)\n",
        "\n",
        "for i in range(50):\n",
        "    out.clear_output(True)\n",
        "    with out:\n",
        "        print(f\"After {i} steps:\\n{conway}\")\n",
        "    sleep(0.15)\n",
        "    conway.step()\n"
      ]
    },
    {
      "cell_type": "markdown",
      "metadata": {
        "id": "BwGZr3VzikMQ"
      },
      "source": [
        "## Ugyanez `numpy` tömbbel"
      ]
    },
    {
      "cell_type": "code",
      "execution_count": null,
      "metadata": {
        "id": "klIfrt4FikMR"
      },
      "outputs": [],
      "source": [
        "import numpy as np"
      ]
    },
    {
      "cell_type": "markdown",
      "metadata": {
        "id": "QlQm3BnHikMR"
      },
      "source": [
        "### Random `state`"
      ]
    },
    {
      "cell_type": "code",
      "execution_count": null,
      "metadata": {
        "id": "eEeScSeyikMR"
      },
      "outputs": [],
      "source": [
        "def random_state_np(m, n, p):\n",
        "    return np.random.binomial(1, p, size=(m, n)).astype(np.int8)\n"
      ]
    },
    {
      "cell_type": "code",
      "execution_count": null,
      "metadata": {
        "id": "4JZJHwScikMR"
      },
      "outputs": [],
      "source": [
        "print(random_state_np(11, 21, 0.2))"
      ]
    },
    {
      "cell_type": "markdown",
      "metadata": {
        "id": "VZ-IqgElikMR"
      },
      "source": [
        "### `__str__` unicode karakterrel"
      ]
    },
    {
      "cell_type": "code",
      "execution_count": null,
      "metadata": {
        "id": "CAmv5yhLikMR"
      },
      "outputs": [],
      "source": [
        "\n",
        "symbols_array = np.array([\"\\u2b1c\", \"\\u2b1b\"])\n",
        "\n",
        "def str_state_np(state):\n",
        "    return '\\n'.join(map(''.join, symbols_array[state]))"
      ]
    },
    {
      "cell_type": "code",
      "execution_count": null,
      "metadata": {
        "id": "jyJ3puddikMR"
      },
      "outputs": [],
      "source": [
        "print(str_state_np(random_state(11, 21, 0.2)))"
      ]
    },
    {
      "cell_type": "markdown",
      "metadata": {
        "id": "0aw-wVw-ikMR"
      },
      "source": [
        "### Szomszédszám `pad`-el"
      ]
    },
    {
      "cell_type": "code",
      "execution_count": null,
      "metadata": {
        "id": "gk02ltTSikMR"
      },
      "outputs": [],
      "source": [
        "def count_neighbors_np(state, mode='wrap'):\n",
        "    count = np.pad(state, pad_width=((1,1), (1,1)), mode=mode)\n",
        "    count = count[2:]+ count[1:-1] + count[:-2]\n",
        "    count = count[:, 2:] + count[:, 1:-1] + count[:,:-2]\n",
        "    return count-state"
      ]
    },
    {
      "cell_type": "code",
      "execution_count": null,
      "metadata": {
        "id": "svMtqN1likMR"
      },
      "outputs": [],
      "source": [
        "state = random_state_np(5, 8, 0.2)\n",
        "print(str_state_np(state))\n",
        "print(count_neighbors_np(state))"
      ]
    },
    {
      "cell_type": "code",
      "execution_count": null,
      "metadata": {
        "id": "Bp2JmptlikMR"
      },
      "outputs": [],
      "source": [
        "def new_state_np(state):\n",
        "    count = count_neighbors_np(state)\n",
        "    return ((count == 3)|((count == 2) & (state==1))).astype(np.int8)"
      ]
    },
    {
      "cell_type": "code",
      "execution_count": null,
      "metadata": {
        "id": "-JiRBDhoikMR"
      },
      "outputs": [],
      "source": [
        "x = np.arange(5)\n",
        "(x<4)&(x>2)"
      ]
    },
    {
      "cell_type": "code",
      "execution_count": null,
      "metadata": {
        "id": "alDtZoRQikMS"
      },
      "outputs": [],
      "source": [
        "state0 = random_state_np(11, 21, 0.2)\n",
        "state1 = new_state_np(state0)\n",
        "print(str_state_np(state0))\n",
        "print('='*50)\n",
        "print(str_state_np(state1))"
      ]
    },
    {
      "cell_type": "code",
      "execution_count": null,
      "metadata": {
        "id": "tFkH5V36ikMT"
      },
      "outputs": [],
      "source": [
        "state = random_state_np(11, 21, 0.2)\n",
        "plt.imshow(state, cmap='Pastel1_r', vmax=1, vmin=0)\n",
        "plt.xticks(np.arange(state.shape[1]+1)-.5, minor=True)\n",
        "plt.xticks([])\n",
        "plt.yticks(np.arange(state.shape[0]+1)-.5, minor=True)\n",
        "plt.yticks([])\n",
        "plt.grid(which=\"minor\", color=\"gray\", linestyle='-', linewidth=1)\n",
        "plt.axis()\n",
        "\n",
        "for (i, j), cnt in np.ndenumerate(count_neighbors_np(state)):\n",
        "    plt.text(j, i, str(cnt), ha=\"center\", va=\"center\")\n",
        ""
      ]
    },
    {
      "cell_type": "code",
      "execution_count": null,
      "metadata": {
        "id": "QeegjPfPikMT"
      },
      "outputs": [],
      "source": [
        "plt.imshow(state, cmap='Pastel1_r', vmax=1, vmin=0)\n",
        "plt.xticks(np.arange(state.shape[1]+1)-.5, minor=True)\n",
        "plt.xticks([])\n",
        "plt.yticks(np.arange(state.shape[0]+1)-.5, minor=True)\n",
        "plt.yticks([])\n",
        "plt.grid(which=\"minor\", color=\"gray\", linestyle='-', linewidth=1)\n",
        "plt.axis()\n",
        "\n",
        "for (i, j), cnt in np.ndenumerate(new_state_np(state)):\n",
        "    plt.text(j, i, str(cnt), ha=\"center\", va=\"center\")\n",
        ""
      ]
    },
    {
      "cell_type": "code",
      "execution_count": null,
      "metadata": {
        "id": "yVCCJ8SJikMT"
      },
      "outputs": [],
      "source": [
        "out = Output()\n",
        "display(out)\n",
        "state = random_state_np(n=51, m=21, p=0.2)\n",
        "\n",
        "for i in range(50):\n",
        "    out.clear_output(True)\n",
        "    with out:\n",
        "        print(f\"After {i} steps:\\n{str_state_np(state)}\")\n",
        "    sleep(0.15)\n",
        "    state = new_state_np(state)\n"
      ]
    },
    {
      "cell_type": "markdown",
      "metadata": {
        "id": "-UWsD47FikMT"
      },
      "source": [
        "## Parancssoros script"
      ]
    },
    {
      "cell_type": "markdown",
      "metadata": {
        "id": "AdM97zzxikMT"
      },
      "source": [
        "Ha parancssorból dolgozunk, akkor valami ilyesmit lehetne tenni"
      ]
    },
    {
      "cell_type": "code",
      "execution_count": null,
      "metadata": {
        "id": "3ZzZDcH7ikMT"
      },
      "outputs": [],
      "source": [
        "%%writefile conway.py\n",
        "\n",
        "import random\n",
        "\n",
        "\n",
        "def random_state(m, n, p):\n",
        "    return [ [ int(random.random()<p) for _ in range(n) ] for _ in range(m) ]\n",
        "\n",
        "def count_neighbors(state):\n",
        "    delta = [(0,-1), (0, 1), (1,-1), (1,0), (1,1), (-1,-1), (-1,0), (-1,1)]\n",
        "    m, n = len(state), len(state[0])\n",
        "    return [ [sum(state[(i+di) % m][(j+dj) % n] for di, dj in delta) for j in range(n)] for i in range(m)]\n",
        "\n",
        "def newstate(state, count):\n",
        "    return [int((c==3)|((c==2) & (s==1))) for s, c in  zip(state, count)]\n",
        "\n",
        "class ConwayGoL:\n",
        "    symbols = \"\\u2b1c\\u2b1b\"\n",
        "\n",
        "    def __init__(self, state):\n",
        "        self.state = list(state)\n",
        "\n",
        "    def step(self):\n",
        "        counts = count_neighbors(self.state)\n",
        "        self.state = [ newstate(line, cnt) for line, cnt in zip(self.state, counts) ]\n",
        "        return self\n",
        "\n",
        "\n",
        "    def __str__(self):\n",
        "        symbols = self.symbols\n",
        "        return '\\n'.join(''.join(symbols[x] for x in line) for line in self.state)\n",
        "\n",
        "    def __repr__(self):\n",
        "        return f\"{type(self).__name__}({self.state})\"\n",
        "\n",
        "    @classmethod\n",
        "    def from_random_state(cls, m, n, p):\n",
        "        return cls(random_state(m, n, p))\n",
        "\n",
        "    def is_empty(self):\n",
        "        return not any(any(line) for line in self.state)\n",
        "\n",
        "\n",
        "def clear_terminal(n):\n",
        "    print(f\"{chr(27)}[{n+1}A\", end=\"\")\n",
        "\n",
        "def main(m=11, n=25, p=0.2, nsteps=10, clear_screen=clear_terminal):\n",
        "    from time import sleep\n",
        "    conway = ConwayGoL.from_random_state(m, n, p)\n",
        "    for i in range(nsteps+1):\n",
        "        if i>0:\n",
        "            clear_screen(m)\n",
        "        print(f\"after {i} step:\")\n",
        "        print(conway)\n",
        "        sleep(0.2)\n",
        "        conway.step()\n",
        "        if conway.is_empty():\n",
        "            break\n",
        "\n",
        "if __name__ == \"__main__\":\n",
        "    main()\n",
        ""
      ]
    },
    {
      "cell_type": "markdown",
      "metadata": {
        "id": "vQteFuSxikMT"
      },
      "source": [
        "Ha valamit már megírtunk és szeretnénk használni, `import`-tal elérhető. Pl."
      ]
    },
    {
      "cell_type": "markdown",
      "metadata": {
        "id": "YOX8kI-aikMT"
      },
      "source": [
        "### Tudunk-e paramétereket adni a python scriptnek?\n",
        "\n",
        "Amikor egy python scriptet futtatunk, a parancssor (amivel a futást indítottuk) a `sys` modul `argv` változójában érhető el."
      ]
    },
    {
      "cell_type": "code",
      "execution_count": null,
      "metadata": {
        "id": "OFqX6rKCikMT"
      },
      "outputs": [],
      "source": [
        "import sys\n",
        "sys.argv"
      ]
    },
    {
      "cell_type": "code",
      "execution_count": null,
      "metadata": {
        "id": "SY4pzLvWikMU"
      },
      "outputs": [],
      "source": [
        "! python -c 'import sys; print(sys.argv)' -alma\n"
      ]
    },
    {
      "cell_type": "markdown",
      "metadata": {
        "id": "ac33JNOhikMU"
      },
      "source": [
        "Egy nagyon egyszerű megoldás, ha minden opciónak a neve a paraméter amit beállít és egyenlőségjel után az értéke:\n",
        "pl. n=11 m=25 nstep=10 p=0.2"
      ]
    },
    {
      "cell_type": "code",
      "execution_count": null,
      "metadata": {
        "id": "GrXjh7dpikMU"
      },
      "outputs": [],
      "source": [
        "cmdline = \"conway.py -n=11 -m=25 -nstep=10 -p=0.2\"\n",
        "argv = cmdline.split()\n",
        "params =[param.split(\"=\") for param in argv[1:]]\n",
        "params"
      ]
    },
    {
      "cell_type": "markdown",
      "metadata": {
        "id": "0gDbbAVFikMU"
      },
      "source": [
        "Minden paraméterről tudni kellene, hogy milyen típusú!"
      ]
    },
    {
      "cell_type": "code",
      "execution_count": null,
      "metadata": {
        "id": "WkoqCsAfikMU"
      },
      "outputs": [],
      "source": [
        "param_types={'-n': int, '-m': int, '-nstep': int, '-p': float}\n",
        "params = {k.replace(\"-\",\"\"): param_types[k](v)  for k, v in (param.split(\"=\") for param in argv[1:])}\n",
        "params"
      ]
    },
    {
      "cell_type": "markdown",
      "metadata": {
        "id": "OxFPyfLTikMU"
      },
      "source": [
        "Ezek után a `main` függvényt a megadott paraméterekkel meg tudjuk hívni:\n",
        "\n",
        "```\n",
        "    main(**params)\n",
        "```\n",
        "Mi van a `default` értékekkel, `help`-pel stb.\n",
        "\n",
        "Ezeket mind meg tudnánk írni, de nem kell. Van kész megoldás `python`-ban.\n",
        "\n",
        "Az `argparse` könvytár mindent megcsinál, ami nekünk kell."
      ]
    },
    {
      "cell_type": "code",
      "execution_count": null,
      "metadata": {
        "id": "KzeX_rKCikMU"
      },
      "outputs": [],
      "source": [
        "import argparse\n",
        "\n",
        "help(argparse)"
      ]
    },
    {
      "cell_type": "markdown",
      "metadata": {
        "id": "0jku81_vikMV"
      },
      "source": [
        "A `conway.py` file végét cseréljük le erre.\n",
        "```python\n",
        "if __name__ == \"__main__\":\n",
        "    import argparse\n",
        "    \n",
        "    parser = argparse.ArgumentParser(description='Conways Game of Life')\n",
        "\n",
        "    parser.add_argument(\n",
        "        '-n', '--nrows',\n",
        "        type=int,\n",
        "        default=11,\n",
        "        help='number of rows'\n",
        "        )\n",
        "\n",
        "    parser.add_argument(\n",
        "        '-m', '--ncols',\n",
        "        type=int,\n",
        "        default=25,\n",
        "        help='number of columns'\n",
        "        )\n",
        "\n",
        "    parser.add_argument(\n",
        "        '-p', '--density',\n",
        "        type=float,\n",
        "        default=0.2,\n",
        "        help='initial density')\n",
        "    \n",
        "    parser.add_argument(\n",
        "        '--nsteps',\n",
        "        type=int,\n",
        "        default=10,\n",
        "        help='steps to display'\n",
        "        )\n",
        "\n",
        "    args = parser.parse_args()\n",
        "    print(args)\n",
        "    \n",
        "    main(n=args.ncols, m=args.nrows, p=args.density, nsteps=args.nsteps)\n",
        "```\n",
        "    "
      ]
    },
    {
      "cell_type": "code",
      "execution_count": null,
      "metadata": {
        "id": "MwPj3mGqikMV"
      },
      "outputs": [],
      "source": [
        "# import importlib\n",
        "# importlib.reload(conway)"
      ]
    },
    {
      "cell_type": "code",
      "execution_count": null,
      "metadata": {
        "id": "16lW7ZJ9ikMV"
      },
      "outputs": [],
      "source": [
        "import conway\n",
        "\n",
        "out1 = Output()\n",
        "display(out1)\n",
        "\n",
        "with out1:\n",
        "    conway.main(clear_screen=lambda n: out1.clear_output(True))"
      ]
    },
    {
      "cell_type": "markdown",
      "metadata": {
        "id": "Phwa_4-8ikMV"
      },
      "source": [
        "Az `argparse` könyvtár nem a legkényelmesebb. Alternatívák:\n",
        "\n",
        "- [Docopt](http://docopt.org/)\n",
        "- [Click](https://pypi.org/project/click/)\n",
        "- [clize](https://github.com/epsy/clize)\n",
        "\n",
        "és még sok másik is!"
      ]
    },
    {
      "cell_type": "markdown",
      "metadata": {
        "id": "MrWB0QqfikMV"
      },
      "source": [
        "## Itt is használhattunk volna dekorátort"
      ]
    },
    {
      "cell_type": "markdown",
      "metadata": {
        "id": "WQ1sCFo4ikMV"
      },
      "source": [
        "\n",
        "A `ConwayGoL` példában utólag adtunk metódusokat az osztályunkhoz. Ezt is megtehettük volna dekorátorral.  "
      ]
    },
    {
      "cell_type": "code",
      "execution_count": null,
      "metadata": {
        "id": "qw7QFMiRikMV"
      },
      "outputs": [],
      "source": [
        "def conway_method(f):\n",
        "    setattr(ConwayGoL, f.__name__, f)\n",
        "    return f\n",
        "\n",
        "\n",
        "@conway_method\n",
        "def dummy_method(self):\n",
        "    print(\"this is a message from the new method!\")\n",
        "\n",
        "c = ConwayGoL([], 0)\n",
        "c.dummy_method()"
      ]
    },
    {
      "cell_type": "markdown",
      "metadata": {
        "id": "oNKhkZ_dikMW"
      },
      "source": [
        "Azt is megtehettük volna, hogy a osztály nincs beleégetve a kódba."
      ]
    },
    {
      "cell_type": "code",
      "execution_count": null,
      "metadata": {
        "id": "9dLPlkd3ikMW"
      },
      "outputs": [],
      "source": [
        "def new_method(cls):\n",
        "    def decorator(f):\n",
        "        setattr(cls, f.__name__, f)\n",
        "        return f\n",
        "    return decorator\n",
        "\n",
        "@new_method(ConwayGoL)\n",
        "def dummy_method(self):\n",
        "    print(\"Note that the old value of dummy_method is overwritten!\")"
      ]
    },
    {
      "cell_type": "code",
      "execution_count": null,
      "metadata": {
        "id": "XslmRBKIikMW"
      },
      "outputs": [],
      "source": [
        "c.dummy_method()"
      ]
    }
  ],
  "metadata": {
    "kernelspec": {
      "display_name": "python3.10",
      "language": "python",
      "name": "python3"
    },
    "language_info": {
      "codemirror_mode": {
        "name": "ipython",
        "version": 3
      },
      "file_extension": ".py",
      "mimetype": "text/x-python",
      "name": "python",
      "nbconvert_exporter": "python",
      "pygments_lexer": "ipython3",
      "version": "3.10.12"
    },
    "colab": {
      "provenance": []
    },
    "widgets": {
      "application/vnd.jupyter.widget-state+json": {
        "97dcc9a25e2642c597100969d9c32277": {
          "model_module": "@jupyter-widgets/controls",
          "model_name": "HBoxModel",
          "model_module_version": "1.5.0",
          "state": {
            "_dom_classes": [],
            "_model_module": "@jupyter-widgets/controls",
            "_model_module_version": "1.5.0",
            "_model_name": "HBoxModel",
            "_view_count": null,
            "_view_module": "@jupyter-widgets/controls",
            "_view_module_version": "1.5.0",
            "_view_name": "HBoxView",
            "box_style": "",
            "children": [
              "IPY_MODEL_99e8f8649077415ca5d4e200456746a3",
              "IPY_MODEL_44a73be4b84042bf9a664a3f446b0732",
              "IPY_MODEL_4d1ebaabcbca4efe8169b32857254f2f"
            ],
            "layout": "IPY_MODEL_e78d8c1120b74799ad16fcc7fb22dbbc"
          }
        },
        "99e8f8649077415ca5d4e200456746a3": {
          "model_module": "@jupyter-widgets/controls",
          "model_name": "HTMLModel",
          "model_module_version": "1.5.0",
          "state": {
            "_dom_classes": [],
            "_model_module": "@jupyter-widgets/controls",
            "_model_module_version": "1.5.0",
            "_model_name": "HTMLModel",
            "_view_count": null,
            "_view_module": "@jupyter-widgets/controls",
            "_view_module_version": "1.5.0",
            "_view_name": "HTMLView",
            "description": "",
            "description_tooltip": null,
            "layout": "IPY_MODEL_1d9d05b83d874be09712b145008fe46c",
            "placeholder": "​",
            "style": "IPY_MODEL_b085755733e740e69121c9f6e0dd22c8",
            "value": "100%"
          }
        },
        "44a73be4b84042bf9a664a3f446b0732": {
          "model_module": "@jupyter-widgets/controls",
          "model_name": "FloatProgressModel",
          "model_module_version": "1.5.0",
          "state": {
            "_dom_classes": [],
            "_model_module": "@jupyter-widgets/controls",
            "_model_module_version": "1.5.0",
            "_model_name": "FloatProgressModel",
            "_view_count": null,
            "_view_module": "@jupyter-widgets/controls",
            "_view_module_version": "1.5.0",
            "_view_name": "ProgressView",
            "bar_style": "success",
            "description": "",
            "description_tooltip": null,
            "layout": "IPY_MODEL_f56f9fb682c642fda1dea76f12b8f926",
            "max": 50,
            "min": 0,
            "orientation": "horizontal",
            "style": "IPY_MODEL_e2fe7aef9e4542e38eaebe4ec662a6ba",
            "value": 50
          }
        },
        "4d1ebaabcbca4efe8169b32857254f2f": {
          "model_module": "@jupyter-widgets/controls",
          "model_name": "HTMLModel",
          "model_module_version": "1.5.0",
          "state": {
            "_dom_classes": [],
            "_model_module": "@jupyter-widgets/controls",
            "_model_module_version": "1.5.0",
            "_model_name": "HTMLModel",
            "_view_count": null,
            "_view_module": "@jupyter-widgets/controls",
            "_view_module_version": "1.5.0",
            "_view_name": "HTMLView",
            "description": "",
            "description_tooltip": null,
            "layout": "IPY_MODEL_71c2c66956f240fe8849e72aac941783",
            "placeholder": "​",
            "style": "IPY_MODEL_08374c1f8180407985aa188fd193afc8",
            "value": " 50/50 [00:00&lt;00:00, 140.13it/s]"
          }
        },
        "e78d8c1120b74799ad16fcc7fb22dbbc": {
          "model_module": "@jupyter-widgets/base",
          "model_name": "LayoutModel",
          "model_module_version": "1.2.0",
          "state": {
            "_model_module": "@jupyter-widgets/base",
            "_model_module_version": "1.2.0",
            "_model_name": "LayoutModel",
            "_view_count": null,
            "_view_module": "@jupyter-widgets/base",
            "_view_module_version": "1.2.0",
            "_view_name": "LayoutView",
            "align_content": null,
            "align_items": null,
            "align_self": null,
            "border": null,
            "bottom": null,
            "display": null,
            "flex": null,
            "flex_flow": null,
            "grid_area": null,
            "grid_auto_columns": null,
            "grid_auto_flow": null,
            "grid_auto_rows": null,
            "grid_column": null,
            "grid_gap": null,
            "grid_row": null,
            "grid_template_areas": null,
            "grid_template_columns": null,
            "grid_template_rows": null,
            "height": null,
            "justify_content": null,
            "justify_items": null,
            "left": null,
            "margin": null,
            "max_height": null,
            "max_width": null,
            "min_height": null,
            "min_width": null,
            "object_fit": null,
            "object_position": null,
            "order": null,
            "overflow": null,
            "overflow_x": null,
            "overflow_y": null,
            "padding": null,
            "right": null,
            "top": null,
            "visibility": null,
            "width": null
          }
        },
        "1d9d05b83d874be09712b145008fe46c": {
          "model_module": "@jupyter-widgets/base",
          "model_name": "LayoutModel",
          "model_module_version": "1.2.0",
          "state": {
            "_model_module": "@jupyter-widgets/base",
            "_model_module_version": "1.2.0",
            "_model_name": "LayoutModel",
            "_view_count": null,
            "_view_module": "@jupyter-widgets/base",
            "_view_module_version": "1.2.0",
            "_view_name": "LayoutView",
            "align_content": null,
            "align_items": null,
            "align_self": null,
            "border": null,
            "bottom": null,
            "display": null,
            "flex": null,
            "flex_flow": null,
            "grid_area": null,
            "grid_auto_columns": null,
            "grid_auto_flow": null,
            "grid_auto_rows": null,
            "grid_column": null,
            "grid_gap": null,
            "grid_row": null,
            "grid_template_areas": null,
            "grid_template_columns": null,
            "grid_template_rows": null,
            "height": null,
            "justify_content": null,
            "justify_items": null,
            "left": null,
            "margin": null,
            "max_height": null,
            "max_width": null,
            "min_height": null,
            "min_width": null,
            "object_fit": null,
            "object_position": null,
            "order": null,
            "overflow": null,
            "overflow_x": null,
            "overflow_y": null,
            "padding": null,
            "right": null,
            "top": null,
            "visibility": null,
            "width": null
          }
        },
        "b085755733e740e69121c9f6e0dd22c8": {
          "model_module": "@jupyter-widgets/controls",
          "model_name": "DescriptionStyleModel",
          "model_module_version": "1.5.0",
          "state": {
            "_model_module": "@jupyter-widgets/controls",
            "_model_module_version": "1.5.0",
            "_model_name": "DescriptionStyleModel",
            "_view_count": null,
            "_view_module": "@jupyter-widgets/base",
            "_view_module_version": "1.2.0",
            "_view_name": "StyleView",
            "description_width": ""
          }
        },
        "f56f9fb682c642fda1dea76f12b8f926": {
          "model_module": "@jupyter-widgets/base",
          "model_name": "LayoutModel",
          "model_module_version": "1.2.0",
          "state": {
            "_model_module": "@jupyter-widgets/base",
            "_model_module_version": "1.2.0",
            "_model_name": "LayoutModel",
            "_view_count": null,
            "_view_module": "@jupyter-widgets/base",
            "_view_module_version": "1.2.0",
            "_view_name": "LayoutView",
            "align_content": null,
            "align_items": null,
            "align_self": null,
            "border": null,
            "bottom": null,
            "display": null,
            "flex": null,
            "flex_flow": null,
            "grid_area": null,
            "grid_auto_columns": null,
            "grid_auto_flow": null,
            "grid_auto_rows": null,
            "grid_column": null,
            "grid_gap": null,
            "grid_row": null,
            "grid_template_areas": null,
            "grid_template_columns": null,
            "grid_template_rows": null,
            "height": null,
            "justify_content": null,
            "justify_items": null,
            "left": null,
            "margin": null,
            "max_height": null,
            "max_width": null,
            "min_height": null,
            "min_width": null,
            "object_fit": null,
            "object_position": null,
            "order": null,
            "overflow": null,
            "overflow_x": null,
            "overflow_y": null,
            "padding": null,
            "right": null,
            "top": null,
            "visibility": null,
            "width": null
          }
        },
        "e2fe7aef9e4542e38eaebe4ec662a6ba": {
          "model_module": "@jupyter-widgets/controls",
          "model_name": "ProgressStyleModel",
          "model_module_version": "1.5.0",
          "state": {
            "_model_module": "@jupyter-widgets/controls",
            "_model_module_version": "1.5.0",
            "_model_name": "ProgressStyleModel",
            "_view_count": null,
            "_view_module": "@jupyter-widgets/base",
            "_view_module_version": "1.2.0",
            "_view_name": "StyleView",
            "bar_color": null,
            "description_width": ""
          }
        },
        "71c2c66956f240fe8849e72aac941783": {
          "model_module": "@jupyter-widgets/base",
          "model_name": "LayoutModel",
          "model_module_version": "1.2.0",
          "state": {
            "_model_module": "@jupyter-widgets/base",
            "_model_module_version": "1.2.0",
            "_model_name": "LayoutModel",
            "_view_count": null,
            "_view_module": "@jupyter-widgets/base",
            "_view_module_version": "1.2.0",
            "_view_name": "LayoutView",
            "align_content": null,
            "align_items": null,
            "align_self": null,
            "border": null,
            "bottom": null,
            "display": null,
            "flex": null,
            "flex_flow": null,
            "grid_area": null,
            "grid_auto_columns": null,
            "grid_auto_flow": null,
            "grid_auto_rows": null,
            "grid_column": null,
            "grid_gap": null,
            "grid_row": null,
            "grid_template_areas": null,
            "grid_template_columns": null,
            "grid_template_rows": null,
            "height": null,
            "justify_content": null,
            "justify_items": null,
            "left": null,
            "margin": null,
            "max_height": null,
            "max_width": null,
            "min_height": null,
            "min_width": null,
            "object_fit": null,
            "object_position": null,
            "order": null,
            "overflow": null,
            "overflow_x": null,
            "overflow_y": null,
            "padding": null,
            "right": null,
            "top": null,
            "visibility": null,
            "width": null
          }
        },
        "08374c1f8180407985aa188fd193afc8": {
          "model_module": "@jupyter-widgets/controls",
          "model_name": "DescriptionStyleModel",
          "model_module_version": "1.5.0",
          "state": {
            "_model_module": "@jupyter-widgets/controls",
            "_model_module_version": "1.5.0",
            "_model_name": "DescriptionStyleModel",
            "_view_count": null,
            "_view_module": "@jupyter-widgets/base",
            "_view_module_version": "1.2.0",
            "_view_name": "StyleView",
            "description_width": ""
          }
        },
        "ff5a28d791c2405691bf410748dce247": {
          "model_module": "@jupyter-widgets/controls",
          "model_name": "HBoxModel",
          "model_module_version": "1.5.0",
          "state": {
            "_dom_classes": [],
            "_model_module": "@jupyter-widgets/controls",
            "_model_module_version": "1.5.0",
            "_model_name": "HBoxModel",
            "_view_count": null,
            "_view_module": "@jupyter-widgets/controls",
            "_view_module_version": "1.5.0",
            "_view_name": "HBoxView",
            "box_style": "",
            "children": [
              "IPY_MODEL_d5bad80378de42e3a6a330a20fa5b99c",
              "IPY_MODEL_b0954af05b6d436ab335eda6794042e9",
              "IPY_MODEL_f07c3ee4026d4b0a84fac6ec05f5fb59"
            ],
            "layout": "IPY_MODEL_bb2bde9922124042bb1604215a82e96f"
          }
        },
        "d5bad80378de42e3a6a330a20fa5b99c": {
          "model_module": "@jupyter-widgets/controls",
          "model_name": "HTMLModel",
          "model_module_version": "1.5.0",
          "state": {
            "_dom_classes": [],
            "_model_module": "@jupyter-widgets/controls",
            "_model_module_version": "1.5.0",
            "_model_name": "HTMLModel",
            "_view_count": null,
            "_view_module": "@jupyter-widgets/controls",
            "_view_module_version": "1.5.0",
            "_view_name": "HTMLView",
            "description": "",
            "description_tooltip": null,
            "layout": "IPY_MODEL_3497c2c4c4934b73bd21e1f5995a2451",
            "placeholder": "​",
            "style": "IPY_MODEL_eaa707f3a54e41ae8e80d3d2e252f45e",
            "value": "100%"
          }
        },
        "b0954af05b6d436ab335eda6794042e9": {
          "model_module": "@jupyter-widgets/controls",
          "model_name": "FloatProgressModel",
          "model_module_version": "1.5.0",
          "state": {
            "_dom_classes": [],
            "_model_module": "@jupyter-widgets/controls",
            "_model_module_version": "1.5.0",
            "_model_name": "FloatProgressModel",
            "_view_count": null,
            "_view_module": "@jupyter-widgets/controls",
            "_view_module_version": "1.5.0",
            "_view_name": "ProgressView",
            "bar_style": "success",
            "description": "",
            "description_tooltip": null,
            "layout": "IPY_MODEL_09d4a0dc1700460795a992c9402ef1a3",
            "max": 50,
            "min": 0,
            "orientation": "horizontal",
            "style": "IPY_MODEL_de4c2ea44ae84930b328bf393dae70a3",
            "value": 50
          }
        },
        "f07c3ee4026d4b0a84fac6ec05f5fb59": {
          "model_module": "@jupyter-widgets/controls",
          "model_name": "HTMLModel",
          "model_module_version": "1.5.0",
          "state": {
            "_dom_classes": [],
            "_model_module": "@jupyter-widgets/controls",
            "_model_module_version": "1.5.0",
            "_model_name": "HTMLModel",
            "_view_count": null,
            "_view_module": "@jupyter-widgets/controls",
            "_view_module_version": "1.5.0",
            "_view_name": "HTMLView",
            "description": "",
            "description_tooltip": null,
            "layout": "IPY_MODEL_3141b8c5a44743178ec7dcaa56fe219a",
            "placeholder": "​",
            "style": "IPY_MODEL_423c6f1393c04033b537e9fad8d08ef5",
            "value": " 50/50 [00:00&lt;00:00, 191.03it/s]"
          }
        },
        "bb2bde9922124042bb1604215a82e96f": {
          "model_module": "@jupyter-widgets/base",
          "model_name": "LayoutModel",
          "model_module_version": "1.2.0",
          "state": {
            "_model_module": "@jupyter-widgets/base",
            "_model_module_version": "1.2.0",
            "_model_name": "LayoutModel",
            "_view_count": null,
            "_view_module": "@jupyter-widgets/base",
            "_view_module_version": "1.2.0",
            "_view_name": "LayoutView",
            "align_content": null,
            "align_items": null,
            "align_self": null,
            "border": null,
            "bottom": null,
            "display": null,
            "flex": null,
            "flex_flow": null,
            "grid_area": null,
            "grid_auto_columns": null,
            "grid_auto_flow": null,
            "grid_auto_rows": null,
            "grid_column": null,
            "grid_gap": null,
            "grid_row": null,
            "grid_template_areas": null,
            "grid_template_columns": null,
            "grid_template_rows": null,
            "height": null,
            "justify_content": null,
            "justify_items": null,
            "left": null,
            "margin": null,
            "max_height": null,
            "max_width": null,
            "min_height": null,
            "min_width": null,
            "object_fit": null,
            "object_position": null,
            "order": null,
            "overflow": null,
            "overflow_x": null,
            "overflow_y": null,
            "padding": null,
            "right": null,
            "top": null,
            "visibility": null,
            "width": null
          }
        },
        "3497c2c4c4934b73bd21e1f5995a2451": {
          "model_module": "@jupyter-widgets/base",
          "model_name": "LayoutModel",
          "model_module_version": "1.2.0",
          "state": {
            "_model_module": "@jupyter-widgets/base",
            "_model_module_version": "1.2.0",
            "_model_name": "LayoutModel",
            "_view_count": null,
            "_view_module": "@jupyter-widgets/base",
            "_view_module_version": "1.2.0",
            "_view_name": "LayoutView",
            "align_content": null,
            "align_items": null,
            "align_self": null,
            "border": null,
            "bottom": null,
            "display": null,
            "flex": null,
            "flex_flow": null,
            "grid_area": null,
            "grid_auto_columns": null,
            "grid_auto_flow": null,
            "grid_auto_rows": null,
            "grid_column": null,
            "grid_gap": null,
            "grid_row": null,
            "grid_template_areas": null,
            "grid_template_columns": null,
            "grid_template_rows": null,
            "height": null,
            "justify_content": null,
            "justify_items": null,
            "left": null,
            "margin": null,
            "max_height": null,
            "max_width": null,
            "min_height": null,
            "min_width": null,
            "object_fit": null,
            "object_position": null,
            "order": null,
            "overflow": null,
            "overflow_x": null,
            "overflow_y": null,
            "padding": null,
            "right": null,
            "top": null,
            "visibility": null,
            "width": null
          }
        },
        "eaa707f3a54e41ae8e80d3d2e252f45e": {
          "model_module": "@jupyter-widgets/controls",
          "model_name": "DescriptionStyleModel",
          "model_module_version": "1.5.0",
          "state": {
            "_model_module": "@jupyter-widgets/controls",
            "_model_module_version": "1.5.0",
            "_model_name": "DescriptionStyleModel",
            "_view_count": null,
            "_view_module": "@jupyter-widgets/base",
            "_view_module_version": "1.2.0",
            "_view_name": "StyleView",
            "description_width": ""
          }
        },
        "09d4a0dc1700460795a992c9402ef1a3": {
          "model_module": "@jupyter-widgets/base",
          "model_name": "LayoutModel",
          "model_module_version": "1.2.0",
          "state": {
            "_model_module": "@jupyter-widgets/base",
            "_model_module_version": "1.2.0",
            "_model_name": "LayoutModel",
            "_view_count": null,
            "_view_module": "@jupyter-widgets/base",
            "_view_module_version": "1.2.0",
            "_view_name": "LayoutView",
            "align_content": null,
            "align_items": null,
            "align_self": null,
            "border": null,
            "bottom": null,
            "display": null,
            "flex": null,
            "flex_flow": null,
            "grid_area": null,
            "grid_auto_columns": null,
            "grid_auto_flow": null,
            "grid_auto_rows": null,
            "grid_column": null,
            "grid_gap": null,
            "grid_row": null,
            "grid_template_areas": null,
            "grid_template_columns": null,
            "grid_template_rows": null,
            "height": null,
            "justify_content": null,
            "justify_items": null,
            "left": null,
            "margin": null,
            "max_height": null,
            "max_width": null,
            "min_height": null,
            "min_width": null,
            "object_fit": null,
            "object_position": null,
            "order": null,
            "overflow": null,
            "overflow_x": null,
            "overflow_y": null,
            "padding": null,
            "right": null,
            "top": null,
            "visibility": null,
            "width": null
          }
        },
        "de4c2ea44ae84930b328bf393dae70a3": {
          "model_module": "@jupyter-widgets/controls",
          "model_name": "ProgressStyleModel",
          "model_module_version": "1.5.0",
          "state": {
            "_model_module": "@jupyter-widgets/controls",
            "_model_module_version": "1.5.0",
            "_model_name": "ProgressStyleModel",
            "_view_count": null,
            "_view_module": "@jupyter-widgets/base",
            "_view_module_version": "1.2.0",
            "_view_name": "StyleView",
            "bar_color": null,
            "description_width": ""
          }
        },
        "3141b8c5a44743178ec7dcaa56fe219a": {
          "model_module": "@jupyter-widgets/base",
          "model_name": "LayoutModel",
          "model_module_version": "1.2.0",
          "state": {
            "_model_module": "@jupyter-widgets/base",
            "_model_module_version": "1.2.0",
            "_model_name": "LayoutModel",
            "_view_count": null,
            "_view_module": "@jupyter-widgets/base",
            "_view_module_version": "1.2.0",
            "_view_name": "LayoutView",
            "align_content": null,
            "align_items": null,
            "align_self": null,
            "border": null,
            "bottom": null,
            "display": null,
            "flex": null,
            "flex_flow": null,
            "grid_area": null,
            "grid_auto_columns": null,
            "grid_auto_flow": null,
            "grid_auto_rows": null,
            "grid_column": null,
            "grid_gap": null,
            "grid_row": null,
            "grid_template_areas": null,
            "grid_template_columns": null,
            "grid_template_rows": null,
            "height": null,
            "justify_content": null,
            "justify_items": null,
            "left": null,
            "margin": null,
            "max_height": null,
            "max_width": null,
            "min_height": null,
            "min_width": null,
            "object_fit": null,
            "object_position": null,
            "order": null,
            "overflow": null,
            "overflow_x": null,
            "overflow_y": null,
            "padding": null,
            "right": null,
            "top": null,
            "visibility": null,
            "width": null
          }
        },
        "423c6f1393c04033b537e9fad8d08ef5": {
          "model_module": "@jupyter-widgets/controls",
          "model_name": "DescriptionStyleModel",
          "model_module_version": "1.5.0",
          "state": {
            "_model_module": "@jupyter-widgets/controls",
            "_model_module_version": "1.5.0",
            "_model_name": "DescriptionStyleModel",
            "_view_count": null,
            "_view_module": "@jupyter-widgets/base",
            "_view_module_version": "1.2.0",
            "_view_name": "StyleView",
            "description_width": ""
          }
        },
        "a222c415853c4af3b0db5cb3fb5a7f3a": {
          "model_module": "@jupyter-widgets/controls",
          "model_name": "HBoxModel",
          "model_module_version": "1.5.0",
          "state": {
            "_dom_classes": [],
            "_model_module": "@jupyter-widgets/controls",
            "_model_module_version": "1.5.0",
            "_model_name": "HBoxModel",
            "_view_count": null,
            "_view_module": "@jupyter-widgets/controls",
            "_view_module_version": "1.5.0",
            "_view_name": "HBoxView",
            "box_style": "",
            "children": [
              "IPY_MODEL_5b3e0ffc747848c6ad4fee18ce6e3ab8",
              "IPY_MODEL_0394bb02149f4e9cac4e507b2f65a13d",
              "IPY_MODEL_276f110b2036416682aca0c0290b70d8"
            ],
            "layout": "IPY_MODEL_647d02b1c2744942bfe0071da2ac5a55"
          }
        },
        "5b3e0ffc747848c6ad4fee18ce6e3ab8": {
          "model_module": "@jupyter-widgets/controls",
          "model_name": "HTMLModel",
          "model_module_version": "1.5.0",
          "state": {
            "_dom_classes": [],
            "_model_module": "@jupyter-widgets/controls",
            "_model_module_version": "1.5.0",
            "_model_name": "HTMLModel",
            "_view_count": null,
            "_view_module": "@jupyter-widgets/controls",
            "_view_module_version": "1.5.0",
            "_view_name": "HTMLView",
            "description": "",
            "description_tooltip": null,
            "layout": "IPY_MODEL_af6268b6c63f419fa289e9e891087969",
            "placeholder": "​",
            "style": "IPY_MODEL_9298e3c3468e4a668ed061358b5bbc9d",
            "value": "100%"
          }
        },
        "0394bb02149f4e9cac4e507b2f65a13d": {
          "model_module": "@jupyter-widgets/controls",
          "model_name": "FloatProgressModel",
          "model_module_version": "1.5.0",
          "state": {
            "_dom_classes": [],
            "_model_module": "@jupyter-widgets/controls",
            "_model_module_version": "1.5.0",
            "_model_name": "FloatProgressModel",
            "_view_count": null,
            "_view_module": "@jupyter-widgets/controls",
            "_view_module_version": "1.5.0",
            "_view_name": "ProgressView",
            "bar_style": "success",
            "description": "",
            "description_tooltip": null,
            "layout": "IPY_MODEL_d92c6d9603e646a39f355be73ee3b7ba",
            "max": 50,
            "min": 0,
            "orientation": "horizontal",
            "style": "IPY_MODEL_87af2ed9928b4c33ac44cbf89ab0cb2a",
            "value": 50
          }
        },
        "276f110b2036416682aca0c0290b70d8": {
          "model_module": "@jupyter-widgets/controls",
          "model_name": "HTMLModel",
          "model_module_version": "1.5.0",
          "state": {
            "_dom_classes": [],
            "_model_module": "@jupyter-widgets/controls",
            "_model_module_version": "1.5.0",
            "_model_name": "HTMLModel",
            "_view_count": null,
            "_view_module": "@jupyter-widgets/controls",
            "_view_module_version": "1.5.0",
            "_view_name": "HTMLView",
            "description": "",
            "description_tooltip": null,
            "layout": "IPY_MODEL_b994592ded704918a9f810d5da80ba6b",
            "placeholder": "​",
            "style": "IPY_MODEL_9d6563fde66d4427868f7690127f7cfd",
            "value": " 50/50 [00:07&lt;00:00,  3.79it/s]"
          }
        },
        "647d02b1c2744942bfe0071da2ac5a55": {
          "model_module": "@jupyter-widgets/base",
          "model_name": "LayoutModel",
          "model_module_version": "1.2.0",
          "state": {
            "_model_module": "@jupyter-widgets/base",
            "_model_module_version": "1.2.0",
            "_model_name": "LayoutModel",
            "_view_count": null,
            "_view_module": "@jupyter-widgets/base",
            "_view_module_version": "1.2.0",
            "_view_name": "LayoutView",
            "align_content": null,
            "align_items": null,
            "align_self": null,
            "border": null,
            "bottom": null,
            "display": null,
            "flex": null,
            "flex_flow": null,
            "grid_area": null,
            "grid_auto_columns": null,
            "grid_auto_flow": null,
            "grid_auto_rows": null,
            "grid_column": null,
            "grid_gap": null,
            "grid_row": null,
            "grid_template_areas": null,
            "grid_template_columns": null,
            "grid_template_rows": null,
            "height": null,
            "justify_content": null,
            "justify_items": null,
            "left": null,
            "margin": null,
            "max_height": null,
            "max_width": null,
            "min_height": null,
            "min_width": null,
            "object_fit": null,
            "object_position": null,
            "order": null,
            "overflow": null,
            "overflow_x": null,
            "overflow_y": null,
            "padding": null,
            "right": null,
            "top": null,
            "visibility": null,
            "width": null
          }
        },
        "af6268b6c63f419fa289e9e891087969": {
          "model_module": "@jupyter-widgets/base",
          "model_name": "LayoutModel",
          "model_module_version": "1.2.0",
          "state": {
            "_model_module": "@jupyter-widgets/base",
            "_model_module_version": "1.2.0",
            "_model_name": "LayoutModel",
            "_view_count": null,
            "_view_module": "@jupyter-widgets/base",
            "_view_module_version": "1.2.0",
            "_view_name": "LayoutView",
            "align_content": null,
            "align_items": null,
            "align_self": null,
            "border": null,
            "bottom": null,
            "display": null,
            "flex": null,
            "flex_flow": null,
            "grid_area": null,
            "grid_auto_columns": null,
            "grid_auto_flow": null,
            "grid_auto_rows": null,
            "grid_column": null,
            "grid_gap": null,
            "grid_row": null,
            "grid_template_areas": null,
            "grid_template_columns": null,
            "grid_template_rows": null,
            "height": null,
            "justify_content": null,
            "justify_items": null,
            "left": null,
            "margin": null,
            "max_height": null,
            "max_width": null,
            "min_height": null,
            "min_width": null,
            "object_fit": null,
            "object_position": null,
            "order": null,
            "overflow": null,
            "overflow_x": null,
            "overflow_y": null,
            "padding": null,
            "right": null,
            "top": null,
            "visibility": null,
            "width": null
          }
        },
        "9298e3c3468e4a668ed061358b5bbc9d": {
          "model_module": "@jupyter-widgets/controls",
          "model_name": "DescriptionStyleModel",
          "model_module_version": "1.5.0",
          "state": {
            "_model_module": "@jupyter-widgets/controls",
            "_model_module_version": "1.5.0",
            "_model_name": "DescriptionStyleModel",
            "_view_count": null,
            "_view_module": "@jupyter-widgets/base",
            "_view_module_version": "1.2.0",
            "_view_name": "StyleView",
            "description_width": ""
          }
        },
        "d92c6d9603e646a39f355be73ee3b7ba": {
          "model_module": "@jupyter-widgets/base",
          "model_name": "LayoutModel",
          "model_module_version": "1.2.0",
          "state": {
            "_model_module": "@jupyter-widgets/base",
            "_model_module_version": "1.2.0",
            "_model_name": "LayoutModel",
            "_view_count": null,
            "_view_module": "@jupyter-widgets/base",
            "_view_module_version": "1.2.0",
            "_view_name": "LayoutView",
            "align_content": null,
            "align_items": null,
            "align_self": null,
            "border": null,
            "bottom": null,
            "display": null,
            "flex": null,
            "flex_flow": null,
            "grid_area": null,
            "grid_auto_columns": null,
            "grid_auto_flow": null,
            "grid_auto_rows": null,
            "grid_column": null,
            "grid_gap": null,
            "grid_row": null,
            "grid_template_areas": null,
            "grid_template_columns": null,
            "grid_template_rows": null,
            "height": null,
            "justify_content": null,
            "justify_items": null,
            "left": null,
            "margin": null,
            "max_height": null,
            "max_width": null,
            "min_height": null,
            "min_width": null,
            "object_fit": null,
            "object_position": null,
            "order": null,
            "overflow": null,
            "overflow_x": null,
            "overflow_y": null,
            "padding": null,
            "right": null,
            "top": null,
            "visibility": null,
            "width": null
          }
        },
        "87af2ed9928b4c33ac44cbf89ab0cb2a": {
          "model_module": "@jupyter-widgets/controls",
          "model_name": "ProgressStyleModel",
          "model_module_version": "1.5.0",
          "state": {
            "_model_module": "@jupyter-widgets/controls",
            "_model_module_version": "1.5.0",
            "_model_name": "ProgressStyleModel",
            "_view_count": null,
            "_view_module": "@jupyter-widgets/base",
            "_view_module_version": "1.2.0",
            "_view_name": "StyleView",
            "bar_color": null,
            "description_width": ""
          }
        },
        "b994592ded704918a9f810d5da80ba6b": {
          "model_module": "@jupyter-widgets/base",
          "model_name": "LayoutModel",
          "model_module_version": "1.2.0",
          "state": {
            "_model_module": "@jupyter-widgets/base",
            "_model_module_version": "1.2.0",
            "_model_name": "LayoutModel",
            "_view_count": null,
            "_view_module": "@jupyter-widgets/base",
            "_view_module_version": "1.2.0",
            "_view_name": "LayoutView",
            "align_content": null,
            "align_items": null,
            "align_self": null,
            "border": null,
            "bottom": null,
            "display": null,
            "flex": null,
            "flex_flow": null,
            "grid_area": null,
            "grid_auto_columns": null,
            "grid_auto_flow": null,
            "grid_auto_rows": null,
            "grid_column": null,
            "grid_gap": null,
            "grid_row": null,
            "grid_template_areas": null,
            "grid_template_columns": null,
            "grid_template_rows": null,
            "height": null,
            "justify_content": null,
            "justify_items": null,
            "left": null,
            "margin": null,
            "max_height": null,
            "max_width": null,
            "min_height": null,
            "min_width": null,
            "object_fit": null,
            "object_position": null,
            "order": null,
            "overflow": null,
            "overflow_x": null,
            "overflow_y": null,
            "padding": null,
            "right": null,
            "top": null,
            "visibility": null,
            "width": null
          }
        },
        "9d6563fde66d4427868f7690127f7cfd": {
          "model_module": "@jupyter-widgets/controls",
          "model_name": "DescriptionStyleModel",
          "model_module_version": "1.5.0",
          "state": {
            "_model_module": "@jupyter-widgets/controls",
            "_model_module_version": "1.5.0",
            "_model_name": "DescriptionStyleModel",
            "_view_count": null,
            "_view_module": "@jupyter-widgets/base",
            "_view_module_version": "1.2.0",
            "_view_name": "StyleView",
            "description_width": ""
          }
        }
      }
    }
  },
  "nbformat": 4,
  "nbformat_minor": 0
}