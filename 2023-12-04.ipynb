{
 "cells": [
  {
   "cell_type": "markdown",
   "metadata": {},
   "source": [
    "[![Open In Colab](https://colab.research.google.com/assets/colab-badge.svg)](https://colab.research.google.com/github/prokaj/elte-python-2023/blob/main/2023-12-04.ipynb)   "
   ]
  },
  {
   "cell_type": "markdown",
   "metadata": {},
   "source": [
    "Néhány import amit később használni fogunk:"
   ]
  },
  {
   "cell_type": "code",
   "execution_count": null,
   "metadata": {},
   "outputs": [],
   "source": [
    "import importlib\n",
    "import math\n",
    "import graphviz\n",
    "import matplotlib.pyplot as plt\n",
    "from pprint import pprint\n",
    "from tqdm.auto import tqdm\n",
    "import itertools\n",
    "\n",
    "from IPython.display import SVG, Image, display_html\n",
    "\n",
    "if importlib.util.find_spec('pycosat') is None:\n",
    "    ! pip install --quiet pycosat\n",
    "\n",
    "if importlib.util.find_spec('ipytest') is None:\n",
    "    ! pip install --quiet ipytest\n",
    "\n",
    "import ipytest\n",
    "\n",
    "ipytest.autoconfig()"
   ]
  },
  {
   "cell_type": "markdown",
   "metadata": {},
   "source": [
    "# Házi feladat"
   ]
  },
  {
   "cell_type": "markdown",
   "metadata": {},
   "source": [
    "##### Polygon osztály további metódusai.\n",
    "\n",
    "A gyakorlaton látott Polygon osztályt egészítsük ki egy is_inner metódussal, ami egy tetszőleges síkbeli pontról eldönti, hogy a polygon belsejében van-e (a visszatérési érték bool típusú, True vagy False).\n",
    "\n",
    "Egy egyszerű algoritmus ennek eldöntésére a következő. Indítsunk ki egy félegyenest az adott pontból. Számoljuk meg, hogy hányszor metszi a polygont. Mivel a félegyenes ,,vége” a polygon külsejéhez tartozik és minden átmetszéssel egyik oldalról átkerülünk a másik oldalra ezért a metszések számának paritása megadja, hogy melyik oldalon vagyunk. Amire oda kell figyelni az az, hogy ha félegyenes tartalmazza valamelyik élet, akkor a fenti érvelés nem korrekt!\n",
    "\n",
    "Egy másik lehetőség, a körülfordulási szám számolása. Itt az ötlet az, hogy minden élre számoljuk ki, mekkora szög alatt látszik és ezeket a szögeket előjelesen adjuk össze. Az eredmény a teljes szög többszöröse, a hányados a körülfordulási szám. Ha a töröttvonal nem kerüli meg a pontot akkor a külsőben vagyunk, ha egyszer kerüli meg, akkor a belsőben. Ha a töröttvonal polygon, akkor más lehetőség nincs.\n",
    "\n",
    "Emellett implementáljuk az is_polygon metódust, ami ellenőrzi, hogy a polygon csúcsai között nincsennek ismétlődések és a különböző élek nem metszik egymást belső pontban. Az __init__ metódus egészítsük ki ellenőrzéssel, ha a kapott csúcs sorozatot nem tekinthető polygonnak dobjon hibát!\n",
    "\n",
    "Ellenőrzésképpen készítsünk néhány polygont, legyen köztük konvex és nem konvex is és rajzoljuk a Polygon típus draw metódusával. Az ábra tartalmazzon egy választott pontot a belőle kiinduló félegyenes alkalmas darabjával és a metszéspontokkal.\n"
   ]
  },
  {
   "cell_type": "code",
   "execution_count": null,
   "metadata": {},
   "outputs": [],
   "source": [
    "import math\n",
    "import numpy as np\n",
    "from itertools import cycle\n",
    "import matplotlib.pyplot as plt\n"
   ]
  },
  {
   "cell_type": "code",
   "execution_count": null,
   "metadata": {},
   "outputs": [],
   "source": [
    "\n",
    "class Point(np.ndarray):\n",
    "    def __new__(cls, point):\n",
    "        point = np.asarray(point)\n",
    "        assert point.shape[-1] == 2\n",
    "        return point.view(cls)\n",
    "    \n",
    "    def __repr__(self):\n",
    "        if self.ndim > 1:\n",
    "            return \"Array of Points\" \n",
    "        else:\n",
    "            a, b =  self\n",
    "        return f\"Point{(a,b)}\"\n",
    "\n",
    "Vec = Point"
   ]
  },
  {
   "cell_type": "code",
   "execution_count": null,
   "metadata": {},
   "outputs": [],
   "source": [
    "class Line:\n",
    "    def __init__(self, P1, P2):\n",
    "        self.P1, self.P2 = Point(P1), Point(P2)\n",
    "        \n",
    "    def p_v(self):\n",
    "        return self.P1, self.P2-self.P1\n",
    "\n",
    "    def is_parallel(self, other) -> bool:\n",
    "        v0 = self.P2-self.P1\n",
    "        v1 = other.P2-other.P1 \n",
    "        return np.linalg.det(np.stack((v0, v1))) == 0\n",
    "\n",
    "    def intersection(self, other):\n",
    "        p0, v0 = self.p_v()\n",
    "        p1, v1 = other.p_v()\n",
    "        if (rotate90(v0)*v1).sum() != 0:\n",
    "            A = np.stack((v0, v1), axis=-1)\n",
    "            x = p1-p0\n",
    "            t, s = np.linalg.solve(A, x)\n",
    "            return t\n",
    "        else:\n",
    "            return np.inf\n",
    "    \n",
    "    def side(self, points):\n",
    "        p0, v0 = self.p_v()\n",
    "        n = rotate90(v0)\n",
    "        side = (np.array(points)-p0) @ n\n",
    "        if (side>=0).all():\n",
    "            return 1\n",
    "        if (side<=0).all():\n",
    "            return -1\n",
    "        else:\n",
    "            return 0\n",
    "\n",
    "    def point(self, t):\n",
    "        p, v = self.p_v()\n",
    "        return Point(p+t*v)\n",
    "\n",
    "    def __str__(self):\n",
    "        return f\"Line{self.P1}-{self.P2}\"\n",
    "    \n",
    "    def __repr__(self):\n",
    "        return str(self)\n"
   ]
  },
  {
   "cell_type": "code",
   "execution_count": null,
   "metadata": {},
   "outputs": [],
   "source": [
    "def rotate90(x):\n",
    "    return np.flip(x, -1)*np.array([-1, 1])\n"
   ]
  },
  {
   "cell_type": "code",
   "execution_count": null,
   "metadata": {},
   "outputs": [],
   "source": [
    "class Polygon:\n",
    "\n",
    "    def __init__(self, nodes):\n",
    "        self.nodes = list(Point(node) for node in nodes)\n",
    "        is_poly = self.is_polygon()\n",
    "        if not is_poly:\n",
    "            raise ValueError(is_poly.message)\n",
    "\n",
    "    def area(self):\n",
    "        nodes = np.array(self.nodes)\n",
    "        nodes = nodes-nodes[0]\n",
    "        area = 0\n",
    "        for v1, v2 in zip(nodes[1:], nodes[2:]):\n",
    "            area += v1[0]*v2[1]-v1[1]*v2[0]\n",
    "        return abs(area)/2\n",
    "        \n",
    "    def perimeter(self):\n",
    "        total = 0\n",
    "        p0 = self.nodes[-1]\n",
    "        for p in self.nodes:\n",
    "            total += np.linalg.norm(p-p0)\n",
    "            p0 = p\n",
    "        return total\n",
    "\n",
    "    def is_convex(self):\n",
    "        nodes = np.array(self.nodes + self.nodes[:1])\n",
    "        edges = np.diff(nodes, axis=0)\n",
    "        idx = np.array([i%len(edges) for i in range(1, len(edges)+1)])\n",
    "        edges1 = edges[idx]\n",
    "        sgn = (rotate90(edges) * edges1).sum(axis=1)\n",
    "        return (min(sgn)*max(sgn)>=0)\n",
    "\n",
    "    def draw(self,  *args, fill=False, **kwargs):\n",
    "        nodes = self.nodes + self.nodes[:1]\n",
    "        x, y = np.array(nodes).T\n",
    "        if fill:\n",
    "            plt.fill(x, y, alpha=0.5)\n",
    "        plt.plot(x, y, *args, **kwargs)\n",
    "        plt.axis('equal')\n",
    "\n",
    "    def __repr__(self):\n",
    "        return f'{type(self).__name__}({[tuple(x) for x in self.nodes]})'\n",
    "\n"
   ]
  },
  {
   "cell_type": "code",
   "execution_count": null,
   "metadata": {},
   "outputs": [],
   "source": [
    "class Rectangle(Polygon):\n",
    "\n",
    "    def __init__(self, P1, P2, r):\n",
    "        \"\"\"\n",
    "        P1, P2 froms an edge and r is the ratio of edge lengths.\n",
    "\n",
    "        Assuming that e is P1P2 rotated counterclockwise by 90 degree\n",
    "        the vertices are:\n",
    "        P1, P2, P2+r*e, P1+r*e\n",
    "        \"\"\"\n",
    "        P1, P2 = Point(P1), Point(P2)\n",
    "        v = rotate90(P2-P1)*r\n",
    "        super(Rectangle, self).__init__([P1, P2, P2+v, P1+v])\n",
    "\n",
    "\n",
    "class Square(Rectangle):\n",
    "\n",
    "    def __init__(self, P1, P2):\n",
    "        super(Square, self).__init__(P1, P2, 1)\n"
   ]
  },
  {
   "cell_type": "code",
   "execution_count": null,
   "metadata": {},
   "outputs": [],
   "source": [
    "def edge_lines(polygon):\n",
    "    nodes = polygon.nodes\n",
    "    p0 = nodes[-1]\n",
    "    for p1 in nodes:\n",
    "        yield Line(p0, p1)\n",
    "        p0 = p1\n",
    "\n",
    "    \n",
    "def is_inner_a(polygon, point, return_points=False):\n",
    "    edges = list(edge_lines(polygon))\n",
    "    while True:\n",
    "        line = Line(point, np.random.normal(size=2))\n",
    "        \n",
    "        while any(line.is_parallel(edge) for edge in edges):\n",
    "            line = Line(point, np.random.normal(size=2))\n",
    "        \n",
    "        t_values =[edge.intersection(line) for edge in edges]\n",
    "        \n",
    "        if all(not (t==0 or t==1) for t in t_values):\n",
    "            break\n",
    "    \n",
    "    def pos_side(point):\n",
    "        return (point-line.P1)@(line.P2-line.P1) > 0\n",
    "    \n",
    "    points = [\n",
    "        edge.point(t) for edge, t in zip(edges, t_values) \n",
    "        if (0<t<1)]\n",
    "    points = [p for p in points if pos_side(p)]\n",
    "    \n",
    "    if return_points:\n",
    "        return (len(points) & 1) == 1, line, points \n",
    "    return (len(points) & 1) == 1\n",
    "\n",
    "\n",
    "def angle(e1, e2):\n",
    "    cosa = e1@e2\n",
    "    sina = rotate90(e1)@e2\n",
    "    alpha = np.arccos(cosa.clip(-1,1))\n",
    "    # print(type(alpha))\n",
    "    alpha=float(alpha)\n",
    "    return alpha if sina >= 0 else -alpha\n",
    "\n",
    "\n",
    "def normalize(v):\n",
    "    normv= np.linalg.norm(v)\n",
    "    return v/normv if normv > 0 else None\n",
    "\n",
    "\n",
    "def is_inner_b(polygon, point):\n",
    "    point = Point(point)\n",
    "    alpha = 0\n",
    "    p0 = polygon.nodes[-1]\n",
    "    for p1 in polygon.nodes:\n",
    "        e0, e1 = normalize(p0-point), normalize(p1-point)\n",
    "        if e0 is not None and e1 is not None:\n",
    "            alpha += angle(e0, e1)\n",
    "        else:\n",
    "            return False\n",
    "        p0 = p1\n",
    "    return round(abs(alpha/(2*math.pi))) == 1\n",
    "\n",
    "class Bool:\n",
    "    def __init__(self, message=\"\"):\n",
    "        self.message = message\n",
    "\n",
    "    def __bool__(self):\n",
    "        return not self.message\n",
    "\n",
    "    def __str__(self):\n",
    "        return f\"{False}, reason {self.message}\" if self.message else f\"{True}\"\n",
    "\n",
    "def is_polygon(polygon):\n",
    "    nodes = polygon.nodes\n",
    "    if len(nodes) != len(np.unique(nodes, axis=0)):\n",
    "        return Bool(\"nodes are not unique\")\n",
    "    edges = list(edge_lines(polygon))\n",
    "    e0 = edges[-1]\n",
    "    for e1 in edges:\n",
    "        if e0.is_parallel(e1) and e0.p_v()[1] @ e1.p_v()[1] < 0:\n",
    "            return Bool(\"parallel subsequent edges\")\n",
    "        e0 = e1\n",
    "    for (i0, e0), (i1, e1) in itertools.combinations(enumerate(edges), 2):\n",
    "        if (\n",
    "            i1 - i0 > 1 and (not (i0==0 and i1==len(edges)-1)) \n",
    "            and (0<=e0.intersection(e1)<=1 and 0<=e1.intersection(e0)<=1)\n",
    "            ):\n",
    "            return Bool(f\"intersection at inner point {e0}, {e1}, {e1.point(e1.intersection(e0))}\")\n",
    "    return True\n",
    "\n",
    "\n",
    "Polygon.is_polygon = is_polygon\n",
    "Polygon.is_inner = is_inner_a"
   ]
  },
  {
   "cell_type": "code",
   "execution_count": null,
   "metadata": {},
   "outputs": [],
   "source": [
    "%%ipytest\n",
    "from pytest import raises\n",
    "\n",
    "def test_is_polygon():\n",
    "    \n",
    "    p = Square([0,0], [1,0])\n",
    "    assert is_polygon(p) == True\n",
    "\n",
    "    with raises(ValueError, match=\"parallel subsequent edges\"):\n",
    "        p = Polygon([[0,0], [1,0]]) \n",
    "    \n",
    "    with raises(ValueError, match=\"nodes are not unique\"):\n",
    "        Polygon([[0,0], [0,1], [1,1], [0,0], [1,0], [0,-1]])\n"
   ]
  },
  {
   "cell_type": "markdown",
   "metadata": {},
   "source": [
    "Célszerű ellenőrizni, jól működik-e a `Line` osztály."
   ]
  },
  {
   "cell_type": "code",
   "execution_count": null,
   "metadata": {},
   "outputs": [],
   "source": [
    "%%ipytest\n",
    "\n",
    "def test_Line():\n",
    "    p0 = Point([1,0])\n",
    "    p1 = Vec([0,1])\n",
    "    l0 = Line(p0, p0+p1)\n",
    "    l1 = Line(p1, p1+p1)\n",
    "    l2 = Line(p1, p1+p0)\n",
    "    assert l0.is_parallel(l1) == True\n",
    "    assert l0.is_parallel(l2) == False\n",
    "    assert tuple(l0.point(l0.intersection(l2))) == (1, 1)"
   ]
  },
  {
   "cell_type": "code",
   "execution_count": null,
   "metadata": {},
   "outputs": [],
   "source": [
    "\n",
    "nodes = np.array([[0,0], [2,0], [3, 1], [2,2], [1,1], [0,2]]) - np.array([1,1])\n",
    "polygon = Polygon(list(nodes))\n",
    "point = np.random.uniform(-2, 2, size=2)\n",
    "\n",
    "fig = plt.figure(\n",
    "        layout=\"compressed\",\n",
    "        )\n",
    "    \n",
    "ax = fig.add_subplot(\n",
    "    1, 1, 1,\n",
    "    aspect=\"equal\",\n",
    ")\n",
    "\n",
    "ax.set_xlim(-3, 3, emit=True)\n",
    "ax.set_ylim(-3, 3, emit=True)\n",
    "\n",
    "polygon.draw()\n",
    "\n",
    "plt.plot(*point, 'or')\n",
    "\n",
    "is_inner, line, points = is_inner_a(polygon, point, True)\n",
    "\n",
    "print(f\"{is_inner=}, {len(points)=}\") \n",
    "\n",
    "plt.axline(line.P1, line.P2, alpha=0.5)\n",
    "plt.arrow(*line.P1, *(line.P2-line.P1), head_width=0.05, alpha=0.5)\n",
    "\n",
    "if len(points)>0:\n",
    "    ax.plot(*np.stack(points, axis=1), 'ob')\n",
    "\n",
    "\n",
    "\n",
    "ax.grid()\n",
    "plt.show()\n"
   ]
  },
  {
   "cell_type": "markdown",
   "metadata": {},
   "source": [
    "# Sudoku"
   ]
  },
  {
   "cell_type": "markdown",
   "metadata": {},
   "source": [
    "## Sudoku tábla `Matplotlib`-bel"
   ]
  },
  {
   "cell_type": "markdown",
   "metadata": {},
   "source": [
    "A cél sudoku solver megírása. Ma csak megjelenítéssel és feladványok beolvasásával foglakozunk.\n",
    "\n",
    "Ez egy [project Euler](https://projecteuler.net/problem=96) feladat. A teszt adatok is onnan vannak:\n",
    "\n",
    "https://projecteuler.net/project/resources/p096_sudoku.txt"
   ]
  },
  {
   "cell_type": "code",
   "execution_count": null,
   "metadata": {},
   "outputs": [],
   "source": [
    "grid = [[f\"{col}{row}\" for col in \"ABCDEFGHI\"] for row in range(9)]\n",
    "grid"
   ]
  },
  {
   "cell_type": "code",
   "execution_count": null,
   "metadata": {},
   "outputs": [],
   "source": [
    "import uuid\n",
    "\n",
    "class HTMLGrid:\n",
    "    css = \"\"\"\n",
    "        .sudoku-board, .sudoku-board .box, .sudoku-board .box div {\n",
    "            box-sizing: border-box;\n",
    "        }\n",
    "        \n",
    "        .sudoku-board, .sudoku-board .box{\n",
    "            display: flex;\n",
    "            flex-wrap: wrap;\n",
    "        }\n",
    "\n",
    "        .sudoku-board .box {\n",
    "           border: solid 1px;\n",
    "           width: 152px;  \n",
    "        }\n",
    "        \n",
    "        .sudoku-board .box > div {\n",
    "            border: solid 1px;\n",
    "            width: 50px;\n",
    "            text-align: center;\n",
    "        }\n",
    "\n",
    "        .sudoku-board .box > div:before {\n",
    "            display: inline-block;\n",
    "            padding-top: 100%;\n",
    "            content: '';\n",
    "            vertical-align: middle;\n",
    "        }\n",
    "\n",
    "        .sudoku-board .box .clue {\n",
    "            background-color: LightGray;\n",
    "            font-weight: bold;\n",
    "        }\n",
    "\n",
    "        .sudoku-board {\n",
    "            width: 460px;\n",
    "            margin: 0px;\n",
    "            font-size: calc(0.8vw + 10px);\n",
    "            border: solid 2px;\n",
    "        }\n",
    "\n",
    "        .sudoku-board .box div {\n",
    "            color: gray;\n",
    "            text-shadow: 1px 1px 1px white;\n",
    "            vertical-align: middle;\n",
    "        }\n",
    "    \"\"\"\n",
    "\n",
    "    def __init__(self, transform=None):\n",
    "        self.transform = self._transform if transform is None else transform\n",
    "         \n",
    "    @staticmethod\n",
    "    def _transform(val):\n",
    "        if isinstance(val, str):\n",
    "            return \"\", val\n",
    "        if val < 0:\n",
    "            return 'class=\"solved\"', -val\n",
    "        elif val == 0:\n",
    "            return \"\", \"\"\n",
    "        else:\n",
    "            return 'class=\"clue\"', val\n",
    "\n",
    "    def box(self, content):\n",
    "        inner = \"\".join(f\"<div {div_class}>{val}</div>\" for div_class, val in content)\n",
    "        return f'<div class=\"box\">{inner}</div>\\n'\n",
    "\n",
    "    def board(self, boxes):\n",
    "        inner = \"\".join(self.box(box) for box in boxes)\n",
    "        return f'<div class=\"sudoku-board\">\\n{inner}</div>\\n'\n",
    "\n",
    "    def __call__(self, grid, title=\"\"):\n",
    "        boxes = [[0]*9 for _ in range(9)]\n",
    "        for i, line in enumerate(grid):\n",
    "          a, ra = divmod(i, 3)\n",
    "          for j, val in enumerate(line):\n",
    "            b, rb = divmod(j, 3)\n",
    "            boxes[a*3+b][ra*3+rb] = self.transform(val)\n",
    "        header = f\"<h3>{title}</h3>\" if title else \"\" \n",
    "        html = f\"<html>\\n<head>\\n<style>\\n{self.css}\\n</style>\\n</head>\\n<body>\\n{header}\\n{self.board(boxes)}</body></html>\"\n",
    "        html = html.replace('sudoku-board', f'sudoku-board-{uuid.uuid1()!s}')\n",
    "        return html\n"
   ]
  },
  {
   "cell_type": "markdown",
   "metadata": {},
   "source": [
    "Ellenőrzés EXCEL oszlop-sor jelöléssel"
   ]
  },
  {
   "cell_type": "code",
   "execution_count": null,
   "metadata": {},
   "outputs": [],
   "source": [
    "html_grid = HTMLGrid()\n",
    "grid = [[f'{j}{i}' for j in \"ABCDEFGHI\"] for i in range(9)]\n",
    "html = html_grid(grid, \"Grid\")\n",
    "#print(html)\n",
    "display_html(html, raw=True)\n",
    "grid=[\n",
    "    [0, 2, 0, 0, 0, 0, 0, 0, 0], \n",
    "    [0, 0, 0, 6, 0, 0, 0, 0, 3],\n",
    "    [0, 7, 4, 0, 8, 0, 0, 0, 0],\n",
    "    [0, 0, 0, 0, 0, 3, 0, 0, 2],\n",
    "    [0, 8, 0, 0, 4, 0, 0, 1, 0],\n",
    "    [6, 0, 0, 5, 0, 0, 0, 0, 0],\n",
    "    [0, 0, 0, 0, 1, 0, 7, 8, 0],\n",
    "    [5, 0, 0, 0, 0, 9, 0, 0, 0],\n",
    "    [0, 0, 0, 0, 0, 0, 0, 4, 0]\n",
    "    ]\n",
    "\n",
    "html = html_grid(grid, \"Hard problem\")\n",
    "# print(html)\n",
    "display_html(html, raw=True)\n"
   ]
  },
  {
   "cell_type": "code",
   "execution_count": null,
   "metadata": {},
   "outputs": [],
   "source": [
    "\n",
    "from IPython.core.pylabtools import print_figure\n",
    "import matplotlib.pyplot as plt"
   ]
  },
  {
   "cell_type": "code",
   "execution_count": null,
   "metadata": {},
   "outputs": [],
   "source": [
    "\n",
    "\n",
    "def figure_data(grid, title=\"\", format=\"svg\"):\n",
    "    size = len(grid)\n",
    "    fig = plt.figure(\n",
    "        figsize=(4, 4), \n",
    "        layout=\"compressed\",\n",
    "        )\n",
    "    \n",
    "    ax = fig.add_subplot(\n",
    "        1, 1, 1,\n",
    "        aspect=\"equal\",\n",
    "        xmargin=0.01,\n",
    "        ymargin=0.01\n",
    "    )\n",
    "    \n",
    "    ax.axis(\"off\")\n",
    "    ax.set_title(title, loc=\"left\", fontdict={\"weight\": \"bold\"})\n",
    "    \n",
    "    for x, row in enumerate(reversed(grid)):\n",
    "        for y, value in enumerate(row):\n",
    "            ax.text( \n",
    "                y+0.5, x+0.5, \n",
    "                value, \n",
    "                ha='center', \n",
    "                va='center',\n",
    "                fontsize=12,\n",
    "                color=\"gray\"\n",
    "            )\n",
    "    \n",
    "    for x in range(size+1):\n",
    "        linewidth = 1\n",
    "        if x % 3 == 0:\n",
    "            linewidth = 2\n",
    "        ax.plot((0, size), (x, x), color=\"black\", linewidth=linewidth)\n",
    "        ax.plot((x, x), (0, size), color=\"black\", linewidth=linewidth)\n",
    "        \n",
    "    data = print_figure(fig, format)\n",
    "    plt.close(fig)\n",
    "    return data\n"
   ]
  },
  {
   "cell_type": "code",
   "execution_count": null,
   "metadata": {},
   "outputs": [],
   "source": [
    "display(Image(figure_data(grid, \"Sudoku grid\", \"png\")))\n",
    "SVG(figure_data(grid, \"Sudoku grid\", \"svg\"))"
   ]
  },
  {
   "cell_type": "code",
   "execution_count": null,
   "metadata": {},
   "outputs": [],
   "source": [
    "def char_value(x):\n",
    "    return int(x) if x.isdigit() else 0\n",
    "\n",
    "class Sudoku:\n",
    "    html_grid = HTMLGrid()\n",
    "\n",
    "    def __init__(self, grid, name=None):\n",
    "        self.grid = grid\n",
    "        self.name = name if name is not None else \"Unnamed Sudoku\"\n",
    "        self._svg_data = None\n",
    "\n",
    "    @classmethod\n",
    "    def from_str(cls, grid, name):\n",
    "        grid = [[char_value(x) for x in line.strip()] for line in grid]\n",
    "        return cls(grid, name)\n",
    "\n",
    "    def enumerate(self):\n",
    "        grid = self.grid\n",
    "        for row, line in enumerate(grid, 1):\n",
    "            for col, value in enumerate(line, 1):\n",
    "                if value != 0:\n",
    "                    yield row, col, value\n",
    "\n",
    "    def copy(self):\n",
    "        grid = [line.copy() for line in self.grid]\n",
    "        return type(self)(grid, self.name)\n",
    "\n",
    "    def as_symbols(self, symbols=\" 𝟭𝟮𝟯𝟰𝟱𝟲𝟳𝟴𝟵\", neg_symbols=\" 123456789\"):\n",
    "        return [\n",
    "            [symbols[abs(x)] if x>=0 else neg_symbols[abs(x)]  for x in line] \n",
    "            for line in self.grid\n",
    "            ]\n",
    "\n",
    "    def txt(self):\n",
    "        return '\\n'.join(map(' '.join, self.as_symbols(\"_𝟭𝟮𝟯𝟰𝟱𝟲𝟳𝟴𝟵\", \"_123456789\")))\n",
    "\n",
    "    def __str__(self):\n",
    "        return f'{self.name}:\\n{self.txt()}'\n",
    "\n",
    "    def _repr_html_(self):\n",
    "        return self.html_grid(self.grid, self.name)\n",
    "\n",
    "    def _repr_svg_(self):\n",
    "        return self.svg\n",
    "\n",
    "    @property\n",
    "    def svg(self):\n",
    "        if self._svg_data is None:\n",
    "            fig = self.draw()\n",
    "            self._svg_data = print_figure(fig, fmt=\"svg\")\n",
    "        return self._svg_data\n",
    "\n",
    "    def draw(self, **kwargs):\n",
    "        grid = self.grid\n",
    "        size = len(grid)\n",
    "        ax = plt.subplot(1, 1, 1, aspect=\"equal\") \n",
    "        ax.axis(\"off\")\n",
    "        ax.set_title(self.name, loc=\"left\", fontdict={\"weight\": \"bold\"})\n",
    "        \n",
    "        text_args = {\n",
    "            'fontsize': \"12\", \n",
    "            'color': \"gray\",\n",
    "            'ha': 'center', \n",
    "            'va': 'center'\n",
    "            }\n",
    "        text_args.update(kwargs)\n",
    "        for row, col, value in self.enumerate():\n",
    "            row = size-row+1\n",
    "            if value > 0:\n",
    "                ax.fill([col-1, col, col, col-1], [row-1, row-1, row, row], color=\"lightgray\", alpha=0.5)\n",
    "\n",
    "            ax.text( \n",
    "                col-0.5, row-0.5, \n",
    "                abs(value), \n",
    "                **text_args, \n",
    "                fontweight= \"bold\" if value > 0 else 'normal'\n",
    "            )\n",
    "        \n",
    "        for x in range(size+1):\n",
    "            linewidth = 1\n",
    "            if x % 3 == 0:\n",
    "                linewidth = 2\n",
    "            ax.plot((0, size), (x, x), color=\"black\", linewidth=linewidth)\n",
    "            ax.plot((x, x), (0, size), color=\"black\", linewidth=linewidth)\n",
    "        \n",
    "        plt.close(ax.figure)\n",
    "\n",
    "        return ax.figure\n",
    "            "
   ]
  },
  {
   "cell_type": "markdown",
   "metadata": {},
   "source": [
    "### Egy nehéz sudoku"
   ]
  },
  {
   "cell_type": "code",
   "execution_count": null,
   "metadata": {},
   "outputs": [],
   "source": [
    "grid=[\n",
    "    [0, 2, 0, 0, 0, 0, 0, 0, 0], \n",
    "    [0, 0, 0, 6, 0, 0, 0, 0, 3],\n",
    "    [0, 7, 4, 0, 8, 0, 0, 0, 0],\n",
    "    [0, 0, 0, 0, 0, 3, 0, 0, 2],\n",
    "    [0, 8, 0, 0, 4, 0, 0, 1, 0],\n",
    "    [6, 0, 0, 5, 0, 0, 0, 0, 0],\n",
    "    [0, 0, 0, 0, 1, 0, 7, 8, 0],\n",
    "    [5, 0, 0, 0, 0, 9, 0, 0, 0],\n",
    "    [0, 0, 0, 0, 0, 0, 0, 4, 0]\n",
    "    ]\n",
    "sudoku = Sudoku(grid, \"A hard problem\")\n",
    "\n",
    "sudoku.draw()"
   ]
  },
  {
   "cell_type": "code",
   "execution_count": null,
   "metadata": {},
   "outputs": [],
   "source": [
    "print(sudoku)\n",
    "display(sudoku)\n",
    "display(SVG(sudoku.svg))\n"
   ]
  },
  {
   "cell_type": "code",
   "execution_count": null,
   "metadata": {},
   "outputs": [],
   "source": [
    "list(sudoku.enumerate())"
   ]
  },
  {
   "cell_type": "markdown",
   "metadata": {},
   "source": [
    "## Hogyan fogalmazható meg a feladat a matek eszközeivel?"
   ]
  },
  {
   "cell_type": "markdown",
   "metadata": {},
   "source": [
    "Adottak követelmények (`Item`) és opciók (`Option`). A feladat az opciók egy részének kiválasztása úgy, hogy az összes követelmény teljesüljön.\n",
    "\n",
    "Egy lehetséges formalizálás, $x_1,\\dots, x_m$ logikai változók, egy\n",
    "$c=c(x_1,\\dots,x_n)$ logikai kifejezés. \n",
    "\n",
    "A kérdés ezután az, hogy az $x_i$ értékek (Igaz/Hamis) milyen választása mellett lesz a $c$ logikai kifejezés értéke igaz.\n",
    "\n",
    "Minden logikai kifejezés felírható $\\wedge$ (és) $\\vee$ (vagy) és $\\neg$ (tagadás) segítségével.\n",
    "\n",
    "pl.\n",
    "$$\n",
    "    x_1\\Rightarrow x_2,\\quad \\neg x_1\\vee x_2\n",
    "$$\n",
    "\n",
    "A logikai kifejezés $c$ megadható olyan alakban is, ahol\n",
    "$$\n",
    "    c(x_1,\\dots, x_m) = \\large\\wedge_i c_i(x_1,\\dots,x_m)\\quad \n",
    "    c_i(x_1,\\dots,x_m) = (\\vee_{j\\in S_i} x_j) \\vee (\\vee_{j\\in S'_i} \\neg x_j),\\quad S,S'\\subset\\{1,\\dots, m\\}\n",
    "$$\n",
    "\n",
    "$c_i$ megadató $S$ és $S'$ segítségével. Ha $S_i\\cap S'_i\\neq \\emptyset$ akkor $c_i$ mindig igaz, ezért $c$-ből elhagyható. Ha a váltózók indexelése 1-től indul, akkor egy kényelmes kódolása $c_i$-nek\n",
    "az indexek előjeles listája:\n",
    "$$\n",
    "    \\{j:j \\in S_i\\}\\cup\\{-j:j\\in S'_i\\}\n",
    "$$\n"
   ]
  },
  {
   "cell_type": "markdown",
   "metadata": {},
   "source": [
    "## Sudoku tábla"
   ]
  },
  {
   "cell_type": "code",
   "execution_count": null,
   "metadata": {},
   "outputs": [],
   "source": [
    "class Option(int):\n",
    "    max_value = 9*9*9\n",
    "\n",
    "    def __init__(self, val):\n",
    "        if not (1 <= abs(val) <= self.max_value):\n",
    "            raise ValueError(f\"Absolute value must be in [1, {self.max_value}]. Obtained {val}\")\n",
    "\n",
    "    def apply(self, grid):\n",
    "        row, col, val = self.to_triple()\n",
    "        row, col = row-1, col-1\n",
    "        if grid[row][col]!=0 and abs(grid[row][col])!=val:\n",
    "            raise ValueError(\"Grid cell at {row+1}, {col+1} is not empty!\")\n",
    "        if grid[row][col] == 0:\n",
    "            grid[row][col] = -val\n",
    "            \n",
    "    @classmethod\n",
    "    def from_triple(cls, row, col, val):\n",
    "        if not (1<= row <= 9 and 1<= col <= 9 and 1<= val <= 9):\n",
    "            raise ValueError(\n",
    "                \"Invalid triple. \"\n",
    "                \"All numbers must be in [1, 9]. \"\n",
    "                f\"Obtained {row=}, {col=}, {val=}\"\n",
    "                )\n",
    "        return cls((row-1)*81+(col-1)*9+val-1 + 1)\n",
    "\n",
    "    @classmethod\n",
    "    def instances(cls):\n",
    "        for i in range(1, cls.max_value+1):\n",
    "            yield cls(i)\n",
    "\n",
    "    def to_triple(self):\n",
    "        n = abs(self)-1\n",
    "        n, val = divmod(n, 9)\n",
    "        row, col = divmod(n, 9)\n",
    "        row, col, val = row+1, col+1, val+1\n",
    "        return row, col, val\n",
    "\n",
    "    def __neg__(self):\n",
    "        return Option(-int(self))\n",
    "\n",
    "    def __str__(self):\n",
    "        row, col, val = self.to_triple()\n",
    "        prefix = 'not ' if self < 0 else ''\n",
    "        return f\"{prefix}{val}@({row}, {col})\"\n",
    "\n",
    "    def __repr__(self):\n",
    "        return f\"{type(self).__name__}({self!s}, code={self:d})\"\n",
    "    \n",
    "    def items(self):\n",
    "        row, col, val = self.to_triple()\n",
    "        yield Item.not_empty(row, col)\n",
    "        yield Item.row_contains(row, val)\n",
    "        yield Item.col_contains(col, val)\n",
    "        yield Item.square_contains(row, col, val)\n",
    "\n",
    "\n",
    "class Clause(list):\n",
    "    def __str__(self):\n",
    "        return ' or '. join(map(str, self))"
   ]
  },
  {
   "cell_type": "code",
   "execution_count": null,
   "metadata": {},
   "outputs": [],
   "source": [
    "%%ipytest\n",
    "from pytest import raises\n",
    "\n",
    "def test_option():\n",
    "    for i in range(1, 10):\n",
    "        for j in range(1, 10):\n",
    "            for val in range(1,10):\n",
    "                option = Option.from_triple(i, j, val)\n",
    "                assert str(option) == f\"{val}@({i}, {j})\"\n",
    "                assert option.to_triple() == (i, j, val)\n",
    "\n",
    "def test_option_invalid():\n",
    "    with raises(ValueError):\n",
    "        option = Option.from_triple(10,9,9)\n",
    "    \n",
    "    with raises(ValueError):\n",
    "        option = Option.from_triple(0,9,9)\n",
    "    \n",
    "    with raises(ValueError):\n",
    "        option = Option.from_triple(1,10,9)\n",
    "    \n",
    "    with raises(ValueError):\n",
    "        option = Option.from_triple(1,0,9)\n",
    "\n",
    "    with raises(ValueError):\n",
    "        option = Option.from_triple(1,9,19)\n",
    "    \n",
    "    with raises(ValueError):\n",
    "        option = Option.from_triple(1,9,0)\n",
    "\n",
    "def test_option_all():\n",
    "    for i, o in enumerate(Option.instances(), 1):\n",
    "        assert o == i\n",
    "    assert i == Option.max_value\n",
    "        \n"
   ]
  },
  {
   "cell_type": "code",
   "execution_count": null,
   "metadata": {},
   "outputs": [],
   "source": [
    "-Option.from_triple(1,1,9)"
   ]
  },
  {
   "cell_type": "code",
   "execution_count": null,
   "metadata": {},
   "outputs": [],
   "source": [
    "def subsquare(i, j): \n",
    "    x, y = 3*i+1, 3*j+1\n",
    "    for row in range(x, x+3):\n",
    "        for col in range(y, y+3):\n",
    "            yield row, col \n",
    "\n",
    "class Item(int):\n",
    "    max_value = 4*9*9-1\n",
    "    \n",
    "\n",
    "    def __init__(self, value):\n",
    "        if not (0 <= value <= self.max_value):\n",
    "            raise ValueError(f\"Value must be in [0, max_value]. Obtained {value}\")\n",
    "        \n",
    "    @classmethod\n",
    "    def from_triple(cls, item_type, a, b):\n",
    "        if not (0 <= item_type < 4 and 0 <= a < 9 and 0 <= b < 9):\n",
    "            raise ValueError(f\"Invalid parameters: {item_type=}, {a=}, {b=}\")\n",
    "        return cls(item_type*81+a*9+b)\n",
    "    \n",
    "    @classmethod\n",
    "    def not_empty(cls, row, col):\n",
    "        return cls.from_triple(0, row-1, col-1)\n",
    "\n",
    "    @classmethod\n",
    "    def row_contains(cls, row, val):\n",
    "        return cls.from_triple(1, row-1, val-1)\n",
    "\n",
    "    @classmethod\n",
    "    def col_contains(cls, col, val):\n",
    "        return cls.from_triple(2, col-1, val-1)\n",
    "\n",
    "    @classmethod\n",
    "    def square_contains(cls, row, col, val):\n",
    "        sq = 3*((row-1)//3) + ((col-1)//3)\n",
    "        return cls.from_triple(3, sq, val-1)\n",
    "    \n",
    "    @classmethod\n",
    "    def instances(cls):\n",
    "        for i in range(cls.max_value+1):\n",
    "            yield cls(i)\n",
    "\n",
    "    def __str__(self):\n",
    "        n = self\n",
    "        item_type, n = divmod(n, 81)\n",
    "        i, j = divmod(n, 9)\n",
    "        match item_type:\n",
    "            case 0:\n",
    "                return f\"cell{(i+1, j+1)} ¬∅\"\n",
    "            case 1:\n",
    "                return f\"∃{j+1} in row[{i+1}]\"\n",
    "            case 2:\n",
    "                return f\"∃{j+1} in col[{i+1}]\"\n",
    "            case 3:\n",
    "                val = j+1\n",
    "                i, j = divmod(i, 3)\n",
    "                return f\"∃{val} in square{(i+1, j+1)}\"\n",
    "\n",
    "    def __repr__(self):\n",
    "        return f\"{type(self).__name__}({self!s}, code={self:d})\"\n",
    "\n",
    "    def options(self):\n",
    "        n = self\n",
    "        item_type, n = divmod(n, 81)\n",
    "        i, j = divmod(n, 9)\n",
    "        match item_type:\n",
    "            case 0:\n",
    "                row, col = i+1, j+1\n",
    "                for val in range(1, 10):\n",
    "                    yield Option.from_triple(row, col, val)            \n",
    "            case 1:\n",
    "                row = i+1\n",
    "                val = j+1\n",
    "                for col in range(1, 10):\n",
    "                    yield Option.from_triple(row, col, val)\n",
    "            case 2:\n",
    "                val = j+1\n",
    "                col = i+1\n",
    "                for row in range(1, 10):\n",
    "                    yield Option.from_triple(row, col, val)\n",
    "            case 3:\n",
    "                val = j+1\n",
    "                i, j = divmod(i, 3)\n",
    "                for row,col in subsquare(i, j):\n",
    "                    yield Option.from_triple(row, col, val)\n",
    "\n",
    "    def cnf(self):\n",
    "        return Clause(self.options())\n"
   ]
  },
  {
   "cell_type": "code",
   "execution_count": null,
   "metadata": {},
   "outputs": [],
   "source": [
    "\n",
    "item = Item(81*3+45)\n",
    "print(f\"{item=}\")\n",
    "pprint(item.cnf())\n",
    "pprint(set(item.options()))\n",
    "print(f\"{len(list(Item.instances()))=}\")"
   ]
  },
  {
   "cell_type": "code",
   "execution_count": null,
   "metadata": {},
   "outputs": [],
   "source": [
    "print(Clause([Option(1), Option(2), -Option(3)]))"
   ]
  },
  {
   "cell_type": "code",
   "execution_count": null,
   "metadata": {},
   "outputs": [],
   "source": [
    "option = Option(100)\n",
    "print(f\"{option=}\")\n",
    "pprint(list(option.items()))"
   ]
  },
  {
   "cell_type": "markdown",
   "metadata": {},
   "source": [
    "## Sudoku solver a `picosat` könyvtárral. "
   ]
  },
  {
   "cell_type": "markdown",
   "metadata": {},
   "source": [
    "A következő kód a `picosat` solver `github` repositorijáról van:\n",
    "\n",
    "https://pypi.org/project/pycosat/\n",
    "\n",
    "https://github.com/conda/pycosat/blob/main/examples/sudoku.py\n",
    "\n",
    "```python\n",
    "\"\"\"\n",
    "The implementation of this Sudoku solver is based on the paper:\n",
    "\n",
    "    \"A SAT-based Sudoku solver\" by Tjark Weber\n",
    "\n",
    "    https://www.lri.fr/~conchon/mpri/weber.pdf\n",
    "\n",
    "If you want to understand the code below, in particular the function valid(),\n",
    "which calculates the 324 clauses corresponding to 9 cells, you are strongly\n",
    "encouraged to read the paper first.  The paper is very short, but contains\n",
    "all necessary information.\n",
    "\"\"\"\n",
    "import pycosat\n",
    "\n",
    "\n",
    "def v(i, j, d):\n",
    "    \"\"\"\n",
    "    Return the number of the variable of cell i, j and digit d,\n",
    "    which is an integer in the range of 1 to 729 (including).\n",
    "    \"\"\"\n",
    "    return 81 * (i - 1) + 9 * (j - 1) + d\n",
    "\n",
    "\n",
    "def sudoku_clauses():\n",
    "    \"\"\"\n",
    "    Create the (11745) Sudoku clauses, and return them as a list.\n",
    "    Note that these clauses are *independent* of the particular\n",
    "    Sudoku puzzle at hand.\n",
    "    \"\"\"\n",
    "    res = []\n",
    "    # for all cells, ensure that the each cell:\n",
    "    for i in range(1, 10):\n",
    "        for j in range(1, 10):\n",
    "            # denotes (at least) one of the 9 digits (1 clause)\n",
    "            res.append([v(i, j, d) for d in range(1, 10)])\n",
    "            # does not denote two different digits at once (36 clauses)\n",
    "            for d in range(1, 10):\n",
    "                for dp in range(d + 1, 10):\n",
    "                    res.append([-v(i, j, d), -v(i, j, dp)])\n",
    "\n",
    "    def valid(cells):\n",
    "        # Append 324 clauses, corresponding to 9 cells, to the result.\n",
    "        # The 9 cells are represented by a list tuples.  The new clauses\n",
    "        # ensure that the cells contain distinct values.\n",
    "        for i, xi in enumerate(cells):\n",
    "            for j, xj in enumerate(cells):\n",
    "                if i < j:\n",
    "                    for d in range(1, 10):\n",
    "                        res.append([-v(xi[0], xi[1], d), -v(xj[0], xj[1], d)])\n",
    "\n",
    "    # ensure rows and columns have distinct values\n",
    "    for i in range(1, 10):\n",
    "        valid([(i, j) for j in range(1, 10)])\n",
    "        valid([(j, i) for j in range(1, 10)])\n",
    "    # ensure 3x3 sub-grids \"regions\" have distinct values\n",
    "    for i in 1, 4, 7:\n",
    "        for j in 1, 4 ,7:\n",
    "            valid([(i + k % 3, j + k // 3) for k in range(9)])\n",
    "\n",
    "    assert len(res) == 81 * (1 + 36) + 27 * 324\n",
    "    return res\n",
    "\n",
    "\n",
    "def solve(grid):\n",
    "    \"\"\"\n",
    "    solve a Sudoku grid inplace\n",
    "    \"\"\"\n",
    "    clauses = sudoku_clauses()\n",
    "    for i in range(1, 10):\n",
    "        for j in range(1, 10):\n",
    "            d = grid[i - 1][j - 1]\n",
    "            # For each digit already known, a clause (with one literal).\n",
    "            # Note:\n",
    "            #     We could also remove all variables for the known cells\n",
    "            #     altogether (which would be more efficient).  However, for\n",
    "            #     the sake of simplicity, we decided not to do that.\n",
    "            if d:\n",
    "                clauses.append([v(i, j, d)])\n",
    "\n",
    "    # solve the SAT problem\n",
    "    sol = set(pycosat.solve(clauses))\n",
    "\n",
    "    def read_cell(i, j):\n",
    "        # return the digit of cell i, j according to the solution\n",
    "        for d in range(1, 10):\n",
    "            if v(i, j, d) in sol:\n",
    "                return d\n",
    "\n",
    "    for i in range(1, 10):\n",
    "        for j in range(1, 10):\n",
    "            grid[i - 1][j - 1] = read_cell(i, j)\n",
    "\n",
    "\n",
    "if __name__ == '__main__':\n",
    "    from pprint import pprint\n",
    "\n",
    "    # hard Sudoku problem, see Fig. 3 in paper by Weber\n",
    "    hard = [[0, 2, 0, 0, 0, 0, 0, 0, 0],\n",
    "            [0, 0, 0, 6, 0, 0, 0, 0, 3],\n",
    "            [0, 7, 4, 0, 8, 0, 0, 0, 0],\n",
    "            [0, 0, 0, 0, 0, 3, 0, 0, 2],\n",
    "            [0, 8, 0, 0, 4, 0, 0, 1, 0],\n",
    "            [6, 0, 0, 5, 0, 0, 0, 0, 0],\n",
    "            [0, 0, 0, 0, 1, 0, 7, 8, 0],\n",
    "            [5, 0, 0, 0, 0, 9, 0, 0, 0],\n",
    "            [0, 0, 0, 0, 0, 0, 0, 4, 0]]\n",
    "    solve(hard)\n",
    "    pprint(hard)\n",
    "    assert [[1, 2, 6, 4, 3, 7, 9, 5, 8],\n",
    "            [8, 9, 5, 6, 2, 1, 4, 7, 3],\n",
    "            [3, 7, 4, 9, 8, 5, 1, 2, 6],\n",
    "            [4, 5, 7, 1, 9, 3, 8, 6, 2],\n",
    "            [9, 8, 3, 2, 4, 6, 5, 1, 7],\n",
    "            [6, 1, 2, 5, 7, 8, 3, 9, 4],\n",
    "            [2, 6, 9, 3, 1, 4, 7, 8, 5],\n",
    "            [5, 4, 8, 7, 6, 9, 2, 3, 1],\n",
    "            [7, 3, 1, 8, 5, 2, 6, 4, 9]] == hard\n",
    "\n",
    "```"
   ]
  },
  {
   "cell_type": "code",
   "execution_count": null,
   "metadata": {},
   "outputs": [],
   "source": [
    "import pycosat\n",
    "from itertools import product, combinations\n"
   ]
  },
  {
   "cell_type": "code",
   "execution_count": null,
   "metadata": {},
   "outputs": [],
   "source": [
    "def sudoku_clauses_naive():\n",
    "    one_value_per_cell = [\n",
    "        Clause((-Option.from_triple(row, col, val0), -Option.from_triple(row, col, val1)))\n",
    "        for row, col, (val0, val1) in product(\n",
    "            range(1, 10),\n",
    "            range(1, 10), \n",
    "            combinations(range(1, 10), 2)\n",
    "        )\n",
    "    ]\n",
    "    \n",
    "    return (\n",
    "        [Item(i).cnf() for i in range(4*81)] + \n",
    "        one_value_per_cell\n",
    "    )"
   ]
  },
  {
   "cell_type": "code",
   "execution_count": null,
   "metadata": {},
   "outputs": [],
   "source": [
    "\n",
    "def sudoku_clauses():\n",
    "    one_value_per_cell = [\n",
    "        Clause((-Option.from_triple(row, col, val0), -Option.from_triple(row, col, val1)))\n",
    "        for row, col, (val0, val1) in product(\n",
    "            range(1, 10),\n",
    "            range(1, 10), \n",
    "            combinations(range(1, 10), 2)\n",
    "        )\n",
    "    ]\n",
    "    \n",
    "    one_location_per_row = [\n",
    "        Clause((-Option.from_triple(row, col0, val), -Option.from_triple(row, col1, val)))\n",
    "        for row, (col0, col1), val in product(\n",
    "            range(1, 10),\n",
    "            combinations(range(1, 10), 2),\n",
    "            range(1, 10), \n",
    "        )\n",
    "    ]\n",
    "\n",
    "    one_location_per_col = [\n",
    "        Clause((-Option.from_triple(row0, col, val), -Option.from_triple(row1, col, val)))\n",
    "        for (row0, row1), col, val in product(\n",
    "            combinations(range(1, 10), 2),\n",
    "            range(1, 10),\n",
    "            range(1, 10)\n",
    "        )\n",
    "    ]\n",
    "\n",
    "    one_location_per_square = [\n",
    "        Clause((-Option.from_triple(row0, col0, val), -Option.from_triple(row1, col1, val)))\n",
    "        for i in range(9)\n",
    "        for ((row0, col0), (row1, col1)), val in product(\n",
    "            combinations(subsquare(i//3, i%3), 2),\n",
    "            range(1, 10)\n",
    "        )\n",
    "    ]\n",
    "\n",
    "    return (\n",
    "        [Item(i).cnf() for i in range(4*81)] + \n",
    "        one_value_per_cell +\n",
    "        one_location_per_row +\n",
    "        one_location_per_col +\n",
    "        one_location_per_square\n",
    "    ) "
   ]
  },
  {
   "cell_type": "code",
   "execution_count": null,
   "metadata": {},
   "outputs": [],
   "source": [
    "clauses = sudoku_clauses_naive()\n",
    "print(f\"{len(clauses)=}\\n {clauses[0]=!s}\\n {clauses[-5]=!s}\") "
   ]
  },
  {
   "cell_type": "code",
   "execution_count": null,
   "metadata": {},
   "outputs": [],
   "source": [
    "def naive_solver(sudoku, **kwargs):\n",
    "    \"\"\"\n",
    "    solve a Sudoku grid inplace\n",
    "    \"\"\"\n",
    "    clauses = sudoku_clauses_naive()\n",
    "    \n",
    "    clauses.extend(\n",
    "        Clause([Option.from_triple(row, col, val)])\n",
    "        for row, col, val in sudoku.enumerate()\n",
    "    )\n",
    "\n",
    "    sudoku_solved = sudoku.copy()\n",
    "    grid = sudoku_solved.grid\n",
    "    for option in pycosat.solve(clauses, **kwargs):\n",
    "        if option > 0:\n",
    "            Option(option).apply(grid)\n",
    "    sudoku_solved.name += \" solved\"\n",
    "    return sudoku_solved "
   ]
  },
  {
   "cell_type": "code",
   "execution_count": null,
   "metadata": {},
   "outputs": [],
   "source": [
    "def modified_solver(sudoku, **kwargs):\n",
    "    \"\"\"\n",
    "    solve a Sudoku grid inplace\n",
    "    \"\"\"\n",
    "    clauses = sudoku_clauses()\n",
    "    \n",
    "    clauses.extend(\n",
    "        Clause([Option.from_triple(row, col, val)])\n",
    "        for row, col, val in sudoku.enumerate()\n",
    "    )\n",
    "\n",
    "    sudoku_solved = sudoku.copy()\n",
    "    grid = sudoku_solved.grid\n",
    "    for option in pycosat.solve(clauses, **kwargs):\n",
    "        if option > 0:\n",
    "            Option(option).apply(grid)\n",
    "    sudoku_solved.name += \" solved\"\n",
    "    return sudoku_solved \n"
   ]
  },
  {
   "cell_type": "code",
   "execution_count": null,
   "metadata": {},
   "outputs": [],
   "source": [
    "class PycosatSolver:\n",
    "    naive_clauses = sudoku_clauses_naive()\n",
    "    clauses = sudoku_clauses()\n",
    "    def solve(self, sudoku, which=\"modified\", **kwargs):\n",
    "        clauses = self.clauses if which == \"modified\" else self.naive_clauses\n",
    "        clauses = clauses.copy()\n",
    "        clauses.extend(\n",
    "            Clause([Option.from_triple(row, col, val)])\n",
    "            for row, col, val in sudoku.enumerate()\n",
    "        )\n",
    "        sudoku_solved = sudoku.copy()\n",
    "        grid = sudoku_solved.grid\n",
    "        for option in pycosat.solve(clauses, **kwargs):\n",
    "            if option > 0:\n",
    "                Option(option).apply(grid)\n",
    "        sudoku_solved.name += \" solved\"\n",
    "        return sudoku_solved \n",
    "\n",
    "    "
   ]
  },
  {
   "cell_type": "code",
   "execution_count": null,
   "metadata": {},
   "outputs": [],
   "source": [
    "%timeit sudoku_solved = naive_solver(sudoku)"
   ]
  },
  {
   "cell_type": "code",
   "execution_count": null,
   "metadata": {},
   "outputs": [],
   "source": [
    "%timeit sudoku_solved = modified_solver(sudoku)"
   ]
  },
  {
   "cell_type": "code",
   "execution_count": null,
   "metadata": {},
   "outputs": [],
   "source": [
    "sudoku_solved = modified_solver(sudoku)\n",
    "print(sudoku_solved)"
   ]
  },
  {
   "cell_type": "code",
   "execution_count": null,
   "metadata": {},
   "outputs": [],
   "source": [
    "display(SVG(sudoku_solved.svg))"
   ]
  },
  {
   "cell_type": "code",
   "execution_count": null,
   "metadata": {},
   "outputs": [],
   "source": [
    "sudoku_solved.draw()"
   ]
  },
  {
   "cell_type": "markdown",
   "metadata": {},
   "source": [
    "## Egész értékű programozás"
   ]
  },
  {
   "cell_type": "markdown",
   "metadata": {},
   "source": [
    "A sudoku feladat úgy is megfogalmazható, hogy adott egy mátrix $A$. $A_{i,j}=1$ ha az $j$. opció kielégíti a $i$. követelményt. A korábbi $x_1,\\dots,x_m$ logikai változókat egy $x$ vektorba összefogva ($\\text{Hamis}=0$ és $\\text{Igaz}=1$)\n",
    "$$\n",
    "    v = Ax\n",
    "$$\n",
    "esetén $v_i$ azt adja meg, hogy a $i$. követelményt hány opció teljesíti a kiválasztottak közül. Azt szeretnénk, ha ez 1 lenne minden $i$-re.\n",
    "\n",
    "Azaz a feladat \n",
    "$$\n",
    "    Ax = \\mathbb{1}, \\quad \\text{úgy, hogy  $x_i\\in\\{0, 1\\}$} \n",
    "$$\n",
    "Ha több megoldás van akkor vehetjük azt, ami minimalizál egy lineráris kifejezést."
   ]
  },
  {
   "cell_type": "markdown",
   "metadata": {},
   "source": [
    "## Lineáris programozás"
   ]
  },
  {
   "cell_type": "markdown",
   "metadata": {},
   "source": [
    "A lineáris programozási feladat általános alakja:\n",
    "$$\n",
    "    x_0=\\arg\\max_x c^T x,\\quad\\text{úgy, hogy}\\quad\n",
    "    Ax \\leq b, \\quad x\\geq0\n",
    "$$\n",
    "Azaz azt az $x_0$ vektort keressük, ami a $\\sum_jc_jx_j$ összeget maximalizálja azon nem negatív koordinátájú $x$-ek között, amik a lineáris feltételnek $(Ax)_j\\geq 0$ eleget tesznek. \n",
    "\n",
    "A feladatban $A$, $c$ és $b$ adottak és $c$, $b$ **nem negatívak** (azaz a koordináták ilyenek).\n",
    "\n",
    "Példa:"
   ]
  },
  {
   "cell_type": "code",
   "execution_count": null,
   "metadata": {},
   "outputs": [],
   "source": [
    "import numpy as np\n",
    "import matplotlib.pyplot as plt"
   ]
  },
  {
   "cell_type": "code",
   "execution_count": null,
   "metadata": {},
   "outputs": [],
   "source": [
    "c = np.array([1, 1])\n",
    "b = np.array([2, 3])\n",
    "A = np.array([[1, 2], [2, 1]])\n",
    "print(f\"{c=}, {b=},\\n{A=!s}\")"
   ]
  },
  {
   "cell_type": "code",
   "execution_count": null,
   "metadata": {},
   "outputs": [],
   "source": [
    "def line(v, b):\n",
    "    p0 = b/(v@v)*v\n",
    "    v_perp = np.array([v[1], -v[0]])\n",
    "    p1 = p0+v_perp\n",
    "    return p0, p1\n",
    "\n",
    "def y_fun(v, b):\n",
    "    return lambda x: b/v[1]-(v[0]/v[1])*x\n",
    "\n",
    "ax = plt.axes((0, 0, 1, 1))\n",
    "ax.set_xlim((-4, 4))\n",
    "ax.set_ylim((-4, 4))\n",
    "ax.set_aspect(\"equal\")\n",
    "for v, b0 in zip(A, b):\n",
    "    ax.axline(*line(v, b0))\n",
    "ax.grid()\n",
    "ax.plot([4/3], [1/3], 'or')\n",
    "ax.axline((4/3, 1/3), (1/3, 4/3), color='red', alpha=0.5)\n",
    "\n",
    "\n",
    "xs = np.linspace(-4, 4, 201)\n",
    "\n",
    "ax.fill_between(xs, -4, np.minimum(y_fun(A[0], b[0])(xs), y_fun(A[1], b[1])(xs)), alpha=0.5)\n",
    "plt.show()\n"
   ]
  },
  {
   "cell_type": "markdown",
   "metadata": {},
   "source": [
    "## `scipy` mixed integer solver (`milp`)."
   ]
  },
  {
   "cell_type": "code",
   "execution_count": null,
   "metadata": {},
   "outputs": [],
   "source": [
    "from scipy.optimize import milp, Bounds, LinearConstraint\n",
    "import numpy as np"
   ]
  },
  {
   "cell_type": "code",
   "execution_count": null,
   "metadata": {},
   "outputs": [],
   "source": [
    "help(milp)"
   ]
  },
  {
   "cell_type": "code",
   "execution_count": null,
   "metadata": {},
   "outputs": [],
   "source": [
    "sudoku.draw()"
   ]
  },
  {
   "cell_type": "code",
   "execution_count": null,
   "metadata": {},
   "outputs": [],
   "source": [
    "def sudoku_adj_matrix():\n",
    "    options = list(Option.instances())\n",
    "\n",
    "    A = np.zeros((Item.max_value+1, len(options)))\n",
    "    for j, option in enumerate(options):\n",
    "        for item in option.items():\n",
    "            A[item][j] = 1\n",
    "    return A, options\n"
   ]
  },
  {
   "cell_type": "code",
   "execution_count": null,
   "metadata": {},
   "outputs": [],
   "source": [
    "A, options = sudoku_adj_matrix()\n",
    "pprint(A)"
   ]
  },
  {
   "cell_type": "code",
   "execution_count": null,
   "metadata": {},
   "outputs": [],
   "source": [
    "\n",
    "class MilpSolver():\n",
    "    A, options = sudoku_adj_matrix()\n",
    "    options_ub = np.ones_like(options)\n",
    "    items_b = np.ones(A.shape[0])\n",
    "\n",
    "    def solve(self, sudoku):\n",
    "        lower_bound = np.zeros_like(self.options_ub)\n",
    "        \n",
    "        lower_bound[\n",
    "            [Option.from_triple(row, col, val)-1 for row, col, val in sudoku.enumerate()]\n",
    "            ] = 1\n",
    "        bounds = Bounds(lower_bound, self.options_ub)\n",
    "        constraints = LinearConstraint(self.A, self.items_b, self.items_b)\n",
    "        solution = milp(\n",
    "            self.options_ub, # all one vector, could be almost anything\n",
    "            integrality=self.options_ub, \n",
    "            bounds=bounds,\n",
    "            constraints=constraints\n",
    "            )\n",
    "        sudoku_solved = sudoku.copy()\n",
    "        sudoku_solved.name += \" solved\"\n",
    "        for option, include in zip(self.options, solution.x):\n",
    "            if include == 1:\n",
    "                option.apply(sudoku_solved.grid)\n",
    "\n",
    "        sudoku_solved.milp_solution = solution\n",
    "        return sudoku_solved\n",
    "\n",
    "\n",
    "    \n"
   ]
  },
  {
   "cell_type": "code",
   "execution_count": null,
   "metadata": {},
   "outputs": [],
   "source": [
    "milp_solver = MilpSolver()\n",
    "sudoku_solved = milp_solver.solve(sudoku)"
   ]
  },
  {
   "cell_type": "code",
   "execution_count": null,
   "metadata": {},
   "outputs": [],
   "source": [
    "%timeit sudoku_solved = milp_solver.solve(sudoku)\n"
   ]
  },
  {
   "cell_type": "code",
   "execution_count": null,
   "metadata": {},
   "outputs": [],
   "source": [
    "print(sudoku_solved.milp_solution)\n",
    "sudoku_solved"
   ]
  },
  {
   "cell_type": "code",
   "execution_count": null,
   "metadata": {},
   "outputs": [],
   "source": [
    "print(sudoku_solved)"
   ]
  },
  {
   "cell_type": "markdown",
   "metadata": {},
   "source": [
    "## Google `OR-tools` (operation research tools)"
   ]
  },
  {
   "cell_type": "code",
   "execution_count": null,
   "metadata": {},
   "outputs": [],
   "source": [
    "if importlib.util.find_spec('ortools') is None:\n",
    "    ! pip install ortools\n"
   ]
  },
  {
   "cell_type": "markdown",
   "metadata": {},
   "source": [
    "Ezzel is megoldhatnánk. HF."
   ]
  },
  {
   "cell_type": "markdown",
   "metadata": {},
   "source": [
    "## Feladványok a netről"
   ]
  },
  {
   "cell_type": "code",
   "execution_count": null,
   "metadata": {},
   "outputs": [],
   "source": [
    "import urllib"
   ]
  },
  {
   "cell_type": "code",
   "execution_count": null,
   "metadata": {},
   "outputs": [],
   "source": [
    "dowload_large = False #or True\n",
    "\n",
    "url50 = \"https://projecteuler.net/project/resources/p096_sudoku.txt\"\n",
    "\n",
    "urllib.request.urlretrieve(url50, \"/tmp/sudoku.txt\")\n",
    "\n",
    "\n",
    "url50000 = \"https://github.com/t-dillon/tdoku/raw/master/data.zip\"\n",
    "\n",
    "if dowload_large:\n",
    "    urllib.request.urlretrieve(url50000, \"/tmp/sudoku-large.zip\")\n",
    "\n"
   ]
  },
  {
   "cell_type": "code",
   "execution_count": null,
   "metadata": {},
   "outputs": [],
   "source": [
    "if dowload_large:\n",
    "    ! unzip -l /tmp/sudoku-large.zip\n",
    "    ! unzip -q /tmp/sudoku-large.zip data/puzzles2_17_clue"
   ]
  },
  {
   "cell_type": "code",
   "execution_count": null,
   "metadata": {},
   "outputs": [],
   "source": [
    "def drop_comment(file):\n",
    "    while True:\n",
    "        try:\n",
    "            line = next(file).strip()\n",
    "        except EOFError:\n",
    "            return\n",
    "        if not line.startswith(\"#\"):\n",
    "            yield line"
   ]
  },
  {
   "cell_type": "code",
   "execution_count": null,
   "metadata": {},
   "outputs": [],
   "source": [
    "if dowload_large:\n",
    "    with open('data/puzzles2_17_clue', 'r') as file:\n",
    "        line = next(drop_comment(file))\n",
    "        grid = [[int(ch) if ch.isdigit() else 0 for ch in line[i: i+9]] for i in range(0,81,9)]\n",
    "        sudoku = Sudoku(grid)\n",
    "    sudoku"
   ]
  },
  {
   "cell_type": "code",
   "execution_count": null,
   "metadata": {},
   "outputs": [],
   "source": [
    "with open('/tmp/sudoku.txt') as f:\n",
    "    name = f.readline().strip()\n",
    "    grid = [f.readline() for _ in range(9)]\n",
    "    sudoku = Sudoku.from_str(grid, name)"
   ]
  },
  {
   "cell_type": "code",
   "execution_count": null,
   "metadata": {},
   "outputs": [],
   "source": [
    "def read_sudokus(filename):\n",
    "    with open(filename, \"r\") as file:\n",
    "        lines = iter(file)\n",
    "        while True:\n",
    "            try:\n",
    "                name = next(lines).strip()\n",
    "                grid = [next(lines) for _ in range(9)]\n",
    "            except StopIteration:\n",
    "                break\n",
    "            yield Sudoku.from_str(grid, name)"
   ]
  },
  {
   "cell_type": "code",
   "execution_count": null,
   "metadata": {},
   "outputs": [],
   "source": [
    "from tqdm.auto import tqdm"
   ]
  },
  {
   "cell_type": "code",
   "execution_count": null,
   "metadata": {},
   "outputs": [],
   "source": [
    "sudokus = list(read_sudokus(\"/tmp/sudoku.txt\"))"
   ]
  },
  {
   "cell_type": "code",
   "execution_count": null,
   "metadata": {},
   "outputs": [],
   "source": [
    "%%time\n",
    "\n",
    "sudoku_milp = MilpSolver()\n",
    "solved_milp = [sudoku_milp.solve(sudoku) for sudoku in tqdm(sudokus)]\n",
    "    "
   ]
  },
  {
   "cell_type": "code",
   "execution_count": null,
   "metadata": {},
   "outputs": [],
   "source": [
    "solved_milp[3]"
   ]
  },
  {
   "cell_type": "code",
   "execution_count": null,
   "metadata": {},
   "outputs": [],
   "source": [
    "sudokus = list(read_sudokus(\"/tmp/sudoku.txt\"))"
   ]
  },
  {
   "cell_type": "code",
   "execution_count": null,
   "metadata": {},
   "outputs": [],
   "source": [
    "%%time\n",
    "\n",
    "pycosat_solver = PycosatSolver()\n",
    "solved_picosat = [pycosat_solver.solve(sudoku) for sudoku in tqdm(sudokus)]\n",
    "\n"
   ]
  },
  {
   "cell_type": "code",
   "execution_count": null,
   "metadata": {},
   "outputs": [],
   "source": [
    "sudokus = list(read_sudokus(\"/tmp/sudoku.txt\"))"
   ]
  },
  {
   "cell_type": "code",
   "execution_count": null,
   "metadata": {},
   "outputs": [],
   "source": [
    "%%time\n",
    "\n",
    "pycosat_solver = PycosatSolver()\n",
    "solved_naive = [pycosat_solver.solve(sudoku, \"naive\") for sudoku in tqdm(sudokus)]\n"
   ]
  },
  {
   "cell_type": "markdown",
   "metadata": {},
   "source": [
    "## Saját solver"
   ]
  },
  {
   "cell_type": "markdown",
   "metadata": {},
   "source": [
    "\n",
    "A Sudokuban ki kell tölteni a hiányzó mezőket úgy, hogy minden sor, oszlop és a 9 db 3x3-as négyzet mindegyike tartalmazza az összes számot egytől kilencig.\n",
    "\n",
    "Minden oszlop, sor és kis négyzet kilenc követelményt jelent nevezetesen azt, hogy az adott tábla részen kell, hogy legyen $1,...,9$.\n",
    "Ez összesen $3*9*9$ követelmény. További követlemény, hogy minden mező pontosan egy értéket tartalmazhat. Ez további 81 követelmény, így összesen $4*9*9$\n",
    "követelmény van.\n",
    "\n",
    "Minden cellába írhatjuk a 9 szám bármelyikét ez összesen $9*9*9$ opció. \n",
    "\n",
    "Minden opció ki tud elégíteni néhány követelményt, pl. ha az opció az hogy (1,1) mezőben 2 van, akkor ha ezt az opciót kiválasztjuk, azzal teljesülni fog,\n",
    "hogy az első sorban, első oszlopban és az (1,1) tartalmazó 3x3-as négyzetben is van 2-es.\n",
    "\n",
    "A feladványt, akkor oldottuk meg, ha kiválasztottuk az opciók egy részét úgy, hogy minden követelményt pontosan egy opció teljesít a kiválasztottak közül. \n",
    "\n",
    "\n",
    "Kicsit messzebről ránézve, van egy páros gráfunk. A csúcsok egyik csoportja a követelményekből, a másik az opciókból áll. Egy követelmény és egy opció között akkor megy él, ha az adott opció kiválasztásával kielégítjük a követelményt.\n",
    "\n",
    "A cél opciók egy részének kiválasztása úgy, hogy minden követelménynek pontosan egy szomszédja legyen a kiválasztott opciók között (exact cover).\n",
    "\n",
    "A megoldás megtalálása elméletben egyszerű. \n",
    "\n",
    "1. `G` a játék gráfja (mátrixa). Töröljük azokat az opciókat, amik összegyeztethetelenek a kitöltött mezőkkel.\n",
    "2. Válasszunk egy `item` követelményt.\n",
    "3. A `item` szomszédjait ellenőrizzük le. Azaz menjünk végig azokon az opciókon, amik `item`-et kielégítik:\n",
    "   \n",
    "   - Mindegyik opcióra  készítsük el azt a  kisebb gráfot, amit úgy kapunk, hogy a kiválsztott opciót\n",
    "     beírjuk a táblába. \n",
    "   \n",
    "     Így néhány további követelményt is kielégítünk és néhány opciót el is kell hagynunk.\n",
    "\n",
    "   - Oldjuk meg a kisebb gráffal a feladatot:\n",
    "     \n",
    "     Ha a kisebb feladatnak nincs megoldása, a kiválasztott opcióval nem lehet megoldani a problémát. \n",
    "     Nézzük a következő lehetőséget.\n",
    "\n",
    "     Ha a kisebb feladatnak van megoldása, akkor a feladat megoldása a kiválasztott opció és a kisebb probléma megoldása együtt.\n",
    "<!-- 3. Válasszunk hozzá egy `option` opciót, ami `req`-t kielégíti, azaz szomszédos `req`-kel `G`-ben.\n",
    "4. Töröljük az összes olyan követelményt, amit `option` kielégít. \n",
    "5. Folytassuk a kisebb gráffal, amíg el nem fogynak a követelmények. -->\n",
    "\n",
    "Lehet, hogy kóddal leírva könnyebben érthető.\n",
    "\n",
    "```python\n",
    "def search(G):\n",
    "    if G.items:\n",
    "      item = first_item(G.items)\n",
    "      for option in G.options[item]:\n",
    "            solution = search(new_graph(G, option))\n",
    "            if solution is not None:\n",
    "                return (option,) + solution\n",
    "      return None\n",
    "    return tuple() \n",
    "```\n",
    "\n",
    "Itt `new_graph(G, option)` visszaadja a gráfot amit úgy kapunk, hogy \n",
    "`option` által kielégített követelményeket  és azokat az opciókat amik `option`-nal összeegyeztethetlenek elhagyjuk.\n",
    "\n",
    "Azt feltételezzük, hogy a `new_graph` függvény nem módosítja `G`-t a visszaadott gráf másolat. \n",
    "\n",
    "\n",
    "A futási idő attól függ, hogyan választjuk ki követelményt. A legegyszerűbb módszer: vegyük azt amihez aktuálisan a legkevesebb opció tartozik.\n",
    "Ez pont annak felel meg, amit a játék során magunk is csinálnánk, pl ha egy mezőbe csak egy lehetőség maradt az kitöltjük. "
   ]
  },
  {
   "cell_type": "code",
   "execution_count": null,
   "metadata": {},
   "outputs": [],
   "source": [
    "def sudoku_graph():\n",
    "    options = {option: list(option.items()) for option in Option.instances()}\n",
    "    items = {item: set(item.options()) for item in Item.instances()}\n",
    "    return options, items\n",
    "\n",
    "\n",
    "def new_graph(graph, option):\n",
    "    options, items = graph\n",
    "    items_covered = [item for item in options[option] if item in items]\n",
    "    conflicting_options = set(o for item in items_covered for o in items[item])\n",
    "    new_options = {\n",
    "        key: [item for item in value if item not in items_covered] \n",
    "        for key, value in options.items()\n",
    "        if key not in conflicting_options\n",
    "    }\n",
    "    new_items = {\n",
    "        key: [opt for opt in value if opt not in conflicting_options] \n",
    "        for key, value in items.items() \n",
    "        if key not in items_covered\n",
    "    }\n",
    "    return new_options, new_items\n",
    "\n",
    "def first_item(items):\n",
    "    return min(items, key=lambda item: len(items[item]))\n",
    "\n",
    "def search(graph):\n",
    "    _, items = graph\n",
    "    if items:\n",
    "        item = first_item(items)\n",
    "        for option in items[item]:\n",
    "            solution = search(new_graph(graph, option))\n",
    "            if solution is not None:\n",
    "                return (option,) + solution\n",
    "        return None\n",
    "    return tuple()\n",
    "\n",
    "def initial_graph(sudoku):\n",
    "    graph = sudoku_graph()\n",
    "    for row, col, val in sudoku.enumerate():\n",
    "        option = Option.from_triple(row, col, val)\n",
    "        graph = new_graph(graph, option)\n",
    "    return graph\n",
    "\n",
    "def sudoku_solver(sudoku):\n",
    "    graph = initial_graph(sudoku)\n",
    "    \n",
    "    solution = search(graph)\n",
    "    if solution is None:\n",
    "        return None\n",
    "\n",
    "    sudoku_solved = sudoku.copy()\n",
    "    for option in solution:\n",
    "        option.apply(sudoku_solved.grid)\n",
    "    return sudoku_solved\n",
    "    "
   ]
  },
  {
   "cell_type": "code",
   "execution_count": null,
   "metadata": {},
   "outputs": [],
   "source": [
    "sudoku"
   ]
  },
  {
   "cell_type": "code",
   "execution_count": null,
   "metadata": {},
   "outputs": [],
   "source": [
    "options, items = initial_graph(sudoku)"
   ]
  },
  {
   "cell_type": "code",
   "execution_count": null,
   "metadata": {},
   "outputs": [],
   "source": [
    "# pprint(items)"
   ]
  },
  {
   "cell_type": "code",
   "execution_count": null,
   "metadata": {},
   "outputs": [],
   "source": [
    "\n",
    "%timeit sudoku_solved = sudoku_solver(sudoku)"
   ]
  },
  {
   "cell_type": "code",
   "execution_count": null,
   "metadata": {},
   "outputs": [],
   "source": [
    "sudoku_solved = sudoku_solver(sudoku)\n",
    "sudoku_solved"
   ]
  },
  {
   "cell_type": "markdown",
   "metadata": {},
   "source": [
    "### Logging. Megoldás lépésről lépésre"
   ]
  },
  {
   "cell_type": "code",
   "execution_count": null,
   "metadata": {},
   "outputs": [],
   "source": [
    "import logging\n",
    "logger = logging.getLogger('sudoku')\n",
    "logging.basicConfig()\n",
    "logger.setLevel(logging.WARNING)\n"
   ]
  },
  {
   "cell_type": "code",
   "execution_count": null,
   "metadata": {},
   "outputs": [],
   "source": [
    "\n",
    "def search(graph):\n",
    "    _, items = graph\n",
    "    if items:\n",
    "        item = first_item(items)\n",
    "        logger.info('considering %s', item)\n",
    "\n",
    "        for option in items[item]:\n",
    "            logger.info('trying %s', option)\n",
    "            solution = search(new_graph(graph, option))\n",
    "            if solution is not None:\n",
    "                logger.info('%s works', option)\n",
    "                return (option,) + solution        \n",
    "            logger.info('%s rejected', option)\n",
    "        return None\n",
    "    return tuple()"
   ]
  },
  {
   "cell_type": "code",
   "execution_count": null,
   "metadata": {},
   "outputs": [],
   "source": [
    "# logger.setLevel(logging.DEBUG)"
   ]
  },
  {
   "cell_type": "code",
   "execution_count": null,
   "metadata": {},
   "outputs": [],
   "source": [
    "from contextlib import contextmanager\n",
    "\n",
    "@contextmanager\n",
    "def using_level(level):\n",
    "    logger = logging.getLogger('sudoku')\n",
    "    _level = logger.level\n",
    "    try:\n",
    "        logger.setLevel(level)\n",
    "        yield \n",
    "    finally:\n",
    "        logger.setLevel(_level)"
   ]
  },
  {
   "cell_type": "code",
   "execution_count": null,
   "metadata": {},
   "outputs": [],
   "source": [
    "sudoku_solved = sudoku_solver(sudoku)\n"
   ]
  },
  {
   "cell_type": "code",
   "execution_count": null,
   "metadata": {},
   "outputs": [],
   "source": [
    "with using_level(logging.INFO):\n",
    "    sudoku_solved = sudoku_solver(sudoku)\n"
   ]
  },
  {
   "cell_type": "code",
   "execution_count": null,
   "metadata": {},
   "outputs": [],
   "source": [
    "sudokus = list(read_sudokus(\"/tmp/sudoku.txt\"))"
   ]
  },
  {
   "cell_type": "code",
   "execution_count": null,
   "metadata": {},
   "outputs": [],
   "source": [
    "solutions = [sudoku_solver(sudoku) for sudoku in tqdm(sudokus)]"
   ]
  },
  {
   "cell_type": "markdown",
   "metadata": {},
   "source": [
    "A fenti módszer mindig lemásolja a maradék gráfot és azon dolgozik tovább. [Knuth __Dancing Link__](https://arxiv.org/abs/cs/0011047)-nek nevezett módszerével a másolások elkerülhetőek, és valamivel gyorsabb lenne a számolás.\n"
   ]
  },
  {
   "cell_type": "markdown",
   "metadata": {},
   "source": [
    "# Ha maradna idő"
   ]
  },
  {
   "cell_type": "markdown",
   "metadata": {},
   "source": [
    "## Feladatok előadásról"
   ]
  },
  {
   "cell_type": "markdown",
   "metadata": {},
   "source": [
    "### Ismétlődések törlése"
   ]
  },
  {
   "cell_type": "markdown",
   "metadata": {},
   "source": [
    "\n",
    "Egy adott sztringből távolítsuk el az egymás mellett álló ismétlődő karatereket.\n",
    "\n",
    "Példa:\n",
    "```\n",
    "\"kukkkuuuurrrriiiikuuuuuuuu\" -> \"kukuriku\".\n",
    "```\n",
    "\n",
    "(Ez már volt korábban. Most keressünk elegánsabb megoldást, pl. az `itertools` könyvtár függvényeinek segítségével.)\n"
   ]
  },
  {
   "cell_type": "code",
   "execution_count": null,
   "metadata": {},
   "outputs": [],
   "source": [
    "\n",
    "def remove_consecutive_duplicates(string):\n",
    "    pass\n"
   ]
  },
  {
   "cell_type": "markdown",
   "metadata": {},
   "source": [
    "### Számolás polinomokkal"
   ]
  },
  {
   "cell_type": "markdown",
   "metadata": {},
   "source": [
    "Írjunk egy `Polynomial` osztályt, ahol a polinomot tároljuk el, mint az együtthatóinak listáját.\n",
    "\n",
    "Implementáljuk két ilyen polinom összeadását (azaz írjuk meg az `__add__`, valamint a `__repr__`  metódust, hogy lássuk, mi egy ilyen egyed ,,tartalma'').\n",
    "\n",
    "Egy polinom függvény is. Implementáljuk a `__call__` metódust is, ami kiértékeli a polinomot egy adott pontban!\n"
   ]
  },
  {
   "cell_type": "code",
   "execution_count": null,
   "metadata": {},
   "outputs": [],
   "source": [
    "from itertools import dropwhile\n",
    "from fractions import Fraction\n"
   ]
  },
  {
   "cell_type": "code",
   "execution_count": null,
   "metadata": {},
   "outputs": [],
   "source": [
    "def format_term(k, coeff, fmt=\"x^{k}\"):\n",
    "    sep = \"-\" if coeff < 0 else \"+\"\n",
    "    coeff = abs(coeff)\n",
    "    c = f\"{coeff}\" if coeff != 1 else \"\"\n",
    "    match k:\n",
    "        case 0:\n",
    "            x = \"\"\n",
    "            c = f\"{coeff}\"\n",
    "        case 1:\n",
    "            x = \"x\"\n",
    "        case _:\n",
    "            x = fmt.format(k=k)\n",
    "    return f\"{c}{x}\", sep\n",
    "\n",
    "class Polynomial:\n",
    "    def __init__(self, *coefficients):\n",
    "        self.coeff = tuple(dropwhile(lambda x: x==0, coefficients))[::-1]\n",
    "\n",
    "    def degree(self):\n",
    "        return len(self.coeff)-1 if self.coeff else 0\n",
    "\n",
    "    def __eq__(self, other):\n",
    "        return isinstance(other, type(self)) and self.coeff == other.coeff\n",
    "\n",
    "    def __add__(self, other):\n",
    "\n",
    "        coeff_a = self.coeff\n",
    "        coeff_b = other.coeff\n",
    "\n",
    "        if len(coeff_a) < len(coeff_b):\n",
    "            coeff_a, coeff_b = coeff_b, coeff_a\n",
    "\n",
    "        coeff = list(coeff_a)\n",
    "\n",
    "        for i, c in enumerate(coeff_b):\n",
    "            coeff[i] += c\n",
    "\n",
    "        return Polynomial(*reversed(coeff))\n",
    "\n",
    "    def __sub__(self, other):\n",
    "        return self+(-1)*other\n",
    "\n",
    "    def __mul__(self, other):\n",
    "        coeff = [0]*(len(self.coeff)+len(other.coeff)-1)\n",
    "        for i, ca in enumerate(self.coeff):\n",
    "            for j, cb in enumerate(other.coeff):\n",
    "                coeff[i+j] += ca*cb\n",
    "\n",
    "        return Polynomial(*reversed(coeff))\n",
    "\n",
    "    def __rmul__(self, c):\n",
    "        coeff = [c0*c for c0 in self.coeff]\n",
    "        return Polynomial(*reversed(coeff))\n",
    "\n",
    "    def leading_coeff(self):\n",
    "        return self.coeff[-1] if self.coeff else 0\n",
    "\n",
    "    def __divmod__(self, other):\n",
    "        if not isinstance(other, type(self)):\n",
    "            raise TypeError\n",
    "\n",
    "        m = Polynomial()\n",
    "        r = self\n",
    "        main_coeff = other.leading_coeff()\n",
    "        other_dg = other.degree()\n",
    "\n",
    "        while r.degree() >= other_dg:\n",
    "            c = r.leading_coeff()/main_coeff\n",
    "            m += c*monomial(r.degree()-other_dg)\n",
    "            r = self-m*other\n",
    "        return m, r\n",
    "\n",
    "    def __mod__(self, other):\n",
    "        return divmod(self, other)[1]\n",
    "\n",
    "    def __floordiv__(self, other):\n",
    "        return divmod(self, other)[0]\n",
    "\n",
    "    def __call__(self, x):\n",
    "        value = 0\n",
    "        for c in reversed(self.coeff):\n",
    "            value *= x\n",
    "            value += c\n",
    "        return value\n",
    "\n",
    "    def as_token_list(self, formatter, fmt):\n",
    "        coeffs = [(k, coeff) for k, coeff in enumerate(self.coeff) if coeff != 0]\n",
    "        if len(coeffs) == 0:\n",
    "            coeffs = [(0, 0)]\n",
    "        tokens = [token for k, coeff in coeffs for token in format_term(k, coeff, fmt)]\n",
    "        if tokens[-1] == \"+\":\n",
    "            tokens.pop()\n",
    "        tokens.reverse()\n",
    "        return tokens\n",
    "\n",
    "    def __str__(self):\n",
    "        return ''.join(self.as_token_list(format_term, \"x^{k}\"))\n",
    "\n",
    "    def __repr__(self):\n",
    "        return f\"{type(self).__name__}({', '.join(map(str, reversed(self.coeff)))})\"\n",
    "\n",
    "    def _repr_latex_(self):\n",
    "        formula = ''.join(self.as_token_list(format_term, \"x^{{{k}}}\"))\n",
    "        return f\"$x\\mapsto {formula}$\"\n",
    "\n",
    "\n",
    "def monomial(degree, unit=1):\n",
    "    coeff = [unit]+[0]*degree\n",
    "    return Polynomial(*coeff)"
   ]
  },
  {
   "cell_type": "markdown",
   "metadata": {},
   "source": [
    "Néhány példa:"
   ]
  },
  {
   "cell_type": "code",
   "execution_count": null,
   "metadata": {},
   "outputs": [],
   "source": [
    "p = Polynomial(-1, -0.0, -3)    # -> x^2 - 3\n",
    "q = Polynomial(2, 0, -1, 1)  # -> 2x^3 + 3x + 1\n",
    "display(p)\n",
    "display(q)\n",
    "display(p*q)\n",
    "display(2*p)\n",
    "print(str(q))\n",
    "## p**2"
   ]
  },
  {
   "cell_type": "code",
   "execution_count": null,
   "metadata": {},
   "outputs": [],
   "source": [
    "p = Fraction(1,1)*p\n",
    "q = Fraction(1,1)*q\n",
    "\n",
    "m, r = divmod(q, p)\n",
    "display(m)\n",
    "display(r)\n",
    "display(p)\n",
    "display(q)\n",
    "display(m*p)"
   ]
  },
  {
   "cell_type": "markdown",
   "metadata": {},
   "source": [
    "#### Korábbi feladat"
   ]
  },
  {
   "cell_type": "markdown",
   "metadata": {},
   "source": [
    "Írjunk egy függvényt, ami kiszámolja az első $n$ természetes szám $p$-ik hatványösszegét.\n",
    "\n",
    "pl. `p = 0`-ra\n",
    "\n",
    "```Python\n",
    "def f0(n):\n",
    "    return n\n",
    "```\n",
    "\n",
    "jó, mert $k^0=1$ ha $k=1,\\dots,n$ és ezek összege pont $n$.\n",
    "\n",
    "Ha `p = 1`, akkor\n",
    "\n",
    "```Python\n",
    "def f1(n):\n",
    "    return n*(n+1)//2\n",
    "```\n",
    "\n",
    "jó, mert $\\sum_{k=1}^n k = n(n+1)/2$.\n",
    "\n",
    "Még `p = 2`-t is tanultuk\n",
    "\n",
    "```Python\n",
    "def f2(n):\n",
    "    return n*(n+1)*(2*n+1)//6\n",
    "```\n",
    "\n",
    "Általános $p$-re tudunk-e ilyen függvényt írni?"
   ]
  },
  {
   "cell_type": "code",
   "execution_count": null,
   "metadata": {},
   "outputs": [],
   "source": [
    "def mk_power_sum(p):\n",
    "    def f(n):\n",
    "        total = 0\n",
    "        for k in range(1, n+1):\n",
    "            total += k**p\n",
    "        return total\n",
    "\n",
    "    f.__doc__ = f\"\"\"\n",
    "        {p}-ik hatványok összegét számolja\n",
    "        \"\"\"\n",
    "\n",
    "    return f"
   ]
  },
  {
   "cell_type": "code",
   "execution_count": null,
   "metadata": {},
   "outputs": [],
   "source": [
    "f2_slow = mk_power_sum(2)"
   ]
  },
  {
   "cell_type": "code",
   "execution_count": null,
   "metadata": {},
   "outputs": [],
   "source": [
    "f2_slow?"
   ]
  },
  {
   "cell_type": "code",
   "execution_count": null,
   "metadata": {},
   "outputs": [],
   "source": [
    "[f2_slow(i) for i in range(0, 10)]"
   ]
  },
  {
   "cell_type": "code",
   "execution_count": null,
   "metadata": {},
   "outputs": [],
   "source": [
    "def f2_fast(n):\n",
    "    return n*(n+1)*(2*n+1)//6"
   ]
  },
  {
   "cell_type": "code",
   "execution_count": null,
   "metadata": {},
   "outputs": [],
   "source": [
    "%timeit f2_slow(10_000)\n",
    "%timeit f2_fast(10_000)"
   ]
  },
  {
   "cell_type": "markdown",
   "metadata": {},
   "source": [
    "### Ötlet"
   ]
  },
  {
   "cell_type": "markdown",
   "metadata": {},
   "source": [
    "$$\n",
    "    \\sum_{k=r}^n  \\binom{k}{r} = \\binom{n+1}{r+1}\n",
    "$$\n",
    "\n",
    "**Bizonyítás.**\n",
    "$\\{1,2,\\dots,n+1\\}$-ből válasszunk ki $r+1$ különböző számot.\n",
    "\n",
    "Összes lehetőség:\n",
    "$$\n",
    "\\binom{n+1}{r+1}.\n",
    "$$\n",
    "\n",
    "Számoljuk meg az eseteket aszerint szétbontva is, hogy legnagyobb kiválasztott szám mivel egyenlő.\n",
    "\n",
    "Ha a legnagyobb szám $k+1$, akkor a maradék $r$ számot $\\{1,2,\\dots, k\\}$ közül választjuk. Így az esetek száma\n",
    "$$\n",
    "    \\sum_{k+1=r+1}^{n+1} \\binom{k}{r} =  \\sum_{k=r}^{n} \\binom{k}{r}\n",
    "$$  \n",
    "$k+1$ helyett $k$ az összegzési változó"
   ]
  },
  {
   "cell_type": "markdown",
   "metadata": {},
   "source": [
    "Ugyanez másképp.\n",
    "\n",
    "$$\n",
    "\\binom{k}{r} = \\frac{1}{r!} k(k-1)\\cdots(k-r+1) = \\frac{1}{r!}p_r(k-r+1),\\quad\\text{ahol}\\quad p_r(x) = x(x+1)\\cdots(x+r-1)\n",
    "$$\n",
    "és\n",
    "$$\n",
    "    \\sum_{j=1}^{n-r+1} \\frac{1}{r!}p_r(j) = \\frac{1}{(r+1)!}p_{r+1}(n+1-(r+1)+1)= \\frac{1}{(r+1)!} p_{r+1}(n-r+1)\\quad\\text{minden $n\\geq r$ és $r\\geq 0$-ra}\n",
    "$$\n",
    "\n",
    "Az összegzés felső határa és $p_{r+1}$ argumentuma ugyanaz, azaz\n",
    "\n",
    "$$\n",
    "\\sum_{j=0}^{n} p_r(j) = \\frac{1}{r+1}p_{r+1}(n)\n",
    "$$"
   ]
  },
  {
   "cell_type": "markdown",
   "metadata": {},
   "source": [
    "**Lineáris algebra.**\n",
    "\n",
    "$$\n",
    "p_0\\equiv 1,\\quad p_1(x)=x,\\quad p_2(x)=x(x+1),\\quad\\dots,\\quad p_r(x)=x(x+1)\\cdots(x+r-1)\n",
    "$$\n",
    "\n",
    "bázis a legfeljebb $r$-edfokú polinomok vektorterében.\n",
    "\n",
    "$$\n",
    "    x^r = \\sum_{i=0}^r a_i p_i(x)\n",
    "$$\n",
    "és\n",
    "$$\n",
    "    \\sum_{k=0}^n k^r = \\sum_{k=0}^n \\sum_{i=0}^r a_i p_i(k) =  \\sum_{i=0}^r a_i  \\sum_{k=0}^n p_i(k) = \\sum_{i=0}^r \\frac{a_i}{r+1}  p_{i+1}(n)\n",
    "$$\n"
   ]
  },
  {
   "cell_type": "markdown",
   "metadata": {},
   "source": [
    "### Összefoglalva\n"
   ]
  },
  {
   "cell_type": "markdown",
   "metadata": {},
   "source": [
    "\n",
    "- Egy polinomot az együtthatókkal ábrázolhatunk.\n",
    "- Kellene egy függvény, ami a természetes $1, x, x^2,\\dots$ bázisban felírt polinomot a $p_0,p_1,\\dots$ bázisban ír fel.\n",
    "- $p_0, p_1, \\dots,$ bázisban az összegzés könnyű, lényegében arrébb kell tolni az együtthatókat.\n",
    "- A $p_0,p_1,\\dots$ bázisban felírt polinomot vagy visszaszámoljuk a természetes bázisba, vagy megírjuk a függvényt, ami kiértékeli a függvényt egy adott pontban."
   ]
  },
  {
   "cell_type": "markdown",
   "metadata": {},
   "source": [
    "Vegyük észre, hogy $p_0$ azonosan 1, $p_1(0)=0$, $p_2(0)=p_2(-1)=0$, stb.\n",
    "\n",
    "Ha $f=\\sum_i a_i p_i$, akkor\n",
    "$$\n",
    "    f(0) = \\sum_i a_i p(0) = a_0, \\quad f(-1) = a_0 p_0(-1) + a_1 p_1(-1),\\quad f(-k) = a_0 p_0(-k) + a_1 p_1(-k) + \\cdots + a_k p_k(-k).\n",
    "$$\n",
    "amiből\n",
    "\n",
    "$$\n",
    "\\begin{align*}\n",
    "    a_0 & = f(0)\\\\\n",
    "    a_1 & = \\frac{f(-1) - a_0 p_0(-1)}{p_1(-1)}\\\\\n",
    "    \\vdots\\\\\n",
    "    a_k & = \\frac{f(-k) - \\sum_{j=0}^{k-1} a_j p_j(-k)}{p_{k}(-k)}\\\\\n",
    "    \\vdots\n",
    "\\end{align*}\n",
    "$$  \n",
    "Kihasználhatjuk még, hogy\n",
    "$$\n",
    "p_k(-k)=(-k)(-k+1)\\cdots(-k+(k-1))=(-1)^k k!.\n",
    "$$"
   ]
  },
  {
   "cell_type": "code",
   "execution_count": null,
   "metadata": {},
   "outputs": [],
   "source": [
    "def basis():\n",
    "    i = 0\n",
    "    p = Polynomial(1)\n",
    "    while True:\n",
    "        yield p\n",
    "        p *= Polynomial(1,i)\n",
    "        i += 1\n"
   ]
  },
  {
   "cell_type": "code",
   "execution_count": null,
   "metadata": {},
   "outputs": [],
   "source": [
    "from itertools import islice"
   ]
  },
  {
   "cell_type": "markdown",
   "metadata": {},
   "source": [
    "$$\n",
    "p_k(-k)=(-k)(-k+1)\\cdots(-k+(k-1))=(-1)^k k!.\n",
    "$$\n",
    "ellenőrzése. \n"
   ]
  },
  {
   "cell_type": "code",
   "execution_count": null,
   "metadata": {},
   "outputs": [],
   "source": [
    "for i, p in zip(range(5), basis()):\n",
    "    display(p)\n",
    "    print(f\"{i=}, {p(-i)=}\")\n",
    "    print(\"-\"*20)"
   ]
  },
  {
   "cell_type": "code",
   "execution_count": null,
   "metadata": {},
   "outputs": [],
   "source": [
    "from typing import Callable\n",
    "\n",
    "def mk_fast_polynomial_sum(p: Polynomial) -> Polynomial:\n",
    "    \"\"\"return a polynomial q such that q(n)=sum_{k=1}^n p(k)\"\"\"\n",
    "    q = Polynomial()\n",
    "    q0 = Polynomial()\n",
    "\n",
    "    it = iter(basis())\n",
    "    i = 0\n",
    "\n",
    "    while q0 != p:\n",
    "        pi = next(it)\n",
    "        if i > 0:\n",
    "            q += (coeff/i)*pi\n",
    "        coeff = ((p(-i) - q0(-i))/pi(-i))\n",
    "        q0 += coeff*pi\n",
    "        i += 1\n",
    "\n",
    "    q += (coeff/i)*next(it)\n",
    "    return q\n",
    "\n",
    "def mk_fast_power_sum(k:int) -> Callable[[int], int]:\n",
    "    coeff = mk_fast_polynomial_sum(monomial(k, unit=Fraction(1,1))).coeff\n",
    "    f = math.lcm(*[c.denominator for c in coeff])\n",
    "    p = Polynomial(*[int(c*f) for c in reversed(coeff)])\n",
    "    def fun(x: int) -> int:\n",
    "        return p(x)//f \n",
    "\n",
    "    fun.__doc__ = f\"computes sum_{{k=1}}^n x^{k}\"\n",
    "    return fun\n"
   ]
  },
  {
   "cell_type": "markdown",
   "metadata": {},
   "source": [
    "#### Gyors ellenőrzés."
   ]
  },
  {
   "cell_type": "code",
   "execution_count": null,
   "metadata": {},
   "outputs": [],
   "source": [
    "%%ipytest\n",
    "\n",
    "def test_fast_power_sum():\n",
    "    for i in range(1, 4):\n",
    "        f = mk_fast_power_sum(i)\n",
    "        g = mk_power_sum(i)\n",
    "        for n in range(1000):\n",
    "            assert f(n) == g(n)"
   ]
  },
  {
   "cell_type": "code",
   "execution_count": null,
   "metadata": {},
   "outputs": [],
   "source": [
    "f2 = mk_fast_polynomial_sum(monomial(2, Fraction(1,1)))\n",
    "f2a = mk_fast_power_sum(2)"
   ]
  },
  {
   "cell_type": "code",
   "execution_count": null,
   "metadata": {},
   "outputs": [],
   "source": [
    "%timeit f2_slow(10_000)\n",
    "%timeit f2(10_000)\n",
    "%timeit f2a(10_000)\n",
    "%timeit f2_fast(10_000)"
   ]
  },
  {
   "cell_type": "markdown",
   "metadata": {},
   "source": [
    "Törtekkel számolni kicsit lassabb!"
   ]
  },
  {
   "cell_type": "markdown",
   "metadata": {},
   "source": [
    "Hogyan emlékszik `f2a` a kiszámolt `p` és `f` értékre. A `__closure__` nevű attribútum tárolja. "
   ]
  },
  {
   "cell_type": "code",
   "execution_count": null,
   "metadata": {},
   "outputs": [],
   "source": [
    "print(f\"{f2.__dict__}\")\n",
    "for cell in f2a.__closure__:\n",
    "    print(cell.cell_contents)\n"
   ]
  },
  {
   "cell_type": "code",
   "execution_count": null,
   "metadata": {},
   "outputs": [],
   "source": [
    "f2a = mk_fast_power_sum(2)\n",
    "print(f\"{f2a.__closure__[0].cell_contents=}, {f2a(2)=}\")\n",
    "f2a.__closure__[0].cell_contents = 3\n",
    "print(f\"{f2a.__closure__[0].cell_contents=}, {f2a(2)=}\")"
   ]
  },
  {
   "cell_type": "code",
   "execution_count": null,
   "metadata": {},
   "outputs": [],
   "source": [
    "help(mk_fast_power_sum(2))"
   ]
  },
  {
   "cell_type": "code",
   "execution_count": null,
   "metadata": {},
   "outputs": [],
   "source": [
    "[mk_fast_power_sum(2)(i) for i in range(5)]"
   ]
  },
  {
   "cell_type": "code",
   "execution_count": null,
   "metadata": {},
   "outputs": [],
   "source": [
    "mk_fast_polynomial_sum(monomial(8))"
   ]
  },
  {
   "cell_type": "markdown",
   "metadata": {},
   "source": [
    "Ugyanez a polinom racionális együtthatókkal"
   ]
  },
  {
   "cell_type": "code",
   "execution_count": null,
   "metadata": {},
   "outputs": [],
   "source": [
    "mk_fast_polynomial_sum(monomial(8, unit=Fraction(1, 1)))"
   ]
  },
  {
   "cell_type": "code",
   "execution_count": null,
   "metadata": {},
   "outputs": [],
   "source": [
    "q = mk_fast_polynomial_sum(monomial(4, Fraction(1,1)))\n",
    "display(q)\n",
    "display(30*q)"
   ]
  },
  {
   "cell_type": "markdown",
   "metadata": {},
   "source": [
    "Az első néhány hatványösszeget számoló polinom:"
   ]
  },
  {
   "cell_type": "code",
   "execution_count": null,
   "metadata": {},
   "outputs": [],
   "source": [
    "for k in range(10):\n",
    "    p_k = mk_fast_polynomial_sum(monomial(k, Fraction(1, 1)))\n",
    "    f = math.lcm(*(c.denominator for c in p_k.coeff))\n",
    "    print(f\"{k=}, {p_k=!s:>50}, {f:>3}*p_k={f*p_k!s:>40}\")\n"
   ]
  },
  {
   "cell_type": "markdown",
   "metadata": {},
   "source": [
    "Igaz-e, hogy a gyökök racionálisak?\n",
    "\n",
    "$\\sum_{i=0}^n i^k = P_{k+1}(n)$\n",
    "\n",
    "$k=0,1,2,3$ esetén igen.\n",
    "\n",
    "$$\n",
    "\\begin{aligned}\n",
    "    x^2+x &= x(x+1)\\\\\n",
    "    2x^3+3x^2+x &= x(x+1)(2x+1)\\\\\n",
    "    x^4+2x^3+x^2&= x^2(x+1)^2\n",
    "\\end{aligned}\n",
    "$$\n"
   ]
  },
  {
   "cell_type": "code",
   "execution_count": null,
   "metadata": {},
   "outputs": [],
   "source": [
    "p_5 = mk_fast_polynomial_sum(monomial(4, unit=Fraction(1, 1)))\n",
    "\n",
    "print(f\"{p_5(0)=!s}, {p_5(-1)=!s}, {p_5(Fraction(-1, 2))=!s}, {p_5.degree()=}\")"
   ]
  },
  {
   "cell_type": "markdown",
   "metadata": {},
   "source": [
    "Három gyököt találtunk. Legyen $q=x(x+1)(2x+1)$. Ekkor $q$ gyökei pont  a megtalált gyökök. "
   ]
  },
  {
   "cell_type": "code",
   "execution_count": null,
   "metadata": {},
   "outputs": [],
   "source": [
    "q = monomial(1)*Polynomial(1,1)*Polynomial(2,1)\n",
    "display(q)\n",
    "print(f\"{q(0)=!s}, {q(-1)=!s}, {q(Fraction(-1, 2))=!s}\")"
   ]
  },
  {
   "cell_type": "code",
   "execution_count": null,
   "metadata": {},
   "outputs": [],
   "source": [
    "p, r = divmod(30*p_5, q)\n",
    "print(f\"{p=!s}, {r=!s}\")"
   ]
  },
  {
   "cell_type": "markdown",
   "metadata": {},
   "source": [
    "Gyökök:\n",
    "$$\n",
    "    x_{1,2}=\\frac{-3\\pm\\sqrt{3^2-4\\cdot 3\\cdot(-1)}}{2\\cdot3}=\\frac12\\left(-1\\pm\\sqrt{\\frac7{3}}\\right)\n",
    "$$"
   ]
  },
  {
   "cell_type": "code",
   "execution_count": null,
   "metadata": {},
   "outputs": [],
   "source": [
    "xs = np.linspace(-2, 1, 201)\n",
    "plt.plot(xs, [p(x) for x in xs], label=\"p(x)\")\n",
    "plt.plot(xs, [10*p_5(x) for x in xs], label=\"10*p_5(x)\")\n",
    "plt.legend()\n",
    "plt.grid()\n",
    "plt.show()"
   ]
  },
  {
   "cell_type": "markdown",
   "metadata": {},
   "source": [
    "# Egy gráfelméleti algoritmus"
   ]
  },
  {
   "cell_type": "markdown",
   "metadata": {},
   "source": [
    "## Feladat"
   ]
  },
  {
   "cell_type": "markdown",
   "metadata": {},
   "source": [
    "Adott egy `n` csúcsú irányítatlan gráf az élek listájával. A gráf csúcsait `0`-tól `n-1`-ig címkéztük meg, az éleket pedig a végpontokkal.\n",
    "\n",
    "Emellett adott egy kiindulási pont és egy végpont. Azt szeretnénk eldönteni, hogy el lehet-e jutni a kiindulási pontból a végpontba a gráf éleit használva.\n",
    "\n",
    "Gondolhatunk arra, hogy a gráf egy úthálózatot ír le és a kérdés az, hogy el tudunk-e jutni `A`-ból `B`-be."
   ]
  },
  {
   "cell_type": "markdown",
   "metadata": {},
   "source": [
    "Pl. `n = 3`, élek `edges = [[0,1], [1,2], [2,0]]`, `A =  0`, `B = 2`."
   ]
  },
  {
   "cell_type": "markdown",
   "metadata": {},
   "source": [
    "Gráfok megjelenítésére egy hasznos könyvtár a `graphviz`."
   ]
  },
  {
   "cell_type": "code",
   "execution_count": null,
   "metadata": {},
   "outputs": [],
   "source": [
    "import importlib\n",
    "if importlib.util.find_spec('graphviz') is None:\n",
    "    ! pip install graphviz\n",
    "import graphviz"
   ]
  },
  {
   "cell_type": "code",
   "execution_count": null,
   "metadata": {},
   "outputs": [],
   "source": [
    "edges = [[0,1], [1,2], [2,0]]\n",
    "g0 = graphviz.Graph()\n",
    "\n",
    "g0.edges([(str(a), str(b)) for a, b in edges])\n",
    "g0"
   ]
  },
  {
   "cell_type": "markdown",
   "metadata": {},
   "source": [
    "A gráf összefüggő, tetszőleges `A`, `B` esetén a válasz: `True`"
   ]
  },
  {
   "cell_type": "code",
   "execution_count": null,
   "metadata": {},
   "outputs": [],
   "source": [
    "n = 6\n",
    "edges = [[0,1],[0,2],[3,5],[5,4],[4,3]]\n",
    "A = 0\n",
    "B = 5\n",
    "\n",
    "g1 = graphviz.Graph()\n",
    "g1.edges([(str(a), str(b)) for a, b in edges])\n",
    "g1"
   ]
  },
  {
   "cell_type": "markdown",
   "metadata": {},
   "source": [
    "Nincs út 0 és 5 között. A válasz: `False`"
   ]
  },
  {
   "cell_type": "markdown",
   "metadata": {},
   "source": [
    "Összefüggőségi komponenseket szeretnénk számolni.\n",
    "\n"
   ]
  },
  {
   "cell_type": "markdown",
   "metadata": {},
   "source": [
    "## Ötlet.\n",
    "\n",
    "Az él nélküli gráfból indulunk ki. Itt egy elemű komponensek vannak.\n",
    "\n",
    "Minden komponensből válasszunk egy reprezentáns és minden $i$ pontra feljegyezzük, melyik komponensben van.\n",
    "\n",
    "\n"
   ]
  },
  {
   "cell_type": "code",
   "execution_count": null,
   "metadata": {},
   "outputs": [],
   "source": [
    "def show_graph(roots, direction = 'LR'):\n",
    "    g = graphviz.Digraph(graph_attr={'rankdir': direction})\n",
    "    g.edges((str(i), str(r)) for i, r in enumerate(roots))\n",
    "    return g"
   ]
  },
  {
   "cell_type": "code",
   "execution_count": null,
   "metadata": {},
   "outputs": [],
   "source": [
    "n = 5\n",
    "roots = [i for i in range(n)]\n",
    "display(show_graph(roots, 'TD'))"
   ]
  },
  {
   "cell_type": "markdown",
   "metadata": {},
   "source": [
    "ha behúzzuk a $(0, 1)$ élet, akkor $0$ és $1$ azonos komponensbe kerül. Választhatunk a két összeuniózott komponens reprezentánsa között, legyen pl. 1"
   ]
  },
  {
   "cell_type": "code",
   "execution_count": null,
   "metadata": {},
   "outputs": [],
   "source": [
    "roots[0] = 1\n",
    "display(show_graph(roots, 'TD'))"
   ]
  },
  {
   "cell_type": "markdown",
   "metadata": {},
   "source": [
    "Ha most a (0, 2) élet akarjuk behúzni, akkor nem állíthatjuk át `roots[0]`. Meg kell keresnünk `0` komponensének reprezentását, ez 1 és vagy `roots[1]`-et állítjuk 2 -re, vagy `roots[2]`-t 1-re."
   ]
  },
  {
   "cell_type": "code",
   "execution_count": null,
   "metadata": {},
   "outputs": [],
   "source": [
    "def find(roots, a):\n",
    "    while a != roots[a]:\n",
    "        a = roots[a]\n",
    "    return a"
   ]
  },
  {
   "cell_type": "code",
   "execution_count": null,
   "metadata": {},
   "outputs": [],
   "source": [
    "find(roots, 0), find(roots, 2)"
   ]
  },
  {
   "cell_type": "code",
   "execution_count": null,
   "metadata": {},
   "outputs": [],
   "source": [
    "def union(roots, a, b):\n",
    "    ra = find(roots, a)\n",
    "    rb = find(roots, b)\n",
    "    roots[ra] = rb"
   ]
  },
  {
   "cell_type": "code",
   "execution_count": null,
   "metadata": {},
   "outputs": [],
   "source": [
    "union(roots, 0, 2)\n",
    "print(f\"After union(0, 2) {roots=}\")\n",
    "display(show_graph(roots))\n",
    "\n",
    "union(roots, 3, 4)\n",
    "print(f\"After union(3, 4) {roots=}\")\n",
    "print(roots)\n",
    "display(show_graph(roots))\n",
    "\n",
    "union(roots, 3, 2)\n",
    "print(f\"After union(3, 2) {roots=}\")\n",
    "print(roots)\n",
    "display(show_graph(roots))"
   ]
  },
  {
   "cell_type": "markdown",
   "metadata": {},
   "source": [
    "Ezután az a kérdés, hogy el lehet-e jutni `A`-ból, `B`-be könnyen eldönthető. Ha `A` és `B` azonos komponensben van, akkor `A` és `B` között megy út az eredeti gráfban, különben nem."
   ]
  },
  {
   "cell_type": "markdown",
   "metadata": {},
   "source": [
    "1. példa\n",
    "`n = 3`, élek `edges = [[0,1], [1,2], [2,0]]`, `A =  0`, `B = 2`."
   ]
  },
  {
   "cell_type": "code",
   "execution_count": null,
   "metadata": {},
   "outputs": [],
   "source": [
    "def show_edges(edges, direction='LR'):\n",
    "    g = graphviz.Graph(graph_attr={'rankdir': direction})\n",
    "    g.edges([(str(a), str(b)) for a, b in edges])\n",
    "    return g"
   ]
  },
  {
   "cell_type": "code",
   "execution_count": null,
   "metadata": {},
   "outputs": [],
   "source": [
    "n = 3\n",
    "edges = [[0,1], [1,2], [2,0]]\n",
    "A =  0\n",
    "B = 2\n",
    "\n",
    "display(show_edges(edges, 'TD'))\n",
    "print(f\"Eredeti gráf\")\n",
    "print(\"=\"*50)\n",
    "\n",
    "roots = [i for i in range(n)]\n",
    "for a, b in edges:\n",
    "    union(roots, a, b)\n",
    "\n",
    "display(show_graph(roots))\n",
    "print(f\"{A=} és {B=} {'azonos' if find(roots, A)==find(roots, B) else 'különböző'} komponensben van\")"
   ]
  },
  {
   "cell_type": "markdown",
   "metadata": {},
   "source": [
    "2. példa"
   ]
  },
  {
   "cell_type": "code",
   "execution_count": null,
   "metadata": {},
   "outputs": [],
   "source": [
    "n = 6\n",
    "edges = [[0,1],[0,2],[3,5],[5,4],[4,3]]\n",
    "A = 0\n",
    "B = 5\n",
    "\n",
    "display(show_edges(edges))\n",
    "print(f\"Eredeti gráf\")\n",
    "print(\"=\"*50)\n",
    "\n",
    "roots = [i for i in range(n)]\n",
    "for a, b in edges:\n",
    "    union(roots, a, b)\n",
    "\n",
    "display(show_graph(roots))\n",
    "print(f\"{A=} és {B=} {'azonos' if find(roots, A)==find(roots, B) else 'különböző'} komponensben van\")\n"
   ]
  },
  {
   "cell_type": "markdown",
   "metadata": {},
   "source": [
    "Látszik, hogy először létre kell hoznunk a `roots` tömböt, majd utána ezzel kell számolnunk.\n",
    "\n",
    "Célszerű egy osztályt léterhozni:"
   ]
  },
  {
   "cell_type": "code",
   "execution_count": null,
   "metadata": {},
   "outputs": [],
   "source": [
    "class UnionFind:\n",
    "    def __init__(self, n):\n",
    "        self.roots = [i for i in range(n)]\n",
    "\n",
    "    def find(self, a):\n",
    "        while a != self.roots[a]:\n",
    "            a = self.roots[a]\n",
    "        return a\n",
    "\n",
    "    def union(self, a, b):\n",
    "        ra, rb = self.find(a), self.find(b)\n",
    "        if ra != rb:\n",
    "            self.roots[ra] = rb\n",
    "        return self\n",
    "\n",
    "    def show(self, *args, **kwargs):\n",
    "        display(show_graph(self.roots, *args, **kwargs))"
   ]
  },
  {
   "cell_type": "markdown",
   "metadata": {},
   "source": [
    "Mi történik, ha nagyobb gráfunk van?"
   ]
  },
  {
   "cell_type": "code",
   "execution_count": null,
   "metadata": {},
   "outputs": [],
   "source": [
    "n = 10\n",
    "edges = [(0,i+1) for i in range(n-1)]\n",
    "display(show_edges(edges, 'TD'))\n",
    "\n",
    "uf = UnionFind(n)\n",
    "for a, b in edges:\n",
    "    uf.union(a, b)\n",
    "\n",
    "uf.show()"
   ]
  },
  {
   "cell_type": "markdown",
   "metadata": {},
   "source": [
    "Valahányszor behúzzuk a $(0, i)$ élet, meg kell keresni $0$ reprezentánsát. $k$ él behúzása után $k$-lépéssel találjuk meg. Ha 10 helyett 10_000 méretű a gráf ez nem fog működni.\n",
    "\n",
    "### Javítási lehetőségek.\n",
    "\n",
    "- Amikor megkeressük $i$ reprezentánsát végig megyünk a reprezentánshoz vezető úton. Minden meglátogatott csúcsra ismerté válik a reprezentáns értéke. Ezt beírhatjuk a `roots` tömbe. (path compression)\n",
    "\n",
    "- A nagyobb komponensbe kössük be a kisebbet és ne fordítva. Ehhez  a ,,méretet'' nyilván kell tartani."
   ]
  },
  {
   "cell_type": "code",
   "execution_count": null,
   "metadata": {},
   "outputs": [],
   "source": [
    "def find_better(roots, a):\n",
    "    ra = roots[a]\n",
    "    if a != ra:\n",
    "        ra = find_better(roots, ra)\n",
    "        roots[a] = ra\n",
    "    return ra\n",
    "\n",
    "def find_better_without_recursion(roots, a):\n",
    "    stack = []\n",
    "\n",
    "    ra = roots[a]\n",
    "    while a != ra:\n",
    "        stack.append(a)\n",
    "        a = ra\n",
    "        ra = roots[a]\n",
    "\n",
    "    while stack:\n",
    "        roots[stack.pop()] = ra\n",
    "\n",
    "    return ra\n",
    "\n",
    "\n",
    "def union_sizes(roots, sizes, a, b):\n",
    "    ra = find_better(roots, a)\n",
    "    rb = find_better(roots, b)\n",
    "    if ra != rb:\n",
    "        if sizes[ra] < sizes[rb]:\n",
    "            ra, rb = rb, ra\n",
    "        roots[rb] = ra\n",
    "        sizes[ra] += sizes[rb]\n",
    "\n",
    "def union_ranks(roots, ranks, a, b):\n",
    "    ra = find_better(roots, a)\n",
    "    rb = find_better(roots, b)\n",
    "    if ra != rb:\n",
    "        if ranks[ra] < ranks[rb]:\n",
    "            ra, rb = rb, ra\n",
    "        roots[rb] = ra\n",
    "        if ranks[ra] == ranks[rb]:\n",
    "            ranks[ra] += 1"
   ]
  },
  {
   "cell_type": "code",
   "execution_count": null,
   "metadata": {},
   "outputs": [],
   "source": [
    "n = 10\n",
    "edges = [(0, i) for i in range(1, n)]\n",
    "display(show_edges(edges, 'TD'))\n",
    "\n",
    "roots = [i for i in range(n)]\n",
    "\n",
    "for a, b in edges:\n",
    "    ra = find_better(roots, a)\n",
    "    rb = find_better(roots, b)\n",
    "    roots[ra] = rb\n",
    "\n",
    "display(show_graph(roots, 'LR'))\n"
   ]
  },
  {
   "cell_type": "code",
   "execution_count": null,
   "metadata": {},
   "outputs": [],
   "source": [
    "n = 10\n",
    "edges = [(0, i) for i in range(1, n)]\n",
    "display(show_edges(edges, 'TD'))\n",
    "\n",
    "roots = [i for i in range(n)]\n",
    "\n",
    "for a, b in edges:\n",
    "    ra = find_better(roots, a)\n",
    "    rb = find_better(roots, b)\n",
    "    roots[rb] = ra\n",
    "\n",
    "display(show_graph(roots, 'TD'))\n"
   ]
  },
  {
   "cell_type": "code",
   "execution_count": null,
   "metadata": {},
   "outputs": [],
   "source": [
    "n = 10\n",
    "edges = [(0, i) for i in range(1, n)]\n",
    "display(show_edges(edges, 'TD'))\n",
    "\n",
    "roots = [i for i in range(n)]\n",
    "sizes = [1]*n\n",
    "\n",
    "for a, b in edges:\n",
    "    union_sizes(roots, sizes, a, b)\n",
    "\n",
    "display(show_graph(roots, 'TD'))\n"
   ]
  },
  {
   "cell_type": "code",
   "execution_count": null,
   "metadata": {},
   "outputs": [],
   "source": [
    "n = 10\n",
    "edges = [(0, i) for i in range(1, n)]\n",
    "display(show_edges(edges, 'TD'))\n",
    "\n",
    "roots = [i for i in range(n)]\n",
    "ranks = [0]*n\n",
    "\n",
    "for a, b in edges:\n",
    "    union_ranks(roots, ranks, a, b)\n",
    "\n",
    "display(show_graph(roots, 'TD'))\n"
   ]
  },
  {
   "cell_type": "markdown",
   "metadata": {},
   "source": [
    "### Szokásos implementáció"
   ]
  },
  {
   "cell_type": "code",
   "execution_count": null,
   "metadata": {},
   "outputs": [],
   "source": [
    "class UnionFind:\n",
    "    def __init__(self, n):\n",
    "        self.roots = [i for i in range(n)]\n",
    "        self.sizes = [1]*n\n",
    "\n",
    "    def find(self, a):\n",
    "        ra = self.roots[a]\n",
    "        if a != ra:\n",
    "            ra = self.find( ra)\n",
    "            self.roots[a] = ra\n",
    "        return ra\n",
    "\n",
    "    def union(self, a, b):\n",
    "        ra = self.find(a)\n",
    "        rb = self.find(b)\n",
    "        if ra != rb:\n",
    "            if self.sizes[ra] < self.sizes[rb]:\n",
    "                ra, rb = rb, ra\n",
    "            self.roots[rb] = ra\n",
    "            self.sizes[ra] += self.sizes[rb]\n"
   ]
  },
  {
   "cell_type": "code",
   "execution_count": null,
   "metadata": {},
   "outputs": [],
   "source": [
    "uf = UnionFind(10)\n",
    "print(uf)\n",
    "uf.union(1, 2)\n",
    "print(uf)\n",
    "uf.union(5, 9)\n",
    "uf.union(6, 7)\n",
    "print(uf)\n",
    "\n",
    "uf"
   ]
  },
  {
   "cell_type": "markdown",
   "metadata": {},
   "source": [
    "`__str__` és `__repr__` metódusok"
   ]
  },
  {
   "cell_type": "code",
   "execution_count": null,
   "metadata": {},
   "outputs": [],
   "source": [
    "def as_set(seq):\n",
    "    return f\"{{{', '.join(map(str, seq))}}}\"\n",
    "\n",
    "def uf_str(self):\n",
    "    components = {}\n",
    "    for a in range(len(self.roots)):\n",
    "        ra = self.find(a)\n",
    "        if ra not in components:\n",
    "            components[ra] = []\n",
    "        components[ra].append(a)\n",
    "    return f\"{{{ ', '.join(map(as_set, components.values()))}}}\"\n",
    "\n",
    "def uf_repr(self):\n",
    "    return f\"{type(self).__name__}({len(self.roots)})\"\n",
    "\n",
    "# Így is lehet:\n",
    "UnionFind.__str__ = uf_str\n",
    "UnionFind.__repr__ = uf_repr"
   ]
  },
  {
   "cell_type": "code",
   "execution_count": null,
   "metadata": {},
   "outputs": [],
   "source": [
    "uf = UnionFind(10)\n",
    "print(uf)\n",
    "uf.union(1, 2)\n",
    "print(uf)\n",
    "uf.union(5, 9)\n",
    "uf.union(6, 7)\n",
    "print(uf)\n",
    "\n",
    "uf"
   ]
  },
  {
   "cell_type": "markdown",
   "metadata": {},
   "source": [
    "### További kérdések\n",
    "\n",
    "- Tegyük fel, hogy a komponensek száma érdekel minket. Hogyan oldanánk, meg, hogy konstans idő alatt megkaphassuk.\n",
    "- Tegyük fel, hogy a legnagyobb komponens méretet érdekel minket. Hogyan oldanánk, meg, hogy konstans idő alatt megkaphassuk.\n",
    "- Hogyan ellenőriznénk, hogy két partíció azonos?"
   ]
  },
  {
   "cell_type": "markdown",
   "metadata": {},
   "source": [
    "# Faktoriális értékének közelítése"
   ]
  },
  {
   "cell_type": "markdown",
   "metadata": {},
   "source": [
    "Mekkora $n!$, ha $n$ nagy?\n",
    "\n",
    "Ötlet:\n",
    "$$\n",
    "    \\log n! = \\sum_{k=1}^n \\log k \\approx \\int_1^{?} \\log x dx = \\left[ x(\\log x-1)\\right]_{x=1}^{x=?}\n",
    "$$"
   ]
  },
  {
   "cell_type": "code",
   "execution_count": null,
   "metadata": {},
   "outputs": [],
   "source": [
    "import matplotlib.pyplot as plt\n",
    "import math\n",
    "\n",
    "def subdivision(a, b, n):\n",
    "    d = (b-a)/n\n",
    "    return [a+i*d for i in range(n+1)]\n",
    "\n",
    "def add_function_curve(f, a, b, n=100):\n",
    "    xs = subdivision(a, b, n)\n",
    "    fxs = [f(x) for x in  xs]\n",
    "    plt.plot(xs, fxs, \"r-\")"
   ]
  },
  {
   "cell_type": "markdown",
   "metadata": {},
   "source": [
    "## Téglalap közelítés"
   ]
  },
  {
   "cell_type": "code",
   "execution_count": null,
   "metadata": {},
   "outputs": [],
   "source": [
    "k_values = [k for k in range(1, 11)]\n",
    "for k in k_values:\n",
    "    plt.fill_between([k+i for k in k_values for i in range(2)], [math.log(k) for k in k_values for i in range(2)], color='lightblue')\n",
    "\n",
    "add_function_curve(math.log, 1, 11)\n"
   ]
  },
  {
   "cell_type": "markdown",
   "metadata": {},
   "source": [
    "A hiba:"
   ]
  },
  {
   "cell_type": "code",
   "execution_count": null,
   "metadata": {},
   "outputs": [],
   "source": [
    "def primitive_function(x):\n",
    "    return x*(math.log(x)-1)\n",
    "\n",
    "def rectangle_error(k):\n",
    "    return primitive_function(k+1)-primitive_function(k)-math.log(k)\n",
    "\n",
    "def cummulative_error(n, error_fun=rectangle_error):\n",
    "    return sum(error_fun(k) for k in range(1, n+1))"
   ]
  },
  {
   "cell_type": "code",
   "execution_count": null,
   "metadata": {},
   "outputs": [],
   "source": [
    "for n in [10, 100, 1000]:\n",
    "    print(f\"{n=}, {cummulative_error(n)=}\")"
   ]
  },
  {
   "cell_type": "markdown",
   "metadata": {},
   "source": [
    "### Javítás, trapéz összeg közelítés"
   ]
  },
  {
   "cell_type": "markdown",
   "metadata": {},
   "source": [
    "Téglalapok helyett minden egység intervallumon a beírt trapézt  használjuk."
   ]
  },
  {
   "cell_type": "code",
   "execution_count": null,
   "metadata": {},
   "outputs": [],
   "source": [
    "k_values = [k for k in range(1, 11)]\n",
    "for k in k_values:\n",
    "    plt.fill_between(k_values, [math.log(k) for k in k_values], color='lightblue')\n",
    "\n",
    "add_function_curve(math.log, 1, 10)\n"
   ]
  },
  {
   "cell_type": "code",
   "execution_count": null,
   "metadata": {},
   "outputs": [],
   "source": [
    "def error_fun(x):\n",
    "    k, t = divmod(x, 1)\n",
    "    return math.log(x) - ((1-t)*math.log(k) + t*math.log(k+1))\n",
    "\n",
    "xs = subdivision(1, 10, 100)\n",
    "plt.fill_between(xs, [error_fun(x) for x in xs], color='lightblue')\n",
    "add_function_curve(error_fun, 1, 10, 500)\n"
   ]
  },
  {
   "cell_type": "code",
   "execution_count": null,
   "metadata": {},
   "outputs": [],
   "source": [
    "def modified_error_fun(x):\n",
    "    k = x//1\n",
    "    return k*k*error_fun(x)\n",
    "\n",
    "for a in [1, 100, 1000, 10000]:\n",
    "    b = a+10\n",
    "    xs = subdivision(a, b, 1000)\n",
    "\n",
    "    plt.fill_between(xs, [modified_error_fun(x) for x in xs], color='lightblue')\n",
    "    add_function_curve(modified_error_fun, a, b, 1000)\n",
    "    plt.show()"
   ]
  },
  {
   "cell_type": "code",
   "execution_count": null,
   "metadata": {},
   "outputs": [],
   "source": [
    "def trapezoid_error(k):\n",
    "    return primitive_function(k+1)-primitive_function(k)-0.5*(math.log(k)+math.log(k+1))\n"
   ]
  },
  {
   "cell_type": "code",
   "execution_count": null,
   "metadata": {},
   "outputs": [],
   "source": [
    "for n in [10, 100, 1000]:\n",
    "    print(f\"{n = :>4}, {cummulative_error(n, trapezoid_error) = :.8f}\")"
   ]
  },
  {
   "cell_type": "markdown",
   "metadata": {},
   "source": [
    "## Látszik, hogy a hiba lassan nő. Tudunk-e felső becslést adni rá?\n",
    "\n",
    "$$\n",
    "    \\int_{k}^{k+1} \\log x dx = \\int_0^1 \\log(k+x) dx\n",
    "$$\n",
    "\n",
    "A beírt trapéz területe integrállal\n",
    "\n",
    "$$\n",
    "    \\int_0^1 x\\log(k+1)+(1-x)\\log(k) dx\n",
    "$$\n",
    "\n",
    "Tudjuk-e becsülni a két integrandus különbségét?\n",
    "$$\n",
    "    \\log(k+x) - (x\\log(k+1)+(1-x)\\log(k))\n",
    "$$\n",
    "\n",
    "Átalakítás mindkét tagból levonunk $\\log(k)$-t:\n",
    "$$\n",
    "    \\log(k+x) - \\log(k) - (x\\log(k+1)+(1-x)\\log(k) -\\log(k)) = \\log(1+\\tfrac{x}{k}) - x\\log(1+\\tfrac1k)\n",
    "$$\n"
   ]
  },
  {
   "cell_type": "code",
   "execution_count": null,
   "metadata": {},
   "outputs": [],
   "source": [
    "xs = subdivision(0, 1, 100)\n",
    "\n",
    "for k in range(1, 4):\n",
    "    plt.fill_between(xs, [math.log(k+x)-math.log(k) for x in xs], [math.log(k+1)*x+math.log(k)*(1-x)-math.log(k) for x in xs], color=\"blue\")\n",
    "\n",
    "plt.grid()"
   ]
  },
  {
   "cell_type": "markdown",
   "metadata": {},
   "source": [
    "A logaritmus függvény konkáv, a derivált monoton fogy ($1/x$) és egy beírt húr mindig a végponthoz behúzott érintő egyenesek alatt van.\n",
    "\n",
    "$$\n",
    "    \\log (1+x)\\leq x\n",
    "$$\n",
    "\n",
    "ezért\n",
    "$$\n",
    "    \\log(1+x/k) - x \\log(1+1/k)\\leq \\frac xk - x\\log(1+1/k) = x(1/k -\\log(1+1/k))\n",
    "$$\n",
    "\n",
    "de\n",
    "$$\n",
    "    \\log(1+1/k) = \\log\\frac{k+1}{k} = -\\log\\frac{k}{k+1} = -\\log(1-1/(k+1)) \\geq \\frac1{k+1}\n",
    "$$\n",
    "\n",
    "Így\n",
    "\n",
    "$$\n",
    "    \\log(1+x/k) - x \\log(1+1/k)\\leq x\\left(\\frac1k-\\frac1{k+1}\\right)\n",
    "$$\n",
    "és\n",
    "a $k$. intervallumon elkövetett hiba legfeljebb\n",
    "$$\n",
    "    \\int_{0}^{1} \\log(k+x) - ((1-x)\\log(k)+x\\log(k+1))dx = \\int_0^1 x dx \\left(\\frac1k -\\frac1{k+1}\\right)\n",
    "$$\n",
    "A hibák összege legfeljebb:\n",
    "$$\n",
    "    \\frac12 \\sum_{k=1}^\\infty \\frac1k -\\frac1{k+1} =\\frac12\n",
    "$$"
   ]
  },
  {
   "cell_type": "markdown",
   "metadata": {},
   "source": [
    "Összefoglalva:\n",
    "\n",
    "$$\n",
    "    \\log n! = \\int_1^n \\log x dx + \\frac12 \\log n + r_n = n(\\log(n) - 1) + 1 + \\frac12 \\log (n) + r_n\n",
    "$$\n",
    "ahol $r_n$ a közelítés hibája az első $n$ intervallumon\n",
    "$$\n",
    "    r_n = \\sum_{k=1}^n \\int_0^1 \\log(1+x/k)-x\\log(1+1/k)dx \\leq 1/2\n",
    "$$\n",
    "$(r_n)$ monoton nő, ezért létezik limesze.\n",
    "\n",
    "Visszaírva faktoriálisra:\n",
    "\n",
    "$$\n",
    "    n! = \\sqrt{n}\\left(\\frac{n}{e}\\right)^n c_n\n",
    "$$\n",
    "ahol $c_n=e^{1+r_n}\\leq e^{3/2}$\n",
    "\n",
    "Analízisben a Wallis formula következményeként szerepel\n",
    "\n",
    "$$\n",
    "\\lim c_n = \\sqrt{2\\pi}\n",
    "$$\n",
    "\n",
    "Ez a nevezetes **Stirling** formula:\n",
    "$$\n",
    " \\frac{n!}{\\sqrt{2\\pi n}\\left(\\frac{n}{e}\\right)^n} \\to 1\n",
    "$$\n"
   ]
  },
  {
   "cell_type": "markdown",
   "metadata": {},
   "source": [
    "### Wallis formula középiskolai eszközökkel"
   ]
  },
  {
   "cell_type": "markdown",
   "metadata": {},
   "source": [
    "\n",
    "Középiskolai tudást használva is kiszámíthatnánk a limeszt. Ehhez a\n",
    "$$\n",
    "    I_n = \\int_{0}^{\\pi/2} \\cos^n(x) dx\n",
    "$$\n",
    "sorozatot kellen vizsgálni. Parciálisan integrálva:\n",
    "$$\n",
    "    I_{n+2} = \\int_{0}^{\\pi/2} (1-\\sin^2x)\\cos^n(x) dx\n",
    "    = I_n - \\int_{0}^{\\pi/2} \\sin^2(x)\\cos^n(x) dx\n",
    "$$\n",
    "ahol\n",
    "$$\n",
    "\\begin{aligned}\n",
    "-\\int_{0}^{\\pi/2} \\sin^2(x)\\cos^n(x) dx\n",
    "& =\n",
    "\\frac1{n+1} \\int_{0}^{\\pi/2} \\sin(x)(\\cos^{n+1}(x))' dx\n",
    "\\\\\n",
    "&=\n",
    "\\frac{1}{n+1}\\left[\\sin(x)\\cos^{n+1}(x)\\right]_{x=0}^{x=\\pi/2}-\\frac{1}{n+1}\\int_0^{\\pi/2}\\cos^{n+2}(x)dx\n",
    "\\\\\n",
    "&= -\\frac{1}{n+1} I_{n+2}\n",
    "\\end{aligned}\n",
    "$$\n",
    "\n",
    "**Összefoglalva**:\n",
    "\n",
    "$$\n",
    "    I_{n+2} = \\int_{0}^{\\pi/2} (1-\\sin^2x)\\cos^n(x) dx\n",
    "    = I_n - \\frac{1}{n+1}I_{n+2} = \\frac{n+1}{n+2} I_n\n",
    "$$\n",
    "\n",
    "Ha $n=2k$ páros, akkor\n",
    "$$\n",
    "    I_{2k} = \\frac{2k-1}{2k} I_{2k-2} = \\frac{(2k-1)(2k-3)}{2k(2k-2)} I_{2k-4} =\\cdots=\\frac{(2k-1)!!}{2^k k!}I_0=\\frac{1}{2^{2k}}\\binom{2k}{k}\\frac{\\pi}2\n",
    "$$\n",
    "Ha $n=2k+1$ páratlan, akkor\n",
    "$$\n",
    "    I_{2k+1} = \\frac{2k}{2k-1} I_{2k-3} = \\frac{(2k)(2k-2)}{(2k+1)(2k-1)} I_{2k-3} =\\cdots=\\frac{2^k k!}{(2k+1)!!}I_1=\\frac{2^{2k}}{(2k+1)\\binom{2k}{k}}=\\frac{2^{2(k+1)}}{2(k+1)\\binom{2(k+1)}{k+1}}\n",
    "$$\n",
    "Mivel $(I_n)$ monoton fogyó:\n",
    "$$\n",
    "    I_{2k-1}=\\frac{2^{2k}}{2k\\binom{2k}{k}}  > I_{2k} = \\frac{1}{2^{2k}}\\binom{2k}{k}\\frac{\\pi}2  > I_{2k+1}= \\frac{2^k k!}{(2k+1)!!}I_1=\\frac{2^{2k}}{(2k+1)\\binom{2k}{k}}\n",
    "$$\n",
    "Átrendezés után\n",
    "$$\n",
    "\\frac{1}{2k\\pi/2} < \\left(\\frac{1}{2^{2k}}\\binom{2k}{k}\\right)^2 < \\frac{1}{(2k+1)\\pi/2}\n",
    "$$\n",
    "és\n",
    "$$\n",
    "    \\lim_{n\\to\\infty}\\sqrt{n} \\frac{1}{2^{2n}}\\binom{2n}{n} = \\frac{1}{\\sqrt{\\pi}}\n",
    "$$\n",
    "\n",
    "Másfelől a faktoriális közelítését használva:\n",
    "$$\n",
    "    \\sqrt{n}\\frac1{2^{2n}}\\binom{2n}{n}\n",
    "    = \\sqrt{n} \\frac1{2^{2n}} \\frac{c_{2n} \\sqrt{2n} \\left(\\frac{2n}{e}\\right)^{2n}}{c_n^2 n\\left(\\frac{n}{e}\\right)^{2n}}\n",
    "    \\to \\lim_{n\\to\\infty} \\frac{\\sqrt{2}c_{2n}}{c_n^2} = \\lim_{n\\to\\infty}\\frac{\\sqrt{2}}{c_n}=\\frac1{\\sqrt{\\pi}}\n",
    "$$\n",
    "amiből $\\lim_n c_n =\\sqrt{2\\pi}$.\n",
    "\n"
   ]
  },
  {
   "cell_type": "markdown",
   "metadata": {},
   "source": [
    "# Conway Game of Life"
   ]
  },
  {
   "cell_type": "markdown",
   "metadata": {},
   "source": [
    "\n",
    "The Game of Life is a cellular automaton created by mathematician John Conway in 1970. The game consists of a board of cells that are either on or off. One creates an initial configuration of these on/off states and observes how it evolves. There are four simple rules to determine the next state of the game board, given the current state:\n",
    "\n",
    "- **Overpopulation**: if a living cell is surrounded by more than three living cells, it dies.\n",
    "- **Stasis**: if a living cell is surrounded by two or three living cells, it survives.\n",
    "- **Underpopulation**: if a living cell is surrounded by fewer than two living cells, it dies.\n",
    "- **Reproduction**: if a dead cell is surrounded by exactly three cells, it becomes a live cell.\n",
    "\n",
    "\n",
    "Írjunk egy osztályt a játékhoz, pl. az `__init__` metódus hozzalétre a megadott konfigurációnak megfelelő objektumot. Legyen egy `step` metódus, ami a rendszert a következő állapotába viszi és az `__str__` metódus pedig\n",
    "valahogy ábrázolja az aktuális állapotot. \n",
    "\n",
    "Tegyük fel, hogy a rács amin a rendszer él, egy $n\\times n$-es rács, ahol mindkét irányban ciklikusan körbemegyünk,\n",
    "azaz a csúcsokat modulo $n$ tekintjük.\n"
   ]
  },
  {
   "cell_type": "code",
   "execution_count": null,
   "metadata": {},
   "outputs": [],
   "source": [
    "class ConwayGoL:\n",
    "    \n",
    "    def __init__(self, state):\n",
    "        self.state = list(state)\n",
    "\n",
    "    def step(self):\n",
    "        return self\n",
    "\n",
    "    def __repr__(self):\n",
    "        return f\"{type(self).__name__}({self.state})\""
   ]
  },
  {
   "cell_type": "code",
   "execution_count": null,
   "metadata": {},
   "outputs": [],
   "source": [
    "import random\n",
    "\n",
    "init_state = [] ## ???\n",
    "conway = ConwayGoL(init_state)\n",
    "\n",
    "conway.step()\n"
   ]
  },
  {
   "cell_type": "markdown",
   "metadata": {},
   "source": [
    "A játék állapotának leírásához egy $m\\times n$ rács minden pontjáról tudni kell, hogy foglalt-e vagy sem.\n",
    "\n",
    "```python\n",
    "m, n = 11, 11\n",
    "state = [[0]*n for _ in range(m)]\n",
    "```\n",
    "\n",
    "Véletlenszerű kezdeti állapot:\n",
    "```python\n",
    "state = [[random.randint(0,1) for _ in range(n)] for _ in range(m)]\n",
    "```"
   ]
  },
  {
   "cell_type": "code",
   "execution_count": null,
   "metadata": {},
   "outputs": [],
   "source": [
    "def random_state(n, m, p):\n",
    "    return [[int(random.random()<p) for _ in range(m)] for _ in range(n)]\n",
    "\n",
    "state = random_state(5, 6, 0.2)\n",
    "print(state)"
   ]
  },
  {
   "cell_type": "markdown",
   "metadata": {},
   "source": [
    "Szebb megjelenítés?"
   ]
  },
  {
   "cell_type": "code",
   "execution_count": null,
   "metadata": {},
   "outputs": [],
   "source": [
    "def as_matrix(lst, n):\n",
    "    return [lst[i:i+n] for i in range(0, len(lst), n)]\n",
    "\n",
    "print('\\n'.join(''.join(map(str, line)) for line in state))\n"
   ]
  },
  {
   "cell_type": "code",
   "execution_count": null,
   "metadata": {},
   "outputs": [],
   "source": [
    "for symbols in [\n",
    "    \"\\u2b1c\\u2b1b\",\n",
    "    \"·♥\",\n",
    "    \"🟡🟥\"\n",
    "    ]:\n",
    "    print('\\n'.join(''.join(symbols[x] for x in line) for line in state))\n"
   ]
  },
  {
   "cell_type": "code",
   "execution_count": null,
   "metadata": {},
   "outputs": [],
   "source": [
    "import matplotlib.pyplot as plt \n",
    "\n",
    "img = plt.matshow(state, cmap=\"Pastel1\", vmax=1, vmin=0, alpha=0.8)\n",
    "img.axes.axis(\"off\")\n",
    "n, m = len(state), len(state[0])\n",
    "for pos in range(0, n+1):\n",
    "    img.axes.axhline(y=pos-0.5, color=\"gray\")\n",
    "for pos in range(0, m+1):\n",
    "    img.axes.axvline(x=pos-0.5, color=\"gray\")\n",
    "\n",
    "plt.show()\n"
   ]
  },
  {
   "cell_type": "code",
   "execution_count": null,
   "metadata": {},
   "outputs": [],
   "source": [
    "\n",
    "def cgol_str(self):\n",
    "    symbols = \"\\u2b1c\\u2b1b\"\n",
    "    return '\\n'.join(''.join(symbols[x] for x in line) for line in self.state)\n",
    "\n",
    "ConwayGoL.__str__ = cgol_str\n",
    "\n",
    "    "
   ]
  },
  {
   "cell_type": "code",
   "execution_count": null,
   "metadata": {},
   "outputs": [],
   "source": [
    "conway = ConwayGoL(state)\n",
    "print(conway)"
   ]
  },
  {
   "cell_type": "markdown",
   "metadata": {},
   "source": [
    "A `step` metódushoz ki kellene számolni egy adott csúcs foglalt szomszédainak számát `cnt`. Ha ez kész,\n",
    "akkor az $i$ csúcs új állapota:\n",
    "\n",
    "$$\n",
    "    \\text{state}_{t+1}[i]=\n",
    "    \\begin{cases}\n",
    "    1 &\\text{Ha $\\text{cnt}[i]\\in\\{2,3\\}$ és $\\text{state}_t[i]=1$}\\\\\n",
    "    1 &\\text{Ha $\\text{cnt}[i]\\in\\{3\\}$ és $\\text{state}_t[i]=0$}\\\\\n",
    "    0 &\\text{különben}\n",
    "    \\end{cases}\n",
    "$$"
   ]
  },
  {
   "cell_type": "code",
   "execution_count": null,
   "metadata": {},
   "outputs": [],
   "source": [
    "def newstate(state, count):\n",
    "    return [int((c==3)|((c==2) & (s==1))) for s, c in  zip(state, count)]"
   ]
  },
  {
   "cell_type": "code",
   "execution_count": null,
   "metadata": {},
   "outputs": [],
   "source": [
    "import ipytest\n",
    "ipytest.autoconfig()"
   ]
  },
  {
   "cell_type": "code",
   "execution_count": null,
   "metadata": {},
   "outputs": [],
   "source": [
    "%%ipytest\n",
    "\n",
    "def test_newstate():\n",
    "    res = [0]*9\n",
    "    res[2] = 1\n",
    "    res[3] = 1\n",
    "    assert newstate([1]*9, list(range(9))) == res\n",
    "    res = [0]*9\n",
    "    res[3] = 1    \n",
    "    assert newstate([0]*9, list(range(9))) == res\n"
   ]
  },
  {
   "cell_type": "code",
   "execution_count": null,
   "metadata": {},
   "outputs": [],
   "source": [
    "def count_neighbors(state):\n",
    "    delta = [(0,-1), (0, 1), (1,-1), (1,0), (1,1), (-1,-1), (-1,0), (-1,1)] \n",
    "    m, n = len(state), len(state[0])\n",
    "    return [ [sum(state[(i+di) % m][(j+dj) % n] for di, dj in delta) for j in range(n)] for i in range(m)]\n",
    "\n",
    "def cgol_step(self):\n",
    "    counts = count_neighbors(self.state)\n",
    "    self.state = [ newstate(line, cnt) for line, cnt in zip(self.state, counts) ]\n",
    "    return self\n",
    "    \n",
    "ConwayGoL.step = cgol_step"
   ]
  },
  {
   "cell_type": "code",
   "execution_count": null,
   "metadata": {},
   "outputs": [],
   "source": [
    "@classmethod\n",
    "def cgol_from_random_state(cls, n, m,  p):\n",
    "    return cls(random_state(n, m, p))\n",
    "\n",
    "ConwayGoL.from_random_state=cgol_from_random_state"
   ]
  },
  {
   "cell_type": "code",
   "execution_count": null,
   "metadata": {},
   "outputs": [],
   "source": [
    "conway = ConwayGoL.from_random_state(5, 10, 0.2)\n",
    "print(conway)\n",
    "print(*count_neighbors(conway.state), sep='\\n')"
   ]
  },
  {
   "cell_type": "code",
   "execution_count": null,
   "metadata": {},
   "outputs": [],
   "source": [
    "conway = ConwayGoL.from_random_state(5, 5, 0.25)\n",
    "print(conway)\n",
    "print(\"-\"*20)\n",
    "print(conway.step())"
   ]
  },
  {
   "cell_type": "markdown",
   "metadata": {},
   "source": [
    "Tudunk-e valami animációszerűt készíteni? Jupyter notebook-ban pl. a következő képpen lehet: "
   ]
  },
  {
   "cell_type": "code",
   "execution_count": null,
   "metadata": {},
   "outputs": [],
   "source": [
    "from ipywidgets import Output\n",
    "from time import sleep\n"
   ]
  },
  {
   "cell_type": "code",
   "execution_count": null,
   "metadata": {},
   "outputs": [],
   "source": [
    "\n",
    "out = Output()\n",
    "display(out)\n",
    "conway = ConwayGoL.from_random_state(n=21, m=51, p=0.2)\n",
    "\n",
    "for i in range(50):\n",
    "    out.clear_output(True)\n",
    "    with out:\n",
    "        print(f\"After {i} steps:\\n{conway}\")  \n",
    "    sleep(0.15)\n",
    "    conway.step()\n"
   ]
  },
  {
   "cell_type": "markdown",
   "metadata": {},
   "source": [
    "## Ugyanez `numpy` tömbbel"
   ]
  },
  {
   "cell_type": "code",
   "execution_count": null,
   "metadata": {},
   "outputs": [],
   "source": [
    "import numpy as np"
   ]
  },
  {
   "cell_type": "markdown",
   "metadata": {},
   "source": [
    "### Random `state`"
   ]
  },
  {
   "cell_type": "code",
   "execution_count": null,
   "metadata": {},
   "outputs": [],
   "source": [
    "def random_state_np(m, n, p):\n",
    "    return np.random.binomial(1, p, size=(m, n)).astype(np.int8)\n"
   ]
  },
  {
   "cell_type": "code",
   "execution_count": null,
   "metadata": {},
   "outputs": [],
   "source": [
    "print(random_state_np(11, 21, 0.2))"
   ]
  },
  {
   "cell_type": "markdown",
   "metadata": {},
   "source": [
    "### `__str__` unicode karakterrel"
   ]
  },
  {
   "cell_type": "code",
   "execution_count": null,
   "metadata": {},
   "outputs": [],
   "source": [
    "\n",
    "symbols_array = np.array([\"\\u2b1c\", \"\\u2b1b\"])\n",
    "\n",
    "def str_state_np(state):\n",
    "    return '\\n'.join(map(''.join, symbols_array[state]))"
   ]
  },
  {
   "cell_type": "code",
   "execution_count": null,
   "metadata": {},
   "outputs": [],
   "source": [
    "print(str_state_np(random_state(11, 21, 0.2)))"
   ]
  },
  {
   "cell_type": "markdown",
   "metadata": {},
   "source": [
    "### Szomszédszám `pad`-el"
   ]
  },
  {
   "cell_type": "code",
   "execution_count": null,
   "metadata": {},
   "outputs": [],
   "source": [
    "def count_neighbors_np(state, mode='wrap'):\n",
    "    count = np.pad(state, pad_width=((1,1), (1,1)), mode=mode)\n",
    "    count = count[2:]+ count[1:-1] + count[:-2]\n",
    "    count = count[:, 2:] + count[:, 1:-1] + count[:,:-2]\n",
    "    return count-state"
   ]
  },
  {
   "cell_type": "code",
   "execution_count": null,
   "metadata": {},
   "outputs": [],
   "source": [
    "state = random_state_np(5, 8, 0.2)\n",
    "print(str_state_np(state))\n",
    "print(count_neighbors_np(state))"
   ]
  },
  {
   "cell_type": "code",
   "execution_count": null,
   "metadata": {},
   "outputs": [],
   "source": [
    "def new_state_np(state):\n",
    "    count = count_neighbors_np(state)\n",
    "    return ((count == 3)|((count == 2) & (state==1))).astype(np.int8)"
   ]
  },
  {
   "cell_type": "code",
   "execution_count": null,
   "metadata": {},
   "outputs": [],
   "source": [
    "x = np.arange(5)\n",
    "(x<4)&(x>2)"
   ]
  },
  {
   "cell_type": "code",
   "execution_count": null,
   "metadata": {},
   "outputs": [],
   "source": [
    "state0 = random_state_np(11, 21, 0.2)\n",
    "state1 = new_state_np(state0)\n",
    "print(str_state_np(state0))\n",
    "print('='*50)\n",
    "print(str_state_np(state1))"
   ]
  },
  {
   "cell_type": "code",
   "execution_count": null,
   "metadata": {},
   "outputs": [],
   "source": [
    "state = random_state_np(11, 21, 0.2)\n",
    "plt.imshow(state, cmap='Pastel1_r', vmax=1, vmin=0)\n",
    "plt.xticks(np.arange(state.shape[1]+1)-.5, minor=True)\n",
    "plt.xticks([])\n",
    "plt.yticks(np.arange(state.shape[0]+1)-.5, minor=True)\n",
    "plt.yticks([])\n",
    "plt.grid(which=\"minor\", color=\"gray\", linestyle='-', linewidth=1)\n",
    "plt.axis()\n",
    "\n",
    "for (i, j), cnt in np.ndenumerate(count_neighbors_np(state)):\n",
    "    plt.text(j, i, str(cnt), ha=\"center\", va=\"center\")\n",
    "    "
   ]
  },
  {
   "cell_type": "code",
   "execution_count": null,
   "metadata": {},
   "outputs": [],
   "source": [
    "plt.imshow(state, cmap='Pastel1_r', vmax=1, vmin=0)\n",
    "plt.xticks(np.arange(state.shape[1]+1)-.5, minor=True)\n",
    "plt.xticks([])\n",
    "plt.yticks(np.arange(state.shape[0]+1)-.5, minor=True)\n",
    "plt.yticks([])\n",
    "plt.grid(which=\"minor\", color=\"gray\", linestyle='-', linewidth=1)\n",
    "plt.axis()\n",
    "\n",
    "for (i, j), cnt in np.ndenumerate(new_state_np(state)):\n",
    "    plt.text(j, i, str(cnt), ha=\"center\", va=\"center\")\n",
    "    "
   ]
  },
  {
   "cell_type": "code",
   "execution_count": null,
   "metadata": {},
   "outputs": [],
   "source": [
    "out = Output()\n",
    "display(out)\n",
    "state = random_state_np(n=51, m=21, p=0.2)\n",
    "\n",
    "for i in range(50):\n",
    "    out.clear_output(True)\n",
    "    with out:\n",
    "        print(f\"After {i} steps:\\n{str_state_np(state)}\")  \n",
    "    sleep(0.15)\n",
    "    state = new_state_np(state)\n"
   ]
  },
  {
   "cell_type": "markdown",
   "metadata": {},
   "source": [
    "## Parancssoros script"
   ]
  },
  {
   "cell_type": "markdown",
   "metadata": {},
   "source": [
    "Ha parancssorból dolgozunk, akkor valami ilyesmit lehetne tenni"
   ]
  },
  {
   "cell_type": "code",
   "execution_count": null,
   "metadata": {},
   "outputs": [],
   "source": [
    "%%writefile conway.py\n",
    "\n",
    "import random\n",
    "\n",
    "\n",
    "def random_state(m, n, p):\n",
    "    return [ [ int(random.random()<p) for _ in range(n) ] for _ in range(m) ]\n",
    "\n",
    "def count_neighbors(state):\n",
    "    delta = [(0,-1), (0, 1), (1,-1), (1,0), (1,1), (-1,-1), (-1,0), (-1,1)] \n",
    "    m, n = len(state), len(state[0])\n",
    "    return [ [sum(state[(i+di) % m][(j+dj) % n] for di, dj in delta) for j in range(n)] for i in range(m)]\n",
    "\n",
    "def newstate(state, count):\n",
    "    return [int((c==3)|((c==2) & (s==1))) for s, c in  zip(state, count)]\n",
    "\n",
    "class ConwayGoL:\n",
    "    symbols = \"\\u2b1c\\u2b1b\"\n",
    "    \n",
    "    def __init__(self, state):\n",
    "        self.state = list(state)\n",
    "        \n",
    "    def step(self):\n",
    "        counts = count_neighbors(self.state)\n",
    "        self.state = [ newstate(line, cnt) for line, cnt in zip(self.state, counts) ]\n",
    "        return self\n",
    "\n",
    "    \n",
    "    def __str__(self): \n",
    "        symbols = self.symbols\n",
    "        return '\\n'.join(''.join(symbols[x] for x in line) for line in self.state)\n",
    "\n",
    "    def __repr__(self):\n",
    "        return f\"{type(self).__name__}({self.state})\"\n",
    "    \n",
    "    @classmethod\n",
    "    def from_random_state(cls, m, n, p):\n",
    "        return cls(random_state(m, n, p))\n",
    "\n",
    "    def is_empty(self):\n",
    "        return not any(any(line) for line in self.state)\n",
    "\n",
    "\n",
    "def clear_terminal(n):\n",
    "    print(f\"{chr(27)}[{n+1}A\", end=\"\")\n",
    "\n",
    "def main(m=11, n=25, p=0.2, nsteps=10, clear_screen=clear_terminal):\n",
    "    from time import sleep\n",
    "    conway = ConwayGoL.from_random_state(m, n, p)\n",
    "    for i in range(nsteps+1):\n",
    "        if i>0:\n",
    "            clear_screen(m)\n",
    "        print(f\"after {i} step:\")\n",
    "        print(conway)  \n",
    "        sleep(0.2)\n",
    "        conway.step()\n",
    "        if conway.is_empty():\n",
    "            break\n",
    "    \n",
    "if __name__ == \"__main__\":\n",
    "    main()\n",
    "    "
   ]
  },
  {
   "cell_type": "markdown",
   "metadata": {},
   "source": [
    "Ha valamit már megírtunk és szeretnénk használni, `import`-tal elérhető. Pl."
   ]
  },
  {
   "cell_type": "markdown",
   "metadata": {},
   "source": [
    "### Tudunk-e paramétereket adni a python scriptnek?\n",
    "\n",
    "Amikor egy python scriptet futtatunk, a parancssor (amivel a futást indítottuk) a `sys` modul `argv` változójában érhető el."
   ]
  },
  {
   "cell_type": "code",
   "execution_count": null,
   "metadata": {},
   "outputs": [],
   "source": [
    "import sys\n",
    "sys.argv"
   ]
  },
  {
   "cell_type": "code",
   "execution_count": null,
   "metadata": {},
   "outputs": [],
   "source": [
    "! python -c 'import sys; print(sys.argv)' -alma\n"
   ]
  },
  {
   "cell_type": "markdown",
   "metadata": {},
   "source": [
    "Egy nagyon egyszerű megoldás, ha minden opciónak a neve a paraméter amit beállít és egyenlőségjel után az értéke:\n",
    "pl. n=11 m=25 nstep=10 p=0.2"
   ]
  },
  {
   "cell_type": "code",
   "execution_count": null,
   "metadata": {},
   "outputs": [],
   "source": [
    "cmdline = \"conway.py -n=11 -m=25 -nstep=10 -p=0.2\"\n",
    "argv = cmdline.split()\n",
    "params =[param.split(\"=\") for param in argv[1:]]\n",
    "params"
   ]
  },
  {
   "cell_type": "markdown",
   "metadata": {},
   "source": [
    "Minden paraméterről tudni kellene, hogy milyen típusú!"
   ]
  },
  {
   "cell_type": "code",
   "execution_count": null,
   "metadata": {},
   "outputs": [],
   "source": [
    "param_types={'-n': int, '-m': int, '-nstep': int, '-p': float}\n",
    "params = {k.replace(\"-\",\"\"): param_types[k](v)  for k, v in (param.split(\"=\") for param in argv[1:])}\n",
    "params"
   ]
  },
  {
   "cell_type": "markdown",
   "metadata": {},
   "source": [
    "Ezek után a `main` függvényt a megadott paraméterekkel meg tudjuk hívni:\n",
    "\n",
    "```\n",
    "    main(**params)\n",
    "```\n",
    "Mi van a `default` értékekkel, `help`-pel stb.\n",
    "\n",
    "Ezeket mind meg tudnánk írni, de nem kell. Van kész megoldás `python`-ban.\n",
    "\n",
    "Az `argparse` könvytár mindent megcsinál, ami nekünk kell."
   ]
  },
  {
   "cell_type": "code",
   "execution_count": null,
   "metadata": {},
   "outputs": [],
   "source": [
    "import argparse\n",
    "\n",
    "help(argparse)"
   ]
  },
  {
   "cell_type": "markdown",
   "metadata": {},
   "source": [
    "A `conway.py` file végét cseréljük le erre.\n",
    "```python\n",
    "if __name__ == \"__main__\":\n",
    "    import argparse\n",
    "    \n",
    "    parser = argparse.ArgumentParser(description='Conways Game of Life')\n",
    "\n",
    "    parser.add_argument(\n",
    "        '-n', '--nrows', \n",
    "        type=int, \n",
    "        default=11, \n",
    "        help='number of rows'\n",
    "        )\n",
    "\n",
    "    parser.add_argument(\n",
    "        '-m', '--ncols',\n",
    "        type=int, \n",
    "        default=25, \n",
    "        help='number of columns'\n",
    "        )\n",
    "\n",
    "    parser.add_argument(\n",
    "        '-p', '--density',\n",
    "        type=float, \n",
    "        default=0.2,\n",
    "        help='initial density')\n",
    "    \n",
    "    parser.add_argument(\n",
    "        '--nsteps', \n",
    "        type=int, \n",
    "        default=10, \n",
    "        help='steps to display'\n",
    "        )\n",
    "\n",
    "    args = parser.parse_args()\n",
    "    print(args)\n",
    "    \n",
    "    main(n=args.ncols, m=args.nrows, p=args.density, nsteps=args.nsteps)\n",
    "```\n",
    "    "
   ]
  },
  {
   "cell_type": "code",
   "execution_count": null,
   "metadata": {},
   "outputs": [],
   "source": [
    "# import importlib\n",
    "# importlib.reload(conway)"
   ]
  },
  {
   "cell_type": "code",
   "execution_count": null,
   "metadata": {},
   "outputs": [],
   "source": [
    "import conway\n",
    "\n",
    "out1 = Output()\n",
    "display(out1)\n",
    "\n",
    "with out1:\n",
    "    conway.main(clear_screen=lambda n: out1.clear_output(True))"
   ]
  },
  {
   "cell_type": "markdown",
   "metadata": {},
   "source": [
    "Az `argparse` könyvtár nem a legkényelmesebb. Alternatívák:\n",
    "\n",
    "- [Docopt](http://docopt.org/)\n",
    "- [Click](https://pypi.org/project/click/)\n",
    "- [clize](https://github.com/epsy/clize)\n",
    "\n",
    "és még sok másik is!"
   ]
  },
  {
   "cell_type": "markdown",
   "metadata": {},
   "source": [
    "## Itt is használhattunk volna dekorátort"
   ]
  },
  {
   "cell_type": "markdown",
   "metadata": {},
   "source": [
    "\n",
    "A `ConwayGoL` példában utólag adtunk metódusokat az osztályunkhoz. Ezt is megtehettük volna dekorátorral.  "
   ]
  },
  {
   "cell_type": "code",
   "execution_count": null,
   "metadata": {},
   "outputs": [],
   "source": [
    "def conway_method(f):\n",
    "    setattr(ConwayGoL, f.__name__, f)\n",
    "    return f\n",
    "\n",
    "\n",
    "@conway_method\n",
    "def dummy_method(self):\n",
    "    print(\"this is a message from the new method!\")\n",
    "\n",
    "c = ConwayGoL([], 0)\n",
    "c.dummy_method()"
   ]
  },
  {
   "cell_type": "markdown",
   "metadata": {},
   "source": [
    "Azt is megtehettük volna, hogy a osztály nincs beleégetve a kódba."
   ]
  },
  {
   "cell_type": "code",
   "execution_count": null,
   "metadata": {},
   "outputs": [],
   "source": [
    "def new_method(cls):\n",
    "    def decorator(f):\n",
    "        setattr(cls, f.__name__, f)\n",
    "        return f \n",
    "    return decorator\n",
    "\n",
    "@new_method(ConwayGoL)\n",
    "def dummy_method(self):\n",
    "    print(\"Note that the old value of dummy_method is overwritten!\")"
   ]
  },
  {
   "cell_type": "code",
   "execution_count": null,
   "metadata": {},
   "outputs": [],
   "source": [
    "c.dummy_method()"
   ]
  }
 ],
 "metadata": {
  "kernelspec": {
   "display_name": "python3.10",
   "language": "python",
   "name": "python3"
  },
  "language_info": {
   "codemirror_mode": {
    "name": "ipython",
    "version": 3
   },
   "file_extension": ".py",
   "mimetype": "text/x-python",
   "name": "python",
   "nbconvert_exporter": "python",
   "pygments_lexer": "ipython3",
   "version": "3.10.12"
  }
 },
 "nbformat": 4,
 "nbformat_minor": 2
}
