{
  "cells": [
    {
      "cell_type": "markdown",
      "metadata": {
        "id": "8KdfVq4iQm-U"
      },
      "source": [
        "[![Open In Colab](https://colab.research.google.com/assets/colab-badge.svg)](https://colab.research.google.com/github/prokaj/elte-python-2023/blob/main/2023-11-13.ipynb)   "
      ]
    },
    {
      "cell_type": "markdown",
      "metadata": {
        "id": "BtXKUaqMQm-V"
      },
      "source": [
        "Néhány import amit később használni fogunk:"
      ]
    },
    {
      "cell_type": "code",
      "execution_count": 105,
      "metadata": {
        "id": "9IpIGTZLQm-W"
      },
      "outputs": [],
      "source": [
        "import importlib\n",
        "import math\n",
        "import graphviz\n",
        "\n",
        "if importlib.util.find_spec('ipytest') is None:\n",
        "    ! pip install --quiet ipytest\n",
        "\n",
        "import ipytest\n",
        "\n",
        "ipytest.autoconfig()"
      ]
    },
    {
      "cell_type": "markdown",
      "metadata": {
        "id": "5fyLGlYtQm-X"
      },
      "source": [
        "# Házi feladat"
      ]
    },
    {
      "cell_type": "markdown",
      "metadata": {
        "id": "xdjG8JRtQm-X"
      },
      "source": [
        "Írjunk egy `Permutation` nevű osztályt, aminek segítségével permutációkkal számolhatunk.\n",
        "Egy permutáció egy $\\pi:\\{0,1,\\dots,n-1\\}\\mapsto\\{0,1,\\dots,n−1\\}$ kölcsönös egyeértelmű függvény (bijekció).\n",
        "Szokásos megadása a $\\pi(0),\\dots,\\pi(n−1)$ sorozattal történik.\n",
        "\n",
        "Két permutáció szorzata alatt értsük a kompozíciójukat. Erre nézve az egységelem az identikus permutáció. Így egy permutációnak van inverze és két permutációt szorozni és osztani is lehet egymással. A hatványozás is értelmezett egész kitevőkre.\n",
        "\n",
        "A Permutation osztály implementálja ezeket a műveleteket, valamint az `__str__` és `__repr__` metódusokat is. Az egyes műveletekhez tartozó ,,dunder” metódusok:\n",
        "\n",
        "- `*`: `__mul__`\n",
        "\n",
        "- `~` (inverz): `__invert__`\n",
        "\n",
        "- `/`: `__truediv__`\n",
        "\n",
        "- `**`: `__pow__`\n",
        "\n",
        "Pl.\n",
        "\n",
        "```python\n",
        "pi = Permutation([2, 0, 1, 3])\n",
        "for i in range(-2, 3):\n",
        "   pi0 = pi**i\n",
        "   print(\n",
        "      f\"{i=},\\n\\t\"\n",
        "      f\"str(pi**{i})    = {pi0!s},\\n\\t\"\n",
        "      f\"repr(pi**{i})   = {pi0!r}\\n\\t\"\n",
        "      f\"str(~(pi**{i})) = {~pi0!s}\"\n",
        "      )\n",
        "```\n",
        "\n",
        "eredménye:\n",
        "\n",
        "```python\n",
        "i=-2,\n",
        "    str(pi**-2)    = (2, 0, 1, 3),\n",
        "    repr(pi**-2)   = Permutation((2, 0, 1, 3))\n",
        "    str(~(pi**-2)) = (1, 2, 0, 3)\n",
        "i=-1,\n",
        "    str(pi**-1)    = (1, 2, 0, 3),\n",
        "    repr(pi**-1)   = Permutation((1, 2, 0, 3))\n",
        "    str(~(pi**-1)) = (2, 0, 1, 3)\n",
        "i=0,\n",
        "    str(pi**0)    = (0, 1, 2, 3),\n",
        "    repr(pi**0)   = Permutation((0, 1, 2, 3))\n",
        "    str(~(pi**0)) = (0, 1, 2, 3)\n",
        "i=1,\n",
        "    str(pi**1)    = (2, 0, 1, 3),\n",
        "    repr(pi**1)   = Permutation((2, 0, 1, 3))\n",
        "    str(~(pi**1)) = (1, 2, 0, 3)\n",
        "i=2,\n",
        "    str(pi**2)    = (1, 2, 0, 3),\n",
        "    repr(pi**2)   = Permutation((1, 2, 0, 3))\n",
        "    str(~(pi**2)) = (2, 0, 1, 3)\n",
        "```\n",
        "\n",
        "Az `__init__`` metódus dobjon (raise statement) `TypeError` hibát, ha a bemenet nem sorozat és `ValueError` hibát, ha ugyan sorozat de nem permutáció.\n",
        "\n",
        "Nem kell túlbonyolítani. Ha perm az argumentum, akkor pl. `tuple(perm)` típus hibára vezet, ha `perm` nem egy sorozat! Egy sorozat permutációt ír le, ha az elemeinek halmaza {0,1…,n−1}, ahol n a sorozat hossza.\n",
        "\n",
        "Írjunk teszteket. Ellenőrizzük az implementált metódusokat. Az `__init__` metódusnál azt is, hogy hibát dob-e ha az argumentum nem megfelelő. Ehhez importálni kell a `pytest` modulból a `raises` függvényt és gyakorlaton látottaknak megfelelően alkalmazni.\n",
        "\n",
        "Extra 5 pontért implementáljuk a `_repr_svg_` metódust is. Ennek hatására, jupyter-es környezetben, pl. Colab-on, a permutáció egy gráfként ábrázolva jelenjen meg. Tegyük fel, hogy a permutáció $\\pi =(\\pi(0),\\dots,\\pi(n-1))$\n",
        "A $\\pi$-hez tartozó gráf írányított, csúcsai a $0,\\dots,n-1$ számok és $a$-ból $b$-be pontosan akkor megy él, ha $\\pi(a)=b$.\n",
        "\n",
        "Az implementációhoz használjuk a `graphviz` modult. Nézzünk utána, hogy lehet egy írányított gráfot (`graphviz.Digraph`)\n",
        "létrehozni és abból hogyan lehet előbányászni az őt leíró `svg` sztringet. A `_repr_svg_` metódusnak ezt a sztringet kell visszaadnia!\n"
      ]
    },
    {
      "cell_type": "code",
      "source": [
        "(1, 2) == (1.0, float(2))"
      ],
      "metadata": {
        "id": "UnueOLLBc10q",
        "outputId": "1c5404c3-e96b-44b4-b997-9e18b357c93b",
        "colab": {
          "base_uri": "https://localhost:8080/"
        }
      },
      "execution_count": 108,
      "outputs": [
        {
          "output_type": "execute_result",
          "data": {
            "text/plain": [
              "True"
            ]
          },
          "metadata": {},
          "execution_count": 108
        }
      ]
    },
    {
      "cell_type": "code",
      "execution_count": 111,
      "metadata": {
        "id": "vQkOQCu5Qm-Y"
      },
      "outputs": [],
      "source": [
        "class Permutation:\n",
        "    def __init__(self, perm):\n",
        "        try:\n",
        "            self.perm = tuple(perm)\n",
        "        except TypeError:\n",
        "            raise TypeError(\"not sequence\")\n",
        "        if sorted(self.perm) != list(range(len(self.perm))):\n",
        "            raise ValueError(\"not permutation\")\n",
        "\n",
        "\n",
        "    def __mul__(self, other):\n",
        "        return Permutation(self.perm[a] for a in other.perm)\n",
        "\n",
        "\n",
        "    def __truediv__(self, other):\n",
        "        return self * (~other)\n",
        "\n",
        "    def __invert__(self):\n",
        "        inv = [0]*len(self.perm)\n",
        "        for a, b in enumerate(self.perm):\n",
        "            inv[b] = a\n",
        "        return Permutation(inv)\n",
        "\n",
        "        # return Permutation(self.perm.index(i) for i in range(len(self.perm)))\n",
        "\n",
        "    def __pow__(self, n):\n",
        "        result = Permutation(range(len(self.perm)))\n",
        "        for _ in range(abs(n)):\n",
        "            result *= self\n",
        "        return result if n >= 0 else ~result\n",
        "\n",
        "    def __str__(self):\n",
        "        return str(self.perm)\n",
        "\n",
        "    def __repr__(self):\n",
        "        return f\"{type(self).__name__}({self.perm})\"\n",
        "\n",
        "    def _repr_svg_(self):\n",
        "        graph = graphviz.Digraph()\n",
        "        graph.edges((str(a), str(b)) for a, b in enumerate(self.perm))\n",
        "        return graph._repr_image_svg_xml()\n",
        "\n",
        "\n",
        "    def __eq__(self, other):\n",
        "        return isinstance(other, type(self)) and other.perm==self.perm"
      ]
    },
    {
      "cell_type": "code",
      "execution_count": 113,
      "metadata": {
        "id": "D0byVoohQm-Z",
        "outputId": "f2817824-3b4a-4717-a867-2169d39a514f",
        "colab": {
          "base_uri": "https://localhost:8080/"
        }
      },
      "outputs": [
        {
          "output_type": "stream",
          "name": "stdout",
          "text": [
            "\u001b[32m.\u001b[0m\u001b[32m.\u001b[0m\u001b[32m.\u001b[0m\u001b[32m.\u001b[0m\u001b[32m.\u001b[0m\u001b[32m.\u001b[0m\u001b[32m.\u001b[0m\u001b[32m                                                                                      [100%]\u001b[0m\n",
            "\u001b[32m\u001b[32m\u001b[1m7 passed\u001b[0m\u001b[32m in 0.07s\u001b[0m\u001b[0m\n"
          ]
        }
      ],
      "source": [
        "%%ipytest\n",
        "from pytest import raises\n",
        "import json\n",
        "import itertools\n",
        "\n",
        "def test_init():\n",
        "    with raises(TypeError):\n",
        "        Permutation(1)\n",
        "\n",
        "    with raises(ValueError):\n",
        "        Permutation(\"abc\")\n",
        "\n",
        "    with raises(ValueError):\n",
        "        Permutation((1, 2))\n",
        "\n",
        "    with raises(ValueError):\n",
        "        Permutation((0, 0.2))\n",
        "\n",
        "    assert Permutation((0,1,2,3)).perm == (0,1,2,3)\n",
        "\n",
        "    seq = [0, 1, 2]\n",
        "    p = Permutation(seq)\n",
        "    seq[0] = 4\n",
        "    assert p.perm == (0, 1, 2)\n",
        "\n",
        "def test_mul():\n",
        "    p = Permutation((1, 2, 0, 3, 4))\n",
        "    assert p*p == Permutation((2, 0, 1, 3, 4))\n",
        "\n",
        "\n",
        "def test_div():\n",
        "    p = Permutation((1, 2, 0, 3, 4))\n",
        "    q = Permutation((0, 1, 2, 4, 3))\n",
        "    assert p/q == Permutation((1, 2, 0, 4, 3))\n",
        "\n",
        "def test_inv():\n",
        "    identity = Permutation(range(5))\n",
        "    for p in itertools.permutations(range(5)):\n",
        "        pi = Permutation(p)\n",
        "        assert pi*(~pi) == identity\n",
        "\n",
        "def test_str():\n",
        "    identity = Permutation(range(5))\n",
        "    assert str(identity) == \"(0, 1, 2, 3, 4)\"\n",
        "\n",
        "    p = Permutation((1, 2, 0, 3, 4))\n",
        "    assert str(p) == \"(1, 2, 0, 3, 4)\"\n",
        "\n",
        "\n",
        "def test_repr():\n",
        "    identity = Permutation(range(5))\n",
        "    assert repr(identity) == \"Permutation((0, 1, 2, 3, 4))\"\n",
        "\n",
        "    p = Permutation((1, 2, 0, 3, 4))\n",
        "    assert repr(p) == \"Permutation((1, 2, 0, 3, 4))\"\n",
        "\n",
        "def test_svg():\n",
        "    with open(\"data/snapshot.json\", \"r\") as file:\n",
        "        examples = json.load(file)\n",
        "    for example in examples:\n",
        "        seq = example['permutation']\n",
        "        svg = example['svg_string']\n",
        "        pi = Permutation(seq)\n",
        "        assert pi._repr_svg_() == svg\n"
      ]
    },
    {
      "cell_type": "markdown",
      "metadata": {
        "id": "XmsUYf_0Qm-Z"
      },
      "source": [
        "## Snapshot létrehozása"
      ]
    },
    {
      "cell_type": "code",
      "execution_count": null,
      "metadata": {
        "id": "DFa-UX51Qm-a",
        "outputId": "84cef79e-1187-43ab-8ae4-26dca551ab8d",
        "colab": {
          "base_uri": "https://localhost:8080/"
        }
      },
      "outputs": [
        {
          "output_type": "stream",
          "name": "stdout",
          "text": [
            "snapshot is written into /content/data/snapshot.json\n"
          ]
        }
      ],
      "source": [
        "from pathlib import Path\n",
        "\n",
        "snapshot_file = Path(\"data\") / \"snapshot.json\"\n",
        "\n",
        "if not snapshot_file.exists():\n",
        "    snapshot = [\n",
        "        {\n",
        "            \"permutation\": p,\n",
        "            \"svg_string\": Permutation(p)._repr_svg_()\n",
        "        }\n",
        "        for p in [(0, 1, 2, 3, 4),  (1, 2, 0)]\n",
        "    ]\n",
        "    with open(snapshot_file, \"w\") as file:\n",
        "        json.dump(snapshot, file, indent=2)\n",
        "\n",
        "    print(f\"snapshot is written into {snapshot_file.absolute()}\")\n"
      ]
    },
    {
      "cell_type": "code",
      "source": [
        "!cat data/snapshot.json"
      ],
      "metadata": {
        "id": "GuCLbL8igqcJ",
        "outputId": "c35e9aac-805a-47d2-fe81-d2df5131db89",
        "colab": {
          "base_uri": "https://localhost:8080/"
        }
      },
      "execution_count": 114,
      "outputs": [
        {
          "output_type": "stream",
          "name": "stdout",
          "text": [
            "[\n",
            "  {\n",
            "    \"permutation\": [\n",
            "      0,\n",
            "      1,\n",
            "      2,\n",
            "      3,\n",
            "      4\n",
            "    ],\n",
            "    \"svg_string\": \"<?xml version=\\\"1.0\\\" encoding=\\\"UTF-8\\\" standalone=\\\"no\\\"?>\\n<!DOCTYPE svg PUBLIC \\\"-//W3C//DTD SVG 1.1//EN\\\"\\n \\\"http://www.w3.org/Graphics/SVG/1.1/DTD/svg11.dtd\\\">\\n<!-- Generated by graphviz version 2.43.0 (0)\\n -->\\n<!-- Title: %3 Pages: 1 -->\\n<svg width=\\\"440pt\\\" height=\\\"44pt\\\"\\n viewBox=\\\"0.00 0.00 440.00 44.00\\\" xmlns=\\\"http://www.w3.org/2000/svg\\\" xmlns:xlink=\\\"http://www.w3.org/1999/xlink\\\">\\n<g id=\\\"graph0\\\" class=\\\"graph\\\" transform=\\\"scale(1 1) rotate(0) translate(4 40)\\\">\\n<title>%3</title>\\n<polygon fill=\\\"white\\\" stroke=\\\"transparent\\\" points=\\\"-4,4 -4,-40 436,-40 436,4 -4,4\\\"/>\\n<!-- 0 -->\\n<g id=\\\"node1\\\" class=\\\"node\\\">\\n<title>0</title>\\n<ellipse fill=\\\"none\\\" stroke=\\\"black\\\" cx=\\\"27\\\" cy=\\\"-18\\\" rx=\\\"27\\\" ry=\\\"18\\\"/>\\n<text text-anchor=\\\"middle\\\" x=\\\"27\\\" y=\\\"-14.3\\\" font-family=\\\"Times,serif\\\" font-size=\\\"14.00\\\">0</text>\\n</g>\\n<!-- 0&#45;&gt;0 -->\\n<g id=\\\"edge1\\\" class=\\\"edge\\\">\\n<title>0&#45;&gt;0</title>\\n<path fill=\\\"none\\\" stroke=\\\"black\\\" d=\\\"M52.44,-24.69C63.03,-25.15 72,-22.92 72,-18 72,-14.77 68.14,-12.7 62.49,-11.79\\\"/>\\n<polygon fill=\\\"black\\\" stroke=\\\"black\\\" points=\\\"62.6,-8.29 52.44,-11.31 62.27,-15.28 62.6,-8.29\\\"/>\\n</g>\\n<!-- 1 -->\\n<g id=\\\"node2\\\" class=\\\"node\\\">\\n<title>1</title>\\n<ellipse fill=\\\"none\\\" stroke=\\\"black\\\" cx=\\\"117\\\" cy=\\\"-18\\\" rx=\\\"27\\\" ry=\\\"18\\\"/>\\n<text text-anchor=\\\"middle\\\" x=\\\"117\\\" y=\\\"-14.3\\\" font-family=\\\"Times,serif\\\" font-size=\\\"14.00\\\">1</text>\\n</g>\\n<!-- 1&#45;&gt;1 -->\\n<g id=\\\"edge2\\\" class=\\\"edge\\\">\\n<title>1&#45;&gt;1</title>\\n<path fill=\\\"none\\\" stroke=\\\"black\\\" d=\\\"M142.44,-24.69C153.03,-25.15 162,-22.92 162,-18 162,-14.77 158.14,-12.7 152.49,-11.79\\\"/>\\n<polygon fill=\\\"black\\\" stroke=\\\"black\\\" points=\\\"152.6,-8.29 142.44,-11.31 152.27,-15.28 152.6,-8.29\\\"/>\\n</g>\\n<!-- 2 -->\\n<g id=\\\"node3\\\" class=\\\"node\\\">\\n<title>2</title>\\n<ellipse fill=\\\"none\\\" stroke=\\\"black\\\" cx=\\\"207\\\" cy=\\\"-18\\\" rx=\\\"27\\\" ry=\\\"18\\\"/>\\n<text text-anchor=\\\"middle\\\" x=\\\"207\\\" y=\\\"-14.3\\\" font-family=\\\"Times,serif\\\" font-size=\\\"14.00\\\">2</text>\\n</g>\\n<!-- 2&#45;&gt;2 -->\\n<g id=\\\"edge3\\\" class=\\\"edge\\\">\\n<title>2&#45;&gt;2</title>\\n<path fill=\\\"none\\\" stroke=\\\"black\\\" d=\\\"M232.44,-24.69C243.03,-25.15 252,-22.92 252,-18 252,-14.77 248.14,-12.7 242.49,-11.79\\\"/>\\n<polygon fill=\\\"black\\\" stroke=\\\"black\\\" points=\\\"242.6,-8.29 232.44,-11.31 242.27,-15.28 242.6,-8.29\\\"/>\\n</g>\\n<!-- 3 -->\\n<g id=\\\"node4\\\" class=\\\"node\\\">\\n<title>3</title>\\n<ellipse fill=\\\"none\\\" stroke=\\\"black\\\" cx=\\\"297\\\" cy=\\\"-18\\\" rx=\\\"27\\\" ry=\\\"18\\\"/>\\n<text text-anchor=\\\"middle\\\" x=\\\"297\\\" y=\\\"-14.3\\\" font-family=\\\"Times,serif\\\" font-size=\\\"14.00\\\">3</text>\\n</g>\\n<!-- 3&#45;&gt;3 -->\\n<g id=\\\"edge4\\\" class=\\\"edge\\\">\\n<title>3&#45;&gt;3</title>\\n<path fill=\\\"none\\\" stroke=\\\"black\\\" d=\\\"M322.44,-24.69C333.03,-25.15 342,-22.92 342,-18 342,-14.77 338.14,-12.7 332.49,-11.79\\\"/>\\n<polygon fill=\\\"black\\\" stroke=\\\"black\\\" points=\\\"332.6,-8.29 322.44,-11.31 332.27,-15.28 332.6,-8.29\\\"/>\\n</g>\\n<!-- 4 -->\\n<g id=\\\"node5\\\" class=\\\"node\\\">\\n<title>4</title>\\n<ellipse fill=\\\"none\\\" stroke=\\\"black\\\" cx=\\\"387\\\" cy=\\\"-18\\\" rx=\\\"27\\\" ry=\\\"18\\\"/>\\n<text text-anchor=\\\"middle\\\" x=\\\"387\\\" y=\\\"-14.3\\\" font-family=\\\"Times,serif\\\" font-size=\\\"14.00\\\">4</text>\\n</g>\\n<!-- 4&#45;&gt;4 -->\\n<g id=\\\"edge5\\\" class=\\\"edge\\\">\\n<title>4&#45;&gt;4</title>\\n<path fill=\\\"none\\\" stroke=\\\"black\\\" d=\\\"M412.44,-24.69C423.03,-25.15 432,-22.92 432,-18 432,-14.77 428.14,-12.7 422.49,-11.79\\\"/>\\n<polygon fill=\\\"black\\\" stroke=\\\"black\\\" points=\\\"422.6,-8.29 412.44,-11.31 422.27,-15.28 422.6,-8.29\\\"/>\\n</g>\\n</g>\\n</svg>\\n\"\n",
            "  },\n",
            "  {\n",
            "    \"permutation\": [\n",
            "      1,\n",
            "      2,\n",
            "      0\n",
            "    ],\n",
            "    \"svg_string\": \"<?xml version=\\\"1.0\\\" encoding=\\\"UTF-8\\\" standalone=\\\"no\\\"?>\\n<!DOCTYPE svg PUBLIC \\\"-//W3C//DTD SVG 1.1//EN\\\"\\n \\\"http://www.w3.org/Graphics/SVG/1.1/DTD/svg11.dtd\\\">\\n<!-- Generated by graphviz version 2.43.0 (0)\\n -->\\n<!-- Title: %3 Pages: 1 -->\\n<svg width=\\\"89pt\\\" height=\\\"188pt\\\"\\n viewBox=\\\"0.00 0.00 89.00 188.00\\\" xmlns=\\\"http://www.w3.org/2000/svg\\\" xmlns:xlink=\\\"http://www.w3.org/1999/xlink\\\">\\n<g id=\\\"graph0\\\" class=\\\"graph\\\" transform=\\\"scale(1 1) rotate(0) translate(4 184)\\\">\\n<title>%3</title>\\n<polygon fill=\\\"white\\\" stroke=\\\"transparent\\\" points=\\\"-4,4 -4,-184 85,-184 85,4 -4,4\\\"/>\\n<!-- 0 -->\\n<g id=\\\"node1\\\" class=\\\"node\\\">\\n<title>0</title>\\n<ellipse fill=\\\"none\\\" stroke=\\\"black\\\" cx=\\\"54\\\" cy=\\\"-162\\\" rx=\\\"27\\\" ry=\\\"18\\\"/>\\n<text text-anchor=\\\"middle\\\" x=\\\"54\\\" y=\\\"-158.3\\\" font-family=\\\"Times,serif\\\" font-size=\\\"14.00\\\">0</text>\\n</g>\\n<!-- 1 -->\\n<g id=\\\"node2\\\" class=\\\"node\\\">\\n<title>1</title>\\n<ellipse fill=\\\"none\\\" stroke=\\\"black\\\" cx=\\\"27\\\" cy=\\\"-90\\\" rx=\\\"27\\\" ry=\\\"18\\\"/>\\n<text text-anchor=\\\"middle\\\" x=\\\"27\\\" y=\\\"-86.3\\\" font-family=\\\"Times,serif\\\" font-size=\\\"14.00\\\">1</text>\\n</g>\\n<!-- 0&#45;&gt;1 -->\\n<g id=\\\"edge1\\\" class=\\\"edge\\\">\\n<title>0&#45;&gt;1</title>\\n<path fill=\\\"none\\\" stroke=\\\"black\\\" d=\\\"M47.6,-144.41C44.49,-136.34 40.67,-126.43 37.17,-117.35\\\"/>\\n<polygon fill=\\\"black\\\" stroke=\\\"black\\\" points=\\\"40.4,-116.03 33.54,-107.96 33.87,-118.55 40.4,-116.03\\\"/>\\n</g>\\n<!-- 2 -->\\n<g id=\\\"node3\\\" class=\\\"node\\\">\\n<title>2</title>\\n<ellipse fill=\\\"none\\\" stroke=\\\"black\\\" cx=\\\"54\\\" cy=\\\"-18\\\" rx=\\\"27\\\" ry=\\\"18\\\"/>\\n<text text-anchor=\\\"middle\\\" x=\\\"54\\\" y=\\\"-14.3\\\" font-family=\\\"Times,serif\\\" font-size=\\\"14.00\\\">2</text>\\n</g>\\n<!-- 1&#45;&gt;2 -->\\n<g id=\\\"edge2\\\" class=\\\"edge\\\">\\n<title>1&#45;&gt;2</title>\\n<path fill=\\\"none\\\" stroke=\\\"black\\\" d=\\\"M33.4,-72.41C36.51,-64.34 40.33,-54.43 43.83,-45.35\\\"/>\\n<polygon fill=\\\"black\\\" stroke=\\\"black\\\" points=\\\"47.13,-46.55 47.46,-35.96 40.6,-44.03 47.13,-46.55\\\"/>\\n</g>\\n<!-- 2&#45;&gt;0 -->\\n<g id=\\\"edge3\\\" class=\\\"edge\\\">\\n<title>2&#45;&gt;0</title>\\n<path fill=\\\"none\\\" stroke=\\\"black\\\" d=\\\"M57.65,-36.09C59.68,-46.43 61.98,-59.91 63,-72 64.34,-87.94 64.34,-92.06 63,-108 62.28,-116.5 60.93,-125.69 59.49,-133.99\\\"/>\\n<polygon fill=\\\"black\\\" stroke=\\\"black\\\" points=\\\"56.03,-133.44 57.65,-143.91 62.91,-134.71 56.03,-133.44\\\"/>\\n</g>\\n</g>\\n</svg>\\n\"\n",
            "  }\n",
            "]"
          ]
        }
      ]
    },
    {
      "cell_type": "code",
      "source": [
        "pi = Permutation((1,2,3,0,4))\n",
        "pi"
      ],
      "metadata": {
        "id": "9v0DZScnhBI1",
        "outputId": "b9d153c6-9b65-419f-bb25-bd5d323515f5",
        "colab": {
          "base_uri": "https://localhost:8080/",
          "height": 368
        }
      },
      "execution_count": 117,
      "outputs": [
        {
          "output_type": "execute_result",
          "data": {
            "text/plain": [
              "Permutation((1, 2, 3, 0, 4))"
            ],
            "image/svg+xml": "<?xml version=\"1.0\" encoding=\"UTF-8\" standalone=\"no\"?>\n<!DOCTYPE svg PUBLIC \"-//W3C//DTD SVG 1.1//EN\"\n \"http://www.w3.org/Graphics/SVG/1.1/DTD/svg11.dtd\">\n<!-- Generated by graphviz version 2.43.0 (0)\n -->\n<!-- Title: %3 Pages: 1 -->\n<svg width=\"179pt\" height=\"260pt\"\n viewBox=\"0.00 0.00 179.00 260.00\" xmlns=\"http://www.w3.org/2000/svg\" xmlns:xlink=\"http://www.w3.org/1999/xlink\">\n<g id=\"graph0\" class=\"graph\" transform=\"scale(1 1) rotate(0) translate(4 256)\">\n<title>%3</title>\n<polygon fill=\"white\" stroke=\"transparent\" points=\"-4,4 -4,-256 175,-256 175,4 -4,4\"/>\n<!-- 0 -->\n<g id=\"node1\" class=\"node\">\n<title>0</title>\n<ellipse fill=\"none\" stroke=\"black\" cx=\"54\" cy=\"-234\" rx=\"27\" ry=\"18\"/>\n<text text-anchor=\"middle\" x=\"54\" y=\"-230.3\" font-family=\"Times,serif\" font-size=\"14.00\">0</text>\n</g>\n<!-- 1 -->\n<g id=\"node2\" class=\"node\">\n<title>1</title>\n<ellipse fill=\"none\" stroke=\"black\" cx=\"27\" cy=\"-162\" rx=\"27\" ry=\"18\"/>\n<text text-anchor=\"middle\" x=\"27\" y=\"-158.3\" font-family=\"Times,serif\" font-size=\"14.00\">1</text>\n</g>\n<!-- 0&#45;&gt;1 -->\n<g id=\"edge1\" class=\"edge\">\n<title>0&#45;&gt;1</title>\n<path fill=\"none\" stroke=\"black\" d=\"M47.6,-216.41C44.49,-208.34 40.67,-198.43 37.17,-189.35\"/>\n<polygon fill=\"black\" stroke=\"black\" points=\"40.4,-188.03 33.54,-179.96 33.87,-190.55 40.4,-188.03\"/>\n</g>\n<!-- 2 -->\n<g id=\"node3\" class=\"node\">\n<title>2</title>\n<ellipse fill=\"none\" stroke=\"black\" cx=\"27\" cy=\"-90\" rx=\"27\" ry=\"18\"/>\n<text text-anchor=\"middle\" x=\"27\" y=\"-86.3\" font-family=\"Times,serif\" font-size=\"14.00\">2</text>\n</g>\n<!-- 1&#45;&gt;2 -->\n<g id=\"edge2\" class=\"edge\">\n<title>1&#45;&gt;2</title>\n<path fill=\"none\" stroke=\"black\" d=\"M27,-143.7C27,-135.98 27,-126.71 27,-118.11\"/>\n<polygon fill=\"black\" stroke=\"black\" points=\"30.5,-118.1 27,-108.1 23.5,-118.1 30.5,-118.1\"/>\n</g>\n<!-- 3 -->\n<g id=\"node4\" class=\"node\">\n<title>3</title>\n<ellipse fill=\"none\" stroke=\"black\" cx=\"54\" cy=\"-18\" rx=\"27\" ry=\"18\"/>\n<text text-anchor=\"middle\" x=\"54\" y=\"-14.3\" font-family=\"Times,serif\" font-size=\"14.00\">3</text>\n</g>\n<!-- 2&#45;&gt;3 -->\n<g id=\"edge3\" class=\"edge\">\n<title>2&#45;&gt;3</title>\n<path fill=\"none\" stroke=\"black\" d=\"M33.4,-72.41C36.51,-64.34 40.33,-54.43 43.83,-45.35\"/>\n<polygon fill=\"black\" stroke=\"black\" points=\"47.13,-46.55 47.46,-35.96 40.6,-44.03 47.13,-46.55\"/>\n</g>\n<!-- 3&#45;&gt;0 -->\n<g id=\"edge4\" class=\"edge\">\n<title>3&#45;&gt;0</title>\n<path fill=\"none\" stroke=\"black\" d=\"M57.65,-36.09C59.68,-46.43 61.98,-59.91 63,-72 67.03,-119.83 67.03,-132.17 63,-180 62.28,-188.5 60.93,-197.69 59.49,-205.99\"/>\n<polygon fill=\"black\" stroke=\"black\" points=\"56.03,-205.44 57.65,-215.91 62.91,-206.71 56.03,-205.44\"/>\n</g>\n<!-- 4 -->\n<g id=\"node5\" class=\"node\">\n<title>4</title>\n<ellipse fill=\"none\" stroke=\"black\" cx=\"126\" cy=\"-234\" rx=\"27\" ry=\"18\"/>\n<text text-anchor=\"middle\" x=\"126\" y=\"-230.3\" font-family=\"Times,serif\" font-size=\"14.00\">4</text>\n</g>\n<!-- 4&#45;&gt;4 -->\n<g id=\"edge5\" class=\"edge\">\n<title>4&#45;&gt;4</title>\n<path fill=\"none\" stroke=\"black\" d=\"M145.9,-246.43C158.69,-249.68 171,-245.53 171,-234 171,-225.62 164.5,-221.14 156.04,-220.56\"/>\n<polygon fill=\"black\" stroke=\"black\" points=\"155.5,-217.1 145.9,-221.57 156.19,-224.07 155.5,-217.1\"/>\n</g>\n</g>\n</svg>\n"
          },
          "metadata": {},
          "execution_count": 117
        }
      ]
    },
    {
      "cell_type": "markdown",
      "metadata": {
        "id": "ePVza_26Qm-b"
      },
      "source": [
        "## Szorgalmi feladat.\n",
        "\n",
        "Harmonikus sor alatt, az $\\sum_{n=1}^\\infty\n",
        "  \\frac1n$ sort értjük. Ennek a részletösszegeit szeretnénk kiszámítani\n",
        "legalább $10^{-8}$ pontossággal. Ehhez használhatnánk, a definíciót:\n",
        "\n",
        "```python\n",
        "def harmonic_sum_slow(n: int) -> float:\n",
        "    return sum(1/k for k in reversed(range(1, n+1)))\n",
        "```\n",
        "\n",
        "azonban ez túlságosan lassú. A művelet igény lineáris $n$-ben és\n",
        "körülbelül $n=25*10^6$ esetén már egy másodperc körüli a futási idő.\n",
        "\n",
        "A kiindulást a következő ötlet szolgáltathatja, $n\\geq 1$-re:\n",
        "$$\n",
        "\\begin{aligned}\n",
        "    \\log\\left({n+\\frac12}\\right) - \\log\\left({n-\\frac12}\\right)\n",
        "    &=\\int_{n-\\frac1{2}}^{n+\\frac1{2}} \\frac1{x} dx\\\\\n",
        "    &= \\int_{-\\frac1{2}}^{\\frac1{2}} \\frac1{n+x} dx\\\\\n",
        "    & = \\frac1n +\\int_{-\\frac1{2}}^{\\frac1{2}} \\frac1{(n+x)}\n",
        "      -\\frac1ndx\\\\\n",
        "    & = \\frac1n +\\int_{-\\frac1{2}}^{\\frac1{2}} \\frac{x}{(n+x)n}dx\\\\\n",
        "    & = \\frac1n +\\int_{0}^{\\frac1{2}} \\frac{2x^2}{(n^2-x^2)n}dx    \n",
        "\\end{aligned}\n",
        "$$ Ebből becsüljük meg $\\frac1n$ és a bal oldal eltérését.\n",
        "Végül az összeg első néhány tagját megtartva, a többit közelítve a\n",
        "logaritmus megváltozásával próbáljunk gyorsabb és az előírt pontosságú\n",
        "módszert találni.\n",
        "\n",
        "Egy másik lehetőség $1/n+1/(n+1)$ és $2\\log(1+1/n)$ összehasonlítása."
      ]
    },
    {
      "cell_type": "code",
      "execution_count": 120,
      "metadata": {
        "id": "bM7rrBVBQm-b"
      },
      "outputs": [],
      "source": [
        "def harmonic_sum_slow(n: int) -> float:\n",
        "    return math.fsum(1/k for k in range(1, n+1))"
      ]
    },
    {
      "cell_type": "code",
      "execution_count": null,
      "metadata": {
        "id": "kZOqM63aQm-c",
        "outputId": "847db416-e113-4c54-d908-d3017dc2e483",
        "colab": {
          "base_uri": "https://localhost:8080/"
        }
      },
      "outputs": [
        {
          "output_type": "stream",
          "name": "stdout",
          "text": [
            "CPU times: user 7.2 s, sys: 13.4 ms, total: 7.21 s\n",
            "Wall time: 7.77 s\n"
          ]
        },
        {
          "output_type": "execute_result",
          "data": {
            "text/plain": [
              "18.997896413853898"
            ]
          },
          "metadata": {},
          "execution_count": 10
        }
      ],
      "source": [
        "%%time\n",
        "harmonic_sum_slow((10**8))"
      ]
    },
    {
      "cell_type": "markdown",
      "metadata": {
        "id": "v8HC8l4kQm-c"
      },
      "source": [
        "A megadott formula alapján\n",
        "$$\n",
        "\\begin{aligned}\n",
        "\\left|\\frac1n - \\int_{n-1/2}^{n+1/2} \\frac1{x}dx\\right|\n",
        "&= \\int_0^{1/2} \\frac{2x^2}{(n^2-x^2)n}dx\\\\\n",
        "&\\leq \\frac1{(n^2-1)n}\\int_0^{1/2} 2x^2dx=\\frac1{12(n^2-1)n}\n",
        "\\end{aligned}\n",
        "$$\n",
        "Ha $n_0$-tól összegzünk, akkor\n",
        "$$\n",
        "\\begin{aligned}\n",
        "\\sum_{n=n_0}^\\infty \\frac1{(n^2-1)n}& =\n",
        "\\sum_{n=n_0}^\\infty \\frac1{(n-1)(n+1)n}\\\\\n",
        "&= \\frac12\\sum_{n=n_0}^\\infty \\frac1{n-1}+\\frac1{n+1} -\\frac{2}{n}\\\\\n",
        "&=\\frac12\\left\\{\\sum_{n=n_0-1}\\frac{1}{n}+\\sum_{n=n_0+1}\\frac1n-2\\sum_{n=n_0}\\frac1n\\right\\}\\\\\n",
        "&=\\frac12\\left\\{\\frac1{n_0-1}-\\frac1{n_0}\\right\\}=\\frac{1}{2n_0(n_0-1)}\n",
        "\\end{aligned}\n",
        "$$\n",
        "\n",
        "Ebből az adódik, hogy\n",
        "$$\n",
        "\\left|\\sum_{n=n_0}^{n_1} \\frac1n - \\log\\left(\\frac{n_1+1/2}{n_0-1/2}\\right)\\right|\n",
        "\\leq \\frac{1}{24(n_0(n_0-1))}\n",
        "$$\n",
        "\n",
        "A logaritmus értékét pontosnak vehetjük, így a közelítés hibája akkor lesz kisebb, mint $10^{-8}$, ha\n",
        "$$\n",
        "    24*n_0(n_0-1)>10^8\n",
        "$$"
      ]
    },
    {
      "cell_type": "code",
      "execution_count": 118,
      "metadata": {
        "id": "__hPwU5rQm-c",
        "outputId": "82f00d68-a740-4590-9845-9d73721a8a0e",
        "colab": {
          "base_uri": "https://localhost:8080/"
        }
      },
      "outputs": [
        {
          "output_type": "stream",
          "name": "stdout",
          "text": [
            "((1e8)/24)**0.5=2041.241452319315\n"
          ]
        }
      ],
      "source": [
        "print(f\"{((1e8)/24)**0.5=}\")\n",
        "n0 = 2500\n"
      ]
    },
    {
      "cell_type": "code",
      "execution_count": 119,
      "metadata": {
        "id": "yyk-mQCaQm-c"
      },
      "outputs": [],
      "source": [
        "import math\n",
        "\n",
        "def harmonic_sum_faster(n: int) -> float:\n",
        "    n0 = min(n, 2500)\n",
        "    return math.fsum(1/k for k in range(1, n0+1)) + math.log((n+0.5)/(n0+0.5))"
      ]
    },
    {
      "cell_type": "code",
      "execution_count": 121,
      "metadata": {
        "id": "ocz9ifv6Qm-d",
        "outputId": "a8a53ed5-7ce4-4da0-dbb2-b7ad3653412b",
        "colab": {
          "base_uri": "https://localhost:8080/"
        }
      },
      "outputs": [
        {
          "output_type": "stream",
          "name": "stdout",
          "text": [
            "\u001b[32m.\u001b[0m\u001b[32m                                                                                            [100%]\u001b[0m\n",
            "\u001b[32m\u001b[32m\u001b[1m1 passed\u001b[0m\u001b[32m in 0.66s\u001b[0m\u001b[0m\n"
          ]
        }
      ],
      "source": [
        "%%ipytest\n",
        "\n",
        "def test_hs():\n",
        "    for n in range(1, 1000):\n",
        "        assert harmonic_sum_slow(n) == harmonic_sum_faster(n)\n",
        "\n",
        "    for n in range(5000, 100_001, 2_500):\n",
        "        assert abs(harmonic_sum_slow(n)-harmonic_sum_faster(n))<1e-8\n",
        "\n",
        "    for n in range(500_000, 1_000_001, 50_000):\n",
        "        assert abs(harmonic_sum_slow(n)-harmonic_sum_faster(n))<1e-8\n"
      ]
    },
    {
      "cell_type": "code",
      "execution_count": null,
      "metadata": {
        "id": "dNQ00MfkQm-d",
        "outputId": "529fa830-f71d-42c9-f622-3d6689f203ff",
        "colab": {
          "base_uri": "https://localhost:8080/"
        }
      },
      "outputs": [
        {
          "output_type": "stream",
          "name": "stdout",
          "text": [
            "CPU times: user 280 µs, sys: 0 ns, total: 280 µs\n",
            "Wall time: 285 µs\n"
          ]
        },
        {
          "output_type": "execute_result",
          "data": {
            "text/plain": [
              "18.997896420517897"
            ]
          },
          "metadata": {},
          "execution_count": 14
        }
      ],
      "source": [
        "%%time\n",
        "harmonic_sum_faster((10**8))"
      ]
    },
    {
      "cell_type": "code",
      "source": [
        "class A:\n",
        "    def __init__(self, seq):\n",
        "        self.seq = list(seq)\n",
        "\n",
        "    def __getitem__(self, idx):\n",
        "        return self.seq[idx]\n",
        "\n",
        "    def __setitem__(self, idx, value):\n",
        "        self.seq[idx] = value\n",
        "\n",
        "    def __len__(self):\n",
        "        return len(self.seq)\n",
        "\n",
        "    def __repr__(self):\n",
        "        return str(self.seq)\n",
        "\n"
      ],
      "metadata": {
        "id": "ZqpFyWIejqT2"
      },
      "execution_count": 125,
      "outputs": []
    },
    {
      "cell_type": "code",
      "source": [
        "a = A((1,2,3))\n",
        "a[0] = 4\n",
        "a\n"
      ],
      "metadata": {
        "id": "145iGd9IkE0f",
        "outputId": "9c552348-c5b5-45ba-be89-10b20143faa7",
        "colab": {
          "base_uri": "https://localhost:8080/"
        }
      },
      "execution_count": 127,
      "outputs": [
        {
          "output_type": "execute_result",
          "data": {
            "text/plain": [
              "[4, 2, 3]"
            ]
          },
          "metadata": {},
          "execution_count": 127
        }
      ]
    },
    {
      "cell_type": "markdown",
      "metadata": {
        "id": "ra9CFk-pQm-d"
      },
      "source": [
        "# Dekorátorok"
      ]
    },
    {
      "cell_type": "markdown",
      "metadata": {
        "id": "wuq4ap-RQm-d"
      },
      "source": [
        "Egy függvényből egy másikat állít elő.\n",
        "\n",
        "Szintakszis:\n",
        "\n",
        "```python\n",
        "@dekorator\n",
        "def f():\n",
        "    pass\n",
        "```\n",
        "kb. ekvivalens azzal, hogy\n",
        "\n",
        "```python\n",
        "def f():\n",
        "    pass\n",
        "\n",
        "f = dekorator(f)\n",
        "```"
      ]
    },
    {
      "cell_type": "code",
      "execution_count": 128,
      "metadata": {
        "id": "AvPPcoc6Qm-e"
      },
      "outputs": [],
      "source": [
        "def show_funcall(fun):\n",
        "    def f(*args):\n",
        "        print(f\"call: {fun.__name__}({', '.join(map(str, args))})\")\n",
        "        result = fun(*args)\n",
        "        print(f\"      {result=}\")\n",
        "        return result\n",
        "    return f"
      ]
    },
    {
      "cell_type": "code",
      "execution_count": 131,
      "metadata": {
        "id": "qQHczTyfQm-e",
        "outputId": "d749d63f-4cbf-4ed5-c5b1-11a89efa57b3",
        "colab": {
          "base_uri": "https://localhost:8080/"
        }
      },
      "outputs": [
        {
          "output_type": "execute_result",
          "data": {
            "text/plain": [
              "2"
            ]
          },
          "metadata": {},
          "execution_count": 131
        }
      ],
      "source": [
        "###@show_funcall\n",
        "def sum_values(a: int, b: int) -> int:\n",
        "    \"\"\"adds two integer\"\"\"\n",
        "    return a+b\n",
        "\n",
        "sum_values(1, 1)"
      ]
    },
    {
      "cell_type": "code",
      "execution_count": 132,
      "metadata": {
        "id": "QVWoRyrVQm-e",
        "outputId": "4c35ef1b-14d2-44a8-98a2-b3048c335f93",
        "colab": {
          "base_uri": "https://localhost:8080/"
        }
      },
      "outputs": [
        {
          "output_type": "stream",
          "name": "stdout",
          "text": [
            "Help on function sum_values in module __main__:\n",
            "\n",
            "sum_values(a: int, b: int) -> int\n",
            "    adds two integer\n",
            "\n"
          ]
        }
      ],
      "source": [
        "help(sum_values)"
      ]
    },
    {
      "cell_type": "markdown",
      "metadata": {
        "id": "DEPnS2RjQm-e"
      },
      "source": [
        "# Property dekorátor\n",
        "\n",
        "Előadáson a `property` dekorátor szerepelt. Erre szeretnénk megnézni egy példát."
      ]
    },
    {
      "cell_type": "code",
      "execution_count": 133,
      "metadata": {
        "id": "GGIT-cieQm-e"
      },
      "outputs": [],
      "source": [
        "class Temperature:\n",
        "    def __init__(self, celsius=0):\n",
        "        ## Valójában a self.temperature attributomot állítja be ellenőrzés mellett!\n",
        "        self.celsius = celsius\n",
        "\n",
        "    @property\n",
        "    def fahrenheit(self):\n",
        "        return 32+9*self.temperature/5\n",
        "\n",
        "    @fahrenheit.setter\n",
        "    def fahrenheit(self, fahrenheit):\n",
        "        self.celsius = (fahrenheit-32)*5/9\n",
        "\n",
        "    @property\n",
        "    def celsius(self):\n",
        "        return self.temperature\n",
        "\n",
        "    @celsius.setter\n",
        "    def celsius(self, celsius):\n",
        "        if celsius < -273:\n",
        "            raise ValueError('Temperature is too small')\n",
        "        self.temperature = celsius\n",
        "\n",
        "    def __str__(self):\n",
        "        return f\"{self.celsius:.1f} \\u2103 ({self.fahrenheit:.1f} \\u2109)\"\n",
        "\n",
        "    def __repr__(self):\n",
        "        return f\"{type(self).__name__}({self.celsius})\"\n",
        "\n"
      ]
    },
    {
      "cell_type": "code",
      "execution_count": 134,
      "metadata": {
        "id": "Uumxl2UlQm-f",
        "outputId": "7f55da12-fdd3-42bc-80cc-48fd958be661",
        "colab": {
          "base_uri": "https://localhost:8080/"
        }
      },
      "outputs": [
        {
          "output_type": "stream",
          "name": "stdout",
          "text": [
            "\u001b[32m.\u001b[0m\u001b[32m                                                                                            [100%]\u001b[0m\n",
            "\u001b[32m\u001b[32m\u001b[1m1 passed\u001b[0m\u001b[32m in 0.01s\u001b[0m\u001b[0m\n"
          ]
        }
      ],
      "source": [
        "%%ipytest\n",
        "from pytest import raises\n",
        "\n",
        "def test_T():\n",
        "    t = Temperature(25)\n",
        "    assert t.celsius == 25\n",
        "    assert t.fahrenheit == 9*5+32\n",
        "\n",
        "    with raises(ValueError):\n",
        "        Temperature(-300)"
      ]
    },
    {
      "cell_type": "markdown",
      "metadata": {
        "id": "3SAOfxzAQm-f"
      },
      "source": [
        "Példák."
      ]
    },
    {
      "cell_type": "code",
      "execution_count": 136,
      "metadata": {
        "id": "6Njiyn_gQm-f",
        "outputId": "879847ca-fe99-4b14-a634-ef9d3aa911c7",
        "colab": {
          "base_uri": "https://localhost:8080/"
        }
      },
      "outputs": [
        {
          "output_type": "stream",
          "name": "stdout",
          "text": [
            "-20.0 ℃ (-4.0 ℉)\n",
            "-15.0 ℃ (5.0 ℉)\n",
            "-10.0 ℃ (14.0 ℉)\n",
            "-5.0 ℃ (23.0 ℉)\n",
            "0.0 ℃ (32.0 ℉)\n",
            "5.0 ℃ (41.0 ℉)\n",
            "10.0 ℃ (50.0 ℉)\n",
            "15.0 ℃ (59.0 ℉)\n",
            "20.0 ℃ (68.0 ℉)\n",
            "25.0 ℃ (77.0 ℉)\n",
            "30.0 ℃ (86.0 ℉)\n",
            "35.0 ℃ (95.0 ℉)\n",
            "40.0 ℃ (104.0 ℉)\n",
            "-28.9 ℃ (-20.0 ℉)\n",
            "-26.1 ℃ (-15.0 ℉)\n",
            "-23.3 ℃ (-10.0 ℉)\n",
            "-20.6 ℃ (-5.0 ℉)\n",
            "-17.8 ℃ (0.0 ℉)\n",
            "-15.0 ℃ (5.0 ℉)\n",
            "-12.2 ℃ (10.0 ℉)\n",
            "-9.4 ℃ (15.0 ℉)\n",
            "-6.7 ℃ (20.0 ℉)\n",
            "-3.9 ℃ (25.0 ℉)\n",
            "-1.1 ℃ (30.0 ℉)\n",
            "1.7 ℃ (35.0 ℉)\n",
            "4.4 ℃ (40.0 ℉)\n"
          ]
        }
      ],
      "source": [
        "temp = Temperature()\n",
        "\n",
        "for t in range(-20, 45, 5):\n",
        "    temp.celsius = t\n",
        "    print(str(temp))\n",
        "\n",
        "for t in range(-20, 45, 5):\n",
        "    temp.fahrenheit = t\n",
        "    print(str(temp))\n"
      ]
    },
    {
      "cell_type": "code",
      "source": [
        "temp.__dict__"
      ],
      "metadata": {
        "id": "mOg18jZ0TDk0",
        "outputId": "fe6aa07c-79ca-4507-c30a-f1b47fbba817",
        "colab": {
          "base_uri": "https://localhost:8080/"
        }
      },
      "execution_count": 137,
      "outputs": [
        {
          "output_type": "execute_result",
          "data": {
            "text/plain": [
              "{'temperature': 4.444444444444445}"
            ]
          },
          "metadata": {},
          "execution_count": 137
        }
      ]
    },
    {
      "cell_type": "code",
      "source": [
        "type(temp).__dict__"
      ],
      "metadata": {
        "id": "Sn1cGCtNTGjx",
        "outputId": "b9a44d4e-c527-4b21-839f-72d68cb91a99",
        "colab": {
          "base_uri": "https://localhost:8080/"
        }
      },
      "execution_count": 138,
      "outputs": [
        {
          "output_type": "execute_result",
          "data": {
            "text/plain": [
              "mappingproxy({'__module__': '__main__',\n",
              "              '__init__': <function __main__.Temperature.__init__(self, celsius=0)>,\n",
              "              'fahrenheit': <property at 0x7af33d1f1b20>,\n",
              "              'celsius': <property at 0x7af33d1f2bb0>,\n",
              "              '__str__': <function __main__.Temperature.__str__(self)>,\n",
              "              '__repr__': <function __main__.Temperature.__repr__(self)>,\n",
              "              '__dict__': <attribute '__dict__' of 'Temperature' objects>,\n",
              "              '__weakref__': <attribute '__weakref__' of 'Temperature' objects>,\n",
              "              '__doc__': None})"
            ]
          },
          "metadata": {},
          "execution_count": 138
        }
      ]
    },
    {
      "cell_type": "code",
      "source": [
        "type(temp).fahrenheit.fget\n"
      ],
      "metadata": {
        "id": "XtjjNgNDTOiV",
        "outputId": "9f20b7cf-3b4f-4489-d1de-3f721b485ba5",
        "colab": {
          "base_uri": "https://localhost:8080/"
        }
      },
      "execution_count": 139,
      "outputs": [
        {
          "output_type": "execute_result",
          "data": {
            "text/plain": [
              "<function __main__.Temperature.fahrenheit(self)>"
            ]
          },
          "metadata": {},
          "execution_count": 139
        }
      ]
    },
    {
      "cell_type": "code",
      "execution_count": 140,
      "metadata": {
        "id": "HEqXgHQdQm-f",
        "outputId": "11af66b9-f943-4d74-c75e-922e6b45e023",
        "colab": {
          "base_uri": "https://localhost:8080/"
        }
      },
      "outputs": [
        {
          "output_type": "stream",
          "name": "stdout",
          "text": [
            "37.8 ℃ (100.0 ℉)\n"
          ]
        },
        {
          "output_type": "execute_result",
          "data": {
            "text/plain": [
              "Temperature(37.77777777777778)"
            ]
          },
          "metadata": {},
          "execution_count": 140
        }
      ],
      "source": [
        "temp.fahrenheit = 100\n",
        "print(temp)\n",
        "temp"
      ]
    },
    {
      "cell_type": "markdown",
      "metadata": {
        "id": "lvV4fdwdQm-f"
      },
      "source": [
        "# További példák dekorátorokra\n"
      ]
    },
    {
      "cell_type": "markdown",
      "metadata": {
        "id": "sCFEDVtvQm-g"
      },
      "source": [
        "\n",
        "A `functools` modulban számos hasznos dekorátor található\n",
        "\n",
        "- `lru_cache`: A függvényből a memorizált változatot készíti el.\n",
        "- `partial`: `g = partial(f, 1)` hatására `g(...)` ugyanaz, mint `f(1, ...)`\n",
        "- `wraps`: lásd a dokumentációt."
      ]
    },
    {
      "cell_type": "code",
      "execution_count": null,
      "metadata": {
        "id": "4etzIi9pQm-g",
        "outputId": "a85cd8b6-eb4a-4c47-8ec2-82b9384d33a1",
        "colab": {
          "base_uri": "https://localhost:8080/"
        }
      },
      "outputs": [
        {
          "output_type": "stream",
          "name": "stdout",
          "text": [
            "1 4 1\n",
            "CacheInfo(hits=1, misses=2, maxsize=128, currsize=2)\n"
          ]
        }
      ],
      "source": [
        "from functools import lru_cache, partial, wraps\n",
        "\n",
        "@lru_cache()\n",
        "def f(x):\n",
        "    return x*x\n",
        "\n",
        "print(f(1), f(2), f(1))\n",
        "print(f.cache_info())\n",
        "\n",
        "\n"
      ]
    },
    {
      "cell_type": "code",
      "source": [
        "def add(a, b):\n",
        "    return a+b\n",
        "\n",
        "inc = partial(add, 1)\n",
        "inc(10)\n"
      ],
      "metadata": {
        "id": "BIVhje81T_H6",
        "outputId": "c6b77817-5568-4a9f-ccf3-5fdc9f9ffdba",
        "colab": {
          "base_uri": "https://localhost:8080/"
        }
      },
      "execution_count": 141,
      "outputs": [
        {
          "output_type": "execute_result",
          "data": {
            "text/plain": [
              "11"
            ]
          },
          "metadata": {},
          "execution_count": 141
        }
      ]
    },
    {
      "cell_type": "code",
      "execution_count": 142,
      "metadata": {
        "id": "XYtsgD3jQm-g"
      },
      "outputs": [],
      "source": [
        "def decor_wo_wraps(f):\n",
        "    def h(*args):\n",
        "        print(\"decorated without wraps\")\n",
        "        return f(*args)\n",
        "    return h\n",
        "\n",
        "def decor_wraps(f):\n",
        "    @wraps(f)\n",
        "    def h(*args):\n",
        "        print(\"decorated with wraps\")\n",
        "        return f(*args)\n",
        "    return h\n"
      ]
    },
    {
      "cell_type": "code",
      "execution_count": 143,
      "metadata": {
        "id": "LA3JJUXsQm-g",
        "outputId": "baf3c5b4-5601-4ac2-d80f-ff29851c379a",
        "colab": {
          "base_uri": "https://localhost:8080/"
        }
      },
      "outputs": [
        {
          "output_type": "stream",
          "name": "stdout",
          "text": [
            "decorated without wraps\n",
            "3\n",
            "Help on function h in module __main__:\n",
            "\n",
            "h(*args)\n",
            "\n"
          ]
        }
      ],
      "source": [
        "@decor_wo_wraps\n",
        "def dummy_fn(a:int, b:int) -> int:\n",
        "    \"\"\"dummy fn. Nothing interesting\"\"\"\n",
        "    return a+b\n",
        "\n",
        "print(dummy_fn(1, 2))\n",
        "help(dummy_fn)"
      ]
    },
    {
      "cell_type": "code",
      "execution_count": 144,
      "metadata": {
        "id": "KAMDpFEvQm-h",
        "outputId": "a8d87a7f-5827-49b3-bb1d-262b163ccb03",
        "colab": {
          "base_uri": "https://localhost:8080/"
        }
      },
      "outputs": [
        {
          "output_type": "stream",
          "name": "stdout",
          "text": [
            "decorated with wraps\n",
            "3\n",
            "Help on function dummy_fn in module __main__:\n",
            "\n",
            "dummy_fn(a: int, b: int) -> int\n",
            "    dummy fn. Nothing interesting\n",
            "\n"
          ]
        }
      ],
      "source": [
        "@decor_wraps\n",
        "def dummy_fn(a:int, b:int) ->int:\n",
        "    \"\"\"dummy fn. Nothing interesting\"\"\"\n",
        "    return a+b\n",
        "\n",
        "print(dummy_fn(1, 2))\n",
        "help(dummy_fn)"
      ]
    },
    {
      "cell_type": "markdown",
      "source": [
        "Kicsit jobb `show_fun`"
      ],
      "metadata": {
        "id": "rPEp64biUQOR"
      }
    },
    {
      "cell_type": "code",
      "source": [
        "def show_funcall(fun):\n",
        "    @wraps(fun)\n",
        "    def f(*args):\n",
        "        print(f\"call: {fun.__name__}({', '.join(map(str, args))})\")\n",
        "        result = fun(*args)\n",
        "        print(f\"      {result=}\")\n",
        "        return result\n",
        "    return f"
      ],
      "metadata": {
        "id": "Y0VbgynaUTy_"
      },
      "execution_count": null,
      "outputs": []
    },
    {
      "cell_type": "code",
      "source": [
        "dbl_dummy_fn = show_funcall(dummy_fn)"
      ],
      "metadata": {
        "id": "Dd3JRcnUUZrH"
      },
      "execution_count": null,
      "outputs": []
    },
    {
      "cell_type": "code",
      "source": [
        "help(dbl_dummy_fn)"
      ],
      "metadata": {
        "id": "bLc-l2LgUk98",
        "outputId": "2923ddd1-11ef-4c57-f4e7-c15403fa6c2a",
        "colab": {
          "base_uri": "https://localhost:8080/"
        }
      },
      "execution_count": null,
      "outputs": [
        {
          "output_type": "stream",
          "name": "stdout",
          "text": [
            "Help on function dummy_fn in module __main__:\n",
            "\n",
            "dummy_fn(a: int, b: int) -> int\n",
            "    dummy fn. Nothing interesting\n",
            "\n"
          ]
        }
      ]
    },
    {
      "cell_type": "code",
      "source": [
        "dbl_dummy_fn(1, 2)"
      ],
      "metadata": {
        "id": "rElLaxKOUof5",
        "outputId": "20338601-5265-46f7-8578-665b426c4c36",
        "colab": {
          "base_uri": "https://localhost:8080/"
        }
      },
      "execution_count": null,
      "outputs": [
        {
          "output_type": "stream",
          "name": "stdout",
          "text": [
            "call: dummy_fn(1, 2)\n",
            "decorated with wraps\n",
            "      result=3\n"
          ]
        },
        {
          "output_type": "execute_result",
          "data": {
            "text/plain": [
              "3"
            ]
          },
          "metadata": {},
          "execution_count": 45
        }
      ]
    },
    {
      "cell_type": "markdown",
      "metadata": {
        "id": "V0rVEtqlQm-h"
      },
      "source": [
        "\n",
        "\n",
        "# Feladat\n"
      ]
    },
    {
      "cell_type": "markdown",
      "metadata": {
        "id": "EQgxe7WHQm-h"
      },
      "source": [
        "\n",
        "Írjuk meg a `grep` program egyszerűsített változatát.\n",
        "\n",
        "A `grep` soronként olvas egy szövegfileból és a megadott mintát tartalmazó sorokat kiírja a kimenetre.\n",
        "\n",
        "Képes arra, hogy kiírja a mintát tartalmazó sorral együtt azt megelőző és azt követő néhány sort is.\n",
        "\n",
        "A mi változatunk egy generátor függvény lesz, ami a megadott file soraiból azokat tartja meg, amik az adott mintát tartalmazzák.\n"
      ]
    },
    {
      "cell_type": "markdown",
      "metadata": {
        "id": "6dHcvK8vQm-h"
      },
      "source": [
        "## Olvasás fileból"
      ]
    },
    {
      "cell_type": "markdown",
      "metadata": {
        "id": "YBr6AoQJQm-h"
      },
      "source": [
        "```python\n",
        "with open(filename, mode) as file:\n",
        "    do_something with file\n",
        "```\n",
        "       \n",
        "- `filename` a file elérési útja\n",
        "- `mode`\n",
        "  + `r` reading olvasás\n",
        "  + `w` writing írás\n",
        "  + `b` binary\n",
        "  + `t` text\n",
        "  + `a` append\n",
        "  \n",
        "  Ha nem adjuk meg `rt`.\n",
        "  \n",
        "  Lehetne még `r, w, rb, wb, a`  "
      ]
    },
    {
      "cell_type": "code",
      "execution_count": 145,
      "metadata": {
        "id": "fHh9R_j8Qm-i",
        "outputId": "d8bbf29b-0413-4999-f005-f81e3c7651dc",
        "colab": {
          "base_uri": "https://localhost:8080/"
        }
      },
      "outputs": [
        {
          "output_type": "stream",
          "name": "stdout",
          "text": [
            "Overwriting /tmp/test.txt\n"
          ]
        }
      ],
      "source": [
        "%%writefile /tmp/test.txt\n",
        "első sor\n",
        "második sor\n",
        "harmadik\n",
        "utolsó"
      ]
    },
    {
      "cell_type": "code",
      "execution_count": 146,
      "metadata": {
        "id": "5BH7Pp_wQm-i",
        "outputId": "5fd94a7a-5a89-4f96-faed-0f978c13ce91",
        "colab": {
          "base_uri": "https://localhost:8080/"
        }
      },
      "outputs": [
        {
          "output_type": "stream",
          "name": "stdout",
          "text": [
            "<_io.TextIOWrapper name='/tmp/test.txt' mode='r' encoding='UTF-8'>\n",
            "---/tmp/test.txt:\n",
            "első sor\n",
            "második sor\n",
            "harmadik\n",
            "utolsó\n",
            "---\n"
          ]
        }
      ],
      "source": [
        "filename = \"/tmp/test.txt\"\n",
        "\n",
        "with open(filename, \"r\") as file:\n",
        "    print(file)\n",
        "    print(f\"---{filename}:\")\n",
        "    for line in file:\n",
        "        print(line, end=\"\")\n",
        "    print(\"---\")\n"
      ]
    },
    {
      "cell_type": "markdown",
      "metadata": {
        "id": "o5-Thhk6Qm-i"
      },
      "source": [
        "Egészítsük ki a következő kódot!"
      ]
    },
    {
      "cell_type": "code",
      "execution_count": 160,
      "metadata": {
        "id": "fglCyaHYQm-i"
      },
      "outputs": [],
      "source": [
        "\n",
        "def simple_grep(filename: str, pattern: str): # Generator[str]\n",
        "    with open(filename, \"r\") as file:\n",
        "        for line in file:\n",
        "            if pattern in line.lower():\n",
        "                yield line"
      ]
    },
    {
      "cell_type": "code",
      "source": [
        "list(simple_grep(\"/tmp/test.txt\", \"s\"))"
      ],
      "metadata": {
        "id": "GCwej5kkVGTK",
        "outputId": "95281e73-f54c-4ecf-9d32-e9cd9066184e",
        "colab": {
          "base_uri": "https://localhost:8080/"
        }
      },
      "execution_count": 150,
      "outputs": [
        {
          "output_type": "execute_result",
          "data": {
            "text/plain": [
              "['első sor\\n', 'második sor\\n', 'utolsó\\n']"
            ]
          },
          "metadata": {},
          "execution_count": 150
        }
      ]
    },
    {
      "cell_type": "markdown",
      "metadata": {
        "id": "mNPzZnneQm-i"
      },
      "source": [
        "### Adatok olvasása netről\n",
        "\n",
        "Ez  megoldható `urllib.request` modullal\n"
      ]
    },
    {
      "cell_type": "code",
      "execution_count": 151,
      "metadata": {
        "id": "gw9w6VbcQm-j"
      },
      "outputs": [],
      "source": [
        "import urllib.request as request\n",
        "import itertools"
      ]
    },
    {
      "cell_type": "code",
      "execution_count": 152,
      "metadata": {
        "id": "TtedGuSGQm-j",
        "outputId": "fc737915-b1fe-4116-9a63-d68995eba9d5",
        "colab": {
          "base_uri": "https://localhost:8080/"
        }
      },
      "outputs": [
        {
          "output_type": "stream",
          "name": "stdout",
          "text": [
            "<class 'bytes'>\n"
          ]
        }
      ],
      "source": [
        "\n",
        "url = \"https://www.gutenberg.org/files/1342/1342-0.txt\" # Pride and prejudice\n",
        "url = \"https://www.gutenberg.org/ebooks/67098.txt.utf-8\" # Winnie the pooh\n",
        "\n",
        "with request.urlopen(url) as file:\n",
        "    btext = file.read()\n",
        "\n",
        "print(type(btext))"
      ]
    },
    {
      "cell_type": "code",
      "source": [
        "btext[:20]"
      ],
      "metadata": {
        "id": "uyt6x-TArcvC",
        "outputId": "7aae665e-db45-4307-856d-b07dd339fdaf",
        "colab": {
          "base_uri": "https://localhost:8080/"
        }
      },
      "execution_count": 153,
      "outputs": [
        {
          "output_type": "execute_result",
          "data": {
            "text/plain": [
              "b'\\xef\\xbb\\xbfThe Project Guten'"
            ]
          },
          "metadata": {},
          "execution_count": 153
        }
      ]
    },
    {
      "cell_type": "code",
      "execution_count": 154,
      "metadata": {
        "id": "VdSHRTIRQm-j"
      },
      "outputs": [],
      "source": [
        "text = btext.decode()\n",
        "lines = text.split(\"\\r\\n\")\n"
      ]
    },
    {
      "cell_type": "code",
      "execution_count": 155,
      "metadata": {
        "id": "Oouk1LQDQm-j",
        "outputId": "ab46d0c8-1c34-47b2-8829-20eda30155db",
        "colab": {
          "base_uri": "https://localhost:8080/"
        }
      },
      "outputs": [
        {
          "output_type": "stream",
          "name": "stdout",
          "text": [
            "len(lines)=4011\n",
            "================================================================================\n",
            "﻿The Project Gutenberg eBook of Winnie-the-Pooh\n",
            "    \n",
            "This ebook is for the use of anyone anywhere in the United States and\n",
            "most other parts of the world at no cost and with almost no restrictions\n",
            "whatsoever. You may copy it, give it away or re-use it under the terms\n",
            "of the Project Gutenberg License included with this ebook or online\n",
            "at www.gutenberg.org. If you are not located in the United States,\n",
            "you will have to check the laws of the country where you are located\n",
            "before using this eBook.\n",
            "\n",
            "Title: Winnie-the-Pooh\n",
            "\n",
            "\n",
            "Author: A. A. Milne\n",
            "\n",
            "Illustrator: Ernest H. Shepard\n",
            "\n",
            "Release date: January 3, 2022 [eBook #67098]\n",
            "                Most recently updated: December 28, 2022\n",
            "\n",
            "Language: English\n",
            "\n",
            "Original publication: Canada: McClelland & Stewart, Ltd, 1926\n",
            "\n",
            "Credits: Greg Weeks, Mary Meehan, Iona Vaughan, David T. Jones and the online Distributed Proofreaders Canada team at http://www.pgdpcanada.net\n",
            "\n",
            "\n",
            "*** START OF THE PROJECT GUTENBERG EBOOK WINNIE-THE-POOH ***\n",
            "\n",
            "\n",
            "\n",
            "\n",
            "                            WINNIE-THE-POOH\n",
            "\n",
            "                            _BY A. A. MILNE_\n",
            "\n",
            "\n",
            "\n",
            "\n",
            "                              _JUVENILES_\n",
            "\n",
            "                        When We Were Very Young\n",
            "\n",
            "    \"_The best book of verses for children_ _ever written._\"--A. EDWARD\n",
            "    NEWTON in _The Atlantic Monthly_.\n",
            "\n",
            "              Fourteen Songs from When We Were Very Young\n",
            "\n",
            "    Words by A. A. Milne. Music by H. Fraser-Simson. Decorations by\n",
            "    E. H. Shepard.\n",
            "================================================================================\n"
          ]
        }
      ],
      "source": [
        "print(f\"{len(lines)=}\")\n",
        "print(\"=\"*80)\n",
        "print(\"\\n\".join(lines[:50]))\n",
        "print(\"=\"*80)"
      ]
    },
    {
      "cell_type": "code",
      "execution_count": 156,
      "metadata": {
        "id": "FP0AMv76Qm-j",
        "outputId": "9942c387-ed3c-475a-94d8-ee3a439bc8d6",
        "colab": {
          "base_uri": "https://localhost:8080/"
        }
      },
      "outputs": [
        {
          "output_type": "stream",
          "name": "stdout",
          "text": [
            "Help on function urlretrieve in module urllib.request:\n",
            "\n",
            "urlretrieve(url, filename=None, reporthook=None, data=None)\n",
            "    Retrieve a URL into a temporary location on disk.\n",
            "    \n",
            "    Requires a URL argument. If a filename is passed, it is used as\n",
            "    the temporary file location. The reporthook argument should be\n",
            "    a callable that accepts a block number, a read size, and the\n",
            "    total file size of the URL target. The data argument should be\n",
            "    valid URL encoded data.\n",
            "    \n",
            "    If a filename is passed and the URL points to a local resource,\n",
            "    the result is a copy from local file to new file.\n",
            "    \n",
            "    Returns a tuple containing the path to the newly created\n",
            "    data file as well as the resulting HTTPMessage object.\n",
            "\n"
          ]
        }
      ],
      "source": [
        "help(request.urlretrieve)"
      ]
    },
    {
      "cell_type": "code",
      "execution_count": 157,
      "metadata": {
        "id": "1czTBaVOQm-j",
        "outputId": "7ba1ae5a-71aa-4a9e-808c-34c5e3ddb1ec",
        "colab": {
          "base_uri": "https://localhost:8080/"
        }
      },
      "outputs": [
        {
          "output_type": "execute_result",
          "data": {
            "text/plain": [
              "('/tmp/winnie-the-pooh.txt', <http.client.HTTPMessage at 0x7af33d16eb90>)"
            ]
          },
          "metadata": {},
          "execution_count": 157
        }
      ],
      "source": [
        "request.urlretrieve(url, \"/tmp/winnie-the-pooh.txt\")"
      ]
    },
    {
      "cell_type": "code",
      "execution_count": 158,
      "metadata": {
        "id": "eGFuqCaQQm-k",
        "outputId": "162aa68a-9b22-4ca9-d610-1561a3707140",
        "colab": {
          "base_uri": "https://localhost:8080/"
        }
      },
      "outputs": [
        {
          "output_type": "stream",
          "name": "stdout",
          "text": [
            "dap_multiplexer.e8929884b6d6.root.log.INFO.20231113-103410.71\n",
            "dap_multiplexer.INFO\n",
            "debugger_jmne8u6ir\n",
            "initgoogle_syslog_dir.0\n",
            "language_service.e8929884b6d6.root.log.ERROR.20231113-105021.1179\n",
            "language_service.e8929884b6d6.root.log.ERROR.20231113-113140.10375\n",
            "language_service.e8929884b6d6.root.log.ERROR.20231113-121503.10027\n",
            "language_service.e8929884b6d6.root.log.INFO.20231113-103816.1104\n",
            "language_service.e8929884b6d6.root.log.INFO.20231113-103823.1158\n",
            "language_service.e8929884b6d6.root.log.INFO.20231113-103824.1179\n",
            "language_service.e8929884b6d6.root.log.INFO.20231113-111504.10027\n",
            "language_service.e8929884b6d6.root.log.INFO.20231113-111627.10375\n",
            "language_service.e8929884b6d6.root.log.WARNING.20231113-105021.1179\n",
            "language_service.e8929884b6d6.root.log.WARNING.20231113-113140.10375\n",
            "language_service.e8929884b6d6.root.log.WARNING.20231113-121503.10027\n",
            "language_service.ERROR\n",
            "language_service.INFO\n",
            "language_service.WARNING\n",
            "pyright-10032-YIcYCm1udGuS\n",
            "pyright-10380-sFToWQVBpdhb\n",
            "pyright-10380-wG9qzzHQlUKd\n",
            "pyright-1184-oe677Uv55Hs4\n",
            "python-languageserver-cancellation\n",
            "sudoku-large.zip\n",
            "sudoku.txt\n",
            "test.txt\n",
            "winnie-the-pooh.txt\n"
          ]
        }
      ],
      "source": [
        "! ls /tmp"
      ]
    },
    {
      "cell_type": "code",
      "execution_count": null,
      "metadata": {
        "id": "Jw7V89dPQm-k",
        "outputId": "56aa8f6b-7596-4bc6-8b12-91dc2f651957",
        "colab": {
          "base_uri": "https://localhost:8080/"
        }
      },
      "outputs": [
        {
          "output_type": "stream",
          "name": "stdout",
          "text": [
            "﻿The Project Gutenberg eBook of Winnie-the-Pooh\r\n",
            "    \r\n",
            "This ebook is for the use of anyone anywhere in the United States and\r\n",
            "most other parts of the world at no cost and with almost no restrictions\r\n",
            "whatsoever. You may copy it, give it away or re-use it under the terms\r\n",
            "of the Project Gutenberg License included with this ebook or online\r\n",
            "at www.gutenberg.org. If you are not located in the United States,\r\n",
            "you will have to check the laws of the country where you are located\r\n",
            "before using this eBook.\r\n",
            "\r\n"
          ]
        }
      ],
      "source": [
        "! head /tmp/winnie-the-pooh.txt"
      ]
    },
    {
      "cell_type": "code",
      "execution_count": 162,
      "metadata": {
        "id": "BQ-xCXTKQm-k",
        "outputId": "58a1343b-d8e3-44b2-839b-d59675c50949",
        "colab": {
          "base_uri": "https://localhost:8080/"
        }
      },
      "outputs": [
        {
          "output_type": "execute_result",
          "data": {
            "text/plain": [
              "['Eeyore shook his head from side to side.\\n',\n",
              " 'So Eeyore stood there, gazing sadly at the ground, and Winnie-the-Pooh\\n',\n",
              " '\"What _has_ happened to it?\" said Eeyore.\\n',\n",
              " '\"Let\\'s have a look,\" said Eeyore, and he turned slowly round to the\\n',\n",
              " '\"That Accounts for a Good Deal,\" said Eeyore gloomily. \"It Explains\\n']"
            ]
          },
          "metadata": {},
          "execution_count": 162
        }
      ],
      "source": [
        "list(itertools.islice(simple_grep(\"/tmp/winnie-the-pooh.txt\", \"eeyore\"), 5, 10))"
      ]
    },
    {
      "cell_type": "code",
      "execution_count": null,
      "metadata": {
        "id": "XUWuE9rIQm-k"
      },
      "outputs": [],
      "source": [
        "#open?"
      ]
    },
    {
      "cell_type": "markdown",
      "metadata": {
        "id": "Lgvrh59eQm-l"
      },
      "source": [
        "## Melyek a leggyakoribb szavak a Micimackó angol változatában?"
      ]
    },
    {
      "cell_type": "code",
      "execution_count": 163,
      "metadata": {
        "id": "Z76oU6z4Qm-l"
      },
      "outputs": [],
      "source": [
        "from collections import Counter"
      ]
    },
    {
      "cell_type": "code",
      "execution_count": 164,
      "metadata": {
        "id": "2GaPq9RuQm-l"
      },
      "outputs": [],
      "source": [
        "def words(lines):\n",
        "    for line in lines:\n",
        "        for word in line.split():\n",
        "            yield word"
      ]
    },
    {
      "cell_type": "code",
      "execution_count": 165,
      "metadata": {
        "id": "URmzbl1lQm-l",
        "outputId": "aa916fb4-5f35-4698-826f-6ab123385117",
        "colab": {
          "base_uri": "https://localhost:8080/"
        }
      },
      "outputs": [
        {
          "output_type": "execute_result",
          "data": {
            "text/plain": [
              "4559"
            ]
          },
          "metadata": {},
          "execution_count": 165
        }
      ],
      "source": [
        "with open(\"/tmp/winnie-the-pooh.txt\") as textfile:\n",
        "    counter = Counter(map(str.lower, words(itertools.islice(textfile, 5000))))\n",
        "len(counter)"
      ]
    },
    {
      "cell_type": "code",
      "execution_count": 166,
      "metadata": {
        "id": "PPWaUWtkQm-l",
        "outputId": "8b7609e1-6865-4a7f-b056-77e46daf1395",
        "colab": {
          "base_uri": "https://localhost:8080/"
        }
      },
      "outputs": [
        {
          "output_type": "execute_result",
          "data": {
            "text/plain": [
              "[('and', 995),\n",
              " ('the', 879),\n",
              " ('to', 634),\n",
              " ('he', 634),\n",
              " ('a', 588),\n",
              " ('of', 507),\n",
              " ('said', 445),\n",
              " ('it', 370),\n",
              " ('in', 322),\n",
              " ('you', 320),\n",
              " ('was', 288),\n",
              " ('i', 273),\n",
              " ('his', 220),\n",
              " ('that', 212),\n",
              " ('as', 185),\n",
              " ('with', 165),\n",
              " ('had', 164),\n",
              " ('pooh', 164),\n",
              " ('at', 159),\n",
              " ('for', 156)]"
            ]
          },
          "metadata": {},
          "execution_count": 166
        }
      ],
      "source": [
        "counter.most_common(20)"
      ]
    },
    {
      "cell_type": "markdown",
      "metadata": {
        "id": "aaPkpxb-Qm-m"
      },
      "source": [
        "# `with` statement"
      ]
    },
    {
      "cell_type": "markdown",
      "metadata": {
        "id": "4kGu7oV4Qm-m"
      },
      "source": [
        "\n",
        "\n",
        "## Mi történik a `with` statement alkalmazásakor?\n",
        "\n",
        "### Mit lehet a with mögé írni?\n",
        "\n",
        "Hasonlóan a `for`-hoz szinte bármit, aminek van két metódusa:\n",
        "\n",
        "- `__enter__`\n",
        "- `__exit__`\n",
        "\n",
        "\n",
        "    with obj as x:\n",
        "       do_something with x\n",
        "\n",
        "Itt az `obj.__enter__()` hívás eredménye lesz az x értéke és a block végén **GARANTÁLTAN** végrehajtódik az `obj.__exit__(...)` hívás.\n",
        "Az `__enter__` metódus végezheti az előkészítést, az `__exit__` a takarítást!\n",
        "\n",
        "#### Kell-e nekünk ezeket a metódusokat közvetlenül implementálni?\n",
        "\n",
        "Valójában nem. Elegendő egy generátor függvényt megírni:\n",
        "\n",
        "    import time\n",
        "    \n",
        "    def timer():\n",
        "        try:\n",
        "            start = time.time()\n",
        "            yield\n",
        "\n",
        "        finally:\n",
        "            runtime = time.time() - start\n",
        "            print(f\"run time: {runtime:3f}\")\n",
        "            \n",
        "\n",
        "Így még csak egy generátort kapunk ami egyszer visszaad semmit (`None`) majd jelzi, hogy vége van a sorozatnak.\n",
        "\n",
        "Próbáljuk ki `for`-ral"
      ]
    },
    {
      "cell_type": "code",
      "execution_count": null,
      "metadata": {
        "id": "qYI8z0XHQm-m",
        "outputId": "6e3a4dce-94fb-467f-d304-da0c3286e57b",
        "colab": {
          "base_uri": "https://localhost:8080/"
        }
      },
      "outputs": [
        {
          "output_type": "stream",
          "name": "stdout",
          "text": [
            "None\n",
            "run time: 0.001318\n"
          ]
        }
      ],
      "source": [
        "import time\n",
        "\n",
        "def timer():\n",
        "    try:\n",
        "        start = time.time()\n",
        "        yield\n",
        "\n",
        "    finally:\n",
        "        runtime = time.time() - start\n",
        "        print(f\"run time: {runtime:3f}\")\n",
        "\n",
        "for x in timer():\n",
        "    print(x)"
      ]
    },
    {
      "cell_type": "markdown",
      "metadata": {
        "id": "08xvWAQ_Qm-m"
      },
      "source": [
        "`with`-del hibát kapunk"
      ]
    },
    {
      "cell_type": "code",
      "execution_count": null,
      "metadata": {
        "id": "3PEBKh0BQm-m",
        "outputId": "2cfa1a18-7479-47c8-fece-46dc8469ea06",
        "colab": {
          "base_uri": "https://localhost:8080/",
          "height": 196
        }
      },
      "outputs": [
        {
          "output_type": "error",
          "ename": "AttributeError",
          "evalue": "ignored",
          "traceback": [
            "\u001b[0;31m---------------------------------------------------------------------------\u001b[0m",
            "\u001b[0;31mAttributeError\u001b[0m                            Traceback (most recent call last)",
            "\u001b[0;32m<ipython-input-74-792ad4e462da>\u001b[0m in \u001b[0;36m<cell line: 1>\u001b[0;34m()\u001b[0m\n\u001b[0;32m----> 1\u001b[0;31m \u001b[0;32mwith\u001b[0m \u001b[0mtimer\u001b[0m\u001b[0;34m(\u001b[0m\u001b[0;34m)\u001b[0m \u001b[0;32mas\u001b[0m \u001b[0mx\u001b[0m\u001b[0;34m:\u001b[0m\u001b[0;34m\u001b[0m\u001b[0;34m\u001b[0m\u001b[0m\n\u001b[0m\u001b[1;32m      2\u001b[0m     \u001b[0mprint\u001b[0m\u001b[0;34m(\u001b[0m\u001b[0mx\u001b[0m\u001b[0;34m)\u001b[0m\u001b[0;34m\u001b[0m\u001b[0;34m\u001b[0m\u001b[0m\n",
            "\u001b[0;31mAttributeError\u001b[0m: __enter__"
          ]
        }
      ],
      "source": [
        "with timer() as x:\n",
        "    print(x)"
      ]
    },
    {
      "cell_type": "markdown",
      "metadata": {
        "id": "6teGIajdQm-n"
      },
      "source": [
        "A `contextlib` module `contextmanager` függvénye generátorból `contextmanager`-t készít."
      ]
    },
    {
      "cell_type": "code",
      "execution_count": null,
      "metadata": {
        "id": "kFkLmmRVQm-n",
        "outputId": "d618897c-2f8b-43d8-a507-a1962a609459",
        "colab": {
          "base_uri": "https://localhost:8080/"
        }
      },
      "outputs": [
        {
          "output_type": "stream",
          "name": "stdout",
          "text": [
            "None\n",
            "run time: 0.000092\n"
          ]
        }
      ],
      "source": [
        "from contextlib import contextmanager\n",
        "timer2 = contextmanager(timer)\n",
        "with timer2() as x:\n",
        "    print(x)"
      ]
    },
    {
      "cell_type": "markdown",
      "metadata": {
        "id": "TogZk58GQm-n"
      },
      "source": [
        "Ha egy függvény akarunk alkalmazni egy függvényre, hogy azt átalakítsuk, de ugyanaz maradjon a neve akkor a python `@` szintakszist használja. Ilyenkor ,,dekoráljuk'' a függvényt. A `contextmanager` egy példa **dekorátor**ra.\n",
        "\n",
        "    @contextmanager\n",
        "    def timer():\n",
        "        try:\n",
        "            start = time.time()\n",
        "            yield\n",
        "\n",
        "        finally:\n",
        "            runtime = time.time() - start\n",
        "            print(f\"run time: {runtime:3f}\")\n",
        "    \n",
        "Példaként írjunk egy olyan contextmanager-t, ami jelzi nekünk, hogy mikor milyen hívás történik."
      ]
    },
    {
      "cell_type": "code",
      "execution_count": null,
      "metadata": {
        "id": "fJJ2UVoyQm-n"
      },
      "outputs": [],
      "source": [
        "@contextmanager\n",
        "def print_whats_going_on(x):\n",
        "    print(\"try blokk előtt\")\n",
        "    try:\n",
        "        print(\"yield előtt\")\n",
        "        yield x\n",
        "        print(\"yield után\")\n",
        "    except:\n",
        "        print(\"except ág\")\n",
        "    finally:\n",
        "        print(\"finally ág\")\n",
        "    print(\"try blokk után\")"
      ]
    },
    {
      "cell_type": "code",
      "execution_count": null,
      "metadata": {
        "id": "2i64BPGlQm-n",
        "outputId": "f1fbc47f-5d18-4b08-fcf6-b039a6a25d16",
        "colab": {
          "base_uri": "https://localhost:8080/"
        }
      },
      "outputs": [
        {
          "output_type": "stream",
          "name": "stdout",
          "text": [
            "try blokk előtt\n",
            "yield előtt\n",
            "hello\n",
            "yield után\n",
            "finally ág\n",
            "try blokk után\n",
            "with után\n",
            "--------------------------------------------------\n",
            "try blokk előtt\n",
            "yield előtt\n",
            "hello\n",
            "except ág\n",
            "finally ág\n",
            "try blokk után\n",
            "with után\n"
          ]
        }
      ],
      "source": [
        "with print_whats_going_on(\"hello\") as x:\n",
        "    print(x)\n",
        "print(\"with után\")\n",
        "\n",
        "print(\"-\"*50)\n",
        "\n",
        "with print_whats_going_on(\"hello\") as x:\n",
        "    print(x)\n",
        "    raise ValueError\n",
        "print(\"with után\")\n"
      ]
    },
    {
      "cell_type": "code",
      "execution_count": null,
      "metadata": {
        "id": "6D9rPp4nQm-n"
      },
      "outputs": [],
      "source": [
        "@contextmanager\n",
        "def timer():\n",
        "    try:\n",
        "        start = time.time()\n",
        "        yield\n",
        "\n",
        "    finally:\n",
        "        runtime = time.time() - start\n",
        "        print(f\"run time: {runtime:3f}\")"
      ]
    },
    {
      "cell_type": "code",
      "execution_count": null,
      "metadata": {
        "id": "iLUzP7JTQm-o",
        "outputId": "f75a5518-8767-4443-af6b-e9b06677cd78",
        "colab": {
          "base_uri": "https://localhost:8080/"
        }
      },
      "outputs": [
        {
          "output_type": "stream",
          "name": "stdout",
          "text": [
            "run time: 0.500594\n"
          ]
        }
      ],
      "source": [
        "t = timer()\n",
        "with t:\n",
        "    time.sleep(0.5)"
      ]
    },
    {
      "cell_type": "markdown",
      "metadata": {
        "id": "ATXXmTA0Qm-o"
      },
      "source": [
        "Használhatjuk-e többször a `timer`-ünket?"
      ]
    },
    {
      "cell_type": "code",
      "execution_count": null,
      "metadata": {
        "id": "IR-nqqR9Qm-o",
        "outputId": "af31a8eb-2906-4638-e9e8-7ebc092b7f15",
        "colab": {
          "base_uri": "https://localhost:8080/",
          "height": 369
        }
      },
      "outputs": [
        {
          "output_type": "stream",
          "name": "stdout",
          "text": [
            "run time: 0.500336\n"
          ]
        },
        {
          "output_type": "error",
          "ename": "AttributeError",
          "evalue": "ignored",
          "traceback": [
            "\u001b[0;31m---------------------------------------------------------------------------\u001b[0m",
            "\u001b[0;31mAttributeError\u001b[0m                            Traceback (most recent call last)",
            "\u001b[0;32m<ipython-input-80-029c5b1baa58>\u001b[0m in \u001b[0;36m<cell line: 4>\u001b[0;34m()\u001b[0m\n\u001b[1;32m      2\u001b[0m \u001b[0;32mwith\u001b[0m \u001b[0mt\u001b[0m\u001b[0;34m:\u001b[0m\u001b[0;34m\u001b[0m\u001b[0;34m\u001b[0m\u001b[0m\n\u001b[1;32m      3\u001b[0m     \u001b[0mtime\u001b[0m\u001b[0;34m.\u001b[0m\u001b[0msleep\u001b[0m\u001b[0;34m(\u001b[0m\u001b[0;36m0.5\u001b[0m\u001b[0;34m)\u001b[0m\u001b[0;34m\u001b[0m\u001b[0;34m\u001b[0m\u001b[0m\n\u001b[0;32m----> 4\u001b[0;31m \u001b[0;32mwith\u001b[0m \u001b[0mt\u001b[0m\u001b[0;34m:\u001b[0m\u001b[0;34m\u001b[0m\u001b[0;34m\u001b[0m\u001b[0m\n\u001b[0m\u001b[1;32m      5\u001b[0m     \u001b[0mtime\u001b[0m\u001b[0;34m.\u001b[0m\u001b[0msleep\u001b[0m\u001b[0;34m(\u001b[0m\u001b[0;36m0.5\u001b[0m\u001b[0;34m)\u001b[0m\u001b[0;34m\u001b[0m\u001b[0;34m\u001b[0m\u001b[0m\n",
            "\u001b[0;32m/usr/lib/python3.10/contextlib.py\u001b[0m in \u001b[0;36m__enter__\u001b[0;34m(self)\u001b[0m\n\u001b[1;32m    131\u001b[0m         \u001b[0;31m# do not keep args and kwds alive unnecessarily\u001b[0m\u001b[0;34m\u001b[0m\u001b[0;34m\u001b[0m\u001b[0m\n\u001b[1;32m    132\u001b[0m         \u001b[0;31m# they are only needed for recreation, which is not possible anymore\u001b[0m\u001b[0;34m\u001b[0m\u001b[0;34m\u001b[0m\u001b[0m\n\u001b[0;32m--> 133\u001b[0;31m         \u001b[0;32mdel\u001b[0m \u001b[0mself\u001b[0m\u001b[0;34m.\u001b[0m\u001b[0margs\u001b[0m\u001b[0;34m,\u001b[0m \u001b[0mself\u001b[0m\u001b[0;34m.\u001b[0m\u001b[0mkwds\u001b[0m\u001b[0;34m,\u001b[0m \u001b[0mself\u001b[0m\u001b[0;34m.\u001b[0m\u001b[0mfunc\u001b[0m\u001b[0;34m\u001b[0m\u001b[0;34m\u001b[0m\u001b[0m\n\u001b[0m\u001b[1;32m    134\u001b[0m         \u001b[0;32mtry\u001b[0m\u001b[0;34m:\u001b[0m\u001b[0;34m\u001b[0m\u001b[0;34m\u001b[0m\u001b[0m\n\u001b[1;32m    135\u001b[0m             \u001b[0;32mreturn\u001b[0m \u001b[0mnext\u001b[0m\u001b[0;34m(\u001b[0m\u001b[0mself\u001b[0m\u001b[0;34m.\u001b[0m\u001b[0mgen\u001b[0m\u001b[0;34m)\u001b[0m\u001b[0;34m\u001b[0m\u001b[0;34m\u001b[0m\u001b[0m\n",
            "\u001b[0;31mAttributeError\u001b[0m: args"
          ]
        }
      ],
      "source": [
        "t = timer()\n",
        "with t:\n",
        "    time.sleep(0.5)\n",
        "with t:\n",
        "    time.sleep(0.5)\n"
      ]
    },
    {
      "cell_type": "markdown",
      "metadata": {
        "id": "BvbSST0ZQm-o"
      },
      "source": [
        "## Tudunk-e olyan contextmanagert készíteni, ami többször felhasználható?\n",
        "\n",
        "pl.\n",
        "\n",
        "```\n",
        "with indented:\n",
        "    indented.print(\"első\")\n",
        "    with indented:\n",
        "        indented.print(\"második\")\n",
        "    indented.print(\"harmadik\")\n",
        "```\n",
        "\n",
        "ahol kimenetként azt várnánk, hogy\n",
        "```\n",
        "  első\n",
        "    második\n",
        "  harmadik\n",
        "```"
      ]
    },
    {
      "cell_type": "code",
      "execution_count": null,
      "metadata": {
        "id": "Np_loeBpQm-o"
      },
      "outputs": [],
      "source": [
        "class Indent:\n",
        "    def __init__(self, indent='  '):\n",
        "        self.level = 0\n",
        "        self.indent = indent\n",
        "\n",
        "    def __enter__(self):\n",
        "        self.level += 1\n",
        "        return None\n",
        "\n",
        "    def __exit__(self, *args):\n",
        "        self.level -= 1\n",
        "\n",
        "    def print(self, x):\n",
        "        indent = self.indent*self.level\n",
        "        x = str(x)\n",
        "        print('\\n'.join(indent+line for line in x.split('\\n')))\n"
      ]
    },
    {
      "cell_type": "code",
      "execution_count": null,
      "metadata": {
        "id": "_Dmvnn6oQm-p",
        "outputId": "402bae43-c056-46bf-acae-a8dcf13d362a",
        "colab": {
          "base_uri": "https://localhost:8080/"
        }
      },
      "outputs": [
        {
          "output_type": "stream",
          "name": "stdout",
          "text": [
            "...első\n",
            "......második\n",
            ".........Többsoros szöveg:\n",
            ".........Első\n",
            ".........Második\n",
            ".........\n",
            "...harmadik\n"
          ]
        }
      ],
      "source": [
        "indented = Indent('...')\n",
        "text = \"\"\"Többsoros szöveg:\n",
        "Első\n",
        "Második\n",
        "\"\"\"\n",
        "with indented:\n",
        "    indented.print(\"első\")\n",
        "    with indented:\n",
        "        indented.print(\"második\")\n",
        "        with indented:\n",
        "            indented.print(text)\n",
        "    indented.print(\"harmadik\")"
      ]
    },
    {
      "cell_type": "markdown",
      "metadata": {
        "id": "96KM29RTQm-p"
      },
      "source": [
        "# Sudoku"
      ]
    },
    {
      "cell_type": "markdown",
      "metadata": {
        "id": "IjXs4vluQm-p"
      },
      "source": [
        "A cél sudoku solver megírása. Ma csak megjelenítéssel és feladványok beolvasásával foglakozunk.\n",
        "\n",
        "Ez egy [project Euler](https://projecteuler.net/problem=96) feladat. A teszt adatok is onnan vannak:\n",
        "\n",
        "https://projecteuler.net/project/resources/p096_sudoku.txt"
      ]
    },
    {
      "cell_type": "code",
      "execution_count": 167,
      "metadata": {
        "id": "oPrNJ7cDQm-p"
      },
      "outputs": [],
      "source": [
        "import urllib\n",
        "from IPython.display import display_html\n"
      ]
    },
    {
      "cell_type": "code",
      "execution_count": 168,
      "metadata": {
        "id": "kJLHHpdiQm-p",
        "outputId": "76132b52-ed79-4393-e804-0c296058e3bb",
        "colab": {
          "base_uri": "https://localhost:8080/"
        }
      },
      "outputs": [
        {
          "output_type": "execute_result",
          "data": {
            "text/plain": [
              "('/tmp/sudoku-large.zip', <http.client.HTTPMessage at 0x7af33d16eb60>)"
            ]
          },
          "metadata": {},
          "execution_count": 168
        }
      ],
      "source": [
        "\n",
        "\n",
        "url50 = \"https://projecteuler.net/project/resources/p096_sudoku.txt\"\n",
        "\n",
        "urllib.request.urlretrieve(url50, \"/tmp/sudoku.txt\")\n",
        "\n",
        "\n",
        "url50000 = \"https://github.com/t-dillon/tdoku/raw/master/data.zip\"\n",
        "\n",
        "urllib.request.urlretrieve(url50000, \"/tmp/sudoku-large.zip\")\n",
        "\n"
      ]
    },
    {
      "cell_type": "code",
      "execution_count": null,
      "metadata": {
        "id": "v7LXvA6CQm-q",
        "outputId": "429abfbd-09db-49cc-d8b7-1469b3ea967d",
        "colab": {
          "base_uri": "https://localhost:8080/"
        }
      },
      "outputs": [
        {
          "output_type": "stream",
          "name": "stdout",
          "text": [
            "Archive:  /tmp/sudoku-large.zip\n",
            "  Length      Date    Time    Name\n",
            "---------  ---------- -----   ----\n",
            "        0  2020-09-18 06:23   data/\n",
            "  8200049  2019-06-14 09:30   data/puzzles0_kaggle\n",
            " 82000000  2020-05-24 23:01   data/puzzles1_unbiased\n",
            "  4080411  2020-01-07 22:27   data/puzzles2_17_clue\n",
            "   120176  2019-06-14 09:29   data/puzzles3_magictour_top1465\n",
            "175100526  2019-06-14 09:32   data/puzzles4_forum_hardest_1905\n",
            "  3998812  2019-06-13 00:59   data/puzzles5_forum_hardest_1905_11+\n",
            "    30863  2019-06-14 09:33   data/puzzles6_forum_hardest_1106\n",
            "   830065  2019-06-28 21:05   data/puzzles7_serg_benchmark\n",
            " 41000064  2019-07-10 19:26   data/puzzles8_gen_puzzles\n",
            "---------                     -------\n",
            "315360966                     10 files\n",
            "replace data/puzzles2_17_clue? [y]es, [n]o, [A]ll, [N]one, [r]ename: "
          ]
        }
      ],
      "source": [
        "! unzip -l /tmp/sudoku-large.zip\n",
        "! unzip -q /tmp/sudoku-large.zip data/puzzles2_17_clue"
      ]
    },
    {
      "cell_type": "code",
      "execution_count": null,
      "metadata": {
        "id": "k4xAG8jVQm-q"
      },
      "outputs": [],
      "source": [
        "css=\"\"\"\n",
        "* {\n",
        "  box-sizing: border-box;\n",
        "}\n",
        ".box, .board {\n",
        "  display: flex;\n",
        "  flex-wrap: wrap ;\n",
        "}\n",
        "\n",
        ".box, .box > div {\n",
        "  border: solid 1px ;\n",
        "  width: 33.33%;\n",
        "  text-align: center;\n",
        "}\n",
        "\n",
        ".box > div:before {\n",
        "  display: inline-block;\n",
        "  padding-top: 100%;\n",
        "  content: '';\n",
        "  vertical-align: middle;\n",
        "}\n",
        "\n",
        ".board {\n",
        "  width: 40%;\n",
        "  margin:0px;\n",
        "  font-size: calc(0.8vw + 10px);\n",
        "  border: solid 2px;\n",
        "}\n",
        "\n",
        ".box div {\n",
        "  color:gray;\n",
        "  text-shadow: 1px 1px 1px white;\n",
        "  vertical-align:middle;\n",
        "}\n",
        "\"\"\"\n",
        "\n",
        "def mk_box(content):\n",
        "    inner = \"\".join(f\"<div>{val}</div>\" for val in content)\n",
        "    return f'<div class=\"box\">{inner}</div>'\n",
        "\n",
        "def mk_board(boxes):\n",
        "    inner = \"\".join(mk_box(box) for box in boxes)\n",
        "    return f'<div class=\"board\">{inner}</div>'\n",
        "\n",
        "def html_grid(grid):\n",
        "    boxes = [[0]*9 for _ in range(9)]\n",
        "    for i, line in enumerate(grid):\n",
        "      a, ra = divmod(i, 3)\n",
        "      for j, val in enumerate(line):\n",
        "        b, rb = divmod(j, 3)\n",
        "        boxes[a*3+b][ra*3+rb] = val\n",
        "    return mk_board(boxes)\n"
      ]
    },
    {
      "cell_type": "markdown",
      "metadata": {
        "id": "KGz6S4LcQm-q"
      },
      "source": [
        "Ellenőrzés EXCEL oszlop-sor jelöléssel"
      ]
    },
    {
      "cell_type": "code",
      "execution_count": null,
      "metadata": {
        "id": "FS6Kk0XwQm-q",
        "outputId": "e7b8f8c9-4960-47c6-9f90-89ba55d04d1d",
        "colab": {
          "base_uri": "https://localhost:8080/",
          "height": 640
        }
      },
      "outputs": [
        {
          "output_type": "display_data",
          "data": {
            "text/html": [
              "<div><style>\n",
              "* {\n",
              "  box-sizing: border-box;\n",
              "}\n",
              ".box, .board {\n",
              "  display: flex;\n",
              "  flex-wrap: wrap ;\n",
              "}\n",
              "\n",
              ".box, .box > div {\n",
              "  border: solid 1px ;\n",
              "  width: 33.33%;\n",
              "  text-align: center;\n",
              "}\n",
              "\n",
              ".box > div:before {\n",
              "  display: inline-block;\n",
              "  padding-top: 100%;\n",
              "  content: '';\n",
              "  vertical-align: middle;\n",
              "}\n",
              "\n",
              ".board {\n",
              "  width: 40%; \n",
              "  margin:0px;\n",
              "  font-size: calc(0.8vw + 10px);\n",
              "  border: solid 2px;\n",
              "}\n",
              "\n",
              ".box div {\n",
              "  color:gray;\n",
              "  text-shadow: 1px 1px 1px white;\n",
              "  vertical-align:middle;\n",
              "}\n",
              "</style>\n",
              "<h3>grid 01</h3><div class=\"board\"><div class=\"box\"><div>A0</div><div>B0</div><div>C0</div><div>A1</div><div>B1</div><div>C1</div><div>A2</div><div>B2</div><div>C2</div></div><div class=\"box\"><div>D0</div><div>E0</div><div>F0</div><div>D1</div><div>E1</div><div>F1</div><div>D2</div><div>E2</div><div>F2</div></div><div class=\"box\"><div>G0</div><div>H0</div><div>I0</div><div>G1</div><div>H1</div><div>I1</div><div>G2</div><div>H2</div><div>I2</div></div><div class=\"box\"><div>A3</div><div>B3</div><div>C3</div><div>A4</div><div>B4</div><div>C4</div><div>A5</div><div>B5</div><div>C5</div></div><div class=\"box\"><div>D3</div><div>E3</div><div>F3</div><div>D4</div><div>E4</div><div>F4</div><div>D5</div><div>E5</div><div>F5</div></div><div class=\"box\"><div>G3</div><div>H3</div><div>I3</div><div>G4</div><div>H4</div><div>I4</div><div>G5</div><div>H5</div><div>I5</div></div><div class=\"box\"><div>A6</div><div>B6</div><div>C6</div><div>A7</div><div>B7</div><div>C7</div><div>A8</div><div>B8</div><div>C8</div></div><div class=\"box\"><div>D6</div><div>E6</div><div>F6</div><div>D7</div><div>E7</div><div>F7</div><div>D8</div><div>E8</div><div>F8</div></div><div class=\"box\"><div>G6</div><div>H6</div><div>I6</div><div>G7</div><div>H7</div><div>I7</div><div>G8</div><div>H8</div><div>I8</div></div></div></div>"
            ]
          },
          "metadata": {}
        }
      ],
      "source": [
        "\n",
        "html = html_grid([[f'{j}{i}' for j in \"ABCDEFGHI\"] for i in range(9)])\n",
        "header = \"grid 01\"\n",
        "\n",
        "display_html(f\"<div><style>{css}</style>\\n<h3>{header}</h3>{html}</div>\", raw=True)"
      ]
    },
    {
      "cell_type": "code",
      "execution_count": null,
      "metadata": {
        "id": "ZnHUWGdJQm-q"
      },
      "outputs": [],
      "source": [
        "def char_value(x):\n",
        "    return int(x) if x.isdigit() else 0\n",
        "\n",
        "\n",
        "class Sudoku:\n",
        "\n",
        "    def __init__(self, grid, name=None):\n",
        "        self.grid = grid\n",
        "        self.name = name if name is not None else \"Unnamed Sudoku\"\n",
        "\n",
        "    @classmethod\n",
        "    def from_str(cls, grid, name):\n",
        "        grid = [[char_value(x) for x in line.strip()] for line in grid]\n",
        "        return cls(grid, name)\n",
        "\n",
        "    def __str__(self):\n",
        "        return f'{self.name}:\\n{self.txt()}'\n",
        "\n",
        "    def _repr_html_(self):\n",
        "        return f\"<style>{css}</style>\\n<h3>{self.name}</h3>\\n{html_grid(self.as_symbols())}\"\n",
        "\n",
        "    def copy(self):\n",
        "        grid = [line.copy() for line in self.grid]\n",
        "        return type(self)(grid, self.name)\n",
        "\n",
        "    def as_symbols(self, symbols=\" 123456789\"):\n",
        "        return [[symbols[x] for x in line] for line in self.grid]\n",
        "\n",
        "    def txt(self):\n",
        "        return '\\n'.join(map(' '.join, self.as_symbols(\"_123456789\")))\n"
      ]
    },
    {
      "cell_type": "code",
      "execution_count": null,
      "metadata": {
        "id": "7TadLbMeQm-q"
      },
      "outputs": [],
      "source": [
        "with open('/tmp/sudoku.txt') as f:\n",
        "    name = f.readline().strip()\n",
        "    grid = [f.readline() for _ in range(9)]\n",
        "    sudoku = Sudoku.from_str(grid, name)"
      ]
    },
    {
      "cell_type": "code",
      "execution_count": null,
      "metadata": {
        "id": "Kwwbp22GQm-r",
        "outputId": "9391b0b0-94fc-41ed-a560-bfc8bb9ba764",
        "colab": {
          "base_uri": "https://localhost:8080/",
          "height": 813
        }
      },
      "outputs": [
        {
          "output_type": "stream",
          "name": "stdout",
          "text": [
            "Grid 01:\n",
            "_ _ 3 _ 2 _ 6 _ _\n",
            "9 _ _ 3 _ 5 _ _ 1\n",
            "_ _ 1 8 _ 6 4 _ _\n",
            "_ _ 8 1 _ 2 9 _ _\n",
            "7 _ _ _ _ _ _ _ 8\n",
            "_ _ 6 7 _ 8 2 _ _\n",
            "_ _ 2 6 _ 9 5 _ _\n",
            "8 _ _ 2 _ 3 _ _ 9\n",
            "_ _ 5 _ 1 _ 3 _ _\n"
          ]
        },
        {
          "output_type": "execute_result",
          "data": {
            "text/plain": [
              "<__main__.Sudoku at 0x7af3687152d0>"
            ],
            "text/html": [
              "<style>\n",
              "* {\n",
              "  box-sizing: border-box;\n",
              "}\n",
              ".box, .board {\n",
              "  display: flex;\n",
              "  flex-wrap: wrap ;\n",
              "}\n",
              "\n",
              ".box, .box > div {\n",
              "  border: solid 1px ;\n",
              "  width: 33.33%;\n",
              "  text-align: center;\n",
              "}\n",
              "\n",
              ".box > div:before {\n",
              "  display: inline-block;\n",
              "  padding-top: 100%;\n",
              "  content: '';\n",
              "  vertical-align: middle;\n",
              "}\n",
              "\n",
              ".board {\n",
              "  width: 40%; \n",
              "  margin:0px;\n",
              "  font-size: calc(0.8vw + 10px);\n",
              "  border: solid 2px;\n",
              "}\n",
              "\n",
              ".box div {\n",
              "  color:gray;\n",
              "  text-shadow: 1px 1px 1px white;\n",
              "  vertical-align:middle;\n",
              "}\n",
              "</style>\n",
              "<h3>Grid 01</h3>\n",
              "<div class=\"board\"><div class=\"box\"><div> </div><div> </div><div>3</div><div>9</div><div> </div><div> </div><div> </div><div> </div><div>1</div></div><div class=\"box\"><div> </div><div>2</div><div> </div><div>3</div><div> </div><div>5</div><div>8</div><div> </div><div>6</div></div><div class=\"box\"><div>6</div><div> </div><div> </div><div> </div><div> </div><div>1</div><div>4</div><div> </div><div> </div></div><div class=\"box\"><div> </div><div> </div><div>8</div><div>7</div><div> </div><div> </div><div> </div><div> </div><div>6</div></div><div class=\"box\"><div>1</div><div> </div><div>2</div><div> </div><div> </div><div> </div><div>7</div><div> </div><div>8</div></div><div class=\"box\"><div>9</div><div> </div><div> </div><div> </div><div> </div><div>8</div><div>2</div><div> </div><div> </div></div><div class=\"box\"><div> </div><div> </div><div>2</div><div>8</div><div> </div><div> </div><div> </div><div> </div><div>5</div></div><div class=\"box\"><div>6</div><div> </div><div>9</div><div>2</div><div> </div><div>3</div><div> </div><div>1</div><div> </div></div><div class=\"box\"><div>5</div><div> </div><div> </div><div> </div><div> </div><div>9</div><div>3</div><div> </div><div> </div></div></div>"
            ]
          },
          "metadata": {},
          "execution_count": 99
        }
      ],
      "source": [
        "print(sudoku)\n",
        "sudoku"
      ]
    },
    {
      "cell_type": "code",
      "execution_count": null,
      "metadata": {
        "id": "VmPTv-EnQm-r"
      },
      "outputs": [],
      "source": [
        "def drop_comment(file):\n",
        "    while True:\n",
        "        try:\n",
        "            line = next(file).strip()\n",
        "        except EOFError:\n",
        "            return\n",
        "        if not line.startswith(\"#\"):\n",
        "            yield line"
      ]
    },
    {
      "cell_type": "code",
      "execution_count": null,
      "metadata": {
        "id": "h7S9mAz2Qm-r"
      },
      "outputs": [],
      "source": [
        "with open('data/puzzles2_17_clue', 'r') as file:\n",
        "    line = next(drop_comment(file))\n",
        "    grid = [[int(ch) if ch.isdigit() else 0 for ch in line[i: i+9]] for i in range(0,81,9)]\n",
        "    sudoku = Sudoku(grid)"
      ]
    },
    {
      "cell_type": "code",
      "execution_count": null,
      "metadata": {
        "id": "jBy2Ra43Qm-r",
        "outputId": "02deae02-3dea-4787-ab40-15614af9904d",
        "colab": {
          "base_uri": "https://localhost:8080/",
          "height": 640
        }
      },
      "outputs": [
        {
          "output_type": "execute_result",
          "data": {
            "text/plain": [
              "<__main__.Sudoku at 0x7af368487c10>"
            ],
            "text/html": [
              "<style>\n",
              "* {\n",
              "  box-sizing: border-box;\n",
              "}\n",
              ".box, .board {\n",
              "  display: flex;\n",
              "  flex-wrap: wrap ;\n",
              "}\n",
              "\n",
              ".box, .box > div {\n",
              "  border: solid 1px ;\n",
              "  width: 33.33%;\n",
              "  text-align: center;\n",
              "}\n",
              "\n",
              ".box > div:before {\n",
              "  display: inline-block;\n",
              "  padding-top: 100%;\n",
              "  content: '';\n",
              "  vertical-align: middle;\n",
              "}\n",
              "\n",
              ".board {\n",
              "  width: 40%; \n",
              "  margin:0px;\n",
              "  font-size: calc(0.8vw + 10px);\n",
              "  border: solid 2px;\n",
              "}\n",
              "\n",
              ".box div {\n",
              "  color:gray;\n",
              "  text-shadow: 1px 1px 1px white;\n",
              "  vertical-align:middle;\n",
              "}\n",
              "</style>\n",
              "<h3>Unnamed Sudoku</h3>\n",
              "<div class=\"board\"><div class=\"box\"><div> </div><div> </div><div> </div><div> </div><div> </div><div> </div><div> </div><div> </div><div> </div></div><div class=\"box\"><div> </div><div> </div><div> </div><div> </div><div> </div><div> </div><div> </div><div> </div><div>2</div></div><div class=\"box\"><div> </div><div> </div><div> </div><div> </div><div> </div><div>1</div><div> </div><div>3</div><div> </div></div><div class=\"box\"><div> </div><div> </div><div> </div><div> </div><div> </div><div>1</div><div> </div><div> </div><div>5</div></div><div class=\"box\"><div> </div><div> </div><div>3</div><div> </div><div>4</div><div> </div><div> </div><div> </div><div> </div></div><div class=\"box\"><div> </div><div>2</div><div> </div><div> </div><div> </div><div> </div><div> </div><div>6</div><div> </div></div><div class=\"box\"><div> </div><div>3</div><div> </div><div> </div><div>7</div><div> </div><div>6</div><div>2</div><div> </div></div><div class=\"box\"><div> </div><div> </div><div> </div><div> </div><div>8</div><div> </div><div> </div><div> </div><div>7</div></div><div class=\"box\"><div> </div><div> </div><div>4</div><div> </div><div> </div><div>9</div><div> </div><div> </div><div> </div></div></div>"
            ]
          },
          "metadata": {},
          "execution_count": 104
        }
      ],
      "source": [
        "sudoku"
      ]
    },
    {
      "cell_type": "markdown",
      "metadata": {
        "id": "vB4gDDOeQm-r"
      },
      "source": [
        "# Öröklődés"
      ]
    },
    {
      "cell_type": "markdown",
      "metadata": {
        "id": "AHKpz0nFQm-s"
      },
      "source": [
        "Előadáson szerepelt ehhez hasonló példa. Legyenek `Polygon`, `Rectangle`, `Square` osztályaink.\n",
        "Minden négyzet téglalap és minden téglalap sokszög. Egy sokszöget a csúcsok felsorolásával adhatunk meg.\n",
        "Ebből a kerület, terület kiszámolható és eldönthető, hogy a sokszög konvex-e. Ha akarjuk pl. a `Matplotlib` könyvtárral ki is rajzolhatjuk a sokszöget.\n",
        "\n",
        "Menetközben síkvektorokkal akarunk számolni. Erre kényelmes a `numpy` könyvtárat használni."
      ]
    },
    {
      "cell_type": "code",
      "execution_count": null,
      "metadata": {
        "id": "Tf4dyGHqQm-s"
      },
      "outputs": [],
      "source": [
        "import math\n",
        "import numpy as np\n",
        "from itertools import cycle\n",
        "\n",
        "class Polygon:\n",
        "\n",
        "    def __init__(self, nodes):\n",
        "        self.nodes = nodes\n",
        "\n",
        "    def area(self):\n",
        "        if self.is_convex():\n",
        "            nodes = np.array(self.nodes)\n",
        "            nodes = nodes-nodes[0]\n",
        "            area = 0\n",
        "            for v1, v2 in zip(nodes[1:], nodes[2:]):\n",
        "                area += abs(v1[0]*v2[1]-v1[1]*v2[0])\n",
        "            return area\n",
        "        else:\n",
        "            raise NotImplementedError\n",
        "            ## hf!\n",
        "\n",
        "    def perimeter(self):\n",
        "        total = 0\n",
        "        for i, p in enumerate(self.nodes, 1):\n",
        "            j = i % len(self.nodes)\n",
        "            total += np.linalg.norm(self.nodes[j]-p)\n",
        "        return total\n",
        "\n",
        "    def is_convex(self):\n",
        "        nodes = np.array(self.nodes + self.nodes[:1])\n",
        "        edges = np.diff(nodes, axis=0)\n",
        "        idx = np.array([i%len(edges) for i in range(1, len(edges)+1)])\n",
        "        edges1 = edges[idx]\n",
        "        sgn = (rotate90(edges) * edges1).sum(axis=1)\n",
        "        return (min(sgn)*max(sgn)>=0)\n",
        "\n",
        "    def draw(self):\n",
        "        pass\n",
        "\n",
        "    def __repr__(self):\n",
        "        return f'{type(self).__name__}({[tuple(x) for x in self.nodes]})'\n",
        "\n",
        "\n",
        "def rotate90(x):\n",
        "    return np.flip(x, -1)*np.array([-1, 1])\n",
        "\n",
        "class Rectangle(Polygon):\n",
        "\n",
        "    def __init__(self, P1, P2, r):\n",
        "        \"\"\"\n",
        "        Assuming that e is P1P2 rotated counterclockwise by 90 degree\n",
        "        P1, P2, P2+r e, P1+re\n",
        "        \"\"\"\n",
        "        v = rotate90(P2-P1)*r\n",
        "        super(Rectangle, self).__init__([P1, P2, P2+v, P1+v])\n",
        "\n",
        "\n",
        "class Square(Rectangle):\n",
        "\n",
        "    def __init__(self, P1, P2):\n",
        "        super(Square, self).__init__(P1, P2, 1)\n",
        "\n"
      ]
    },
    {
      "cell_type": "code",
      "execution_count": null,
      "metadata": {
        "id": "lA56kUaCQm-s"
      },
      "outputs": [],
      "source": [
        "rotate90(np.array([[0, 1],[1,0]]))"
      ]
    },
    {
      "cell_type": "code",
      "execution_count": null,
      "metadata": {
        "id": "EGKxVQC2Qm-s"
      },
      "outputs": [],
      "source": [
        "points = np.array([[0,0], [1,1]])\n",
        "s = Square(points[0], points[1])\n",
        "t = Rectangle(points[0], points[1], 2)\n",
        "p = Polygon(points)\n",
        "for x in [s, t, p]:\n",
        "    print(f\"{x} kerület: {x.perimeter():.2f}, konvex: {x.is_convex()}, terület: {x.area():.2f}\")\n"
      ]
    },
    {
      "cell_type": "code",
      "execution_count": null,
      "metadata": {
        "id": "kLyLUrroQm-s"
      },
      "outputs": [],
      "source": [
        "points = np.array([[0,0], [2,0], [2,2], [1,1], [0,2]])\n",
        "p = Polygon(list(points))\n",
        "print(p.is_convex())\n",
        "p.draw()\n"
      ]
    },
    {
      "cell_type": "markdown",
      "metadata": {
        "id": "evYV1iOhQm-t"
      },
      "source": [
        "Vegyük észre, hogy az `__repr__` metódust csak egyszer implementáltuk, mégis minden egyednek a saját típusát írja ki!\n",
        "Az előző kód blokkot futtassuk le azután is, hogy a `draw` metódust implementáltuk."
      ]
    },
    {
      "cell_type": "markdown",
      "metadata": {
        "id": "kZjC0euxQm-t"
      },
      "source": [
        "# `Matplotlib.pyplot` könytár"
      ]
    },
    {
      "cell_type": "code",
      "execution_count": null,
      "metadata": {
        "id": "RKWItmwTQm-t"
      },
      "outputs": [],
      "source": [
        "import matplotlib.pyplot as plt\n",
        "%matplotlib inline"
      ]
    },
    {
      "cell_type": "markdown",
      "metadata": {
        "id": "nUx1VZW1Qm-u"
      },
      "source": [
        "A legtöbbet használt függvények a  `plot` és az `imshow`."
      ]
    },
    {
      "cell_type": "code",
      "execution_count": null,
      "metadata": {
        "id": "WjFhj-h_Qm-u"
      },
      "outputs": [],
      "source": [
        "plt.plot?"
      ]
    },
    {
      "cell_type": "code",
      "execution_count": null,
      "metadata": {
        "id": "Mf0pl5f3Qm-v"
      },
      "outputs": [],
      "source": [
        "x = np.linspace(0,10, 201)\n",
        "print(x[:10])\n",
        "plt.plot(x, np.sin(x))\n",
        "plt.grid()\n",
        "plt.show()"
      ]
    },
    {
      "cell_type": "code",
      "execution_count": null,
      "metadata": {
        "id": "_gI-D813Qm-w"
      },
      "outputs": [],
      "source": [
        "url = \"https://upload.wikimedia.org/wikipedia/en/thumb/7/7d/Lenna_%28test_image%29.png/220px-Lenna_%28test_image%29.png\"\n",
        "img = plt.imread(url)\n",
        "img.shape"
      ]
    },
    {
      "cell_type": "code",
      "execution_count": null,
      "metadata": {
        "id": "2AJihUCMQm-w"
      },
      "outputs": [],
      "source": [
        "import PIL\n",
        "import urllib\n",
        "img = np.array(PIL.Image.open(urllib.request.urlopen(url)))\n",
        "img.shape"
      ]
    },
    {
      "cell_type": "code",
      "execution_count": null,
      "metadata": {
        "id": "R-Gr4RdGQm-w"
      },
      "outputs": [],
      "source": [
        "plt.imshow(img)\n",
        "plt.show()"
      ]
    },
    {
      "cell_type": "code",
      "execution_count": null,
      "metadata": {
        "id": "UDKYER9jQm-w"
      },
      "outputs": [],
      "source": [
        "plt.plot(*np.array(s.nodes)[[0,1,2,3,0]].T)\n",
        "plt.grid()\n",
        "plt.axis('equal')\n",
        "# plt.axis('off')\n"
      ]
    },
    {
      "cell_type": "code",
      "execution_count": null,
      "metadata": {
        "id": "sE4MXppTQm-w"
      },
      "outputs": [],
      "source": [
        "def draw(self,  *args, fill=False, **kwargs):\n",
        "    nodes = self.nodes + self.nodes[:1]\n",
        "    x, y = np.array(nodes).T\n",
        "    if fill:\n",
        "        plt.fill(x, y, alpha=0.5)\n",
        "    plt.plot(x, y, *args, **kwargs)\n",
        "    plt.axis('equal')\n",
        "\n",
        "Polygon.draw = draw"
      ]
    },
    {
      "cell_type": "code",
      "execution_count": null,
      "metadata": {
        "id": "4Tw772PMQm-x"
      },
      "outputs": [],
      "source": [
        "t.draw('o-', alpha=0.5)\n",
        "s.draw(alpha=0.5, fill=True)\n",
        "p.draw(alpha=0.5)\n",
        "plt.show()"
      ]
    },
    {
      "cell_type": "markdown",
      "metadata": {
        "id": "_vxaDV3pQm-x"
      },
      "source": [
        "# Kiegészítés a 2. szorgalmi feladathoz"
      ]
    },
    {
      "cell_type": "markdown",
      "metadata": {
        "id": "EbV4ZAarQm-x"
      },
      "source": [
        "\n",
        "### Lehet-e az eljárást iterálni?\n"
      ]
    },
    {
      "cell_type": "markdown",
      "metadata": {
        "id": "NxtJWg5HQm-x"
      },
      "source": [
        "\n",
        "Kicsit messzebbről ránézve a feladatra. Adott $g_0$ ,,szép'' függvény és keressük $\\sum_{n=n_0}^{n_1} g_0(n)$ közelítését.\n",
        "Ehhez $g_0(n)$-et $\\int_{-1/2}^{1/2} g_0(x)dx$-et hasonlítjuk össze.\n",
        "\n",
        "Legyen $w\\equiv1$, $g(x)=g_0(x+n)$. A közelítés hibája:\n",
        "$$\n",
        "\\begin{aligned}\n",
        "    \\int_{-1/2}^{1/2} w(x) (g(x)-g(0)) dx\n",
        "    &= \\int_0^{1/2} w(x) (g(x)-g(0)+(g(-x)-g(0)))dx\\\\\n",
        "    &=\\int_0^{1/2} w(x)\\int_0^x g'(y)-g'(-y) dy dx\\\\\n",
        "    &=\\int_0^{1/2} \\int_y^{1/2} w(x)dx (g'(y)-g'(-y))dy\\\\\n",
        "    &=\\int_0^{1/2} w_1(y) \\int_0^y (g''(z)+g''(-z))dz\\\\\n",
        "    &=\\int_0^{1/2} \\int_z^{1/2} w_1(y)dy (g''(z)+g''(-z)) dz\\\\\n",
        "    &=\\int_{-1/2}^{1/2} w_2(z) g''(z) dz\n",
        "\\end{aligned}\n",
        "$$\n",
        "ahol $w_1$, $w_2$ páros függvények $w_{i+1}(x)=\\int_x^{1/2} w_i(y)dy$, ha $x\\in[0,1/2]$.\n",
        "Pl.\n",
        "$$\n",
        "w_0=1,\\quad w_1(x)=\\int_x^{1/2} 1 dy=1/2-x,\\quad w_2(x)=\\int_x^{1/2}(1/2-y) dy=\\frac{(1/2-x)^2}{2}\n",
        "$$\n",
        "Általában $w_i(x)=(1/2-x)^{i}/{i!}$\n",
        "\n",
        "Jelölje $\\bar w_i$ a $w_i$ integrálját\n",
        "$$\n",
        "\\begin{aligned}\n",
        "\\int_{-1/2}^{1/2} w_2(z) g''(z) dz &=\n",
        "\\bar{w_2}\\int_{-1/2}^{1/2}  g''(z) dz+ \\int_{-1/2}^{1/2} (w_2(z)-\\bar{w_2}) (g''(z)-g''(0)) dz\\\\\n",
        "&=\n",
        "\\bar{w_2}\\int_{-1/2}^{1/2}  g''(z) dz+ \\int_{-1/2}^{1/2} (w_4(z)-\\bar{w_2}w_2(z)) g^{(4)}(z) dz\\\\\n",
        "&=\n",
        "\\sum_{k=1}^K c_{2k}\\int_{-1/2}^{1/2}  g^{(2k)}(z) dz +\n",
        "\\int_{-1/2}^{1/2} v_{2K+2}(z) g^{(2K+2)}(z) dz.\n",
        "\\end{aligned}\n",
        "$$\n",
        "\n",
        "Mik a megjelenő konstansok?\n",
        "$$\n",
        "\\begin{aligned}\n",
        "w_k(x)&=\\frac{(1/2-x)^{k}}{k!},\\quad\\bar{w_k}=\\int_{-1/2}^{1/2} w_k(x)dx =2 w_{k+1}(0)=\\frac{1}{2^{k} (k+1)!}\\\\\n",
        "v_2 &= w_2,\\quad c_2=\\bar{w}_2,\\quad v_4=w_4-c_2w_2\n",
        "\\end{aligned}\n",
        "$$\n",
        "Általában:\n",
        "$$\n",
        "\\begin{aligned}\n",
        "v_{2k} &= w_{2k} - c_2 w_{2(k-1)} -\\cdots - c_{2(k-1)}w_2\\\\\n",
        "c_{2k} &= \\bar{w}_{2k} - c_2 \\bar{w}_{2(k-1)} -\\cdots - c_{2(k-1)}\\bar{w}_2\n",
        "\\end{aligned}\n",
        "$$\n",
        "\n",
        "Összefoglalva:\n",
        "\n",
        "$$\n",
        "\\left|\\sum_{n=n_0}^{n_1} g(n)-\\sum_{k=0}^{K} c_{2k}\\int_{n_0-{1/2}}^{n_1+{1/2}} g^{(2k)}(x)dx\\right|\\leq\n",
        "\\left|\\sum_{n=n_0}^{n_1} \\int_{-{1/2}}^{1/2} {v_{2K+2}(z)} g^{2(K+1)}(z+n)dz\\right|\\leq\\max |v_{2K+2}| \\int_{n_0-1/2}^{n_1+1/2} |g^{(2K+2)} (z)|dz.\n",
        "$$\n",
        "\n",
        "$\\max v_{2k}$-t is tudjuk becsülni:\n",
        "$$\n",
        "\\begin{aligned}\n",
        "\\max |v_{2k}|\n",
        "&= \\max\\left|w_{2k} - c_2 w_{2(k-1)} -\\cdots - c_{2(k-1)}w_2\\right|\\\\\n",
        "&\\leq w_{2k}(0) + |c_2 |w_{2(k-1)}(0) +\\cdots + |c_{2(k-1)}|w_2(0) \\\\\n",
        "&=\\frac12(\\bar{w}_{2k-1} + |c_2| \\bar{w}_{2(k-1)-1} +\\cdots + |c_{2(k-1)}| \\bar{w}_1)\n",
        "\\end{aligned}\n",
        "$$\n"
      ]
    },
    {
      "cell_type": "code",
      "execution_count": null,
      "metadata": {
        "id": "YZLxCQKYQm-x"
      },
      "outputs": [],
      "source": [
        "from itertools import islice\n",
        "import math\n",
        "import pandas as pd\n",
        "\n",
        "def barw(k):\n",
        "    return 1/((2**k) * math.factorial(k+1))\n",
        "\n",
        "def c_seq():\n",
        "    c = [1/24]\n",
        "    while True:\n",
        "        yield c[-1]\n",
        "        k = len(c)\n",
        "        c0 = sum(ci*barw(2*i) for i, ci in enumerate(reversed(c), 1))\n",
        "        c.append(barw(2*(k+1))-c0)\n",
        "\n",
        "def c_values(n):\n",
        "    return list(islice(c_seq(), n))\n",
        "\n",
        "def max_v(c):\n",
        "    k = len(c)\n",
        "    c0 = sum(abs(ci)*barw(2*i-1) for i, ci in enumerate(reversed(c), 1))\n",
        "    return 0.5*(barw(2*k+1)+c0)\n",
        "\n",
        "n0 = 5\n",
        "c = c_values(20)\n",
        "df = pd.DataFrame(\n",
        "    {\n",
        "        'c_k': c,\n",
        "        'max_v': [max_v(c[:k]) for k in range(1,len(c)+1)]\n",
        "    }\n",
        ")\n",
        "df['k'] = [2*i for i in range(1, len(df)+1)]\n",
        "df['r_k'] = df.max_v*df.k.apply(lambda k: math.factorial(k)*((n0+0.5)**(-k+1)))\n",
        "df\n",
        "#print(max_v(c)*math.factorial(2*k)*((10+.5)**(-(2*k+1))))\n",
        "\n"
      ]
    },
    {
      "cell_type": "code",
      "execution_count": null,
      "metadata": {
        "id": "EdH41ZzQQm-x"
      },
      "outputs": [],
      "source": [
        "def harmonic_sum_fast(n: int) -> float:\n",
        "    n0 = min(n, 10)\n",
        "    c = c_values(5)\n",
        "    result = sum(1/k for k in reversed(range(1, n0+1))) + math.log((n+0.5)/(n0+0.5))\n",
        "    for i, ci in enumerate(c, 1):\n",
        "        k = 2*i\n",
        "        result += ci * math.factorial(k-1)*((n+0.5)**(-k) -(n0+0.5)**(-k))\n",
        "    return  result\n",
        "\n",
        "def mk_harmonic_mean(N0=10, K=5):\n",
        "    c = c_values(K)\n",
        "\n",
        "    def harmonic_sum(n: int) -> float:\n",
        "        n0 = min(n, N0)\n",
        "        result = math.fsum(1/k for k in range(1, n0+1)) + math.log((n+0.5)/(n0+0.5))\n",
        "        factorial = 1\n",
        "        a0 = a = 1/((n+0.5)*(n+0.5))\n",
        "        b0 = b = 1/((n0+0.5)*(n0+0.5))\n",
        "        for i, ci in enumerate(c, 1):\n",
        "            result += ci * factorial*(a - b)\n",
        "            factorial *= (2*i)*(2*i+1)\n",
        "            a *= a0\n",
        "            b *= b0\n",
        "\n",
        "        return  result\n",
        "\n",
        "    return harmonic_sum\n",
        "\n",
        "harmonic_sum = mk_harmonic_mean(N0=10, K=5)"
      ]
    },
    {
      "cell_type": "code",
      "execution_count": null,
      "metadata": {
        "id": "WDINlTAgQm-x"
      },
      "outputs": [],
      "source": [
        "%%ipytest\n",
        "\n",
        "def test_hs2():\n",
        "    for n in range(1, 1000):\n",
        "        assert abs(harmonic_sum_slow(n) - harmonic_sum_fast(n))<1e-8\n",
        "\n",
        "    for n in range(5000, 100_001, 2_500):\n",
        "        assert abs(harmonic_sum_slow(n)-harmonic_sum_fast(n))<1e-8\n",
        "\n",
        "    for n in range(500_000, 1_000_001, 50_000):\n",
        "        assert abs(harmonic_sum_slow(n)-harmonic_sum_fast(n))<1e-8\n",
        "\n",
        "\n",
        "def test_hs3():\n",
        "    for n in range(1, 1000):\n",
        "        assert abs(harmonic_sum_slow(n) - harmonic_sum(n))<1e-8\n",
        "\n",
        "    for n in range(5000, 100_001, 2_500):\n",
        "        assert abs(harmonic_sum_slow(n)-harmonic_sum(n))<1e-8\n",
        "\n",
        "    for n in range(500_000, 1_000_001, 50_000):\n",
        "        assert abs(harmonic_sum_slow(n)-harmonic_sum(n))<1e-8\n"
      ]
    },
    {
      "cell_type": "code",
      "execution_count": null,
      "metadata": {
        "id": "bTYCdh57Qm-x"
      },
      "outputs": [],
      "source": [
        "%%time\n",
        "harmonic_sum_fast(10**8)"
      ]
    },
    {
      "cell_type": "code",
      "execution_count": null,
      "metadata": {
        "id": "k52j8SD4Qm-x"
      },
      "outputs": [],
      "source": [
        "%%time\n",
        "harmonic_sum(10**8)"
      ]
    }
  ],
  "metadata": {
    "kernelspec": {
      "display_name": "python3.10",
      "language": "python",
      "name": "python3"
    },
    "language_info": {
      "codemirror_mode": {
        "name": "ipython",
        "version": 3
      },
      "file_extension": ".py",
      "mimetype": "text/x-python",
      "name": "python",
      "nbconvert_exporter": "python",
      "pygments_lexer": "ipython3",
      "version": "3.10.12"
    },
    "colab": {
      "provenance": []
    }
  },
  "nbformat": 4,
  "nbformat_minor": 0
}