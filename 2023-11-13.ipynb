{
 "cells": [
  {
   "cell_type": "markdown",
   "metadata": {},
   "source": [
    "[![Open In Colab](https://colab.research.google.com/assets/colab-badge.svg)](https://colab.research.google.com/github/prokaj/elte-python-2023/blob/main/2023-11-13.ipynb)   "
   ]
  },
  {
   "cell_type": "markdown",
   "metadata": {},
   "source": [
    "Néhány import amit később használni fogunk:"
   ]
  },
  {
   "cell_type": "code",
   "execution_count": null,
   "metadata": {},
   "outputs": [],
   "source": [
    "import importlib\n",
    "import math\n",
    "import graphviz\n",
    "\n",
    "if importlib.util.find_spec('ipytest') is None:\n",
    "    ! pip install --quiet ipytest\n",
    "\n",
    "import ipytest\n",
    "\n",
    "ipytest.autoconfig()"
   ]
  },
  {
   "cell_type": "markdown",
   "metadata": {},
   "source": [
    "# Házi feladat"
   ]
  },
  {
   "cell_type": "markdown",
   "metadata": {},
   "source": [
    "Írjunk egy `Permutation` nevű osztályt, aminek segítségével permutációkkal számolhatunk. \n",
    "Egy permutáció egy $\\pi:\\{0,1,\\dots,n-1\\}\\mapsto\\{0,1,\\dots,n−1\\}$ kölcsönös egyeértelmű függvény (bijekció). \n",
    "Szokásos megadása a $\\pi(0),\\dots,\\pi(n−1)$ sorozattal történik.\n",
    "\n",
    "Két permutáció szorzata alatt értsük a kompozíciójukat. Erre nézve az egységelem az identikus permutáció. Így egy permutációnak van inverze és két permutációt szorozni és osztani is lehet egymással. A hatványozás is értelmezett egész kitevőkre.\n",
    "\n",
    "A Permutation osztály implementálja ezeket a műveleteket, valamint az `__str__` és `__repr__` metódusokat is. Az egyes műveletekhez tartozó ,,dunder” metódusok:\n",
    "\n",
    "- `*`: `__mul__`\n",
    "\n",
    "- `~` (inverz): `__invert__`\n",
    "\n",
    "- `/`: `__truediv__`\n",
    "\n",
    "- `**`: `__pow__`\n",
    "\n",
    "Pl.\n",
    "\n",
    "```python\n",
    "pi = Permutation([2, 0, 1, 3])\n",
    "for i in range(-2, 3):\n",
    "   pi0 = pi**i\n",
    "   print(\n",
    "      f\"{i=},\\n\\t\"\n",
    "      f\"str(pi**{i})    = {pi0!s},\\n\\t\"\n",
    "      f\"repr(pi**{i})   = {pi0!r}\\n\\t\"\n",
    "      f\"str(~(pi**{i})) = {~pi0!s}\"\n",
    "      )\n",
    "```\n",
    "\n",
    "eredménye:\n",
    "\n",
    "```python\n",
    "i=-2,\n",
    "    str(pi**-2)    = (2, 0, 1, 3),\n",
    "    repr(pi**-2)   = Permutation((2, 0, 1, 3))\n",
    "    str(~(pi**-2)) = (1, 2, 0, 3)\n",
    "i=-1,\n",
    "    str(pi**-1)    = (1, 2, 0, 3),\n",
    "    repr(pi**-1)   = Permutation((1, 2, 0, 3))\n",
    "    str(~(pi**-1)) = (2, 0, 1, 3)\n",
    "i=0,\n",
    "    str(pi**0)    = (0, 1, 2, 3),\n",
    "    repr(pi**0)   = Permutation((0, 1, 2, 3))\n",
    "    str(~(pi**0)) = (0, 1, 2, 3)\n",
    "i=1,\n",
    "    str(pi**1)    = (2, 0, 1, 3),\n",
    "    repr(pi**1)   = Permutation((2, 0, 1, 3))\n",
    "    str(~(pi**1)) = (1, 2, 0, 3)\n",
    "i=2,\n",
    "    str(pi**2)    = (1, 2, 0, 3),\n",
    "    repr(pi**2)   = Permutation((1, 2, 0, 3))\n",
    "    str(~(pi**2)) = (2, 0, 1, 3)\n",
    "```\n",
    "\n",
    "Az `__init__`` metódus dobjon (raise statement) `TypeError` hibát, ha a bemenet nem sorozat és `ValueError` hibát, ha ugyan sorozat de nem permutáció.\n",
    "\n",
    "Nem kell túlbonyolítani. Ha perm az argumentum, akkor pl. `tuple(perm)` típus hibára vezet, ha `perm` nem egy sorozat! Egy sorozat permutációt ír le, ha az elemeinek halmaza {0,1…,n−1}, ahol n a sorozat hossza.\n",
    "\n",
    "Írjunk teszteket. Ellenőrizzük az implementált metódusokat. Az `__init__` metódusnál azt is, hogy hibát dob-e ha az argumentum nem megfelelő. Ehhez importálni kell a `pytest` modulból a `raises` függvényt és gyakorlaton látottaknak megfelelően alkalmazni.\n",
    "\n",
    "Extra 5 pontért implementáljuk a `_repr_svg_` metódust is. Ennek hatására, jupyter-es környezetben, pl. Colab-on, a permutáció egy gráfként ábrázolva jelenjen meg. Tegyük fel, hogy a permutáció $\\pi =(\\pi(0),\\dots,\\pi(n-1))$\n",
    "A $\\pi$-hez tartozó gráf írányított, csúcsai a $0,\\dots,n-1$ számok és $a$-ból $b$-be pontosan akkor megy él, ha $\\pi(a)=b$.\n",
    "\n",
    "Az implementációhoz használjuk a `graphviz` modult. Nézzünk utána, hogy lehet egy írányított gráfot (`graphviz.Digraph`)\n",
    "létrehozni és abból hogyan lehet előbányászni az őt leíró `svg` sztringet. A `_repr_svg_` metódusnak ezt a sztringet kell visszaadnia!\n"
   ]
  },
  {
   "cell_type": "code",
   "execution_count": null,
   "metadata": {},
   "outputs": [],
   "source": [
    "class Permutation:\n",
    "    def __init__(self, perm):\n",
    "        self.perm = tuple(perm)\n",
    "        \n",
    "    def __mul__(self, other):\n",
    "        pass\n",
    "\n",
    "    def __truediv__(self, other):\n",
    "        pass\n",
    "\n",
    "    def __invert__(self):\n",
    "        pass\n",
    "    \n",
    "    def __pow__(self, n):\n",
    "        pass\n",
    "\n",
    "    def __str__(self):\n",
    "        return str(self.perm)\n",
    "\n",
    "    def __repr__(self):\n",
    "        return f\"{type(self).__name__}({self.perm})\"\n",
    "\n",
    "    def _repr_svg_(self):\n",
    "        graph = graphviz.Digraph()\n",
    "        graph.edges((str(a), str(b)) for a, b in enumerate(self.perm))\n",
    "        return graph._repr_image_svg_xml()\n",
    "        \n",
    "\n",
    "    def __eq__(self, other):\n",
    "        return isinstance(other, type(self)) and other.perm==self.perm"
   ]
  },
  {
   "cell_type": "code",
   "execution_count": null,
   "metadata": {},
   "outputs": [],
   "source": [
    "%%ipytest\n",
    "from pytest import raises\n",
    "import json\n",
    "import itertools\n",
    "\n",
    "def test_init():\n",
    "    with raises(TypeError):\n",
    "        Permutation(1)\n",
    "\n",
    "    with raises(TypeError):\n",
    "        Permutation(\"abc\")\n",
    "        \n",
    "    with raises(ValueError):\n",
    "        Permutation((1, 2))\n",
    "    \n",
    "    with raises(ValueError):\n",
    "        Permutation((0, 0.2))\n",
    "\n",
    "    assert Permutation((0,1,2,3)).perm == (0,1,2,3)\n",
    "    \n",
    "    seq = [0, 1, 2]\n",
    "    p = Permutation(seq)\n",
    "    seq[0] = 4\n",
    "    assert p.perm == (0, 1, 2)\n",
    "\n",
    "def test_mul():\n",
    "    p = Permutation((1, 2, 0, 3, 4))\n",
    "    assert p*p == Permutation((2, 0, 1, 3, 4))\n",
    "    \n",
    "\n",
    "def test_div():\n",
    "    p = Permutation((1, 2, 0, 3, 4))\n",
    "    q = Permutation((0, 1, 2, 4, 3))\n",
    "    assert p/q == Permutation((1, 2, 0, 4, 3))\n",
    "\n",
    "def test_inv():\n",
    "    identity = Permutation(range(5))\n",
    "    for p in itertools.permutations(range(5)):\n",
    "        pi = Permutation(p)\n",
    "        assert pi*(~pi) == id  \n",
    "\n",
    "def test_str():\n",
    "    identity = Permutation(range(5))\n",
    "    assert str(identity) == \"(0, 1, 2, 3, 4)\"\n",
    "    \n",
    "    p = Permutation((1, 2, 0, 3, 4))\n",
    "    assert str(p) == \"(1, 2, 0, 3, 4)\"\n",
    "    \n",
    "\n",
    "def test_repr():\n",
    "    identity = Permutation(range(5))\n",
    "    assert repr(identity) == \"Permutation((0, 1, 2, 3, 4))\"\n",
    "    \n",
    "    p = Permutation((1, 2, 0, 3, 4))\n",
    "    assert repr(p) == \"Permutation((1, 2, 0, 3, 4))\"\n",
    "\n",
    "def test_svg():\n",
    "    with open(\"data/snapshot.json\", \"r\") as file:\n",
    "        examples = json.load(file)\n",
    "    for example in examples:\n",
    "        seq = example['permutation']\n",
    "        svg = example['svg_string']\n",
    "        pi = Permutation(seq)\n",
    "        assert pi._repr_svg_() == svg\n"
   ]
  },
  {
   "cell_type": "markdown",
   "metadata": {},
   "source": [
    "## Snapshot létrehozása"
   ]
  },
  {
   "cell_type": "code",
   "execution_count": null,
   "metadata": {},
   "outputs": [],
   "source": [
    "from pathlib import Path\n",
    "\n",
    "snapshot_file = Path(\"data\") / \"snapshot.json\"\n",
    "\n",
    "if not snapshot_file.exists():\n",
    "    snapshot = [\n",
    "        {\n",
    "            \"permutation\": p, \n",
    "            \"svg_string\": Permutation(p)._repr_svg_()\n",
    "        } \n",
    "        for p in [(0, 1, 2, 3, 4),  (1, 2, 0)]\n",
    "    ]\n",
    "    with open(snapshot_file, \"w\") as file:\n",
    "        json.dump(snapshot, file, indent=2)\n",
    "\n",
    "    print(f\"snapshot is written into {snapshot_file.absolute()}\")\n"
   ]
  },
  {
   "cell_type": "markdown",
   "metadata": {},
   "source": [
    "## Szorgalmi feladat.\n",
    "\n",
    "Harmonikus sor alatt, az $\\sum_{n=1}^\\infty\n",
    "  \\frac1n$ sort értjük. Ennek a részletösszegeit szeretnénk kiszámítani\n",
    "legalább $10^{-8}$ pontossággal. Ehhez használhatnánk, a definíciót:\n",
    "\n",
    "```python\n",
    "def harmonic_sum_slow(n: int) -> float:\n",
    "    return sum(1/k for k in reversed(range(1, n+1)))\n",
    "```\n",
    "\n",
    "azonban ez túlságosan lassú. A művelet igény lineáris $n$-ben és\n",
    "körülbelül $n=25*10^6$ esetén már egy másodperc körüli a futási idő.\n",
    "\n",
    "A kiindulást a következő ötlet szolgáltathatja, $n\\geq 1$-re:\n",
    "$$\n",
    "\\begin{aligned}\n",
    "    \\log\\left({n+\\frac12}\\right) - \\log\\left({n-\\frac12}\\right)\n",
    "    &=\\int_{n-\\frac1{2}}^{n+\\frac1{2}} \\frac1{x} dx\\\\\n",
    "    &= \\int_{-\\frac1{2}}^{\\frac1{2}} \\frac1{n+x} dx\\\\\n",
    "    & = \\frac1n +\\int_{-\\frac1{2}}^{\\frac1{2}} \\frac1{(n+x)}\n",
    "      -\\frac1ndx\\\\\n",
    "    & = \\frac1n +\\int_{-\\frac1{2}}^{\\frac1{2}} \\frac{x}{(n+x)n}dx\\\\\n",
    "    & = \\frac1n +\\int_{0}^{\\frac1{2}} \\frac{2x^2}{(n^2-x^2)n}dx    \n",
    "\\end{aligned}\n",
    "$$ Ebből becsüljük meg $\\frac1n$ és a bal oldal eltérését.\n",
    "Végül az összeg első néhány tagját megtartva, a többit közelítve a\n",
    "logaritmus megváltozásával próbáljunk gyorsabb és az előírt pontosságú\n",
    "módszert találni.\n",
    "\n",
    "Egy másik lehetőség $1/n+1/(n+1)$ és $2\\log(1+1/n)$ összehasonlítása."
   ]
  },
  {
   "cell_type": "code",
   "execution_count": null,
   "metadata": {},
   "outputs": [],
   "source": [
    "def harmonic_sum_slow(n: int) -> float:\n",
    "    return math.fsum(1/k for k in range(1, n+1))"
   ]
  },
  {
   "cell_type": "code",
   "execution_count": null,
   "metadata": {},
   "outputs": [],
   "source": [
    "%%time\n",
    "harmonic_sum_slow(25*(10**6))"
   ]
  },
  {
   "cell_type": "markdown",
   "metadata": {},
   "source": [
    "A megadott formula alapján\n",
    "$$\n",
    "\\begin{aligned}\n",
    "\\left|\\frac1n - \\int_{n-1/2}^{n+1/2} \\frac1{x}dx\\right| \n",
    "&= \\int_0^{1/2} \\frac{2x^2}{(n^2-x^2)n}dx\\\\\n",
    "&\\leq \\frac1{(n^2-1)n}\\int_0^{1/2} 2x^2dx=\\frac1{12(n^2-1)n}\n",
    "\\end{aligned}\n",
    "$$\n",
    "Ha $n_0$-tól összegzünk, akkor\n",
    "$$\n",
    "\\begin{aligned}\n",
    "\\sum_{n=n_0}^\\infty \\frac1{(n^2-1)n}& =\n",
    "\\sum_{n=n_0}^\\infty \\frac1{(n-1)(n+1)n}\\\\\n",
    "&= \\frac12\\sum_{n=n_0}^\\infty \\frac1{n-1}+\\frac1{n+1} -\\frac{2}{n}\\\\\n",
    "&=\\frac12\\left\\{\\sum_{n=n_0-1}\\frac{1}{n}+\\sum_{n=n_0+1}\\frac1n-2\\sum_{n=n_0}\\frac1n\\right\\}\\\\\n",
    "&=\\frac12\\left\\{\\frac1{n_0-1}-\\frac1{n_0}\\right\\}=\\frac{1}{2n_0(n_0-1)}\n",
    "\\end{aligned}\n",
    "$$\n",
    "\n",
    "Ebből az adódik, hogy\n",
    "$$\n",
    "\\left|\\sum_{n=n_0}^{n_1} \\frac1n - \\log\\left(\\frac{n_1+1/2}{n_0-1/2}\\right)\\right|\n",
    "\\leq \\frac{1}{24(n_0(n_0-1))}\n",
    "$$\n",
    "\n",
    "A logaritmus értékét pontosnak vehetjük, így a közelítés hibája akkor lesz kisebb, mint $10^{-8}$, ha\n",
    "$$\n",
    "    24*n_0(n_0-1)>10^8 \n",
    "$$"
   ]
  },
  {
   "cell_type": "code",
   "execution_count": null,
   "metadata": {},
   "outputs": [],
   "source": [
    "print(f\"{((1e8)/24)**0.5=}\")\n",
    "n0 = 2500 \n"
   ]
  },
  {
   "cell_type": "code",
   "execution_count": null,
   "metadata": {},
   "outputs": [],
   "source": [
    "import math\n",
    "\n",
    "def harmonic_sum_faster(n: int) -> float:\n",
    "    n0 = min(n, 2500)\n",
    "    return math.fsum(1/k for k in range(1, n0+1)) + math.log((n+0.5)/(n0+0.5))"
   ]
  },
  {
   "cell_type": "code",
   "execution_count": null,
   "metadata": {},
   "outputs": [],
   "source": [
    "%%ipytest\n",
    "\n",
    "def test_hs():\n",
    "    for n in range(1, 1000):\n",
    "        assert harmonic_sum_slow(n) == harmonic_sum_faster(n) \n",
    "\n",
    "    for n in range(5000, 100_001, 2_500):\n",
    "        assert abs(harmonic_sum_slow(n)-harmonic_sum_faster(n))<1e-8\n",
    "\n",
    "    for n in range(500_000, 1_000_001, 50_000):\n",
    "        assert abs(harmonic_sum_slow(n)-harmonic_sum_faster(n))<1e-8\n"
   ]
  },
  {
   "cell_type": "code",
   "execution_count": null,
   "metadata": {},
   "outputs": [],
   "source": [
    "%%time\n",
    "harmonic_sum_faster(25*(10**8))"
   ]
  },
  {
   "cell_type": "markdown",
   "metadata": {},
   "source": [
    "# Dekorátorok"
   ]
  },
  {
   "cell_type": "markdown",
   "metadata": {},
   "source": [
    "Egy függvényből egy másikat állít elő.\n",
    "\n",
    "Szintakszis:\n",
    "\n",
    "```python\n",
    "@dekorator\n",
    "def f():\n",
    "    pass\n",
    "```\n",
    "kb. ekvivalens azzal, hogy\n",
    "\n",
    "```python\n",
    "def f():\n",
    "    pass\n",
    "\n",
    "f = dekorator(f)\n",
    "```"
   ]
  },
  {
   "cell_type": "code",
   "execution_count": null,
   "metadata": {},
   "outputs": [],
   "source": [
    "def show_funcall(fun):\n",
    "    def f(*args):\n",
    "        print(f\"call: {fun.__name__}({', '.join(map(str, args))})\")\n",
    "        result = fun(*args)\n",
    "        print(f\"      {result=}\")\n",
    "        return result\n",
    "    return f"
   ]
  },
  {
   "cell_type": "code",
   "execution_count": null,
   "metadata": {},
   "outputs": [],
   "source": [
    "@show_funcall\n",
    "def sum_values(a: int, b: int) -> int:\n",
    "    \"\"\"adds two integer\"\"\"\n",
    "    return a+b\n",
    "\n",
    "sum_values(1, 1)"
   ]
  },
  {
   "cell_type": "code",
   "execution_count": null,
   "metadata": {},
   "outputs": [],
   "source": [
    "help(sum_values)"
   ]
  },
  {
   "cell_type": "markdown",
   "metadata": {},
   "source": [
    "# Property dekorátor\n",
    "\n",
    "Előadáson a `property` dekorátor szerepelt. Erre szeretnénk megnézni egy példát."
   ]
  },
  {
   "cell_type": "code",
   "execution_count": null,
   "metadata": {},
   "outputs": [],
   "source": [
    "class Temperature:\n",
    "    def __init__(self, celsius=0):\n",
    "        ## Valójában a self.temperature attributomot állítja be ellenőrzés mellett!\n",
    "        self.celsius = celsius\n",
    "\n",
    "    @property\n",
    "    def fahrenheit(self):\n",
    "        return 32+9*self.temperature/5\n",
    "    \n",
    "    @fahrenheit.setter\n",
    "    def fahrenheit(self, fahrenheit):\n",
    "        self.celsius = (fahrenheit-32)*5/9\n",
    "\n",
    "    @property\n",
    "    def celsius(self):\n",
    "        return self.temperature \n",
    "    \n",
    "    @celsius.setter\n",
    "    def celsius(self, celsius):\n",
    "        if celsius < -273:\n",
    "            raise ValueError('Temperature is too small')\n",
    "        self.temperature = celsius\n",
    "\n",
    "    def __str__(self):\n",
    "        return f\"{self.celsius:.1f} \\u2103 ({self.fahrenheit:.1f} \\u2109)\"\n",
    "\n",
    "    def __repr__(self):\n",
    "        return f\"{type(self).__name__}({self.celsius})\"\n",
    "    \n",
    "    "
   ]
  },
  {
   "cell_type": "code",
   "execution_count": null,
   "metadata": {},
   "outputs": [],
   "source": [
    "%%ipytest\n",
    "from pytest import raises\n",
    "\n",
    "def test_T():\n",
    "    t = Temperature(25)\n",
    "    assert t.celsius == 25\n",
    "    assert t.fahrenheit == 9*5+32 \n",
    "    \n",
    "    with raises(ValueError):\n",
    "        Temperature(-300)"
   ]
  },
  {
   "cell_type": "markdown",
   "metadata": {},
   "source": [
    "Példák."
   ]
  },
  {
   "cell_type": "code",
   "execution_count": null,
   "metadata": {},
   "outputs": [],
   "source": [
    "temp = Temperature()\n",
    "\n",
    "for t in range(-20, 45, 5):\n",
    "    temp.celsius = t\n",
    "    print(str(temp))\n",
    "     "
   ]
  },
  {
   "cell_type": "code",
   "execution_count": null,
   "metadata": {},
   "outputs": [],
   "source": [
    "temp.fahrenheit = 100\n",
    "print(temp)\n",
    "temp"
   ]
  },
  {
   "cell_type": "markdown",
   "metadata": {},
   "source": [
    "# További példák dekorátorokra\n"
   ]
  },
  {
   "cell_type": "markdown",
   "metadata": {},
   "source": [
    "\n",
    "A `functools` modulban számos hasznos dekorátor található\n",
    "\n",
    "- `lru_cache`: A függvényből a memorizált változatot készíti el.\n",
    "- `partial`: `g = partial(f, 1)` hatására `g(...)` ugyanaz, mint `f(1, ...)`\n",
    "- `wraps`: lásd a dokumentációt."
   ]
  },
  {
   "cell_type": "code",
   "execution_count": null,
   "metadata": {},
   "outputs": [],
   "source": [
    "from functools import lru_cache, partial, wraps\n",
    "\n",
    "@lru_cache()\n",
    "def f(x):\n",
    "    return x*x\n",
    "\n",
    "print(f(1), f(2), f(1))\n",
    "print(f.cache_info())\n",
    "\n",
    "def add(a, b):\n",
    "    return a+b\n",
    "\n",
    "inc = partial(add, 1)\n",
    "inc(10)\n",
    "\n",
    "\n"
   ]
  },
  {
   "cell_type": "code",
   "execution_count": null,
   "metadata": {},
   "outputs": [],
   "source": [
    "def decor_wo_wraps(f):\n",
    "    def h(*args):\n",
    "        print(\"decorated without wraps\")\n",
    "        return f(*args)\n",
    "    return h\n",
    "\n",
    "def decor_wraps(f):\n",
    "    @wraps(f)\n",
    "    def h(*args):\n",
    "        print(\"decorated with wraps\")\n",
    "        return f(*args)\n",
    "    return h\n"
   ]
  },
  {
   "cell_type": "code",
   "execution_count": null,
   "metadata": {},
   "outputs": [],
   "source": [
    "@decor_wo_wraps\n",
    "def dummy_fn(a:int, b:int) -> int:\n",
    "    \"\"\"dummy fn. Nothing interesting\"\"\"\n",
    "    return a+b\n",
    "\n",
    "print(dummy_fn(1, 2))\n",
    "help(dummy_fn)"
   ]
  },
  {
   "cell_type": "code",
   "execution_count": null,
   "metadata": {},
   "outputs": [],
   "source": [
    "@decor_wraps\n",
    "def dummy_fn(a:int, b:int) ->int:\n",
    "    \"\"\"dummy fn. Nothing interesting\"\"\"\n",
    "    return a+b\n",
    "\n",
    "print(dummy_fn(1, 2))\n",
    "help(dummy_fn)"
   ]
  },
  {
   "cell_type": "markdown",
   "metadata": {},
   "source": [
    "\n",
    "\n",
    "# Feladat\n"
   ]
  },
  {
   "cell_type": "markdown",
   "metadata": {},
   "source": [
    "\n",
    "Írjuk meg a `grep` program egyszerűsített változatát.\n",
    "\n",
    "A `grep` soronként olvas egy szövegfileból és a megadott mintát tartalmazó sorokat kiírja a kimenetre.\n",
    "\n",
    "Képes arra, hogy kiírja a mintát tartalmazó sorral együtt azt megelőző és azt követő néhány sort is.\n",
    "\n",
    "A mi változatunk egy generátor függvény lesz, ami a megadott file soraiból azokat tartja meg, amik az adott mintát tartalmazzák.\n"
   ]
  },
  {
   "cell_type": "markdown",
   "metadata": {},
   "source": [
    "## Olvasás fileból"
   ]
  },
  {
   "cell_type": "markdown",
   "metadata": {},
   "source": [
    "```python\n",
    "with open(filename, mode) as file:\n",
    "    do_something with file\n",
    "```\n",
    "       \n",
    "- `filename` a file elérési útja\n",
    "- `mode` \n",
    "  + `r` reading olvasás\n",
    "  + `w` writing írás\n",
    "  + `b` binary\n",
    "  + `t` text\n",
    "  + `a` append\n",
    "  \n",
    "  Ha nem adjuk meg `rt`.\n",
    "  \n",
    "  Lehetne még `r, w, rb, wb, a`  "
   ]
  },
  {
   "cell_type": "code",
   "execution_count": null,
   "metadata": {},
   "outputs": [],
   "source": [
    "%%writefile /tmp/test.txt\n",
    "első sor\n",
    "második sor\n",
    "harmadik\n",
    "utolsó"
   ]
  },
  {
   "cell_type": "code",
   "execution_count": null,
   "metadata": {},
   "outputs": [],
   "source": [
    "filename = \"/tmp/test.txt\"\n",
    "\n",
    "with open(filename, \"r\") as file:\n",
    "    print(file)\n",
    "    print(f\"---{filename}:\")\n",
    "    for line in file:\n",
    "        print(line, end=\"\")\n",
    "    print(\"---\")\n",
    "        "
   ]
  },
  {
   "cell_type": "markdown",
   "metadata": {},
   "source": [
    "Egészítsük ki a következő kódot!"
   ]
  },
  {
   "cell_type": "code",
   "execution_count": null,
   "metadata": {},
   "outputs": [],
   "source": [
    "\n",
    "def simple_grep(filename: str, pattern: str): # Generator[str]\n",
    "    with open(filename, \"r\") as file:\n",
    "        for line in ???:\n",
    "            if ???:\n",
    "                yield line"
   ]
  },
  {
   "cell_type": "markdown",
   "metadata": {},
   "source": [
    "### Adatok olvasása netről\n",
    "\n",
    "Ez  megoldható `urllib.request` modullal\n"
   ]
  },
  {
   "cell_type": "code",
   "execution_count": null,
   "metadata": {},
   "outputs": [],
   "source": [
    "import urllib.request as request\n",
    "import itertools"
   ]
  },
  {
   "cell_type": "code",
   "execution_count": null,
   "metadata": {},
   "outputs": [],
   "source": [
    "\n",
    "url = \"https://www.gutenberg.org/files/1342/1342-0.txt\" # Pride and prejudice\n",
    "url = \"https://www.gutenberg.org/ebooks/67098.txt.utf-8\" # Winnie the pooh\n",
    "\n",
    "with request.urlopen(url) as file:\n",
    "    btext = file.read()\n",
    "\n",
    "print(type(btext))"
   ]
  },
  {
   "cell_type": "code",
   "execution_count": null,
   "metadata": {},
   "outputs": [],
   "source": [
    "text = btext.decode()\n",
    "lines = text.split(\"\\r\\n\")\n"
   ]
  },
  {
   "cell_type": "code",
   "execution_count": null,
   "metadata": {},
   "outputs": [],
   "source": [
    "len(lines), lines[:50]"
   ]
  },
  {
   "cell_type": "code",
   "execution_count": null,
   "metadata": {},
   "outputs": [],
   "source": [
    "request.urlretrieve?"
   ]
  },
  {
   "cell_type": "code",
   "execution_count": null,
   "metadata": {},
   "outputs": [],
   "source": [
    "request.urlretrieve(url, \"/tmp/winnie-the-pooh.txt\")"
   ]
  },
  {
   "cell_type": "code",
   "execution_count": null,
   "metadata": {},
   "outputs": [],
   "source": [
    "! ls /tmp"
   ]
  },
  {
   "cell_type": "code",
   "execution_count": null,
   "metadata": {},
   "outputs": [],
   "source": [
    "! head /tmp/winnie-the-pooh.txt"
   ]
  },
  {
   "cell_type": "code",
   "execution_count": null,
   "metadata": {},
   "outputs": [],
   "source": [
    "list(itertools.islice(simple_grep(\"/tmp/winnie-the-pooh.txt\", \"eeyore\"), 5))"
   ]
  },
  {
   "cell_type": "code",
   "execution_count": null,
   "metadata": {},
   "outputs": [],
   "source": [
    "#open?"
   ]
  },
  {
   "cell_type": "markdown",
   "metadata": {},
   "source": [
    "## Melyek a leggyakoribb szavak a Micimackó angol változatában? "
   ]
  },
  {
   "cell_type": "code",
   "execution_count": null,
   "metadata": {},
   "outputs": [],
   "source": [
    "from collections import Counter"
   ]
  },
  {
   "cell_type": "code",
   "execution_count": null,
   "metadata": {},
   "outputs": [],
   "source": [
    "def words(lines):\n",
    "    for line in lines:\n",
    "        for word in line.split():\n",
    "            yield word"
   ]
  },
  {
   "cell_type": "code",
   "execution_count": null,
   "metadata": {},
   "outputs": [],
   "source": [
    "with open(\"/tmp/winnie-the-pooh.txt\") as textfile:\n",
    "    counter = Counter(map(str.lower, words(itertools.islice(textfile, 50_000))))\n",
    "len(counter)"
   ]
  },
  {
   "cell_type": "code",
   "execution_count": null,
   "metadata": {},
   "outputs": [],
   "source": [
    "counter.most_common(20)"
   ]
  },
  {
   "cell_type": "markdown",
   "metadata": {},
   "source": [
    "# `with` statement"
   ]
  },
  {
   "cell_type": "markdown",
   "metadata": {},
   "source": [
    "\n",
    " \n",
    "## Mi történik a `with` statement alkalmazásakor?\n",
    "\n",
    "### Mit lehet a with mögé írni?\n",
    "\n",
    "Hasonlóan a `for`-hoz szinte bármit, aminek van két metódusa:\n",
    "\n",
    "- `__enter__`\n",
    "- `__exit__`\n",
    "\n",
    "\n",
    "    with obj as x:\n",
    "       do_something with x\n",
    "\n",
    "Itt az `obj.__enter__()` hívás eredménye lesz az x értéke és a block végén **GARANTÁLTAN** végrehajtódik az `obj.__exit__(...)` hívás.\n",
    "Az `__enter__` metódus végezheti az előkészítést, az `__exit__` a takarítást!\n",
    "\n",
    "#### Kell-e nekünk ezeket a metódusokat közvetlenül implementálni?\n",
    "\n",
    "Valójában nem. Elegendő egy generátor függvényt megírni:\n",
    "\n",
    "    import time\n",
    "    \n",
    "    def timer():\n",
    "        try:\n",
    "            start = time.time()\n",
    "            yield\n",
    "\n",
    "        finally:\n",
    "            runtime = time.time() - start\n",
    "            print(f\"run time: {runtime:3f}\")\n",
    "            \n",
    "\n",
    "Így még csak egy generátort kapunk ami egyszer visszaad semmit (`None`) majd jelzi, hogy vége van a sorozatnak. \n",
    "\n",
    "Próbáljuk ki `for`-ral"
   ]
  },
  {
   "cell_type": "code",
   "execution_count": null,
   "metadata": {},
   "outputs": [],
   "source": [
    "import time\n",
    "    \n",
    "def timer():\n",
    "    try:\n",
    "        start = time.time()\n",
    "        yield\n",
    "\n",
    "    finally:\n",
    "        runtime = time.time() - start\n",
    "        print(f\"run time: {runtime:3f}\")\n",
    "        \n",
    "for x in timer():\n",
    "    print(x)"
   ]
  },
  {
   "cell_type": "markdown",
   "metadata": {},
   "source": [
    "`with`-del hibát kapunk"
   ]
  },
  {
   "cell_type": "code",
   "execution_count": null,
   "metadata": {},
   "outputs": [],
   "source": [
    "with timer() as x:\n",
    "    print(x)"
   ]
  },
  {
   "cell_type": "markdown",
   "metadata": {},
   "source": [
    "A `contextlib` module `contextmanager` függvénye generátorból `contextmanager`-t készít."
   ]
  },
  {
   "cell_type": "code",
   "execution_count": null,
   "metadata": {},
   "outputs": [],
   "source": [
    "from contextlib import contextmanager\n",
    "timer2 = contextmanager(timer)\n",
    "with timer2() as x:\n",
    "    print(x)"
   ]
  },
  {
   "cell_type": "markdown",
   "metadata": {},
   "source": [
    "Ha egy függvény akarunk alkalmazni egy függvényre, hogy azt átalakítsuk, de ugyanaz maradjon a neve akkor a python `@` szintakszist használja. Ilyenkor ,,dekoráljuk'' a függvényt. A `contextmanager` egy példa **dekorátor**ra.\n",
    "\n",
    "    @contextmanager\n",
    "    def timer():\n",
    "        try:\n",
    "            start = time.time()\n",
    "            yield\n",
    "\n",
    "        finally:\n",
    "            runtime = time.time() - start\n",
    "            print(f\"run time: {runtime:3f}\")\n",
    "    \n",
    "Példaként írjunk egy olyan contextmanager-t, ami jelzi nekünk, hogy mikor milyen hívás történik."
   ]
  },
  {
   "cell_type": "code",
   "execution_count": null,
   "metadata": {},
   "outputs": [],
   "source": [
    "@contextmanager\n",
    "def print_whats_going_on(x):\n",
    "    print(\"try blokk előtt\")\n",
    "    try:\n",
    "        print(\"yield előtt\")\n",
    "        yield x\n",
    "        print(\"yield után\")\n",
    "    except:\n",
    "        print(\"except ág\")\n",
    "    finally:\n",
    "        print(\"finally ág\")\n",
    "    print(\"try blokk után\")"
   ]
  },
  {
   "cell_type": "code",
   "execution_count": null,
   "metadata": {},
   "outputs": [],
   "source": [
    "with print_whats_going_on(\"hello\") as x:\n",
    "    print(x)\n",
    "print(\"with után\")\n",
    "\n",
    "print(\"-\"*50)\n",
    "\n",
    "with print_whats_going_on(\"hello\") as x:\n",
    "    print(x)\n",
    "    raise ValueError\n",
    "print(\"with után\")\n"
   ]
  },
  {
   "cell_type": "code",
   "execution_count": null,
   "metadata": {},
   "outputs": [],
   "source": [
    "@contextmanager\n",
    "def timer():\n",
    "    try:\n",
    "        start = time.time()\n",
    "        yield\n",
    "\n",
    "    finally:\n",
    "        runtime = time.time() - start\n",
    "        print(f\"run time: {runtime:3f}\")"
   ]
  },
  {
   "cell_type": "code",
   "execution_count": null,
   "metadata": {},
   "outputs": [],
   "source": [
    "t = timer()\n",
    "with t:\n",
    "    time.sleep(0.5)"
   ]
  },
  {
   "cell_type": "markdown",
   "metadata": {},
   "source": [
    "Használhatjuk-e többször a `timer`-ünket?"
   ]
  },
  {
   "cell_type": "code",
   "execution_count": null,
   "metadata": {},
   "outputs": [],
   "source": [
    "t = timer()\n",
    "with t:\n",
    "    time.sleep(0.5)\n",
    "with t:\n",
    "    time.sleep(0.5)\n"
   ]
  },
  {
   "cell_type": "markdown",
   "metadata": {},
   "source": [
    "## Tudunk-e olyan contextmanagert készíteni, ami többször felhasználható?\n",
    "\n",
    "pl.\n",
    "\n",
    "```\n",
    "with indented:\n",
    "    indented.print(\"első\")\n",
    "    with indented:\n",
    "        indented.print(\"második\")\n",
    "    indented.print(\"harmadik\")\n",
    "```\n",
    "\n",
    "ahol kimenetként azt várnánk, hogy\n",
    "```\n",
    "  első\n",
    "    második\n",
    "  harmadik\n",
    "```"
   ]
  },
  {
   "cell_type": "code",
   "execution_count": null,
   "metadata": {},
   "outputs": [],
   "source": [
    "class Indent:\n",
    "    def __init__(self, indent='  '):\n",
    "        self.level = 0\n",
    "        self.indent = indent\n",
    "    \n",
    "    def __enter__(self):\n",
    "        self.level += 1\n",
    "        return None\n",
    "    \n",
    "    def __exit__(self, *args):\n",
    "        self.level -= 1\n",
    "    \n",
    "    def print(self, x):\n",
    "        indent = self.indent*self.level \n",
    "        x = str(x)\n",
    "        print('\\n'.join(indent+line for line in x.split('\\n')))\n"
   ]
  },
  {
   "cell_type": "code",
   "execution_count": null,
   "metadata": {},
   "outputs": [],
   "source": [
    "indented = Indent('...')\n",
    "text = \"\"\"Többsoros szöveg:\n",
    "Első\n",
    "Második\n",
    "\"\"\"\n",
    "with indented:\n",
    "    indented.print(\"első\")\n",
    "    with indented:\n",
    "        indented.print(\"második\")\n",
    "        with indented:\n",
    "            indented.print(text)\n",
    "    indented.print(\"harmadik\")"
   ]
  },
  {
   "cell_type": "markdown",
   "metadata": {},
   "source": [
    "# Sudoku"
   ]
  },
  {
   "cell_type": "markdown",
   "metadata": {},
   "source": [
    "A cél sudoku solver megírása. Ma csak megjelenítéssel és feladványok beolvasásával foglakozunk. \n",
    "\n",
    "Ez egy [project Euler](https://projecteuler.net/problem=96) feladat. A teszt adatok is onnan vannak:\n",
    "\n",
    "https://projecteuler.net/project/resources/p096_sudoku.txt"
   ]
  },
  {
   "cell_type": "code",
   "execution_count": null,
   "metadata": {},
   "outputs": [],
   "source": [
    "import urllib\n",
    "from IPython.display import display_html\n"
   ]
  },
  {
   "cell_type": "code",
   "execution_count": null,
   "metadata": {},
   "outputs": [],
   "source": [
    "\n",
    "\n",
    "url50 = \"https://projecteuler.net/project/resources/p096_sudoku.txt\"\n",
    "\n",
    "urllib.request.urlretrieve(url50, \"/tmp/sudoku.txt\")\n",
    "\n",
    "url50000 = \"https://github.com/t-dillon/tdoku/raw/master/data.zip\"\n",
    "\n",
    "urllib.request.urlretrieve(url50000, \"/tmp/sudoku-large.zip\")\n",
    "\n"
   ]
  },
  {
   "cell_type": "code",
   "execution_count": null,
   "metadata": {},
   "outputs": [],
   "source": [
    "! unzip -l /tmp/sudoku-large.zip\n",
    "! unzip -qf /tmp/sudoku-large.zip data/puzzles2_17_clue"
   ]
  },
  {
   "cell_type": "code",
   "execution_count": null,
   "metadata": {},
   "outputs": [],
   "source": [
    "css=\"\"\"\n",
    "* {\n",
    "  box-sizing: border-box;\n",
    "}\n",
    ".box, .board {\n",
    "  display: flex;\n",
    "  flex-wrap: wrap ;\n",
    "}\n",
    "\n",
    ".box, .box > div {\n",
    "  border: solid 1px ;\n",
    "  width: 33.33%;\n",
    "  text-align: center;\n",
    "}\n",
    "\n",
    ".box > div:before {\n",
    "  display: inline-block;\n",
    "  padding-top: 100%;\n",
    "  content: '';\n",
    "  vertical-align: middle;\n",
    "}\n",
    "\n",
    ".board {\n",
    "  width: 150px; \n",
    "  margin:0px;\n",
    "  font-size: calc(0.8vw + 10px);\n",
    "  border: solid 2px;\n",
    "}\n",
    "\n",
    ".box div {\n",
    "  color:gray;\n",
    "  text-shadow: 1px 1px 1px white;\n",
    "  vertical-align:middle;\n",
    "}\n",
    "\"\"\"\n",
    "\n",
    "def mk_box(content):\n",
    "    inner = \"\".join(f\"<div>{val}</div>\" for val in content)\n",
    "    return f'<div class=\"box\">{inner}</div>'\n",
    "\n",
    "def mk_board(boxes):\n",
    "    inner = \"\".join(mk_box(box) for box in boxes)\n",
    "    return f'<div class=\"board\">{inner}</div>'\n",
    "\n",
    "def html_grid(grid):\n",
    "    boxes = [[0]*9 for _ in range(9)]\n",
    "    for i, line in enumerate(grid):\n",
    "      a, ra = divmod(i, 3)\n",
    "      for j, val in enumerate(line):\n",
    "        b, rb = divmod(j, 3)\n",
    "        boxes[a*3+b][ra*3+rb] = val\n",
    "    return mk_board(boxes)\n"
   ]
  },
  {
   "cell_type": "markdown",
   "metadata": {},
   "source": [
    "Ellenőrzés EXCEL oszlop-sor jelöléssel"
   ]
  },
  {
   "cell_type": "code",
   "execution_count": null,
   "metadata": {},
   "outputs": [],
   "source": [
    "\n",
    "html = html_grid([[f'{j}{i}' for j in \"ABCDEFGHI\"] for i in range(9)])\n",
    "header = \"grid 01\"\n",
    "\n",
    "display_html(f\"<div><style>{css}</style>\\n<h3>{header}</h3>{html}</div>\", raw=True)"
   ]
  },
  {
   "cell_type": "code",
   "execution_count": null,
   "metadata": {},
   "outputs": [],
   "source": [
    "def char_value(x):\n",
    "    return int(x) if x.isdigit() else 0\n",
    "\n",
    "\n",
    "class Sudoku:\n",
    "    \n",
    "    def __init__(self, grid, name=None):\n",
    "        self.grid = grid\n",
    "        self.name = name if name is not None else \"Unnamed Sudoku\"\n",
    "\n",
    "    @classmethod\n",
    "    def from_str(cls, grid, name):\n",
    "        grid = [[char_value(x) for x in line.strip()] for line in grid]\n",
    "        return cls(grid, name)\n",
    "    \n",
    "    def __str__(self):\n",
    "        return f'{self.name}:\\n{self.txt()}'\n",
    "    \n",
    "    def _repr_html_(self):\n",
    "        return f\"<style>{css}</style>\\n<h3>{self.name}</h3>\\n{html_grid(self.as_symbols())}\"\n",
    "    \n",
    "    def copy(self):\n",
    "        grid = [line.copy() for line in self.grid]\n",
    "        return type(self)(grid, self.name)\n",
    "\n",
    "    def as_symbols(self, symbols=\" 123456789\"):\n",
    "        return [[symbols[x] for x in line] for line in self.grid]\n",
    "\n",
    "    def txt(self):\n",
    "        return '\\n'.join(map(' '.join, self.as_symbols(\"_123456789\")))\n"
   ]
  },
  {
   "cell_type": "code",
   "execution_count": null,
   "metadata": {},
   "outputs": [],
   "source": [
    "with open('sudoku.txt') as f:\n",
    "    name = f.readline().strip()\n",
    "    grid = [f.readline() for _ in range(9)]\n",
    "    sudoku = Sudoku.from_str(grid, name)"
   ]
  },
  {
   "cell_type": "code",
   "execution_count": null,
   "metadata": {},
   "outputs": [],
   "source": [
    "print(sudoku)\n",
    "sudoku"
   ]
  },
  {
   "cell_type": "code",
   "execution_count": null,
   "metadata": {},
   "outputs": [],
   "source": [
    "def drop_comment(file):\n",
    "    while True:\n",
    "        try:\n",
    "            line = next(file).strip()\n",
    "        except EOFError:\n",
    "            return\n",
    "        if not line.startswith(\"#\"):\n",
    "            yield line"
   ]
  },
  {
   "cell_type": "code",
   "execution_count": null,
   "metadata": {},
   "outputs": [],
   "source": [
    "with open('data/puzzles2_17_clue', 'r') as file:\n",
    "    line = next(drop_comment(file))\n",
    "    grid = [[int(ch) if ch.isdigit() else 0 for ch in line[i: i+9]] for i in range(0,81,9)]\n",
    "    sudoku = Sudoku(grid)"
   ]
  },
  {
   "cell_type": "code",
   "execution_count": null,
   "metadata": {},
   "outputs": [],
   "source": [
    "sudoku"
   ]
  },
  {
   "cell_type": "markdown",
   "metadata": {},
   "source": [
    "# Öröklődés"
   ]
  },
  {
   "cell_type": "markdown",
   "metadata": {},
   "source": [
    "Előadáson szerepelt ehhez hasonló példa. Legyenek `Polygon`, `Rectangle`, `Square` osztályaink.\n",
    "Minden négyzet téglalap és minden téglalap sokszög. Egy sokszöget a csúcsok felsorolásával adhatunk meg.\n",
    "Ebből a kerület, terület kiszámolható és eldönthető, hogy a sokszög konvex-e. Ha akarjuk pl. a `Matplotlib` könyvtárral ki is rajzolhatjuk a sokszöget.\n",
    "\n",
    "Menetközben síkvektorokkal akarunk számolni. Erre kényelmes a `numpy` könyvtárat használni."
   ]
  },
  {
   "cell_type": "code",
   "execution_count": null,
   "metadata": {},
   "outputs": [],
   "source": [
    "import math\n",
    "import numpy as np\n",
    "from itertools import cycle\n",
    "\n",
    "class Polygon:\n",
    "\n",
    "    def __init__(self, nodes):\n",
    "        self.nodes = nodes\n",
    "\n",
    "    def area(self):\n",
    "        if self.is_convex():\n",
    "            nodes = np.array(self.nodes)\n",
    "            nodes = nodes-nodes[0]\n",
    "            area = 0\n",
    "            for v1, v2 in zip(nodes[1:], nodes[2:]):\n",
    "                area += abs(v1[0]*v2[1]-v1[1]*v2[0])\n",
    "            return area\n",
    "        else:\n",
    "            raise NotImplementedError\n",
    "            ## hf!\n",
    "\n",
    "    def perimeter(self):\n",
    "        total = 0\n",
    "        for i, p in enumerate(self.nodes, 1):\n",
    "            j = i % len(self.nodes)\n",
    "            total += np.linalg.norm(self.nodes[j]-p)\n",
    "        return total\n",
    "\n",
    "    def is_convex(self):\n",
    "        nodes = np.array(self.nodes + self.nodes[:1])\n",
    "        edges = np.diff(nodes, axis=0)\n",
    "        idx = np.array([i%len(edges) for i in range(1, len(edges)+1)])\n",
    "        edges1 = edges[idx]\n",
    "        sgn = (rotate90(edges) * edges1).sum(axis=1)\n",
    "        return (min(sgn)*max(sgn)>=0)\n",
    "\n",
    "    def draw(self):\n",
    "        pass\n",
    "    \n",
    "    def __repr__(self):\n",
    "        return f'{type(self).__name__}({[tuple(x) for x in self.nodes]})'\n",
    "\n",
    "\n",
    "def rotate90(x):\n",
    "    return np.flip(x, -1)*np.array([-1, 1])\n",
    "\n",
    "class Rectangle(Polygon):\n",
    "    \n",
    "    def __init__(self, P1, P2, r):\n",
    "        \"\"\"\n",
    "        Assuming that e is P1P2 rotated counterclockwise by 90 degree\n",
    "        P1, P2, P2+r e, P1+re\n",
    "        \"\"\"\n",
    "        v = rotate90(P2-P1)*r\n",
    "        super(Rectangle, self).__init__([P1, P2, P2+v, P1+v])\n",
    "        \n",
    "    \n",
    "class Square(Rectangle):\n",
    "\n",
    "    def __init__(self, P1, P2):\n",
    "        super(Square, self).__init__(P1, P2, 1)\n",
    "        \n"
   ]
  },
  {
   "cell_type": "code",
   "execution_count": null,
   "metadata": {},
   "outputs": [],
   "source": [
    "rotate90(np.array([[0, 1],[1,0]]))"
   ]
  },
  {
   "cell_type": "code",
   "execution_count": null,
   "metadata": {},
   "outputs": [],
   "source": [
    "points = np.array([[0,0], [1,1]])\n",
    "s = Square(points[0], points[1])\n",
    "t = Rectangle(points[0], points[1], 2)\n",
    "p = Polygon(points)\n",
    "for x in [s, t, p]:\n",
    "    print(f\"{x} kerület: {x.perimeter():.2f}, konvex: {x.is_convex()}, terület: {x.area():.2f}\")\n",
    "    "
   ]
  },
  {
   "cell_type": "code",
   "execution_count": null,
   "metadata": {},
   "outputs": [],
   "source": [
    "points = np.array([[0,0], [2,0], [2,2], [1,1], [0,2]]) \n",
    "p = Polygon(list(points))\n",
    "print(p.is_convex())\n",
    "p.draw()\n"
   ]
  },
  {
   "cell_type": "markdown",
   "metadata": {},
   "source": [
    "Vegyük észre, hogy az `__repr__` metódust csak egyszer implementáltuk, mégis minden egyednek a saját típusát írja ki!\n",
    "Az előző kód blokkot futtassuk le azután is, hogy a `draw` metódust implementáltuk."
   ]
  },
  {
   "cell_type": "markdown",
   "metadata": {},
   "source": [
    "# `Matplotlib.pyplot` könytár"
   ]
  },
  {
   "cell_type": "code",
   "execution_count": null,
   "metadata": {},
   "outputs": [],
   "source": [
    "import matplotlib.pyplot as plt \n",
    "%matplotlib inline"
   ]
  },
  {
   "cell_type": "markdown",
   "metadata": {},
   "source": [
    "A legtöbbet használt függvények a  `plot` és az `imshow`."
   ]
  },
  {
   "cell_type": "code",
   "execution_count": null,
   "metadata": {},
   "outputs": [],
   "source": [
    "plt.plot?"
   ]
  },
  {
   "cell_type": "code",
   "execution_count": null,
   "metadata": {},
   "outputs": [],
   "source": [
    "x = np.linspace(0,10, 201)\n",
    "print(x[:10])\n",
    "plt.plot(x, np.sin(x))\n",
    "plt.grid()\n",
    "plt.show()"
   ]
  },
  {
   "cell_type": "code",
   "execution_count": null,
   "metadata": {},
   "outputs": [],
   "source": [
    "url = \"https://upload.wikimedia.org/wikipedia/en/thumb/7/7d/Lenna_%28test_image%29.png/220px-Lenna_%28test_image%29.png\" \n",
    "img = plt.imread(url)\n",
    "img.shape"
   ]
  },
  {
   "cell_type": "code",
   "execution_count": null,
   "metadata": {},
   "outputs": [],
   "source": [
    "import PIL\n",
    "import urllib\n",
    "img = np.array(PIL.Image.open(urllib.request.urlopen(url)))\n",
    "img.shape"
   ]
  },
  {
   "cell_type": "code",
   "execution_count": null,
   "metadata": {},
   "outputs": [],
   "source": [
    "plt.imshow(img)\n",
    "plt.show()"
   ]
  },
  {
   "cell_type": "code",
   "execution_count": null,
   "metadata": {},
   "outputs": [],
   "source": [
    "plt.plot(*np.array(s.nodes)[[0,1,2,3,0]].T)\n",
    "plt.grid()\n",
    "plt.axis('equal')\n",
    "# plt.axis('off')\n"
   ]
  },
  {
   "cell_type": "code",
   "execution_count": null,
   "metadata": {},
   "outputs": [],
   "source": [
    "def draw(self,  *args, fill=False, **kwargs):\n",
    "    nodes = self.nodes + self.nodes[:1]\n",
    "    x, y = np.array(nodes).T\n",
    "    if fill:\n",
    "        plt.fill(x, y, alpha=0.5)\n",
    "    plt.plot(x, y, *args, **kwargs) \n",
    "    plt.axis('equal')\n",
    "\n",
    "Polygon.draw = draw"
   ]
  },
  {
   "cell_type": "code",
   "execution_count": null,
   "metadata": {},
   "outputs": [],
   "source": [
    "t.draw('o-', alpha=0.5)\n",
    "s.draw(alpha=0.5, fill=True)\n",
    "p.draw(alpha=0.5)\n",
    "plt.show()"
   ]
  },
  {
   "cell_type": "markdown",
   "metadata": {},
   "source": [
    "# Kiegészítés a 2. szorgalmi feladathoz"
   ]
  },
  {
   "cell_type": "markdown",
   "metadata": {},
   "source": [
    "\n",
    "### Lehet-e az eljárást iterálni?\n"
   ]
  },
  {
   "cell_type": "markdown",
   "metadata": {},
   "source": [
    "\n",
    "Kicsit messzebbről ránézve a feladatra. Adott $g_0$ ,,szép'' függvény és keressük $\\sum_{n=n_0}^{n_1} g_0(n)$ közelítését.\n",
    "Ehhez $g_0(n)$-et $\\int_{-1/2}^{1/2} g_0(x)dx$-et hasonlítjuk össze.\n",
    "\n",
    "Legyen $w\\equiv1$, $g(x)=g_0(x+n)$. A közelítés hibája:\n",
    "$$\n",
    "\\begin{aligned}\n",
    "    \\int_{-1/2}^{1/2} w(x) (g(x)-g(0)) dx \n",
    "    &= \\int_0^{1/2} w(x) (g(x)-g(0)+(g(-x)-g(0)))dx\\\\\n",
    "    &=\\int_0^{1/2} w(x)\\int_0^x g'(y)-g'(-y) dy dx\\\\\n",
    "    &=\\int_0^{1/2} \\int_y^{1/2} w(x)dx (g'(y)-g'(-y))dy\\\\\n",
    "    &=\\int_0^{1/2} w_1(y) \\int_0^y (g''(z)+g''(-z))dz\\\\\n",
    "    &=\\int_0^{1/2} \\int_z^{1/2} w_1(y)dy (g''(z)+g''(-z)) dz\\\\\n",
    "    &=\\int_{-1/2}^{1/2} w_2(z) g''(z) dz\n",
    "\\end{aligned}\n",
    "$$\n",
    "ahol $w_1$, $w_2$ páros függvények $w_{i+1}(x)=\\int_x^{1/2} w_i(y)dy$, ha $x\\in[0,1/2]$.\n",
    "Pl. \n",
    "$$\n",
    "w_0=1,\\quad w_1(x)=\\int_x^{1/2} 1 dy=1/2-x,\\quad w_2(x)=\\int_x^{1/2}(1/2-y) dy=\\frac{(1/2-x)^2}{2}\n",
    "$$\n",
    "Általában $w_i(x)=(1/2-x)^{i}/{i!}$\n",
    "\n",
    "Jelölje $\\bar w_i$ a $w_i$ integrálját\n",
    "$$\n",
    "\\begin{aligned}\n",
    "\\int_{-1/2}^{1/2} w_2(z) g''(z) dz &=\n",
    "\\bar{w_2}\\int_{-1/2}^{1/2}  g''(z) dz+ \\int_{-1/2}^{1/2} (w_2(z)-\\bar{w_2}) (g''(z)-g''(0)) dz\\\\\n",
    "&=\n",
    "\\bar{w_2}\\int_{-1/2}^{1/2}  g''(z) dz+ \\int_{-1/2}^{1/2} (w_4(z)-\\bar{w_2}w_2(z)) g^{(4)}(z) dz\\\\\n",
    "&=\n",
    "\\sum_{k=1}^K c_{2k}\\int_{-1/2}^{1/2}  g^{(2k)}(z) dz + \n",
    "\\int_{-1/2}^{1/2} v_{2K+2}(z) g^{(2K+2)}(z) dz.\n",
    "\\end{aligned}\n",
    "$$\n",
    "\n",
    "Mik a megjelenő konstansok?\n",
    "$$\n",
    "\\begin{aligned}\n",
    "w_k(x)&=\\frac{(1/2-x)^{k}}{k!},\\quad\\bar{w_k}=\\int_{-1/2}^{1/2} w_k(x)dx =2 w_{k+1}(0)=\\frac{1}{2^{k} (k+1)!}\\\\\n",
    "v_2 &= w_2,\\quad c_2=\\bar{w}_2,\\quad v_4=w_4-c_2w_2\n",
    "\\end{aligned}\n",
    "$$\n",
    "Általában:\n",
    "$$\n",
    "\\begin{aligned}\n",
    "v_{2k} &= w_{2k} - c_2 w_{2(k-1)} -\\cdots - c_{2(k-1)}w_2\\\\\n",
    "c_{2k} &= \\bar{w}_{2k} - c_2 \\bar{w}_{2(k-1)} -\\cdots - c_{2(k-1)}\\bar{w}_2\n",
    "\\end{aligned} \n",
    "$$\n",
    "\n",
    "Összefoglalva:\n",
    "\n",
    "$$\n",
    "\\left|\\sum_{n=n_0}^{n_1} g(n)-\\sum_{k=0}^{K} c_{2k}\\int_{n_0-{1/2}}^{n_1+{1/2}} g^{(2k)}(x)dx\\right|\\leq \n",
    "\\left|\\sum_{n=n_0}^{n_1} \\int_{-{1/2}}^{1/2} {v_{2K+2}(z)} g^{2(K+1)}(z+n)dz\\right|\\leq\\max |v_{2K+2}| \\int_{n_0-1/2}^{n_1+1/2} |g^{(2K+2)} (z)|dz.\n",
    "$$\n",
    "\n",
    "$\\max v_{2k}$-t is tudjuk becsülni:\n",
    "$$\n",
    "\\begin{aligned}\n",
    "\\max |v_{2k}|\n",
    "&= \\max\\left|w_{2k} - c_2 w_{2(k-1)} -\\cdots - c_{2(k-1)}w_2\\right|\\\\\n",
    "&\\leq w_{2k}(0) + |c_2 |w_{2(k-1)}(0) +\\cdots + |c_{2(k-1)}|w_2(0) \\\\\n",
    "&=\\frac12(\\bar{w}_{2k-1} + |c_2| \\bar{w}_{2(k-1)-1} +\\cdots + |c_{2(k-1)}| \\bar{w}_1)\n",
    "\\end{aligned}\n",
    "$$\n"
   ]
  },
  {
   "cell_type": "code",
   "execution_count": null,
   "metadata": {},
   "outputs": [],
   "source": [
    "from itertools import islice\n",
    "import math \n",
    "import pandas as pd\n",
    "\n",
    "def barw(k):\n",
    "    return 1/((2**k) * math.factorial(k+1))\n",
    "\n",
    "def c_seq():\n",
    "    c = [1/24]\n",
    "    while True:\n",
    "        yield c[-1]\n",
    "        k = len(c)\n",
    "        c0 = sum(ci*barw(2*i) for i, ci in enumerate(reversed(c), 1))\n",
    "        c.append(barw(2*(k+1))-c0)\n",
    "    \n",
    "def c_values(n):\n",
    "    return list(islice(c_seq(), n))\n",
    "\n",
    "def max_v(c):\n",
    "    k = len(c)\n",
    "    c0 = sum(abs(ci)*barw(2*i-1) for i, ci in enumerate(reversed(c), 1))\n",
    "    return 0.5*(barw(2*k+1)+c0)\n",
    "\n",
    "n0 = 5\n",
    "c = c_values(20)\n",
    "df = pd.DataFrame(\n",
    "    {\n",
    "        'c_k': c,\n",
    "        'max_v': [max_v(c[:k]) for k in range(1,len(c)+1)]\n",
    "    }\n",
    ")\n",
    "df['k'] = [2*i for i in range(1, len(df)+1)]\n",
    "df['r_k'] = df.max_v*df.k.apply(lambda k: math.factorial(k)*((n0+0.5)**(-k+1)))\n",
    "df\n",
    "#print(max_v(c)*math.factorial(2*k)*((10+.5)**(-(2*k+1))))\n",
    "\n"
   ]
  },
  {
   "cell_type": "code",
   "execution_count": null,
   "metadata": {},
   "outputs": [],
   "source": [
    "def harmonic_sum_fast(n: int) -> float:\n",
    "    n0 = min(n, 10)\n",
    "    c = c_values(5)\n",
    "    result = sum(1/k for k in reversed(range(1, n0+1))) + math.log((n+0.5)/(n0+0.5))\n",
    "    for i, ci in enumerate(c, 1):\n",
    "        k = 2*i\n",
    "        result += ci * math.factorial(k-1)*((n+0.5)**(-k) -(n0+0.5)**(-k))  \n",
    "    return  result\n",
    "\n",
    "def mk_harmonic_mean(N0=10, K=5):\n",
    "    c = c_values(K)\n",
    "\n",
    "    def harmonic_sum(n: int) -> float:\n",
    "        n0 = min(n, N0)\n",
    "        result = math.fsum(1/k for k in range(1, n0+1)) + math.log((n+0.5)/(n0+0.5))\n",
    "        factorial = 1\n",
    "        a0 = a = 1/((n+0.5)*(n+0.5))\n",
    "        b0 = b = 1/((n0+0.5)*(n0+0.5))\n",
    "        for i, ci in enumerate(c, 1):\n",
    "            result += ci * factorial*(a - b)\n",
    "            factorial *= (2*i)*(2*i+1)\n",
    "            a *= a0\n",
    "            b *= b0\n",
    "             \n",
    "        return  result\n",
    "\n",
    "    return harmonic_sum\n",
    "\n",
    "harmonic_sum = mk_harmonic_mean(N0=10, K=5)"
   ]
  },
  {
   "cell_type": "code",
   "execution_count": null,
   "metadata": {},
   "outputs": [],
   "source": [
    "%%ipytest\n",
    "\n",
    "def test_hs2():\n",
    "    for n in range(1, 1000):\n",
    "        assert abs(harmonic_sum_slow(n) - harmonic_sum_fast(n))<1e-8 \n",
    "\n",
    "    for n in range(5000, 100_001, 2_500):\n",
    "        assert abs(harmonic_sum_slow(n)-harmonic_sum_fast(n))<1e-8\n",
    "\n",
    "    for n in range(500_000, 1_000_001, 50_000):\n",
    "        assert abs(harmonic_sum_slow(n)-harmonic_sum_fast(n))<1e-8\n",
    "\n",
    "\n",
    "def test_hs3():\n",
    "    for n in range(1, 1000):\n",
    "        assert abs(harmonic_sum_slow(n) - harmonic_sum(n))<1e-8 \n",
    "\n",
    "    for n in range(5000, 100_001, 2_500):\n",
    "        assert abs(harmonic_sum_slow(n)-harmonic_sum(n))<1e-8\n",
    "\n",
    "    for n in range(500_000, 1_000_001, 50_000):\n",
    "        assert abs(harmonic_sum_slow(n)-harmonic_sum(n))<1e-8\n"
   ]
  },
  {
   "cell_type": "code",
   "execution_count": null,
   "metadata": {},
   "outputs": [],
   "source": [
    "%%time\n",
    "harmonic_sum_fast(10**8)"
   ]
  },
  {
   "cell_type": "code",
   "execution_count": null,
   "metadata": {},
   "outputs": [],
   "source": [
    "%%time\n",
    "harmonic_sum(10**8)"
   ]
  }
 ],
 "metadata": {
  "kernelspec": {
   "display_name": "python3.10",
   "language": "python",
   "name": "python3"
  },
  "language_info": {
   "codemirror_mode": {
    "name": "ipython",
    "version": 3
   },
   "file_extension": ".py",
   "mimetype": "text/x-python",
   "name": "python",
   "nbconvert_exporter": "python",
   "pygments_lexer": "ipython3",
   "version": "3.10.12"
  }
 },
 "nbformat": 4,
 "nbformat_minor": 2
}
