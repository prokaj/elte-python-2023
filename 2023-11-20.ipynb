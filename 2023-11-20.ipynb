{
  "cells": [
    {
      "cell_type": "markdown",
      "metadata": {
        "id": "QTvgMNEbdBeV"
      },
      "source": [
        "[![Open In Colab](https://colab.research.google.com/assets/colab-badge.svg)](https://colab.research.google.com/github/prokaj/elte-python-2023/blob/main/2023-11-13.ipynb)   "
      ]
    },
    {
      "cell_type": "markdown",
      "metadata": {
        "id": "gDEcPtvtdBeX"
      },
      "source": [
        "Néhány import amit később használni fogunk:"
      ]
    },
    {
      "cell_type": "code",
      "execution_count": 1,
      "metadata": {
        "id": "UqK22cqDdBeX",
        "outputId": "03d8ef6a-ee70-4042-802f-f80b290d8d70",
        "colab": {
          "base_uri": "https://localhost:8080/"
        }
      },
      "outputs": [
        {
          "output_type": "stream",
          "name": "stdout",
          "text": [
            "\u001b[?25l     \u001b[90m━━━━━━━━━━━━━━━━━━━━━━━━━━━━━━━━━━━━━━━━\u001b[0m \u001b[32m0.0/1.6 MB\u001b[0m \u001b[31m?\u001b[0m eta \u001b[36m-:--:--\u001b[0m\r\u001b[2K     \u001b[91m━━━━━━\u001b[0m\u001b[90m╺\u001b[0m\u001b[90m━━━━━━━━━━━━━━━━━━━━━━━━━━━━━━━━━\u001b[0m \u001b[32m0.2/1.6 MB\u001b[0m \u001b[31m7.1 MB/s\u001b[0m eta \u001b[36m0:00:01\u001b[0m\r\u001b[2K     \u001b[91m━━━━━━━━━━━━━━━\u001b[0m\u001b[91m╸\u001b[0m\u001b[90m━━━━━━━━━━━━━━━━━━━━━━━━\u001b[0m \u001b[32m0.6/1.6 MB\u001b[0m \u001b[31m9.0 MB/s\u001b[0m eta \u001b[36m0:00:01\u001b[0m\r\u001b[2K     \u001b[91m━━━━━━━━━━━━━━━━━━━━━━━━━━━\u001b[0m\u001b[90m╺\u001b[0m\u001b[90m━━━━━━━━━━━━\u001b[0m \u001b[32m1.1/1.6 MB\u001b[0m \u001b[31m10.3 MB/s\u001b[0m eta \u001b[36m0:00:01\u001b[0m\r\u001b[2K     \u001b[91m━━━━━━━━━━━━━━━━━━━━━━━━━━━━━━━━━━━━━━━\u001b[0m\u001b[91m╸\u001b[0m \u001b[32m1.6/1.6 MB\u001b[0m \u001b[31m11.6 MB/s\u001b[0m eta \u001b[36m0:00:01\u001b[0m\r\u001b[2K     \u001b[90m━━━━━━━━━━━━━━━━━━━━━━━━━━━━━━━━━━━━━━━━\u001b[0m \u001b[32m1.6/1.6 MB\u001b[0m \u001b[31m10.4 MB/s\u001b[0m eta \u001b[36m0:00:00\u001b[0m\n",
            "\u001b[?25h"
          ]
        }
      ],
      "source": [
        "import importlib\n",
        "import math\n",
        "import graphviz\n",
        "\n",
        "if importlib.util.find_spec('ipytest') is None:\n",
        "    ! pip install --quiet ipytest\n",
        "\n",
        "import ipytest\n",
        "\n",
        "ipytest.autoconfig()"
      ]
    },
    {
      "cell_type": "markdown",
      "metadata": {
        "id": "eU5GQYAUdBeZ"
      },
      "source": [
        "# Házi feladat"
      ]
    },
    {
      "cell_type": "markdown",
      "metadata": {
        "id": "3lsCuFlDdBeZ"
      },
      "source": [
        "Implementáljuk a `RandomNames` osztályt.\n",
        "\n",
        "A egyedeknek legyen egy `names` property-je, ami olvasáskor a névsort az\n",
        "eredeti sorrendben adja vissza, és íráskor beállítja az új névsort. A\n",
        "`RandomNames` legyen iterálható és az `__iter__` metódusa egy végtelen\n",
        "generátort adjon vissza, ami véletlen sorrendben megy végig a neveken,\n",
        "ha végig ért akkor újra kezdi újrasorsolt véletlen sorrendben. Az\n",
        "egyedek legyenek függvényszerűek is (`__call__` metódus). A függvény\n",
        "hívás eredménye legyen egyetlen találomra választott név a névsorból.\n",
        "\n",
        "Emlékeztető: Egy osztályban a `@property` dekorátorral tudunk property\n",
        "mezőt létrehozni. A dekorált függvény szolgál a mező kiolvasára. Ha\n",
        "írhatóvá szeretnénk tenni a mezőt, akkor a `mezőnév.setter` dekorátort\n",
        "kell használni.\n",
        "\n",
        "Pl.\n",
        "```python\n",
        "class RandomNames:\n",
        "    \n",
        "    @property\n",
        "    def names(self):\n",
        "        pass\n",
        "   \n",
        "    @names.setter\n",
        "    def names(self, new_value):\n",
        "        pass\n",
        "\n",
        "```\n",
        "\n",
        "A `names` mező írásakor végezzen ellenőrzést a függvény. Azaz ha nem\n",
        "sztringekből álló sorozattal hívjuk meg, akkor dobjon `TypeError`-t. A\n",
        "kapott nevek első betűjét írja át nagy betűvé, a többit viszont írja át\n",
        "kis betűre. Figyeljünk arra, hogy `rn.names = 'Attila'` hibát kell, hogy\n",
        "dobjon, de a sorozat nem csak lista lehet, hanem bármi amin végig lehet\n",
        "iterálni!\n",
        "\n",
        "Pl.\n",
        "```python\n",
        "    rn = RandomNames(['anDoR'])\n",
        "    rn.names # -> ['Andor']\n",
        "    rn.names = ['ALADÁR', 'elemér']\n",
        "    rn.names # -> ['Aladár', 'Elemér']\n",
        "```\n",
        "\n",
        "A véletlenszerű sorrend előállításához használhatjuk a `random` modul,\n",
        "`shuffle` függvényét. Figyeljünk arra, hogy ez elronthatja az eredeti\n",
        "sorrendet!\n",
        "\n",
        "Inicializáláskor az egyed kap egy névsort. Ezt kezelje úgy, mintha\n",
        "`names` tulajdonságot írtuk volna!\n",
        "\n",
        "Írjunk teszt függvényt! Ez ellenőrizze az inicializálást, ill. `names`\n",
        "tulajdonság írását, olvasását. Úgy is, hogy a kettő között az iterátort\n",
        "is használtuk.\n",
        "\n"
      ]
    },
    {
      "cell_type": "code",
      "execution_count": 6,
      "metadata": {
        "id": "rbZiywNPdBeb"
      },
      "outputs": [],
      "source": [
        "import random\n",
        "\n",
        "\n",
        "class RandomNames:\n",
        "\n",
        "    def __init__(self, names):\n",
        "        self.names = names\n",
        "\n",
        "    @property\n",
        "    def names(self):\n",
        "        return list(self._names)\n",
        "        pass\n",
        "\n",
        "    @names.setter\n",
        "    def names(self, new_value):\n",
        "        if isinstance(new_value, str):\n",
        "            raise TypeError\n",
        "        try:\n",
        "            new_value = [value.capitalize() for value in  new_value]\n",
        "        except:\n",
        "            raise TypeError\n",
        "        self._names = new_value\n",
        "\n",
        "    def __iter__(self):\n",
        "        names = self.names\n",
        "        while True:\n",
        "            random.shuffle(names)\n",
        "            yield from names\n",
        "\n",
        "    def __call__(self):\n",
        "        return random.choice(self._names)\n",
        "\n",
        "    def __str__(self):\n",
        "        return self.names\n",
        "\n",
        "    def __repr__(self):\n",
        "        return f\"{type(self).__name__}({self.names})\""
      ]
    },
    {
      "cell_type": "code",
      "execution_count": 10,
      "metadata": {
        "id": "5NLKvMH_dBed",
        "outputId": "604bf40e-2bd0-478e-d98e-64af82542a7d",
        "colab": {
          "base_uri": "https://localhost:8080/"
        }
      },
      "outputs": [
        {
          "output_type": "stream",
          "name": "stdout",
          "text": [
            "\u001b[32m.\u001b[0m\u001b[32m.\u001b[0m\u001b[32m.\u001b[0m\u001b[32m.\u001b[0m\u001b[32m.\u001b[0m\u001b[32m                                                                                        [100%]\u001b[0m\n",
            "\u001b[32m\u001b[32m\u001b[1m5 passed\u001b[0m\u001b[32m in 0.04s\u001b[0m\u001b[0m\n"
          ]
        }
      ],
      "source": [
        "%%ipytest\n",
        "from collections import Counter\n",
        "\n",
        "from pytest import raises\n",
        "\n",
        "def test_typeerror():\n",
        "    with raises(TypeError):\n",
        "        RandomNames(\"Aladár\")\n",
        "\n",
        "    with raises(TypeError):\n",
        "        RandomNames([1,2,3])\n",
        "\n",
        "    rn = RandomNames([])\n",
        "    with raises(TypeError):\n",
        "        rn.names = [1, 2]\n",
        "\n",
        "    with raises(TypeError):\n",
        "        rn.names = \"Aladár\"\n",
        "\n",
        "def test_init():\n",
        "    names = [\"AlAdÁr\", \"jáNos\"]\n",
        "    cap_names = [name.capitalize() for name in names]\n",
        "\n",
        "    rn = RandomNames(names)\n",
        "    assert rn.names == cap_names\n",
        "\n",
        "    names.append(\"elemér\")\n",
        "\n",
        "    assert rn.names == cap_names\n",
        "\n",
        "    it = iter(rn)\n",
        "    next(it)\n",
        "\n",
        "    assert rn.names == cap_names\n",
        "\n",
        "    next(it)\n",
        "    assert rn.names == cap_names\n",
        "\n",
        "\n",
        "def test_call():\n",
        "    names = [\"AlAdÁr\", \"jáNos\"]\n",
        "    cap_names = [name.capitalize() for name in names]\n",
        "    rn = RandomNames(names)\n",
        "    assert rn() in cap_names\n",
        "    assert rn.names == cap_names\n",
        "\n",
        "    n = 1000\n",
        "    cnt = Counter(rn() for _ in range(2*n))\n",
        "    assert tuple(cnt.keys()) == tuple(rn.names)\n",
        "    test_stat = sum(((c-n)**2)/n for c in cnt.values())\n",
        "    assert test_stat < 1.96**2 ## kb. 5%-os tévedés\n",
        "\n",
        "def test_names():\n",
        "    rn = RandomNames([])\n",
        "    names = [\"AlAdÁr\", \"jáNos\"]\n",
        "    rn.names = names\n",
        "    assert rn.names == [name.capitalize() for name in names]\n",
        "\n",
        "def test_randomness():\n",
        "    \"\"\"????\"\"\"\n",
        "    pass"
      ]
    },
    {
      "cell_type": "code",
      "execution_count": 12,
      "metadata": {
        "id": "kRvywSVwdBed",
        "outputId": "6a3175d1-b0b5-4433-fa90-d0f10eeae523",
        "colab": {
          "base_uri": "https://localhost:8080/"
        }
      },
      "outputs": [
        {
          "output_type": "stream",
          "name": "stdout",
          "text": [
            "calling `rn`\n",
            "rn()='Malacka'\n",
            "rn()='Róbert gida'\n",
            "rn()='Malacka'\n",
            "rn()='Róbert gida'\n",
            "rn()='Micimackó'\n",
            "rn()='Tigris'\n",
            "rn()='Micimackó'\n",
            "rn()='Micimackó'\n",
            "rn()='Malacka'\n",
            "rn()='Füles'\n",
            "iterating over `rn`\n",
            "name='Füles'\n",
            "name='Malacka'\n",
            "name='Róbert gida'\n",
            "name='Micimackó'\n",
            "name='Tigris'\n",
            "name='Tigris'\n",
            "name='Róbert gida'\n",
            "name='Micimackó'\n",
            "name='Malacka'\n",
            "name='Füles'\n",
            "iterating over `rn` in pair\n",
            "name1=           Micimackó, name2=               Füles\n",
            "name1=         Róbert gida, name2=           Micimackó\n",
            "name1=               Füles, name2=              Tigris\n",
            "name1=              Tigris, name2=         Róbert gida\n",
            "name1=             Malacka, name2=             Malacka\n",
            "name1=             Malacka, name2=               Füles\n",
            "name1=               Füles, name2=           Micimackó\n",
            "name1=         Róbert gida, name2=              Tigris\n",
            "name1=              Tigris, name2=             Malacka\n",
            "name1=           Micimackó, name2=         Róbert gida\n"
          ]
        }
      ],
      "source": [
        "from itertools import islice\n",
        "\n",
        "rn = RandomNames((\"Micimackó\", \"Füles\", \"Róbert gida\", \"tigris\", \"malacka\"))\n",
        "\n",
        "print(\"calling `rn`\")\n",
        "for _ in range(10):\n",
        "    print(f\"{rn()=}\")\n",
        "\n",
        "print(\"iterating over `rn`\")\n",
        "for name in islice(rn, 10):\n",
        "    print(f\"{name=}\")\n",
        "\n",
        "print(\"iterating over `rn` in pair\")\n",
        "for name1, name2 in islice(zip(rn, rn), 10):\n",
        "    print(f\"{name1=:>20}, {name2=:>20}\")\n"
      ]
    },
    {
      "cell_type": "markdown",
      "metadata": {
        "id": "kYol_spcdBee"
      },
      "source": [
        "# Numpy (Numerikus python) könyvtár"
      ]
    },
    {
      "cell_type": "markdown",
      "metadata": {
        "id": "hnhiaa5WdBef"
      },
      "source": [
        "  - [Numpy bevezető `w3schools`](https://www.w3schools.com/python/numpy/default.asp)\n"
      ]
    },
    {
      "cell_type": "markdown",
      "metadata": {
        "id": "8prmWnWFdBef"
      },
      "source": [
        "Előadáson volt szó róla. Nagyon sok könyvtár használja (`Pandas`, `Scipy`, `matplotlib`, `statmodels`, stb.).\n",
        "\n",
        " Általában, ha ,,tudományos'' számolásról van szó: vektorok, mátrixok, tömbök, akkor a háttérben a `numpy` van.\n",
        "\n",
        "Legfontosabb típusa az `ndarray` (többdimenziós tömb)"
      ]
    },
    {
      "cell_type": "code",
      "execution_count": null,
      "metadata": {
        "id": "elBIMMsodBeh"
      },
      "outputs": [],
      "source": [
        "import numpy as np"
      ]
    },
    {
      "cell_type": "code",
      "execution_count": null,
      "metadata": {
        "id": "5hXYGYQxdBeh",
        "outputId": "791c1582-c0d4-4b5e-9908-702f5c013423"
      },
      "outputs": [
        {
          "name": "stdout",
          "output_type": "stream",
          "text": [
            "Help on class ndarray in module numpy:\n",
            "\n",
            "class ndarray(builtins.object)\n",
            " |  ndarray(shape, dtype=float, buffer=None, offset=0,\n",
            " |          strides=None, order=None)\n",
            " |  \n",
            " |  An array object represents a multidimensional, homogeneous array\n",
            " |  of fixed-size items.  An associated data-type object describes the\n",
            " |  format of each element in the array (its byte-order, how many bytes it\n",
            " |  occupies in memory, whether it is an integer, a floating point number,\n",
            " |  or something else, etc.)\n",
            " |  \n",
            " |  Arrays should be constructed using `array`, `zeros` or `empty` (refer\n",
            " |  to the See Also section below).  The parameters given here refer to\n",
            " |  a low-level method (`ndarray(...)`) for instantiating an array.\n",
            " |  \n",
            " |  For more information, refer to the `numpy` module and examine the\n",
            " |  methods and attributes of an array.\n",
            " |  \n",
            " |  Parameters\n",
            " |  ----------\n",
            " |  (for the __new__ method; see Notes below)\n",
            " |  \n",
            " |  shape : tuple of ints\n",
            " |      Shape of created array.\n",
            " |  dtype : data-type, optional\n",
            " |      Any object that can be interpreted as a numpy data type.\n",
            " |  buffer : object exposing buffer interface, optional\n",
            " |      Used to fill the array with data.\n",
            " |  offset : int, optional\n",
            " |      Offset of array data in buffer.\n",
            " |  strides : tuple of ints, optional\n",
            " |      Strides of data in memory.\n",
            " |  order : {'C', 'F'}, optional\n",
            " |      Row-major (C-style) or column-major (Fortran-style) order.\n",
            " |  \n",
            " |  Attributes\n",
            " |  ----------\n",
            " |  T : ndarray\n",
            " |      Transpose of the array.\n",
            " |  data : buffer\n",
            " |      The array's elements, in memory.\n",
            " |  dtype : dtype object\n",
            " |      Describes the format of the elements in the array.\n",
            " |  flags : dict\n",
            " |      Dictionary containing information related to memory use, e.g.,\n",
            " |      'C_CONTIGUOUS', 'OWNDATA', 'WRITEABLE', etc.\n",
            " |  flat : numpy.flatiter object\n",
            " |      Flattened version of the array as an iterator.  The iterator\n",
            " |      allows assignments, e.g., ``x.flat = 3`` (See `ndarray.flat` for\n",
            " |      assignment examples; TODO).\n",
            " |  imag : ndarray\n",
            " |      Imaginary part of the array.\n",
            " |  real : ndarray\n",
            " |      Real part of the array.\n",
            " |  size : int\n",
            " |      Number of elements in the array.\n",
            " |  itemsize : int\n",
            " |      The memory use of each array element in bytes.\n",
            " |  nbytes : int\n",
            " |      The total number of bytes required to store the array data,\n",
            " |      i.e., ``itemsize * size``.\n",
            " |  ndim : int\n",
            " |      The array's number of dimensions.\n",
            " |  shape : tuple of ints\n",
            " |      Shape of the array.\n",
            " |  strides : tuple of ints\n",
            " |      The step-size required to move from one element to the next in\n",
            " |      memory. For example, a contiguous ``(3, 4)`` array of type\n",
            " |      ``int16`` in C-order has strides ``(8, 2)``.  This implies that\n",
            " |      to move from element to element in memory requires jumps of 2 bytes.\n",
            " |      To move from row-to-row, one needs to jump 8 bytes at a time\n",
            " |      (``2 * 4``).\n",
            " |  ctypes : ctypes object\n",
            " |      Class containing properties of the array needed for interaction\n",
            " |      with ctypes.\n",
            " |  base : ndarray\n",
            " |      If the array is a view into another array, that array is its `base`\n",
            " |      (unless that array is also a view).  The `base` array is where the\n",
            " |      array data is actually stored.\n",
            " |  \n",
            " |  See Also\n",
            " |  --------\n",
            " |  array : Construct an array.\n",
            " |  zeros : Create an array, each element of which is zero.\n",
            " |  empty : Create an array, but leave its allocated memory unchanged (i.e.,\n",
            " |          it contains \"garbage\").\n",
            " |  dtype : Create a data-type.\n",
            " |  numpy.typing.NDArray : An ndarray alias :term:`generic <generic type>`\n",
            " |                         w.r.t. its `dtype.type <numpy.dtype.type>`.\n",
            " |  \n",
            " |  Notes\n",
            " |  -----\n",
            " |  There are two modes of creating an array using ``__new__``:\n",
            " |  \n",
            " |  1. If `buffer` is None, then only `shape`, `dtype`, and `order`\n",
            " |     are used.\n",
            " |  2. If `buffer` is an object exposing the buffer interface, then\n",
            " |     all keywords are interpreted.\n",
            " |  \n",
            " |  No ``__init__`` method is needed because the array is fully initialized\n",
            " |  after the ``__new__`` method.\n",
            " |  \n",
            " |  Examples\n",
            " |  --------\n",
            " |  These examples illustrate the low-level `ndarray` constructor.  Refer\n",
            " |  to the `See Also` section above for easier ways of constructing an\n",
            " |  ndarray.\n",
            " |  \n",
            " |  First mode, `buffer` is None:\n",
            " |  \n",
            " |  >>> np.ndarray(shape=(2,2), dtype=float, order='F')\n",
            " |  array([[0.0e+000, 0.0e+000], # random\n",
            " |         [     nan, 2.5e-323]])\n",
            " |  \n",
            " |  Second mode:\n",
            " |  \n",
            " |  >>> np.ndarray((2,), buffer=np.array([1,2,3]),\n",
            " |  ...            offset=np.int_().itemsize,\n",
            " |  ...            dtype=int) # offset = 1*itemsize, i.e. skip first element\n",
            " |  array([2, 3])\n",
            " |  \n",
            " |  Methods defined here:\n",
            " |  \n",
            " |  __abs__(self, /)\n",
            " |      abs(self)\n",
            " |  \n",
            " |  __add__(self, value, /)\n",
            " |      Return self+value.\n",
            " |  \n",
            " |  __and__(self, value, /)\n",
            " |      Return self&value.\n",
            " |  \n",
            " |  __array__(...)\n",
            " |      a.__array__([dtype], /)\n",
            " |      \n",
            " |      Returns either a new reference to self if dtype is not given or a new array\n",
            " |      of provided data type if dtype is different from the current dtype of the\n",
            " |      array.\n",
            " |  \n",
            " |  __array_finalize__(...)\n",
            " |      a.__array_finalize__(obj, /)\n",
            " |      \n",
            " |      Present so subclasses can call super. Does nothing.\n",
            " |  \n",
            " |  __array_function__(...)\n",
            " |  \n",
            " |  __array_prepare__(...)\n",
            " |      a.__array_prepare__(array[, context], /)\n",
            " |      \n",
            " |      Returns a view of `array` with the same type as self.\n",
            " |  \n",
            " |  __array_ufunc__(...)\n",
            " |  \n",
            " |  __array_wrap__(...)\n",
            " |      a.__array_wrap__(array[, context], /)\n",
            " |      \n",
            " |      Returns a view of `array` with the same type as self.\n",
            " |  \n",
            " |  __bool__(self, /)\n",
            " |      True if self else False\n",
            " |  \n",
            " |  __complex__(...)\n",
            " |  \n",
            " |  __contains__(self, key, /)\n",
            " |      Return key in self.\n",
            " |  \n",
            " |  __copy__(...)\n",
            " |      a.__copy__()\n",
            " |      \n",
            " |      Used if :func:`copy.copy` is called on an array. Returns a copy of the array.\n",
            " |      \n",
            " |      Equivalent to ``a.copy(order='K')``.\n",
            " |  \n",
            " |  __deepcopy__(...)\n",
            " |      a.__deepcopy__(memo, /)\n",
            " |      \n",
            " |      Used if :func:`copy.deepcopy` is called on an array.\n",
            " |  \n",
            " |  __delitem__(self, key, /)\n",
            " |      Delete self[key].\n",
            " |  \n",
            " |  __divmod__(self, value, /)\n",
            " |      Return divmod(self, value).\n",
            " |  \n",
            " |  __dlpack__(...)\n",
            " |      a.__dlpack__(*, stream=None)\n",
            " |      \n",
            " |      DLPack Protocol: Part of the Array API.\n",
            " |  \n",
            " |  __dlpack_device__(...)\n",
            " |      a.__dlpack_device__()\n",
            " |      \n",
            " |      DLPack Protocol: Part of the Array API.\n",
            " |  \n",
            " |  __eq__(self, value, /)\n",
            " |      Return self==value.\n",
            " |  \n",
            " |  __float__(self, /)\n",
            " |      float(self)\n",
            " |  \n",
            " |  __floordiv__(self, value, /)\n",
            " |      Return self//value.\n",
            " |  \n",
            " |  __format__(...)\n",
            " |      Default object formatter.\n",
            " |  \n",
            " |  __ge__(self, value, /)\n",
            " |      Return self>=value.\n",
            " |  \n",
            " |  __getitem__(self, key, /)\n",
            " |      Return self[key].\n",
            " |  \n",
            " |  __gt__(self, value, /)\n",
            " |      Return self>value.\n",
            " |  \n",
            " |  __iadd__(self, value, /)\n",
            " |      Return self+=value.\n",
            " |  \n",
            " |  __iand__(self, value, /)\n",
            " |      Return self&=value.\n",
            " |  \n",
            " |  __ifloordiv__(self, value, /)\n",
            " |      Return self//=value.\n",
            " |  \n",
            " |  __ilshift__(self, value, /)\n",
            " |      Return self<<=value.\n",
            " |  \n",
            " |  __imatmul__(self, value, /)\n",
            " |      Return self@=value.\n",
            " |  \n",
            " |  __imod__(self, value, /)\n",
            " |      Return self%=value.\n",
            " |  \n",
            " |  __imul__(self, value, /)\n",
            " |      Return self*=value.\n",
            " |  \n",
            " |  __index__(self, /)\n",
            " |      Return self converted to an integer, if self is suitable for use as an index into a list.\n",
            " |  \n",
            " |  __int__(self, /)\n",
            " |      int(self)\n",
            " |  \n",
            " |  __invert__(self, /)\n",
            " |      ~self\n",
            " |  \n",
            " |  __ior__(self, value, /)\n",
            " |      Return self|=value.\n",
            " |  \n",
            " |  __ipow__(self, value, /)\n",
            " |      Return self**=value.\n",
            " |  \n",
            " |  __irshift__(self, value, /)\n",
            " |      Return self>>=value.\n",
            " |  \n",
            " |  __isub__(self, value, /)\n",
            " |      Return self-=value.\n",
            " |  \n",
            " |  __iter__(self, /)\n",
            " |      Implement iter(self).\n",
            " |  \n",
            " |  __itruediv__(self, value, /)\n",
            " |      Return self/=value.\n",
            " |  \n",
            " |  __ixor__(self, value, /)\n",
            " |      Return self^=value.\n",
            " |  \n",
            " |  __le__(self, value, /)\n",
            " |      Return self<=value.\n",
            " |  \n",
            " |  __len__(self, /)\n",
            " |      Return len(self).\n",
            " |  \n",
            " |  __lshift__(self, value, /)\n",
            " |      Return self<<value.\n",
            " |  \n",
            " |  __lt__(self, value, /)\n",
            " |      Return self<value.\n",
            " |  \n",
            " |  __matmul__(self, value, /)\n",
            " |      Return self@value.\n",
            " |  \n",
            " |  __mod__(self, value, /)\n",
            " |      Return self%value.\n",
            " |  \n",
            " |  __mul__(self, value, /)\n",
            " |      Return self*value.\n",
            " |  \n",
            " |  __ne__(self, value, /)\n",
            " |      Return self!=value.\n",
            " |  \n",
            " |  __neg__(self, /)\n",
            " |      -self\n",
            " |  \n",
            " |  __or__(self, value, /)\n",
            " |      Return self|value.\n",
            " |  \n",
            " |  __pos__(self, /)\n",
            " |      +self\n",
            " |  \n",
            " |  __pow__(self, value, mod=None, /)\n",
            " |      Return pow(self, value, mod).\n",
            " |  \n",
            " |  __radd__(self, value, /)\n",
            " |      Return value+self.\n",
            " |  \n",
            " |  __rand__(self, value, /)\n",
            " |      Return value&self.\n",
            " |  \n",
            " |  __rdivmod__(self, value, /)\n",
            " |      Return divmod(value, self).\n",
            " |  \n",
            " |  __reduce__(...)\n",
            " |      a.__reduce__()\n",
            " |      \n",
            " |      For pickling.\n",
            " |  \n",
            " |  __reduce_ex__(...)\n",
            " |      Helper for pickle.\n",
            " |  \n",
            " |  __repr__(self, /)\n",
            " |      Return repr(self).\n",
            " |  \n",
            " |  __rfloordiv__(self, value, /)\n",
            " |      Return value//self.\n",
            " |  \n",
            " |  __rlshift__(self, value, /)\n",
            " |      Return value<<self.\n",
            " |  \n",
            " |  __rmatmul__(self, value, /)\n",
            " |      Return value@self.\n",
            " |  \n",
            " |  __rmod__(self, value, /)\n",
            " |      Return value%self.\n",
            " |  \n",
            " |  __rmul__(self, value, /)\n",
            " |      Return value*self.\n",
            " |  \n",
            " |  __ror__(self, value, /)\n",
            " |      Return value|self.\n",
            " |  \n",
            " |  __rpow__(self, value, mod=None, /)\n",
            " |      Return pow(value, self, mod).\n",
            " |  \n",
            " |  __rrshift__(self, value, /)\n",
            " |      Return value>>self.\n",
            " |  \n",
            " |  __rshift__(self, value, /)\n",
            " |      Return self>>value.\n",
            " |  \n",
            " |  __rsub__(self, value, /)\n",
            " |      Return value-self.\n",
            " |  \n",
            " |  __rtruediv__(self, value, /)\n",
            " |      Return value/self.\n",
            " |  \n",
            " |  __rxor__(self, value, /)\n",
            " |      Return value^self.\n",
            " |  \n",
            " |  __setitem__(self, key, value, /)\n",
            " |      Set self[key] to value.\n",
            " |  \n",
            " |  __setstate__(...)\n",
            " |      a.__setstate__(state, /)\n",
            " |      \n",
            " |      For unpickling.\n",
            " |      \n",
            " |      The `state` argument must be a sequence that contains the following\n",
            " |      elements:\n",
            " |      \n",
            " |      Parameters\n",
            " |      ----------\n",
            " |      version : int\n",
            " |          optional pickle version. If omitted defaults to 0.\n",
            " |      shape : tuple\n",
            " |      dtype : data-type\n",
            " |      isFortran : bool\n",
            " |      rawdata : string or list\n",
            " |          a binary string with the data (or a list if 'a' is an object array)\n",
            " |  \n",
            " |  __sizeof__(...)\n",
            " |      Size of object in memory, in bytes.\n",
            " |  \n",
            " |  __str__(self, /)\n",
            " |      Return str(self).\n",
            " |  \n",
            " |  __sub__(self, value, /)\n",
            " |      Return self-value.\n",
            " |  \n",
            " |  __truediv__(self, value, /)\n",
            " |      Return self/value.\n",
            " |  \n",
            " |  __xor__(self, value, /)\n",
            " |      Return self^value.\n",
            " |  \n",
            " |  all(...)\n",
            " |      a.all(axis=None, out=None, keepdims=False, *, where=True)\n",
            " |      \n",
            " |      Returns True if all elements evaluate to True.\n",
            " |      \n",
            " |      Refer to `numpy.all` for full documentation.\n",
            " |      \n",
            " |      See Also\n",
            " |      --------\n",
            " |      numpy.all : equivalent function\n",
            " |  \n",
            " |  any(...)\n",
            " |      a.any(axis=None, out=None, keepdims=False, *, where=True)\n",
            " |      \n",
            " |      Returns True if any of the elements of `a` evaluate to True.\n",
            " |      \n",
            " |      Refer to `numpy.any` for full documentation.\n",
            " |      \n",
            " |      See Also\n",
            " |      --------\n",
            " |      numpy.any : equivalent function\n",
            " |  \n",
            " |  argmax(...)\n",
            " |      a.argmax(axis=None, out=None, *, keepdims=False)\n",
            " |      \n",
            " |      Return indices of the maximum values along the given axis.\n",
            " |      \n",
            " |      Refer to `numpy.argmax` for full documentation.\n",
            " |      \n",
            " |      See Also\n",
            " |      --------\n",
            " |      numpy.argmax : equivalent function\n",
            " |  \n",
            " |  argmin(...)\n",
            " |      a.argmin(axis=None, out=None, *, keepdims=False)\n",
            " |      \n",
            " |      Return indices of the minimum values along the given axis.\n",
            " |      \n",
            " |      Refer to `numpy.argmin` for detailed documentation.\n",
            " |      \n",
            " |      See Also\n",
            " |      --------\n",
            " |      numpy.argmin : equivalent function\n",
            " |  \n",
            " |  argpartition(...)\n",
            " |      a.argpartition(kth, axis=-1, kind='introselect', order=None)\n",
            " |      \n",
            " |      Returns the indices that would partition this array.\n",
            " |      \n",
            " |      Refer to `numpy.argpartition` for full documentation.\n",
            " |      \n",
            " |      .. versionadded:: 1.8.0\n",
            " |      \n",
            " |      See Also\n",
            " |      --------\n",
            " |      numpy.argpartition : equivalent function\n",
            " |  \n",
            " |  argsort(...)\n",
            " |      a.argsort(axis=-1, kind=None, order=None)\n",
            " |      \n",
            " |      Returns the indices that would sort this array.\n",
            " |      \n",
            " |      Refer to `numpy.argsort` for full documentation.\n",
            " |      \n",
            " |      See Also\n",
            " |      --------\n",
            " |      numpy.argsort : equivalent function\n",
            " |  \n",
            " |  astype(...)\n",
            " |      a.astype(dtype, order='K', casting='unsafe', subok=True, copy=True)\n",
            " |      \n",
            " |      Copy of the array, cast to a specified type.\n",
            " |      \n",
            " |      Parameters\n",
            " |      ----------\n",
            " |      dtype : str or dtype\n",
            " |          Typecode or data-type to which the array is cast.\n",
            " |      order : {'C', 'F', 'A', 'K'}, optional\n",
            " |          Controls the memory layout order of the result.\n",
            " |          'C' means C order, 'F' means Fortran order, 'A'\n",
            " |          means 'F' order if all the arrays are Fortran contiguous,\n",
            " |          'C' order otherwise, and 'K' means as close to the\n",
            " |          order the array elements appear in memory as possible.\n",
            " |          Default is 'K'.\n",
            " |      casting : {'no', 'equiv', 'safe', 'same_kind', 'unsafe'}, optional\n",
            " |          Controls what kind of data casting may occur. Defaults to 'unsafe'\n",
            " |          for backwards compatibility.\n",
            " |      \n",
            " |            * 'no' means the data types should not be cast at all.\n",
            " |            * 'equiv' means only byte-order changes are allowed.\n",
            " |            * 'safe' means only casts which can preserve values are allowed.\n",
            " |            * 'same_kind' means only safe casts or casts within a kind,\n",
            " |              like float64 to float32, are allowed.\n",
            " |            * 'unsafe' means any data conversions may be done.\n",
            " |      subok : bool, optional\n",
            " |          If True, then sub-classes will be passed-through (default), otherwise\n",
            " |          the returned array will be forced to be a base-class array.\n",
            " |      copy : bool, optional\n",
            " |          By default, astype always returns a newly allocated array. If this\n",
            " |          is set to false, and the `dtype`, `order`, and `subok`\n",
            " |          requirements are satisfied, the input array is returned instead\n",
            " |          of a copy.\n",
            " |      \n",
            " |      Returns\n",
            " |      -------\n",
            " |      arr_t : ndarray\n",
            " |          Unless `copy` is False and the other conditions for returning the input\n",
            " |          array are satisfied (see description for `copy` input parameter), `arr_t`\n",
            " |          is a new array of the same shape as the input array, with dtype, order\n",
            " |          given by `dtype`, `order`.\n",
            " |      \n",
            " |      Notes\n",
            " |      -----\n",
            " |      .. versionchanged:: 1.17.0\n",
            " |         Casting between a simple data type and a structured one is possible only\n",
            " |         for \"unsafe\" casting.  Casting to multiple fields is allowed, but\n",
            " |         casting from multiple fields is not.\n",
            " |      \n",
            " |      .. versionchanged:: 1.9.0\n",
            " |         Casting from numeric to string types in 'safe' casting mode requires\n",
            " |         that the string dtype length is long enough to store the max\n",
            " |         integer/float value converted.\n",
            " |      \n",
            " |      Raises\n",
            " |      ------\n",
            " |      ComplexWarning\n",
            " |          When casting from complex to float or int. To avoid this,\n",
            " |          one should use ``a.real.astype(t)``.\n",
            " |      \n",
            " |      Examples\n",
            " |      --------\n",
            " |      >>> x = np.array([1, 2, 2.5])\n",
            " |      >>> x\n",
            " |      array([1. ,  2. ,  2.5])\n",
            " |      \n",
            " |      >>> x.astype(int)\n",
            " |      array([1, 2, 2])\n",
            " |  \n",
            " |  byteswap(...)\n",
            " |      a.byteswap(inplace=False)\n",
            " |      \n",
            " |      Swap the bytes of the array elements\n",
            " |      \n",
            " |      Toggle between low-endian and big-endian data representation by\n",
            " |      returning a byteswapped array, optionally swapped in-place.\n",
            " |      Arrays of byte-strings are not swapped. The real and imaginary\n",
            " |      parts of a complex number are swapped individually.\n",
            " |      \n",
            " |      Parameters\n",
            " |      ----------\n",
            " |      inplace : bool, optional\n",
            " |          If ``True``, swap bytes in-place, default is ``False``.\n",
            " |      \n",
            " |      Returns\n",
            " |      -------\n",
            " |      out : ndarray\n",
            " |          The byteswapped array. If `inplace` is ``True``, this is\n",
            " |          a view to self.\n",
            " |      \n",
            " |      Examples\n",
            " |      --------\n",
            " |      >>> A = np.array([1, 256, 8755], dtype=np.int16)\n",
            " |      >>> list(map(hex, A))\n",
            " |      ['0x1', '0x100', '0x2233']\n",
            " |      >>> A.byteswap(inplace=True)\n",
            " |      array([  256,     1, 13090], dtype=int16)\n",
            " |      >>> list(map(hex, A))\n",
            " |      ['0x100', '0x1', '0x3322']\n",
            " |      \n",
            " |      Arrays of byte-strings are not swapped\n",
            " |      \n",
            " |      >>> A = np.array([b'ceg', b'fac'])\n",
            " |      >>> A.byteswap()\n",
            " |      array([b'ceg', b'fac'], dtype='|S3')\n",
            " |      \n",
            " |      ``A.newbyteorder().byteswap()`` produces an array with the same values\n",
            " |        but different representation in memory\n",
            " |      \n",
            " |      >>> A = np.array([1, 2, 3])\n",
            " |      >>> A.view(np.uint8)\n",
            " |      array([1, 0, 0, 0, 0, 0, 0, 0, 2, 0, 0, 0, 0, 0, 0, 0, 3, 0, 0, 0, 0, 0,\n",
            " |             0, 0], dtype=uint8)\n",
            " |      >>> A.newbyteorder().byteswap(inplace=True)\n",
            " |      array([1, 2, 3])\n",
            " |      >>> A.view(np.uint8)\n",
            " |      array([0, 0, 0, 0, 0, 0, 0, 1, 0, 0, 0, 0, 0, 0, 0, 2, 0, 0, 0, 0, 0, 0,\n",
            " |             0, 3], dtype=uint8)\n",
            " |  \n",
            " |  choose(...)\n",
            " |      a.choose(choices, out=None, mode='raise')\n",
            " |      \n",
            " |      Use an index array to construct a new array from a set of choices.\n",
            " |      \n",
            " |      Refer to `numpy.choose` for full documentation.\n",
            " |      \n",
            " |      See Also\n",
            " |      --------\n",
            " |      numpy.choose : equivalent function\n",
            " |  \n",
            " |  clip(...)\n",
            " |      a.clip(min=None, max=None, out=None, **kwargs)\n",
            " |      \n",
            " |      Return an array whose values are limited to ``[min, max]``.\n",
            " |      One of max or min must be given.\n",
            " |      \n",
            " |      Refer to `numpy.clip` for full documentation.\n",
            " |      \n",
            " |      See Also\n",
            " |      --------\n",
            " |      numpy.clip : equivalent function\n",
            " |  \n",
            " |  compress(...)\n",
            " |      a.compress(condition, axis=None, out=None)\n",
            " |      \n",
            " |      Return selected slices of this array along given axis.\n",
            " |      \n",
            " |      Refer to `numpy.compress` for full documentation.\n",
            " |      \n",
            " |      See Also\n",
            " |      --------\n",
            " |      numpy.compress : equivalent function\n",
            " |  \n",
            " |  conj(...)\n",
            " |      a.conj()\n",
            " |      \n",
            " |      Complex-conjugate all elements.\n",
            " |      \n",
            " |      Refer to `numpy.conjugate` for full documentation.\n",
            " |      \n",
            " |      See Also\n",
            " |      --------\n",
            " |      numpy.conjugate : equivalent function\n",
            " |  \n",
            " |  conjugate(...)\n",
            " |      a.conjugate()\n",
            " |      \n",
            " |      Return the complex conjugate, element-wise.\n",
            " |      \n",
            " |      Refer to `numpy.conjugate` for full documentation.\n",
            " |      \n",
            " |      See Also\n",
            " |      --------\n",
            " |      numpy.conjugate : equivalent function\n",
            " |  \n",
            " |  copy(...)\n",
            " |      a.copy(order='C')\n",
            " |      \n",
            " |      Return a copy of the array.\n",
            " |      \n",
            " |      Parameters\n",
            " |      ----------\n",
            " |      order : {'C', 'F', 'A', 'K'}, optional\n",
            " |          Controls the memory layout of the copy. 'C' means C-order,\n",
            " |          'F' means F-order, 'A' means 'F' if `a` is Fortran contiguous,\n",
            " |          'C' otherwise. 'K' means match the layout of `a` as closely\n",
            " |          as possible. (Note that this function and :func:`numpy.copy` are very\n",
            " |          similar but have different default values for their order=\n",
            " |          arguments, and this function always passes sub-classes through.)\n",
            " |      \n",
            " |      See also\n",
            " |      --------\n",
            " |      numpy.copy : Similar function with different default behavior\n",
            " |      numpy.copyto\n",
            " |      \n",
            " |      Notes\n",
            " |      -----\n",
            " |      This function is the preferred method for creating an array copy.  The\n",
            " |      function :func:`numpy.copy` is similar, but it defaults to using order 'K',\n",
            " |      and will not pass sub-classes through by default.\n",
            " |      \n",
            " |      Examples\n",
            " |      --------\n",
            " |      >>> x = np.array([[1,2,3],[4,5,6]], order='F')\n",
            " |      \n",
            " |      >>> y = x.copy()\n",
            " |      \n",
            " |      >>> x.fill(0)\n",
            " |      \n",
            " |      >>> x\n",
            " |      array([[0, 0, 0],\n",
            " |             [0, 0, 0]])\n",
            " |      \n",
            " |      >>> y\n",
            " |      array([[1, 2, 3],\n",
            " |             [4, 5, 6]])\n",
            " |      \n",
            " |      >>> y.flags['C_CONTIGUOUS']\n",
            " |      True\n",
            " |  \n",
            " |  cumprod(...)\n",
            " |      a.cumprod(axis=None, dtype=None, out=None)\n",
            " |      \n",
            " |      Return the cumulative product of the elements along the given axis.\n",
            " |      \n",
            " |      Refer to `numpy.cumprod` for full documentation.\n",
            " |      \n",
            " |      See Also\n",
            " |      --------\n",
            " |      numpy.cumprod : equivalent function\n",
            " |  \n",
            " |  cumsum(...)\n",
            " |      a.cumsum(axis=None, dtype=None, out=None)\n",
            " |      \n",
            " |      Return the cumulative sum of the elements along the given axis.\n",
            " |      \n",
            " |      Refer to `numpy.cumsum` for full documentation.\n",
            " |      \n",
            " |      See Also\n",
            " |      --------\n",
            " |      numpy.cumsum : equivalent function\n",
            " |  \n",
            " |  diagonal(...)\n",
            " |      a.diagonal(offset=0, axis1=0, axis2=1)\n",
            " |      \n",
            " |      Return specified diagonals. In NumPy 1.9 the returned array is a\n",
            " |      read-only view instead of a copy as in previous NumPy versions.  In\n",
            " |      a future version the read-only restriction will be removed.\n",
            " |      \n",
            " |      Refer to :func:`numpy.diagonal` for full documentation.\n",
            " |      \n",
            " |      See Also\n",
            " |      --------\n",
            " |      numpy.diagonal : equivalent function\n",
            " |  \n",
            " |  dot(...)\n",
            " |  \n",
            " |  dump(...)\n",
            " |      a.dump(file)\n",
            " |      \n",
            " |      Dump a pickle of the array to the specified file.\n",
            " |      The array can be read back with pickle.load or numpy.load.\n",
            " |      \n",
            " |      Parameters\n",
            " |      ----------\n",
            " |      file : str or Path\n",
            " |          A string naming the dump file.\n",
            " |      \n",
            " |          .. versionchanged:: 1.17.0\n",
            " |              `pathlib.Path` objects are now accepted.\n",
            " |  \n",
            " |  dumps(...)\n",
            " |      a.dumps()\n",
            " |      \n",
            " |      Returns the pickle of the array as a string.\n",
            " |      pickle.loads will convert the string back to an array.\n",
            " |      \n",
            " |      Parameters\n",
            " |      ----------\n",
            " |      None\n",
            " |  \n",
            " |  fill(...)\n",
            " |      a.fill(value)\n",
            " |      \n",
            " |      Fill the array with a scalar value.\n",
            " |      \n",
            " |      Parameters\n",
            " |      ----------\n",
            " |      value : scalar\n",
            " |          All elements of `a` will be assigned this value.\n",
            " |      \n",
            " |      Examples\n",
            " |      --------\n",
            " |      >>> a = np.array([1, 2])\n",
            " |      >>> a.fill(0)\n",
            " |      >>> a\n",
            " |      array([0, 0])\n",
            " |      >>> a = np.empty(2)\n",
            " |      >>> a.fill(1)\n",
            " |      >>> a\n",
            " |      array([1.,  1.])\n",
            " |      \n",
            " |      Fill expects a scalar value and always behaves the same as assigning\n",
            " |      to a single array element.  The following is a rare example where this\n",
            " |      distinction is important:\n",
            " |      \n",
            " |      >>> a = np.array([None, None], dtype=object)\n",
            " |      >>> a[0] = np.array(3)\n",
            " |      >>> a\n",
            " |      array([array(3), None], dtype=object)\n",
            " |      >>> a.fill(np.array(3))\n",
            " |      >>> a\n",
            " |      array([array(3), array(3)], dtype=object)\n",
            " |      \n",
            " |      Where other forms of assignments will unpack the array being assigned:\n",
            " |      \n",
            " |      >>> a[...] = np.array(3)\n",
            " |      >>> a\n",
            " |      array([3, 3], dtype=object)\n",
            " |  \n",
            " |  flatten(...)\n",
            " |      a.flatten(order='C')\n",
            " |      \n",
            " |      Return a copy of the array collapsed into one dimension.\n",
            " |      \n",
            " |      Parameters\n",
            " |      ----------\n",
            " |      order : {'C', 'F', 'A', 'K'}, optional\n",
            " |          'C' means to flatten in row-major (C-style) order.\n",
            " |          'F' means to flatten in column-major (Fortran-\n",
            " |          style) order. 'A' means to flatten in column-major\n",
            " |          order if `a` is Fortran *contiguous* in memory,\n",
            " |          row-major order otherwise. 'K' means to flatten\n",
            " |          `a` in the order the elements occur in memory.\n",
            " |          The default is 'C'.\n",
            " |      \n",
            " |      Returns\n",
            " |      -------\n",
            " |      y : ndarray\n",
            " |          A copy of the input array, flattened to one dimension.\n",
            " |      \n",
            " |      See Also\n",
            " |      --------\n",
            " |      ravel : Return a flattened array.\n",
            " |      flat : A 1-D flat iterator over the array.\n",
            " |      \n",
            " |      Examples\n",
            " |      --------\n",
            " |      >>> a = np.array([[1,2], [3,4]])\n",
            " |      >>> a.flatten()\n",
            " |      array([1, 2, 3, 4])\n",
            " |      >>> a.flatten('F')\n",
            " |      array([1, 3, 2, 4])\n",
            " |  \n",
            " |  getfield(...)\n",
            " |      a.getfield(dtype, offset=0)\n",
            " |      \n",
            " |      Returns a field of the given array as a certain type.\n",
            " |      \n",
            " |      A field is a view of the array data with a given data-type. The values in\n",
            " |      the view are determined by the given type and the offset into the current\n",
            " |      array in bytes. The offset needs to be such that the view dtype fits in the\n",
            " |      array dtype; for example an array of dtype complex128 has 16-byte elements.\n",
            " |      If taking a view with a 32-bit integer (4 bytes), the offset needs to be\n",
            " |      between 0 and 12 bytes.\n",
            " |      \n",
            " |      Parameters\n",
            " |      ----------\n",
            " |      dtype : str or dtype\n",
            " |          The data type of the view. The dtype size of the view can not be larger\n",
            " |          than that of the array itself.\n",
            " |      offset : int\n",
            " |          Number of bytes to skip before beginning the element view.\n",
            " |      \n",
            " |      Examples\n",
            " |      --------\n",
            " |      >>> x = np.diag([1.+1.j]*2)\n",
            " |      >>> x[1, 1] = 2 + 4.j\n",
            " |      >>> x\n",
            " |      array([[1.+1.j,  0.+0.j],\n",
            " |             [0.+0.j,  2.+4.j]])\n",
            " |      >>> x.getfield(np.float64)\n",
            " |      array([[1.,  0.],\n",
            " |             [0.,  2.]])\n",
            " |      \n",
            " |      By choosing an offset of 8 bytes we can select the complex part of the\n",
            " |      array for our view:\n",
            " |      \n",
            " |      >>> x.getfield(np.float64, offset=8)\n",
            " |      array([[1.,  0.],\n",
            " |             [0.,  4.]])\n",
            " |  \n",
            " |  item(...)\n",
            " |      a.item(*args)\n",
            " |      \n",
            " |      Copy an element of an array to a standard Python scalar and return it.\n",
            " |      \n",
            " |      Parameters\n",
            " |      ----------\n",
            " |      \\*args : Arguments (variable number and type)\n",
            " |      \n",
            " |          * none: in this case, the method only works for arrays\n",
            " |            with one element (`a.size == 1`), which element is\n",
            " |            copied into a standard Python scalar object and returned.\n",
            " |      \n",
            " |          * int_type: this argument is interpreted as a flat index into\n",
            " |            the array, specifying which element to copy and return.\n",
            " |      \n",
            " |          * tuple of int_types: functions as does a single int_type argument,\n",
            " |            except that the argument is interpreted as an nd-index into the\n",
            " |            array.\n",
            " |      \n",
            " |      Returns\n",
            " |      -------\n",
            " |      z : Standard Python scalar object\n",
            " |          A copy of the specified element of the array as a suitable\n",
            " |          Python scalar\n",
            " |      \n",
            " |      Notes\n",
            " |      -----\n",
            " |      When the data type of `a` is longdouble or clongdouble, item() returns\n",
            " |      a scalar array object because there is no available Python scalar that\n",
            " |      would not lose information. Void arrays return a buffer object for item(),\n",
            " |      unless fields are defined, in which case a tuple is returned.\n",
            " |      \n",
            " |      `item` is very similar to a[args], except, instead of an array scalar,\n",
            " |      a standard Python scalar is returned. This can be useful for speeding up\n",
            " |      access to elements of the array and doing arithmetic on elements of the\n",
            " |      array using Python's optimized math.\n",
            " |      \n",
            " |      Examples\n",
            " |      --------\n",
            " |      >>> np.random.seed(123)\n",
            " |      >>> x = np.random.randint(9, size=(3, 3))\n",
            " |      >>> x\n",
            " |      array([[2, 2, 6],\n",
            " |             [1, 3, 6],\n",
            " |             [1, 0, 1]])\n",
            " |      >>> x.item(3)\n",
            " |      1\n",
            " |      >>> x.item(7)\n",
            " |      0\n",
            " |      >>> x.item((0, 1))\n",
            " |      2\n",
            " |      >>> x.item((2, 2))\n",
            " |      1\n",
            " |  \n",
            " |  itemset(...)\n",
            " |      a.itemset(*args)\n",
            " |      \n",
            " |      Insert scalar into an array (scalar is cast to array's dtype, if possible)\n",
            " |      \n",
            " |      There must be at least 1 argument, and define the last argument\n",
            " |      as *item*.  Then, ``a.itemset(*args)`` is equivalent to but faster\n",
            " |      than ``a[args] = item``.  The item should be a scalar value and `args`\n",
            " |      must select a single item in the array `a`.\n",
            " |      \n",
            " |      Parameters\n",
            " |      ----------\n",
            " |      \\*args : Arguments\n",
            " |          If one argument: a scalar, only used in case `a` is of size 1.\n",
            " |          If two arguments: the last argument is the value to be set\n",
            " |          and must be a scalar, the first argument specifies a single array\n",
            " |          element location. It is either an int or a tuple.\n",
            " |      \n",
            " |      Notes\n",
            " |      -----\n",
            " |      Compared to indexing syntax, `itemset` provides some speed increase\n",
            " |      for placing a scalar into a particular location in an `ndarray`,\n",
            " |      if you must do this.  However, generally this is discouraged:\n",
            " |      among other problems, it complicates the appearance of the code.\n",
            " |      Also, when using `itemset` (and `item`) inside a loop, be sure\n",
            " |      to assign the methods to a local variable to avoid the attribute\n",
            " |      look-up at each loop iteration.\n",
            " |      \n",
            " |      Examples\n",
            " |      --------\n",
            " |      >>> np.random.seed(123)\n",
            " |      >>> x = np.random.randint(9, size=(3, 3))\n",
            " |      >>> x\n",
            " |      array([[2, 2, 6],\n",
            " |             [1, 3, 6],\n",
            " |             [1, 0, 1]])\n",
            " |      >>> x.itemset(4, 0)\n",
            " |      >>> x.itemset((2, 2), 9)\n",
            " |      >>> x\n",
            " |      array([[2, 2, 6],\n",
            " |             [1, 0, 6],\n",
            " |             [1, 0, 9]])\n",
            " |  \n",
            " |  max(...)\n",
            " |      a.max(axis=None, out=None, keepdims=False, initial=<no value>, where=True)\n",
            " |      \n",
            " |      Return the maximum along a given axis.\n",
            " |      \n",
            " |      Refer to `numpy.amax` for full documentation.\n",
            " |      \n",
            " |      See Also\n",
            " |      --------\n",
            " |      numpy.amax : equivalent function\n",
            " |  \n",
            " |  mean(...)\n",
            " |      a.mean(axis=None, dtype=None, out=None, keepdims=False, *, where=True)\n",
            " |      \n",
            " |      Returns the average of the array elements along given axis.\n",
            " |      \n",
            " |      Refer to `numpy.mean` for full documentation.\n",
            " |      \n",
            " |      See Also\n",
            " |      --------\n",
            " |      numpy.mean : equivalent function\n",
            " |  \n",
            " |  min(...)\n",
            " |      a.min(axis=None, out=None, keepdims=False, initial=<no value>, where=True)\n",
            " |      \n",
            " |      Return the minimum along a given axis.\n",
            " |      \n",
            " |      Refer to `numpy.amin` for full documentation.\n",
            " |      \n",
            " |      See Also\n",
            " |      --------\n",
            " |      numpy.amin : equivalent function\n",
            " |  \n",
            " |  newbyteorder(...)\n",
            " |      arr.newbyteorder(new_order='S', /)\n",
            " |      \n",
            " |      Return the array with the same data viewed with a different byte order.\n",
            " |      \n",
            " |      Equivalent to::\n",
            " |      \n",
            " |          arr.view(arr.dtype.newbytorder(new_order))\n",
            " |      \n",
            " |      Changes are also made in all fields and sub-arrays of the array data\n",
            " |      type.\n",
            " |      \n",
            " |      \n",
            " |      \n",
            " |      Parameters\n",
            " |      ----------\n",
            " |      new_order : string, optional\n",
            " |          Byte order to force; a value from the byte order specifications\n",
            " |          below. `new_order` codes can be any of:\n",
            " |      \n",
            " |          * 'S' - swap dtype from current to opposite endian\n",
            " |          * {'<', 'little'} - little endian\n",
            " |          * {'>', 'big'} - big endian\n",
            " |          * {'=', 'native'} - native order, equivalent to `sys.byteorder`\n",
            " |          * {'|', 'I'} - ignore (no change to byte order)\n",
            " |      \n",
            " |          The default value ('S') results in swapping the current\n",
            " |          byte order.\n",
            " |      \n",
            " |      \n",
            " |      Returns\n",
            " |      -------\n",
            " |      new_arr : array\n",
            " |          New array object with the dtype reflecting given change to the\n",
            " |          byte order.\n",
            " |  \n",
            " |  nonzero(...)\n",
            " |      a.nonzero()\n",
            " |      \n",
            " |      Return the indices of the elements that are non-zero.\n",
            " |      \n",
            " |      Refer to `numpy.nonzero` for full documentation.\n",
            " |      \n",
            " |      See Also\n",
            " |      --------\n",
            " |      numpy.nonzero : equivalent function\n",
            " |  \n",
            " |  partition(...)\n",
            " |      a.partition(kth, axis=-1, kind='introselect', order=None)\n",
            " |      \n",
            " |      Rearranges the elements in the array in such a way that the value of the\n",
            " |      element in kth position is in the position it would be in a sorted array.\n",
            " |      All elements smaller than the kth element are moved before this element and\n",
            " |      all equal or greater are moved behind it. The ordering of the elements in\n",
            " |      the two partitions is undefined.\n",
            " |      \n",
            " |      .. versionadded:: 1.8.0\n",
            " |      \n",
            " |      Parameters\n",
            " |      ----------\n",
            " |      kth : int or sequence of ints\n",
            " |          Element index to partition by. The kth element value will be in its\n",
            " |          final sorted position and all smaller elements will be moved before it\n",
            " |          and all equal or greater elements behind it.\n",
            " |          The order of all elements in the partitions is undefined.\n",
            " |          If provided with a sequence of kth it will partition all elements\n",
            " |          indexed by kth of them into their sorted position at once.\n",
            " |      \n",
            " |          .. deprecated:: 1.22.0\n",
            " |              Passing booleans as index is deprecated.\n",
            " |      axis : int, optional\n",
            " |          Axis along which to sort. Default is -1, which means sort along the\n",
            " |          last axis.\n",
            " |      kind : {'introselect'}, optional\n",
            " |          Selection algorithm. Default is 'introselect'.\n",
            " |      order : str or list of str, optional\n",
            " |          When `a` is an array with fields defined, this argument specifies\n",
            " |          which fields to compare first, second, etc. A single field can\n",
            " |          be specified as a string, and not all fields need to be specified,\n",
            " |          but unspecified fields will still be used, in the order in which\n",
            " |          they come up in the dtype, to break ties.\n",
            " |      \n",
            " |      See Also\n",
            " |      --------\n",
            " |      numpy.partition : Return a partitioned copy of an array.\n",
            " |      argpartition : Indirect partition.\n",
            " |      sort : Full sort.\n",
            " |      \n",
            " |      Notes\n",
            " |      -----\n",
            " |      See ``np.partition`` for notes on the different algorithms.\n",
            " |      \n",
            " |      Examples\n",
            " |      --------\n",
            " |      >>> a = np.array([3, 4, 2, 1])\n",
            " |      >>> a.partition(3)\n",
            " |      >>> a\n",
            " |      array([2, 1, 3, 4])\n",
            " |      \n",
            " |      >>> a.partition((1, 3))\n",
            " |      >>> a\n",
            " |      array([1, 2, 3, 4])\n",
            " |  \n",
            " |  prod(...)\n",
            " |      a.prod(axis=None, dtype=None, out=None, keepdims=False, initial=1, where=True)\n",
            " |      \n",
            " |      Return the product of the array elements over the given axis\n",
            " |      \n",
            " |      Refer to `numpy.prod` for full documentation.\n",
            " |      \n",
            " |      See Also\n",
            " |      --------\n",
            " |      numpy.prod : equivalent function\n",
            " |  \n",
            " |  ptp(...)\n",
            " |      a.ptp(axis=None, out=None, keepdims=False)\n",
            " |      \n",
            " |      Peak to peak (maximum - minimum) value along a given axis.\n",
            " |      \n",
            " |      Refer to `numpy.ptp` for full documentation.\n",
            " |      \n",
            " |      See Also\n",
            " |      --------\n",
            " |      numpy.ptp : equivalent function\n",
            " |  \n",
            " |  put(...)\n",
            " |      a.put(indices, values, mode='raise')\n",
            " |      \n",
            " |      Set ``a.flat[n] = values[n]`` for all `n` in indices.\n",
            " |      \n",
            " |      Refer to `numpy.put` for full documentation.\n",
            " |      \n",
            " |      See Also\n",
            " |      --------\n",
            " |      numpy.put : equivalent function\n",
            " |  \n",
            " |  ravel(...)\n",
            " |      a.ravel([order])\n",
            " |      \n",
            " |      Return a flattened array.\n",
            " |      \n",
            " |      Refer to `numpy.ravel` for full documentation.\n",
            " |      \n",
            " |      See Also\n",
            " |      --------\n",
            " |      numpy.ravel : equivalent function\n",
            " |      \n",
            " |      ndarray.flat : a flat iterator on the array.\n",
            " |  \n",
            " |  repeat(...)\n",
            " |      a.repeat(repeats, axis=None)\n",
            " |      \n",
            " |      Repeat elements of an array.\n",
            " |      \n",
            " |      Refer to `numpy.repeat` for full documentation.\n",
            " |      \n",
            " |      See Also\n",
            " |      --------\n",
            " |      numpy.repeat : equivalent function\n",
            " |  \n",
            " |  reshape(...)\n",
            " |      a.reshape(shape, order='C')\n",
            " |      \n",
            " |      Returns an array containing the same data with a new shape.\n",
            " |      \n",
            " |      Refer to `numpy.reshape` for full documentation.\n",
            " |      \n",
            " |      See Also\n",
            " |      --------\n",
            " |      numpy.reshape : equivalent function\n",
            " |      \n",
            " |      Notes\n",
            " |      -----\n",
            " |      Unlike the free function `numpy.reshape`, this method on `ndarray` allows\n",
            " |      the elements of the shape parameter to be passed in as separate arguments.\n",
            " |      For example, ``a.reshape(10, 11)`` is equivalent to\n",
            " |      ``a.reshape((10, 11))``.\n",
            " |  \n",
            " |  resize(...)\n",
            " |      a.resize(new_shape, refcheck=True)\n",
            " |      \n",
            " |      Change shape and size of array in-place.\n",
            " |      \n",
            " |      Parameters\n",
            " |      ----------\n",
            " |      new_shape : tuple of ints, or `n` ints\n",
            " |          Shape of resized array.\n",
            " |      refcheck : bool, optional\n",
            " |          If False, reference count will not be checked. Default is True.\n",
            " |      \n",
            " |      Returns\n",
            " |      -------\n",
            " |      None\n",
            " |      \n",
            " |      Raises\n",
            " |      ------\n",
            " |      ValueError\n",
            " |          If `a` does not own its own data or references or views to it exist,\n",
            " |          and the data memory must be changed.\n",
            " |          PyPy only: will always raise if the data memory must be changed, since\n",
            " |          there is no reliable way to determine if references or views to it\n",
            " |          exist.\n",
            " |      \n",
            " |      SystemError\n",
            " |          If the `order` keyword argument is specified. This behaviour is a\n",
            " |          bug in NumPy.\n",
            " |      \n",
            " |      See Also\n",
            " |      --------\n",
            " |      resize : Return a new array with the specified shape.\n",
            " |      \n",
            " |      Notes\n",
            " |      -----\n",
            " |      This reallocates space for the data area if necessary.\n",
            " |      \n",
            " |      Only contiguous arrays (data elements consecutive in memory) can be\n",
            " |      resized.\n",
            " |      \n",
            " |      The purpose of the reference count check is to make sure you\n",
            " |      do not use this array as a buffer for another Python object and then\n",
            " |      reallocate the memory. However, reference counts can increase in\n",
            " |      other ways so if you are sure that you have not shared the memory\n",
            " |      for this array with another Python object, then you may safely set\n",
            " |      `refcheck` to False.\n",
            " |      \n",
            " |      Examples\n",
            " |      --------\n",
            " |      Shrinking an array: array is flattened (in the order that the data are\n",
            " |      stored in memory), resized, and reshaped:\n",
            " |      \n",
            " |      >>> a = np.array([[0, 1], [2, 3]], order='C')\n",
            " |      >>> a.resize((2, 1))\n",
            " |      >>> a\n",
            " |      array([[0],\n",
            " |             [1]])\n",
            " |      \n",
            " |      >>> a = np.array([[0, 1], [2, 3]], order='F')\n",
            " |      >>> a.resize((2, 1))\n",
            " |      >>> a\n",
            " |      array([[0],\n",
            " |             [2]])\n",
            " |      \n",
            " |      Enlarging an array: as above, but missing entries are filled with zeros:\n",
            " |      \n",
            " |      >>> b = np.array([[0, 1], [2, 3]])\n",
            " |      >>> b.resize(2, 3) # new_shape parameter doesn't have to be a tuple\n",
            " |      >>> b\n",
            " |      array([[0, 1, 2],\n",
            " |             [3, 0, 0]])\n",
            " |      \n",
            " |      Referencing an array prevents resizing...\n",
            " |      \n",
            " |      >>> c = a\n",
            " |      >>> a.resize((1, 1))\n",
            " |      Traceback (most recent call last):\n",
            " |      ...\n",
            " |      ValueError: cannot resize an array that references or is referenced ...\n",
            " |      \n",
            " |      Unless `refcheck` is False:\n",
            " |      \n",
            " |      >>> a.resize((1, 1), refcheck=False)\n",
            " |      >>> a\n",
            " |      array([[0]])\n",
            " |      >>> c\n",
            " |      array([[0]])\n",
            " |  \n",
            " |  round(...)\n",
            " |      a.round(decimals=0, out=None)\n",
            " |      \n",
            " |      Return `a` with each element rounded to the given number of decimals.\n",
            " |      \n",
            " |      Refer to `numpy.around` for full documentation.\n",
            " |      \n",
            " |      See Also\n",
            " |      --------\n",
            " |      numpy.around : equivalent function\n",
            " |  \n",
            " |  searchsorted(...)\n",
            " |      a.searchsorted(v, side='left', sorter=None)\n",
            " |      \n",
            " |      Find indices where elements of v should be inserted in a to maintain order.\n",
            " |      \n",
            " |      For full documentation, see `numpy.searchsorted`\n",
            " |      \n",
            " |      See Also\n",
            " |      --------\n",
            " |      numpy.searchsorted : equivalent function\n",
            " |  \n",
            " |  setfield(...)\n",
            " |      a.setfield(val, dtype, offset=0)\n",
            " |      \n",
            " |      Put a value into a specified place in a field defined by a data-type.\n",
            " |      \n",
            " |      Place `val` into `a`'s field defined by `dtype` and beginning `offset`\n",
            " |      bytes into the field.\n",
            " |      \n",
            " |      Parameters\n",
            " |      ----------\n",
            " |      val : object\n",
            " |          Value to be placed in field.\n",
            " |      dtype : dtype object\n",
            " |          Data-type of the field in which to place `val`.\n",
            " |      offset : int, optional\n",
            " |          The number of bytes into the field at which to place `val`.\n",
            " |      \n",
            " |      Returns\n",
            " |      -------\n",
            " |      None\n",
            " |      \n",
            " |      See Also\n",
            " |      --------\n",
            " |      getfield\n",
            " |      \n",
            " |      Examples\n",
            " |      --------\n",
            " |      >>> x = np.eye(3)\n",
            " |      >>> x.getfield(np.float64)\n",
            " |      array([[1.,  0.,  0.],\n",
            " |             [0.,  1.,  0.],\n",
            " |             [0.,  0.,  1.]])\n",
            " |      >>> x.setfield(3, np.int32)\n",
            " |      >>> x.getfield(np.int32)\n",
            " |      array([[3, 3, 3],\n",
            " |             [3, 3, 3],\n",
            " |             [3, 3, 3]], dtype=int32)\n",
            " |      >>> x\n",
            " |      array([[1.0e+000, 1.5e-323, 1.5e-323],\n",
            " |             [1.5e-323, 1.0e+000, 1.5e-323],\n",
            " |             [1.5e-323, 1.5e-323, 1.0e+000]])\n",
            " |      >>> x.setfield(np.eye(3), np.int32)\n",
            " |      >>> x\n",
            " |      array([[1.,  0.,  0.],\n",
            " |             [0.,  1.,  0.],\n",
            " |             [0.,  0.,  1.]])\n",
            " |  \n",
            " |  setflags(...)\n",
            " |      a.setflags(write=None, align=None, uic=None)\n",
            " |      \n",
            " |      Set array flags WRITEABLE, ALIGNED, WRITEBACKIFCOPY,\n",
            " |      respectively.\n",
            " |      \n",
            " |      These Boolean-valued flags affect how numpy interprets the memory\n",
            " |      area used by `a` (see Notes below). The ALIGNED flag can only\n",
            " |      be set to True if the data is actually aligned according to the type.\n",
            " |      The WRITEBACKIFCOPY and flag can never be set\n",
            " |      to True. The flag WRITEABLE can only be set to True if the array owns its\n",
            " |      own memory, or the ultimate owner of the memory exposes a writeable buffer\n",
            " |      interface, or is a string. (The exception for string is made so that\n",
            " |      unpickling can be done without copying memory.)\n",
            " |      \n",
            " |      Parameters\n",
            " |      ----------\n",
            " |      write : bool, optional\n",
            " |          Describes whether or not `a` can be written to.\n",
            " |      align : bool, optional\n",
            " |          Describes whether or not `a` is aligned properly for its type.\n",
            " |      uic : bool, optional\n",
            " |          Describes whether or not `a` is a copy of another \"base\" array.\n",
            " |      \n",
            " |      Notes\n",
            " |      -----\n",
            " |      Array flags provide information about how the memory area used\n",
            " |      for the array is to be interpreted. There are 7 Boolean flags\n",
            " |      in use, only four of which can be changed by the user:\n",
            " |      WRITEBACKIFCOPY, WRITEABLE, and ALIGNED.\n",
            " |      \n",
            " |      WRITEABLE (W) the data area can be written to;\n",
            " |      \n",
            " |      ALIGNED (A) the data and strides are aligned appropriately for the hardware\n",
            " |      (as determined by the compiler);\n",
            " |      \n",
            " |      WRITEBACKIFCOPY (X) this array is a copy of some other array (referenced\n",
            " |      by .base). When the C-API function PyArray_ResolveWritebackIfCopy is\n",
            " |      called, the base array will be updated with the contents of this array.\n",
            " |      \n",
            " |      All flags can be accessed using the single (upper case) letter as well\n",
            " |      as the full name.\n",
            " |      \n",
            " |      Examples\n",
            " |      --------\n",
            " |      >>> y = np.array([[3, 1, 7],\n",
            " |      ...               [2, 0, 0],\n",
            " |      ...               [8, 5, 9]])\n",
            " |      >>> y\n",
            " |      array([[3, 1, 7],\n",
            " |             [2, 0, 0],\n",
            " |             [8, 5, 9]])\n",
            " |      >>> y.flags\n",
            " |        C_CONTIGUOUS : True\n",
            " |        F_CONTIGUOUS : False\n",
            " |        OWNDATA : True\n",
            " |        WRITEABLE : True\n",
            " |        ALIGNED : True\n",
            " |        WRITEBACKIFCOPY : False\n",
            " |      >>> y.setflags(write=0, align=0)\n",
            " |      >>> y.flags\n",
            " |        C_CONTIGUOUS : True\n",
            " |        F_CONTIGUOUS : False\n",
            " |        OWNDATA : True\n",
            " |        WRITEABLE : False\n",
            " |        ALIGNED : False\n",
            " |        WRITEBACKIFCOPY : False\n",
            " |      >>> y.setflags(uic=1)\n",
            " |      Traceback (most recent call last):\n",
            " |        File \"<stdin>\", line 1, in <module>\n",
            " |      ValueError: cannot set WRITEBACKIFCOPY flag to True\n",
            " |  \n",
            " |  sort(...)\n",
            " |      a.sort(axis=-1, kind=None, order=None)\n",
            " |      \n",
            " |      Sort an array in-place. Refer to `numpy.sort` for full documentation.\n",
            " |      \n",
            " |      Parameters\n",
            " |      ----------\n",
            " |      axis : int, optional\n",
            " |          Axis along which to sort. Default is -1, which means sort along the\n",
            " |          last axis.\n",
            " |      kind : {'quicksort', 'mergesort', 'heapsort', 'stable'}, optional\n",
            " |          Sorting algorithm. The default is 'quicksort'. Note that both 'stable'\n",
            " |          and 'mergesort' use timsort under the covers and, in general, the\n",
            " |          actual implementation will vary with datatype. The 'mergesort' option\n",
            " |          is retained for backwards compatibility.\n",
            " |      \n",
            " |          .. versionchanged:: 1.15.0\n",
            " |             The 'stable' option was added.\n",
            " |      \n",
            " |      order : str or list of str, optional\n",
            " |          When `a` is an array with fields defined, this argument specifies\n",
            " |          which fields to compare first, second, etc.  A single field can\n",
            " |          be specified as a string, and not all fields need be specified,\n",
            " |          but unspecified fields will still be used, in the order in which\n",
            " |          they come up in the dtype, to break ties.\n",
            " |      \n",
            " |      See Also\n",
            " |      --------\n",
            " |      numpy.sort : Return a sorted copy of an array.\n",
            " |      numpy.argsort : Indirect sort.\n",
            " |      numpy.lexsort : Indirect stable sort on multiple keys.\n",
            " |      numpy.searchsorted : Find elements in sorted array.\n",
            " |      numpy.partition: Partial sort.\n",
            " |      \n",
            " |      Notes\n",
            " |      -----\n",
            " |      See `numpy.sort` for notes on the different sorting algorithms.\n",
            " |      \n",
            " |      Examples\n",
            " |      --------\n",
            " |      >>> a = np.array([[1,4], [3,1]])\n",
            " |      >>> a.sort(axis=1)\n",
            " |      >>> a\n",
            " |      array([[1, 4],\n",
            " |             [1, 3]])\n",
            " |      >>> a.sort(axis=0)\n",
            " |      >>> a\n",
            " |      array([[1, 3],\n",
            " |             [1, 4]])\n",
            " |      \n",
            " |      Use the `order` keyword to specify a field to use when sorting a\n",
            " |      structured array:\n",
            " |      \n",
            " |      >>> a = np.array([('a', 2), ('c', 1)], dtype=[('x', 'S1'), ('y', int)])\n",
            " |      >>> a.sort(order='y')\n",
            " |      >>> a\n",
            " |      array([(b'c', 1), (b'a', 2)],\n",
            " |            dtype=[('x', 'S1'), ('y', '<i8')])\n",
            " |  \n",
            " |  squeeze(...)\n",
            " |      a.squeeze(axis=None)\n",
            " |      \n",
            " |      Remove axes of length one from `a`.\n",
            " |      \n",
            " |      Refer to `numpy.squeeze` for full documentation.\n",
            " |      \n",
            " |      See Also\n",
            " |      --------\n",
            " |      numpy.squeeze : equivalent function\n",
            " |  \n",
            " |  std(...)\n",
            " |      a.std(axis=None, dtype=None, out=None, ddof=0, keepdims=False, *, where=True)\n",
            " |      \n",
            " |      Returns the standard deviation of the array elements along given axis.\n",
            " |      \n",
            " |      Refer to `numpy.std` for full documentation.\n",
            " |      \n",
            " |      See Also\n",
            " |      --------\n",
            " |      numpy.std : equivalent function\n",
            " |  \n",
            " |  sum(...)\n",
            " |      a.sum(axis=None, dtype=None, out=None, keepdims=False, initial=0, where=True)\n",
            " |      \n",
            " |      Return the sum of the array elements over the given axis.\n",
            " |      \n",
            " |      Refer to `numpy.sum` for full documentation.\n",
            " |      \n",
            " |      See Also\n",
            " |      --------\n",
            " |      numpy.sum : equivalent function\n",
            " |  \n",
            " |  swapaxes(...)\n",
            " |      a.swapaxes(axis1, axis2)\n",
            " |      \n",
            " |      Return a view of the array with `axis1` and `axis2` interchanged.\n",
            " |      \n",
            " |      Refer to `numpy.swapaxes` for full documentation.\n",
            " |      \n",
            " |      See Also\n",
            " |      --------\n",
            " |      numpy.swapaxes : equivalent function\n",
            " |  \n",
            " |  take(...)\n",
            " |      a.take(indices, axis=None, out=None, mode='raise')\n",
            " |      \n",
            " |      Return an array formed from the elements of `a` at the given indices.\n",
            " |      \n",
            " |      Refer to `numpy.take` for full documentation.\n",
            " |      \n",
            " |      See Also\n",
            " |      --------\n",
            " |      numpy.take : equivalent function\n",
            " |  \n",
            " |  tobytes(...)\n",
            " |      a.tobytes(order='C')\n",
            " |      \n",
            " |      Construct Python bytes containing the raw data bytes in the array.\n",
            " |      \n",
            " |      Constructs Python bytes showing a copy of the raw contents of\n",
            " |      data memory. The bytes object is produced in C-order by default.\n",
            " |      This behavior is controlled by the ``order`` parameter.\n",
            " |      \n",
            " |      .. versionadded:: 1.9.0\n",
            " |      \n",
            " |      Parameters\n",
            " |      ----------\n",
            " |      order : {'C', 'F', 'A'}, optional\n",
            " |          Controls the memory layout of the bytes object. 'C' means C-order,\n",
            " |          'F' means F-order, 'A' (short for *Any*) means 'F' if `a` is\n",
            " |          Fortran contiguous, 'C' otherwise. Default is 'C'.\n",
            " |      \n",
            " |      Returns\n",
            " |      -------\n",
            " |      s : bytes\n",
            " |          Python bytes exhibiting a copy of `a`'s raw data.\n",
            " |      \n",
            " |      See also\n",
            " |      --------\n",
            " |      frombuffer\n",
            " |          Inverse of this operation, construct a 1-dimensional array from Python\n",
            " |          bytes.\n",
            " |      \n",
            " |      Examples\n",
            " |      --------\n",
            " |      >>> x = np.array([[0, 1], [2, 3]], dtype='<u2')\n",
            " |      >>> x.tobytes()\n",
            " |      b'\\x00\\x00\\x01\\x00\\x02\\x00\\x03\\x00'\n",
            " |      >>> x.tobytes('C') == x.tobytes()\n",
            " |      True\n",
            " |      >>> x.tobytes('F')\n",
            " |      b'\\x00\\x00\\x02\\x00\\x01\\x00\\x03\\x00'\n",
            " |  \n",
            " |  tofile(...)\n",
            " |      a.tofile(fid, sep=\"\", format=\"%s\")\n",
            " |      \n",
            " |      Write array to a file as text or binary (default).\n",
            " |      \n",
            " |      Data is always written in 'C' order, independent of the order of `a`.\n",
            " |      The data produced by this method can be recovered using the function\n",
            " |      fromfile().\n",
            " |      \n",
            " |      Parameters\n",
            " |      ----------\n",
            " |      fid : file or str or Path\n",
            " |          An open file object, or a string containing a filename.\n",
            " |      \n",
            " |          .. versionchanged:: 1.17.0\n",
            " |              `pathlib.Path` objects are now accepted.\n",
            " |      \n",
            " |      sep : str\n",
            " |          Separator between array items for text output.\n",
            " |          If \"\" (empty), a binary file is written, equivalent to\n",
            " |          ``file.write(a.tobytes())``.\n",
            " |      format : str\n",
            " |          Format string for text file output.\n",
            " |          Each entry in the array is formatted to text by first converting\n",
            " |          it to the closest Python type, and then using \"format\" % item.\n",
            " |      \n",
            " |      Notes\n",
            " |      -----\n",
            " |      This is a convenience function for quick storage of array data.\n",
            " |      Information on endianness and precision is lost, so this method is not a\n",
            " |      good choice for files intended to archive data or transport data between\n",
            " |      machines with different endianness. Some of these problems can be overcome\n",
            " |      by outputting the data as text files, at the expense of speed and file\n",
            " |      size.\n",
            " |      \n",
            " |      When fid is a file object, array contents are directly written to the\n",
            " |      file, bypassing the file object's ``write`` method. As a result, tofile\n",
            " |      cannot be used with files objects supporting compression (e.g., GzipFile)\n",
            " |      or file-like objects that do not support ``fileno()`` (e.g., BytesIO).\n",
            " |  \n",
            " |  tolist(...)\n",
            " |      a.tolist()\n",
            " |      \n",
            " |      Return the array as an ``a.ndim``-levels deep nested list of Python scalars.\n",
            " |      \n",
            " |      Return a copy of the array data as a (nested) Python list.\n",
            " |      Data items are converted to the nearest compatible builtin Python type, via\n",
            " |      the `~numpy.ndarray.item` function.\n",
            " |      \n",
            " |      If ``a.ndim`` is 0, then since the depth of the nested list is 0, it will\n",
            " |      not be a list at all, but a simple Python scalar.\n",
            " |      \n",
            " |      Parameters\n",
            " |      ----------\n",
            " |      none\n",
            " |      \n",
            " |      Returns\n",
            " |      -------\n",
            " |      y : object, or list of object, or list of list of object, or ...\n",
            " |          The possibly nested list of array elements.\n",
            " |      \n",
            " |      Notes\n",
            " |      -----\n",
            " |      The array may be recreated via ``a = np.array(a.tolist())``, although this\n",
            " |      may sometimes lose precision.\n",
            " |      \n",
            " |      Examples\n",
            " |      --------\n",
            " |      For a 1D array, ``a.tolist()`` is almost the same as ``list(a)``,\n",
            " |      except that ``tolist`` changes numpy scalars to Python scalars:\n",
            " |      \n",
            " |      >>> a = np.uint32([1, 2])\n",
            " |      >>> a_list = list(a)\n",
            " |      >>> a_list\n",
            " |      [1, 2]\n",
            " |      >>> type(a_list[0])\n",
            " |      <class 'numpy.uint32'>\n",
            " |      >>> a_tolist = a.tolist()\n",
            " |      >>> a_tolist\n",
            " |      [1, 2]\n",
            " |      >>> type(a_tolist[0])\n",
            " |      <class 'int'>\n",
            " |      \n",
            " |      Additionally, for a 2D array, ``tolist`` applies recursively:\n",
            " |      \n",
            " |      >>> a = np.array([[1, 2], [3, 4]])\n",
            " |      >>> list(a)\n",
            " |      [array([1, 2]), array([3, 4])]\n",
            " |      >>> a.tolist()\n",
            " |      [[1, 2], [3, 4]]\n",
            " |      \n",
            " |      The base case for this recursion is a 0D array:\n",
            " |      \n",
            " |      >>> a = np.array(1)\n",
            " |      >>> list(a)\n",
            " |      Traceback (most recent call last):\n",
            " |        ...\n",
            " |      TypeError: iteration over a 0-d array\n",
            " |      >>> a.tolist()\n",
            " |      1\n",
            " |  \n",
            " |  tostring(...)\n",
            " |      a.tostring(order='C')\n",
            " |      \n",
            " |      A compatibility alias for `tobytes`, with exactly the same behavior.\n",
            " |      \n",
            " |      Despite its name, it returns `bytes` not `str`\\ s.\n",
            " |      \n",
            " |      .. deprecated:: 1.19.0\n",
            " |  \n",
            " |  trace(...)\n",
            " |      a.trace(offset=0, axis1=0, axis2=1, dtype=None, out=None)\n",
            " |      \n",
            " |      Return the sum along diagonals of the array.\n",
            " |      \n",
            " |      Refer to `numpy.trace` for full documentation.\n",
            " |      \n",
            " |      See Also\n",
            " |      --------\n",
            " |      numpy.trace : equivalent function\n",
            " |  \n",
            " |  transpose(...)\n",
            " |      a.transpose(*axes)\n",
            " |      \n",
            " |      Returns a view of the array with axes transposed.\n",
            " |      \n",
            " |      Refer to `numpy.transpose` for full documentation.\n",
            " |      \n",
            " |      Parameters\n",
            " |      ----------\n",
            " |      axes : None, tuple of ints, or `n` ints\n",
            " |      \n",
            " |       * None or no argument: reverses the order of the axes.\n",
            " |      \n",
            " |       * tuple of ints: `i` in the `j`-th place in the tuple means that the\n",
            " |         array's `i`-th axis becomes the transposed array's `j`-th axis.\n",
            " |      \n",
            " |       * `n` ints: same as an n-tuple of the same ints (this form is\n",
            " |         intended simply as a \"convenience\" alternative to the tuple form).\n",
            " |      \n",
            " |      Returns\n",
            " |      -------\n",
            " |      p : ndarray\n",
            " |          View of the array with its axes suitably permuted.\n",
            " |      \n",
            " |      See Also\n",
            " |      --------\n",
            " |      transpose : Equivalent function.\n",
            " |      ndarray.T : Array property returning the array transposed.\n",
            " |      ndarray.reshape : Give a new shape to an array without changing its data.\n",
            " |      \n",
            " |      Examples\n",
            " |      --------\n",
            " |      >>> a = np.array([[1, 2], [3, 4]])\n",
            " |      >>> a\n",
            " |      array([[1, 2],\n",
            " |             [3, 4]])\n",
            " |      >>> a.transpose()\n",
            " |      array([[1, 3],\n",
            " |             [2, 4]])\n",
            " |      >>> a.transpose((1, 0))\n",
            " |      array([[1, 3],\n",
            " |             [2, 4]])\n",
            " |      >>> a.transpose(1, 0)\n",
            " |      array([[1, 3],\n",
            " |             [2, 4]])\n",
            " |      \n",
            " |      >>> a = np.array([1, 2, 3, 4])\n",
            " |      >>> a\n",
            " |      array([1, 2, 3, 4])\n",
            " |      >>> a.transpose()\n",
            " |      array([1, 2, 3, 4])\n",
            " |  \n",
            " |  var(...)\n",
            " |      a.var(axis=None, dtype=None, out=None, ddof=0, keepdims=False, *, where=True)\n",
            " |      \n",
            " |      Returns the variance of the array elements, along given axis.\n",
            " |      \n",
            " |      Refer to `numpy.var` for full documentation.\n",
            " |      \n",
            " |      See Also\n",
            " |      --------\n",
            " |      numpy.var : equivalent function\n",
            " |  \n",
            " |  view(...)\n",
            " |      a.view([dtype][, type])\n",
            " |      \n",
            " |      New view of array with the same data.\n",
            " |      \n",
            " |      .. note::\n",
            " |          Passing None for ``dtype`` is different from omitting the parameter,\n",
            " |          since the former invokes ``dtype(None)`` which is an alias for\n",
            " |          ``dtype('float_')``.\n",
            " |      \n",
            " |      Parameters\n",
            " |      ----------\n",
            " |      dtype : data-type or ndarray sub-class, optional\n",
            " |          Data-type descriptor of the returned view, e.g., float32 or int16.\n",
            " |          Omitting it results in the view having the same data-type as `a`.\n",
            " |          This argument can also be specified as an ndarray sub-class, which\n",
            " |          then specifies the type of the returned object (this is equivalent to\n",
            " |          setting the ``type`` parameter).\n",
            " |      type : Python type, optional\n",
            " |          Type of the returned view, e.g., ndarray or matrix.  Again, omission\n",
            " |          of the parameter results in type preservation.\n",
            " |      \n",
            " |      Notes\n",
            " |      -----\n",
            " |      ``a.view()`` is used two different ways:\n",
            " |      \n",
            " |      ``a.view(some_dtype)`` or ``a.view(dtype=some_dtype)`` constructs a view\n",
            " |      of the array's memory with a different data-type.  This can cause a\n",
            " |      reinterpretation of the bytes of memory.\n",
            " |      \n",
            " |      ``a.view(ndarray_subclass)`` or ``a.view(type=ndarray_subclass)`` just\n",
            " |      returns an instance of `ndarray_subclass` that looks at the same array\n",
            " |      (same shape, dtype, etc.)  This does not cause a reinterpretation of the\n",
            " |      memory.\n",
            " |      \n",
            " |      For ``a.view(some_dtype)``, if ``some_dtype`` has a different number of\n",
            " |      bytes per entry than the previous dtype (for example, converting a regular\n",
            " |      array to a structured array), then the last axis of ``a`` must be\n",
            " |      contiguous. This axis will be resized in the result.\n",
            " |      \n",
            " |      .. versionchanged:: 1.23.0\n",
            " |         Only the last axis needs to be contiguous. Previously, the entire array\n",
            " |         had to be C-contiguous.\n",
            " |      \n",
            " |      Examples\n",
            " |      --------\n",
            " |      >>> x = np.array([(1, 2)], dtype=[('a', np.int8), ('b', np.int8)])\n",
            " |      \n",
            " |      Viewing array data using a different type and dtype:\n",
            " |      \n",
            " |      >>> y = x.view(dtype=np.int16, type=np.matrix)\n",
            " |      >>> y\n",
            " |      matrix([[513]], dtype=int16)\n",
            " |      >>> print(type(y))\n",
            " |      <class 'numpy.matrix'>\n",
            " |      \n",
            " |      Creating a view on a structured array so it can be used in calculations\n",
            " |      \n",
            " |      >>> x = np.array([(1, 2),(3,4)], dtype=[('a', np.int8), ('b', np.int8)])\n",
            " |      >>> xv = x.view(dtype=np.int8).reshape(-1,2)\n",
            " |      >>> xv\n",
            " |      array([[1, 2],\n",
            " |             [3, 4]], dtype=int8)\n",
            " |      >>> xv.mean(0)\n",
            " |      array([2.,  3.])\n",
            " |      \n",
            " |      Making changes to the view changes the underlying array\n",
            " |      \n",
            " |      >>> xv[0,1] = 20\n",
            " |      >>> x\n",
            " |      array([(1, 20), (3,  4)], dtype=[('a', 'i1'), ('b', 'i1')])\n",
            " |      \n",
            " |      Using a view to convert an array to a recarray:\n",
            " |      \n",
            " |      >>> z = x.view(np.recarray)\n",
            " |      >>> z.a\n",
            " |      array([1, 3], dtype=int8)\n",
            " |      \n",
            " |      Views share data:\n",
            " |      \n",
            " |      >>> x[0] = (9, 10)\n",
            " |      >>> z[0]\n",
            " |      (9, 10)\n",
            " |      \n",
            " |      Views that change the dtype size (bytes per entry) should normally be\n",
            " |      avoided on arrays defined by slices, transposes, fortran-ordering, etc.:\n",
            " |      \n",
            " |      >>> x = np.array([[1, 2, 3], [4, 5, 6]], dtype=np.int16)\n",
            " |      >>> y = x[:, ::2]\n",
            " |      >>> y\n",
            " |      array([[1, 3],\n",
            " |             [4, 6]], dtype=int16)\n",
            " |      >>> y.view(dtype=[('width', np.int16), ('length', np.int16)])\n",
            " |      Traceback (most recent call last):\n",
            " |          ...\n",
            " |      ValueError: To change to a dtype of a different size, the last axis must be contiguous\n",
            " |      >>> z = y.copy()\n",
            " |      >>> z.view(dtype=[('width', np.int16), ('length', np.int16)])\n",
            " |      array([[(1, 3)],\n",
            " |             [(4, 6)]], dtype=[('width', '<i2'), ('length', '<i2')])\n",
            " |      \n",
            " |      However, views that change dtype are totally fine for arrays with a\n",
            " |      contiguous last axis, even if the rest of the axes are not C-contiguous:\n",
            " |      \n",
            " |      >>> x = np.arange(2 * 3 * 4, dtype=np.int8).reshape(2, 3, 4)\n",
            " |      >>> x.transpose(1, 0, 2).view(np.int16)\n",
            " |      array([[[ 256,  770],\n",
            " |              [3340, 3854]],\n",
            " |      <BLANKLINE>\n",
            " |             [[1284, 1798],\n",
            " |              [4368, 4882]],\n",
            " |      <BLANKLINE>\n",
            " |             [[2312, 2826],\n",
            " |              [5396, 5910]]], dtype=int16)\n",
            " |  \n",
            " |  ----------------------------------------------------------------------\n",
            " |  Class methods defined here:\n",
            " |  \n",
            " |  __class_getitem__(...) from builtins.type\n",
            " |      a.__class_getitem__(item, /)\n",
            " |      \n",
            " |      Return a parametrized wrapper around the `~numpy.ndarray` type.\n",
            " |      \n",
            " |      .. versionadded:: 1.22\n",
            " |      \n",
            " |      Returns\n",
            " |      -------\n",
            " |      alias : types.GenericAlias\n",
            " |          A parametrized `~numpy.ndarray` type.\n",
            " |      \n",
            " |      Examples\n",
            " |      --------\n",
            " |      >>> from typing import Any\n",
            " |      >>> import numpy as np\n",
            " |      \n",
            " |      >>> np.ndarray[Any, np.dtype[Any]]\n",
            " |      numpy.ndarray[typing.Any, numpy.dtype[typing.Any]]\n",
            " |      \n",
            " |      See Also\n",
            " |      --------\n",
            " |      :pep:`585` : Type hinting generics in standard collections.\n",
            " |      numpy.typing.NDArray : An ndarray alias :term:`generic <generic type>`\n",
            " |                          w.r.t. its `dtype.type <numpy.dtype.type>`.\n",
            " |  \n",
            " |  ----------------------------------------------------------------------\n",
            " |  Static methods defined here:\n",
            " |  \n",
            " |  __new__(*args, **kwargs) from builtins.type\n",
            " |      Create and return a new object.  See help(type) for accurate signature.\n",
            " |  \n",
            " |  ----------------------------------------------------------------------\n",
            " |  Data descriptors defined here:\n",
            " |  \n",
            " |  T\n",
            " |      View of the transposed array.\n",
            " |      \n",
            " |      Same as ``self.transpose()``.\n",
            " |      \n",
            " |      Examples\n",
            " |      --------\n",
            " |      >>> a = np.array([[1, 2], [3, 4]])\n",
            " |      >>> a\n",
            " |      array([[1, 2],\n",
            " |             [3, 4]])\n",
            " |      >>> a.T\n",
            " |      array([[1, 3],\n",
            " |             [2, 4]])\n",
            " |      \n",
            " |      >>> a = np.array([1, 2, 3, 4])\n",
            " |      >>> a\n",
            " |      array([1, 2, 3, 4])\n",
            " |      >>> a.T\n",
            " |      array([1, 2, 3, 4])\n",
            " |      \n",
            " |      See Also\n",
            " |      --------\n",
            " |      transpose\n",
            " |  \n",
            " |  __array_interface__\n",
            " |      Array protocol: Python side.\n",
            " |  \n",
            " |  __array_priority__\n",
            " |      Array priority.\n",
            " |  \n",
            " |  __array_struct__\n",
            " |      Array protocol: C-struct side.\n",
            " |  \n",
            " |  base\n",
            " |      Base object if memory is from some other object.\n",
            " |      \n",
            " |      Examples\n",
            " |      --------\n",
            " |      The base of an array that owns its memory is None:\n",
            " |      \n",
            " |      >>> x = np.array([1,2,3,4])\n",
            " |      >>> x.base is None\n",
            " |      True\n",
            " |      \n",
            " |      Slicing creates a view, whose memory is shared with x:\n",
            " |      \n",
            " |      >>> y = x[2:]\n",
            " |      >>> y.base is x\n",
            " |      True\n",
            " |  \n",
            " |  ctypes\n",
            " |      An object to simplify the interaction of the array with the ctypes\n",
            " |      module.\n",
            " |      \n",
            " |      This attribute creates an object that makes it easier to use arrays\n",
            " |      when calling shared libraries with the ctypes module. The returned\n",
            " |      object has, among others, data, shape, and strides attributes (see\n",
            " |      Notes below) which themselves return ctypes objects that can be used\n",
            " |      as arguments to a shared library.\n",
            " |      \n",
            " |      Parameters\n",
            " |      ----------\n",
            " |      None\n",
            " |      \n",
            " |      Returns\n",
            " |      -------\n",
            " |      c : Python object\n",
            " |          Possessing attributes data, shape, strides, etc.\n",
            " |      \n",
            " |      See Also\n",
            " |      --------\n",
            " |      numpy.ctypeslib\n",
            " |      \n",
            " |      Notes\n",
            " |      -----\n",
            " |      Below are the public attributes of this object which were documented\n",
            " |      in \"Guide to NumPy\" (we have omitted undocumented public attributes,\n",
            " |      as well as documented private attributes):\n",
            " |      \n",
            " |      .. autoattribute:: numpy.core._internal._ctypes.data\n",
            " |          :noindex:\n",
            " |      \n",
            " |      .. autoattribute:: numpy.core._internal._ctypes.shape\n",
            " |          :noindex:\n",
            " |      \n",
            " |      .. autoattribute:: numpy.core._internal._ctypes.strides\n",
            " |          :noindex:\n",
            " |      \n",
            " |      .. automethod:: numpy.core._internal._ctypes.data_as\n",
            " |          :noindex:\n",
            " |      \n",
            " |      .. automethod:: numpy.core._internal._ctypes.shape_as\n",
            " |          :noindex:\n",
            " |      \n",
            " |      .. automethod:: numpy.core._internal._ctypes.strides_as\n",
            " |          :noindex:\n",
            " |      \n",
            " |      If the ctypes module is not available, then the ctypes attribute\n",
            " |      of array objects still returns something useful, but ctypes objects\n",
            " |      are not returned and errors may be raised instead. In particular,\n",
            " |      the object will still have the ``as_parameter`` attribute which will\n",
            " |      return an integer equal to the data attribute.\n",
            " |      \n",
            " |      Examples\n",
            " |      --------\n",
            " |      >>> import ctypes\n",
            " |      >>> x = np.array([[0, 1], [2, 3]], dtype=np.int32)\n",
            " |      >>> x\n",
            " |      array([[0, 1],\n",
            " |             [2, 3]], dtype=int32)\n",
            " |      >>> x.ctypes.data\n",
            " |      31962608 # may vary\n",
            " |      >>> x.ctypes.data_as(ctypes.POINTER(ctypes.c_uint32))\n",
            " |      <__main__.LP_c_uint object at 0x7ff2fc1fc200> # may vary\n",
            " |      >>> x.ctypes.data_as(ctypes.POINTER(ctypes.c_uint32)).contents\n",
            " |      c_uint(0)\n",
            " |      >>> x.ctypes.data_as(ctypes.POINTER(ctypes.c_uint64)).contents\n",
            " |      c_ulong(4294967296)\n",
            " |      >>> x.ctypes.shape\n",
            " |      <numpy.core._internal.c_long_Array_2 object at 0x7ff2fc1fce60> # may vary\n",
            " |      >>> x.ctypes.strides\n",
            " |      <numpy.core._internal.c_long_Array_2 object at 0x7ff2fc1ff320> # may vary\n",
            " |  \n",
            " |  data\n",
            " |      Python buffer object pointing to the start of the array's data.\n",
            " |  \n",
            " |  dtype\n",
            " |      Data-type of the array's elements.\n",
            " |      \n",
            " |      .. warning::\n",
            " |      \n",
            " |          Setting ``arr.dtype`` is discouraged and may be deprecated in the\n",
            " |          future.  Setting will replace the ``dtype`` without modifying the\n",
            " |          memory (see also `ndarray.view` and `ndarray.astype`).\n",
            " |      \n",
            " |      Parameters\n",
            " |      ----------\n",
            " |      None\n",
            " |      \n",
            " |      Returns\n",
            " |      -------\n",
            " |      d : numpy dtype object\n",
            " |      \n",
            " |      See Also\n",
            " |      --------\n",
            " |      ndarray.astype : Cast the values contained in the array to a new data-type.\n",
            " |      ndarray.view : Create a view of the same data but a different data-type.\n",
            " |      numpy.dtype\n",
            " |      \n",
            " |      Examples\n",
            " |      --------\n",
            " |      >>> x\n",
            " |      array([[0, 1],\n",
            " |             [2, 3]])\n",
            " |      >>> x.dtype\n",
            " |      dtype('int32')\n",
            " |      >>> type(x.dtype)\n",
            " |      <type 'numpy.dtype'>\n",
            " |  \n",
            " |  flags\n",
            " |      Information about the memory layout of the array.\n",
            " |      \n",
            " |      Attributes\n",
            " |      ----------\n",
            " |      C_CONTIGUOUS (C)\n",
            " |          The data is in a single, C-style contiguous segment.\n",
            " |      F_CONTIGUOUS (F)\n",
            " |          The data is in a single, Fortran-style contiguous segment.\n",
            " |      OWNDATA (O)\n",
            " |          The array owns the memory it uses or borrows it from another object.\n",
            " |      WRITEABLE (W)\n",
            " |          The data area can be written to.  Setting this to False locks\n",
            " |          the data, making it read-only.  A view (slice, etc.) inherits WRITEABLE\n",
            " |          from its base array at creation time, but a view of a writeable\n",
            " |          array may be subsequently locked while the base array remains writeable.\n",
            " |          (The opposite is not true, in that a view of a locked array may not\n",
            " |          be made writeable.  However, currently, locking a base object does not\n",
            " |          lock any views that already reference it, so under that circumstance it\n",
            " |          is possible to alter the contents of a locked array via a previously\n",
            " |          created writeable view onto it.)  Attempting to change a non-writeable\n",
            " |          array raises a RuntimeError exception.\n",
            " |      ALIGNED (A)\n",
            " |          The data and all elements are aligned appropriately for the hardware.\n",
            " |      WRITEBACKIFCOPY (X)\n",
            " |          This array is a copy of some other array. The C-API function\n",
            " |          PyArray_ResolveWritebackIfCopy must be called before deallocating\n",
            " |          to the base array will be updated with the contents of this array.\n",
            " |      FNC\n",
            " |          F_CONTIGUOUS and not C_CONTIGUOUS.\n",
            " |      FORC\n",
            " |          F_CONTIGUOUS or C_CONTIGUOUS (one-segment test).\n",
            " |      BEHAVED (B)\n",
            " |          ALIGNED and WRITEABLE.\n",
            " |      CARRAY (CA)\n",
            " |          BEHAVED and C_CONTIGUOUS.\n",
            " |      FARRAY (FA)\n",
            " |          BEHAVED and F_CONTIGUOUS and not C_CONTIGUOUS.\n",
            " |      \n",
            " |      Notes\n",
            " |      -----\n",
            " |      The `flags` object can be accessed dictionary-like (as in ``a.flags['WRITEABLE']``),\n",
            " |      or by using lowercased attribute names (as in ``a.flags.writeable``). Short flag\n",
            " |      names are only supported in dictionary access.\n",
            " |      \n",
            " |      Only the WRITEBACKIFCOPY, WRITEABLE, and ALIGNED flags can be\n",
            " |      changed by the user, via direct assignment to the attribute or dictionary\n",
            " |      entry, or by calling `ndarray.setflags`.\n",
            " |      \n",
            " |      The array flags cannot be set arbitrarily:\n",
            " |      \n",
            " |      - WRITEBACKIFCOPY can only be set ``False``.\n",
            " |      - ALIGNED can only be set ``True`` if the data is truly aligned.\n",
            " |      - WRITEABLE can only be set ``True`` if the array owns its own memory\n",
            " |        or the ultimate owner of the memory exposes a writeable buffer\n",
            " |        interface or is a string.\n",
            " |      \n",
            " |      Arrays can be both C-style and Fortran-style contiguous simultaneously.\n",
            " |      This is clear for 1-dimensional arrays, but can also be true for higher\n",
            " |      dimensional arrays.\n",
            " |      \n",
            " |      Even for contiguous arrays a stride for a given dimension\n",
            " |      ``arr.strides[dim]`` may be *arbitrary* if ``arr.shape[dim] == 1``\n",
            " |      or the array has no elements.\n",
            " |      It does *not* generally hold that ``self.strides[-1] == self.itemsize``\n",
            " |      for C-style contiguous arrays or ``self.strides[0] == self.itemsize`` for\n",
            " |      Fortran-style contiguous arrays is true.\n",
            " |  \n",
            " |  flat\n",
            " |      A 1-D iterator over the array.\n",
            " |      \n",
            " |      This is a `numpy.flatiter` instance, which acts similarly to, but is not\n",
            " |      a subclass of, Python's built-in iterator object.\n",
            " |      \n",
            " |      See Also\n",
            " |      --------\n",
            " |      flatten : Return a copy of the array collapsed into one dimension.\n",
            " |      \n",
            " |      flatiter\n",
            " |      \n",
            " |      Examples\n",
            " |      --------\n",
            " |      >>> x = np.arange(1, 7).reshape(2, 3)\n",
            " |      >>> x\n",
            " |      array([[1, 2, 3],\n",
            " |             [4, 5, 6]])\n",
            " |      >>> x.flat[3]\n",
            " |      4\n",
            " |      >>> x.T\n",
            " |      array([[1, 4],\n",
            " |             [2, 5],\n",
            " |             [3, 6]])\n",
            " |      >>> x.T.flat[3]\n",
            " |      5\n",
            " |      >>> type(x.flat)\n",
            " |      <class 'numpy.flatiter'>\n",
            " |      \n",
            " |      An assignment example:\n",
            " |      \n",
            " |      >>> x.flat = 3; x\n",
            " |      array([[3, 3, 3],\n",
            " |             [3, 3, 3]])\n",
            " |      >>> x.flat[[1,4]] = 1; x\n",
            " |      array([[3, 1, 3],\n",
            " |             [3, 1, 3]])\n",
            " |  \n",
            " |  imag\n",
            " |      The imaginary part of the array.\n",
            " |      \n",
            " |      Examples\n",
            " |      --------\n",
            " |      >>> x = np.sqrt([1+0j, 0+1j])\n",
            " |      >>> x.imag\n",
            " |      array([ 0.        ,  0.70710678])\n",
            " |      >>> x.imag.dtype\n",
            " |      dtype('float64')\n",
            " |  \n",
            " |  itemsize\n",
            " |      Length of one array element in bytes.\n",
            " |      \n",
            " |      Examples\n",
            " |      --------\n",
            " |      >>> x = np.array([1,2,3], dtype=np.float64)\n",
            " |      >>> x.itemsize\n",
            " |      8\n",
            " |      >>> x = np.array([1,2,3], dtype=np.complex128)\n",
            " |      >>> x.itemsize\n",
            " |      16\n",
            " |  \n",
            " |  nbytes\n",
            " |      Total bytes consumed by the elements of the array.\n",
            " |      \n",
            " |      Notes\n",
            " |      -----\n",
            " |      Does not include memory consumed by non-element attributes of the\n",
            " |      array object.\n",
            " |      \n",
            " |      See Also\n",
            " |      --------\n",
            " |      sys.getsizeof\n",
            " |          Memory consumed by the object itself without parents in case view.\n",
            " |          This does include memory consumed by non-element attributes.\n",
            " |      \n",
            " |      Examples\n",
            " |      --------\n",
            " |      >>> x = np.zeros((3,5,2), dtype=np.complex128)\n",
            " |      >>> x.nbytes\n",
            " |      480\n",
            " |      >>> np.prod(x.shape) * x.itemsize\n",
            " |      480\n",
            " |  \n",
            " |  ndim\n",
            " |      Number of array dimensions.\n",
            " |      \n",
            " |      Examples\n",
            " |      --------\n",
            " |      >>> x = np.array([1, 2, 3])\n",
            " |      >>> x.ndim\n",
            " |      1\n",
            " |      >>> y = np.zeros((2, 3, 4))\n",
            " |      >>> y.ndim\n",
            " |      3\n",
            " |  \n",
            " |  real\n",
            " |      The real part of the array.\n",
            " |      \n",
            " |      Examples\n",
            " |      --------\n",
            " |      >>> x = np.sqrt([1+0j, 0+1j])\n",
            " |      >>> x.real\n",
            " |      array([ 1.        ,  0.70710678])\n",
            " |      >>> x.real.dtype\n",
            " |      dtype('float64')\n",
            " |      \n",
            " |      See Also\n",
            " |      --------\n",
            " |      numpy.real : equivalent function\n",
            " |  \n",
            " |  shape\n",
            " |      Tuple of array dimensions.\n",
            " |      \n",
            " |      The shape property is usually used to get the current shape of an array,\n",
            " |      but may also be used to reshape the array in-place by assigning a tuple of\n",
            " |      array dimensions to it.  As with `numpy.reshape`, one of the new shape\n",
            " |      dimensions can be -1, in which case its value is inferred from the size of\n",
            " |      the array and the remaining dimensions. Reshaping an array in-place will\n",
            " |      fail if a copy is required.\n",
            " |      \n",
            " |      .. warning::\n",
            " |      \n",
            " |          Setting ``arr.shape`` is discouraged and may be deprecated in the\n",
            " |          future.  Using `ndarray.reshape` is the preferred approach.\n",
            " |      \n",
            " |      Examples\n",
            " |      --------\n",
            " |      >>> x = np.array([1, 2, 3, 4])\n",
            " |      >>> x.shape\n",
            " |      (4,)\n",
            " |      >>> y = np.zeros((2, 3, 4))\n",
            " |      >>> y.shape\n",
            " |      (2, 3, 4)\n",
            " |      >>> y.shape = (3, 8)\n",
            " |      >>> y\n",
            " |      array([[ 0.,  0.,  0.,  0.,  0.,  0.,  0.,  0.],\n",
            " |             [ 0.,  0.,  0.,  0.,  0.,  0.,  0.,  0.],\n",
            " |             [ 0.,  0.,  0.,  0.,  0.,  0.,  0.,  0.]])\n",
            " |      >>> y.shape = (3, 6)\n",
            " |      Traceback (most recent call last):\n",
            " |        File \"<stdin>\", line 1, in <module>\n",
            " |      ValueError: total size of new array must be unchanged\n",
            " |      >>> np.zeros((4,2))[::2].shape = (-1,)\n",
            " |      Traceback (most recent call last):\n",
            " |        File \"<stdin>\", line 1, in <module>\n",
            " |      AttributeError: Incompatible shape for in-place modification. Use\n",
            " |      `.reshape()` to make a copy with the desired shape.\n",
            " |      \n",
            " |      See Also\n",
            " |      --------\n",
            " |      numpy.shape : Equivalent getter function.\n",
            " |      numpy.reshape : Function similar to setting ``shape``.\n",
            " |      ndarray.reshape : Method similar to setting ``shape``.\n",
            " |  \n",
            " |  size\n",
            " |      Number of elements in the array.\n",
            " |      \n",
            " |      Equal to ``np.prod(a.shape)``, i.e., the product of the array's\n",
            " |      dimensions.\n",
            " |      \n",
            " |      Notes\n",
            " |      -----\n",
            " |      `a.size` returns a standard arbitrary precision Python integer. This\n",
            " |      may not be the case with other methods of obtaining the same value\n",
            " |      (like the suggested ``np.prod(a.shape)``, which returns an instance\n",
            " |      of ``np.int_``), and may be relevant if the value is used further in\n",
            " |      calculations that may overflow a fixed size integer type.\n",
            " |      \n",
            " |      Examples\n",
            " |      --------\n",
            " |      >>> x = np.zeros((3, 5, 2), dtype=np.complex128)\n",
            " |      >>> x.size\n",
            " |      30\n",
            " |      >>> np.prod(x.shape)\n",
            " |      30\n",
            " |  \n",
            " |  strides\n",
            " |      Tuple of bytes to step in each dimension when traversing an array.\n",
            " |      \n",
            " |      The byte offset of element ``(i[0], i[1], ..., i[n])`` in an array `a`\n",
            " |      is::\n",
            " |      \n",
            " |          offset = sum(np.array(i) * a.strides)\n",
            " |      \n",
            " |      A more detailed explanation of strides can be found in the\n",
            " |      \"ndarray.rst\" file in the NumPy reference guide.\n",
            " |      \n",
            " |      .. warning::\n",
            " |      \n",
            " |          Setting ``arr.strides`` is discouraged and may be deprecated in the\n",
            " |          future.  `numpy.lib.stride_tricks.as_strided` should be preferred\n",
            " |          to create a new view of the same data in a safer way.\n",
            " |      \n",
            " |      Notes\n",
            " |      -----\n",
            " |      Imagine an array of 32-bit integers (each 4 bytes)::\n",
            " |      \n",
            " |        x = np.array([[0, 1, 2, 3, 4],\n",
            " |                      [5, 6, 7, 8, 9]], dtype=np.int32)\n",
            " |      \n",
            " |      This array is stored in memory as 40 bytes, one after the other\n",
            " |      (known as a contiguous block of memory).  The strides of an array tell\n",
            " |      us how many bytes we have to skip in memory to move to the next position\n",
            " |      along a certain axis.  For example, we have to skip 4 bytes (1 value) to\n",
            " |      move to the next column, but 20 bytes (5 values) to get to the same\n",
            " |      position in the next row.  As such, the strides for the array `x` will be\n",
            " |      ``(20, 4)``.\n",
            " |      \n",
            " |      See Also\n",
            " |      --------\n",
            " |      numpy.lib.stride_tricks.as_strided\n",
            " |      \n",
            " |      Examples\n",
            " |      --------\n",
            " |      >>> y = np.reshape(np.arange(2*3*4), (2,3,4))\n",
            " |      >>> y\n",
            " |      array([[[ 0,  1,  2,  3],\n",
            " |              [ 4,  5,  6,  7],\n",
            " |              [ 8,  9, 10, 11]],\n",
            " |             [[12, 13, 14, 15],\n",
            " |              [16, 17, 18, 19],\n",
            " |              [20, 21, 22, 23]]])\n",
            " |      >>> y.strides\n",
            " |      (48, 16, 4)\n",
            " |      >>> y[1,1,1]\n",
            " |      17\n",
            " |      >>> offset=sum(y.strides * np.array((1,1,1)))\n",
            " |      >>> offset/y.itemsize\n",
            " |      17\n",
            " |      \n",
            " |      >>> x = np.reshape(np.arange(5*6*7*8), (5,6,7,8)).transpose(2,3,1,0)\n",
            " |      >>> x.strides\n",
            " |      (32, 4, 224, 1344)\n",
            " |      >>> i = np.array([3,5,2,2])\n",
            " |      >>> offset = sum(i * x.strides)\n",
            " |      >>> x[3,5,2,2]\n",
            " |      813\n",
            " |      >>> offset / x.itemsize\n",
            " |      813\n",
            " |  \n",
            " |  ----------------------------------------------------------------------\n",
            " |  Data and other attributes defined here:\n",
            " |  \n",
            " |  __hash__ = None\n",
            "\n"
          ]
        }
      ],
      "source": [
        "help(np.ndarray)"
      ]
    },
    {
      "cell_type": "markdown",
      "metadata": {
        "id": "MDUxlnZUdBeh"
      },
      "source": [
        "## `Numpy` tömb létrehozása"
      ]
    },
    {
      "cell_type": "markdown",
      "metadata": {
        "id": "RgHlJ5XvdBeh"
      },
      "source": [
        "\n",
        "Listából, vagy tuple-ból.\n",
        "\n",
        "Nézzük meg mit kapunk ha lista helyett generátorfüggvényt, `map` vagy `range` objektumot adunk meg\n"
      ]
    },
    {
      "cell_type": "code",
      "source": [
        "import numpy as np"
      ],
      "metadata": {
        "id": "dkhDLLbzjJw9"
      },
      "execution_count": 14,
      "outputs": []
    },
    {
      "cell_type": "code",
      "execution_count": 15,
      "metadata": {
        "id": "cTG4cHpmdBei",
        "outputId": "fddc130f-69e5-4d5e-ee11-330343b71762",
        "colab": {
          "base_uri": "https://localhost:8080/"
        }
      },
      "outputs": [
        {
          "output_type": "stream",
          "name": "stdout",
          "text": [
            "x.shape=(3,), x.dtype=dtype('int8'), x.strides=(1,), x.ndim=1\n"
          ]
        }
      ],
      "source": [
        "x = np.array([1,2,3], dtype=np.int8)\n",
        "print(f\"{x.shape=}, {x.dtype=}, {x.strides=}, {x.ndim=}\")"
      ]
    },
    {
      "cell_type": "markdown",
      "metadata": {
        "id": "KHkUu3LZdBei"
      },
      "source": [
        "vagy adott méretű tömböt hozunk létre és azt utólag kitöltjük:"
      ]
    },
    {
      "cell_type": "code",
      "execution_count": 16,
      "metadata": {
        "id": "SaBX1KM3dBei",
        "outputId": "e1529bcd-bd69-4d13-dd15-ecaf5adc5ef1",
        "colab": {
          "base_uri": "https://localhost:8080/"
        }
      },
      "outputs": [
        {
          "output_type": "execute_result",
          "data": {
            "text/plain": [
              "array([[[1, 1, 1, 1, 1, 1, 1, 1, 1, 1, 1, 1],\n",
              "        [1, 1, 1, 1, 1, 1, 1, 1, 1, 1, 1, 1],\n",
              "        [1, 1, 1, 1, 1, 1, 1, 1, 1, 1, 1, 1]],\n",
              "\n",
              "       [[1, 1, 1, 1, 1, 1, 1, 1, 1, 1, 1, 1],\n",
              "        [1, 1, 1, 1, 1, 1, 1, 1, 1, 1, 1, 1],\n",
              "        [1, 1, 1, 1, 1, 1, 1, 1, 1, 1, 1, 1]]], dtype=int32)"
            ]
          },
          "metadata": {},
          "execution_count": 16
        }
      ],
      "source": [
        "# x = np.zeros((2,3,4), dtype=np.float64)\n",
        "x = np.ones((2, 3, 12), dtype=np.int32)\n",
        "\n",
        "x"
      ]
    },
    {
      "cell_type": "code",
      "execution_count": null,
      "metadata": {
        "id": "wAjnQ-y4dBej",
        "outputId": "6b943dcc-323b-45d7-f88a-cb4052e4a321"
      },
      "outputs": [
        {
          "name": "stdout",
          "output_type": "stream",
          "text": [
            "x.shape=(2, 3, 12), x.dtype=dtype('int32'), x.strides=(144, 48, 4), x.ndim=3\n"
          ]
        }
      ],
      "source": [
        "print(f\"{x.shape=}, {x.dtype=}, {x.strides=}, {x.ndim=}\")"
      ]
    },
    {
      "cell_type": "markdown",
      "metadata": {
        "id": "ZCNb5yCcdBej"
      },
      "source": [
        "Véletlen értékekkel feltöltött tömb:"
      ]
    },
    {
      "cell_type": "code",
      "execution_count": 17,
      "metadata": {
        "id": "QgpdzbTRdBek"
      },
      "outputs": [],
      "source": [
        "# találomra választott számok a (0,1)-ből\n",
        "uniform = np.random.uniform(0, 1, size=(10, 10, 10))\n",
        "\n",
        "# Gauss görbe, normális eloszlás\n",
        "\n",
        "gauss = np.random.normal(0, 1, size=(10, 10, 10))\n",
        "\n",
        "# np.random.rand(0, 1, size=(10, 10))"
      ]
    },
    {
      "cell_type": "code",
      "execution_count": 18,
      "metadata": {
        "id": "ygHocWrxdBek"
      },
      "outputs": [],
      "source": [
        "import matplotlib.pyplot as plt\n",
        "import math"
      ]
    },
    {
      "cell_type": "code",
      "execution_count": 19,
      "metadata": {
        "id": "9g1nRFtWdBek",
        "outputId": "d6b5ae31-0b2e-4ddf-f2e6-4a020bdb2202",
        "colab": {
          "base_uri": "https://localhost:8080/",
          "height": 430
        }
      },
      "outputs": [
        {
          "output_type": "display_data",
          "data": {
            "text/plain": [
              "<Figure size 640x480 with 1 Axes>"
            ],
            "image/png": "[encoded data removed]"
          },
          "metadata": {}
        }
      ],
      "source": [
        "sqrt2pi = math.sqrt(2*math.pi)\n",
        "plt.hist(uniform.reshape(-1), density=True, alpha=0.5, label=\"uniform\")\n",
        "plt.hist(gauss.reshape(-1)/sqrt2pi, density=True, alpha=0.5, label=\"Gauss\")\n",
        "plt.legend()\n",
        "plt.show()"
      ]
    },
    {
      "cell_type": "markdown",
      "metadata": {
        "id": "dMuM6IKDdBel"
      },
      "source": [
        "## Műveletek tömbökkel"
      ]
    },
    {
      "cell_type": "markdown",
      "metadata": {
        "id": "1UFBJwQpdBel"
      },
      "source": [
        "### Jellemzők kiolvasása:\n",
        "\n",
        "```\n",
        "x = np.zeros((10,20))\n",
        "```\n",
        "\n",
        "- `x.shape` a tömb méretét adja meg\n",
        "- `x.ndim` a dimenziók száma (`x.shape` hossza)\n",
        "- `x.dtype` a tömb elemeinek típusa\n",
        "- `x.stride`, `x.base`, `x.size` kevésbé érdekes számunkra\n",
        "\n",
        "### Jellemzők megváltoztatása:\n",
        "\n",
        "- `x.astype(np.uint8)` új tömböt ad vissza, amiben nem előjeles 8 bites számok fog lesznek.\n",
        "- `x.reshape(-1)` egy dimenziós tömb az eredmény, a tartalom nem változik.\n",
        "- `x.T` transzponálás, csak a `strides` paramétert változtatja (gyors).\n",
        "- `x.transpose(1,0)` transzponálás másképp.\n",
        "\n",
        "Mit méretű tömböt kapunk a következő sorral? Miért?\n",
        "\n",
        "```python\n",
        "x = np.zeros((10,20))\n",
        "x.reshape((5,2,5,4)).transpose(0,2,1,3).reshape(25, -1)\n",
        "```"
      ]
    },
    {
      "cell_type": "code",
      "source": [
        "x = np.zeros((10,20))\n",
        "x.reshape((5,2,5,4)).transpose(0,2,1,3).reshape(25, -1).shape"
      ],
      "metadata": {
        "id": "-Qq0mx7xl-p-",
        "outputId": "99be4d9d-23c0-4fbc-8cbe-b03e605b1f59",
        "colab": {
          "base_uri": "https://localhost:8080/"
        }
      },
      "execution_count": 20,
      "outputs": [
        {
          "output_type": "execute_result",
          "data": {
            "text/plain": [
              "(25, 8)"
            ]
          },
          "metadata": {},
          "execution_count": 20
        }
      ]
    },
    {
      "cell_type": "code",
      "execution_count": null,
      "metadata": {
        "id": "DameVvZOdBem"
      },
      "outputs": [],
      "source": [
        "import numpy as np"
      ]
    },
    {
      "cell_type": "code",
      "execution_count": 21,
      "metadata": {
        "id": "aTwlxaT8dBen",
        "outputId": "90f328b9-9644-4809-d97f-950d09980ecd",
        "colab": {
          "base_uri": "https://localhost:8080/"
        }
      },
      "outputs": [
        {
          "output_type": "stream",
          "name": "stdout",
          "text": [
            "hex(id(x))='0x7c65b44b0a50', x.shape=(4, 6), x.ndim=2, x.dtype=dtype('float64'), x.strides=(48, 8),  x.base=None, x.data=<memory at 0x7c65b539ea80>\n",
            "hex(id(y))='0x7c65b440b090', y.shape=(24,), y.ndim=1, y.dtype=dtype('float64'), y.strides=(8,),  hex(id(y.base))='0x7c65b44b0a50', y.data=<memory at 0x7c65b46a6380>\n"
          ]
        }
      ],
      "source": [
        "x = np.random.normal(0, 1, (4, 6))\n",
        "print(f\"{hex(id(x))=}, {x.shape=}, {x.ndim=}, {x.dtype=}, {x.strides=},  {x.base=}, {x.data=}\")\n",
        "y = x.reshape(-1)\n",
        "print(f\"{hex(id(y))=}, {y.shape=}, {y.ndim=}, {y.dtype=}, {y.strides=},  {hex(id(y.base))=}, {y.data=}\")\n"
      ]
    },
    {
      "cell_type": "code",
      "execution_count": 22,
      "metadata": {
        "id": "RHmRnHJEdBen",
        "outputId": "3b5244e4-c67a-4904-db97-f7282c980090",
        "colab": {
          "base_uri": "https://localhost:8080/"
        }
      },
      "outputs": [
        {
          "output_type": "stream",
          "name": "stdout",
          "text": [
            "[[0.         2.06434921 1.60628624 1.1122411  0.03620824 0.05227887]\n",
            " [0.         0.38973612 0.         0.         0.         0.33172911]\n",
            " [0.80562056 0.         0.         0.         0.72426963 0.49655214]\n",
            " [1.3761465  0.         0.47775075 0.         0.         0.79802694]]\n"
          ]
        }
      ],
      "source": [
        "\n",
        "y[y<0] = 0\n",
        "print(x)"
      ]
    },
    {
      "cell_type": "code",
      "execution_count": 23,
      "metadata": {
        "id": "1_TDAehbdBeo",
        "outputId": "099fb7e0-70f8-406b-b42e-8eea950bb2c1",
        "colab": {
          "base_uri": "https://localhost:8080/"
        }
      },
      "outputs": [
        {
          "output_type": "stream",
          "name": "stdout",
          "text": [
            "hex(id(x))='0x7c65b44b3f30', x.shape=(5, 6), x.ndim=2, x.dtype=dtype('float64'), x.strides=(48, 8),  x.base=None, x.data=<memory at 0x7c65b539ea80>\n",
            "hex(id(y))='0x7c65b44b22b0', y.shape=(5, 6), y.ndim=2, y.dtype=dtype('float32'), y.strides=(24, 4),  y.base=None, y.data=<memory at 0x7c65b539eb50>\n"
          ]
        }
      ],
      "source": [
        "x = np.random.normal(0, 1, (5, 6))\n",
        "print(f\"{hex(id(x))=}, {x.shape=}, {x.ndim=}, {x.dtype=}, {x.strides=},  {x.base=}, {x.data=}\")\n",
        "y = x.astype(np.float32)\n",
        "print(f\"{hex(id(y))=}, {y.shape=}, {y.ndim=}, {y.dtype=}, {y.strides=},  {y.base=}, {y.data=}\")"
      ]
    },
    {
      "cell_type": "code",
      "execution_count": 24,
      "metadata": {
        "id": "Kqv9tHCEdBeo",
        "outputId": "dd1eb1d0-e0ef-4697-c9ce-ed5e0c20e9b5",
        "colab": {
          "base_uri": "https://localhost:8080/"
        }
      },
      "outputs": [
        {
          "output_type": "stream",
          "name": "stdout",
          "text": [
            "[[ 5.43320063e-01  9.61380083e-01 -6.97975987e-01 -1.04575667e+00\n",
            "   3.19762691e-01 -1.73622673e-01]\n",
            " [-7.42599920e-01 -2.51448759e-01  1.21057190e+00  2.14811915e-01\n",
            "   6.96612333e-04  1.93266178e+00]\n",
            " [ 7.42020779e-01 -5.13402274e-01 -7.78916315e-02  1.42337625e+00\n",
            "   1.26869093e+00  3.00215650e-01]\n",
            " [ 7.63906987e-01 -1.03015695e+00 -1.91245685e-01 -1.60631281e+00\n",
            "  -1.19194400e-01  1.17512576e+00]\n",
            " [ 3.22502647e-01 -8.44605080e-02 -9.38675205e-01  2.05075705e+00\n",
            "   2.13267282e+00 -1.07760545e-01]]\n"
          ]
        }
      ],
      "source": [
        "y[y<0] = 0\n",
        "print(x)"
      ]
    },
    {
      "cell_type": "code",
      "execution_count": 26,
      "metadata": {
        "id": "HeWA63bNdBeo",
        "outputId": "f7b8b0cf-7760-4503-881b-2c352b8daee8",
        "colab": {
          "base_uri": "https://localhost:8080/"
        }
      },
      "outputs": [
        {
          "output_type": "stream",
          "name": "stdout",
          "text": [
            "[[ 5.430e-01  9.610e-01 -6.980e-01 -1.046e+00  3.200e-01 -1.740e-01]\n",
            " [-7.430e-01 -2.510e-01  1.211e+00  2.150e-01  1.000e-03  1.933e+00]\n",
            " [ 7.420e-01 -5.130e-01 -7.800e-02  1.423e+00  1.269e+00  3.000e-01]\n",
            " [ 7.640e-01 -1.030e+00 -1.910e-01 -1.606e+00 -1.190e-01  1.175e+00]\n",
            " [ 3.230e-01 -8.400e-02 -9.390e-01  2.051e+00  2.133e+00 -1.080e-01]]\n",
            "[[ 5.430e-01 -7.430e-01  7.420e-01  7.640e-01  3.230e-01]\n",
            " [ 9.610e-01 -2.510e-01 -5.130e-01 -1.030e+00 -8.400e-02]\n",
            " [-6.980e-01  1.211e+00 -7.800e-02 -1.910e-01 -9.390e-01]\n",
            " [-1.046e+00  2.150e-01  1.423e+00 -1.606e+00  2.051e+00]\n",
            " [ 3.200e-01  1.000e-03  1.269e+00 -1.190e-01  2.133e+00]\n",
            " [-1.740e-01  1.933e+00  3.000e-01  1.175e+00 -1.080e-01]]\n"
          ]
        }
      ],
      "source": [
        "x = x.round(3)\n",
        "print(x)\n",
        "print(x.transpose(1,0))\n"
      ]
    },
    {
      "cell_type": "markdown",
      "metadata": {
        "id": "rqXJEByvdBep"
      },
      "source": [
        "## Elemenkénti műveletek\n",
        "\n",
        "Amit megszoktunk, hogy számokkal működik, tömbökkel (`np.array`) is fog.\n",
        "pl.\n"
      ]
    },
    {
      "cell_type": "code",
      "execution_count": 27,
      "metadata": {
        "id": "3caQqno6dBep",
        "outputId": "2eec0920-98bc-4f9d-9a27-3d43d825d984",
        "colab": {
          "base_uri": "https://localhost:8080/"
        }
      },
      "outputs": [
        {
          "output_type": "execute_result",
          "data": {
            "text/plain": [
              "(array([[ 0.7586774 ,  0.55391306, -0.22030369],\n",
              "        [ 0.14030272, -0.57553149, -0.39359379]]),\n",
              " array([[-0.47638969, -0.57887316,  0.52897159],\n",
              "        [-0.79340835,  0.98011399,  1.8932428 ]]),\n",
              " array([[ 0.28228771, -0.0249601 ,  0.3086679 ],\n",
              "        [-0.65310563,  0.4045825 ,  1.49964901]]),\n",
              " array([[-0.36142609, -0.3206454 , -0.11653439],\n",
              "        [-0.11131735, -0.56408647, -0.7451686 ]]),\n",
              " array([[ 1.23506709,  1.13278622, -0.74927528],\n",
              "        [ 0.93371107, -1.55564549, -2.28683658]]),\n",
              " array([[-1.59255631, -0.95688157, -0.41647547],\n",
              "        [-0.17683545, -0.58720873, -0.20789398]]),\n",
              " array([[-2., -1., -1.],\n",
              "        [-1., -1., -1.]]),\n",
              " array([[0.5755914 , 0.30681968, 0.04853372],\n",
              "        [0.01968485, 0.3312365 , 0.15491607]]))"
            ]
          },
          "metadata": {},
          "execution_count": 27
        }
      ],
      "source": [
        "x = np.random.standard_normal((2, 3))\n",
        "y = np.random.standard_normal((2, 3))\n",
        "x, y, x+y, x*y, x-y, x/y, x//y, x**2"
      ]
    },
    {
      "cell_type": "markdown",
      "metadata": {
        "id": "oLziGC10dBeq"
      },
      "source": [
        "Matematikai függvények is alkalmazhatóak, többnyire `np.` előtaggal.\n",
        "\n",
        "pl."
      ]
    },
    {
      "cell_type": "code",
      "execution_count": 28,
      "metadata": {
        "id": "WyggUzU_dBer",
        "outputId": "8f7f043c-6c03-47bd-c96d-20f1af9e3aed",
        "colab": {
          "base_uri": "https://localhost:8080/"
        }
      },
      "outputs": [
        {
          "output_type": "execute_result",
          "data": {
            "text/plain": [
              "(array([[0.57881119, 0.33395507, 1.46564396],\n",
              "        [4.44332079, 0.3326733 , 0.49009905]]),\n",
              " array([[0.54677896, 1.09674882, 0.38229471],\n",
              "        [1.49140202, 1.10059434, 0.71314776]]),\n",
              " array([[-0.60371066,  0.09235019, -0.96156347],\n",
              "        [ 0.39971663,  0.09585034, -0.33806664]]))"
            ]
          },
          "metadata": {},
          "execution_count": 28
        }
      ],
      "source": [
        "x = np.random.standard_normal((2, 3))\n",
        "np.exp(x), np.abs(x), np.log(np.abs(x))\n"
      ]
    },
    {
      "cell_type": "markdown",
      "metadata": {
        "id": "EYWth4tBdBer"
      },
      "source": [
        "Ezeknek a függvényeknek van `out` és `where` paraméterük."
      ]
    },
    {
      "cell_type": "code",
      "execution_count": null,
      "metadata": {
        "id": "Ar2fTlxVdBer",
        "outputId": "d3710652-2324-45c3-ad94-5347ae23e6e8"
      },
      "outputs": [
        {
          "name": "stdout",
          "output_type": "stream",
          "text": [
            "[[ 1  1  1  1  1]\n",
            " [ 1  7  8  9 10]]\n"
          ]
        }
      ],
      "source": [
        "x = np.arange(10).reshape(2,-1)\n",
        "y = np.ones_like(x)\n",
        "np.add(y, x, out=y, where=x>5)\n",
        "print(y)"
      ]
    },
    {
      "cell_type": "markdown",
      "metadata": {
        "id": "QGUmN7okdBer"
      },
      "source": [
        "## Összegzés, szorzás, max, min (redukció)"
      ]
    },
    {
      "cell_type": "markdown",
      "metadata": {
        "id": "T78HMQ5vdBes"
      },
      "source": [
        "`for` ciklus helyett egy tömb összegét, maximumát, szorzatát stb. a megfelelő metódus meghívásával is ki lehet számolni.\n",
        "\n",
        "- Gyorsabb\n",
        "- Kevesebb hiba lehetőség\n",
        "- Olvashatóbb\n",
        "\n",
        "Ezeknek a függvényeknek két szokásos extra paramétere van: `axis`, `keepdims`\n",
        "\n",
        "Alapértelmezésben a teljes tömböt egy számra redukálják, ha az `axis` meg van adva, akkor az adott tengely mentén redukálnak.\n",
        "\n",
        "Példák:"
      ]
    },
    {
      "cell_type": "code",
      "execution_count": 29,
      "metadata": {
        "id": "3G-BU__udBes",
        "outputId": "9fb4b3ad-d318-4b06-fd35-4fc80eca3323",
        "colab": {
          "base_uri": "https://localhost:8080/"
        }
      },
      "outputs": [
        {
          "output_type": "stream",
          "name": "stdout",
          "text": [
            "x.sum()=2775\n",
            "x.sum(axis=1).shape=(3, 5)\n",
            "x.sum(axis=(1,2)).shape=(3,)\n",
            "x.sum(axis=(1,2), keepdims=True).shape=(3, 1, 1)\n"
          ]
        }
      ],
      "source": [
        "x = np.arange(75).reshape(3,5,5)\n",
        "\n",
        "print(f\"{x.sum()=}\")\n",
        "print(f\"{x.sum(axis=1).shape=}\")\n",
        "print(f\"{x.sum(axis=(1,2)).shape=}\")\n",
        "print(f\"{x.sum(axis=(1,2), keepdims=True).shape=}\")\n"
      ]
    },
    {
      "cell_type": "markdown",
      "metadata": {
        "id": "HBhj0tkQdBes"
      },
      "source": [
        "További példák"
      ]
    },
    {
      "cell_type": "code",
      "execution_count": 30,
      "metadata": {
        "id": "aK_D_BFSdBet",
        "outputId": "53546381-d2cd-4641-90b5-10fa87f53e71",
        "colab": {
          "base_uri": "https://localhost:8080/"
        }
      },
      "outputs": [
        {
          "output_type": "stream",
          "name": "stdout",
          "text": [
            "op=amax\n",
            "op(x)=0.9692018035466725\n",
            "op(x, axis=0)=array([0.894 , 0.672 , 0.9692])\n",
            "op(x, axis=0, keepdims=True)=array([[0.894 , 0.672 , 0.9692]])\n",
            "==================================================\n",
            "op=amin\n",
            "op(x)=0.2582548281216378\n",
            "op(x, axis=0)=array([0.5523, 0.3045, 0.2583])\n",
            "op(x, axis=0, keepdims=True)=array([[0.5523, 0.3045, 0.2583]])\n",
            "==================================================\n",
            "op=sum\n",
            "op(x)=3.650206013160158\n",
            "op(x, axis=0)=array([1.4463, 0.9765, 1.2275])\n",
            "op(x, axis=0, keepdims=True)=array([[1.4463, 0.9765, 1.2275]])\n",
            "==================================================\n",
            "op=cumsum\n",
            "op(x)=array([0.894 , 1.566 , 2.5352, 3.0875, 3.392 , 3.6502])\n",
            "op(x, axis=0)=array([[0.894 , 0.672 , 0.9692],\n",
            "       [1.4463, 0.9765, 1.2275]])\n",
            "==================================================\n",
            "op=prod\n",
            "op(x)=0.025286570122206888\n",
            "op(x, axis=0)=array([0.4937, 0.2046, 0.2503])\n",
            "op(x, axis=0, keepdims=True)=array([[0.4937, 0.2046, 0.2503]])\n",
            "==================================================\n",
            "op=cumprod\n",
            "op(x)=array([0.894 , 0.6007, 0.5822, 0.3216, 0.0979, 0.0253])\n",
            "op(x, axis=0)=array([[0.894 , 0.672 , 0.9692],\n",
            "       [0.4937, 0.2046, 0.2503]])\n",
            "==================================================\n"
          ]
        }
      ],
      "source": [
        "x = np.random.uniform(size=(2, 3))\n",
        "\n",
        "with np.printoptions(precision=4):\n",
        "    for op in [np.max, np.min, np.sum,  np.cumsum, np.prod, np.cumprod]:\n",
        "        # op_name = f\"np.{op.__name__}\"\n",
        "        print(f\"op={op.__name__}\")\n",
        "        print(f\"{op(x)=}\")\n",
        "        print(f\"{op(x, axis=0)=}\")\n",
        "        if not op.__name__.startswith(\"cum\"):\n",
        "            print(f\"{op(x, axis=0, keepdims=True)=}\")\n",
        "        print(\"=\"*50)\n",
        "\n",
        "\n",
        ""
      ]
    },
    {
      "cell_type": "markdown",
      "metadata": {
        "id": "ujz620_SdBet"
      },
      "source": [
        "Mint mindig ha valamire nem emlékszünk a dokumentáció segít:\n",
        "\n",
        "pl.\n",
        "```\n",
        "help(np.sum)\n",
        "```"
      ]
    },
    {
      "cell_type": "markdown",
      "metadata": {
        "id": "Z5uN_bs7dBet"
      },
      "source": [
        "## Véletlenszám generálás"
      ]
    },
    {
      "cell_type": "markdown",
      "metadata": {
        "id": "1H0F4kbCdBeu"
      },
      "source": [
        "Ezek a függvények az `np.random` modulban vannak\n",
        "\n",
        "Legfontosabbak:\n",
        "\n",
        "- `np.random.uniform(a, b, size=(10,10))` `size` méretű tömb, minden elem találomra választott szám `(a,b)`-ből\n",
        "- `np.random.normal(mu, sigma, size=(10,10))` `size` méretű tömb, minden elem normális eloszlású $\\mu$ eltolás $\\sigma$ skála paraméterrel.\n",
        "- `np.random."
      ]
    },
    {
      "cell_type": "code",
      "execution_count": null,
      "metadata": {
        "id": "dslI-PmhdBeu",
        "outputId": "98ad52ad-70ee-4bf8-ae3c-ae19b8620fbe"
      },
      "outputs": [
        {
          "name": "stdout",
          "output_type": "stream",
          "text": [
            "    np.random.uniform(0, 1, 5)=array([0.7829767 , 0.96801413, 0.84239993, 0.69391017, 0.55908334])\n",
            "     np.random.normal(0, 1, 5)=array([-0.19338392,  0.34767466,  0.6045971 , -0.26556485,  0.5762892 ])\n",
            "np.random.binomial(10, 0.5, 5)=array([5, 5, 4, 3, 4])\n",
            "np.random.binomial( 1, 0.5, 5)=array([0, 1, 1, 1, 0])\n",
            "np.random.permutation(5)=array([2, 0, 4, 1, 3])\n"
          ]
        }
      ],
      "source": [
        "print(f\"    {np.random.uniform(0, 1, 5)=}\")\n",
        "print(f\"     {np.random.normal(0, 1, 5)=}\")\n",
        "print(f\"{np.random.binomial(10, 0.5, 5)=}\")\n",
        "print(f\"{np.random.binomial( 1, 0.5, 5)=}\")\n",
        "print(f\"{np.random.permutation(5)=}\")"
      ]
    },
    {
      "cell_type": "markdown",
      "metadata": {
        "id": "O2XFdWp5dBeu"
      },
      "source": [
        "Reprodukálhatóság:"
      ]
    },
    {
      "cell_type": "code",
      "execution_count": null,
      "metadata": {
        "id": "QbVGEM7vdBev",
        "outputId": "892da96f-8240-4141-b50a-31e14d9c1c25"
      },
      "outputs": [
        {
          "name": "stdout",
          "output_type": "stream",
          "text": [
            "np.random.binomial( 1, 0.5, 5)=array([1, 1, 0, 1, 1])\n",
            "np.random.binomial( 1, 0.5, 5)=array([1, 1, 0, 1, 1])\n",
            "np.random.binomial( 1, 0.5, 5)=array([1, 1, 0, 1, 1])\n"
          ]
        }
      ],
      "source": [
        "np.random.seed(3)\n",
        "print(f\"{np.random.binomial( 1, 0.5, 5)=}\")\n",
        "np.random.seed(3)\n",
        "print(f\"{np.random.binomial( 1, 0.5, 5)=}\")\n",
        "np.random.seed(3)\n",
        "print(f\"{np.random.binomial( 1, 0.5, 5)=}\")\n"
      ]
    },
    {
      "cell_type": "markdown",
      "metadata": {
        "id": "VdgEkp7RdBew"
      },
      "source": [
        "A `seed`-et egyszer szokás beállítani a notebook elején."
      ]
    },
    {
      "cell_type": "markdown",
      "metadata": {
        "id": "AMtbduA4dBew"
      },
      "source": [
        "## Indexelés"
      ]
    },
    {
      "cell_type": "markdown",
      "metadata": {
        "id": "-1Wcz1ZVdBex"
      },
      "source": [
        "A szokásos `slice` jelölés mellett logikai vektor is lehet index és lista is."
      ]
    },
    {
      "cell_type": "code",
      "execution_count": 31,
      "metadata": {
        "id": "IxAVIn_DdBex",
        "outputId": "284bb4c9-f4bb-4e1d-a413-4143b74b0c4e",
        "colab": {
          "base_uri": "https://localhost:8080/"
        }
      },
      "outputs": [
        {
          "output_type": "stream",
          "name": "stdout",
          "text": [
            "x=array([-1.1173,  1.3507,  2.1186, -0.5102,  0.5918, -0.5974,  0.1864, -1.1868,  0.6039, -0.9274])\n",
            "x>0.2=array([False,  True,  True, False,  True, False, False, False,  True, False])\n",
            "x[x>0.2]=array([1.3507, 2.1186, 0.5918, 0.6039])\n",
            "x[[1,3,9]]=array([ 1.3507, -0.5102, -0.9274])\n"
          ]
        }
      ],
      "source": [
        "with np.printoptions(linewidth=110, precision=4):\n",
        "    x = np.random.normal(0, 1, 10)\n",
        "    print(f\"{x=}\")\n",
        "    print(f\"{x>0.2=}\")\n",
        "    print(f\"{x[x>0.2]=}\")\n",
        "    print(f\"{x[[1,3,9]]=}\")\n"
      ]
    },
    {
      "cell_type": "markdown",
      "metadata": {
        "id": "jVOOyBoIdBey"
      },
      "source": [
        "## Broadcasting"
      ]
    },
    {
      "cell_type": "markdown",
      "metadata": {
        "id": "CzeHlNL2dBey"
      },
      "source": [
        "Azonos méretű tömböket összeadhatunk, szorozhatunk.\n",
        "\n",
        "Két tömb `a` és `b` kompatibilis, ha\n",
        "\n",
        "- `a.ndim=len(a.shape)` és `b.ndim=len(b.shape)` azonos\n",
        "- és `a.shape[i] == b.shape[i]` vagy az egyik 1\n",
        "\n",
        "\n",
        "pl. `a = np.zeros((1, 1, 3))` és ` c = np.zeros((2, 3, 3))` kompatibilis, de egyik sem kompatibilis a `c = np.zeros((2, 3, 1))` tömbbel.\n",
        "\n",
        "Kompatibilis tömbökkel is lehet műveleteket végezni, ahol az alak 1, ott az érték ismétlődik."
      ]
    },
    {
      "cell_type": "code",
      "execution_count": 34,
      "metadata": {
        "id": "31cD9mxTdBey",
        "outputId": "d49696cc-ef96-44e4-84e5-6363abdf66a1",
        "colab": {
          "base_uri": "https://localhost:8080/"
        }
      },
      "outputs": [
        {
          "output_type": "execute_result",
          "data": {
            "text/plain": [
              "array([[ 1,  2,  3,  4,  5,  6,  7,  8,  9],\n",
              "       [ 2,  4,  6,  8, 10, 12, 14, 16, 18],\n",
              "       [ 3,  6,  9, 12, 15, 18, 21, 24, 27],\n",
              "       [ 4,  8, 12, 16, 20, 24, 28, 32, 36],\n",
              "       [ 5, 10, 15, 20, 25, 30, 35, 40, 45],\n",
              "       [ 6, 12, 18, 24, 30, 36, 42, 48, 54],\n",
              "       [ 7, 14, 21, 28, 35, 42, 49, 56, 63],\n",
              "       [ 8, 16, 24, 32, 40, 48, 56, 64, 72],\n",
              "       [ 9, 18, 27, 36, 45, 54, 63, 72, 81]])"
            ]
          },
          "metadata": {},
          "execution_count": 34
        }
      ],
      "source": [
        "a = np.arange(1,10).reshape(1, 9) ## sorvektor\n",
        "b = np.arange(1,10).reshape(9, 1) ## oszlopvektor\n",
        "a*b"
      ]
    },
    {
      "cell_type": "markdown",
      "metadata": {
        "id": "fY7igyDndBez"
      },
      "source": [
        "Két tömb kompatibilissé tehető, ha néhány 1-est a shape elé írva kompatibilis tömböt kapunk. Ilyen esetben is értelmesek a műveletek."
      ]
    },
    {
      "cell_type": "code",
      "execution_count": 35,
      "metadata": {
        "id": "0GncAKXudBez",
        "outputId": "ff495328-a746-4d41-bbb7-8318274e9648",
        "colab": {
          "base_uri": "https://localhost:8080/"
        }
      },
      "outputs": [
        {
          "output_type": "stream",
          "name": "stdout",
          "text": [
            "a.shape=(10,), b.shape=(10, 1),\n",
            "a*b=array([[1., 1., 1., 1., 1., 1., 1., 1., 1., 1.],\n",
            "       [1., 1., 1., 1., 1., 1., 1., 1., 1., 1.],\n",
            "       [1., 1., 1., 1., 1., 1., 1., 1., 1., 1.],\n",
            "       [1., 1., 1., 1., 1., 1., 1., 1., 1., 1.],\n",
            "       [1., 1., 1., 1., 1., 1., 1., 1., 1., 1.],\n",
            "       [1., 1., 1., 1., 1., 1., 1., 1., 1., 1.],\n",
            "       [1., 1., 1., 1., 1., 1., 1., 1., 1., 1.],\n",
            "       [1., 1., 1., 1., 1., 1., 1., 1., 1., 1.],\n",
            "       [1., 1., 1., 1., 1., 1., 1., 1., 1., 1.],\n",
            "       [1., 1., 1., 1., 1., 1., 1., 1., 1., 1.]])\n",
            "a.shape=(10,), b.shape=(10,),\n",
            "a*b=array([1., 1., 1., 1., 1., 1., 1., 1., 1., 1.])\n"
          ]
        }
      ],
      "source": [
        "a = np.ones(10) ## sorvektor\n",
        "b = np.ones((10, 1)) ## oszlopvektor\n",
        "print(f\"{a.shape=}, {b.shape=},\\n{a*b=}\")\n",
        "\n",
        "a = np.ones(10) ## sorvektor\n",
        "b = np.ones((10)) ## oszlopvektor\n",
        "print(f\"{a.shape=}, {b.shape=},\\n{a*b=}\")\n"
      ]
    },
    {
      "cell_type": "markdown",
      "metadata": {
        "id": "nruTb6e-dBe0"
      },
      "source": [
        "Ha új dimenziót akarunk a tömbhöz adni, azt `None`-nal is megtehetjük"
      ]
    },
    {
      "cell_type": "code",
      "execution_count": 36,
      "metadata": {
        "id": "-tmEXPpNdBe0",
        "outputId": "047d9a57-d6ae-4779-94c8-bce031563936",
        "colab": {
          "base_uri": "https://localhost:8080/"
        }
      },
      "outputs": [
        {
          "output_type": "stream",
          "name": "stdout",
          "text": [
            "a.shape=(10, 20), (a[None]).shape=(1, 10, 20)\n",
            "a.shape=(10, 20), (a[:,None]).shape=(10, 1, 20)\n",
            "a.shape=(10, 20), (a[...,None]).shape=(10, 20, 1)\n"
          ]
        }
      ],
      "source": [
        "a = np.ones((10,20))\n",
        "print(f\"{a.shape=}, {(a[None]).shape=}\")\n",
        "\n",
        "print(f\"{a.shape=}, {(a[:,None]).shape=}\")\n",
        "print(f\"{a.shape=}, {(a[...,None]).shape=}\")"
      ]
    },
    {
      "cell_type": "markdown",
      "metadata": {
        "id": "6sUlb_RXdBe1"
      },
      "source": [
        "Olvashatóbb megoldás az `np.expand_dims` függvény használata."
      ]
    },
    {
      "cell_type": "markdown",
      "metadata": {
        "id": "FXrAffATdBe1"
      },
      "source": [
        "## Tömbök összefűzése"
      ]
    },
    {
      "cell_type": "markdown",
      "metadata": {
        "id": "tBeCRPh5dBe1"
      },
      "source": [
        "- `np.concatenate`\n",
        "- `np.stack`\n",
        "\n",
        "Mindkettőnek hasonló, de a `stack` új dimenziót hoz létre és csak azonos méretű tömböket tud összerakni.\n"
      ]
    },
    {
      "cell_type": "code",
      "execution_count": 37,
      "metadata": {
        "id": "KXlUGWRNdBe2",
        "outputId": "f63164b0-ed42-411b-d414-743fdaab5894",
        "colab": {
          "base_uri": "https://localhost:8080/"
        }
      },
      "outputs": [
        {
          "output_type": "stream",
          "name": "stdout",
          "text": [
            "c.shape=(1, 7)\n",
            "d.shape=(1, 3, 5)\n"
          ]
        }
      ],
      "source": [
        "a = np.ones((1, 5))\n",
        "b = np.ones((1, 2))\n",
        "\n",
        "c = np.concatenate((a,b), axis=-1)\n",
        "print(f\"{c.shape=}\")\n",
        "\n",
        "d = np.stack((a, a, a), axis=1)\n",
        "print(f\"{d.shape=}\")\n"
      ]
    },
    {
      "cell_type": "markdown",
      "metadata": {
        "id": "Z58kcVF3dBe2"
      },
      "source": [
        "# Matplotlib könyvtár"
      ]
    },
    {
      "cell_type": "markdown",
      "metadata": {
        "id": "_DqhPPo3dBe2"
      },
      "source": [
        "Ez a leggyakrabban használt könyvtár ábrák készítéséhez.\n",
        "\n",
        "- [Matplotlib bevezető `w3schools`](https://www.w3schools.com/python/matplotlib_intro.asp)\n",
        "\n",
        "A `pyplot` modult általában `plt` alias-szal importáljuk.\n",
        "\n",
        "Leggyakrabban használt függvények:\n",
        "\n",
        "- `plt.plot`\n",
        "- `plt.scatter`\n",
        "- `plt.hist`\n",
        "- `plt.imshow`"
      ]
    },
    {
      "cell_type": "code",
      "execution_count": 38,
      "metadata": {
        "id": "kT1LxjfXdBe2"
      },
      "outputs": [],
      "source": [
        "import matplotlib.pyplot as plt"
      ]
    },
    {
      "cell_type": "code",
      "execution_count": 45,
      "metadata": {
        "id": "6OqlKU-LdBe3",
        "outputId": "1fc70d7a-0bbc-4757-c305-986a9ce36544",
        "colab": {
          "base_uri": "https://localhost:8080/",
          "height": 447
        }
      },
      "outputs": [
        {
          "output_type": "stream",
          "name": "stdout",
          "text": [
            "[0 1 0 0 1 0 0 0 1 0]\n"
          ]
        },
        {
          "output_type": "display_data",
          "data": {
            "text/plain": [
              "<Figure size 640x480 with 1 Axes>"
            ],
            "image/png": "[encoded data removed]"
          },
          "metadata": {}
        }
      ],
      "source": [
        "x =  np.random.binomial(1, 0.5, 10)\n",
        "print(x)\n",
        "y = np.concatenate(([0], (2*x-1).cumsum()))\n",
        "plt.plot(y)\n",
        "plt.show()"
      ]
    },
    {
      "cell_type": "markdown",
      "metadata": {
        "id": "Yyt8Vuh6dBe4"
      },
      "source": [
        "Próbáljuk ki mi történik, ha a második argumentum egy string, pl. \"o-r\", vagy \"o:g\"\n",
        "\n",
        "A pontok `x,y` koordinátáját színét és méretét is megadhatjuk:"
      ]
    },
    {
      "cell_type": "code",
      "execution_count": 46,
      "metadata": {
        "id": "yLL7U6DbdBe4",
        "outputId": "07553c52-f441-45af-deeb-f7c639041cd8",
        "colab": {
          "base_uri": "https://localhost:8080/",
          "height": 430
        }
      },
      "outputs": [
        {
          "output_type": "display_data",
          "data": {
            "text/plain": [
              "<Figure size 640x480 with 2 Axes>"
            ],
            "image/png": "[encoded data removed]"
          },
          "metadata": {}
        }
      ],
      "source": [
        "\n",
        "x = np.random.randint(100, size=(100))\n",
        "y = np.random.randint(100, size=(100))\n",
        "colors = np.random.randint(100, size=(100))\n",
        "sizes = 10 * np.random.randint(100, size=(100))\n",
        "\n",
        "plt.grid()\n",
        "plt.scatter(x, y, c=colors, s=sizes, alpha=0.5, cmap='nipy_spectral')\n",
        "\n",
        "plt.colorbar()\n",
        "\n",
        "plt.show()\n"
      ]
    },
    {
      "cell_type": "markdown",
      "metadata": {
        "id": "rd3IDWLGdBe4"
      },
      "source": [
        "### Hisztogram"
      ]
    },
    {
      "cell_type": "code",
      "execution_count": 47,
      "metadata": {
        "id": "DqDGdhyWdBe5",
        "outputId": "73bac445-a1c3-410b-bdb2-073548078ed9",
        "colab": {
          "base_uri": "https://localhost:8080/",
          "height": 435
        }
      },
      "outputs": [
        {
          "output_type": "display_data",
          "data": {
            "text/plain": [
              "<Figure size 640x480 with 1 Axes>"
            ],
            "image/png": "[encoded data removed]"
          },
          "metadata": {}
        }
      ],
      "source": [
        "x = np.random.standard_normal(10000)\n",
        "plt.hist(x, density=True, bins=np.linspace(-3.5, 3.5, 15))\n",
        "plt.grid()\n",
        "plt.show()"
      ]
    },
    {
      "cell_type": "markdown",
      "metadata": {
        "id": "ePenw2Q0dBe6"
      },
      "source": [
        "A `matplotlib` mellett más ábrakészítő könyvtárak is vannak:\n",
        "\n",
        "- `seaborn`\n",
        "- `plotly`\n",
        "- `plotnine`"
      ]
    },
    {
      "cell_type": "markdown",
      "metadata": {
        "id": "pT8gjpzWdBe6"
      },
      "source": [
        "# Öröklődés"
      ]
    },
    {
      "cell_type": "markdown",
      "metadata": {
        "id": "w1mM2fwZdBe7"
      },
      "source": [
        "Előadáson szerepelt ehhez hasonló példa. Legyenek `Polygon`, `Rectangle`, `Square` osztályaink.\n",
        "Minden négyzet téglalap és minden téglalap sokszög. Egy sokszöget a csúcsok felsorolásával adhatunk meg.\n",
        "Ebből a kerület, terület kiszámolható és eldönthető, hogy a sokszög konvex-e. Ha akarjuk pl. a `Matplotlib` könyvtárral ki is rajzolhatjuk a sokszöget.\n",
        "\n",
        "Menetközben síkvektorokkal akarunk számolni. Erre kényelmes a `numpy` könyvtárat használni."
      ]
    },
    {
      "cell_type": "code",
      "execution_count": null,
      "metadata": {
        "id": "Chj3GY-qdBe7"
      },
      "outputs": [],
      "source": [
        "import math\n",
        "import numpy as np\n",
        "from itertools import cycle\n",
        "\n",
        "class Polygon:\n",
        "\n",
        "    def __init__(self, nodes):\n",
        "        self.nodes = nodes\n",
        "\n",
        "    def area(self):\n",
        "        if self.is_convex():\n",
        "            nodes = np.array(self.nodes)\n",
        "            nodes = nodes-nodes[0]\n",
        "            area = 0\n",
        "            for v1, v2 in zip(nodes[1:], nodes[2:]):\n",
        "                area += abs(v1[0]*v2[1]-v1[1]*v2[0])\n",
        "            return area\n",
        "        else:\n",
        "            raise NotImplementedError\n",
        "            ## hf!\n",
        "\n",
        "    def perimeter(self):\n",
        "        total = 0\n",
        "        p0 = self.nodes[-1]\n",
        "        for p in self.nodes:\n",
        "            total += np.linalg.norm(p-p0)\n",
        "            p0 = p\n",
        "        return total\n",
        "\n",
        "    def is_convex(self):\n",
        "        nodes = np.array(self.nodes + self.nodes[:1])\n",
        "        edges = np.diff(nodes, axis=0)\n",
        "        idx = np.array([i%len(edges) for i in range(1, len(edges)+1)])\n",
        "        edges1 = edges[idx]\n",
        "        sgn = (rotate90(edges) * edges1).sum(axis=1)\n",
        "        return (min(sgn)*max(sgn)>=0)\n",
        "\n",
        "    def draw(self):\n",
        "        pass\n",
        "\n",
        "    def __repr__(self):\n",
        "        return f'{type(self).__name__}({[tuple(x) for x in self.nodes]})'\n",
        "\n",
        "\n",
        "def rotate90(x):\n",
        "    return np.flip(x, -1)*np.array([-1, 1])\n",
        "\n",
        "class Rectangle(Polygon):\n",
        "\n",
        "    def __init__(self, P1, P2, r):\n",
        "        \"\"\"\n",
        "        P1, P2 froms an edge and r is the ratio of edge lengths.\n",
        "\n",
        "        Assuming that e is P1P2 rotated counterclockwise by 90 degree\n",
        "        the vertices are:\n",
        "        P1, P2, P2+r*e, P1+r*e\n",
        "        \"\"\"\n",
        "        v = rotate90(P2-P1)*r\n",
        "        super(Rectangle, self).__init__([P1, P2, P2+v, P1+v])\n",
        "\n",
        "\n",
        "class Square(Rectangle):\n",
        "\n",
        "    def __init__(self, P1, P2):\n",
        "        super(Square, self).__init__(P1, P2, 1)\n",
        "\n"
      ]
    },
    {
      "cell_type": "code",
      "execution_count": null,
      "metadata": {
        "id": "NR2yPxf1dBe8",
        "outputId": "56f35ba0-ba36-4c7b-c0d5-3e0fdf13b277"
      },
      "outputs": [
        {
          "data": {
            "text/plain": [
              "array([[-1,  0],\n",
              "       [ 0,  1]])"
            ]
          },
          "execution_count": 89,
          "metadata": {},
          "output_type": "execute_result"
        }
      ],
      "source": [
        "rotate90(np.array([[0, 1],[1,0]]))"
      ]
    },
    {
      "cell_type": "code",
      "execution_count": null,
      "metadata": {
        "id": "9GgnccOZdBe8",
        "outputId": "640f5689-18dd-4fec-bdb7-1bab2cd9acab"
      },
      "outputs": [
        {
          "name": "stdout",
          "output_type": "stream",
          "text": [
            "Square([(0, 0), (1, 1), (0, 2), (-1, 1)]) kerület: 5.66, konvex: True, terület: 4.00\n",
            "Rectangle([(0, 0), (1, 1), (-1, 3), (-2, 2)]) kerület: 8.49, konvex: True, terület: 8.00\n",
            "Polygon([(0, 0), (1, 1)]) kerület: 2.83, konvex: True, terület: 0.00\n"
          ]
        }
      ],
      "source": [
        "points = np.array([[0,0], [1,1]])\n",
        "s = Square(points[0], points[1])\n",
        "t = Rectangle(points[0], points[1], 2)\n",
        "p = Polygon(points)\n",
        "for x in [s, t, p]:\n",
        "    print(f\"{x} kerület: {x.perimeter():.2f}, konvex: {x.is_convex()}, terület: {x.area():.2f}\")\n"
      ]
    },
    {
      "cell_type": "code",
      "execution_count": null,
      "metadata": {
        "id": "Jwt3usg1dBe9",
        "outputId": "f6060521-0640-4203-b1d1-d73bb18ccbe4"
      },
      "outputs": [
        {
          "name": "stdout",
          "output_type": "stream",
          "text": [
            "False\n"
          ]
        },
        {
          "data": {
            "image/png": "[encoded data removed]",
            "text/plain": [
              "<Figure size 640x480 with 1 Axes>"
            ]
          },
          "metadata": {},
          "output_type": "display_data"
        }
      ],
      "source": [
        "points = np.array([[0,0], [2,0], [2,2], [1,1], [0,2]])\n",
        "p = Polygon(list(points))\n",
        "print(p.is_convex())\n",
        "p.draw()\n",
        "plt.grid()\n",
        "plt.show()\n"
      ]
    },
    {
      "cell_type": "markdown",
      "metadata": {
        "id": "32FlsWPndBe9"
      },
      "source": [
        "Vegyük észre, hogy az `__repr__` metódust csak egyszer implementáltuk, mégis minden egyednek a saját típusát írja ki!\n",
        "Az előző kód blokkot futtassuk le azután is, hogy a `draw` metódust implementáltuk."
      ]
    },
    {
      "cell_type": "markdown",
      "metadata": {
        "id": "JoptWTnndBe-"
      },
      "source": [
        "# `Matplotlib.pyplot` könytár"
      ]
    },
    {
      "cell_type": "code",
      "execution_count": null,
      "metadata": {
        "id": "dr2Zn28OdBe-"
      },
      "outputs": [],
      "source": [
        "import matplotlib.pyplot as plt\n",
        "%matplotlib inline"
      ]
    },
    {
      "cell_type": "markdown",
      "metadata": {
        "id": "TuT4Uew3dBe-"
      },
      "source": [
        "A legtöbbet használt függvények a  `plot` és az `imshow`."
      ]
    },
    {
      "cell_type": "code",
      "execution_count": null,
      "metadata": {
        "id": "Ava6KUMVdBe-",
        "outputId": "518c6fa5-0bf4-4ee4-9b75-5a77f4a360e2"
      },
      "outputs": [
        {
          "name": "stdout",
          "output_type": "stream",
          "text": [
            "Help on function plot in module matplotlib.pyplot:\n",
            "\n",
            "plot(*args, scalex=True, scaley=True, data=None, **kwargs)\n",
            "    Plot y versus x as lines and/or markers.\n",
            "    \n",
            "    Call signatures::\n",
            "    \n",
            "        plot([x], y, [fmt], *, data=None, **kwargs)\n",
            "        plot([x], y, [fmt], [x2], y2, [fmt2], ..., **kwargs)\n",
            "    \n",
            "    The coordinates of the points or line nodes are given by *x*, *y*.\n",
            "    \n",
            "    The optional parameter *fmt* is a convenient way for defining basic\n",
            "    formatting like color, marker and linestyle. It's a shortcut string\n",
            "    notation described in the *Notes* section below.\n",
            "    \n",
            "    >>> plot(x, y)        # plot x and y using default line style and color\n",
            "    >>> plot(x, y, 'bo')  # plot x and y using blue circle markers\n",
            "    >>> plot(y)           # plot y using x as index array 0..N-1\n",
            "    >>> plot(y, 'r+')     # ditto, but with red plusses\n",
            "    \n",
            "    You can use `.Line2D` properties as keyword arguments for more\n",
            "    control on the appearance. Line properties and *fmt* can be mixed.\n",
            "    The following two calls yield identical results:\n",
            "    \n",
            "    >>> plot(x, y, 'go--', linewidth=2, markersize=12)\n",
            "    >>> plot(x, y, color='green', marker='o', linestyle='dashed',\n",
            "    ...      linewidth=2, markersize=12)\n",
            "    \n",
            "    When conflicting with *fmt*, keyword arguments take precedence.\n",
            "    \n",
            "    \n",
            "    **Plotting labelled data**\n",
            "    \n",
            "    There's a convenient way for plotting objects with labelled data (i.e.\n",
            "    data that can be accessed by index ``obj['y']``). Instead of giving\n",
            "    the data in *x* and *y*, you can provide the object in the *data*\n",
            "    parameter and just give the labels for *x* and *y*::\n",
            "    \n",
            "    >>> plot('xlabel', 'ylabel', data=obj)\n",
            "    \n",
            "    All indexable objects are supported. This could e.g. be a `dict`, a\n",
            "    `pandas.DataFrame` or a structured numpy array.\n",
            "    \n",
            "    \n",
            "    **Plotting multiple sets of data**\n",
            "    \n",
            "    There are various ways to plot multiple sets of data.\n",
            "    \n",
            "    - The most straight forward way is just to call `plot` multiple times.\n",
            "      Example:\n",
            "    \n",
            "      >>> plot(x1, y1, 'bo')\n",
            "      >>> plot(x2, y2, 'go')\n",
            "    \n",
            "    - If *x* and/or *y* are 2D arrays a separate data set will be drawn\n",
            "      for every column. If both *x* and *y* are 2D, they must have the\n",
            "      same shape. If only one of them is 2D with shape (N, m) the other\n",
            "      must have length N and will be used for every data set m.\n",
            "    \n",
            "      Example:\n",
            "    \n",
            "      >>> x = [1, 2, 3]\n",
            "      >>> y = np.array([[1, 2], [3, 4], [5, 6]])\n",
            "      >>> plot(x, y)\n",
            "    \n",
            "      is equivalent to:\n",
            "    \n",
            "      >>> for col in range(y.shape[1]):\n",
            "      ...     plot(x, y[:, col])\n",
            "    \n",
            "    - The third way is to specify multiple sets of *[x]*, *y*, *[fmt]*\n",
            "      groups::\n",
            "    \n",
            "      >>> plot(x1, y1, 'g^', x2, y2, 'g-')\n",
            "    \n",
            "      In this case, any additional keyword argument applies to all\n",
            "      datasets. Also, this syntax cannot be combined with the *data*\n",
            "      parameter.\n",
            "    \n",
            "    By default, each line is assigned a different style specified by a\n",
            "    'style cycle'. The *fmt* and line property parameters are only\n",
            "    necessary if you want explicit deviations from these defaults.\n",
            "    Alternatively, you can also change the style cycle using\n",
            "    :rc:`axes.prop_cycle`.\n",
            "    \n",
            "    \n",
            "    Parameters\n",
            "    ----------\n",
            "    x, y : array-like or scalar\n",
            "        The horizontal / vertical coordinates of the data points.\n",
            "        *x* values are optional and default to ``range(len(y))``.\n",
            "    \n",
            "        Commonly, these parameters are 1D arrays.\n",
            "    \n",
            "        They can also be scalars, or two-dimensional (in that case, the\n",
            "        columns represent separate data sets).\n",
            "    \n",
            "        These arguments cannot be passed as keywords.\n",
            "    \n",
            "    fmt : str, optional\n",
            "        A format string, e.g. 'ro' for red circles. See the *Notes*\n",
            "        section for a full description of the format strings.\n",
            "    \n",
            "        Format strings are just an abbreviation for quickly setting\n",
            "        basic line properties. All of these and more can also be\n",
            "        controlled by keyword arguments.\n",
            "    \n",
            "        This argument cannot be passed as keyword.\n",
            "    \n",
            "    data : indexable object, optional\n",
            "        An object with labelled data. If given, provide the label names to\n",
            "        plot in *x* and *y*.\n",
            "    \n",
            "        .. note::\n",
            "            Technically there's a slight ambiguity in calls where the\n",
            "            second label is a valid *fmt*. ``plot('n', 'o', data=obj)``\n",
            "            could be ``plt(x, y)`` or ``plt(y, fmt)``. In such cases,\n",
            "            the former interpretation is chosen, but a warning is issued.\n",
            "            You may suppress the warning by adding an empty format string\n",
            "            ``plot('n', 'o', '', data=obj)``.\n",
            "    \n",
            "    Returns\n",
            "    -------\n",
            "    list of `.Line2D`\n",
            "        A list of lines representing the plotted data.\n",
            "    \n",
            "    Other Parameters\n",
            "    ----------------\n",
            "    scalex, scaley : bool, default: True\n",
            "        These parameters determine if the view limits are adapted to the\n",
            "        data limits. The values are passed on to\n",
            "        `~.axes.Axes.autoscale_view`.\n",
            "    \n",
            "    **kwargs : `~matplotlib.lines.Line2D` properties, optional\n",
            "        *kwargs* are used to specify properties like a line label (for\n",
            "        auto legends), linewidth, antialiasing, marker face color.\n",
            "        Example::\n",
            "    \n",
            "        >>> plot([1, 2, 3], [1, 2, 3], 'go-', label='line 1', linewidth=2)\n",
            "        >>> plot([1, 2, 3], [1, 4, 9], 'rs', label='line 2')\n",
            "    \n",
            "        If you specify multiple lines with one plot call, the kwargs apply\n",
            "        to all those lines. In case the label object is iterable, each\n",
            "        element is used as labels for each set of data.\n",
            "    \n",
            "        Here is a list of available `.Line2D` properties:\n",
            "    \n",
            "        Properties:\n",
            "        agg_filter: a filter function, which takes a (m, n, 3) float array and a dpi value, and returns a (m, n, 3) array and two offsets from the bottom left corner of the image\n",
            "        alpha: scalar or None\n",
            "        animated: bool\n",
            "        antialiased or aa: bool\n",
            "        clip_box: `.Bbox`\n",
            "        clip_on: bool\n",
            "        clip_path: Patch or (Path, Transform) or None\n",
            "        color or c: color\n",
            "        dash_capstyle: `.CapStyle` or {'butt', 'projecting', 'round'}\n",
            "        dash_joinstyle: `.JoinStyle` or {'miter', 'round', 'bevel'}\n",
            "        dashes: sequence of floats (on/off ink in points) or (None, None)\n",
            "        data: (2, N) array or two 1D arrays\n",
            "        drawstyle or ds: {'default', 'steps', 'steps-pre', 'steps-mid', 'steps-post'}, default: 'default'\n",
            "        figure: `.Figure`\n",
            "        fillstyle: {'full', 'left', 'right', 'bottom', 'top', 'none'}\n",
            "        gapcolor: color or None\n",
            "        gid: str\n",
            "        in_layout: bool\n",
            "        label: object\n",
            "        linestyle or ls: {'-', '--', '-.', ':', '', (offset, on-off-seq), ...}\n",
            "        linewidth or lw: float\n",
            "        marker: marker style string, `~.path.Path` or `~.markers.MarkerStyle`\n",
            "        markeredgecolor or mec: color\n",
            "        markeredgewidth or mew: float\n",
            "        markerfacecolor or mfc: color\n",
            "        markerfacecoloralt or mfcalt: color\n",
            "        markersize or ms: float\n",
            "        markevery: None or int or (int, int) or slice or list[int] or float or (float, float) or list[bool]\n",
            "        mouseover: bool\n",
            "        path_effects: `.AbstractPathEffect`\n",
            "        picker: float or callable[[Artist, Event], tuple[bool, dict]]\n",
            "        pickradius: unknown\n",
            "        rasterized: bool\n",
            "        sketch_params: (scale: float, length: float, randomness: float)\n",
            "        snap: bool or None\n",
            "        solid_capstyle: `.CapStyle` or {'butt', 'projecting', 'round'}\n",
            "        solid_joinstyle: `.JoinStyle` or {'miter', 'round', 'bevel'}\n",
            "        transform: unknown\n",
            "        url: str\n",
            "        visible: bool\n",
            "        xdata: 1D array\n",
            "        ydata: 1D array\n",
            "        zorder: float\n",
            "    \n",
            "    See Also\n",
            "    --------\n",
            "    scatter : XY scatter plot with markers of varying size and/or color (\n",
            "        sometimes also called bubble chart).\n",
            "    \n",
            "    Notes\n",
            "    -----\n",
            "    **Format Strings**\n",
            "    \n",
            "    A format string consists of a part for color, marker and line::\n",
            "    \n",
            "        fmt = '[marker][line][color]'\n",
            "    \n",
            "    Each of them is optional. If not provided, the value from the style\n",
            "    cycle is used. Exception: If ``line`` is given, but no ``marker``,\n",
            "    the data will be a line without markers.\n",
            "    \n",
            "    Other combinations such as ``[color][marker][line]`` are also\n",
            "    supported, but note that their parsing may be ambiguous.\n",
            "    \n",
            "    **Markers**\n",
            "    \n",
            "    =============   ===============================\n",
            "    character       description\n",
            "    =============   ===============================\n",
            "    ``'.'``         point marker\n",
            "    ``','``         pixel marker\n",
            "    ``'o'``         circle marker\n",
            "    ``'v'``         triangle_down marker\n",
            "    ``'^'``         triangle_up marker\n",
            "    ``'<'``         triangle_left marker\n",
            "    ``'>'``         triangle_right marker\n",
            "    ``'1'``         tri_down marker\n",
            "    ``'2'``         tri_up marker\n",
            "    ``'3'``         tri_left marker\n",
            "    ``'4'``         tri_right marker\n",
            "    ``'8'``         octagon marker\n",
            "    ``'s'``         square marker\n",
            "    ``'p'``         pentagon marker\n",
            "    ``'P'``         plus (filled) marker\n",
            "    ``'*'``         star marker\n",
            "    ``'h'``         hexagon1 marker\n",
            "    ``'H'``         hexagon2 marker\n",
            "    ``'+'``         plus marker\n",
            "    ``'x'``         x marker\n",
            "    ``'X'``         x (filled) marker\n",
            "    ``'D'``         diamond marker\n",
            "    ``'d'``         thin_diamond marker\n",
            "    ``'|'``         vline marker\n",
            "    ``'_'``         hline marker\n",
            "    =============   ===============================\n",
            "    \n",
            "    **Line Styles**\n",
            "    \n",
            "    =============    ===============================\n",
            "    character        description\n",
            "    =============    ===============================\n",
            "    ``'-'``          solid line style\n",
            "    ``'--'``         dashed line style\n",
            "    ``'-.'``         dash-dot line style\n",
            "    ``':'``          dotted line style\n",
            "    =============    ===============================\n",
            "    \n",
            "    Example format strings::\n",
            "    \n",
            "        'b'    # blue markers with default shape\n",
            "        'or'   # red circles\n",
            "        '-g'   # green solid line\n",
            "        '--'   # dashed line with default color\n",
            "        '^k:'  # black triangle_up markers connected by a dotted line\n",
            "    \n",
            "    **Colors**\n",
            "    \n",
            "    The supported color abbreviations are the single letter codes\n",
            "    \n",
            "    =============    ===============================\n",
            "    character        color\n",
            "    =============    ===============================\n",
            "    ``'b'``          blue\n",
            "    ``'g'``          green\n",
            "    ``'r'``          red\n",
            "    ``'c'``          cyan\n",
            "    ``'m'``          magenta\n",
            "    ``'y'``          yellow\n",
            "    ``'k'``          black\n",
            "    ``'w'``          white\n",
            "    =============    ===============================\n",
            "    \n",
            "    and the ``'CN'`` colors that index into the default property cycle.\n",
            "    \n",
            "    If the color is the only part of the format string, you can\n",
            "    additionally use any  `matplotlib.colors` spec, e.g. full names\n",
            "    (``'green'``) or hex strings (``'#008000'``).\n",
            "\n"
          ]
        }
      ],
      "source": [
        "help(plt.plot)"
      ]
    },
    {
      "cell_type": "code",
      "execution_count": null,
      "metadata": {
        "id": "kp775Z4kdBe_",
        "outputId": "4cfaa8d8-8f15-4e94-9ad2-b8154d6d3fce"
      },
      "outputs": [
        {
          "name": "stdout",
          "output_type": "stream",
          "text": [
            "[0.   0.05 0.1  0.15 0.2  0.25 0.3  0.35 0.4  0.45]\n"
          ]
        },
        {
          "data": {
            "image/png": "[encoded data removed]",
            "text/plain": [
              "<Figure size 640x480 with 1 Axes>"
            ]
          },
          "metadata": {},
          "output_type": "display_data"
        }
      ],
      "source": [
        "x = np.linspace(0,10, 201)\n",
        "print(x[:10])\n",
        "plt.plot(x, np.sin(x))\n",
        "plt.grid()\n",
        "plt.show()"
      ]
    },
    {
      "cell_type": "code",
      "execution_count": null,
      "metadata": {
        "id": "eGKU0IQIdBe_",
        "outputId": "007d9388-77c4-471a-82eb-ca3f505887a0"
      },
      "outputs": [
        {
          "data": {
            "text/plain": [
              "(220, 220, 3)"
            ]
          },
          "execution_count": 93,
          "metadata": {},
          "output_type": "execute_result"
        }
      ],
      "source": [
        "from urllib.request import urlopen\n",
        "import PIL\n",
        "\n",
        "url = \"https://upload.wikimedia.org/wikipedia/en/thumb/7/7d/Lenna_%28test_image%29.png/220px-Lenna_%28test_image%29.png\"\n",
        "img = np.array(PIL.Image.open(urlopen(url)))\n",
        "\n",
        "img.shape"
      ]
    },
    {
      "cell_type": "code",
      "execution_count": null,
      "metadata": {
        "id": "CTdQw3-0dBfA",
        "outputId": "742058f8-d4b5-424a-d399-7ff0d660419f"
      },
      "outputs": [
        {
          "data": {
            "text/plain": [
              "(220, 220, 3)"
            ]
          },
          "execution_count": 94,
          "metadata": {},
          "output_type": "execute_result"
        }
      ],
      "source": [
        "import PIL\n",
        "import urllib\n",
        "img = np.array(PIL.Image.open(urllib.request.urlopen(url)))\n",
        "img.shape"
      ]
    },
    {
      "cell_type": "code",
      "execution_count": null,
      "metadata": {
        "id": "qUGI-up_dBfA",
        "outputId": "22ac2985-8166-477f-e926-4e5a9e93a3e7"
      },
      "outputs": [
        {
          "data": {
            "image/png": "[encoded data removed]",
            "text/plain": [
              "<Figure size 640x480 with 1 Axes>"
            ]
          },
          "metadata": {},
          "output_type": "display_data"
        }
      ],
      "source": [
        "plt.imshow(img)\n",
        "plt.axis('off')\n",
        "\n",
        "plt.show()"
      ]
    },
    {
      "cell_type": "code",
      "execution_count": null,
      "metadata": {
        "id": "Q8ZgiNeBdBfB",
        "outputId": "76dbe0ca-0ad0-45d4-a573-f4f8d073d616"
      },
      "outputs": [
        {
          "data": {
            "text/plain": [
              "(-1.1, 1.1, -0.1, 2.1)"
            ]
          },
          "execution_count": 95,
          "metadata": {},
          "output_type": "execute_result"
        },
        {
          "data": {
            "image/png": "[encoded data removed]",
            "text/plain": [
              "<Figure size 640x480 with 1 Axes>"
            ]
          },
          "metadata": {},
          "output_type": "display_data"
        }
      ],
      "source": [
        "plt.plot(*np.array(s.nodes)[[0,1,2,3,0]].T)\n",
        "plt.grid()\n",
        "plt.axis('equal')\n",
        "# plt.axis('off')\n"
      ]
    },
    {
      "cell_type": "code",
      "execution_count": null,
      "metadata": {
        "id": "fBGKO97kdBfB"
      },
      "outputs": [],
      "source": [
        "def draw(self,  *args, fill=False, **kwargs):\n",
        "    nodes = self.nodes + self.nodes[:1]\n",
        "    x, y = np.array(nodes).T\n",
        "    if fill:\n",
        "        plt.fill(x, y, alpha=0.5)\n",
        "    plt.plot(x, y, *args, **kwargs)\n",
        "    plt.axis('equal')\n",
        "\n",
        "Polygon.draw = draw"
      ]
    },
    {
      "cell_type": "code",
      "execution_count": null,
      "metadata": {
        "id": "lMLV92TqdBfC",
        "outputId": "a6659e87-7131-4c8f-e220-bec90b586ae7"
      },
      "outputs": [
        {
          "data": {
            "image/png": "[encoded data removed]",
            "text/plain": [
              "<Figure size 640x480 with 1 Axes>"
            ]
          },
          "metadata": {},
          "output_type": "display_data"
        }
      ],
      "source": [
        "t.draw('o-', alpha=0.5)\n",
        "s.draw('o:', markersize=10, alpha=0.5, fill=True)\n",
        "p.draw('o-', mec='r', alpha=0.5)\n",
        "plt.show()"
      ]
    },
    {
      "cell_type": "markdown",
      "metadata": {
        "id": "TLu3tx9odBfD"
      },
      "source": [
        "# `with` statement"
      ]
    },
    {
      "cell_type": "markdown",
      "metadata": {
        "id": "IEhWIqhIdBfD"
      },
      "source": [
        "\n",
        "## Mi történik a `with` statement alkalmazásakor?\n",
        "\n",
        "### Mit lehet a with mögé írni?\n",
        "\n",
        "Hasonlóan a `for`-hoz szinte bármit, aminek van két metódusa:\n",
        "\n",
        "- `__enter__`\n",
        "- `__exit__`\n",
        "\n",
        "```python\n",
        "with obj as x:\n",
        "    do_something with x\n",
        "```\n",
        "\n",
        "Itt az `obj.__enter__()` hívás eredménye lesz az x értéke és a block végén **GARANTÁLTAN** végrehajtódik az `obj.__exit__(...)` hívás.\n",
        "Az `__enter__` metódus végezheti az előkészítést, az `__exit__` a takarítást!\n",
        "\n",
        "### Kell-e nekünk ezeket a metódusokat közvetlenül implementálni?\n",
        "\n",
        "Valójában nem. Elegendő egy generátor függvényt megírni:\n",
        "\n",
        "```python\n",
        "import time\n",
        "\n",
        "def timer():\n",
        "    try:\n",
        "        start = time.time()\n",
        "        yield\n",
        "\n",
        "    finally:\n",
        "        runtime = time.time() - start\n",
        "        print(f\"run time: {runtime:3f}\")\n",
        "```\n",
        "            \n",
        "\n",
        "Így még csak egy generátort kapunk ami egyszer visszaad semmit (`None`), majd a következő iterációnál jelzi, hogy vége van a sorozatnak.\n",
        "\n",
        "Próbáljuk ki `for`-ral"
      ]
    },
    {
      "cell_type": "code",
      "execution_count": null,
      "metadata": {
        "id": "ph67VcM-dBfD",
        "outputId": "108f7b92-2e7e-494e-fa3c-b11a7cf311ab"
      },
      "outputs": [
        {
          "name": "stdout",
          "output_type": "stream",
          "text": [
            "None\n",
            "run time: 0.000077\n"
          ]
        }
      ],
      "source": [
        "import time\n",
        "\n",
        "def timer():\n",
        "    try:\n",
        "        start = time.time()\n",
        "        yield\n",
        "\n",
        "    finally:\n",
        "        runtime = time.time() - start\n",
        "        print(f\"run time: {runtime:3f}\")\n",
        "\n",
        "for x in timer():\n",
        "    print(x)"
      ]
    },
    {
      "cell_type": "markdown",
      "metadata": {
        "id": "vyXMPIHEdBfD"
      },
      "source": [
        "`with`-del hibát kapunk"
      ]
    },
    {
      "cell_type": "code",
      "execution_count": null,
      "metadata": {
        "id": "SBJYCJizdBfE",
        "outputId": "ec59e1f2-734e-4ad4-89d8-ec14f893185a"
      },
      "outputs": [
        {
          "ename": "AttributeError",
          "evalue": "__enter__",
          "output_type": "error",
          "traceback": [
            "\u001b[0;31m---------------------------------------------------------------------------\u001b[0m",
            "\u001b[0;31mAttributeError\u001b[0m                            Traceback (most recent call last)",
            "\u001b[1;32m/home/prokaj/vgy/23-24i/code/2023/_2023-11-20.ipynb Cell 67\u001b[0m line \u001b[0;36m1\n\u001b[0;32m----> <a href='vscode-notebook-cell:/home/prokaj/vgy/23-24i/code/2023/_2023-11-20.ipynb#X52sZmlsZQ%3D%3D?line=0'>1</a>\u001b[0m \u001b[39mwith\u001b[39;00m timer() \u001b[39mas\u001b[39;00m x:\n\u001b[1;32m      <a href='vscode-notebook-cell:/home/prokaj/vgy/23-24i/code/2023/_2023-11-20.ipynb#X52sZmlsZQ%3D%3D?line=1'>2</a>\u001b[0m     \u001b[39mprint\u001b[39m(x)\n",
            "\u001b[0;31mAttributeError\u001b[0m: __enter__"
          ]
        }
      ],
      "source": [
        "with timer() as x:\n",
        "    print(x)"
      ]
    },
    {
      "cell_type": "markdown",
      "metadata": {
        "id": "XK-2lmordBfF"
      },
      "source": [
        "A `contextlib` module `contextmanager` függvénye generátorból `contextmanager`-t készít."
      ]
    },
    {
      "cell_type": "code",
      "execution_count": null,
      "metadata": {
        "id": "zRc-6vUGdBfG",
        "outputId": "80d99c03-bcc6-472d-829f-98b5c123fcfa"
      },
      "outputs": [
        {
          "name": "stdout",
          "output_type": "stream",
          "text": [
            "None\n",
            "run time: 0.000043\n"
          ]
        }
      ],
      "source": [
        "from contextlib import contextmanager\n",
        "timer2 = contextmanager(timer)\n",
        "with timer2() as x:\n",
        "    print(x)"
      ]
    },
    {
      "cell_type": "markdown",
      "metadata": {
        "id": "15sqY1judBfH"
      },
      "source": [
        "Ha egy függvény akarunk alkalmazni egy függvényre, hogy azt átalakítsuk, de ugyanaz maradjon a neve akkor a python `@` szintakszist használja. Ilyenkor ,,dekoráljuk'' a függvényt. A `contextmanager` egy példa **dekorátor**ra.\n",
        "\n",
        "```python\n",
        "@contextmanager\n",
        "def timer():\n",
        "    try:\n",
        "        start = time.time()\n",
        "        yield\n",
        "\n",
        "    finally:\n",
        "        runtime = time.time() - start\n",
        "        print(f\"run time: {runtime:3f}\")\n",
        "```\n",
        "Példaként írjunk egy olyan contextmanager-t, ami jelzi nekünk, hogy mikor milyen hívás történik."
      ]
    },
    {
      "cell_type": "code",
      "execution_count": null,
      "metadata": {
        "id": "nDILF6IHdBfH"
      },
      "outputs": [],
      "source": [
        "@contextmanager\n",
        "def print_whats_going_on(x):\n",
        "    print(\"try blokk előtt\")\n",
        "    try:\n",
        "        print(\"yield előtt\")\n",
        "        yield x\n",
        "        print(\"yield után\")\n",
        "    except:\n",
        "        print(\"except ág\")\n",
        "    finally:\n",
        "        print(\"finally ág\")\n",
        "    print(\"try blokk után\")"
      ]
    },
    {
      "cell_type": "code",
      "execution_count": null,
      "metadata": {
        "id": "xfTlDGosdBfI",
        "outputId": "34b35f3a-e2b4-41a1-a3b9-489d0b4da45f"
      },
      "outputs": [
        {
          "name": "stdout",
          "output_type": "stream",
          "text": [
            "try blokk előtt\n",
            "yield előtt\n",
            "x='hello'\n",
            "yield után\n",
            "finally ág\n",
            "try blokk után\n",
            "with után\n",
            "--------------------------------------------------\n",
            "try blokk előtt\n",
            "yield előtt\n",
            "x='hello'\n",
            "except ág\n",
            "finally ág\n",
            "try blokk után\n",
            "with után\n"
          ]
        }
      ],
      "source": [
        "with print_whats_going_on(\"hello\") as x:\n",
        "    print(f\"{x=}\")\n",
        "print(\"with után\")\n",
        "\n",
        "print(\"-\"*50)\n",
        "\n",
        "with print_whats_going_on(\"hello\") as x:\n",
        "    print(f\"{x=}\")\n",
        "    raise ValueError\n",
        "print(\"with után\")\n"
      ]
    },
    {
      "cell_type": "code",
      "execution_count": null,
      "metadata": {
        "id": "T6qfz5padBfJ"
      },
      "outputs": [],
      "source": [
        "@contextmanager\n",
        "def timer():\n",
        "    try:\n",
        "        start = time.time()\n",
        "        yield\n",
        "\n",
        "    finally:\n",
        "        runtime = time.time() - start\n",
        "        print(f\"run time: {runtime:3f}\")"
      ]
    },
    {
      "cell_type": "code",
      "execution_count": null,
      "metadata": {
        "id": "zLKW8mVxdBfJ",
        "outputId": "0d33f894-5eee-43ec-f966-489e6557d1d0"
      },
      "outputs": [
        {
          "name": "stdout",
          "output_type": "stream",
          "text": [
            "run time: 0.500782\n"
          ]
        }
      ],
      "source": [
        "t = timer()\n",
        "with t:\n",
        "    time.sleep(0.5)"
      ]
    },
    {
      "cell_type": "markdown",
      "metadata": {
        "id": "WQ2v-F-ndBfK"
      },
      "source": [
        "Használhatjuk-e többször a `timer`-ünket?"
      ]
    },
    {
      "cell_type": "code",
      "execution_count": null,
      "metadata": {
        "id": "DK28Y3T6dBfK",
        "outputId": "653b4f22-e5fb-4053-dbeb-0641e266ed55"
      },
      "outputs": [
        {
          "name": "stdout",
          "output_type": "stream",
          "text": [
            "first use of <contextlib._GeneratorContextManager object at 0x7f70ea505450>\n",
            "run time: 0.500806\n",
            "second use of <contextlib._GeneratorContextManager object at 0x7f70ea505450>\n"
          ]
        },
        {
          "ename": "AttributeError",
          "evalue": "args",
          "output_type": "error",
          "traceback": [
            "\u001b[0;31m---------------------------------------------------------------------------\u001b[0m",
            "\u001b[0;31mAttributeError\u001b[0m                            Traceback (most recent call last)",
            "\u001b[1;32m/home/prokaj/vgy/23-24i/code/2023/_2023-11-20.ipynb Cell 76\u001b[0m line \u001b[0;36m6\n\u001b[1;32m      <a href='vscode-notebook-cell:/home/prokaj/vgy/23-24i/code/2023/_2023-11-20.ipynb#X64sZmlsZQ%3D%3D?line=3'>4</a>\u001b[0m     time\u001b[39m.\u001b[39msleep(\u001b[39m0.5\u001b[39m)\n\u001b[1;32m      <a href='vscode-notebook-cell:/home/prokaj/vgy/23-24i/code/2023/_2023-11-20.ipynb#X64sZmlsZQ%3D%3D?line=4'>5</a>\u001b[0m \u001b[39mprint\u001b[39m(\u001b[39mf\u001b[39m\u001b[39m\"\u001b[39m\u001b[39msecond use of \u001b[39m\u001b[39m{\u001b[39;00mt\u001b[39m}\u001b[39;00m\u001b[39m\"\u001b[39m)\n\u001b[0;32m----> <a href='vscode-notebook-cell:/home/prokaj/vgy/23-24i/code/2023/_2023-11-20.ipynb#X64sZmlsZQ%3D%3D?line=5'>6</a>\u001b[0m \u001b[39mwith\u001b[39;00m t:\n\u001b[1;32m      <a href='vscode-notebook-cell:/home/prokaj/vgy/23-24i/code/2023/_2023-11-20.ipynb#X64sZmlsZQ%3D%3D?line=6'>7</a>\u001b[0m     time\u001b[39m.\u001b[39msleep(\u001b[39m0.5\u001b[39m)\n",
            "File \u001b[0;32m~/.config/jupyterlab-desktop/jlab_server/envs/python3.10/lib/python3.10/contextlib.py:133\u001b[0m, in \u001b[0;36m_GeneratorContextManager.__enter__\u001b[0;34m(self)\u001b[0m\n\u001b[1;32m    130\u001b[0m \u001b[39mdef\u001b[39;00m \u001b[39m__enter__\u001b[39m(\u001b[39mself\u001b[39m):\n\u001b[1;32m    131\u001b[0m     \u001b[39m# do not keep args and kwds alive unnecessarily\u001b[39;00m\n\u001b[1;32m    132\u001b[0m     \u001b[39m# they are only needed for recreation, which is not possible anymore\u001b[39;00m\n\u001b[0;32m--> 133\u001b[0m     \u001b[39mdel\u001b[39;00m \u001b[39mself\u001b[39m\u001b[39m.\u001b[39margs, \u001b[39mself\u001b[39m\u001b[39m.\u001b[39mkwds, \u001b[39mself\u001b[39m\u001b[39m.\u001b[39mfunc\n\u001b[1;32m    134\u001b[0m     \u001b[39mtry\u001b[39;00m:\n\u001b[1;32m    135\u001b[0m         \u001b[39mreturn\u001b[39;00m \u001b[39mnext\u001b[39m(\u001b[39mself\u001b[39m\u001b[39m.\u001b[39mgen)\n",
            "\u001b[0;31mAttributeError\u001b[0m: args"
          ]
        }
      ],
      "source": [
        "t = timer()\n",
        "print(f\"first use of {t}\")\n",
        "with t:\n",
        "    time.sleep(0.5)\n",
        "print(f\"second use of {t}\")\n",
        "with t:\n",
        "    time.sleep(0.5)\n"
      ]
    },
    {
      "cell_type": "markdown",
      "metadata": {
        "id": "KmJsYlVDdBfK"
      },
      "source": [
        "## Tudunk-e olyan contextmanagert készíteni, ami többször felhasználható?\n",
        "\n",
        "pl.\n",
        "\n",
        "```\n",
        "with indented:\n",
        "    indented.print(\"első\")\n",
        "    with indented:\n",
        "        indented.print(\"második\")\n",
        "    indented.print(\"harmadik\")\n",
        "```\n",
        "\n",
        "ahol kimenetként azt várnánk, hogy\n",
        "```\n",
        "  első\n",
        "    második\n",
        "  harmadik\n",
        "```"
      ]
    },
    {
      "cell_type": "code",
      "execution_count": null,
      "metadata": {
        "id": "ainKG0tYdBfL"
      },
      "outputs": [],
      "source": [
        "class Indent:\n",
        "    def __init__(self, indent='  '):\n",
        "        self.level = 0\n",
        "        self.indent = indent\n",
        "\n",
        "    def __enter__(self):\n",
        "        self.level += 1\n",
        "        return None\n",
        "\n",
        "    def __exit__(self, *args):\n",
        "        self.level -= 1\n",
        "\n",
        "    def print(self, x):\n",
        "        indent = self.indent*self.level\n",
        "        x = str(x)\n",
        "        print('\\n'.join(indent+line for line in x.split('\\n')))\n"
      ]
    },
    {
      "cell_type": "code",
      "execution_count": null,
      "metadata": {
        "id": "CRnAM89ydBfL",
        "outputId": "a5bbce69-119e-4a3d-8c30-fdc5284fe26a"
      },
      "outputs": [
        {
          "name": "stdout",
          "output_type": "stream",
          "text": [
            "...első\n",
            "......második\n",
            ".........Többsoros szöveg:\n",
            ".........Első\n",
            ".........Második\n",
            ".........\n",
            "...harmadik\n"
          ]
        }
      ],
      "source": [
        "indented = Indent('...')\n",
        "text = \"\"\"Többsoros szöveg:\n",
        "Első\n",
        "Második\n",
        "\"\"\"\n",
        "with indented:\n",
        "    indented.print(\"első\")\n",
        "    with indented:\n",
        "        indented.print(\"második\")\n",
        "        with indented:\n",
        "            indented.print(text)\n",
        "    indented.print(\"harmadik\")"
      ]
    },
    {
      "cell_type": "markdown",
      "metadata": {
        "id": "So8NI9qDdBfM"
      },
      "source": [
        "# Ha maradna idő"
      ]
    },
    {
      "cell_type": "markdown",
      "metadata": {
        "id": "S72enxdMdBfM"
      },
      "source": [
        "## Feladatok előadásról"
      ]
    },
    {
      "cell_type": "markdown",
      "metadata": {
        "id": "cR_VQsqHdBfN"
      },
      "source": [
        "### Ismétlődések törlése"
      ]
    },
    {
      "cell_type": "markdown",
      "metadata": {
        "id": "15ABvB76dBfN"
      },
      "source": [
        "\n",
        "Egy adott sztringből távolítsuk el az egymás mellett álló ismétlődő karatereket.\n",
        "\n",
        "Példa:\n",
        "```\n",
        "\"kukkkuuuurrrriiiikuuuuuuuu\" -> \"kukuriku\".\n",
        "```\n",
        "\n",
        "(Ez már volt korábban. Most keressünk elegánsabb megoldást, pl. az `itertools` könyvtár függvényeinek segítségével.)\n"
      ]
    },
    {
      "cell_type": "code",
      "execution_count": null,
      "metadata": {
        "id": "qMjQQ2fWdBfN"
      },
      "outputs": [],
      "source": [
        "\n",
        "def remove_consecutive_duplicates(string):\n",
        "    pass\n"
      ]
    },
    {
      "cell_type": "markdown",
      "metadata": {
        "id": "FTR9BWNVdBfN"
      },
      "source": [
        "### Számolás polinomokkal"
      ]
    },
    {
      "cell_type": "markdown",
      "metadata": {
        "id": "1jEy5GiHdBfO"
      },
      "source": [
        "Írjunk egy `Polynomial` osztályt, ahol a polinomot tároljuk el, mint az együtthatóinak listáját.\n",
        "\n",
        "Implementáljuk két ilyen polinom összeadását (azaz írjuk meg az `__add__`, valamint a `__repr__`  metódust, hogy lássuk, mi egy ilyen osztálypéldány tartalma).\n",
        "\n",
        "Egy polinom függvény is. Implementáljuk a `__call__` metódust is, ami kiértékeli a polinomot egy adott pontban!\n"
      ]
    },
    {
      "cell_type": "code",
      "execution_count": null,
      "metadata": {
        "id": "ZvnPyNafdBfO"
      },
      "outputs": [],
      "source": [
        "from itertools import dropwhile"
      ]
    },
    {
      "cell_type": "code",
      "execution_count": null,
      "metadata": {
        "id": "sCvYN7pOdBfP"
      },
      "outputs": [],
      "source": [
        "def format_term(k, coeff, fmt=\"x^{k}\"):\n",
        "    sep = \"-\" if coeff < 0 else \"+\"\n",
        "    coeff = abs(coeff)\n",
        "    c = f\"{coeff}\" if coeff != 1 else \"\"\n",
        "    match k:\n",
        "        case 0:\n",
        "            x = \"\"\n",
        "            c = f\"{coeff}\"\n",
        "        case 1:\n",
        "            x = \"x\"\n",
        "        case _:\n",
        "            x = fmt.format(k=k)\n",
        "    return f\"{c}{x}\", sep\n",
        "\n",
        "class Polynomial:\n",
        "    def __init__(self, *coefficients):\n",
        "        self.coeff = tuple(dropwhile(lambda x: x==0, coefficients))[::-1]\n",
        "\n",
        "    def degree(self):\n",
        "        return len(self.coeff)-1 if self.coeff else 0\n",
        "\n",
        "    def __eq__(self, other):\n",
        "        return isinstance(other, type(self)) and self.coeff == other.coeff\n",
        "\n",
        "    def __add__(self, other):\n",
        "\n",
        "        coeff_a = self.coeff\n",
        "        coeff_b = other.coeff\n",
        "\n",
        "        if len(coeff_a) < len(coeff_b):\n",
        "            coeff_a, coeff_b = coeff_b, coeff_a\n",
        "\n",
        "        coeff = list(coeff_a)\n",
        "\n",
        "        for i, c in enumerate(coeff_b):\n",
        "            coeff[i] += c\n",
        "\n",
        "        return Polynomial(*reversed(coeff))\n",
        "\n",
        "    def __sub__(self, other):\n",
        "        return self+(-1)*other\n",
        "\n",
        "    def __mul__(self, other):\n",
        "        coeff = [0]*(len(self.coeff)+len(other.coeff)-1)\n",
        "        for i, ca in enumerate(self.coeff):\n",
        "            for j, cb in enumerate(other.coeff):\n",
        "                coeff[i+j] += ca*cb\n",
        "\n",
        "        return Polynomial(*reversed(coeff))\n",
        "\n",
        "    def __rmul__(self, c):\n",
        "        coeff = [c0*c for c0 in self.coeff]\n",
        "        return Polynomial(*reversed(coeff))\n",
        "\n",
        "    def leading_coeff(self):\n",
        "        return self.coeff[-1] if self.coeff else 0\n",
        "\n",
        "    def __divmod__(self, other):\n",
        "        if not isinstance(other, type(self)):\n",
        "            raise TypeError\n",
        "\n",
        "        m = Polynomial()\n",
        "        r = self\n",
        "        main_coeff = other.leading_coeff()\n",
        "        other_dg = other.degree()\n",
        "\n",
        "        while r.degree() >= other_dg:\n",
        "            c = r.leading_coeff()/main_coeff\n",
        "            m += c*monomial(r.degree()-other_dg)\n",
        "            r = self-m*other\n",
        "        return m, r\n",
        "\n",
        "    def __mod__(self, other):\n",
        "        return divmod(self, other)[1]\n",
        "\n",
        "    def __floordiv__(self, other):\n",
        "        return divmod(self, other)[0]\n",
        "\n",
        "    def __call__(self, x):\n",
        "        value = 0\n",
        "        for c in reversed(self.coeff):\n",
        "            value *= x\n",
        "            value += c\n",
        "        return value\n",
        "\n",
        "    def as_token_list(self, formatter, fmt):\n",
        "        coeffs = [(k, coeff) for k, coeff in enumerate(self.coeff) if coeff != 0]\n",
        "        if len(coeffs) == 0:\n",
        "            coeffs = [(0, 0)]\n",
        "        tokens = [token for k, coeff in coeffs for token in format_term(k, coeff, fmt)]\n",
        "        if tokens[-1] == \"+\":\n",
        "            tokens.pop()\n",
        "        tokens.reverse()\n",
        "        return tokens\n",
        "\n",
        "    def __str__(self):\n",
        "        return ''.join(self.as_token_list(format_term, \"x^{k}\"))\n",
        "\n",
        "    def __repr__(self):\n",
        "        return f\"{type(self).__name__}({', '.join(map(str, reversed(self.coeff)))})\"\n",
        "\n",
        "    def _repr_latex_(self):\n",
        "        formula = ''.join(self.as_token_list(format_term, \"x^{{{k}}}\"))\n",
        "        return f\"${formula}$\"\n",
        "\n",
        "\n",
        "def monomial(degree, unit=1):\n",
        "    coeff = [unit]+[0]*degree\n",
        "    return Polynomial(*coeff)"
      ]
    },
    {
      "cell_type": "code",
      "execution_count": null,
      "metadata": {
        "id": "C4zkKEZ1dBfP"
      },
      "outputs": [],
      "source": []
    },
    {
      "cell_type": "code",
      "execution_count": null,
      "metadata": {
        "id": "NElC--1NdBfP",
        "outputId": "b09bcbfc-4aca-4fe3-bc09-51017e21742e"
      },
      "outputs": [
        {
          "data": {
            "text/latex": [
              "$-x^{2}-3$"
            ],
            "text/plain": [
              "Polynomial(-1, 0, -3)"
            ]
          },
          "metadata": {},
          "output_type": "display_data"
        },
        {
          "data": {
            "text/latex": [
              "$2x^{3}-x+1$"
            ],
            "text/plain": [
              "Polynomial(2, 0, -1, 1)"
            ]
          },
          "metadata": {},
          "output_type": "display_data"
        },
        {
          "data": {
            "text/latex": [
              "$-2x^{5}-5x^{3}-x^{2}+3x-3$"
            ],
            "text/plain": [
              "Polynomial(-2, 0, -5, -1, 3, -3)"
            ]
          },
          "metadata": {},
          "output_type": "display_data"
        },
        {
          "data": {
            "text/latex": [
              "$-2x^{2}-6$"
            ],
            "text/plain": [
              "Polynomial(-2, 0, -6)"
            ]
          },
          "metadata": {},
          "output_type": "display_data"
        },
        {
          "name": "stdout",
          "output_type": "stream",
          "text": [
            "2x^3-x+1\n"
          ]
        }
      ],
      "source": [
        "\n",
        "\n",
        "p = Polynomial(-1, 0, -3)    # -> x^2 - 3\n",
        "q = Polynomial(2, 0, -1, 1)  # -> 2x^3 + 3x + 1\n",
        "display(p)\n",
        "display(q)\n",
        "display(p*q)\n",
        "display(2*p)\n",
        "print(str(q))"
      ]
    },
    {
      "cell_type": "code",
      "execution_count": null,
      "metadata": {
        "id": "yBdTewnidBfP",
        "outputId": "5e6114b6-c2cd-4c6e-a985-ac13850e5f73"
      },
      "outputs": [
        {
          "data": {
            "text/latex": [
              "$-2x$"
            ],
            "text/plain": [
              "Polynomial(-2, 0)"
            ]
          },
          "metadata": {},
          "output_type": "display_data"
        },
        {
          "data": {
            "text/latex": [
              "$-7x+1$"
            ],
            "text/plain": [
              "Polynomial(-7, 1)"
            ]
          },
          "metadata": {},
          "output_type": "display_data"
        },
        {
          "data": {
            "text/latex": [
              "$-x^{2}-3$"
            ],
            "text/plain": [
              "Polynomial(-1, 0, -3)"
            ]
          },
          "metadata": {},
          "output_type": "display_data"
        },
        {
          "data": {
            "text/latex": [
              "$2x^{3}-x+1$"
            ],
            "text/plain": [
              "Polynomial(2, 0, -1, 1)"
            ]
          },
          "metadata": {},
          "output_type": "display_data"
        },
        {
          "data": {
            "text/latex": [
              "$2x^{3}+6x$"
            ],
            "text/plain": [
              "Polynomial(2, 0, 6, 0)"
            ]
          },
          "metadata": {},
          "output_type": "display_data"
        }
      ],
      "source": [
        "p = Fraction(1,1)*p\n",
        "q = Fraction(1,1)*q\n",
        "\n",
        "m, r = divmod(q, p)\n",
        "display(m)\n",
        "display(r)\n",
        "display(p)\n",
        "display(q)\n",
        "display(m*p)"
      ]
    },
    {
      "cell_type": "markdown",
      "metadata": {
        "id": "bgPBlEaNdBfQ"
      },
      "source": [
        "#### Korábbi feladat"
      ]
    },
    {
      "cell_type": "markdown",
      "metadata": {
        "id": "VSgvYvEgdBfQ"
      },
      "source": [
        "Írjunk egy függvényt, ami kiszámolja az első $n$ természetes szám $p$-ik hatványösszegét.\n",
        "\n",
        "pl. `p = 0`-ra\n",
        "\n",
        "```Python\n",
        "def f0(n):\n",
        "    return n\n",
        "```\n",
        "\n",
        "jó, mert $k^0=1$ ha $k=1,\\dots,n$ és ezek összege pont $n$.\n",
        "\n",
        "Ha `p = 1`, akkor\n",
        "\n",
        "```Python\n",
        "def f1(n):\n",
        "    return n*(n+1)//2\n",
        "```\n",
        "\n",
        "jó, mert $\\sum_{k=1}^n k = n(n+1)/2$.\n",
        "\n",
        "Még `p = 2`-t is tanultuk\n",
        "\n",
        "```Python\n",
        "def f2(n):\n",
        "    return n*(n+1)*(2*n+1)//6\n",
        "```\n",
        "\n",
        "Általános $p$-re tudunk-e ilyen függvényt írni?"
      ]
    },
    {
      "cell_type": "code",
      "execution_count": null,
      "metadata": {
        "id": "4nZvBU24dBfQ"
      },
      "outputs": [],
      "source": [
        "def mk_power_sum(p):\n",
        "    def f(n):\n",
        "        total = 0\n",
        "        for k in range(1, n+1):\n",
        "            total += k**p\n",
        "        return total\n",
        "\n",
        "    f.__doc__ = f\"\"\"\n",
        "        {p}-ik hatványok összegét számolja\n",
        "        \"\"\"\n",
        "\n",
        "    return f"
      ]
    },
    {
      "cell_type": "code",
      "execution_count": null,
      "metadata": {
        "id": "5VGKVakzdBfR"
      },
      "outputs": [],
      "source": [
        "f2_slow = mk_power_sum(2)"
      ]
    },
    {
      "cell_type": "code",
      "execution_count": null,
      "metadata": {
        "id": "wBe6yLqRdBfS"
      },
      "outputs": [],
      "source": [
        "f2_slow?"
      ]
    },
    {
      "cell_type": "code",
      "execution_count": null,
      "metadata": {
        "id": "apIE9RMTdBfS"
      },
      "outputs": [],
      "source": [
        "[f2_slow(i) for i in range(0, 10)]"
      ]
    },
    {
      "cell_type": "code",
      "execution_count": null,
      "metadata": {
        "id": "ta-eeSE3dBfT"
      },
      "outputs": [],
      "source": [
        "def f2_fast(n):\n",
        "    return n*(n+1)*(2*n+1)//6"
      ]
    },
    {
      "cell_type": "code",
      "execution_count": null,
      "metadata": {
        "id": "BCotAW_BdBfT"
      },
      "outputs": [],
      "source": [
        "%timeit f2_slow(10_000)\n",
        "%timeit f2_fast(10_000)"
      ]
    },
    {
      "cell_type": "markdown",
      "metadata": {
        "id": "qSOMj5UQdBfU"
      },
      "source": [
        "### Ötlet"
      ]
    },
    {
      "cell_type": "markdown",
      "metadata": {
        "id": "ZIZR6MQSdBfU"
      },
      "source": [
        "$$\n",
        "    \\sum_{k=r}^n  \\binom{k}{r} = \\binom{n+1}{r+1}\n",
        "$$\n",
        "\n",
        "**Bizonyítás.**\n",
        "$\\{1,2,\\dots,n+1\\}$-ből válasszunk ki $r+1$ különböző számot.\n",
        "\n",
        "Összes lehetőség:\n",
        "$$\n",
        "\\binom{n+1}{r+1}.\n",
        "$$\n",
        "\n",
        "Számoljuk meg az eseteket aszerint szétbontva is, hogy legnagyobb kiválasztott szám mivel egyenlő.\n",
        "\n",
        "Ha a legnagyobb szám $k+1$, akkor a maradék $r$ számot $\\{1,2,\\dots, k\\}$ közül választjuk. Így az esetek száma\n",
        "$$\n",
        "    \\sum_{k+1=r+1}^{n+1} \\binom{k}{r} =  \\sum_{k=r}^{n} \\binom{k}{r}\n",
        "$$  \n",
        "$k+1$ helyett $k$ az összegzési változó"
      ]
    },
    {
      "cell_type": "markdown",
      "metadata": {
        "id": "ZIceR8RHdBfV"
      },
      "source": [
        "Ugyanez másképp.\n",
        "\n",
        "$$\n",
        "\\binom{k}{r} = \\frac{1}{r!} k(k-1)\\cdots(k-r+1) = \\frac{1}{r!}p_r(k-r+1),\\quad\\text{ahol}\\quad p_r(x) = x(x+1)\\cdots(x+r-1)\n",
        "$$\n",
        "és\n",
        "$$\n",
        "    \\sum_{j=1}^{n-r+1} \\frac{1}{r!}p_r(j) = \\frac{1}{(r+1)!}p_{r+1}(n+1-(r+1)+1)= \\frac{1}{(r+1)!} p_{r+1}(n-r+1)\\quad\\text{minden $n\\geq r$ és $r\\geq 0$-ra}\n",
        "$$\n",
        "\n",
        "Az összegzés felső határa és $p_{r+1}$ argumentuma ugyanaz, azaz\n",
        "\n",
        "$$\n",
        "\\sum_{j=0}^{n} p_r(j) = \\frac{1}{r+1}p_{r+1}(n)\n",
        "$$"
      ]
    },
    {
      "cell_type": "markdown",
      "metadata": {
        "id": "ku7mrLh9dBfV"
      },
      "source": [
        "**Lineáris algebra.**\n",
        "\n",
        "$$\n",
        "p_0\\equiv 1,\\quad p_1(x)=x,\\quad p_2(x)=x(x+1),\\quad\\dots,\\quad p_r(x)=x(x+1)\\cdots(x+r-1)\n",
        "$$\n",
        "\n",
        "bázis a legfeljebb $r$-edfokú polinomok vektorterében.\n",
        "\n",
        "$$\n",
        "    x^r = \\sum_{i=0}^r a_i p_i(x)\n",
        "$$\n",
        "és\n",
        "$$\n",
        "    \\sum_{k=0}^n k^r = \\sum_{k=0}^n \\sum_{i=0}^r a_i p_i(k) =  \\sum_{i=0}^r a_i  \\sum_{k=0}^n p_i(k) = \\sum_{i=0}^r \\frac{a_i}{r+1}  p_{i+1}(n)\n",
        "$$\n"
      ]
    },
    {
      "cell_type": "markdown",
      "metadata": {
        "id": "061JUjjodBfV"
      },
      "source": [
        "### Összefoglalva\n",
        "\n",
        "- Egy polinomot az együtthatókkal ábrázolhatunk.\n",
        "- Kellene egy függvény, ami a természetes $1, x, x^2,\\dots$ bázisban felírt polinomot a $p_0,p_1,\\dots$ bázisban ír fel.\n",
        "- $p_0, p_1, \\dots,$ bázisban az összegzés könnyű, lényegében arrébb kell tolni az együtthatókat.\n",
        "- A $p_0,p_1,\\dots$ bázisban felírt polinomot vagy visszaszámoljuk a természetes bázisba, vagy megírjuk a függvényt, ami kiértékeli a függvényt egy adott pontban."
      ]
    },
    {
      "cell_type": "markdown",
      "metadata": {
        "id": "fSOVchzUdBfV"
      },
      "source": [
        "Vegyük észre, hogy $p_0$ azonosan 1, $p_1(0)=0$, $p_2(0)=p_2(-1)=0$, stb.\n",
        "\n",
        "Ha $f=\\sum_i a_i p_i$, akkor\n",
        "$$\n",
        "    f(0) = \\sum_i a_i p(0) = a_0, \\quad f(-1) = a_0 p_0(-1) + a_1 p_1(-1),\\quad f(-k) = a_0 p_0(-k) + a_1 p_1(-k) + \\cdots + a_k p_k(-k).\n",
        "$$\n",
        "amiből\n",
        "\n",
        "$$\n",
        "\\begin{align*}\n",
        "    a_0 & = f(0)\\\\\n",
        "    a_1 & = \\frac{f(-1) - a_0 p_0(-1)}{p_1(-1)}\\\\\n",
        "    \\vdots\\\\\n",
        "    a_k & = \\frac{f(-k) - \\sum_{j=0}^{k-1} a_j p_j(-k)}{p_{k}(-k)}\\\\\n",
        "    \\vdots\n",
        "\\end{align*}\n",
        "$$  \n",
        "Kihasználhatjuk még, hogy\n",
        "$$\n",
        "p_k(-k)=(-k)(-k+1)\\cdots(-k+(k-1))=(-1)^k k!.\n",
        "$$"
      ]
    },
    {
      "cell_type": "code",
      "execution_count": null,
      "metadata": {
        "id": "MYo1O-8ldBfV"
      },
      "outputs": [],
      "source": [
        "def basis():\n",
        "    i = 0\n",
        "    p = Polynomial(1)\n",
        "    while True:\n",
        "        yield p\n",
        "        p *= Polynomial(1,i)\n",
        "        i += 1\n"
      ]
    },
    {
      "cell_type": "code",
      "execution_count": null,
      "metadata": {
        "id": "Fi_XG39TdBfV"
      },
      "outputs": [],
      "source": [
        "from itertools import islice"
      ]
    },
    {
      "cell_type": "code",
      "execution_count": null,
      "metadata": {
        "id": "4LBUNtu_dBfW",
        "outputId": "bc12194b-1cb1-4107-cc2d-74252ee24b17"
      },
      "outputs": [
        {
          "data": {
            "text/latex": [
              "$1$"
            ],
            "text/plain": [
              "Polynomial(1)"
            ]
          },
          "metadata": {},
          "output_type": "display_data"
        },
        {
          "name": "stdout",
          "output_type": "stream",
          "text": [
            "i=1, p(-i)=1\n",
            "--------------------\n"
          ]
        },
        {
          "data": {
            "text/latex": [
              "$x$"
            ],
            "text/plain": [
              "Polynomial(1, 0)"
            ]
          },
          "metadata": {},
          "output_type": "display_data"
        },
        {
          "name": "stdout",
          "output_type": "stream",
          "text": [
            "i=2, p(-i)=-2\n",
            "--------------------\n"
          ]
        },
        {
          "data": {
            "text/latex": [
              "$x^{2}+x$"
            ],
            "text/plain": [
              "Polynomial(1, 1, 0)"
            ]
          },
          "metadata": {},
          "output_type": "display_data"
        },
        {
          "name": "stdout",
          "output_type": "stream",
          "text": [
            "i=3, p(-i)=6\n",
            "--------------------\n"
          ]
        },
        {
          "data": {
            "text/latex": [
              "$x^{3}+3x^{2}+2x$"
            ],
            "text/plain": [
              "Polynomial(1, 3, 2, 0)"
            ]
          },
          "metadata": {},
          "output_type": "display_data"
        },
        {
          "name": "stdout",
          "output_type": "stream",
          "text": [
            "i=4, p(-i)=-24\n",
            "--------------------\n"
          ]
        },
        {
          "data": {
            "text/latex": [
              "$x^{4}+6x^{3}+11x^{2}+6x$"
            ],
            "text/plain": [
              "Polynomial(1, 6, 11, 6, 0)"
            ]
          },
          "metadata": {},
          "output_type": "display_data"
        },
        {
          "name": "stdout",
          "output_type": "stream",
          "text": [
            "i=5, p(-i)=120\n",
            "--------------------\n"
          ]
        }
      ],
      "source": [
        "for i, p in enumerate(islice(basis(), 5), 1):\n",
        "    display(p)\n",
        "    print(f\"{i=}, {p(-i)=}\")\n",
        "    print(\"-\"*20)"
      ]
    },
    {
      "cell_type": "code",
      "execution_count": null,
      "metadata": {
        "id": "qCOuuuAmdBfW"
      },
      "outputs": [],
      "source": [
        "def mk_fast_power_sum(p: Polynomial) -> Polynomial:\n",
        "    q = Polynomial()\n",
        "    q0 = Polynomial()\n",
        "\n",
        "    it = iter(basis())\n",
        "    i = 0\n",
        "\n",
        "    while q0 != p:\n",
        "        pi = next(it)\n",
        "        if i > 0:\n",
        "            q += (coeff/i)*pi\n",
        "        coeff = ((p(-i) - q0(-i))/pi(-i))\n",
        "        q0 += coeff*pi\n",
        "        i += 1\n",
        "\n",
        "    q += (coeff/i)*next(it)\n",
        "    return q"
      ]
    },
    {
      "cell_type": "code",
      "execution_count": null,
      "metadata": {
        "id": "l6mPaiLedBfX",
        "outputId": "8b56720e-dfec-4562-9c25-c74d10b8be4e"
      },
      "outputs": [
        {
          "data": {
            "text/latex": [
              "$0.1111111111111111x^{9}+0.5x^{8}+0.6666666666666643x^{7}-0.46666666666715173x^{5}+0.22222222222444543x^{3}-0.03333333333284827x$"
            ],
            "text/plain": [
              "Polynomial(0.1111111111111111, 0.5, 0.6666666666666643, 0.0, -0.46666666666715173, 0.0, 0.22222222222444543, 0.0, -0.03333333333284827, 0.0)"
            ]
          },
          "metadata": {},
          "output_type": "display_data"
        }
      ],
      "source": [
        "mk_fast_power_sum(monomial(8))"
      ]
    },
    {
      "cell_type": "code",
      "execution_count": null,
      "metadata": {
        "id": "iSulkErEdBfX"
      },
      "outputs": [],
      "source": [
        "from fractions import Fraction"
      ]
    },
    {
      "cell_type": "code",
      "execution_count": null,
      "metadata": {
        "id": "zn9-3U13dBfX",
        "outputId": "09564a0f-47c4-4cc2-9bb3-f99797c9e522"
      },
      "outputs": [
        {
          "data": {
            "text/latex": [
              "$6x^{5}+15x^{4}+10x^{3}-x$"
            ],
            "text/plain": [
              "Polynomial(6, 15, 10, 0, -1, 0)"
            ]
          },
          "metadata": {},
          "output_type": "display_data"
        }
      ],
      "source": [
        "q = 30*mk_fast_power_sum(monomial(4, Fraction(1,1)))\n",
        "display(q)"
      ]
    },
    {
      "cell_type": "code",
      "execution_count": null,
      "metadata": {
        "id": "Ej95L8DCdBfX",
        "outputId": "b510bb5e-c515-4b06-fc1d-c38d31cd1eda"
      },
      "outputs": [
        {
          "data": {
            "text/plain": [
              "(Fraction(0, 1), Fraction(0, 1), Fraction(0, 1), 6)"
            ]
          },
          "metadata": {},
          "output_type": "display_data"
        }
      ],
      "source": [
        "q(0), q(-1), q(Fraction(-1,2)), q.degree()"
      ]
    },
    {
      "cell_type": "code",
      "execution_count": null,
      "metadata": {
        "id": "ldYOHzzKdBfY",
        "outputId": "228b619c-e26f-488f-cdb2-6d0cb2705620"
      },
      "outputs": [
        {
          "data": {
            "text/latex": [
              "$2x^{3}+3x^{2}+x$"
            ],
            "text/plain": [
              "Polynomial(2, 3, 1, 0)"
            ]
          },
          "metadata": {},
          "output_type": "display_data"
        }
      ],
      "source": [
        "f = monomial(1)*Polynomial(1,1)*Polynomial(2,1)\n",
        "f"
      ]
    },
    {
      "cell_type": "code",
      "execution_count": null,
      "metadata": {
        "id": "ytJNXpZ0dBfY",
        "outputId": "ae0d6b8b-d8a4-4b65-a9c2-c946ae3e5f97"
      },
      "outputs": [
        {
          "data": {
            "text/latex": [
              "$3x^{2}+3x-1$"
            ],
            "text/plain": [
              "Polynomial(3, 3, -1)"
            ]
          },
          "metadata": {},
          "output_type": "display_data"
        }
      ],
      "source": [
        "p = Polynomial(3,3,-1)\n",
        "q - p*f\n",
        "p"
      ]
    },
    {
      "cell_type": "markdown",
      "metadata": {
        "id": "d8BSetPUdBfY"
      },
      "source": [
        "#### Gyors ellenőrzés."
      ]
    },
    {
      "cell_type": "code",
      "execution_count": null,
      "metadata": {
        "id": "l1ZjJZDDdBfY"
      },
      "outputs": [],
      "source": [
        "%%ipytest\n",
        "\n",
        "def test_fast_power_sum():\n",
        "    p0 =  Polynomial(Fraction(1, 1),0)\n",
        "    p1 = p0\n",
        "    for i in range(1, 4):\n",
        "        f = mk_fast_power_sum(p1)\n",
        "        p1 *= p0\n",
        "        g = mk_power_sum(i)\n",
        "        for n in range(1000):\n",
        "            assert f(n) == g(n)"
      ]
    },
    {
      "cell_type": "code",
      "execution_count": null,
      "metadata": {
        "id": "19wiEfzudBfY"
      },
      "outputs": [],
      "source": [
        "f2 = mk_fast_power_sum(Polynomial(Fraction(1,1), 0, 0))\n",
        "%timeit f2_slow(10_000)\n",
        "%timeit f2(10_000)\n",
        "%timeit f2_fast(10_000)"
      ]
    },
    {
      "cell_type": "code",
      "execution_count": null,
      "metadata": {
        "id": "wkUwDnQDdBfZ"
      },
      "outputs": [],
      "source": [
        "f2.__dict__\n"
      ]
    },
    {
      "cell_type": "markdown",
      "metadata": {
        "id": "kAwsZm1pdBfZ"
      },
      "source": [
        "# Egy gráfelméleti algoritmus"
      ]
    },
    {
      "cell_type": "markdown",
      "metadata": {
        "id": "aP3MFK7IdBfZ"
      },
      "source": [
        "## Feladat"
      ]
    },
    {
      "cell_type": "markdown",
      "metadata": {
        "id": "FHlRO_h0dBfa"
      },
      "source": [
        "Adott egy `n` csúcsú irányítatlan gráf az élek listájával. A gráf csúcsait `0`-tól `n-1`-ig címkéztük meg, az éleket pedig a végpontokkal.\n",
        "\n",
        "Emellett adott egy kiindulási pont és egy végpont. Azt szeretnénk eldönteni, hogy el lehet-e jutni a kiindulási pontból a végpontba a gráf éleit használva.\n",
        "\n",
        "Gondolhatunk arra, hogy a gráf egy úthálózatot ír le és a kérdés az, hogy el tudunk-e jutni `A`-ból `B`-be."
      ]
    },
    {
      "cell_type": "markdown",
      "metadata": {
        "id": "VOtfJqZCdBfa"
      },
      "source": [
        "Pl. `n = 3`, élek `edges = [[0,1], [1,2], [2,0]]`, `A =  0`, `B = 2`."
      ]
    },
    {
      "cell_type": "markdown",
      "metadata": {
        "id": "sFlgn6UDdBfa"
      },
      "source": [
        "Gráfok megjelenítésére egy hasznos könyvtár a `graphviz`."
      ]
    },
    {
      "cell_type": "code",
      "execution_count": null,
      "metadata": {
        "id": "ay9iLLrmdBfb"
      },
      "outputs": [],
      "source": [
        "import importlib\n",
        "if importlib.util.find_spec('graphviz') is None:\n",
        "    ! pip install graphviz\n",
        "import graphviz"
      ]
    },
    {
      "cell_type": "code",
      "execution_count": null,
      "metadata": {
        "id": "8Cv3hD2IdBfb"
      },
      "outputs": [],
      "source": [
        "edges = [[0,1], [1,2], [2,0]]\n",
        "g0 = graphviz.Graph()\n",
        "\n",
        "g0.edges([(str(a), str(b)) for a, b in edges])\n",
        "g0"
      ]
    },
    {
      "cell_type": "markdown",
      "metadata": {
        "id": "cDgyNad5dBfb"
      },
      "source": [
        "A gráf összefüggő, tetszőleges `A`, `B` esetén a válasz: `True`"
      ]
    },
    {
      "cell_type": "code",
      "execution_count": null,
      "metadata": {
        "id": "y24o2WOadBfc"
      },
      "outputs": [],
      "source": [
        "n = 6\n",
        "edges = [[0,1],[0,2],[3,5],[5,4],[4,3]]\n",
        "A = 0\n",
        "B = 5\n",
        "\n",
        "g1 = graphviz.Graph()\n",
        "g1.edges([(str(a), str(b)) for a, b in edges])\n",
        "g1"
      ]
    },
    {
      "cell_type": "markdown",
      "metadata": {
        "id": "Y-OkJBmldBfc"
      },
      "source": [
        "Nincs út 0 és 5 között. A válasz: `False`"
      ]
    },
    {
      "cell_type": "markdown",
      "metadata": {
        "id": "iRhx0xqNdBfd"
      },
      "source": [
        "Összefüggőségi komponenseket szeretnénk számolni.\n",
        "\n"
      ]
    },
    {
      "cell_type": "markdown",
      "metadata": {
        "id": "WiuHn3KvdBfd"
      },
      "source": [
        "## Ötlet.\n",
        "\n",
        "Az él nélküli gráfból indulunk ki. Itt egy elemű komponensek vannak.\n",
        "\n",
        "Minden komponensből válasszunk egy reprezentáns és minden $i$ pontra feljegyezzük, melyik komponensben van.\n",
        "\n",
        "\n"
      ]
    },
    {
      "cell_type": "code",
      "execution_count": null,
      "metadata": {
        "id": "MBj76h3cdBfd"
      },
      "outputs": [],
      "source": [
        "def show_graph(roots, direction = 'LR'):\n",
        "    g = graphviz.Digraph(graph_attr={'rankdir': direction})\n",
        "    g.edges((str(i), str(r)) for i, r in enumerate(roots))\n",
        "    return g"
      ]
    },
    {
      "cell_type": "code",
      "execution_count": null,
      "metadata": {
        "id": "lfeSp50KdBfd"
      },
      "outputs": [],
      "source": [
        "n = 5\n",
        "roots = [i for i in range(n)]\n",
        "display(show_graph(roots, 'TD'))"
      ]
    },
    {
      "cell_type": "markdown",
      "metadata": {
        "id": "u4wn_foZdBfd"
      },
      "source": [
        "ha behúzzuk a $(0, 1)$ élet, akkor $0$ és $1$ azonos komponensbe kerül. Választhatunk a két összeuniózott komponens reprezentánsa között, legyen pl. 1"
      ]
    },
    {
      "cell_type": "code",
      "execution_count": null,
      "metadata": {
        "id": "ESwT9GxqdBfd"
      },
      "outputs": [],
      "source": [
        "roots[0] = 1\n",
        "display(show_graph(roots, 'TD'))"
      ]
    },
    {
      "cell_type": "markdown",
      "metadata": {
        "id": "x4kCPIWjdBfe"
      },
      "source": [
        "Ha most a (0, 2) élet akarjuk behúzni, akkor nem állíthatjuk át `roots[0]`. Meg kell keresnünk `0` komponensének reprezentását, ez 1 és vagy `roots[1]`-et állítjuk 2 -re, vagy `roots[2]`-t 1-re."
      ]
    },
    {
      "cell_type": "code",
      "execution_count": null,
      "metadata": {
        "id": "IJKcbb3rdBfe"
      },
      "outputs": [],
      "source": [
        "def find(roots, a):\n",
        "    while a != roots[a]:\n",
        "        a = roots[a]\n",
        "    return a"
      ]
    },
    {
      "cell_type": "code",
      "execution_count": null,
      "metadata": {
        "id": "YjMcppWydBfe"
      },
      "outputs": [],
      "source": [
        "find(roots, 0), find(roots, 2)"
      ]
    },
    {
      "cell_type": "code",
      "execution_count": null,
      "metadata": {
        "id": "8xtPN2VHdBff"
      },
      "outputs": [],
      "source": [
        "def union(roots, a, b):\n",
        "    ra = find(roots, a)\n",
        "    rb = find(roots, b)\n",
        "    roots[ra] = rb"
      ]
    },
    {
      "cell_type": "code",
      "execution_count": null,
      "metadata": {
        "id": "f3N1fVXQdBff"
      },
      "outputs": [],
      "source": [
        "union(roots, 0, 2)\n",
        "print(f\"After union(0, 2) {roots=}\")\n",
        "display(show_graph(roots))\n",
        "\n",
        "union(roots, 3, 4)\n",
        "print(f\"After union(3, 4) {roots=}\")\n",
        "print(roots)\n",
        "display(show_graph(roots))\n",
        "\n",
        "union(roots, 3, 2)\n",
        "print(f\"After union(3, 2) {roots=}\")\n",
        "print(roots)\n",
        "display(show_graph(roots))"
      ]
    },
    {
      "cell_type": "markdown",
      "metadata": {
        "id": "HS7sJ5-FdBff"
      },
      "source": [
        "Ezután az a kérdés, hogy el lehet-e jutni `A`-ból, `B`-be könnyen eldönthető. Ha `A` és `B` azonos komponensben van, akkor `A` és `B` között megy út az eredeti gráfban, különben nem."
      ]
    },
    {
      "cell_type": "markdown",
      "metadata": {
        "id": "oJEw30ycdBfg"
      },
      "source": [
        "1. példa\n",
        "`n = 3`, élek `edges = [[0,1], [1,2], [2,0]]`, `A =  0`, `B = 2`."
      ]
    },
    {
      "cell_type": "code",
      "execution_count": null,
      "metadata": {
        "id": "lVIMj591dBfg"
      },
      "outputs": [],
      "source": [
        "def show_edges(edges, direction='LR'):\n",
        "    g = graphviz.Graph(graph_attr={'rankdir': direction})\n",
        "    g.edges([(str(a), str(b)) for a, b in edges])\n",
        "    return g"
      ]
    },
    {
      "cell_type": "code",
      "execution_count": null,
      "metadata": {
        "id": "Xq7m3FpUdBfg"
      },
      "outputs": [],
      "source": [
        "n = 3\n",
        "edges = [[0,1], [1,2], [2,0]]\n",
        "A =  0\n",
        "B = 2\n",
        "\n",
        "display(show_edges(edges, 'TD'))\n",
        "print(f\"Eredeti gráf\")\n",
        "print(\"=\"*50)\n",
        "\n",
        "roots = [i for i in range(n)]\n",
        "for a, b in edges:\n",
        "    union(roots, a, b)\n",
        "\n",
        "display(show_graph(roots))\n",
        "print(f\"{A=} és {B=} {'azonos' if find(roots, A)==find(roots, B) else 'különböző'} komponensben van\")"
      ]
    },
    {
      "cell_type": "markdown",
      "metadata": {
        "id": "KLdB-7kYdBfh"
      },
      "source": [
        "2. példa"
      ]
    },
    {
      "cell_type": "code",
      "execution_count": null,
      "metadata": {
        "id": "cwh6uR-idBfh"
      },
      "outputs": [],
      "source": [
        "n = 6\n",
        "edges = [[0,1],[0,2],[3,5],[5,4],[4,3]]\n",
        "A = 0\n",
        "B = 5\n",
        "\n",
        "display(show_edges(edges))\n",
        "print(f\"Eredeti gráf\")\n",
        "print(\"=\"*50)\n",
        "\n",
        "roots = [i for i in range(n)]\n",
        "for a, b in edges:\n",
        "    union(roots, a, b)\n",
        "\n",
        "display(show_graph(roots))\n",
        "print(f\"{A=} és {B=} {'azonos' if find(roots, A)==find(roots, B) else 'különböző'} komponensben van\")\n"
      ]
    },
    {
      "cell_type": "markdown",
      "metadata": {
        "id": "zAeakoYKdBfh"
      },
      "source": [
        "Látszik, hogy először létre kell hoznunk a `roots` tömböt, majd utána ezzel kell számolnunk.\n",
        "\n",
        "Célszerű egy osztályt léterhozni:"
      ]
    },
    {
      "cell_type": "code",
      "execution_count": null,
      "metadata": {
        "id": "Jl7a584NdBfh"
      },
      "outputs": [],
      "source": [
        "class UnionFind:\n",
        "    def __init__(self, n):\n",
        "        self.roots = [i for i in range(n)]\n",
        "\n",
        "    def find(self, a):\n",
        "        while a != self.roots[a]:\n",
        "            a = self.roots[a]\n",
        "        return a\n",
        "\n",
        "    def union(self, a, b):\n",
        "        ra, rb = self.find(a), self.find(b)\n",
        "        if ra != rb:\n",
        "            self.roots[ra] = rb\n",
        "        return self\n",
        "\n",
        "    def show(self, *args, **kwargs):\n",
        "        display(show_graph(self.roots, *args, **kwargs))"
      ]
    },
    {
      "cell_type": "markdown",
      "metadata": {
        "id": "Db2WfLVDdBfi"
      },
      "source": [
        "Mi történik, ha nagyobb gráfunk van?"
      ]
    },
    {
      "cell_type": "code",
      "execution_count": null,
      "metadata": {
        "id": "w4eLQQE8dBfi"
      },
      "outputs": [],
      "source": [
        "n = 10\n",
        "edges = [(0,i+1) for i in range(n-1)]\n",
        "display(show_edges(edges, 'TD'))\n",
        "\n",
        "uf = UnionFind(n)\n",
        "for a, b in edges:\n",
        "    uf.union(a, b)\n",
        "\n",
        "uf.show()"
      ]
    },
    {
      "cell_type": "markdown",
      "metadata": {
        "id": "QtK-jQ72dBfi"
      },
      "source": [
        "Valahányszor behúzzuk a $(0, i)$ élet, meg kell keresni $0$ reprezentánsát. $k$ él behúzása után $k$-lépéssel találjuk meg. Ha 10 helyett 10_000 méretű a gráf ez nem fog működni.\n",
        "\n",
        "### Javítási lehetőségek.\n",
        "\n",
        "- Amikor megkeressük $i$ reprezentánsát végig megyünk a reprezentánshoz vezető úton. Minden meglátogatott csúcsra ismerté válik a reprezentáns értéke. Ezt beírhatjuk a `roots` tömbe. (path compression)\n",
        "\n",
        "- A nagyobb komponensbe kössük be a kisebbet és ne fordítva. Ehhez  a ,,méretet'' nyilván kell tartani."
      ]
    },
    {
      "cell_type": "code",
      "execution_count": null,
      "metadata": {
        "id": "Jg_XgFGLdBfi"
      },
      "outputs": [],
      "source": [
        "def find_better(roots, a):\n",
        "    ra = roots[a]\n",
        "    if a != ra:\n",
        "        ra = find_better(roots, ra)\n",
        "        roots[a] = ra\n",
        "    return ra\n",
        "\n",
        "def find_better_without_recursion(roots, a):\n",
        "    stack = []\n",
        "\n",
        "    ra = roots[a]\n",
        "    while a != ra:\n",
        "        stack.append(a)\n",
        "        a = ra\n",
        "        ra = roots[a]\n",
        "\n",
        "    while stack:\n",
        "        roots[stack.pop()] = ra\n",
        "\n",
        "    return ra\n",
        "\n",
        "\n",
        "def union_sizes(roots, sizes, a, b):\n",
        "    ra = find_better(roots, a)\n",
        "    rb = find_better(roots, b)\n",
        "    if ra != rb:\n",
        "        if sizes[ra] < sizes[rb]:\n",
        "            ra, rb = rb, ra\n",
        "        roots[rb] = ra\n",
        "        sizes[ra] += sizes[rb]\n",
        "\n",
        "def union_ranks(roots, ranks, a, b):\n",
        "    ra = find_better(roots, a)\n",
        "    rb = find_better(roots, b)\n",
        "    if ra != rb:\n",
        "        if ranks[ra] < ranks[rb]:\n",
        "            ra, rb = rb, ra\n",
        "        roots[rb] = ra\n",
        "        if ranks[ra] == ranks[rb]:\n",
        "            ranks[ra] += 1"
      ]
    },
    {
      "cell_type": "code",
      "execution_count": null,
      "metadata": {
        "id": "InwWChOkdBfj"
      },
      "outputs": [],
      "source": [
        "n = 10\n",
        "edges = [(0, i) for i in range(1, n)]\n",
        "display(show_edges(edges, 'TD'))\n",
        "\n",
        "roots = [i for i in range(n)]\n",
        "\n",
        "for a, b in edges:\n",
        "    ra = find_better(roots, a)\n",
        "    rb = find_better(roots, b)\n",
        "    roots[ra] = rb\n",
        "\n",
        "display(show_graph(roots, 'LR'))\n"
      ]
    },
    {
      "cell_type": "code",
      "execution_count": null,
      "metadata": {
        "id": "ZmqBt0oJdBfj"
      },
      "outputs": [],
      "source": [
        "n = 10\n",
        "edges = [(0, i) for i in range(1, n)]\n",
        "display(show_edges(edges, 'TD'))\n",
        "\n",
        "roots = [i for i in range(n)]\n",
        "\n",
        "for a, b in edges:\n",
        "    ra = find_better(roots, a)\n",
        "    rb = find_better(roots, b)\n",
        "    roots[rb] = ra\n",
        "\n",
        "display(show_graph(roots, 'TD'))\n"
      ]
    },
    {
      "cell_type": "code",
      "execution_count": null,
      "metadata": {
        "id": "tMAL9IwTdBfj"
      },
      "outputs": [],
      "source": [
        "n = 10\n",
        "edges = [(0, i) for i in range(1, n)]\n",
        "display(show_edges(edges, 'TD'))\n",
        "\n",
        "roots = [i for i in range(n)]\n",
        "sizes = [1]*n\n",
        "\n",
        "for a, b in edges:\n",
        "    union_sizes(roots, sizes, a, b)\n",
        "\n",
        "display(show_graph(roots, 'TD'))\n"
      ]
    },
    {
      "cell_type": "code",
      "execution_count": null,
      "metadata": {
        "id": "bx7P5gMNdBfk"
      },
      "outputs": [],
      "source": [
        "n = 10\n",
        "edges = [(0, i) for i in range(1, n)]\n",
        "display(show_edges(edges, 'TD'))\n",
        "\n",
        "roots = [i for i in range(n)]\n",
        "ranks = [0]*n\n",
        "\n",
        "for a, b in edges:\n",
        "    union_ranks(roots, ranks, a, b)\n",
        "\n",
        "display(show_graph(roots, 'TD'))\n"
      ]
    },
    {
      "cell_type": "markdown",
      "metadata": {
        "id": "c_f2T1gwdBfk"
      },
      "source": [
        "### Szokásos implementáció"
      ]
    },
    {
      "cell_type": "code",
      "execution_count": null,
      "metadata": {
        "id": "GOUIWnQvdBfl"
      },
      "outputs": [],
      "source": [
        "class UnionFind:\n",
        "    def __init__(self, n):\n",
        "        self.roots = [i for i in range(n)]\n",
        "        self.sizes = [1]*n\n",
        "\n",
        "    def find(self, a):\n",
        "        ra = self.roots[a]\n",
        "        if a != ra:\n",
        "            ra = self.find( ra)\n",
        "            self.roots[a] = ra\n",
        "        return ra\n",
        "\n",
        "    def union(self, a, b):\n",
        "        ra = self.find(a)\n",
        "        rb = self.find(b)\n",
        "        if ra != rb:\n",
        "            if self.sizes[ra] < self.sizes[rb]:\n",
        "                ra, rb = rb, ra\n",
        "            self.roots[rb] = ra\n",
        "            self.sizes[ra] += self.sizes[rb]\n"
      ]
    },
    {
      "cell_type": "code",
      "execution_count": null,
      "metadata": {
        "id": "MZTgD6FTdBfl"
      },
      "outputs": [],
      "source": [
        "uf = UnionFind(10)\n",
        "print(uf)\n",
        "uf.union(1, 2)\n",
        "print(uf)\n",
        "uf.union(5, 9)\n",
        "uf.union(6, 7)\n",
        "print(uf)\n",
        "\n",
        "uf"
      ]
    },
    {
      "cell_type": "markdown",
      "metadata": {
        "id": "Raybm5whdBfl"
      },
      "source": [
        "`__str__` és `__repr__` metódusok"
      ]
    },
    {
      "cell_type": "code",
      "execution_count": null,
      "metadata": {
        "id": "RztltvNTdBfm"
      },
      "outputs": [],
      "source": [
        "def as_set(seq):\n",
        "    return f\"{{{', '.join(map(str, seq))}}}\"\n",
        "\n",
        "def uf_str(self):\n",
        "    components = {}\n",
        "    for a in range(len(self.roots)):\n",
        "        ra = self.find(a)\n",
        "        if ra not in components:\n",
        "            components[ra] = []\n",
        "        components[ra].append(a)\n",
        "    return f\"{{{ ', '.join(map(as_set, components.values()))}}}\"\n",
        "\n",
        "def uf_repr(self):\n",
        "    return f\"{type(self).__name__}({len(self.roots)})\"\n",
        "\n",
        "# Így is lehet:\n",
        "UnionFind.__str__ = uf_str\n",
        "UnionFind.__repr__ = uf_repr"
      ]
    },
    {
      "cell_type": "code",
      "execution_count": null,
      "metadata": {
        "id": "RpIyOVnkdBfm"
      },
      "outputs": [],
      "source": [
        "uf = UnionFind(10)\n",
        "print(uf)\n",
        "uf.union(1, 2)\n",
        "print(uf)\n",
        "uf.union(5, 9)\n",
        "uf.union(6, 7)\n",
        "print(uf)\n",
        "\n",
        "uf"
      ]
    },
    {
      "cell_type": "markdown",
      "metadata": {
        "id": "z7H6QLlPdBfm"
      },
      "source": [
        "### További kérdések\n",
        "\n",
        "- Tegyük fel, hogy a komponensek száma érdekel minket. Hogyan oldanánk, meg, hogy konstans idő alatt megkaphassuk.\n",
        "- Tegyük fel, hogy a legnagyobb komponens méretet érdekel minket. Hogyan oldanánk, meg, hogy konstans idő alatt megkaphassuk.\n",
        "- Hogyan ellenőriznénk, hogy két partíció azonos?"
      ]
    },
    {
      "cell_type": "markdown",
      "metadata": {
        "id": "078WWH-GdBfm"
      },
      "source": [
        "# Faktoriális értékének közelítése"
      ]
    },
    {
      "cell_type": "markdown",
      "metadata": {
        "id": "i_ZtKvFIdBfn"
      },
      "source": [
        "Mekkora $n!$, ha $n$ nagy?\n",
        "\n",
        "Ötlet:\n",
        "$$\n",
        "    \\log n! = \\sum_{k=1}^n \\log k \\approx \\int_1^{?} \\log x dx = \\left[ x(\\log x-1)\\right]_{x=1}^{x=?}\n",
        "$$"
      ]
    },
    {
      "cell_type": "code",
      "execution_count": null,
      "metadata": {
        "id": "q5J-cvG7dBfn"
      },
      "outputs": [],
      "source": [
        "import matplotlib.pyplot as plt\n",
        "import math\n",
        "\n",
        "def subdivision(a, b, n):\n",
        "    d = (b-a)/n\n",
        "    return [a+i*d for i in range(n+1)]\n",
        "\n",
        "def add_function_curve(f, a, b, n=100):\n",
        "    xs = subdivision(a, b, n)\n",
        "    fxs = [f(x) for x in  xs]\n",
        "    plt.plot(xs, fxs, \"r-\")"
      ]
    },
    {
      "cell_type": "markdown",
      "metadata": {
        "id": "SXILcUs0dBfn"
      },
      "source": [
        "## Téglalap közelítés"
      ]
    },
    {
      "cell_type": "code",
      "execution_count": null,
      "metadata": {
        "id": "xEcgIRjUdBfn"
      },
      "outputs": [],
      "source": [
        "k_values = [k for k in range(1, 11)]\n",
        "for k in k_values:\n",
        "    plt.fill_between([k+i for k in k_values for i in range(2)], [math.log(k) for k in k_values for i in range(2)], color='lightblue')\n",
        "\n",
        "add_function_curve(math.log, 1, 11)\n"
      ]
    },
    {
      "cell_type": "markdown",
      "metadata": {
        "id": "G76zqY3vdBfn"
      },
      "source": [
        "A hiba:"
      ]
    },
    {
      "cell_type": "code",
      "execution_count": null,
      "metadata": {
        "id": "hUM_pa8rdBfn"
      },
      "outputs": [],
      "source": [
        "def primitive_function(x):\n",
        "    return x*(math.log(x)-1)\n",
        "\n",
        "def rectangle_error(k):\n",
        "    return primitive_function(k+1)-primitive_function(k)-math.log(k)\n",
        "\n",
        "def cummulative_error(n, error_fun=rectangle_error):\n",
        "    return sum(error_fun(k) for k in range(1, n+1))"
      ]
    },
    {
      "cell_type": "code",
      "execution_count": null,
      "metadata": {
        "id": "jqodPYigdBfp"
      },
      "outputs": [],
      "source": [
        "for n in [10, 100, 1000]:\n",
        "    print(f\"{n=}, {cummulative_error(n)=}\")"
      ]
    },
    {
      "cell_type": "markdown",
      "metadata": {
        "id": "xYEMo-02dBfp"
      },
      "source": [
        "### Javítás, trapéz összeg közelítés"
      ]
    },
    {
      "cell_type": "markdown",
      "metadata": {
        "id": "kzj8XFzFdBfp"
      },
      "source": [
        "Téglalapok helyett minden egység intervallumon a beírt trapézt  használjuk."
      ]
    },
    {
      "cell_type": "code",
      "execution_count": null,
      "metadata": {
        "id": "0kHWEd1NdBfq"
      },
      "outputs": [],
      "source": [
        "k_values = [k for k in range(1, 11)]\n",
        "for k in k_values:\n",
        "    plt.fill_between(k_values, [math.log(k) for k in k_values], color='lightblue')\n",
        "\n",
        "add_function_curve(math.log, 1, 10)\n"
      ]
    },
    {
      "cell_type": "code",
      "execution_count": null,
      "metadata": {
        "id": "B-8jP0CDdBfq"
      },
      "outputs": [],
      "source": [
        "def error_fun(x):\n",
        "    k, t = divmod(x, 1)\n",
        "    return math.log(x) - ((1-t)*math.log(k) + t*math.log(k+1))\n",
        "\n",
        "xs = subdivision(1, 10, 100)\n",
        "plt.fill_between(xs, [error_fun(x) for x in xs], color='lightblue')\n",
        "add_function_curve(error_fun, 1, 10, 500)\n"
      ]
    },
    {
      "cell_type": "code",
      "execution_count": null,
      "metadata": {
        "id": "MFqdc7QPdBfq"
      },
      "outputs": [],
      "source": [
        "def modified_error_fun(x):\n",
        "    k = x//1\n",
        "    return k*k*error_fun(x)\n",
        "\n",
        "for a in [1, 100, 1000, 10000]:\n",
        "    b = a+10\n",
        "    xs = subdivision(a, b, 1000)\n",
        "\n",
        "    plt.fill_between(xs, [modified_error_fun(x) for x in xs], color='lightblue')\n",
        "    add_function_curve(modified_error_fun, a, b, 1000)\n",
        "    plt.show()"
      ]
    },
    {
      "cell_type": "code",
      "execution_count": null,
      "metadata": {
        "id": "nqj0J2NudBfq"
      },
      "outputs": [],
      "source": [
        "def trapezoid_error(k):\n",
        "    return primitive_function(k+1)-primitive_function(k)-0.5*(math.log(k)+math.log(k+1))\n"
      ]
    },
    {
      "cell_type": "code",
      "execution_count": null,
      "metadata": {
        "id": "EQxyJynndBfq"
      },
      "outputs": [],
      "source": [
        "for n in [10, 100, 1000]:\n",
        "    print(f\"{n = :>4}, {cummulative_error(n, trapezoid_error) = :.8f}\")"
      ]
    },
    {
      "cell_type": "markdown",
      "metadata": {
        "id": "Pk7pNEnvdBfq"
      },
      "source": [
        "## Látszik, hogy a hiba lassan nő. Tudunk-e felső becslést adni rá?\n",
        "\n",
        "$$\n",
        "    \\int_{k}^{k+1} \\log x dx = \\int_0^1 \\log(k+x) dx\n",
        "$$\n",
        "\n",
        "A beírt trapéz területe integrállal\n",
        "\n",
        "$$\n",
        "    \\int_0^1 x\\log(k+1)+(1-x)\\log(k) dx\n",
        "$$\n",
        "\n",
        "Tudjuk-e becsülni a két integrandus különbségét?\n",
        "$$\n",
        "    \\log(k+x) - (x\\log(k+1)+(1-x)\\log(k))\n",
        "$$\n",
        "\n",
        "Átalakítás mindkét tagból levonunk $\\log(k)$-t:\n",
        "$$\n",
        "    \\log(k+x) - \\log(k) - (x\\log(k+1)+(1-x)\\log(k) -\\log(k)) = \\log(1+\\tfrac{x}{k}) - x\\log(1+\\tfrac1k)\n",
        "$$\n"
      ]
    },
    {
      "cell_type": "code",
      "execution_count": null,
      "metadata": {
        "id": "bhihhqnodBfr"
      },
      "outputs": [],
      "source": [
        "xs = subdivision(0, 1, 100)\n",
        "\n",
        "for k in range(1, 4):\n",
        "    plt.fill_between(xs, [math.log(k+x)-math.log(k) for x in xs], [math.log(k+1)*x+math.log(k)*(1-x)-math.log(k) for x in xs], color=\"blue\")\n",
        "\n",
        "plt.grid()"
      ]
    },
    {
      "cell_type": "markdown",
      "metadata": {
        "id": "c93hjg0mdBfr"
      },
      "source": [
        "A logaritmus függvény konkáv, a derivált monoton fogy ($1/x$) és egy beírt húr mindig a végponthoz behúzott érintő egyenesek alatt van.\n",
        "\n",
        "$$\n",
        "    \\log (1+x)\\leq x\n",
        "$$\n",
        "\n",
        "ezért\n",
        "$$\n",
        "    \\log(1+x/k) - x \\log(1+1/k)\\leq \\frac xk - x\\log(1+1/k) = x(1/k -\\log(1+1/k))\n",
        "$$\n",
        "\n",
        "de\n",
        "$$\n",
        "    \\log(1+1/k) = \\log\\frac{k+1}{k} = -\\log\\frac{k}{k+1} = -\\log(1-1/(k+1)) \\geq \\frac1{k+1}\n",
        "$$\n",
        "\n",
        "Így\n",
        "\n",
        "$$\n",
        "    \\log(1+x/k) - x \\log(1+1/k)\\leq x\\left(\\frac1k-\\frac1{k+1}\\right)\n",
        "$$\n",
        "és\n",
        "a $k$. intervallumon elkövetett hiba legfeljebb\n",
        "$$\n",
        "    \\int_{0}^{1} \\log(k+x) - ((1-x)\\log(k)+x\\log(k+1))dx = \\int_0^1 x dx \\left(\\frac1k -\\frac1{k+1}\\right)\n",
        "$$\n",
        "A hibák összege legfeljebb:\n",
        "$$\n",
        "    \\frac12 \\sum_{k=1}^\\infty \\frac1k -\\frac1{k+1} =\\frac12\n",
        "$$"
      ]
    },
    {
      "cell_type": "markdown",
      "metadata": {
        "id": "fChFVqqcdBfr"
      },
      "source": [
        "Összefoglalva:\n",
        "\n",
        "$$\n",
        "    \\log n! = \\int_1^n \\log x dx + \\frac12 \\log n + r_n = n(\\log(n) - 1) + 1 + \\frac12 \\log (n) + r_n\n",
        "$$\n",
        "ahol $r_n$ a közelítés hibája az első $n$ intervallumon\n",
        "$$\n",
        "    r_n = \\sum_{k=1}^n \\int_0^1 \\log(1+x/k)-x\\log(1+1/k)dx \\leq 1/2\n",
        "$$\n",
        "$(r_n)$ monoton nő, ezért létezik limesze.\n",
        "\n",
        "Visszaírva faktoriálisra:\n",
        "\n",
        "$$\n",
        "    n! = \\sqrt{n}\\left(\\frac{n}{e}\\right)^n c_n\n",
        "$$\n",
        "ahol $c_n=e^{1+r_n}\\leq e^{3/2}$\n",
        "\n",
        "Analízisben a Wallis formula következményeként szerepel\n",
        "\n",
        "$$\n",
        "\\lim c_n = \\sqrt{2\\pi}\n",
        "$$\n",
        "\n",
        "Ez a nevezetes **Stirling** formula:\n",
        "$$\n",
        " \\frac{n!}{\\sqrt{2\\pi n}\\left(\\frac{n}{e}\\right)^n} \\to 1\n",
        "$$\n"
      ]
    },
    {
      "cell_type": "markdown",
      "metadata": {
        "id": "eE6liGp8dBfr"
      },
      "source": [
        "### Wallis formula középiskolai eszközökkel"
      ]
    },
    {
      "cell_type": "markdown",
      "metadata": {
        "id": "JyKdkOF6dBfr"
      },
      "source": [
        "\n",
        "Középiskolai tudást használva is kiszámíthatnánk a limeszt. Ehhez a\n",
        "$$\n",
        "    I_n = \\int_{0}^{\\pi/2} \\cos^n(x) dx\n",
        "$$\n",
        "sorozatot kellen vizsgálni. Parciálisan integrálva:\n",
        "$$\n",
        "    I_{n+2} = \\int_{0}^{\\pi/2} (1-\\sin^2x)\\cos^n(x) dx\n",
        "    = I_n - \\int_{0}^{\\pi/2} \\sin^2(x)\\cos^n(x) dx\n",
        "$$\n",
        "ahol\n",
        "$$\n",
        "\\begin{aligned}\n",
        "-\\int_{0}^{\\pi/2} \\sin^2(x)\\cos^n(x) dx\n",
        "& =\n",
        "\\frac1{n+1} \\int_{0}^{\\pi/2} \\sin(x)(\\cos^{n+1}(x))' dx\n",
        "\\\\\n",
        "&=\n",
        "\\frac{1}{n+1}\\left[\\sin(x)\\cos^{n+1}(x)\\right]_{x=0}^{x=\\pi/2}-\\frac{1}{n+1}\\int_0^{\\pi/2}\\cos^{n+2}(x)dx\n",
        "\\\\\n",
        "&= -\\frac{1}{n+1} I_{n+2}\n",
        "\\end{aligned}\n",
        "$$\n",
        "\n",
        "**Összefoglalva**:\n",
        "\n",
        "$$\n",
        "    I_{n+2} = \\int_{0}^{\\pi/2} (1-\\sin^2x)\\cos^n(x) dx\n",
        "    = I_n - \\frac{1}{n+1}I_{n+2} = \\frac{n+1}{n+2} I_n\n",
        "$$\n",
        "\n",
        "Ha $n=2k$ páros, akkor\n",
        "$$\n",
        "    I_{2k} = \\frac{2k-1}{2k} I_{2k-2} = \\frac{(2k-1)(2k-3)}{2k(2k-2)} I_{2k-4} =\\cdots=\\frac{(2k-1)!!}{2^k k!}I_0=\\frac{1}{2^{2k}}\\binom{2k}{k}\\frac{\\pi}2\n",
        "$$\n",
        "Ha $n=2k+1$ páratlan, akkor\n",
        "$$\n",
        "    I_{2k+1} = \\frac{2k}{2k-1} I_{2k-3} = \\frac{(2k)(2k-2)}{(2k+1)(2k-1)} I_{2k-3} =\\cdots=\\frac{2^k k!}{(2k+1)!!}I_1=\\frac{2^{2k}}{(2k+1)\\binom{2k}{k}}=\\frac{2^{2(k+1)}}{2(k+1)\\binom{2(k+1)}{k+1}}\n",
        "$$\n",
        "Mivel $(I_n)$ monoton fogyó:\n",
        "$$\n",
        "    I_{2k-1}=\\frac{2^{2k}}{2k\\binom{2k}{k}}  > I_{2k} = \\frac{1}{2^{2k}}\\binom{2k}{k}\\frac{\\pi}2  > I_{2k+1}= \\frac{2^k k!}{(2k+1)!!}I_1=\\frac{2^{2k}}{(2k+1)\\binom{2k}{k}}\n",
        "$$\n",
        "Átrendezés után\n",
        "$$\n",
        "\\frac{1}{2k\\pi/2} < \\left(\\frac{1}{2^{2k}}\\binom{2k}{k}\\right)^2 < \\frac{1}{(2k+1)\\pi/2}\n",
        "$$\n",
        "és\n",
        "$$\n",
        "    \\lim_{n\\to\\infty}\\sqrt{n} \\frac{1}{2^{2n}}\\binom{2n}{n} = \\frac{1}{\\sqrt{\\pi}}\n",
        "$$\n",
        "\n",
        "Másfelől a faktoriális közelítését használva:\n",
        "$$\n",
        "    \\sqrt{n}\\frac1{2^{2n}}\\binom{2n}{n}\n",
        "    = \\sqrt{n} \\frac1{2^{2n}} \\frac{c_{2n} \\sqrt{2n} \\left(\\frac{2n}{e}\\right)^{2n}}{c_n^2 n\\left(\\frac{n}{e}\\right)^{2n}}\n",
        "    \\to \\lim_{n\\to\\infty} \\frac{\\sqrt{2}c_{2n}}{c_n^2} = \\lim_{n\\to\\infty}\\frac{\\sqrt{2}}{c_n}=\\frac1{\\sqrt{\\pi}}\n",
        "$$\n",
        "amiből $\\lim_n c_n =\\sqrt{2\\pi}$.\n",
        "\n"
      ]
    },
    {
      "cell_type": "markdown",
      "metadata": {
        "id": "cCZS_UvodBfr"
      },
      "source": []
    }
  ],
  "metadata": {
    "kernelspec": {
      "display_name": "python3.10",
      "language": "python",
      "name": "python3"
    },
    "language_info": {
      "codemirror_mode": {
        "name": "ipython",
        "version": 3
      },
      "file_extension": ".py",
      "mimetype": "text/x-python",
      "name": "python",
      "nbconvert_exporter": "python",
      "pygments_lexer": "ipython3",
      "version": "3.10.12"
    },
    "colab": {
      "provenance": []
    }
  },
  "nbformat": 4,
  "nbformat_minor": 0
}