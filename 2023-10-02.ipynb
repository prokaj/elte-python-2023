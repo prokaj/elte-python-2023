{
  "cells": [
    {
      "cell_type": "markdown",
      "metadata": {
        "id": "b1XNcgQx5Z4V"
      },
      "source": [
        "[![Open In Colab](https://colab.research.google.com/assets/colab-badge.svg)](https://colab.research.google.com/github/prokaj/elte-python-2023/blob/main/2023-10-02.ipynb)   "
      ]
    },
    {
      "cell_type": "code",
      "execution_count": 1,
      "metadata": {
        "id": "YLtMGGnN5Z4X",
        "outputId": "36bc379b-34ca-44a3-ce37-1a0959575a8f",
        "colab": {
          "base_uri": "https://localhost:8080/"
        }
      },
      "outputs": [
        {
          "output_type": "stream",
          "name": "stdout",
          "text": [
            "Collecting ipytest\n",
            "  Downloading ipytest-0.13.3-py3-none-any.whl (14 kB)\n",
            "Requirement already satisfied: ipython in /usr/local/lib/python3.10/dist-packages (from ipytest) (7.34.0)\n",
            "Requirement already satisfied: packaging in /usr/local/lib/python3.10/dist-packages (from ipytest) (23.1)\n",
            "Requirement already satisfied: pytest>=5.4 in /usr/local/lib/python3.10/dist-packages (from ipytest) (7.4.1)\n",
            "Requirement already satisfied: iniconfig in /usr/local/lib/python3.10/dist-packages (from pytest>=5.4->ipytest) (2.0.0)\n",
            "Requirement already satisfied: pluggy<2.0,>=0.12 in /usr/local/lib/python3.10/dist-packages (from pytest>=5.4->ipytest) (1.3.0)\n",
            "Requirement already satisfied: exceptiongroup>=1.0.0rc8 in /usr/local/lib/python3.10/dist-packages (from pytest>=5.4->ipytest) (1.1.3)\n",
            "Requirement already satisfied: tomli>=1.0.0 in /usr/local/lib/python3.10/dist-packages (from pytest>=5.4->ipytest) (2.0.1)\n",
            "Requirement already satisfied: setuptools>=18.5 in /usr/local/lib/python3.10/dist-packages (from ipython->ipytest) (67.7.2)\n",
            "Collecting jedi>=0.16 (from ipython->ipytest)\n",
            "  Downloading jedi-0.19.1-py2.py3-none-any.whl (1.6 MB)\n",
            "\u001b[2K     \u001b[90m━━━━━━━━━━━━━━━━━━━━━━━━━━━━━━━━━━━━━━━━\u001b[0m \u001b[32m1.6/1.6 MB\u001b[0m \u001b[31m13.7 MB/s\u001b[0m eta \u001b[36m0:00:00\u001b[0m\n",
            "\u001b[?25hRequirement already satisfied: decorator in /usr/local/lib/python3.10/dist-packages (from ipython->ipytest) (4.4.2)\n",
            "Requirement already satisfied: pickleshare in /usr/local/lib/python3.10/dist-packages (from ipython->ipytest) (0.7.5)\n",
            "Requirement already satisfied: traitlets>=4.2 in /usr/local/lib/python3.10/dist-packages (from ipython->ipytest) (5.7.1)\n",
            "Requirement already satisfied: prompt-toolkit!=3.0.0,!=3.0.1,<3.1.0,>=2.0.0 in /usr/local/lib/python3.10/dist-packages (from ipython->ipytest) (3.0.39)\n",
            "Requirement already satisfied: pygments in /usr/local/lib/python3.10/dist-packages (from ipython->ipytest) (2.16.1)\n",
            "Requirement already satisfied: backcall in /usr/local/lib/python3.10/dist-packages (from ipython->ipytest) (0.2.0)\n",
            "Requirement already satisfied: matplotlib-inline in /usr/local/lib/python3.10/dist-packages (from ipython->ipytest) (0.1.6)\n",
            "Requirement already satisfied: pexpect>4.3 in /usr/local/lib/python3.10/dist-packages (from ipython->ipytest) (4.8.0)\n",
            "Requirement already satisfied: parso<0.9.0,>=0.8.3 in /usr/local/lib/python3.10/dist-packages (from jedi>=0.16->ipython->ipytest) (0.8.3)\n",
            "Requirement already satisfied: ptyprocess>=0.5 in /usr/local/lib/python3.10/dist-packages (from pexpect>4.3->ipython->ipytest) (0.7.0)\n",
            "Requirement already satisfied: wcwidth in /usr/local/lib/python3.10/dist-packages (from prompt-toolkit!=3.0.0,!=3.0.1,<3.1.0,>=2.0.0->ipython->ipytest) (0.2.6)\n",
            "Installing collected packages: jedi, ipytest\n",
            "Successfully installed ipytest-0.13.3 jedi-0.19.1\n"
          ]
        }
      ],
      "source": [
        "import importlib\n",
        "\n",
        "if importlib.util.find_spec('ipytest') is None:\n",
        "    ! pip install ipytest\n",
        "\n",
        "import ipytest\n",
        "\n",
        "ipytest.autoconfig()"
      ]
    },
    {
      "cell_type": "markdown",
      "metadata": {
        "id": "cfaMpW9R5Z4a"
      },
      "source": [
        "# Házi feladatok\n",
        "\n"
      ]
    },
    {
      "cell_type": "markdown",
      "metadata": {
        "id": "3x2FFpuL5Z4b"
      },
      "source": [
        "## Feladat\n",
        "\n"
      ]
    },
    {
      "cell_type": "markdown",
      "metadata": {
        "id": "WNIMASI55Z4c"
      },
      "source": [
        "Írjunk három függvényt.\n",
        "\n",
        "Az első (`poly_add`) két együttható sorozattal (listával) adott polinomot ad össze. A függvény értéke a két polinom összegének együttható sorozata.\n",
        "\n",
        "A második (`poly_mul`) két együttható sorozattal (listával) adott polinomot összeszoroz. A függvény értéke a két polinom szorzatának együttható sorozata.\n",
        "\n",
        "A harmadik (`poly_norm`) a gyakorlaton is használt $p_0≡1$, $p_1(x)=x$, $p_k(x)=\\frac1{k!}x(x+1)⋯(x+k−1)$ bázisról tér át a természetes bázisra. Azaz $c_0,\\dots,c_r$ együttható sorozatból kiszámítja az $a_0,\\dots,a_r$ sorozatot úgy, hogy\n",
        "$$\n",
        "r!\\sum_{k=0}^ r c_kp_k(x) = \\sum_{k=0}^r a_kx^k\n",
        "$$\n",
        "Az $r!$-nak csak annyi a szerepe, hogy egész értékű $c_0,\\dots,c_r$ esetén az $a_0,\\dots,a_r$ értékek is egészek legyenek!"
      ]
    },
    {
      "cell_type": "code",
      "execution_count": 5,
      "metadata": {
        "id": "uj_XysLd5Z4c"
      },
      "outputs": [],
      "source": [
        "import math\n",
        "\n",
        "def poly_add(a, b):\n",
        "    if len(a) > len(b):\n",
        "        a, b = b, a\n",
        "    result = b.copy()\n",
        "    for i in range(len(a)):\n",
        "        result[i] += a[i]\n",
        "    # for i, ai in enumerate(a):\n",
        "    #     result[i] += ai\n",
        "    while len(result) > 1 and result[-1] == 0:\n",
        "        result.pop()\n",
        "\n",
        "    return result\n",
        "\n",
        "def poly_mul(a, b):\n",
        "    result = [0]*(len(a)+len(b)-1)\n",
        "    for i in range(len(a)):\n",
        "        for j in range(len(b)):\n",
        "            result[i+j] += a[i]*b[j]\n",
        "    return result\n",
        "\n",
        "def poly_norm(coeff):\n",
        "\n",
        "    p = [1]\n",
        "    result = [0]\n",
        "\n",
        "    r_factorial = math.factorial(len(coeff)-1)\n",
        "\n",
        "    for i, ci in enumerate(coeff):\n",
        "        result = poly_add(result, poly_mul(p, [ci*r_factorial]))\n",
        "        p = poly_mul(p, [i, 1])\n",
        "        r_factorial //= (i+1)\n",
        "\n",
        "    return result"
      ]
    },
    {
      "cell_type": "code",
      "source": [
        "poly_norm([0, -1, 2])"
      ],
      "metadata": {
        "id": "rK5WdeYO_8f4",
        "outputId": "b2d99ddc-98f5-43e0-f8cf-53b086454fe8",
        "colab": {
          "base_uri": "https://localhost:8080/"
        }
      },
      "execution_count": 13,
      "outputs": [
        {
          "output_type": "execute_result",
          "data": {
            "text/plain": [
              "[0, 0, 2]"
            ]
          },
          "metadata": {},
          "execution_count": 13
        }
      ]
    },
    {
      "cell_type": "markdown",
      "metadata": {
        "id": "_LlDf_Ty5Z4d"
      },
      "source": [
        "Néhány segédfüggvény."
      ]
    },
    {
      "cell_type": "code",
      "execution_count": 3,
      "metadata": {
        "id": "6yPdnV4B5Z4d"
      },
      "outputs": [],
      "source": [
        "def poly_taylor(coeff):\n",
        "    \"\"\"\n",
        "    returns a polinomial function\n",
        "    sum coeff[i] x**i = coeff[0] + x*(coeff[1] + x*(...))\n",
        "    \"\"\"\n",
        "    def f(x):\n",
        "        value = 0\n",
        "        for c in reversed(coeff):\n",
        "            value = value*x+c\n",
        "        return value\n",
        "\n",
        "    return f\n",
        "\n",
        "def poly_other(coeff):\n",
        "    \"\"\"\n",
        "    returns a polinomial function\n",
        "    sum coeff[i] x*(x+1)*...(x+i-1) = coeff[0] + x*(coeff[1] + (x+1)*(...))\n",
        "    \"\"\"\n",
        "    def f(x):\n",
        "        value = 0\n",
        "        p = 1\n",
        "        for i, c in enumerate(coeff):\n",
        "            value += c*p\n",
        "            p = p*(x+i)/(i+1)\n",
        "        return value\n",
        "\n",
        "    return f"
      ]
    },
    {
      "cell_type": "code",
      "execution_count": 14,
      "metadata": {
        "id": "-llYg1eU5Z4e",
        "outputId": "7eeb8931-9b68-4550-b907-80b523325513",
        "colab": {
          "base_uri": "https://localhost:8080/"
        }
      },
      "outputs": [
        {
          "output_type": "stream",
          "name": "stdout",
          "text": [
            "\u001b[32m.\u001b[0m\u001b[32m.\u001b[0m\u001b[32m.\u001b[0m\u001b[32m                                                                                          [100%]\u001b[0m\n",
            "\u001b[32m\u001b[32m\u001b[1m3 passed\u001b[0m\u001b[32m in 0.02s\u001b[0m\u001b[0m\n"
          ]
        }
      ],
      "source": [
        "%%ipytest\n",
        "\n",
        "def test_poly_add():\n",
        "    a = [1, 2, 3]\n",
        "    b = [0,1,0,1,0,1]\n",
        "    c = poly_add(a, b)\n",
        "    pa = poly_taylor(a)\n",
        "    pb = poly_taylor(b)\n",
        "    pc = poly_taylor(c)\n",
        "    for x in range(max(len(a), len(b), len(c))):\n",
        "        assert pc(x) == pa(x) + pb(x)\n",
        "\n",
        "def test_poly_mul():\n",
        "    a = [1, 2, 3]\n",
        "    b = [0,1,0,1,0,1]\n",
        "    c = poly_mul(a, b)\n",
        "    pa = poly_taylor(a)\n",
        "    pb = poly_taylor(b)\n",
        "    pc = poly_taylor(c)\n",
        "    for x in range(max(len(a), len(b), len(c))):\n",
        "        assert pc(x) == pa(x) * pb(x)\n",
        "\n",
        "\n",
        "def test_poly_norm():\n",
        "    a = [1, 2, 3]\n",
        "    b = poly_norm(a)\n",
        "    pa = poly_other(a)\n",
        "    pb = poly_taylor(b)\n",
        "    r_factorial = math.factorial(len(a)-1)\n",
        "    for x in range(max(len(a), len(b))):\n",
        "        assert r_factorial*pa(x) == pb(x)\n"
      ]
    },
    {
      "cell_type": "markdown",
      "metadata": {
        "id": "QV_1puGx5Z4f"
      },
      "source": [
        "## Szorgalmi feladat\n"
      ]
    },
    {
      "cell_type": "markdown",
      "metadata": {
        "id": "gjDPJgpC5Z4g"
      },
      "source": [
        "Adott egy számokból álló $n\\geq 1$ hosszú lista és egy pozitív egész $k$, $1\\leq k\\leq n$.\n",
        "\n",
        "A lista elemeit $a_0,a_1,\\dots,a_{n−1}$ jelöli. Írjunk egy függvényt, ami minden $0\\leq i < n-k$ indexre kiszámítja az  $a_i,a_{i+1},\\dots,a_{i+k−1}$ értékek maximumát.\n",
        "\n",
        "A függvény eredménye tehát egy $n−k+1$ hosszú lista, aminek $i$-k eleme: $\\max_{i\\leq j<i+k} a_j$.\n",
        "\n",
        "Írjuk meg a függvény naiv, és ezért egyszerű változatát. Nem számít, ha nem optimális, de legyen átlátható és ezt is teszteljük néhány nem túl hosszú sorozaton.\n",
        "\n",
        "Plusz 2 pontért írjuk meg az optimalizált változatot is, ami $O(n)$\n",
        "lépésben számolja az eredményt. Az optimalizált változatot teszteljük a naiv változat segítségével.\n",
        "\n",
        "Végül plusz 1 pont a lineáris futási idő bizonyításáért.\n",
        "\n"
      ]
    },
    {
      "cell_type": "code",
      "execution_count": 15,
      "metadata": {
        "id": "zm05k4eG5Z4g"
      },
      "outputs": [],
      "source": [
        "def window_maxes(nums, k):\n",
        "    return [max(nums[i:i+k]) for i in range(len(nums)-k+1)]\n",
        ""
      ]
    },
    {
      "cell_type": "code",
      "execution_count": 16,
      "metadata": {
        "id": "-y3NHcja5Z4h",
        "outputId": "0d534950-f0a4-4d9b-b804-0a44d26c0835",
        "colab": {
          "base_uri": "https://localhost:8080/"
        }
      },
      "outputs": [
        {
          "output_type": "stream",
          "name": "stdout",
          "text": [
            "\u001b[32m.\u001b[0m\u001b[32m.\u001b[0m\u001b[32m                                                                                           [100%]\u001b[0m\n",
            "\u001b[32m\u001b[32m\u001b[1m2 passed\u001b[0m\u001b[32m in 0.01s\u001b[0m\u001b[0m\n"
          ]
        }
      ],
      "source": [
        "%%ipytest\n",
        "import random\n",
        "\n",
        "def test_window_maxes_short_list():\n",
        "    lst = [0, 1, 2,-3, 4, -1]\n",
        "    assert window_maxes(lst, 1) == lst\n",
        "    assert window_maxes(lst, 2) == [1, 2, 2, 4, 4]\n",
        "    assert window_maxes(lst, 3) == [2, 2, 4, 4]\n",
        "    assert window_maxes(lst, 4) == [2, 4, 4]\n",
        "    assert window_maxes(lst, 5) == [4, 4]\n",
        "    assert window_maxes(lst, 6) == [4]\n",
        "\n",
        "def pair_maxes(lst):\n",
        "    a = lst[0]\n",
        "    result = []\n",
        "    for b in lst[1:]:\n",
        "        result.append(max(a, b))\n",
        "        a = b\n",
        "    return result\n",
        "\n",
        "def test_window_maxes_random_list():\n",
        "    lst = [random.randint(-1000, 1000) for _ in range(100)]\n",
        "    max_lst = lst.copy()\n",
        "    for k in range(1, 10):\n",
        "        assert window_maxes(lst, k) == max_lst\n",
        "        max_lst = pair_maxes(max_lst)"
      ]
    },
    {
      "cell_type": "code",
      "execution_count": 17,
      "metadata": {
        "id": "oChj68qO5Z4h"
      },
      "outputs": [],
      "source": [
        "def window_maxes_fast(lst, k):\n",
        "\n",
        "    idx = 0\n",
        "    running_maxes = []\n",
        "    result = []\n",
        "    for i in range(k):\n",
        "        x = lst[i]\n",
        "        while running_maxes and running_maxes[-1] < x:\n",
        "            running_maxes.pop()\n",
        "        running_maxes.append(x)\n",
        "\n",
        "    result.append(running_maxes[idx])\n",
        "    for i in range(k, len(lst)):\n",
        "        if lst[i-k] == running_maxes[idx]:\n",
        "            idx += 1\n",
        "        x = lst[i]\n",
        "        while len(running_maxes) > idx and running_maxes[-1] < x:\n",
        "            running_maxes.pop()\n",
        "        running_maxes.append(x)\n",
        "        result.append(running_maxes[idx])\n",
        "    return result\n",
        ""
      ]
    },
    {
      "cell_type": "code",
      "execution_count": 18,
      "metadata": {
        "id": "aPrmIHXt5Z4h",
        "outputId": "54ddff5f-2236-489c-b109-484eba2444e6",
        "colab": {
          "base_uri": "https://localhost:8080/"
        }
      },
      "outputs": [
        {
          "output_type": "stream",
          "name": "stdout",
          "text": [
            "\u001b[32m.\u001b[0m\u001b[32m                                                                                            [100%]\u001b[0m\n",
            "\u001b[32m\u001b[32m\u001b[1m1 passed\u001b[0m\u001b[32m in 0.01s\u001b[0m\u001b[0m\n"
          ]
        }
      ],
      "source": [
        "%%ipytest\n",
        "\n",
        "def test_window_maxes_fast():\n",
        "    lst = [random.randint(-1000, 1000) for _ in range(100)]\n",
        "    for k in range(1, 10):\n",
        "        assert window_maxes(lst, k) == window_maxes_fast(lst, k)"
      ]
    },
    {
      "cell_type": "markdown",
      "metadata": {
        "id": "-rk1yPLc5Z4h"
      },
      "source": [
        "Gyorsabb-e az optimalizált változat?"
      ]
    },
    {
      "cell_type": "code",
      "execution_count": 19,
      "metadata": {
        "id": "Pdciwm2Z5Z4h",
        "outputId": "372502c5-e1d0-4a62-e0a5-e7e0d2415592",
        "colab": {
          "base_uri": "https://localhost:8080/"
        }
      },
      "outputs": [
        {
          "output_type": "stream",
          "name": "stdout",
          "text": [
            "5.48 ms ± 87.8 µs per loop (mean ± std. dev. of 7 runs, 100 loops each)\n",
            "423 µs ± 5.59 µs per loop (mean ± std. dev. of 7 runs, 1000 loops each)\n"
          ]
        }
      ],
      "source": [
        "lst = [random.randint(-1000, 1000) for _ in range(1000)]\n",
        "%timeit window_maxes(lst, len(lst)//2)\n",
        "%timeit window_maxes_fast(lst, len(lst)//2)"
      ]
    },
    {
      "cell_type": "markdown",
      "metadata": {
        "id": "f6YFfG6s5Z4h"
      },
      "source": [
        "# Mi kerülhet a `for` ciklusban az `in` mögé?\n"
      ]
    },
    {
      "cell_type": "markdown",
      "metadata": {
        "id": "R59MAVjK5Z4i"
      },
      "source": [
        "\n",
        "Tulajdonképpen bármi, amin végig lehet iterálni. Mit jelent ezt?\n",
        "\n",
        "```Python\n",
        "for x in seq:\n",
        "    do_something_with(x)\n",
        "```\n",
        "        \n",
        "nagyjából a következőt jelenti:\n",
        "\n",
        "```Python\n",
        "it = iter(seq)\n",
        "while True:\n",
        "    x = next(it)\n",
        "    do_something_with(x)\n",
        "```\n",
        "\n",
        "hogyan lépünk ki a ciklusból.  Ha sorozat végére érünk az iterátor egy `StopIteration` kivételt dob, aminek hatására a ciklus félbeszakad."
      ]
    },
    {
      "cell_type": "code",
      "execution_count": 20,
      "metadata": {
        "id": "tlAn6zK15Z4i",
        "outputId": "666c7a0a-27c6-4af6-86be-b34c2359644a",
        "colab": {
          "base_uri": "https://localhost:8080/",
          "height": 334
        }
      },
      "outputs": [
        {
          "output_type": "stream",
          "name": "stdout",
          "text": [
            "<str_iterator object at 0x7f58aa735360>\n",
            "k\n",
            "u\n",
            "t\n",
            "y\n",
            "a\n"
          ]
        },
        {
          "output_type": "error",
          "ename": "StopIteration",
          "evalue": "ignored",
          "traceback": [
            "\u001b[0;31m---------------------------------------------------------------------------\u001b[0m",
            "\u001b[0;31mStopIteration\u001b[0m                             Traceback (most recent call last)",
            "\u001b[0;32m<ipython-input-20-8d3d30b2dd0e>\u001b[0m in \u001b[0;36m<cell line: 8>\u001b[0;34m()\u001b[0m\n\u001b[1;32m      6\u001b[0m \u001b[0mprint\u001b[0m\u001b[0;34m(\u001b[0m\u001b[0mnext\u001b[0m\u001b[0;34m(\u001b[0m\u001b[0mit\u001b[0m\u001b[0;34m)\u001b[0m\u001b[0;34m)\u001b[0m \u001b[0;31m# -> y\u001b[0m\u001b[0;34m\u001b[0m\u001b[0;34m\u001b[0m\u001b[0m\n\u001b[1;32m      7\u001b[0m \u001b[0mprint\u001b[0m\u001b[0;34m(\u001b[0m\u001b[0mnext\u001b[0m\u001b[0;34m(\u001b[0m\u001b[0mit\u001b[0m\u001b[0;34m)\u001b[0m\u001b[0;34m)\u001b[0m \u001b[0;31m# -> a\u001b[0m\u001b[0;34m\u001b[0m\u001b[0;34m\u001b[0m\u001b[0m\n\u001b[0;32m----> 8\u001b[0;31m \u001b[0mprint\u001b[0m\u001b[0;34m(\u001b[0m\u001b[0mnext\u001b[0m\u001b[0;34m(\u001b[0m\u001b[0mit\u001b[0m\u001b[0;34m)\u001b[0m\u001b[0;34m)\u001b[0m \u001b[0;31m# -> ?\u001b[0m\u001b[0;34m\u001b[0m\u001b[0;34m\u001b[0m\u001b[0m\n\u001b[0m\u001b[1;32m      9\u001b[0m \u001b[0;34m\u001b[0m\u001b[0m\n",
            "\u001b[0;31mStopIteration\u001b[0m: "
          ]
        }
      ],
      "source": [
        "it = iter(\"kutya\")\n",
        "print(it)\n",
        "print(next(it)) # -> k\n",
        "print(next(it)) # -> u\n",
        "print(next(it)) # -> t\n",
        "print(next(it)) # -> y\n",
        "print(next(it)) # -> a\n",
        "print(next(it)) # -> ?\n",
        "\n"
      ]
    },
    {
      "cell_type": "markdown",
      "metadata": {
        "id": "8UCJEV7t5Z4i"
      },
      "source": [
        "Tegyük fel, hogy a sorozatban azon elemek száma érdekel minket, amelyek az előzőtől eltérnek."
      ]
    },
    {
      "cell_type": "code",
      "execution_count": 21,
      "metadata": {
        "id": "JUsBD05e5Z4i",
        "outputId": "d1752813-3c51-4b90-a8c4-2ebef0e7cbbd",
        "colab": {
          "base_uri": "https://localhost:8080/"
        }
      },
      "outputs": [
        {
          "output_type": "stream",
          "name": "stdout",
          "text": [
            "seq = <map object at 0x7f58aa70dc00>\n",
            "különböző elemek száma: 5\n"
          ]
        }
      ],
      "source": [
        "seq = map(int, \"1 1 2 2 3 4 5 5 5\".split())\n",
        "print(f\"{seq = }\")\n",
        "it = iter(seq)\n",
        "a = next(it)\n",
        "cnt = 1\n",
        "for b in it:\n",
        "    if b != a:\n",
        "        cnt += 1\n",
        "    a = b\n",
        "print(f\"különböző elemek száma: {cnt}\")"
      ]
    },
    {
      "cell_type": "markdown",
      "metadata": {
        "id": "FjRrxUPS5Z4j"
      },
      "source": [
        "Próbáljuk ugyanezt indexeléssel megoldani."
      ]
    },
    {
      "cell_type": "code",
      "execution_count": 22,
      "metadata": {
        "id": "F4QiiO9q5Z4j",
        "outputId": "248c2919-e51d-4f12-945e-59d6e8e8febc",
        "colab": {
          "base_uri": "https://localhost:8080/",
          "height": 369
        }
      },
      "outputs": [
        {
          "output_type": "stream",
          "name": "stdout",
          "text": [
            "seq = [0, 1, 2, 3, 4, 5, 6, 7, 8, 9]\n",
            "különböző elemek száma: 10\n",
            "==================================================\n",
            "seq = range(0, 10)\n",
            "különböző elemek száma: 10\n",
            "==================================================\n",
            "seq = <map object at 0x7f58aa70da80>\n"
          ]
        },
        {
          "output_type": "error",
          "ename": "TypeError",
          "evalue": "ignored",
          "traceback": [
            "\u001b[0;31m---------------------------------------------------------------------------\u001b[0m",
            "\u001b[0;31mTypeError\u001b[0m                                 Traceback (most recent call last)",
            "\u001b[0;32m<ipython-input-22-eea84e79cd38>\u001b[0m in \u001b[0;36m<cell line: 1>\u001b[0;34m()\u001b[0m\n\u001b[1;32m      3\u001b[0m     \u001b[0mprint\u001b[0m\u001b[0;34m(\u001b[0m\u001b[0;34mf\"{seq = }\"\u001b[0m\u001b[0;34m)\u001b[0m\u001b[0;34m\u001b[0m\u001b[0;34m\u001b[0m\u001b[0m\n\u001b[1;32m      4\u001b[0m \u001b[0;34m\u001b[0m\u001b[0m\n\u001b[0;32m----> 5\u001b[0;31m     \u001b[0ma\u001b[0m \u001b[0;34m=\u001b[0m \u001b[0mseq\u001b[0m\u001b[0;34m[\u001b[0m\u001b[0;36m0\u001b[0m\u001b[0;34m]\u001b[0m\u001b[0;34m\u001b[0m\u001b[0;34m\u001b[0m\u001b[0m\n\u001b[0m\u001b[1;32m      6\u001b[0m     \u001b[0mcnt\u001b[0m \u001b[0;34m=\u001b[0m \u001b[0;36m1\u001b[0m\u001b[0;34m\u001b[0m\u001b[0;34m\u001b[0m\u001b[0m\n\u001b[1;32m      7\u001b[0m \u001b[0;34m\u001b[0m\u001b[0m\n",
            "\u001b[0;31mTypeError\u001b[0m: 'map' object is not subscriptable"
          ]
        }
      ],
      "source": [
        "\n",
        "for seq in [list(range(10)), range(10), map(int, \"1 1 2 2 3 4 5 5 5\".split())]:\n",
        "\n",
        "    print(f\"{seq = }\")\n",
        "\n",
        "    a = seq[0]\n",
        "    cnt = 1\n",
        "\n",
        "    for b in seq:\n",
        "        if b != a:\n",
        "            cnt += 1\n",
        "        a = b\n",
        "\n",
        "    print(f\"különböző elemek száma: {cnt}\")\n",
        "    print(\"=\"*50)"
      ]
    },
    {
      "cell_type": "code",
      "execution_count": 23,
      "metadata": {
        "id": "R-qbBKLm5Z4k",
        "outputId": "e08eee83-a0b1-4410-9cb5-310476a3d78d",
        "colab": {
          "base_uri": "https://localhost:8080/"
        }
      },
      "outputs": [
        {
          "output_type": "stream",
          "name": "stdout",
          "text": [
            "seq = [0, 1, 2, 3, 4, 5, 6, 7, 8, 9]\n",
            "it = <list_iterator object at 0x7f58aa70e7a0>\n",
            "különböző elemek száma: 10\n",
            "list(it) = []\n",
            "==================================================\n",
            "seq = range(0, 10)\n",
            "it = <range_iterator object at 0x7f58aa70daa0>\n",
            "különböző elemek száma: 10\n",
            "list(it) = []\n",
            "==================================================\n",
            "seq = <map object at 0x7f58aa70c0d0>\n",
            "it = <map object at 0x7f58aa70c0d0>\n",
            "különböző elemek száma: 5\n",
            "list(it) = []\n",
            "==================================================\n"
          ]
        }
      ],
      "source": [
        "for seq in [list(range(10)), range(10), map(int, \"1 1 2 2 3 4 5 5 5\".split())]:\n",
        "\n",
        "    print(f\"{seq = }\")\n",
        "    it = iter(seq)\n",
        "    print(f\"{it = }\")\n",
        "\n",
        "    a = next(it)\n",
        "    cnt = 1\n",
        "    for b in it:\n",
        "        if b != a:\n",
        "            cnt += 1\n",
        "        a = b\n",
        "\n",
        "    print(f\"különböző elemek száma: {cnt}\")\n",
        "    print(f\"{list(it) = }\")\n",
        "    print(\"=\"*50)"
      ]
    },
    {
      "cell_type": "markdown",
      "metadata": {
        "id": "A9kAEXJz5Z4k"
      },
      "source": [
        "## Sorozatokból újabb sorozatok"
      ]
    },
    {
      "cell_type": "markdown",
      "metadata": {
        "id": "Le9bN6y55Z4k"
      },
      "source": [
        "A leggyakrabban használt függvények:\n",
        "\n",
        "- `enumerate`\n",
        "\n",
        "- `reversed`\n",
        "\n",
        "- `zip`"
      ]
    },
    {
      "cell_type": "markdown",
      "metadata": {
        "id": "7vBdIrbI5Z4k"
      },
      "source": [
        "### Példák"
      ]
    },
    {
      "cell_type": "code",
      "execution_count": 24,
      "metadata": {
        "id": "Wew1n5mq5Z4k",
        "outputId": "79dfe585-d568-4bb0-c18c-84bc71712b9a",
        "colab": {
          "base_uri": "https://localhost:8080/"
        }
      },
      "outputs": [
        {
          "output_type": "stream",
          "name": "stdout",
          "text": [
            "enumerate(b) = <enumerate object at 0x7f58aa66afc0>,\n",
            "list(enumerate(b)) = [(0, 'k'), (1, 'u'), (2, 't'), (3, 'y'), (4, 'a')]\n",
            "====\n",
            "reversed(a) = <range_iterator object at 0x7f58aa7351d0>,\n",
            "list(reversed(a)) = [9, 8, 7, 6, 5, 4, 3, 2, 1]\n",
            "====\n",
            "zip(a,b) = <zip object at 0x7f58aa836b40>,\n",
            "list(zip(a, b)) = [(1, 'k'), (2, 'u'), (3, 't'), (4, 'y'), (5, 'a')]\n"
          ]
        }
      ],
      "source": [
        "a = range(1, 10)\n",
        "b = \"kutya\"\n",
        "\n",
        "print(f\"{enumerate(b) = },\\n{list(enumerate(b)) = }\\n====\")\n",
        "\n",
        "print(f\"{reversed(a) = },\\n{list(reversed(a)) = }\\n====\")\n",
        "\n",
        "print(f\"{zip(a,b) = },\\n{list(zip(a, b)) = }\")\n"
      ]
    },
    {
      "cell_type": "markdown",
      "metadata": {
        "id": "AsC8xO6m5Z4l"
      },
      "source": [
        "Vegyük észre, hogy a `zip`-elt sorozat hossza a **rövidebb** sorozat hosszával egyezik meg!"
      ]
    },
    {
      "cell_type": "code",
      "execution_count": 26,
      "metadata": {
        "id": "6ZwhPOTj5Z4l",
        "outputId": "800e7b03-b9f5-421e-9eff-e71d69692742",
        "colab": {
          "base_uri": "https://localhost:8080/"
        }
      },
      "outputs": [
        {
          "output_type": "stream",
          "name": "stdout",
          "text": [
            "az 1-ik karakter k\n",
            "az 2-ik karakter u\n",
            "az 3-ik karakter t\n",
            "az 4-ik karakter y\n",
            "az 5-ik karakter a\n"
          ]
        }
      ],
      "source": [
        "for i, ch in enumerate(\"kutya\", 1):\n",
        "    print(f\"az {i}-ik karakter {ch}\")"
      ]
    },
    {
      "cell_type": "code",
      "execution_count": 27,
      "metadata": {
        "id": "TaLrr0hP5Z4l",
        "outputId": "f7f5bf30-676c-40f6-8888-e6a840bd3f48",
        "colab": {
          "base_uri": "https://localhost:8080/",
          "height": 35
        }
      },
      "outputs": [
        {
          "output_type": "execute_result",
          "data": {
            "text/plain": [
              "'aytuk'"
            ],
            "application/vnd.google.colaboratory.intrinsic+json": {
              "type": "string"
            }
          },
          "metadata": {},
          "execution_count": 27
        }
      ],
      "source": [
        "''.join(reversed(\"kutya\"))"
      ]
    },
    {
      "cell_type": "markdown",
      "metadata": {
        "id": "_XdyfGvi5Z4l"
      },
      "source": [
        "Mátrix transzponálás"
      ]
    },
    {
      "cell_type": "code",
      "execution_count": 28,
      "metadata": {
        "id": "mXU1IG7X5Z4m",
        "outputId": "f25a3b3d-73b2-444a-c3dd-d30820792c04",
        "colab": {
          "base_uri": "https://localhost:8080/"
        }
      },
      "outputs": [
        {
          "output_type": "stream",
          "name": "stdout",
          "text": [
            "[1, 2, 3]\n",
            "[3, 4, 5]\n",
            "[1, 3]\n",
            "[2, 4]\n",
            "[3, 5]\n"
          ]
        }
      ],
      "source": [
        "matrix = [[1,2,3], [3,4,5]]\n",
        "print(*matrix, sep=\"\\n\")\n",
        "transposed_matrix = [list(x) for x in zip(*matrix)]\n",
        "print(*transposed_matrix, sep=\"\\n\")\n"
      ]
    },
    {
      "cell_type": "markdown",
      "metadata": {
        "id": "DdAkmxtn5Z4m"
      },
      "source": [
        "## Saját sorozatok\n"
      ]
    },
    {
      "cell_type": "markdown",
      "metadata": {
        "id": "h1rKTmwe5Z4m"
      },
      "source": [
        "Ha egy függvényben `yield` szerepel, akkor egy generátor függvényt kapunk.\n",
        "\n",
        "Példa."
      ]
    },
    {
      "cell_type": "code",
      "execution_count": 29,
      "metadata": {
        "id": "_QKt3NiC5Z4m"
      },
      "outputs": [],
      "source": [
        "def natural_nums(n):\n",
        "    for i in range(1, n+1):\n",
        "        yield i"
      ]
    },
    {
      "cell_type": "code",
      "execution_count": 30,
      "metadata": {
        "id": "uORRZ7Eu5Z4n",
        "outputId": "9e2958fd-3434-45c0-b344-3aaad65915b1",
        "colab": {
          "base_uri": "https://localhost:8080/"
        }
      },
      "outputs": [
        {
          "output_type": "stream",
          "name": "stdout",
          "text": [
            "natural_nums=<function natural_nums at 0x7f58aa588d30>\n",
            "natural_nums(10)=<generator object natural_nums at 0x7f58aa57d460>\n",
            "iter(natural_nums(10))=<generator object natural_nums at 0x7f58aa57d460>\n"
          ]
        }
      ],
      "source": [
        "print(f\"{natural_nums=}\\n{natural_nums(10)=}\\n{iter(natural_nums(10))=}\")"
      ]
    },
    {
      "cell_type": "markdown",
      "metadata": {
        "id": "3oACLMuv5Z4n"
      },
      "source": [
        "A függvényhívás eredménye egy generátor objektum, az `iter` függvénnyel szintén ezt kapjuk, végül a `next` függvény veszi a sorozat következő elemét, ha még van.\n",
        "\n"
      ]
    },
    {
      "cell_type": "code",
      "execution_count": 31,
      "metadata": {
        "id": "oUO5qz755Z4n",
        "outputId": "1298a51f-2c33-4d74-b6b9-b06da8bce2af",
        "colab": {
          "base_uri": "https://localhost:8080/"
        }
      },
      "outputs": [
        {
          "output_type": "stream",
          "name": "stdout",
          "text": [
            "1\n",
            "1\n",
            "1\n"
          ]
        }
      ],
      "source": [
        "print(next(natural_nums(10)))\n",
        "print(next(natural_nums(10)))\n",
        "print(next(natural_nums(10)))\n",
        "\n"
      ]
    },
    {
      "cell_type": "markdown",
      "metadata": {
        "id": "6P4gZsSn5Z4n"
      },
      "source": [
        "Miért kapjuk mindig az `1`-et?"
      ]
    },
    {
      "cell_type": "code",
      "execution_count": 32,
      "metadata": {
        "id": "J3lJ4JKV5Z4n",
        "outputId": "234cbd8f-4eb2-4796-c1e0-bdc4a53af3dd",
        "colab": {
          "base_uri": "https://localhost:8080/"
        }
      },
      "outputs": [
        {
          "output_type": "stream",
          "name": "stdout",
          "text": [
            "1\n",
            "2\n",
            "3\n",
            "4\n"
          ]
        }
      ],
      "source": [
        "it = natural_nums(10)\n",
        "print(next(it))\n",
        "print(next(it))\n",
        "print(next(it))\n",
        "print(next(it))\n"
      ]
    },
    {
      "cell_type": "markdown",
      "metadata": {
        "id": "IaWq-VuQ5Z4o"
      },
      "source": [
        "Azt mondtuk, hogy az iterációnak a `StopIteration` kivétel vet véget. Tegyük fel, hogy szeretnénk jelezni, hogy vége van a sorozatnak.\n",
        "\n",
        "Kell-e\n",
        "\n",
        "```\n",
        "raise StopIteration\n",
        "```\n",
        "\n",
        "**Nem**\n",
        "\n",
        "Elég egy `return`\n"
      ]
    },
    {
      "cell_type": "markdown",
      "metadata": {
        "id": "sqgCaEln5Z4o"
      },
      "source": [
        "### Faktoriálisok sorozata"
      ]
    },
    {
      "cell_type": "code",
      "execution_count": 33,
      "metadata": {
        "id": "RPYtJvSJ5Z4o"
      },
      "outputs": [],
      "source": [
        "def factorials(n):\n",
        "    a = 1\n",
        "    ## 0!\n",
        "    yield a\n",
        "    for i in range(1, n+1):\n",
        "        a *= i\n",
        "        yield a\n"
      ]
    },
    {
      "cell_type": "code",
      "execution_count": 34,
      "metadata": {
        "id": "lGM7cwrA5Z4o",
        "outputId": "d2a1bdb0-731f-4233-d0ab-622020c1b96f",
        "colab": {
          "base_uri": "https://localhost:8080/"
        }
      },
      "outputs": [
        {
          "output_type": "stream",
          "name": "stdout",
          "text": [
            "<function factorials at 0x7f58aa589630> <generator object factorials at 0x7f58aa57d700>\n",
            "[1, 1, 2, 6]\n"
          ]
        }
      ],
      "source": [
        "\n",
        "print(factorials, factorials(3))\n",
        "print(list(factorials(3)))\n"
      ]
    },
    {
      "cell_type": "code",
      "execution_count": 35,
      "metadata": {
        "id": "pNW94gME5Z4p",
        "outputId": "421d82f9-327b-444a-e9b7-ad710c8bb44a",
        "colab": {
          "base_uri": "https://localhost:8080/"
        }
      },
      "outputs": [
        {
          "output_type": "stream",
          "name": "stdout",
          "text": [
            "1 1 2 6 \n"
          ]
        }
      ],
      "source": [
        "\n",
        "for f in factorials(3):\n",
        "    print(f, end=\" \")\n",
        "print()\n"
      ]
    },
    {
      "cell_type": "code",
      "execution_count": 37,
      "metadata": {
        "id": "e0S2V2-i5Z4p",
        "outputId": "90988b52-9ae5-4058-980a-e0e4d7e3be06",
        "colab": {
          "base_uri": "https://localhost:8080/"
        }
      },
      "outputs": [
        {
          "output_type": "stream",
          "name": "stdout",
          "text": [
            "<generator object factorials at 0x7f58aa57d700> 1 1 2 6\n"
          ]
        },
        {
          "output_type": "execute_result",
          "data": {
            "text/plain": [
              "24"
            ]
          },
          "metadata": {},
          "execution_count": 37
        }
      ],
      "source": [
        "\n",
        "it = iter(factorials(4))\n",
        "print(it, next(it), next(it), next(it), next(it))\n",
        "next(it)"
      ]
    },
    {
      "cell_type": "markdown",
      "metadata": {
        "id": "pObc3Aui5Z4p"
      },
      "source": [
        "Az első $n$, amire $n!>1\\_000\\_000\\_000$"
      ]
    },
    {
      "cell_type": "code",
      "execution_count": 39,
      "metadata": {
        "id": "40vB1THC5Z4q"
      },
      "outputs": [],
      "source": [
        "def factorials(n=None):\n",
        "    a = 1\n",
        "    i = 1\n",
        "    ## 0!\n",
        "    yield a\n",
        "    while (n is None) or (i <= n):\n",
        "        a *= i\n",
        "        yield a\n",
        "        i += 1\n"
      ]
    },
    {
      "cell_type": "code",
      "execution_count": 40,
      "metadata": {
        "id": "a3GeCG2h5Z4q",
        "outputId": "6621fabc-7fe3-4a75-edcc-bf8919f2052d",
        "colab": {
          "base_uri": "https://localhost:8080/"
        }
      },
      "outputs": [
        {
          "output_type": "stream",
          "name": "stdout",
          "text": [
            "  0 faktoriális:              1\n",
            "  1 faktoriális:              1\n",
            "  2 faktoriális:              2\n",
            "  3 faktoriális:              6\n",
            "  4 faktoriális:             24\n",
            "  5 faktoriális:            120\n",
            "  6 faktoriális:            720\n",
            "  7 faktoriális:          5_040\n",
            "  8 faktoriális:         40_320\n",
            "  9 faktoriális:        362_880\n",
            " 10 faktoriális:      3_628_800\n",
            " 11 faktoriális:     39_916_800\n",
            " 12 faktoriális:    479_001_600\n",
            " 13 faktoriális:  6_227_020_800\n",
            "13, 6_227_020_800\n"
          ]
        }
      ],
      "source": [
        "\n",
        "threshold = 1_000_000_000\n",
        "for i, f in enumerate(factorials()):\n",
        "    print(f\"{i:3} faktoriális: {f:14_}\")\n",
        "    if f > threshold:\n",
        "        break\n",
        "print(f\"{i}, {f:_}\")"
      ]
    },
    {
      "cell_type": "markdown",
      "metadata": {
        "id": "cjXor67s5Z4q"
      },
      "source": [
        "# Függvényekről újra"
      ]
    },
    {
      "cell_type": "markdown",
      "metadata": {
        "id": "cwly5Hnb5Z4r"
      },
      "source": [
        "## Láthatóság\n"
      ]
    },
    {
      "cell_type": "markdown",
      "metadata": {
        "id": "qH4pNXXr5Z4r"
      },
      "source": [
        "\n",
        "Példa\n"
      ]
    },
    {
      "cell_type": "code",
      "execution_count": null,
      "metadata": {
        "id": "E7v7DPMI5Z4r"
      },
      "outputs": [],
      "source": [
        "def plus_one():\n",
        "    return new_variable+1"
      ]
    },
    {
      "cell_type": "code",
      "execution_count": null,
      "metadata": {
        "id": "V8lUSywV5Z4s"
      },
      "outputs": [],
      "source": [
        "\n",
        "plus_one() # -> Error"
      ]
    },
    {
      "cell_type": "code",
      "execution_count": null,
      "metadata": {
        "id": "kt3fteZ25Z4s"
      },
      "outputs": [],
      "source": [
        "new_variable = 1\n",
        "plus_one() # -> 2"
      ]
    },
    {
      "cell_type": "markdown",
      "metadata": {
        "id": "QMC6jQKe5Z4s"
      },
      "source": [
        "esetén, `new_variable` egy globális valtozó.\n",
        "\n",
        "Globális változókat csak indokolt esetben használjunk, pl. konstansok tárolására!\n",
        "\n",
        "Bármi, aminek a függvény belsejében értéket adunk lokális változó lesz.\n"
      ]
    },
    {
      "cell_type": "code",
      "execution_count": null,
      "metadata": {
        "id": "Hy1E9bCe5Z4s"
      },
      "outputs": [],
      "source": [
        "def plus_one():\n",
        "    new_variable_ += 1\n",
        "    return new_variable_"
      ]
    },
    {
      "cell_type": "code",
      "execution_count": null,
      "metadata": {
        "id": "lSFxDf8Y5Z4s"
      },
      "outputs": [],
      "source": [
        "plus_one() # -> Error"
      ]
    },
    {
      "cell_type": "code",
      "execution_count": null,
      "metadata": {
        "id": "FJTjzhZp5Z4t"
      },
      "outputs": [],
      "source": [
        "new_variable_ = 1\n",
        "plus_one() # -> Error"
      ]
    },
    {
      "cell_type": "markdown",
      "metadata": {
        "id": "PSZVhAPC5Z4t"
      },
      "source": [
        "\n",
        "\n",
        "Mindkét esetben hibát kapunk de nem ugyanazt mint az előbb!! Mi a különbség?"
      ]
    },
    {
      "cell_type": "markdown",
      "metadata": {
        "id": "ytFf4x335Z4t"
      },
      "source": [
        "### Függvényen belüli függvény definíció\n",
        "\n",
        "Találjuk ki mi a visszatérési érték az utolsó sorban!\n",
        "```Python\n",
        "a = 1\n",
        "\n",
        "def f1(x)\n",
        "    a = x\n",
        "    def g()\n",
        "        return a\n",
        "    return g\n",
        "\n",
        "def f2(a)\n",
        "    def g()\n",
        "        return a\n",
        "    return g\n",
        "\n",
        "f1(3)(), f2(4)(), a\n",
        "```"
      ]
    },
    {
      "cell_type": "markdown",
      "metadata": {
        "id": "_91R40as5Z4t"
      },
      "source": [
        "### Mutable típusú változók\n",
        "\n",
        "Találjuk ki mi a visszatérési érték az utolsó sorban!\n",
        "```Python\n",
        "a = [1]\n",
        "    \n",
        "def f1(x):\n",
        "    a[0] = x\n",
        "    def g():\n",
        "        return a[0]\n",
        "    return g\n",
        "\n",
        "def f2(x):\n",
        "    a = [x]\n",
        "    def g():\n",
        "        a[0] += 1\n",
        "        return a[0]\n",
        "    return g\n",
        "\n",
        "g2 = f2(4)\n",
        "f1(3)(), g2(), g2(), a\n",
        "```\n"
      ]
    },
    {
      "cell_type": "markdown",
      "metadata": {
        "id": "y8T8epjQ5Z4u"
      },
      "source": [
        "## Függvény változó számú paraméterrel"
      ]
    },
    {
      "cell_type": "markdown",
      "metadata": {
        "id": "jy1mtNHQ5Z4u"
      },
      "source": [
        "Szintakszis:\n"
      ]
    },
    {
      "cell_type": "code",
      "execution_count": null,
      "metadata": {
        "id": "7dFky1Vh5Z4u"
      },
      "outputs": [],
      "source": [
        "def f(*args):\n",
        "    print(f\"args típusa: {type(args).__name__}, {args = !r}\")\n"
      ]
    },
    {
      "cell_type": "markdown",
      "metadata": {
        "id": "tHrXEK0w5Z4u"
      },
      "source": [
        "Mikor lehet rá szükség? pl. ha a paraméterek száma előre nem ismert. A `print` függvény ilyen, a `max` és `min` függvény is."
      ]
    },
    {
      "cell_type": "code",
      "execution_count": null,
      "metadata": {
        "id": "RQnzMKZc5Z4u"
      },
      "outputs": [],
      "source": [
        "print(f\"{max(1, 2, 3)=}, {min(1, 2, 3)=}\")\n",
        "print(1,2,3)"
      ]
    },
    {
      "cell_type": "code",
      "execution_count": null,
      "metadata": {
        "id": "8m97KWtb5Z4v"
      },
      "outputs": [],
      "source": [
        "f(1, 2, 2, 3)"
      ]
    },
    {
      "cell_type": "code",
      "execution_count": null,
      "metadata": {
        "id": "tpDUb4Q_5Z4v"
      },
      "outputs": [],
      "source": [
        "f(\"kutya\")"
      ]
    },
    {
      "cell_type": "code",
      "execution_count": null,
      "metadata": {
        "id": "m64Zh8Em5Z4v"
      },
      "outputs": [],
      "source": [
        "f(range(10))"
      ]
    },
    {
      "cell_type": "markdown",
      "metadata": {
        "id": "qMzzEd9e5Z4v"
      },
      "source": [
        "Mi van, ha a paraméterek már eleve egy sorozatban, pl. listában, vagy sztringben vannak?\n",
        "\n",
        "Ha az argumentum előtt `*` van, akkor a Python szétszedi a sorozatot."
      ]
    },
    {
      "cell_type": "code",
      "execution_count": null,
      "metadata": {
        "id": "s6hKfo-P5Z4w"
      },
      "outputs": [],
      "source": [
        "def g(a, b):\n",
        "    print(f\"{a=}, {b=}\")"
      ]
    },
    {
      "cell_type": "code",
      "execution_count": null,
      "metadata": {
        "id": "SoCUDaTo5Z4w"
      },
      "outputs": [],
      "source": [
        "g(*[\"alma\", 1])"
      ]
    },
    {
      "cell_type": "markdown",
      "metadata": {
        "id": "NO6vN3Kr5Z4w"
      },
      "source": [
        "A paraméterek számának egyezni kell:"
      ]
    },
    {
      "cell_type": "code",
      "execution_count": null,
      "metadata": {
        "id": "bQZ4Kba85Z4w"
      },
      "outputs": [],
      "source": [
        "g(*[1,2,3])"
      ]
    },
    {
      "cell_type": "markdown",
      "metadata": {
        "id": "ep8uf7Kb5Z4w"
      },
      "source": [
        "A `*`-ot olyan függvénnyel is használhatjuk, mint `f`"
      ]
    },
    {
      "cell_type": "code",
      "execution_count": null,
      "metadata": {
        "id": "rRideDPN5Z4x"
      },
      "outputs": [],
      "source": [
        "f(*range(5))"
      ]
    },
    {
      "cell_type": "code",
      "execution_count": null,
      "metadata": {
        "id": "ez5e7m5D5Z4x"
      },
      "outputs": [],
      "source": [
        "f(*\"kutya\")"
      ]
    },
    {
      "cell_type": "code",
      "execution_count": null,
      "metadata": {
        "id": "2NvgBxnB5Z4x"
      },
      "outputs": [],
      "source": [
        "f(*[1,2,3])"
      ]
    },
    {
      "cell_type": "markdown",
      "metadata": {
        "id": "yz_a75If5Z4x"
      },
      "source": [
        "## `*args` mellett lehet más is?"
      ]
    },
    {
      "cell_type": "markdown",
      "metadata": {
        "id": "hUO2iGv05Z4x"
      },
      "source": [
        "Igen. de mi történik a következő esetekben?"
      ]
    },
    {
      "cell_type": "code",
      "execution_count": null,
      "metadata": {
        "id": "5RPwSq-K5Z4x"
      },
      "outputs": [],
      "source": [
        "def f(a, *args, b):\n",
        "    print(f\"{a=}, {args=}, {b=}\")"
      ]
    },
    {
      "cell_type": "code",
      "execution_count": null,
      "metadata": {
        "id": "hVr993u05Z4y"
      },
      "outputs": [],
      "source": [
        "f(1, 2, 3, 4)"
      ]
    },
    {
      "cell_type": "code",
      "execution_count": null,
      "metadata": {
        "id": "H7Cz4J1A5Z4y"
      },
      "outputs": [],
      "source": [
        "f(1, 2, 3, b=3)"
      ]
    },
    {
      "cell_type": "markdown",
      "metadata": {
        "id": "rfPhzl1Y5Z4y"
      },
      "source": [
        "Azt is kikényszeríthetjük, hogy bizonyos paramétereket névvel kelljen megadni."
      ]
    },
    {
      "cell_type": "code",
      "execution_count": null,
      "metadata": {
        "id": "yIpKGPnq5Z4y"
      },
      "outputs": [],
      "source": [
        "def f(*, a, b):\n",
        "    print(f\"{a=}, {b=}\")\n",
        ""
      ]
    },
    {
      "cell_type": "code",
      "execution_count": null,
      "metadata": {
        "id": "OEHRZU805Z4z"
      },
      "outputs": [],
      "source": [
        "a = 1\n",
        "b = 2\n",
        "f(a, b)"
      ]
    },
    {
      "cell_type": "code",
      "execution_count": null,
      "metadata": {
        "id": "nAazjiPf5Z4z"
      },
      "outputs": [],
      "source": [
        "f(a=a, b=b)"
      ]
    },
    {
      "cell_type": "markdown",
      "metadata": {
        "id": "bAUjKEj15Z4z"
      },
      "source": [
        "# Polinomok"
      ]
    },
    {
      "cell_type": "markdown",
      "metadata": {
        "id": "bufUj2np5Z4z"
      },
      "source": [
        "## Feladat"
      ]
    },
    {
      "cell_type": "markdown",
      "metadata": {
        "id": "mCtPMhur5Z4z"
      },
      "source": [
        "Írjunk egy függvényt, ami kiszámolja az első $n$ természetes szám $p$-ik hatványösszegét.\n",
        "\n",
        "pl. `p = 0`-ra\n",
        "\n",
        "```Python\n",
        "def f0(n):\n",
        "    return n\n",
        "```\n",
        "\n",
        "jó, mert $k^0=1$ ha $k=1,\\dots,n$ és ezek összege pont $n$.\n",
        "\n",
        "Ha `p = 1`, akkor\n",
        "\n",
        "```Python\n",
        "def f1(n):\n",
        "    return n*(n+1)//2\n",
        "```\n",
        "\n",
        "jó, mert $\\sum_{k=1}^n k = n(n+1)/2$.\n",
        "\n",
        "Még `p = 2`-t is tanultuk\n",
        "\n",
        "```Python\n",
        "def f2(n):\n",
        "    return n*(n+1)*(2*n+1)//6\n",
        "```\n",
        "\n",
        "Általános $p$-re tudunk-e ilyen függvényt írni?"
      ]
    },
    {
      "cell_type": "code",
      "execution_count": null,
      "metadata": {
        "id": "M0soWYE05Z40"
      },
      "outputs": [],
      "source": [
        "is_prime_naive.__annotations__"
      ]
    },
    {
      "cell_type": "code",
      "execution_count": null,
      "metadata": {
        "id": "p52XXgsw5Z40"
      },
      "outputs": [],
      "source": [
        "def mk_power_sum(p):\n",
        "    def f(n):\n",
        "        total = 0\n",
        "        for k in range(1, n+1):\n",
        "            total += k**p\n",
        "        return total\n",
        "\n",
        "    f.__doc__ = f\"\"\"\n",
        "        {p}-ik hatványok összegét számolja\n",
        "        \"\"\"\n",
        "\n",
        "    return f"
      ]
    },
    {
      "cell_type": "code",
      "execution_count": null,
      "metadata": {
        "id": "kVrLGgf95Z40"
      },
      "outputs": [],
      "source": [
        "f2_slow = mk_power_sum(2)"
      ]
    },
    {
      "cell_type": "code",
      "execution_count": null,
      "metadata": {
        "id": "hzLzWKug5Z40"
      },
      "outputs": [],
      "source": [
        "f2_slow?"
      ]
    },
    {
      "cell_type": "code",
      "execution_count": null,
      "metadata": {
        "id": "nQW6nQ4T5Z41"
      },
      "outputs": [],
      "source": [
        "[f2_slow(i) for i in range(0, 10)]"
      ]
    },
    {
      "cell_type": "code",
      "execution_count": null,
      "metadata": {
        "id": "uJVDZFNN5Z42"
      },
      "outputs": [],
      "source": [
        "def f2_fast(n):\n",
        "    return n*(n+1)*(2*n+1)//6"
      ]
    },
    {
      "cell_type": "code",
      "execution_count": null,
      "metadata": {
        "id": "4s-zfSH75Z42"
      },
      "outputs": [],
      "source": [
        "%timeit f2_slow(10_000)\n",
        "%timeit f2_fast(10_000)"
      ]
    },
    {
      "cell_type": "markdown",
      "metadata": {
        "id": "om4ZKb2I5Z43"
      },
      "source": [
        "### Ötlet"
      ]
    },
    {
      "cell_type": "markdown",
      "metadata": {
        "id": "odnnK_KI5Z43"
      },
      "source": [
        "$$\n",
        "    \\sum_{k=r}^n  \\binom{k}{r} = \\binom{n+1}{r+1}\n",
        "$$\n",
        "\n",
        "**Bizonyítás.**\n",
        "$\\{1,2,\\dots,n+1\\}$-ből válasszunk ki $r+1$ különböző számot.\n",
        "\n",
        "Összes lehetőség:\n",
        "$$\n",
        "\\binom{n+1}{r+1}.\n",
        "$$\n",
        "\n",
        "Számoljuk meg az eseteket aszerint szétbontva is, hogy legnagyobb kiválasztott szám mivel egyenlő.\n",
        "\n",
        "Ha a legnagyobb szám $k+1$, akkor a maradék $r$ számot $\\{1,2,\\dots, k\\}$ közül választjuk. Így az esetek száma\n",
        "$$\n",
        "    \\sum_{k+1=r+1}^{n+1} \\binom{k}{r} =  \\sum_{k=r}^{n} \\binom{k}{r}\n",
        "$$  \n",
        "$k+1$ helyett $k$ az összegzési változó"
      ]
    },
    {
      "cell_type": "markdown",
      "metadata": {
        "id": "0LwiFXg05Z43"
      },
      "source": [
        "Ugyanez másképp.\n",
        "\n",
        "$$\n",
        "\\binom{k}{r} = \\frac{1}{r!} k(k-1)\\cdots(k-r+1) = p_r(k-r+1),\\quad\\text{ahol}\\quad p_r(x) = \\frac{x(x+1)\\cdots(x+r-1)}{r!}\n",
        "$$\n",
        "és\n",
        "$$\n",
        "    \\sum_{j=1}^{n-r+1} p_r(j) = p_{r+1}(n+1-(r+1)+1)= p_{r+1}(n-r+1)\\quad\\text{minden $n\\geq r$ és $r\\geq 0$-ra}\n",
        "$$\n",
        "\n",
        "Az összegzés felső határa és $p_{r+1}$ argumentuma ugyanaz, azaz\n",
        "\n",
        "$$\n",
        "\\sum_{j=0}^{n} p_r(j) = p_{r+1}(n)\n",
        "$$"
      ]
    },
    {
      "cell_type": "markdown",
      "metadata": {
        "id": "on7OWPX15Z43"
      },
      "source": [
        "**Lineáris algebra.**\n",
        "\n",
        "$$\n",
        "p_0\\equiv 1,\\quad p_1(x)=x,\\quad p_2(x)=\\frac12x(x+1),\\quad\\dots,\\quad p_r(x)=\\frac1{r!}x(x+1)\\cdots(x+r-1)\n",
        "$$\n",
        "\n",
        "bázis a legfeljebb $r$-edfokú polinomok vektorterében.\n",
        "\n",
        "$$\n",
        "    x^r = \\sum_{i=0}^r a_i p_i(x)\n",
        "$$\n",
        "és\n",
        "$$\n",
        "    \\sum_{k=0}^n k^r = \\sum_{k=0}^n \\sum_{i=0}^r a_i p_i(k) =  \\sum_{i=0}^r a_i  \\sum_{k=0}^n p_i(k) = \\sum_{i=0}^r a_i  p_{i+1}(n)\n",
        "$$\n"
      ]
    },
    {
      "cell_type": "markdown",
      "metadata": {
        "id": "4BlpHbAj5Z43"
      },
      "source": [
        "### Összefoglalva\n",
        "\n",
        "- Egy polinomot az együtthatókkal ábrázolhatunk.\n",
        "- Kellene egy függvény, ami a természetes $1, x, x^2,\\dots$ bázisban felírt polinomot a $p_0,p_1,\\dots$ bázisban ír fel.\n",
        "- $p_0, p_1, \\dots,$ bázisban az összegzés könnyű, lényegében arrébb kell tolni az együtthatókat.\n",
        "- A $p_0,p_1,\\dots$ bázisban felírt polinomot vagy visszaszámoljuk a természetes bázisba, vagy megírjuk a függvényt, ami kiértékeli a függvényt egy adott pontban."
      ]
    },
    {
      "cell_type": "code",
      "execution_count": null,
      "metadata": {
        "id": "I_DUaAm85Z44"
      },
      "outputs": [],
      "source": [
        "def poly_taylor(coeff):\n",
        "    \"\"\"\n",
        "    returns a polinomial function\n",
        "    sum coeff[i] x**i = coeff[0] + x*(coeff[1] + x*(...))\n",
        "    \"\"\"\n",
        "    def f(x):\n",
        "        value = 0\n",
        "        for c in reversed(coeff):\n",
        "            value = value*x+c\n",
        "        return value\n",
        "\n",
        "    return f\n",
        "\n",
        "def poly_other(coeff):\n",
        "    \"\"\"\n",
        "    returns a polinomial function\n",
        "    sum coeff[i] x*(x+1)*...(x+i-1) = coeff[0] + x*(coeff[1] + (x+1)*(...))\n",
        "    \"\"\"\n",
        "    def f(x):\n",
        "        value = 0\n",
        "        p = 1\n",
        "        for i, c in enumerate(coeff):\n",
        "            value += c*p\n",
        "            p = p*(x+i)/(i+1)\n",
        "        return value\n",
        "\n",
        "    return f"
      ]
    },
    {
      "cell_type": "code",
      "execution_count": null,
      "metadata": {
        "id": "nuBlaOlo5Z44"
      },
      "outputs": [],
      "source": [
        "f = poly_taylor([0, 0, 1])\n",
        "\n",
        "f(0), f(1), f(2), f(0.5)\n"
      ]
    },
    {
      "cell_type": "code",
      "execution_count": null,
      "metadata": {
        "id": "aGT12SID5Z44"
      },
      "outputs": [],
      "source": [
        "g = poly_other([0, 0, 1])\n",
        "\n",
        "g(0), g(1), g(2), g(0.5)\n"
      ]
    },
    {
      "cell_type": "markdown",
      "metadata": {
        "id": "YJtFSbEY5Z4_"
      },
      "source": [
        "Vegyük észre, hogy $p_0$ azonosan 1, $p_1(0)=0$, $p_2(0)=p_2(-1)=0$, stb.\n",
        "\n",
        "Ha $f=\\sum_i a_i p_i$, akkor\n",
        "$$\n",
        "    f(0) = \\sum_i a_i p(0) = a_0, \\quad f(-1) = a_0 p_0(-1) + a_1 p_1(-1),\\quad f(-k) = a_0 p_0(-k) + a_1 p_1(-k) + \\cdots + a_k p_k(-k).\n",
        "$$\n",
        "amiből\n",
        "\n",
        "$$\n",
        "\\begin{align*}\n",
        "    a_0 & = f(0)\\\\\n",
        "    a_1 & = \\frac{f(-1) - a_0 p_0(-1)}{p_1(-1)}\\\\\n",
        "    \\vdots\\\\\n",
        "    a_k & = \\frac{f(-k) - \\sum_{j=0}^{k-1} a_j p_j(-k)}{p_{k}(-k)}\\\\\n",
        "    \\vdots\n",
        "\\end{align*}\n",
        "$$  \n",
        "Kihasználhatjuk még, hogy\n",
        "$$\n",
        "p_k(-k)=\\frac{1}{k!}(-k)(-k+1)\\cdots(-k+(k-1))=(-1)^k.\n",
        "$$"
      ]
    },
    {
      "cell_type": "code",
      "execution_count": null,
      "metadata": {
        "id": "hmtksgdM5Z4_"
      },
      "outputs": [],
      "source": [
        "def taylor_to_other(coeff):\n",
        "    f = poly_taylor(coeff)\n",
        "    new_coeff = []\n",
        "    def p_value(x):\n",
        "        value = 0\n",
        "        p = 1\n",
        "        for i, c in enumerate(new_coeff):\n",
        "            value += c*p\n",
        "            p = (p*(x+i))//(i+1)\n",
        "        return value\n",
        "\n",
        "    for i in range(len(coeff)):\n",
        "        c = f(-i)-p_value(-i)\n",
        "        if i % 2 == 1:\n",
        "            c = -c\n",
        "        new_coeff.append(c)\n",
        "\n",
        "    return new_coeff"
      ]
    },
    {
      "cell_type": "code",
      "execution_count": null,
      "metadata": {
        "id": "QfWHLWo15Z5A"
      },
      "outputs": [],
      "source": [
        "taylor_to_other([0, 0, 0, 1])"
      ]
    },
    {
      "cell_type": "markdown",
      "metadata": {
        "id": "Q0plIhaB5Z5A"
      },
      "source": [
        "Gyors ellenőrzés."
      ]
    },
    {
      "cell_type": "code",
      "execution_count": null,
      "metadata": {
        "id": "omgAnTw65Z5A"
      },
      "outputs": [],
      "source": [
        "coeff = [0,0,0,1]\n",
        "f0 = poly_taylor(coeff)\n",
        "f1 = poly_other(taylor_to_other(coeff))\n",
        "\n",
        "for i in range(10):\n",
        "    print(f\"{i=}, {f0(i)=}, {f1(i)=}\")"
      ]
    },
    {
      "cell_type": "code",
      "execution_count": null,
      "metadata": {
        "id": "jr4DRvzp5Z5A"
      },
      "outputs": [],
      "source": [
        "def mk_fast_power_sum(p):\n",
        "    coeff = taylor_to_other([0]*p+[1])\n",
        "    def f(n: int) -> int:\n",
        "        value = 0\n",
        "        px = n\n",
        "        for i, c in enumerate(coeff, 1):\n",
        "            value += c*px\n",
        "            px = (px*(n+i))//(i+1)\n",
        "        return value\n",
        "\n",
        "\n",
        "    f.__doc__ = f\"\"\"\n",
        "    Computes the sum of the p-th power of the first `n` positive integer with {p = }.\n",
        "    \"\"\"\n",
        "    return f"
      ]
    },
    {
      "cell_type": "code",
      "execution_count": null,
      "metadata": {
        "id": "mwEuG4Ru5Z5A"
      },
      "outputs": [],
      "source": [
        "taylor_to_other([0]*2+[1])"
      ]
    },
    {
      "cell_type": "code",
      "execution_count": null,
      "metadata": {
        "id": "sQR7b3PU5Z5B"
      },
      "outputs": [],
      "source": [
        "f2 = mk_fast_power_sum(2)"
      ]
    },
    {
      "cell_type": "code",
      "execution_count": null,
      "metadata": {
        "id": "IIuTdqGL5Z5B"
      },
      "outputs": [],
      "source": [
        "f2?"
      ]
    },
    {
      "cell_type": "code",
      "execution_count": null,
      "metadata": {
        "id": "VGDNU_Bx5Z5B"
      },
      "outputs": [],
      "source": [
        "f2(0), f2(1), f2(2), f2(3)"
      ]
    },
    {
      "cell_type": "code",
      "execution_count": null,
      "metadata": {
        "id": "OmU4-eng5Z5B"
      },
      "outputs": [],
      "source": [
        "%%ipytest\n",
        "\n",
        "def test_fast_power_sum():\n",
        "    for i in range(1, 4):\n",
        "        f = mk_fast_power_sum(i)\n",
        "        g = mk_power_sum(i)\n",
        "        for n in range(1000):\n",
        "            assert f(n) == g(n)"
      ]
    },
    {
      "cell_type": "code",
      "execution_count": null,
      "metadata": {
        "id": "4IcKa01e5Z5C"
      },
      "outputs": [],
      "source": [
        "%timeit f2_slow(10_000)\n",
        "%timeit f2(10_000)\n",
        "%timeit f2_fast(10_000)"
      ]
    },
    {
      "cell_type": "code",
      "execution_count": null,
      "metadata": {
        "id": "2pVw-B0D5Z5C"
      },
      "outputs": [],
      "source": [
        "cell = f2.__closure__[0]\n",
        "cell.cell_contents"
      ]
    },
    {
      "cell_type": "markdown",
      "metadata": {
        "id": "wmrrqGYJ5Z5C"
      },
      "source": [
        "# Egy gráfelméleti algoritmus"
      ]
    },
    {
      "cell_type": "markdown",
      "metadata": {
        "id": "IWA8KrfV5Z5C"
      },
      "source": [
        "## Feladat"
      ]
    },
    {
      "cell_type": "markdown",
      "metadata": {
        "id": "8ylmhyvf5Z5C"
      },
      "source": [
        "Adott egy `n` csúcsú irányítatlan gráf az élek listájával. A gráf csúcsait `0`-tól `n-1`-ig címkéztük meg, az éleket pedig a végpontokkal.\n",
        "\n",
        "Emellett adott egy kiindulási pont és egy végpont. Azt szeretnénk eldönteni, hogy el lehet-e jutni a kiindulási pontból a végpontba a gráf éleit használva.\n",
        "\n",
        "Gondolhatunk arra, hogy a gráf egy úthálózatot ír le és a kérdés az, hogy el tudunk-e jutni `A`-ból `B`-be."
      ]
    },
    {
      "cell_type": "markdown",
      "metadata": {
        "id": "i0SQlp-L5Z5C"
      },
      "source": [
        "Pl. `n = 3`, élek `edges = [[0,1], [1,2], [2,0]]`, `A =  0`, `B = 2`."
      ]
    },
    {
      "cell_type": "markdown",
      "metadata": {
        "id": "wQYxSzxZ5Z5D"
      },
      "source": [
        "Gráfok megjelenítésére egy hasznos könyvtár a `graphviz`."
      ]
    },
    {
      "cell_type": "code",
      "execution_count": null,
      "metadata": {
        "id": "8Kp4DfJh5Z5D"
      },
      "outputs": [],
      "source": [
        "import importlib\n",
        "if importlib.util.find_spec('graphviz') is None:\n",
        "    ! pip install graphviz\n",
        "import graphviz"
      ]
    },
    {
      "cell_type": "code",
      "execution_count": null,
      "metadata": {
        "id": "5JRcEoEQ5Z5D"
      },
      "outputs": [],
      "source": [
        "edges = [[0,1], [1,2], [2,0]]\n",
        "g0 = graphviz.Graph()\n",
        "\n",
        "g0.edges([(str(a), str(b)) for a, b in edges])\n",
        "g0"
      ]
    },
    {
      "cell_type": "markdown",
      "metadata": {
        "id": "6AeUhnXY5Z5D"
      },
      "source": [
        "A gráf összefüggő, tetszőleges `A`, `B` esetén a válasz: `True`"
      ]
    },
    {
      "cell_type": "code",
      "execution_count": null,
      "metadata": {
        "id": "rRg8M3GD5Z5D"
      },
      "outputs": [],
      "source": [
        "n = 6\n",
        "edges = [[0,1],[0,2],[3,5],[5,4],[4,3]]\n",
        "A = 0\n",
        "B = 5\n",
        "\n",
        "g1 = graphviz.Graph()\n",
        "g1.edges([(str(a), str(b)) for a, b in edges])\n",
        "g1"
      ]
    },
    {
      "cell_type": "markdown",
      "metadata": {
        "id": "IHbWXeFX5Z5E"
      },
      "source": [
        "Nincs út 0 és 5 között. A válasz: `False`"
      ]
    },
    {
      "cell_type": "markdown",
      "metadata": {
        "id": "gEoUfwqV5Z5E"
      },
      "source": [
        "Összefüggőségi komponenseket szeretnénk számolni.\n",
        "\n"
      ]
    },
    {
      "cell_type": "markdown",
      "metadata": {
        "id": "zfmWimXA5Z5E"
      },
      "source": [
        "## Ötlet.\n",
        "\n",
        "Az él nélküli gráfból indulunk ki. Itt egy elemű komponensek vannak.\n",
        "\n",
        "Minden komponensből válasszunk egy reprezentáns és minden $i$ pontra feljegyezzük, melyik komponensben van.\n",
        "\n",
        "\n"
      ]
    },
    {
      "cell_type": "code",
      "execution_count": null,
      "metadata": {
        "id": "AhjaP_cX5Z5E"
      },
      "outputs": [],
      "source": [
        "def show_graph(roots, direction = 'LR'):\n",
        "    g = graphviz.Digraph(graph_attr={'rankdir': direction})\n",
        "    g.edges((str(i), str(r)) for i, r in enumerate(roots))\n",
        "    return g"
      ]
    },
    {
      "cell_type": "code",
      "execution_count": null,
      "metadata": {
        "id": "CLYvXuB85Z5E"
      },
      "outputs": [],
      "source": [
        "n = 5\n",
        "roots = [i for i in range(n)]\n",
        "display(show_graph(roots, 'TD'))"
      ]
    },
    {
      "cell_type": "markdown",
      "metadata": {
        "id": "3PJCzwGR5Z5F"
      },
      "source": [
        "ha behúzzuk a $(0, 1)$ élet, akkor $0$ és $1$ azonos komponensbe kerül. Választhatunk a két összeuniózott komponens reprezentánsa között, legyen pl. 1"
      ]
    },
    {
      "cell_type": "code",
      "execution_count": null,
      "metadata": {
        "id": "0eBNDy_K5Z5F"
      },
      "outputs": [],
      "source": [
        "roots[0] = 1\n",
        "display(show_graph(roots, 'TD'))"
      ]
    },
    {
      "cell_type": "markdown",
      "metadata": {
        "id": "BsNv3SMF5Z5F"
      },
      "source": [
        "Ha most a (0, 2) élet akarjuk behúzni, akkor nem állíthatjuk át `roots[0]`. Meg kell keresnünk `0` komponensének reprezentását, ez 1 és vagy `roots[1]`-et állítjuk 2 -re, vagy `roots[2]`-t 1-re."
      ]
    },
    {
      "cell_type": "code",
      "execution_count": null,
      "metadata": {
        "id": "3A_2wg9U5Z5G"
      },
      "outputs": [],
      "source": [
        "def find(roots, a):\n",
        "    while a != roots[a]:\n",
        "        a = roots[a]\n",
        "    return a"
      ]
    },
    {
      "cell_type": "code",
      "execution_count": null,
      "metadata": {
        "id": "EgKfB7t05Z5G"
      },
      "outputs": [],
      "source": [
        "find(roots, 0), find(roots, 2)"
      ]
    },
    {
      "cell_type": "code",
      "execution_count": null,
      "metadata": {
        "id": "xzistJ1u5Z5G"
      },
      "outputs": [],
      "source": [
        "def union(roots, a, b):\n",
        "    ra = find(roots, a)\n",
        "    rb = find(roots, b)\n",
        "    roots[ra] = rb"
      ]
    },
    {
      "cell_type": "code",
      "execution_count": null,
      "metadata": {
        "id": "c6wzIRCe5Z5G"
      },
      "outputs": [],
      "source": [
        "union(roots, 0, 2)\n",
        "print(f\"After union(0, 2) {roots=}\")\n",
        "display(show_graph(roots))\n",
        "\n",
        "union(roots, 3, 4)\n",
        "print(f\"After union(3, 4) {roots=}\")\n",
        "print(roots)\n",
        "display(show_graph(roots))\n",
        "\n",
        "union(roots, 3, 2)\n",
        "print(f\"After union(3, 2) {roots=}\")\n",
        "print(roots)\n",
        "display(show_graph(roots))"
      ]
    },
    {
      "cell_type": "markdown",
      "metadata": {
        "id": "1sSNOvOm5Z5G"
      },
      "source": [
        "Ezután az a kérdés, hogy el lehet-e jutni `A`-ból, `B`-be könnyen eldönthető. Ha `A` és `B` azonos komponensben van, akkor `A` és `B` között megy út az eredeti gráfban, különben nem."
      ]
    },
    {
      "cell_type": "markdown",
      "metadata": {
        "id": "xcw5w9Op5Z5G"
      },
      "source": [
        "1. példa\n",
        "`n = 3`, élek `edges = [[0,1], [1,2], [2,0]]`, `A =  0`, `B = 2`."
      ]
    },
    {
      "cell_type": "code",
      "execution_count": null,
      "metadata": {
        "id": "tVSKpmGU5Z5H"
      },
      "outputs": [],
      "source": [
        "def show_edges(edges, direction='LR'):\n",
        "    g = graphviz.Graph(graph_attr={'rankdir': direction})\n",
        "    g.edges([(str(a), str(b)) for a, b in edges])\n",
        "    return g"
      ]
    },
    {
      "cell_type": "code",
      "execution_count": null,
      "metadata": {
        "id": "XpRjG5Vz5Z5H"
      },
      "outputs": [],
      "source": [
        "n = 3\n",
        "edges = [[0,1], [1,2], [2,0]]\n",
        "A =  0\n",
        "B = 2\n",
        "\n",
        "display(show_edges(edges, 'TD'))\n",
        "print(f\"Eredeti gráf\")\n",
        "print(\"=\"*50)\n",
        "\n",
        "roots = [i for i in range(n)]\n",
        "for a, b in edges:\n",
        "    union(roots, a, b)\n",
        "\n",
        "display(show_graph(roots))\n",
        "print(f\"{A=} és {B=} {'azonos' if find(roots, A)==find(roots, B) else 'különböző'} komponensben van\")"
      ]
    },
    {
      "cell_type": "markdown",
      "metadata": {
        "id": "Wy_-FqNr5Z5H"
      },
      "source": [
        "2. példa"
      ]
    },
    {
      "cell_type": "code",
      "execution_count": null,
      "metadata": {
        "id": "4yn8l3rm5Z5H"
      },
      "outputs": [],
      "source": [
        "n = 6\n",
        "edges = [[0,1],[0,2],[3,5],[5,4],[4,3]]\n",
        "A = 0\n",
        "B = 5\n",
        "\n",
        "display(show_edges(edges))\n",
        "print(f\"Eredeti gráf\")\n",
        "print(\"=\"*50)\n",
        "\n",
        "roots = [i for i in range(n)]\n",
        "for a, b in edges:\n",
        "    union(roots, a, b)\n",
        "\n",
        "display(show_graph(roots))\n",
        "print(f\"{A=} és {B=} {'azonos' if find(roots, A)==find(roots, B) else 'különböző'} komponensben van\")\n"
      ]
    },
    {
      "cell_type": "markdown",
      "metadata": {
        "id": "JV7XlaFo5Z5H"
      },
      "source": [
        "Mi történik, ha nagyobb gráfunk van?"
      ]
    },
    {
      "cell_type": "code",
      "execution_count": null,
      "metadata": {
        "id": "0pVLviMz5Z5H"
      },
      "outputs": [],
      "source": [
        "n = 10\n",
        "edges = [(0,i+1) for i in range(n-1)]\n",
        "display(show_edges(edges, 'TD'))\n",
        "\n",
        "roots = [i for i in range(n)]\n",
        "for a, b in edges:\n",
        "    union(roots, a, b)\n",
        "\n",
        "display(show_graph(roots))\n"
      ]
    },
    {
      "cell_type": "markdown",
      "metadata": {
        "id": "wT-1DCS-5Z5H"
      },
      "source": [
        "Valahányszor behúzzuk a $(0, i)$ élet, meg kell keresni $0$ reprezentánsát. $k$ él behúzása után $k$-lépéssel találjuk meg. Ha 10 helyett 10_000 méretű a gráf ez nem fog működni.\n",
        "\n",
        "### Javítási lehetőségek.\n",
        "\n",
        "- Amikor megkeressük $i$ reprezentánsát végig megyünk a reprezentánshoz vezető úton. Minden meglátogatott csúcsra ismerté válik a reprezentáns értéke. Ezt beírhatjuk a `roots` tömbe. (path compression)\n",
        "\n",
        "- A nagyobb komponensbe kössük be a kisebbet és ne fordítva. Ehhez  a ,,méretet'' nyilván kell tartani."
      ]
    },
    {
      "cell_type": "code",
      "execution_count": null,
      "metadata": {
        "id": "vw20h7lS5Z5I"
      },
      "outputs": [],
      "source": [
        "def find_better(roots, a):\n",
        "    ra = roots[a]\n",
        "    if a != ra:\n",
        "        ra = find_better(roots, ra)\n",
        "        roots[a] = ra\n",
        "    return ra\n",
        "\n",
        "def find_better_without_recursion(roots, a):\n",
        "    stack = []\n",
        "\n",
        "    ra = roots[a]\n",
        "    while a != ra:\n",
        "        stack.append(a)\n",
        "        a = ra\n",
        "        ra = roots[a]\n",
        "\n",
        "    while stack:\n",
        "        roots[stack.pop()] = ra\n",
        "\n",
        "    return ra\n",
        "\n",
        "\n",
        "def union_sizes(roots, sizes, a, b):\n",
        "    ra = find_better(roots, a)\n",
        "    rb = find_better(roots, b)\n",
        "    if ra != rb:\n",
        "        if sizes[ra] < sizes[rb]:\n",
        "            ra, rb = rb, ra\n",
        "        roots[rb] = ra\n",
        "        sizes[ra] += sizes[rb]\n",
        "\n",
        "def union_ranks(roots, ranks, a, b):\n",
        "    ra = find_better(roots, a)\n",
        "    rb = find_better(roots, b)\n",
        "    if ra != rb:\n",
        "        if ranks[ra] < ranks[rb]:\n",
        "            ra, rb = rb, ra\n",
        "        roots[rb] = ra\n",
        "        if ranks[ra] == ranks[rb]:\n",
        "            ranks[ra] += 1\n",
        "\n",
        "\n"
      ]
    },
    {
      "cell_type": "code",
      "execution_count": null,
      "metadata": {
        "id": "-7PEeT4h5Z5I"
      },
      "outputs": [],
      "source": [
        "n = 10\n",
        "edges = [(0, i) for i in range(1, n)]\n",
        "display(show_edges(edges, 'TD'))\n",
        "\n",
        "roots = [i for i in range(n)]\n",
        "\n",
        "for a, b in edges:\n",
        "    ra = find_better(roots, a)\n",
        "    rb = find_better(roots, b)\n",
        "    roots[ra] = rb\n",
        "\n",
        "display(show_graph(roots, 'LR'))\n"
      ]
    },
    {
      "cell_type": "code",
      "execution_count": null,
      "metadata": {
        "id": "RvNdA2Kn5Z5I"
      },
      "outputs": [],
      "source": [
        "n = 10\n",
        "edges = [(0, i) for i in range(1, n)]\n",
        "display(show_edges(edges, 'TD'))\n",
        "\n",
        "roots = [i for i in range(n)]\n",
        "\n",
        "for a, b in edges:\n",
        "    ra = find_better(roots, a)\n",
        "    rb = find_better(roots, b)\n",
        "    roots[rb] = ra\n",
        "\n",
        "display(show_graph(roots, 'TD'))\n"
      ]
    },
    {
      "cell_type": "code",
      "execution_count": null,
      "metadata": {
        "id": "nnxLj3925Z5I"
      },
      "outputs": [],
      "source": [
        "n = 10\n",
        "edges = [(0, i) for i in range(1, n)]\n",
        "display(show_edges(edges, 'TD'))\n",
        "\n",
        "roots = [i for i in range(n)]\n",
        "sizes = [1]*n\n",
        "\n",
        "for a, b in edges:\n",
        "    union_sizes(roots, sizes, a, b)\n",
        "\n",
        "display(show_graph(roots, 'TD'))\n"
      ]
    },
    {
      "cell_type": "code",
      "execution_count": null,
      "metadata": {
        "id": "x12dGAF15Z5J"
      },
      "outputs": [],
      "source": [
        "n = 10\n",
        "edges = [(0, i) for i in range(1, n)]\n",
        "display(show_edges(edges, 'TD'))\n",
        "\n",
        "roots = [i for i in range(n)]\n",
        "ranks = [0]*n\n",
        "\n",
        "for a, b in edges:\n",
        "    union_ranks(roots, ranks, a, b)\n",
        "\n",
        "display(show_graph(roots, 'TD'))\n"
      ]
    },
    {
      "cell_type": "markdown",
      "metadata": {
        "id": "yjEaJvt05Z5J"
      },
      "source": [
        "# Faktoriális értékének közelítése"
      ]
    },
    {
      "cell_type": "markdown",
      "metadata": {
        "id": "PM8uONzD5Z5J"
      },
      "source": [
        "Mekkora $n!$, ha $n$ nagy?\n",
        "\n",
        "Ötlet:\n",
        "$$\n",
        "    \\log n! = \\sum_{k=1}^n \\log k \\approx \\int_1^{?} \\log x dx = \\left[ x(\\log x-1)\\right]_{x=1}^{x=?}\n",
        "$$"
      ]
    },
    {
      "cell_type": "code",
      "execution_count": null,
      "metadata": {
        "id": "Mx4xVEar5Z5J"
      },
      "outputs": [],
      "source": [
        "import matplotlib.pyplot as plt\n",
        "import math\n",
        "\n",
        "def subdivision(a, b, n):\n",
        "    d = (b-a)/n\n",
        "    return [a+i*d for i in range(n+1)]\n",
        "\n",
        "def add_function_curve(f, a, b, n=100):\n",
        "    xs = subdivision(a, b, n)\n",
        "    fxs = [f(x) for x in  xs]\n",
        "    plt.plot(xs, fxs, \"r-\")"
      ]
    },
    {
      "cell_type": "markdown",
      "metadata": {
        "id": "QLDtZkJe5Z5K"
      },
      "source": [
        "## Téglalap közelítés"
      ]
    },
    {
      "cell_type": "code",
      "execution_count": null,
      "metadata": {
        "id": "P1Yo1PlZ5Z5K"
      },
      "outputs": [],
      "source": [
        "k_values = [k for k in range(1, 11)]\n",
        "for k in k_values:\n",
        "    plt.fill_between([k+i for k in k_values for i in range(2)], [math.log(k) for k in k_values for i in range(2)], color='lightblue')\n",
        "\n",
        "add_function_curve(math.log, 1, 11)\n"
      ]
    },
    {
      "cell_type": "markdown",
      "metadata": {
        "id": "ROsBDfOu5Z5K"
      },
      "source": [
        "A hiba:"
      ]
    },
    {
      "cell_type": "code",
      "execution_count": null,
      "metadata": {
        "id": "Pyy7KIJt5Z5K"
      },
      "outputs": [],
      "source": [
        "def primitive_function(x):\n",
        "    return x*(math.log(x)-1)\n",
        "\n",
        "def rectangle_error(k):\n",
        "    return primitive_function(k+1)-primitive_function(k)-math.log(k)\n",
        "\n",
        "def cummulative_error(n, error_fun=rectangle_error):\n",
        "    return sum(error_fun(k) for k in range(1, n+1))"
      ]
    },
    {
      "cell_type": "code",
      "execution_count": null,
      "metadata": {
        "id": "T3aaTHMA5Z5L"
      },
      "outputs": [],
      "source": [
        "for n in [10, 100, 1000]:\n",
        "    print(f\"{n=}, {cummulative_error(n)=}\")"
      ]
    },
    {
      "cell_type": "markdown",
      "metadata": {
        "id": "Kmg1Tpee5Z5L"
      },
      "source": [
        "### Javítás, trapéz összeg közelítés"
      ]
    },
    {
      "cell_type": "markdown",
      "metadata": {
        "id": "AmR1neMP5Z5L"
      },
      "source": [
        "Téglalapok helyett minden egység intervallumon a beírt trapézt  használjuk."
      ]
    },
    {
      "cell_type": "code",
      "execution_count": null,
      "metadata": {
        "id": "jWD3KSBU5Z5M"
      },
      "outputs": [],
      "source": [
        "k_values = [k for k in range(1, 11)]\n",
        "for k in k_values:\n",
        "    plt.fill_between(k_values, [math.log(k) for k in k_values], color='lightblue')\n",
        "\n",
        "add_function_curve(math.log, 1, 10)\n"
      ]
    },
    {
      "cell_type": "code",
      "execution_count": null,
      "metadata": {
        "id": "aTrV9IyW5Z5M"
      },
      "outputs": [],
      "source": [
        "def error_fun(x):\n",
        "    k, t = divmod(x, 1)\n",
        "    return math.log(x) - ((1-t)*math.log(k) + t*math.log(k+1))\n",
        "\n",
        "xs = subdivision(1, 10, 100)\n",
        "plt.fill_between(xs, [error_fun(x) for x in xs], color='lightblue')\n",
        "add_function_curve(error_fun, 1, 10, 500)\n"
      ]
    },
    {
      "cell_type": "code",
      "execution_count": null,
      "metadata": {
        "id": "C2X5JEEg5Z5M"
      },
      "outputs": [],
      "source": [
        "def modified_error_fun(x):\n",
        "    k = x//1\n",
        "    return k*k*error_fun(x)\n",
        "\n",
        "for a in [1, 100, 1000, 10000]:\n",
        "    b = a+10\n",
        "    xs = subdivision(a, b, 1000)\n",
        "\n",
        "    plt.fill_between(xs, [modified_error_fun(x) for x in xs], color='lightblue')\n",
        "    add_function_curve(modified_error_fun, a, b, 1000)\n",
        "    plt.show()"
      ]
    },
    {
      "cell_type": "code",
      "execution_count": null,
      "metadata": {
        "id": "xlCKfvCr5Z5N"
      },
      "outputs": [],
      "source": [
        "def trapezoid_error(k):\n",
        "    return primitive_function(k+1)-primitive_function(k)-0.5*(math.log(k)+math.log(k+1))\n"
      ]
    },
    {
      "cell_type": "code",
      "execution_count": null,
      "metadata": {
        "id": "koVBJpsW5Z5N"
      },
      "outputs": [],
      "source": [
        "for n in [10, 100, 1000]:\n",
        "    print(f\"{n = :>4}, {cummulative_error(n, trapezoid_error) = :.8f}\")"
      ]
    },
    {
      "cell_type": "markdown",
      "metadata": {
        "id": "xmpHl1cM5Z5N"
      },
      "source": [
        "## Látszik, hogy a hiba lassan nő. Tudunk-e felső becslést adni rá?\n",
        "\n",
        "$$\n",
        "    \\int_{k}^{k+1} \\log x dx = \\int_0^1 \\log(k+x) dx\n",
        "$$\n",
        "\n",
        "A beírt trapéz területe integrállal\n",
        "\n",
        "$$\n",
        "    \\int_0^1 x\\log(k+1)+(1-x)\\log(k) dx\n",
        "$$\n",
        "\n",
        "Tudjuk-e becsülni a két integrandus különbségét?\n",
        "$$\n",
        "    \\log(k+x) - (x\\log(k+1)+(1-x)\\log(k))\n",
        "$$\n",
        "\n",
        "Átalakítás mindkét tagból levonunk $\\log(k)$-t:\n",
        "$$\n",
        "    \\log(k+x) - \\log(k) - (x\\log(k+1)+(1-x)\\log(k) -\\log(k)) = \\log(1+\\tfrac{x}{k}) - x\\log(1+\\tfrac1k)\n",
        "$$\n"
      ]
    },
    {
      "cell_type": "code",
      "execution_count": null,
      "metadata": {
        "id": "1sPGilti5Z5N"
      },
      "outputs": [],
      "source": [
        "xs = subdivision(0, 1, 100)\n",
        "\n",
        "for k in range(1, 4):\n",
        "    plt.fill_between(xs, [math.log(k+x)-math.log(k) for x in xs], [math.log(k+1)*x+math.log(k)*(1-x)-math.log(k) for x in xs], color=\"blue\")\n",
        "\n",
        "plt.grid()"
      ]
    },
    {
      "cell_type": "markdown",
      "metadata": {
        "id": "lSF2XwTk5Z5N"
      },
      "source": [
        "A logaritmus függvény konkáv, a derivált monoton fogy ($1/x$) és egy beírt húr mindig a végponthoz behúzott érintő egyenesek alatt van.\n",
        "\n",
        "$$\n",
        "    \\log (1+x)\\leq x\n",
        "$$\n",
        "\n",
        "ezért\n",
        "$$\n",
        "    \\log(1+x/k) - x \\log(1+1/k)\\leq \\frac xk - x\\log(1+1/k) = x(1/k -\\log(1+1/k))\n",
        "$$\n",
        "\n",
        "de\n",
        "$$\n",
        "    \\log(1+1/k) = \\log\\frac{k+1}{k} = -\\log\\frac{k}{k+1} = -\\log(1-1/(k+1)) \\geq \\frac1{k+1}\n",
        "$$\n",
        "\n",
        "Így\n",
        "\n",
        "$$\n",
        "    \\log(1+x/k) - x \\log(1+1/k)\\leq x\\left(\\frac1k-\\frac1{k+1}\\right)\n",
        "$$\n",
        "és\n",
        "a $k$. intervallumon elkövetett hiba legfeljebb\n",
        "$$\n",
        "    \\int_{0}^{1} \\log(k+x) - ((1-x)\\log(k)+x\\log(k+1))dx = \\int_0^1 x dx \\left(\\frac1k -\\frac1{k+1}\\right)\n",
        "$$\n",
        "A hibák összege legfeljebb:\n",
        "$$\n",
        "    \\frac12 \\sum_{k=1}^\\infty \\frac1k -\\frac1{k+1} =\\frac12\n",
        "$$"
      ]
    },
    {
      "cell_type": "markdown",
      "metadata": {
        "id": "de6Nqt7f5Z5O"
      },
      "source": [
        "Összefoglalva:\n",
        "\n",
        "$$\n",
        "    \\log n! = \\int_1^n \\log x dx + \\frac12 \\log n + c_n = n(\\log(n) - 1) + 1 + \\frac12 \\log (n) + r_n\n",
        "$$\n",
        "ahol $r_n$ a közelítés hibája az első $n$ intervallumon\n",
        "$$\n",
        "    r_n = \\sum_{k=1}^n \\log(1+x/k)-x\\log(1+1/k)dx \\leq 1/2\n",
        "$$\n",
        "$(r_n)$ monoton nő, ezért létezik limesze.\n",
        "\n",
        "Visszaírva faktoriálisra:\n",
        "\n",
        "$$\n",
        "    n! = \\sqrt{n}\\left(\\frac{n}{e}\\right)^n c_n\n",
        "$$\n",
        "ahol $c_n=e^{1+r_n}\\leq e^{3/2}$\n",
        "\n",
        "Analízisben a Wallis formula következményeként szerepel\n",
        "\n",
        "$$\n",
        "\\lim c_n = \\sqrt{2\\pi}\n",
        "$$\n",
        "\n",
        "Középiskolai tudást használva is kiszámíthatnánk:\n",
        "$$\n",
        "    \\sqrt{n}\\frac1{2^{2n}}\\binom{2n}{n}\n",
        "    = \\sqrt{n} \\frac1{2^{2n}} \\frac{c_{2n} \\sqrt{2n} \\left(\\frac{2n}{e}\\right)^{2n}}{c_n^2 n\\left(\\frac{n}{e}\\right)^{2n}}\n",
        "    \\to \\lim_{n\\to\\infty} \\frac{c_{2n}}{c_n^2} = \\lim_{n\\to\\infty}\\frac{\\sqrt{2}}{c_n}\n",
        "$$\n",
        "\n",
        "Az\n",
        "$$\n",
        "    I_n = \\int_{0}^{\\pi/2} \\cos^n(x) dx\n",
        "$$\n",
        "sorozatot vizsgálva,\n",
        "$$\n",
        "\\frac1{2^{2n}}\\binom{2n}{n}\\approx \\frac{1}{\\sqrt{\\pi n}}\n",
        "$$\n",
        "adódik,  amiből $\\lim_n c_n =\\sqrt{2\\pi}$.\n",
        "\n",
        "Ez a nevezetes **Stirling** formula:\n",
        "$$\n",
        " \\frac{n!}{\\sqrt{2\\pi n}\\left(\\frac{n}{e}\\right)^n} \\to 1\n",
        "$$\n"
      ]
    },
    {
      "cell_type": "markdown",
      "metadata": {
        "id": "P3JvTkgJ5Z5O"
      },
      "source": [
        "# Feladatok előadásról\n"
      ]
    },
    {
      "cell_type": "markdown",
      "metadata": {
        "id": "QfO-nylF5Z5O"
      },
      "source": [
        "Írjuk meg a faktoriális függvényt rekurzió nélkül."
      ]
    },
    {
      "cell_type": "code",
      "execution_count": null,
      "metadata": {
        "id": "lvjs_pgl5Z5O"
      },
      "outputs": [],
      "source": [
        "def factorial(n):\n",
        "        pass"
      ]
    },
    {
      "cell_type": "markdown",
      "metadata": {
        "id": "mpPzPSZa5Z5O"
      },
      "source": [
        "Írjunk egy függvényt, amely inputként vár két függvényt és az output az a függvény, amelyik a két input összege.\n",
        "\n",
        "Azaz ha $f$ és $g$ a két függvény (pl. $f(x)=x+1$, $g(x)=2x+1$), akkor az output legyen az a $h$ függvény, melyre\n",
        "$h(x) = f(x) + g(x)$."
      ]
    },
    {
      "cell_type": "code",
      "execution_count": null,
      "metadata": {
        "id": "z0QgJuhT5Z5O"
      },
      "outputs": [],
      "source": [
        "def add_two_functions(f, g):\n",
        "    def h(x):\n",
        "        pass\n",
        "    return h"
      ]
    },
    {
      "cell_type": "markdown",
      "metadata": {
        "id": "JfbFf1EY5Z5O"
      },
      "source": [
        "Írjunk egy függvényt, amely inputként vár két függvényt és az output az a függvény, amelyik a két input kompozíciója.\n",
        "\n",
        "Azaz ha\n",
        "$f$ és $g$ a két függvény (pl. $f(x)=x+1$, $g(x)=2x+1$), akkor az output legyen az a $h$ függvény, melyre\n",
        "$h(x) = f(g(x))$.\n"
      ]
    },
    {
      "cell_type": "code",
      "execution_count": null,
      "metadata": {
        "id": "2uCE8a9B5Z5P"
      },
      "outputs": [],
      "source": [
        "def compose(f, g):\n",
        "    def h(x):\n",
        "        pass\n",
        "    return h\n",
        "\n"
      ]
    },
    {
      "cell_type": "markdown",
      "metadata": {
        "id": "Lqz1dxwZ5Z5P"
      },
      "source": [
        "## Tesztelés\n",
        "\n",
        "***Előre érdemes megírni, ez is segít végiggondolni mit is várunk a függvénytől!***"
      ]
    },
    {
      "cell_type": "code",
      "execution_count": null,
      "metadata": {
        "id": "VtM18pdt5Z5P"
      },
      "outputs": [],
      "source": [
        "# uncomment and run if ipytest is not installed\n",
        "# ! pip install ipytest --quiet"
      ]
    },
    {
      "cell_type": "code",
      "execution_count": null,
      "metadata": {
        "id": "6wnoHG8c5Z5P"
      },
      "outputs": [],
      "source": [
        "import ipytest\n",
        "ipytest.autoconfig()"
      ]
    },
    {
      "cell_type": "code",
      "execution_count": null,
      "metadata": {
        "id": "i0TWBQ_I5Z5P"
      },
      "outputs": [],
      "source": [
        "%%ipytest\n",
        "\n",
        "def f(x):\n",
        "    return x+1\n",
        "\n",
        "def g(x):\n",
        "    return 2*x + 1\n",
        "\n",
        "def test_compose():\n",
        "    h = compose(f, g)\n",
        "    for x in [-100, 0, 100, 10000]:\n",
        "        assert h(x) == f(g(x))\n"
      ]
    }
  ],
  "metadata": {
    "kernelspec": {
      "display_name": "python3.10",
      "language": "python",
      "name": "python3"
    },
    "language_info": {
      "codemirror_mode": {
        "name": "ipython",
        "version": 3
      },
      "file_extension": ".py",
      "mimetype": "text/x-python",
      "name": "python",
      "nbconvert_exporter": "python",
      "pygments_lexer": "ipython3",
      "version": "3.10.12"
    },
    "orig_nbformat": 4,
    "colab": {
      "provenance": []
    }
  },
  "nbformat": 4,
  "nbformat_minor": 0
}