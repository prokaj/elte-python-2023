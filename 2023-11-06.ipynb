{
  "cells": [
    {
      "cell_type": "markdown",
      "metadata": {
        "id": "EFTeU2wgWBeJ"
      },
      "source": [
        "[![Open In Colab](https://colab.research.google.com/assets/colab-badge.svg)](https://colab.research.google.com/github/prokaj/elte-python-2023/blob/main/2023-11-06.ipynb)   "
      ]
    },
    {
      "cell_type": "markdown",
      "metadata": {
        "id": "JzihzYd4WBeK"
      },
      "source": [
        "Néhány import amit később használni fogunk:"
      ]
    },
    {
      "cell_type": "code",
      "execution_count": 3,
      "metadata": {
        "id": "gYp8gB8FWBeL",
        "outputId": "d0b8a192-72b1-4248-9095-a8955f271ac1",
        "colab": {
          "base_uri": "https://localhost:8080/"
        }
      },
      "outputs": [
        {
          "output_type": "stream",
          "name": "stdout",
          "text": [
            "\u001b[?25l     \u001b[90m━━━━━━━━━━━━━━━━━━━━━━━━━━━━━━━━━━━━━━━━\u001b[0m \u001b[32m0.0/1.6 MB\u001b[0m \u001b[31m?\u001b[0m eta \u001b[36m-:--:--\u001b[0m\r\u001b[2K     \u001b[91m━━━━━━\u001b[0m\u001b[90m╺\u001b[0m\u001b[90m━━━━━━━━━━━━━━━━━━━━━━━━━━━━━━━━━\u001b[0m \u001b[32m0.2/1.6 MB\u001b[0m \u001b[31m7.1 MB/s\u001b[0m eta \u001b[36m0:00:01\u001b[0m\r\u001b[2K     \u001b[91m━━━━━━━━━━━━━━━━━━━━━━━━━━━━━\u001b[0m\u001b[90m╺\u001b[0m\u001b[90m━━━━━━━━━━\u001b[0m \u001b[32m1.2/1.6 MB\u001b[0m \u001b[31m16.4 MB/s\u001b[0m eta \u001b[36m0:00:01\u001b[0m\r\u001b[2K     \u001b[90m━━━━━━━━━━━━━━━━━━━━━━━━━━━━━━━━━━━━━━━━\u001b[0m \u001b[32m1.6/1.6 MB\u001b[0m \u001b[31m14.6 MB/s\u001b[0m eta \u001b[36m0:00:00\u001b[0m\n",
            "\u001b[?25h"
          ]
        }
      ],
      "source": [
        "import importlib\n",
        "import math\n",
        "\n",
        "if importlib.util.find_spec('ipytest') is None:\n",
        "    ! pip install --quiet ipytest\n",
        "\n",
        "import ipytest\n",
        "\n",
        "ipytest.autoconfig()"
      ]
    },
    {
      "cell_type": "markdown",
      "metadata": {
        "id": "PyIBw1NWWBeM"
      },
      "source": [
        "# Házi feladat"
      ]
    },
    {
      "cell_type": "markdown",
      "metadata": {
        "id": "vfhpsJpOWBeM"
      },
      "source": [
        "### 1. feladat"
      ]
    },
    {
      "cell_type": "markdown",
      "metadata": {
        "id": "VcUcE9YMWBeN"
      },
      "source": [
        "Adott egy dictionary, amiben hallgatók adatai szerepelnek. Minden neptun kódhoz két adat van feljegyezve, a név (`name`) és az előző félév tanulmányi átlaga (`avg`).\n",
        "\n",
        "Írjunk egy függvényt `list_students` névvel, aminek első paramétere a hallgatók adatait tartalmazó dictionary `students` névvel, a második pedig egy lebegő pontos szám a [1,5] intervallumból `min_avg` névvel, végül a visszatérési értéke azon hallgatók listája `name (neptun kód)` formátumban, akiknek az átlaga a megadott értéket elérte.\n",
        "\n",
        "A függvényünket lássuk el típus annotációval és adjuk hozzá a következő dokumentációs sztringet:\n",
        "\n",
        "```text\n",
        "list of students having at least min_avg result\n",
        "```\n",
        "\n",
        "A hallgatók neveit rendezzük lexikografikus sorrendbe.\n",
        "Pl.\n",
        "\n",
        "```python\n",
        "students = {\n",
        "    \"ACF234\": {\"name\": \"Kiss Lajos\", \"avg\": 3.5},\n",
        "    \"NBF4DF\": {\"name\": \"Nagy Blanka\" , \"avg\": 4.5},\n",
        "    \"KUDFGE\": {\"name\": \"Kiss Lajos\", \"avg\": 4.75},\n",
        "    \"BNDF23\": {\"name\": \"Boros Attila\", \"avg\": 2.75},\n",
        "    \"ADGTLE\": {\"name\": \"Poros Elek\", \"avg\": 2.0},\n",
        "}\n",
        "list_students(students, 4)\n",
        "# -> [\"Kiss Lajos (KUDFGE)\", \"Nagy Blanka (NBF4DF)\"]\n",
        "```\n",
        "\n",
        "A fenti függvény mellett írjunk teszt függvényt is, ami legalább az alábbi esetekre ellenőrzi a helyes működést.\n",
        "\n",
        "- A hallgatók adatait tartalmazó dictionary üres.\n",
        "\n",
        "- Legalább öt hallgatót tartalmazó adatsorból senki sincs aki eléri a megadott küszöböt.\n",
        "\n",
        "- Legalább öt hallgatót tartalmazó adatsorból mindenki eléri a megadott küszöböt.\n",
        "\n",
        "- Legalább öt hallgatót tartalmazó adatsorból körülbelül a hallgatók fele éri el a megadott küszöböt.\n",
        "\n",
        "- Van olyan hallgató, akinek tanulmányi átlaga pont a megadott küszöb."
      ]
    },
    {
      "cell_type": "code",
      "execution_count": 1,
      "metadata": {
        "id": "TrN6X4etWBeN"
      },
      "outputs": [],
      "source": [
        "def list_students(students: dict, min_avg: float) -> list:\n",
        "    \"\"\"list of students having at least min_avg result\"\"\"\n",
        "    answer = []\n",
        "    for neptun, student in students.items():\n",
        "        if student['avg'] >= min_avg:\n",
        "            name = student[\"name\"]\n",
        "            answer.append(f\"{name} ({neptun})\")\n",
        "    return sorted(answer)"
      ]
    },
    {
      "cell_type": "code",
      "execution_count": 6,
      "metadata": {
        "id": "B2TDpAaPWBeO",
        "outputId": "8c35ddba-ec49-4232-86cb-49b5f1d46689",
        "colab": {
          "base_uri": "https://localhost:8080/"
        }
      },
      "outputs": [
        {
          "output_type": "stream",
          "name": "stdout",
          "text": [
            "\u001b[32m.\u001b[0m\u001b[32m.\u001b[0m\u001b[32m.\u001b[0m\u001b[32m.\u001b[0m\u001b[32m.\u001b[0m\u001b[32m                                                                                        [100%]\u001b[0m\n",
            "\u001b[32m\u001b[32m\u001b[1m5 passed\u001b[0m\u001b[32m in 0.03s\u001b[0m\u001b[0m\n"
          ]
        }
      ],
      "source": [
        "%%ipytest\n",
        "\n",
        "def test_empty():\n",
        "    assert list_students({}, 2.0) == []\n",
        "\n",
        "def test_min_avg_high():\n",
        "    students = {\n",
        "        \"ACF234\": {\"name\": \"Kiss Lajos\", \"avg\": 3.5},\n",
        "        \"NBF4DF\": {\"name\": \"Nagy Blanka\" , \"avg\": 4.5},\n",
        "        \"KUDFGE\": {\"name\": \"Kiss Lajos\", \"avg\": 4.75},\n",
        "        \"BNDF23\": {\"name\": \"Boros Attila\", \"avg\": 2.75},\n",
        "        \"ADGTLE\": {\"name\": \"Poros Elek\", \"avg\": 2.0},\n",
        "    }\n",
        "    assert list_students(students, 4.8) == []\n",
        "\n",
        "def test_min_avg_low():\n",
        "    students = {\n",
        "        \"ACF234\": {\"name\": \"Kiss Lajos\", \"avg\": 3.5},\n",
        "        \"NBF4DF\": {\"name\": \"Nagy Blanka\" , \"avg\": 4.5},\n",
        "        \"KUDFGE\": {\"name\": \"Kiss Lajos\", \"avg\": 4.75},\n",
        "        \"BNDF23\": {\"name\": \"Boros Attila\", \"avg\": 2.75},\n",
        "        \"ADGTLE\": {\"name\": \"Poros Elek\", \"avg\": 2.0},\n",
        "    }\n",
        "    list_of_students = sorted((student['name'], neptun_id) for neptun_id, student in students.items())\n",
        "\n",
        "    assert list_students(students, 1.8) == [f\"{name} ({neptun})\" for name, neptun in list_of_students]\n",
        "\n",
        "\n",
        "def test_half():\n",
        "    students = {\n",
        "        \"ACF234\": {\"name\": \"Kiss Lajos\", \"avg\": 3.5},\n",
        "        \"NBF4DF\": {\"name\": \"Nagy Blanka\" , \"avg\": 4.5},\n",
        "        \"KUDFGE\": {\"name\": \"Kiss Lajos\", \"avg\": 4.75},\n",
        "        \"BNDF23\": {\"name\": \"Boros Attila\", \"avg\": 2.75},\n",
        "        \"ADGTLE\": {\"name\": \"Poros Elek\", \"avg\": 2.0},\n",
        "    }\n",
        "    assert list_students(students, 3.2) == [\n",
        "        \"Kiss Lajos (ACF234)\",\n",
        "        \"Kiss Lajos (KUDFGE)\",\n",
        "        \"Nagy Blanka (NBF4DF)\"\n",
        "        ]\n",
        "\n",
        "def test_equal():\n",
        "    students = {\n",
        "        \"ACF234\": {\"name\": \"Kiss Lajos\", \"avg\": 3.5},\n",
        "        \"NBF4DF\": {\"name\": \"Nagy Blanka\" , \"avg\": 4.5},\n",
        "        \"KUDFGE\": {\"name\": \"Kiss Lajos\", \"avg\": 4.75},\n",
        "        \"BNDF23\": {\"name\": \"Boros Attila\", \"avg\": 2.75},\n",
        "        \"ADGTLE\": {\"name\": \"Poros Elek\", \"avg\": 2.0},\n",
        "    }\n",
        "    assert list_students(students, 3.5) == [\n",
        "        \"Kiss Lajos (ACF234)\",\n",
        "        \"Kiss Lajos (KUDFGE)\",\n",
        "        \"Nagy Blanka (NBF4DF)\"\n",
        "        ]\n",
        "\n"
      ]
    },
    {
      "cell_type": "markdown",
      "metadata": {
        "id": "6dJAUmjmWBeP"
      },
      "source": [
        "### 2. feladat"
      ]
    },
    {
      "cell_type": "markdown",
      "metadata": {
        "id": "1pildXOYWBeQ"
      },
      "source": [
        "Gráfok csúcsait gyakran rövid sztringekkel címkézik. Írjunk egy függvényt, aminek egyetlen paramétere az élek listája, visszatérési értéke pedig egy dictionary, ami minden csúcshoz egy listát tárol a szomszédos csúcsok címkéivel.\n",
        "\n",
        "Többszörös él esetén is minden csúcs legfeljebb egyszer szerepeljen a listában. A szomszédokat lexikografikusan rendezve soroljuk fel!\n",
        "\n",
        "Pl. ha\n",
        "\n",
        "```python\n",
        "edges = [(\"A\", \"B\"), (\"C\", \"A\"), (\"A\", \"D\"), (\"C\",\"D\"), (\"D\", \"C\"), (\"E\", \"E\")]\n",
        "```\n",
        "\n",
        "és a függvényünk neve `neighbors`, akkor a `neighbors(edges)` hívás eredménye:\n",
        "\n",
        "```\n",
        "{\n",
        "    \"A\" : [\"B\", \"C\", \"D\"],\n",
        "    \"B\" : [\"A\"],\n",
        "    \"C\" : [\"A\", \"D\"],\n",
        "    \"D\" : [\"A\", \"C\"],\n",
        "    \"E\" : [\"E\"],\n",
        "}\n",
        "```\n",
        "\n",
        "Lássuk el a függvényt típus annotációval és adjuk hozzá a következő dokumentációs sztringet:\n",
        "\n",
        "```text\n",
        "sparse adjacency matrix of a graph given by edges\n",
        "```\n",
        "\n",
        "A fenti függvény mellett írjunk teszt függvényt is, ami legalább az alábbi esetekre ellenőrzi a helyes működést.\n",
        "\n",
        "- Az élek listája üres.\n",
        "\n",
        "- Legalább öt él esetén minden él hurok él.\n",
        "\n",
        "- Legalább négy pont esetén bármely két pont között megy él.\n",
        "\n",
        "- Legalább öt él esetén nem összefüggő a gráf.\n",
        "\n",
        "- Legalább öt él esetén van többszörös él."
      ]
    },
    {
      "cell_type": "code",
      "execution_count": 7,
      "metadata": {
        "id": "mw_i8eAwWBeR"
      },
      "outputs": [],
      "source": [
        "from collections import defaultdict\n",
        "\n",
        "def neighbors(edges: list) -> dict:\n",
        "    \"\"\"sparse adjacency matrix of a graph given by edges\"\"\"\n",
        "    answer = defaultdict(set)\n",
        "    for a, b in edges:\n",
        "        answer[a].add(b)\n",
        "        answer[b].add(a)\n",
        "\n",
        "    return {key: sorted(value) for key, value in answer.items()}"
      ]
    },
    {
      "cell_type": "code",
      "execution_count": 9,
      "metadata": {
        "id": "ywK7MSjpWBeR",
        "outputId": "a2d82cfb-7361-43ab-9106-a912f3ddca95",
        "colab": {
          "base_uri": "https://localhost:8080/"
        }
      },
      "outputs": [
        {
          "output_type": "stream",
          "name": "stdout",
          "text": [
            "\u001b[32m.\u001b[0m\u001b[32m.\u001b[0m\u001b[32m.\u001b[0m\u001b[32m.\u001b[0m\u001b[32m.\u001b[0m\u001b[32m                                                                                        [100%]\u001b[0m\n",
            "\u001b[32m\u001b[32m\u001b[1m5 passed\u001b[0m\u001b[32m in 0.03s\u001b[0m\u001b[0m\n"
          ]
        }
      ],
      "source": [
        "%%ipytest\n",
        "\n",
        "import itertools\n",
        "\n",
        "def test_empty():\n",
        "    assert neighbors([]) == {}\n",
        "\n",
        "def test_loops():\n",
        "    edges = [(\"A\", \"A\"), (\"B\", \"B\"), (\"C\", \"C\"), (\"D\", \"D\"), (\"E\", \"E\")]\n",
        "    assert neighbors(edges) == {\n",
        "        \"A\": [\"A\"],\n",
        "        \"B\": [\"B\"],\n",
        "        \"C\": [\"C\"],\n",
        "        \"D\": [\"D\"],\n",
        "        \"E\": [\"E\"]\n",
        "    }\n",
        "\n",
        "def test_complete():\n",
        "    nodes = \"ABCDE\"\n",
        "    edges = [(a, b) for a, b in itertools.combinations(nodes, r=2)]\n",
        "    result = {a: [b for b in nodes if b != a] for a in nodes}\n",
        "    assert neighbors(edges) == result\n",
        "\n",
        "def test_not_connected():\n",
        "    nodes = \"ABC\"\n",
        "    edges = [(a, b) for a, b in itertools.combinations(nodes, r=2)]\n",
        "    result = {a: [b for b in nodes if b != a] for a in nodes}\n",
        "\n",
        "    nodes = \"DEF\"\n",
        "    edges.extend((a, b) for a, b in itertools.combinations(nodes, r=2))\n",
        "    result.update({a: [b for b in nodes if b != a] for a in nodes})\n",
        "\n",
        "    assert neighbors(edges) == result\n",
        "\n",
        "def test_multiple_edge():\n",
        "    edges = [(\"A\", \"B\"), (\"C\", \"A\"), (\"A\", \"D\"), (\"C\",\"D\"), (\"D\", \"C\"), (\"E\", \"E\")]\n",
        "    assert neighbors(edges) == {\n",
        "        \"A\" : [\"B\", \"C\", \"D\"],\n",
        "        \"B\" : [\"A\"],\n",
        "        \"C\" : [\"A\", \"D\"],\n",
        "        \"D\" : [\"A\", \"C\"],\n",
        "        \"E\" : [\"E\"],\n",
        "    }"
      ]
    },
    {
      "cell_type": "markdown",
      "metadata": {
        "id": "83Ui56CLWBeR"
      },
      "source": [
        "### 3. feladat"
      ]
    },
    {
      "cell_type": "markdown",
      "metadata": {
        "id": "TqZE2tsqWBeS"
      },
      "source": [
        "Éleivel adott egy élsúlyozott gráf. Írjunk egy függvényt, ami minden csúcsra kiszámolja a hozzá csatlakozó élek összsúlyát. A függvény egyetlen argumentuma egy lista, aminek elemei számhármasok `(a, b, w)` alakban. `a` és `b` az él két végpontja, `w` az `(a,b)` él súlya. Többszörös élek előfordulhatnak.\n",
        "\n",
        "A függvény visszatérési értéke egy dictionary, csúcsok a hozzájuk tartozó összsúllyal.\n",
        "pl. ha\n",
        "\n",
        "```python\n",
        "edges =  [(100, 200, 1), (100, 200, 2), (100, 1, -1), (1, 1, 5)]\n",
        "```\n",
        "\n",
        "és a függvényt `node_weight`-nek hívjuk, akkor\n",
        "\n",
        "```python\n",
        "node_weight(edges)\n",
        "```\n",
        "\n",
        "eredménye a következő dictionary\n",
        "\n",
        "```\n",
        "{100: 2, 200: 3, 1: 4}\n",
        "```\n",
        "\n",
        "Vegyük észre a hurok él hatását.\n",
        "\n",
        "Lássuk el a függvényt típus annotációval és adjuk hozzá a következő dokumentációs sztringet:\n",
        "\n",
        "```text\n",
        "node weights from edge weights\n",
        "```\n",
        "\n",
        "A fenti függvény mellett írjunk teszt függvényt is, ami legalább az alábbi esetekre ellenőrzi a helyes működést.\n",
        "\n",
        "- Az élek listája üres.\n",
        "\n",
        "- Legalább öt él esetén van hurok él.\n",
        "\n",
        "- Legalább öt él esetén minden élsúly 1.\n",
        "\n",
        "- Legalább öt él esetén az élsúlyok ,,véletlenszerűek”.\n",
        "\n",
        "- Legalább öt él esetén van többszörös él."
      ]
    },
    {
      "cell_type": "code",
      "execution_count": 10,
      "metadata": {
        "id": "LS0cmRZwWBeT"
      },
      "outputs": [],
      "source": [
        "def node_weight(edges: list) -> dict:\n",
        "    \"\"\"node weights from edge weights\"\"\"\n",
        "    result = defaultdict(int)\n",
        "    for a, b, w in edges:\n",
        "        result[a] += w\n",
        "        if b != a:\n",
        "            result[b] += w\n",
        "\n",
        "    return dict(result)"
      ]
    },
    {
      "cell_type": "code",
      "execution_count": 14,
      "metadata": {
        "id": "8-5G_EmqWBeT",
        "outputId": "4e163815-9b7e-41d7-f941-005fdee9c32f",
        "colab": {
          "base_uri": "https://localhost:8080/"
        }
      },
      "outputs": [
        {
          "output_type": "stream",
          "name": "stdout",
          "text": [
            "\u001b[32m.\u001b[0m\u001b[32m.\u001b[0m\u001b[32m.\u001b[0m\u001b[32m                                                                                          [100%]\u001b[0m\n",
            "\u001b[32m\u001b[32m\u001b[1m3 passed\u001b[0m\u001b[32m in 0.05s\u001b[0m\u001b[0m\n"
          ]
        }
      ],
      "source": [
        "%%ipytest\n",
        "\n",
        "def test_empty():\n",
        "    assert node_weight([]) == {}\n",
        "\n",
        "def test_loop():\n",
        "    edges =  [(100, 200, 1), (100, 200, 2), (100, 1, -1), (1, 1, 5), (100, 3, 1)]\n",
        "    assert node_weight(edges) == {\n",
        "        100: 3,\n",
        "        200: 3,\n",
        "        1: 4,\n",
        "        3: 1\n",
        "    }\n",
        "\n",
        "\n",
        "def test_unit_weight():\n",
        "    edges =  [(100, 200, 1), (100, 200, 1), (100, 1, 1), (1, 1, 1), (100, 3, 1)]\n",
        "    assert node_weight(edges) == {\n",
        "        100: 4,\n",
        "        200: 2,\n",
        "        1: 2,\n",
        "        3: 1\n",
        "    }\n",
        "\n",
        "\n",
        ""
      ]
    },
    {
      "cell_type": "markdown",
      "metadata": {
        "id": "CMghlKN5WBeT"
      },
      "source": [
        "## 2-sum"
      ]
    },
    {
      "cell_type": "markdown",
      "metadata": {
        "id": "JkOOlLroWBeU"
      },
      "source": [
        "Adott egy $n\\leq 10^5$ szám és egy $n$ hosszú $a$ lista, melynek elemeire $-10^{5} \\leq a_i \\leq 10^5$ teljesül.\n",
        "\n",
        "Keressünk olyan $1\\leq p<q\\leq n$ indexpárt, hogy $a[p] = −a[q]$, ha ilyen létezik.\n",
        "\n",
        "\n",
        "Például:\n",
        "```\n",
        "5\n",
        "5 4 -5 6 8\n",
        "```\n",
        "\n",
        "itt egy lehetséges válasz `(0, 2)`\n",
        "\n",
        "**Ötlet**: iteráljunk végig az indexpárokon és vizsgáljuk meg minden esetben, hogy teljesíti-e a feltételeket.\n",
        "\n",
        "Ezt a megoldási módszert, amiben potenciálisan minden lehetséges jelöltet kipróbálunk, **brute force**-alapú (nyers erő) megoldásnak nevezünk. A brute force megoldás mindig működik, a kérdés inkább az, hogy vajon nem tudunk-e ennél jobbat kitalálni."
      ]
    },
    {
      "cell_type": "code",
      "execution_count": 15,
      "metadata": {
        "id": "mGKqbrzXWBeU"
      },
      "outputs": [],
      "source": [
        "from itertools import combinations\n",
        "\n",
        "def solve_2sum(seq):\n",
        "    for (i1, x1), (i2, x2) in combinations(enumerate(seq), 2):\n",
        "        if x1 == -x2:\n",
        "            return i1, i2\n",
        "    return None\n"
      ]
    },
    {
      "cell_type": "code",
      "execution_count": 16,
      "metadata": {
        "id": "5uWKosg2WBeU"
      },
      "outputs": [],
      "source": [
        "def format_ns(t):\n",
        "    for unit in ['ns', 'μs', 'ms']:\n",
        "        if t<1000:\n",
        "            return f\"{t:.2f} {unit}\"\n",
        "        t /= 1000\n",
        "    return f\"{t:.2f} s\"\n",
        ""
      ]
    },
    {
      "cell_type": "code",
      "execution_count": 20,
      "metadata": {
        "id": "wYG_PJ5fWBeU",
        "outputId": "6647bd25-eb15-4a7c-d871-159b4300ef60",
        "colab": {
          "base_uri": "https://localhost:8080/"
        }
      },
      "outputs": [
        {
          "output_type": "stream",
          "name": "stdout",
          "text": [
            "run time: 13.37 ms for input size: 50000\n",
            "solution: (0, 8108), check xs[res]=(-25013, 25013)\n",
            "run time: 132.99 μs for input size: 50\n",
            "solution: None, check xs[res]=None\n",
            "run time: 11.08 ms for input size: 500\n",
            "solution: None, check xs[res]=None\n",
            "run time: 1.16 s for input size: 5000\n",
            "solution: None, check xs[res]=None\n"
          ]
        }
      ],
      "source": [
        "import random\n",
        "import time\n",
        "\n",
        "# random.seed(2112)\n",
        "\n",
        "xss = [\n",
        "       [random.randint(-10**5, 10**5) for _ in range(50_000)],\n",
        "       list(range(1,51)),\n",
        "       list(range(1,501)),\n",
        "       list(range(1,5_001))\n",
        "]\n",
        "\n",
        "for xs in xss:\n",
        "    t = time.perf_counter_ns()\n",
        "    res = solve_2sum(xs)\n",
        "    print(f\"run time: {format_ns(time.perf_counter_ns() - t)} for input size: {len(xs)}\")\n",
        "    print(f\"solution: {res}, check xs[res]={tuple(xs[i] for i in res) if res else res}\")\n",
        "\n"
      ]
    },
    {
      "cell_type": "markdown",
      "metadata": {
        "id": "iyOCb6TSWBeV"
      },
      "source": [
        "A futási idő négyzetes a sorozat hosszában. Ha a bemenet 50_000 hosszúságú, akkor várhatóan\n",
        "$$\n",
        "    550*100~\\text{ms} = 55~000~\\text{ms} = 55~\\text{s}\n",
        "$$\n",
        "a futási idő"
      ]
    },
    {
      "cell_type": "markdown",
      "metadata": {
        "id": "graUB7FEWBeV"
      },
      "source": [
        "**Ötlet.** Rendezzük sorba az elemeket. Ekkor intervallum felezéssel tetszőleges számról el tudjuk dönteni szerepel-e a számok között."
      ]
    },
    {
      "cell_type": "code",
      "source": [
        "def solve_2sum_with_sort(seq):\n",
        "    seq = sorted(enumerate(seq), key=lambda x: abs(x[1]))\n",
        "    a = 0\n",
        "    i0 = -1\n",
        "    for i1, b in seq:\n",
        "        if a == -b and i0 >= 0:\n",
        "            return (i0, i1) if i0 < i1 else (i1, i0)\n",
        "        i0, a = i1, b\n"
      ],
      "metadata": {
        "id": "mCUy8evoccHx"
      },
      "execution_count": 22,
      "outputs": []
    },
    {
      "cell_type": "code",
      "execution_count": null,
      "metadata": {
        "id": "FGkJXZvKWBeV"
      },
      "outputs": [],
      "source": [
        "def find(sorted_lst, x, hi=None, key=lambda x: x):\n",
        "    i0, i1 = 0, (len(sorted_lst) if hi is None else hi)\n",
        "    while i0 < i1:\n",
        "        i = (i0+i1)//2\n",
        "        if key(sorted_lst[i]) < x:\n",
        "            i0 = i+1\n",
        "        else:\n",
        "            i1 = i\n",
        "\n",
        "    return i0\n",
        "\n",
        "\n",
        "def solve_2sum_with_sort(seq):\n",
        "    seq = sorted((x, i) for i, x in enumerate(seq))\n",
        "    for k, (x1, q1) in enumerate(seq):\n",
        "        i = find(seq, -x1, hi=k, key=lambda x: x[0])\n",
        "        if i < k:\n",
        "            x2, q2 = seq[i]\n",
        "            if x1+x2 == 0:\n",
        "                return (q1, q2) if q1<q2 else (q2, q1)\n",
        "    return None\n"
      ]
    },
    {
      "cell_type": "code",
      "execution_count": 23,
      "metadata": {
        "id": "j48Cll6SWBeW",
        "outputId": "60013ff5-02c4-44ea-b827-548a5f9a3cfd",
        "colab": {
          "base_uri": "https://localhost:8080/"
        }
      },
      "outputs": [
        {
          "output_type": "stream",
          "name": "stdout",
          "text": [
            "==================================================\n",
            "--------------------------------------------------\n",
            "run time: 37.41 ms for input size: 50000\n",
            "solution: (1, 6739), check xs[res]=(30064, -30064)\n",
            "--------------------------------------------------\n",
            "run time: 51.81 ms for input size: 50000\n",
            "solution: (42467, 49515), check xs[res]=(-23, 23)\n",
            "==================================================\n",
            "--------------------------------------------------\n",
            "run time: 645.85 μs for input size: 50\n",
            "solution: None, check xs[res]=None\n",
            "--------------------------------------------------\n",
            "run time: 460.39 μs for input size: 50\n",
            "solution: None, check xs[res]=None\n",
            "==================================================\n",
            "--------------------------------------------------\n",
            "run time: 23.60 ms for input size: 500\n",
            "solution: None, check xs[res]=None\n",
            "--------------------------------------------------\n",
            "run time: 763.86 μs for input size: 500\n",
            "solution: None, check xs[res]=None\n",
            "==================================================\n",
            "--------------------------------------------------\n",
            "run time: 1.64 s for input size: 5000\n",
            "solution: None, check xs[res]=None\n",
            "--------------------------------------------------\n",
            "run time: 1.63 ms for input size: 5000\n",
            "solution: None, check xs[res]=None\n"
          ]
        }
      ],
      "source": [
        "import random\n",
        "import time\n",
        "\n",
        "random.seed(2112)\n",
        "\n",
        "xss = [\n",
        "       [random.randint(-10**5, 10**5) for _ in range(50_000)],\n",
        "       list(range(1,51)),\n",
        "       list(range(1,501)),\n",
        "       list(range(1,5_001))\n",
        "]\n",
        "\n",
        "for xs in xss:\n",
        "    print(\"=\"*50)\n",
        "    for fun in [solve_2sum, solve_2sum_with_sort]:\n",
        "        t = time.perf_counter_ns()\n",
        "        res = fun(xs)\n",
        "        print(\"-\"*50)\n",
        "        print(f\"run time: {format_ns(time.perf_counter_ns() - t)} for input size: {len(xs)}\")\n",
        "        print(f\"solution: {res}, check xs[res]={tuple(xs[i] for i in res) if res else res}\")\n",
        "\n"
      ]
    },
    {
      "cell_type": "markdown",
      "metadata": {
        "id": "PkawMqtkWBeW"
      },
      "source": [
        "\n",
        "Milyen típus lenne alkalmas a már látott értékek és legalább egy hozzájuk tartozó index tárolására?\n",
        "\n",
        "Egészítsük ki a következő függvényt!"
      ]
    },
    {
      "cell_type": "code",
      "execution_count": 24,
      "metadata": {
        "id": "DhltHMp_WBeW"
      },
      "outputs": [],
      "source": [
        "def solve_2_sum_better(seq):\n",
        "\n",
        "    d = {}\n",
        "    for i, x in enumerate(seq):\n",
        "        if -x in d:\n",
        "            return d[-x], i\n",
        "        d[x] = i\n",
        "    return None"
      ]
    },
    {
      "cell_type": "code",
      "execution_count": 25,
      "metadata": {
        "id": "eF5U6V8iWBeX",
        "outputId": "f03c4630-c387-4490-bc02-fb9478f5c698",
        "colab": {
          "base_uri": "https://localhost:8080/"
        }
      },
      "outputs": [
        {
          "output_type": "stream",
          "name": "stdout",
          "text": [
            "---xs min=-99999, max=99997, len(xs)=50000\n",
            "   run time: 224.46 μs\n",
            "   solution: (461, 707), check xs[res]=(17191, -17191)\n",
            "---\n",
            "---xs min=1, max=50, len(xs)=50\n",
            "   run time: 23.22 μs\n",
            "   solution: None, check xs[res]=None\n",
            "---\n",
            "---xs min=1, max=500, len(xs)=500\n",
            "   run time: 111.65 μs\n",
            "   solution: None, check xs[res]=None\n",
            "---\n",
            "---xs min=1, max=5000, len(xs)=5000\n",
            "   run time: 846.12 μs\n",
            "   solution: None, check xs[res]=None\n",
            "---\n",
            "---xs min=1, max=50000, len(xs)=50000\n",
            "   run time: 17.43 ms\n",
            "   solution: None, check xs[res]=None\n",
            "---\n",
            "---xs min=1, max=1, len(xs)=50\n",
            "   run time: 15.67 μs\n",
            "   solution: None, check xs[res]=None\n",
            "---\n",
            "---xs min=1, max=1, len(xs)=500\n",
            "   run time: 84.10 μs\n",
            "   solution: None, check xs[res]=None\n",
            "---\n",
            "---xs min=1, max=1, len(xs)=5000\n",
            "   run time: 606.20 μs\n",
            "   solution: None, check xs[res]=None\n",
            "---\n",
            "---xs min=1, max=1, len(xs)=50000\n",
            "   run time: 12.17 ms\n",
            "   solution: None, check xs[res]=None\n",
            "---\n"
          ]
        }
      ],
      "source": [
        "random.seed(2112)\n",
        "\n",
        "xss = [\n",
        "       [random.randint(-10**5, 10**5) for _ in range(50_000)],\n",
        "       list(range(1,51)),list(range(1,501)),\n",
        "       list(range(1,5_001)),\n",
        "       list(range(1,50_001)),\n",
        "       [1]*50, [1]*500, [1]*5_000, [1]*50_000\n",
        "       ]\n",
        "\n",
        "\n",
        "for xs in xss:\n",
        "    print(f\"---xs min={min(xs)}, max={max(xs)}, len(xs)={len(xs)}\")\n",
        "\n",
        "    t = time.perf_counter_ns()\n",
        "    res = solve_2_sum_better(xs)\n",
        "    print(f\"   run time: {format_ns(time.perf_counter_ns() - t)}\")\n",
        "    print(f\"   solution: {res}, check xs[res]={tuple(xs[i] for i in res) if res else res}\")\n",
        "    print(\"---\")"
      ]
    },
    {
      "cell_type": "markdown",
      "metadata": {
        "id": "5Nzf3BJOWBeX"
      },
      "source": [
        "## Új témák\n"
      ]
    },
    {
      "cell_type": "markdown",
      "metadata": {
        "id": "cS1D8N7pWBeX"
      },
      "source": [
        "\n",
        "### További eszközök a `collections`, `itertools` modulból."
      ]
    },
    {
      "cell_type": "code",
      "execution_count": null,
      "metadata": {
        "id": "J9SmktTyWBeX",
        "outputId": "73c7b137-864e-452a-a6d8-1a903ab4a842"
      },
      "outputs": [
        {
          "name": "stdout",
          "output_type": "stream",
          "text": [
            "This module implements specialized container datatypes providing\n",
            "alternatives to Python's general purpose built-in containers, dict,\n",
            "list, set, and tuple.\n",
            "\n",
            "* namedtuple   factory function for creating tuple subclasses with named fields\n",
            "* deque        list-like container with fast appends and pops on either end\n",
            "* ChainMap     dict-like class for creating a single view of multiple mappings\n",
            "* Counter      dict subclass for counting hashable objects\n",
            "* OrderedDict  dict subclass that remembers the order entries were added\n",
            "* defaultdict  dict subclass that calls a factory function to supply missing values\n",
            "* UserDict     wrapper around dictionary objects for easier dict subclassing\n",
            "* UserList     wrapper around list objects for easier list subclassing\n",
            "* UserString   wrapper around string objects for easier string subclassing\n",
            "\n",
            "\n"
          ]
        }
      ],
      "source": [
        "import collections\n",
        "\n",
        "print(collections.__doc__)"
      ]
    },
    {
      "cell_type": "code",
      "execution_count": null,
      "metadata": {
        "id": "g4Rs5Cf5WBeY",
        "outputId": "a7e439bd-2968-4e2a-d7b8-cca654cf4e8d"
      },
      "outputs": [
        {
          "name": "stdout",
          "output_type": "stream",
          "text": [
            "Functional tools for creating and using iterators.\n",
            "\n",
            "Infinite iterators:\n",
            "count(start=0, step=1) --> start, start+step, start+2*step, ...\n",
            "cycle(p) --> p0, p1, ... plast, p0, p1, ...\n",
            "repeat(elem [,n]) --> elem, elem, elem, ... endlessly or up to n times\n",
            "\n",
            "Iterators terminating on the shortest input sequence:\n",
            "accumulate(p[, func]) --> p0, p0+p1, p0+p1+p2\n",
            "chain(p, q, ...) --> p0, p1, ... plast, q0, q1, ...\n",
            "chain.from_iterable([p, q, ...]) --> p0, p1, ... plast, q0, q1, ...\n",
            "compress(data, selectors) --> (d[0] if s[0]), (d[1] if s[1]), ...\n",
            "dropwhile(pred, seq) --> seq[n], seq[n+1], starting when pred fails\n",
            "groupby(iterable[, keyfunc]) --> sub-iterators grouped by value of keyfunc(v)\n",
            "filterfalse(pred, seq) --> elements of seq where pred(elem) is False\n",
            "islice(seq, [start,] stop [, step]) --> elements from\n",
            "       seq[start:stop:step]\n",
            "pairwise(s) --> (s[0],s[1]), (s[1],s[2]), (s[2], s[3]), ...\n",
            "starmap(fun, seq) --> fun(*seq[0]), fun(*seq[1]), ...\n",
            "tee(it, n=2) --> (it1, it2 , ... itn) splits one iterator into n\n",
            "takewhile(pred, seq) --> seq[0], seq[1], until pred fails\n",
            "zip_longest(p, q, ...) --> (p[0], q[0]), (p[1], q[1]), ...\n",
            "\n",
            "Combinatoric generators:\n",
            "product(p, q, ... [repeat=1]) --> cartesian product\n",
            "permutations(p[, r])\n",
            "combinations(p, r)\n",
            "combinations_with_replacement(p, r)\n",
            "\n"
          ]
        }
      ],
      "source": [
        "print(itertools.__doc__)"
      ]
    },
    {
      "cell_type": "markdown",
      "metadata": {
        "id": "zFNTAc_iWBeY"
      },
      "source": [
        "### Kivételkezelés\n"
      ]
    },
    {
      "cell_type": "markdown",
      "metadata": {
        "id": "SmC1LVCaWBeZ"
      },
      "source": [
        "```python\n",
        "try:\n",
        "    pass\n",
        "except:\n",
        "    pass\n",
        "finally:\n",
        "    pass\n",
        "```\n",
        "        \n",
        "Nem nagyon fogunk olyan kódot írni, ami ezt használja. Kivéve két esetet:\n",
        "\n",
        "- üres sorozat kezelése `next` hívásnál: `StopIteration`\n",
        "\n",
        "- Saját kontexus `with` statementhez, hasonló ahhoz, amit file olvasásnál láttunk előadáson.\n",
        "\n",
        "\n",
        "[Beépített kivételek listája](https://docs.python.org/3/library/exceptions.html#exception-hierarchy)"
      ]
    },
    {
      "cell_type": "code",
      "execution_count": 26,
      "metadata": {
        "id": "38iXvc49WBeZ"
      },
      "outputs": [],
      "source": [
        "def pairs(seq):\n",
        "    it = iter(seq)\n",
        "    a = next(it)\n",
        "    for b in it:\n",
        "        yield a, b\n",
        "        a = b"
      ]
    },
    {
      "cell_type": "code",
      "execution_count": 29,
      "metadata": {
        "id": "GVVaHLfVWBeZ",
        "outputId": "0665b3ee-7918-4c8b-d969-430615203225",
        "colab": {
          "base_uri": "https://localhost:8080/"
        }
      },
      "outputs": [
        {
          "output_type": "stream",
          "name": "stdout",
          "text": [
            "\u001b[32m.\u001b[0m\u001b[32m.\u001b[0m\u001b[32m                                                                                           [100%]\u001b[0m\n",
            "\u001b[32m\u001b[32m\u001b[1m2 passed\u001b[0m\u001b[32m in 0.02s\u001b[0m\u001b[0m\n"
          ]
        }
      ],
      "source": [
        "%%ipytest\n",
        "\n",
        "def test_pairs_empty():\n",
        "    assert list(pairs([])) == []\n",
        "\n",
        "def test_pairs_short():\n",
        "    assert list(pairs([1])) == []\n",
        "    assert list(pairs([1, 2])) == [(1,2)]\n",
        "    assert list(pairs([1, 2, 3])) == [(1,2), (2, 3)]"
      ]
    },
    {
      "cell_type": "markdown",
      "metadata": {
        "id": "WH1Kky_VWBeZ"
      },
      "source": [
        "Javítás. Ellenőrizni kell, hogy nem üres-e a sorozat."
      ]
    },
    {
      "cell_type": "code",
      "execution_count": 28,
      "metadata": {
        "id": "S_XmGhm0WBea"
      },
      "outputs": [],
      "source": [
        "def pairs(seq):\n",
        "    it = iter(seq)\n",
        "    try:\n",
        "        a = next(it)\n",
        "    except StopIteration:\n",
        "        return\n",
        "    for b in it:\n",
        "        yield a, b\n",
        "        a = b"
      ]
    },
    {
      "cell_type": "markdown",
      "metadata": {
        "id": "oOZcxULiWBea"
      },
      "source": [
        "Ha hibát szeretnénk jelezni, akkor a `raise` statement-et használhatjuk.\n",
        "pl."
      ]
    },
    {
      "cell_type": "code",
      "execution_count": 33,
      "metadata": {
        "id": "r_GQdMBsWBea"
      },
      "outputs": [],
      "source": [
        "def only_positive_int(x):\n",
        "    if not isinstance(x, int):\n",
        "        raise TypeError(f\"Type of the parameter must be `int`. It is {type(x).__name__!r}.\")\n",
        "    if x <= 0:\n",
        "        raise ValueError(f\"Parameter must be positive, it is {x}.\")\n",
        "    return x\n",
        "\n",
        "# only_positive_int(2.0) # -> TypeError\n",
        "# only_positive_int(-1) # -> ValueError"
      ]
    },
    {
      "cell_type": "markdown",
      "metadata": {
        "id": "Nz9cZlV3WBea"
      },
      "source": [
        "Hogyan tudjuk tesztelni a helyes működést?"
      ]
    },
    {
      "cell_type": "code",
      "execution_count": null,
      "metadata": {
        "id": "Tf14KVY3WBea"
      },
      "outputs": [],
      "source": [
        "%%ipytest\n",
        "from pytest import raises\n",
        "\n",
        "def test_only_positive_int():\n",
        "\n",
        "    assert only_positive_int(2) == 2\n",
        "\n",
        "    with raises(TypeError):\n",
        "        only_positive_int(2.0)\n",
        "\n",
        "    with raises(TypeError):\n",
        "        only_positive_int(\"2.0\")\n",
        "\n",
        "    with raises(ValueError):\n",
        "        only_positive_int(-1)\n",
        "\n",
        ""
      ]
    },
    {
      "cell_type": "markdown",
      "metadata": {
        "id": "xWe7swXJWBeb"
      },
      "source": [
        "# Feladatok előadásról"
      ]
    },
    {
      "cell_type": "markdown",
      "metadata": {
        "id": "1ni4GpW3WBeb"
      },
      "source": [
        "### Helyes zárójelezés"
      ]
    },
    {
      "cell_type": "markdown",
      "metadata": {
        "id": "dmgEoscGWBeb"
      },
      "source": [
        "\n",
        "Adott egy kifejezés, ami a `(`, `)`, `[` és `]` karakterekből állhat.\n",
        "\n",
        "Állapítsuk meg, hogy a kifejezés helyesen zárójelezett-e vagy sem.\n",
        "\n",
        "pl. `([()])` helyes zárójelezés, `([(]))` nem az, mert a szögletes zárójelpár tartalmaz pár nélküli nyitó zárójelet.\n"
      ]
    },
    {
      "cell_type": "code",
      "execution_count": 34,
      "metadata": {
        "id": "7GqjyaWWWBec"
      },
      "outputs": [],
      "source": [
        "pairs = \"()[]{}\"\n",
        "opening = dict(zip(pairs[::2], pairs[1::2]))\n"
      ]
    },
    {
      "cell_type": "code",
      "execution_count": 35,
      "metadata": {
        "id": "c72fZK_5WBec",
        "outputId": "0986e14a-b36f-4e0b-bc8d-833ac8c8cd05",
        "colab": {
          "base_uri": "https://localhost:8080/"
        }
      },
      "outputs": [
        {
          "output_type": "stream",
          "name": "stdout",
          "text": [
            "opening = ([{,\n",
            "opening = ( -> ), [ -> ], { -> }\n"
          ]
        }
      ],
      "source": [
        "def as_mapping(d):\n",
        "    return \", \".join(\" -> \".join(x) for x in d.items())\n",
        "\n",
        "print(f\"opening = {''.join(opening)},\\nopening = {as_mapping(opening)}\")"
      ]
    },
    {
      "cell_type": "markdown",
      "metadata": {
        "id": "wViurxw6WBec"
      },
      "source": [
        "Egészítsük ki a következő kódot!"
      ]
    },
    {
      "cell_type": "code",
      "execution_count": 36,
      "metadata": {
        "id": "_fUPyL1gWBec"
      },
      "outputs": [],
      "source": [
        "def is_balanced(string):\n",
        "    stack = []\n",
        "    for ch in string:\n",
        "        if ch in opening:\n",
        "            stack.append(opening[ch])\n",
        "        else:\n",
        "            if stack and ch == stack[-1]:\n",
        "                stack.pop()\n",
        "            else:\n",
        "                return False\n",
        "    return len(stack) == 0 ## not stack\n"
      ]
    },
    {
      "cell_type": "code",
      "execution_count": 37,
      "metadata": {
        "id": "szw5egr4WBec",
        "outputId": "52e2da5a-7083-4322-ef1a-f90581f2cd2b",
        "colab": {
          "base_uri": "https://localhost:8080/"
        }
      },
      "outputs": [
        {
          "output_type": "stream",
          "name": "stdout",
          "text": [
            "\u001b[32m.\u001b[0m\u001b[32m                                                                                            [100%]\u001b[0m\n",
            "\u001b[32m\u001b[32m\u001b[1m1 passed\u001b[0m\u001b[32m in 0.01s\u001b[0m\u001b[0m\n"
          ]
        }
      ],
      "source": [
        "%%ipytest\n",
        "\n",
        "def test_is_balanced():\n",
        "    assert is_balanced(\"[([(()[]())])]\") == True\n",
        "    assert is_balanced(\"[[))\") == False\n",
        "    assert is_balanced(\"\") == True\n",
        "    assert is_balanced(\"[\") == False\n",
        "    assert is_balanced(\")\") == False"
      ]
    },
    {
      "cell_type": "markdown",
      "metadata": {
        "id": "bXmg5xjrWBed"
      },
      "source": [
        "### Halmaz típus"
      ]
    },
    {
      "cell_type": "markdown",
      "metadata": {
        "id": "UjgTn52WWBed"
      },
      "source": [
        "\n",
        "Készítsünk saját halmaz-implementációt! A halmaz elemeit tároljuk egy belső listában, figyelve arra, hogy a lista később sem tartalmazhat duplikátumokat!\n",
        "\n",
        "- lehessen üres halmazt készíteni\n",
        "- legyen `add`` metódusa, amivel hozzá lehet adni új elemet\n",
        "- lehessen értelmes módon kiprintelni a halmazt\n"
      ]
    },
    {
      "cell_type": "code",
      "execution_count": null,
      "metadata": {
        "id": "Ky6eulZ5WBee"
      },
      "outputs": [],
      "source": [
        "class SET:\n",
        "    def __init__(self):\n",
        "        pass\n",
        "\n",
        "    def add(self, element):\n",
        "        pass\n",
        "\n",
        "    def update(self, elements):\n",
        "        pass\n",
        "\n",
        "    def __str__(self):\n",
        "        pass\n",
        "\n",
        "    def __repr__(self):\n",
        "        pass"
      ]
    },
    {
      "cell_type": "markdown",
      "metadata": {
        "id": "_lGzTTAOWBee"
      },
      "source": [
        "### Fibonacci számok intervallumból"
      ]
    },
    {
      "cell_type": "markdown",
      "metadata": {
        "id": "1juWsYiuWBee"
      },
      "source": [
        "\n",
        "\n",
        "Írjuk egy függvényt, mely adott $I=[a, b]\\ (a \\leq b)$ intervallum esetén visszaadja azon Fibonacci számokat, melyek az $I$ intervallumba esnek.\n"
      ]
    },
    {
      "cell_type": "code",
      "source": [
        "def fibonacci_gen():\n",
        "    a, b = 0, 1\n",
        "    while True:\n",
        "        yield a\n",
        "        a, b = b, a+b"
      ],
      "metadata": {
        "id": "89VTfXIjnYnu"
      },
      "execution_count": 38,
      "outputs": []
    },
    {
      "cell_type": "code",
      "source": [
        "list(our_islice(fibonacci_gen(), stop=10))\n"
      ],
      "metadata": {
        "id": "AqB7bRb7nmZr",
        "outputId": "529be895-7c78-4ae6-91d5-b8777588b90f",
        "colab": {
          "base_uri": "https://localhost:8080/"
        }
      },
      "execution_count": 50,
      "outputs": [
        {
          "output_type": "execute_result",
          "data": {
            "text/plain": [
              "[0, 1, 1, 2, 3, 5, 8, 13, 21, 34]"
            ]
          },
          "metadata": {},
          "execution_count": 50
        }
      ]
    },
    {
      "cell_type": "code",
      "source": [
        "def our_islice(seq, start=0, stop=None, step=1):\n",
        "    for i, x in enumerate(seq):\n",
        "        if  start <= i and (i-start) % step == 0:\n",
        "            yield x\n",
        "        if stop is not None and i+1 >= stop:\n",
        "            return\n",
        "\n"
      ],
      "metadata": {
        "id": "n-cUotZzoWX2"
      },
      "execution_count": 49,
      "outputs": []
    },
    {
      "cell_type": "code",
      "source": [
        "print(itertools.__doc__)"
      ],
      "metadata": {
        "id": "bsh2VQTXn8PM",
        "outputId": "651185bf-a596-4e01-cc6d-5bbb15eed16d",
        "colab": {
          "base_uri": "https://localhost:8080/"
        }
      },
      "execution_count": 43,
      "outputs": [
        {
          "output_type": "stream",
          "name": "stdout",
          "text": [
            "Functional tools for creating and using iterators.\n",
            "\n",
            "Infinite iterators:\n",
            "count(start=0, step=1) --> start, start+step, start+2*step, ...\n",
            "cycle(p) --> p0, p1, ... plast, p0, p1, ...\n",
            "repeat(elem [,n]) --> elem, elem, elem, ... endlessly or up to n times\n",
            "\n",
            "Iterators terminating on the shortest input sequence:\n",
            "accumulate(p[, func]) --> p0, p0+p1, p0+p1+p2\n",
            "chain(p, q, ...) --> p0, p1, ... plast, q0, q1, ...\n",
            "chain.from_iterable([p, q, ...]) --> p0, p1, ... plast, q0, q1, ...\n",
            "compress(data, selectors) --> (d[0] if s[0]), (d[1] if s[1]), ...\n",
            "dropwhile(pred, seq) --> seq[n], seq[n+1], starting when pred fails\n",
            "groupby(iterable[, keyfunc]) --> sub-iterators grouped by value of keyfunc(v)\n",
            "filterfalse(pred, seq) --> elements of seq where pred(elem) is False\n",
            "islice(seq, [start,] stop [, step]) --> elements from\n",
            "       seq[start:stop:step]\n",
            "pairwise(s) --> (s[0],s[1]), (s[1],s[2]), (s[2], s[3]), ...\n",
            "starmap(fun, seq) --> fun(*seq[0]), fun(*seq[1]), ...\n",
            "tee(it, n=2) --> (it1, it2 , ... itn) splits one iterator into n\n",
            "takewhile(pred, seq) --> seq[0], seq[1], until pred fails\n",
            "zip_longest(p, q, ...) --> (p[0], q[0]), (p[1], q[1]), ...\n",
            "\n",
            "Combinatoric generators:\n",
            "product(p, q, ... [repeat=1]) --> cartesian product\n",
            "permutations(p[, r])\n",
            "combinations(p, r)\n",
            "combinations_with_replacement(p, r)\n",
            "\n"
          ]
        }
      ]
    },
    {
      "cell_type": "code",
      "source": [
        "import itertools"
      ],
      "metadata": {
        "id": "KhIk0UTwqUxY"
      },
      "execution_count": 51,
      "outputs": []
    },
    {
      "cell_type": "code",
      "execution_count": null,
      "metadata": {
        "id": "9JAjxHCuWBee"
      },
      "outputs": [],
      "source": [
        "def calc_fibonacci_numbers_in_interval(a, b):\n",
        "    yield from itertools.takewhile(\n",
        "        lambda x: x<=b,\n",
        "        itertools.dropwhile(\n",
        "            lambda x: x<a,\n",
        "            fibonacci_gen()\n",
        "            )\n",
        "        )\n",
        "    pass"
      ]
    },
    {
      "cell_type": "markdown",
      "metadata": {
        "id": "Gbq-m_B3WBee"
      },
      "source": [
        "### Ismétlődések törlése"
      ]
    },
    {
      "cell_type": "markdown",
      "metadata": {
        "id": "n8muRRonWBee"
      },
      "source": [
        "\n",
        "Egy adott sztringből távolítsuk el az egymás mellett álló ismétlődő karatereket.\n",
        "\n",
        "Példa:\n",
        "```\n",
        "\"kukkkuuuurrrriiiikuuuuuuuu\" -> \"kukuriku\".\n",
        "```\n",
        "\n",
        "(Ez már volt korábban. Most keressünk elegánsabb megoldást, pl. az `itertools` könyvtár függvényeinek segítségével.)\n"
      ]
    },
    {
      "cell_type": "code",
      "execution_count": null,
      "metadata": {
        "id": "4Lkl5yTSWBee"
      },
      "outputs": [],
      "source": [
        "\n",
        "def remove_consecutive_duplicates(string):\n",
        "    pass\n"
      ]
    },
    {
      "cell_type": "markdown",
      "metadata": {
        "id": "snldqdtXWBef"
      },
      "source": [
        "### Számolás polinomokkal"
      ]
    },
    {
      "cell_type": "markdown",
      "metadata": {
        "id": "MQihc3AiWBef"
      },
      "source": [
        "Írjunk egy `Polynomial` osztályt, ahol a polinomot tároljuk el, mint az együtthatóinak listáját.\n",
        "\n",
        "Implementáljuk két ilyen polinom összeadását (azaz írjuk meg az `__add__`, valamint a `__repr__`  metódust, hogy lássuk, mi egy ilyen osztálypéldány tartalma).\n",
        "\n",
        "Egy polinom függvény is. Implementáljuk a `__call__` metódust is, ami kiértékeli a polinomot egy adott pontban!\n"
      ]
    },
    {
      "cell_type": "code",
      "execution_count": null,
      "metadata": {
        "id": "H_-zgqRbWBef"
      },
      "outputs": [],
      "source": [
        "from itertools import dropwhile"
      ]
    },
    {
      "cell_type": "code",
      "execution_count": null,
      "metadata": {
        "id": "NnVkFsWtWBeg"
      },
      "outputs": [],
      "source": [
        "def format_term(k, coeff, fmt=\"x^{k}\"):\n",
        "    sep = \"-\" if coeff < 0 else \"+\"\n",
        "    coeff = abs(coeff)\n",
        "    c = f\"{coeff}\" if coeff != 1 else \"\"\n",
        "    match k:\n",
        "        case 0:\n",
        "            x = \"\"\n",
        "            c = f\"{coeff}\"\n",
        "        case 1:\n",
        "            x = \"x\"\n",
        "        case _:\n",
        "            x = fmt.format(k=k)\n",
        "    return f\"{c}{x}\", sep\n",
        "\n",
        "class Polynomial:\n",
        "    def __init__(self, *coefficients):\n",
        "        self.coeff = tuple(dropwhile(lambda x: x==0, coefficients))[::-1]\n",
        "\n",
        "    def degree(self):\n",
        "        return len(self.coeff)-1 if self.coeff else 0\n",
        "\n",
        "    def __eq__(self, other):\n",
        "        return isinstance(other, type(self)) and self.coeff == other.coeff\n",
        "\n",
        "    def __add__(self, other):\n",
        "\n",
        "        coeff_a = self.coeff\n",
        "        coeff_b = other.coeff\n",
        "\n",
        "        if len(coeff_a) < len(coeff_b):\n",
        "            coeff_a, coeff_b = coeff_b, coeff_a\n",
        "\n",
        "        coeff = list(coeff_a)\n",
        "\n",
        "        for i, c in enumerate(coeff_b):\n",
        "            coeff[i] += c\n",
        "\n",
        "        return Polynomial(*reversed(coeff))\n",
        "\n",
        "    def __sub__(self, other):\n",
        "        return self+(-1)*other\n",
        "\n",
        "    def __mul__(self, other):\n",
        "        coeff = [0]*(len(self.coeff)+len(other.coeff)-1)\n",
        "        for i, ca in enumerate(self.coeff):\n",
        "            for j, cb in enumerate(other.coeff):\n",
        "                coeff[i+j] += ca*cb\n",
        "\n",
        "        return Polynomial(*reversed(coeff))\n",
        "\n",
        "    def __rmul__(self, c):\n",
        "        coeff = [c0*c for c0 in self.coeff]\n",
        "        return Polynomial(*reversed(coeff))\n",
        "\n",
        "    def leading_coeff(self):\n",
        "        return self.coeff[-1] if self.coeff else 0\n",
        "\n",
        "    def __divmod__(self, other):\n",
        "        if not isinstance(other, type(self)):\n",
        "            raise TypeError\n",
        "\n",
        "        m = Polynomial()\n",
        "        r = self\n",
        "        main_coeff = other.leading_coeff()\n",
        "        other_dg = other.degree()\n",
        "\n",
        "        while r.degree() >= other_dg:\n",
        "            c = r.leading_coeff()/main_coeff\n",
        "            m += c*monomial(r.degree()-other_dg)\n",
        "            r = self-m*other\n",
        "        return m, r\n",
        "\n",
        "    def __mod__(self, other):\n",
        "        return divmod(self, other)[1]\n",
        "\n",
        "    def __floordiv__(self, other):\n",
        "        return divmod(self, other)[0]\n",
        "\n",
        "    def __call__(self, x):\n",
        "        value = 0\n",
        "        for c in reversed(self.coeff):\n",
        "            value *= x\n",
        "            value += c\n",
        "        return value\n",
        "\n",
        "    def as_token_list(self, formatter, fmt):\n",
        "        coeffs = [(k, coeff) for k, coeff in enumerate(self.coeff) if coeff != 0]\n",
        "        if len(coeffs) == 0:\n",
        "            coeffs = [(0, 0)]\n",
        "        tokens = [token for k, coeff in coeffs for token in format_term(k, coeff, fmt)]\n",
        "        if tokens[-1] == \"+\":\n",
        "            tokens.pop()\n",
        "        tokens.reverse()\n",
        "        return tokens\n",
        "\n",
        "    def __str__(self):\n",
        "        return ''.join(self.as_token_list(format_term, \"x^{k}\"))\n",
        "\n",
        "    def __repr__(self):\n",
        "        return f\"{type(self).__name__}({', '.join(map(str, reversed(self.coeff)))})\"\n",
        "\n",
        "    def _repr_latex_(self):\n",
        "        formula = ''.join(self.as_token_list(format_term, \"x^{{{k}}}\"))\n",
        "        return f\"${formula}$\"\n",
        "\n",
        "\n",
        "def monomial(degree, unit=1):\n",
        "    coeff = [unit]+[0]*degree\n",
        "    return Polynomial(*coeff)"
      ]
    },
    {
      "cell_type": "code",
      "source": [],
      "metadata": {
        "id": "j7V4MdsAq80e"
      },
      "execution_count": null,
      "outputs": []
    },
    {
      "cell_type": "code",
      "execution_count": null,
      "metadata": {
        "id": "604A3bCOWBeg",
        "outputId": "e99e33ef-2eb9-4ebf-88bf-9ec83f15a69d"
      },
      "outputs": [
        {
          "data": {
            "text/latex": [
              "$-x^{2}-3$"
            ],
            "text/plain": [
              "Polynomial(-1, 0, -3)"
            ]
          },
          "metadata": {},
          "output_type": "display_data"
        },
        {
          "data": {
            "text/latex": [
              "$2x^{3}-x+1$"
            ],
            "text/plain": [
              "Polynomial(2, 0, -1, 1)"
            ]
          },
          "metadata": {},
          "output_type": "display_data"
        },
        {
          "data": {
            "text/latex": [
              "$-2x^{5}-5x^{3}-x^{2}+3x-3$"
            ],
            "text/plain": [
              "Polynomial(-2, 0, -5, -1, 3, -3)"
            ]
          },
          "metadata": {},
          "output_type": "display_data"
        },
        {
          "data": {
            "text/latex": [
              "$-2x^{2}-6$"
            ],
            "text/plain": [
              "Polynomial(-2, 0, -6)"
            ]
          },
          "metadata": {},
          "output_type": "display_data"
        },
        {
          "name": "stdout",
          "output_type": "stream",
          "text": [
            "2x^3-x+1\n"
          ]
        }
      ],
      "source": [
        "\n",
        "\n",
        "p = Polynomial(-1, 0, -3)    # -> x^2 - 3\n",
        "q = Polynomial(2, 0, -1, 1)  # -> 2x^3 + 3x + 1\n",
        "display(p)\n",
        "display(q)\n",
        "display(p*q)\n",
        "display(2*p)\n",
        "print(str(q))"
      ]
    },
    {
      "cell_type": "code",
      "execution_count": null,
      "metadata": {
        "id": "enR2ITA6WBeg",
        "outputId": "c9a5a9b3-bafc-4e5c-c465-800d3932ef7c"
      },
      "outputs": [
        {
          "data": {
            "text/latex": [
              "$-2x$"
            ],
            "text/plain": [
              "Polynomial(-2, 0)"
            ]
          },
          "metadata": {},
          "output_type": "display_data"
        },
        {
          "data": {
            "text/latex": [
              "$-7x+1$"
            ],
            "text/plain": [
              "Polynomial(-7, 1)"
            ]
          },
          "metadata": {},
          "output_type": "display_data"
        },
        {
          "data": {
            "text/latex": [
              "$-x^{2}-3$"
            ],
            "text/plain": [
              "Polynomial(-1, 0, -3)"
            ]
          },
          "metadata": {},
          "output_type": "display_data"
        },
        {
          "data": {
            "text/latex": [
              "$2x^{3}-x+1$"
            ],
            "text/plain": [
              "Polynomial(2, 0, -1, 1)"
            ]
          },
          "metadata": {},
          "output_type": "display_data"
        },
        {
          "data": {
            "text/latex": [
              "$2x^{3}+6x$"
            ],
            "text/plain": [
              "Polynomial(2, 0, 6, 0)"
            ]
          },
          "metadata": {},
          "output_type": "display_data"
        }
      ],
      "source": [
        "p = Fraction(1,1)*p\n",
        "q = Fraction(1,1)*q\n",
        "\n",
        "m, r = divmod(q, p)\n",
        "display(m)\n",
        "display(r)\n",
        "display(p)\n",
        "display(q)\n",
        "display(m*p)"
      ]
    },
    {
      "cell_type": "markdown",
      "metadata": {
        "id": "YSPXeOqXWBeh"
      },
      "source": [
        "#### Korábbi feladat"
      ]
    },
    {
      "cell_type": "markdown",
      "metadata": {
        "id": "vL-2144UWBeh"
      },
      "source": [
        "Írjunk egy függvényt, ami kiszámolja az első $n$ természetes szám $p$-ik hatványösszegét.\n",
        "\n",
        "pl. `p = 0`-ra\n",
        "\n",
        "```Python\n",
        "def f0(n):\n",
        "    return n\n",
        "```\n",
        "\n",
        "jó, mert $k^0=1$ ha $k=1,\\dots,n$ és ezek összege pont $n$.\n",
        "\n",
        "Ha `p = 1`, akkor\n",
        "\n",
        "```Python\n",
        "def f1(n):\n",
        "    return n*(n+1)//2\n",
        "```\n",
        "\n",
        "jó, mert $\\sum_{k=1}^n k = n(n+1)/2$.\n",
        "\n",
        "Még `p = 2`-t is tanultuk\n",
        "\n",
        "```Python\n",
        "def f2(n):\n",
        "    return n*(n+1)*(2*n+1)//6\n",
        "```\n",
        "\n",
        "Általános $p$-re tudunk-e ilyen függvényt írni?"
      ]
    },
    {
      "cell_type": "code",
      "execution_count": null,
      "metadata": {
        "id": "wVa5ux6LWBeh"
      },
      "outputs": [],
      "source": [
        "def mk_power_sum(p):\n",
        "    def f(n):\n",
        "        total = 0\n",
        "        for k in range(1, n+1):\n",
        "            total += k**p\n",
        "        return total\n",
        "\n",
        "    f.__doc__ = f\"\"\"\n",
        "        {p}-ik hatványok összegét számolja\n",
        "        \"\"\"\n",
        "\n",
        "    return f"
      ]
    },
    {
      "cell_type": "code",
      "execution_count": null,
      "metadata": {
        "id": "Wml9fIGdWBej"
      },
      "outputs": [],
      "source": [
        "f2_slow = mk_power_sum(2)"
      ]
    },
    {
      "cell_type": "code",
      "execution_count": null,
      "metadata": {
        "id": "-Sd8aYwKWBej"
      },
      "outputs": [],
      "source": [
        "f2_slow?"
      ]
    },
    {
      "cell_type": "code",
      "execution_count": null,
      "metadata": {
        "id": "QmHGrFGMWBej"
      },
      "outputs": [],
      "source": [
        "[f2_slow(i) for i in range(0, 10)]"
      ]
    },
    {
      "cell_type": "code",
      "execution_count": null,
      "metadata": {
        "id": "Rqswo8VfWBej"
      },
      "outputs": [],
      "source": [
        "def f2_fast(n):\n",
        "    return n*(n+1)*(2*n+1)//6"
      ]
    },
    {
      "cell_type": "code",
      "execution_count": null,
      "metadata": {
        "id": "4c44qDUsWBek"
      },
      "outputs": [],
      "source": [
        "%timeit f2_slow(10_000)\n",
        "%timeit f2_fast(10_000)"
      ]
    },
    {
      "cell_type": "markdown",
      "metadata": {
        "id": "-jr8K1dgWBek"
      },
      "source": [
        "### Ötlet"
      ]
    },
    {
      "cell_type": "markdown",
      "metadata": {
        "id": "PEZN1TqyWBek"
      },
      "source": [
        "$$\n",
        "    \\sum_{k=r}^n  \\binom{k}{r} = \\binom{n+1}{r+1}\n",
        "$$\n",
        "\n",
        "**Bizonyítás.**\n",
        "$\\{1,2,\\dots,n+1\\}$-ből válasszunk ki $r+1$ különböző számot.\n",
        "\n",
        "Összes lehetőség:\n",
        "$$\n",
        "\\binom{n+1}{r+1}.\n",
        "$$\n",
        "\n",
        "Számoljuk meg az eseteket aszerint szétbontva is, hogy legnagyobb kiválasztott szám mivel egyenlő.\n",
        "\n",
        "Ha a legnagyobb szám $k+1$, akkor a maradék $r$ számot $\\{1,2,\\dots, k\\}$ közül választjuk. Így az esetek száma\n",
        "$$\n",
        "    \\sum_{k+1=r+1}^{n+1} \\binom{k}{r} =  \\sum_{k=r}^{n} \\binom{k}{r}\n",
        "$$  \n",
        "$k+1$ helyett $k$ az összegzési változó"
      ]
    },
    {
      "cell_type": "markdown",
      "metadata": {
        "id": "bdPD0iqAWBek"
      },
      "source": [
        "Ugyanez másképp.\n",
        "\n",
        "$$\n",
        "\\binom{k}{r} = \\frac{1}{r!} k(k-1)\\cdots(k-r+1) = \\frac{1}{r!}p_r(k-r+1),\\quad\\text{ahol}\\quad p_r(x) = x(x+1)\\cdots(x+r-1)\n",
        "$$\n",
        "és\n",
        "$$\n",
        "    \\sum_{j=1}^{n-r+1} \\frac{1}{r!}p_r(j) = \\frac{1}{(r+1)!}p_{r+1}(n+1-(r+1)+1)= \\frac{1}{(r+1)!} p_{r+1}(n-r+1)\\quad\\text{minden $n\\geq r$ és $r\\geq 0$-ra}\n",
        "$$\n",
        "\n",
        "Az összegzés felső határa és $p_{r+1}$ argumentuma ugyanaz, azaz\n",
        "\n",
        "$$\n",
        "\\sum_{j=0}^{n} p_r(j) = \\frac{1}{r+1}p_{r+1}(n)\n",
        "$$"
      ]
    },
    {
      "cell_type": "markdown",
      "metadata": {
        "id": "bmiC25R2WBek"
      },
      "source": [
        "**Lineáris algebra.**\n",
        "\n",
        "$$\n",
        "p_0\\equiv 1,\\quad p_1(x)=x,\\quad p_2(x)=x(x+1),\\quad\\dots,\\quad p_r(x)=x(x+1)\\cdots(x+r-1)\n",
        "$$\n",
        "\n",
        "bázis a legfeljebb $r$-edfokú polinomok vektorterében.\n",
        "\n",
        "$$\n",
        "    x^r = \\sum_{i=0}^r a_i p_i(x)\n",
        "$$\n",
        "és\n",
        "$$\n",
        "    \\sum_{k=0}^n k^r = \\sum_{k=0}^n \\sum_{i=0}^r a_i p_i(k) =  \\sum_{i=0}^r a_i  \\sum_{k=0}^n p_i(k) = \\sum_{i=0}^r \\frac{a_i}{r+1}  p_{i+1}(n)\n",
        "$$\n"
      ]
    },
    {
      "cell_type": "markdown",
      "metadata": {
        "id": "xoGdvRlMWBek"
      },
      "source": [
        "### Összefoglalva\n",
        "\n",
        "- Egy polinomot az együtthatókkal ábrázolhatunk.\n",
        "- Kellene egy függvény, ami a természetes $1, x, x^2,\\dots$ bázisban felírt polinomot a $p_0,p_1,\\dots$ bázisban ír fel.\n",
        "- $p_0, p_1, \\dots,$ bázisban az összegzés könnyű, lényegében arrébb kell tolni az együtthatókat.\n",
        "- A $p_0,p_1,\\dots$ bázisban felírt polinomot vagy visszaszámoljuk a természetes bázisba, vagy megírjuk a függvényt, ami kiértékeli a függvényt egy adott pontban."
      ]
    },
    {
      "cell_type": "markdown",
      "metadata": {
        "id": "gbj09bx9WBel"
      },
      "source": [
        "Vegyük észre, hogy $p_0$ azonosan 1, $p_1(0)=0$, $p_2(0)=p_2(-1)=0$, stb.\n",
        "\n",
        "Ha $f=\\sum_i a_i p_i$, akkor\n",
        "$$\n",
        "    f(0) = \\sum_i a_i p(0) = a_0, \\quad f(-1) = a_0 p_0(-1) + a_1 p_1(-1),\\quad f(-k) = a_0 p_0(-k) + a_1 p_1(-k) + \\cdots + a_k p_k(-k).\n",
        "$$\n",
        "amiből\n",
        "\n",
        "$$\n",
        "\\begin{align*}\n",
        "    a_0 & = f(0)\\\\\n",
        "    a_1 & = \\frac{f(-1) - a_0 p_0(-1)}{p_1(-1)}\\\\\n",
        "    \\vdots\\\\\n",
        "    a_k & = \\frac{f(-k) - \\sum_{j=0}^{k-1} a_j p_j(-k)}{p_{k}(-k)}\\\\\n",
        "    \\vdots\n",
        "\\end{align*}\n",
        "$$  \n",
        "Kihasználhatjuk még, hogy\n",
        "$$\n",
        "p_k(-k)=(-k)(-k+1)\\cdots(-k+(k-1))=(-1)^k k!.\n",
        "$$"
      ]
    },
    {
      "cell_type": "code",
      "execution_count": null,
      "metadata": {
        "id": "3II13TR-WBel"
      },
      "outputs": [],
      "source": [
        "def basis():\n",
        "    i = 0\n",
        "    p = Polynomial(1)\n",
        "    while True:\n",
        "        yield p\n",
        "        p *= Polynomial(1,i)\n",
        "        i += 1\n"
      ]
    },
    {
      "cell_type": "code",
      "execution_count": null,
      "metadata": {
        "id": "PzopTCWGWBem"
      },
      "outputs": [],
      "source": [
        "from itertools import islice"
      ]
    },
    {
      "cell_type": "code",
      "execution_count": null,
      "metadata": {
        "id": "nv5Td3x2WBem",
        "outputId": "ab4ec11d-45a6-42f5-bc4f-e6bb7f222609"
      },
      "outputs": [
        {
          "data": {
            "text/latex": [
              "$1$"
            ],
            "text/plain": [
              "Polynomial(1)"
            ]
          },
          "metadata": {},
          "output_type": "display_data"
        },
        {
          "name": "stdout",
          "output_type": "stream",
          "text": [
            "i=1, p(-i)=1\n",
            "--------------------\n"
          ]
        },
        {
          "data": {
            "text/latex": [
              "$x$"
            ],
            "text/plain": [
              "Polynomial(1, 0)"
            ]
          },
          "metadata": {},
          "output_type": "display_data"
        },
        {
          "name": "stdout",
          "output_type": "stream",
          "text": [
            "i=2, p(-i)=-2\n",
            "--------------------\n"
          ]
        },
        {
          "data": {
            "text/latex": [
              "$x^{2}+x$"
            ],
            "text/plain": [
              "Polynomial(1, 1, 0)"
            ]
          },
          "metadata": {},
          "output_type": "display_data"
        },
        {
          "name": "stdout",
          "output_type": "stream",
          "text": [
            "i=3, p(-i)=6\n",
            "--------------------\n"
          ]
        },
        {
          "data": {
            "text/latex": [
              "$x^{3}+3x^{2}+2x$"
            ],
            "text/plain": [
              "Polynomial(1, 3, 2, 0)"
            ]
          },
          "metadata": {},
          "output_type": "display_data"
        },
        {
          "name": "stdout",
          "output_type": "stream",
          "text": [
            "i=4, p(-i)=-24\n",
            "--------------------\n"
          ]
        },
        {
          "data": {
            "text/latex": [
              "$x^{4}+6x^{3}+11x^{2}+6x$"
            ],
            "text/plain": [
              "Polynomial(1, 6, 11, 6, 0)"
            ]
          },
          "metadata": {},
          "output_type": "display_data"
        },
        {
          "name": "stdout",
          "output_type": "stream",
          "text": [
            "i=5, p(-i)=120\n",
            "--------------------\n"
          ]
        }
      ],
      "source": [
        "for i, p in enumerate(islice(basis(), 5), 1):\n",
        "    display(p)\n",
        "    print(f\"{i=}, {p(-i)=}\")\n",
        "    print(\"-\"*20)"
      ]
    },
    {
      "cell_type": "code",
      "execution_count": null,
      "metadata": {
        "id": "uibT02JVWBem"
      },
      "outputs": [],
      "source": [
        "def mk_fast_power_sum(p: Polynomial) -> Polynomial:\n",
        "    q = Polynomial()\n",
        "    q0 = Polynomial()\n",
        "\n",
        "    it = iter(basis())\n",
        "    i = 0\n",
        "\n",
        "    while q0 != p:\n",
        "        pi = next(it)\n",
        "        if i > 0:\n",
        "            q += (coeff/i)*pi\n",
        "        coeff = ((p(-i) - q0(-i))/pi(-i))\n",
        "        q0 += coeff*pi\n",
        "        i += 1\n",
        "\n",
        "    q += (coeff/i)*next(it)\n",
        "    return q"
      ]
    },
    {
      "cell_type": "code",
      "execution_count": null,
      "metadata": {
        "id": "bp_AT5IxWBem",
        "outputId": "9f42d034-4515-4e7d-e69d-1d9c8126f0fc"
      },
      "outputs": [
        {
          "data": {
            "text/latex": [
              "$0.1111111111111111x^{9}+0.5x^{8}+0.6666666666666643x^{7}-0.46666666666715173x^{5}+0.22222222222444543x^{3}-0.03333333333284827x$"
            ],
            "text/plain": [
              "Polynomial(0.1111111111111111, 0.5, 0.6666666666666643, 0.0, -0.46666666666715173, 0.0, 0.22222222222444543, 0.0, -0.03333333333284827, 0.0)"
            ]
          },
          "execution_count": 142,
          "metadata": {},
          "output_type": "execute_result"
        }
      ],
      "source": [
        "mk_fast_power_sum(monomial(8))"
      ]
    },
    {
      "cell_type": "code",
      "execution_count": null,
      "metadata": {
        "id": "EUA9d1MxWBen"
      },
      "outputs": [],
      "source": [
        "from fractions import Fraction"
      ]
    },
    {
      "cell_type": "code",
      "execution_count": null,
      "metadata": {
        "id": "IUuRxdpWWBen",
        "outputId": "1fb8a155-68dc-493e-bc22-457dbe74ef52"
      },
      "outputs": [
        {
          "data": {
            "text/latex": [
              "$6x^{5}+15x^{4}+10x^{3}-x$"
            ],
            "text/plain": [
              "Polynomial(6, 15, 10, 0, -1, 0)"
            ]
          },
          "metadata": {},
          "output_type": "display_data"
        }
      ],
      "source": [
        "q = 30*mk_fast_power_sum(monomial(4, Fraction(1,1)))\n",
        "display(q)"
      ]
    },
    {
      "cell_type": "code",
      "execution_count": null,
      "metadata": {
        "id": "odH3gyxcWBen",
        "outputId": "6cd67bcd-ce4c-4606-e177-ef877336977c"
      },
      "outputs": [
        {
          "data": {
            "text/plain": [
              "(Fraction(0, 1), Fraction(0, 1), Fraction(0, 1), 6)"
            ]
          },
          "execution_count": 114,
          "metadata": {},
          "output_type": "execute_result"
        }
      ],
      "source": [
        "q(0), q(-1), q(Fraction(-1,2)), q.degree()"
      ]
    },
    {
      "cell_type": "code",
      "execution_count": null,
      "metadata": {
        "id": "ED05OklCWBeo",
        "outputId": "8adac9e2-ec4e-41d0-d2ac-b0f484e46f5a"
      },
      "outputs": [
        {
          "data": {
            "text/latex": [
              "$2x^{3}+3x^{2}+x$"
            ],
            "text/plain": [
              "Polynomial(2, 3, 1, 0)"
            ]
          },
          "execution_count": 115,
          "metadata": {},
          "output_type": "execute_result"
        }
      ],
      "source": [
        "f = monomial(1)*Polynomial(1,1)*Polynomial(2,1)\n",
        "f"
      ]
    },
    {
      "cell_type": "code",
      "execution_count": null,
      "metadata": {
        "id": "RV78JRVBWBeo",
        "outputId": "e5e9a1aa-6516-4417-af48-e3d017c7630b"
      },
      "outputs": [
        {
          "data": {
            "text/latex": [
              "$3x^{2}+3x-1$"
            ],
            "text/plain": [
              "Polynomial(3, 3, -1)"
            ]
          },
          "execution_count": 120,
          "metadata": {},
          "output_type": "execute_result"
        }
      ],
      "source": [
        "p = Polynomial(3,3,-1)\n",
        "q - p*f\n",
        "p"
      ]
    },
    {
      "cell_type": "markdown",
      "metadata": {
        "id": "EoemMUmsWBeo"
      },
      "source": [
        "#### Gyors ellenőrzés."
      ]
    },
    {
      "cell_type": "code",
      "execution_count": null,
      "metadata": {
        "id": "s0yT9_jWWBeo"
      },
      "outputs": [],
      "source": [
        "%%ipytest\n",
        "\n",
        "def test_fast_power_sum():\n",
        "    p0 =  Polynomial(Fraction(1, 1),0)\n",
        "    p1 = p0\n",
        "    for i in range(1, 4):\n",
        "        f = mk_fast_power_sum(p1)\n",
        "        p1 *= p0\n",
        "        g = mk_power_sum(i)\n",
        "        for n in range(1000):\n",
        "            assert f(n) == g(n)"
      ]
    },
    {
      "cell_type": "code",
      "execution_count": null,
      "metadata": {
        "id": "A1mgUjTcWBep"
      },
      "outputs": [],
      "source": [
        "f2 = mk_fast_power_sum(Polynomial(Fraction(1,1), 0, 0))\n",
        "%timeit f2_slow(10_000)\n",
        "%timeit f2(10_000)\n",
        "%timeit f2_fast(10_000)"
      ]
    },
    {
      "cell_type": "code",
      "execution_count": null,
      "metadata": {
        "id": "NN2MD6tFWBep"
      },
      "outputs": [],
      "source": [
        "f2.__dict__\n"
      ]
    },
    {
      "cell_type": "markdown",
      "metadata": {
        "id": "bAFyeCZrWBep"
      },
      "source": [
        "\n",
        "\n",
        "# Feladat\n"
      ]
    },
    {
      "cell_type": "markdown",
      "metadata": {
        "id": "ACiCLNo1WBep"
      },
      "source": [
        "\n",
        "Írjuk meg a `grep` program egyszerűsített változatát.\n",
        "\n",
        "A `grep` soronként olvas egy szövegfileból és a megadott mintát tartalmazó sorokat kiírja a kimenetre.\n",
        "\n",
        "Képes arra, hogy kiírja a mintát tartalmazó sorral együtt azt megelőző és azt követő néhány sort is.\n",
        "\n",
        "A mi változatunk egy generátor függvény lesz, ami a megadott file soraiból azokat tartja meg, amik az adott mintát tartalmazzák.\n"
      ]
    },
    {
      "cell_type": "markdown",
      "metadata": {
        "id": "TYCxMDXmWBep"
      },
      "source": [
        "## Olvasás fileból"
      ]
    },
    {
      "cell_type": "markdown",
      "metadata": {
        "id": "cQ1l_ufBWBeq"
      },
      "source": [
        "```python\n",
        "with open(filename, mode) as file:\n",
        "    do_something with file\n",
        "```\n",
        "       \n",
        "- `filename` a file elérési útja\n",
        "- `mode`\n",
        "  + `r` reading olvasás\n",
        "  + `w` writing írás\n",
        "  + `b` binary\n",
        "  + `t` text\n",
        "  + `a` append\n",
        "  \n",
        "  Ha nem adjuk meg `rt`.\n",
        "  \n",
        "  Lehetne még `r, w, rb, wb, a`  "
      ]
    },
    {
      "cell_type": "code",
      "execution_count": null,
      "metadata": {
        "id": "2U9o89eNWBeq",
        "outputId": "5b329936-d932-4010-eba4-37918c5df50f"
      },
      "outputs": [
        {
          "name": "stdout",
          "output_type": "stream",
          "text": [
            "Writing /tmp/test.txt\n"
          ]
        }
      ],
      "source": [
        "%%writefile /tmp/test.txt\n",
        "első sor\n",
        "második sor\n",
        "harmadik\n",
        "utolsó"
      ]
    },
    {
      "cell_type": "code",
      "execution_count": null,
      "metadata": {
        "id": "_PBh-b5DWBes",
        "outputId": "ff32aae2-d97c-4ca2-99b9-38306ba262de"
      },
      "outputs": [
        {
          "name": "stdout",
          "output_type": "stream",
          "text": [
            "<_io.TextIOWrapper name='/tmp/test.txt' mode='r' encoding='UTF-8'>\n",
            "---/tmp/test.txt:\n",
            "első sor\n",
            "második sor\n",
            "harmadik\n",
            "utolsó\n",
            "---\n"
          ]
        }
      ],
      "source": [
        "filename = \"/tmp/test.txt\"\n",
        "\n",
        "with open(filename, \"r\") as file:\n",
        "    print(file)\n",
        "    print(f\"---{filename}:\")\n",
        "    for line in file:\n",
        "        print(line, end=\"\")\n",
        "    print(\"---\")\n",
        ""
      ]
    },
    {
      "cell_type": "markdown",
      "metadata": {
        "id": "xZUfVG6jWBes"
      },
      "source": [
        "Egészítsük ki a következő kódot!"
      ]
    },
    {
      "cell_type": "code",
      "execution_count": null,
      "metadata": {
        "id": "Sg7OlEYUWBet"
      },
      "outputs": [],
      "source": [
        "\n",
        "def simple_grep(filename: str, pattern: str): # Generator[str]\n",
        "    with open(filename, \"r\") as file:\n",
        "        for line in ???:\n",
        "            if ???:\n",
        "                yield line"
      ]
    },
    {
      "cell_type": "markdown",
      "metadata": {
        "id": "LimVvBECWBet"
      },
      "source": [
        "### Adatok olvasása netről\n",
        "\n",
        "Ez  megoldható `urllib.request` modullal\n"
      ]
    },
    {
      "cell_type": "code",
      "execution_count": null,
      "metadata": {
        "id": "hYLaKzp7WBeu"
      },
      "outputs": [],
      "source": [
        "import urllib.request as request\n",
        "import itertools"
      ]
    },
    {
      "cell_type": "code",
      "execution_count": null,
      "metadata": {
        "id": "l5IuRLiUWBeu"
      },
      "outputs": [],
      "source": [
        "\n",
        "url = \"https://www.gutenberg.org/files/1342/1342-0.txt\" # Pride and prejudice\n",
        "url = \"https://www.gutenberg.org/ebooks/67098.txt.utf-8\" # Winnie the pooh\n",
        "\n",
        "with request.urlopen(url) as file:\n",
        "    btext = file.read()\n",
        "\n",
        "print(type(btext))"
      ]
    },
    {
      "cell_type": "code",
      "execution_count": null,
      "metadata": {
        "id": "MpDDDCKGWBeu"
      },
      "outputs": [],
      "source": [
        "text = btext.decode()\n",
        "lines = text.split(\"\\r\\n\")\n"
      ]
    },
    {
      "cell_type": "code",
      "execution_count": null,
      "metadata": {
        "id": "6Ng56ZRvWBeu",
        "outputId": "ba332dbc-dc14-412e-d2a5-7f959a4550dd"
      },
      "outputs": [
        {
          "data": {
            "text/plain": [
              "(4011,\n",
              " ['\\ufeffThe Project Gutenberg eBook of Winnie-the-Pooh',\n",
              "  '    ',\n",
              "  'This ebook is for the use of anyone anywhere in the United States and',\n",
              "  'most other parts of the world at no cost and with almost no restrictions',\n",
              "  'whatsoever. You may copy it, give it away or re-use it under the terms',\n",
              "  'of the Project Gutenberg License included with this ebook or online',\n",
              "  'at www.gutenberg.org. If you are not located in the United States,',\n",
              "  'you will have to check the laws of the country where you are located',\n",
              "  'before using this eBook.',\n",
              "  '',\n",
              "  'Title: Winnie-the-Pooh',\n",
              "  '',\n",
              "  '',\n",
              "  'Author: A. A. Milne',\n",
              "  '',\n",
              "  'Illustrator: Ernest H. Shepard',\n",
              "  '',\n",
              "  'Release date: January 3, 2022 [eBook #67098]',\n",
              "  '                Most recently updated: December 28, 2022',\n",
              "  '',\n",
              "  'Language: English',\n",
              "  '',\n",
              "  'Original publication: Canada: McClelland & Stewart, Ltd, 1926',\n",
              "  '',\n",
              "  'Credits: Greg Weeks, Mary Meehan, Iona Vaughan, David T. Jones and the online Distributed Proofreaders Canada team at http://www.pgdpcanada.net',\n",
              "  '',\n",
              "  '',\n",
              "  '*** START OF THE PROJECT GUTENBERG EBOOK WINNIE-THE-POOH ***',\n",
              "  '',\n",
              "  '',\n",
              "  '',\n",
              "  '',\n",
              "  '                            WINNIE-THE-POOH',\n",
              "  '',\n",
              "  '                            _BY A. A. MILNE_',\n",
              "  '',\n",
              "  '',\n",
              "  '',\n",
              "  '',\n",
              "  '                              _JUVENILES_',\n",
              "  '',\n",
              "  '                        When We Were Very Young',\n",
              "  '',\n",
              "  '    \"_The best book of verses for children_ _ever written._\"--A. EDWARD',\n",
              "  '    NEWTON in _The Atlantic Monthly_.',\n",
              "  '',\n",
              "  '              Fourteen Songs from When We Were Very Young',\n",
              "  '',\n",
              "  '    Words by A. A. Milne. Music by H. Fraser-Simson. Decorations by',\n",
              "  '    E. H. Shepard.'])"
            ]
          },
          "execution_count": 126,
          "metadata": {},
          "output_type": "execute_result"
        }
      ],
      "source": [
        "len(lines), lines[:50]"
      ]
    },
    {
      "cell_type": "code",
      "execution_count": null,
      "metadata": {
        "id": "7t1rlqofWBev",
        "outputId": "c72a9beb-4ff4-4269-e6dc-6573f09e353a"
      },
      "outputs": [
        {
          "name": "stdout",
          "output_type": "stream",
          "text": [
            "\u001b[0;31mSignature:\u001b[0m \u001b[0mrequest\u001b[0m\u001b[0;34m.\u001b[0m\u001b[0murlretrieve\u001b[0m\u001b[0;34m(\u001b[0m\u001b[0murl\u001b[0m\u001b[0;34m,\u001b[0m \u001b[0mfilename\u001b[0m\u001b[0;34m=\u001b[0m\u001b[0;32mNone\u001b[0m\u001b[0;34m,\u001b[0m \u001b[0mreporthook\u001b[0m\u001b[0;34m=\u001b[0m\u001b[0;32mNone\u001b[0m\u001b[0;34m,\u001b[0m \u001b[0mdata\u001b[0m\u001b[0;34m=\u001b[0m\u001b[0;32mNone\u001b[0m\u001b[0;34m)\u001b[0m\u001b[0;34m\u001b[0m\u001b[0;34m\u001b[0m\u001b[0m\n",
            "\u001b[0;31mDocstring:\u001b[0m\n",
            "Retrieve a URL into a temporary location on disk.\n",
            "\n",
            "Requires a URL argument. If a filename is passed, it is used as\n",
            "the temporary file location. The reporthook argument should be\n",
            "a callable that accepts a block number, a read size, and the\n",
            "total file size of the URL target. The data argument should be\n",
            "valid URL encoded data.\n",
            "\n",
            "If a filename is passed and the URL points to a local resource,\n",
            "the result is a copy from local file to new file.\n",
            "\n",
            "Returns a tuple containing the path to the newly created\n",
            "data file as well as the resulting HTTPMessage object.\n",
            "\u001b[0;31mFile:\u001b[0m      ~/.config/jupyterlab-desktop/jlab_server/envs/python3.10/lib/python3.10/urllib/request.py\n",
            "\u001b[0;31mType:\u001b[0m      function"
          ]
        }
      ],
      "source": [
        "request.urlretrieve?"
      ]
    },
    {
      "cell_type": "code",
      "execution_count": null,
      "metadata": {
        "id": "2hr9SaVUWBev",
        "outputId": "d10b8866-14b5-41cf-f730-80d93e302d9c"
      },
      "outputs": [
        {
          "data": {
            "text/plain": [
              "('/tmp/winnie-the-pooh.txt', <http.client.HTTPMessage at 0x7efdf0429840>)"
            ]
          },
          "execution_count": 131,
          "metadata": {},
          "output_type": "execute_result"
        }
      ],
      "source": [
        "request.urlretrieve(url, \"/tmp/winnie-the-pooh.txt\")"
      ]
    },
    {
      "cell_type": "code",
      "execution_count": null,
      "metadata": {
        "id": "5ruD12x2WBev"
      },
      "outputs": [],
      "source": [
        "! ls"
      ]
    },
    {
      "cell_type": "code",
      "execution_count": null,
      "metadata": {
        "id": "yB8J1s36WBev"
      },
      "outputs": [],
      "source": [
        "! head winnie-the-pooh.txt"
      ]
    },
    {
      "cell_type": "code",
      "execution_count": null,
      "metadata": {
        "id": "mS3ZYXpjWBew",
        "outputId": "cf0a0aab-a9ba-48d8-8e81-e6691d0c48d0"
      },
      "outputs": [
        {
          "ename": "NameError",
          "evalue": "name 'simple_grep' is not defined",
          "output_type": "error",
          "traceback": [
            "\u001b[0;31m---------------------------------------------------------------------------\u001b[0m",
            "\u001b[0;31mNameError\u001b[0m                                 Traceback (most recent call last)",
            "\u001b[1;32m/home/prokaj/vgy/23-24i/code/2023/2023-11-06.ipynb Cell 111\u001b[0m line \u001b[0;36m1\n\u001b[0;32m----> <a href='vscode-notebook-cell:/home/prokaj/vgy/23-24i/code/2023/2023-11-06.ipynb#Y206sZmlsZQ%3D%3D?line=0'>1</a>\u001b[0m \u001b[39mlist\u001b[39m(itertools\u001b[39m.\u001b[39mislice(simple_grep(\u001b[39m\"\u001b[39m\u001b[39mwinnie-the-pooh.txt\u001b[39m\u001b[39m\"\u001b[39m, \u001b[39m\"\u001b[39m\u001b[39meeyore\u001b[39m\u001b[39m\"\u001b[39m), \u001b[39m5\u001b[39m))\n",
            "\u001b[0;31mNameError\u001b[0m: name 'simple_grep' is not defined"
          ]
        }
      ],
      "source": [
        "list(itertools.islice(simple_grep(\"winnie-the-pooh.txt\", \"eeyore\"), 5))"
      ]
    },
    {
      "cell_type": "code",
      "execution_count": null,
      "metadata": {
        "id": "s6Rk8XiZWBew"
      },
      "outputs": [],
      "source": [
        "#open?"
      ]
    },
    {
      "cell_type": "markdown",
      "metadata": {
        "id": "-XjgjbDSWBew"
      },
      "source": [
        "## Melyek a leggyakoribb szavak a Micimackó angol változatában?"
      ]
    },
    {
      "cell_type": "code",
      "execution_count": null,
      "metadata": {
        "id": "ZnfaI-fVWBex"
      },
      "outputs": [],
      "source": [
        "from collections import Counter"
      ]
    },
    {
      "cell_type": "code",
      "execution_count": null,
      "metadata": {
        "id": "MBMmatRJWBex"
      },
      "outputs": [],
      "source": [
        "def words(lines):\n",
        "    for line in lines:\n",
        "        for word in line.split():\n",
        "            yield word"
      ]
    },
    {
      "cell_type": "code",
      "execution_count": null,
      "metadata": {
        "id": "M1_bCQHWWBex",
        "outputId": "7b95daca-c7bc-4859-99ec-36e7b35f6b60"
      },
      "outputs": [
        {
          "data": {
            "text/plain": [
              "4559"
            ]
          },
          "execution_count": 136,
          "metadata": {},
          "output_type": "execute_result"
        }
      ],
      "source": [
        "with open(\"/tmp/winnie-the-pooh.txt\") as textfile:\n",
        "    counter = Counter(map(str.lower, words(itertools.islice(textfile, 50_000))))\n",
        "len(counter)"
      ]
    },
    {
      "cell_type": "code",
      "execution_count": null,
      "metadata": {
        "id": "1ykOtA7dWBex",
        "outputId": "f5d63f1a-766c-4013-e6a4-7a2c0214eb32"
      },
      "outputs": [
        {
          "data": {
            "text/plain": [
              "[('and', 995),\n",
              " ('the', 879),\n",
              " ('to', 634),\n",
              " ('he', 634),\n",
              " ('a', 588),\n",
              " ('of', 507),\n",
              " ('said', 445),\n",
              " ('it', 370),\n",
              " ('in', 322),\n",
              " ('you', 320),\n",
              " ('was', 288),\n",
              " ('i', 273),\n",
              " ('his', 220),\n",
              " ('that', 212),\n",
              " ('as', 185),\n",
              " ('with', 165),\n",
              " ('had', 164),\n",
              " ('pooh', 164),\n",
              " ('at', 159),\n",
              " ('for', 156)]"
            ]
          },
          "execution_count": 137,
          "metadata": {},
          "output_type": "execute_result"
        }
      ],
      "source": [
        "counter.most_common(20)"
      ]
    },
    {
      "cell_type": "markdown",
      "metadata": {
        "id": "yT8RoA-zWBex"
      },
      "source": [
        "# Egy gráfelméleti algoritmus"
      ]
    },
    {
      "cell_type": "markdown",
      "metadata": {
        "id": "XIWAXvuKWBey"
      },
      "source": [
        "## Feladat"
      ]
    },
    {
      "cell_type": "markdown",
      "metadata": {
        "id": "yk9vxYdcWBey"
      },
      "source": [
        "Adott egy `n` csúcsú irányítatlan gráf az élek listájával. A gráf csúcsait `0`-tól `n-1`-ig címkéztük meg, az éleket pedig a végpontokkal.\n",
        "\n",
        "Emellett adott egy kiindulási pont és egy végpont. Azt szeretnénk eldönteni, hogy el lehet-e jutni a kiindulási pontból a végpontba a gráf éleit használva.\n",
        "\n",
        "Gondolhatunk arra, hogy a gráf egy úthálózatot ír le és a kérdés az, hogy el tudunk-e jutni `A`-ból `B`-be."
      ]
    },
    {
      "cell_type": "markdown",
      "metadata": {
        "id": "qBKBBuMgWBey"
      },
      "source": [
        "Pl. `n = 3`, élek `edges = [[0,1], [1,2], [2,0]]`, `A =  0`, `B = 2`."
      ]
    },
    {
      "cell_type": "markdown",
      "metadata": {
        "id": "M5YZ15XqWBey"
      },
      "source": [
        "Gráfok megjelenítésére egy hasznos könyvtár a `graphviz`."
      ]
    },
    {
      "cell_type": "code",
      "execution_count": null,
      "metadata": {
        "id": "Fehzl8eDWBey"
      },
      "outputs": [],
      "source": [
        "import importlib\n",
        "if importlib.util.find_spec('graphviz') is None:\n",
        "    ! pip install graphviz\n",
        "import graphviz"
      ]
    },
    {
      "cell_type": "code",
      "execution_count": null,
      "metadata": {
        "id": "Bm7GlNKsWBey"
      },
      "outputs": [],
      "source": [
        "edges = [[0,1], [1,2], [2,0]]\n",
        "g0 = graphviz.Graph()\n",
        "\n",
        "g0.edges([(str(a), str(b)) for a, b in edges])\n",
        "g0"
      ]
    },
    {
      "cell_type": "markdown",
      "metadata": {
        "id": "uQS9zdyhWBez"
      },
      "source": [
        "A gráf összefüggő, tetszőleges `A`, `B` esetén a válasz: `True`"
      ]
    },
    {
      "cell_type": "code",
      "execution_count": null,
      "metadata": {
        "id": "8648bkgMWBe0"
      },
      "outputs": [],
      "source": [
        "n = 6\n",
        "edges = [[0,1],[0,2],[3,5],[5,4],[4,3]]\n",
        "A = 0\n",
        "B = 5\n",
        "\n",
        "g1 = graphviz.Graph()\n",
        "g1.edges([(str(a), str(b)) for a, b in edges])\n",
        "g1"
      ]
    },
    {
      "cell_type": "markdown",
      "metadata": {
        "id": "_5TPRBzNWBe0"
      },
      "source": [
        "Nincs út 0 és 5 között. A válasz: `False`"
      ]
    },
    {
      "cell_type": "markdown",
      "metadata": {
        "id": "054okFO6WBe0"
      },
      "source": [
        "Összefüggőségi komponenseket szeretnénk számolni.\n",
        "\n"
      ]
    },
    {
      "cell_type": "markdown",
      "metadata": {
        "id": "QXkRujwhWBe0"
      },
      "source": [
        "## Ötlet.\n",
        "\n",
        "Az él nélküli gráfból indulunk ki. Itt egy elemű komponensek vannak.\n",
        "\n",
        "Minden komponensből válasszunk egy reprezentáns és minden $i$ pontra feljegyezzük, melyik komponensben van.\n",
        "\n",
        "\n"
      ]
    },
    {
      "cell_type": "code",
      "execution_count": null,
      "metadata": {
        "id": "UoTtC7fqWBe0"
      },
      "outputs": [],
      "source": [
        "def show_graph(roots, direction = 'LR'):\n",
        "    g = graphviz.Digraph(graph_attr={'rankdir': direction})\n",
        "    g.edges((str(i), str(r)) for i, r in enumerate(roots))\n",
        "    return g"
      ]
    },
    {
      "cell_type": "code",
      "execution_count": null,
      "metadata": {
        "id": "f7OaOEXhWBe0"
      },
      "outputs": [],
      "source": [
        "n = 5\n",
        "roots = [i for i in range(n)]\n",
        "display(show_graph(roots, 'TD'))"
      ]
    },
    {
      "cell_type": "markdown",
      "metadata": {
        "id": "VRWiUh6DWBe1"
      },
      "source": [
        "ha behúzzuk a $(0, 1)$ élet, akkor $0$ és $1$ azonos komponensbe kerül. Választhatunk a két összeuniózott komponens reprezentánsa között, legyen pl. 1"
      ]
    },
    {
      "cell_type": "code",
      "execution_count": null,
      "metadata": {
        "id": "VfudnXxqWBe1"
      },
      "outputs": [],
      "source": [
        "roots[0] = 1\n",
        "display(show_graph(roots, 'TD'))"
      ]
    },
    {
      "cell_type": "markdown",
      "metadata": {
        "id": "emzoREMRWBe1"
      },
      "source": [
        "Ha most a (0, 2) élet akarjuk behúzni, akkor nem állíthatjuk át `roots[0]`. Meg kell keresnünk `0` komponensének reprezentását, ez 1 és vagy `roots[1]`-et állítjuk 2 -re, vagy `roots[2]`-t 1-re."
      ]
    },
    {
      "cell_type": "code",
      "execution_count": null,
      "metadata": {
        "id": "H3mQ1Y8rWBe1"
      },
      "outputs": [],
      "source": [
        "def find(roots, a):\n",
        "    while a != roots[a]:\n",
        "        a = roots[a]\n",
        "    return a"
      ]
    },
    {
      "cell_type": "code",
      "execution_count": null,
      "metadata": {
        "id": "JYmJSvE7WBe2"
      },
      "outputs": [],
      "source": [
        "find(roots, 0), find(roots, 2)"
      ]
    },
    {
      "cell_type": "code",
      "execution_count": null,
      "metadata": {
        "id": "w01LyfI1WBe2"
      },
      "outputs": [],
      "source": [
        "def union(roots, a, b):\n",
        "    ra = find(roots, a)\n",
        "    rb = find(roots, b)\n",
        "    roots[ra] = rb"
      ]
    },
    {
      "cell_type": "code",
      "execution_count": null,
      "metadata": {
        "id": "xwK72oyBWBe2"
      },
      "outputs": [],
      "source": [
        "union(roots, 0, 2)\n",
        "print(f\"After union(0, 2) {roots=}\")\n",
        "display(show_graph(roots))\n",
        "\n",
        "union(roots, 3, 4)\n",
        "print(f\"After union(3, 4) {roots=}\")\n",
        "print(roots)\n",
        "display(show_graph(roots))\n",
        "\n",
        "union(roots, 3, 2)\n",
        "print(f\"After union(3, 2) {roots=}\")\n",
        "print(roots)\n",
        "display(show_graph(roots))"
      ]
    },
    {
      "cell_type": "markdown",
      "metadata": {
        "id": "BR1KsccrWBe2"
      },
      "source": [
        "Ezután az a kérdés, hogy el lehet-e jutni `A`-ból, `B`-be könnyen eldönthető. Ha `A` és `B` azonos komponensben van, akkor `A` és `B` között megy út az eredeti gráfban, különben nem."
      ]
    },
    {
      "cell_type": "markdown",
      "metadata": {
        "id": "iZxc2y-KWBe2"
      },
      "source": [
        "1. példa\n",
        "`n = 3`, élek `edges = [[0,1], [1,2], [2,0]]`, `A =  0`, `B = 2`."
      ]
    },
    {
      "cell_type": "code",
      "execution_count": null,
      "metadata": {
        "id": "rYBKOuh8WBe3"
      },
      "outputs": [],
      "source": [
        "def show_edges(edges, direction='LR'):\n",
        "    g = graphviz.Graph(graph_attr={'rankdir': direction})\n",
        "    g.edges([(str(a), str(b)) for a, b in edges])\n",
        "    return g"
      ]
    },
    {
      "cell_type": "code",
      "execution_count": null,
      "metadata": {
        "id": "K8gS0DSoWBe3"
      },
      "outputs": [],
      "source": [
        "n = 3\n",
        "edges = [[0,1], [1,2], [2,0]]\n",
        "A =  0\n",
        "B = 2\n",
        "\n",
        "display(show_edges(edges, 'TD'))\n",
        "print(f\"Eredeti gráf\")\n",
        "print(\"=\"*50)\n",
        "\n",
        "roots = [i for i in range(n)]\n",
        "for a, b in edges:\n",
        "    union(roots, a, b)\n",
        "\n",
        "display(show_graph(roots))\n",
        "print(f\"{A=} és {B=} {'azonos' if find(roots, A)==find(roots, B) else 'különböző'} komponensben van\")"
      ]
    },
    {
      "cell_type": "markdown",
      "metadata": {
        "id": "d2fll3DaWBe3"
      },
      "source": [
        "2. példa"
      ]
    },
    {
      "cell_type": "code",
      "execution_count": null,
      "metadata": {
        "id": "lbZBaY9ZWBe3"
      },
      "outputs": [],
      "source": [
        "n = 6\n",
        "edges = [[0,1],[0,2],[3,5],[5,4],[4,3]]\n",
        "A = 0\n",
        "B = 5\n",
        "\n",
        "display(show_edges(edges))\n",
        "print(f\"Eredeti gráf\")\n",
        "print(\"=\"*50)\n",
        "\n",
        "roots = [i for i in range(n)]\n",
        "for a, b in edges:\n",
        "    union(roots, a, b)\n",
        "\n",
        "display(show_graph(roots))\n",
        "print(f\"{A=} és {B=} {'azonos' if find(roots, A)==find(roots, B) else 'különböző'} komponensben van\")\n"
      ]
    },
    {
      "cell_type": "markdown",
      "metadata": {
        "id": "Dw9ZT7utWBe3"
      },
      "source": [
        "Látszik, hogy először létre kell hoznunk a `roots` tömböt, majd utána ezzel kell számolnunk.\n",
        "\n",
        "Célszerű egy osztályt léterhozni:"
      ]
    },
    {
      "cell_type": "code",
      "execution_count": null,
      "metadata": {
        "id": "NMY-yPyZWBe4"
      },
      "outputs": [],
      "source": [
        "class UnionFind:\n",
        "    def __init__(self, n):\n",
        "        self.roots = [i for i in range(n)]\n",
        "\n",
        "    def find(self, a):\n",
        "        while a != self.roots[a]:\n",
        "            a = self.roots[a]\n",
        "        return a\n",
        "\n",
        "    def union(self, a, b):\n",
        "        ra, rb = self.find(a), self.find(b)\n",
        "        if ra != rb:\n",
        "            self.roots[ra] = rb\n",
        "        return self\n",
        "\n",
        "    def show(self, *args, **kwargs):\n",
        "        display(show_graph(self.roots, *args, **kwargs))"
      ]
    },
    {
      "cell_type": "markdown",
      "metadata": {
        "id": "9ju-2gSGWBe4"
      },
      "source": [
        "Mi történik, ha nagyobb gráfunk van?"
      ]
    },
    {
      "cell_type": "code",
      "execution_count": null,
      "metadata": {
        "id": "euXO5evDWBe4"
      },
      "outputs": [],
      "source": [
        "n = 10\n",
        "edges = [(0,i+1) for i in range(n-1)]\n",
        "display(show_edges(edges, 'TD'))\n",
        "\n",
        "uf = UnionFind(n)\n",
        "for a, b in edges:\n",
        "    uf.union(a, b)\n",
        "\n",
        "uf.show()"
      ]
    },
    {
      "cell_type": "markdown",
      "metadata": {
        "id": "s1wiMx89WBe4"
      },
      "source": [
        "Valahányszor behúzzuk a $(0, i)$ élet, meg kell keresni $0$ reprezentánsát. $k$ él behúzása után $k$-lépéssel találjuk meg. Ha 10 helyett 10_000 méretű a gráf ez nem fog működni.\n",
        "\n",
        "### Javítási lehetőségek.\n",
        "\n",
        "- Amikor megkeressük $i$ reprezentánsát végig megyünk a reprezentánshoz vezető úton. Minden meglátogatott csúcsra ismerté válik a reprezentáns értéke. Ezt beírhatjuk a `roots` tömbe. (path compression)\n",
        "\n",
        "- A nagyobb komponensbe kössük be a kisebbet és ne fordítva. Ehhez  a ,,méretet'' nyilván kell tartani."
      ]
    },
    {
      "cell_type": "code",
      "execution_count": null,
      "metadata": {
        "id": "pQFCih8QWBe5"
      },
      "outputs": [],
      "source": [
        "def find_better(roots, a):\n",
        "    ra = roots[a]\n",
        "    if a != ra:\n",
        "        ra = find_better(roots, ra)\n",
        "        roots[a] = ra\n",
        "    return ra\n",
        "\n",
        "def find_better_without_recursion(roots, a):\n",
        "    stack = []\n",
        "\n",
        "    ra = roots[a]\n",
        "    while a != ra:\n",
        "        stack.append(a)\n",
        "        a = ra\n",
        "        ra = roots[a]\n",
        "\n",
        "    while stack:\n",
        "        roots[stack.pop()] = ra\n",
        "\n",
        "    return ra\n",
        "\n",
        "\n",
        "def union_sizes(roots, sizes, a, b):\n",
        "    ra = find_better(roots, a)\n",
        "    rb = find_better(roots, b)\n",
        "    if ra != rb:\n",
        "        if sizes[ra] < sizes[rb]:\n",
        "            ra, rb = rb, ra\n",
        "        roots[rb] = ra\n",
        "        sizes[ra] += sizes[rb]\n",
        "\n",
        "def union_ranks(roots, ranks, a, b):\n",
        "    ra = find_better(roots, a)\n",
        "    rb = find_better(roots, b)\n",
        "    if ra != rb:\n",
        "        if ranks[ra] < ranks[rb]:\n",
        "            ra, rb = rb, ra\n",
        "        roots[rb] = ra\n",
        "        if ranks[ra] == ranks[rb]:\n",
        "            ranks[ra] += 1"
      ]
    },
    {
      "cell_type": "code",
      "execution_count": null,
      "metadata": {
        "id": "SmECelLfWBe5"
      },
      "outputs": [],
      "source": [
        "n = 10\n",
        "edges = [(0, i) for i in range(1, n)]\n",
        "display(show_edges(edges, 'TD'))\n",
        "\n",
        "roots = [i for i in range(n)]\n",
        "\n",
        "for a, b in edges:\n",
        "    ra = find_better(roots, a)\n",
        "    rb = find_better(roots, b)\n",
        "    roots[ra] = rb\n",
        "\n",
        "display(show_graph(roots, 'LR'))\n"
      ]
    },
    {
      "cell_type": "code",
      "execution_count": null,
      "metadata": {
        "id": "zHd1nQhJWBe5"
      },
      "outputs": [],
      "source": [
        "n = 10\n",
        "edges = [(0, i) for i in range(1, n)]\n",
        "display(show_edges(edges, 'TD'))\n",
        "\n",
        "roots = [i for i in range(n)]\n",
        "\n",
        "for a, b in edges:\n",
        "    ra = find_better(roots, a)\n",
        "    rb = find_better(roots, b)\n",
        "    roots[rb] = ra\n",
        "\n",
        "display(show_graph(roots, 'TD'))\n"
      ]
    },
    {
      "cell_type": "code",
      "execution_count": null,
      "metadata": {
        "id": "Gy6eudYJWBe5"
      },
      "outputs": [],
      "source": [
        "n = 10\n",
        "edges = [(0, i) for i in range(1, n)]\n",
        "display(show_edges(edges, 'TD'))\n",
        "\n",
        "roots = [i for i in range(n)]\n",
        "sizes = [1]*n\n",
        "\n",
        "for a, b in edges:\n",
        "    union_sizes(roots, sizes, a, b)\n",
        "\n",
        "display(show_graph(roots, 'TD'))\n"
      ]
    },
    {
      "cell_type": "code",
      "execution_count": null,
      "metadata": {
        "id": "hYAJzEQSWBe5"
      },
      "outputs": [],
      "source": [
        "n = 10\n",
        "edges = [(0, i) for i in range(1, n)]\n",
        "display(show_edges(edges, 'TD'))\n",
        "\n",
        "roots = [i for i in range(n)]\n",
        "ranks = [0]*n\n",
        "\n",
        "for a, b in edges:\n",
        "    union_ranks(roots, ranks, a, b)\n",
        "\n",
        "display(show_graph(roots, 'TD'))\n"
      ]
    },
    {
      "cell_type": "markdown",
      "metadata": {
        "id": "0HCdbTVWWBe6"
      },
      "source": [
        "### Szokásos implementáció"
      ]
    },
    {
      "cell_type": "code",
      "execution_count": null,
      "metadata": {
        "id": "Yz-5T2VGWBe6"
      },
      "outputs": [],
      "source": [
        "class UnionFind:\n",
        "    def __init__(self, n):\n",
        "        self.roots = [i for i in range(n)]\n",
        "        self.sizes = [1]*n\n",
        "\n",
        "    def find(self, a):\n",
        "        ra = self.roots[a]\n",
        "        if a != ra:\n",
        "            ra = self.find( ra)\n",
        "            self.roots[a] = ra\n",
        "        return ra\n",
        "\n",
        "    def union(self, a, b):\n",
        "        ra = self.find(a)\n",
        "        rb = self.find(b)\n",
        "        if ra != rb:\n",
        "            if self.sizes[ra] < self.sizes[rb]:\n",
        "                ra, rb = rb, ra\n",
        "            self.roots[rb] = ra\n",
        "            self.sizes[ra] += self.sizes[rb]\n"
      ]
    },
    {
      "cell_type": "code",
      "execution_count": null,
      "metadata": {
        "id": "2auBU550WBe6"
      },
      "outputs": [],
      "source": [
        "uf = UnionFind(10)\n",
        "print(uf)\n",
        "uf.union(1, 2)\n",
        "print(uf)\n",
        "uf.union(5, 9)\n",
        "uf.union(6, 7)\n",
        "print(uf)\n",
        "\n",
        "uf"
      ]
    },
    {
      "cell_type": "markdown",
      "metadata": {
        "id": "HMZjM666WBe7"
      },
      "source": [
        "`__str__` és `__repr__` metódusok"
      ]
    },
    {
      "cell_type": "code",
      "execution_count": null,
      "metadata": {
        "id": "4KI-ijcEWBe7"
      },
      "outputs": [],
      "source": [
        "def as_set(seq):\n",
        "    return f\"{{{', '.join(map(str, seq))}}}\"\n",
        "\n",
        "def uf_str(self):\n",
        "    components = {}\n",
        "    for a in range(len(self.roots)):\n",
        "        ra = self.find(a)\n",
        "        if ra not in components:\n",
        "            components[ra] = []\n",
        "        components[ra].append(a)\n",
        "    return f\"{{{ ', '.join(map(as_set, components.values()))}}}\"\n",
        "\n",
        "def uf_repr(self):\n",
        "    return f\"{type(self).__name__}({len(self.roots)})\"\n",
        "\n",
        "# Így is lehet:\n",
        "UnionFind.__str__ = uf_str\n",
        "UnionFind.__repr__ = uf_repr"
      ]
    },
    {
      "cell_type": "code",
      "execution_count": null,
      "metadata": {
        "id": "_6zWMXXoWBe7"
      },
      "outputs": [],
      "source": [
        "uf = UnionFind(10)\n",
        "print(uf)\n",
        "uf.union(1, 2)\n",
        "print(uf)\n",
        "uf.union(5, 9)\n",
        "uf.union(6, 7)\n",
        "print(uf)\n",
        "\n",
        "uf"
      ]
    },
    {
      "cell_type": "markdown",
      "metadata": {
        "id": "4H_ofcIKWBe8"
      },
      "source": [
        "### További kérdések\n",
        "\n",
        "- Tegyük fel, hogy a komponensek száma érdekel minket. Hogyan oldanánk, meg, hogy konstans idő alatt megkaphassuk.\n",
        "- Tegyük fel, hogy a legnagyobb komponens méretet érdekel minket. Hogyan oldanánk, meg, hogy konstans idő alatt megkaphassuk.\n",
        "- Hogyan ellenőriznénk, hogy két partíció azonos?"
      ]
    },
    {
      "cell_type": "markdown",
      "metadata": {
        "id": "5z5T0WvKWBe8"
      },
      "source": [
        "# Faktoriális értékének közelítése"
      ]
    },
    {
      "cell_type": "markdown",
      "metadata": {
        "id": "2yIz4aLSWBe8"
      },
      "source": [
        "Mekkora $n!$, ha $n$ nagy?\n",
        "\n",
        "Ötlet:\n",
        "$$\n",
        "    \\log n! = \\sum_{k=1}^n \\log k \\approx \\int_1^{?} \\log x dx = \\left[ x(\\log x-1)\\right]_{x=1}^{x=?}\n",
        "$$"
      ]
    },
    {
      "cell_type": "code",
      "execution_count": null,
      "metadata": {
        "id": "fOby_hDIWBe8"
      },
      "outputs": [],
      "source": [
        "import matplotlib.pyplot as plt\n",
        "import math\n",
        "\n",
        "def subdivision(a, b, n):\n",
        "    d = (b-a)/n\n",
        "    return [a+i*d for i in range(n+1)]\n",
        "\n",
        "def add_function_curve(f, a, b, n=100):\n",
        "    xs = subdivision(a, b, n)\n",
        "    fxs = [f(x) for x in  xs]\n",
        "    plt.plot(xs, fxs, \"r-\")"
      ]
    },
    {
      "cell_type": "markdown",
      "metadata": {
        "id": "2_CMuY84WBe9"
      },
      "source": [
        "## Téglalap közelítés"
      ]
    },
    {
      "cell_type": "code",
      "execution_count": null,
      "metadata": {
        "id": "QsEnDOQSWBe9"
      },
      "outputs": [],
      "source": [
        "k_values = [k for k in range(1, 11)]\n",
        "for k in k_values:\n",
        "    plt.fill_between([k+i for k in k_values for i in range(2)], [math.log(k) for k in k_values for i in range(2)], color='lightblue')\n",
        "\n",
        "add_function_curve(math.log, 1, 11)\n"
      ]
    },
    {
      "cell_type": "markdown",
      "metadata": {
        "id": "uY-7qH3UWBe9"
      },
      "source": [
        "A hiba:"
      ]
    },
    {
      "cell_type": "code",
      "execution_count": null,
      "metadata": {
        "id": "FX1RzicWWBe9"
      },
      "outputs": [],
      "source": [
        "def primitive_function(x):\n",
        "    return x*(math.log(x)-1)\n",
        "\n",
        "def rectangle_error(k):\n",
        "    return primitive_function(k+1)-primitive_function(k)-math.log(k)\n",
        "\n",
        "def cummulative_error(n, error_fun=rectangle_error):\n",
        "    return sum(error_fun(k) for k in range(1, n+1))"
      ]
    },
    {
      "cell_type": "code",
      "execution_count": null,
      "metadata": {
        "id": "6zMNa_kGWBe-"
      },
      "outputs": [],
      "source": [
        "for n in [10, 100, 1000]:\n",
        "    print(f\"{n=}, {cummulative_error(n)=}\")"
      ]
    },
    {
      "cell_type": "markdown",
      "metadata": {
        "id": "7OK8TCc4WBe-"
      },
      "source": [
        "### Javítás, trapéz összeg közelítés"
      ]
    },
    {
      "cell_type": "markdown",
      "metadata": {
        "id": "IJl7-jPoWBe-"
      },
      "source": [
        "Téglalapok helyett minden egység intervallumon a beírt trapézt  használjuk."
      ]
    },
    {
      "cell_type": "code",
      "execution_count": null,
      "metadata": {
        "id": "1TQHgAXmWBe-"
      },
      "outputs": [],
      "source": [
        "k_values = [k for k in range(1, 11)]\n",
        "for k in k_values:\n",
        "    plt.fill_between(k_values, [math.log(k) for k in k_values], color='lightblue')\n",
        "\n",
        "add_function_curve(math.log, 1, 10)\n"
      ]
    },
    {
      "cell_type": "code",
      "execution_count": null,
      "metadata": {
        "id": "KZBPdKryWBe_"
      },
      "outputs": [],
      "source": [
        "def error_fun(x):\n",
        "    k, t = divmod(x, 1)\n",
        "    return math.log(x) - ((1-t)*math.log(k) + t*math.log(k+1))\n",
        "\n",
        "xs = subdivision(1, 10, 100)\n",
        "plt.fill_between(xs, [error_fun(x) for x in xs], color='lightblue')\n",
        "add_function_curve(error_fun, 1, 10, 500)\n"
      ]
    },
    {
      "cell_type": "code",
      "execution_count": null,
      "metadata": {
        "id": "yMyhvJslWBe_"
      },
      "outputs": [],
      "source": [
        "def modified_error_fun(x):\n",
        "    k = x//1\n",
        "    return k*k*error_fun(x)\n",
        "\n",
        "for a in [1, 100, 1000, 10000]:\n",
        "    b = a+10\n",
        "    xs = subdivision(a, b, 1000)\n",
        "\n",
        "    plt.fill_between(xs, [modified_error_fun(x) for x in xs], color='lightblue')\n",
        "    add_function_curve(modified_error_fun, a, b, 1000)\n",
        "    plt.show()"
      ]
    },
    {
      "cell_type": "code",
      "execution_count": null,
      "metadata": {
        "id": "JaIJnZ84WBe_"
      },
      "outputs": [],
      "source": [
        "def trapezoid_error(k):\n",
        "    return primitive_function(k+1)-primitive_function(k)-0.5*(math.log(k)+math.log(k+1))\n"
      ]
    },
    {
      "cell_type": "code",
      "execution_count": null,
      "metadata": {
        "id": "P2iAi_oXWBfB"
      },
      "outputs": [],
      "source": [
        "for n in [10, 100, 1000]:\n",
        "    print(f\"{n = :>4}, {cummulative_error(n, trapezoid_error) = :.8f}\")"
      ]
    },
    {
      "cell_type": "markdown",
      "metadata": {
        "id": "_hju5X-pWBfB"
      },
      "source": [
        "## Látszik, hogy a hiba lassan nő. Tudunk-e felső becslést adni rá?\n",
        "\n",
        "$$\n",
        "    \\int_{k}^{k+1} \\log x dx = \\int_0^1 \\log(k+x) dx\n",
        "$$\n",
        "\n",
        "A beírt trapéz területe integrállal\n",
        "\n",
        "$$\n",
        "    \\int_0^1 x\\log(k+1)+(1-x)\\log(k) dx\n",
        "$$\n",
        "\n",
        "Tudjuk-e becsülni a két integrandus különbségét?\n",
        "$$\n",
        "    \\log(k+x) - (x\\log(k+1)+(1-x)\\log(k))\n",
        "$$\n",
        "\n",
        "Átalakítás mindkét tagból levonunk $\\log(k)$-t:\n",
        "$$\n",
        "    \\log(k+x) - \\log(k) - (x\\log(k+1)+(1-x)\\log(k) -\\log(k)) = \\log(1+\\tfrac{x}{k}) - x\\log(1+\\tfrac1k)\n",
        "$$\n"
      ]
    },
    {
      "cell_type": "code",
      "execution_count": null,
      "metadata": {
        "id": "LH0El5BKWBfB"
      },
      "outputs": [],
      "source": [
        "xs = subdivision(0, 1, 100)\n",
        "\n",
        "for k in range(1, 4):\n",
        "    plt.fill_between(xs, [math.log(k+x)-math.log(k) for x in xs], [math.log(k+1)*x+math.log(k)*(1-x)-math.log(k) for x in xs], color=\"blue\")\n",
        "\n",
        "plt.grid()"
      ]
    },
    {
      "cell_type": "markdown",
      "metadata": {
        "id": "_uWc4TA4WBfB"
      },
      "source": [
        "A logaritmus függvény konkáv, a derivált monoton fogy ($1/x$) és egy beírt húr mindig a végponthoz behúzott érintő egyenesek alatt van.\n",
        "\n",
        "$$\n",
        "    \\log (1+x)\\leq x\n",
        "$$\n",
        "\n",
        "ezért\n",
        "$$\n",
        "    \\log(1+x/k) - x \\log(1+1/k)\\leq \\frac xk - x\\log(1+1/k) = x(1/k -\\log(1+1/k))\n",
        "$$\n",
        "\n",
        "de\n",
        "$$\n",
        "    \\log(1+1/k) = \\log\\frac{k+1}{k} = -\\log\\frac{k}{k+1} = -\\log(1-1/(k+1)) \\geq \\frac1{k+1}\n",
        "$$\n",
        "\n",
        "Így\n",
        "\n",
        "$$\n",
        "    \\log(1+x/k) - x \\log(1+1/k)\\leq x\\left(\\frac1k-\\frac1{k+1}\\right)\n",
        "$$\n",
        "és\n",
        "a $k$. intervallumon elkövetett hiba legfeljebb\n",
        "$$\n",
        "    \\int_{0}^{1} \\log(k+x) - ((1-x)\\log(k)+x\\log(k+1))dx = \\int_0^1 x dx \\left(\\frac1k -\\frac1{k+1}\\right)\n",
        "$$\n",
        "A hibák összege legfeljebb:\n",
        "$$\n",
        "    \\frac12 \\sum_{k=1}^\\infty \\frac1k -\\frac1{k+1} =\\frac12\n",
        "$$"
      ]
    },
    {
      "cell_type": "markdown",
      "metadata": {
        "id": "jzhW6O8zWBfB"
      },
      "source": [
        "Összefoglalva:\n",
        "\n",
        "$$\n",
        "    \\log n! = \\int_1^n \\log x dx + \\frac12 \\log n + r_n = n(\\log(n) - 1) + 1 + \\frac12 \\log (n) + r_n\n",
        "$$\n",
        "ahol $r_n$ a közelítés hibája az első $n$ intervallumon\n",
        "$$\n",
        "    r_n = \\sum_{k=1}^n \\int_0^1 \\log(1+x/k)-x\\log(1+1/k)dx \\leq 1/2\n",
        "$$\n",
        "$(r_n)$ monoton nő, ezért létezik limesze.\n",
        "\n",
        "Visszaírva faktoriálisra:\n",
        "\n",
        "$$\n",
        "    n! = \\sqrt{n}\\left(\\frac{n}{e}\\right)^n c_n\n",
        "$$\n",
        "ahol $c_n=e^{1+r_n}\\leq e^{3/2}$\n",
        "\n",
        "Analízisben a Wallis formula következményeként szerepel\n",
        "\n",
        "$$\n",
        "\\lim c_n = \\sqrt{2\\pi}\n",
        "$$\n",
        "\n",
        "Ez a nevezetes **Stirling** formula:\n",
        "$$\n",
        " \\frac{n!}{\\sqrt{2\\pi n}\\left(\\frac{n}{e}\\right)^n} \\to 1\n",
        "$$\n"
      ]
    },
    {
      "cell_type": "markdown",
      "metadata": {
        "id": "TQWo93kyWBfC"
      },
      "source": [
        "### Wallis formula középiskolai eszközökkel"
      ]
    },
    {
      "cell_type": "markdown",
      "metadata": {
        "id": "8UQn_hG6WBfC"
      },
      "source": [
        "\n",
        "Középiskolai tudást használva is kiszámíthatnánk a limeszt. Ehhez a\n",
        "$$\n",
        "    I_n = \\int_{0}^{\\pi/2} \\cos^n(x) dx\n",
        "$$\n",
        "sorozatot kellen vizsgálni. Parciálisan integrálva:\n",
        "$$\n",
        "    I_{n+2} = \\int_{0}^{\\pi/2} (1-\\sin^2x)\\cos^n(x) dx\n",
        "    = I_n - \\int_{0}^{\\pi/2} \\sin^2(x)\\cos^n(x) dx\n",
        "$$\n",
        "ahol\n",
        "$$\n",
        "\\begin{aligned}\n",
        "-\\int_{0}^{\\pi/2} \\sin^2(x)\\cos^n(x) dx\n",
        "& =\n",
        "\\frac1{n+1} \\int_{0}^{\\pi/2} \\sin(x)(\\cos^{n+1}(x))' dx\n",
        "\\\\\n",
        "&=\n",
        "\\frac{1}{n+1}\\left[\\sin(x)\\cos^{n+1}(x)\\right]_{x=0}^{x=\\pi/2}-\\frac{1}{n+1}\\int_0^{\\pi/2}\\cos^{n+2}(x)dx\n",
        "\\\\\n",
        "&= -\\frac{1}{n+1} I_{n+2}\n",
        "\\end{aligned}\n",
        "$$\n",
        "\n",
        "**Összefoglalva**:\n",
        "\n",
        "$$\n",
        "    I_{n+2} = \\int_{0}^{\\pi/2} (1-\\sin^2x)\\cos^n(x) dx\n",
        "    = I_n - \\frac{1}{n+1}I_{n+2} = \\frac{n+1}{n+2} I_n\n",
        "$$\n",
        "\n",
        "Ha $n=2k$ páros, akkor\n",
        "$$\n",
        "    I_{2k} = \\frac{2k-1}{2k} I_{2k-2} = \\frac{(2k-1)(2k-3)}{2k(2k-2)} I_{2k-4} =\\cdots=\\frac{(2k-1)!!}{2^k k!}I_0=\\frac{1}{2^{2k}}\\binom{2k}{k}\\frac{\\pi}2\n",
        "$$\n",
        "Ha $n=2k+1$ páratlan, akkor\n",
        "$$\n",
        "    I_{2k+1} = \\frac{2k}{2k-1} I_{2k-3} = \\frac{(2k)(2k-2)}{(2k+1)(2k-1)} I_{2k-3} =\\cdots=\\frac{2^k k!}{(2k+1)!!}I_1=\\frac{2^{2k}}{(2k+1)\\binom{2k}{k}}=\\frac{2^{2(k+1)}}{2(k+1)\\binom{2(k+1)}{k+1}}\n",
        "$$\n",
        "Mivel $(I_n)$ monoton fogyó:\n",
        "$$\n",
        "    I_{2k-1}=\\frac{2^{2k}}{2k\\binom{2k}{k}}  > I_{2k} = \\frac{1}{2^{2k}}\\binom{2k}{k}\\frac{\\pi}2  > I_{2k+1}= \\frac{2^k k!}{(2k+1)!!}I_1=\\frac{2^{2k}}{(2k+1)\\binom{2k}{k}}\n",
        "$$\n",
        "Átrendezés után\n",
        "$$\n",
        "\\frac{1}{2k\\pi/2} < \\left(\\frac{1}{2^{2k}}\\binom{2k}{k}\\right)^2 < \\frac{1}{(2k+1)\\pi/2}\n",
        "$$\n",
        "és\n",
        "$$\n",
        "    \\lim_{n\\to\\infty}\\sqrt{n} \\frac{1}{2^{2n}}\\binom{2n}{n} = \\frac{1}{\\sqrt{\\pi}}\n",
        "$$\n",
        "\n",
        "Másfelől a faktoriális közelítését használva:\n",
        "$$\n",
        "    \\sqrt{n}\\frac1{2^{2n}}\\binom{2n}{n}\n",
        "    = \\sqrt{n} \\frac1{2^{2n}} \\frac{c_{2n} \\sqrt{2n} \\left(\\frac{2n}{e}\\right)^{2n}}{c_n^2 n\\left(\\frac{n}{e}\\right)^{2n}}\n",
        "    \\to \\lim_{n\\to\\infty} \\frac{\\sqrt{2}c_{2n}}{c_n^2} = \\lim_{n\\to\\infty}\\frac{\\sqrt{2}}{c_n}=\\frac1{\\sqrt{\\pi}}\n",
        "$$\n",
        "amiből $\\lim_n c_n =\\sqrt{2\\pi}$.\n",
        "\n"
      ]
    },
    {
      "cell_type": "markdown",
      "metadata": {
        "id": "x04KOUjYWBfD"
      },
      "source": []
    }
  ],
  "metadata": {
    "kernelspec": {
      "display_name": "python3.10",
      "language": "python",
      "name": "python3"
    },
    "language_info": {
      "codemirror_mode": {
        "name": "ipython",
        "version": 3
      },
      "file_extension": ".py",
      "mimetype": "text/x-python",
      "name": "python",
      "nbconvert_exporter": "python",
      "pygments_lexer": "ipython3",
      "version": "3.10.12"
    },
    "colab": {
      "provenance": []
    }
  },
  "nbformat": 4,
  "nbformat_minor": 0
}