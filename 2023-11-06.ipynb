{
 "cells": [
  {
   "cell_type": "markdown",
   "metadata": {},
   "source": [
    "[![Open In Colab](https://colab.research.google.com/assets/colab-badge.svg)](https://colab.research.google.com/github/prokaj/elte-python-2023/blob/main/2023-11-06.ipynb)   "
   ]
  },
  {
   "cell_type": "markdown",
   "metadata": {},
   "source": [
    "Néhány import amit később használni fogunk:"
   ]
  },
  {
   "cell_type": "code",
   "execution_count": 1,
   "metadata": {},
   "outputs": [],
   "source": [
    "import importlib\n",
    "import math\n",
    "\n",
    "if importlib.util.find_spec('ipytest') is None:\n",
    "    ! pip install --quiet ipytest\n",
    "\n",
    "import ipytest\n",
    "\n",
    "ipytest.autoconfig()"
   ]
  },
  {
   "cell_type": "markdown",
   "metadata": {},
   "source": [
    "# Házi feladat"
   ]
  },
  {
   "cell_type": "markdown",
   "metadata": {},
   "source": [
    "### 1. feladat"
   ]
  },
  {
   "cell_type": "markdown",
   "metadata": {},
   "source": [
    "Adott egy dictionary, amiben hallgatók adatai szerepelnek. Minden neptun kódhoz két adat van feljegyezve, a név (`name`) és az előző félév tanulmányi átlaga (`avg`).\n",
    "\n",
    "Írjunk egy függvényt `list_students` névvel, aminek első paramétere a hallgatók adatait tartalmazó dictionary `students` névvel, a második pedig egy lebegő pontos szám a [1,5] intervallumból `min_avg` névvel, végül a visszatérési értéke azon hallgatók listája `name (neptun kód)` formátumban, akiknek az átlaga a megadott értéket elérte.\n",
    "\n",
    "A függvényünket lássuk el típus annotációval és adjuk hozzá a következő dokumentációs sztringet:\n",
    "\n",
    "```text\n",
    "list of students having at least min_avg result\n",
    "```\n",
    "\n",
    "A hallgatók neveit rendezzük lexikografikus sorrendbe.\n",
    "Pl.\n",
    "\n",
    "```python\n",
    "students = {\n",
    "    \"ACF234\": {\"name\": \"Kiss Lajos\", \"avg\": 3.5},\n",
    "    \"NBF4DF\": {\"name\": \"Nagy Blanka\" , \"avg\": 4.5},\n",
    "    \"KUDFGE\": {\"name\": \"Kiss Lajos\", \"avg\": 4.75},\n",
    "    \"BNDF23\": {\"name\": \"Boros Attila\", \"avg\": 2.75},\n",
    "    \"ADGTLE\": {\"name\": \"Poros Elek\", \"avg\": 2.0},\n",
    "}\n",
    "list_students(students, 4)\n",
    "# -> [\"Kiss Lajos (KUDFGE)\", \"Nagy Blanka (NBF4DF)\"]\n",
    "```\n",
    "\n",
    "A fenti függvény mellett írjunk teszt függvényt is, ami legalább az alábbi esetekre ellenőrzi a helyes működést.\n",
    "\n",
    "- A hallgatók adatait tartalmazó dictionary üres.\n",
    "\n",
    "- Legalább öt hallgatót tartalmazó adatsorból senki sincs aki eléri a megadott küszöböt.\n",
    "\n",
    "- Legalább öt hallgatót tartalmazó adatsorból mindenki eléri a megadott küszöböt.\n",
    "\n",
    "- Legalább öt hallgatót tartalmazó adatsorból körülbelül a hallgatók fele éri el a megadott küszöböt.\n",
    "\n",
    "- Van olyan hallgató, akinek tanulmányi átlaga pont a megadott küszöb."
   ]
  },
  {
   "cell_type": "code",
   "execution_count": 2,
   "metadata": {},
   "outputs": [],
   "source": [
    "def list_students(students: dict, min_avg: float) -> list:\n",
    "    \"\"\"list of students having at least min_avg result\"\"\"\n",
    "    pass"
   ]
  },
  {
   "cell_type": "code",
   "execution_count": 3,
   "metadata": {},
   "outputs": [
    {
     "name": "stdout",
     "output_type": "stream",
     "text": [
      "\u001b[31mF\u001b[0m\u001b[31mF\u001b[0m\u001b[31mF\u001b[0m\u001b[31mF\u001b[0m\u001b[31mF\u001b[0m\u001b[31m                                                                                        [100%]\u001b[0m\n",
      "============================================= FAILURES =============================================\n",
      "\u001b[31m\u001b[1m____________________________________________ test_empty ____________________________________________\u001b[0m\n",
      "\n",
      "    \u001b[94mdef\u001b[39;49;00m \u001b[92mtest_empty\u001b[39;49;00m():\u001b[90m\u001b[39;49;00m\n",
      ">       \u001b[94massert\u001b[39;49;00m list_students({}, \u001b[94m2.0\u001b[39;49;00m) == []\u001b[90m\u001b[39;49;00m\n",
      "\u001b[1m\u001b[31mE       assert None == []\u001b[0m\n",
      "\u001b[1m\u001b[31mE        +  where None = list_students({}, 2.0)\u001b[0m\n",
      "\n",
      "\u001b[1m\u001b[31m/tmp/ipykernel_243595/1445788677.py\u001b[0m:2: AssertionError\n",
      "\u001b[31m\u001b[1m________________________________________ test_min_avg_high _________________________________________\u001b[0m\n",
      "\n",
      "    \u001b[94mdef\u001b[39;49;00m \u001b[92mtest_min_avg_high\u001b[39;49;00m():\u001b[90m\u001b[39;49;00m\n",
      "        students = {\u001b[90m\u001b[39;49;00m\n",
      "            \u001b[33m\"\u001b[39;49;00m\u001b[33mACF234\u001b[39;49;00m\u001b[33m\"\u001b[39;49;00m: {\u001b[33m\"\u001b[39;49;00m\u001b[33mname\u001b[39;49;00m\u001b[33m\"\u001b[39;49;00m: \u001b[33m\"\u001b[39;49;00m\u001b[33mKiss Lajos\u001b[39;49;00m\u001b[33m\"\u001b[39;49;00m, \u001b[33m\"\u001b[39;49;00m\u001b[33mavg\u001b[39;49;00m\u001b[33m\"\u001b[39;49;00m: \u001b[94m3.5\u001b[39;49;00m},\u001b[90m\u001b[39;49;00m\n",
      "            \u001b[33m\"\u001b[39;49;00m\u001b[33mNBF4DF\u001b[39;49;00m\u001b[33m\"\u001b[39;49;00m: {\u001b[33m\"\u001b[39;49;00m\u001b[33mname\u001b[39;49;00m\u001b[33m\"\u001b[39;49;00m: \u001b[33m\"\u001b[39;49;00m\u001b[33mNagy Blanka\u001b[39;49;00m\u001b[33m\"\u001b[39;49;00m , \u001b[33m\"\u001b[39;49;00m\u001b[33mavg\u001b[39;49;00m\u001b[33m\"\u001b[39;49;00m: \u001b[94m4.5\u001b[39;49;00m},\u001b[90m\u001b[39;49;00m\n",
      "            \u001b[33m\"\u001b[39;49;00m\u001b[33mKUDFGE\u001b[39;49;00m\u001b[33m\"\u001b[39;49;00m: {\u001b[33m\"\u001b[39;49;00m\u001b[33mname\u001b[39;49;00m\u001b[33m\"\u001b[39;49;00m: \u001b[33m\"\u001b[39;49;00m\u001b[33mKiss Lajos\u001b[39;49;00m\u001b[33m\"\u001b[39;49;00m, \u001b[33m\"\u001b[39;49;00m\u001b[33mavg\u001b[39;49;00m\u001b[33m\"\u001b[39;49;00m: \u001b[94m4.75\u001b[39;49;00m},\u001b[90m\u001b[39;49;00m\n",
      "            \u001b[33m\"\u001b[39;49;00m\u001b[33mBNDF23\u001b[39;49;00m\u001b[33m\"\u001b[39;49;00m: {\u001b[33m\"\u001b[39;49;00m\u001b[33mname\u001b[39;49;00m\u001b[33m\"\u001b[39;49;00m: \u001b[33m\"\u001b[39;49;00m\u001b[33mBoros Attila\u001b[39;49;00m\u001b[33m\"\u001b[39;49;00m, \u001b[33m\"\u001b[39;49;00m\u001b[33mavg\u001b[39;49;00m\u001b[33m\"\u001b[39;49;00m: \u001b[94m2.75\u001b[39;49;00m},\u001b[90m\u001b[39;49;00m\n",
      "            \u001b[33m\"\u001b[39;49;00m\u001b[33mADGTLE\u001b[39;49;00m\u001b[33m\"\u001b[39;49;00m: {\u001b[33m\"\u001b[39;49;00m\u001b[33mname\u001b[39;49;00m\u001b[33m\"\u001b[39;49;00m: \u001b[33m\"\u001b[39;49;00m\u001b[33mPoros Elek\u001b[39;49;00m\u001b[33m\"\u001b[39;49;00m, \u001b[33m\"\u001b[39;49;00m\u001b[33mavg\u001b[39;49;00m\u001b[33m\"\u001b[39;49;00m: \u001b[94m2.0\u001b[39;49;00m},\u001b[90m\u001b[39;49;00m\n",
      "        }\u001b[90m\u001b[39;49;00m\n",
      ">       \u001b[94massert\u001b[39;49;00m list_students(students, \u001b[94m4.8\u001b[39;49;00m) == []\u001b[90m\u001b[39;49;00m\n",
      "\u001b[1m\u001b[31mE       AssertionError: assert None == []\u001b[0m\n",
      "\u001b[1m\u001b[31mE        +  where None = list_students({'ACF234': {'avg': 3.5, 'name': 'Kiss Lajos'}, 'ADGTLE': {'avg': 2.0, 'name': 'Poros Elek'}, 'BNDF23': {'avg': 2.75, 'name': 'Boros Attila'}, 'KUDFGE': {'avg': 4.75, 'name': 'Kiss Lajos'}, ...}, 4.8)\u001b[0m\n",
      "\n",
      "\u001b[1m\u001b[31m/tmp/ipykernel_243595/1445788677.py\u001b[0m:12: AssertionError\n",
      "\u001b[31m\u001b[1m_________________________________________ test_min_avg_low _________________________________________\u001b[0m\n",
      "\n",
      "    \u001b[94mdef\u001b[39;49;00m \u001b[92mtest_min_avg_low\u001b[39;49;00m():\u001b[90m\u001b[39;49;00m\n",
      "        students = {\u001b[90m\u001b[39;49;00m\n",
      "            \u001b[33m\"\u001b[39;49;00m\u001b[33mACF234\u001b[39;49;00m\u001b[33m\"\u001b[39;49;00m: {\u001b[33m\"\u001b[39;49;00m\u001b[33mname\u001b[39;49;00m\u001b[33m\"\u001b[39;49;00m: \u001b[33m\"\u001b[39;49;00m\u001b[33mKiss Lajos\u001b[39;49;00m\u001b[33m\"\u001b[39;49;00m, \u001b[33m\"\u001b[39;49;00m\u001b[33mavg\u001b[39;49;00m\u001b[33m\"\u001b[39;49;00m: \u001b[94m3.5\u001b[39;49;00m},\u001b[90m\u001b[39;49;00m\n",
      "            \u001b[33m\"\u001b[39;49;00m\u001b[33mNBF4DF\u001b[39;49;00m\u001b[33m\"\u001b[39;49;00m: {\u001b[33m\"\u001b[39;49;00m\u001b[33mname\u001b[39;49;00m\u001b[33m\"\u001b[39;49;00m: \u001b[33m\"\u001b[39;49;00m\u001b[33mNagy Blanka\u001b[39;49;00m\u001b[33m\"\u001b[39;49;00m , \u001b[33m\"\u001b[39;49;00m\u001b[33mavg\u001b[39;49;00m\u001b[33m\"\u001b[39;49;00m: \u001b[94m4.5\u001b[39;49;00m},\u001b[90m\u001b[39;49;00m\n",
      "            \u001b[33m\"\u001b[39;49;00m\u001b[33mKUDFGE\u001b[39;49;00m\u001b[33m\"\u001b[39;49;00m: {\u001b[33m\"\u001b[39;49;00m\u001b[33mname\u001b[39;49;00m\u001b[33m\"\u001b[39;49;00m: \u001b[33m\"\u001b[39;49;00m\u001b[33mKiss Lajos\u001b[39;49;00m\u001b[33m\"\u001b[39;49;00m, \u001b[33m\"\u001b[39;49;00m\u001b[33mavg\u001b[39;49;00m\u001b[33m\"\u001b[39;49;00m: \u001b[94m4.75\u001b[39;49;00m},\u001b[90m\u001b[39;49;00m\n",
      "            \u001b[33m\"\u001b[39;49;00m\u001b[33mBNDF23\u001b[39;49;00m\u001b[33m\"\u001b[39;49;00m: {\u001b[33m\"\u001b[39;49;00m\u001b[33mname\u001b[39;49;00m\u001b[33m\"\u001b[39;49;00m: \u001b[33m\"\u001b[39;49;00m\u001b[33mBoros Attila\u001b[39;49;00m\u001b[33m\"\u001b[39;49;00m, \u001b[33m\"\u001b[39;49;00m\u001b[33mavg\u001b[39;49;00m\u001b[33m\"\u001b[39;49;00m: \u001b[94m2.75\u001b[39;49;00m},\u001b[90m\u001b[39;49;00m\n",
      "            \u001b[33m\"\u001b[39;49;00m\u001b[33mADGTLE\u001b[39;49;00m\u001b[33m\"\u001b[39;49;00m: {\u001b[33m\"\u001b[39;49;00m\u001b[33mname\u001b[39;49;00m\u001b[33m\"\u001b[39;49;00m: \u001b[33m\"\u001b[39;49;00m\u001b[33mPoros Elek\u001b[39;49;00m\u001b[33m\"\u001b[39;49;00m, \u001b[33m\"\u001b[39;49;00m\u001b[33mavg\u001b[39;49;00m\u001b[33m\"\u001b[39;49;00m: \u001b[94m2.0\u001b[39;49;00m},\u001b[90m\u001b[39;49;00m\n",
      "        }\u001b[90m\u001b[39;49;00m\n",
      "        list_of_students = \u001b[96msorted\u001b[39;49;00m((student[\u001b[33m'\u001b[39;49;00m\u001b[33mname\u001b[39;49;00m\u001b[33m'\u001b[39;49;00m], neptun_id) \u001b[94mfor\u001b[39;49;00m neptun_id, student \u001b[95min\u001b[39;49;00m students.items())\u001b[90m\u001b[39;49;00m\n",
      "    \u001b[90m\u001b[39;49;00m\n",
      ">       \u001b[94massert\u001b[39;49;00m list_students(students, \u001b[94m1.8\u001b[39;49;00m) == [\u001b[33mf\u001b[39;49;00m\u001b[33m\"\u001b[39;49;00m\u001b[33m{\u001b[39;49;00mname\u001b[33m}\u001b[39;49;00m\u001b[33m (\u001b[39;49;00m\u001b[33m{\u001b[39;49;00mneptun\u001b[33m}\u001b[39;49;00m\u001b[33m)\u001b[39;49;00m\u001b[33m\"\u001b[39;49;00m \u001b[94mfor\u001b[39;49;00m name, neptun \u001b[95min\u001b[39;49;00m list_of_students]\u001b[90m\u001b[39;49;00m\n",
      "\u001b[1m\u001b[31mE       AssertionError: assert None == ['Boros Attila (BNDF23)', 'Kiss Lajos (ACF234)', 'Kiss Lajos (KUDFGE)', 'Nagy Blanka (NBF4DF)', 'Poros Elek (ADGTLE)']\u001b[0m\n",
      "\u001b[1m\u001b[31mE        +  where None = list_students({'ACF234': {'avg': 3.5, 'name': 'Kiss Lajos'}, 'ADGTLE': {'avg': 2.0, 'name': 'Poros Elek'}, 'BNDF23': {'avg': 2.75, 'name': 'Boros Attila'}, 'KUDFGE': {'avg': 4.75, 'name': 'Kiss Lajos'}, ...}, 1.8)\u001b[0m\n",
      "\n",
      "\u001b[1m\u001b[31m/tmp/ipykernel_243595/1445788677.py\u001b[0m:24: AssertionError\n",
      "\u001b[31m\u001b[1m____________________________________________ test_half _____________________________________________\u001b[0m\n",
      "\n",
      "    \u001b[94mdef\u001b[39;49;00m \u001b[92mtest_half\u001b[39;49;00m():\u001b[90m\u001b[39;49;00m\n",
      "        students = {\u001b[90m\u001b[39;49;00m\n",
      "            \u001b[33m\"\u001b[39;49;00m\u001b[33mACF234\u001b[39;49;00m\u001b[33m\"\u001b[39;49;00m: {\u001b[33m\"\u001b[39;49;00m\u001b[33mname\u001b[39;49;00m\u001b[33m\"\u001b[39;49;00m: \u001b[33m\"\u001b[39;49;00m\u001b[33mKiss Lajos\u001b[39;49;00m\u001b[33m\"\u001b[39;49;00m, \u001b[33m\"\u001b[39;49;00m\u001b[33mavg\u001b[39;49;00m\u001b[33m\"\u001b[39;49;00m: \u001b[94m3.5\u001b[39;49;00m},\u001b[90m\u001b[39;49;00m\n",
      "            \u001b[33m\"\u001b[39;49;00m\u001b[33mNBF4DF\u001b[39;49;00m\u001b[33m\"\u001b[39;49;00m: {\u001b[33m\"\u001b[39;49;00m\u001b[33mname\u001b[39;49;00m\u001b[33m\"\u001b[39;49;00m: \u001b[33m\"\u001b[39;49;00m\u001b[33mNagy Blanka\u001b[39;49;00m\u001b[33m\"\u001b[39;49;00m , \u001b[33m\"\u001b[39;49;00m\u001b[33mavg\u001b[39;49;00m\u001b[33m\"\u001b[39;49;00m: \u001b[94m4.5\u001b[39;49;00m},\u001b[90m\u001b[39;49;00m\n",
      "            \u001b[33m\"\u001b[39;49;00m\u001b[33mKUDFGE\u001b[39;49;00m\u001b[33m\"\u001b[39;49;00m: {\u001b[33m\"\u001b[39;49;00m\u001b[33mname\u001b[39;49;00m\u001b[33m\"\u001b[39;49;00m: \u001b[33m\"\u001b[39;49;00m\u001b[33mKiss Lajos\u001b[39;49;00m\u001b[33m\"\u001b[39;49;00m, \u001b[33m\"\u001b[39;49;00m\u001b[33mavg\u001b[39;49;00m\u001b[33m\"\u001b[39;49;00m: \u001b[94m4.75\u001b[39;49;00m},\u001b[90m\u001b[39;49;00m\n",
      "            \u001b[33m\"\u001b[39;49;00m\u001b[33mBNDF23\u001b[39;49;00m\u001b[33m\"\u001b[39;49;00m: {\u001b[33m\"\u001b[39;49;00m\u001b[33mname\u001b[39;49;00m\u001b[33m\"\u001b[39;49;00m: \u001b[33m\"\u001b[39;49;00m\u001b[33mBoros Attila\u001b[39;49;00m\u001b[33m\"\u001b[39;49;00m, \u001b[33m\"\u001b[39;49;00m\u001b[33mavg\u001b[39;49;00m\u001b[33m\"\u001b[39;49;00m: \u001b[94m2.75\u001b[39;49;00m},\u001b[90m\u001b[39;49;00m\n",
      "            \u001b[33m\"\u001b[39;49;00m\u001b[33mADGTLE\u001b[39;49;00m\u001b[33m\"\u001b[39;49;00m: {\u001b[33m\"\u001b[39;49;00m\u001b[33mname\u001b[39;49;00m\u001b[33m\"\u001b[39;49;00m: \u001b[33m\"\u001b[39;49;00m\u001b[33mPoros Elek\u001b[39;49;00m\u001b[33m\"\u001b[39;49;00m, \u001b[33m\"\u001b[39;49;00m\u001b[33mavg\u001b[39;49;00m\u001b[33m\"\u001b[39;49;00m: \u001b[94m2.0\u001b[39;49;00m},\u001b[90m\u001b[39;49;00m\n",
      "        }\u001b[90m\u001b[39;49;00m\n",
      ">       \u001b[94massert\u001b[39;49;00m list_students(students, \u001b[94m3.2\u001b[39;49;00m) == [\u001b[90m\u001b[39;49;00m\n",
      "            \u001b[33m\"\u001b[39;49;00m\u001b[33mKiss Lajos (KUDFGE)\u001b[39;49;00m\u001b[33m\"\u001b[39;49;00m,\u001b[90m\u001b[39;49;00m\n",
      "            \u001b[33m\"\u001b[39;49;00m\u001b[33mNagy Blanka (NBF4DF)\u001b[39;49;00m\u001b[33m\"\u001b[39;49;00m,\u001b[90m\u001b[39;49;00m\n",
      "            \u001b[33m\"\u001b[39;49;00m\u001b[33mPoros Elek (ADGTLE)\u001b[39;49;00m\u001b[33m\"\u001b[39;49;00m\u001b[90m\u001b[39;49;00m\n",
      "            ]\u001b[90m\u001b[39;49;00m\n",
      "\u001b[1m\u001b[31mE       AssertionError: assert None == ['Kiss Lajos (KUDFGE)', 'Nagy Blanka (NBF4DF)', 'Poros Elek (ADGTLE)']\u001b[0m\n",
      "\u001b[1m\u001b[31mE        +  where None = list_students({'ACF234': {'avg': 3.5, 'name': 'Kiss Lajos'}, 'ADGTLE': {'avg': 2.0, 'name': 'Poros Elek'}, 'BNDF23': {'avg': 2.75, 'name': 'Boros Attila'}, 'KUDFGE': {'avg': 4.75, 'name': 'Kiss Lajos'}, ...}, 3.2)\u001b[0m\n",
      "\n",
      "\u001b[1m\u001b[31m/tmp/ipykernel_243595/1445788677.py\u001b[0m:35: AssertionError\n",
      "\u001b[31m\u001b[1m____________________________________________ test_equal ____________________________________________\u001b[0m\n",
      "\n",
      "    \u001b[94mdef\u001b[39;49;00m \u001b[92mtest_equal\u001b[39;49;00m():\u001b[90m\u001b[39;49;00m\n",
      "        students = {\u001b[90m\u001b[39;49;00m\n",
      "            \u001b[33m\"\u001b[39;49;00m\u001b[33mACF234\u001b[39;49;00m\u001b[33m\"\u001b[39;49;00m: {\u001b[33m\"\u001b[39;49;00m\u001b[33mname\u001b[39;49;00m\u001b[33m\"\u001b[39;49;00m: \u001b[33m\"\u001b[39;49;00m\u001b[33mKiss Lajos\u001b[39;49;00m\u001b[33m\"\u001b[39;49;00m, \u001b[33m\"\u001b[39;49;00m\u001b[33mavg\u001b[39;49;00m\u001b[33m\"\u001b[39;49;00m: \u001b[94m3.5\u001b[39;49;00m},\u001b[90m\u001b[39;49;00m\n",
      "            \u001b[33m\"\u001b[39;49;00m\u001b[33mNBF4DF\u001b[39;49;00m\u001b[33m\"\u001b[39;49;00m: {\u001b[33m\"\u001b[39;49;00m\u001b[33mname\u001b[39;49;00m\u001b[33m\"\u001b[39;49;00m: \u001b[33m\"\u001b[39;49;00m\u001b[33mNagy Blanka\u001b[39;49;00m\u001b[33m\"\u001b[39;49;00m , \u001b[33m\"\u001b[39;49;00m\u001b[33mavg\u001b[39;49;00m\u001b[33m\"\u001b[39;49;00m: \u001b[94m4.5\u001b[39;49;00m},\u001b[90m\u001b[39;49;00m\n",
      "            \u001b[33m\"\u001b[39;49;00m\u001b[33mKUDFGE\u001b[39;49;00m\u001b[33m\"\u001b[39;49;00m: {\u001b[33m\"\u001b[39;49;00m\u001b[33mname\u001b[39;49;00m\u001b[33m\"\u001b[39;49;00m: \u001b[33m\"\u001b[39;49;00m\u001b[33mKiss Lajos\u001b[39;49;00m\u001b[33m\"\u001b[39;49;00m, \u001b[33m\"\u001b[39;49;00m\u001b[33mavg\u001b[39;49;00m\u001b[33m\"\u001b[39;49;00m: \u001b[94m4.75\u001b[39;49;00m},\u001b[90m\u001b[39;49;00m\n",
      "            \u001b[33m\"\u001b[39;49;00m\u001b[33mBNDF23\u001b[39;49;00m\u001b[33m\"\u001b[39;49;00m: {\u001b[33m\"\u001b[39;49;00m\u001b[33mname\u001b[39;49;00m\u001b[33m\"\u001b[39;49;00m: \u001b[33m\"\u001b[39;49;00m\u001b[33mBoros Attila\u001b[39;49;00m\u001b[33m\"\u001b[39;49;00m, \u001b[33m\"\u001b[39;49;00m\u001b[33mavg\u001b[39;49;00m\u001b[33m\"\u001b[39;49;00m: \u001b[94m2.75\u001b[39;49;00m},\u001b[90m\u001b[39;49;00m\n",
      "            \u001b[33m\"\u001b[39;49;00m\u001b[33mADGTLE\u001b[39;49;00m\u001b[33m\"\u001b[39;49;00m: {\u001b[33m\"\u001b[39;49;00m\u001b[33mname\u001b[39;49;00m\u001b[33m\"\u001b[39;49;00m: \u001b[33m\"\u001b[39;49;00m\u001b[33mPoros Elek\u001b[39;49;00m\u001b[33m\"\u001b[39;49;00m, \u001b[33m\"\u001b[39;49;00m\u001b[33mavg\u001b[39;49;00m\u001b[33m\"\u001b[39;49;00m: \u001b[94m2.0\u001b[39;49;00m},\u001b[90m\u001b[39;49;00m\n",
      "        }\u001b[90m\u001b[39;49;00m\n",
      ">       \u001b[94massert\u001b[39;49;00m list_students(students, \u001b[94m3.5\u001b[39;49;00m) == [\u001b[90m\u001b[39;49;00m\n",
      "            \u001b[33m\"\u001b[39;49;00m\u001b[33mKiss Lajos (KUDFGE)\u001b[39;49;00m\u001b[33m\"\u001b[39;49;00m,\u001b[90m\u001b[39;49;00m\n",
      "            \u001b[33m\"\u001b[39;49;00m\u001b[33mNagy Blanka (NBF4DF)\u001b[39;49;00m\u001b[33m\"\u001b[39;49;00m,\u001b[90m\u001b[39;49;00m\n",
      "            \u001b[33m\"\u001b[39;49;00m\u001b[33mPoros Elek (ADGTLE)\u001b[39;49;00m\u001b[33m\"\u001b[39;49;00m\u001b[90m\u001b[39;49;00m\n",
      "            ]\u001b[90m\u001b[39;49;00m\n",
      "\u001b[1m\u001b[31mE       AssertionError: assert None == ['Kiss Lajos (KUDFGE)', 'Nagy Blanka (NBF4DF)', 'Poros Elek (ADGTLE)']\u001b[0m\n",
      "\u001b[1m\u001b[31mE        +  where None = list_students({'ACF234': {'avg': 3.5, 'name': 'Kiss Lajos'}, 'ADGTLE': {'avg': 2.0, 'name': 'Poros Elek'}, 'BNDF23': {'avg': 2.75, 'name': 'Boros Attila'}, 'KUDFGE': {'avg': 4.75, 'name': 'Kiss Lajos'}, ...}, 3.5)\u001b[0m\n",
      "\n",
      "\u001b[1m\u001b[31m/tmp/ipykernel_243595/1445788677.py\u001b[0m:49: AssertionError\n",
      "\u001b[36m\u001b[1m===================================== short test summary info ======================================\u001b[0m\n",
      "\u001b[31mFAILED\u001b[0m t_218f38344b43489aa6f6b7b3c87e207c.py::\u001b[1mtest_empty\u001b[0m - assert None == []\n",
      "\u001b[31mFAILED\u001b[0m t_218f38344b43489aa6f6b7b3c87e207c.py::\u001b[1mtest_min_avg_high\u001b[0m - AssertionError: assert None == []\n",
      "\u001b[31mFAILED\u001b[0m t_218f38344b43489aa6f6b7b3c87e207c.py::\u001b[1mtest_min_avg_low\u001b[0m - AssertionError: assert None == ['Boros Attila (BNDF23)', 'Kiss Lajos (ACF234)', 'Kiss Lajos (KU...\n",
      "\u001b[31mFAILED\u001b[0m t_218f38344b43489aa6f6b7b3c87e207c.py::\u001b[1mtest_half\u001b[0m - AssertionError: assert None == ['Kiss Lajos (KUDFGE)', 'Nagy Blanka (NBF4DF)', 'Poros Elek (ADG...\n",
      "\u001b[31mFAILED\u001b[0m t_218f38344b43489aa6f6b7b3c87e207c.py::\u001b[1mtest_equal\u001b[0m - AssertionError: assert None == ['Kiss Lajos (KUDFGE)', 'Nagy Blanka (NBF4DF)', 'Poros Elek (ADG...\n",
      "\u001b[31m\u001b[31m\u001b[1m5 failed\u001b[0m\u001b[31m in 0.18s\u001b[0m\u001b[0m\n"
     ]
    }
   ],
   "source": [
    "%%ipytest\n",
    "\n",
    "def test_empty():\n",
    "    assert list_students({}, 2.0) == []\n",
    "\n",
    "def test_min_avg_high():\n",
    "    students = {\n",
    "        \"ACF234\": {\"name\": \"Kiss Lajos\", \"avg\": 3.5},\n",
    "        \"NBF4DF\": {\"name\": \"Nagy Blanka\" , \"avg\": 4.5},\n",
    "        \"KUDFGE\": {\"name\": \"Kiss Lajos\", \"avg\": 4.75},\n",
    "        \"BNDF23\": {\"name\": \"Boros Attila\", \"avg\": 2.75},\n",
    "        \"ADGTLE\": {\"name\": \"Poros Elek\", \"avg\": 2.0},\n",
    "    }\n",
    "    assert list_students(students, 4.8) == []\n",
    "\n",
    "def test_min_avg_low():\n",
    "    students = {\n",
    "        \"ACF234\": {\"name\": \"Kiss Lajos\", \"avg\": 3.5},\n",
    "        \"NBF4DF\": {\"name\": \"Nagy Blanka\" , \"avg\": 4.5},\n",
    "        \"KUDFGE\": {\"name\": \"Kiss Lajos\", \"avg\": 4.75},\n",
    "        \"BNDF23\": {\"name\": \"Boros Attila\", \"avg\": 2.75},\n",
    "        \"ADGTLE\": {\"name\": \"Poros Elek\", \"avg\": 2.0},\n",
    "    }\n",
    "    list_of_students = sorted((student['name'], neptun_id) for neptun_id, student in students.items())\n",
    "\n",
    "    assert list_students(students, 1.8) == [f\"{name} ({neptun})\" for name, neptun in list_of_students]\n",
    "\n",
    "\n",
    "def test_half():\n",
    "    students = {\n",
    "        \"ACF234\": {\"name\": \"Kiss Lajos\", \"avg\": 3.5},\n",
    "        \"NBF4DF\": {\"name\": \"Nagy Blanka\" , \"avg\": 4.5},\n",
    "        \"KUDFGE\": {\"name\": \"Kiss Lajos\", \"avg\": 4.75},\n",
    "        \"BNDF23\": {\"name\": \"Boros Attila\", \"avg\": 2.75},\n",
    "        \"ADGTLE\": {\"name\": \"Poros Elek\", \"avg\": 2.0},\n",
    "    }\n",
    "    assert list_students(students, 3.2) == [\n",
    "        \"Kiss Lajos (KUDFGE)\", \n",
    "        \"Nagy Blanka (NBF4DF)\",\n",
    "        \"Poros Elek (ADGTLE)\"\n",
    "        ]\n",
    "\n",
    "def test_equal():\n",
    "    students = {\n",
    "        \"ACF234\": {\"name\": \"Kiss Lajos\", \"avg\": 3.5},\n",
    "        \"NBF4DF\": {\"name\": \"Nagy Blanka\" , \"avg\": 4.5},\n",
    "        \"KUDFGE\": {\"name\": \"Kiss Lajos\", \"avg\": 4.75},\n",
    "        \"BNDF23\": {\"name\": \"Boros Attila\", \"avg\": 2.75},\n",
    "        \"ADGTLE\": {\"name\": \"Poros Elek\", \"avg\": 2.0},\n",
    "    }\n",
    "    assert list_students(students, 3.5) == [\n",
    "        \"Kiss Lajos (KUDFGE)\", \n",
    "        \"Nagy Blanka (NBF4DF)\",\n",
    "        \"Poros Elek (ADGTLE)\"\n",
    "        ]\n",
    "\n"
   ]
  },
  {
   "cell_type": "markdown",
   "metadata": {},
   "source": [
    "### 2. feladat"
   ]
  },
  {
   "cell_type": "markdown",
   "metadata": {},
   "source": [
    "Gráfok csúcsait gyakran rövid sztringekkel címkézik. Írjunk egy függvényt, aminek egyetlen paramétere az élek listája, visszatérési értéke pedig egy dictionary, ami minden csúcshoz egy listát tárol a szomszédos csúcsok címkéivel.\n",
    "\n",
    "Többszörös él esetén is minden csúcs legfeljebb egyszer szerepeljen a listában. A szomszédokat lexikografikusan rendezve soroljuk fel!\n",
    "\n",
    "Pl. ha\n",
    "\n",
    "```python\n",
    "edges = [(\"A\", \"B\"), (\"C\", \"A\"), (\"A\", \"D\"), (\"C\",\"D\"), (\"D\", \"C\"), (\"E\", \"E\")]\n",
    "```\n",
    "\n",
    "és a függvényünk neve `neighbors`, akkor a `neighbors(edges)` hívás eredménye:\n",
    "\n",
    "```\n",
    "{\n",
    "    \"A\" : [\"B\", \"C\", \"D\"],\n",
    "    \"B\" : [\"A\"],\n",
    "    \"C\" : [\"A\", \"D\"],\n",
    "    \"D\" : [\"A\", \"C\"],\n",
    "    \"E\" : [\"E\"],\n",
    "}\n",
    "```\n",
    "\n",
    "Lássuk el a függvényt típus annotációval és adjuk hozzá a következő dokumentációs sztringet:\n",
    "\n",
    "```text\n",
    "sparse adjacency matrix of a graph given by edges\n",
    "```\n",
    "\n",
    "A fenti függvény mellett írjunk teszt függvényt is, ami legalább az alábbi esetekre ellenőrzi a helyes működést.\n",
    "\n",
    "- Az élek listája üres.\n",
    "\n",
    "- Legalább öt él esetén minden él hurok él.\n",
    "\n",
    "- Legalább négy pont esetén bármely két pont között megy él.\n",
    "\n",
    "- Legalább öt él esetén nem összefüggő a gráf.\n",
    "\n",
    "- Legalább öt él esetén van többszörös él."
   ]
  },
  {
   "cell_type": "code",
   "execution_count": 4,
   "metadata": {},
   "outputs": [],
   "source": [
    "def neighbors(edges: list) -> dict:\n",
    "    \"\"\"sparse adjacency matrix of a graph given by edges\"\"\"\n",
    "    pass"
   ]
  },
  {
   "cell_type": "code",
   "execution_count": 5,
   "metadata": {},
   "outputs": [
    {
     "name": "stdout",
     "output_type": "stream",
     "text": [
      "\u001b[31mF\u001b[0m\u001b[31mF\u001b[0m\u001b[31mF\u001b[0m\u001b[31mF\u001b[0m\u001b[31mF\u001b[0m\u001b[31m                                                                                        [100%]\u001b[0m\n",
      "============================================= FAILURES =============================================\n",
      "\u001b[31m\u001b[1m____________________________________________ test_empty ____________________________________________\u001b[0m\n",
      "\n",
      "    \u001b[94mdef\u001b[39;49;00m \u001b[92mtest_empty\u001b[39;49;00m():\u001b[90m\u001b[39;49;00m\n",
      ">       \u001b[94massert\u001b[39;49;00m neighbors([]) == {}\u001b[90m\u001b[39;49;00m\n",
      "\u001b[1m\u001b[31mE       assert None == {}\u001b[0m\n",
      "\u001b[1m\u001b[31mE        +  where None = neighbors([])\u001b[0m\n",
      "\n",
      "\u001b[1m\u001b[31m/tmp/ipykernel_243595/560695211.py\u001b[0m:4: AssertionError\n",
      "\u001b[31m\u001b[1m____________________________________________ test_loops ____________________________________________\u001b[0m\n",
      "\n",
      "    \u001b[94mdef\u001b[39;49;00m \u001b[92mtest_loops\u001b[39;49;00m():\u001b[90m\u001b[39;49;00m\n",
      "        edges = [(\u001b[33m\"\u001b[39;49;00m\u001b[33mA\u001b[39;49;00m\u001b[33m\"\u001b[39;49;00m, \u001b[33m\"\u001b[39;49;00m\u001b[33mA\u001b[39;49;00m\u001b[33m\"\u001b[39;49;00m), (\u001b[33m\"\u001b[39;49;00m\u001b[33mB\u001b[39;49;00m\u001b[33m\"\u001b[39;49;00m, \u001b[33m\"\u001b[39;49;00m\u001b[33mB\u001b[39;49;00m\u001b[33m\"\u001b[39;49;00m), (\u001b[33m\"\u001b[39;49;00m\u001b[33mC\u001b[39;49;00m\u001b[33m\"\u001b[39;49;00m, \u001b[33m\"\u001b[39;49;00m\u001b[33mC\u001b[39;49;00m\u001b[33m\"\u001b[39;49;00m), (\u001b[33m\"\u001b[39;49;00m\u001b[33mD\u001b[39;49;00m\u001b[33m\"\u001b[39;49;00m, \u001b[33m\"\u001b[39;49;00m\u001b[33mD\u001b[39;49;00m\u001b[33m\"\u001b[39;49;00m), (\u001b[33m\"\u001b[39;49;00m\u001b[33mE\u001b[39;49;00m\u001b[33m\"\u001b[39;49;00m, \u001b[33m\"\u001b[39;49;00m\u001b[33mE\u001b[39;49;00m\u001b[33m\"\u001b[39;49;00m)]\u001b[90m\u001b[39;49;00m\n",
      ">       \u001b[94massert\u001b[39;49;00m neighbors(edges) == {\u001b[90m\u001b[39;49;00m\n",
      "            \u001b[33m\"\u001b[39;49;00m\u001b[33mA\u001b[39;49;00m\u001b[33m\"\u001b[39;49;00m: [\u001b[33m\"\u001b[39;49;00m\u001b[33mA\u001b[39;49;00m\u001b[33m\"\u001b[39;49;00m],\u001b[90m\u001b[39;49;00m\n",
      "            \u001b[33m\"\u001b[39;49;00m\u001b[33mB\u001b[39;49;00m\u001b[33m\"\u001b[39;49;00m: [\u001b[33m\"\u001b[39;49;00m\u001b[33mB\u001b[39;49;00m\u001b[33m\"\u001b[39;49;00m],\u001b[90m\u001b[39;49;00m\n",
      "            \u001b[33m\"\u001b[39;49;00m\u001b[33mC\u001b[39;49;00m\u001b[33m\"\u001b[39;49;00m: [\u001b[33m\"\u001b[39;49;00m\u001b[33mC\u001b[39;49;00m\u001b[33m\"\u001b[39;49;00m],\u001b[90m\u001b[39;49;00m\n",
      "            \u001b[33m\"\u001b[39;49;00m\u001b[33mD\u001b[39;49;00m\u001b[33m\"\u001b[39;49;00m: [\u001b[33m\"\u001b[39;49;00m\u001b[33mD\u001b[39;49;00m\u001b[33m\"\u001b[39;49;00m],\u001b[90m\u001b[39;49;00m\n",
      "            \u001b[33m\"\u001b[39;49;00m\u001b[33mE\u001b[39;49;00m\u001b[33m\"\u001b[39;49;00m: [\u001b[33m\"\u001b[39;49;00m\u001b[33mE\u001b[39;49;00m\u001b[33m\"\u001b[39;49;00m]\u001b[90m\u001b[39;49;00m\n",
      "        }\u001b[90m\u001b[39;49;00m\n",
      "\u001b[1m\u001b[31mE       AssertionError: assert None == {'A': ['A'], 'B': ['B'], 'C': ['C'], 'D': ['D'], ...}\u001b[0m\n",
      "\u001b[1m\u001b[31mE        +  where None = neighbors([('A', 'A'), ('B', 'B'), ('C', 'C'), ('D', 'D'), ('E', 'E')])\u001b[0m\n",
      "\n",
      "\u001b[1m\u001b[31m/tmp/ipykernel_243595/560695211.py\u001b[0m:8: AssertionError\n",
      "\u001b[31m\u001b[1m__________________________________________ test_complete ___________________________________________\u001b[0m\n",
      "\n",
      "    \u001b[94mdef\u001b[39;49;00m \u001b[92mtest_complete\u001b[39;49;00m():\u001b[90m\u001b[39;49;00m\n",
      "        nodes = \u001b[33m\"\u001b[39;49;00m\u001b[33mABCDE\u001b[39;49;00m\u001b[33m\"\u001b[39;49;00m\u001b[90m\u001b[39;49;00m\n",
      ">       edges = [(a, b) \u001b[94mfor\u001b[39;49;00m a, b \u001b[95min\u001b[39;49;00m itertools.combinations(nodes, repeat=\u001b[94m2\u001b[39;49;00m)]\u001b[90m\u001b[39;49;00m\n",
      "\u001b[1m\u001b[31mE       TypeError: combinations() missing required argument 'r' (pos 2)\u001b[0m\n",
      "\n",
      "\u001b[1m\u001b[31m/tmp/ipykernel_243595/560695211.py\u001b[0m:18: TypeError\n",
      "\u001b[31m\u001b[1m________________________________________ test_not_connected ________________________________________\u001b[0m\n",
      "\n",
      "    \u001b[94mdef\u001b[39;49;00m \u001b[92mtest_not_connected\u001b[39;49;00m():\u001b[90m\u001b[39;49;00m\n",
      "        nodes = \u001b[33m\"\u001b[39;49;00m\u001b[33mABC\u001b[39;49;00m\u001b[33m\"\u001b[39;49;00m\u001b[90m\u001b[39;49;00m\n",
      ">       edges = [(a, b) \u001b[94mfor\u001b[39;49;00m a, b \u001b[95min\u001b[39;49;00m itertools.combinations(nodes, repeat=\u001b[94m2\u001b[39;49;00m)]\u001b[90m\u001b[39;49;00m\n",
      "\u001b[1m\u001b[31mE       TypeError: combinations() missing required argument 'r' (pos 2)\u001b[0m\n",
      "\n",
      "\u001b[1m\u001b[31m/tmp/ipykernel_243595/560695211.py\u001b[0m:24: TypeError\n",
      "\u001b[31m\u001b[1m________________________________________ test_multiple_edge ________________________________________\u001b[0m\n",
      "\n",
      "    \u001b[94mdef\u001b[39;49;00m \u001b[92mtest_multiple_edge\u001b[39;49;00m():\u001b[90m\u001b[39;49;00m\n",
      "        edges = [(\u001b[33m\"\u001b[39;49;00m\u001b[33mA\u001b[39;49;00m\u001b[33m\"\u001b[39;49;00m, \u001b[33m\"\u001b[39;49;00m\u001b[33mB\u001b[39;49;00m\u001b[33m\"\u001b[39;49;00m), (\u001b[33m\"\u001b[39;49;00m\u001b[33mC\u001b[39;49;00m\u001b[33m\"\u001b[39;49;00m, \u001b[33m\"\u001b[39;49;00m\u001b[33mA\u001b[39;49;00m\u001b[33m\"\u001b[39;49;00m), (\u001b[33m\"\u001b[39;49;00m\u001b[33mA\u001b[39;49;00m\u001b[33m\"\u001b[39;49;00m, \u001b[33m\"\u001b[39;49;00m\u001b[33mD\u001b[39;49;00m\u001b[33m\"\u001b[39;49;00m), (\u001b[33m\"\u001b[39;49;00m\u001b[33mC\u001b[39;49;00m\u001b[33m\"\u001b[39;49;00m,\u001b[33m\"\u001b[39;49;00m\u001b[33mD\u001b[39;49;00m\u001b[33m\"\u001b[39;49;00m), (\u001b[33m\"\u001b[39;49;00m\u001b[33mD\u001b[39;49;00m\u001b[33m\"\u001b[39;49;00m, \u001b[33m\"\u001b[39;49;00m\u001b[33mC\u001b[39;49;00m\u001b[33m\"\u001b[39;49;00m), (\u001b[33m\"\u001b[39;49;00m\u001b[33mE\u001b[39;49;00m\u001b[33m\"\u001b[39;49;00m, \u001b[33m\"\u001b[39;49;00m\u001b[33mE\u001b[39;49;00m\u001b[33m\"\u001b[39;49;00m)]\u001b[90m\u001b[39;49;00m\n",
      ">       \u001b[94massert\u001b[39;49;00m neighbors(edges) == {\u001b[90m\u001b[39;49;00m\n",
      "            \u001b[33m\"\u001b[39;49;00m\u001b[33mA\u001b[39;49;00m\u001b[33m\"\u001b[39;49;00m : [\u001b[33m\"\u001b[39;49;00m\u001b[33mB\u001b[39;49;00m\u001b[33m\"\u001b[39;49;00m, \u001b[33m\"\u001b[39;49;00m\u001b[33mC\u001b[39;49;00m\u001b[33m\"\u001b[39;49;00m, \u001b[33m\"\u001b[39;49;00m\u001b[33mD\u001b[39;49;00m\u001b[33m\"\u001b[39;49;00m],\u001b[90m\u001b[39;49;00m\n",
      "            \u001b[33m\"\u001b[39;49;00m\u001b[33mB\u001b[39;49;00m\u001b[33m\"\u001b[39;49;00m : [\u001b[33m\"\u001b[39;49;00m\u001b[33mA\u001b[39;49;00m\u001b[33m\"\u001b[39;49;00m],\u001b[90m\u001b[39;49;00m\n",
      "            \u001b[33m\"\u001b[39;49;00m\u001b[33mC\u001b[39;49;00m\u001b[33m\"\u001b[39;49;00m : [\u001b[33m\"\u001b[39;49;00m\u001b[33mA\u001b[39;49;00m\u001b[33m\"\u001b[39;49;00m, \u001b[33m\"\u001b[39;49;00m\u001b[33mD\u001b[39;49;00m\u001b[33m\"\u001b[39;49;00m],\u001b[90m\u001b[39;49;00m\n",
      "            \u001b[33m\"\u001b[39;49;00m\u001b[33mD\u001b[39;49;00m\u001b[33m\"\u001b[39;49;00m : [\u001b[33m\"\u001b[39;49;00m\u001b[33mA\u001b[39;49;00m\u001b[33m\"\u001b[39;49;00m, \u001b[33m\"\u001b[39;49;00m\u001b[33mC\u001b[39;49;00m\u001b[33m\"\u001b[39;49;00m],\u001b[90m\u001b[39;49;00m\n",
      "            \u001b[33m\"\u001b[39;49;00m\u001b[33mE\u001b[39;49;00m\u001b[33m\"\u001b[39;49;00m : [\u001b[33m\"\u001b[39;49;00m\u001b[33mE\u001b[39;49;00m\u001b[33m\"\u001b[39;49;00m],\u001b[90m\u001b[39;49;00m\n",
      "        }\u001b[90m\u001b[39;49;00m\n",
      "\u001b[1m\u001b[31mE       AssertionError: assert None == {'A': ['B', 'C', 'D'], 'B': ['A'], 'C': ['A', 'D'], 'D': ['A', 'C'], ...}\u001b[0m\n",
      "\u001b[1m\u001b[31mE        +  where None = neighbors([('A', 'B'), ('C', 'A'), ('A', 'D'), ('C', 'D'), ('D', 'C'), ('E', 'E')])\u001b[0m\n",
      "\n",
      "\u001b[1m\u001b[31m/tmp/ipykernel_243595/560695211.py\u001b[0m:35: AssertionError\n",
      "\u001b[36m\u001b[1m===================================== short test summary info ======================================\u001b[0m\n",
      "\u001b[31mFAILED\u001b[0m t_218f38344b43489aa6f6b7b3c87e207c.py::\u001b[1mtest_empty\u001b[0m - assert None == {}\n",
      "\u001b[31mFAILED\u001b[0m t_218f38344b43489aa6f6b7b3c87e207c.py::\u001b[1mtest_loops\u001b[0m - AssertionError: assert None == {'A': ['A'], 'B': ['B'], 'C': ['C'], 'D': ['D'], ...}\n",
      "\u001b[31mFAILED\u001b[0m t_218f38344b43489aa6f6b7b3c87e207c.py::\u001b[1mtest_complete\u001b[0m - TypeError: combinations() missing required argument 'r' (pos 2)\n",
      "\u001b[31mFAILED\u001b[0m t_218f38344b43489aa6f6b7b3c87e207c.py::\u001b[1mtest_not_connected\u001b[0m - TypeError: combinations() missing required argument 'r' (pos 2)\n",
      "\u001b[31mFAILED\u001b[0m t_218f38344b43489aa6f6b7b3c87e207c.py::\u001b[1mtest_multiple_edge\u001b[0m - AssertionError: assert None == {'A': ['B', 'C', 'D'], 'B': ['A'], 'C': ['A', 'D'], 'D': ['A', '...\n",
      "\u001b[31m\u001b[31m\u001b[1m5 failed\u001b[0m\u001b[31m in 0.03s\u001b[0m\u001b[0m\n"
     ]
    }
   ],
   "source": [
    "%%ipytest\n",
    "\n",
    "import itertools\n",
    "\n",
    "def test_empty():\n",
    "    assert neighbors([]) == {}\n",
    "\n",
    "def test_loops():\n",
    "    edges = [(\"A\", \"A\"), (\"B\", \"B\"), (\"C\", \"C\"), (\"D\", \"D\"), (\"E\", \"E\")]\n",
    "    assert neighbors(edges) == {\n",
    "        \"A\": [\"A\"], \n",
    "        \"B\": [\"B\"], \n",
    "        \"C\": [\"C\"],\n",
    "        \"D\": [\"D\"], \n",
    "        \"E\": [\"E\"]\n",
    "    }\n",
    "    \n",
    "def test_complete():\n",
    "    nodes = \"ABCDE\"\n",
    "    edges = [(a, b) for a, b in itertools.combinations(nodes, repeat=2)]\n",
    "    result = {a: [b for b in nodes if b != a] for a in nodes}\n",
    "    assert neighbors(edges) == result\n",
    "\n",
    "def test_not_connected():\n",
    "    nodes = \"ABC\"\n",
    "    edges = [(a, b) for a, b in itertools.combinations(nodes, repeat=2)]\n",
    "    result = {a: [b for b in nodes if b != a] for a in nodes}\n",
    "\n",
    "    nodes = \"DEF\"\n",
    "    edges.extend((a, b) for a, b in itertools.combinations(nodes, repeat=2))\n",
    "    result.update({a: [b for b in nodes if b != a] for a in nodes})\n",
    "    \n",
    "    assert neighbors(edges) == result\n",
    "\n",
    "def test_multiple_edge():\n",
    "    edges = [(\"A\", \"B\"), (\"C\", \"A\"), (\"A\", \"D\"), (\"C\",\"D\"), (\"D\", \"C\"), (\"E\", \"E\")]\n",
    "    assert neighbors(edges) == {\n",
    "        \"A\" : [\"B\", \"C\", \"D\"],\n",
    "        \"B\" : [\"A\"],\n",
    "        \"C\" : [\"A\", \"D\"],\n",
    "        \"D\" : [\"A\", \"C\"],\n",
    "        \"E\" : [\"E\"],\n",
    "    }"
   ]
  },
  {
   "cell_type": "markdown",
   "metadata": {},
   "source": [
    "### 3. feladat"
   ]
  },
  {
   "cell_type": "markdown",
   "metadata": {},
   "source": [
    "Éleivel adott egy élsúlyozott gráf. Írjunk egy függvényt, ami minden csúcsra kiszámolja a hozzá csatlakozó élek összsúlyát. A függvény egyetlen argumentuma egy lista, aminek elemei számhármasok `(a, b, w)` alakban. `a` és `b` az él két végpontja, `w` az `(a,b)` él súlya. Többszörös élek előfordulhatnak.\n",
    "\n",
    "A függvény visszatérési értéke egy dictionary, csúcsok a hozzájuk tartozó összsúllyal.\n",
    "pl. ha\n",
    "\n",
    "```python\n",
    "edges =  [(100, 200, 1), (100, 200, 2), (100, 1, -1), (1, 1, 5)]\n",
    "```\n",
    "\n",
    "és a függvényt `node_weight`-nek hívjuk, akkor\n",
    "\n",
    "```python\n",
    "node_weight(edges)\n",
    "```\n",
    "\n",
    "eredménye a következő dictionary\n",
    "\n",
    "```\n",
    "{100: 2, 200: 3, 1: 4}\n",
    "```\n",
    "\n",
    "Vegyük észre a hurok él hatását.\n",
    "\n",
    "Lássuk el a függvényt típus annotációval és adjuk hozzá a következő dokumentációs sztringet:\n",
    "\n",
    "```text\n",
    "node weights from edge weights\n",
    "```\n",
    "\n",
    "A fenti függvény mellett írjunk teszt függvényt is, ami legalább az alábbi esetekre ellenőrzi a helyes működést.\n",
    "\n",
    "- Az élek listája üres.\n",
    "\n",
    "- Legalább öt él esetén van hurok él.\n",
    "\n",
    "- Legalább öt él esetén minden élsúly 1.\n",
    "\n",
    "- Legalább öt él esetén az élsúlyok ,,véletlenszerűek”.\n",
    "\n",
    "- Legalább öt él esetén van többszörös él."
   ]
  },
  {
   "cell_type": "code",
   "execution_count": 6,
   "metadata": {},
   "outputs": [],
   "source": [
    "def node_weight(edges: list) -> dict:\n",
    "    \"\"\"node weights from edge weights\"\"\"\n",
    "    pass"
   ]
  },
  {
   "cell_type": "code",
   "execution_count": 7,
   "metadata": {},
   "outputs": [
    {
     "name": "stdout",
     "output_type": "stream",
     "text": [
      "\u001b[31mF\u001b[0m\u001b[31mF\u001b[0m\u001b[31mF\u001b[0m\u001b[31m                                                                                          [100%]\u001b[0m\n",
      "============================================= FAILURES =============================================\n",
      "\u001b[31m\u001b[1m____________________________________________ test_empty ____________________________________________\u001b[0m\n",
      "\n",
      "    \u001b[94mdef\u001b[39;49;00m \u001b[92mtest_empty\u001b[39;49;00m():\u001b[90m\u001b[39;49;00m\n",
      ">       \u001b[94massert\u001b[39;49;00m node_weight([]) == {}\u001b[90m\u001b[39;49;00m\n",
      "\u001b[1m\u001b[31mE       assert None == {}\u001b[0m\n",
      "\u001b[1m\u001b[31mE        +  where None = node_weight([])\u001b[0m\n",
      "\n",
      "\u001b[1m\u001b[31m/tmp/ipykernel_243595/2912988265.py\u001b[0m:2: AssertionError\n",
      "\u001b[31m\u001b[1m____________________________________________ test_loop _____________________________________________\u001b[0m\n",
      "\n",
      "    \u001b[94mdef\u001b[39;49;00m \u001b[92mtest_loop\u001b[39;49;00m():\u001b[90m\u001b[39;49;00m\n",
      "        edges =  [(\u001b[94m100\u001b[39;49;00m, \u001b[94m200\u001b[39;49;00m, \u001b[94m1\u001b[39;49;00m), (\u001b[94m100\u001b[39;49;00m, \u001b[94m200\u001b[39;49;00m, \u001b[94m2\u001b[39;49;00m), (\u001b[94m100\u001b[39;49;00m, \u001b[94m1\u001b[39;49;00m, -\u001b[94m1\u001b[39;49;00m), (\u001b[94m1\u001b[39;49;00m, \u001b[94m1\u001b[39;49;00m, \u001b[94m5\u001b[39;49;00m), (\u001b[94m100\u001b[39;49;00m, \u001b[94m3\u001b[39;49;00m, \u001b[94m1\u001b[39;49;00m)]\u001b[90m\u001b[39;49;00m\n",
      ">       \u001b[94massert\u001b[39;49;00m node_weight(edges) == {\u001b[90m\u001b[39;49;00m\n",
      "            \u001b[94m100\u001b[39;49;00m: \u001b[94m4\u001b[39;49;00m,\u001b[90m\u001b[39;49;00m\n",
      "            \u001b[94m200\u001b[39;49;00m: \u001b[94m3\u001b[39;49;00m,\u001b[90m\u001b[39;49;00m\n",
      "            \u001b[94m1\u001b[39;49;00m: \u001b[94m4\u001b[39;49;00m,\u001b[90m\u001b[39;49;00m\n",
      "            \u001b[94m3\u001b[39;49;00m: \u001b[94m1\u001b[39;49;00m\u001b[90m\u001b[39;49;00m\n",
      "        }\u001b[90m\u001b[39;49;00m\n",
      "\u001b[1m\u001b[31mE       assert None == {1: 4, 3: 1, 100: 4, 200: 3}\u001b[0m\n",
      "\u001b[1m\u001b[31mE        +  where None = node_weight([(100, 200, 1), (100, 200, 2), (100, 1, -1), (1, 1, 5), (100, 3, 1)])\u001b[0m\n",
      "\n",
      "\u001b[1m\u001b[31m/tmp/ipykernel_243595/2912988265.py\u001b[0m:6: AssertionError\n",
      "\u001b[31m\u001b[1m_________________________________________ test_unit_weight _________________________________________\u001b[0m\n",
      "\n",
      "    \u001b[94mdef\u001b[39;49;00m \u001b[92mtest_unit_weight\u001b[39;49;00m():\u001b[90m\u001b[39;49;00m\n",
      "        edges =  [(\u001b[94m100\u001b[39;49;00m, \u001b[94m200\u001b[39;49;00m, \u001b[94m1\u001b[39;49;00m), (\u001b[94m100\u001b[39;49;00m, \u001b[94m200\u001b[39;49;00m, \u001b[94m1\u001b[39;49;00m), (\u001b[94m100\u001b[39;49;00m, \u001b[94m1\u001b[39;49;00m, \u001b[94m1\u001b[39;49;00m), (\u001b[94m1\u001b[39;49;00m, \u001b[94m1\u001b[39;49;00m, \u001b[94m1\u001b[39;49;00m), (\u001b[94m100\u001b[39;49;00m, \u001b[94m3\u001b[39;49;00m, \u001b[94m1\u001b[39;49;00m)]\u001b[90m\u001b[39;49;00m\n",
      ">       \u001b[94massert\u001b[39;49;00m node_weight(edges) == {\u001b[90m\u001b[39;49;00m\n",
      "            \u001b[94m100\u001b[39;49;00m: \u001b[94m3\u001b[39;49;00m,\u001b[90m\u001b[39;49;00m\n",
      "            \u001b[94m200\u001b[39;49;00m: \u001b[94m2\u001b[39;49;00m,\u001b[90m\u001b[39;49;00m\n",
      "            \u001b[94m1\u001b[39;49;00m: \u001b[94m2\u001b[39;49;00m,\u001b[90m\u001b[39;49;00m\n",
      "            \u001b[94m3\u001b[39;49;00m: \u001b[94m1\u001b[39;49;00m\u001b[90m\u001b[39;49;00m\n",
      "        }\u001b[90m\u001b[39;49;00m\n",
      "\u001b[1m\u001b[31mE       assert None == {1: 2, 3: 1, 100: 3, 200: 2}\u001b[0m\n",
      "\u001b[1m\u001b[31mE        +  where None = node_weight([(100, 200, 1), (100, 200, 1), (100, 1, 1), (1, 1, 1), (100, 3, 1)])\u001b[0m\n",
      "\n",
      "\u001b[1m\u001b[31m/tmp/ipykernel_243595/2912988265.py\u001b[0m:16: AssertionError\n",
      "\u001b[36m\u001b[1m===================================== short test summary info ======================================\u001b[0m\n",
      "\u001b[31mFAILED\u001b[0m t_218f38344b43489aa6f6b7b3c87e207c.py::\u001b[1mtest_empty\u001b[0m - assert None == {}\n",
      "\u001b[31mFAILED\u001b[0m t_218f38344b43489aa6f6b7b3c87e207c.py::\u001b[1mtest_loop\u001b[0m - assert None == {1: 4, 3: 1, 100: 4, 200: 3}\n",
      "\u001b[31mFAILED\u001b[0m t_218f38344b43489aa6f6b7b3c87e207c.py::\u001b[1mtest_unit_weight\u001b[0m - assert None == {1: 2, 3: 1, 100: 3, 200: 2}\n",
      "\u001b[31m\u001b[31m\u001b[1m3 failed\u001b[0m\u001b[31m in 0.02s\u001b[0m\u001b[0m\n"
     ]
    }
   ],
   "source": [
    "%%ipytest\n",
    "\n",
    "def test_empty():\n",
    "    assert node_weight([]) == {}\n",
    "\n",
    "def test_loop():\n",
    "    edges =  [(100, 200, 1), (100, 200, 2), (100, 1, -1), (1, 1, 5), (100, 3, 1)]\n",
    "    assert node_weight(edges) == {\n",
    "        100: 4, \n",
    "        200: 3, \n",
    "        1: 4,\n",
    "        3: 1\n",
    "    }\n",
    "\n",
    "\n",
    "def test_unit_weight():\n",
    "    edges =  [(100, 200, 1), (100, 200, 1), (100, 1, 1), (1, 1, 1), (100, 3, 1)]\n",
    "    assert node_weight(edges) == {\n",
    "        100: 3, \n",
    "        200: 2, \n",
    "        1: 2,\n",
    "        3: 1\n",
    "    }\n",
    "    \n",
    "\n",
    "    "
   ]
  },
  {
   "cell_type": "markdown",
   "metadata": {},
   "source": [
    "## 2-sum"
   ]
  },
  {
   "cell_type": "markdown",
   "metadata": {},
   "source": [
    "Adott egy $n\\leq 10^5$ szám és egy $n$ hosszú $a$ lista, melynek elemeire $-10^{5} \\leq a_i \\leq 10^5$ teljesül.\n",
    "\n",
    "Keressünk olyan $1\\leq p<q\\leq n$ indexpárt, hogy $a[p] = −a[q]$, ha ilyen létezik.\n",
    "\n",
    "\n",
    "Például:\n",
    "```\n",
    "5\n",
    "5 4 -5 6 8\n",
    "```\n",
    "\n",
    "itt egy lehetséges válasz `(0, 2)`\n",
    "\n",
    "**Ötlet**: iteráljunk végig az indexpárokon és vizsgáljuk meg minden esetben, hogy teljesíti-e a feltételeket.\n",
    "\n",
    "Ezt a megoldási módszert, amiben potenciálisan minden lehetséges jelöltet kipróbálunk, **brute force**-alapú (nyers erő) megoldásnak nevezünk. A brute force megoldás mindig működik, a kérdés inkább az, hogy vajon nem tudunk-e ennél jobbat kitalálni."
   ]
  },
  {
   "cell_type": "code",
   "execution_count": 8,
   "metadata": {},
   "outputs": [],
   "source": [
    "from itertools import combinations\n",
    "\n",
    "def solve_2sum(seq):\n",
    "    for (i1, x1), (i2, x2) in combinations(enumerate(seq), 2):\n",
    "        if x1 == -x2:\n",
    "            return i1, i2\n",
    "    return None\n"
   ]
  },
  {
   "cell_type": "code",
   "execution_count": 9,
   "metadata": {},
   "outputs": [],
   "source": [
    "def format_ns(t):\n",
    "    for unit in ['ns', 'μs', 'ms']:\n",
    "        if t<1000:\n",
    "            return f\"{t:.2f} {unit}\"\n",
    "        t /= 1000\n",
    "    return f\"{t:.2f} s\"\n",
    "    "
   ]
  },
  {
   "cell_type": "code",
   "execution_count": 10,
   "metadata": {},
   "outputs": [
    {
     "name": "stdout",
     "output_type": "stream",
     "text": [
      "run time: 12.14 ms for input size: 50000\n",
      "solution: (1, 6739), check xs[res]=(30064, -30064)\n",
      "run time: 60.10 μs for input size: 50\n",
      "solution: None, check xs[res]=None\n",
      "run time: 4.98 ms for input size: 500\n",
      "solution: None, check xs[res]=None\n",
      "run time: 523.44 ms for input size: 5000\n",
      "solution: None, check xs[res]=None\n"
     ]
    }
   ],
   "source": [
    "import random\n",
    "import time\n",
    "\n",
    "random.seed(2112)\n",
    "\n",
    "xss = [\n",
    "       [random.randint(-10**5, 10**5) for _ in range(50_000)],\n",
    "       list(range(1,51)),\n",
    "       list(range(1,501)),\n",
    "       list(range(1,5_001))\n",
    "]\n",
    "\n",
    "for xs in xss:\n",
    "    t = time.perf_counter_ns()\n",
    "    res = solve_2sum(xs)\n",
    "    print(f\"run time: {format_ns(time.perf_counter_ns() - t)} for input size: {len(xs)}\")\n",
    "    print(f\"solution: {res}, check xs[res]={tuple(xs[i] for i in res) if res else res}\")\n",
    "\n"
   ]
  },
  {
   "cell_type": "markdown",
   "metadata": {},
   "source": [
    "A futási idő négyzetes a sorozat hosszában. Ha a bemenet 50_000 hosszúságú, akkor várhatóan\n",
    "$$\n",
    "    550*100~\\text{ms} = 55~000~\\text{ms} = 55~\\text{s}\n",
    "$$\n",
    "a futási idő"
   ]
  },
  {
   "cell_type": "markdown",
   "metadata": {},
   "source": [
    "**Ötlet.** Rendezzük sorba az elemeket. Ekkor intervallum felezéssel tetszőleges számról el tudjuk dönteni szerepel-e a számok között."
   ]
  },
  {
   "cell_type": "code",
   "execution_count": 11,
   "metadata": {},
   "outputs": [],
   "source": [
    "def find(sorted_lst, x, hi=None, key=lambda x: x):\n",
    "    i0, i1 = 0, (len(sorted_lst) if hi is None else hi)\n",
    "    while i0 < i1:\n",
    "        i = (i0+i1)//2\n",
    "        if key(sorted_lst[i]) < x:\n",
    "            i0 = i+1\n",
    "        else:\n",
    "            i1 = i\n",
    "            \n",
    "    return i0\n",
    "    \n",
    "\n",
    "def solve_2sum_with_sort(seq):\n",
    "    seq = sorted((x, i) for i, x in enumerate(seq))\n",
    "    for k, (x1, q1) in enumerate(seq):\n",
    "        i = find(seq, -x1, hi=k, key=lambda x: x[0])\n",
    "        if i < k:\n",
    "            x2, q2 = seq[i]\n",
    "            if x1+x2 == 0:\n",
    "                return (q1, q2) if q1<q2 else (q2, q1)\n",
    "    return None\n"
   ]
  },
  {
   "cell_type": "code",
   "execution_count": 12,
   "metadata": {},
   "outputs": [
    {
     "name": "stdout",
     "output_type": "stream",
     "text": [
      "==================================================\n",
      "--------------------------------------------------\n",
      "run time: 11.73 ms for input size: 50000\n",
      "solution: (1, 6739), check xs[res]=(30064, -30064)\n",
      "--------------------------------------------------\n",
      "run time: 86.81 ms for input size: 50000\n",
      "solution: (42467, 49515), check xs[res]=(-23, 23)\n",
      "==================================================\n",
      "--------------------------------------------------\n",
      "run time: 67.78 μs for input size: 50\n",
      "solution: None, check xs[res]=None\n",
      "--------------------------------------------------\n",
      "run time: 54.93 μs for input size: 50\n",
      "solution: None, check xs[res]=None\n",
      "==================================================\n",
      "--------------------------------------------------\n",
      "run time: 5.29 ms for input size: 500\n",
      "solution: None, check xs[res]=None\n",
      "--------------------------------------------------\n",
      "run time: 627.25 μs for input size: 500\n",
      "solution: None, check xs[res]=None\n",
      "==================================================\n",
      "--------------------------------------------------\n",
      "run time: 600.54 ms for input size: 5000\n",
      "solution: None, check xs[res]=None\n",
      "--------------------------------------------------\n",
      "run time: 9.01 ms for input size: 5000\n",
      "solution: None, check xs[res]=None\n"
     ]
    }
   ],
   "source": [
    "import random\n",
    "import time\n",
    "\n",
    "random.seed(2112)\n",
    "\n",
    "xss = [\n",
    "       [random.randint(-10**5, 10**5) for _ in range(50_000)],\n",
    "       list(range(1,51)),\n",
    "       list(range(1,501)),\n",
    "       list(range(1,5_001))\n",
    "]\n",
    "\n",
    "for xs in xss:\n",
    "    print(\"=\"*50)\n",
    "    for fun in [solve_2sum, solve_2sum_with_sort]:\n",
    "        t = time.perf_counter_ns()\n",
    "        res = fun(xs)\n",
    "        print(\"-\"*50)\n",
    "        print(f\"run time: {format_ns(time.perf_counter_ns() - t)} for input size: {len(xs)}\")\n",
    "        print(f\"solution: {res}, check xs[res]={tuple(xs[i] for i in res) if res else res}\")\n",
    "\n"
   ]
  },
  {
   "cell_type": "markdown",
   "metadata": {},
   "source": [
    "\n",
    "Milyen típus lenne alkalmas a már látott értékek és legalább egy hozzájuk tartozó index tárolására?\n",
    "\n",
    "Egészítsük ki a következő függvényt!"
   ]
  },
  {
   "cell_type": "code",
   "execution_count": 13,
   "metadata": {},
   "outputs": [],
   "source": [
    "def solve_2_sum_better(seq):\n",
    "\n",
    "    for i, x in enumerate(seq):\n",
    "        ## ha -x volt korábban return\n",
    "        pass\n",
    "    return None"
   ]
  },
  {
   "cell_type": "code",
   "execution_count": 14,
   "metadata": {},
   "outputs": [
    {
     "name": "stdout",
     "output_type": "stream",
     "text": [
      "---xs min=-99999, max=99997, len(xs)=50000\n",
      "   run time: 1.31 ms\n",
      "   solution: None, check xs[res]=None\n",
      "---\n",
      "---xs min=1, max=50, len(xs)=50\n",
      "   run time: 3.29 μs\n",
      "   solution: None, check xs[res]=None\n",
      "---\n",
      "---xs min=1, max=500, len(xs)=500\n",
      "   run time: 10.55 μs\n",
      "   solution: None, check xs[res]=None\n",
      "---\n",
      "---xs min=1, max=5000, len(xs)=5000\n",
      "   run time: 99.23 μs\n",
      "   solution: None, check xs[res]=None\n",
      "---\n",
      "---xs min=1, max=50000, len(xs)=50000\n",
      "   run time: 1.04 ms\n",
      "   solution: None, check xs[res]=None\n",
      "---\n",
      "---xs min=1, max=1, len(xs)=50\n",
      "   run time: 2.80 μs\n",
      "   solution: None, check xs[res]=None\n",
      "---\n",
      "---xs min=1, max=1, len(xs)=500\n",
      "   run time: 10.41 μs\n",
      "   solution: None, check xs[res]=None\n",
      "---\n",
      "---xs min=1, max=1, len(xs)=5000\n",
      "   run time: 98.39 μs\n",
      "   solution: None, check xs[res]=None\n",
      "---\n",
      "---xs min=1, max=1, len(xs)=50000\n",
      "   run time: 1.27 ms\n",
      "   solution: None, check xs[res]=None\n",
      "---\n"
     ]
    }
   ],
   "source": [
    "random.seed(2112)\n",
    "\n",
    "xss = [\n",
    "       [random.randint(-10**5, 10**5) for _ in range(50_000)],\n",
    "       list(range(1,51)),list(range(1,501)),\n",
    "       list(range(1,5_001)),\n",
    "       list(range(1,50_001)),\n",
    "       [1]*50, [1]*500, [1]*5_000, [1]*50_000\n",
    "       ]\n",
    "\n",
    "\n",
    "for xs in xss:\n",
    "    print(f\"---xs min={min(xs)}, max={max(xs)}, len(xs)={len(xs)}\")\n",
    "\n",
    "    t = time.perf_counter_ns()\n",
    "    res = solve_2_sum_better(xs)\n",
    "    print(f\"   run time: {format_ns(time.perf_counter_ns() - t)}\")\n",
    "    print(f\"   solution: {res}, check xs[res]={tuple(xs[i] for i in res) if res else res}\")\n",
    "    print(\"---\")"
   ]
  },
  {
   "cell_type": "markdown",
   "metadata": {},
   "source": [
    "## Új témák\n"
   ]
  },
  {
   "cell_type": "markdown",
   "metadata": {},
   "source": [
    "\n",
    "### További eszközök a `collections`, `itertools` modulból."
   ]
  },
  {
   "cell_type": "code",
   "execution_count": null,
   "metadata": {},
   "outputs": [
    {
     "name": "stdout",
     "output_type": "stream",
     "text": [
      "This module implements specialized container datatypes providing\n",
      "alternatives to Python's general purpose built-in containers, dict,\n",
      "list, set, and tuple.\n",
      "\n",
      "* namedtuple   factory function for creating tuple subclasses with named fields\n",
      "* deque        list-like container with fast appends and pops on either end\n",
      "* ChainMap     dict-like class for creating a single view of multiple mappings\n",
      "* Counter      dict subclass for counting hashable objects\n",
      "* OrderedDict  dict subclass that remembers the order entries were added\n",
      "* defaultdict  dict subclass that calls a factory function to supply missing values\n",
      "* UserDict     wrapper around dictionary objects for easier dict subclassing\n",
      "* UserList     wrapper around list objects for easier list subclassing\n",
      "* UserString   wrapper around string objects for easier string subclassing\n",
      "\n",
      "\n"
     ]
    }
   ],
   "source": [
    "import collections\n",
    "\n",
    "print(collections.__doc__)"
   ]
  },
  {
   "cell_type": "code",
   "execution_count": null,
   "metadata": {},
   "outputs": [
    {
     "name": "stdout",
     "output_type": "stream",
     "text": [
      "Functional tools for creating and using iterators.\n",
      "\n",
      "Infinite iterators:\n",
      "count(start=0, step=1) --> start, start+step, start+2*step, ...\n",
      "cycle(p) --> p0, p1, ... plast, p0, p1, ...\n",
      "repeat(elem [,n]) --> elem, elem, elem, ... endlessly or up to n times\n",
      "\n",
      "Iterators terminating on the shortest input sequence:\n",
      "accumulate(p[, func]) --> p0, p0+p1, p0+p1+p2\n",
      "chain(p, q, ...) --> p0, p1, ... plast, q0, q1, ...\n",
      "chain.from_iterable([p, q, ...]) --> p0, p1, ... plast, q0, q1, ...\n",
      "compress(data, selectors) --> (d[0] if s[0]), (d[1] if s[1]), ...\n",
      "dropwhile(pred, seq) --> seq[n], seq[n+1], starting when pred fails\n",
      "groupby(iterable[, keyfunc]) --> sub-iterators grouped by value of keyfunc(v)\n",
      "filterfalse(pred, seq) --> elements of seq where pred(elem) is False\n",
      "islice(seq, [start,] stop [, step]) --> elements from\n",
      "       seq[start:stop:step]\n",
      "starmap(fun, seq) --> fun(*seq[0]), fun(*seq[1]), ...\n",
      "tee(it, n=2) --> (it1, it2 , ... itn) splits one iterator into n\n",
      "takewhile(pred, seq) --> seq[0], seq[1], until pred fails\n",
      "zip_longest(p, q, ...) --> (p[0], q[0]), (p[1], q[1]), ...\n",
      "\n",
      "Combinatoric generators:\n",
      "product(p, q, ... [repeat=1]) --> cartesian product\n",
      "permutations(p[, r])\n",
      "combinations(p, r)\n",
      "combinations_with_replacement(p, r)\n",
      "\n"
     ]
    }
   ],
   "source": [
    "print(itertools.__doc__)"
   ]
  },
  {
   "cell_type": "markdown",
   "metadata": {},
   "source": [
    "### Kivételkezelés\n"
   ]
  },
  {
   "cell_type": "markdown",
   "metadata": {},
   "source": [
    "```python\n",
    "try:\n",
    "    pass\n",
    "except:\n",
    "    pass\n",
    "finally:\n",
    "    pass\n",
    "```\n",
    "        \n",
    "Nem nagyon fogunk olyan kódot írni, ami ezt használja. Kivéve két esetet:\n",
    "\n",
    "- üres sorozat kezelése `next` hívásnál: `StopIteration`\n",
    "\n",
    "- Saját kontexus `with` statementhez, hasonló ahhoz, amit file olvasásnál láttunk előadáson.\n",
    "\n",
    "\n",
    "[Beépített kivételek listája](https://docs.python.org/3/library/exceptions.html#exception-hierarchy)"
   ]
  },
  {
   "cell_type": "code",
   "execution_count": 76,
   "metadata": {},
   "outputs": [],
   "source": [
    "def pairs(seq):\n",
    "    it = iter(seq)\n",
    "    a = next(it)\n",
    "    for b in it:\n",
    "        yield a, b\n",
    "        a = b"
   ]
  },
  {
   "cell_type": "code",
   "execution_count": 81,
   "metadata": {},
   "outputs": [
    {
     "name": "stdout",
     "output_type": "stream",
     "text": [
      "\u001b[32m.\u001b[0m\u001b[32m.\u001b[0m\u001b[32m                                                                                           [100%]\u001b[0m\n",
      "\u001b[32m\u001b[32m\u001b[1m2 passed\u001b[0m\u001b[32m in 0.01s\u001b[0m\u001b[0m\n"
     ]
    }
   ],
   "source": [
    "%%ipytest\n",
    "\n",
    "def test_pairs_empty():\n",
    "    assert list(pairs([])) == []\n",
    "\n",
    "def test_pairs_short():\n",
    "    assert list(pairs([1])) == []\n",
    "    assert list(pairs([1, 2])) == [(1,2)]    \n",
    "    assert list(pairs([1, 2, 3])) == [(1,2), (2, 3)]"
   ]
  },
  {
   "cell_type": "markdown",
   "metadata": {},
   "source": [
    "Javítás. Ellenőrizni kell, hogy nem üres-e a sorozat."
   ]
  },
  {
   "cell_type": "code",
   "execution_count": 80,
   "metadata": {},
   "outputs": [],
   "source": [
    "def pairs(seq):\n",
    "    it = iter(seq)\n",
    "    try:\n",
    "        a = next(it)\n",
    "    except StopIteration:\n",
    "        return\n",
    "    for b in it:\n",
    "        yield a, b\n",
    "        a = b"
   ]
  },
  {
   "cell_type": "markdown",
   "metadata": {},
   "source": [
    "Ha hibát szeretnénk jelezni, akkor a `raise` statement-et használhatjuk.\n",
    "pl."
   ]
  },
  {
   "cell_type": "code",
   "execution_count": 89,
   "metadata": {},
   "outputs": [],
   "source": [
    "def only_positive_int(x):\n",
    "    if not isinstance(x, int):\n",
    "        raise TypeError\n",
    "    if x <= 0:\n",
    "        raise ValueError\n",
    "    return x\n",
    "\n",
    "# only_positive_int(2.0) -> TypeError\n",
    "# only_positive_int(-1) -> ValueError"
   ]
  },
  {
   "cell_type": "markdown",
   "metadata": {},
   "source": [
    "Hogyan tudjuk tesztelni a helyes működést?"
   ]
  },
  {
   "cell_type": "code",
   "execution_count": 91,
   "metadata": {},
   "outputs": [
    {
     "name": "stdout",
     "output_type": "stream",
     "text": [
      "\u001b[32m.\u001b[0m\u001b[32m                                                                                            [100%]\u001b[0m\n",
      "\u001b[32m\u001b[32m\u001b[1m1 passed\u001b[0m\u001b[32m in 0.01s\u001b[0m\u001b[0m\n"
     ]
    }
   ],
   "source": [
    "%%ipytest\n",
    "from pytest import raises\n",
    "\n",
    "def test_only_positive_int():\n",
    "    \n",
    "    assert only_positive_int(2) == 2\n",
    "    \n",
    "    with raises(TypeError):\n",
    "        only_positive_int(2.0)\n",
    "\n",
    "    with raises(TypeError):\n",
    "        only_positive_int(\"2.0\")\n",
    "\n",
    "    with raises(ValueError):\n",
    "        only_positive_int(-1)\n",
    "\n",
    "    "
   ]
  },
  {
   "cell_type": "markdown",
   "metadata": {},
   "source": [
    "# Feladatok előadásról"
   ]
  },
  {
   "cell_type": "markdown",
   "metadata": {},
   "source": [
    "### Helyes zárójelezés"
   ]
  },
  {
   "cell_type": "markdown",
   "metadata": {},
   "source": [
    "\n",
    "Adott egy kifejezés, ami a `(`, `)`, `[` és `]` karakterekből állhat. \n",
    "\n",
    "Állapítsuk meg, hogy a kifejezés helyesen zárójelezett-e vagy sem.\n",
    "\n",
    "pl. `([()])` helyes zárójelezés, `([(]))` nem az, mert a szögletes zárójelpár tartalmaz pár nélküli nyitó zárójelet.\n"
   ]
  },
  {
   "cell_type": "code",
   "execution_count": 93,
   "metadata": {},
   "outputs": [],
   "source": [
    "pairs = \"()[]{}\"\n",
    "opening = dict(zip(pairs[::2], pairs[1::2]))\n"
   ]
  },
  {
   "cell_type": "code",
   "execution_count": 96,
   "metadata": {},
   "outputs": [
    {
     "name": "stdout",
     "output_type": "stream",
     "text": [
      "opening = ([{,\n",
      "opening = ( -> ), [ -> ], { -> }\n"
     ]
    }
   ],
   "source": [
    "def as_mapping(d):\n",
    "    return \", \".join(\" -> \".join(x) for x in d.items())\n",
    "\n",
    "print(f\"opening = {''.join(opening)},\\nopening = {as_mapping(opening)}\")"
   ]
  },
  {
   "cell_type": "markdown",
   "metadata": {},
   "source": [
    "Egészítsük ki a következő kódot!"
   ]
  },
  {
   "cell_type": "code",
   "execution_count": 17,
   "metadata": {},
   "outputs": [],
   "source": [
    "def is_balanced(string):\n",
    "    pass\n"
   ]
  },
  {
   "cell_type": "code",
   "execution_count": 18,
   "metadata": {},
   "outputs": [
    {
     "name": "stdout",
     "output_type": "stream",
     "text": [
      "\u001b[31mF\u001b[0m\u001b[31m                                                                                            [100%]\u001b[0m\n",
      "============================================= FAILURES =============================================\n",
      "\u001b[31m\u001b[1m_________________________________________ test_is_balanced _________________________________________\u001b[0m\n",
      "\n",
      "    \u001b[94mdef\u001b[39;49;00m \u001b[92mtest_is_balanced\u001b[39;49;00m():\u001b[90m\u001b[39;49;00m\n",
      ">       \u001b[94massert\u001b[39;49;00m is_balanced(\u001b[33m\"\u001b[39;49;00m\u001b[33m[([(()[]())])]\u001b[39;49;00m\u001b[33m\"\u001b[39;49;00m) == \u001b[94mTrue\u001b[39;49;00m\u001b[90m\u001b[39;49;00m\n",
      "\u001b[1m\u001b[31mE       AssertionError: assert None == True\u001b[0m\n",
      "\u001b[1m\u001b[31mE        +  where None = is_balanced('[([(()[]())])]')\u001b[0m\n",
      "\n",
      "\u001b[1m\u001b[31m/tmp/ipykernel_243595/1312931741.py\u001b[0m:2: AssertionError\n",
      "\u001b[36m\u001b[1m===================================== short test summary info ======================================\u001b[0m\n",
      "\u001b[31mFAILED\u001b[0m t_218f38344b43489aa6f6b7b3c87e207c.py::\u001b[1mtest_is_balanced\u001b[0m - AssertionError: assert None == True\n",
      "\u001b[31m\u001b[31m\u001b[1m1 failed\u001b[0m\u001b[31m in 0.01s\u001b[0m\u001b[0m\n"
     ]
    }
   ],
   "source": [
    "%%ipytest\n",
    "\n",
    "def test_is_balanced():\n",
    "    assert is_balanced(\"[([(()[]())])]\") == True\n",
    "    assert is_balanced(\"[[))\") == False\n",
    "    assert is_balanced(\"\") == True\n",
    "    assert is_balanced(\"[\") == False\n",
    "    assert is_balanced(\")\") == False"
   ]
  },
  {
   "cell_type": "markdown",
   "metadata": {},
   "source": [
    "### Halmaz típus"
   ]
  },
  {
   "cell_type": "markdown",
   "metadata": {},
   "source": [
    "\n",
    "Készítsünk saját halmaz-implementációt! A halmaz elemeit tároljuk egy belső listában, figyelve arra, hogy a lista később sem tartalmazhat duplikátumokat!\n",
    "\n",
    "- lehessen üres halmazt készíteni\n",
    "- legyen `add`` metódusa, amivel hozzá lehet adni új elemet\n",
    "- lehessen értelmes módon kiprintelni a halmazt\n"
   ]
  },
  {
   "cell_type": "code",
   "execution_count": 19,
   "metadata": {},
   "outputs": [],
   "source": [
    "class SET:\n",
    "    def __init__(self):\n",
    "        pass\n",
    "\n",
    "    def add(self, element):\n",
    "        pass\n",
    "\n",
    "    def update(self, elements):\n",
    "        pass\n",
    "\n",
    "    def __str__(self):\n",
    "        pass\n",
    "\n",
    "    def __repr__(self):\n",
    "        pass"
   ]
  },
  {
   "cell_type": "markdown",
   "metadata": {},
   "source": [
    "### Fibonacci számok intervallumból"
   ]
  },
  {
   "cell_type": "markdown",
   "metadata": {},
   "source": [
    "\n",
    "\n",
    "Írjuk egy függvényt, mely adott $I=[a, b]\\ (a \\leq b)$ intervallum esetén visszaadja azon Fibonacci számokat, melyek az $I$ intervallumba esnek.\n"
   ]
  },
  {
   "cell_type": "code",
   "execution_count": 20,
   "metadata": {},
   "outputs": [],
   "source": [
    "def calc_fibonacci_numbers_in_interval(a, b):\n",
    "    pass"
   ]
  },
  {
   "cell_type": "markdown",
   "metadata": {},
   "source": [
    "### Ismétlődések törlése"
   ]
  },
  {
   "cell_type": "markdown",
   "metadata": {},
   "source": [
    "\n",
    "Egy adott sztringből távolítsuk el az egymás mellett álló ismétlődő karatereket. \n",
    "\n",
    "Példa: \n",
    "```\n",
    "\"kukkkuuuurrrriiiikuuuuuuuu\" -> \"kukuriku\". \n",
    "```\n",
    "\n",
    "(Ez már volt korábban. Most keressünk elegánsabb megoldást, pl. az `itertools` könyvtár függvényeinek segítségével.)\n"
   ]
  },
  {
   "cell_type": "code",
   "execution_count": 21,
   "metadata": {},
   "outputs": [],
   "source": [
    "\n",
    "def remove_consecutive_duplicates(string):\n",
    "    pass\n"
   ]
  },
  {
   "cell_type": "markdown",
   "metadata": {},
   "source": [
    "### Számolás polinomokkal"
   ]
  },
  {
   "cell_type": "markdown",
   "metadata": {},
   "source": [
    "Írjunk egy `Polynomial` osztályt, ahol a polinomot tároljuk el, mint az együtthatóinak listáját.\n",
    "\n",
    "Implementáljuk két ilyen polinom összeadását (azaz írjuk meg az `__add__`, valamint a `__repr__`  metódust, hogy lássuk, mi egy ilyen osztálypéldány tartalma).\n",
    "\n",
    "Egy polinom függvény is. Implementáljuk a `__call__` metódust is, ami kiértékeli a polinomot egy adott pontban!\n"
   ]
  },
  {
   "cell_type": "code",
   "execution_count": 22,
   "metadata": {},
   "outputs": [],
   "source": [
    "def format_term(k, coeff, fmt=\"x^{k}\"):\n",
    "    c = f\"{coeff}\" if coeff!=1 else \"\"\n",
    "    match k:\n",
    "        case 0:\n",
    "            x = \"\"\n",
    "            c = f\"{coeff}\"\n",
    "        case 1:\n",
    "            x = \"x\"\n",
    "        case _:\n",
    "            x = fmt.format(k=k)\n",
    "    sep = \"\" if coeff <= 0 else \"+\"\n",
    "    return f\"{c}{x}\", sep\n",
    "\n",
    "class Polynomial:\n",
    "    def __init__(self, *coefficients):\n",
    "        self.coeff = list(reversed(coefficients))\n",
    "    \n",
    "    def __add__(self, other):\n",
    "        \n",
    "        coeff_a = self.coeff\n",
    "        coeff_b = other.coeff\n",
    "\n",
    "        if len(coeff_a) < len(coeff_b):\n",
    "            coeff_a, coeff_b = coeff_b, coeff_a\n",
    "        \n",
    "        coeff = coeff_a.copy()\n",
    "        \n",
    "        for i, c in enumerate(coeff_b):\n",
    "            coeff[i] += c \n",
    "        \n",
    "        p = Polynomial()\n",
    "        p.coeff = coeff\n",
    "        return p\n",
    "\n",
    "    def __mul__(self, other):\n",
    "        \n",
    "        coeff = [0]*(len(self.coeff)+len(other.coeff)-1)\n",
    "        for i, ca in enumerate(self.coeff):\n",
    "            for j, cb in enumerate(other.coeff):\n",
    "                coeff[i+j] += ca*cb\n",
    "        \n",
    "        p = Polynomial()\n",
    "        p.coeff = coeff\n",
    "        return p\n",
    "\n",
    "    def __rmul__(self, c):\n",
    "        p = Polynomial()\n",
    "        p.coeff = [c0*c for c0 in self.coeff]\n",
    "        return p\n",
    "\n",
    "    def __call__(self, x):\n",
    "        value = 0\n",
    "        for c in reversed(self.coeff):\n",
    "            value *= x\n",
    "            value += c\n",
    "        return value\n",
    "\n",
    "    def as_token_list(self, formatter, fmt):\n",
    "        coeffs = [(k, coeff) for k, coeff in enumerate(self.coeff) if coeff != 0]\n",
    "        if len(coeffs) == 0:\n",
    "            coeffs = [(0, 0)]\n",
    "        tokens = []\n",
    "        for k, coeff in coeffs:\n",
    "            tokens.extend(format_term(k, coeff, fmt))\n",
    "        tokens.pop()\n",
    "        tokens.reverse()\n",
    "        return tokens\n",
    "        \n",
    "    def __str__(self):\n",
    "        return ''.join(self.as_token_list(format_term, \"x^{k}\"))\n",
    "\n",
    "    def __repr__(self):\n",
    "        return f\"{type(self).__name__}({', '.join(map(str, reversed(self.coeff)))})\"\n",
    "        \n",
    "    def _repr_latex_(self):\n",
    "        formula = ''.join(self.as_token_list(format_term, \"x^{{{k}}}\")) \n",
    "        return f\"${formula}$\"\n",
    "\n"
   ]
  },
  {
   "cell_type": "code",
   "execution_count": 23,
   "metadata": {},
   "outputs": [
    {
     "data": {
      "text/latex": [
       "$x^{2}-3$"
      ],
      "text/plain": [
       "Polynomial(1, 0, -3)"
      ]
     },
     "metadata": {},
     "output_type": "display_data"
    },
    {
     "data": {
      "text/latex": [
       "$2x^{3}+3x+1$"
      ],
      "text/plain": [
       "Polynomial(2, 0, 3, 1)"
      ]
     },
     "metadata": {},
     "output_type": "display_data"
    },
    {
     "data": {
      "text/latex": [
       "$2x^{5}-3x^{3}+x^{2}-9x-3$"
      ],
      "text/plain": [
       "Polynomial(2, 0, -3, 1, -9, -3)"
      ]
     },
     "metadata": {},
     "output_type": "display_data"
    },
    {
     "data": {
      "text/latex": [
       "$2x^{2}-6$"
      ],
      "text/plain": [
       "Polynomial(2, 0, -6)"
      ]
     },
     "metadata": {},
     "output_type": "display_data"
    }
   ],
   "source": [
    "\n",
    "\n",
    "p = Polynomial(1, 0, -3)    # -> x^2 - 3\n",
    "q = Polynomial(2, 0, 3, 1)  # -> 2x^3 + 3x + 1\n",
    "display(p)\n",
    "display(q)\n",
    "display(p*q)\n",
    "display(2*p)\n"
   ]
  },
  {
   "cell_type": "code",
   "execution_count": 24,
   "metadata": {},
   "outputs": [
    {
     "data": {
      "text/plain": [
       "6"
      ]
     },
     "execution_count": 24,
     "metadata": {},
     "output_type": "execute_result"
    }
   ],
   "source": [
    "q(1)\n"
   ]
  },
  {
   "cell_type": "markdown",
   "metadata": {},
   "source": [
    "#### Korábbi feladat"
   ]
  },
  {
   "cell_type": "markdown",
   "metadata": {},
   "source": [
    "Írjunk egy függvényt, ami kiszámolja az első $n$ természetes szám $p$-ik hatványösszegét.\n",
    "\n",
    "pl. `p = 0`-ra\n",
    "\n",
    "```Python\n",
    "def f0(n):\n",
    "    return n\n",
    "```\n",
    "\n",
    "jó, mert $k^0=1$ ha $k=1,\\dots,n$ és ezek összege pont $n$.\n",
    "\n",
    "Ha `p = 1`, akkor\n",
    "\n",
    "```Python\n",
    "def f1(n):\n",
    "    return n*(n+1)//2\n",
    "```\n",
    "\n",
    "jó, mert $\\sum_{k=1}^n k = n(n+1)/2$.\n",
    "\n",
    "Még `p = 2`-t is tanultuk\n",
    "\n",
    "```Python\n",
    "def f2(n):\n",
    "    return n*(n+1)*(2*n+1)//6\n",
    "```\n",
    "\n",
    "Általános $p$-re tudunk-e ilyen függvényt írni?"
   ]
  },
  {
   "cell_type": "code",
   "execution_count": 25,
   "metadata": {},
   "outputs": [],
   "source": [
    "def mk_power_sum(p):\n",
    "    def f(n):\n",
    "        total = 0\n",
    "        for k in range(1, n+1):\n",
    "            total += k**p\n",
    "        return total\n",
    "\n",
    "    f.__doc__ = f\"\"\"\n",
    "        {p}-ik hatványok összegét számolja\n",
    "        \"\"\"\n",
    "\n",
    "    return f"
   ]
  },
  {
   "cell_type": "code",
   "execution_count": 26,
   "metadata": {},
   "outputs": [],
   "source": [
    "f2_slow = mk_power_sum(2)"
   ]
  },
  {
   "cell_type": "code",
   "execution_count": 27,
   "metadata": {},
   "outputs": [
    {
     "name": "stdout",
     "output_type": "stream",
     "text": [
      "\u001b[0;31mSignature:\u001b[0m \u001b[0mf2_slow\u001b[0m\u001b[0;34m(\u001b[0m\u001b[0mn\u001b[0m\u001b[0;34m)\u001b[0m\u001b[0;34m\u001b[0m\u001b[0;34m\u001b[0m\u001b[0m\n",
      "\u001b[0;31mDocstring:\u001b[0m 2-ik hatványok összegét számolja\n",
      "\u001b[0;31mFile:\u001b[0m      /tmp/ipykernel_243595/3344454091.py\n",
      "\u001b[0;31mType:\u001b[0m      function"
     ]
    }
   ],
   "source": [
    "f2_slow?"
   ]
  },
  {
   "cell_type": "code",
   "execution_count": 28,
   "metadata": {},
   "outputs": [
    {
     "data": {
      "text/plain": [
       "[0, 1, 5, 14, 30, 55, 91, 140, 204, 285]"
      ]
     },
     "execution_count": 28,
     "metadata": {},
     "output_type": "execute_result"
    }
   ],
   "source": [
    "[f2_slow(i) for i in range(0, 10)]"
   ]
  },
  {
   "cell_type": "code",
   "execution_count": 29,
   "metadata": {},
   "outputs": [],
   "source": [
    "def f2_fast(n):\n",
    "    return n*(n+1)*(2*n+1)//6"
   ]
  },
  {
   "cell_type": "code",
   "execution_count": 30,
   "metadata": {},
   "outputs": [
    {
     "name": "stdout",
     "output_type": "stream",
     "text": [
      "2.11 ms ± 59.8 µs per loop (mean ± std. dev. of 7 runs, 100 loops each)\n",
      "771 ns ± 14.9 ns per loop (mean ± std. dev. of 7 runs, 1,000,000 loops each)\n"
     ]
    }
   ],
   "source": [
    "%timeit f2_slow(10_000)\n",
    "%timeit f2_fast(10_000)"
   ]
  },
  {
   "cell_type": "markdown",
   "metadata": {},
   "source": [
    "### Ötlet"
   ]
  },
  {
   "cell_type": "markdown",
   "metadata": {},
   "source": [
    "$$\n",
    "    \\sum_{k=r}^n  \\binom{k}{r} = \\binom{n+1}{r+1}\n",
    "$$\n",
    "\n",
    "**Bizonyítás.**\n",
    "$\\{1,2,\\dots,n+1\\}$-ből válasszunk ki $r+1$ különböző számot.\n",
    "\n",
    "Összes lehetőség:\n",
    "$$\n",
    "\\binom{n+1}{r+1}.\n",
    "$$\n",
    "\n",
    "Számoljuk meg az eseteket aszerint szétbontva is, hogy legnagyobb kiválasztott szám mivel egyenlő.\n",
    "\n",
    "Ha a legnagyobb szám $k+1$, akkor a maradék $r$ számot $\\{1,2,\\dots, k\\}$ közül választjuk. Így az esetek száma\n",
    "$$\n",
    "    \\sum_{k+1=r+1}^{n+1} \\binom{k}{r} =  \\sum_{k=r}^{n} \\binom{k}{r}\n",
    "$$  \n",
    "$k+1$ helyett $k$ az összegzési változó"
   ]
  },
  {
   "cell_type": "markdown",
   "metadata": {},
   "source": [
    "Ugyanez másképp.\n",
    "\n",
    "$$\n",
    "\\binom{k}{r} = \\frac{1}{r!} k(k-1)\\cdots(k-r+1) = \\frac{1}{r!}p_r(k-r+1),\\quad\\text{ahol}\\quad p_r(x) = x(x+1)\\cdots(x+r-1)\n",
    "$$\n",
    "és\n",
    "$$\n",
    "    \\sum_{j=1}^{n-r+1} \\frac{1}{r!}p_r(j) = \\frac{1}{(r+1)!}p_{r+1}(n+1-(r+1)+1)= \\frac{1}{(r+1)!} p_{r+1}(n-r+1)\\quad\\text{minden $n\\geq r$ és $r\\geq 0$-ra}\n",
    "$$\n",
    "\n",
    "Az összegzés felső határa és $p_{r+1}$ argumentuma ugyanaz, azaz\n",
    "\n",
    "$$\n",
    "\\sum_{j=0}^{n} p_r(j) = \\frac{1}{r+1}p_{r+1}(n)\n",
    "$$"
   ]
  },
  {
   "cell_type": "markdown",
   "metadata": {},
   "source": [
    "**Lineáris algebra.**\n",
    "\n",
    "$$\n",
    "p_0\\equiv 1,\\quad p_1(x)=x,\\quad p_2(x)=x(x+1),\\quad\\dots,\\quad p_r(x)=x(x+1)\\cdots(x+r-1)\n",
    "$$\n",
    "\n",
    "bázis a legfeljebb $r$-edfokú polinomok vektorterében.\n",
    "\n",
    "$$\n",
    "    x^r = \\sum_{i=0}^r a_i p_i(x)\n",
    "$$\n",
    "és\n",
    "$$\n",
    "    \\sum_{k=0}^n k^r = \\sum_{k=0}^n \\sum_{i=0}^r a_i p_i(k) =  \\sum_{i=0}^r a_i  \\sum_{k=0}^n p_i(k) = \\sum_{i=0}^r \\frac{a_i}{r+1}  p_{i+1}(n)\n",
    "$$\n"
   ]
  },
  {
   "cell_type": "markdown",
   "metadata": {},
   "source": [
    "### Összefoglalva\n",
    "\n",
    "- Egy polinomot az együtthatókkal ábrázolhatunk.\n",
    "- Kellene egy függvény, ami a természetes $1, x, x^2,\\dots$ bázisban felírt polinomot a $p_0,p_1,\\dots$ bázisban ír fel.\n",
    "- $p_0, p_1, \\dots,$ bázisban az összegzés könnyű, lényegében arrébb kell tolni az együtthatókat.\n",
    "- A $p_0,p_1,\\dots$ bázisban felírt polinomot vagy visszaszámoljuk a természetes bázisba, vagy megírjuk a függvényt, ami kiértékeli a függvényt egy adott pontban."
   ]
  },
  {
   "cell_type": "markdown",
   "metadata": {},
   "source": [
    "Vegyük észre, hogy $p_0$ azonosan 1, $p_1(0)=0$, $p_2(0)=p_2(-1)=0$, stb.\n",
    "\n",
    "Ha $f=\\sum_i a_i p_i$, akkor\n",
    "$$\n",
    "    f(0) = \\sum_i a_i p(0) = a_0, \\quad f(-1) = a_0 p_0(-1) + a_1 p_1(-1),\\quad f(-k) = a_0 p_0(-k) + a_1 p_1(-k) + \\cdots + a_k p_k(-k).\n",
    "$$\n",
    "amiből\n",
    "\n",
    "$$\n",
    "\\begin{align*}\n",
    "    a_0 & = f(0)\\\\\n",
    "    a_1 & = \\frac{f(-1) - a_0 p_0(-1)}{p_1(-1)}\\\\\n",
    "    \\vdots\\\\\n",
    "    a_k & = \\frac{f(-k) - \\sum_{j=0}^{k-1} a_j p_j(-k)}{p_{k}(-k)}\\\\\n",
    "    \\vdots\n",
    "\\end{align*}\n",
    "$$  \n",
    "Kihasználhatjuk még, hogy\n",
    "$$\n",
    "p_k(-k)=(-k)(-k+1)\\cdots(-k+(k-1))=(-1)^k k!.\n",
    "$$"
   ]
  },
  {
   "cell_type": "code",
   "execution_count": 31,
   "metadata": {},
   "outputs": [],
   "source": [
    "def basis():\n",
    "    i = 0\n",
    "    p = Polynomial(1)\n",
    "    while True:\n",
    "        yield p\n",
    "        p *= Polynomial(1,i)\n",
    "        i += 1\n"
   ]
  },
  {
   "cell_type": "code",
   "execution_count": 32,
   "metadata": {},
   "outputs": [],
   "source": [
    "from itertools import islice"
   ]
  },
  {
   "cell_type": "code",
   "execution_count": 33,
   "metadata": {},
   "outputs": [
    {
     "data": {
      "text/latex": [
       "$1$"
      ],
      "text/plain": [
       "Polynomial(1)"
      ]
     },
     "metadata": {},
     "output_type": "display_data"
    },
    {
     "name": "stdout",
     "output_type": "stream",
     "text": [
      "i=1, p(-i)=1\n",
      "--------------------\n"
     ]
    },
    {
     "data": {
      "text/latex": [
       "$x$"
      ],
      "text/plain": [
       "Polynomial(1, 0)"
      ]
     },
     "metadata": {},
     "output_type": "display_data"
    },
    {
     "name": "stdout",
     "output_type": "stream",
     "text": [
      "i=2, p(-i)=-2\n",
      "--------------------\n"
     ]
    },
    {
     "data": {
      "text/latex": [
       "$x^{2}+x$"
      ],
      "text/plain": [
       "Polynomial(1, 1, 0)"
      ]
     },
     "metadata": {},
     "output_type": "display_data"
    },
    {
     "name": "stdout",
     "output_type": "stream",
     "text": [
      "i=3, p(-i)=6\n",
      "--------------------\n"
     ]
    },
    {
     "data": {
      "text/latex": [
       "$x^{3}+3x^{2}+2x$"
      ],
      "text/plain": [
       "Polynomial(1, 3, 2, 0)"
      ]
     },
     "metadata": {},
     "output_type": "display_data"
    },
    {
     "name": "stdout",
     "output_type": "stream",
     "text": [
      "i=4, p(-i)=-24\n",
      "--------------------\n"
     ]
    },
    {
     "data": {
      "text/latex": [
       "$x^{4}+6x^{3}+11x^{2}+6x$"
      ],
      "text/plain": [
       "Polynomial(1, 6, 11, 6, 0)"
      ]
     },
     "metadata": {},
     "output_type": "display_data"
    },
    {
     "name": "stdout",
     "output_type": "stream",
     "text": [
      "i=5, p(-i)=120\n",
      "--------------------\n"
     ]
    }
   ],
   "source": [
    "for i, p in enumerate(islice(basis(), 5), 1):\n",
    "    display(p)\n",
    "    print(f\"{i=}, {p(-i)=}\")\n",
    "    print(\"-\"*20)"
   ]
  },
  {
   "cell_type": "code",
   "execution_count": 34,
   "metadata": {},
   "outputs": [],
   "source": [
    "def mk_fast_power_sum(p: Polynomial) -> Polynomial:\n",
    "    n = len(p.coeff)\n",
    "    it = iter(basis())\n",
    "    \n",
    "    coeff = p(0)\n",
    "    q0 = coeff*next(it)\n",
    "    q = Polynomial()\n",
    "\n",
    "    for i, pi in enumerate(islice(it, n), 1):\n",
    "        q += (coeff/i)*pi\n",
    "        coeff = ((p(-i) - q0(-i))/pi(-i))\n",
    "        q0 += coeff*pi\n",
    "\n",
    "    return q\n"
   ]
  },
  {
   "cell_type": "code",
   "execution_count": 35,
   "metadata": {},
   "outputs": [
    {
     "data": {
      "text/latex": [
       "$0.5x^{2}+0.5x$"
      ],
      "text/plain": [
       "Polynomial(0.5, 0.5, 0.0)"
      ]
     },
     "execution_count": 35,
     "metadata": {},
     "output_type": "execute_result"
    }
   ],
   "source": [
    "mk_fast_power_sum(Polynomial(1, 0))"
   ]
  },
  {
   "cell_type": "code",
   "execution_count": 36,
   "metadata": {},
   "outputs": [],
   "source": [
    "from fractions import Fraction"
   ]
  },
  {
   "cell_type": "code",
   "execution_count": 37,
   "metadata": {},
   "outputs": [
    {
     "data": {
      "text/latex": [
       "$1/5x^{5}+1/2x^{4}+1/3x^{3}-1/30x$"
      ],
      "text/plain": [
       "Polynomial(1/5, 1/2, 1/3, 0, -1/30, 0)"
      ]
     },
     "execution_count": 37,
     "metadata": {},
     "output_type": "execute_result"
    }
   ],
   "source": [
    "mk_fast_power_sum(Polynomial(Fraction(1, 1), 0, 0, 0, 0))"
   ]
  },
  {
   "cell_type": "markdown",
   "metadata": {},
   "source": [
    "#### Gyors ellenőrzés."
   ]
  },
  {
   "cell_type": "code",
   "execution_count": 38,
   "metadata": {},
   "outputs": [
    {
     "name": "stdout",
     "output_type": "stream",
     "text": [
      "\u001b[32m.\u001b[0m\u001b[32m                                                                                            [100%]\u001b[0m\n",
      "\u001b[32m\u001b[32m\u001b[1m1 passed\u001b[0m\u001b[32m in 0.35s\u001b[0m\u001b[0m\n"
     ]
    }
   ],
   "source": [
    "%%ipytest\n",
    "\n",
    "def test_fast_power_sum():\n",
    "    p0 =  Polynomial(Fraction(1, 1),0)\n",
    "    p1 = p0\n",
    "    for i in range(1, 4):\n",
    "        f = mk_fast_power_sum(p1)\n",
    "        p1 *= p0\n",
    "        g = mk_power_sum(i)\n",
    "        for n in range(1000):\n",
    "            assert f(n) == g(n)"
   ]
  },
  {
   "cell_type": "code",
   "execution_count": 39,
   "metadata": {},
   "outputs": [
    {
     "name": "stdout",
     "output_type": "stream",
     "text": [
      "2.06 ms ± 7.69 µs per loop (mean ± std. dev. of 7 runs, 100 loops each)\n",
      "9.38 µs ± 97.8 ns per loop (mean ± std. dev. of 7 runs, 100,000 loops each)\n",
      "736 ns ± 10.2 ns per loop (mean ± std. dev. of 7 runs, 1,000,000 loops each)\n"
     ]
    }
   ],
   "source": [
    "f2 = mk_fast_power_sum(Polynomial(Fraction(1,1), 0, 0))\n",
    "%timeit f2_slow(10_000)\n",
    "%timeit f2(10_000)\n",
    "%timeit f2_fast(10_000)"
   ]
  },
  {
   "cell_type": "code",
   "execution_count": 40,
   "metadata": {},
   "outputs": [
    {
     "data": {
      "text/plain": [
       "{'coeff': [Fraction(0, 1), Fraction(1, 6), Fraction(1, 2), Fraction(1, 3)]}"
      ]
     },
     "execution_count": 40,
     "metadata": {},
     "output_type": "execute_result"
    }
   ],
   "source": [
    "f2.__dict__\n"
   ]
  },
  {
   "cell_type": "markdown",
   "metadata": {},
   "source": [
    "\n",
    "\n",
    "#### Feladat.\n",
    "\n",
    "Írjuk meg a `grep` program egyszerűsített változatát.\n",
    "\n",
    "A `grep` soronként olvas egy szövegfileból és a megadott mintát tartalmazó sorokat kiírja a kimenetre.\n",
    "\n",
    "Képes arra, hogy kiírja a mintát tartalmazó sorral együtt azt megelőző és azt követő néhány sort is.\n",
    "\n",
    "A mi változatunk egy generator függvény lesz, ami a megadott file soraiból azokat tartja meg, amik az adott mintát tartalmazzák.\n"
   ]
  },
  {
   "cell_type": "markdown",
   "metadata": {},
   "source": [
    "### Olvasás fileból\n",
    "\n",
    "    with open(filename, mode) as file:\n",
    "       do_something with file\n",
    "       \n",
    "- `filename` a file elérési útja\n",
    "- `mode` \n",
    "  + `r` reading olvasás\n",
    "  + `w` writing írás\n",
    "  + `b` binary\n",
    "  + `t` text\n",
    "  + `a` append\n",
    "  \n",
    "  Ha nem adjuk meg `rt`.\n",
    "  \n",
    "  Lehetne még `r, w, rb, wb, a`\n",
    "  "
   ]
  },
  {
   "cell_type": "code",
   "execution_count": null,
   "metadata": {},
   "outputs": [
    {
     "name": "stdout",
     "output_type": "stream",
     "text": [
      "Overwriting test.txt\n"
     ]
    }
   ],
   "source": [
    "%%writefile test.txt\n",
    "első sor\n",
    "második sor\n",
    "harmadik\n",
    "utolsó"
   ]
  },
  {
   "cell_type": "code",
   "execution_count": null,
   "metadata": {},
   "outputs": [
    {
     "name": "stdout",
     "output_type": "stream",
     "text": [
      "<_io.TextIOWrapper name='test.txt' mode='r' encoding='UTF-8'>\n",
      "---test.txt:\n",
      "első sor\n",
      "második sor\n",
      "harmadik\n",
      "utolsó\n",
      "---\n"
     ]
    }
   ],
   "source": [
    "filename = \"test.txt\"\n",
    "\n",
    "with open(filename, \"r\") as file:\n",
    "    print(file)\n",
    "    print(f\"---{filename}:\")\n",
    "    for line in file:\n",
    "        print(line, end=\"\")\n",
    "    print(\"---\")\n",
    "        "
   ]
  },
  {
   "cell_type": "markdown",
   "metadata": {},
   "source": [
    "Egészítsük ki a következő kódot!"
   ]
  },
  {
   "cell_type": "markdown",
   "metadata": {},
   "source": [
    "```\n",
    "def simple_grep(filename: str, pattern: str): # Generator[str]\n",
    "    with open(filename, \"r\") as file:\n",
    "        for line in ???:\n",
    "            if ???:\n",
    "                yield line\n",
    "```"
   ]
  },
  {
   "cell_type": "markdown",
   "metadata": {},
   "source": [
    "### Adatok olvasása netről\n",
    "\n",
    "Ez  megoldható `urllib.request` modullal\n"
   ]
  },
  {
   "cell_type": "code",
   "execution_count": null,
   "metadata": {},
   "outputs": [
    {
     "name": "stdout",
     "output_type": "stream",
     "text": [
      "<class 'bytes'>\n"
     ]
    }
   ],
   "source": [
    "import urllib.request as request\n",
    "\n",
    "url = \"https://www.gutenberg.org/files/1342/1342-0.txt\" # Pride and prejudice\n",
    "url = \"https://www.gutenberg.org/ebooks/67098.txt.utf-8\" # Winnie the pooh\n",
    "\n",
    "with request.urlopen(url) as file:\n",
    "    btext = file.read()\n",
    "\n",
    "print(type(btext))"
   ]
  },
  {
   "cell_type": "code",
   "execution_count": null,
   "metadata": {},
   "outputs": [],
   "source": [
    "text = btext.decode()\n",
    "lines = text.split(\"\\r\\n\")\n"
   ]
  },
  {
   "cell_type": "code",
   "execution_count": null,
   "metadata": {},
   "outputs": [
    {
     "data": {
      "text/plain": [
       "(4003,\n",
       " ['\\ufeffThe Project Gutenberg eBook of Winnie-the-Pooh, by A. A. Milne',\n",
       "  '',\n",
       "  'This eBook is for the use of anyone anywhere in the United States and',\n",
       "  'most other parts of the world at no cost and with almost no restrictions',\n",
       "  'whatsoever. You may copy it, give it away or re-use it under the terms',\n",
       "  'of the Project Gutenberg License included with this eBook or online at',\n",
       "  'www.gutenberg.org. If you are not located in the United States, you',\n",
       "  'will have to check the laws of the country where you are located before',\n",
       "  'using this eBook.',\n",
       "  '',\n",
       "  'Title: Winnie-the-Pooh',\n",
       "  '',\n",
       "  'Author: A. A. Milne',\n",
       "  '',\n",
       "  'Illustrator: Ernest H. Shepard',\n",
       "  '',\n",
       "  'Release Date: January 3, 2022 [eBook #67098]',\n",
       "  '[Most recently updated: October 12, 2022]',\n",
       "  '',\n",
       "  'Language: English',\n",
       "  '',\n",
       "  'Produced by: Greg Weeks, Mary Meehan, Iona Vaughan, David T. Jones and the',\n",
       "  '             online Distributed Proofreaders Canada team at',\n",
       "  '             http://www.pgdpcanada.net',\n",
       "  '',\n",
       "  '*** START OF THE PROJECT GUTENBERG EBOOK WINNIE-THE-POOH ***',\n",
       "  '',\n",
       "  '',\n",
       "  '',\n",
       "  '',\n",
       "  '',\n",
       "  '                            WINNIE-THE-POOH',\n",
       "  '',\n",
       "  '                            _BY A. A. MILNE_',\n",
       "  '',\n",
       "  '',\n",
       "  '',\n",
       "  '',\n",
       "  '                              _JUVENILES_',\n",
       "  '',\n",
       "  '                        When We Were Very Young',\n",
       "  '',\n",
       "  '    \"_The best book of verses for children_ _ever written._\"--A. EDWARD',\n",
       "  '    NEWTON in _The Atlantic Monthly_.',\n",
       "  '',\n",
       "  '              Fourteen Songs from When We Were Very Young',\n",
       "  '',\n",
       "  '    Words by A. A. Milne. Music by H. Fraser-Simson. Decorations by',\n",
       "  '    E. H. Shepard.',\n",
       "  ''])"
      ]
     },
     "metadata": {},
     "output_type": "display_data"
    }
   ],
   "source": [
    "len(lines), lines[:50]"
   ]
  },
  {
   "cell_type": "code",
   "execution_count": null,
   "metadata": {},
   "outputs": [
    {
     "name": "stdout",
     "output_type": "stream",
     "text": [
      "\u001b[0;31mSignature:\u001b[0m \u001b[0mrequest\u001b[0m\u001b[0;34m.\u001b[0m\u001b[0murlretrieve\u001b[0m\u001b[0;34m(\u001b[0m\u001b[0murl\u001b[0m\u001b[0;34m,\u001b[0m \u001b[0mfilename\u001b[0m\u001b[0;34m=\u001b[0m\u001b[0;32mNone\u001b[0m\u001b[0;34m,\u001b[0m \u001b[0mreporthook\u001b[0m\u001b[0;34m=\u001b[0m\u001b[0;32mNone\u001b[0m\u001b[0;34m,\u001b[0m \u001b[0mdata\u001b[0m\u001b[0;34m=\u001b[0m\u001b[0;32mNone\u001b[0m\u001b[0;34m)\u001b[0m\u001b[0;34m\u001b[0m\u001b[0;34m\u001b[0m\u001b[0m\n",
      "\u001b[0;31mDocstring:\u001b[0m\n",
      "Retrieve a URL into a temporary location on disk.\n",
      "\n",
      "Requires a URL argument. If a filename is passed, it is used as\n",
      "the temporary file location. The reporthook argument should be\n",
      "a callable that accepts a block number, a read size, and the\n",
      "total file size of the URL target. The data argument should be\n",
      "valid URL encoded data.\n",
      "\n",
      "If a filename is passed and the URL points to a local resource,\n",
      "the result is a copy from local file to new file.\n",
      "\n",
      "Returns a tuple containing the path to the newly created\n",
      "data file as well as the resulting HTTPMessage object.\n",
      "\u001b[0;31mFile:\u001b[0m      ~/.config/jupyterlab-desktop/jlab_server/lib/python3.8/urllib/request.py\n",
      "\u001b[0;31mType:\u001b[0m      function\n"
     ]
    }
   ],
   "source": [
    "request.urlretrieve?"
   ]
  },
  {
   "cell_type": "code",
   "execution_count": null,
   "metadata": {},
   "outputs": [
    {
     "data": {
      "text/plain": [
       "('winnie-the-pooh.txt', <http.client.HTTPMessage at 0x7f340d775e50>)"
      ]
     },
     "metadata": {},
     "output_type": "display_data"
    }
   ],
   "source": [
    "request.urlretrieve(url, \"winnie-the-pooh.txt\")"
   ]
  },
  {
   "cell_type": "code",
   "execution_count": null,
   "metadata": {},
   "outputs": [
    {
     "name": "stdout",
     "output_type": "stream",
     "text": [
      "1-gyakorlat.ipynb  6-gyakorlat.ipynb  Digraph.gv       test.txt\n",
      "2-gyakorlat.ipynb  7-gyakorlat.ipynb  Digraph.gv.pdf   winnie-the-pooh.txt\n",
      "3-gyakorlat.ipynb  8-gyakorlat.ipynb  P0022_names.txt\n",
      "4-gyakorlat.ipynb  9-gyakorlat.ipynb  __pycache__\n",
      "5-gyakorlat.ipynb  conway.py\t      README.md\n"
     ]
    }
   ],
   "source": [
    "! ls"
   ]
  },
  {
   "cell_type": "code",
   "execution_count": null,
   "metadata": {},
   "outputs": [
    {
     "name": "stdout",
     "output_type": "stream",
     "text": [
      "The Project Gutenberg eBook of Winnie-the-Pooh, by A. A. Milne\n",
      "\n",
      "This eBook is for the use of anyone anywhere in the United States and\n",
      "most other parts of the world at no cost and with almost no restrictions\n",
      "whatsoever. You may copy it, give it away or re-use it under the terms\n",
      "of the Project Gutenberg License included with this eBook or online at\n",
      "www.gutenberg.org. If you are not located in the United States, you\n",
      "will have to check the laws of the country where you are located before\n",
      "using this eBook.\n",
      "\n"
     ]
    }
   ],
   "source": [
    "! head winnie-the-pooh.txt"
   ]
  },
  {
   "cell_type": "code",
   "execution_count": null,
   "metadata": {},
   "outputs": [],
   "source": [
    "def simple_grep(filename: str, pattern: str): # Generator[str]\n",
    "    with open(filename, \"r\") as file:\n",
    "        for lineno, line in enumerate(file):\n",
    "            if pattern in line.lower():\n",
    "                yield lineno, line"
   ]
  },
  {
   "cell_type": "code",
   "execution_count": null,
   "metadata": {},
   "outputs": [
    {
     "data": {
      "text/plain": [
       "[(169, '       IV. IN WHICH EEYORE LOSES A TAIL AND POOH FINDS ONE\\n'),\n",
       " (173, '       VI. IN WHICH EEYORE HAS A BIRTHDAY AND GETS TWO PRESENTS\\n'),\n",
       " (998, '                      IN WHICH EEYORE LOSES A TAIL\\n'),\n",
       " (1002,\n",
       "  'The Old Grey Donkey, Eeyore, stood by himself in a thistly corner of\\n'),\n",
       " (1007,\n",
       "  'about. So when Winnie-the-Pooh came stumping along, Eeyore was very glad\\n')]"
      ]
     },
     "metadata": {},
     "output_type": "display_data"
    }
   ],
   "source": [
    "list(itertools.islice(simple_grep(\"winnie-the-pooh.txt\", \"eeyore\"), 5))"
   ]
  },
  {
   "cell_type": "code",
   "execution_count": null,
   "metadata": {},
   "outputs": [],
   "source": [
    "#open?"
   ]
  },
  {
   "cell_type": "markdown",
   "metadata": {},
   "source": [
    "## Melyek a leggyakoribb szavak a Micimackó angol változatában? "
   ]
  },
  {
   "cell_type": "code",
   "execution_count": null,
   "metadata": {},
   "outputs": [],
   "source": [
    "from collections import Counter"
   ]
  },
  {
   "cell_type": "code",
   "execution_count": null,
   "metadata": {},
   "outputs": [],
   "source": [
    "def words(lines):\n",
    "    for line in lines:\n",
    "        for word in line.split():\n",
    "            yield word"
   ]
  },
  {
   "cell_type": "code",
   "execution_count": null,
   "metadata": {},
   "outputs": [
    {
     "data": {
      "text/plain": [
       "4557"
      ]
     },
     "metadata": {},
     "output_type": "display_data"
    }
   ],
   "source": [
    "with open(\"winnie-the-pooh.txt\") as textfile:\n",
    "    counter = Counter(map(str.lower, words(itertools.islice(textfile, 50_000))))\n",
    "len(counter)"
   ]
  },
  {
   "cell_type": "code",
   "execution_count": null,
   "metadata": {},
   "outputs": [
    {
     "data": {
      "text/plain": [
       "[('and', 995),\n",
       " ('the', 879),\n",
       " ('to', 634),\n",
       " ('he', 634),\n",
       " ('a', 588),\n",
       " ('of', 507),\n",
       " ('said', 445),\n",
       " ('it', 369),\n",
       " ('in', 322),\n",
       " ('you', 320),\n",
       " ('was', 288),\n",
       " ('i', 273),\n",
       " ('his', 220),\n",
       " ('that', 212),\n",
       " ('as', 185),\n",
       " ('with', 165),\n",
       " ('had', 164),\n",
       " ('pooh', 164),\n",
       " ('at', 159),\n",
       " ('for', 156)]"
      ]
     },
     "metadata": {},
     "output_type": "display_data"
    }
   ],
   "source": [
    "counter.most_common(20)"
   ]
  },
  {
   "cell_type": "markdown",
   "metadata": {},
   "source": [
    "# Egy gráfelméleti algoritmus"
   ]
  },
  {
   "cell_type": "markdown",
   "metadata": {},
   "source": [
    "## Feladat"
   ]
  },
  {
   "cell_type": "markdown",
   "metadata": {},
   "source": [
    "Adott egy `n` csúcsú irányítatlan gráf az élek listájával. A gráf csúcsait `0`-tól `n-1`-ig címkéztük meg, az éleket pedig a végpontokkal.\n",
    "\n",
    "Emellett adott egy kiindulási pont és egy végpont. Azt szeretnénk eldönteni, hogy el lehet-e jutni a kiindulási pontból a végpontba a gráf éleit használva.\n",
    "\n",
    "Gondolhatunk arra, hogy a gráf egy úthálózatot ír le és a kérdés az, hogy el tudunk-e jutni `A`-ból `B`-be."
   ]
  },
  {
   "cell_type": "markdown",
   "metadata": {},
   "source": [
    "Pl. `n = 3`, élek `edges = [[0,1], [1,2], [2,0]]`, `A =  0`, `B = 2`."
   ]
  },
  {
   "cell_type": "markdown",
   "metadata": {},
   "source": [
    "Gráfok megjelenítésére egy hasznos könyvtár a `graphviz`."
   ]
  },
  {
   "cell_type": "code",
   "execution_count": 41,
   "metadata": {},
   "outputs": [],
   "source": [
    "import importlib\n",
    "if importlib.util.find_spec('graphviz') is None:\n",
    "    ! pip install graphviz\n",
    "import graphviz"
   ]
  },
  {
   "cell_type": "code",
   "execution_count": 42,
   "metadata": {},
   "outputs": [
    {
     "data": {
      "image/svg+xml": [
       "<?xml version=\"1.0\" encoding=\"UTF-8\" standalone=\"no\"?>\n",
       "<!DOCTYPE svg PUBLIC \"-//W3C//DTD SVG 1.1//EN\"\n",
       " \"http://www.w3.org/Graphics/SVG/1.1/DTD/svg11.dtd\">\n",
       "<!-- Generated by graphviz version 2.43.0 (0)\n",
       " -->\n",
       "<!-- Title: %3 Pages: 1 -->\n",
       "<svg width=\"89pt\" height=\"188pt\"\n",
       " viewBox=\"0.00 0.00 89.00 188.00\" xmlns=\"http://www.w3.org/2000/svg\" xmlns:xlink=\"http://www.w3.org/1999/xlink\">\n",
       "<g id=\"graph0\" class=\"graph\" transform=\"scale(1 1) rotate(0) translate(4 184)\">\n",
       "<title>%3</title>\n",
       "<polygon fill=\"white\" stroke=\"transparent\" points=\"-4,4 -4,-184 85,-184 85,4 -4,4\"/>\n",
       "<!-- 0 -->\n",
       "<g id=\"node1\" class=\"node\">\n",
       "<title>0</title>\n",
       "<ellipse fill=\"none\" stroke=\"black\" cx=\"54\" cy=\"-162\" rx=\"27\" ry=\"18\"/>\n",
       "<text text-anchor=\"middle\" x=\"54\" y=\"-158.3\" font-family=\"Times,serif\" font-size=\"14.00\">0</text>\n",
       "</g>\n",
       "<!-- 1 -->\n",
       "<g id=\"node2\" class=\"node\">\n",
       "<title>1</title>\n",
       "<ellipse fill=\"none\" stroke=\"black\" cx=\"27\" cy=\"-90\" rx=\"27\" ry=\"18\"/>\n",
       "<text text-anchor=\"middle\" x=\"27\" y=\"-86.3\" font-family=\"Times,serif\" font-size=\"14.00\">1</text>\n",
       "</g>\n",
       "<!-- 0&#45;&#45;1 -->\n",
       "<g id=\"edge1\" class=\"edge\">\n",
       "<title>0&#45;&#45;1</title>\n",
       "<path fill=\"none\" stroke=\"black\" d=\"M47.6,-144.41C43.36,-133.41 37.81,-119.03 33.54,-107.96\"/>\n",
       "</g>\n",
       "<!-- 2 -->\n",
       "<g id=\"node3\" class=\"node\">\n",
       "<title>2</title>\n",
       "<ellipse fill=\"none\" stroke=\"black\" cx=\"54\" cy=\"-18\" rx=\"27\" ry=\"18\"/>\n",
       "<text text-anchor=\"middle\" x=\"54\" y=\"-14.3\" font-family=\"Times,serif\" font-size=\"14.00\">2</text>\n",
       "</g>\n",
       "<!-- 1&#45;&#45;2 -->\n",
       "<g id=\"edge2\" class=\"edge\">\n",
       "<title>1&#45;&#45;2</title>\n",
       "<path fill=\"none\" stroke=\"black\" d=\"M33.4,-72.41C37.64,-61.41 43.19,-47.03 47.46,-35.96\"/>\n",
       "</g>\n",
       "<!-- 2&#45;&#45;0 -->\n",
       "<g id=\"edge3\" class=\"edge\">\n",
       "<title>2&#45;&#45;0</title>\n",
       "<path fill=\"none\" stroke=\"black\" d=\"M57.65,-36.09C59.68,-46.43 61.98,-59.91 63,-72 64.34,-87.94 64.34,-92.06 63,-108 61.98,-120.09 59.68,-133.57 57.65,-143.91\"/>\n",
       "</g>\n",
       "</g>\n",
       "</svg>\n"
      ],
      "text/plain": [
       "<graphviz.graphs.Graph at 0x7ff79908c880>"
      ]
     },
     "execution_count": 42,
     "metadata": {},
     "output_type": "execute_result"
    }
   ],
   "source": [
    "edges = [[0,1], [1,2], [2,0]]\n",
    "g0 = graphviz.Graph()\n",
    "\n",
    "g0.edges([(str(a), str(b)) for a, b in edges])\n",
    "g0"
   ]
  },
  {
   "cell_type": "markdown",
   "metadata": {},
   "source": [
    "A gráf összefüggő, tetszőleges `A`, `B` esetén a válasz: `True`"
   ]
  },
  {
   "cell_type": "code",
   "execution_count": 43,
   "metadata": {},
   "outputs": [
    {
     "data": {
      "image/svg+xml": [
       "<?xml version=\"1.0\" encoding=\"UTF-8\" standalone=\"no\"?>\n",
       "<!DOCTYPE svg PUBLIC \"-//W3C//DTD SVG 1.1//EN\"\n",
       " \"http://www.w3.org/Graphics/SVG/1.1/DTD/svg11.dtd\">\n",
       "<!-- Generated by graphviz version 2.43.0 (0)\n",
       " -->\n",
       "<!-- Title: %3 Pages: 1 -->\n",
       "<svg width=\"233pt\" height=\"188pt\"\n",
       " viewBox=\"0.00 0.00 233.00 188.00\" xmlns=\"http://www.w3.org/2000/svg\" xmlns:xlink=\"http://www.w3.org/1999/xlink\">\n",
       "<g id=\"graph0\" class=\"graph\" transform=\"scale(1 1) rotate(0) translate(4 184)\">\n",
       "<title>%3</title>\n",
       "<polygon fill=\"white\" stroke=\"transparent\" points=\"-4,4 -4,-184 229,-184 229,4 -4,4\"/>\n",
       "<!-- 0 -->\n",
       "<g id=\"node1\" class=\"node\">\n",
       "<title>0</title>\n",
       "<ellipse fill=\"none\" stroke=\"black\" cx=\"63\" cy=\"-162\" rx=\"27\" ry=\"18\"/>\n",
       "<text text-anchor=\"middle\" x=\"63\" y=\"-158.3\" font-family=\"Times,serif\" font-size=\"14.00\">0</text>\n",
       "</g>\n",
       "<!-- 1 -->\n",
       "<g id=\"node2\" class=\"node\">\n",
       "<title>1</title>\n",
       "<ellipse fill=\"none\" stroke=\"black\" cx=\"27\" cy=\"-90\" rx=\"27\" ry=\"18\"/>\n",
       "<text text-anchor=\"middle\" x=\"27\" y=\"-86.3\" font-family=\"Times,serif\" font-size=\"14.00\">1</text>\n",
       "</g>\n",
       "<!-- 0&#45;&#45;1 -->\n",
       "<g id=\"edge1\" class=\"edge\">\n",
       "<title>0&#45;&#45;1</title>\n",
       "<path fill=\"none\" stroke=\"black\" d=\"M54.65,-144.76C48.83,-133.46 41.11,-118.44 35.3,-107.15\"/>\n",
       "</g>\n",
       "<!-- 2 -->\n",
       "<g id=\"node3\" class=\"node\">\n",
       "<title>2</title>\n",
       "<ellipse fill=\"none\" stroke=\"black\" cx=\"99\" cy=\"-90\" rx=\"27\" ry=\"18\"/>\n",
       "<text text-anchor=\"middle\" x=\"99\" y=\"-86.3\" font-family=\"Times,serif\" font-size=\"14.00\">2</text>\n",
       "</g>\n",
       "<!-- 0&#45;&#45;2 -->\n",
       "<g id=\"edge2\" class=\"edge\">\n",
       "<title>0&#45;&#45;2</title>\n",
       "<path fill=\"none\" stroke=\"black\" d=\"M71.35,-144.76C77.17,-133.46 84.89,-118.44 90.7,-107.15\"/>\n",
       "</g>\n",
       "<!-- 3 -->\n",
       "<g id=\"node4\" class=\"node\">\n",
       "<title>3</title>\n",
       "<ellipse fill=\"none\" stroke=\"black\" cx=\"198\" cy=\"-162\" rx=\"27\" ry=\"18\"/>\n",
       "<text text-anchor=\"middle\" x=\"198\" y=\"-158.3\" font-family=\"Times,serif\" font-size=\"14.00\">3</text>\n",
       "</g>\n",
       "<!-- 5 -->\n",
       "<g id=\"node5\" class=\"node\">\n",
       "<title>5</title>\n",
       "<ellipse fill=\"none\" stroke=\"black\" cx=\"171\" cy=\"-90\" rx=\"27\" ry=\"18\"/>\n",
       "<text text-anchor=\"middle\" x=\"171\" y=\"-86.3\" font-family=\"Times,serif\" font-size=\"14.00\">5</text>\n",
       "</g>\n",
       "<!-- 3&#45;&#45;5 -->\n",
       "<g id=\"edge3\" class=\"edge\">\n",
       "<title>3&#45;&#45;5</title>\n",
       "<path fill=\"none\" stroke=\"black\" d=\"M191.6,-144.41C187.36,-133.41 181.81,-119.03 177.54,-107.96\"/>\n",
       "</g>\n",
       "<!-- 4 -->\n",
       "<g id=\"node6\" class=\"node\">\n",
       "<title>4</title>\n",
       "<ellipse fill=\"none\" stroke=\"black\" cx=\"198\" cy=\"-18\" rx=\"27\" ry=\"18\"/>\n",
       "<text text-anchor=\"middle\" x=\"198\" y=\"-14.3\" font-family=\"Times,serif\" font-size=\"14.00\">4</text>\n",
       "</g>\n",
       "<!-- 5&#45;&#45;4 -->\n",
       "<g id=\"edge4\" class=\"edge\">\n",
       "<title>5&#45;&#45;4</title>\n",
       "<path fill=\"none\" stroke=\"black\" d=\"M177.4,-72.41C181.64,-61.41 187.19,-47.03 191.46,-35.96\"/>\n",
       "</g>\n",
       "<!-- 4&#45;&#45;3 -->\n",
       "<g id=\"edge5\" class=\"edge\">\n",
       "<title>4&#45;&#45;3</title>\n",
       "<path fill=\"none\" stroke=\"black\" d=\"M201.65,-36.09C203.68,-46.43 205.98,-59.91 207,-72 208.34,-87.94 208.34,-92.06 207,-108 205.98,-120.09 203.68,-133.57 201.65,-143.91\"/>\n",
       "</g>\n",
       "</g>\n",
       "</svg>\n"
      ],
      "text/plain": [
       "<graphviz.graphs.Graph at 0x7ff79908c850>"
      ]
     },
     "execution_count": 43,
     "metadata": {},
     "output_type": "execute_result"
    }
   ],
   "source": [
    "n = 6\n",
    "edges = [[0,1],[0,2],[3,5],[5,4],[4,3]]\n",
    "A = 0\n",
    "B = 5\n",
    "\n",
    "g1 = graphviz.Graph()\n",
    "g1.edges([(str(a), str(b)) for a, b in edges])\n",
    "g1"
   ]
  },
  {
   "cell_type": "markdown",
   "metadata": {},
   "source": [
    "Nincs út 0 és 5 között. A válasz: `False`"
   ]
  },
  {
   "cell_type": "markdown",
   "metadata": {},
   "source": [
    "Összefüggőségi komponenseket szeretnénk számolni.\n",
    "\n"
   ]
  },
  {
   "cell_type": "markdown",
   "metadata": {},
   "source": [
    "## Ötlet.\n",
    "\n",
    "Az él nélküli gráfból indulunk ki. Itt egy elemű komponensek vannak.\n",
    "\n",
    "Minden komponensből válasszunk egy reprezentáns és minden $i$ pontra feljegyezzük, melyik komponensben van.\n",
    "\n",
    "\n"
   ]
  },
  {
   "cell_type": "code",
   "execution_count": 44,
   "metadata": {},
   "outputs": [],
   "source": [
    "def show_graph(roots, direction = 'LR'):\n",
    "    g = graphviz.Digraph(graph_attr={'rankdir': direction})\n",
    "    g.edges((str(i), str(r)) for i, r in enumerate(roots))\n",
    "    return g"
   ]
  },
  {
   "cell_type": "code",
   "execution_count": 45,
   "metadata": {},
   "outputs": [
    {
     "data": {
      "image/svg+xml": [
       "<?xml version=\"1.0\" encoding=\"UTF-8\" standalone=\"no\"?>\n",
       "<!DOCTYPE svg PUBLIC \"-//W3C//DTD SVG 1.1//EN\"\n",
       " \"http://www.w3.org/Graphics/SVG/1.1/DTD/svg11.dtd\">\n",
       "<!-- Generated by graphviz version 2.43.0 (0)\n",
       " -->\n",
       "<!-- Title: %3 Pages: 1 -->\n",
       "<svg width=\"440pt\" height=\"44pt\"\n",
       " viewBox=\"0.00 0.00 440.00 44.00\" xmlns=\"http://www.w3.org/2000/svg\" xmlns:xlink=\"http://www.w3.org/1999/xlink\">\n",
       "<g id=\"graph0\" class=\"graph\" transform=\"scale(1 1) rotate(0) translate(4 40)\">\n",
       "<title>%3</title>\n",
       "<polygon fill=\"white\" stroke=\"transparent\" points=\"-4,4 -4,-40 436,-40 436,4 -4,4\"/>\n",
       "<!-- 0 -->\n",
       "<g id=\"node1\" class=\"node\">\n",
       "<title>0</title>\n",
       "<ellipse fill=\"none\" stroke=\"black\" cx=\"27\" cy=\"-18\" rx=\"27\" ry=\"18\"/>\n",
       "<text text-anchor=\"middle\" x=\"27\" y=\"-14.3\" font-family=\"Times,serif\" font-size=\"14.00\">0</text>\n",
       "</g>\n",
       "<!-- 0&#45;&gt;0 -->\n",
       "<g id=\"edge1\" class=\"edge\">\n",
       "<title>0&#45;&gt;0</title>\n",
       "<path fill=\"none\" stroke=\"black\" d=\"M52.44,-24.69C63.03,-25.15 72,-22.92 72,-18 72,-14.77 68.14,-12.7 62.49,-11.79\"/>\n",
       "<polygon fill=\"black\" stroke=\"black\" points=\"62.6,-8.29 52.44,-11.31 62.27,-15.28 62.6,-8.29\"/>\n",
       "</g>\n",
       "<!-- 1 -->\n",
       "<g id=\"node2\" class=\"node\">\n",
       "<title>1</title>\n",
       "<ellipse fill=\"none\" stroke=\"black\" cx=\"117\" cy=\"-18\" rx=\"27\" ry=\"18\"/>\n",
       "<text text-anchor=\"middle\" x=\"117\" y=\"-14.3\" font-family=\"Times,serif\" font-size=\"14.00\">1</text>\n",
       "</g>\n",
       "<!-- 1&#45;&gt;1 -->\n",
       "<g id=\"edge2\" class=\"edge\">\n",
       "<title>1&#45;&gt;1</title>\n",
       "<path fill=\"none\" stroke=\"black\" d=\"M142.44,-24.69C153.03,-25.15 162,-22.92 162,-18 162,-14.77 158.14,-12.7 152.49,-11.79\"/>\n",
       "<polygon fill=\"black\" stroke=\"black\" points=\"152.6,-8.29 142.44,-11.31 152.27,-15.28 152.6,-8.29\"/>\n",
       "</g>\n",
       "<!-- 2 -->\n",
       "<g id=\"node3\" class=\"node\">\n",
       "<title>2</title>\n",
       "<ellipse fill=\"none\" stroke=\"black\" cx=\"207\" cy=\"-18\" rx=\"27\" ry=\"18\"/>\n",
       "<text text-anchor=\"middle\" x=\"207\" y=\"-14.3\" font-family=\"Times,serif\" font-size=\"14.00\">2</text>\n",
       "</g>\n",
       "<!-- 2&#45;&gt;2 -->\n",
       "<g id=\"edge3\" class=\"edge\">\n",
       "<title>2&#45;&gt;2</title>\n",
       "<path fill=\"none\" stroke=\"black\" d=\"M232.44,-24.69C243.03,-25.15 252,-22.92 252,-18 252,-14.77 248.14,-12.7 242.49,-11.79\"/>\n",
       "<polygon fill=\"black\" stroke=\"black\" points=\"242.6,-8.29 232.44,-11.31 242.27,-15.28 242.6,-8.29\"/>\n",
       "</g>\n",
       "<!-- 3 -->\n",
       "<g id=\"node4\" class=\"node\">\n",
       "<title>3</title>\n",
       "<ellipse fill=\"none\" stroke=\"black\" cx=\"297\" cy=\"-18\" rx=\"27\" ry=\"18\"/>\n",
       "<text text-anchor=\"middle\" x=\"297\" y=\"-14.3\" font-family=\"Times,serif\" font-size=\"14.00\">3</text>\n",
       "</g>\n",
       "<!-- 3&#45;&gt;3 -->\n",
       "<g id=\"edge4\" class=\"edge\">\n",
       "<title>3&#45;&gt;3</title>\n",
       "<path fill=\"none\" stroke=\"black\" d=\"M322.44,-24.69C333.03,-25.15 342,-22.92 342,-18 342,-14.77 338.14,-12.7 332.49,-11.79\"/>\n",
       "<polygon fill=\"black\" stroke=\"black\" points=\"332.6,-8.29 322.44,-11.31 332.27,-15.28 332.6,-8.29\"/>\n",
       "</g>\n",
       "<!-- 4 -->\n",
       "<g id=\"node5\" class=\"node\">\n",
       "<title>4</title>\n",
       "<ellipse fill=\"none\" stroke=\"black\" cx=\"387\" cy=\"-18\" rx=\"27\" ry=\"18\"/>\n",
       "<text text-anchor=\"middle\" x=\"387\" y=\"-14.3\" font-family=\"Times,serif\" font-size=\"14.00\">4</text>\n",
       "</g>\n",
       "<!-- 4&#45;&gt;4 -->\n",
       "<g id=\"edge5\" class=\"edge\">\n",
       "<title>4&#45;&gt;4</title>\n",
       "<path fill=\"none\" stroke=\"black\" d=\"M412.44,-24.69C423.03,-25.15 432,-22.92 432,-18 432,-14.77 428.14,-12.7 422.49,-11.79\"/>\n",
       "<polygon fill=\"black\" stroke=\"black\" points=\"422.6,-8.29 412.44,-11.31 422.27,-15.28 422.6,-8.29\"/>\n",
       "</g>\n",
       "</g>\n",
       "</svg>\n"
      ],
      "text/plain": [
       "<graphviz.graphs.Digraph at 0x7ff799221fc0>"
      ]
     },
     "metadata": {},
     "output_type": "display_data"
    }
   ],
   "source": [
    "n = 5\n",
    "roots = [i for i in range(n)]\n",
    "display(show_graph(roots, 'TD'))"
   ]
  },
  {
   "cell_type": "markdown",
   "metadata": {},
   "source": [
    "ha behúzzuk a $(0, 1)$ élet, akkor $0$ és $1$ azonos komponensbe kerül. Választhatunk a két összeuniózott komponens reprezentánsa között, legyen pl. 1"
   ]
  },
  {
   "cell_type": "code",
   "execution_count": 46,
   "metadata": {},
   "outputs": [
    {
     "data": {
      "image/svg+xml": [
       "<?xml version=\"1.0\" encoding=\"UTF-8\" standalone=\"no\"?>\n",
       "<!DOCTYPE svg PUBLIC \"-//W3C//DTD SVG 1.1//EN\"\n",
       " \"http://www.w3.org/Graphics/SVG/1.1/DTD/svg11.dtd\">\n",
       "<!-- Generated by graphviz version 2.43.0 (0)\n",
       " -->\n",
       "<!-- Title: %3 Pages: 1 -->\n",
       "<svg width=\"332pt\" height=\"116pt\"\n",
       " viewBox=\"0.00 0.00 332.00 116.00\" xmlns=\"http://www.w3.org/2000/svg\" xmlns:xlink=\"http://www.w3.org/1999/xlink\">\n",
       "<g id=\"graph0\" class=\"graph\" transform=\"scale(1 1) rotate(0) translate(4 112)\">\n",
       "<title>%3</title>\n",
       "<polygon fill=\"white\" stroke=\"transparent\" points=\"-4,4 -4,-112 328,-112 328,4 -4,4\"/>\n",
       "<!-- 0 -->\n",
       "<g id=\"node1\" class=\"node\">\n",
       "<title>0</title>\n",
       "<ellipse fill=\"none\" stroke=\"black\" cx=\"27\" cy=\"-90\" rx=\"27\" ry=\"18\"/>\n",
       "<text text-anchor=\"middle\" x=\"27\" y=\"-86.3\" font-family=\"Times,serif\" font-size=\"14.00\">0</text>\n",
       "</g>\n",
       "<!-- 1 -->\n",
       "<g id=\"node2\" class=\"node\">\n",
       "<title>1</title>\n",
       "<ellipse fill=\"none\" stroke=\"black\" cx=\"27\" cy=\"-18\" rx=\"27\" ry=\"18\"/>\n",
       "<text text-anchor=\"middle\" x=\"27\" y=\"-14.3\" font-family=\"Times,serif\" font-size=\"14.00\">1</text>\n",
       "</g>\n",
       "<!-- 0&#45;&gt;1 -->\n",
       "<g id=\"edge1\" class=\"edge\">\n",
       "<title>0&#45;&gt;1</title>\n",
       "<path fill=\"none\" stroke=\"black\" d=\"M27,-71.7C27,-63.98 27,-54.71 27,-46.11\"/>\n",
       "<polygon fill=\"black\" stroke=\"black\" points=\"30.5,-46.1 27,-36.1 23.5,-46.1 30.5,-46.1\"/>\n",
       "</g>\n",
       "<!-- 1&#45;&gt;1 -->\n",
       "<g id=\"edge2\" class=\"edge\">\n",
       "<title>1&#45;&gt;1</title>\n",
       "<path fill=\"none\" stroke=\"black\" d=\"M46.9,-30.43C59.69,-33.68 72,-29.53 72,-18 72,-9.62 65.5,-5.14 57.04,-4.56\"/>\n",
       "<polygon fill=\"black\" stroke=\"black\" points=\"56.5,-1.1 46.9,-5.57 57.19,-8.07 56.5,-1.1\"/>\n",
       "</g>\n",
       "<!-- 2 -->\n",
       "<g id=\"node3\" class=\"node\">\n",
       "<title>2</title>\n",
       "<ellipse fill=\"none\" stroke=\"black\" cx=\"99\" cy=\"-90\" rx=\"27\" ry=\"18\"/>\n",
       "<text text-anchor=\"middle\" x=\"99\" y=\"-86.3\" font-family=\"Times,serif\" font-size=\"14.00\">2</text>\n",
       "</g>\n",
       "<!-- 2&#45;&gt;2 -->\n",
       "<g id=\"edge3\" class=\"edge\">\n",
       "<title>2&#45;&gt;2</title>\n",
       "<path fill=\"none\" stroke=\"black\" d=\"M118.9,-102.43C131.69,-105.68 144,-101.53 144,-90 144,-81.62 137.5,-77.14 129.04,-76.56\"/>\n",
       "<polygon fill=\"black\" stroke=\"black\" points=\"128.5,-73.1 118.9,-77.57 129.19,-80.07 128.5,-73.1\"/>\n",
       "</g>\n",
       "<!-- 3 -->\n",
       "<g id=\"node4\" class=\"node\">\n",
       "<title>3</title>\n",
       "<ellipse fill=\"none\" stroke=\"black\" cx=\"189\" cy=\"-90\" rx=\"27\" ry=\"18\"/>\n",
       "<text text-anchor=\"middle\" x=\"189\" y=\"-86.3\" font-family=\"Times,serif\" font-size=\"14.00\">3</text>\n",
       "</g>\n",
       "<!-- 3&#45;&gt;3 -->\n",
       "<g id=\"edge4\" class=\"edge\">\n",
       "<title>3&#45;&gt;3</title>\n",
       "<path fill=\"none\" stroke=\"black\" d=\"M208.9,-102.43C221.69,-105.68 234,-101.53 234,-90 234,-81.62 227.5,-77.14 219.04,-76.56\"/>\n",
       "<polygon fill=\"black\" stroke=\"black\" points=\"218.5,-73.1 208.9,-77.57 219.19,-80.07 218.5,-73.1\"/>\n",
       "</g>\n",
       "<!-- 4 -->\n",
       "<g id=\"node5\" class=\"node\">\n",
       "<title>4</title>\n",
       "<ellipse fill=\"none\" stroke=\"black\" cx=\"279\" cy=\"-90\" rx=\"27\" ry=\"18\"/>\n",
       "<text text-anchor=\"middle\" x=\"279\" y=\"-86.3\" font-family=\"Times,serif\" font-size=\"14.00\">4</text>\n",
       "</g>\n",
       "<!-- 4&#45;&gt;4 -->\n",
       "<g id=\"edge5\" class=\"edge\">\n",
       "<title>4&#45;&gt;4</title>\n",
       "<path fill=\"none\" stroke=\"black\" d=\"M298.9,-102.43C311.69,-105.68 324,-101.53 324,-90 324,-81.62 317.5,-77.14 309.04,-76.56\"/>\n",
       "<polygon fill=\"black\" stroke=\"black\" points=\"308.5,-73.1 298.9,-77.57 309.19,-80.07 308.5,-73.1\"/>\n",
       "</g>\n",
       "</g>\n",
       "</svg>\n"
      ],
      "text/plain": [
       "<graphviz.graphs.Digraph at 0x7ff799221f60>"
      ]
     },
     "metadata": {},
     "output_type": "display_data"
    }
   ],
   "source": [
    "roots[0] = 1\n",
    "display(show_graph(roots, 'TD'))"
   ]
  },
  {
   "cell_type": "markdown",
   "metadata": {},
   "source": [
    "Ha most a (0, 2) élet akarjuk behúzni, akkor nem állíthatjuk át `roots[0]`. Meg kell keresnünk `0` komponensének reprezentását, ez 1 és vagy `roots[1]`-et állítjuk 2 -re, vagy `roots[2]`-t 1-re."
   ]
  },
  {
   "cell_type": "code",
   "execution_count": 47,
   "metadata": {},
   "outputs": [],
   "source": [
    "def find(roots, a):\n",
    "    while a != roots[a]:\n",
    "        a = roots[a]\n",
    "    return a"
   ]
  },
  {
   "cell_type": "code",
   "execution_count": 48,
   "metadata": {},
   "outputs": [
    {
     "data": {
      "text/plain": [
       "(1, 2)"
      ]
     },
     "execution_count": 48,
     "metadata": {},
     "output_type": "execute_result"
    }
   ],
   "source": [
    "find(roots, 0), find(roots, 2)"
   ]
  },
  {
   "cell_type": "code",
   "execution_count": 49,
   "metadata": {},
   "outputs": [],
   "source": [
    "def union(roots, a, b):\n",
    "    ra = find(roots, a)\n",
    "    rb = find(roots, b)\n",
    "    roots[ra] = rb"
   ]
  },
  {
   "cell_type": "code",
   "execution_count": 50,
   "metadata": {},
   "outputs": [
    {
     "name": "stdout",
     "output_type": "stream",
     "text": [
      "After union(0, 2) roots=[1, 2, 2, 3, 4]\n"
     ]
    },
    {
     "data": {
      "image/svg+xml": [
       "<?xml version=\"1.0\" encoding=\"UTF-8\" standalone=\"no\"?>\n",
       "<!DOCTYPE svg PUBLIC \"-//W3C//DTD SVG 1.1//EN\"\n",
       " \"http://www.w3.org/Graphics/SVG/1.1/DTD/svg11.dtd\">\n",
       "<!-- Generated by graphviz version 2.43.0 (0)\n",
       " -->\n",
       "<!-- Title: %3 Pages: 1 -->\n",
       "<svg width=\"242pt\" height=\"188pt\"\n",
       " viewBox=\"0.00 0.00 242.00 188.00\" xmlns=\"http://www.w3.org/2000/svg\" xmlns:xlink=\"http://www.w3.org/1999/xlink\">\n",
       "<g id=\"graph0\" class=\"graph\" transform=\"scale(1 1) rotate(0) translate(4 184)\">\n",
       "<title>%3</title>\n",
       "<polygon fill=\"white\" stroke=\"transparent\" points=\"-4,4 -4,-184 238,-184 238,4 -4,4\"/>\n",
       "<!-- 0 -->\n",
       "<g id=\"node1\" class=\"node\">\n",
       "<title>0</title>\n",
       "<ellipse fill=\"none\" stroke=\"black\" cx=\"27\" cy=\"-18\" rx=\"27\" ry=\"18\"/>\n",
       "<text text-anchor=\"middle\" x=\"27\" y=\"-14.3\" font-family=\"Times,serif\" font-size=\"14.00\">0</text>\n",
       "</g>\n",
       "<!-- 1 -->\n",
       "<g id=\"node2\" class=\"node\">\n",
       "<title>1</title>\n",
       "<ellipse fill=\"none\" stroke=\"black\" cx=\"117\" cy=\"-18\" rx=\"27\" ry=\"18\"/>\n",
       "<text text-anchor=\"middle\" x=\"117\" y=\"-14.3\" font-family=\"Times,serif\" font-size=\"14.00\">1</text>\n",
       "</g>\n",
       "<!-- 0&#45;&gt;1 -->\n",
       "<g id=\"edge1\" class=\"edge\">\n",
       "<title>0&#45;&gt;1</title>\n",
       "<path fill=\"none\" stroke=\"black\" d=\"M54.4,-18C62.39,-18 71.31,-18 79.82,-18\"/>\n",
       "<polygon fill=\"black\" stroke=\"black\" points=\"79.92,-21.5 89.92,-18 79.92,-14.5 79.92,-21.5\"/>\n",
       "</g>\n",
       "<!-- 2 -->\n",
       "<g id=\"node3\" class=\"node\">\n",
       "<title>2</title>\n",
       "<ellipse fill=\"none\" stroke=\"black\" cx=\"207\" cy=\"-18\" rx=\"27\" ry=\"18\"/>\n",
       "<text text-anchor=\"middle\" x=\"207\" y=\"-14.3\" font-family=\"Times,serif\" font-size=\"14.00\">2</text>\n",
       "</g>\n",
       "<!-- 1&#45;&gt;2 -->\n",
       "<g id=\"edge2\" class=\"edge\">\n",
       "<title>1&#45;&gt;2</title>\n",
       "<path fill=\"none\" stroke=\"black\" d=\"M144.4,-18C152.39,-18 161.31,-18 169.82,-18\"/>\n",
       "<polygon fill=\"black\" stroke=\"black\" points=\"169.92,-21.5 179.92,-18 169.92,-14.5 169.92,-21.5\"/>\n",
       "</g>\n",
       "<!-- 2&#45;&gt;2 -->\n",
       "<g id=\"edge3\" class=\"edge\">\n",
       "<title>2&#45;&gt;2</title>\n",
       "<path fill=\"none\" stroke=\"black\" d=\"M191.77,-33.17C187.16,-43.66 192.23,-54 207,-54 216.92,-54 222.47,-49.33 223.64,-43.09\"/>\n",
       "<polygon fill=\"black\" stroke=\"black\" points=\"227.1,-42.57 222.23,-33.17 220.17,-43.56 227.1,-42.57\"/>\n",
       "</g>\n",
       "<!-- 3 -->\n",
       "<g id=\"node4\" class=\"node\">\n",
       "<title>3</title>\n",
       "<ellipse fill=\"none\" stroke=\"black\" cx=\"27\" cy=\"-72\" rx=\"27\" ry=\"18\"/>\n",
       "<text text-anchor=\"middle\" x=\"27\" y=\"-68.3\" font-family=\"Times,serif\" font-size=\"14.00\">3</text>\n",
       "</g>\n",
       "<!-- 3&#45;&gt;3 -->\n",
       "<g id=\"edge4\" class=\"edge\">\n",
       "<title>3&#45;&gt;3</title>\n",
       "<path fill=\"none\" stroke=\"black\" d=\"M11.77,-87.17C7.16,-97.66 12.23,-108 27,-108 36.92,-108 42.47,-103.33 43.64,-97.09\"/>\n",
       "<polygon fill=\"black\" stroke=\"black\" points=\"47.1,-96.57 42.23,-87.17 40.17,-97.56 47.1,-96.57\"/>\n",
       "</g>\n",
       "<!-- 4 -->\n",
       "<g id=\"node5\" class=\"node\">\n",
       "<title>4</title>\n",
       "<ellipse fill=\"none\" stroke=\"black\" cx=\"27\" cy=\"-144\" rx=\"27\" ry=\"18\"/>\n",
       "<text text-anchor=\"middle\" x=\"27\" y=\"-140.3\" font-family=\"Times,serif\" font-size=\"14.00\">4</text>\n",
       "</g>\n",
       "<!-- 4&#45;&gt;4 -->\n",
       "<g id=\"edge5\" class=\"edge\">\n",
       "<title>4&#45;&gt;4</title>\n",
       "<path fill=\"none\" stroke=\"black\" d=\"M11.77,-159.17C7.16,-169.66 12.23,-180 27,-180 36.92,-180 42.47,-175.33 43.64,-169.09\"/>\n",
       "<polygon fill=\"black\" stroke=\"black\" points=\"47.1,-168.57 42.23,-159.17 40.17,-169.56 47.1,-168.57\"/>\n",
       "</g>\n",
       "</g>\n",
       "</svg>\n"
      ],
      "text/plain": [
       "<graphviz.graphs.Digraph at 0x7ff79908cd30>"
      ]
     },
     "metadata": {},
     "output_type": "display_data"
    },
    {
     "name": "stdout",
     "output_type": "stream",
     "text": [
      "After union(3, 4) roots=[1, 2, 2, 4, 4]\n",
      "[1, 2, 2, 4, 4]\n"
     ]
    },
    {
     "data": {
      "image/svg+xml": [
       "<?xml version=\"1.0\" encoding=\"UTF-8\" standalone=\"no\"?>\n",
       "<!DOCTYPE svg PUBLIC \"-//W3C//DTD SVG 1.1//EN\"\n",
       " \"http://www.w3.org/Graphics/SVG/1.1/DTD/svg11.dtd\">\n",
       "<!-- Generated by graphviz version 2.43.0 (0)\n",
       " -->\n",
       "<!-- Title: %3 Pages: 1 -->\n",
       "<svg width=\"242pt\" height=\"116pt\"\n",
       " viewBox=\"0.00 0.00 242.00 116.00\" xmlns=\"http://www.w3.org/2000/svg\" xmlns:xlink=\"http://www.w3.org/1999/xlink\">\n",
       "<g id=\"graph0\" class=\"graph\" transform=\"scale(1 1) rotate(0) translate(4 112)\">\n",
       "<title>%3</title>\n",
       "<polygon fill=\"white\" stroke=\"transparent\" points=\"-4,4 -4,-112 238,-112 238,4 -4,4\"/>\n",
       "<!-- 0 -->\n",
       "<g id=\"node1\" class=\"node\">\n",
       "<title>0</title>\n",
       "<ellipse fill=\"none\" stroke=\"black\" cx=\"27\" cy=\"-18\" rx=\"27\" ry=\"18\"/>\n",
       "<text text-anchor=\"middle\" x=\"27\" y=\"-14.3\" font-family=\"Times,serif\" font-size=\"14.00\">0</text>\n",
       "</g>\n",
       "<!-- 1 -->\n",
       "<g id=\"node2\" class=\"node\">\n",
       "<title>1</title>\n",
       "<ellipse fill=\"none\" stroke=\"black\" cx=\"117\" cy=\"-18\" rx=\"27\" ry=\"18\"/>\n",
       "<text text-anchor=\"middle\" x=\"117\" y=\"-14.3\" font-family=\"Times,serif\" font-size=\"14.00\">1</text>\n",
       "</g>\n",
       "<!-- 0&#45;&gt;1 -->\n",
       "<g id=\"edge1\" class=\"edge\">\n",
       "<title>0&#45;&gt;1</title>\n",
       "<path fill=\"none\" stroke=\"black\" d=\"M54.4,-18C62.39,-18 71.31,-18 79.82,-18\"/>\n",
       "<polygon fill=\"black\" stroke=\"black\" points=\"79.92,-21.5 89.92,-18 79.92,-14.5 79.92,-21.5\"/>\n",
       "</g>\n",
       "<!-- 2 -->\n",
       "<g id=\"node3\" class=\"node\">\n",
       "<title>2</title>\n",
       "<ellipse fill=\"none\" stroke=\"black\" cx=\"207\" cy=\"-18\" rx=\"27\" ry=\"18\"/>\n",
       "<text text-anchor=\"middle\" x=\"207\" y=\"-14.3\" font-family=\"Times,serif\" font-size=\"14.00\">2</text>\n",
       "</g>\n",
       "<!-- 1&#45;&gt;2 -->\n",
       "<g id=\"edge2\" class=\"edge\">\n",
       "<title>1&#45;&gt;2</title>\n",
       "<path fill=\"none\" stroke=\"black\" d=\"M144.4,-18C152.39,-18 161.31,-18 169.82,-18\"/>\n",
       "<polygon fill=\"black\" stroke=\"black\" points=\"169.92,-21.5 179.92,-18 169.92,-14.5 169.92,-21.5\"/>\n",
       "</g>\n",
       "<!-- 2&#45;&gt;2 -->\n",
       "<g id=\"edge3\" class=\"edge\">\n",
       "<title>2&#45;&gt;2</title>\n",
       "<path fill=\"none\" stroke=\"black\" d=\"M191.77,-33.17C187.16,-43.66 192.23,-54 207,-54 216.92,-54 222.47,-49.33 223.64,-43.09\"/>\n",
       "<polygon fill=\"black\" stroke=\"black\" points=\"227.1,-42.57 222.23,-33.17 220.17,-43.56 227.1,-42.57\"/>\n",
       "</g>\n",
       "<!-- 3 -->\n",
       "<g id=\"node4\" class=\"node\">\n",
       "<title>3</title>\n",
       "<ellipse fill=\"none\" stroke=\"black\" cx=\"27\" cy=\"-72\" rx=\"27\" ry=\"18\"/>\n",
       "<text text-anchor=\"middle\" x=\"27\" y=\"-68.3\" font-family=\"Times,serif\" font-size=\"14.00\">3</text>\n",
       "</g>\n",
       "<!-- 4 -->\n",
       "<g id=\"node5\" class=\"node\">\n",
       "<title>4</title>\n",
       "<ellipse fill=\"none\" stroke=\"black\" cx=\"117\" cy=\"-72\" rx=\"27\" ry=\"18\"/>\n",
       "<text text-anchor=\"middle\" x=\"117\" y=\"-68.3\" font-family=\"Times,serif\" font-size=\"14.00\">4</text>\n",
       "</g>\n",
       "<!-- 3&#45;&gt;4 -->\n",
       "<g id=\"edge4\" class=\"edge\">\n",
       "<title>3&#45;&gt;4</title>\n",
       "<path fill=\"none\" stroke=\"black\" d=\"M54.4,-72C62.39,-72 71.31,-72 79.82,-72\"/>\n",
       "<polygon fill=\"black\" stroke=\"black\" points=\"79.92,-75.5 89.92,-72 79.92,-68.5 79.92,-75.5\"/>\n",
       "</g>\n",
       "<!-- 4&#45;&gt;4 -->\n",
       "<g id=\"edge5\" class=\"edge\">\n",
       "<title>4&#45;&gt;4</title>\n",
       "<path fill=\"none\" stroke=\"black\" d=\"M101.77,-87.17C97.16,-97.66 102.23,-108 117,-108 126.92,-108 132.47,-103.33 133.64,-97.09\"/>\n",
       "<polygon fill=\"black\" stroke=\"black\" points=\"137.1,-96.57 132.23,-87.17 130.17,-97.56 137.1,-96.57\"/>\n",
       "</g>\n",
       "</g>\n",
       "</svg>\n"
      ],
      "text/plain": [
       "<graphviz.graphs.Digraph at 0x7ff799226830>"
      ]
     },
     "metadata": {},
     "output_type": "display_data"
    },
    {
     "name": "stdout",
     "output_type": "stream",
     "text": [
      "After union(3, 2) roots=[1, 2, 2, 4, 2]\n",
      "[1, 2, 2, 4, 2]\n"
     ]
    },
    {
     "data": {
      "image/svg+xml": [
       "<?xml version=\"1.0\" encoding=\"UTF-8\" standalone=\"no\"?>\n",
       "<!DOCTYPE svg PUBLIC \"-//W3C//DTD SVG 1.1//EN\"\n",
       " \"http://www.w3.org/Graphics/SVG/1.1/DTD/svg11.dtd\">\n",
       "<!-- Generated by graphviz version 2.43.0 (0)\n",
       " -->\n",
       "<!-- Title: %3 Pages: 1 -->\n",
       "<svg width=\"242pt\" height=\"98pt\"\n",
       " viewBox=\"0.00 0.00 242.00 98.00\" xmlns=\"http://www.w3.org/2000/svg\" xmlns:xlink=\"http://www.w3.org/1999/xlink\">\n",
       "<g id=\"graph0\" class=\"graph\" transform=\"scale(1 1) rotate(0) translate(4 94)\">\n",
       "<title>%3</title>\n",
       "<polygon fill=\"white\" stroke=\"transparent\" points=\"-4,4 -4,-94 238,-94 238,4 -4,4\"/>\n",
       "<!-- 0 -->\n",
       "<g id=\"node1\" class=\"node\">\n",
       "<title>0</title>\n",
       "<ellipse fill=\"none\" stroke=\"black\" cx=\"27\" cy=\"-72\" rx=\"27\" ry=\"18\"/>\n",
       "<text text-anchor=\"middle\" x=\"27\" y=\"-68.3\" font-family=\"Times,serif\" font-size=\"14.00\">0</text>\n",
       "</g>\n",
       "<!-- 1 -->\n",
       "<g id=\"node2\" class=\"node\">\n",
       "<title>1</title>\n",
       "<ellipse fill=\"none\" stroke=\"black\" cx=\"117\" cy=\"-72\" rx=\"27\" ry=\"18\"/>\n",
       "<text text-anchor=\"middle\" x=\"117\" y=\"-68.3\" font-family=\"Times,serif\" font-size=\"14.00\">1</text>\n",
       "</g>\n",
       "<!-- 0&#45;&gt;1 -->\n",
       "<g id=\"edge1\" class=\"edge\">\n",
       "<title>0&#45;&gt;1</title>\n",
       "<path fill=\"none\" stroke=\"black\" d=\"M54.4,-72C62.39,-72 71.31,-72 79.82,-72\"/>\n",
       "<polygon fill=\"black\" stroke=\"black\" points=\"79.92,-75.5 89.92,-72 79.92,-68.5 79.92,-75.5\"/>\n",
       "</g>\n",
       "<!-- 2 -->\n",
       "<g id=\"node3\" class=\"node\">\n",
       "<title>2</title>\n",
       "<ellipse fill=\"none\" stroke=\"black\" cx=\"207\" cy=\"-45\" rx=\"27\" ry=\"18\"/>\n",
       "<text text-anchor=\"middle\" x=\"207\" y=\"-41.3\" font-family=\"Times,serif\" font-size=\"14.00\">2</text>\n",
       "</g>\n",
       "<!-- 1&#45;&gt;2 -->\n",
       "<g id=\"edge2\" class=\"edge\">\n",
       "<title>1&#45;&gt;2</title>\n",
       "<path fill=\"none\" stroke=\"black\" d=\"M142.05,-64.62C151.44,-61.74 162.36,-58.39 172.5,-55.28\"/>\n",
       "<polygon fill=\"black\" stroke=\"black\" points=\"173.75,-58.55 182.29,-52.28 171.7,-51.86 173.75,-58.55\"/>\n",
       "</g>\n",
       "<!-- 2&#45;&gt;2 -->\n",
       "<g id=\"edge3\" class=\"edge\">\n",
       "<title>2&#45;&gt;2</title>\n",
       "<path fill=\"none\" stroke=\"black\" d=\"M191.77,-60.17C187.16,-70.66 192.23,-81 207,-81 216.92,-81 222.47,-76.33 223.64,-70.09\"/>\n",
       "<polygon fill=\"black\" stroke=\"black\" points=\"227.1,-69.57 222.23,-60.17 220.17,-70.56 227.1,-69.57\"/>\n",
       "</g>\n",
       "<!-- 3 -->\n",
       "<g id=\"node4\" class=\"node\">\n",
       "<title>3</title>\n",
       "<ellipse fill=\"none\" stroke=\"black\" cx=\"27\" cy=\"-18\" rx=\"27\" ry=\"18\"/>\n",
       "<text text-anchor=\"middle\" x=\"27\" y=\"-14.3\" font-family=\"Times,serif\" font-size=\"14.00\">3</text>\n",
       "</g>\n",
       "<!-- 4 -->\n",
       "<g id=\"node5\" class=\"node\">\n",
       "<title>4</title>\n",
       "<ellipse fill=\"none\" stroke=\"black\" cx=\"117\" cy=\"-18\" rx=\"27\" ry=\"18\"/>\n",
       "<text text-anchor=\"middle\" x=\"117\" y=\"-14.3\" font-family=\"Times,serif\" font-size=\"14.00\">4</text>\n",
       "</g>\n",
       "<!-- 3&#45;&gt;4 -->\n",
       "<g id=\"edge4\" class=\"edge\">\n",
       "<title>3&#45;&gt;4</title>\n",
       "<path fill=\"none\" stroke=\"black\" d=\"M54.4,-18C62.39,-18 71.31,-18 79.82,-18\"/>\n",
       "<polygon fill=\"black\" stroke=\"black\" points=\"79.92,-21.5 89.92,-18 79.92,-14.5 79.92,-21.5\"/>\n",
       "</g>\n",
       "<!-- 4&#45;&gt;2 -->\n",
       "<g id=\"edge5\" class=\"edge\">\n",
       "<title>4&#45;&gt;2</title>\n",
       "<path fill=\"none\" stroke=\"black\" d=\"M142.05,-25.38C151.44,-28.26 162.36,-31.61 172.5,-34.72\"/>\n",
       "<polygon fill=\"black\" stroke=\"black\" points=\"171.7,-38.14 182.29,-37.72 173.75,-31.45 171.7,-38.14\"/>\n",
       "</g>\n",
       "</g>\n",
       "</svg>\n"
      ],
      "text/plain": [
       "<graphviz.graphs.Digraph at 0x7ff799226ec0>"
      ]
     },
     "metadata": {},
     "output_type": "display_data"
    }
   ],
   "source": [
    "union(roots, 0, 2)\n",
    "print(f\"After union(0, 2) {roots=}\")\n",
    "display(show_graph(roots))\n",
    "\n",
    "union(roots, 3, 4)\n",
    "print(f\"After union(3, 4) {roots=}\")\n",
    "print(roots)\n",
    "display(show_graph(roots))\n",
    "\n",
    "union(roots, 3, 2)\n",
    "print(f\"After union(3, 2) {roots=}\")\n",
    "print(roots)\n",
    "display(show_graph(roots))"
   ]
  },
  {
   "cell_type": "markdown",
   "metadata": {},
   "source": [
    "Ezután az a kérdés, hogy el lehet-e jutni `A`-ból, `B`-be könnyen eldönthető. Ha `A` és `B` azonos komponensben van, akkor `A` és `B` között megy út az eredeti gráfban, különben nem."
   ]
  },
  {
   "cell_type": "markdown",
   "metadata": {},
   "source": [
    "1. példa\n",
    "`n = 3`, élek `edges = [[0,1], [1,2], [2,0]]`, `A =  0`, `B = 2`."
   ]
  },
  {
   "cell_type": "code",
   "execution_count": 51,
   "metadata": {},
   "outputs": [],
   "source": [
    "def show_edges(edges, direction='LR'):\n",
    "    g = graphviz.Graph(graph_attr={'rankdir': direction})\n",
    "    g.edges([(str(a), str(b)) for a, b in edges])\n",
    "    return g"
   ]
  },
  {
   "cell_type": "code",
   "execution_count": 52,
   "metadata": {},
   "outputs": [
    {
     "data": {
      "image/svg+xml": [
       "<?xml version=\"1.0\" encoding=\"UTF-8\" standalone=\"no\"?>\n",
       "<!DOCTYPE svg PUBLIC \"-//W3C//DTD SVG 1.1//EN\"\n",
       " \"http://www.w3.org/Graphics/SVG/1.1/DTD/svg11.dtd\">\n",
       "<!-- Generated by graphviz version 2.43.0 (0)\n",
       " -->\n",
       "<!-- Title: %3 Pages: 1 -->\n",
       "<svg width=\"89pt\" height=\"188pt\"\n",
       " viewBox=\"0.00 0.00 89.00 188.00\" xmlns=\"http://www.w3.org/2000/svg\" xmlns:xlink=\"http://www.w3.org/1999/xlink\">\n",
       "<g id=\"graph0\" class=\"graph\" transform=\"scale(1 1) rotate(0) translate(4 184)\">\n",
       "<title>%3</title>\n",
       "<polygon fill=\"white\" stroke=\"transparent\" points=\"-4,4 -4,-184 85,-184 85,4 -4,4\"/>\n",
       "<!-- 0 -->\n",
       "<g id=\"node1\" class=\"node\">\n",
       "<title>0</title>\n",
       "<ellipse fill=\"none\" stroke=\"black\" cx=\"54\" cy=\"-162\" rx=\"27\" ry=\"18\"/>\n",
       "<text text-anchor=\"middle\" x=\"54\" y=\"-158.3\" font-family=\"Times,serif\" font-size=\"14.00\">0</text>\n",
       "</g>\n",
       "<!-- 1 -->\n",
       "<g id=\"node2\" class=\"node\">\n",
       "<title>1</title>\n",
       "<ellipse fill=\"none\" stroke=\"black\" cx=\"27\" cy=\"-90\" rx=\"27\" ry=\"18\"/>\n",
       "<text text-anchor=\"middle\" x=\"27\" y=\"-86.3\" font-family=\"Times,serif\" font-size=\"14.00\">1</text>\n",
       "</g>\n",
       "<!-- 0&#45;&#45;1 -->\n",
       "<g id=\"edge1\" class=\"edge\">\n",
       "<title>0&#45;&#45;1</title>\n",
       "<path fill=\"none\" stroke=\"black\" d=\"M47.6,-144.41C43.36,-133.41 37.81,-119.03 33.54,-107.96\"/>\n",
       "</g>\n",
       "<!-- 2 -->\n",
       "<g id=\"node3\" class=\"node\">\n",
       "<title>2</title>\n",
       "<ellipse fill=\"none\" stroke=\"black\" cx=\"54\" cy=\"-18\" rx=\"27\" ry=\"18\"/>\n",
       "<text text-anchor=\"middle\" x=\"54\" y=\"-14.3\" font-family=\"Times,serif\" font-size=\"14.00\">2</text>\n",
       "</g>\n",
       "<!-- 1&#45;&#45;2 -->\n",
       "<g id=\"edge2\" class=\"edge\">\n",
       "<title>1&#45;&#45;2</title>\n",
       "<path fill=\"none\" stroke=\"black\" d=\"M33.4,-72.41C37.64,-61.41 43.19,-47.03 47.46,-35.96\"/>\n",
       "</g>\n",
       "<!-- 2&#45;&#45;0 -->\n",
       "<g id=\"edge3\" class=\"edge\">\n",
       "<title>2&#45;&#45;0</title>\n",
       "<path fill=\"none\" stroke=\"black\" d=\"M57.65,-36.09C59.68,-46.43 61.98,-59.91 63,-72 64.34,-87.94 64.34,-92.06 63,-108 61.98,-120.09 59.68,-133.57 57.65,-143.91\"/>\n",
       "</g>\n",
       "</g>\n",
       "</svg>\n"
      ],
      "text/plain": [
       "<graphviz.graphs.Graph at 0x7ff79908ded0>"
      ]
     },
     "metadata": {},
     "output_type": "display_data"
    },
    {
     "name": "stdout",
     "output_type": "stream",
     "text": [
      "Eredeti gráf\n",
      "==================================================\n"
     ]
    },
    {
     "data": {
      "image/svg+xml": [
       "<?xml version=\"1.0\" encoding=\"UTF-8\" standalone=\"no\"?>\n",
       "<!DOCTYPE svg PUBLIC \"-//W3C//DTD SVG 1.1//EN\"\n",
       " \"http://www.w3.org/Graphics/SVG/1.1/DTD/svg11.dtd\">\n",
       "<!-- Generated by graphviz version 2.43.0 (0)\n",
       " -->\n",
       "<!-- Title: %3 Pages: 1 -->\n",
       "<svg width=\"242pt\" height=\"62pt\"\n",
       " viewBox=\"0.00 0.00 242.00 62.00\" xmlns=\"http://www.w3.org/2000/svg\" xmlns:xlink=\"http://www.w3.org/1999/xlink\">\n",
       "<g id=\"graph0\" class=\"graph\" transform=\"scale(1 1) rotate(0) translate(4 58)\">\n",
       "<title>%3</title>\n",
       "<polygon fill=\"white\" stroke=\"transparent\" points=\"-4,4 -4,-58 238,-58 238,4 -4,4\"/>\n",
       "<!-- 0 -->\n",
       "<g id=\"node1\" class=\"node\">\n",
       "<title>0</title>\n",
       "<ellipse fill=\"none\" stroke=\"black\" cx=\"27\" cy=\"-18\" rx=\"27\" ry=\"18\"/>\n",
       "<text text-anchor=\"middle\" x=\"27\" y=\"-14.3\" font-family=\"Times,serif\" font-size=\"14.00\">0</text>\n",
       "</g>\n",
       "<!-- 1 -->\n",
       "<g id=\"node2\" class=\"node\">\n",
       "<title>1</title>\n",
       "<ellipse fill=\"none\" stroke=\"black\" cx=\"117\" cy=\"-18\" rx=\"27\" ry=\"18\"/>\n",
       "<text text-anchor=\"middle\" x=\"117\" y=\"-14.3\" font-family=\"Times,serif\" font-size=\"14.00\">1</text>\n",
       "</g>\n",
       "<!-- 0&#45;&gt;1 -->\n",
       "<g id=\"edge1\" class=\"edge\">\n",
       "<title>0&#45;&gt;1</title>\n",
       "<path fill=\"none\" stroke=\"black\" d=\"M54.4,-18C62.39,-18 71.31,-18 79.82,-18\"/>\n",
       "<polygon fill=\"black\" stroke=\"black\" points=\"79.92,-21.5 89.92,-18 79.92,-14.5 79.92,-21.5\"/>\n",
       "</g>\n",
       "<!-- 2 -->\n",
       "<g id=\"node3\" class=\"node\">\n",
       "<title>2</title>\n",
       "<ellipse fill=\"none\" stroke=\"black\" cx=\"207\" cy=\"-18\" rx=\"27\" ry=\"18\"/>\n",
       "<text text-anchor=\"middle\" x=\"207\" y=\"-14.3\" font-family=\"Times,serif\" font-size=\"14.00\">2</text>\n",
       "</g>\n",
       "<!-- 1&#45;&gt;2 -->\n",
       "<g id=\"edge2\" class=\"edge\">\n",
       "<title>1&#45;&gt;2</title>\n",
       "<path fill=\"none\" stroke=\"black\" d=\"M144.4,-18C152.39,-18 161.31,-18 169.82,-18\"/>\n",
       "<polygon fill=\"black\" stroke=\"black\" points=\"169.92,-21.5 179.92,-18 169.92,-14.5 169.92,-21.5\"/>\n",
       "</g>\n",
       "<!-- 2&#45;&gt;2 -->\n",
       "<g id=\"edge3\" class=\"edge\">\n",
       "<title>2&#45;&gt;2</title>\n",
       "<path fill=\"none\" stroke=\"black\" d=\"M191.77,-33.17C187.16,-43.66 192.23,-54 207,-54 216.92,-54 222.47,-49.33 223.64,-43.09\"/>\n",
       "<polygon fill=\"black\" stroke=\"black\" points=\"227.1,-42.57 222.23,-33.17 220.17,-43.56 227.1,-42.57\"/>\n",
       "</g>\n",
       "</g>\n",
       "</svg>\n"
      ],
      "text/plain": [
       "<graphviz.graphs.Digraph at 0x7ff799222f20>"
      ]
     },
     "metadata": {},
     "output_type": "display_data"
    },
    {
     "name": "stdout",
     "output_type": "stream",
     "text": [
      "A=0 és B=2 azonos komponensben van\n"
     ]
    }
   ],
   "source": [
    "n = 3\n",
    "edges = [[0,1], [1,2], [2,0]]\n",
    "A =  0\n",
    "B = 2\n",
    "\n",
    "display(show_edges(edges, 'TD'))\n",
    "print(f\"Eredeti gráf\")\n",
    "print(\"=\"*50)\n",
    "\n",
    "roots = [i for i in range(n)]\n",
    "for a, b in edges:\n",
    "    union(roots, a, b)\n",
    "\n",
    "display(show_graph(roots))\n",
    "print(f\"{A=} és {B=} {'azonos' if find(roots, A)==find(roots, B) else 'különböző'} komponensben van\")"
   ]
  },
  {
   "cell_type": "markdown",
   "metadata": {},
   "source": [
    "2. példa"
   ]
  },
  {
   "cell_type": "code",
   "execution_count": 53,
   "metadata": {},
   "outputs": [
    {
     "data": {
      "image/svg+xml": [
       "<?xml version=\"1.0\" encoding=\"UTF-8\" standalone=\"no\"?>\n",
       "<!DOCTYPE svg PUBLIC \"-//W3C//DTD SVG 1.1//EN\"\n",
       " \"http://www.w3.org/Graphics/SVG/1.1/DTD/svg11.dtd\">\n",
       "<!-- Generated by graphviz version 2.43.0 (0)\n",
       " -->\n",
       "<!-- Title: %3 Pages: 1 -->\n",
       "<svg width=\"242pt\" height=\"190pt\"\n",
       " viewBox=\"0.00 0.00 242.00 190.00\" xmlns=\"http://www.w3.org/2000/svg\" xmlns:xlink=\"http://www.w3.org/1999/xlink\">\n",
       "<g id=\"graph0\" class=\"graph\" transform=\"scale(1 1) rotate(0) translate(4 186)\">\n",
       "<title>%3</title>\n",
       "<polygon fill=\"white\" stroke=\"transparent\" points=\"-4,4 -4,-186 238,-186 238,4 -4,4\"/>\n",
       "<!-- 0 -->\n",
       "<g id=\"node1\" class=\"node\">\n",
       "<title>0</title>\n",
       "<ellipse fill=\"none\" stroke=\"black\" cx=\"27\" cy=\"-45\" rx=\"27\" ry=\"18\"/>\n",
       "<text text-anchor=\"middle\" x=\"27\" y=\"-41.3\" font-family=\"Times,serif\" font-size=\"14.00\">0</text>\n",
       "</g>\n",
       "<!-- 1 -->\n",
       "<g id=\"node2\" class=\"node\">\n",
       "<title>1</title>\n",
       "<ellipse fill=\"none\" stroke=\"black\" cx=\"117\" cy=\"-72\" rx=\"27\" ry=\"18\"/>\n",
       "<text text-anchor=\"middle\" x=\"117\" y=\"-68.3\" font-family=\"Times,serif\" font-size=\"14.00\">1</text>\n",
       "</g>\n",
       "<!-- 0&#45;&#45;1 -->\n",
       "<g id=\"edge1\" class=\"edge\">\n",
       "<title>0&#45;&#45;1</title>\n",
       "<path fill=\"none\" stroke=\"black\" d=\"M52.05,-52.38C64.57,-56.22 79.82,-60.9 92.29,-64.72\"/>\n",
       "</g>\n",
       "<!-- 2 -->\n",
       "<g id=\"node3\" class=\"node\">\n",
       "<title>2</title>\n",
       "<ellipse fill=\"none\" stroke=\"black\" cx=\"117\" cy=\"-18\" rx=\"27\" ry=\"18\"/>\n",
       "<text text-anchor=\"middle\" x=\"117\" y=\"-14.3\" font-family=\"Times,serif\" font-size=\"14.00\">2</text>\n",
       "</g>\n",
       "<!-- 0&#45;&#45;2 -->\n",
       "<g id=\"edge2\" class=\"edge\">\n",
       "<title>0&#45;&#45;2</title>\n",
       "<path fill=\"none\" stroke=\"black\" d=\"M52.05,-37.62C64.57,-33.78 79.82,-29.1 92.29,-25.28\"/>\n",
       "</g>\n",
       "<!-- 3 -->\n",
       "<g id=\"node4\" class=\"node\">\n",
       "<title>3</title>\n",
       "<ellipse fill=\"none\" stroke=\"black\" cx=\"27\" cy=\"-141\" rx=\"27\" ry=\"18\"/>\n",
       "<text text-anchor=\"middle\" x=\"27\" y=\"-137.3\" font-family=\"Times,serif\" font-size=\"14.00\">3</text>\n",
       "</g>\n",
       "<!-- 5 -->\n",
       "<g id=\"node5\" class=\"node\">\n",
       "<title>5</title>\n",
       "<ellipse fill=\"none\" stroke=\"black\" cx=\"117\" cy=\"-164\" rx=\"27\" ry=\"18\"/>\n",
       "<text text-anchor=\"middle\" x=\"117\" y=\"-160.3\" font-family=\"Times,serif\" font-size=\"14.00\">5</text>\n",
       "</g>\n",
       "<!-- 3&#45;&#45;5 -->\n",
       "<g id=\"edge3\" class=\"edge\">\n",
       "<title>3&#45;&#45;5</title>\n",
       "<path fill=\"none\" stroke=\"black\" d=\"M52.51,-147.41C64.72,-150.6 79.43,-154.44 91.62,-157.63\"/>\n",
       "</g>\n",
       "<!-- 4 -->\n",
       "<g id=\"node6\" class=\"node\">\n",
       "<title>4</title>\n",
       "<ellipse fill=\"none\" stroke=\"black\" cx=\"207\" cy=\"-141\" rx=\"27\" ry=\"18\"/>\n",
       "<text text-anchor=\"middle\" x=\"207\" y=\"-137.3\" font-family=\"Times,serif\" font-size=\"14.00\">4</text>\n",
       "</g>\n",
       "<!-- 5&#45;&#45;4 -->\n",
       "<g id=\"edge4\" class=\"edge\">\n",
       "<title>5&#45;&#45;4</title>\n",
       "<path fill=\"none\" stroke=\"black\" d=\"M142.51,-157.59C154.72,-154.4 169.43,-150.56 181.62,-147.37\"/>\n",
       "</g>\n",
       "<!-- 4&#45;&#45;3 -->\n",
       "<g id=\"edge5\" class=\"edge\">\n",
       "<title>4&#45;&#45;3</title>\n",
       "<path fill=\"none\" stroke=\"black\" d=\"M180.08,-138.95C168.97,-138.17 155.86,-137.38 144,-137 120.01,-136.23 113.99,-136.23 90,-137 78.14,-137.38 65.03,-138.17 53.92,-138.95\"/>\n",
       "</g>\n",
       "</g>\n",
       "</svg>\n"
      ],
      "text/plain": [
       "<graphviz.graphs.Graph at 0x7ff79908d150>"
      ]
     },
     "metadata": {},
     "output_type": "display_data"
    },
    {
     "name": "stdout",
     "output_type": "stream",
     "text": [
      "Eredeti gráf\n",
      "==================================================\n"
     ]
    },
    {
     "data": {
      "image/svg+xml": [
       "<?xml version=\"1.0\" encoding=\"UTF-8\" standalone=\"no\"?>\n",
       "<!DOCTYPE svg PUBLIC \"-//W3C//DTD SVG 1.1//EN\"\n",
       " \"http://www.w3.org/Graphics/SVG/1.1/DTD/svg11.dtd\">\n",
       "<!-- Generated by graphviz version 2.43.0 (0)\n",
       " -->\n",
       "<!-- Title: %3 Pages: 1 -->\n",
       "<svg width=\"242pt\" height=\"134pt\"\n",
       " viewBox=\"0.00 0.00 242.00 134.00\" xmlns=\"http://www.w3.org/2000/svg\" xmlns:xlink=\"http://www.w3.org/1999/xlink\">\n",
       "<g id=\"graph0\" class=\"graph\" transform=\"scale(1 1) rotate(0) translate(4 130)\">\n",
       "<title>%3</title>\n",
       "<polygon fill=\"white\" stroke=\"transparent\" points=\"-4,4 -4,-130 238,-130 238,4 -4,4\"/>\n",
       "<!-- 0 -->\n",
       "<g id=\"node1\" class=\"node\">\n",
       "<title>0</title>\n",
       "<ellipse fill=\"none\" stroke=\"black\" cx=\"27\" cy=\"-18\" rx=\"27\" ry=\"18\"/>\n",
       "<text text-anchor=\"middle\" x=\"27\" y=\"-14.3\" font-family=\"Times,serif\" font-size=\"14.00\">0</text>\n",
       "</g>\n",
       "<!-- 1 -->\n",
       "<g id=\"node2\" class=\"node\">\n",
       "<title>1</title>\n",
       "<ellipse fill=\"none\" stroke=\"black\" cx=\"117\" cy=\"-18\" rx=\"27\" ry=\"18\"/>\n",
       "<text text-anchor=\"middle\" x=\"117\" y=\"-14.3\" font-family=\"Times,serif\" font-size=\"14.00\">1</text>\n",
       "</g>\n",
       "<!-- 0&#45;&gt;1 -->\n",
       "<g id=\"edge1\" class=\"edge\">\n",
       "<title>0&#45;&gt;1</title>\n",
       "<path fill=\"none\" stroke=\"black\" d=\"M54.4,-18C62.39,-18 71.31,-18 79.82,-18\"/>\n",
       "<polygon fill=\"black\" stroke=\"black\" points=\"79.92,-21.5 89.92,-18 79.92,-14.5 79.92,-21.5\"/>\n",
       "</g>\n",
       "<!-- 2 -->\n",
       "<g id=\"node3\" class=\"node\">\n",
       "<title>2</title>\n",
       "<ellipse fill=\"none\" stroke=\"black\" cx=\"207\" cy=\"-18\" rx=\"27\" ry=\"18\"/>\n",
       "<text text-anchor=\"middle\" x=\"207\" y=\"-14.3\" font-family=\"Times,serif\" font-size=\"14.00\">2</text>\n",
       "</g>\n",
       "<!-- 1&#45;&gt;2 -->\n",
       "<g id=\"edge2\" class=\"edge\">\n",
       "<title>1&#45;&gt;2</title>\n",
       "<path fill=\"none\" stroke=\"black\" d=\"M144.4,-18C152.39,-18 161.31,-18 169.82,-18\"/>\n",
       "<polygon fill=\"black\" stroke=\"black\" points=\"169.92,-21.5 179.92,-18 169.92,-14.5 169.92,-21.5\"/>\n",
       "</g>\n",
       "<!-- 2&#45;&gt;2 -->\n",
       "<g id=\"edge3\" class=\"edge\">\n",
       "<title>2&#45;&gt;2</title>\n",
       "<path fill=\"none\" stroke=\"black\" d=\"M191.77,-33.17C187.16,-43.66 192.23,-54 207,-54 216.92,-54 222.47,-49.33 223.64,-43.09\"/>\n",
       "<polygon fill=\"black\" stroke=\"black\" points=\"227.1,-42.57 222.23,-33.17 220.17,-43.56 227.1,-42.57\"/>\n",
       "</g>\n",
       "<!-- 3 -->\n",
       "<g id=\"node4\" class=\"node\">\n",
       "<title>3</title>\n",
       "<ellipse fill=\"none\" stroke=\"black\" cx=\"27\" cy=\"-90\" rx=\"27\" ry=\"18\"/>\n",
       "<text text-anchor=\"middle\" x=\"27\" y=\"-86.3\" font-family=\"Times,serif\" font-size=\"14.00\">3</text>\n",
       "</g>\n",
       "<!-- 5 -->\n",
       "<g id=\"node5\" class=\"node\">\n",
       "<title>5</title>\n",
       "<ellipse fill=\"none\" stroke=\"black\" cx=\"117\" cy=\"-90\" rx=\"27\" ry=\"18\"/>\n",
       "<text text-anchor=\"middle\" x=\"117\" y=\"-86.3\" font-family=\"Times,serif\" font-size=\"14.00\">5</text>\n",
       "</g>\n",
       "<!-- 3&#45;&gt;5 -->\n",
       "<g id=\"edge4\" class=\"edge\">\n",
       "<title>3&#45;&gt;5</title>\n",
       "<path fill=\"none\" stroke=\"black\" d=\"M54.4,-90C62.39,-90 71.31,-90 79.82,-90\"/>\n",
       "<polygon fill=\"black\" stroke=\"black\" points=\"79.92,-93.5 89.92,-90 79.92,-86.5 79.92,-93.5\"/>\n",
       "</g>\n",
       "<!-- 4 -->\n",
       "<g id=\"node6\" class=\"node\">\n",
       "<title>4</title>\n",
       "<ellipse fill=\"none\" stroke=\"black\" cx=\"207\" cy=\"-90\" rx=\"27\" ry=\"18\"/>\n",
       "<text text-anchor=\"middle\" x=\"207\" y=\"-86.3\" font-family=\"Times,serif\" font-size=\"14.00\">4</text>\n",
       "</g>\n",
       "<!-- 5&#45;&gt;4 -->\n",
       "<g id=\"edge6\" class=\"edge\">\n",
       "<title>5&#45;&gt;4</title>\n",
       "<path fill=\"none\" stroke=\"black\" d=\"M144.4,-90C152.39,-90 161.31,-90 169.82,-90\"/>\n",
       "<polygon fill=\"black\" stroke=\"black\" points=\"169.92,-93.5 179.92,-90 169.92,-86.5 169.92,-93.5\"/>\n",
       "</g>\n",
       "<!-- 4&#45;&gt;4 -->\n",
       "<g id=\"edge5\" class=\"edge\">\n",
       "<title>4&#45;&gt;4</title>\n",
       "<path fill=\"none\" stroke=\"black\" d=\"M191.77,-105.17C187.16,-115.66 192.23,-126 207,-126 216.92,-126 222.47,-121.33 223.64,-115.09\"/>\n",
       "<polygon fill=\"black\" stroke=\"black\" points=\"227.1,-114.57 222.23,-105.17 220.17,-115.56 227.1,-114.57\"/>\n",
       "</g>\n",
       "</g>\n",
       "</svg>\n"
      ],
      "text/plain": [
       "<graphviz.graphs.Digraph at 0x7ff799221fc0>"
      ]
     },
     "metadata": {},
     "output_type": "display_data"
    },
    {
     "name": "stdout",
     "output_type": "stream",
     "text": [
      "A=0 és B=5 különböző komponensben van\n"
     ]
    }
   ],
   "source": [
    "n = 6\n",
    "edges = [[0,1],[0,2],[3,5],[5,4],[4,3]]\n",
    "A = 0\n",
    "B = 5\n",
    "\n",
    "display(show_edges(edges))\n",
    "print(f\"Eredeti gráf\")\n",
    "print(\"=\"*50)\n",
    "\n",
    "roots = [i for i in range(n)]\n",
    "for a, b in edges:\n",
    "    union(roots, a, b)\n",
    "\n",
    "display(show_graph(roots))\n",
    "print(f\"{A=} és {B=} {'azonos' if find(roots, A)==find(roots, B) else 'különböző'} komponensben van\")\n"
   ]
  },
  {
   "cell_type": "markdown",
   "metadata": {},
   "source": [
    "Látszik, hogy először létre kell hoznunk a `roots` tömböt, majd utána ezzel kell számolnunk.\n",
    "\n",
    "Célszerű egy osztályt léterhozni:"
   ]
  },
  {
   "cell_type": "code",
   "execution_count": 54,
   "metadata": {},
   "outputs": [],
   "source": [
    "class UnionFind:\n",
    "    def __init__(self, n):\n",
    "        self.roots = [i for i in range(n)]\n",
    "\n",
    "    def find(self, a):\n",
    "        while a != self.roots[a]:\n",
    "            a = self.roots[a]\n",
    "        return a\n",
    "        \n",
    "    def union(self, a, b):\n",
    "        ra, rb = self.find(a), self.find(b)\n",
    "        if ra != rb:\n",
    "            self.roots[ra] = rb\n",
    "        return self\n",
    "\n",
    "    def show(self, *args, **kwargs):\n",
    "        display(show_graph(self.roots, *args, **kwargs))"
   ]
  },
  {
   "cell_type": "markdown",
   "metadata": {},
   "source": [
    "Mi történik, ha nagyobb gráfunk van?"
   ]
  },
  {
   "cell_type": "code",
   "execution_count": 55,
   "metadata": {},
   "outputs": [
    {
     "data": {
      "image/svg+xml": [
       "<?xml version=\"1.0\" encoding=\"UTF-8\" standalone=\"no\"?>\n",
       "<!DOCTYPE svg PUBLIC \"-//W3C//DTD SVG 1.1//EN\"\n",
       " \"http://www.w3.org/Graphics/SVG/1.1/DTD/svg11.dtd\">\n",
       "<!-- Generated by graphviz version 2.43.0 (0)\n",
       " -->\n",
       "<!-- Title: %3 Pages: 1 -->\n",
       "<svg width=\"638pt\" height=\"116pt\"\n",
       " viewBox=\"0.00 0.00 638.00 116.00\" xmlns=\"http://www.w3.org/2000/svg\" xmlns:xlink=\"http://www.w3.org/1999/xlink\">\n",
       "<g id=\"graph0\" class=\"graph\" transform=\"scale(1 1) rotate(0) translate(4 112)\">\n",
       "<title>%3</title>\n",
       "<polygon fill=\"white\" stroke=\"transparent\" points=\"-4,4 -4,-112 634,-112 634,4 -4,4\"/>\n",
       "<!-- 0 -->\n",
       "<g id=\"node1\" class=\"node\">\n",
       "<title>0</title>\n",
       "<ellipse fill=\"none\" stroke=\"black\" cx=\"315\" cy=\"-90\" rx=\"27\" ry=\"18\"/>\n",
       "<text text-anchor=\"middle\" x=\"315\" y=\"-86.3\" font-family=\"Times,serif\" font-size=\"14.00\">0</text>\n",
       "</g>\n",
       "<!-- 1 -->\n",
       "<g id=\"node2\" class=\"node\">\n",
       "<title>1</title>\n",
       "<ellipse fill=\"none\" stroke=\"black\" cx=\"27\" cy=\"-18\" rx=\"27\" ry=\"18\"/>\n",
       "<text text-anchor=\"middle\" x=\"27\" y=\"-14.3\" font-family=\"Times,serif\" font-size=\"14.00\">1</text>\n",
       "</g>\n",
       "<!-- 0&#45;&#45;1 -->\n",
       "<g id=\"edge1\" class=\"edge\">\n",
       "<title>0&#45;&#45;1</title>\n",
       "<path fill=\"none\" stroke=\"black\" d=\"M288.71,-85.54C242.28,-78.98 143.09,-62.92 63,-36 57.89,-34.28 52.55,-32.03 47.6,-29.74\"/>\n",
       "</g>\n",
       "<!-- 2 -->\n",
       "<g id=\"node3\" class=\"node\">\n",
       "<title>2</title>\n",
       "<ellipse fill=\"none\" stroke=\"black\" cx=\"99\" cy=\"-18\" rx=\"27\" ry=\"18\"/>\n",
       "<text text-anchor=\"middle\" x=\"99\" y=\"-14.3\" font-family=\"Times,serif\" font-size=\"14.00\">2</text>\n",
       "</g>\n",
       "<!-- 0&#45;&#45;2 -->\n",
       "<g id=\"edge2\" class=\"edge\">\n",
       "<title>0&#45;&#45;2</title>\n",
       "<path fill=\"none\" stroke=\"black\" d=\"M289.85,-82.91C254.68,-74.1 189.04,-56.57 135,-36 130.09,-34.13 124.92,-31.87 120.08,-29.62\"/>\n",
       "</g>\n",
       "<!-- 3 -->\n",
       "<g id=\"node4\" class=\"node\">\n",
       "<title>3</title>\n",
       "<ellipse fill=\"none\" stroke=\"black\" cx=\"171\" cy=\"-18\" rx=\"27\" ry=\"18\"/>\n",
       "<text text-anchor=\"middle\" x=\"171\" y=\"-14.3\" font-family=\"Times,serif\" font-size=\"14.00\">3</text>\n",
       "</g>\n",
       "<!-- 0&#45;&#45;3 -->\n",
       "<g id=\"edge3\" class=\"edge\">\n",
       "<title>0&#45;&#45;3</title>\n",
       "<path fill=\"none\" stroke=\"black\" d=\"M293.75,-78.67C266.53,-65.44 219.6,-42.63 192.33,-29.37\"/>\n",
       "</g>\n",
       "<!-- 4 -->\n",
       "<g id=\"node5\" class=\"node\">\n",
       "<title>4</title>\n",
       "<ellipse fill=\"none\" stroke=\"black\" cx=\"243\" cy=\"-18\" rx=\"27\" ry=\"18\"/>\n",
       "<text text-anchor=\"middle\" x=\"243\" y=\"-14.3\" font-family=\"Times,serif\" font-size=\"14.00\">4</text>\n",
       "</g>\n",
       "<!-- 0&#45;&#45;4 -->\n",
       "<g id=\"edge4\" class=\"edge\">\n",
       "<title>0&#45;&#45;4</title>\n",
       "<path fill=\"none\" stroke=\"black\" d=\"M300.43,-74.83C288.02,-62.77 270.27,-45.51 257.8,-33.38\"/>\n",
       "</g>\n",
       "<!-- 5 -->\n",
       "<g id=\"node6\" class=\"node\">\n",
       "<title>5</title>\n",
       "<ellipse fill=\"none\" stroke=\"black\" cx=\"315\" cy=\"-18\" rx=\"27\" ry=\"18\"/>\n",
       "<text text-anchor=\"middle\" x=\"315\" y=\"-14.3\" font-family=\"Times,serif\" font-size=\"14.00\">5</text>\n",
       "</g>\n",
       "<!-- 0&#45;&#45;5 -->\n",
       "<g id=\"edge5\" class=\"edge\">\n",
       "<title>0&#45;&#45;5</title>\n",
       "<path fill=\"none\" stroke=\"black\" d=\"M315,-71.7C315,-60.85 315,-46.92 315,-36.1\"/>\n",
       "</g>\n",
       "<!-- 6 -->\n",
       "<g id=\"node7\" class=\"node\">\n",
       "<title>6</title>\n",
       "<ellipse fill=\"none\" stroke=\"black\" cx=\"387\" cy=\"-18\" rx=\"27\" ry=\"18\"/>\n",
       "<text text-anchor=\"middle\" x=\"387\" y=\"-14.3\" font-family=\"Times,serif\" font-size=\"14.00\">6</text>\n",
       "</g>\n",
       "<!-- 0&#45;&#45;6 -->\n",
       "<g id=\"edge6\" class=\"edge\">\n",
       "<title>0&#45;&#45;6</title>\n",
       "<path fill=\"none\" stroke=\"black\" d=\"M329.57,-74.83C341.98,-62.77 359.73,-45.51 372.2,-33.38\"/>\n",
       "</g>\n",
       "<!-- 7 -->\n",
       "<g id=\"node8\" class=\"node\">\n",
       "<title>7</title>\n",
       "<ellipse fill=\"none\" stroke=\"black\" cx=\"459\" cy=\"-18\" rx=\"27\" ry=\"18\"/>\n",
       "<text text-anchor=\"middle\" x=\"459\" y=\"-14.3\" font-family=\"Times,serif\" font-size=\"14.00\">7</text>\n",
       "</g>\n",
       "<!-- 0&#45;&#45;7 -->\n",
       "<g id=\"edge7\" class=\"edge\">\n",
       "<title>0&#45;&#45;7</title>\n",
       "<path fill=\"none\" stroke=\"black\" d=\"M336.25,-78.67C363.47,-65.44 410.4,-42.63 437.67,-29.37\"/>\n",
       "</g>\n",
       "<!-- 8 -->\n",
       "<g id=\"node9\" class=\"node\">\n",
       "<title>8</title>\n",
       "<ellipse fill=\"none\" stroke=\"black\" cx=\"531\" cy=\"-18\" rx=\"27\" ry=\"18\"/>\n",
       "<text text-anchor=\"middle\" x=\"531\" y=\"-14.3\" font-family=\"Times,serif\" font-size=\"14.00\">8</text>\n",
       "</g>\n",
       "<!-- 0&#45;&#45;8 -->\n",
       "<g id=\"edge8\" class=\"edge\">\n",
       "<title>0&#45;&#45;8</title>\n",
       "<path fill=\"none\" stroke=\"black\" d=\"M340.15,-82.91C375.32,-74.1 440.96,-56.57 495,-36 499.91,-34.13 505.08,-31.87 509.92,-29.62\"/>\n",
       "</g>\n",
       "<!-- 9 -->\n",
       "<g id=\"node10\" class=\"node\">\n",
       "<title>9</title>\n",
       "<ellipse fill=\"none\" stroke=\"black\" cx=\"603\" cy=\"-18\" rx=\"27\" ry=\"18\"/>\n",
       "<text text-anchor=\"middle\" x=\"603\" y=\"-14.3\" font-family=\"Times,serif\" font-size=\"14.00\">9</text>\n",
       "</g>\n",
       "<!-- 0&#45;&#45;9 -->\n",
       "<g id=\"edge9\" class=\"edge\">\n",
       "<title>0&#45;&#45;9</title>\n",
       "<path fill=\"none\" stroke=\"black\" d=\"M341.29,-85.54C387.72,-78.98 486.91,-62.92 567,-36 572.11,-34.28 577.45,-32.03 582.4,-29.74\"/>\n",
       "</g>\n",
       "</g>\n",
       "</svg>\n"
      ],
      "text/plain": [
       "<graphviz.graphs.Graph at 0x7ff79908ca60>"
      ]
     },
     "metadata": {},
     "output_type": "display_data"
    },
    {
     "data": {
      "image/svg+xml": [
       "<?xml version=\"1.0\" encoding=\"UTF-8\" standalone=\"no\"?>\n",
       "<!DOCTYPE svg PUBLIC \"-//W3C//DTD SVG 1.1//EN\"\n",
       " \"http://www.w3.org/Graphics/SVG/1.1/DTD/svg11.dtd\">\n",
       "<!-- Generated by graphviz version 2.43.0 (0)\n",
       " -->\n",
       "<!-- Title: %3 Pages: 1 -->\n",
       "<svg width=\"872pt\" height=\"62pt\"\n",
       " viewBox=\"0.00 0.00 872.00 62.00\" xmlns=\"http://www.w3.org/2000/svg\" xmlns:xlink=\"http://www.w3.org/1999/xlink\">\n",
       "<g id=\"graph0\" class=\"graph\" transform=\"scale(1 1) rotate(0) translate(4 58)\">\n",
       "<title>%3</title>\n",
       "<polygon fill=\"white\" stroke=\"transparent\" points=\"-4,4 -4,-58 868,-58 868,4 -4,4\"/>\n",
       "<!-- 0 -->\n",
       "<g id=\"node1\" class=\"node\">\n",
       "<title>0</title>\n",
       "<ellipse fill=\"none\" stroke=\"black\" cx=\"27\" cy=\"-18\" rx=\"27\" ry=\"18\"/>\n",
       "<text text-anchor=\"middle\" x=\"27\" y=\"-14.3\" font-family=\"Times,serif\" font-size=\"14.00\">0</text>\n",
       "</g>\n",
       "<!-- 1 -->\n",
       "<g id=\"node2\" class=\"node\">\n",
       "<title>1</title>\n",
       "<ellipse fill=\"none\" stroke=\"black\" cx=\"117\" cy=\"-18\" rx=\"27\" ry=\"18\"/>\n",
       "<text text-anchor=\"middle\" x=\"117\" y=\"-14.3\" font-family=\"Times,serif\" font-size=\"14.00\">1</text>\n",
       "</g>\n",
       "<!-- 0&#45;&gt;1 -->\n",
       "<g id=\"edge1\" class=\"edge\">\n",
       "<title>0&#45;&gt;1</title>\n",
       "<path fill=\"none\" stroke=\"black\" d=\"M54.4,-18C62.39,-18 71.31,-18 79.82,-18\"/>\n",
       "<polygon fill=\"black\" stroke=\"black\" points=\"79.92,-21.5 89.92,-18 79.92,-14.5 79.92,-21.5\"/>\n",
       "</g>\n",
       "<!-- 2 -->\n",
       "<g id=\"node3\" class=\"node\">\n",
       "<title>2</title>\n",
       "<ellipse fill=\"none\" stroke=\"black\" cx=\"207\" cy=\"-18\" rx=\"27\" ry=\"18\"/>\n",
       "<text text-anchor=\"middle\" x=\"207\" y=\"-14.3\" font-family=\"Times,serif\" font-size=\"14.00\">2</text>\n",
       "</g>\n",
       "<!-- 1&#45;&gt;2 -->\n",
       "<g id=\"edge2\" class=\"edge\">\n",
       "<title>1&#45;&gt;2</title>\n",
       "<path fill=\"none\" stroke=\"black\" d=\"M144.4,-18C152.39,-18 161.31,-18 169.82,-18\"/>\n",
       "<polygon fill=\"black\" stroke=\"black\" points=\"169.92,-21.5 179.92,-18 169.92,-14.5 169.92,-21.5\"/>\n",
       "</g>\n",
       "<!-- 3 -->\n",
       "<g id=\"node4\" class=\"node\">\n",
       "<title>3</title>\n",
       "<ellipse fill=\"none\" stroke=\"black\" cx=\"297\" cy=\"-18\" rx=\"27\" ry=\"18\"/>\n",
       "<text text-anchor=\"middle\" x=\"297\" y=\"-14.3\" font-family=\"Times,serif\" font-size=\"14.00\">3</text>\n",
       "</g>\n",
       "<!-- 2&#45;&gt;3 -->\n",
       "<g id=\"edge3\" class=\"edge\">\n",
       "<title>2&#45;&gt;3</title>\n",
       "<path fill=\"none\" stroke=\"black\" d=\"M234.4,-18C242.39,-18 251.31,-18 259.82,-18\"/>\n",
       "<polygon fill=\"black\" stroke=\"black\" points=\"259.92,-21.5 269.92,-18 259.92,-14.5 259.92,-21.5\"/>\n",
       "</g>\n",
       "<!-- 4 -->\n",
       "<g id=\"node5\" class=\"node\">\n",
       "<title>4</title>\n",
       "<ellipse fill=\"none\" stroke=\"black\" cx=\"387\" cy=\"-18\" rx=\"27\" ry=\"18\"/>\n",
       "<text text-anchor=\"middle\" x=\"387\" y=\"-14.3\" font-family=\"Times,serif\" font-size=\"14.00\">4</text>\n",
       "</g>\n",
       "<!-- 3&#45;&gt;4 -->\n",
       "<g id=\"edge4\" class=\"edge\">\n",
       "<title>3&#45;&gt;4</title>\n",
       "<path fill=\"none\" stroke=\"black\" d=\"M324.4,-18C332.39,-18 341.31,-18 349.82,-18\"/>\n",
       "<polygon fill=\"black\" stroke=\"black\" points=\"349.92,-21.5 359.92,-18 349.92,-14.5 349.92,-21.5\"/>\n",
       "</g>\n",
       "<!-- 5 -->\n",
       "<g id=\"node6\" class=\"node\">\n",
       "<title>5</title>\n",
       "<ellipse fill=\"none\" stroke=\"black\" cx=\"477\" cy=\"-18\" rx=\"27\" ry=\"18\"/>\n",
       "<text text-anchor=\"middle\" x=\"477\" y=\"-14.3\" font-family=\"Times,serif\" font-size=\"14.00\">5</text>\n",
       "</g>\n",
       "<!-- 4&#45;&gt;5 -->\n",
       "<g id=\"edge5\" class=\"edge\">\n",
       "<title>4&#45;&gt;5</title>\n",
       "<path fill=\"none\" stroke=\"black\" d=\"M414.4,-18C422.39,-18 431.31,-18 439.82,-18\"/>\n",
       "<polygon fill=\"black\" stroke=\"black\" points=\"439.92,-21.5 449.92,-18 439.92,-14.5 439.92,-21.5\"/>\n",
       "</g>\n",
       "<!-- 6 -->\n",
       "<g id=\"node7\" class=\"node\">\n",
       "<title>6</title>\n",
       "<ellipse fill=\"none\" stroke=\"black\" cx=\"567\" cy=\"-18\" rx=\"27\" ry=\"18\"/>\n",
       "<text text-anchor=\"middle\" x=\"567\" y=\"-14.3\" font-family=\"Times,serif\" font-size=\"14.00\">6</text>\n",
       "</g>\n",
       "<!-- 5&#45;&gt;6 -->\n",
       "<g id=\"edge6\" class=\"edge\">\n",
       "<title>5&#45;&gt;6</title>\n",
       "<path fill=\"none\" stroke=\"black\" d=\"M504.4,-18C512.39,-18 521.31,-18 529.82,-18\"/>\n",
       "<polygon fill=\"black\" stroke=\"black\" points=\"529.92,-21.5 539.92,-18 529.92,-14.5 529.92,-21.5\"/>\n",
       "</g>\n",
       "<!-- 7 -->\n",
       "<g id=\"node8\" class=\"node\">\n",
       "<title>7</title>\n",
       "<ellipse fill=\"none\" stroke=\"black\" cx=\"657\" cy=\"-18\" rx=\"27\" ry=\"18\"/>\n",
       "<text text-anchor=\"middle\" x=\"657\" y=\"-14.3\" font-family=\"Times,serif\" font-size=\"14.00\">7</text>\n",
       "</g>\n",
       "<!-- 6&#45;&gt;7 -->\n",
       "<g id=\"edge7\" class=\"edge\">\n",
       "<title>6&#45;&gt;7</title>\n",
       "<path fill=\"none\" stroke=\"black\" d=\"M594.4,-18C602.39,-18 611.31,-18 619.82,-18\"/>\n",
       "<polygon fill=\"black\" stroke=\"black\" points=\"619.92,-21.5 629.92,-18 619.92,-14.5 619.92,-21.5\"/>\n",
       "</g>\n",
       "<!-- 8 -->\n",
       "<g id=\"node9\" class=\"node\">\n",
       "<title>8</title>\n",
       "<ellipse fill=\"none\" stroke=\"black\" cx=\"747\" cy=\"-18\" rx=\"27\" ry=\"18\"/>\n",
       "<text text-anchor=\"middle\" x=\"747\" y=\"-14.3\" font-family=\"Times,serif\" font-size=\"14.00\">8</text>\n",
       "</g>\n",
       "<!-- 7&#45;&gt;8 -->\n",
       "<g id=\"edge8\" class=\"edge\">\n",
       "<title>7&#45;&gt;8</title>\n",
       "<path fill=\"none\" stroke=\"black\" d=\"M684.4,-18C692.39,-18 701.31,-18 709.82,-18\"/>\n",
       "<polygon fill=\"black\" stroke=\"black\" points=\"709.92,-21.5 719.92,-18 709.92,-14.5 709.92,-21.5\"/>\n",
       "</g>\n",
       "<!-- 9 -->\n",
       "<g id=\"node10\" class=\"node\">\n",
       "<title>9</title>\n",
       "<ellipse fill=\"none\" stroke=\"black\" cx=\"837\" cy=\"-18\" rx=\"27\" ry=\"18\"/>\n",
       "<text text-anchor=\"middle\" x=\"837\" y=\"-14.3\" font-family=\"Times,serif\" font-size=\"14.00\">9</text>\n",
       "</g>\n",
       "<!-- 8&#45;&gt;9 -->\n",
       "<g id=\"edge9\" class=\"edge\">\n",
       "<title>8&#45;&gt;9</title>\n",
       "<path fill=\"none\" stroke=\"black\" d=\"M774.4,-18C782.39,-18 791.31,-18 799.82,-18\"/>\n",
       "<polygon fill=\"black\" stroke=\"black\" points=\"799.92,-21.5 809.92,-18 799.92,-14.5 799.92,-21.5\"/>\n",
       "</g>\n",
       "<!-- 9&#45;&gt;9 -->\n",
       "<g id=\"edge10\" class=\"edge\">\n",
       "<title>9&#45;&gt;9</title>\n",
       "<path fill=\"none\" stroke=\"black\" d=\"M821.77,-33.17C817.16,-43.66 822.23,-54 837,-54 846.92,-54 852.47,-49.33 853.64,-43.09\"/>\n",
       "<polygon fill=\"black\" stroke=\"black\" points=\"857.1,-42.57 852.23,-33.17 850.17,-43.56 857.1,-42.57\"/>\n",
       "</g>\n",
       "</g>\n",
       "</svg>\n"
      ],
      "text/plain": [
       "<graphviz.graphs.Digraph at 0x7ff79908ded0>"
      ]
     },
     "metadata": {},
     "output_type": "display_data"
    }
   ],
   "source": [
    "n = 10\n",
    "edges = [(0,i+1) for i in range(n-1)]\n",
    "display(show_edges(edges, 'TD'))\n",
    "\n",
    "uf = UnionFind(n)\n",
    "for a, b in edges:\n",
    "    uf.union(a, b)\n",
    "\n",
    "uf.show()"
   ]
  },
  {
   "cell_type": "markdown",
   "metadata": {},
   "source": [
    "Valahányszor behúzzuk a $(0, i)$ élet, meg kell keresni $0$ reprezentánsát. $k$ él behúzása után $k$-lépéssel találjuk meg. Ha 10 helyett 10_000 méretű a gráf ez nem fog működni.\n",
    "\n",
    "### Javítási lehetőségek.\n",
    "\n",
    "- Amikor megkeressük $i$ reprezentánsát végig megyünk a reprezentánshoz vezető úton. Minden meglátogatott csúcsra ismerté válik a reprezentáns értéke. Ezt beírhatjuk a `roots` tömbe. (path compression)\n",
    "\n",
    "- A nagyobb komponensbe kössük be a kisebbet és ne fordítva. Ehhez  a ,,méretet'' nyilván kell tartani."
   ]
  },
  {
   "cell_type": "code",
   "execution_count": 56,
   "metadata": {},
   "outputs": [],
   "source": [
    "def find_better(roots, a):\n",
    "    ra = roots[a]\n",
    "    if a != ra:\n",
    "        ra = find_better(roots, ra)\n",
    "        roots[a] = ra\n",
    "    return ra\n",
    "\n",
    "def find_better_without_recursion(roots, a):\n",
    "    stack = []\n",
    "\n",
    "    ra = roots[a]\n",
    "    while a != ra:\n",
    "        stack.append(a)\n",
    "        a = ra\n",
    "        ra = roots[a]\n",
    "\n",
    "    while stack:\n",
    "        roots[stack.pop()] = ra\n",
    "\n",
    "    return ra\n",
    "\n",
    "\n",
    "def union_sizes(roots, sizes, a, b):\n",
    "    ra = find_better(roots, a)\n",
    "    rb = find_better(roots, b)\n",
    "    if ra != rb:\n",
    "        if sizes[ra] < sizes[rb]:\n",
    "            ra, rb = rb, ra\n",
    "        roots[rb] = ra\n",
    "        sizes[ra] += sizes[rb]\n",
    "\n",
    "def union_ranks(roots, ranks, a, b):\n",
    "    ra = find_better(roots, a)\n",
    "    rb = find_better(roots, b)\n",
    "    if ra != rb:\n",
    "        if ranks[ra] < ranks[rb]:\n",
    "            ra, rb = rb, ra\n",
    "        roots[rb] = ra\n",
    "        if ranks[ra] == ranks[rb]:\n",
    "            ranks[ra] += 1"
   ]
  },
  {
   "cell_type": "code",
   "execution_count": 57,
   "metadata": {},
   "outputs": [
    {
     "data": {
      "image/svg+xml": [
       "<?xml version=\"1.0\" encoding=\"UTF-8\" standalone=\"no\"?>\n",
       "<!DOCTYPE svg PUBLIC \"-//W3C//DTD SVG 1.1//EN\"\n",
       " \"http://www.w3.org/Graphics/SVG/1.1/DTD/svg11.dtd\">\n",
       "<!-- Generated by graphviz version 2.43.0 (0)\n",
       " -->\n",
       "<!-- Title: %3 Pages: 1 -->\n",
       "<svg width=\"638pt\" height=\"116pt\"\n",
       " viewBox=\"0.00 0.00 638.00 116.00\" xmlns=\"http://www.w3.org/2000/svg\" xmlns:xlink=\"http://www.w3.org/1999/xlink\">\n",
       "<g id=\"graph0\" class=\"graph\" transform=\"scale(1 1) rotate(0) translate(4 112)\">\n",
       "<title>%3</title>\n",
       "<polygon fill=\"white\" stroke=\"transparent\" points=\"-4,4 -4,-112 634,-112 634,4 -4,4\"/>\n",
       "<!-- 0 -->\n",
       "<g id=\"node1\" class=\"node\">\n",
       "<title>0</title>\n",
       "<ellipse fill=\"none\" stroke=\"black\" cx=\"315\" cy=\"-90\" rx=\"27\" ry=\"18\"/>\n",
       "<text text-anchor=\"middle\" x=\"315\" y=\"-86.3\" font-family=\"Times,serif\" font-size=\"14.00\">0</text>\n",
       "</g>\n",
       "<!-- 1 -->\n",
       "<g id=\"node2\" class=\"node\">\n",
       "<title>1</title>\n",
       "<ellipse fill=\"none\" stroke=\"black\" cx=\"27\" cy=\"-18\" rx=\"27\" ry=\"18\"/>\n",
       "<text text-anchor=\"middle\" x=\"27\" y=\"-14.3\" font-family=\"Times,serif\" font-size=\"14.00\">1</text>\n",
       "</g>\n",
       "<!-- 0&#45;&#45;1 -->\n",
       "<g id=\"edge1\" class=\"edge\">\n",
       "<title>0&#45;&#45;1</title>\n",
       "<path fill=\"none\" stroke=\"black\" d=\"M288.71,-85.54C242.28,-78.98 143.09,-62.92 63,-36 57.89,-34.28 52.55,-32.03 47.6,-29.74\"/>\n",
       "</g>\n",
       "<!-- 2 -->\n",
       "<g id=\"node3\" class=\"node\">\n",
       "<title>2</title>\n",
       "<ellipse fill=\"none\" stroke=\"black\" cx=\"99\" cy=\"-18\" rx=\"27\" ry=\"18\"/>\n",
       "<text text-anchor=\"middle\" x=\"99\" y=\"-14.3\" font-family=\"Times,serif\" font-size=\"14.00\">2</text>\n",
       "</g>\n",
       "<!-- 0&#45;&#45;2 -->\n",
       "<g id=\"edge2\" class=\"edge\">\n",
       "<title>0&#45;&#45;2</title>\n",
       "<path fill=\"none\" stroke=\"black\" d=\"M289.85,-82.91C254.68,-74.1 189.04,-56.57 135,-36 130.09,-34.13 124.92,-31.87 120.08,-29.62\"/>\n",
       "</g>\n",
       "<!-- 3 -->\n",
       "<g id=\"node4\" class=\"node\">\n",
       "<title>3</title>\n",
       "<ellipse fill=\"none\" stroke=\"black\" cx=\"171\" cy=\"-18\" rx=\"27\" ry=\"18\"/>\n",
       "<text text-anchor=\"middle\" x=\"171\" y=\"-14.3\" font-family=\"Times,serif\" font-size=\"14.00\">3</text>\n",
       "</g>\n",
       "<!-- 0&#45;&#45;3 -->\n",
       "<g id=\"edge3\" class=\"edge\">\n",
       "<title>0&#45;&#45;3</title>\n",
       "<path fill=\"none\" stroke=\"black\" d=\"M293.75,-78.67C266.53,-65.44 219.6,-42.63 192.33,-29.37\"/>\n",
       "</g>\n",
       "<!-- 4 -->\n",
       "<g id=\"node5\" class=\"node\">\n",
       "<title>4</title>\n",
       "<ellipse fill=\"none\" stroke=\"black\" cx=\"243\" cy=\"-18\" rx=\"27\" ry=\"18\"/>\n",
       "<text text-anchor=\"middle\" x=\"243\" y=\"-14.3\" font-family=\"Times,serif\" font-size=\"14.00\">4</text>\n",
       "</g>\n",
       "<!-- 0&#45;&#45;4 -->\n",
       "<g id=\"edge4\" class=\"edge\">\n",
       "<title>0&#45;&#45;4</title>\n",
       "<path fill=\"none\" stroke=\"black\" d=\"M300.43,-74.83C288.02,-62.77 270.27,-45.51 257.8,-33.38\"/>\n",
       "</g>\n",
       "<!-- 5 -->\n",
       "<g id=\"node6\" class=\"node\">\n",
       "<title>5</title>\n",
       "<ellipse fill=\"none\" stroke=\"black\" cx=\"315\" cy=\"-18\" rx=\"27\" ry=\"18\"/>\n",
       "<text text-anchor=\"middle\" x=\"315\" y=\"-14.3\" font-family=\"Times,serif\" font-size=\"14.00\">5</text>\n",
       "</g>\n",
       "<!-- 0&#45;&#45;5 -->\n",
       "<g id=\"edge5\" class=\"edge\">\n",
       "<title>0&#45;&#45;5</title>\n",
       "<path fill=\"none\" stroke=\"black\" d=\"M315,-71.7C315,-60.85 315,-46.92 315,-36.1\"/>\n",
       "</g>\n",
       "<!-- 6 -->\n",
       "<g id=\"node7\" class=\"node\">\n",
       "<title>6</title>\n",
       "<ellipse fill=\"none\" stroke=\"black\" cx=\"387\" cy=\"-18\" rx=\"27\" ry=\"18\"/>\n",
       "<text text-anchor=\"middle\" x=\"387\" y=\"-14.3\" font-family=\"Times,serif\" font-size=\"14.00\">6</text>\n",
       "</g>\n",
       "<!-- 0&#45;&#45;6 -->\n",
       "<g id=\"edge6\" class=\"edge\">\n",
       "<title>0&#45;&#45;6</title>\n",
       "<path fill=\"none\" stroke=\"black\" d=\"M329.57,-74.83C341.98,-62.77 359.73,-45.51 372.2,-33.38\"/>\n",
       "</g>\n",
       "<!-- 7 -->\n",
       "<g id=\"node8\" class=\"node\">\n",
       "<title>7</title>\n",
       "<ellipse fill=\"none\" stroke=\"black\" cx=\"459\" cy=\"-18\" rx=\"27\" ry=\"18\"/>\n",
       "<text text-anchor=\"middle\" x=\"459\" y=\"-14.3\" font-family=\"Times,serif\" font-size=\"14.00\">7</text>\n",
       "</g>\n",
       "<!-- 0&#45;&#45;7 -->\n",
       "<g id=\"edge7\" class=\"edge\">\n",
       "<title>0&#45;&#45;7</title>\n",
       "<path fill=\"none\" stroke=\"black\" d=\"M336.25,-78.67C363.47,-65.44 410.4,-42.63 437.67,-29.37\"/>\n",
       "</g>\n",
       "<!-- 8 -->\n",
       "<g id=\"node9\" class=\"node\">\n",
       "<title>8</title>\n",
       "<ellipse fill=\"none\" stroke=\"black\" cx=\"531\" cy=\"-18\" rx=\"27\" ry=\"18\"/>\n",
       "<text text-anchor=\"middle\" x=\"531\" y=\"-14.3\" font-family=\"Times,serif\" font-size=\"14.00\">8</text>\n",
       "</g>\n",
       "<!-- 0&#45;&#45;8 -->\n",
       "<g id=\"edge8\" class=\"edge\">\n",
       "<title>0&#45;&#45;8</title>\n",
       "<path fill=\"none\" stroke=\"black\" d=\"M340.15,-82.91C375.32,-74.1 440.96,-56.57 495,-36 499.91,-34.13 505.08,-31.87 509.92,-29.62\"/>\n",
       "</g>\n",
       "<!-- 9 -->\n",
       "<g id=\"node10\" class=\"node\">\n",
       "<title>9</title>\n",
       "<ellipse fill=\"none\" stroke=\"black\" cx=\"603\" cy=\"-18\" rx=\"27\" ry=\"18\"/>\n",
       "<text text-anchor=\"middle\" x=\"603\" y=\"-14.3\" font-family=\"Times,serif\" font-size=\"14.00\">9</text>\n",
       "</g>\n",
       "<!-- 0&#45;&#45;9 -->\n",
       "<g id=\"edge9\" class=\"edge\">\n",
       "<title>0&#45;&#45;9</title>\n",
       "<path fill=\"none\" stroke=\"black\" d=\"M341.29,-85.54C387.72,-78.98 486.91,-62.92 567,-36 572.11,-34.28 577.45,-32.03 582.4,-29.74\"/>\n",
       "</g>\n",
       "</g>\n",
       "</svg>\n"
      ],
      "text/plain": [
       "<graphviz.graphs.Graph at 0x7ff799221600>"
      ]
     },
     "metadata": {},
     "output_type": "display_data"
    },
    {
     "data": {
      "image/svg+xml": [
       "<?xml version=\"1.0\" encoding=\"UTF-8\" standalone=\"no\"?>\n",
       "<!DOCTYPE svg PUBLIC \"-//W3C//DTD SVG 1.1//EN\"\n",
       " \"http://www.w3.org/Graphics/SVG/1.1/DTD/svg11.dtd\">\n",
       "<!-- Generated by graphviz version 2.43.0 (0)\n",
       " -->\n",
       "<!-- Title: %3 Pages: 1 -->\n",
       "<svg width=\"782pt\" height=\"98pt\"\n",
       " viewBox=\"0.00 0.00 782.00 98.00\" xmlns=\"http://www.w3.org/2000/svg\" xmlns:xlink=\"http://www.w3.org/1999/xlink\">\n",
       "<g id=\"graph0\" class=\"graph\" transform=\"scale(1 1) rotate(0) translate(4 94)\">\n",
       "<title>%3</title>\n",
       "<polygon fill=\"white\" stroke=\"transparent\" points=\"-4,4 -4,-94 778,-94 778,4 -4,4\"/>\n",
       "<!-- 0 -->\n",
       "<g id=\"node1\" class=\"node\">\n",
       "<title>0</title>\n",
       "<ellipse fill=\"none\" stroke=\"black\" cx=\"567\" cy=\"-72\" rx=\"27\" ry=\"18\"/>\n",
       "<text text-anchor=\"middle\" x=\"567\" y=\"-68.3\" font-family=\"Times,serif\" font-size=\"14.00\">0</text>\n",
       "</g>\n",
       "<!-- 8 -->\n",
       "<g id=\"node2\" class=\"node\">\n",
       "<title>8</title>\n",
       "<ellipse fill=\"none\" stroke=\"black\" cx=\"657\" cy=\"-45\" rx=\"27\" ry=\"18\"/>\n",
       "<text text-anchor=\"middle\" x=\"657\" y=\"-41.3\" font-family=\"Times,serif\" font-size=\"14.00\">8</text>\n",
       "</g>\n",
       "<!-- 0&#45;&gt;8 -->\n",
       "<g id=\"edge1\" class=\"edge\">\n",
       "<title>0&#45;&gt;8</title>\n",
       "<path fill=\"none\" stroke=\"black\" d=\"M592.05,-64.62C601.44,-61.74 612.36,-58.39 622.5,-55.28\"/>\n",
       "<polygon fill=\"black\" stroke=\"black\" points=\"623.75,-58.55 632.29,-52.28 621.7,-51.86 623.75,-58.55\"/>\n",
       "</g>\n",
       "<!-- 9 -->\n",
       "<g id=\"node10\" class=\"node\">\n",
       "<title>9</title>\n",
       "<ellipse fill=\"none\" stroke=\"black\" cx=\"747\" cy=\"-45\" rx=\"27\" ry=\"18\"/>\n",
       "<text text-anchor=\"middle\" x=\"747\" y=\"-41.3\" font-family=\"Times,serif\" font-size=\"14.00\">9</text>\n",
       "</g>\n",
       "<!-- 8&#45;&gt;9 -->\n",
       "<g id=\"edge9\" class=\"edge\">\n",
       "<title>8&#45;&gt;9</title>\n",
       "<path fill=\"none\" stroke=\"black\" d=\"M684.4,-45C692.39,-45 701.31,-45 709.82,-45\"/>\n",
       "<polygon fill=\"black\" stroke=\"black\" points=\"709.92,-48.5 719.92,-45 709.92,-41.5 709.92,-48.5\"/>\n",
       "</g>\n",
       "<!-- 1 -->\n",
       "<g id=\"node3\" class=\"node\">\n",
       "<title>1</title>\n",
       "<ellipse fill=\"none\" stroke=\"black\" cx=\"27\" cy=\"-18\" rx=\"27\" ry=\"18\"/>\n",
       "<text text-anchor=\"middle\" x=\"27\" y=\"-14.3\" font-family=\"Times,serif\" font-size=\"14.00\">1</text>\n",
       "</g>\n",
       "<!-- 2 -->\n",
       "<g id=\"node4\" class=\"node\">\n",
       "<title>2</title>\n",
       "<ellipse fill=\"none\" stroke=\"black\" cx=\"117\" cy=\"-18\" rx=\"27\" ry=\"18\"/>\n",
       "<text text-anchor=\"middle\" x=\"117\" y=\"-14.3\" font-family=\"Times,serif\" font-size=\"14.00\">2</text>\n",
       "</g>\n",
       "<!-- 1&#45;&gt;2 -->\n",
       "<g id=\"edge2\" class=\"edge\">\n",
       "<title>1&#45;&gt;2</title>\n",
       "<path fill=\"none\" stroke=\"black\" d=\"M54.4,-18C62.39,-18 71.31,-18 79.82,-18\"/>\n",
       "<polygon fill=\"black\" stroke=\"black\" points=\"79.92,-21.5 89.92,-18 79.92,-14.5 79.92,-21.5\"/>\n",
       "</g>\n",
       "<!-- 3 -->\n",
       "<g id=\"node5\" class=\"node\">\n",
       "<title>3</title>\n",
       "<ellipse fill=\"none\" stroke=\"black\" cx=\"207\" cy=\"-18\" rx=\"27\" ry=\"18\"/>\n",
       "<text text-anchor=\"middle\" x=\"207\" y=\"-14.3\" font-family=\"Times,serif\" font-size=\"14.00\">3</text>\n",
       "</g>\n",
       "<!-- 2&#45;&gt;3 -->\n",
       "<g id=\"edge3\" class=\"edge\">\n",
       "<title>2&#45;&gt;3</title>\n",
       "<path fill=\"none\" stroke=\"black\" d=\"M144.4,-18C152.39,-18 161.31,-18 169.82,-18\"/>\n",
       "<polygon fill=\"black\" stroke=\"black\" points=\"169.92,-21.5 179.92,-18 169.92,-14.5 169.92,-21.5\"/>\n",
       "</g>\n",
       "<!-- 4 -->\n",
       "<g id=\"node6\" class=\"node\">\n",
       "<title>4</title>\n",
       "<ellipse fill=\"none\" stroke=\"black\" cx=\"297\" cy=\"-18\" rx=\"27\" ry=\"18\"/>\n",
       "<text text-anchor=\"middle\" x=\"297\" y=\"-14.3\" font-family=\"Times,serif\" font-size=\"14.00\">4</text>\n",
       "</g>\n",
       "<!-- 3&#45;&gt;4 -->\n",
       "<g id=\"edge4\" class=\"edge\">\n",
       "<title>3&#45;&gt;4</title>\n",
       "<path fill=\"none\" stroke=\"black\" d=\"M234.4,-18C242.39,-18 251.31,-18 259.82,-18\"/>\n",
       "<polygon fill=\"black\" stroke=\"black\" points=\"259.92,-21.5 269.92,-18 259.92,-14.5 259.92,-21.5\"/>\n",
       "</g>\n",
       "<!-- 5 -->\n",
       "<g id=\"node7\" class=\"node\">\n",
       "<title>5</title>\n",
       "<ellipse fill=\"none\" stroke=\"black\" cx=\"387\" cy=\"-18\" rx=\"27\" ry=\"18\"/>\n",
       "<text text-anchor=\"middle\" x=\"387\" y=\"-14.3\" font-family=\"Times,serif\" font-size=\"14.00\">5</text>\n",
       "</g>\n",
       "<!-- 4&#45;&gt;5 -->\n",
       "<g id=\"edge5\" class=\"edge\">\n",
       "<title>4&#45;&gt;5</title>\n",
       "<path fill=\"none\" stroke=\"black\" d=\"M324.4,-18C332.39,-18 341.31,-18 349.82,-18\"/>\n",
       "<polygon fill=\"black\" stroke=\"black\" points=\"349.92,-21.5 359.92,-18 349.92,-14.5 349.92,-21.5\"/>\n",
       "</g>\n",
       "<!-- 6 -->\n",
       "<g id=\"node8\" class=\"node\">\n",
       "<title>6</title>\n",
       "<ellipse fill=\"none\" stroke=\"black\" cx=\"477\" cy=\"-18\" rx=\"27\" ry=\"18\"/>\n",
       "<text text-anchor=\"middle\" x=\"477\" y=\"-14.3\" font-family=\"Times,serif\" font-size=\"14.00\">6</text>\n",
       "</g>\n",
       "<!-- 5&#45;&gt;6 -->\n",
       "<g id=\"edge6\" class=\"edge\">\n",
       "<title>5&#45;&gt;6</title>\n",
       "<path fill=\"none\" stroke=\"black\" d=\"M414.4,-18C422.39,-18 431.31,-18 439.82,-18\"/>\n",
       "<polygon fill=\"black\" stroke=\"black\" points=\"439.92,-21.5 449.92,-18 439.92,-14.5 439.92,-21.5\"/>\n",
       "</g>\n",
       "<!-- 7 -->\n",
       "<g id=\"node9\" class=\"node\">\n",
       "<title>7</title>\n",
       "<ellipse fill=\"none\" stroke=\"black\" cx=\"567\" cy=\"-18\" rx=\"27\" ry=\"18\"/>\n",
       "<text text-anchor=\"middle\" x=\"567\" y=\"-14.3\" font-family=\"Times,serif\" font-size=\"14.00\">7</text>\n",
       "</g>\n",
       "<!-- 6&#45;&gt;7 -->\n",
       "<g id=\"edge7\" class=\"edge\">\n",
       "<title>6&#45;&gt;7</title>\n",
       "<path fill=\"none\" stroke=\"black\" d=\"M504.4,-18C512.39,-18 521.31,-18 529.82,-18\"/>\n",
       "<polygon fill=\"black\" stroke=\"black\" points=\"529.92,-21.5 539.92,-18 529.92,-14.5 529.92,-21.5\"/>\n",
       "</g>\n",
       "<!-- 7&#45;&gt;8 -->\n",
       "<g id=\"edge8\" class=\"edge\">\n",
       "<title>7&#45;&gt;8</title>\n",
       "<path fill=\"none\" stroke=\"black\" d=\"M592.05,-25.38C601.44,-28.26 612.36,-31.61 622.5,-34.72\"/>\n",
       "<polygon fill=\"black\" stroke=\"black\" points=\"621.7,-38.14 632.29,-37.72 623.75,-31.45 621.7,-38.14\"/>\n",
       "</g>\n",
       "<!-- 9&#45;&gt;9 -->\n",
       "<g id=\"edge10\" class=\"edge\">\n",
       "<title>9&#45;&gt;9</title>\n",
       "<path fill=\"none\" stroke=\"black\" d=\"M731.77,-60.17C727.16,-70.66 732.23,-81 747,-81 756.92,-81 762.47,-76.33 763.64,-70.09\"/>\n",
       "<polygon fill=\"black\" stroke=\"black\" points=\"767.1,-69.57 762.23,-60.17 760.17,-70.56 767.1,-69.57\"/>\n",
       "</g>\n",
       "</g>\n",
       "</svg>\n"
      ],
      "text/plain": [
       "<graphviz.graphs.Digraph at 0x7ff799224c40>"
      ]
     },
     "metadata": {},
     "output_type": "display_data"
    }
   ],
   "source": [
    "n = 10\n",
    "edges = [(0, i) for i in range(1, n)]\n",
    "display(show_edges(edges, 'TD'))\n",
    "\n",
    "roots = [i for i in range(n)]\n",
    "\n",
    "for a, b in edges:\n",
    "    ra = find_better(roots, a)\n",
    "    rb = find_better(roots, b)\n",
    "    roots[ra] = rb\n",
    "\n",
    "display(show_graph(roots, 'LR'))\n"
   ]
  },
  {
   "cell_type": "code",
   "execution_count": 58,
   "metadata": {},
   "outputs": [
    {
     "data": {
      "image/svg+xml": [
       "<?xml version=\"1.0\" encoding=\"UTF-8\" standalone=\"no\"?>\n",
       "<!DOCTYPE svg PUBLIC \"-//W3C//DTD SVG 1.1//EN\"\n",
       " \"http://www.w3.org/Graphics/SVG/1.1/DTD/svg11.dtd\">\n",
       "<!-- Generated by graphviz version 2.43.0 (0)\n",
       " -->\n",
       "<!-- Title: %3 Pages: 1 -->\n",
       "<svg width=\"638pt\" height=\"116pt\"\n",
       " viewBox=\"0.00 0.00 638.00 116.00\" xmlns=\"http://www.w3.org/2000/svg\" xmlns:xlink=\"http://www.w3.org/1999/xlink\">\n",
       "<g id=\"graph0\" class=\"graph\" transform=\"scale(1 1) rotate(0) translate(4 112)\">\n",
       "<title>%3</title>\n",
       "<polygon fill=\"white\" stroke=\"transparent\" points=\"-4,4 -4,-112 634,-112 634,4 -4,4\"/>\n",
       "<!-- 0 -->\n",
       "<g id=\"node1\" class=\"node\">\n",
       "<title>0</title>\n",
       "<ellipse fill=\"none\" stroke=\"black\" cx=\"315\" cy=\"-90\" rx=\"27\" ry=\"18\"/>\n",
       "<text text-anchor=\"middle\" x=\"315\" y=\"-86.3\" font-family=\"Times,serif\" font-size=\"14.00\">0</text>\n",
       "</g>\n",
       "<!-- 1 -->\n",
       "<g id=\"node2\" class=\"node\">\n",
       "<title>1</title>\n",
       "<ellipse fill=\"none\" stroke=\"black\" cx=\"27\" cy=\"-18\" rx=\"27\" ry=\"18\"/>\n",
       "<text text-anchor=\"middle\" x=\"27\" y=\"-14.3\" font-family=\"Times,serif\" font-size=\"14.00\">1</text>\n",
       "</g>\n",
       "<!-- 0&#45;&#45;1 -->\n",
       "<g id=\"edge1\" class=\"edge\">\n",
       "<title>0&#45;&#45;1</title>\n",
       "<path fill=\"none\" stroke=\"black\" d=\"M288.71,-85.54C242.28,-78.98 143.09,-62.92 63,-36 57.89,-34.28 52.55,-32.03 47.6,-29.74\"/>\n",
       "</g>\n",
       "<!-- 2 -->\n",
       "<g id=\"node3\" class=\"node\">\n",
       "<title>2</title>\n",
       "<ellipse fill=\"none\" stroke=\"black\" cx=\"99\" cy=\"-18\" rx=\"27\" ry=\"18\"/>\n",
       "<text text-anchor=\"middle\" x=\"99\" y=\"-14.3\" font-family=\"Times,serif\" font-size=\"14.00\">2</text>\n",
       "</g>\n",
       "<!-- 0&#45;&#45;2 -->\n",
       "<g id=\"edge2\" class=\"edge\">\n",
       "<title>0&#45;&#45;2</title>\n",
       "<path fill=\"none\" stroke=\"black\" d=\"M289.85,-82.91C254.68,-74.1 189.04,-56.57 135,-36 130.09,-34.13 124.92,-31.87 120.08,-29.62\"/>\n",
       "</g>\n",
       "<!-- 3 -->\n",
       "<g id=\"node4\" class=\"node\">\n",
       "<title>3</title>\n",
       "<ellipse fill=\"none\" stroke=\"black\" cx=\"171\" cy=\"-18\" rx=\"27\" ry=\"18\"/>\n",
       "<text text-anchor=\"middle\" x=\"171\" y=\"-14.3\" font-family=\"Times,serif\" font-size=\"14.00\">3</text>\n",
       "</g>\n",
       "<!-- 0&#45;&#45;3 -->\n",
       "<g id=\"edge3\" class=\"edge\">\n",
       "<title>0&#45;&#45;3</title>\n",
       "<path fill=\"none\" stroke=\"black\" d=\"M293.75,-78.67C266.53,-65.44 219.6,-42.63 192.33,-29.37\"/>\n",
       "</g>\n",
       "<!-- 4 -->\n",
       "<g id=\"node5\" class=\"node\">\n",
       "<title>4</title>\n",
       "<ellipse fill=\"none\" stroke=\"black\" cx=\"243\" cy=\"-18\" rx=\"27\" ry=\"18\"/>\n",
       "<text text-anchor=\"middle\" x=\"243\" y=\"-14.3\" font-family=\"Times,serif\" font-size=\"14.00\">4</text>\n",
       "</g>\n",
       "<!-- 0&#45;&#45;4 -->\n",
       "<g id=\"edge4\" class=\"edge\">\n",
       "<title>0&#45;&#45;4</title>\n",
       "<path fill=\"none\" stroke=\"black\" d=\"M300.43,-74.83C288.02,-62.77 270.27,-45.51 257.8,-33.38\"/>\n",
       "</g>\n",
       "<!-- 5 -->\n",
       "<g id=\"node6\" class=\"node\">\n",
       "<title>5</title>\n",
       "<ellipse fill=\"none\" stroke=\"black\" cx=\"315\" cy=\"-18\" rx=\"27\" ry=\"18\"/>\n",
       "<text text-anchor=\"middle\" x=\"315\" y=\"-14.3\" font-family=\"Times,serif\" font-size=\"14.00\">5</text>\n",
       "</g>\n",
       "<!-- 0&#45;&#45;5 -->\n",
       "<g id=\"edge5\" class=\"edge\">\n",
       "<title>0&#45;&#45;5</title>\n",
       "<path fill=\"none\" stroke=\"black\" d=\"M315,-71.7C315,-60.85 315,-46.92 315,-36.1\"/>\n",
       "</g>\n",
       "<!-- 6 -->\n",
       "<g id=\"node7\" class=\"node\">\n",
       "<title>6</title>\n",
       "<ellipse fill=\"none\" stroke=\"black\" cx=\"387\" cy=\"-18\" rx=\"27\" ry=\"18\"/>\n",
       "<text text-anchor=\"middle\" x=\"387\" y=\"-14.3\" font-family=\"Times,serif\" font-size=\"14.00\">6</text>\n",
       "</g>\n",
       "<!-- 0&#45;&#45;6 -->\n",
       "<g id=\"edge6\" class=\"edge\">\n",
       "<title>0&#45;&#45;6</title>\n",
       "<path fill=\"none\" stroke=\"black\" d=\"M329.57,-74.83C341.98,-62.77 359.73,-45.51 372.2,-33.38\"/>\n",
       "</g>\n",
       "<!-- 7 -->\n",
       "<g id=\"node8\" class=\"node\">\n",
       "<title>7</title>\n",
       "<ellipse fill=\"none\" stroke=\"black\" cx=\"459\" cy=\"-18\" rx=\"27\" ry=\"18\"/>\n",
       "<text text-anchor=\"middle\" x=\"459\" y=\"-14.3\" font-family=\"Times,serif\" font-size=\"14.00\">7</text>\n",
       "</g>\n",
       "<!-- 0&#45;&#45;7 -->\n",
       "<g id=\"edge7\" class=\"edge\">\n",
       "<title>0&#45;&#45;7</title>\n",
       "<path fill=\"none\" stroke=\"black\" d=\"M336.25,-78.67C363.47,-65.44 410.4,-42.63 437.67,-29.37\"/>\n",
       "</g>\n",
       "<!-- 8 -->\n",
       "<g id=\"node9\" class=\"node\">\n",
       "<title>8</title>\n",
       "<ellipse fill=\"none\" stroke=\"black\" cx=\"531\" cy=\"-18\" rx=\"27\" ry=\"18\"/>\n",
       "<text text-anchor=\"middle\" x=\"531\" y=\"-14.3\" font-family=\"Times,serif\" font-size=\"14.00\">8</text>\n",
       "</g>\n",
       "<!-- 0&#45;&#45;8 -->\n",
       "<g id=\"edge8\" class=\"edge\">\n",
       "<title>0&#45;&#45;8</title>\n",
       "<path fill=\"none\" stroke=\"black\" d=\"M340.15,-82.91C375.32,-74.1 440.96,-56.57 495,-36 499.91,-34.13 505.08,-31.87 509.92,-29.62\"/>\n",
       "</g>\n",
       "<!-- 9 -->\n",
       "<g id=\"node10\" class=\"node\">\n",
       "<title>9</title>\n",
       "<ellipse fill=\"none\" stroke=\"black\" cx=\"603\" cy=\"-18\" rx=\"27\" ry=\"18\"/>\n",
       "<text text-anchor=\"middle\" x=\"603\" y=\"-14.3\" font-family=\"Times,serif\" font-size=\"14.00\">9</text>\n",
       "</g>\n",
       "<!-- 0&#45;&#45;9 -->\n",
       "<g id=\"edge9\" class=\"edge\">\n",
       "<title>0&#45;&#45;9</title>\n",
       "<path fill=\"none\" stroke=\"black\" d=\"M341.29,-85.54C387.72,-78.98 486.91,-62.92 567,-36 572.11,-34.28 577.45,-32.03 582.4,-29.74\"/>\n",
       "</g>\n",
       "</g>\n",
       "</svg>\n"
      ],
      "text/plain": [
       "<graphviz.graphs.Graph at 0x7ff799227c40>"
      ]
     },
     "metadata": {},
     "output_type": "display_data"
    },
    {
     "data": {
      "image/svg+xml": [
       "<?xml version=\"1.0\" encoding=\"UTF-8\" standalone=\"no\"?>\n",
       "<!DOCTYPE svg PUBLIC \"-//W3C//DTD SVG 1.1//EN\"\n",
       " \"http://www.w3.org/Graphics/SVG/1.1/DTD/svg11.dtd\">\n",
       "<!-- Generated by graphviz version 2.43.0 (0)\n",
       " -->\n",
       "<!-- Title: %3 Pages: 1 -->\n",
       "<svg width=\"638pt\" height=\"116pt\"\n",
       " viewBox=\"0.00 0.00 638.00 116.00\" xmlns=\"http://www.w3.org/2000/svg\" xmlns:xlink=\"http://www.w3.org/1999/xlink\">\n",
       "<g id=\"graph0\" class=\"graph\" transform=\"scale(1 1) rotate(0) translate(4 112)\">\n",
       "<title>%3</title>\n",
       "<polygon fill=\"white\" stroke=\"transparent\" points=\"-4,4 -4,-112 634,-112 634,4 -4,4\"/>\n",
       "<!-- 0 -->\n",
       "<g id=\"node1\" class=\"node\">\n",
       "<title>0</title>\n",
       "<ellipse fill=\"none\" stroke=\"black\" cx=\"315\" cy=\"-18\" rx=\"27\" ry=\"18\"/>\n",
       "<text text-anchor=\"middle\" x=\"315\" y=\"-14.3\" font-family=\"Times,serif\" font-size=\"14.00\">0</text>\n",
       "</g>\n",
       "<!-- 0&#45;&gt;0 -->\n",
       "<g id=\"edge1\" class=\"edge\">\n",
       "<title>0&#45;&gt;0</title>\n",
       "<path fill=\"none\" stroke=\"black\" d=\"M334.9,-30.43C347.69,-33.68 360,-29.53 360,-18 360,-9.62 353.5,-5.14 345.04,-4.56\"/>\n",
       "<polygon fill=\"black\" stroke=\"black\" points=\"344.5,-1.1 334.9,-5.57 345.19,-8.07 344.5,-1.1\"/>\n",
       "</g>\n",
       "<!-- 1 -->\n",
       "<g id=\"node2\" class=\"node\">\n",
       "<title>1</title>\n",
       "<ellipse fill=\"none\" stroke=\"black\" cx=\"27\" cy=\"-90\" rx=\"27\" ry=\"18\"/>\n",
       "<text text-anchor=\"middle\" x=\"27\" y=\"-86.3\" font-family=\"Times,serif\" font-size=\"14.00\">1</text>\n",
       "</g>\n",
       "<!-- 1&#45;&gt;0 -->\n",
       "<g id=\"edge2\" class=\"edge\">\n",
       "<title>1&#45;&gt;0</title>\n",
       "<path fill=\"none\" stroke=\"black\" d=\"M47.6,-78.26C52.55,-75.97 57.89,-73.72 63,-72 137.77,-46.87 229.19,-31.2 278.78,-23.89\"/>\n",
       "<polygon fill=\"black\" stroke=\"black\" points=\"279.31,-27.35 288.71,-22.46 278.31,-20.42 279.31,-27.35\"/>\n",
       "</g>\n",
       "<!-- 2 -->\n",
       "<g id=\"node3\" class=\"node\">\n",
       "<title>2</title>\n",
       "<ellipse fill=\"none\" stroke=\"black\" cx=\"99\" cy=\"-90\" rx=\"27\" ry=\"18\"/>\n",
       "<text text-anchor=\"middle\" x=\"99\" y=\"-86.3\" font-family=\"Times,serif\" font-size=\"14.00\">2</text>\n",
       "</g>\n",
       "<!-- 2&#45;&gt;0 -->\n",
       "<g id=\"edge3\" class=\"edge\">\n",
       "<title>2&#45;&gt;0</title>\n",
       "<path fill=\"none\" stroke=\"black\" d=\"M120.08,-78.38C124.92,-76.13 130.09,-73.87 135,-72 184.4,-53.19 243.48,-36.94 280.13,-27.55\"/>\n",
       "<polygon fill=\"black\" stroke=\"black\" points=\"281.01,-30.94 289.85,-25.09 279.29,-24.15 281.01,-30.94\"/>\n",
       "</g>\n",
       "<!-- 3 -->\n",
       "<g id=\"node4\" class=\"node\">\n",
       "<title>3</title>\n",
       "<ellipse fill=\"none\" stroke=\"black\" cx=\"171\" cy=\"-90\" rx=\"27\" ry=\"18\"/>\n",
       "<text text-anchor=\"middle\" x=\"171\" y=\"-86.3\" font-family=\"Times,serif\" font-size=\"14.00\">3</text>\n",
       "</g>\n",
       "<!-- 3&#45;&gt;0 -->\n",
       "<g id=\"edge4\" class=\"edge\">\n",
       "<title>3&#45;&gt;0</title>\n",
       "<path fill=\"none\" stroke=\"black\" d=\"M192.25,-78.67C216.6,-66.83 256.72,-47.33 284.43,-33.86\"/>\n",
       "<polygon fill=\"black\" stroke=\"black\" points=\"286.2,-36.89 293.67,-29.37 283.14,-30.6 286.2,-36.89\"/>\n",
       "</g>\n",
       "<!-- 4 -->\n",
       "<g id=\"node5\" class=\"node\">\n",
       "<title>4</title>\n",
       "<ellipse fill=\"none\" stroke=\"black\" cx=\"243\" cy=\"-90\" rx=\"27\" ry=\"18\"/>\n",
       "<text text-anchor=\"middle\" x=\"243\" y=\"-86.3\" font-family=\"Times,serif\" font-size=\"14.00\">4</text>\n",
       "</g>\n",
       "<!-- 4&#45;&gt;0 -->\n",
       "<g id=\"edge5\" class=\"edge\">\n",
       "<title>4&#45;&gt;0</title>\n",
       "<path fill=\"none\" stroke=\"black\" d=\"M257.57,-74.83C267.75,-64.94 281.52,-51.55 293.03,-40.36\"/>\n",
       "<polygon fill=\"black\" stroke=\"black\" points=\"295.47,-42.87 300.2,-33.38 290.59,-37.85 295.47,-42.87\"/>\n",
       "</g>\n",
       "<!-- 5 -->\n",
       "<g id=\"node6\" class=\"node\">\n",
       "<title>5</title>\n",
       "<ellipse fill=\"none\" stroke=\"black\" cx=\"315\" cy=\"-90\" rx=\"27\" ry=\"18\"/>\n",
       "<text text-anchor=\"middle\" x=\"315\" y=\"-86.3\" font-family=\"Times,serif\" font-size=\"14.00\">5</text>\n",
       "</g>\n",
       "<!-- 5&#45;&gt;0 -->\n",
       "<g id=\"edge6\" class=\"edge\">\n",
       "<title>5&#45;&gt;0</title>\n",
       "<path fill=\"none\" stroke=\"black\" d=\"M315,-71.7C315,-63.98 315,-54.71 315,-46.11\"/>\n",
       "<polygon fill=\"black\" stroke=\"black\" points=\"318.5,-46.1 315,-36.1 311.5,-46.1 318.5,-46.1\"/>\n",
       "</g>\n",
       "<!-- 6 -->\n",
       "<g id=\"node7\" class=\"node\">\n",
       "<title>6</title>\n",
       "<ellipse fill=\"none\" stroke=\"black\" cx=\"387\" cy=\"-90\" rx=\"27\" ry=\"18\"/>\n",
       "<text text-anchor=\"middle\" x=\"387\" y=\"-86.3\" font-family=\"Times,serif\" font-size=\"14.00\">6</text>\n",
       "</g>\n",
       "<!-- 6&#45;&gt;0 -->\n",
       "<g id=\"edge7\" class=\"edge\">\n",
       "<title>6&#45;&gt;0</title>\n",
       "<path fill=\"none\" stroke=\"black\" d=\"M372.43,-74.83C362.25,-64.94 348.48,-51.55 336.97,-40.36\"/>\n",
       "<polygon fill=\"black\" stroke=\"black\" points=\"339.41,-37.85 329.8,-33.38 334.53,-42.87 339.41,-37.85\"/>\n",
       "</g>\n",
       "<!-- 7 -->\n",
       "<g id=\"node8\" class=\"node\">\n",
       "<title>7</title>\n",
       "<ellipse fill=\"none\" stroke=\"black\" cx=\"459\" cy=\"-90\" rx=\"27\" ry=\"18\"/>\n",
       "<text text-anchor=\"middle\" x=\"459\" y=\"-86.3\" font-family=\"Times,serif\" font-size=\"14.00\">7</text>\n",
       "</g>\n",
       "<!-- 7&#45;&gt;0 -->\n",
       "<g id=\"edge8\" class=\"edge\">\n",
       "<title>7&#45;&gt;0</title>\n",
       "<path fill=\"none\" stroke=\"black\" d=\"M437.75,-78.67C413.4,-66.83 373.28,-47.33 345.57,-33.86\"/>\n",
       "<polygon fill=\"black\" stroke=\"black\" points=\"346.86,-30.6 336.33,-29.37 343.8,-36.89 346.86,-30.6\"/>\n",
       "</g>\n",
       "<!-- 8 -->\n",
       "<g id=\"node9\" class=\"node\">\n",
       "<title>8</title>\n",
       "<ellipse fill=\"none\" stroke=\"black\" cx=\"531\" cy=\"-90\" rx=\"27\" ry=\"18\"/>\n",
       "<text text-anchor=\"middle\" x=\"531\" y=\"-86.3\" font-family=\"Times,serif\" font-size=\"14.00\">8</text>\n",
       "</g>\n",
       "<!-- 8&#45;&gt;0 -->\n",
       "<g id=\"edge9\" class=\"edge\">\n",
       "<title>8&#45;&gt;0</title>\n",
       "<path fill=\"none\" stroke=\"black\" d=\"M509.92,-78.38C505.08,-76.13 499.91,-73.87 495,-72 445.6,-53.19 386.52,-36.94 349.87,-27.55\"/>\n",
       "<polygon fill=\"black\" stroke=\"black\" points=\"350.71,-24.15 340.15,-25.09 348.99,-30.94 350.71,-24.15\"/>\n",
       "</g>\n",
       "<!-- 9 -->\n",
       "<g id=\"node10\" class=\"node\">\n",
       "<title>9</title>\n",
       "<ellipse fill=\"none\" stroke=\"black\" cx=\"603\" cy=\"-90\" rx=\"27\" ry=\"18\"/>\n",
       "<text text-anchor=\"middle\" x=\"603\" y=\"-86.3\" font-family=\"Times,serif\" font-size=\"14.00\">9</text>\n",
       "</g>\n",
       "<!-- 9&#45;&gt;0 -->\n",
       "<g id=\"edge10\" class=\"edge\">\n",
       "<title>9&#45;&gt;0</title>\n",
       "<path fill=\"none\" stroke=\"black\" d=\"M582.4,-78.26C577.45,-75.97 572.11,-73.72 567,-72 492.23,-46.87 400.81,-31.2 351.22,-23.89\"/>\n",
       "<polygon fill=\"black\" stroke=\"black\" points=\"351.69,-20.42 341.29,-22.46 350.69,-27.35 351.69,-20.42\"/>\n",
       "</g>\n",
       "</g>\n",
       "</svg>\n"
      ],
      "text/plain": [
       "<graphviz.graphs.Digraph at 0x7ff799227e50>"
      ]
     },
     "metadata": {},
     "output_type": "display_data"
    }
   ],
   "source": [
    "n = 10\n",
    "edges = [(0, i) for i in range(1, n)]\n",
    "display(show_edges(edges, 'TD'))\n",
    "\n",
    "roots = [i for i in range(n)]\n",
    "\n",
    "for a, b in edges:\n",
    "    ra = find_better(roots, a)\n",
    "    rb = find_better(roots, b)\n",
    "    roots[rb] = ra\n",
    "\n",
    "display(show_graph(roots, 'TD'))\n"
   ]
  },
  {
   "cell_type": "code",
   "execution_count": 59,
   "metadata": {},
   "outputs": [
    {
     "data": {
      "image/svg+xml": [
       "<?xml version=\"1.0\" encoding=\"UTF-8\" standalone=\"no\"?>\n",
       "<!DOCTYPE svg PUBLIC \"-//W3C//DTD SVG 1.1//EN\"\n",
       " \"http://www.w3.org/Graphics/SVG/1.1/DTD/svg11.dtd\">\n",
       "<!-- Generated by graphviz version 2.43.0 (0)\n",
       " -->\n",
       "<!-- Title: %3 Pages: 1 -->\n",
       "<svg width=\"638pt\" height=\"116pt\"\n",
       " viewBox=\"0.00 0.00 638.00 116.00\" xmlns=\"http://www.w3.org/2000/svg\" xmlns:xlink=\"http://www.w3.org/1999/xlink\">\n",
       "<g id=\"graph0\" class=\"graph\" transform=\"scale(1 1) rotate(0) translate(4 112)\">\n",
       "<title>%3</title>\n",
       "<polygon fill=\"white\" stroke=\"transparent\" points=\"-4,4 -4,-112 634,-112 634,4 -4,4\"/>\n",
       "<!-- 0 -->\n",
       "<g id=\"node1\" class=\"node\">\n",
       "<title>0</title>\n",
       "<ellipse fill=\"none\" stroke=\"black\" cx=\"315\" cy=\"-90\" rx=\"27\" ry=\"18\"/>\n",
       "<text text-anchor=\"middle\" x=\"315\" y=\"-86.3\" font-family=\"Times,serif\" font-size=\"14.00\">0</text>\n",
       "</g>\n",
       "<!-- 1 -->\n",
       "<g id=\"node2\" class=\"node\">\n",
       "<title>1</title>\n",
       "<ellipse fill=\"none\" stroke=\"black\" cx=\"27\" cy=\"-18\" rx=\"27\" ry=\"18\"/>\n",
       "<text text-anchor=\"middle\" x=\"27\" y=\"-14.3\" font-family=\"Times,serif\" font-size=\"14.00\">1</text>\n",
       "</g>\n",
       "<!-- 0&#45;&#45;1 -->\n",
       "<g id=\"edge1\" class=\"edge\">\n",
       "<title>0&#45;&#45;1</title>\n",
       "<path fill=\"none\" stroke=\"black\" d=\"M288.71,-85.54C242.28,-78.98 143.09,-62.92 63,-36 57.89,-34.28 52.55,-32.03 47.6,-29.74\"/>\n",
       "</g>\n",
       "<!-- 2 -->\n",
       "<g id=\"node3\" class=\"node\">\n",
       "<title>2</title>\n",
       "<ellipse fill=\"none\" stroke=\"black\" cx=\"99\" cy=\"-18\" rx=\"27\" ry=\"18\"/>\n",
       "<text text-anchor=\"middle\" x=\"99\" y=\"-14.3\" font-family=\"Times,serif\" font-size=\"14.00\">2</text>\n",
       "</g>\n",
       "<!-- 0&#45;&#45;2 -->\n",
       "<g id=\"edge2\" class=\"edge\">\n",
       "<title>0&#45;&#45;2</title>\n",
       "<path fill=\"none\" stroke=\"black\" d=\"M289.85,-82.91C254.68,-74.1 189.04,-56.57 135,-36 130.09,-34.13 124.92,-31.87 120.08,-29.62\"/>\n",
       "</g>\n",
       "<!-- 3 -->\n",
       "<g id=\"node4\" class=\"node\">\n",
       "<title>3</title>\n",
       "<ellipse fill=\"none\" stroke=\"black\" cx=\"171\" cy=\"-18\" rx=\"27\" ry=\"18\"/>\n",
       "<text text-anchor=\"middle\" x=\"171\" y=\"-14.3\" font-family=\"Times,serif\" font-size=\"14.00\">3</text>\n",
       "</g>\n",
       "<!-- 0&#45;&#45;3 -->\n",
       "<g id=\"edge3\" class=\"edge\">\n",
       "<title>0&#45;&#45;3</title>\n",
       "<path fill=\"none\" stroke=\"black\" d=\"M293.75,-78.67C266.53,-65.44 219.6,-42.63 192.33,-29.37\"/>\n",
       "</g>\n",
       "<!-- 4 -->\n",
       "<g id=\"node5\" class=\"node\">\n",
       "<title>4</title>\n",
       "<ellipse fill=\"none\" stroke=\"black\" cx=\"243\" cy=\"-18\" rx=\"27\" ry=\"18\"/>\n",
       "<text text-anchor=\"middle\" x=\"243\" y=\"-14.3\" font-family=\"Times,serif\" font-size=\"14.00\">4</text>\n",
       "</g>\n",
       "<!-- 0&#45;&#45;4 -->\n",
       "<g id=\"edge4\" class=\"edge\">\n",
       "<title>0&#45;&#45;4</title>\n",
       "<path fill=\"none\" stroke=\"black\" d=\"M300.43,-74.83C288.02,-62.77 270.27,-45.51 257.8,-33.38\"/>\n",
       "</g>\n",
       "<!-- 5 -->\n",
       "<g id=\"node6\" class=\"node\">\n",
       "<title>5</title>\n",
       "<ellipse fill=\"none\" stroke=\"black\" cx=\"315\" cy=\"-18\" rx=\"27\" ry=\"18\"/>\n",
       "<text text-anchor=\"middle\" x=\"315\" y=\"-14.3\" font-family=\"Times,serif\" font-size=\"14.00\">5</text>\n",
       "</g>\n",
       "<!-- 0&#45;&#45;5 -->\n",
       "<g id=\"edge5\" class=\"edge\">\n",
       "<title>0&#45;&#45;5</title>\n",
       "<path fill=\"none\" stroke=\"black\" d=\"M315,-71.7C315,-60.85 315,-46.92 315,-36.1\"/>\n",
       "</g>\n",
       "<!-- 6 -->\n",
       "<g id=\"node7\" class=\"node\">\n",
       "<title>6</title>\n",
       "<ellipse fill=\"none\" stroke=\"black\" cx=\"387\" cy=\"-18\" rx=\"27\" ry=\"18\"/>\n",
       "<text text-anchor=\"middle\" x=\"387\" y=\"-14.3\" font-family=\"Times,serif\" font-size=\"14.00\">6</text>\n",
       "</g>\n",
       "<!-- 0&#45;&#45;6 -->\n",
       "<g id=\"edge6\" class=\"edge\">\n",
       "<title>0&#45;&#45;6</title>\n",
       "<path fill=\"none\" stroke=\"black\" d=\"M329.57,-74.83C341.98,-62.77 359.73,-45.51 372.2,-33.38\"/>\n",
       "</g>\n",
       "<!-- 7 -->\n",
       "<g id=\"node8\" class=\"node\">\n",
       "<title>7</title>\n",
       "<ellipse fill=\"none\" stroke=\"black\" cx=\"459\" cy=\"-18\" rx=\"27\" ry=\"18\"/>\n",
       "<text text-anchor=\"middle\" x=\"459\" y=\"-14.3\" font-family=\"Times,serif\" font-size=\"14.00\">7</text>\n",
       "</g>\n",
       "<!-- 0&#45;&#45;7 -->\n",
       "<g id=\"edge7\" class=\"edge\">\n",
       "<title>0&#45;&#45;7</title>\n",
       "<path fill=\"none\" stroke=\"black\" d=\"M336.25,-78.67C363.47,-65.44 410.4,-42.63 437.67,-29.37\"/>\n",
       "</g>\n",
       "<!-- 8 -->\n",
       "<g id=\"node9\" class=\"node\">\n",
       "<title>8</title>\n",
       "<ellipse fill=\"none\" stroke=\"black\" cx=\"531\" cy=\"-18\" rx=\"27\" ry=\"18\"/>\n",
       "<text text-anchor=\"middle\" x=\"531\" y=\"-14.3\" font-family=\"Times,serif\" font-size=\"14.00\">8</text>\n",
       "</g>\n",
       "<!-- 0&#45;&#45;8 -->\n",
       "<g id=\"edge8\" class=\"edge\">\n",
       "<title>0&#45;&#45;8</title>\n",
       "<path fill=\"none\" stroke=\"black\" d=\"M340.15,-82.91C375.32,-74.1 440.96,-56.57 495,-36 499.91,-34.13 505.08,-31.87 509.92,-29.62\"/>\n",
       "</g>\n",
       "<!-- 9 -->\n",
       "<g id=\"node10\" class=\"node\">\n",
       "<title>9</title>\n",
       "<ellipse fill=\"none\" stroke=\"black\" cx=\"603\" cy=\"-18\" rx=\"27\" ry=\"18\"/>\n",
       "<text text-anchor=\"middle\" x=\"603\" y=\"-14.3\" font-family=\"Times,serif\" font-size=\"14.00\">9</text>\n",
       "</g>\n",
       "<!-- 0&#45;&#45;9 -->\n",
       "<g id=\"edge9\" class=\"edge\">\n",
       "<title>0&#45;&#45;9</title>\n",
       "<path fill=\"none\" stroke=\"black\" d=\"M341.29,-85.54C387.72,-78.98 486.91,-62.92 567,-36 572.11,-34.28 577.45,-32.03 582.4,-29.74\"/>\n",
       "</g>\n",
       "</g>\n",
       "</svg>\n"
      ],
      "text/plain": [
       "<graphviz.graphs.Graph at 0x7ff79908e890>"
      ]
     },
     "metadata": {},
     "output_type": "display_data"
    },
    {
     "data": {
      "image/svg+xml": [
       "<?xml version=\"1.0\" encoding=\"UTF-8\" standalone=\"no\"?>\n",
       "<!DOCTYPE svg PUBLIC \"-//W3C//DTD SVG 1.1//EN\"\n",
       " \"http://www.w3.org/Graphics/SVG/1.1/DTD/svg11.dtd\">\n",
       "<!-- Generated by graphviz version 2.43.0 (0)\n",
       " -->\n",
       "<!-- Title: %3 Pages: 1 -->\n",
       "<svg width=\"638pt\" height=\"116pt\"\n",
       " viewBox=\"0.00 0.00 638.00 116.00\" xmlns=\"http://www.w3.org/2000/svg\" xmlns:xlink=\"http://www.w3.org/1999/xlink\">\n",
       "<g id=\"graph0\" class=\"graph\" transform=\"scale(1 1) rotate(0) translate(4 112)\">\n",
       "<title>%3</title>\n",
       "<polygon fill=\"white\" stroke=\"transparent\" points=\"-4,4 -4,-112 634,-112 634,4 -4,4\"/>\n",
       "<!-- 0 -->\n",
       "<g id=\"node1\" class=\"node\">\n",
       "<title>0</title>\n",
       "<ellipse fill=\"none\" stroke=\"black\" cx=\"315\" cy=\"-18\" rx=\"27\" ry=\"18\"/>\n",
       "<text text-anchor=\"middle\" x=\"315\" y=\"-14.3\" font-family=\"Times,serif\" font-size=\"14.00\">0</text>\n",
       "</g>\n",
       "<!-- 0&#45;&gt;0 -->\n",
       "<g id=\"edge1\" class=\"edge\">\n",
       "<title>0&#45;&gt;0</title>\n",
       "<path fill=\"none\" stroke=\"black\" d=\"M334.9,-30.43C347.69,-33.68 360,-29.53 360,-18 360,-9.62 353.5,-5.14 345.04,-4.56\"/>\n",
       "<polygon fill=\"black\" stroke=\"black\" points=\"344.5,-1.1 334.9,-5.57 345.19,-8.07 344.5,-1.1\"/>\n",
       "</g>\n",
       "<!-- 1 -->\n",
       "<g id=\"node2\" class=\"node\">\n",
       "<title>1</title>\n",
       "<ellipse fill=\"none\" stroke=\"black\" cx=\"27\" cy=\"-90\" rx=\"27\" ry=\"18\"/>\n",
       "<text text-anchor=\"middle\" x=\"27\" y=\"-86.3\" font-family=\"Times,serif\" font-size=\"14.00\">1</text>\n",
       "</g>\n",
       "<!-- 1&#45;&gt;0 -->\n",
       "<g id=\"edge2\" class=\"edge\">\n",
       "<title>1&#45;&gt;0</title>\n",
       "<path fill=\"none\" stroke=\"black\" d=\"M47.6,-78.26C52.55,-75.97 57.89,-73.72 63,-72 137.77,-46.87 229.19,-31.2 278.78,-23.89\"/>\n",
       "<polygon fill=\"black\" stroke=\"black\" points=\"279.31,-27.35 288.71,-22.46 278.31,-20.42 279.31,-27.35\"/>\n",
       "</g>\n",
       "<!-- 2 -->\n",
       "<g id=\"node3\" class=\"node\">\n",
       "<title>2</title>\n",
       "<ellipse fill=\"none\" stroke=\"black\" cx=\"99\" cy=\"-90\" rx=\"27\" ry=\"18\"/>\n",
       "<text text-anchor=\"middle\" x=\"99\" y=\"-86.3\" font-family=\"Times,serif\" font-size=\"14.00\">2</text>\n",
       "</g>\n",
       "<!-- 2&#45;&gt;0 -->\n",
       "<g id=\"edge3\" class=\"edge\">\n",
       "<title>2&#45;&gt;0</title>\n",
       "<path fill=\"none\" stroke=\"black\" d=\"M120.08,-78.38C124.92,-76.13 130.09,-73.87 135,-72 184.4,-53.19 243.48,-36.94 280.13,-27.55\"/>\n",
       "<polygon fill=\"black\" stroke=\"black\" points=\"281.01,-30.94 289.85,-25.09 279.29,-24.15 281.01,-30.94\"/>\n",
       "</g>\n",
       "<!-- 3 -->\n",
       "<g id=\"node4\" class=\"node\">\n",
       "<title>3</title>\n",
       "<ellipse fill=\"none\" stroke=\"black\" cx=\"171\" cy=\"-90\" rx=\"27\" ry=\"18\"/>\n",
       "<text text-anchor=\"middle\" x=\"171\" y=\"-86.3\" font-family=\"Times,serif\" font-size=\"14.00\">3</text>\n",
       "</g>\n",
       "<!-- 3&#45;&gt;0 -->\n",
       "<g id=\"edge4\" class=\"edge\">\n",
       "<title>3&#45;&gt;0</title>\n",
       "<path fill=\"none\" stroke=\"black\" d=\"M192.25,-78.67C216.6,-66.83 256.72,-47.33 284.43,-33.86\"/>\n",
       "<polygon fill=\"black\" stroke=\"black\" points=\"286.2,-36.89 293.67,-29.37 283.14,-30.6 286.2,-36.89\"/>\n",
       "</g>\n",
       "<!-- 4 -->\n",
       "<g id=\"node5\" class=\"node\">\n",
       "<title>4</title>\n",
       "<ellipse fill=\"none\" stroke=\"black\" cx=\"243\" cy=\"-90\" rx=\"27\" ry=\"18\"/>\n",
       "<text text-anchor=\"middle\" x=\"243\" y=\"-86.3\" font-family=\"Times,serif\" font-size=\"14.00\">4</text>\n",
       "</g>\n",
       "<!-- 4&#45;&gt;0 -->\n",
       "<g id=\"edge5\" class=\"edge\">\n",
       "<title>4&#45;&gt;0</title>\n",
       "<path fill=\"none\" stroke=\"black\" d=\"M257.57,-74.83C267.75,-64.94 281.52,-51.55 293.03,-40.36\"/>\n",
       "<polygon fill=\"black\" stroke=\"black\" points=\"295.47,-42.87 300.2,-33.38 290.59,-37.85 295.47,-42.87\"/>\n",
       "</g>\n",
       "<!-- 5 -->\n",
       "<g id=\"node6\" class=\"node\">\n",
       "<title>5</title>\n",
       "<ellipse fill=\"none\" stroke=\"black\" cx=\"315\" cy=\"-90\" rx=\"27\" ry=\"18\"/>\n",
       "<text text-anchor=\"middle\" x=\"315\" y=\"-86.3\" font-family=\"Times,serif\" font-size=\"14.00\">5</text>\n",
       "</g>\n",
       "<!-- 5&#45;&gt;0 -->\n",
       "<g id=\"edge6\" class=\"edge\">\n",
       "<title>5&#45;&gt;0</title>\n",
       "<path fill=\"none\" stroke=\"black\" d=\"M315,-71.7C315,-63.98 315,-54.71 315,-46.11\"/>\n",
       "<polygon fill=\"black\" stroke=\"black\" points=\"318.5,-46.1 315,-36.1 311.5,-46.1 318.5,-46.1\"/>\n",
       "</g>\n",
       "<!-- 6 -->\n",
       "<g id=\"node7\" class=\"node\">\n",
       "<title>6</title>\n",
       "<ellipse fill=\"none\" stroke=\"black\" cx=\"387\" cy=\"-90\" rx=\"27\" ry=\"18\"/>\n",
       "<text text-anchor=\"middle\" x=\"387\" y=\"-86.3\" font-family=\"Times,serif\" font-size=\"14.00\">6</text>\n",
       "</g>\n",
       "<!-- 6&#45;&gt;0 -->\n",
       "<g id=\"edge7\" class=\"edge\">\n",
       "<title>6&#45;&gt;0</title>\n",
       "<path fill=\"none\" stroke=\"black\" d=\"M372.43,-74.83C362.25,-64.94 348.48,-51.55 336.97,-40.36\"/>\n",
       "<polygon fill=\"black\" stroke=\"black\" points=\"339.41,-37.85 329.8,-33.38 334.53,-42.87 339.41,-37.85\"/>\n",
       "</g>\n",
       "<!-- 7 -->\n",
       "<g id=\"node8\" class=\"node\">\n",
       "<title>7</title>\n",
       "<ellipse fill=\"none\" stroke=\"black\" cx=\"459\" cy=\"-90\" rx=\"27\" ry=\"18\"/>\n",
       "<text text-anchor=\"middle\" x=\"459\" y=\"-86.3\" font-family=\"Times,serif\" font-size=\"14.00\">7</text>\n",
       "</g>\n",
       "<!-- 7&#45;&gt;0 -->\n",
       "<g id=\"edge8\" class=\"edge\">\n",
       "<title>7&#45;&gt;0</title>\n",
       "<path fill=\"none\" stroke=\"black\" d=\"M437.75,-78.67C413.4,-66.83 373.28,-47.33 345.57,-33.86\"/>\n",
       "<polygon fill=\"black\" stroke=\"black\" points=\"346.86,-30.6 336.33,-29.37 343.8,-36.89 346.86,-30.6\"/>\n",
       "</g>\n",
       "<!-- 8 -->\n",
       "<g id=\"node9\" class=\"node\">\n",
       "<title>8</title>\n",
       "<ellipse fill=\"none\" stroke=\"black\" cx=\"531\" cy=\"-90\" rx=\"27\" ry=\"18\"/>\n",
       "<text text-anchor=\"middle\" x=\"531\" y=\"-86.3\" font-family=\"Times,serif\" font-size=\"14.00\">8</text>\n",
       "</g>\n",
       "<!-- 8&#45;&gt;0 -->\n",
       "<g id=\"edge9\" class=\"edge\">\n",
       "<title>8&#45;&gt;0</title>\n",
       "<path fill=\"none\" stroke=\"black\" d=\"M509.92,-78.38C505.08,-76.13 499.91,-73.87 495,-72 445.6,-53.19 386.52,-36.94 349.87,-27.55\"/>\n",
       "<polygon fill=\"black\" stroke=\"black\" points=\"350.71,-24.15 340.15,-25.09 348.99,-30.94 350.71,-24.15\"/>\n",
       "</g>\n",
       "<!-- 9 -->\n",
       "<g id=\"node10\" class=\"node\">\n",
       "<title>9</title>\n",
       "<ellipse fill=\"none\" stroke=\"black\" cx=\"603\" cy=\"-90\" rx=\"27\" ry=\"18\"/>\n",
       "<text text-anchor=\"middle\" x=\"603\" y=\"-86.3\" font-family=\"Times,serif\" font-size=\"14.00\">9</text>\n",
       "</g>\n",
       "<!-- 9&#45;&gt;0 -->\n",
       "<g id=\"edge10\" class=\"edge\">\n",
       "<title>9&#45;&gt;0</title>\n",
       "<path fill=\"none\" stroke=\"black\" d=\"M582.4,-78.26C577.45,-75.97 572.11,-73.72 567,-72 492.23,-46.87 400.81,-31.2 351.22,-23.89\"/>\n",
       "<polygon fill=\"black\" stroke=\"black\" points=\"351.69,-20.42 341.29,-22.46 350.69,-27.35 351.69,-20.42\"/>\n",
       "</g>\n",
       "</g>\n",
       "</svg>\n"
      ],
      "text/plain": [
       "<graphviz.graphs.Digraph at 0x7ff799222ec0>"
      ]
     },
     "metadata": {},
     "output_type": "display_data"
    }
   ],
   "source": [
    "n = 10\n",
    "edges = [(0, i) for i in range(1, n)]\n",
    "display(show_edges(edges, 'TD'))\n",
    "\n",
    "roots = [i for i in range(n)]\n",
    "sizes = [1]*n\n",
    "\n",
    "for a, b in edges:\n",
    "    union_sizes(roots, sizes, a, b)\n",
    "\n",
    "display(show_graph(roots, 'TD'))\n"
   ]
  },
  {
   "cell_type": "code",
   "execution_count": 60,
   "metadata": {},
   "outputs": [
    {
     "data": {
      "image/svg+xml": [
       "<?xml version=\"1.0\" encoding=\"UTF-8\" standalone=\"no\"?>\n",
       "<!DOCTYPE svg PUBLIC \"-//W3C//DTD SVG 1.1//EN\"\n",
       " \"http://www.w3.org/Graphics/SVG/1.1/DTD/svg11.dtd\">\n",
       "<!-- Generated by graphviz version 2.43.0 (0)\n",
       " -->\n",
       "<!-- Title: %3 Pages: 1 -->\n",
       "<svg width=\"638pt\" height=\"116pt\"\n",
       " viewBox=\"0.00 0.00 638.00 116.00\" xmlns=\"http://www.w3.org/2000/svg\" xmlns:xlink=\"http://www.w3.org/1999/xlink\">\n",
       "<g id=\"graph0\" class=\"graph\" transform=\"scale(1 1) rotate(0) translate(4 112)\">\n",
       "<title>%3</title>\n",
       "<polygon fill=\"white\" stroke=\"transparent\" points=\"-4,4 -4,-112 634,-112 634,4 -4,4\"/>\n",
       "<!-- 0 -->\n",
       "<g id=\"node1\" class=\"node\">\n",
       "<title>0</title>\n",
       "<ellipse fill=\"none\" stroke=\"black\" cx=\"315\" cy=\"-90\" rx=\"27\" ry=\"18\"/>\n",
       "<text text-anchor=\"middle\" x=\"315\" y=\"-86.3\" font-family=\"Times,serif\" font-size=\"14.00\">0</text>\n",
       "</g>\n",
       "<!-- 1 -->\n",
       "<g id=\"node2\" class=\"node\">\n",
       "<title>1</title>\n",
       "<ellipse fill=\"none\" stroke=\"black\" cx=\"27\" cy=\"-18\" rx=\"27\" ry=\"18\"/>\n",
       "<text text-anchor=\"middle\" x=\"27\" y=\"-14.3\" font-family=\"Times,serif\" font-size=\"14.00\">1</text>\n",
       "</g>\n",
       "<!-- 0&#45;&#45;1 -->\n",
       "<g id=\"edge1\" class=\"edge\">\n",
       "<title>0&#45;&#45;1</title>\n",
       "<path fill=\"none\" stroke=\"black\" d=\"M288.71,-85.54C242.28,-78.98 143.09,-62.92 63,-36 57.89,-34.28 52.55,-32.03 47.6,-29.74\"/>\n",
       "</g>\n",
       "<!-- 2 -->\n",
       "<g id=\"node3\" class=\"node\">\n",
       "<title>2</title>\n",
       "<ellipse fill=\"none\" stroke=\"black\" cx=\"99\" cy=\"-18\" rx=\"27\" ry=\"18\"/>\n",
       "<text text-anchor=\"middle\" x=\"99\" y=\"-14.3\" font-family=\"Times,serif\" font-size=\"14.00\">2</text>\n",
       "</g>\n",
       "<!-- 0&#45;&#45;2 -->\n",
       "<g id=\"edge2\" class=\"edge\">\n",
       "<title>0&#45;&#45;2</title>\n",
       "<path fill=\"none\" stroke=\"black\" d=\"M289.85,-82.91C254.68,-74.1 189.04,-56.57 135,-36 130.09,-34.13 124.92,-31.87 120.08,-29.62\"/>\n",
       "</g>\n",
       "<!-- 3 -->\n",
       "<g id=\"node4\" class=\"node\">\n",
       "<title>3</title>\n",
       "<ellipse fill=\"none\" stroke=\"black\" cx=\"171\" cy=\"-18\" rx=\"27\" ry=\"18\"/>\n",
       "<text text-anchor=\"middle\" x=\"171\" y=\"-14.3\" font-family=\"Times,serif\" font-size=\"14.00\">3</text>\n",
       "</g>\n",
       "<!-- 0&#45;&#45;3 -->\n",
       "<g id=\"edge3\" class=\"edge\">\n",
       "<title>0&#45;&#45;3</title>\n",
       "<path fill=\"none\" stroke=\"black\" d=\"M293.75,-78.67C266.53,-65.44 219.6,-42.63 192.33,-29.37\"/>\n",
       "</g>\n",
       "<!-- 4 -->\n",
       "<g id=\"node5\" class=\"node\">\n",
       "<title>4</title>\n",
       "<ellipse fill=\"none\" stroke=\"black\" cx=\"243\" cy=\"-18\" rx=\"27\" ry=\"18\"/>\n",
       "<text text-anchor=\"middle\" x=\"243\" y=\"-14.3\" font-family=\"Times,serif\" font-size=\"14.00\">4</text>\n",
       "</g>\n",
       "<!-- 0&#45;&#45;4 -->\n",
       "<g id=\"edge4\" class=\"edge\">\n",
       "<title>0&#45;&#45;4</title>\n",
       "<path fill=\"none\" stroke=\"black\" d=\"M300.43,-74.83C288.02,-62.77 270.27,-45.51 257.8,-33.38\"/>\n",
       "</g>\n",
       "<!-- 5 -->\n",
       "<g id=\"node6\" class=\"node\">\n",
       "<title>5</title>\n",
       "<ellipse fill=\"none\" stroke=\"black\" cx=\"315\" cy=\"-18\" rx=\"27\" ry=\"18\"/>\n",
       "<text text-anchor=\"middle\" x=\"315\" y=\"-14.3\" font-family=\"Times,serif\" font-size=\"14.00\">5</text>\n",
       "</g>\n",
       "<!-- 0&#45;&#45;5 -->\n",
       "<g id=\"edge5\" class=\"edge\">\n",
       "<title>0&#45;&#45;5</title>\n",
       "<path fill=\"none\" stroke=\"black\" d=\"M315,-71.7C315,-60.85 315,-46.92 315,-36.1\"/>\n",
       "</g>\n",
       "<!-- 6 -->\n",
       "<g id=\"node7\" class=\"node\">\n",
       "<title>6</title>\n",
       "<ellipse fill=\"none\" stroke=\"black\" cx=\"387\" cy=\"-18\" rx=\"27\" ry=\"18\"/>\n",
       "<text text-anchor=\"middle\" x=\"387\" y=\"-14.3\" font-family=\"Times,serif\" font-size=\"14.00\">6</text>\n",
       "</g>\n",
       "<!-- 0&#45;&#45;6 -->\n",
       "<g id=\"edge6\" class=\"edge\">\n",
       "<title>0&#45;&#45;6</title>\n",
       "<path fill=\"none\" stroke=\"black\" d=\"M329.57,-74.83C341.98,-62.77 359.73,-45.51 372.2,-33.38\"/>\n",
       "</g>\n",
       "<!-- 7 -->\n",
       "<g id=\"node8\" class=\"node\">\n",
       "<title>7</title>\n",
       "<ellipse fill=\"none\" stroke=\"black\" cx=\"459\" cy=\"-18\" rx=\"27\" ry=\"18\"/>\n",
       "<text text-anchor=\"middle\" x=\"459\" y=\"-14.3\" font-family=\"Times,serif\" font-size=\"14.00\">7</text>\n",
       "</g>\n",
       "<!-- 0&#45;&#45;7 -->\n",
       "<g id=\"edge7\" class=\"edge\">\n",
       "<title>0&#45;&#45;7</title>\n",
       "<path fill=\"none\" stroke=\"black\" d=\"M336.25,-78.67C363.47,-65.44 410.4,-42.63 437.67,-29.37\"/>\n",
       "</g>\n",
       "<!-- 8 -->\n",
       "<g id=\"node9\" class=\"node\">\n",
       "<title>8</title>\n",
       "<ellipse fill=\"none\" stroke=\"black\" cx=\"531\" cy=\"-18\" rx=\"27\" ry=\"18\"/>\n",
       "<text text-anchor=\"middle\" x=\"531\" y=\"-14.3\" font-family=\"Times,serif\" font-size=\"14.00\">8</text>\n",
       "</g>\n",
       "<!-- 0&#45;&#45;8 -->\n",
       "<g id=\"edge8\" class=\"edge\">\n",
       "<title>0&#45;&#45;8</title>\n",
       "<path fill=\"none\" stroke=\"black\" d=\"M340.15,-82.91C375.32,-74.1 440.96,-56.57 495,-36 499.91,-34.13 505.08,-31.87 509.92,-29.62\"/>\n",
       "</g>\n",
       "<!-- 9 -->\n",
       "<g id=\"node10\" class=\"node\">\n",
       "<title>9</title>\n",
       "<ellipse fill=\"none\" stroke=\"black\" cx=\"603\" cy=\"-18\" rx=\"27\" ry=\"18\"/>\n",
       "<text text-anchor=\"middle\" x=\"603\" y=\"-14.3\" font-family=\"Times,serif\" font-size=\"14.00\">9</text>\n",
       "</g>\n",
       "<!-- 0&#45;&#45;9 -->\n",
       "<g id=\"edge9\" class=\"edge\">\n",
       "<title>0&#45;&#45;9</title>\n",
       "<path fill=\"none\" stroke=\"black\" d=\"M341.29,-85.54C387.72,-78.98 486.91,-62.92 567,-36 572.11,-34.28 577.45,-32.03 582.4,-29.74\"/>\n",
       "</g>\n",
       "</g>\n",
       "</svg>\n"
      ],
      "text/plain": [
       "<graphviz.graphs.Graph at 0x7ff79908d120>"
      ]
     },
     "metadata": {},
     "output_type": "display_data"
    },
    {
     "data": {
      "image/svg+xml": [
       "<?xml version=\"1.0\" encoding=\"UTF-8\" standalone=\"no\"?>\n",
       "<!DOCTYPE svg PUBLIC \"-//W3C//DTD SVG 1.1//EN\"\n",
       " \"http://www.w3.org/Graphics/SVG/1.1/DTD/svg11.dtd\">\n",
       "<!-- Generated by graphviz version 2.43.0 (0)\n",
       " -->\n",
       "<!-- Title: %3 Pages: 1 -->\n",
       "<svg width=\"638pt\" height=\"116pt\"\n",
       " viewBox=\"0.00 0.00 638.00 116.00\" xmlns=\"http://www.w3.org/2000/svg\" xmlns:xlink=\"http://www.w3.org/1999/xlink\">\n",
       "<g id=\"graph0\" class=\"graph\" transform=\"scale(1 1) rotate(0) translate(4 112)\">\n",
       "<title>%3</title>\n",
       "<polygon fill=\"white\" stroke=\"transparent\" points=\"-4,4 -4,-112 634,-112 634,4 -4,4\"/>\n",
       "<!-- 0 -->\n",
       "<g id=\"node1\" class=\"node\">\n",
       "<title>0</title>\n",
       "<ellipse fill=\"none\" stroke=\"black\" cx=\"315\" cy=\"-18\" rx=\"27\" ry=\"18\"/>\n",
       "<text text-anchor=\"middle\" x=\"315\" y=\"-14.3\" font-family=\"Times,serif\" font-size=\"14.00\">0</text>\n",
       "</g>\n",
       "<!-- 0&#45;&gt;0 -->\n",
       "<g id=\"edge1\" class=\"edge\">\n",
       "<title>0&#45;&gt;0</title>\n",
       "<path fill=\"none\" stroke=\"black\" d=\"M334.9,-30.43C347.69,-33.68 360,-29.53 360,-18 360,-9.62 353.5,-5.14 345.04,-4.56\"/>\n",
       "<polygon fill=\"black\" stroke=\"black\" points=\"344.5,-1.1 334.9,-5.57 345.19,-8.07 344.5,-1.1\"/>\n",
       "</g>\n",
       "<!-- 1 -->\n",
       "<g id=\"node2\" class=\"node\">\n",
       "<title>1</title>\n",
       "<ellipse fill=\"none\" stroke=\"black\" cx=\"27\" cy=\"-90\" rx=\"27\" ry=\"18\"/>\n",
       "<text text-anchor=\"middle\" x=\"27\" y=\"-86.3\" font-family=\"Times,serif\" font-size=\"14.00\">1</text>\n",
       "</g>\n",
       "<!-- 1&#45;&gt;0 -->\n",
       "<g id=\"edge2\" class=\"edge\">\n",
       "<title>1&#45;&gt;0</title>\n",
       "<path fill=\"none\" stroke=\"black\" d=\"M47.6,-78.26C52.55,-75.97 57.89,-73.72 63,-72 137.77,-46.87 229.19,-31.2 278.78,-23.89\"/>\n",
       "<polygon fill=\"black\" stroke=\"black\" points=\"279.31,-27.35 288.71,-22.46 278.31,-20.42 279.31,-27.35\"/>\n",
       "</g>\n",
       "<!-- 2 -->\n",
       "<g id=\"node3\" class=\"node\">\n",
       "<title>2</title>\n",
       "<ellipse fill=\"none\" stroke=\"black\" cx=\"99\" cy=\"-90\" rx=\"27\" ry=\"18\"/>\n",
       "<text text-anchor=\"middle\" x=\"99\" y=\"-86.3\" font-family=\"Times,serif\" font-size=\"14.00\">2</text>\n",
       "</g>\n",
       "<!-- 2&#45;&gt;0 -->\n",
       "<g id=\"edge3\" class=\"edge\">\n",
       "<title>2&#45;&gt;0</title>\n",
       "<path fill=\"none\" stroke=\"black\" d=\"M120.08,-78.38C124.92,-76.13 130.09,-73.87 135,-72 184.4,-53.19 243.48,-36.94 280.13,-27.55\"/>\n",
       "<polygon fill=\"black\" stroke=\"black\" points=\"281.01,-30.94 289.85,-25.09 279.29,-24.15 281.01,-30.94\"/>\n",
       "</g>\n",
       "<!-- 3 -->\n",
       "<g id=\"node4\" class=\"node\">\n",
       "<title>3</title>\n",
       "<ellipse fill=\"none\" stroke=\"black\" cx=\"171\" cy=\"-90\" rx=\"27\" ry=\"18\"/>\n",
       "<text text-anchor=\"middle\" x=\"171\" y=\"-86.3\" font-family=\"Times,serif\" font-size=\"14.00\">3</text>\n",
       "</g>\n",
       "<!-- 3&#45;&gt;0 -->\n",
       "<g id=\"edge4\" class=\"edge\">\n",
       "<title>3&#45;&gt;0</title>\n",
       "<path fill=\"none\" stroke=\"black\" d=\"M192.25,-78.67C216.6,-66.83 256.72,-47.33 284.43,-33.86\"/>\n",
       "<polygon fill=\"black\" stroke=\"black\" points=\"286.2,-36.89 293.67,-29.37 283.14,-30.6 286.2,-36.89\"/>\n",
       "</g>\n",
       "<!-- 4 -->\n",
       "<g id=\"node5\" class=\"node\">\n",
       "<title>4</title>\n",
       "<ellipse fill=\"none\" stroke=\"black\" cx=\"243\" cy=\"-90\" rx=\"27\" ry=\"18\"/>\n",
       "<text text-anchor=\"middle\" x=\"243\" y=\"-86.3\" font-family=\"Times,serif\" font-size=\"14.00\">4</text>\n",
       "</g>\n",
       "<!-- 4&#45;&gt;0 -->\n",
       "<g id=\"edge5\" class=\"edge\">\n",
       "<title>4&#45;&gt;0</title>\n",
       "<path fill=\"none\" stroke=\"black\" d=\"M257.57,-74.83C267.75,-64.94 281.52,-51.55 293.03,-40.36\"/>\n",
       "<polygon fill=\"black\" stroke=\"black\" points=\"295.47,-42.87 300.2,-33.38 290.59,-37.85 295.47,-42.87\"/>\n",
       "</g>\n",
       "<!-- 5 -->\n",
       "<g id=\"node6\" class=\"node\">\n",
       "<title>5</title>\n",
       "<ellipse fill=\"none\" stroke=\"black\" cx=\"315\" cy=\"-90\" rx=\"27\" ry=\"18\"/>\n",
       "<text text-anchor=\"middle\" x=\"315\" y=\"-86.3\" font-family=\"Times,serif\" font-size=\"14.00\">5</text>\n",
       "</g>\n",
       "<!-- 5&#45;&gt;0 -->\n",
       "<g id=\"edge6\" class=\"edge\">\n",
       "<title>5&#45;&gt;0</title>\n",
       "<path fill=\"none\" stroke=\"black\" d=\"M315,-71.7C315,-63.98 315,-54.71 315,-46.11\"/>\n",
       "<polygon fill=\"black\" stroke=\"black\" points=\"318.5,-46.1 315,-36.1 311.5,-46.1 318.5,-46.1\"/>\n",
       "</g>\n",
       "<!-- 6 -->\n",
       "<g id=\"node7\" class=\"node\">\n",
       "<title>6</title>\n",
       "<ellipse fill=\"none\" stroke=\"black\" cx=\"387\" cy=\"-90\" rx=\"27\" ry=\"18\"/>\n",
       "<text text-anchor=\"middle\" x=\"387\" y=\"-86.3\" font-family=\"Times,serif\" font-size=\"14.00\">6</text>\n",
       "</g>\n",
       "<!-- 6&#45;&gt;0 -->\n",
       "<g id=\"edge7\" class=\"edge\">\n",
       "<title>6&#45;&gt;0</title>\n",
       "<path fill=\"none\" stroke=\"black\" d=\"M372.43,-74.83C362.25,-64.94 348.48,-51.55 336.97,-40.36\"/>\n",
       "<polygon fill=\"black\" stroke=\"black\" points=\"339.41,-37.85 329.8,-33.38 334.53,-42.87 339.41,-37.85\"/>\n",
       "</g>\n",
       "<!-- 7 -->\n",
       "<g id=\"node8\" class=\"node\">\n",
       "<title>7</title>\n",
       "<ellipse fill=\"none\" stroke=\"black\" cx=\"459\" cy=\"-90\" rx=\"27\" ry=\"18\"/>\n",
       "<text text-anchor=\"middle\" x=\"459\" y=\"-86.3\" font-family=\"Times,serif\" font-size=\"14.00\">7</text>\n",
       "</g>\n",
       "<!-- 7&#45;&gt;0 -->\n",
       "<g id=\"edge8\" class=\"edge\">\n",
       "<title>7&#45;&gt;0</title>\n",
       "<path fill=\"none\" stroke=\"black\" d=\"M437.75,-78.67C413.4,-66.83 373.28,-47.33 345.57,-33.86\"/>\n",
       "<polygon fill=\"black\" stroke=\"black\" points=\"346.86,-30.6 336.33,-29.37 343.8,-36.89 346.86,-30.6\"/>\n",
       "</g>\n",
       "<!-- 8 -->\n",
       "<g id=\"node9\" class=\"node\">\n",
       "<title>8</title>\n",
       "<ellipse fill=\"none\" stroke=\"black\" cx=\"531\" cy=\"-90\" rx=\"27\" ry=\"18\"/>\n",
       "<text text-anchor=\"middle\" x=\"531\" y=\"-86.3\" font-family=\"Times,serif\" font-size=\"14.00\">8</text>\n",
       "</g>\n",
       "<!-- 8&#45;&gt;0 -->\n",
       "<g id=\"edge9\" class=\"edge\">\n",
       "<title>8&#45;&gt;0</title>\n",
       "<path fill=\"none\" stroke=\"black\" d=\"M509.92,-78.38C505.08,-76.13 499.91,-73.87 495,-72 445.6,-53.19 386.52,-36.94 349.87,-27.55\"/>\n",
       "<polygon fill=\"black\" stroke=\"black\" points=\"350.71,-24.15 340.15,-25.09 348.99,-30.94 350.71,-24.15\"/>\n",
       "</g>\n",
       "<!-- 9 -->\n",
       "<g id=\"node10\" class=\"node\">\n",
       "<title>9</title>\n",
       "<ellipse fill=\"none\" stroke=\"black\" cx=\"603\" cy=\"-90\" rx=\"27\" ry=\"18\"/>\n",
       "<text text-anchor=\"middle\" x=\"603\" y=\"-86.3\" font-family=\"Times,serif\" font-size=\"14.00\">9</text>\n",
       "</g>\n",
       "<!-- 9&#45;&gt;0 -->\n",
       "<g id=\"edge10\" class=\"edge\">\n",
       "<title>9&#45;&gt;0</title>\n",
       "<path fill=\"none\" stroke=\"black\" d=\"M582.4,-78.26C577.45,-75.97 572.11,-73.72 567,-72 492.23,-46.87 400.81,-31.2 351.22,-23.89\"/>\n",
       "<polygon fill=\"black\" stroke=\"black\" points=\"351.69,-20.42 341.29,-22.46 350.69,-27.35 351.69,-20.42\"/>\n",
       "</g>\n",
       "</g>\n",
       "</svg>\n"
      ],
      "text/plain": [
       "<graphviz.graphs.Digraph at 0x7ff799686d10>"
      ]
     },
     "metadata": {},
     "output_type": "display_data"
    }
   ],
   "source": [
    "n = 10\n",
    "edges = [(0, i) for i in range(1, n)]\n",
    "display(show_edges(edges, 'TD'))\n",
    "\n",
    "roots = [i for i in range(n)]\n",
    "ranks = [0]*n\n",
    "\n",
    "for a, b in edges:\n",
    "    union_ranks(roots, ranks, a, b)\n",
    "\n",
    "display(show_graph(roots, 'TD'))\n"
   ]
  },
  {
   "cell_type": "markdown",
   "metadata": {},
   "source": [
    "### Szokásos implementáció"
   ]
  },
  {
   "cell_type": "code",
   "execution_count": 61,
   "metadata": {},
   "outputs": [],
   "source": [
    "class UnionFind:\n",
    "    def __init__(self, n):\n",
    "        self.roots = [i for i in range(n)]\n",
    "        self.sizes = [1]*n\n",
    "\n",
    "    def find(self, a):\n",
    "        ra = self.roots[a]\n",
    "        if a != ra:\n",
    "            ra = self.find( ra)\n",
    "            self.roots[a] = ra\n",
    "        return ra\n",
    "\n",
    "    def union(self, a, b):\n",
    "        ra = self.find(a)\n",
    "        rb = self.find(b)\n",
    "        if ra != rb:\n",
    "            if self.sizes[ra] < self.sizes[rb]:\n",
    "                ra, rb = rb, ra\n",
    "            self.roots[rb] = ra\n",
    "            self.sizes[ra] += self.sizes[rb]\n"
   ]
  },
  {
   "cell_type": "code",
   "execution_count": 62,
   "metadata": {},
   "outputs": [
    {
     "name": "stdout",
     "output_type": "stream",
     "text": [
      "<__main__.UnionFind object at 0x7ff79908d7b0>\n",
      "<__main__.UnionFind object at 0x7ff79908d7b0>\n",
      "<__main__.UnionFind object at 0x7ff79908d7b0>\n"
     ]
    },
    {
     "data": {
      "text/plain": [
       "<__main__.UnionFind at 0x7ff79908d7b0>"
      ]
     },
     "execution_count": 62,
     "metadata": {},
     "output_type": "execute_result"
    }
   ],
   "source": [
    "uf = UnionFind(10)\n",
    "print(uf)\n",
    "uf.union(1, 2)\n",
    "print(uf)\n",
    "uf.union(5, 9)\n",
    "uf.union(6, 7)\n",
    "print(uf)\n",
    "\n",
    "uf"
   ]
  },
  {
   "cell_type": "markdown",
   "metadata": {},
   "source": [
    "`__str__` és `__repr__` metódusok"
   ]
  },
  {
   "cell_type": "code",
   "execution_count": 63,
   "metadata": {},
   "outputs": [],
   "source": [
    "def as_set(seq):\n",
    "    return f\"{{{', '.join(map(str, seq))}}}\"\n",
    "\n",
    "def uf_str(self):\n",
    "    components = {}\n",
    "    for a in range(len(self.roots)):\n",
    "        ra = self.find(a)\n",
    "        if ra not in components:\n",
    "            components[ra] = []\n",
    "        components[ra].append(a)\n",
    "    return f\"{{{ ', '.join(map(as_set, components.values()))}}}\"\n",
    "\n",
    "def uf_repr(self):\n",
    "    return f\"{type(self).__name__}({len(self.roots)})\"\n",
    "\n",
    "# Így is lehet:\n",
    "UnionFind.__str__ = uf_str\n",
    "UnionFind.__repr__ = uf_repr"
   ]
  },
  {
   "cell_type": "code",
   "execution_count": 64,
   "metadata": {},
   "outputs": [
    {
     "name": "stdout",
     "output_type": "stream",
     "text": [
      "{{0}, {1}, {2}, {3}, {4}, {5}, {6}, {7}, {8}, {9}}\n",
      "{{0}, {1, 2}, {3}, {4}, {5}, {6}, {7}, {8}, {9}}\n",
      "{{0}, {1, 2}, {3}, {4}, {5, 9}, {6, 7}, {8}}\n"
     ]
    },
    {
     "data": {
      "text/plain": [
       "UnionFind(10)"
      ]
     },
     "execution_count": 64,
     "metadata": {},
     "output_type": "execute_result"
    }
   ],
   "source": [
    "uf = UnionFind(10)\n",
    "print(uf)\n",
    "uf.union(1, 2)\n",
    "print(uf)\n",
    "uf.union(5, 9)\n",
    "uf.union(6, 7)\n",
    "print(uf)\n",
    "\n",
    "uf"
   ]
  },
  {
   "cell_type": "markdown",
   "metadata": {},
   "source": [
    "### További kérdések\n",
    "\n",
    "- Tegyük fel, hogy a komponensek száma érdekel minket. Hogyan oldanánk, meg, hogy konstans idő alatt megkaphassuk.\n",
    "- Tegyük fel, hogy a legnagyobb komponens méretet érdekel minket. Hogyan oldanánk, meg, hogy konstans idő alatt megkaphassuk.\n",
    "- Hogyan ellenőriznénk, hogy két partíció azonos?"
   ]
  },
  {
   "cell_type": "markdown",
   "metadata": {},
   "source": [
    "# Faktoriális értékének közelítése"
   ]
  },
  {
   "cell_type": "markdown",
   "metadata": {},
   "source": [
    "Mekkora $n!$, ha $n$ nagy?\n",
    "\n",
    "Ötlet:\n",
    "$$\n",
    "    \\log n! = \\sum_{k=1}^n \\log k \\approx \\int_1^{?} \\log x dx = \\left[ x(\\log x-1)\\right]_{x=1}^{x=?}\n",
    "$$"
   ]
  },
  {
   "cell_type": "code",
   "execution_count": 65,
   "metadata": {},
   "outputs": [],
   "source": [
    "import matplotlib.pyplot as plt\n",
    "import math\n",
    "\n",
    "def subdivision(a, b, n):\n",
    "    d = (b-a)/n\n",
    "    return [a+i*d for i in range(n+1)]\n",
    "\n",
    "def add_function_curve(f, a, b, n=100):\n",
    "    xs = subdivision(a, b, n)\n",
    "    fxs = [f(x) for x in  xs]\n",
    "    plt.plot(xs, fxs, \"r-\")"
   ]
  },
  {
   "cell_type": "markdown",
   "metadata": {},
   "source": [
    "## Téglalap közelítés"
   ]
  },
  {
   "cell_type": "code",
   "execution_count": 66,
   "metadata": {},
   "outputs": [
    {
     "data": {
      "image/png": "[encoded data removed]",
      "text/plain": [
       "<Figure size 640x480 with 1 Axes>"
      ]
     },
     "metadata": {},
     "output_type": "display_data"
    }
   ],
   "source": [
    "k_values = [k for k in range(1, 11)]\n",
    "for k in k_values:\n",
    "    plt.fill_between([k+i for k in k_values for i in range(2)], [math.log(k) for k in k_values for i in range(2)], color='lightblue')\n",
    "\n",
    "add_function_curve(math.log, 1, 11)\n"
   ]
  },
  {
   "cell_type": "markdown",
   "metadata": {},
   "source": [
    "A hiba:"
   ]
  },
  {
   "cell_type": "code",
   "execution_count": 67,
   "metadata": {},
   "outputs": [],
   "source": [
    "def primitive_function(x):\n",
    "    return x*(math.log(x)-1)\n",
    "\n",
    "def rectangle_error(k):\n",
    "    return primitive_function(k+1)-primitive_function(k)-math.log(k)\n",
    "\n",
    "def cummulative_error(n, error_fun=rectangle_error):\n",
    "    return sum(error_fun(k) for k in range(1, n+1))"
   ]
  },
  {
   "cell_type": "code",
   "execution_count": 68,
   "metadata": {},
   "outputs": [
    {
     "name": "stdout",
     "output_type": "stream",
     "text": [
      "n=10, cummulative_error(n)=1.2724354277065621\n",
      "n=100, cummulative_error(n)=2.387796645403718\n",
      "n=1000, cummulative_error(n)=3.53535560637252\n"
     ]
    }
   ],
   "source": [
    "for n in [10, 100, 1000]:\n",
    "    print(f\"{n=}, {cummulative_error(n)=}\")"
   ]
  },
  {
   "cell_type": "markdown",
   "metadata": {},
   "source": [
    "### Javítás, trapéz összeg közelítés"
   ]
  },
  {
   "cell_type": "markdown",
   "metadata": {},
   "source": [
    "Téglalapok helyett minden egység intervallumon a beírt trapézt  használjuk."
   ]
  },
  {
   "cell_type": "code",
   "execution_count": 69,
   "metadata": {},
   "outputs": [
    {
     "data": {
      "image/png": "[encoded data removed]",
      "text/plain": [
       "<Figure size 640x480 with 1 Axes>"
      ]
     },
     "metadata": {},
     "output_type": "display_data"
    }
   ],
   "source": [
    "k_values = [k for k in range(1, 11)]\n",
    "for k in k_values:\n",
    "    plt.fill_between(k_values, [math.log(k) for k in k_values], color='lightblue')\n",
    "\n",
    "add_function_curve(math.log, 1, 10)\n"
   ]
  },
  {
   "cell_type": "code",
   "execution_count": 70,
   "metadata": {},
   "outputs": [
    {
     "data": {
      "image/png": "[encoded data removed]",
      "text/plain": [
       "<Figure size 640x480 with 1 Axes>"
      ]
     },
     "metadata": {},
     "output_type": "display_data"
    }
   ],
   "source": [
    "def error_fun(x):\n",
    "    k, t = divmod(x, 1)\n",
    "    return math.log(x) - ((1-t)*math.log(k) + t*math.log(k+1))\n",
    "\n",
    "xs = subdivision(1, 10, 100)\n",
    "plt.fill_between(xs, [error_fun(x) for x in xs], color='lightblue')\n",
    "add_function_curve(error_fun, 1, 10, 500)\n"
   ]
  },
  {
   "cell_type": "code",
   "execution_count": 75,
   "metadata": {},
   "outputs": [
    {
     "data": {
      "image/png": "[encoded data removed]",
      "text/plain": [
       "<Figure size 640x480 with 1 Axes>"
      ]
     },
     "metadata": {},
     "output_type": "display_data"
    },
    {
     "data": {
      "image/png": "[encoded data removed]",
      "text/plain": [
       "<Figure size 640x480 with 1 Axes>"
      ]
     },
     "metadata": {},
     "output_type": "display_data"
    },
    {
     "data": {
      "image/png": "[encoded data removed]",
      "text/plain": [
       "<Figure size 640x480 with 1 Axes>"
      ]
     },
     "metadata": {},
     "output_type": "display_data"
    },
    {
     "data": {
      "image/png": "[encoded data removed]",
      "text/plain": [
       "<Figure size 640x480 with 1 Axes>"
      ]
     },
     "metadata": {},
     "output_type": "display_data"
    }
   ],
   "source": [
    "def modified_error_fun(x):\n",
    "    k = x//1\n",
    "    return k*k*error_fun(x)\n",
    "\n",
    "for a in [1, 100, 1000, 10000]:\n",
    "    b = a+10\n",
    "    xs = subdivision(a, b, 1000)\n",
    "\n",
    "    plt.fill_between(xs, [modified_error_fun(x) for x in xs], color='lightblue')\n",
    "    add_function_curve(modified_error_fun, a, b, 1000)\n",
    "    plt.show()"
   ]
  },
  {
   "cell_type": "code",
   "execution_count": 72,
   "metadata": {},
   "outputs": [],
   "source": [
    "def trapezoid_error(k):\n",
    "    return primitive_function(k+1)-primitive_function(k)-0.5*(math.log(k)+math.log(k+1))\n"
   ]
  },
  {
   "cell_type": "code",
   "execution_count": 73,
   "metadata": {},
   "outputs": [
    {
     "name": "stdout",
     "output_type": "stream",
     "text": [
      "n =   10, cummulative_error(n, trapezoid_error) = 0.07348779\n",
      "n =  100, cummulative_error(n, trapezoid_error) = 0.08023639\n",
      "n = 1000, cummulative_error(n, trapezoid_error) = 0.08097822\n"
     ]
    }
   ],
   "source": [
    "for n in [10, 100, 1000]:\n",
    "    print(f\"{n = :>4}, {cummulative_error(n, trapezoid_error) = :.8f}\")"
   ]
  },
  {
   "cell_type": "markdown",
   "metadata": {},
   "source": [
    "## Látszik, hogy a hiba lassan nő. Tudunk-e felső becslést adni rá?\n",
    "\n",
    "$$\n",
    "    \\int_{k}^{k+1} \\log x dx = \\int_0^1 \\log(k+x) dx\n",
    "$$\n",
    "\n",
    "A beírt trapéz területe integrállal\n",
    "\n",
    "$$\n",
    "    \\int_0^1 x\\log(k+1)+(1-x)\\log(k) dx\n",
    "$$\n",
    "\n",
    "Tudjuk-e becsülni a két integrandus különbségét?\n",
    "$$\n",
    "    \\log(k+x) - (x\\log(k+1)+(1-x)\\log(k))\n",
    "$$\n",
    "\n",
    "Átalakítás mindkét tagból levonunk $\\log(k)$-t:\n",
    "$$\n",
    "    \\log(k+x) - \\log(k) - (x\\log(k+1)+(1-x)\\log(k) -\\log(k)) = \\log(1+\\tfrac{x}{k}) - x\\log(1+\\tfrac1k)\n",
    "$$\n"
   ]
  },
  {
   "cell_type": "code",
   "execution_count": 74,
   "metadata": {},
   "outputs": [
    {
     "data": {
      "image/png": "[encoded data removed]",
      "text/plain": [
       "<Figure size 640x480 with 1 Axes>"
      ]
     },
     "metadata": {},
     "output_type": "display_data"
    }
   ],
   "source": [
    "xs = subdivision(0, 1, 100)\n",
    "\n",
    "for k in range(1, 4):\n",
    "    plt.fill_between(xs, [math.log(k+x)-math.log(k) for x in xs], [math.log(k+1)*x+math.log(k)*(1-x)-math.log(k) for x in xs], color=\"blue\")\n",
    "\n",
    "plt.grid()"
   ]
  },
  {
   "cell_type": "markdown",
   "metadata": {},
   "source": [
    "A logaritmus függvény konkáv, a derivált monoton fogy ($1/x$) és egy beírt húr mindig a végponthoz behúzott érintő egyenesek alatt van.\n",
    "\n",
    "$$\n",
    "    \\log (1+x)\\leq x\n",
    "$$\n",
    "\n",
    "ezért\n",
    "$$\n",
    "    \\log(1+x/k) - x \\log(1+1/k)\\leq \\frac xk - x\\log(1+1/k) = x(1/k -\\log(1+1/k))\n",
    "$$\n",
    "\n",
    "de\n",
    "$$\n",
    "    \\log(1+1/k) = \\log\\frac{k+1}{k} = -\\log\\frac{k}{k+1} = -\\log(1-1/(k+1)) \\geq \\frac1{k+1}\n",
    "$$\n",
    "\n",
    "Így\n",
    "\n",
    "$$\n",
    "    \\log(1+x/k) - x \\log(1+1/k)\\leq x\\left(\\frac1k-\\frac1{k+1}\\right)\n",
    "$$\n",
    "és\n",
    "a $k$. intervallumon elkövetett hiba legfeljebb\n",
    "$$\n",
    "    \\int_{0}^{1} \\log(k+x) - ((1-x)\\log(k)+x\\log(k+1))dx = \\int_0^1 x dx \\left(\\frac1k -\\frac1{k+1}\\right)\n",
    "$$\n",
    "A hibák összege legfeljebb:\n",
    "$$\n",
    "    \\frac12 \\sum_{k=1}^\\infty \\frac1k -\\frac1{k+1} =\\frac12\n",
    "$$"
   ]
  },
  {
   "cell_type": "markdown",
   "metadata": {},
   "source": [
    "Összefoglalva:\n",
    "\n",
    "$$\n",
    "    \\log n! = \\int_1^n \\log x dx + \\frac12 \\log n + r_n = n(\\log(n) - 1) + 1 + \\frac12 \\log (n) + r_n\n",
    "$$\n",
    "ahol $r_n$ a közelítés hibája az első $n$ intervallumon\n",
    "$$\n",
    "    r_n = \\sum_{k=1}^n \\int_0^1 \\log(1+x/k)-x\\log(1+1/k)dx \\leq 1/2\n",
    "$$\n",
    "$(r_n)$ monoton nő, ezért létezik limesze.\n",
    "\n",
    "Visszaírva faktoriálisra:\n",
    "\n",
    "$$\n",
    "    n! = \\sqrt{n}\\left(\\frac{n}{e}\\right)^n c_n\n",
    "$$\n",
    "ahol $c_n=e^{1+r_n}\\leq e^{3/2}$\n",
    "\n",
    "Analízisben a Wallis formula következményeként szerepel\n",
    "\n",
    "$$\n",
    "\\lim c_n = \\sqrt{2\\pi}\n",
    "$$\n",
    "\n",
    "Középiskolai tudást használva is kiszámíthatnánk:\n",
    "$$\n",
    "    \\sqrt{n}\\frac1{2^{2n}}\\binom{2n}{n}\n",
    "    = \\sqrt{n} \\frac1{2^{2n}} \\frac{c_{2n} \\sqrt{2n} \\left(\\frac{2n}{e}\\right)^{2n}}{c_n^2 n\\left(\\frac{n}{e}\\right)^{2n}}\n",
    "    \\to \\lim_{n\\to\\infty} \\frac{c_{2n}}{c_n^2} = \\lim_{n\\to\\infty}\\frac{\\sqrt{2}}{c_n}\n",
    "$$\n",
    "\n",
    "Az\n",
    "$$\n",
    "    I_n = \\int_{0}^{\\pi/2} \\cos^n(x) dx\n",
    "$$\n",
    "sorozatot vizsgálva,\n",
    "$$\n",
    "\\frac1{2^{2n}}\\binom{2n}{n}\\approx \\frac{1}{\\sqrt{\\pi n}}\n",
    "$$\n",
    "adódik,  amiből $\\lim_n c_n =\\sqrt{2\\pi}$.\n",
    "\n",
    "Ez a nevezetes **Stirling** formula:\n",
    "$$\n",
    " \\frac{n!}{\\sqrt{2\\pi n}\\left(\\frac{n}{e}\\right)^n} \\to 1\n",
    "$$\n"
   ]
  }
 ],
 "metadata": {
  "kernelspec": {
   "display_name": "python3.10",
   "language": "python",
   "name": "python3"
  },
  "language_info": {
   "codemirror_mode": {
    "name": "ipython",
    "version": 3
   },
   "file_extension": ".py",
   "mimetype": "text/x-python",
   "name": "python",
   "nbconvert_exporter": "python",
   "pygments_lexer": "ipython3",
   "version": "3.10.12"
  }
 },
 "nbformat": 4,
 "nbformat_minor": 2
}
