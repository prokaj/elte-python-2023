{
  "cells": [
    {
      "cell_type": "markdown",
      "metadata": {
        "id": "f7wLN9KlfYLf"
      },
      "source": [
        "[![Open In Colab](https://colab.research.google.com/assets/colab-badge.svg)](https://colab.research.google.com/github/prokaj/elte-python-2023/blob/main/2023-11-27.ipynb)   "
      ]
    },
    {
      "cell_type": "markdown",
      "metadata": {
        "id": "3zY2JM-ffYLh"
      },
      "source": [
        "Néhány import amit később használni fogunk:"
      ]
    },
    {
      "cell_type": "code",
      "execution_count": 1,
      "metadata": {
        "id": "0kktpr3kfYLh",
        "outputId": "ae3f97d3-1742-42de-89ec-35771348f481",
        "colab": {
          "base_uri": "https://localhost:8080/"
        }
      },
      "outputs": [
        {
          "output_type": "stream",
          "name": "stdout",
          "text": [
            "\u001b[2K     \u001b[90m━━━━━━━━━━━━━━━━━━━━━━━━━━━━━━━━━━━━━━━━\u001b[0m \u001b[32m1.6/1.6 MB\u001b[0m \u001b[31m5.3 MB/s\u001b[0m eta \u001b[36m0:00:00\u001b[0m\n",
            "\u001b[?25h"
          ]
        }
      ],
      "source": [
        "import importlib\n",
        "import math\n",
        "import graphviz\n",
        "\n",
        "if importlib.util.find_spec('ipytest') is None:\n",
        "    ! pip install --quiet ipytest\n",
        "\n",
        "import ipytest\n",
        "\n",
        "ipytest.autoconfig()"
      ]
    },
    {
      "cell_type": "markdown",
      "metadata": {
        "id": "exIf1-iVfYLi"
      },
      "source": [
        "# Házi feladatok"
      ]
    },
    {
      "cell_type": "markdown",
      "metadata": {
        "id": "NmxHgeLyfYLj"
      },
      "source": [
        "## 1. Maximum eloszlása szimmetrikus bolyongásnál\n",
        "\n",
        "Szimmetrikus bolyongás alatt olyan véletlen sorozatot értünk, ami a nullából indul és minden lépése (megváltozása 1 vagy −1, 1/2–1/2 valószínűséggel a többi lépéstől függetlenül.\n",
        "\n",
        "Írjunk egy függvényt, ami a numpy könyvtár függvényei segítségével elkészíti n hosszú bolyongásoknak egy m elemű sorozatát! Azaz a függvény kimenete egy $m\\times n$ mátrix, az egyes sorok az egyes bolyongásokat írják le.\n",
        "\n",
        "Rajzoljunk ki néhány bolyongást! Készítsünk hisztogramot a bolyongások utolsó pozíciójából (ez a függvény által visszakapott mátrix utolsó oszlopa). Valamint készítsünk hisztogramot a bolyongások maximális értékéből is (ezek a mátrixunk soronkénti maximumai). $n$ legyen legalább 100 és $m$ legalább 1000. Észreveszünk-e valami összefüggést az ábrák között?\n",
        "\n",
        "A megoldás során jól jöhetnek a következő függvények:\n",
        "\n",
        "```\n",
        "import numpy as np\n",
        "import matplotlib.pyplot as plt\n",
        "np.random.binomial, np.cumsum, np.where, np.max\n",
        "plt.plot, plt.hist, plt.title, plt.grid\n",
        "```"
      ]
    },
    {
      "cell_type": "code",
      "execution_count": 2,
      "metadata": {
        "id": "-qxPavhPfYLl"
      },
      "outputs": [],
      "source": [
        "import numpy as np\n",
        "import matplotlib.pyplot as plt\n",
        "\n",
        "def random_walk(n, m=1):\n",
        "    steps = 2*np.random.binomial(1, 0.5, size=(m, n-1))-1\n",
        "    walk = np.zeros((m, n), dtype=np.int32)\n",
        "    steps.cumsum(axis=1, out=walk[:,1:])\n",
        "    return walk\n",
        "\n"
      ]
    },
    {
      "cell_type": "code",
      "execution_count": 3,
      "metadata": {
        "id": "JoG_dSN7fYLl",
        "outputId": "229d4975-183e-466b-fa66-6a8b706ddd3f",
        "colab": {
          "base_uri": "https://localhost:8080/"
        }
      },
      "outputs": [
        {
          "output_type": "execute_result",
          "data": {
            "text/plain": [
              "array([[ 0,  1,  0, -1,  0, -1,  0, -1,  0, -1]], dtype=int32)"
            ]
          },
          "metadata": {},
          "execution_count": 3
        }
      ],
      "source": [
        "random_walk(10)"
      ]
    },
    {
      "cell_type": "code",
      "execution_count": 4,
      "metadata": {
        "id": "jQWl9nQEfYLm",
        "outputId": "d2b69f8f-138d-4679-9408-b509f1a9c424",
        "colab": {
          "base_uri": "https://localhost:8080/"
        }
      },
      "outputs": [
        {
          "output_type": "stream",
          "name": "stdout",
          "text": [
            "\u001b[32m.\u001b[0m\u001b[32m                                                                                            [100%]\u001b[0m\n",
            "\u001b[32m\u001b[32m\u001b[1m1 passed\u001b[0m\u001b[32m in 0.02s\u001b[0m\u001b[0m\n"
          ]
        }
      ],
      "source": [
        "%%ipytest\n",
        "\n",
        "def test_random_walk():\n",
        "    rw = random_walk(10)\n",
        "    assert rw.shape == (1,10)\n",
        "\n",
        "    rw = random_walk(100)\n",
        "    assert set(np.diff(rw[0])) == {-1, 1}\n",
        "\n",
        "    rw = random_walk(100, 1000)\n",
        "    assert (rw[:, 0]==0).all()\n",
        "\n",
        ""
      ]
    },
    {
      "cell_type": "code",
      "execution_count": null,
      "metadata": {
        "id": "Sd0FNR4lfYLn",
        "outputId": "1097cccc-d084-410d-bde5-56bad7f87fa6"
      },
      "outputs": [
        {
          "data": {
            "image/png": "[encoded data removed]",
            "text/plain": [
              "<Figure size 640x480 with 1 Axes>"
            ]
          },
          "metadata": {},
          "output_type": "display_data"
        }
      ],
      "source": [
        "rw = random_walk(10000, 4)\n",
        "for i in range(4):\n",
        "    plt.plot(rw[i], linewidth=0.5)\n",
        "plt.grid()\n",
        "plt.show()"
      ]
    },
    {
      "cell_type": "code",
      "execution_count": 5,
      "metadata": {
        "id": "oVnIvLANfYLp"
      },
      "outputs": [],
      "source": [
        "rw = random_walk(100, 200000)"
      ]
    },
    {
      "cell_type": "code",
      "execution_count": 6,
      "metadata": {
        "id": "ixEgKKDIfYLq",
        "outputId": "eeb7de02-5a10-4751-e275-d6a376fc5f3e",
        "colab": {
          "base_uri": "https://localhost:8080/",
          "height": 843
        }
      },
      "outputs": [
        {
          "output_type": "display_data",
          "data": {
            "text/plain": [
              "<Figure size 640x480 with 1 Axes>"
            ],
            "image/png": "[encoded data removed]"
          },
          "metadata": {}
        },
        {
          "output_type": "display_data",
          "data": {
            "text/plain": [
              "<Figure size 640x480 with 1 Axes>"
            ],
            "image/png": "[encoded data removed]"
          },
          "metadata": {}
        }
      ],
      "source": [
        "rw_last  =  rw[:, -1]\n",
        "plt.hist(rw_last, density=True)\n",
        "plt.grid()\n",
        "plt.show()\n",
        "\n",
        "bins = np.arange(rw_last.min()-1, rw_last.max()+2, 2)\n",
        "plt.hist(rw_last, bins, density=True)\n",
        "plt.grid()\n",
        "plt.show()"
      ]
    },
    {
      "cell_type": "code",
      "execution_count": 7,
      "metadata": {
        "id": "rijXYQ7ifYLr",
        "outputId": "5057f2be-b593-45b5-c47c-b025f3dce973",
        "colab": {
          "base_uri": "https://localhost:8080/",
          "height": 860
        }
      },
      "outputs": [
        {
          "output_type": "stream",
          "name": "stdout",
          "text": [
            "(200000,)\n"
          ]
        },
        {
          "output_type": "display_data",
          "data": {
            "text/plain": [
              "<Figure size 640x480 with 1 Axes>"
            ],
            "image/png": "[encoded data removed]"
          },
          "metadata": {}
        },
        {
          "output_type": "display_data",
          "data": {
            "text/plain": [
              "<Figure size 640x480 with 1 Axes>"
            ],
            "image/png": "[encoded data removed]"
          },
          "metadata": {}
        }
      ],
      "source": [
        "rw_max = rw.max(axis=1)\n",
        "print(rw_max.shape)\n",
        "\n",
        "plt.hist(rw_max, density=True)\n",
        "plt.grid()\n",
        "plt.show()\n",
        "\n",
        "bins = np.arange(rw_max.max()+2)-0.5\n",
        "plt.hist(rw_max, bins, density=True)\n",
        "plt.grid()\n",
        "plt.show()"
      ]
    },
    {
      "cell_type": "code",
      "source": [
        "bins = np.arange(rw_last.min()-1, rw_last.max()+2, 2)\n",
        "plt.hist(rw_last, bins)\n",
        "bins = np.arange(0,rw_max.max()+2,1)-0.5\n",
        "plt.hist(rw_max, bins, alpha=0.5)\n",
        "plt.grid()\n",
        "plt.show()"
      ],
      "metadata": {
        "id": "IOYERjiRh-Ar",
        "outputId": "9ed4387d-0a32-4210-bee9-76244a332cce",
        "colab": {
          "base_uri": "https://localhost:8080/",
          "height": 430
        }
      },
      "execution_count": 12,
      "outputs": [
        {
          "output_type": "display_data",
          "data": {
            "text/plain": [
              "<Figure size 640x480 with 1 Axes>"
            ],
            "image/png": "[encoded data removed]"
          },
          "metadata": {}
        }
      ]
    },
    {
      "cell_type": "markdown",
      "metadata": {
        "id": "skS34-uvfYLr"
      },
      "source": [
        "## Magyarázat\n",
        "\n",
        "A két ábra nagyon hasonlít, a maximumok hisztogrammja olyan mint felső ábra pozitív fele.\n",
        "\n",
        "A szimmetikus bolyongás egy véletlen sorozat, a szokásos jelölés $(S_k)_{0\\leq k\\leq n}$.\n",
        "\n",
        "A maximum eloszlása pl. tükrözési elvvel számolható. $\\ell\\geq0$-ra:\n",
        "$$\n",
        "\\mathbb{P}(\\max_{k\\leq n} S_k\\geq x) =\n",
        "\\mathbb{P}(\\max_{k\\leq n} S_k\\geq x,\\, S_n\\geq x) +\n",
        "\\mathbb{P}(\\max_{k\\leq n} S_k\\geq x,\\, S_n<x)\n",
        "$$\n",
        "A második taggal kell foglalkozni. Nézzük azt az esetet, amikor $S_n=y< x$.\n",
        "\n",
        "Minden lehetséges út egyformán valószínű ($1/2^n$). Így az  a kérdés, hány olyan út van ami $(0,0)$-ból $(n,y)$-ba, aminek maximuma legalább $x$. Az ilyen utak a *jó* utak.\n",
        "\n",
        "Egy jó út esetén legyen $t$ az első olyan index, amikor az $x$ szinten jár, és a $t$ utáni lépéseket fordítsuk az ellentettjükre."
      ]
    },
    {
      "cell_type": "code",
      "execution_count": 14,
      "metadata": {
        "id": "9i_ccLsEfYLr",
        "outputId": "864fa831-3210-49a3-be98-dddf43fbc48e",
        "colab": {
          "base_uri": "https://localhost:8080/",
          "height": 430
        }
      },
      "outputs": [
        {
          "output_type": "display_data",
          "data": {
            "text/plain": [
              "<Figure size 640x480 with 1 Axes>"
            ],
            "image/png": "[encoded data removed]"
          },
          "metadata": {}
        }
      ],
      "source": [
        "rw_max = rw.max(axis=1)\n",
        "x = 8\n",
        "idx = np.where((rw_last<x) & (rw_max>=x))[0]\n",
        "\n",
        "if len(idx)>0:\n",
        "    idx = idx.min()\n",
        "    rw0 = rw[idx]\n",
        "    t = np.where(rw0==x)[0].min()\n",
        "    rw1 = np.zeros_like(rw0)\n",
        "    rw1[:t+1] = rw0[:t+1]\n",
        "    rw1[t+1:] = 2*rw0[t]-rw0[t+1:]\n",
        "    plt.plot(rw0, label=\"eredeti út\", alpha=0.5)\n",
        "    plt.plot(rw1, label=\"tükrözött út\", alpha=0.5)\n",
        "    plt.hlines([x], 0, len(rw0))\n",
        "    plt.plot(t, x, 'ro')\n",
        "    plt.grid()\n",
        "    plt.legend()\n"
      ]
    },
    {
      "cell_type": "markdown",
      "metadata": {
        "id": "Fgrv4wBLfYLr"
      },
      "source": [
        "Ha $x\\geq 0$ és $y<x$, akkor\n",
        "a fenti hozzárendelés bijekció azon utak között, amik $(0,0)$-ból $(n,y)$-ba mennek és közben járnak $x$ magasságban és azon utak között, amik\n",
        "$(0,0)$-ból $(n,2x-y)$ mennek. A tükrözött útból úgy kaphatjuk vissza az eredetit, hogy $t$ a tükrözött útból is megkapható, mint az első olyan index, amikor az $x$ szinten jár a bolyongás, és a $t$ utáni növekményeket $-1$-gyel szorozzuk.\n",
        "$$\n",
        "\\begin{aligned}\n",
        "\\mathbb{P}(\\max_{k\\leq n} S_k\\geq x) &=\n",
        "\\mathbb{P}(\\max_{k\\leq n} S_k\\geq x,\\, S_n\\geq x) +\n",
        "\\mathbb{P}(\\max_{k\\leq n} S_k\\geq x,\\, S_n<x)\\\\\n",
        "&= \\mathbb{P}(S_n\\geq x) +\n",
        "\\mathbb{P}(S_n>x)\n",
        "\\end{aligned}\n",
        "$$\n",
        "\n",
        "Ebből\n",
        "$$\n",
        "\\mathbb{P}(\\max_{k\\leq n} S_k = x) = \\mathbb{P}(S_n = x) + \\mathbb{P}(S_n = x+1)\n",
        "$$\n",
        "\n",
        "\n",
        "A *tükrözési elvből* valójában az jött ki, hogy:\n",
        "$$\n",
        "\\mathbb{P}(\\max_{k\\leq n} S_k\\geq x,\\, S_n\\leq y)= \\mathbb{P}(S_n\\geq 2x-y),\\quad\\text{ha $x\\geq 0$ és $y\\leq x$}\n",
        "$$\n",
        "\n",
        "Ebből, ha $x\\geq 0$ és $y\\leq x$\n",
        "$$\n",
        "\\begin{aligned}\n",
        "\\mathbb{P}(\\max_{k\\leq n} S_k = x,\\, S_n\\leq y) &= \\mathbb{P}(S_n\\geq 2x-y)- \\mathbb{P}(S_n\\geq 2x-y+2)= \\mathbb{P}(S_n = 2x-y)+\\mathbb{P}(S_n = 2x-y+1)\\\\\n",
        "\\mathbb{P}(\\max_{k\\leq n} S_k = x,\\, S_n = y) &= \\mathbb{P}(S_n = 2x-y)+\\mathbb{P}(S_n = 2x-y+1)- (\\mathbb{P}(S_n = 2x-(y-1))+\\mathbb{P}(S_n = 2x-(y-1)+1))\\\\\n",
        "& = \\mathbb{P}(S_n = 2x-y)-\\mathbb{P}(S_n = 2x-y+2)\n",
        "\\end{aligned}\n",
        "$$\n",
        "\n",
        "\n",
        "A `plt.hist` függvény használata helyett célszerű magunknak kigyűjteni a gyakoriságokat."
      ]
    },
    {
      "cell_type": "code",
      "execution_count": 15,
      "metadata": {
        "id": "vMBxpfVyfYLs",
        "outputId": "2784ec8f-51ca-4086-c0d2-de05ee2adb1b",
        "colab": {
          "base_uri": "https://localhost:8080/",
          "height": 430
        }
      },
      "outputs": [
        {
          "output_type": "display_data",
          "data": {
            "text/plain": [
              "<Figure size 640x480 with 1 Axes>"
            ],
            "image/png": "[encoded data removed]"
          },
          "metadata": {}
        }
      ],
      "source": [
        "rw_last_values, rw_last_cnts = np.unique(rw_last, return_counts=True)\n",
        "rw_last_probs = rw_last_cnts/rw_last_cnts.sum()\n",
        "\n",
        "rw_max_values, rw_max_cnts = np.unique(rw_max, return_counts=True)\n",
        "rw_max_probs = rw_max_cnts/rw_max_cnts.sum()\n",
        "\n",
        "plt.bar(rw_last_values, rw_last_probs, width=2, alpha=0.5, label='last')\n",
        "plt.bar(rw_max_values, rw_max_probs, width=1, alpha=0.5, label='max')\n",
        "plt.legend()\n",
        "plt.show()"
      ]
    },
    {
      "cell_type": "markdown",
      "metadata": {
        "id": "91tsriSPfYLs"
      },
      "source": [
        "Be tudjuk-e rajzolni a haranggörbét?\n",
        "\n",
        "Ehhez egyrészt használhatjuk a `scipy.stats` `norm` objektumának `pdf` (probablity density function) metódusát. Vagy megírhatjuk magunk is.\n",
        "\n",
        "Vegyük észre, hogy 100 lépés után az átlag 0  a szórás $10=\\sqrt{100}$. Pl. az mintában amit generáltunk ezek az értékek:"
      ]
    },
    {
      "cell_type": "code",
      "execution_count": 16,
      "metadata": {
        "id": "GWvRsE1ofYLt",
        "outputId": "25a2ee03-9a5b-4612-ef40-8c79ee4579da",
        "colab": {
          "base_uri": "https://localhost:8080/"
        }
      },
      "outputs": [
        {
          "output_type": "stream",
          "name": "stdout",
          "text": [
            "minta átlag = 0.036, minta szórása=9.948\n"
          ]
        }
      ],
      "source": [
        "print(f\"minta átlag = {rw_last.mean():.3f}, minta szórása={rw_last.std():.3f}\")"
      ]
    },
    {
      "cell_type": "code",
      "execution_count": 17,
      "metadata": {
        "id": "mlEtj8EUfYLt"
      },
      "outputs": [],
      "source": [
        "from scipy.stats import norm as gauss"
      ]
    },
    {
      "cell_type": "code",
      "execution_count": 18,
      "metadata": {
        "id": "ePB3fIVjfYLt",
        "outputId": "c34d6b8c-8d9d-4b0c-acfe-ad7262a2b2bf",
        "colab": {
          "base_uri": "https://localhost:8080/",
          "height": 430
        }
      },
      "outputs": [
        {
          "output_type": "display_data",
          "data": {
            "text/plain": [
              "<Figure size 640x480 with 1 Axes>"
            ],
            "image/png": "[encoded data removed]"
          },
          "metadata": {}
        }
      ],
      "source": [
        "sigma = (rw.shape[1]-1)**0.5\n",
        "plt.plot(rw_last_values, gauss.pdf(rw_last_values, 0, sigma))\n",
        "plt.grid()\n",
        "plt.show()"
      ]
    },
    {
      "cell_type": "code",
      "execution_count": 19,
      "metadata": {
        "id": "_x1-7S_KfYLu",
        "outputId": "ec1d3f27-9f1b-4c9d-bb99-761edec691e3",
        "colab": {
          "base_uri": "https://localhost:8080/",
          "height": 430
        }
      },
      "outputs": [
        {
          "output_type": "display_data",
          "data": {
            "text/plain": [
              "<Figure size 640x480 with 1 Axes>"
            ],
            "image/png": "[encoded data removed]"
          },
          "metadata": {}
        }
      ],
      "source": [
        "plt.bar(rw_last_values, rw_last_probs, width=2, alpha=0.5)\n",
        "plt.bar(rw_max_values, rw_max_probs, width=1, alpha=0.5)\n",
        "plt.plot(rw_last_values, 2*gauss.pdf(rw_last_values, 0, sigma))\n",
        "plt.show()"
      ]
    },
    {
      "cell_type": "markdown",
      "metadata": {
        "id": "45ATRq5BfYLu"
      },
      "source": [
        "## 2. Ugyanez minimummal."
      ]
    },
    {
      "cell_type": "markdown",
      "metadata": {
        "id": "NzCxELvUfYLu"
      },
      "source": [
        "## 3. Utolsó nullhely.\n",
        "\n",
        "Szimmetrikus bolyongás alatt olyan véletlen sorozatot értünk, ami a nullából indul és minden lépése (megváltozása) 1 vagy −1, 1/2–1/2\n",
        "valószínűséggel a többi lépéstől függetlenül.\n",
        "\n",
        "Írjunk egy függvényt, ami a numpy könyvtár függvényei segítségével elkészíti $n$\n",
        "hosszú bolyongásoknak egy $m$ elemű sorozatát! Azaz a függvény kimenete egy $m\\times n$\n",
        "mátrix, az egyes sorok az egyes bolyongásokat írják le.\n",
        "\n",
        "Rajzoljunk ki néhány bolyongást!\n",
        "\n",
        "A következő részhez $n$ legyen legalább 100 és $m$ legalább 1000.\n",
        "\n",
        "Minden bolyongásra számoljuk ki az utolsó nulla érték indexét és ezt osszuk el a bolyongás hosszával. Készítsünk hisztogramot az így kapott értékekből.\n",
        "\n",
        "Extra kérdés, a pontozásba nem számít bele: Van-e olyan szép függvény, ami illeszkedik a hisztogram alakjára."
      ]
    },
    {
      "cell_type": "code",
      "execution_count": null,
      "metadata": {
        "id": "ORp6BK4ufYLv"
      },
      "outputs": [],
      "source": [
        "np.nonzero?"
      ]
    },
    {
      "cell_type": "code",
      "execution_count": null,
      "metadata": {
        "id": "W2F3pfQcfYLv",
        "outputId": "0c96b6dc-f5ca-47af-ce05-0097cb6ee962"
      },
      "outputs": [
        {
          "data": {
            "text/plain": [
              "array([ 0,  2,  8, 14, 16, 20, 24, 32, 34, 36, 38, 68, 82, 86, 90])"
            ]
          },
          "metadata": {},
          "output_type": "display_data"
        }
      ],
      "source": [
        "np.where(rw[0]==0)[0]"
      ]
    },
    {
      "cell_type": "markdown",
      "metadata": {
        "id": "fRg4LlBsfYLv"
      },
      "source": [
        "A bolyongás legyártásában nincs különbség. Az utolsó nullhelyet nehézkesebb csak array műveletekkel számolni."
      ]
    },
    {
      "cell_type": "code",
      "execution_count": 20,
      "metadata": {
        "id": "FhKEkPzmfYLw"
      },
      "outputs": [],
      "source": [
        "def last_zero(rw):\n",
        "    return np.array([np.where(row==0)[0].max() for row in rw])\n",
        "\n",
        "def last_zero_2(rw):\n",
        "    return ((rw==0)*np.arange(0, rw.shape[1])).max(axis=1)\n"
      ]
    },
    {
      "cell_type": "code",
      "execution_count": 21,
      "metadata": {
        "id": "jChsLXhQfYLw",
        "outputId": "878c2866-ebe5-42ef-de07-d4f6e45e0643",
        "colab": {
          "base_uri": "https://localhost:8080/"
        }
      },
      "outputs": [
        {
          "output_type": "stream",
          "name": "stdout",
          "text": [
            "\u001b[32m.\u001b[0m\u001b[32m                                                                                            [100%]\u001b[0m\n",
            "\u001b[32m\u001b[32m\u001b[1m1 passed\u001b[0m\u001b[32m in 0.36s\u001b[0m\u001b[0m\n"
          ]
        }
      ],
      "source": [
        "%%ipytest\n",
        "\n",
        "def last_zero_row(row):\n",
        "    idx = 0\n",
        "    for i, x in enumerate(row):\n",
        "        if x==0:\n",
        "            idx = i\n",
        "    return idx\n",
        "\n",
        "def last_zero_with_for(rw):\n",
        "    return np.array([last_zero_row(row) for row in rw])\n",
        "\n",
        "\n",
        "def test_last_zero():\n",
        "    rw = random_walk(100,1000)\n",
        "    assert (last_zero(rw) == last_zero_with_for(rw)).all()\n",
        "    assert (last_zero_2(rw) == last_zero_with_for(rw)).all()\n",
        ""
      ]
    },
    {
      "cell_type": "code",
      "execution_count": 23,
      "metadata": {
        "id": "UbXTQfyJfYLw",
        "outputId": "00085ebd-88ad-420b-a2f5-9aa2612ecc0b",
        "colab": {
          "base_uri": "https://localhost:8080/",
          "height": 447
        }
      },
      "outputs": [
        {
          "output_type": "stream",
          "name": "stdout",
          "text": [
            "0.0, 0.98989898989899\n"
          ]
        },
        {
          "output_type": "display_data",
          "data": {
            "text/plain": [
              "<Figure size 640x480 with 1 Axes>"
            ],
            "image/png": "[encoded data removed]"
          },
          "metadata": {}
        }
      ],
      "source": [
        "\n",
        "rw_last_zero = last_zero(rw)/(rw.shape[1]-1)\n",
        "print(f\"{rw_last_zero.min()}, {rw_last_zero.max()}\")\n",
        "plt.hist(rw_last_zero)\n",
        "plt.show()"
      ]
    },
    {
      "cell_type": "code",
      "execution_count": 30,
      "metadata": {
        "id": "V8P9wfrzfYLx",
        "outputId": "d3c5584f-7278-4b10-ab5d-63244ef9a358",
        "colab": {
          "base_uri": "https://localhost:8080/",
          "height": 430
        }
      },
      "outputs": [
        {
          "output_type": "display_data",
          "data": {
            "text/plain": [
              "<Figure size 640x480 with 1 Axes>"
            ],
            "image/png": "[encoded data removed]"
          },
          "metadata": {}
        }
      ],
      "source": [
        "rw_last_zero = last_zero_2(rw)\n",
        "rw_last_zero_values, rw_last_zero_cnts = np.unique(rw_last_zero, return_counts=True)\n",
        "rw_last_zero_probs = rw_last_zero_cnts/rw_last_zero_cnts.sum()\n",
        "rw_last_zero_values  = rw_last_zero_values.astype(np.float64)/(len(rw[0]-1))\n",
        "width = np.diff(rw_last_zero_values).max()\n",
        "plt.bar(rw_last_zero_values, rw_last_zero_probs, width=0.9*width)\n",
        "plt.show()"
      ]
    },
    {
      "cell_type": "markdown",
      "metadata": {
        "id": "xqoQPB0mfYLx"
      },
      "source": [
        "## Magyarázat.\n",
        "\n",
        "A fenti számolásból\n",
        "$$\n",
        "    \\mathbb{P}(S_{1}\\geq 0, \\dots S_n\\geq 0) = \\mathbb{P}(\\min_{k\\leq n} S_k\\geq 0) = \\mathbb{P}(\\max_{k\\leq n} S_k\\leq 0) = \\mathbb{P}(\\max_{k\\leq n} S_k= 0) = \\mathbb{P}(S_n=0)+\\mathbb{P}(S_n=1) = \\mathbb{P}(S_n=0)+\\mathbb{P}(S_{n+1}=0)\n",
        "$$\n",
        "\n",
        "Innen\n",
        "$$\n",
        "    \\mathbb{P}(S_{1}> 0, \\dots S_n> 0) = \\frac12\\mathbb{P}(\\min_{k\\leq n} S_k-S_1\\geq 0) = \\frac12\\left(\\mathbb{P}(S_{n-1}=0)+\\mathbb{P}(S_{n}=0)\\right)\n",
        "$$\n",
        "és\n",
        "$$\n",
        "    \\mathbb{P}(S_{1}\\neq 0, \\dots S_n\\neq 0) =\n",
        "    \\mathbb{P}(S_{1}> 0, \\dots S_n> 0)+\\mathbb{P}(S_{1}< 0, \\dots S_n< 0) = \\mathbb{P}(S_{n-1}=0)+\\mathbb{P}(S_{n}=0)\n",
        "$$\n",
        "\n",
        "Legyen $n=2k$ páros és $T_n$ az utolsó nullhely az első $n$ lépés során\n",
        "$$\n",
        "    \\mathbb{P}(T_n = 2\\ell)=\n",
        "    \\mathbb{P}(S_{2\\ell}=0,\\, S_{2\\ell+i}-S_{2\\ell}\\neq 0,\\, i=1,\\dots,2k-2\\ell)\n",
        "    =\\mathbb{P}(S_{2\\ell}=0)\\mathbb{P}(S_{2(n-\\ell)}=0)\n",
        "    =\\frac{1}{2^{2\\ell}}\\binom{2\\ell}{\\ell}\\frac{1}{2^{2(k-\\ell)}}\\binom{2(k-\\ell)}{k-\\ell}\n",
        "$$\n",
        "\n",
        "HF középiskolából: rekurzió $I_k = \\int_0^{\\pi/2}\\cos^k(\\alpha)d\\alpha$. Ha ezt felírjuk, kihasználjuk, hogy $I_0=\\pi/2$, $I_1=1$, akkor azt kapjuk, hogy\n",
        "$$\n",
        "    \\frac1{\\sqrt{\\pi(k+1/2)}}\\leq \\frac{1}{2^{2k}}\\binom{2k}{k}\\leq \\frac{1}{\\sqrt{\\pi k}},\n",
        "    \\quad\n",
        "    \\frac1{\\sqrt{\\pi(k+1/4)}}\\approx \\frac{1}{2^{2k}}\\binom{2k}{k}\n",
        "$$\n",
        "\n",
        "Azaz\n",
        "\n",
        "$$\n",
        "    \\mathbb{P}(T_n=2\\ell) \\approx \\frac{2}{n}\\left.\\frac{1}{\\pi}\\cdot\\frac1{\\sqrt{x(1-x)}}\\right|_{x=\\frac{2\\ell}{n}}\n",
        "$$"
      ]
    },
    {
      "cell_type": "markdown",
      "metadata": {
        "id": "TfEwE470fYLx"
      },
      "source": [
        ",,Ellenőrizzük'' a kapott formulát"
      ]
    },
    {
      "cell_type": "code",
      "execution_count": 31,
      "metadata": {
        "id": "GN1UuucGfYLx",
        "outputId": "e7191c80-7403-4167-a8c7-896755d73fd3",
        "colab": {
          "base_uri": "https://localhost:8080/",
          "height": 430
        }
      },
      "outputs": [
        {
          "output_type": "display_data",
          "data": {
            "text/plain": [
              "<Figure size 640x480 with 1 Axes>"
            ],
            "image/png": "[encoded data removed]"
          },
          "metadata": {}
        }
      ],
      "source": [
        "def arcsin_probs(x):\n",
        "    width = np.diff(rw_last_zero_values).max()\n",
        "    d = np.zeros_like(x)\n",
        "    y = (x+0.33*width)*(1-x+0.33*width)\n",
        "    d[y>0] = width/(np.sqrt(y[y>0])*np.pi)\n",
        "    return d\n",
        "\n",
        "plt.bar(rw_last_zero_values, rw_last_zero_probs, width=0.9*width)\n",
        "plt.plot(rw_last_zero_values, arcsin_probs(rw_last_zero_values), color='red')\n",
        "plt.show()"
      ]
    },
    {
      "cell_type": "markdown",
      "metadata": {
        "id": "nNART4UlfYLy"
      },
      "source": [
        "## Variációk"
      ]
    },
    {
      "cell_type": "markdown",
      "metadata": {
        "id": "UN32XCRUfYLz"
      },
      "source": [
        "Tudunk-e cummulative maximumot számolni `numpy` segítségével?\n",
        "\n",
        "Ilyen függvényt nem találunk, de teszőleges `ufunc`-ból lehet **accumulált** változatot készíteni."
      ]
    },
    {
      "cell_type": "markdown",
      "metadata": {
        "id": "IHfp73kRfYL0"
      },
      "source": [
        "## Kitérő: `np.ufunc` Univerzális tömb függvények"
      ]
    },
    {
      "cell_type": "code",
      "execution_count": 32,
      "metadata": {
        "id": "RRTco0GMfYL0",
        "outputId": "6acfeaf6-625a-4af7-8c6a-729cc2633912",
        "colab": {
          "base_uri": "https://localhost:8080/"
        }
      },
      "outputs": [
        {
          "output_type": "execute_result",
          "data": {
            "text/plain": [
              "['accumulate',\n",
              " 'at',\n",
              " 'identity',\n",
              " 'nargs',\n",
              " 'nin',\n",
              " 'nout',\n",
              " 'ntypes',\n",
              " 'outer',\n",
              " 'reduce',\n",
              " 'reduceat',\n",
              " 'signature',\n",
              " 'types']"
            ]
          },
          "metadata": {},
          "execution_count": 32
        }
      ],
      "source": [
        "[method for method in dir(np.ufunc) if not method.startswith(\"_\")]"
      ]
    },
    {
      "cell_type": "code",
      "execution_count": 33,
      "metadata": {
        "id": "RQnmW4XMfYL0",
        "outputId": "81308ea0-21eb-41f6-f96c-4c93f96cf5d4",
        "colab": {
          "base_uri": "https://localhost:8080/"
        }
      },
      "outputs": [
        {
          "output_type": "stream",
          "name": "stdout",
          "text": [
            "accumulate(array, axis=0, dtype=None, out=None)\n",
            "\n",
            "    Accumulate the result of applying the operator to all elements.\n",
            "\n",
            "    For a one-dimensional array, accumulate produces results equivalent to::\n",
            "\n",
            "      r = np.empty(len(A))\n",
            "      t = op.identity        # op = the ufunc being applied to A's  elements\n",
            "      for i in range(len(A)):\n",
            "          t = op(t, A[i])\n",
            "          r[i] = t\n",
            "      return r\n",
            "\n",
            "    For example, add.accumulate() is equivalent to np.cumsum().\n",
            "\n",
            "    For a multi-dimensional array, accumulate is applied along only one\n",
            "    axis (axis zero by default; see Examples below) so repeated use is\n",
            "    necessary if one wants to accumulate over multiple axes.\n",
            "\n",
            "    \n",
            "at(a, indices, b=None, /)\n",
            "\n",
            "    Performs unbuffered in place operation on operand 'a' for elements\n",
            "    specified by 'indices'. For addition ufunc, this method is equivalent to\n",
            "    ``a[indices] += b``, except that results are accumulated for elements that\n",
            "    are indexed more than once. For example, ``a[[0,0]] += 1`` will only\n",
            "    increment the first element once because of buffering, whereas\n",
            "    ``add.at(a, [0,0], 1)`` will increment the first element twice.\n",
            "\n",
            "    .. versionadded:: 1.8.0\n",
            "\n",
            "    \n",
            "outer(A, B, /, **kwargs)\n",
            "\n",
            "    Apply the ufunc `op` to all pairs (a, b) with a in `A` and b in `B`.\n",
            "\n",
            "    Let ``M = A.ndim``, ``N = B.ndim``. Then the result, `C`, of\n",
            "    ``op.outer(A, B)`` is an array of dimension M + N such that:\n",
            "\n",
            "    .. math:: C[i_0, ..., i_{M-1}, j_0, ..., j_{N-1}] =\n",
            "       op(A[i_0, ..., i_{M-1}], B[j_0, ..., j_{N-1}])\n",
            "\n",
            "    For `A` and `B` one-dimensional, this is equivalent to::\n",
            "\n",
            "      r = empty(len(A),len(B))\n",
            "      for i in range(len(A)):\n",
            "          for j in range(len(B)):\n",
            "              r[i,j] = op(A[i], B[j])  # op = ufunc in question\n",
            "\n",
            "    \n",
            "reduce(array, axis=0, dtype=None, out=None, keepdims=False, initial=<no value>, where=True)\n",
            "\n",
            "    Reduces `array`'s dimension by one, by applying ufunc along one axis.\n",
            "\n",
            "    Let :math:`array.shape = (N_0, ..., N_i, ..., N_{M-1})`.  Then\n",
            "    :math:`ufunc.reduce(array, axis=i)[k_0, ..,k_{i-1}, k_{i+1}, .., k_{M-1}]` =\n",
            "    the result of iterating `j` over :math:`range(N_i)`, cumulatively applying\n",
            "    ufunc to each :math:`array[k_0, ..,k_{i-1}, j, k_{i+1}, .., k_{M-1}]`.\n",
            "    For a one-dimensional array, reduce produces results equivalent to:\n",
            "    ::\n",
            "\n",
            "     r = op.identity # op = ufunc\n",
            "     for i in range(len(A)):\n",
            "       r = op(r, A[i])\n",
            "     return r\n",
            "\n",
            "    For example, add.reduce() is equivalent to sum().\n",
            "\n",
            "    \n",
            "reduceat(array, indices, axis=0, dtype=None, out=None)\n",
            "\n",
            "    Performs a (local) reduce with specified slices over a single axis.\n",
            "\n",
            "    For i in ``range(len(indices))``, `reduceat` computes\n",
            "    ``ufunc.reduce(array[indices[i]:indices[i+1]])``, which becomes the i-th\n",
            "    generalized \"row\" parallel to `axis` in the final result (i.e., in a\n",
            "    2-D array, for example, if `axis = 0`, it becomes the i-th row, but if\n",
            "    `axis = 1`, it becomes the i-th column).  There are three exceptions to this:\n",
            "\n",
            "    * when ``i = len(indices) - 1`` (so for the last index),\n",
            "      ``indices[i+1] = array.shape[axis]``.\n",
            "    * if ``indices[i] >= indices[i + 1]``, the i-th generalized \"row\" is\n",
            "      simply ``array[indices[i]]``.\n",
            "    * if ``indices[i] >= len(array)`` or ``indices[i] < 0``, an error is raised.\n",
            "\n",
            "    The shape of the output depends on the size of `indices`, and may be\n",
            "    larger than `array` (this happens if ``len(indices) > array.shape[axis]``).\n",
            "\n",
            "    \n"
          ]
        }
      ],
      "source": [
        "def short_help(f):\n",
        "\n",
        "    i = f.__doc__.find(\"Parameters\")\n",
        "    return f.__doc__ if i<0 else f.__doc__[:i]\n",
        "\n",
        "print(short_help(np.ufunc.accumulate))\n",
        "print(short_help(np.ufunc.at))\n",
        "print(short_help(np.ufunc.outer))\n",
        "print(short_help(np.ufunc.reduce))\n",
        "print(short_help(np.ufunc.reduceat))\n",
        "\n",
        "\n"
      ]
    },
    {
      "cell_type": "code",
      "execution_count": 34,
      "metadata": {
        "id": "sp2HgCxBfYL1",
        "outputId": "41eb9ede-71ca-413a-fef2-ee42a82a431d",
        "colab": {
          "base_uri": "https://localhost:8080/"
        }
      },
      "outputs": [
        {
          "output_type": "execute_result",
          "data": {
            "text/plain": [
              "array([[ 0, -1, -2, ..., 21, 20, 19],\n",
              "       [ 0, -1,  0, ..., 21, 20, 19],\n",
              "       [ 0,  1,  0, ..., 21, 20, 19],\n",
              "       ...,\n",
              "       [ 0,  1,  2, ..., 43, 44, 45],\n",
              "       [ 0,  1,  2, ..., 43, 44, 45],\n",
              "       [ 0,  1,  2, ..., 43, 44, 45]], dtype=int32)"
            ]
          },
          "metadata": {},
          "execution_count": 34
        }
      ],
      "source": [
        "np.maximum.accumulate(rw)"
      ]
    },
    {
      "cell_type": "code",
      "execution_count": 35,
      "metadata": {
        "id": "8QMbtiLLfYL1",
        "outputId": "5db45950-bfc9-4d0c-9343-f2e5c002cd75",
        "colab": {
          "base_uri": "https://localhost:8080/",
          "height": 430
        }
      },
      "outputs": [
        {
          "output_type": "display_data",
          "data": {
            "text/plain": [
              "<Figure size 640x480 with 1 Axes>"
            ],
            "image/png": "[encoded data removed]"
          },
          "metadata": {}
        }
      ],
      "source": [
        "rw = random_walk(1000)[0]\n",
        "running_min = np.minimum.accumulate(rw, axis=-1)\n",
        "# rw.shape, running_min.shape\n",
        "plt.plot(rw, label=\"$S$\")\n",
        "plt.plot(running_min, label=\"$S$\\u0332\")\n",
        "plt.plot(rw-running_min, label=\"$S-S\\u0332$\")\n",
        "# plt.plot(rw-2*running_min, label=\"$S-2S\\u0332$\")\n",
        "plt.legend()\n",
        "plt.grid()\n",
        "plt.show()"
      ]
    },
    {
      "cell_type": "markdown",
      "metadata": {
        "id": "UjxF3xKffYL2"
      },
      "source": [
        "Tegyük fel, hogy több lépést akarunk nézni és nem akarunk `n x repeat` méretű tömböt lefoglalni."
      ]
    },
    {
      "cell_type": "code",
      "execution_count": null,
      "metadata": {
        "id": "6_3ICW53fYL2"
      },
      "outputs": [],
      "source": [
        "def rw_last_max(n, repeat=1):\n",
        "    val = np.zeros(repeat, dtype=np.int32)\n",
        "    max_val = val.copy()\n",
        "    for _ in range(n):\n",
        "        val += 2*np.random.binomial(1, 0.5, size=repeat)-1\n",
        "        np.maximum(max_val, val, out=max_val)\n",
        "    rsqrtn = n**(-0.5)\n",
        "    return val*rsqrtn, max_val*rsqrtn"
      ]
    },
    {
      "cell_type": "code",
      "execution_count": null,
      "metadata": {
        "id": "8V7rz-ZafYL3"
      },
      "outputs": [],
      "source": [
        "val, max_val = rw_last_max(10_000, 10_000)"
      ]
    },
    {
      "cell_type": "markdown",
      "metadata": {
        "id": "hvObNwr5fYL3"
      },
      "source": [
        "# Öröklődés"
      ]
    },
    {
      "cell_type": "markdown",
      "metadata": {
        "id": "KMWpub3dfYL3"
      },
      "source": [
        "Előadáson szerepelt ehhez hasonló példa. Legyenek `Polygon`, `Rectangle`, `Square` osztályaink.\n",
        "Minden négyzet téglalap és minden téglalap sokszög. Egy sokszöget a csúcsok felsorolásával adhatunk meg.\n",
        "Ebből a kerület, terület kiszámolható és eldönthető, hogy a sokszög konvex-e. Ha akarjuk pl. a `Matplotlib` könyvtárral ki is rajzolhatjuk a sokszöget.\n",
        "\n",
        "Menetközben síkvektorokkal akarunk számolni. Erre kényelmes a `numpy` könyvtárat használni."
      ]
    },
    {
      "cell_type": "code",
      "execution_count": 37,
      "metadata": {
        "id": "Yyg1ipY1fYL4"
      },
      "outputs": [],
      "source": [
        "import math\n",
        "import numpy as np\n",
        "from itertools import cycle\n",
        "import matplotlib.pyplot as plt\n"
      ]
    },
    {
      "cell_type": "code",
      "execution_count": 38,
      "metadata": {
        "id": "1emf-2MqfYL4"
      },
      "outputs": [],
      "source": [
        "\n",
        "class Point(np.ndarray):\n",
        "    def __new__(cls, point):\n",
        "        point = np.asarray(point)\n",
        "        assert point.shape[-1] == 2\n",
        "        return point.view(cls)\n",
        "\n",
        "    def __repr__(self):\n",
        "        if self.ndim > 1:\n",
        "            return f\"Array of Points\"\n",
        "        else:\n",
        "            a, b =  self\n",
        "        return f\"Point{(a,b)}\""
      ]
    },
    {
      "cell_type": "code",
      "execution_count": 39,
      "metadata": {
        "id": "hhqRIKw-fYL4",
        "outputId": "1345ffae-107f-4f88-fdab-825dff1ad794",
        "colab": {
          "base_uri": "https://localhost:8080/"
        }
      },
      "outputs": [
        {
          "output_type": "execute_result",
          "data": {
            "text/plain": [
              "Point(-2, -2)"
            ]
          },
          "metadata": {},
          "execution_count": 39
        }
      ],
      "source": [
        "Point((1,2))-Point((3,4))"
      ]
    },
    {
      "cell_type": "code",
      "execution_count": 40,
      "metadata": {
        "id": "StXcHcfcfYL5"
      },
      "outputs": [],
      "source": [
        "\n",
        "class Polygon:\n",
        "\n",
        "    def __init__(self, nodes):\n",
        "        self.nodes = list(Point(node) for node in nodes)\n",
        "\n",
        "    def area(self):\n",
        "        nodes = np.array(self.nodes)\n",
        "        nodes = nodes-nodes[0]\n",
        "        area = 0\n",
        "        for v1, v2 in zip(nodes[1:], nodes[2:]):\n",
        "            area += v1[0]*v2[1]-v1[1]*v2[0]\n",
        "        return abs(area)/2\n",
        "\n",
        "    def perimeter(self):\n",
        "        total = 0\n",
        "        p0 = self.nodes[-1]\n",
        "        for p in self.nodes:\n",
        "            total += np.linalg.norm(p-p0)\n",
        "            p0 = p\n",
        "        return total\n",
        "\n",
        "    def is_convex(self):\n",
        "        nodes = np.array(self.nodes + self.nodes[:1])\n",
        "        edges = np.diff(nodes, axis=0)\n",
        "        idx = np.array([i%len(edges) for i in range(1, len(edges)+1)])\n",
        "        edges1 = edges[idx]\n",
        "        sgn = (rotate90(edges) * edges1).sum(axis=1)\n",
        "        return (min(sgn)*max(sgn)>=0)\n",
        "\n",
        "    def draw(self,  *args, fill=False, **kwargs):\n",
        "        nodes = self.nodes + self.nodes[:1]\n",
        "        x, y = np.array(nodes).T\n",
        "        if fill:\n",
        "            plt.fill(x, y, alpha=0.5)\n",
        "        plt.plot(x, y, *args, **kwargs)\n",
        "        plt.axis('equal')\n",
        "\n",
        "    def __repr__(self):\n",
        "        return f'{type(self).__name__}({[tuple(x) for x in self.nodes]})'\n",
        "\n",
        "\n",
        "def rotate90(x):\n",
        "    return np.flip(x, -1)*np.array([-1, 1])\n",
        "\n",
        "class Rectangle(Polygon):\n",
        "\n",
        "    def __init__(self, P1, P2, r):\n",
        "        \"\"\"\n",
        "        P1, P2 froms an edge and r is the ratio of edge lengths.\n",
        "\n",
        "        Assuming that e is P1P2 rotated counterclockwise by 90 degree\n",
        "        the vertices are:\n",
        "        P1, P2, P2+r*e, P1+r*e\n",
        "        \"\"\"\n",
        "        P1, P2 = Point(P1), Point(P2)\n",
        "        v = rotate90(P2-P1)*r\n",
        "        super(Rectangle, self).__init__([P1, P2, P2+v, P1+v])\n",
        "\n",
        "\n",
        "class Square(Rectangle):\n",
        "\n",
        "    def __init__(self, P1, P2):\n",
        "        super(Square, self).__init__(P1, P2, 1)\n",
        "\n"
      ]
    },
    {
      "cell_type": "code",
      "execution_count": null,
      "metadata": {
        "id": "ZsPelKemfYL6",
        "outputId": "94067719-cdb5-42b8-bd36-a33e4776835e"
      },
      "outputs": [
        {
          "data": {
            "text/plain": [
              "array([[-1,  0],\n",
              "       [ 0,  1]])"
            ]
          },
          "metadata": {},
          "output_type": "display_data"
        }
      ],
      "source": [
        "rotate90(np.array([[0, 1],[1,0]]))"
      ]
    },
    {
      "cell_type": "code",
      "execution_count": 41,
      "metadata": {
        "id": "gTHRQPyVfYL6",
        "outputId": "b500d492-4cf4-4a6f-f12d-38788eb3b475",
        "colab": {
          "base_uri": "https://localhost:8080/"
        }
      },
      "outputs": [
        {
          "output_type": "stream",
          "name": "stdout",
          "text": [
            "Square([(0, 0), (1, 1), (0, 2), (-1, 1)]) kerület: 5.66, konvex: True, terület: 2.00\n",
            "Rectangle([(0, 0), (1, 1), (-1, 3), (-2, 2)]) kerület: 8.49, konvex: True, terület: 4.00\n",
            "Polygon([(0, 0), (1, 1)]) kerület: 2.83, konvex: True, terület: 0.00\n"
          ]
        }
      ],
      "source": [
        "points = np.array([[0,0], [1,1]])\n",
        "s = Square(points[0], points[1])\n",
        "t = Rectangle(points[0], points[1], 2)\n",
        "p = Polygon(points)\n",
        "for x in [s, t, p]:\n",
        "    print(f\"{x} kerület: {x.perimeter():.2f}, konvex: {x.is_convex()}, terület: {x.area():.2f}\")\n"
      ]
    },
    {
      "cell_type": "markdown",
      "metadata": {
        "id": "sKEi_rupfYL6"
      },
      "source": [
        "Vegyük észre, hogy az `__repr__` metódust csak egyszer implementáltuk, mégis minden egyednek a saját típusát írja ki!\n",
        "Az előző kód blokkot futtassuk le azután is, hogy a `draw` metódust implementáltuk."
      ]
    },
    {
      "cell_type": "code",
      "execution_count": 42,
      "metadata": {
        "id": "lpBpqRdlfYL7"
      },
      "outputs": [],
      "source": [
        "import matplotlib.pyplot as plt\n",
        "%matplotlib inline"
      ]
    },
    {
      "cell_type": "code",
      "execution_count": 45,
      "metadata": {
        "id": "oekMhjoNfYL7",
        "outputId": "e5f85d83-8ff8-4d9c-ddf4-0946cb70ce87",
        "colab": {
          "base_uri": "https://localhost:8080/",
          "height": 447
        }
      },
      "outputs": [
        {
          "output_type": "stream",
          "name": "stdout",
          "text": [
            "Polygon([(0, 0), (2, 0), (2, 2), (1, 1), (0, 2), (1, 2), (0, 1)]) konvex?: False, p.area()=2.5\n"
          ]
        },
        {
          "output_type": "display_data",
          "data": {
            "text/plain": [
              "<Figure size 640x480 with 1 Axes>"
            ],
            "image/png": "[encoded data removed]"
          },
          "metadata": {}
        }
      ],
      "source": [
        "points = np.array([[0,0], [2,0], [2,2], [1,1], [0,2], [1,2], [0,1]])\n",
        "p = Polygon(list(points))\n",
        "print(f\"{p} konvex?: {p.is_convex()}, {p.area()=}\")\n",
        "p.draw('o-', fill=True)\n",
        "plt.grid()\n",
        "plt.show()\n"
      ]
    },
    {
      "cell_type": "code",
      "execution_count": null,
      "metadata": {
        "id": "XtBCE5kXfYL7",
        "outputId": "79f43660-70e9-4277-b23b-e820f6aff752"
      },
      "outputs": [
        {
          "data": {
            "text/plain": [
              "(-1.1, 1.1, -0.1, 2.1)"
            ]
          },
          "metadata": {},
          "output_type": "display_data"
        },
        {
          "data": {
            "image/png": "[encoded data removed]",
            "text/plain": [
              "<Figure size 640x480 with 1 Axes>"
            ]
          },
          "metadata": {},
          "output_type": "display_data"
        }
      ],
      "source": [
        "plt.plot(*np.array(s.nodes)[[0,1,2,3,0]].T)\n",
        "plt.grid()\n",
        "plt.axis('equal')\n",
        "# plt.axis('off')\n"
      ]
    },
    {
      "cell_type": "code",
      "execution_count": null,
      "metadata": {
        "id": "VV9T3EqWfYL8",
        "outputId": "bb49c7be-b7ba-48b8-887b-f90a06a64ec6"
      },
      "outputs": [
        {
          "data": {
            "image/png": "[encoded data removed]",
            "text/plain": [
              "<Figure size 640x480 with 1 Axes>"
            ]
          },
          "metadata": {},
          "output_type": "display_data"
        }
      ],
      "source": [
        "t.draw('o-', alpha=0.5)\n",
        "s.draw('o:', markersize=10, alpha=0.5, fill=True)\n",
        "p.draw('o-', mfc=\"r\", mec='r', alpha=0.5)\n",
        "plt.show()"
      ]
    },
    {
      "cell_type": "code",
      "execution_count": null,
      "metadata": {
        "id": "TwRSgF5GfYL8",
        "outputId": "bb400305-7a5f-4c90-b49a-fa51f7491e6a"
      },
      "outputs": [
        {
          "data": {
            "image/png": "[encoded data removed]",
            "text/plain": [
              "<Figure size 640x480 with 1 Axes>"
            ]
          },
          "metadata": {},
          "output_type": "display_data"
        }
      ],
      "source": [
        "p = Square([0,0], [1,0])\n",
        "p.draw(fill=True)"
      ]
    },
    {
      "cell_type": "markdown",
      "metadata": {
        "id": "YSW_IUShfYL8"
      },
      "source": [
        "# `with` statement"
      ]
    },
    {
      "cell_type": "markdown",
      "metadata": {
        "id": "vgrrk90pfYL9"
      },
      "source": [
        "\n",
        "## Mi történik a `with` statement alkalmazásakor?\n",
        "\n",
        "### Mit lehet a with mögé írni?\n",
        "\n",
        "Hasonlóan a `for`-hoz szinte bármit, aminek van két metódusa:\n",
        "\n",
        "- `__enter__`\n",
        "- `__exit__`\n",
        "\n",
        "```python\n",
        "with obj as x:\n",
        "    do_something with x\n",
        "```\n",
        "\n",
        "Itt az `obj.__enter__()` hívás eredménye lesz az x értéke és a block végén **GARANTÁLTAN** végrehajtódik az `obj.__exit__(...)` hívás.\n",
        "Az `__enter__` metódus végezheti az előkészítést, az `__exit__` a takarítást!\n",
        "\n",
        "### Kell-e nekünk ezeket a metódusokat közvetlenül implementálni?\n",
        "\n",
        "Valójában nem. Elegendő egy generátor függvényt megírni:\n",
        "\n",
        "```python\n",
        "import time\n",
        "\n",
        "def timer():\n",
        "    try:\n",
        "        start = time.time()\n",
        "        yield\n",
        "\n",
        "    finally:\n",
        "        runtime = time.time() - start\n",
        "        print(f\"run time: {runtime:3f}\")\n",
        "```\n",
        "            \n",
        "\n",
        "Így még csak egy generátort kapunk ami egyszer visszaad semmit (`None`), majd a következő iterációnál jelzi, hogy vége van a sorozatnak.\n",
        "\n",
        "Próbáljuk ki `for`-ral"
      ]
    },
    {
      "cell_type": "code",
      "execution_count": 50,
      "metadata": {
        "id": "hFK1AnzGfYL9"
      },
      "outputs": [],
      "source": [
        "import time\n",
        "\n",
        "def timer():\n",
        "    try:\n",
        "        start = time.time()\n",
        "        yield 1\n",
        "\n",
        "    finally:\n",
        "        runtime = time.time() - start\n",
        "        print(f\"run time: {runtime:3f}\")\n",
        "\n",
        "# for x in timer():\n",
        "#     print(x)"
      ]
    },
    {
      "cell_type": "markdown",
      "metadata": {
        "id": "NjQ5k8m1fYL9"
      },
      "source": [
        "`with`-del hibát kapunk"
      ]
    },
    {
      "cell_type": "code",
      "execution_count": 48,
      "metadata": {
        "id": "TmFwTAq6fYL-",
        "outputId": "2685fe2d-e513-4435-d060-4118da3a68e6",
        "colab": {
          "base_uri": "https://localhost:8080/",
          "height": 196
        }
      },
      "outputs": [
        {
          "output_type": "error",
          "ename": "AttributeError",
          "evalue": "ignored",
          "traceback": [
            "\u001b[0;31m---------------------------------------------------------------------------\u001b[0m",
            "\u001b[0;31mAttributeError\u001b[0m                            Traceback (most recent call last)",
            "\u001b[0;32m<ipython-input-48-792ad4e462da>\u001b[0m in \u001b[0;36m<cell line: 1>\u001b[0;34m()\u001b[0m\n\u001b[0;32m----> 1\u001b[0;31m \u001b[0;32mwith\u001b[0m \u001b[0mtimer\u001b[0m\u001b[0;34m(\u001b[0m\u001b[0;34m)\u001b[0m \u001b[0;32mas\u001b[0m \u001b[0mx\u001b[0m\u001b[0;34m:\u001b[0m\u001b[0;34m\u001b[0m\u001b[0;34m\u001b[0m\u001b[0m\n\u001b[0m\u001b[1;32m      2\u001b[0m     \u001b[0mprint\u001b[0m\u001b[0;34m(\u001b[0m\u001b[0mx\u001b[0m\u001b[0;34m)\u001b[0m\u001b[0;34m\u001b[0m\u001b[0;34m\u001b[0m\u001b[0m\n",
            "\u001b[0;31mAttributeError\u001b[0m: __enter__"
          ]
        }
      ],
      "source": [
        "with timer() as x:\n",
        "    print(x)"
      ]
    },
    {
      "cell_type": "markdown",
      "metadata": {
        "id": "FJ_XotjOfYL-"
      },
      "source": [
        "A `contextlib` module `contextmanager` függvénye generátorból `contextmanager`-t készít."
      ]
    },
    {
      "cell_type": "code",
      "execution_count": 51,
      "metadata": {
        "id": "PA6hMi-IfYL-",
        "outputId": "00cbda87-3a7a-493d-d8cb-ecf91b499aef",
        "colab": {
          "base_uri": "https://localhost:8080/"
        }
      },
      "outputs": [
        {
          "output_type": "stream",
          "name": "stdout",
          "text": [
            "1\n",
            "run time: 0.000106\n"
          ]
        }
      ],
      "source": [
        "from contextlib import contextmanager\n",
        "timer2 = contextmanager(timer)\n",
        "with timer2() as x:\n",
        "    print(x)"
      ]
    },
    {
      "cell_type": "markdown",
      "metadata": {
        "id": "WR1138uQfYL_"
      },
      "source": [
        "Ha egy függvény akarunk alkalmazni egy függvényre, hogy azt átalakítsuk, de ugyanaz maradjon a neve akkor a python `@` szintakszist használja. Ilyenkor ,,dekoráljuk'' a függvényt. A `contextmanager` egy példa **dekorátor**ra.\n",
        "\n",
        "```python\n",
        "@contextmanager\n",
        "def timer():\n",
        "    try:\n",
        "        start = time.time()\n",
        "        yield\n",
        "\n",
        "    finally:\n",
        "        runtime = time.time() - start\n",
        "        print(f\"run time: {runtime:3f}\")\n",
        "```\n",
        "Példaként írjunk egy olyan contextmanager-t, ami jelzi nekünk, hogy mikor milyen hívás történik."
      ]
    },
    {
      "cell_type": "code",
      "execution_count": 52,
      "metadata": {
        "id": "d-OGrEo5fYL_"
      },
      "outputs": [],
      "source": [
        "@contextmanager\n",
        "def print_whats_going_on(x):\n",
        "    print(\"try blokk előtt\")\n",
        "    try:\n",
        "        print(\"yield előtt\")\n",
        "        yield x\n",
        "        print(\"yield után\")\n",
        "    except:\n",
        "        print(\"except ág\")\n",
        "    finally:\n",
        "        print(\"finally ág\")\n",
        "    print(\"try blokk után\")"
      ]
    },
    {
      "cell_type": "code",
      "execution_count": 53,
      "metadata": {
        "id": "RMUy0-K-fYL_",
        "outputId": "e8159b2c-9df1-49bd-f713-5d1ca33d47bb",
        "colab": {
          "base_uri": "https://localhost:8080/"
        }
      },
      "outputs": [
        {
          "output_type": "stream",
          "name": "stdout",
          "text": [
            "try blokk előtt\n",
            "yield előtt\n",
            "x='hello'\n",
            "yield után\n",
            "finally ág\n",
            "try blokk után\n",
            "with után\n",
            "--------------------------------------------------\n",
            "try blokk előtt\n",
            "yield előtt\n",
            "x='hello'\n",
            "except ág\n",
            "finally ág\n",
            "try blokk után\n",
            "with után\n"
          ]
        }
      ],
      "source": [
        "with print_whats_going_on(\"hello\") as x:\n",
        "    print(f\"{x=}\")\n",
        "print(\"with után\")\n",
        "\n",
        "print(\"-\"*50)\n",
        "\n",
        "with print_whats_going_on(\"hello\") as x:\n",
        "    print(f\"{x=}\")\n",
        "    raise ValueError\n",
        "print(\"with után\")\n"
      ]
    },
    {
      "cell_type": "code",
      "execution_count": 54,
      "metadata": {
        "id": "J3pNSzPEfYMA"
      },
      "outputs": [],
      "source": [
        "@contextmanager\n",
        "def timer():\n",
        "    try:\n",
        "        start = time.time()\n",
        "        yield\n",
        "\n",
        "    finally:\n",
        "        runtime = time.time() - start\n",
        "        print(f\"run time: {runtime:3f}\")"
      ]
    },
    {
      "cell_type": "code",
      "execution_count": 55,
      "metadata": {
        "id": "toUjmt70fYMA",
        "outputId": "c1ffc687-ff9a-43d4-a97e-39050080b601",
        "colab": {
          "base_uri": "https://localhost:8080/"
        }
      },
      "outputs": [
        {
          "output_type": "stream",
          "name": "stdout",
          "text": [
            "run time: 0.500625\n"
          ]
        }
      ],
      "source": [
        "t = timer()\n",
        "with t:\n",
        "    time.sleep(0.5)"
      ]
    },
    {
      "cell_type": "markdown",
      "metadata": {
        "id": "-cNRQEazfYMA"
      },
      "source": [
        "Használhatjuk-e többször a `timer`-ünket?"
      ]
    },
    {
      "cell_type": "code",
      "execution_count": 58,
      "metadata": {
        "id": "M9cDH_dafYMB",
        "outputId": "c8ce318f-7772-4836-927c-ff814bfaad07",
        "colab": {
          "base_uri": "https://localhost:8080/"
        }
      },
      "outputs": [
        {
          "output_type": "stream",
          "name": "stdout",
          "text": [
            "first use of <contextlib._GeneratorContextManager object at 0x799642c2a860>\n",
            "run time: 0.500605\n",
            "second use of <contextlib._GeneratorContextManager object at 0x799642c2a860>\n",
            "run time: 0.500623\n"
          ]
        }
      ],
      "source": [
        "t = timer()\n",
        "print(f\"first use of {t}\")\n",
        "with t:\n",
        "    time.sleep(0.5)\n",
        "print(f\"second use of {t}\")\n",
        "with timer():\n",
        "    time.sleep(0.5)\n"
      ]
    },
    {
      "cell_type": "markdown",
      "metadata": {
        "id": "Lx3zPlScfYMB"
      },
      "source": [
        "## Tudunk-e olyan contextmanagert készíteni, ami többször felhasználható?\n",
        "\n",
        "pl.\n",
        "\n",
        "```\n",
        "with indented:\n",
        "    indented.print(\"első\")\n",
        "    with indented:\n",
        "        indented.print(\"második\")\n",
        "    indented.print(\"harmadik\")\n",
        "```\n",
        "\n",
        "ahol kimenetként azt várnánk, hogy\n",
        "```\n",
        "  első\n",
        "    második\n",
        "  harmadik\n",
        "```"
      ]
    },
    {
      "cell_type": "code",
      "execution_count": 59,
      "metadata": {
        "id": "xA_V3GnyfYMC"
      },
      "outputs": [],
      "source": [
        "class Indent:\n",
        "    def __init__(self, indent='  '):\n",
        "        self.level = 0\n",
        "        self.indent = indent\n",
        "\n",
        "    def __enter__(self):\n",
        "        self.level += 1\n",
        "        return None\n",
        "\n",
        "    def __exit__(self, *args):\n",
        "        self.level -= 1\n",
        "\n",
        "    def print(self, x):\n",
        "        indent = self.indent*self.level\n",
        "        x = str(x)\n",
        "        print('\\n'.join(indent+line for line in x.split('\\n')))\n"
      ]
    },
    {
      "cell_type": "code",
      "execution_count": 61,
      "metadata": {
        "id": "tFdVV5cXfYMC",
        "outputId": "48e89de3-7764-4362-9e5e-395f8865d76f",
        "colab": {
          "base_uri": "https://localhost:8080/"
        }
      },
      "outputs": [
        {
          "output_type": "stream",
          "name": "stdout",
          "text": [
            "..|első\n",
            "..|..|második\n",
            "..|..|..|Többsoros szöveg:\n",
            "..|..|..|Első\n",
            "..|..|..|Második\n",
            "..|..|..|\n",
            "..|harmadik\n"
          ]
        }
      ],
      "source": [
        "indented = Indent('..|')\n",
        "text = \"\"\"Többsoros szöveg:\n",
        "Első\n",
        "Második\n",
        "\"\"\"\n",
        "with indented:\n",
        "    indented.print(\"első\")\n",
        "    with indented:\n",
        "        indented.print(\"második\")\n",
        "        with indented:\n",
        "            indented.print(text)\n",
        "    indented.print(\"harmadik\")"
      ]
    },
    {
      "cell_type": "markdown",
      "metadata": {
        "id": "-dLUTmiRfYMD"
      },
      "source": [
        "## Sudoku tábla `Matplotlib`-bel"
      ]
    },
    {
      "cell_type": "markdown",
      "metadata": {
        "id": "sns3oWR_fYMD"
      },
      "source": [
        "A cél sudoku solver megírása. Ma csak megjelenítéssel és feladványok beolvasásával foglakozunk.\n",
        "\n",
        "Ez egy [project Euler](https://projecteuler.net/problem=96) feladat. A teszt adatok is onnan vannak:\n",
        "\n",
        "https://projecteuler.net/project/resources/p096_sudoku.txt"
      ]
    },
    {
      "cell_type": "code",
      "execution_count": null,
      "metadata": {
        "id": "js6HNIbofYMD"
      },
      "outputs": [],
      "source": [
        "import urllib\n",
        "from IPython.display import display_html\n"
      ]
    },
    {
      "cell_type": "code",
      "execution_count": null,
      "metadata": {
        "id": "3z5_1KE4fYMD"
      },
      "outputs": [],
      "source": [
        "dowload_large = False #or True\n",
        "\n",
        "url50 = \"https://projecteuler.net/project/resources/p096_sudoku.txt\"\n",
        "\n",
        "urllib.request.urlretrieve(url50, \"/tmp/sudoku.txt\")\n",
        "\n",
        "\n",
        "url50000 = \"https://github.com/t-dillon/tdoku/raw/master/data.zip\"\n",
        "\n",
        "if dowload_large:\n",
        "    urllib.request.urlretrieve(url50000, \"/tmp/sudoku-large.zip\")\n",
        "\n"
      ]
    },
    {
      "cell_type": "code",
      "execution_count": null,
      "metadata": {
        "id": "A5l_GJGYfYMD"
      },
      "outputs": [],
      "source": [
        "if dowload_large:\n",
        "    ! unzip -l /tmp/sudoku-large.zip\n",
        "    ! unzip -q /tmp/sudoku-large.zip data/puzzles2_17_clue"
      ]
    },
    {
      "cell_type": "code",
      "execution_count": null,
      "metadata": {
        "id": "0IC03tMUfYMD",
        "outputId": "3773ed33-5987-4269-fc12-d1c5e96aa609"
      },
      "outputs": [
        {
          "data": {
            "text/plain": [
              "[['A0', 'B0', 'C0', 'D0', 'E0', 'F0', 'G0', 'H0', 'I0'],\n",
              " ['A1', 'B1', 'C1', 'D1', 'E1', 'F1', 'G1', 'H1', 'I1'],\n",
              " ['A2', 'B2', 'C2', 'D2', 'E2', 'F2', 'G2', 'H2', 'I2'],\n",
              " ['A3', 'B3', 'C3', 'D3', 'E3', 'F3', 'G3', 'H3', 'I3'],\n",
              " ['A4', 'B4', 'C4', 'D4', 'E4', 'F4', 'G4', 'H4', 'I4'],\n",
              " ['A5', 'B5', 'C5', 'D5', 'E5', 'F5', 'G5', 'H5', 'I5'],\n",
              " ['A6', 'B6', 'C6', 'D6', 'E6', 'F6', 'G6', 'H6', 'I6'],\n",
              " ['A7', 'B7', 'C7', 'D7', 'E7', 'F7', 'G7', 'H7', 'I7'],\n",
              " ['A8', 'B8', 'C8', 'D8', 'E8', 'F8', 'G8', 'H8', 'I8']]"
            ]
          },
          "execution_count": 275,
          "metadata": {},
          "output_type": "execute_result"
        }
      ],
      "source": [
        "grid = [[f\"{col}{row}\" for col in \"ABCDEFGHI\"] for row in range(9)]\n",
        "grid"
      ]
    },
    {
      "cell_type": "code",
      "execution_count": null,
      "metadata": {
        "id": "Apnxh9f3fYME"
      },
      "outputs": [],
      "source": [
        "css=\"\"\"\n",
        "* {\n",
        "  box-sizing: border-box;\n",
        "}\n",
        ".box, .board {\n",
        "  display: flex;\n",
        "  flex-wrap: wrap ;\n",
        "}\n",
        "\n",
        ".box, .box > div {\n",
        "  border: solid 1px ;\n",
        "  width: 33.33%;\n",
        "  text-align: center;\n",
        "}\n",
        "\n",
        ".box > div:before {\n",
        "  display: inline-block;\n",
        "  padding-top: 100%;\n",
        "  content: '';\n",
        "  vertical-align: middle;\n",
        "}\n",
        "\n",
        ".board {\n",
        "  width: 40%;\n",
        "  margin:0px;\n",
        "  font-size: calc(0.8vw + 10px);\n",
        "  border: solid 2px;\n",
        "}\n",
        "\n",
        ".box div {\n",
        "  color:gray;\n",
        "  text-shadow: 1px 1px 1px white;\n",
        "  vertical-align:middle;\n",
        "}\n",
        "\"\"\"\n",
        "\n",
        "def mk_box(content):\n",
        "    inner = \"\".join(f\"<div>{val}</div>\" for val in content)\n",
        "    return f'<div class=\"box\">{inner}</div>'\n",
        "\n",
        "def mk_board(boxes):\n",
        "    inner = \"\".join(mk_box(box) for box in boxes)\n",
        "    return f'<div class=\"board\">{inner}</div>'\n",
        "\n",
        "def html_grid(grid):\n",
        "    boxes = [[0]*9 for _ in range(9)]\n",
        "    for i, line in enumerate(grid):\n",
        "      a, ra = divmod(i, 3)\n",
        "      for j, val in enumerate(line):\n",
        "        b, rb = divmod(j, 3)\n",
        "        boxes[a*3+b][ra*3+rb] = val\n",
        "    return mk_board(boxes)\n"
      ]
    },
    {
      "cell_type": "markdown",
      "metadata": {
        "id": "wJfEE221fYME"
      },
      "source": [
        "Ellenőrzés EXCEL oszlop-sor jelöléssel"
      ]
    },
    {
      "cell_type": "code",
      "execution_count": null,
      "metadata": {
        "id": "hhNXMPQUfYME",
        "outputId": "e22b132e-e5c6-4985-91fa-9ee8795871a3"
      },
      "outputs": [
        {
          "data": {
            "text/html": [
              "<div><style>\n",
              "* {\n",
              "  box-sizing: border-box;\n",
              "}\n",
              ".box, .board {\n",
              "  display: flex;\n",
              "  flex-wrap: wrap ;\n",
              "}\n",
              "\n",
              ".box, .box > div {\n",
              "  border: solid 1px ;\n",
              "  width: 33.33%;\n",
              "  text-align: center;\n",
              "}\n",
              "\n",
              ".box > div:before {\n",
              "  display: inline-block;\n",
              "  padding-top: 100%;\n",
              "  content: '';\n",
              "  vertical-align: middle;\n",
              "}\n",
              "\n",
              ".board {\n",
              "  width: 40%;\n",
              "  margin:0px;\n",
              "  font-size: calc(0.8vw + 10px);\n",
              "  border: solid 2px;\n",
              "}\n",
              "\n",
              ".box div {\n",
              "  color:gray;\n",
              "  text-shadow: 1px 1px 1px white;\n",
              "  vertical-align:middle;\n",
              "}\n",
              "</style>\n",
              "<h3>grid 01</h3><div class=\"board\"><div class=\"box\"><div>A0</div><div>B0</div><div>C0</div><div>A1</div><div>B1</div><div>C1</div><div>A2</div><div>B2</div><div>C2</div></div><div class=\"box\"><div>D0</div><div>E0</div><div>F0</div><div>D1</div><div>E1</div><div>F1</div><div>D2</div><div>E2</div><div>F2</div></div><div class=\"box\"><div>G0</div><div>H0</div><div>I0</div><div>G1</div><div>H1</div><div>I1</div><div>G2</div><div>H2</div><div>I2</div></div><div class=\"box\"><div>A3</div><div>B3</div><div>C3</div><div>A4</div><div>B4</div><div>C4</div><div>A5</div><div>B5</div><div>C5</div></div><div class=\"box\"><div>D3</div><div>E3</div><div>F3</div><div>D4</div><div>E4</div><div>F4</div><div>D5</div><div>E5</div><div>F5</div></div><div class=\"box\"><div>G3</div><div>H3</div><div>I3</div><div>G4</div><div>H4</div><div>I4</div><div>G5</div><div>H5</div><div>I5</div></div><div class=\"box\"><div>A6</div><div>B6</div><div>C6</div><div>A7</div><div>B7</div><div>C7</div><div>A8</div><div>B8</div><div>C8</div></div><div class=\"box\"><div>D6</div><div>E6</div><div>F6</div><div>D7</div><div>E7</div><div>F7</div><div>D8</div><div>E8</div><div>F8</div></div><div class=\"box\"><div>G6</div><div>H6</div><div>I6</div><div>G7</div><div>H7</div><div>I7</div><div>G8</div><div>H8</div><div>I8</div></div></div></div>"
            ]
          },
          "metadata": {},
          "output_type": "display_data"
        }
      ],
      "source": [
        "\n",
        "# grid = [[f'{j}{i}' for j in \"ABCDEFGHI\"] for i in range(9)]\n",
        "html = html_grid(grid)\n",
        "header = \"grid 01\"\n",
        "\n",
        "display_html(f\"<div><style>{css}</style>\\n<h3>{header}</h3>{html}</div>\", raw=True)"
      ]
    },
    {
      "cell_type": "code",
      "execution_count": null,
      "metadata": {
        "id": "fP0XZs5zfYMF"
      },
      "outputs": [],
      "source": [
        "\n",
        "from IPython.core.pylabtools import print_figure\n",
        "\n",
        "\n",
        "def figure_data(grid, title=\"\", format=\"svg\"):\n",
        "    size = len(grid)\n",
        "    fig = plt.figure(\n",
        "        figsize=(4, 4),\n",
        "        layout=\"compressed\",\n",
        "        )\n",
        "\n",
        "    ax = fig.add_subplot(\n",
        "        1, 1, 1,\n",
        "        aspect=\"equal\",\n",
        "        xmargin=0.01,\n",
        "        ymargin=0.01\n",
        "    )\n",
        "\n",
        "    ax.axis(\"off\")\n",
        "    ax.set_title(title, loc=\"left\", fontdict={\"weight\": \"bold\"})\n",
        "\n",
        "    for x, row in enumerate(reversed(grid)):\n",
        "        for y, value in enumerate(row):\n",
        "            ax.text(\n",
        "                y+0.5, x+0.5,\n",
        "                value,\n",
        "                ha='center',\n",
        "                va='center',\n",
        "                fontsize=12,\n",
        "                color=\"gray\"\n",
        "            )\n",
        "\n",
        "    for x in range(size+1):\n",
        "        linewidth = 1\n",
        "        if x % 3 == 0:\n",
        "            linewidth = 2\n",
        "        ax.plot((0, size), (x, x), color=\"black\", linewidth=linewidth)\n",
        "        ax.plot((x, x), (0, size), color=\"black\", linewidth=linewidth)\n",
        "\n",
        "    data = print_figure(fig, format)\n",
        "    plt.close(fig)\n",
        "    return data\n"
      ]
    },
    {
      "cell_type": "code",
      "execution_count": null,
      "metadata": {
        "id": "Ek8XsoPhfYMF"
      },
      "outputs": [],
      "source": [
        "from IPython.display import SVG, Image"
      ]
    },
    {
      "cell_type": "code",
      "execution_count": null,
      "metadata": {
        "id": "1Xz7393hfYMF",
        "outputId": "53033883-befa-4c0d-a160-b3cd5e1184ba"
      },
      "outputs": [
        {
          "data": {
            "image/png": "[encoded data removed]",
            "text/plain": [
              "<IPython.core.display.Image object>"
            ]
          },
          "metadata": {},
          "output_type": "display_data"
        },
        {
          "data": {
            "image/svg+xml": [
              "<svg xmlns:xlink=\"http://www.w3.org/1999/xlink\" xmlns=\"http://www.w3.org/2000/svg\" width=\"281.281395pt\" height=\"296.39952pt\" viewBox=\"0 0 281.281395 296.39952\" version=\"1.1\">\n",
              " <metadata>\n",
              "  <rdf:RDF xmlns:dc=\"http://purl.org/dc/elements/1.1/\" xmlns:cc=\"http://creativecommons.org/ns#\" xmlns:rdf=\"http://www.w3.org/1999/02/22-rdf-syntax-ns#\">\n",
              "   <cc:Work>\n",
              "    <dc:type rdf:resource=\"http://purl.org/dc/dcmitype/StillImage\"/>\n",
              "    <dc:date>2023-11-26T11:37:41.735269</dc:date>\n",
              "    <dc:format>image/svg+xml</dc:format>\n",
              "    <dc:creator>\n",
              "     <cc:Agent>\n",
              "      <dc:title>Matplotlib v3.7.2, https://matplotlib.org/</dc:title>\n",
              "     </cc:Agent>\n",
              "    </dc:creator>\n",
              "   </cc:Work>\n",
              "  </rdf:RDF>\n",
              " </metadata>\n",
              " <defs>\n",
              "  <style type=\"text/css\">*{stroke-linejoin: round; stroke-linecap: butt}</style>\n",
              " </defs>\n",
              " <g id=\"figure_1\">\n",
              "  <g id=\"patch_1\">\n",
              "   <path d=\"M 0 296.39952  L 281.281395 296.39952  L 281.281395 0  L 0 0  z \" style=\"fill: #ffffff\"/>\n",
              "  </g>\n",
              "  <g id=\"axes_1\">\n",
              "   <g id=\"line2d_1\">\n",
              "    <path d=\"M 9.816484 286.583036  L 271.464911 286.583036  \" clip-path=\"url(#p502db8754a)\" style=\"fill: none; stroke: #000000; stroke-width: 2; stroke-linecap: square\"/>\n",
              "   </g>\n",
              "   <g id=\"line2d_2\">\n",
              "    <path d=\"M 9.816484 286.583036  L 9.816484 24.934609  \" clip-path=\"url(#p502db8754a)\" style=\"fill: none; stroke: #000000; stroke-width: 2; stroke-linecap: square\"/>\n",
              "   </g>\n",
              "   <g id=\"line2d_3\">\n",
              "    <path d=\"M 9.816484 257.510988  L 271.464911 257.510988  \" clip-path=\"url(#p502db8754a)\" style=\"fill: none; stroke: #000000; stroke-linecap: square\"/>\n",
              "   </g>\n",
              "   <g id=\"line2d_4\">\n",
              "    <path d=\"M 38.888532 286.583036  L 38.888532 24.934609  \" clip-path=\"url(#p502db8754a)\" style=\"fill: none; stroke: #000000; stroke-linecap: square\"/>\n",
              "   </g>\n",
              "   <g id=\"line2d_5\">\n",
              "    <path d=\"M 9.816484 228.438941  L 271.464911 228.438941  \" clip-path=\"url(#p502db8754a)\" style=\"fill: none; stroke: #000000; stroke-linecap: square\"/>\n",
              "   </g>\n",
              "   <g id=\"line2d_6\">\n",
              "    <path d=\"M 67.960579 286.583036  L 67.960579 24.934609  \" clip-path=\"url(#p502db8754a)\" style=\"fill: none; stroke: #000000; stroke-linecap: square\"/>\n",
              "   </g>\n",
              "   <g id=\"line2d_7\">\n",
              "    <path d=\"M 9.816484 199.366894  L 271.464911 199.366894  \" clip-path=\"url(#p502db8754a)\" style=\"fill: none; stroke: #000000; stroke-width: 2; stroke-linecap: square\"/>\n",
              "   </g>\n",
              "   <g id=\"line2d_8\">\n",
              "    <path d=\"M 97.032626 286.583036  L 97.032626 24.934609  \" clip-path=\"url(#p502db8754a)\" style=\"fill: none; stroke: #000000; stroke-width: 2; stroke-linecap: square\"/>\n",
              "   </g>\n",
              "   <g id=\"line2d_9\">\n",
              "    <path d=\"M 9.816484 170.294846  L 271.464911 170.294846  \" clip-path=\"url(#p502db8754a)\" style=\"fill: none; stroke: #000000; stroke-linecap: square\"/>\n",
              "   </g>\n",
              "   <g id=\"line2d_10\">\n",
              "    <path d=\"M 126.104674 286.583036  L 126.104674 24.934609  \" clip-path=\"url(#p502db8754a)\" style=\"fill: none; stroke: #000000; stroke-linecap: square\"/>\n",
              "   </g>\n",
              "   <g id=\"line2d_11\">\n",
              "    <path d=\"M 9.816484 141.222799  L 271.464911 141.222799  \" clip-path=\"url(#p502db8754a)\" style=\"fill: none; stroke: #000000; stroke-linecap: square\"/>\n",
              "   </g>\n",
              "   <g id=\"line2d_12\">\n",
              "    <path d=\"M 155.176721 286.583036  L 155.176721 24.934609  \" clip-path=\"url(#p502db8754a)\" style=\"fill: none; stroke: #000000; stroke-linecap: square\"/>\n",
              "   </g>\n",
              "   <g id=\"line2d_13\">\n",
              "    <path d=\"M 9.816484 112.150751  L 271.464911 112.150751  \" clip-path=\"url(#p502db8754a)\" style=\"fill: none; stroke: #000000; stroke-width: 2; stroke-linecap: square\"/>\n",
              "   </g>\n",
              "   <g id=\"line2d_14\">\n",
              "    <path d=\"M 184.248769 286.583036  L 184.248769 24.934609  \" clip-path=\"url(#p502db8754a)\" style=\"fill: none; stroke: #000000; stroke-width: 2; stroke-linecap: square\"/>\n",
              "   </g>\n",
              "   <g id=\"line2d_15\">\n",
              "    <path d=\"M 9.816484 83.078704  L 271.464911 83.078704  \" clip-path=\"url(#p502db8754a)\" style=\"fill: none; stroke: #000000; stroke-linecap: square\"/>\n",
              "   </g>\n",
              "   <g id=\"line2d_16\">\n",
              "    <path d=\"M 213.320816 286.583036  L 213.320816 24.934609  \" clip-path=\"url(#p502db8754a)\" style=\"fill: none; stroke: #000000; stroke-linecap: square\"/>\n",
              "   </g>\n",
              "   <g id=\"line2d_17\">\n",
              "    <path d=\"M 9.816484 54.006657  L 271.464911 54.006657  \" clip-path=\"url(#p502db8754a)\" style=\"fill: none; stroke: #000000; stroke-linecap: square\"/>\n",
              "   </g>\n",
              "   <g id=\"line2d_18\">\n",
              "    <path d=\"M 242.392863 286.583036  L 242.392863 24.934609  \" clip-path=\"url(#p502db8754a)\" style=\"fill: none; stroke: #000000; stroke-linecap: square\"/>\n",
              "   </g>\n",
              "   <g id=\"line2d_19\">\n",
              "    <path d=\"M 9.816484 24.934609  L 271.464911 24.934609  \" clip-path=\"url(#p502db8754a)\" style=\"fill: none; stroke: #000000; stroke-width: 2; stroke-linecap: square\"/>\n",
              "   </g>\n",
              "   <g id=\"line2d_20\">\n",
              "    <path d=\"M 271.464911 286.583036  L 271.464911 24.934609  \" clip-path=\"url(#p502db8754a)\" style=\"fill: none; stroke: #000000; stroke-width: 2; stroke-linecap: square\"/>\n",
              "   </g>\n",
              "   <g id=\"text_1\">\n",
              "    <!-- A8 -->\n",
              "    <g style=\"fill: #808080\" transform=\"translate(16.430633 275.358262) scale(0.12 -0.12)\">\n",
              "     <defs>\n",
              "      <path id=\"DejaVuSans-41\" d=\"M 2188 4044  L 1331 1722  L 3047 1722  L 2188 4044  z M 1831 4666  L 2547 4666  L 4325 0  L 3669 0  L 3244 1197  L 1141 1197  L 716 0  L 50 0  L 1831 4666  z \" transform=\"scale(0.015625)\"/>\n",
              "      <path id=\"DejaVuSans-38\" d=\"M 2034 2216  Q 1584 2216 1326 1975  Q 1069 1734 1069 1313  Q 1069 891 1326 650  Q 1584 409 2034 409  Q 2484 409 2743 651  Q 3003 894 3003 1313  Q 3003 1734 2745 1975  Q 2488 2216 2034 2216  z M 1403 2484  Q 997 2584 770 2862  Q 544 3141 544 3541  Q 544 4100 942 4425  Q 1341 4750 2034 4750  Q 2731 4750 3128 4425  Q 3525 4100 3525 3541  Q 3525 3141 3298 2862  Q 3072 2584 2669 2484  Q 3125 2378 3379 2068  Q 3634 1759 3634 1313  Q 3634 634 3220 271  Q 2806 -91 2034 -91  Q 1263 -91 848 271  Q 434 634 434 1313  Q 434 1759 690 2068  Q 947 2378 1403 2484  z M 1172 3481  Q 1172 3119 1398 2916  Q 1625 2713 2034 2713  Q 2441 2713 2670 2916  Q 2900 3119 2900 3481  Q 2900 3844 2670 4047  Q 2441 4250 2034 4250  Q 1625 4250 1398 4047  Q 1172 3844 1172 3481  z \" transform=\"scale(0.015625)\"/>\n",
              "     </defs>\n",
              "     <use xlink:href=\"#DejaVuSans-41\"/>\n",
              "     <use xlink:href=\"#DejaVuSans-38\" x=\"68.408203\"/>\n",
              "    </g>\n",
              "   </g>\n",
              "   <g id=\"text_2\">\n",
              "    <!-- B8 -->\n",
              "    <g style=\"fill: #808080\" transform=\"translate(45.490493 275.358262) scale(0.12 -0.12)\">\n",
              "     <defs>\n",
              "      <path id=\"DejaVuSans-42\" d=\"M 1259 2228  L 1259 519  L 2272 519  Q 2781 519 3026 730  Q 3272 941 3272 1375  Q 3272 1813 3026 2020  Q 2781 2228 2272 2228  L 1259 2228  z M 1259 4147  L 1259 2741  L 2194 2741  Q 2656 2741 2882 2914  Q 3109 3088 3109 3444  Q 3109 3797 2882 3972  Q 2656 4147 2194 4147  L 1259 4147  z M 628 4666  L 2241 4666  Q 2963 4666 3353 4366  Q 3744 4066 3744 3513  Q 3744 3084 3544 2831  Q 3344 2578 2956 2516  Q 3422 2416 3680 2098  Q 3938 1781 3938 1306  Q 3938 681 3513 340  Q 3088 0 2303 0  L 628 0  L 628 4666  z \" transform=\"scale(0.015625)\"/>\n",
              "     </defs>\n",
              "     <use xlink:href=\"#DejaVuSans-42\"/>\n",
              "     <use xlink:href=\"#DejaVuSans-38\" x=\"68.603516\"/>\n",
              "    </g>\n",
              "   </g>\n",
              "   <g id=\"text_3\">\n",
              "    <!-- C8 -->\n",
              "    <g style=\"fill: #808080\" transform=\"translate(74.489415 275.358262) scale(0.12 -0.12)\">\n",
              "     <defs>\n",
              "      <path id=\"DejaVuSans-43\" d=\"M 4122 4306  L 4122 3641  Q 3803 3938 3442 4084  Q 3081 4231 2675 4231  Q 1875 4231 1450 3742  Q 1025 3253 1025 2328  Q 1025 1406 1450 917  Q 1875 428 2675 428  Q 3081 428 3442 575  Q 3803 722 4122 1019  L 4122 359  Q 3791 134 3420 21  Q 3050 -91 2638 -91  Q 1578 -91 968 557  Q 359 1206 359 2328  Q 359 3453 968 4101  Q 1578 4750 2638 4750  Q 3056 4750 3426 4639  Q 3797 4528 4122 4306  z \" transform=\"scale(0.015625)\"/>\n",
              "     </defs>\n",
              "     <use xlink:href=\"#DejaVuSans-43\"/>\n",
              "     <use xlink:href=\"#DejaVuSans-38\" x=\"69.824219\"/>\n",
              "    </g>\n",
              "   </g>\n",
              "   <g id=\"text_4\">\n",
              "    <!-- D8 -->\n",
              "    <g style=\"fill: #808080\" transform=\"translate(103.13115 275.358262) scale(0.12 -0.12)\">\n",
              "     <defs>\n",
              "      <path id=\"DejaVuSans-44\" d=\"M 1259 4147  L 1259 519  L 2022 519  Q 2988 519 3436 956  Q 3884 1394 3884 2338  Q 3884 3275 3436 3711  Q 2988 4147 2022 4147  L 1259 4147  z M 628 4666  L 1925 4666  Q 3281 4666 3915 4102  Q 4550 3538 4550 2338  Q 4550 1131 3912 565  Q 3275 0 1925 0  L 628 0  L 628 4666  z \" transform=\"scale(0.015625)\"/>\n",
              "     </defs>\n",
              "     <use xlink:href=\"#DejaVuSans-44\"/>\n",
              "     <use xlink:href=\"#DejaVuSans-38\" x=\"77.001953\"/>\n",
              "    </g>\n",
              "   </g>\n",
              "   <g id=\"text_5\">\n",
              "    <!-- E8 -->\n",
              "    <g style=\"fill: #808080\" transform=\"translate(133.031948 275.358262) scale(0.12 -0.12)\">\n",
              "     <defs>\n",
              "      <path id=\"DejaVuSans-45\" d=\"M 628 4666  L 3578 4666  L 3578 4134  L 1259 4134  L 1259 2753  L 3481 2753  L 3481 2222  L 1259 2222  L 1259 531  L 3634 531  L 3634 0  L 628 0  L 628 4666  z \" transform=\"scale(0.015625)\"/>\n",
              "     </defs>\n",
              "     <use xlink:href=\"#DejaVuSans-45\"/>\n",
              "     <use xlink:href=\"#DejaVuSans-38\" x=\"63.183594\"/>\n",
              "    </g>\n",
              "   </g>\n",
              "   <g id=\"text_6\">\n",
              "    <!-- F8 -->\n",
              "    <g style=\"fill: #808080\" transform=\"translate(162.444307 275.358262) scale(0.12 -0.12)\">\n",
              "     <defs>\n",
              "      <path id=\"DejaVuSans-46\" d=\"M 628 4666  L 3309 4666  L 3309 4134  L 1259 4134  L 1259 2759  L 3109 2759  L 3109 2228  L 1259 2228  L 1259 0  L 628 0  L 628 4666  z \" transform=\"scale(0.015625)\"/>\n",
              "     </defs>\n",
              "     <use xlink:href=\"#DejaVuSans-46\"/>\n",
              "     <use xlink:href=\"#DejaVuSans-38\" x=\"57.519531\"/>\n",
              "    </g>\n",
              "   </g>\n",
              "   <g id=\"text_7\">\n",
              "    <!-- G8 -->\n",
              "    <g style=\"fill: #808080\" transform=\"translate(190.31823 275.358262) scale(0.12 -0.12)\">\n",
              "     <defs>\n",
              "      <path id=\"DejaVuSans-47\" d=\"M 3809 666  L 3809 1919  L 2778 1919  L 2778 2438  L 4434 2438  L 4434 434  Q 4069 175 3628 42  Q 3188 -91 2688 -91  Q 1594 -91 976 548  Q 359 1188 359 2328  Q 359 3472 976 4111  Q 1594 4750 2688 4750  Q 3144 4750 3555 4637  Q 3966 4525 4313 4306  L 4313 3634  Q 3963 3931 3569 4081  Q 3175 4231 2741 4231  Q 1884 4231 1454 3753  Q 1025 3275 1025 2328  Q 1025 1384 1454 906  Q 1884 428 2741 428  Q 3075 428 3337 486  Q 3600 544 3809 666  z \" transform=\"scale(0.015625)\"/>\n",
              "     </defs>\n",
              "     <use xlink:href=\"#DejaVuSans-47\"/>\n",
              "     <use xlink:href=\"#DejaVuSans-38\" x=\"77.490234\"/>\n",
              "    </g>\n",
              "   </g>\n",
              "   <g id=\"text_8\">\n",
              "    <!-- H8 -->\n",
              "    <g style=\"fill: #808080\" transform=\"translate(219.527152 275.358262) scale(0.12 -0.12)\">\n",
              "     <defs>\n",
              "      <path id=\"DejaVuSans-48\" d=\"M 628 4666  L 1259 4666  L 1259 2753  L 3553 2753  L 3553 4666  L 4184 4666  L 4184 0  L 3553 0  L 3553 2222  L 1259 2222  L 1259 0  L 628 0  L 628 4666  z \" transform=\"scale(0.015625)\"/>\n",
              "     </defs>\n",
              "     <use xlink:href=\"#DejaVuSans-48\"/>\n",
              "     <use xlink:href=\"#DejaVuSans-38\" x=\"75.195312\"/>\n",
              "    </g>\n",
              "   </g>\n",
              "   <g id=\"text_9\">\n",
              "    <!-- I8 -->\n",
              "    <g style=\"fill: #808080\" transform=\"translate(251.341387 275.358262) scale(0.12 -0.12)\">\n",
              "     <defs>\n",
              "      <path id=\"DejaVuSans-49\" d=\"M 628 4666  L 1259 4666  L 1259 0  L 628 0  L 628 4666  z \" transform=\"scale(0.015625)\"/>\n",
              "     </defs>\n",
              "     <use xlink:href=\"#DejaVuSans-49\"/>\n",
              "     <use xlink:href=\"#DejaVuSans-38\" x=\"29.492188\"/>\n",
              "    </g>\n",
              "   </g>\n",
              "   <g id=\"text_10\">\n",
              "    <!-- A7 -->\n",
              "    <g style=\"fill: #808080\" transform=\"translate(16.430633 246.286215) scale(0.12 -0.12)\">\n",
              "     <defs>\n",
              "      <path id=\"DejaVuSans-37\" d=\"M 525 4666  L 3525 4666  L 3525 4397  L 1831 0  L 1172 0  L 2766 4134  L 525 4134  L 525 4666  z \" transform=\"scale(0.015625)\"/>\n",
              "     </defs>\n",
              "     <use xlink:href=\"#DejaVuSans-41\"/>\n",
              "     <use xlink:href=\"#DejaVuSans-37\" x=\"68.408203\"/>\n",
              "    </g>\n",
              "   </g>\n",
              "   <g id=\"text_11\">\n",
              "    <!-- B7 -->\n",
              "    <g style=\"fill: #808080\" transform=\"translate(45.490493 246.286215) scale(0.12 -0.12)\">\n",
              "     <use xlink:href=\"#DejaVuSans-42\"/>\n",
              "     <use xlink:href=\"#DejaVuSans-37\" x=\"68.603516\"/>\n",
              "    </g>\n",
              "   </g>\n",
              "   <g id=\"text_12\">\n",
              "    <!-- C7 -->\n",
              "    <g style=\"fill: #808080\" transform=\"translate(74.489415 246.286215) scale(0.12 -0.12)\">\n",
              "     <use xlink:href=\"#DejaVuSans-43\"/>\n",
              "     <use xlink:href=\"#DejaVuSans-37\" x=\"69.824219\"/>\n",
              "    </g>\n",
              "   </g>\n",
              "   <g id=\"text_13\">\n",
              "    <!-- D7 -->\n",
              "    <g style=\"fill: #808080\" transform=\"translate(103.13115 246.286215) scale(0.12 -0.12)\">\n",
              "     <use xlink:href=\"#DejaVuSans-44\"/>\n",
              "     <use xlink:href=\"#DejaVuSans-37\" x=\"77.001953\"/>\n",
              "    </g>\n",
              "   </g>\n",
              "   <g id=\"text_14\">\n",
              "    <!-- E7 -->\n",
              "    <g style=\"fill: #808080\" transform=\"translate(133.031948 246.286215) scale(0.12 -0.12)\">\n",
              "     <use xlink:href=\"#DejaVuSans-45\"/>\n",
              "     <use xlink:href=\"#DejaVuSans-37\" x=\"63.183594\"/>\n",
              "    </g>\n",
              "   </g>\n",
              "   <g id=\"text_15\">\n",
              "    <!-- F7 -->\n",
              "    <g style=\"fill: #808080\" transform=\"translate(162.444307 246.286215) scale(0.12 -0.12)\">\n",
              "     <use xlink:href=\"#DejaVuSans-46\"/>\n",
              "     <use xlink:href=\"#DejaVuSans-37\" x=\"57.519531\"/>\n",
              "    </g>\n",
              "   </g>\n",
              "   <g id=\"text_16\">\n",
              "    <!-- G7 -->\n",
              "    <g style=\"fill: #808080\" transform=\"translate(190.31823 246.286215) scale(0.12 -0.12)\">\n",
              "     <use xlink:href=\"#DejaVuSans-47\"/>\n",
              "     <use xlink:href=\"#DejaVuSans-37\" x=\"77.490234\"/>\n",
              "    </g>\n",
              "   </g>\n",
              "   <g id=\"text_17\">\n",
              "    <!-- H7 -->\n",
              "    <g style=\"fill: #808080\" transform=\"translate(219.527152 246.286215) scale(0.12 -0.12)\">\n",
              "     <use xlink:href=\"#DejaVuSans-48\"/>\n",
              "     <use xlink:href=\"#DejaVuSans-37\" x=\"75.195312\"/>\n",
              "    </g>\n",
              "   </g>\n",
              "   <g id=\"text_18\">\n",
              "    <!-- I7 -->\n",
              "    <g style=\"fill: #808080\" transform=\"translate(251.341387 246.286215) scale(0.12 -0.12)\">\n",
              "     <use xlink:href=\"#DejaVuSans-49\"/>\n",
              "     <use xlink:href=\"#DejaVuSans-37\" x=\"29.492188\"/>\n",
              "    </g>\n",
              "   </g>\n",
              "   <g id=\"text_19\">\n",
              "    <!-- A6 -->\n",
              "    <g style=\"fill: #808080\" transform=\"translate(16.430633 217.214167) scale(0.12 -0.12)\">\n",
              "     <defs>\n",
              "      <path id=\"DejaVuSans-36\" d=\"M 2113 2584  Q 1688 2584 1439 2293  Q 1191 2003 1191 1497  Q 1191 994 1439 701  Q 1688 409 2113 409  Q 2538 409 2786 701  Q 3034 994 3034 1497  Q 3034 2003 2786 2293  Q 2538 2584 2113 2584  z M 3366 4563  L 3366 3988  Q 3128 4100 2886 4159  Q 2644 4219 2406 4219  Q 1781 4219 1451 3797  Q 1122 3375 1075 2522  Q 1259 2794 1537 2939  Q 1816 3084 2150 3084  Q 2853 3084 3261 2657  Q 3669 2231 3669 1497  Q 3669 778 3244 343  Q 2819 -91 2113 -91  Q 1303 -91 875 529  Q 447 1150 447 2328  Q 447 3434 972 4092  Q 1497 4750 2381 4750  Q 2619 4750 2861 4703  Q 3103 4656 3366 4563  z \" transform=\"scale(0.015625)\"/>\n",
              "     </defs>\n",
              "     <use xlink:href=\"#DejaVuSans-41\"/>\n",
              "     <use xlink:href=\"#DejaVuSans-36\" x=\"68.408203\"/>\n",
              "    </g>\n",
              "   </g>\n",
              "   <g id=\"text_20\">\n",
              "    <!-- B6 -->\n",
              "    <g style=\"fill: #808080\" transform=\"translate(45.490493 217.214167) scale(0.12 -0.12)\">\n",
              "     <use xlink:href=\"#DejaVuSans-42\"/>\n",
              "     <use xlink:href=\"#DejaVuSans-36\" x=\"68.603516\"/>\n",
              "    </g>\n",
              "   </g>\n",
              "   <g id=\"text_21\">\n",
              "    <!-- C6 -->\n",
              "    <g style=\"fill: #808080\" transform=\"translate(74.489415 217.214167) scale(0.12 -0.12)\">\n",
              "     <use xlink:href=\"#DejaVuSans-43\"/>\n",
              "     <use xlink:href=\"#DejaVuSans-36\" x=\"69.824219\"/>\n",
              "    </g>\n",
              "   </g>\n",
              "   <g id=\"text_22\">\n",
              "    <!-- D6 -->\n",
              "    <g style=\"fill: #808080\" transform=\"translate(103.13115 217.214167) scale(0.12 -0.12)\">\n",
              "     <use xlink:href=\"#DejaVuSans-44\"/>\n",
              "     <use xlink:href=\"#DejaVuSans-36\" x=\"77.001953\"/>\n",
              "    </g>\n",
              "   </g>\n",
              "   <g id=\"text_23\">\n",
              "    <!-- E6 -->\n",
              "    <g style=\"fill: #808080\" transform=\"translate(133.031948 217.214167) scale(0.12 -0.12)\">\n",
              "     <use xlink:href=\"#DejaVuSans-45\"/>\n",
              "     <use xlink:href=\"#DejaVuSans-36\" x=\"63.183594\"/>\n",
              "    </g>\n",
              "   </g>\n",
              "   <g id=\"text_24\">\n",
              "    <!-- F6 -->\n",
              "    <g style=\"fill: #808080\" transform=\"translate(162.444307 217.214167) scale(0.12 -0.12)\">\n",
              "     <use xlink:href=\"#DejaVuSans-46\"/>\n",
              "     <use xlink:href=\"#DejaVuSans-36\" x=\"57.519531\"/>\n",
              "    </g>\n",
              "   </g>\n",
              "   <g id=\"text_25\">\n",
              "    <!-- G6 -->\n",
              "    <g style=\"fill: #808080\" transform=\"translate(190.31823 217.214167) scale(0.12 -0.12)\">\n",
              "     <use xlink:href=\"#DejaVuSans-47\"/>\n",
              "     <use xlink:href=\"#DejaVuSans-36\" x=\"77.490234\"/>\n",
              "    </g>\n",
              "   </g>\n",
              "   <g id=\"text_26\">\n",
              "    <!-- H6 -->\n",
              "    <g style=\"fill: #808080\" transform=\"translate(219.527152 217.214167) scale(0.12 -0.12)\">\n",
              "     <use xlink:href=\"#DejaVuSans-48\"/>\n",
              "     <use xlink:href=\"#DejaVuSans-36\" x=\"75.195312\"/>\n",
              "    </g>\n",
              "   </g>\n",
              "   <g id=\"text_27\">\n",
              "    <!-- I6 -->\n",
              "    <g style=\"fill: #808080\" transform=\"translate(251.341387 217.214167) scale(0.12 -0.12)\">\n",
              "     <use xlink:href=\"#DejaVuSans-49\"/>\n",
              "     <use xlink:href=\"#DejaVuSans-36\" x=\"29.492188\"/>\n",
              "    </g>\n",
              "   </g>\n",
              "   <g id=\"text_28\">\n",
              "    <!-- A5 -->\n",
              "    <g style=\"fill: #808080\" transform=\"translate(16.430633 188.14212) scale(0.12 -0.12)\">\n",
              "     <defs>\n",
              "      <path id=\"DejaVuSans-35\" d=\"M 691 4666  L 3169 4666  L 3169 4134  L 1269 4134  L 1269 2991  Q 1406 3038 1543 3061  Q 1681 3084 1819 3084  Q 2600 3084 3056 2656  Q 3513 2228 3513 1497  Q 3513 744 3044 326  Q 2575 -91 1722 -91  Q 1428 -91 1123 -41  Q 819 9 494 109  L 494 744  Q 775 591 1075 516  Q 1375 441 1709 441  Q 2250 441 2565 725  Q 2881 1009 2881 1497  Q 2881 1984 2565 2268  Q 2250 2553 1709 2553  Q 1456 2553 1204 2497  Q 953 2441 691 2322  L 691 4666  z \" transform=\"scale(0.015625)\"/>\n",
              "     </defs>\n",
              "     <use xlink:href=\"#DejaVuSans-41\"/>\n",
              "     <use xlink:href=\"#DejaVuSans-35\" x=\"68.408203\"/>\n",
              "    </g>\n",
              "   </g>\n",
              "   <g id=\"text_29\">\n",
              "    <!-- B5 -->\n",
              "    <g style=\"fill: #808080\" transform=\"translate(45.490493 188.14212) scale(0.12 -0.12)\">\n",
              "     <use xlink:href=\"#DejaVuSans-42\"/>\n",
              "     <use xlink:href=\"#DejaVuSans-35\" x=\"68.603516\"/>\n",
              "    </g>\n",
              "   </g>\n",
              "   <g id=\"text_30\">\n",
              "    <!-- C5 -->\n",
              "    <g style=\"fill: #808080\" transform=\"translate(74.489415 188.14212) scale(0.12 -0.12)\">\n",
              "     <use xlink:href=\"#DejaVuSans-43\"/>\n",
              "     <use xlink:href=\"#DejaVuSans-35\" x=\"69.824219\"/>\n",
              "    </g>\n",
              "   </g>\n",
              "   <g id=\"text_31\">\n",
              "    <!-- D5 -->\n",
              "    <g style=\"fill: #808080\" transform=\"translate(103.13115 188.14212) scale(0.12 -0.12)\">\n",
              "     <use xlink:href=\"#DejaVuSans-44\"/>\n",
              "     <use xlink:href=\"#DejaVuSans-35\" x=\"77.001953\"/>\n",
              "    </g>\n",
              "   </g>\n",
              "   <g id=\"text_32\">\n",
              "    <!-- E5 -->\n",
              "    <g style=\"fill: #808080\" transform=\"translate(133.031948 188.14212) scale(0.12 -0.12)\">\n",
              "     <use xlink:href=\"#DejaVuSans-45\"/>\n",
              "     <use xlink:href=\"#DejaVuSans-35\" x=\"63.183594\"/>\n",
              "    </g>\n",
              "   </g>\n",
              "   <g id=\"text_33\">\n",
              "    <!-- F5 -->\n",
              "    <g style=\"fill: #808080\" transform=\"translate(162.444307 188.14212) scale(0.12 -0.12)\">\n",
              "     <use xlink:href=\"#DejaVuSans-46\"/>\n",
              "     <use xlink:href=\"#DejaVuSans-35\" x=\"57.519531\"/>\n",
              "    </g>\n",
              "   </g>\n",
              "   <g id=\"text_34\">\n",
              "    <!-- G5 -->\n",
              "    <g style=\"fill: #808080\" transform=\"translate(190.31823 188.14212) scale(0.12 -0.12)\">\n",
              "     <use xlink:href=\"#DejaVuSans-47\"/>\n",
              "     <use xlink:href=\"#DejaVuSans-35\" x=\"77.490234\"/>\n",
              "    </g>\n",
              "   </g>\n",
              "   <g id=\"text_35\">\n",
              "    <!-- H5 -->\n",
              "    <g style=\"fill: #808080\" transform=\"translate(219.527152 188.14212) scale(0.12 -0.12)\">\n",
              "     <use xlink:href=\"#DejaVuSans-48\"/>\n",
              "     <use xlink:href=\"#DejaVuSans-35\" x=\"75.195312\"/>\n",
              "    </g>\n",
              "   </g>\n",
              "   <g id=\"text_36\">\n",
              "    <!-- I5 -->\n",
              "    <g style=\"fill: #808080\" transform=\"translate(251.341387 188.14212) scale(0.12 -0.12)\">\n",
              "     <use xlink:href=\"#DejaVuSans-49\"/>\n",
              "     <use xlink:href=\"#DejaVuSans-35\" x=\"29.492188\"/>\n",
              "    </g>\n",
              "   </g>\n",
              "   <g id=\"text_37\">\n",
              "    <!-- A4 -->\n",
              "    <g style=\"fill: #808080\" transform=\"translate(16.430633 159.070072) scale(0.12 -0.12)\">\n",
              "     <defs>\n",
              "      <path id=\"DejaVuSans-34\" d=\"M 2419 4116  L 825 1625  L 2419 1625  L 2419 4116  z M 2253 4666  L 3047 4666  L 3047 1625  L 3713 1625  L 3713 1100  L 3047 1100  L 3047 0  L 2419 0  L 2419 1100  L 313 1100  L 313 1709  L 2253 4666  z \" transform=\"scale(0.015625)\"/>\n",
              "     </defs>\n",
              "     <use xlink:href=\"#DejaVuSans-41\"/>\n",
              "     <use xlink:href=\"#DejaVuSans-34\" x=\"68.408203\"/>\n",
              "    </g>\n",
              "   </g>\n",
              "   <g id=\"text_38\">\n",
              "    <!-- B4 -->\n",
              "    <g style=\"fill: #808080\" transform=\"translate(45.490493 159.070072) scale(0.12 -0.12)\">\n",
              "     <use xlink:href=\"#DejaVuSans-42\"/>\n",
              "     <use xlink:href=\"#DejaVuSans-34\" x=\"68.603516\"/>\n",
              "    </g>\n",
              "   </g>\n",
              "   <g id=\"text_39\">\n",
              "    <!-- C4 -->\n",
              "    <g style=\"fill: #808080\" transform=\"translate(74.489415 159.070072) scale(0.12 -0.12)\">\n",
              "     <use xlink:href=\"#DejaVuSans-43\"/>\n",
              "     <use xlink:href=\"#DejaVuSans-34\" x=\"69.824219\"/>\n",
              "    </g>\n",
              "   </g>\n",
              "   <g id=\"text_40\">\n",
              "    <!-- D4 -->\n",
              "    <g style=\"fill: #808080\" transform=\"translate(103.13115 159.070072) scale(0.12 -0.12)\">\n",
              "     <use xlink:href=\"#DejaVuSans-44\"/>\n",
              "     <use xlink:href=\"#DejaVuSans-34\" x=\"77.001953\"/>\n",
              "    </g>\n",
              "   </g>\n",
              "   <g id=\"text_41\">\n",
              "    <!-- E4 -->\n",
              "    <g style=\"fill: #808080\" transform=\"translate(133.031948 159.070072) scale(0.12 -0.12)\">\n",
              "     <use xlink:href=\"#DejaVuSans-45\"/>\n",
              "     <use xlink:href=\"#DejaVuSans-34\" x=\"63.183594\"/>\n",
              "    </g>\n",
              "   </g>\n",
              "   <g id=\"text_42\">\n",
              "    <!-- F4 -->\n",
              "    <g style=\"fill: #808080\" transform=\"translate(162.444307 159.070072) scale(0.12 -0.12)\">\n",
              "     <use xlink:href=\"#DejaVuSans-46\"/>\n",
              "     <use xlink:href=\"#DejaVuSans-34\" x=\"57.519531\"/>\n",
              "    </g>\n",
              "   </g>\n",
              "   <g id=\"text_43\">\n",
              "    <!-- G4 -->\n",
              "    <g style=\"fill: #808080\" transform=\"translate(190.31823 159.070072) scale(0.12 -0.12)\">\n",
              "     <use xlink:href=\"#DejaVuSans-47\"/>\n",
              "     <use xlink:href=\"#DejaVuSans-34\" x=\"77.490234\"/>\n",
              "    </g>\n",
              "   </g>\n",
              "   <g id=\"text_44\">\n",
              "    <!-- H4 -->\n",
              "    <g style=\"fill: #808080\" transform=\"translate(219.527152 159.070072) scale(0.12 -0.12)\">\n",
              "     <use xlink:href=\"#DejaVuSans-48\"/>\n",
              "     <use xlink:href=\"#DejaVuSans-34\" x=\"75.195312\"/>\n",
              "    </g>\n",
              "   </g>\n",
              "   <g id=\"text_45\">\n",
              "    <!-- I4 -->\n",
              "    <g style=\"fill: #808080\" transform=\"translate(251.341387 159.070072) scale(0.12 -0.12)\">\n",
              "     <use xlink:href=\"#DejaVuSans-49\"/>\n",
              "     <use xlink:href=\"#DejaVuSans-34\" x=\"29.492188\"/>\n",
              "    </g>\n",
              "   </g>\n",
              "   <g id=\"text_46\">\n",
              "    <!-- A3 -->\n",
              "    <g style=\"fill: #808080\" transform=\"translate(16.430633 129.998025) scale(0.12 -0.12)\">\n",
              "     <defs>\n",
              "      <path id=\"DejaVuSans-33\" d=\"M 2597 2516  Q 3050 2419 3304 2112  Q 3559 1806 3559 1356  Q 3559 666 3084 287  Q 2609 -91 1734 -91  Q 1441 -91 1130 -33  Q 819 25 488 141  L 488 750  Q 750 597 1062 519  Q 1375 441 1716 441  Q 2309 441 2620 675  Q 2931 909 2931 1356  Q 2931 1769 2642 2001  Q 2353 2234 1838 2234  L 1294 2234  L 1294 2753  L 1863 2753  Q 2328 2753 2575 2939  Q 2822 3125 2822 3475  Q 2822 3834 2567 4026  Q 2313 4219 1838 4219  Q 1578 4219 1281 4162  Q 984 4106 628 3988  L 628 4550  Q 988 4650 1302 4700  Q 1616 4750 1894 4750  Q 2613 4750 3031 4423  Q 3450 4097 3450 3541  Q 3450 3153 3228 2886  Q 3006 2619 2597 2516  z \" transform=\"scale(0.015625)\"/>\n",
              "     </defs>\n",
              "     <use xlink:href=\"#DejaVuSans-41\"/>\n",
              "     <use xlink:href=\"#DejaVuSans-33\" x=\"68.408203\"/>\n",
              "    </g>\n",
              "   </g>\n",
              "   <g id=\"text_47\">\n",
              "    <!-- B3 -->\n",
              "    <g style=\"fill: #808080\" transform=\"translate(45.490493 129.998025) scale(0.12 -0.12)\">\n",
              "     <use xlink:href=\"#DejaVuSans-42\"/>\n",
              "     <use xlink:href=\"#DejaVuSans-33\" x=\"68.603516\"/>\n",
              "    </g>\n",
              "   </g>\n",
              "   <g id=\"text_48\">\n",
              "    <!-- C3 -->\n",
              "    <g style=\"fill: #808080\" transform=\"translate(74.489415 129.998025) scale(0.12 -0.12)\">\n",
              "     <use xlink:href=\"#DejaVuSans-43\"/>\n",
              "     <use xlink:href=\"#DejaVuSans-33\" x=\"69.824219\"/>\n",
              "    </g>\n",
              "   </g>\n",
              "   <g id=\"text_49\">\n",
              "    <!-- D3 -->\n",
              "    <g style=\"fill: #808080\" transform=\"translate(103.13115 129.998025) scale(0.12 -0.12)\">\n",
              "     <use xlink:href=\"#DejaVuSans-44\"/>\n",
              "     <use xlink:href=\"#DejaVuSans-33\" x=\"77.001953\"/>\n",
              "    </g>\n",
              "   </g>\n",
              "   <g id=\"text_50\">\n",
              "    <!-- E3 -->\n",
              "    <g style=\"fill: #808080\" transform=\"translate(133.031948 129.998025) scale(0.12 -0.12)\">\n",
              "     <use xlink:href=\"#DejaVuSans-45\"/>\n",
              "     <use xlink:href=\"#DejaVuSans-33\" x=\"63.183594\"/>\n",
              "    </g>\n",
              "   </g>\n",
              "   <g id=\"text_51\">\n",
              "    <!-- F3 -->\n",
              "    <g style=\"fill: #808080\" transform=\"translate(162.444307 129.998025) scale(0.12 -0.12)\">\n",
              "     <use xlink:href=\"#DejaVuSans-46\"/>\n",
              "     <use xlink:href=\"#DejaVuSans-33\" x=\"57.519531\"/>\n",
              "    </g>\n",
              "   </g>\n",
              "   <g id=\"text_52\">\n",
              "    <!-- G3 -->\n",
              "    <g style=\"fill: #808080\" transform=\"translate(190.31823 129.998025) scale(0.12 -0.12)\">\n",
              "     <use xlink:href=\"#DejaVuSans-47\"/>\n",
              "     <use xlink:href=\"#DejaVuSans-33\" x=\"77.490234\"/>\n",
              "    </g>\n",
              "   </g>\n",
              "   <g id=\"text_53\">\n",
              "    <!-- H3 -->\n",
              "    <g style=\"fill: #808080\" transform=\"translate(219.527152 129.998025) scale(0.12 -0.12)\">\n",
              "     <use xlink:href=\"#DejaVuSans-48\"/>\n",
              "     <use xlink:href=\"#DejaVuSans-33\" x=\"75.195312\"/>\n",
              "    </g>\n",
              "   </g>\n",
              "   <g id=\"text_54\">\n",
              "    <!-- I3 -->\n",
              "    <g style=\"fill: #808080\" transform=\"translate(251.341387 129.998025) scale(0.12 -0.12)\">\n",
              "     <use xlink:href=\"#DejaVuSans-49\"/>\n",
              "     <use xlink:href=\"#DejaVuSans-33\" x=\"29.492188\"/>\n",
              "    </g>\n",
              "   </g>\n",
              "   <g id=\"text_55\">\n",
              "    <!-- A2 -->\n",
              "    <g style=\"fill: #808080\" transform=\"translate(16.430633 100.925978) scale(0.12 -0.12)\">\n",
              "     <defs>\n",
              "      <path id=\"DejaVuSans-32\" d=\"M 1228 531  L 3431 531  L 3431 0  L 469 0  L 469 531  Q 828 903 1448 1529  Q 2069 2156 2228 2338  Q 2531 2678 2651 2914  Q 2772 3150 2772 3378  Q 2772 3750 2511 3984  Q 2250 4219 1831 4219  Q 1534 4219 1204 4116  Q 875 4013 500 3803  L 500 4441  Q 881 4594 1212 4672  Q 1544 4750 1819 4750  Q 2544 4750 2975 4387  Q 3406 4025 3406 3419  Q 3406 3131 3298 2873  Q 3191 2616 2906 2266  Q 2828 2175 2409 1742  Q 1991 1309 1228 531  z \" transform=\"scale(0.015625)\"/>\n",
              "     </defs>\n",
              "     <use xlink:href=\"#DejaVuSans-41\"/>\n",
              "     <use xlink:href=\"#DejaVuSans-32\" x=\"68.408203\"/>\n",
              "    </g>\n",
              "   </g>\n",
              "   <g id=\"text_56\">\n",
              "    <!-- B2 -->\n",
              "    <g style=\"fill: #808080\" transform=\"translate(45.490493 100.925978) scale(0.12 -0.12)\">\n",
              "     <use xlink:href=\"#DejaVuSans-42\"/>\n",
              "     <use xlink:href=\"#DejaVuSans-32\" x=\"68.603516\"/>\n",
              "    </g>\n",
              "   </g>\n",
              "   <g id=\"text_57\">\n",
              "    <!-- C2 -->\n",
              "    <g style=\"fill: #808080\" transform=\"translate(74.489415 100.925978) scale(0.12 -0.12)\">\n",
              "     <use xlink:href=\"#DejaVuSans-43\"/>\n",
              "     <use xlink:href=\"#DejaVuSans-32\" x=\"69.824219\"/>\n",
              "    </g>\n",
              "   </g>\n",
              "   <g id=\"text_58\">\n",
              "    <!-- D2 -->\n",
              "    <g style=\"fill: #808080\" transform=\"translate(103.13115 100.925978) scale(0.12 -0.12)\">\n",
              "     <use xlink:href=\"#DejaVuSans-44\"/>\n",
              "     <use xlink:href=\"#DejaVuSans-32\" x=\"77.001953\"/>\n",
              "    </g>\n",
              "   </g>\n",
              "   <g id=\"text_59\">\n",
              "    <!-- E2 -->\n",
              "    <g style=\"fill: #808080\" transform=\"translate(133.031948 100.925978) scale(0.12 -0.12)\">\n",
              "     <use xlink:href=\"#DejaVuSans-45\"/>\n",
              "     <use xlink:href=\"#DejaVuSans-32\" x=\"63.183594\"/>\n",
              "    </g>\n",
              "   </g>\n",
              "   <g id=\"text_60\">\n",
              "    <!-- F2 -->\n",
              "    <g style=\"fill: #808080\" transform=\"translate(162.444307 100.925978) scale(0.12 -0.12)\">\n",
              "     <use xlink:href=\"#DejaVuSans-46\"/>\n",
              "     <use xlink:href=\"#DejaVuSans-32\" x=\"57.519531\"/>\n",
              "    </g>\n",
              "   </g>\n",
              "   <g id=\"text_61\">\n",
              "    <!-- G2 -->\n",
              "    <g style=\"fill: #808080\" transform=\"translate(190.31823 100.925978) scale(0.12 -0.12)\">\n",
              "     <use xlink:href=\"#DejaVuSans-47\"/>\n",
              "     <use xlink:href=\"#DejaVuSans-32\" x=\"77.490234\"/>\n",
              "    </g>\n",
              "   </g>\n",
              "   <g id=\"text_62\">\n",
              "    <!-- H2 -->\n",
              "    <g style=\"fill: #808080\" transform=\"translate(219.527152 100.925978) scale(0.12 -0.12)\">\n",
              "     <use xlink:href=\"#DejaVuSans-48\"/>\n",
              "     <use xlink:href=\"#DejaVuSans-32\" x=\"75.195312\"/>\n",
              "    </g>\n",
              "   </g>\n",
              "   <g id=\"text_63\">\n",
              "    <!-- I2 -->\n",
              "    <g style=\"fill: #808080\" transform=\"translate(251.341387 100.925978) scale(0.12 -0.12)\">\n",
              "     <use xlink:href=\"#DejaVuSans-49\"/>\n",
              "     <use xlink:href=\"#DejaVuSans-32\" x=\"29.492188\"/>\n",
              "    </g>\n",
              "   </g>\n",
              "   <g id=\"text_64\">\n",
              "    <!-- A1 -->\n",
              "    <g style=\"fill: #808080\" transform=\"translate(16.430633 71.85393) scale(0.12 -0.12)\">\n",
              "     <defs>\n",
              "      <path id=\"DejaVuSans-31\" d=\"M 794 531  L 1825 531  L 1825 4091  L 703 3866  L 703 4441  L 1819 4666  L 2450 4666  L 2450 531  L 3481 531  L 3481 0  L 794 0  L 794 531  z \" transform=\"scale(0.015625)\"/>\n",
              "     </defs>\n",
              "     <use xlink:href=\"#DejaVuSans-41\"/>\n",
              "     <use xlink:href=\"#DejaVuSans-31\" x=\"68.408203\"/>\n",
              "    </g>\n",
              "   </g>\n",
              "   <g id=\"text_65\">\n",
              "    <!-- B1 -->\n",
              "    <g style=\"fill: #808080\" transform=\"translate(45.490493 71.85393) scale(0.12 -0.12)\">\n",
              "     <use xlink:href=\"#DejaVuSans-42\"/>\n",
              "     <use xlink:href=\"#DejaVuSans-31\" x=\"68.603516\"/>\n",
              "    </g>\n",
              "   </g>\n",
              "   <g id=\"text_66\">\n",
              "    <!-- C1 -->\n",
              "    <g style=\"fill: #808080\" transform=\"translate(74.489415 71.85393) scale(0.12 -0.12)\">\n",
              "     <use xlink:href=\"#DejaVuSans-43\"/>\n",
              "     <use xlink:href=\"#DejaVuSans-31\" x=\"69.824219\"/>\n",
              "    </g>\n",
              "   </g>\n",
              "   <g id=\"text_67\">\n",
              "    <!-- D1 -->\n",
              "    <g style=\"fill: #808080\" transform=\"translate(103.13115 71.85393) scale(0.12 -0.12)\">\n",
              "     <use xlink:href=\"#DejaVuSans-44\"/>\n",
              "     <use xlink:href=\"#DejaVuSans-31\" x=\"77.001953\"/>\n",
              "    </g>\n",
              "   </g>\n",
              "   <g id=\"text_68\">\n",
              "    <!-- E1 -->\n",
              "    <g style=\"fill: #808080\" transform=\"translate(133.031948 71.85393) scale(0.12 -0.12)\">\n",
              "     <use xlink:href=\"#DejaVuSans-45\"/>\n",
              "     <use xlink:href=\"#DejaVuSans-31\" x=\"63.183594\"/>\n",
              "    </g>\n",
              "   </g>\n",
              "   <g id=\"text_69\">\n",
              "    <!-- F1 -->\n",
              "    <g style=\"fill: #808080\" transform=\"translate(162.444307 71.85393) scale(0.12 -0.12)\">\n",
              "     <use xlink:href=\"#DejaVuSans-46\"/>\n",
              "     <use xlink:href=\"#DejaVuSans-31\" x=\"57.519531\"/>\n",
              "    </g>\n",
              "   </g>\n",
              "   <g id=\"text_70\">\n",
              "    <!-- G1 -->\n",
              "    <g style=\"fill: #808080\" transform=\"translate(190.31823 71.85393) scale(0.12 -0.12)\">\n",
              "     <use xlink:href=\"#DejaVuSans-47\"/>\n",
              "     <use xlink:href=\"#DejaVuSans-31\" x=\"77.490234\"/>\n",
              "    </g>\n",
              "   </g>\n",
              "   <g id=\"text_71\">\n",
              "    <!-- H1 -->\n",
              "    <g style=\"fill: #808080\" transform=\"translate(219.527152 71.85393) scale(0.12 -0.12)\">\n",
              "     <use xlink:href=\"#DejaVuSans-48\"/>\n",
              "     <use xlink:href=\"#DejaVuSans-31\" x=\"75.195312\"/>\n",
              "    </g>\n",
              "   </g>\n",
              "   <g id=\"text_72\">\n",
              "    <!-- I1 -->\n",
              "    <g style=\"fill: #808080\" transform=\"translate(251.341387 71.85393) scale(0.12 -0.12)\">\n",
              "     <use xlink:href=\"#DejaVuSans-49\"/>\n",
              "     <use xlink:href=\"#DejaVuSans-31\" x=\"29.492188\"/>\n",
              "    </g>\n",
              "   </g>\n",
              "   <g id=\"text_73\">\n",
              "    <!-- A0 -->\n",
              "    <g style=\"fill: #808080\" transform=\"translate(16.430633 42.781883) scale(0.12 -0.12)\">\n",
              "     <defs>\n",
              "      <path id=\"DejaVuSans-30\" d=\"M 2034 4250  Q 1547 4250 1301 3770  Q 1056 3291 1056 2328  Q 1056 1369 1301 889  Q 1547 409 2034 409  Q 2525 409 2770 889  Q 3016 1369 3016 2328  Q 3016 3291 2770 3770  Q 2525 4250 2034 4250  z M 2034 4750  Q 2819 4750 3233 4129  Q 3647 3509 3647 2328  Q 3647 1150 3233 529  Q 2819 -91 2034 -91  Q 1250 -91 836 529  Q 422 1150 422 2328  Q 422 3509 836 4129  Q 1250 4750 2034 4750  z \" transform=\"scale(0.015625)\"/>\n",
              "     </defs>\n",
              "     <use xlink:href=\"#DejaVuSans-41\"/>\n",
              "     <use xlink:href=\"#DejaVuSans-30\" x=\"68.408203\"/>\n",
              "    </g>\n",
              "   </g>\n",
              "   <g id=\"text_74\">\n",
              "    <!-- B0 -->\n",
              "    <g style=\"fill: #808080\" transform=\"translate(45.490493 42.781883) scale(0.12 -0.12)\">\n",
              "     <use xlink:href=\"#DejaVuSans-42\"/>\n",
              "     <use xlink:href=\"#DejaVuSans-30\" x=\"68.603516\"/>\n",
              "    </g>\n",
              "   </g>\n",
              "   <g id=\"text_75\">\n",
              "    <!-- C0 -->\n",
              "    <g style=\"fill: #808080\" transform=\"translate(74.489415 42.781883) scale(0.12 -0.12)\">\n",
              "     <use xlink:href=\"#DejaVuSans-43\"/>\n",
              "     <use xlink:href=\"#DejaVuSans-30\" x=\"69.824219\"/>\n",
              "    </g>\n",
              "   </g>\n",
              "   <g id=\"text_76\">\n",
              "    <!-- D0 -->\n",
              "    <g style=\"fill: #808080\" transform=\"translate(103.13115 42.781883) scale(0.12 -0.12)\">\n",
              "     <use xlink:href=\"#DejaVuSans-44\"/>\n",
              "     <use xlink:href=\"#DejaVuSans-30\" x=\"77.001953\"/>\n",
              "    </g>\n",
              "   </g>\n",
              "   <g id=\"text_77\">\n",
              "    <!-- E0 -->\n",
              "    <g style=\"fill: #808080\" transform=\"translate(133.031948 42.781883) scale(0.12 -0.12)\">\n",
              "     <use xlink:href=\"#DejaVuSans-45\"/>\n",
              "     <use xlink:href=\"#DejaVuSans-30\" x=\"63.183594\"/>\n",
              "    </g>\n",
              "   </g>\n",
              "   <g id=\"text_78\">\n",
              "    <!-- F0 -->\n",
              "    <g style=\"fill: #808080\" transform=\"translate(162.444307 42.781883) scale(0.12 -0.12)\">\n",
              "     <use xlink:href=\"#DejaVuSans-46\"/>\n",
              "     <use xlink:href=\"#DejaVuSans-30\" x=\"57.519531\"/>\n",
              "    </g>\n",
              "   </g>\n",
              "   <g id=\"text_79\">\n",
              "    <!-- G0 -->\n",
              "    <g style=\"fill: #808080\" transform=\"translate(190.31823 42.781883) scale(0.12 -0.12)\">\n",
              "     <use xlink:href=\"#DejaVuSans-47\"/>\n",
              "     <use xlink:href=\"#DejaVuSans-30\" x=\"77.490234\"/>\n",
              "    </g>\n",
              "   </g>\n",
              "   <g id=\"text_80\">\n",
              "    <!-- H0 -->\n",
              "    <g style=\"fill: #808080\" transform=\"translate(219.527152 42.781883) scale(0.12 -0.12)\">\n",
              "     <use xlink:href=\"#DejaVuSans-48\"/>\n",
              "     <use xlink:href=\"#DejaVuSans-30\" x=\"75.195312\"/>\n",
              "    </g>\n",
              "   </g>\n",
              "   <g id=\"text_81\">\n",
              "    <!-- I0 -->\n",
              "    <g style=\"fill: #808080\" transform=\"translate(251.341387 42.781883) scale(0.12 -0.12)\">\n",
              "     <use xlink:href=\"#DejaVuSans-49\"/>\n",
              "     <use xlink:href=\"#DejaVuSans-30\" x=\"29.492188\"/>\n",
              "    </g>\n",
              "   </g>\n",
              "   <g id=\"text_82\">\n",
              "    <!-- grid 01 -->\n",
              "    <g transform=\"translate(7.2 16.318125) scale(0.12 -0.12)\">\n",
              "     <defs>\n",
              "      <path id=\"DejaVuSans-Bold-67\" d=\"M 2919 594  Q 2688 288 2409 144  Q 2131 0 1766 0  Q 1125 0 706 504  Q 288 1009 288 1791  Q 288 2575 706 3076  Q 1125 3578 1766 3578  Q 2131 3578 2409 3434  Q 2688 3291 2919 2981  L 2919 3500  L 4044 3500  L 4044 353  Q 4044 -491 3511 -936  Q 2978 -1381 1966 -1381  Q 1638 -1381 1331 -1331  Q 1025 -1281 716 -1178  L 716 -306  Q 1009 -475 1290 -558  Q 1572 -641 1856 -641  Q 2406 -641 2662 -400  Q 2919 -159 2919 353  L 2919 594  z M 2181 2772  Q 1834 2772 1640 2515  Q 1447 2259 1447 1791  Q 1447 1309 1634 1061  Q 1822 813 2181 813  Q 2531 813 2725 1069  Q 2919 1325 2919 1791  Q 2919 2259 2725 2515  Q 2531 2772 2181 2772  z \" transform=\"scale(0.015625)\"/>\n",
              "      <path id=\"DejaVuSans-Bold-72\" d=\"M 3138 2547  Q 2991 2616 2845 2648  Q 2700 2681 2553 2681  Q 2122 2681 1889 2404  Q 1656 2128 1656 1613  L 1656 0  L 538 0  L 538 3500  L 1656 3500  L 1656 2925  Q 1872 3269 2151 3426  Q 2431 3584 2822 3584  Q 2878 3584 2943 3579  Q 3009 3575 3134 3559  L 3138 2547  z \" transform=\"scale(0.015625)\"/>\n",
              "      <path id=\"DejaVuSans-Bold-69\" d=\"M 538 3500  L 1656 3500  L 1656 0  L 538 0  L 538 3500  z M 538 4863  L 1656 4863  L 1656 3950  L 538 3950  L 538 4863  z \" transform=\"scale(0.015625)\"/>\n",
              "      <path id=\"DejaVuSans-Bold-64\" d=\"M 2919 2988  L 2919 4863  L 4044 4863  L 4044 0  L 2919 0  L 2919 506  Q 2688 197 2409 53  Q 2131 -91 1766 -91  Q 1119 -91 703 423  Q 288 938 288 1747  Q 288 2556 703 3070  Q 1119 3584 1766 3584  Q 2128 3584 2408 3439  Q 2688 3294 2919 2988  z M 2181 722  Q 2541 722 2730 984  Q 2919 1247 2919 1747  Q 2919 2247 2730 2509  Q 2541 2772 2181 2772  Q 1825 2772 1636 2509  Q 1447 2247 1447 1747  Q 1447 1247 1636 984  Q 1825 722 2181 722  z \" transform=\"scale(0.015625)\"/>\n",
              "      <path id=\"DejaVuSans-Bold-20\" transform=\"scale(0.015625)\"/>\n",
              "      <path id=\"DejaVuSans-Bold-30\" d=\"M 2944 2338  Q 2944 3213 2780 3570  Q 2616 3928 2228 3928  Q 1841 3928 1675 3570  Q 1509 3213 1509 2338  Q 1509 1453 1675 1090  Q 1841 728 2228 728  Q 2613 728 2778 1090  Q 2944 1453 2944 2338  z M 4147 2328  Q 4147 1169 3647 539  Q 3147 -91 2228 -91  Q 1306 -91 806 539  Q 306 1169 306 2328  Q 306 3491 806 4120  Q 1306 4750 2228 4750  Q 3147 4750 3647 4120  Q 4147 3491 4147 2328  z \" transform=\"scale(0.015625)\"/>\n",
              "      <path id=\"DejaVuSans-Bold-31\" d=\"M 750 831  L 1813 831  L 1813 3847  L 722 3622  L 722 4441  L 1806 4666  L 2950 4666  L 2950 831  L 4013 831  L 4013 0  L 750 0  L 750 831  z \" transform=\"scale(0.015625)\"/>\n",
              "     </defs>\n",
              "     <use xlink:href=\"#DejaVuSans-Bold-67\"/>\n",
              "     <use xlink:href=\"#DejaVuSans-Bold-72\" x=\"71.582031\"/>\n",
              "     <use xlink:href=\"#DejaVuSans-Bold-69\" x=\"120.898438\"/>\n",
              "     <use xlink:href=\"#DejaVuSans-Bold-64\" x=\"155.175781\"/>\n",
              "     <use xlink:href=\"#DejaVuSans-Bold-20\" x=\"226.757812\"/>\n",
              "     <use xlink:href=\"#DejaVuSans-Bold-30\" x=\"261.572266\"/>\n",
              "     <use xlink:href=\"#DejaVuSans-Bold-31\" x=\"331.152344\"/>\n",
              "    </g>\n",
              "   </g>\n",
              "  </g>\n",
              " </g>\n",
              " <defs>\n",
              "  <clipPath id=\"p502db8754a\">\n",
              "   <rect x=\"7.2\" y=\"22.318125\" width=\"266.881395\" height=\"266.881395\"/>\n",
              "  </clipPath>\n",
              " </defs>\n",
              "</svg>"
            ],
            "text/plain": [
              "<IPython.core.display.SVG object>"
            ]
          },
          "execution_count": 280,
          "metadata": {},
          "output_type": "execute_result"
        }
      ],
      "source": [
        "display(Image(figure_data(grid, header, \"png\")))\n",
        "SVG(figure_data(grid, header, \"svg\"))"
      ]
    },
    {
      "cell_type": "code",
      "execution_count": null,
      "metadata": {
        "id": "VFdD2gBofYMG"
      },
      "outputs": [],
      "source": [
        "def char_value(x):\n",
        "    return int(x) if x.isdigit() else 0\n",
        "\n",
        "class Sudoku:\n",
        "\n",
        "    def __init__(self, grid, name=None):\n",
        "        self.grid = grid\n",
        "        self.name = name if name is not None else \"Unnamed Sudoku\"\n",
        "        self._svg_data = None\n",
        "\n",
        "    @classmethod\n",
        "    def from_str(cls, grid, name):\n",
        "        grid = [[char_value(x) for x in line.strip()] for line in grid]\n",
        "        return cls(grid, name)\n",
        "\n",
        "    def __str__(self):\n",
        "        return f'{self.name}:\\n{self.txt()}'\n",
        "\n",
        "    def _repr_html_(self):\n",
        "        return f\"<style>{css}</style>\\n<h3>{self.name}</h3>\\n{html_grid(self.as_symbols())}\"\n",
        "\n",
        "\n",
        "    def copy(self):\n",
        "        grid = [line.copy() for line in self.grid]\n",
        "        return type(self)(grid, self.name)\n",
        "\n",
        "    def as_symbols(self, symbols=\" 123456789\"):\n",
        "        return [[symbols[x] for x in line] for line in self.grid]\n",
        "\n",
        "    def txt(self):\n",
        "        return '\\n'.join(map(' '.join, self.as_symbols(\"_123456789\")))\n",
        "\n",
        "    def _repr_svg_(self):\n",
        "        return self.svg\n",
        "\n",
        "    @property\n",
        "    def svg(self):\n",
        "        if self._svg_data is None:\n",
        "            self._svg_data = figure_data(self.as_symbols(), self.name, 'svg')\n",
        "        return self._svg_data\n",
        "\n"
      ]
    },
    {
      "cell_type": "code",
      "execution_count": null,
      "metadata": {
        "id": "MmWLF-ucfYMG"
      },
      "outputs": [],
      "source": [
        "with open('/tmp/sudoku.txt') as f:\n",
        "    name = f.readline().strip()\n",
        "    grid = [f.readline() for _ in range(9)]\n",
        "    sudoku = Sudoku.from_str(grid, name)"
      ]
    },
    {
      "cell_type": "code",
      "execution_count": null,
      "metadata": {
        "id": "LtUoXN5vfYMG",
        "outputId": "e6ed5373-c786-4d43-a261-a8a268dcf534"
      },
      "outputs": [
        {
          "data": {
            "image/svg+xml": [
              "<?xml version=\"1.0\" encoding=\"utf-8\" standalone=\"no\"?>\n",
              "<!DOCTYPE svg PUBLIC \"-//W3C//DTD SVG 1.1//EN\"\n",
              "  \"http://www.w3.org/Graphics/SVG/1.1/DTD/svg11.dtd\">\n",
              "<svg xmlns:xlink=\"http://www.w3.org/1999/xlink\" width=\"281.281395pt\" height=\"296.39952pt\" viewBox=\"0 0 281.281395 296.39952\" xmlns=\"http://www.w3.org/2000/svg\" version=\"1.1\">\n",
              " <metadata>\n",
              "  <rdf:RDF xmlns:dc=\"http://purl.org/dc/elements/1.1/\" xmlns:cc=\"http://creativecommons.org/ns#\" xmlns:rdf=\"http://www.w3.org/1999/02/22-rdf-syntax-ns#\">\n",
              "   <cc:Work>\n",
              "    <dc:type rdf:resource=\"http://purl.org/dc/dcmitype/StillImage\"/>\n",
              "    <dc:date>2023-11-26T11:39:26.616049</dc:date>\n",
              "    <dc:format>image/svg+xml</dc:format>\n",
              "    <dc:creator>\n",
              "     <cc:Agent>\n",
              "      <dc:title>Matplotlib v3.7.2, https://matplotlib.org/</dc:title>\n",
              "     </cc:Agent>\n",
              "    </dc:creator>\n",
              "   </cc:Work>\n",
              "  </rdf:RDF>\n",
              " </metadata>\n",
              " <defs>\n",
              "  <style type=\"text/css\">*{stroke-linejoin: round; stroke-linecap: butt}</style>\n",
              " </defs>\n",
              " <g id=\"figure_1\">\n",
              "  <g id=\"patch_1\">\n",
              "   <path d=\"M 0 296.39952 \n",
              "L 281.281395 296.39952 \n",
              "L 281.281395 0 \n",
              "L 0 0 \n",
              "z\n",
              "\" style=\"fill: #ffffff\"/>\n",
              "  </g>\n",
              "  <g id=\"axes_1\">\n",
              "   <g id=\"line2d_1\">\n",
              "    <path d=\"M 9.816484 286.583036 \n",
              "L 271.464911 286.583036 \n",
              "\" clip-path=\"url(#p299fd05a65)\" style=\"fill: none; stroke: #000000; stroke-width: 2; stroke-linecap: square\"/>\n",
              "   </g>\n",
              "   <g id=\"line2d_2\">\n",
              "    <path d=\"M 9.816484 286.583036 \n",
              "L 9.816484 24.934609 \n",
              "\" clip-path=\"url(#p299fd05a65)\" style=\"fill: none; stroke: #000000; stroke-width: 2; stroke-linecap: square\"/>\n",
              "   </g>\n",
              "   <g id=\"line2d_3\">\n",
              "    <path d=\"M 9.816484 257.510988 \n",
              "L 271.464911 257.510988 \n",
              "\" clip-path=\"url(#p299fd05a65)\" style=\"fill: none; stroke: #000000; stroke-linecap: square\"/>\n",
              "   </g>\n",
              "   <g id=\"line2d_4\">\n",
              "    <path d=\"M 38.888532 286.583036 \n",
              "L 38.888532 24.934609 \n",
              "\" clip-path=\"url(#p299fd05a65)\" style=\"fill: none; stroke: #000000; stroke-linecap: square\"/>\n",
              "   </g>\n",
              "   <g id=\"line2d_5\">\n",
              "    <path d=\"M 9.816484 228.438941 \n",
              "L 271.464911 228.438941 \n",
              "\" clip-path=\"url(#p299fd05a65)\" style=\"fill: none; stroke: #000000; stroke-linecap: square\"/>\n",
              "   </g>\n",
              "   <g id=\"line2d_6\">\n",
              "    <path d=\"M 67.960579 286.583036 \n",
              "L 67.960579 24.934609 \n",
              "\" clip-path=\"url(#p299fd05a65)\" style=\"fill: none; stroke: #000000; stroke-linecap: square\"/>\n",
              "   </g>\n",
              "   <g id=\"line2d_7\">\n",
              "    <path d=\"M 9.816484 199.366894 \n",
              "L 271.464911 199.366894 \n",
              "\" clip-path=\"url(#p299fd05a65)\" style=\"fill: none; stroke: #000000; stroke-width: 2; stroke-linecap: square\"/>\n",
              "   </g>\n",
              "   <g id=\"line2d_8\">\n",
              "    <path d=\"M 97.032626 286.583036 \n",
              "L 97.032626 24.934609 \n",
              "\" clip-path=\"url(#p299fd05a65)\" style=\"fill: none; stroke: #000000; stroke-width: 2; stroke-linecap: square\"/>\n",
              "   </g>\n",
              "   <g id=\"line2d_9\">\n",
              "    <path d=\"M 9.816484 170.294846 \n",
              "L 271.464911 170.294846 \n",
              "\" clip-path=\"url(#p299fd05a65)\" style=\"fill: none; stroke: #000000; stroke-linecap: square\"/>\n",
              "   </g>\n",
              "   <g id=\"line2d_10\">\n",
              "    <path d=\"M 126.104674 286.583036 \n",
              "L 126.104674 24.934609 \n",
              "\" clip-path=\"url(#p299fd05a65)\" style=\"fill: none; stroke: #000000; stroke-linecap: square\"/>\n",
              "   </g>\n",
              "   <g id=\"line2d_11\">\n",
              "    <path d=\"M 9.816484 141.222799 \n",
              "L 271.464911 141.222799 \n",
              "\" clip-path=\"url(#p299fd05a65)\" style=\"fill: none; stroke: #000000; stroke-linecap: square\"/>\n",
              "   </g>\n",
              "   <g id=\"line2d_12\">\n",
              "    <path d=\"M 155.176721 286.583036 \n",
              "L 155.176721 24.934609 \n",
              "\" clip-path=\"url(#p299fd05a65)\" style=\"fill: none; stroke: #000000; stroke-linecap: square\"/>\n",
              "   </g>\n",
              "   <g id=\"line2d_13\">\n",
              "    <path d=\"M 9.816484 112.150751 \n",
              "L 271.464911 112.150751 \n",
              "\" clip-path=\"url(#p299fd05a65)\" style=\"fill: none; stroke: #000000; stroke-width: 2; stroke-linecap: square\"/>\n",
              "   </g>\n",
              "   <g id=\"line2d_14\">\n",
              "    <path d=\"M 184.248769 286.583036 \n",
              "L 184.248769 24.934609 \n",
              "\" clip-path=\"url(#p299fd05a65)\" style=\"fill: none; stroke: #000000; stroke-width: 2; stroke-linecap: square\"/>\n",
              "   </g>\n",
              "   <g id=\"line2d_15\">\n",
              "    <path d=\"M 9.816484 83.078704 \n",
              "L 271.464911 83.078704 \n",
              "\" clip-path=\"url(#p299fd05a65)\" style=\"fill: none; stroke: #000000; stroke-linecap: square\"/>\n",
              "   </g>\n",
              "   <g id=\"line2d_16\">\n",
              "    <path d=\"M 213.320816 286.583036 \n",
              "L 213.320816 24.934609 \n",
              "\" clip-path=\"url(#p299fd05a65)\" style=\"fill: none; stroke: #000000; stroke-linecap: square\"/>\n",
              "   </g>\n",
              "   <g id=\"line2d_17\">\n",
              "    <path d=\"M 9.816484 54.006657 \n",
              "L 271.464911 54.006657 \n",
              "\" clip-path=\"url(#p299fd05a65)\" style=\"fill: none; stroke: #000000; stroke-linecap: square\"/>\n",
              "   </g>\n",
              "   <g id=\"line2d_18\">\n",
              "    <path d=\"M 242.392863 286.583036 \n",
              "L 242.392863 24.934609 \n",
              "\" clip-path=\"url(#p299fd05a65)\" style=\"fill: none; stroke: #000000; stroke-linecap: square\"/>\n",
              "   </g>\n",
              "   <g id=\"line2d_19\">\n",
              "    <path d=\"M 9.816484 24.934609 \n",
              "L 271.464911 24.934609 \n",
              "\" clip-path=\"url(#p299fd05a65)\" style=\"fill: none; stroke: #000000; stroke-width: 2; stroke-linecap: square\"/>\n",
              "   </g>\n",
              "   <g id=\"line2d_20\">\n",
              "    <path d=\"M 271.464911 286.583036 \n",
              "L 271.464911 24.934609 \n",
              "\" clip-path=\"url(#p299fd05a65)\" style=\"fill: none; stroke: #000000; stroke-width: 2; stroke-linecap: square\"/>\n",
              "   </g>\n",
              "   <g id=\"text_1\">\n",
              "    <!--   -->\n",
              "    <g style=\"fill: #808080\" transform=\"translate(22.445633 275.358262) scale(0.12 -0.12)\">\n",
              "     <defs>\n",
              "      <path id=\"DejaVuSans-20\" transform=\"scale(0.015625)\"/>\n",
              "     </defs>\n",
              "     <use xlink:href=\"#DejaVuSans-20\"/>\n",
              "    </g>\n",
              "   </g>\n",
              "   <g id=\"text_2\">\n",
              "    <!--   -->\n",
              "    <g style=\"fill: #808080\" transform=\"translate(51.51768 275.358262) scale(0.12 -0.12)\">\n",
              "     <use xlink:href=\"#DejaVuSans-20\"/>\n",
              "    </g>\n",
              "   </g>\n",
              "   <g id=\"text_3\">\n",
              "    <!-- 5 -->\n",
              "    <g style=\"fill: #808080\" transform=\"translate(78.679103 275.358262) scale(0.12 -0.12)\">\n",
              "     <defs>\n",
              "      <path id=\"DejaVuSans-35\" d=\"M 691 4666 \n",
              "L 3169 4666 \n",
              "L 3169 4134 \n",
              "L 1269 4134 \n",
              "L 1269 2991 \n",
              "Q 1406 3038 1543 3061 \n",
              "Q 1681 3084 1819 3084 \n",
              "Q 2600 3084 3056 2656 \n",
              "Q 3513 2228 3513 1497 \n",
              "Q 3513 744 3044 326 \n",
              "Q 2575 -91 1722 -91 \n",
              "Q 1428 -91 1123 -41 \n",
              "Q 819 9 494 109 \n",
              "L 494 744 \n",
              "Q 775 591 1075 516 \n",
              "Q 1375 441 1709 441 \n",
              "Q 2250 441 2565 725 \n",
              "Q 2881 1009 2881 1497 \n",
              "Q 2881 1984 2565 2268 \n",
              "Q 2250 2553 1709 2553 \n",
              "Q 1456 2553 1204 2497 \n",
              "Q 953 2441 691 2322 \n",
              "L 691 4666 \n",
              "z\n",
              "\" transform=\"scale(0.015625)\"/>\n",
              "     </defs>\n",
              "     <use xlink:href=\"#DejaVuSans-35\"/>\n",
              "    </g>\n",
              "   </g>\n",
              "   <g id=\"text_4\">\n",
              "    <!--   -->\n",
              "    <g style=\"fill: #808080\" transform=\"translate(109.661775 275.358262) scale(0.12 -0.12)\">\n",
              "     <use xlink:href=\"#DejaVuSans-20\"/>\n",
              "    </g>\n",
              "   </g>\n",
              "   <g id=\"text_5\">\n",
              "    <!-- 1 -->\n",
              "    <g style=\"fill: #808080\" transform=\"translate(136.823197 275.358262) scale(0.12 -0.12)\">\n",
              "     <defs>\n",
              "      <path id=\"DejaVuSans-31\" d=\"M 794 531 \n",
              "L 1825 531 \n",
              "L 1825 4091 \n",
              "L 703 3866 \n",
              "L 703 4441 \n",
              "L 1819 4666 \n",
              "L 2450 4666 \n",
              "L 2450 531 \n",
              "L 3481 531 \n",
              "L 3481 0 \n",
              "L 794 0 \n",
              "L 794 531 \n",
              "z\n",
              "\" transform=\"scale(0.015625)\"/>\n",
              "     </defs>\n",
              "     <use xlink:href=\"#DejaVuSans-31\"/>\n",
              "    </g>\n",
              "   </g>\n",
              "   <g id=\"text_6\">\n",
              "    <!--   -->\n",
              "    <g style=\"fill: #808080\" transform=\"translate(167.80587 275.358262) scale(0.12 -0.12)\">\n",
              "     <use xlink:href=\"#DejaVuSans-20\"/>\n",
              "    </g>\n",
              "   </g>\n",
              "   <g id=\"text_7\">\n",
              "    <!-- 3 -->\n",
              "    <g style=\"fill: #808080\" transform=\"translate(194.967292 275.358262) scale(0.12 -0.12)\">\n",
              "     <defs>\n",
              "      <path id=\"DejaVuSans-33\" d=\"M 2597 2516 \n",
              "Q 3050 2419 3304 2112 \n",
              "Q 3559 1806 3559 1356 \n",
              "Q 3559 666 3084 287 \n",
              "Q 2609 -91 1734 -91 \n",
              "Q 1441 -91 1130 -33 \n",
              "Q 819 25 488 141 \n",
              "L 488 750 \n",
              "Q 750 597 1062 519 \n",
              "Q 1375 441 1716 441 \n",
              "Q 2309 441 2620 675 \n",
              "Q 2931 909 2931 1356 \n",
              "Q 2931 1769 2642 2001 \n",
              "Q 2353 2234 1838 2234 \n",
              "L 1294 2234 \n",
              "L 1294 2753 \n",
              "L 1863 2753 \n",
              "Q 2328 2753 2575 2939 \n",
              "Q 2822 3125 2822 3475 \n",
              "Q 2822 3834 2567 4026 \n",
              "Q 2313 4219 1838 4219 \n",
              "Q 1578 4219 1281 4162 \n",
              "Q 984 4106 628 3988 \n",
              "L 628 4550 \n",
              "Q 988 4650 1302 4700 \n",
              "Q 1616 4750 1894 4750 \n",
              "Q 2613 4750 3031 4423 \n",
              "Q 3450 4097 3450 3541 \n",
              "Q 3450 3153 3228 2886 \n",
              "Q 3006 2619 2597 2516 \n",
              "z\n",
              "\" transform=\"scale(0.015625)\"/>\n",
              "     </defs>\n",
              "     <use xlink:href=\"#DejaVuSans-33\"/>\n",
              "    </g>\n",
              "   </g>\n",
              "   <g id=\"text_8\">\n",
              "    <!--   -->\n",
              "    <g style=\"fill: #808080\" transform=\"translate(225.949965 275.358262) scale(0.12 -0.12)\">\n",
              "     <use xlink:href=\"#DejaVuSans-20\"/>\n",
              "    </g>\n",
              "   </g>\n",
              "   <g id=\"text_9\">\n",
              "    <!--   -->\n",
              "    <g style=\"fill: #808080\" transform=\"translate(255.022012 275.358262) scale(0.12 -0.12)\">\n",
              "     <use xlink:href=\"#DejaVuSans-20\"/>\n",
              "    </g>\n",
              "   </g>\n",
              "   <g id=\"text_10\">\n",
              "    <!-- 8 -->\n",
              "    <g style=\"fill: #808080\" transform=\"translate(20.535008 246.286215) scale(0.12 -0.12)\">\n",
              "     <defs>\n",
              "      <path id=\"DejaVuSans-38\" d=\"M 2034 2216 \n",
              "Q 1584 2216 1326 1975 \n",
              "Q 1069 1734 1069 1313 \n",
              "Q 1069 891 1326 650 \n",
              "Q 1584 409 2034 409 \n",
              "Q 2484 409 2743 651 \n",
              "Q 3003 894 3003 1313 \n",
              "Q 3003 1734 2745 1975 \n",
              "Q 2488 2216 2034 2216 \n",
              "z\n",
              "M 1403 2484 \n",
              "Q 997 2584 770 2862 \n",
              "Q 544 3141 544 3541 \n",
              "Q 544 4100 942 4425 \n",
              "Q 1341 4750 2034 4750 \n",
              "Q 2731 4750 3128 4425 \n",
              "Q 3525 4100 3525 3541 \n",
              "Q 3525 3141 3298 2862 \n",
              "Q 3072 2584 2669 2484 \n",
              "Q 3125 2378 3379 2068 \n",
              "Q 3634 1759 3634 1313 \n",
              "Q 3634 634 3220 271 \n",
              "Q 2806 -91 2034 -91 \n",
              "Q 1263 -91 848 271 \n",
              "Q 434 634 434 1313 \n",
              "Q 434 1759 690 2068 \n",
              "Q 947 2378 1403 2484 \n",
              "z\n",
              "M 1172 3481 \n",
              "Q 1172 3119 1398 2916 \n",
              "Q 1625 2713 2034 2713 \n",
              "Q 2441 2713 2670 2916 \n",
              "Q 2900 3119 2900 3481 \n",
              "Q 2900 3844 2670 4047 \n",
              "Q 2441 4250 2034 4250 \n",
              "Q 1625 4250 1398 4047 \n",
              "Q 1172 3844 1172 3481 \n",
              "z\n",
              "\" transform=\"scale(0.015625)\"/>\n",
              "     </defs>\n",
              "     <use xlink:href=\"#DejaVuSans-38\"/>\n",
              "    </g>\n",
              "   </g>\n",
              "   <g id=\"text_11\">\n",
              "    <!--   -->\n",
              "    <g style=\"fill: #808080\" transform=\"translate(51.51768 246.286215) scale(0.12 -0.12)\">\n",
              "     <use xlink:href=\"#DejaVuSans-20\"/>\n",
              "    </g>\n",
              "   </g>\n",
              "   <g id=\"text_12\">\n",
              "    <!--   -->\n",
              "    <g style=\"fill: #808080\" transform=\"translate(80.589728 246.286215) scale(0.12 -0.12)\">\n",
              "     <use xlink:href=\"#DejaVuSans-20\"/>\n",
              "    </g>\n",
              "   </g>\n",
              "   <g id=\"text_13\">\n",
              "    <!-- 2 -->\n",
              "    <g style=\"fill: #808080\" transform=\"translate(107.75115 246.286215) scale(0.12 -0.12)\">\n",
              "     <defs>\n",
              "      <path id=\"DejaVuSans-32\" d=\"M 1228 531 \n",
              "L 3431 531 \n",
              "L 3431 0 \n",
              "L 469 0 \n",
              "L 469 531 \n",
              "Q 828 903 1448 1529 \n",
              "Q 2069 2156 2228 2338 \n",
              "Q 2531 2678 2651 2914 \n",
              "Q 2772 3150 2772 3378 \n",
              "Q 2772 3750 2511 3984 \n",
              "Q 2250 4219 1831 4219 \n",
              "Q 1534 4219 1204 4116 \n",
              "Q 875 4013 500 3803 \n",
              "L 500 4441 \n",
              "Q 881 4594 1212 4672 \n",
              "Q 1544 4750 1819 4750 \n",
              "Q 2544 4750 2975 4387 \n",
              "Q 3406 4025 3406 3419 \n",
              "Q 3406 3131 3298 2873 \n",
              "Q 3191 2616 2906 2266 \n",
              "Q 2828 2175 2409 1742 \n",
              "Q 1991 1309 1228 531 \n",
              "z\n",
              "\" transform=\"scale(0.015625)\"/>\n",
              "     </defs>\n",
              "     <use xlink:href=\"#DejaVuSans-32\"/>\n",
              "    </g>\n",
              "   </g>\n",
              "   <g id=\"text_14\">\n",
              "    <!--   -->\n",
              "    <g style=\"fill: #808080\" transform=\"translate(138.733822 246.286215) scale(0.12 -0.12)\">\n",
              "     <use xlink:href=\"#DejaVuSans-20\"/>\n",
              "    </g>\n",
              "   </g>\n",
              "   <g id=\"text_15\">\n",
              "    <!-- 3 -->\n",
              "    <g style=\"fill: #808080\" transform=\"translate(165.895245 246.286215) scale(0.12 -0.12)\">\n",
              "     <use xlink:href=\"#DejaVuSans-33\"/>\n",
              "    </g>\n",
              "   </g>\n",
              "   <g id=\"text_16\">\n",
              "    <!--   -->\n",
              "    <g style=\"fill: #808080\" transform=\"translate(196.877917 246.286215) scale(0.12 -0.12)\">\n",
              "     <use xlink:href=\"#DejaVuSans-20\"/>\n",
              "    </g>\n",
              "   </g>\n",
              "   <g id=\"text_17\">\n",
              "    <!--   -->\n",
              "    <g style=\"fill: #808080\" transform=\"translate(225.949965 246.286215) scale(0.12 -0.12)\">\n",
              "     <use xlink:href=\"#DejaVuSans-20\"/>\n",
              "    </g>\n",
              "   </g>\n",
              "   <g id=\"text_18\">\n",
              "    <!-- 9 -->\n",
              "    <g style=\"fill: #808080\" transform=\"translate(253.111387 246.286215) scale(0.12 -0.12)\">\n",
              "     <defs>\n",
              "      <path id=\"DejaVuSans-39\" d=\"M 703 97 \n",
              "L 703 672 \n",
              "Q 941 559 1184 500 \n",
              "Q 1428 441 1663 441 \n",
              "Q 2288 441 2617 861 \n",
              "Q 2947 1281 2994 2138 \n",
              "Q 2813 1869 2534 1725 \n",
              "Q 2256 1581 1919 1581 \n",
              "Q 1219 1581 811 2004 \n",
              "Q 403 2428 403 3163 \n",
              "Q 403 3881 828 4315 \n",
              "Q 1253 4750 1959 4750 \n",
              "Q 2769 4750 3195 4129 \n",
              "Q 3622 3509 3622 2328 \n",
              "Q 3622 1225 3098 567 \n",
              "Q 2575 -91 1691 -91 \n",
              "Q 1453 -91 1209 -44 \n",
              "Q 966 3 703 97 \n",
              "z\n",
              "M 1959 2075 \n",
              "Q 2384 2075 2632 2365 \n",
              "Q 2881 2656 2881 3163 \n",
              "Q 2881 3666 2632 3958 \n",
              "Q 2384 4250 1959 4250 \n",
              "Q 1534 4250 1286 3958 \n",
              "Q 1038 3666 1038 3163 \n",
              "Q 1038 2656 1286 2365 \n",
              "Q 1534 2075 1959 2075 \n",
              "z\n",
              "\" transform=\"scale(0.015625)\"/>\n",
              "     </defs>\n",
              "     <use xlink:href=\"#DejaVuSans-39\"/>\n",
              "    </g>\n",
              "   </g>\n",
              "   <g id=\"text_19\">\n",
              "    <!--   -->\n",
              "    <g style=\"fill: #808080\" transform=\"translate(22.445633 217.214167) scale(0.12 -0.12)\">\n",
              "     <use xlink:href=\"#DejaVuSans-20\"/>\n",
              "    </g>\n",
              "   </g>\n",
              "   <g id=\"text_20\">\n",
              "    <!--   -->\n",
              "    <g style=\"fill: #808080\" transform=\"translate(51.51768 217.214167) scale(0.12 -0.12)\">\n",
              "     <use xlink:href=\"#DejaVuSans-20\"/>\n",
              "    </g>\n",
              "   </g>\n",
              "   <g id=\"text_21\">\n",
              "    <!-- 2 -->\n",
              "    <g style=\"fill: #808080\" transform=\"translate(78.679103 217.214167) scale(0.12 -0.12)\">\n",
              "     <use xlink:href=\"#DejaVuSans-32\"/>\n",
              "    </g>\n",
              "   </g>\n",
              "   <g id=\"text_22\">\n",
              "    <!-- 6 -->\n",
              "    <g style=\"fill: #808080\" transform=\"translate(107.75115 217.214167) scale(0.12 -0.12)\">\n",
              "     <defs>\n",
              "      <path id=\"DejaVuSans-36\" d=\"M 2113 2584 \n",
              "Q 1688 2584 1439 2293 \n",
              "Q 1191 2003 1191 1497 \n",
              "Q 1191 994 1439 701 \n",
              "Q 1688 409 2113 409 \n",
              "Q 2538 409 2786 701 \n",
              "Q 3034 994 3034 1497 \n",
              "Q 3034 2003 2786 2293 \n",
              "Q 2538 2584 2113 2584 \n",
              "z\n",
              "M 3366 4563 \n",
              "L 3366 3988 \n",
              "Q 3128 4100 2886 4159 \n",
              "Q 2644 4219 2406 4219 \n",
              "Q 1781 4219 1451 3797 \n",
              "Q 1122 3375 1075 2522 \n",
              "Q 1259 2794 1537 2939 \n",
              "Q 1816 3084 2150 3084 \n",
              "Q 2853 3084 3261 2657 \n",
              "Q 3669 2231 3669 1497 \n",
              "Q 3669 778 3244 343 \n",
              "Q 2819 -91 2113 -91 \n",
              "Q 1303 -91 875 529 \n",
              "Q 447 1150 447 2328 \n",
              "Q 447 3434 972 4092 \n",
              "Q 1497 4750 2381 4750 \n",
              "Q 2619 4750 2861 4703 \n",
              "Q 3103 4656 3366 4563 \n",
              "z\n",
              "\" transform=\"scale(0.015625)\"/>\n",
              "     </defs>\n",
              "     <use xlink:href=\"#DejaVuSans-36\"/>\n",
              "    </g>\n",
              "   </g>\n",
              "   <g id=\"text_23\">\n",
              "    <!--   -->\n",
              "    <g style=\"fill: #808080\" transform=\"translate(138.733822 217.214167) scale(0.12 -0.12)\">\n",
              "     <use xlink:href=\"#DejaVuSans-20\"/>\n",
              "    </g>\n",
              "   </g>\n",
              "   <g id=\"text_24\">\n",
              "    <!-- 9 -->\n",
              "    <g style=\"fill: #808080\" transform=\"translate(165.895245 217.214167) scale(0.12 -0.12)\">\n",
              "     <use xlink:href=\"#DejaVuSans-39\"/>\n",
              "    </g>\n",
              "   </g>\n",
              "   <g id=\"text_25\">\n",
              "    <!-- 5 -->\n",
              "    <g style=\"fill: #808080\" transform=\"translate(194.967292 217.214167) scale(0.12 -0.12)\">\n",
              "     <use xlink:href=\"#DejaVuSans-35\"/>\n",
              "    </g>\n",
              "   </g>\n",
              "   <g id=\"text_26\">\n",
              "    <!--   -->\n",
              "    <g style=\"fill: #808080\" transform=\"translate(225.949965 217.214167) scale(0.12 -0.12)\">\n",
              "     <use xlink:href=\"#DejaVuSans-20\"/>\n",
              "    </g>\n",
              "   </g>\n",
              "   <g id=\"text_27\">\n",
              "    <!--   -->\n",
              "    <g style=\"fill: #808080\" transform=\"translate(255.022012 217.214167) scale(0.12 -0.12)\">\n",
              "     <use xlink:href=\"#DejaVuSans-20\"/>\n",
              "    </g>\n",
              "   </g>\n",
              "   <g id=\"text_28\">\n",
              "    <!--   -->\n",
              "    <g style=\"fill: #808080\" transform=\"translate(22.445633 188.14212) scale(0.12 -0.12)\">\n",
              "     <use xlink:href=\"#DejaVuSans-20\"/>\n",
              "    </g>\n",
              "   </g>\n",
              "   <g id=\"text_29\">\n",
              "    <!--   -->\n",
              "    <g style=\"fill: #808080\" transform=\"translate(51.51768 188.14212) scale(0.12 -0.12)\">\n",
              "     <use xlink:href=\"#DejaVuSans-20\"/>\n",
              "    </g>\n",
              "   </g>\n",
              "   <g id=\"text_30\">\n",
              "    <!-- 6 -->\n",
              "    <g style=\"fill: #808080\" transform=\"translate(78.679103 188.14212) scale(0.12 -0.12)\">\n",
              "     <use xlink:href=\"#DejaVuSans-36\"/>\n",
              "    </g>\n",
              "   </g>\n",
              "   <g id=\"text_31\">\n",
              "    <!-- 7 -->\n",
              "    <g style=\"fill: #808080\" transform=\"translate(107.75115 188.14212) scale(0.12 -0.12)\">\n",
              "     <defs>\n",
              "      <path id=\"DejaVuSans-37\" d=\"M 525 4666 \n",
              "L 3525 4666 \n",
              "L 3525 4397 \n",
              "L 1831 0 \n",
              "L 1172 0 \n",
              "L 2766 4134 \n",
              "L 525 4134 \n",
              "L 525 4666 \n",
              "z\n",
              "\" transform=\"scale(0.015625)\"/>\n",
              "     </defs>\n",
              "     <use xlink:href=\"#DejaVuSans-37\"/>\n",
              "    </g>\n",
              "   </g>\n",
              "   <g id=\"text_32\">\n",
              "    <!--   -->\n",
              "    <g style=\"fill: #808080\" transform=\"translate(138.733822 188.14212) scale(0.12 -0.12)\">\n",
              "     <use xlink:href=\"#DejaVuSans-20\"/>\n",
              "    </g>\n",
              "   </g>\n",
              "   <g id=\"text_33\">\n",
              "    <!-- 8 -->\n",
              "    <g style=\"fill: #808080\" transform=\"translate(165.895245 188.14212) scale(0.12 -0.12)\">\n",
              "     <use xlink:href=\"#DejaVuSans-38\"/>\n",
              "    </g>\n",
              "   </g>\n",
              "   <g id=\"text_34\">\n",
              "    <!-- 2 -->\n",
              "    <g style=\"fill: #808080\" transform=\"translate(194.967292 188.14212) scale(0.12 -0.12)\">\n",
              "     <use xlink:href=\"#DejaVuSans-32\"/>\n",
              "    </g>\n",
              "   </g>\n",
              "   <g id=\"text_35\">\n",
              "    <!--   -->\n",
              "    <g style=\"fill: #808080\" transform=\"translate(225.949965 188.14212) scale(0.12 -0.12)\">\n",
              "     <use xlink:href=\"#DejaVuSans-20\"/>\n",
              "    </g>\n",
              "   </g>\n",
              "   <g id=\"text_36\">\n",
              "    <!--   -->\n",
              "    <g style=\"fill: #808080\" transform=\"translate(255.022012 188.14212) scale(0.12 -0.12)\">\n",
              "     <use xlink:href=\"#DejaVuSans-20\"/>\n",
              "    </g>\n",
              "   </g>\n",
              "   <g id=\"text_37\">\n",
              "    <!-- 7 -->\n",
              "    <g style=\"fill: #808080\" transform=\"translate(20.535008 159.070072) scale(0.12 -0.12)\">\n",
              "     <use xlink:href=\"#DejaVuSans-37\"/>\n",
              "    </g>\n",
              "   </g>\n",
              "   <g id=\"text_38\">\n",
              "    <!--   -->\n",
              "    <g style=\"fill: #808080\" transform=\"translate(51.51768 159.070072) scale(0.12 -0.12)\">\n",
              "     <use xlink:href=\"#DejaVuSans-20\"/>\n",
              "    </g>\n",
              "   </g>\n",
              "   <g id=\"text_39\">\n",
              "    <!--   -->\n",
              "    <g style=\"fill: #808080\" transform=\"translate(80.589728 159.070072) scale(0.12 -0.12)\">\n",
              "     <use xlink:href=\"#DejaVuSans-20\"/>\n",
              "    </g>\n",
              "   </g>\n",
              "   <g id=\"text_40\">\n",
              "    <!--   -->\n",
              "    <g style=\"fill: #808080\" transform=\"translate(109.661775 159.070072) scale(0.12 -0.12)\">\n",
              "     <use xlink:href=\"#DejaVuSans-20\"/>\n",
              "    </g>\n",
              "   </g>\n",
              "   <g id=\"text_41\">\n",
              "    <!--   -->\n",
              "    <g style=\"fill: #808080\" transform=\"translate(138.733822 159.070072) scale(0.12 -0.12)\">\n",
              "     <use xlink:href=\"#DejaVuSans-20\"/>\n",
              "    </g>\n",
              "   </g>\n",
              "   <g id=\"text_42\">\n",
              "    <!--   -->\n",
              "    <g style=\"fill: #808080\" transform=\"translate(167.80587 159.070072) scale(0.12 -0.12)\">\n",
              "     <use xlink:href=\"#DejaVuSans-20\"/>\n",
              "    </g>\n",
              "   </g>\n",
              "   <g id=\"text_43\">\n",
              "    <!--   -->\n",
              "    <g style=\"fill: #808080\" transform=\"translate(196.877917 159.070072) scale(0.12 -0.12)\">\n",
              "     <use xlink:href=\"#DejaVuSans-20\"/>\n",
              "    </g>\n",
              "   </g>\n",
              "   <g id=\"text_44\">\n",
              "    <!--   -->\n",
              "    <g style=\"fill: #808080\" transform=\"translate(225.949965 159.070072) scale(0.12 -0.12)\">\n",
              "     <use xlink:href=\"#DejaVuSans-20\"/>\n",
              "    </g>\n",
              "   </g>\n",
              "   <g id=\"text_45\">\n",
              "    <!-- 8 -->\n",
              "    <g style=\"fill: #808080\" transform=\"translate(253.111387 159.070072) scale(0.12 -0.12)\">\n",
              "     <use xlink:href=\"#DejaVuSans-38\"/>\n",
              "    </g>\n",
              "   </g>\n",
              "   <g id=\"text_46\">\n",
              "    <!--   -->\n",
              "    <g style=\"fill: #808080\" transform=\"translate(22.445633 129.998025) scale(0.12 -0.12)\">\n",
              "     <use xlink:href=\"#DejaVuSans-20\"/>\n",
              "    </g>\n",
              "   </g>\n",
              "   <g id=\"text_47\">\n",
              "    <!--   -->\n",
              "    <g style=\"fill: #808080\" transform=\"translate(51.51768 129.998025) scale(0.12 -0.12)\">\n",
              "     <use xlink:href=\"#DejaVuSans-20\"/>\n",
              "    </g>\n",
              "   </g>\n",
              "   <g id=\"text_48\">\n",
              "    <!-- 8 -->\n",
              "    <g style=\"fill: #808080\" transform=\"translate(78.679103 129.998025) scale(0.12 -0.12)\">\n",
              "     <use xlink:href=\"#DejaVuSans-38\"/>\n",
              "    </g>\n",
              "   </g>\n",
              "   <g id=\"text_49\">\n",
              "    <!-- 1 -->\n",
              "    <g style=\"fill: #808080\" transform=\"translate(107.75115 129.998025) scale(0.12 -0.12)\">\n",
              "     <use xlink:href=\"#DejaVuSans-31\"/>\n",
              "    </g>\n",
              "   </g>\n",
              "   <g id=\"text_50\">\n",
              "    <!--   -->\n",
              "    <g style=\"fill: #808080\" transform=\"translate(138.733822 129.998025) scale(0.12 -0.12)\">\n",
              "     <use xlink:href=\"#DejaVuSans-20\"/>\n",
              "    </g>\n",
              "   </g>\n",
              "   <g id=\"text_51\">\n",
              "    <!-- 2 -->\n",
              "    <g style=\"fill: #808080\" transform=\"translate(165.895245 129.998025) scale(0.12 -0.12)\">\n",
              "     <use xlink:href=\"#DejaVuSans-32\"/>\n",
              "    </g>\n",
              "   </g>\n",
              "   <g id=\"text_52\">\n",
              "    <!-- 9 -->\n",
              "    <g style=\"fill: #808080\" transform=\"translate(194.967292 129.998025) scale(0.12 -0.12)\">\n",
              "     <use xlink:href=\"#DejaVuSans-39\"/>\n",
              "    </g>\n",
              "   </g>\n",
              "   <g id=\"text_53\">\n",
              "    <!--   -->\n",
              "    <g style=\"fill: #808080\" transform=\"translate(225.949965 129.998025) scale(0.12 -0.12)\">\n",
              "     <use xlink:href=\"#DejaVuSans-20\"/>\n",
              "    </g>\n",
              "   </g>\n",
              "   <g id=\"text_54\">\n",
              "    <!--   -->\n",
              "    <g style=\"fill: #808080\" transform=\"translate(255.022012 129.998025) scale(0.12 -0.12)\">\n",
              "     <use xlink:href=\"#DejaVuSans-20\"/>\n",
              "    </g>\n",
              "   </g>\n",
              "   <g id=\"text_55\">\n",
              "    <!--   -->\n",
              "    <g style=\"fill: #808080\" transform=\"translate(22.445633 100.925978) scale(0.12 -0.12)\">\n",
              "     <use xlink:href=\"#DejaVuSans-20\"/>\n",
              "    </g>\n",
              "   </g>\n",
              "   <g id=\"text_56\">\n",
              "    <!--   -->\n",
              "    <g style=\"fill: #808080\" transform=\"translate(51.51768 100.925978) scale(0.12 -0.12)\">\n",
              "     <use xlink:href=\"#DejaVuSans-20\"/>\n",
              "    </g>\n",
              "   </g>\n",
              "   <g id=\"text_57\">\n",
              "    <!-- 1 -->\n",
              "    <g style=\"fill: #808080\" transform=\"translate(78.679103 100.925978) scale(0.12 -0.12)\">\n",
              "     <use xlink:href=\"#DejaVuSans-31\"/>\n",
              "    </g>\n",
              "   </g>\n",
              "   <g id=\"text_58\">\n",
              "    <!-- 8 -->\n",
              "    <g style=\"fill: #808080\" transform=\"translate(107.75115 100.925978) scale(0.12 -0.12)\">\n",
              "     <use xlink:href=\"#DejaVuSans-38\"/>\n",
              "    </g>\n",
              "   </g>\n",
              "   <g id=\"text_59\">\n",
              "    <!--   -->\n",
              "    <g style=\"fill: #808080\" transform=\"translate(138.733822 100.925978) scale(0.12 -0.12)\">\n",
              "     <use xlink:href=\"#DejaVuSans-20\"/>\n",
              "    </g>\n",
              "   </g>\n",
              "   <g id=\"text_60\">\n",
              "    <!-- 6 -->\n",
              "    <g style=\"fill: #808080\" transform=\"translate(165.895245 100.925978) scale(0.12 -0.12)\">\n",
              "     <use xlink:href=\"#DejaVuSans-36\"/>\n",
              "    </g>\n",
              "   </g>\n",
              "   <g id=\"text_61\">\n",
              "    <!-- 4 -->\n",
              "    <g style=\"fill: #808080\" transform=\"translate(194.967292 100.925978) scale(0.12 -0.12)\">\n",
              "     <defs>\n",
              "      <path id=\"DejaVuSans-34\" d=\"M 2419 4116 \n",
              "L 825 1625 \n",
              "L 2419 1625 \n",
              "L 2419 4116 \n",
              "z\n",
              "M 2253 4666 \n",
              "L 3047 4666 \n",
              "L 3047 1625 \n",
              "L 3713 1625 \n",
              "L 3713 1100 \n",
              "L 3047 1100 \n",
              "L 3047 0 \n",
              "L 2419 0 \n",
              "L 2419 1100 \n",
              "L 313 1100 \n",
              "L 313 1709 \n",
              "L 2253 4666 \n",
              "z\n",
              "\" transform=\"scale(0.015625)\"/>\n",
              "     </defs>\n",
              "     <use xlink:href=\"#DejaVuSans-34\"/>\n",
              "    </g>\n",
              "   </g>\n",
              "   <g id=\"text_62\">\n",
              "    <!--   -->\n",
              "    <g style=\"fill: #808080\" transform=\"translate(225.949965 100.925978) scale(0.12 -0.12)\">\n",
              "     <use xlink:href=\"#DejaVuSans-20\"/>\n",
              "    </g>\n",
              "   </g>\n",
              "   <g id=\"text_63\">\n",
              "    <!--   -->\n",
              "    <g style=\"fill: #808080\" transform=\"translate(255.022012 100.925978) scale(0.12 -0.12)\">\n",
              "     <use xlink:href=\"#DejaVuSans-20\"/>\n",
              "    </g>\n",
              "   </g>\n",
              "   <g id=\"text_64\">\n",
              "    <!-- 9 -->\n",
              "    <g style=\"fill: #808080\" transform=\"translate(20.535008 71.85393) scale(0.12 -0.12)\">\n",
              "     <use xlink:href=\"#DejaVuSans-39\"/>\n",
              "    </g>\n",
              "   </g>\n",
              "   <g id=\"text_65\">\n",
              "    <!--   -->\n",
              "    <g style=\"fill: #808080\" transform=\"translate(51.51768 71.85393) scale(0.12 -0.12)\">\n",
              "     <use xlink:href=\"#DejaVuSans-20\"/>\n",
              "    </g>\n",
              "   </g>\n",
              "   <g id=\"text_66\">\n",
              "    <!--   -->\n",
              "    <g style=\"fill: #808080\" transform=\"translate(80.589728 71.85393) scale(0.12 -0.12)\">\n",
              "     <use xlink:href=\"#DejaVuSans-20\"/>\n",
              "    </g>\n",
              "   </g>\n",
              "   <g id=\"text_67\">\n",
              "    <!-- 3 -->\n",
              "    <g style=\"fill: #808080\" transform=\"translate(107.75115 71.85393) scale(0.12 -0.12)\">\n",
              "     <use xlink:href=\"#DejaVuSans-33\"/>\n",
              "    </g>\n",
              "   </g>\n",
              "   <g id=\"text_68\">\n",
              "    <!--   -->\n",
              "    <g style=\"fill: #808080\" transform=\"translate(138.733822 71.85393) scale(0.12 -0.12)\">\n",
              "     <use xlink:href=\"#DejaVuSans-20\"/>\n",
              "    </g>\n",
              "   </g>\n",
              "   <g id=\"text_69\">\n",
              "    <!-- 5 -->\n",
              "    <g style=\"fill: #808080\" transform=\"translate(165.895245 71.85393) scale(0.12 -0.12)\">\n",
              "     <use xlink:href=\"#DejaVuSans-35\"/>\n",
              "    </g>\n",
              "   </g>\n",
              "   <g id=\"text_70\">\n",
              "    <!--   -->\n",
              "    <g style=\"fill: #808080\" transform=\"translate(196.877917 71.85393) scale(0.12 -0.12)\">\n",
              "     <use xlink:href=\"#DejaVuSans-20\"/>\n",
              "    </g>\n",
              "   </g>\n",
              "   <g id=\"text_71\">\n",
              "    <!--   -->\n",
              "    <g style=\"fill: #808080\" transform=\"translate(225.949965 71.85393) scale(0.12 -0.12)\">\n",
              "     <use xlink:href=\"#DejaVuSans-20\"/>\n",
              "    </g>\n",
              "   </g>\n",
              "   <g id=\"text_72\">\n",
              "    <!-- 1 -->\n",
              "    <g style=\"fill: #808080\" transform=\"translate(253.111387 71.85393) scale(0.12 -0.12)\">\n",
              "     <use xlink:href=\"#DejaVuSans-31\"/>\n",
              "    </g>\n",
              "   </g>\n",
              "   <g id=\"text_73\">\n",
              "    <!--   -->\n",
              "    <g style=\"fill: #808080\" transform=\"translate(22.445633 42.781883) scale(0.12 -0.12)\">\n",
              "     <use xlink:href=\"#DejaVuSans-20\"/>\n",
              "    </g>\n",
              "   </g>\n",
              "   <g id=\"text_74\">\n",
              "    <!--   -->\n",
              "    <g style=\"fill: #808080\" transform=\"translate(51.51768 42.781883) scale(0.12 -0.12)\">\n",
              "     <use xlink:href=\"#DejaVuSans-20\"/>\n",
              "    </g>\n",
              "   </g>\n",
              "   <g id=\"text_75\">\n",
              "    <!-- 3 -->\n",
              "    <g style=\"fill: #808080\" transform=\"translate(78.679103 42.781883) scale(0.12 -0.12)\">\n",
              "     <use xlink:href=\"#DejaVuSans-33\"/>\n",
              "    </g>\n",
              "   </g>\n",
              "   <g id=\"text_76\">\n",
              "    <!--   -->\n",
              "    <g style=\"fill: #808080\" transform=\"translate(109.661775 42.781883) scale(0.12 -0.12)\">\n",
              "     <use xlink:href=\"#DejaVuSans-20\"/>\n",
              "    </g>\n",
              "   </g>\n",
              "   <g id=\"text_77\">\n",
              "    <!-- 2 -->\n",
              "    <g style=\"fill: #808080\" transform=\"translate(136.823197 42.781883) scale(0.12 -0.12)\">\n",
              "     <use xlink:href=\"#DejaVuSans-32\"/>\n",
              "    </g>\n",
              "   </g>\n",
              "   <g id=\"text_78\">\n",
              "    <!--   -->\n",
              "    <g style=\"fill: #808080\" transform=\"translate(167.80587 42.781883) scale(0.12 -0.12)\">\n",
              "     <use xlink:href=\"#DejaVuSans-20\"/>\n",
              "    </g>\n",
              "   </g>\n",
              "   <g id=\"text_79\">\n",
              "    <!-- 6 -->\n",
              "    <g style=\"fill: #808080\" transform=\"translate(194.967292 42.781883) scale(0.12 -0.12)\">\n",
              "     <use xlink:href=\"#DejaVuSans-36\"/>\n",
              "    </g>\n",
              "   </g>\n",
              "   <g id=\"text_80\">\n",
              "    <!--   -->\n",
              "    <g style=\"fill: #808080\" transform=\"translate(225.949965 42.781883) scale(0.12 -0.12)\">\n",
              "     <use xlink:href=\"#DejaVuSans-20\"/>\n",
              "    </g>\n",
              "   </g>\n",
              "   <g id=\"text_81\">\n",
              "    <!--   -->\n",
              "    <g style=\"fill: #808080\" transform=\"translate(255.022012 42.781883) scale(0.12 -0.12)\">\n",
              "     <use xlink:href=\"#DejaVuSans-20\"/>\n",
              "    </g>\n",
              "   </g>\n",
              "   <g id=\"text_82\">\n",
              "    <!-- Grid 01 -->\n",
              "    <g transform=\"translate(7.2 16.318125) scale(0.12 -0.12)\">\n",
              "     <defs>\n",
              "      <path id=\"DejaVuSans-Bold-47\" d=\"M 4781 347 \n",
              "Q 4331 128 3847 18 \n",
              "Q 3363 -91 2847 -91 \n",
              "Q 1681 -91 1000 561 \n",
              "Q 319 1213 319 2328 \n",
              "Q 319 3456 1012 4103 \n",
              "Q 1706 4750 2913 4750 \n",
              "Q 3378 4750 3804 4662 \n",
              "Q 4231 4575 4609 4403 \n",
              "L 4609 3438 \n",
              "Q 4219 3659 3833 3768 \n",
              "Q 3447 3878 3059 3878 \n",
              "Q 2341 3878 1952 3476 \n",
              "Q 1563 3075 1563 2328 \n",
              "Q 1563 1588 1938 1184 \n",
              "Q 2313 781 3003 781 \n",
              "Q 3191 781 3352 804 \n",
              "Q 3513 828 3641 878 \n",
              "L 3641 1784 \n",
              "L 2906 1784 \n",
              "L 2906 2591 \n",
              "L 4781 2591 \n",
              "L 4781 347 \n",
              "z\n",
              "\" transform=\"scale(0.015625)\"/>\n",
              "      <path id=\"DejaVuSans-Bold-72\" d=\"M 3138 2547 \n",
              "Q 2991 2616 2845 2648 \n",
              "Q 2700 2681 2553 2681 \n",
              "Q 2122 2681 1889 2404 \n",
              "Q 1656 2128 1656 1613 \n",
              "L 1656 0 \n",
              "L 538 0 \n",
              "L 538 3500 \n",
              "L 1656 3500 \n",
              "L 1656 2925 \n",
              "Q 1872 3269 2151 3426 \n",
              "Q 2431 3584 2822 3584 \n",
              "Q 2878 3584 2943 3579 \n",
              "Q 3009 3575 3134 3559 \n",
              "L 3138 2547 \n",
              "z\n",
              "\" transform=\"scale(0.015625)\"/>\n",
              "      <path id=\"DejaVuSans-Bold-69\" d=\"M 538 3500 \n",
              "L 1656 3500 \n",
              "L 1656 0 \n",
              "L 538 0 \n",
              "L 538 3500 \n",
              "z\n",
              "M 538 4863 \n",
              "L 1656 4863 \n",
              "L 1656 3950 \n",
              "L 538 3950 \n",
              "L 538 4863 \n",
              "z\n",
              "\" transform=\"scale(0.015625)\"/>\n",
              "      <path id=\"DejaVuSans-Bold-64\" d=\"M 2919 2988 \n",
              "L 2919 4863 \n",
              "L 4044 4863 \n",
              "L 4044 0 \n",
              "L 2919 0 \n",
              "L 2919 506 \n",
              "Q 2688 197 2409 53 \n",
              "Q 2131 -91 1766 -91 \n",
              "Q 1119 -91 703 423 \n",
              "Q 288 938 288 1747 \n",
              "Q 288 2556 703 3070 \n",
              "Q 1119 3584 1766 3584 \n",
              "Q 2128 3584 2408 3439 \n",
              "Q 2688 3294 2919 2988 \n",
              "z\n",
              "M 2181 722 \n",
              "Q 2541 722 2730 984 \n",
              "Q 2919 1247 2919 1747 \n",
              "Q 2919 2247 2730 2509 \n",
              "Q 2541 2772 2181 2772 \n",
              "Q 1825 2772 1636 2509 \n",
              "Q 1447 2247 1447 1747 \n",
              "Q 1447 1247 1636 984 \n",
              "Q 1825 722 2181 722 \n",
              "z\n",
              "\" transform=\"scale(0.015625)\"/>\n",
              "      <path id=\"DejaVuSans-Bold-20\" transform=\"scale(0.015625)\"/>\n",
              "      <path id=\"DejaVuSans-Bold-30\" d=\"M 2944 2338 \n",
              "Q 2944 3213 2780 3570 \n",
              "Q 2616 3928 2228 3928 \n",
              "Q 1841 3928 1675 3570 \n",
              "Q 1509 3213 1509 2338 \n",
              "Q 1509 1453 1675 1090 \n",
              "Q 1841 728 2228 728 \n",
              "Q 2613 728 2778 1090 \n",
              "Q 2944 1453 2944 2338 \n",
              "z\n",
              "M 4147 2328 \n",
              "Q 4147 1169 3647 539 \n",
              "Q 3147 -91 2228 -91 \n",
              "Q 1306 -91 806 539 \n",
              "Q 306 1169 306 2328 \n",
              "Q 306 3491 806 4120 \n",
              "Q 1306 4750 2228 4750 \n",
              "Q 3147 4750 3647 4120 \n",
              "Q 4147 3491 4147 2328 \n",
              "z\n",
              "\" transform=\"scale(0.015625)\"/>\n",
              "      <path id=\"DejaVuSans-Bold-31\" d=\"M 750 831 \n",
              "L 1813 831 \n",
              "L 1813 3847 \n",
              "L 722 3622 \n",
              "L 722 4441 \n",
              "L 1806 4666 \n",
              "L 2950 4666 \n",
              "L 2950 831 \n",
              "L 4013 831 \n",
              "L 4013 0 \n",
              "L 750 0 \n",
              "L 750 831 \n",
              "z\n",
              "\" transform=\"scale(0.015625)\"/>\n",
              "     </defs>\n",
              "     <use xlink:href=\"#DejaVuSans-Bold-47\"/>\n",
              "     <use xlink:href=\"#DejaVuSans-Bold-72\" x=\"82.080078\"/>\n",
              "     <use xlink:href=\"#DejaVuSans-Bold-69\" x=\"131.396484\"/>\n",
              "     <use xlink:href=\"#DejaVuSans-Bold-64\" x=\"165.673828\"/>\n",
              "     <use xlink:href=\"#DejaVuSans-Bold-20\" x=\"237.255859\"/>\n",
              "     <use xlink:href=\"#DejaVuSans-Bold-30\" x=\"272.070312\"/>\n",
              "     <use xlink:href=\"#DejaVuSans-Bold-31\" x=\"341.650391\"/>\n",
              "    </g>\n",
              "   </g>\n",
              "  </g>\n",
              " </g>\n",
              " <defs>\n",
              "  <clipPath id=\"p299fd05a65\">\n",
              "   <rect x=\"7.2\" y=\"22.318125\" width=\"266.881395\" height=\"266.881395\"/>\n",
              "  </clipPath>\n",
              " </defs>\n",
              "</svg>\n"
            ],
            "text/html": [
              "<style>\n",
              "* {\n",
              "  box-sizing: border-box;\n",
              "}\n",
              ".box, .board {\n",
              "  display: flex;\n",
              "  flex-wrap: wrap ;\n",
              "}\n",
              "\n",
              ".box, .box > div {\n",
              "  border: solid 1px ;\n",
              "  width: 33.33%;\n",
              "  text-align: center;\n",
              "}\n",
              "\n",
              ".box > div:before {\n",
              "  display: inline-block;\n",
              "  padding-top: 100%;\n",
              "  content: '';\n",
              "  vertical-align: middle;\n",
              "}\n",
              "\n",
              ".board {\n",
              "  width: 40%;\n",
              "  margin:0px;\n",
              "  font-size: calc(0.8vw + 10px);\n",
              "  border: solid 2px;\n",
              "}\n",
              "\n",
              ".box div {\n",
              "  color:gray;\n",
              "  text-shadow: 1px 1px 1px white;\n",
              "  vertical-align:middle;\n",
              "}\n",
              "</style>\n",
              "<h3>Grid 01</h3>\n",
              "<div class=\"board\"><div class=\"box\"><div> </div><div> </div><div>3</div><div>9</div><div> </div><div> </div><div> </div><div> </div><div>1</div></div><div class=\"box\"><div> </div><div>2</div><div> </div><div>3</div><div> </div><div>5</div><div>8</div><div> </div><div>6</div></div><div class=\"box\"><div>6</div><div> </div><div> </div><div> </div><div> </div><div>1</div><div>4</div><div> </div><div> </div></div><div class=\"box\"><div> </div><div> </div><div>8</div><div>7</div><div> </div><div> </div><div> </div><div> </div><div>6</div></div><div class=\"box\"><div>1</div><div> </div><div>2</div><div> </div><div> </div><div> </div><div>7</div><div> </div><div>8</div></div><div class=\"box\"><div>9</div><div> </div><div> </div><div> </div><div> </div><div>8</div><div>2</div><div> </div><div> </div></div><div class=\"box\"><div> </div><div> </div><div>2</div><div>8</div><div> </div><div> </div><div> </div><div> </div><div>5</div></div><div class=\"box\"><div>6</div><div> </div><div>9</div><div>2</div><div> </div><div>3</div><div> </div><div>1</div><div> </div></div><div class=\"box\"><div>5</div><div> </div><div> </div><div> </div><div> </div><div>9</div><div>3</div><div> </div><div> </div></div></div>"
            ],
            "text/plain": [
              "<__main__.Sudoku at 0x7f9b807c8340>"
            ]
          },
          "execution_count": 307,
          "metadata": {},
          "output_type": "execute_result"
        }
      ],
      "source": [
        "sudoku"
      ]
    },
    {
      "cell_type": "code",
      "execution_count": null,
      "metadata": {
        "id": "HqpON7enfYMH",
        "outputId": "f7afb46a-6141-4eae-b9e5-cf39ca9bb801"
      },
      "outputs": [
        {
          "name": "stdout",
          "output_type": "stream",
          "text": [
            "Grid 01:\n",
            "_ _ 3 _ 2 _ 6 _ _\n",
            "9 _ _ 3 _ 5 _ _ 1\n",
            "_ _ 1 8 _ 6 4 _ _\n",
            "_ _ 8 1 _ 2 9 _ _\n",
            "7 _ _ _ _ _ _ _ 8\n",
            "_ _ 6 7 _ 8 2 _ _\n",
            "_ _ 2 6 _ 9 5 _ _\n",
            "8 _ _ 2 _ 3 _ _ 9\n",
            "_ _ 5 _ 1 _ 3 _ _\n"
          ]
        },
        {
          "data": {
            "image/svg+xml": [
              "<?xml version=\"1.0\" encoding=\"utf-8\" standalone=\"no\"?>\n",
              "<!DOCTYPE svg PUBLIC \"-//W3C//DTD SVG 1.1//EN\"\n",
              "  \"http://www.w3.org/Graphics/SVG/1.1/DTD/svg11.dtd\">\n",
              "<svg xmlns:xlink=\"http://www.w3.org/1999/xlink\" width=\"281.281395pt\" height=\"296.39952pt\" viewBox=\"0 0 281.281395 296.39952\" xmlns=\"http://www.w3.org/2000/svg\" version=\"1.1\">\n",
              " <metadata>\n",
              "  <rdf:RDF xmlns:dc=\"http://purl.org/dc/elements/1.1/\" xmlns:cc=\"http://creativecommons.org/ns#\" xmlns:rdf=\"http://www.w3.org/1999/02/22-rdf-syntax-ns#\">\n",
              "   <cc:Work>\n",
              "    <dc:type rdf:resource=\"http://purl.org/dc/dcmitype/StillImage\"/>\n",
              "    <dc:date>2023-11-26T11:39:26.616049</dc:date>\n",
              "    <dc:format>image/svg+xml</dc:format>\n",
              "    <dc:creator>\n",
              "     <cc:Agent>\n",
              "      <dc:title>Matplotlib v3.7.2, https://matplotlib.org/</dc:title>\n",
              "     </cc:Agent>\n",
              "    </dc:creator>\n",
              "   </cc:Work>\n",
              "  </rdf:RDF>\n",
              " </metadata>\n",
              " <defs>\n",
              "  <style type=\"text/css\">*{stroke-linejoin: round; stroke-linecap: butt}</style>\n",
              " </defs>\n",
              " <g id=\"figure_1\">\n",
              "  <g id=\"patch_1\">\n",
              "   <path d=\"M 0 296.39952 \n",
              "L 281.281395 296.39952 \n",
              "L 281.281395 0 \n",
              "L 0 0 \n",
              "z\n",
              "\" style=\"fill: #ffffff\"/>\n",
              "  </g>\n",
              "  <g id=\"axes_1\">\n",
              "   <g id=\"line2d_1\">\n",
              "    <path d=\"M 9.816484 286.583036 \n",
              "L 271.464911 286.583036 \n",
              "\" clip-path=\"url(#p299fd05a65)\" style=\"fill: none; stroke: #000000; stroke-width: 2; stroke-linecap: square\"/>\n",
              "   </g>\n",
              "   <g id=\"line2d_2\">\n",
              "    <path d=\"M 9.816484 286.583036 \n",
              "L 9.816484 24.934609 \n",
              "\" clip-path=\"url(#p299fd05a65)\" style=\"fill: none; stroke: #000000; stroke-width: 2; stroke-linecap: square\"/>\n",
              "   </g>\n",
              "   <g id=\"line2d_3\">\n",
              "    <path d=\"M 9.816484 257.510988 \n",
              "L 271.464911 257.510988 \n",
              "\" clip-path=\"url(#p299fd05a65)\" style=\"fill: none; stroke: #000000; stroke-linecap: square\"/>\n",
              "   </g>\n",
              "   <g id=\"line2d_4\">\n",
              "    <path d=\"M 38.888532 286.583036 \n",
              "L 38.888532 24.934609 \n",
              "\" clip-path=\"url(#p299fd05a65)\" style=\"fill: none; stroke: #000000; stroke-linecap: square\"/>\n",
              "   </g>\n",
              "   <g id=\"line2d_5\">\n",
              "    <path d=\"M 9.816484 228.438941 \n",
              "L 271.464911 228.438941 \n",
              "\" clip-path=\"url(#p299fd05a65)\" style=\"fill: none; stroke: #000000; stroke-linecap: square\"/>\n",
              "   </g>\n",
              "   <g id=\"line2d_6\">\n",
              "    <path d=\"M 67.960579 286.583036 \n",
              "L 67.960579 24.934609 \n",
              "\" clip-path=\"url(#p299fd05a65)\" style=\"fill: none; stroke: #000000; stroke-linecap: square\"/>\n",
              "   </g>\n",
              "   <g id=\"line2d_7\">\n",
              "    <path d=\"M 9.816484 199.366894 \n",
              "L 271.464911 199.366894 \n",
              "\" clip-path=\"url(#p299fd05a65)\" style=\"fill: none; stroke: #000000; stroke-width: 2; stroke-linecap: square\"/>\n",
              "   </g>\n",
              "   <g id=\"line2d_8\">\n",
              "    <path d=\"M 97.032626 286.583036 \n",
              "L 97.032626 24.934609 \n",
              "\" clip-path=\"url(#p299fd05a65)\" style=\"fill: none; stroke: #000000; stroke-width: 2; stroke-linecap: square\"/>\n",
              "   </g>\n",
              "   <g id=\"line2d_9\">\n",
              "    <path d=\"M 9.816484 170.294846 \n",
              "L 271.464911 170.294846 \n",
              "\" clip-path=\"url(#p299fd05a65)\" style=\"fill: none; stroke: #000000; stroke-linecap: square\"/>\n",
              "   </g>\n",
              "   <g id=\"line2d_10\">\n",
              "    <path d=\"M 126.104674 286.583036 \n",
              "L 126.104674 24.934609 \n",
              "\" clip-path=\"url(#p299fd05a65)\" style=\"fill: none; stroke: #000000; stroke-linecap: square\"/>\n",
              "   </g>\n",
              "   <g id=\"line2d_11\">\n",
              "    <path d=\"M 9.816484 141.222799 \n",
              "L 271.464911 141.222799 \n",
              "\" clip-path=\"url(#p299fd05a65)\" style=\"fill: none; stroke: #000000; stroke-linecap: square\"/>\n",
              "   </g>\n",
              "   <g id=\"line2d_12\">\n",
              "    <path d=\"M 155.176721 286.583036 \n",
              "L 155.176721 24.934609 \n",
              "\" clip-path=\"url(#p299fd05a65)\" style=\"fill: none; stroke: #000000; stroke-linecap: square\"/>\n",
              "   </g>\n",
              "   <g id=\"line2d_13\">\n",
              "    <path d=\"M 9.816484 112.150751 \n",
              "L 271.464911 112.150751 \n",
              "\" clip-path=\"url(#p299fd05a65)\" style=\"fill: none; stroke: #000000; stroke-width: 2; stroke-linecap: square\"/>\n",
              "   </g>\n",
              "   <g id=\"line2d_14\">\n",
              "    <path d=\"M 184.248769 286.583036 \n",
              "L 184.248769 24.934609 \n",
              "\" clip-path=\"url(#p299fd05a65)\" style=\"fill: none; stroke: #000000; stroke-width: 2; stroke-linecap: square\"/>\n",
              "   </g>\n",
              "   <g id=\"line2d_15\">\n",
              "    <path d=\"M 9.816484 83.078704 \n",
              "L 271.464911 83.078704 \n",
              "\" clip-path=\"url(#p299fd05a65)\" style=\"fill: none; stroke: #000000; stroke-linecap: square\"/>\n",
              "   </g>\n",
              "   <g id=\"line2d_16\">\n",
              "    <path d=\"M 213.320816 286.583036 \n",
              "L 213.320816 24.934609 \n",
              "\" clip-path=\"url(#p299fd05a65)\" style=\"fill: none; stroke: #000000; stroke-linecap: square\"/>\n",
              "   </g>\n",
              "   <g id=\"line2d_17\">\n",
              "    <path d=\"M 9.816484 54.006657 \n",
              "L 271.464911 54.006657 \n",
              "\" clip-path=\"url(#p299fd05a65)\" style=\"fill: none; stroke: #000000; stroke-linecap: square\"/>\n",
              "   </g>\n",
              "   <g id=\"line2d_18\">\n",
              "    <path d=\"M 242.392863 286.583036 \n",
              "L 242.392863 24.934609 \n",
              "\" clip-path=\"url(#p299fd05a65)\" style=\"fill: none; stroke: #000000; stroke-linecap: square\"/>\n",
              "   </g>\n",
              "   <g id=\"line2d_19\">\n",
              "    <path d=\"M 9.816484 24.934609 \n",
              "L 271.464911 24.934609 \n",
              "\" clip-path=\"url(#p299fd05a65)\" style=\"fill: none; stroke: #000000; stroke-width: 2; stroke-linecap: square\"/>\n",
              "   </g>\n",
              "   <g id=\"line2d_20\">\n",
              "    <path d=\"M 271.464911 286.583036 \n",
              "L 271.464911 24.934609 \n",
              "\" clip-path=\"url(#p299fd05a65)\" style=\"fill: none; stroke: #000000; stroke-width: 2; stroke-linecap: square\"/>\n",
              "   </g>\n",
              "   <g id=\"text_1\">\n",
              "    <!--   -->\n",
              "    <g style=\"fill: #808080\" transform=\"translate(22.445633 275.358262) scale(0.12 -0.12)\">\n",
              "     <defs>\n",
              "      <path id=\"DejaVuSans-20\" transform=\"scale(0.015625)\"/>\n",
              "     </defs>\n",
              "     <use xlink:href=\"#DejaVuSans-20\"/>\n",
              "    </g>\n",
              "   </g>\n",
              "   <g id=\"text_2\">\n",
              "    <!--   -->\n",
              "    <g style=\"fill: #808080\" transform=\"translate(51.51768 275.358262) scale(0.12 -0.12)\">\n",
              "     <use xlink:href=\"#DejaVuSans-20\"/>\n",
              "    </g>\n",
              "   </g>\n",
              "   <g id=\"text_3\">\n",
              "    <!-- 5 -->\n",
              "    <g style=\"fill: #808080\" transform=\"translate(78.679103 275.358262) scale(0.12 -0.12)\">\n",
              "     <defs>\n",
              "      <path id=\"DejaVuSans-35\" d=\"M 691 4666 \n",
              "L 3169 4666 \n",
              "L 3169 4134 \n",
              "L 1269 4134 \n",
              "L 1269 2991 \n",
              "Q 1406 3038 1543 3061 \n",
              "Q 1681 3084 1819 3084 \n",
              "Q 2600 3084 3056 2656 \n",
              "Q 3513 2228 3513 1497 \n",
              "Q 3513 744 3044 326 \n",
              "Q 2575 -91 1722 -91 \n",
              "Q 1428 -91 1123 -41 \n",
              "Q 819 9 494 109 \n",
              "L 494 744 \n",
              "Q 775 591 1075 516 \n",
              "Q 1375 441 1709 441 \n",
              "Q 2250 441 2565 725 \n",
              "Q 2881 1009 2881 1497 \n",
              "Q 2881 1984 2565 2268 \n",
              "Q 2250 2553 1709 2553 \n",
              "Q 1456 2553 1204 2497 \n",
              "Q 953 2441 691 2322 \n",
              "L 691 4666 \n",
              "z\n",
              "\" transform=\"scale(0.015625)\"/>\n",
              "     </defs>\n",
              "     <use xlink:href=\"#DejaVuSans-35\"/>\n",
              "    </g>\n",
              "   </g>\n",
              "   <g id=\"text_4\">\n",
              "    <!--   -->\n",
              "    <g style=\"fill: #808080\" transform=\"translate(109.661775 275.358262) scale(0.12 -0.12)\">\n",
              "     <use xlink:href=\"#DejaVuSans-20\"/>\n",
              "    </g>\n",
              "   </g>\n",
              "   <g id=\"text_5\">\n",
              "    <!-- 1 -->\n",
              "    <g style=\"fill: #808080\" transform=\"translate(136.823197 275.358262) scale(0.12 -0.12)\">\n",
              "     <defs>\n",
              "      <path id=\"DejaVuSans-31\" d=\"M 794 531 \n",
              "L 1825 531 \n",
              "L 1825 4091 \n",
              "L 703 3866 \n",
              "L 703 4441 \n",
              "L 1819 4666 \n",
              "L 2450 4666 \n",
              "L 2450 531 \n",
              "L 3481 531 \n",
              "L 3481 0 \n",
              "L 794 0 \n",
              "L 794 531 \n",
              "z\n",
              "\" transform=\"scale(0.015625)\"/>\n",
              "     </defs>\n",
              "     <use xlink:href=\"#DejaVuSans-31\"/>\n",
              "    </g>\n",
              "   </g>\n",
              "   <g id=\"text_6\">\n",
              "    <!--   -->\n",
              "    <g style=\"fill: #808080\" transform=\"translate(167.80587 275.358262) scale(0.12 -0.12)\">\n",
              "     <use xlink:href=\"#DejaVuSans-20\"/>\n",
              "    </g>\n",
              "   </g>\n",
              "   <g id=\"text_7\">\n",
              "    <!-- 3 -->\n",
              "    <g style=\"fill: #808080\" transform=\"translate(194.967292 275.358262) scale(0.12 -0.12)\">\n",
              "     <defs>\n",
              "      <path id=\"DejaVuSans-33\" d=\"M 2597 2516 \n",
              "Q 3050 2419 3304 2112 \n",
              "Q 3559 1806 3559 1356 \n",
              "Q 3559 666 3084 287 \n",
              "Q 2609 -91 1734 -91 \n",
              "Q 1441 -91 1130 -33 \n",
              "Q 819 25 488 141 \n",
              "L 488 750 \n",
              "Q 750 597 1062 519 \n",
              "Q 1375 441 1716 441 \n",
              "Q 2309 441 2620 675 \n",
              "Q 2931 909 2931 1356 \n",
              "Q 2931 1769 2642 2001 \n",
              "Q 2353 2234 1838 2234 \n",
              "L 1294 2234 \n",
              "L 1294 2753 \n",
              "L 1863 2753 \n",
              "Q 2328 2753 2575 2939 \n",
              "Q 2822 3125 2822 3475 \n",
              "Q 2822 3834 2567 4026 \n",
              "Q 2313 4219 1838 4219 \n",
              "Q 1578 4219 1281 4162 \n",
              "Q 984 4106 628 3988 \n",
              "L 628 4550 \n",
              "Q 988 4650 1302 4700 \n",
              "Q 1616 4750 1894 4750 \n",
              "Q 2613 4750 3031 4423 \n",
              "Q 3450 4097 3450 3541 \n",
              "Q 3450 3153 3228 2886 \n",
              "Q 3006 2619 2597 2516 \n",
              "z\n",
              "\" transform=\"scale(0.015625)\"/>\n",
              "     </defs>\n",
              "     <use xlink:href=\"#DejaVuSans-33\"/>\n",
              "    </g>\n",
              "   </g>\n",
              "   <g id=\"text_8\">\n",
              "    <!--   -->\n",
              "    <g style=\"fill: #808080\" transform=\"translate(225.949965 275.358262) scale(0.12 -0.12)\">\n",
              "     <use xlink:href=\"#DejaVuSans-20\"/>\n",
              "    </g>\n",
              "   </g>\n",
              "   <g id=\"text_9\">\n",
              "    <!--   -->\n",
              "    <g style=\"fill: #808080\" transform=\"translate(255.022012 275.358262) scale(0.12 -0.12)\">\n",
              "     <use xlink:href=\"#DejaVuSans-20\"/>\n",
              "    </g>\n",
              "   </g>\n",
              "   <g id=\"text_10\">\n",
              "    <!-- 8 -->\n",
              "    <g style=\"fill: #808080\" transform=\"translate(20.535008 246.286215) scale(0.12 -0.12)\">\n",
              "     <defs>\n",
              "      <path id=\"DejaVuSans-38\" d=\"M 2034 2216 \n",
              "Q 1584 2216 1326 1975 \n",
              "Q 1069 1734 1069 1313 \n",
              "Q 1069 891 1326 650 \n",
              "Q 1584 409 2034 409 \n",
              "Q 2484 409 2743 651 \n",
              "Q 3003 894 3003 1313 \n",
              "Q 3003 1734 2745 1975 \n",
              "Q 2488 2216 2034 2216 \n",
              "z\n",
              "M 1403 2484 \n",
              "Q 997 2584 770 2862 \n",
              "Q 544 3141 544 3541 \n",
              "Q 544 4100 942 4425 \n",
              "Q 1341 4750 2034 4750 \n",
              "Q 2731 4750 3128 4425 \n",
              "Q 3525 4100 3525 3541 \n",
              "Q 3525 3141 3298 2862 \n",
              "Q 3072 2584 2669 2484 \n",
              "Q 3125 2378 3379 2068 \n",
              "Q 3634 1759 3634 1313 \n",
              "Q 3634 634 3220 271 \n",
              "Q 2806 -91 2034 -91 \n",
              "Q 1263 -91 848 271 \n",
              "Q 434 634 434 1313 \n",
              "Q 434 1759 690 2068 \n",
              "Q 947 2378 1403 2484 \n",
              "z\n",
              "M 1172 3481 \n",
              "Q 1172 3119 1398 2916 \n",
              "Q 1625 2713 2034 2713 \n",
              "Q 2441 2713 2670 2916 \n",
              "Q 2900 3119 2900 3481 \n",
              "Q 2900 3844 2670 4047 \n",
              "Q 2441 4250 2034 4250 \n",
              "Q 1625 4250 1398 4047 \n",
              "Q 1172 3844 1172 3481 \n",
              "z\n",
              "\" transform=\"scale(0.015625)\"/>\n",
              "     </defs>\n",
              "     <use xlink:href=\"#DejaVuSans-38\"/>\n",
              "    </g>\n",
              "   </g>\n",
              "   <g id=\"text_11\">\n",
              "    <!--   -->\n",
              "    <g style=\"fill: #808080\" transform=\"translate(51.51768 246.286215) scale(0.12 -0.12)\">\n",
              "     <use xlink:href=\"#DejaVuSans-20\"/>\n",
              "    </g>\n",
              "   </g>\n",
              "   <g id=\"text_12\">\n",
              "    <!--   -->\n",
              "    <g style=\"fill: #808080\" transform=\"translate(80.589728 246.286215) scale(0.12 -0.12)\">\n",
              "     <use xlink:href=\"#DejaVuSans-20\"/>\n",
              "    </g>\n",
              "   </g>\n",
              "   <g id=\"text_13\">\n",
              "    <!-- 2 -->\n",
              "    <g style=\"fill: #808080\" transform=\"translate(107.75115 246.286215) scale(0.12 -0.12)\">\n",
              "     <defs>\n",
              "      <path id=\"DejaVuSans-32\" d=\"M 1228 531 \n",
              "L 3431 531 \n",
              "L 3431 0 \n",
              "L 469 0 \n",
              "L 469 531 \n",
              "Q 828 903 1448 1529 \n",
              "Q 2069 2156 2228 2338 \n",
              "Q 2531 2678 2651 2914 \n",
              "Q 2772 3150 2772 3378 \n",
              "Q 2772 3750 2511 3984 \n",
              "Q 2250 4219 1831 4219 \n",
              "Q 1534 4219 1204 4116 \n",
              "Q 875 4013 500 3803 \n",
              "L 500 4441 \n",
              "Q 881 4594 1212 4672 \n",
              "Q 1544 4750 1819 4750 \n",
              "Q 2544 4750 2975 4387 \n",
              "Q 3406 4025 3406 3419 \n",
              "Q 3406 3131 3298 2873 \n",
              "Q 3191 2616 2906 2266 \n",
              "Q 2828 2175 2409 1742 \n",
              "Q 1991 1309 1228 531 \n",
              "z\n",
              "\" transform=\"scale(0.015625)\"/>\n",
              "     </defs>\n",
              "     <use xlink:href=\"#DejaVuSans-32\"/>\n",
              "    </g>\n",
              "   </g>\n",
              "   <g id=\"text_14\">\n",
              "    <!--   -->\n",
              "    <g style=\"fill: #808080\" transform=\"translate(138.733822 246.286215) scale(0.12 -0.12)\">\n",
              "     <use xlink:href=\"#DejaVuSans-20\"/>\n",
              "    </g>\n",
              "   </g>\n",
              "   <g id=\"text_15\">\n",
              "    <!-- 3 -->\n",
              "    <g style=\"fill: #808080\" transform=\"translate(165.895245 246.286215) scale(0.12 -0.12)\">\n",
              "     <use xlink:href=\"#DejaVuSans-33\"/>\n",
              "    </g>\n",
              "   </g>\n",
              "   <g id=\"text_16\">\n",
              "    <!--   -->\n",
              "    <g style=\"fill: #808080\" transform=\"translate(196.877917 246.286215) scale(0.12 -0.12)\">\n",
              "     <use xlink:href=\"#DejaVuSans-20\"/>\n",
              "    </g>\n",
              "   </g>\n",
              "   <g id=\"text_17\">\n",
              "    <!--   -->\n",
              "    <g style=\"fill: #808080\" transform=\"translate(225.949965 246.286215) scale(0.12 -0.12)\">\n",
              "     <use xlink:href=\"#DejaVuSans-20\"/>\n",
              "    </g>\n",
              "   </g>\n",
              "   <g id=\"text_18\">\n",
              "    <!-- 9 -->\n",
              "    <g style=\"fill: #808080\" transform=\"translate(253.111387 246.286215) scale(0.12 -0.12)\">\n",
              "     <defs>\n",
              "      <path id=\"DejaVuSans-39\" d=\"M 703 97 \n",
              "L 703 672 \n",
              "Q 941 559 1184 500 \n",
              "Q 1428 441 1663 441 \n",
              "Q 2288 441 2617 861 \n",
              "Q 2947 1281 2994 2138 \n",
              "Q 2813 1869 2534 1725 \n",
              "Q 2256 1581 1919 1581 \n",
              "Q 1219 1581 811 2004 \n",
              "Q 403 2428 403 3163 \n",
              "Q 403 3881 828 4315 \n",
              "Q 1253 4750 1959 4750 \n",
              "Q 2769 4750 3195 4129 \n",
              "Q 3622 3509 3622 2328 \n",
              "Q 3622 1225 3098 567 \n",
              "Q 2575 -91 1691 -91 \n",
              "Q 1453 -91 1209 -44 \n",
              "Q 966 3 703 97 \n",
              "z\n",
              "M 1959 2075 \n",
              "Q 2384 2075 2632 2365 \n",
              "Q 2881 2656 2881 3163 \n",
              "Q 2881 3666 2632 3958 \n",
              "Q 2384 4250 1959 4250 \n",
              "Q 1534 4250 1286 3958 \n",
              "Q 1038 3666 1038 3163 \n",
              "Q 1038 2656 1286 2365 \n",
              "Q 1534 2075 1959 2075 \n",
              "z\n",
              "\" transform=\"scale(0.015625)\"/>\n",
              "     </defs>\n",
              "     <use xlink:href=\"#DejaVuSans-39\"/>\n",
              "    </g>\n",
              "   </g>\n",
              "   <g id=\"text_19\">\n",
              "    <!--   -->\n",
              "    <g style=\"fill: #808080\" transform=\"translate(22.445633 217.214167) scale(0.12 -0.12)\">\n",
              "     <use xlink:href=\"#DejaVuSans-20\"/>\n",
              "    </g>\n",
              "   </g>\n",
              "   <g id=\"text_20\">\n",
              "    <!--   -->\n",
              "    <g style=\"fill: #808080\" transform=\"translate(51.51768 217.214167) scale(0.12 -0.12)\">\n",
              "     <use xlink:href=\"#DejaVuSans-20\"/>\n",
              "    </g>\n",
              "   </g>\n",
              "   <g id=\"text_21\">\n",
              "    <!-- 2 -->\n",
              "    <g style=\"fill: #808080\" transform=\"translate(78.679103 217.214167) scale(0.12 -0.12)\">\n",
              "     <use xlink:href=\"#DejaVuSans-32\"/>\n",
              "    </g>\n",
              "   </g>\n",
              "   <g id=\"text_22\">\n",
              "    <!-- 6 -->\n",
              "    <g style=\"fill: #808080\" transform=\"translate(107.75115 217.214167) scale(0.12 -0.12)\">\n",
              "     <defs>\n",
              "      <path id=\"DejaVuSans-36\" d=\"M 2113 2584 \n",
              "Q 1688 2584 1439 2293 \n",
              "Q 1191 2003 1191 1497 \n",
              "Q 1191 994 1439 701 \n",
              "Q 1688 409 2113 409 \n",
              "Q 2538 409 2786 701 \n",
              "Q 3034 994 3034 1497 \n",
              "Q 3034 2003 2786 2293 \n",
              "Q 2538 2584 2113 2584 \n",
              "z\n",
              "M 3366 4563 \n",
              "L 3366 3988 \n",
              "Q 3128 4100 2886 4159 \n",
              "Q 2644 4219 2406 4219 \n",
              "Q 1781 4219 1451 3797 \n",
              "Q 1122 3375 1075 2522 \n",
              "Q 1259 2794 1537 2939 \n",
              "Q 1816 3084 2150 3084 \n",
              "Q 2853 3084 3261 2657 \n",
              "Q 3669 2231 3669 1497 \n",
              "Q 3669 778 3244 343 \n",
              "Q 2819 -91 2113 -91 \n",
              "Q 1303 -91 875 529 \n",
              "Q 447 1150 447 2328 \n",
              "Q 447 3434 972 4092 \n",
              "Q 1497 4750 2381 4750 \n",
              "Q 2619 4750 2861 4703 \n",
              "Q 3103 4656 3366 4563 \n",
              "z\n",
              "\" transform=\"scale(0.015625)\"/>\n",
              "     </defs>\n",
              "     <use xlink:href=\"#DejaVuSans-36\"/>\n",
              "    </g>\n",
              "   </g>\n",
              "   <g id=\"text_23\">\n",
              "    <!--   -->\n",
              "    <g style=\"fill: #808080\" transform=\"translate(138.733822 217.214167) scale(0.12 -0.12)\">\n",
              "     <use xlink:href=\"#DejaVuSans-20\"/>\n",
              "    </g>\n",
              "   </g>\n",
              "   <g id=\"text_24\">\n",
              "    <!-- 9 -->\n",
              "    <g style=\"fill: #808080\" transform=\"translate(165.895245 217.214167) scale(0.12 -0.12)\">\n",
              "     <use xlink:href=\"#DejaVuSans-39\"/>\n",
              "    </g>\n",
              "   </g>\n",
              "   <g id=\"text_25\">\n",
              "    <!-- 5 -->\n",
              "    <g style=\"fill: #808080\" transform=\"translate(194.967292 217.214167) scale(0.12 -0.12)\">\n",
              "     <use xlink:href=\"#DejaVuSans-35\"/>\n",
              "    </g>\n",
              "   </g>\n",
              "   <g id=\"text_26\">\n",
              "    <!--   -->\n",
              "    <g style=\"fill: #808080\" transform=\"translate(225.949965 217.214167) scale(0.12 -0.12)\">\n",
              "     <use xlink:href=\"#DejaVuSans-20\"/>\n",
              "    </g>\n",
              "   </g>\n",
              "   <g id=\"text_27\">\n",
              "    <!--   -->\n",
              "    <g style=\"fill: #808080\" transform=\"translate(255.022012 217.214167) scale(0.12 -0.12)\">\n",
              "     <use xlink:href=\"#DejaVuSans-20\"/>\n",
              "    </g>\n",
              "   </g>\n",
              "   <g id=\"text_28\">\n",
              "    <!--   -->\n",
              "    <g style=\"fill: #808080\" transform=\"translate(22.445633 188.14212) scale(0.12 -0.12)\">\n",
              "     <use xlink:href=\"#DejaVuSans-20\"/>\n",
              "    </g>\n",
              "   </g>\n",
              "   <g id=\"text_29\">\n",
              "    <!--   -->\n",
              "    <g style=\"fill: #808080\" transform=\"translate(51.51768 188.14212) scale(0.12 -0.12)\">\n",
              "     <use xlink:href=\"#DejaVuSans-20\"/>\n",
              "    </g>\n",
              "   </g>\n",
              "   <g id=\"text_30\">\n",
              "    <!-- 6 -->\n",
              "    <g style=\"fill: #808080\" transform=\"translate(78.679103 188.14212) scale(0.12 -0.12)\">\n",
              "     <use xlink:href=\"#DejaVuSans-36\"/>\n",
              "    </g>\n",
              "   </g>\n",
              "   <g id=\"text_31\">\n",
              "    <!-- 7 -->\n",
              "    <g style=\"fill: #808080\" transform=\"translate(107.75115 188.14212) scale(0.12 -0.12)\">\n",
              "     <defs>\n",
              "      <path id=\"DejaVuSans-37\" d=\"M 525 4666 \n",
              "L 3525 4666 \n",
              "L 3525 4397 \n",
              "L 1831 0 \n",
              "L 1172 0 \n",
              "L 2766 4134 \n",
              "L 525 4134 \n",
              "L 525 4666 \n",
              "z\n",
              "\" transform=\"scale(0.015625)\"/>\n",
              "     </defs>\n",
              "     <use xlink:href=\"#DejaVuSans-37\"/>\n",
              "    </g>\n",
              "   </g>\n",
              "   <g id=\"text_32\">\n",
              "    <!--   -->\n",
              "    <g style=\"fill: #808080\" transform=\"translate(138.733822 188.14212) scale(0.12 -0.12)\">\n",
              "     <use xlink:href=\"#DejaVuSans-20\"/>\n",
              "    </g>\n",
              "   </g>\n",
              "   <g id=\"text_33\">\n",
              "    <!-- 8 -->\n",
              "    <g style=\"fill: #808080\" transform=\"translate(165.895245 188.14212) scale(0.12 -0.12)\">\n",
              "     <use xlink:href=\"#DejaVuSans-38\"/>\n",
              "    </g>\n",
              "   </g>\n",
              "   <g id=\"text_34\">\n",
              "    <!-- 2 -->\n",
              "    <g style=\"fill: #808080\" transform=\"translate(194.967292 188.14212) scale(0.12 -0.12)\">\n",
              "     <use xlink:href=\"#DejaVuSans-32\"/>\n",
              "    </g>\n",
              "   </g>\n",
              "   <g id=\"text_35\">\n",
              "    <!--   -->\n",
              "    <g style=\"fill: #808080\" transform=\"translate(225.949965 188.14212) scale(0.12 -0.12)\">\n",
              "     <use xlink:href=\"#DejaVuSans-20\"/>\n",
              "    </g>\n",
              "   </g>\n",
              "   <g id=\"text_36\">\n",
              "    <!--   -->\n",
              "    <g style=\"fill: #808080\" transform=\"translate(255.022012 188.14212) scale(0.12 -0.12)\">\n",
              "     <use xlink:href=\"#DejaVuSans-20\"/>\n",
              "    </g>\n",
              "   </g>\n",
              "   <g id=\"text_37\">\n",
              "    <!-- 7 -->\n",
              "    <g style=\"fill: #808080\" transform=\"translate(20.535008 159.070072) scale(0.12 -0.12)\">\n",
              "     <use xlink:href=\"#DejaVuSans-37\"/>\n",
              "    </g>\n",
              "   </g>\n",
              "   <g id=\"text_38\">\n",
              "    <!--   -->\n",
              "    <g style=\"fill: #808080\" transform=\"translate(51.51768 159.070072) scale(0.12 -0.12)\">\n",
              "     <use xlink:href=\"#DejaVuSans-20\"/>\n",
              "    </g>\n",
              "   </g>\n",
              "   <g id=\"text_39\">\n",
              "    <!--   -->\n",
              "    <g style=\"fill: #808080\" transform=\"translate(80.589728 159.070072) scale(0.12 -0.12)\">\n",
              "     <use xlink:href=\"#DejaVuSans-20\"/>\n",
              "    </g>\n",
              "   </g>\n",
              "   <g id=\"text_40\">\n",
              "    <!--   -->\n",
              "    <g style=\"fill: #808080\" transform=\"translate(109.661775 159.070072) scale(0.12 -0.12)\">\n",
              "     <use xlink:href=\"#DejaVuSans-20\"/>\n",
              "    </g>\n",
              "   </g>\n",
              "   <g id=\"text_41\">\n",
              "    <!--   -->\n",
              "    <g style=\"fill: #808080\" transform=\"translate(138.733822 159.070072) scale(0.12 -0.12)\">\n",
              "     <use xlink:href=\"#DejaVuSans-20\"/>\n",
              "    </g>\n",
              "   </g>\n",
              "   <g id=\"text_42\">\n",
              "    <!--   -->\n",
              "    <g style=\"fill: #808080\" transform=\"translate(167.80587 159.070072) scale(0.12 -0.12)\">\n",
              "     <use xlink:href=\"#DejaVuSans-20\"/>\n",
              "    </g>\n",
              "   </g>\n",
              "   <g id=\"text_43\">\n",
              "    <!--   -->\n",
              "    <g style=\"fill: #808080\" transform=\"translate(196.877917 159.070072) scale(0.12 -0.12)\">\n",
              "     <use xlink:href=\"#DejaVuSans-20\"/>\n",
              "    </g>\n",
              "   </g>\n",
              "   <g id=\"text_44\">\n",
              "    <!--   -->\n",
              "    <g style=\"fill: #808080\" transform=\"translate(225.949965 159.070072) scale(0.12 -0.12)\">\n",
              "     <use xlink:href=\"#DejaVuSans-20\"/>\n",
              "    </g>\n",
              "   </g>\n",
              "   <g id=\"text_45\">\n",
              "    <!-- 8 -->\n",
              "    <g style=\"fill: #808080\" transform=\"translate(253.111387 159.070072) scale(0.12 -0.12)\">\n",
              "     <use xlink:href=\"#DejaVuSans-38\"/>\n",
              "    </g>\n",
              "   </g>\n",
              "   <g id=\"text_46\">\n",
              "    <!--   -->\n",
              "    <g style=\"fill: #808080\" transform=\"translate(22.445633 129.998025) scale(0.12 -0.12)\">\n",
              "     <use xlink:href=\"#DejaVuSans-20\"/>\n",
              "    </g>\n",
              "   </g>\n",
              "   <g id=\"text_47\">\n",
              "    <!--   -->\n",
              "    <g style=\"fill: #808080\" transform=\"translate(51.51768 129.998025) scale(0.12 -0.12)\">\n",
              "     <use xlink:href=\"#DejaVuSans-20\"/>\n",
              "    </g>\n",
              "   </g>\n",
              "   <g id=\"text_48\">\n",
              "    <!-- 8 -->\n",
              "    <g style=\"fill: #808080\" transform=\"translate(78.679103 129.998025) scale(0.12 -0.12)\">\n",
              "     <use xlink:href=\"#DejaVuSans-38\"/>\n",
              "    </g>\n",
              "   </g>\n",
              "   <g id=\"text_49\">\n",
              "    <!-- 1 -->\n",
              "    <g style=\"fill: #808080\" transform=\"translate(107.75115 129.998025) scale(0.12 -0.12)\">\n",
              "     <use xlink:href=\"#DejaVuSans-31\"/>\n",
              "    </g>\n",
              "   </g>\n",
              "   <g id=\"text_50\">\n",
              "    <!--   -->\n",
              "    <g style=\"fill: #808080\" transform=\"translate(138.733822 129.998025) scale(0.12 -0.12)\">\n",
              "     <use xlink:href=\"#DejaVuSans-20\"/>\n",
              "    </g>\n",
              "   </g>\n",
              "   <g id=\"text_51\">\n",
              "    <!-- 2 -->\n",
              "    <g style=\"fill: #808080\" transform=\"translate(165.895245 129.998025) scale(0.12 -0.12)\">\n",
              "     <use xlink:href=\"#DejaVuSans-32\"/>\n",
              "    </g>\n",
              "   </g>\n",
              "   <g id=\"text_52\">\n",
              "    <!-- 9 -->\n",
              "    <g style=\"fill: #808080\" transform=\"translate(194.967292 129.998025) scale(0.12 -0.12)\">\n",
              "     <use xlink:href=\"#DejaVuSans-39\"/>\n",
              "    </g>\n",
              "   </g>\n",
              "   <g id=\"text_53\">\n",
              "    <!--   -->\n",
              "    <g style=\"fill: #808080\" transform=\"translate(225.949965 129.998025) scale(0.12 -0.12)\">\n",
              "     <use xlink:href=\"#DejaVuSans-20\"/>\n",
              "    </g>\n",
              "   </g>\n",
              "   <g id=\"text_54\">\n",
              "    <!--   -->\n",
              "    <g style=\"fill: #808080\" transform=\"translate(255.022012 129.998025) scale(0.12 -0.12)\">\n",
              "     <use xlink:href=\"#DejaVuSans-20\"/>\n",
              "    </g>\n",
              "   </g>\n",
              "   <g id=\"text_55\">\n",
              "    <!--   -->\n",
              "    <g style=\"fill: #808080\" transform=\"translate(22.445633 100.925978) scale(0.12 -0.12)\">\n",
              "     <use xlink:href=\"#DejaVuSans-20\"/>\n",
              "    </g>\n",
              "   </g>\n",
              "   <g id=\"text_56\">\n",
              "    <!--   -->\n",
              "    <g style=\"fill: #808080\" transform=\"translate(51.51768 100.925978) scale(0.12 -0.12)\">\n",
              "     <use xlink:href=\"#DejaVuSans-20\"/>\n",
              "    </g>\n",
              "   </g>\n",
              "   <g id=\"text_57\">\n",
              "    <!-- 1 -->\n",
              "    <g style=\"fill: #808080\" transform=\"translate(78.679103 100.925978) scale(0.12 -0.12)\">\n",
              "     <use xlink:href=\"#DejaVuSans-31\"/>\n",
              "    </g>\n",
              "   </g>\n",
              "   <g id=\"text_58\">\n",
              "    <!-- 8 -->\n",
              "    <g style=\"fill: #808080\" transform=\"translate(107.75115 100.925978) scale(0.12 -0.12)\">\n",
              "     <use xlink:href=\"#DejaVuSans-38\"/>\n",
              "    </g>\n",
              "   </g>\n",
              "   <g id=\"text_59\">\n",
              "    <!--   -->\n",
              "    <g style=\"fill: #808080\" transform=\"translate(138.733822 100.925978) scale(0.12 -0.12)\">\n",
              "     <use xlink:href=\"#DejaVuSans-20\"/>\n",
              "    </g>\n",
              "   </g>\n",
              "   <g id=\"text_60\">\n",
              "    <!-- 6 -->\n",
              "    <g style=\"fill: #808080\" transform=\"translate(165.895245 100.925978) scale(0.12 -0.12)\">\n",
              "     <use xlink:href=\"#DejaVuSans-36\"/>\n",
              "    </g>\n",
              "   </g>\n",
              "   <g id=\"text_61\">\n",
              "    <!-- 4 -->\n",
              "    <g style=\"fill: #808080\" transform=\"translate(194.967292 100.925978) scale(0.12 -0.12)\">\n",
              "     <defs>\n",
              "      <path id=\"DejaVuSans-34\" d=\"M 2419 4116 \n",
              "L 825 1625 \n",
              "L 2419 1625 \n",
              "L 2419 4116 \n",
              "z\n",
              "M 2253 4666 \n",
              "L 3047 4666 \n",
              "L 3047 1625 \n",
              "L 3713 1625 \n",
              "L 3713 1100 \n",
              "L 3047 1100 \n",
              "L 3047 0 \n",
              "L 2419 0 \n",
              "L 2419 1100 \n",
              "L 313 1100 \n",
              "L 313 1709 \n",
              "L 2253 4666 \n",
              "z\n",
              "\" transform=\"scale(0.015625)\"/>\n",
              "     </defs>\n",
              "     <use xlink:href=\"#DejaVuSans-34\"/>\n",
              "    </g>\n",
              "   </g>\n",
              "   <g id=\"text_62\">\n",
              "    <!--   -->\n",
              "    <g style=\"fill: #808080\" transform=\"translate(225.949965 100.925978) scale(0.12 -0.12)\">\n",
              "     <use xlink:href=\"#DejaVuSans-20\"/>\n",
              "    </g>\n",
              "   </g>\n",
              "   <g id=\"text_63\">\n",
              "    <!--   -->\n",
              "    <g style=\"fill: #808080\" transform=\"translate(255.022012 100.925978) scale(0.12 -0.12)\">\n",
              "     <use xlink:href=\"#DejaVuSans-20\"/>\n",
              "    </g>\n",
              "   </g>\n",
              "   <g id=\"text_64\">\n",
              "    <!-- 9 -->\n",
              "    <g style=\"fill: #808080\" transform=\"translate(20.535008 71.85393) scale(0.12 -0.12)\">\n",
              "     <use xlink:href=\"#DejaVuSans-39\"/>\n",
              "    </g>\n",
              "   </g>\n",
              "   <g id=\"text_65\">\n",
              "    <!--   -->\n",
              "    <g style=\"fill: #808080\" transform=\"translate(51.51768 71.85393) scale(0.12 -0.12)\">\n",
              "     <use xlink:href=\"#DejaVuSans-20\"/>\n",
              "    </g>\n",
              "   </g>\n",
              "   <g id=\"text_66\">\n",
              "    <!--   -->\n",
              "    <g style=\"fill: #808080\" transform=\"translate(80.589728 71.85393) scale(0.12 -0.12)\">\n",
              "     <use xlink:href=\"#DejaVuSans-20\"/>\n",
              "    </g>\n",
              "   </g>\n",
              "   <g id=\"text_67\">\n",
              "    <!-- 3 -->\n",
              "    <g style=\"fill: #808080\" transform=\"translate(107.75115 71.85393) scale(0.12 -0.12)\">\n",
              "     <use xlink:href=\"#DejaVuSans-33\"/>\n",
              "    </g>\n",
              "   </g>\n",
              "   <g id=\"text_68\">\n",
              "    <!--   -->\n",
              "    <g style=\"fill: #808080\" transform=\"translate(138.733822 71.85393) scale(0.12 -0.12)\">\n",
              "     <use xlink:href=\"#DejaVuSans-20\"/>\n",
              "    </g>\n",
              "   </g>\n",
              "   <g id=\"text_69\">\n",
              "    <!-- 5 -->\n",
              "    <g style=\"fill: #808080\" transform=\"translate(165.895245 71.85393) scale(0.12 -0.12)\">\n",
              "     <use xlink:href=\"#DejaVuSans-35\"/>\n",
              "    </g>\n",
              "   </g>\n",
              "   <g id=\"text_70\">\n",
              "    <!--   -->\n",
              "    <g style=\"fill: #808080\" transform=\"translate(196.877917 71.85393) scale(0.12 -0.12)\">\n",
              "     <use xlink:href=\"#DejaVuSans-20\"/>\n",
              "    </g>\n",
              "   </g>\n",
              "   <g id=\"text_71\">\n",
              "    <!--   -->\n",
              "    <g style=\"fill: #808080\" transform=\"translate(225.949965 71.85393) scale(0.12 -0.12)\">\n",
              "     <use xlink:href=\"#DejaVuSans-20\"/>\n",
              "    </g>\n",
              "   </g>\n",
              "   <g id=\"text_72\">\n",
              "    <!-- 1 -->\n",
              "    <g style=\"fill: #808080\" transform=\"translate(253.111387 71.85393) scale(0.12 -0.12)\">\n",
              "     <use xlink:href=\"#DejaVuSans-31\"/>\n",
              "    </g>\n",
              "   </g>\n",
              "   <g id=\"text_73\">\n",
              "    <!--   -->\n",
              "    <g style=\"fill: #808080\" transform=\"translate(22.445633 42.781883) scale(0.12 -0.12)\">\n",
              "     <use xlink:href=\"#DejaVuSans-20\"/>\n",
              "    </g>\n",
              "   </g>\n",
              "   <g id=\"text_74\">\n",
              "    <!--   -->\n",
              "    <g style=\"fill: #808080\" transform=\"translate(51.51768 42.781883) scale(0.12 -0.12)\">\n",
              "     <use xlink:href=\"#DejaVuSans-20\"/>\n",
              "    </g>\n",
              "   </g>\n",
              "   <g id=\"text_75\">\n",
              "    <!-- 3 -->\n",
              "    <g style=\"fill: #808080\" transform=\"translate(78.679103 42.781883) scale(0.12 -0.12)\">\n",
              "     <use xlink:href=\"#DejaVuSans-33\"/>\n",
              "    </g>\n",
              "   </g>\n",
              "   <g id=\"text_76\">\n",
              "    <!--   -->\n",
              "    <g style=\"fill: #808080\" transform=\"translate(109.661775 42.781883) scale(0.12 -0.12)\">\n",
              "     <use xlink:href=\"#DejaVuSans-20\"/>\n",
              "    </g>\n",
              "   </g>\n",
              "   <g id=\"text_77\">\n",
              "    <!-- 2 -->\n",
              "    <g style=\"fill: #808080\" transform=\"translate(136.823197 42.781883) scale(0.12 -0.12)\">\n",
              "     <use xlink:href=\"#DejaVuSans-32\"/>\n",
              "    </g>\n",
              "   </g>\n",
              "   <g id=\"text_78\">\n",
              "    <!--   -->\n",
              "    <g style=\"fill: #808080\" transform=\"translate(167.80587 42.781883) scale(0.12 -0.12)\">\n",
              "     <use xlink:href=\"#DejaVuSans-20\"/>\n",
              "    </g>\n",
              "   </g>\n",
              "   <g id=\"text_79\">\n",
              "    <!-- 6 -->\n",
              "    <g style=\"fill: #808080\" transform=\"translate(194.967292 42.781883) scale(0.12 -0.12)\">\n",
              "     <use xlink:href=\"#DejaVuSans-36\"/>\n",
              "    </g>\n",
              "   </g>\n",
              "   <g id=\"text_80\">\n",
              "    <!--   -->\n",
              "    <g style=\"fill: #808080\" transform=\"translate(225.949965 42.781883) scale(0.12 -0.12)\">\n",
              "     <use xlink:href=\"#DejaVuSans-20\"/>\n",
              "    </g>\n",
              "   </g>\n",
              "   <g id=\"text_81\">\n",
              "    <!--   -->\n",
              "    <g style=\"fill: #808080\" transform=\"translate(255.022012 42.781883) scale(0.12 -0.12)\">\n",
              "     <use xlink:href=\"#DejaVuSans-20\"/>\n",
              "    </g>\n",
              "   </g>\n",
              "   <g id=\"text_82\">\n",
              "    <!-- Grid 01 -->\n",
              "    <g transform=\"translate(7.2 16.318125) scale(0.12 -0.12)\">\n",
              "     <defs>\n",
              "      <path id=\"DejaVuSans-Bold-47\" d=\"M 4781 347 \n",
              "Q 4331 128 3847 18 \n",
              "Q 3363 -91 2847 -91 \n",
              "Q 1681 -91 1000 561 \n",
              "Q 319 1213 319 2328 \n",
              "Q 319 3456 1012 4103 \n",
              "Q 1706 4750 2913 4750 \n",
              "Q 3378 4750 3804 4662 \n",
              "Q 4231 4575 4609 4403 \n",
              "L 4609 3438 \n",
              "Q 4219 3659 3833 3768 \n",
              "Q 3447 3878 3059 3878 \n",
              "Q 2341 3878 1952 3476 \n",
              "Q 1563 3075 1563 2328 \n",
              "Q 1563 1588 1938 1184 \n",
              "Q 2313 781 3003 781 \n",
              "Q 3191 781 3352 804 \n",
              "Q 3513 828 3641 878 \n",
              "L 3641 1784 \n",
              "L 2906 1784 \n",
              "L 2906 2591 \n",
              "L 4781 2591 \n",
              "L 4781 347 \n",
              "z\n",
              "\" transform=\"scale(0.015625)\"/>\n",
              "      <path id=\"DejaVuSans-Bold-72\" d=\"M 3138 2547 \n",
              "Q 2991 2616 2845 2648 \n",
              "Q 2700 2681 2553 2681 \n",
              "Q 2122 2681 1889 2404 \n",
              "Q 1656 2128 1656 1613 \n",
              "L 1656 0 \n",
              "L 538 0 \n",
              "L 538 3500 \n",
              "L 1656 3500 \n",
              "L 1656 2925 \n",
              "Q 1872 3269 2151 3426 \n",
              "Q 2431 3584 2822 3584 \n",
              "Q 2878 3584 2943 3579 \n",
              "Q 3009 3575 3134 3559 \n",
              "L 3138 2547 \n",
              "z\n",
              "\" transform=\"scale(0.015625)\"/>\n",
              "      <path id=\"DejaVuSans-Bold-69\" d=\"M 538 3500 \n",
              "L 1656 3500 \n",
              "L 1656 0 \n",
              "L 538 0 \n",
              "L 538 3500 \n",
              "z\n",
              "M 538 4863 \n",
              "L 1656 4863 \n",
              "L 1656 3950 \n",
              "L 538 3950 \n",
              "L 538 4863 \n",
              "z\n",
              "\" transform=\"scale(0.015625)\"/>\n",
              "      <path id=\"DejaVuSans-Bold-64\" d=\"M 2919 2988 \n",
              "L 2919 4863 \n",
              "L 4044 4863 \n",
              "L 4044 0 \n",
              "L 2919 0 \n",
              "L 2919 506 \n",
              "Q 2688 197 2409 53 \n",
              "Q 2131 -91 1766 -91 \n",
              "Q 1119 -91 703 423 \n",
              "Q 288 938 288 1747 \n",
              "Q 288 2556 703 3070 \n",
              "Q 1119 3584 1766 3584 \n",
              "Q 2128 3584 2408 3439 \n",
              "Q 2688 3294 2919 2988 \n",
              "z\n",
              "M 2181 722 \n",
              "Q 2541 722 2730 984 \n",
              "Q 2919 1247 2919 1747 \n",
              "Q 2919 2247 2730 2509 \n",
              "Q 2541 2772 2181 2772 \n",
              "Q 1825 2772 1636 2509 \n",
              "Q 1447 2247 1447 1747 \n",
              "Q 1447 1247 1636 984 \n",
              "Q 1825 722 2181 722 \n",
              "z\n",
              "\" transform=\"scale(0.015625)\"/>\n",
              "      <path id=\"DejaVuSans-Bold-20\" transform=\"scale(0.015625)\"/>\n",
              "      <path id=\"DejaVuSans-Bold-30\" d=\"M 2944 2338 \n",
              "Q 2944 3213 2780 3570 \n",
              "Q 2616 3928 2228 3928 \n",
              "Q 1841 3928 1675 3570 \n",
              "Q 1509 3213 1509 2338 \n",
              "Q 1509 1453 1675 1090 \n",
              "Q 1841 728 2228 728 \n",
              "Q 2613 728 2778 1090 \n",
              "Q 2944 1453 2944 2338 \n",
              "z\n",
              "M 4147 2328 \n",
              "Q 4147 1169 3647 539 \n",
              "Q 3147 -91 2228 -91 \n",
              "Q 1306 -91 806 539 \n",
              "Q 306 1169 306 2328 \n",
              "Q 306 3491 806 4120 \n",
              "Q 1306 4750 2228 4750 \n",
              "Q 3147 4750 3647 4120 \n",
              "Q 4147 3491 4147 2328 \n",
              "z\n",
              "\" transform=\"scale(0.015625)\"/>\n",
              "      <path id=\"DejaVuSans-Bold-31\" d=\"M 750 831 \n",
              "L 1813 831 \n",
              "L 1813 3847 \n",
              "L 722 3622 \n",
              "L 722 4441 \n",
              "L 1806 4666 \n",
              "L 2950 4666 \n",
              "L 2950 831 \n",
              "L 4013 831 \n",
              "L 4013 0 \n",
              "L 750 0 \n",
              "L 750 831 \n",
              "z\n",
              "\" transform=\"scale(0.015625)\"/>\n",
              "     </defs>\n",
              "     <use xlink:href=\"#DejaVuSans-Bold-47\"/>\n",
              "     <use xlink:href=\"#DejaVuSans-Bold-72\" x=\"82.080078\"/>\n",
              "     <use xlink:href=\"#DejaVuSans-Bold-69\" x=\"131.396484\"/>\n",
              "     <use xlink:href=\"#DejaVuSans-Bold-64\" x=\"165.673828\"/>\n",
              "     <use xlink:href=\"#DejaVuSans-Bold-20\" x=\"237.255859\"/>\n",
              "     <use xlink:href=\"#DejaVuSans-Bold-30\" x=\"272.070312\"/>\n",
              "     <use xlink:href=\"#DejaVuSans-Bold-31\" x=\"341.650391\"/>\n",
              "    </g>\n",
              "   </g>\n",
              "  </g>\n",
              " </g>\n",
              " <defs>\n",
              "  <clipPath id=\"p299fd05a65\">\n",
              "   <rect x=\"7.2\" y=\"22.318125\" width=\"266.881395\" height=\"266.881395\"/>\n",
              "  </clipPath>\n",
              " </defs>\n",
              "</svg>\n"
            ],
            "text/html": [
              "<style>\n",
              "* {\n",
              "  box-sizing: border-box;\n",
              "}\n",
              ".box, .board {\n",
              "  display: flex;\n",
              "  flex-wrap: wrap ;\n",
              "}\n",
              "\n",
              ".box, .box > div {\n",
              "  border: solid 1px ;\n",
              "  width: 33.33%;\n",
              "  text-align: center;\n",
              "}\n",
              "\n",
              ".box > div:before {\n",
              "  display: inline-block;\n",
              "  padding-top: 100%;\n",
              "  content: '';\n",
              "  vertical-align: middle;\n",
              "}\n",
              "\n",
              ".board {\n",
              "  width: 40%;\n",
              "  margin:0px;\n",
              "  font-size: calc(0.8vw + 10px);\n",
              "  border: solid 2px;\n",
              "}\n",
              "\n",
              ".box div {\n",
              "  color:gray;\n",
              "  text-shadow: 1px 1px 1px white;\n",
              "  vertical-align:middle;\n",
              "}\n",
              "</style>\n",
              "<h3>Grid 01</h3>\n",
              "<div class=\"board\"><div class=\"box\"><div> </div><div> </div><div>3</div><div>9</div><div> </div><div> </div><div> </div><div> </div><div>1</div></div><div class=\"box\"><div> </div><div>2</div><div> </div><div>3</div><div> </div><div>5</div><div>8</div><div> </div><div>6</div></div><div class=\"box\"><div>6</div><div> </div><div> </div><div> </div><div> </div><div>1</div><div>4</div><div> </div><div> </div></div><div class=\"box\"><div> </div><div> </div><div>8</div><div>7</div><div> </div><div> </div><div> </div><div> </div><div>6</div></div><div class=\"box\"><div>1</div><div> </div><div>2</div><div> </div><div> </div><div> </div><div>7</div><div> </div><div>8</div></div><div class=\"box\"><div>9</div><div> </div><div> </div><div> </div><div> </div><div>8</div><div>2</div><div> </div><div> </div></div><div class=\"box\"><div> </div><div> </div><div>2</div><div>8</div><div> </div><div> </div><div> </div><div> </div><div>5</div></div><div class=\"box\"><div>6</div><div> </div><div>9</div><div>2</div><div> </div><div>3</div><div> </div><div>1</div><div> </div></div><div class=\"box\"><div>5</div><div> </div><div> </div><div> </div><div> </div><div>9</div><div>3</div><div> </div><div> </div></div></div>"
            ],
            "text/plain": [
              "<__main__.Sudoku at 0x7f9b807c8340>"
            ]
          },
          "metadata": {},
          "output_type": "display_data"
        },
        {
          "data": {
            "image/svg+xml": [
              "<svg xmlns:xlink=\"http://www.w3.org/1999/xlink\" xmlns=\"http://www.w3.org/2000/svg\" width=\"281.281395pt\" height=\"296.39952pt\" viewBox=\"0 0 281.281395 296.39952\" version=\"1.1\">\n",
              " <metadata>\n",
              "  <rdf:RDF xmlns:dc=\"http://purl.org/dc/elements/1.1/\" xmlns:cc=\"http://creativecommons.org/ns#\" xmlns:rdf=\"http://www.w3.org/1999/02/22-rdf-syntax-ns#\">\n",
              "   <cc:Work>\n",
              "    <dc:type rdf:resource=\"http://purl.org/dc/dcmitype/StillImage\"/>\n",
              "    <dc:date>2023-11-26T11:39:26.616049</dc:date>\n",
              "    <dc:format>image/svg+xml</dc:format>\n",
              "    <dc:creator>\n",
              "     <cc:Agent>\n",
              "      <dc:title>Matplotlib v3.7.2, https://matplotlib.org/</dc:title>\n",
              "     </cc:Agent>\n",
              "    </dc:creator>\n",
              "   </cc:Work>\n",
              "  </rdf:RDF>\n",
              " </metadata>\n",
              " <defs>\n",
              "  <style type=\"text/css\">*{stroke-linejoin: round; stroke-linecap: butt}</style>\n",
              " </defs>\n",
              " <g id=\"figure_1\">\n",
              "  <g id=\"patch_1\">\n",
              "   <path d=\"M 0 296.39952  L 281.281395 296.39952  L 281.281395 0  L 0 0  z \" style=\"fill: #ffffff\"/>\n",
              "  </g>\n",
              "  <g id=\"axes_1\">\n",
              "   <g id=\"line2d_1\">\n",
              "    <path d=\"M 9.816484 286.583036  L 271.464911 286.583036  \" clip-path=\"url(#p299fd05a65)\" style=\"fill: none; stroke: #000000; stroke-width: 2; stroke-linecap: square\"/>\n",
              "   </g>\n",
              "   <g id=\"line2d_2\">\n",
              "    <path d=\"M 9.816484 286.583036  L 9.816484 24.934609  \" clip-path=\"url(#p299fd05a65)\" style=\"fill: none; stroke: #000000; stroke-width: 2; stroke-linecap: square\"/>\n",
              "   </g>\n",
              "   <g id=\"line2d_3\">\n",
              "    <path d=\"M 9.816484 257.510988  L 271.464911 257.510988  \" clip-path=\"url(#p299fd05a65)\" style=\"fill: none; stroke: #000000; stroke-linecap: square\"/>\n",
              "   </g>\n",
              "   <g id=\"line2d_4\">\n",
              "    <path d=\"M 38.888532 286.583036  L 38.888532 24.934609  \" clip-path=\"url(#p299fd05a65)\" style=\"fill: none; stroke: #000000; stroke-linecap: square\"/>\n",
              "   </g>\n",
              "   <g id=\"line2d_5\">\n",
              "    <path d=\"M 9.816484 228.438941  L 271.464911 228.438941  \" clip-path=\"url(#p299fd05a65)\" style=\"fill: none; stroke: #000000; stroke-linecap: square\"/>\n",
              "   </g>\n",
              "   <g id=\"line2d_6\">\n",
              "    <path d=\"M 67.960579 286.583036  L 67.960579 24.934609  \" clip-path=\"url(#p299fd05a65)\" style=\"fill: none; stroke: #000000; stroke-linecap: square\"/>\n",
              "   </g>\n",
              "   <g id=\"line2d_7\">\n",
              "    <path d=\"M 9.816484 199.366894  L 271.464911 199.366894  \" clip-path=\"url(#p299fd05a65)\" style=\"fill: none; stroke: #000000; stroke-width: 2; stroke-linecap: square\"/>\n",
              "   </g>\n",
              "   <g id=\"line2d_8\">\n",
              "    <path d=\"M 97.032626 286.583036  L 97.032626 24.934609  \" clip-path=\"url(#p299fd05a65)\" style=\"fill: none; stroke: #000000; stroke-width: 2; stroke-linecap: square\"/>\n",
              "   </g>\n",
              "   <g id=\"line2d_9\">\n",
              "    <path d=\"M 9.816484 170.294846  L 271.464911 170.294846  \" clip-path=\"url(#p299fd05a65)\" style=\"fill: none; stroke: #000000; stroke-linecap: square\"/>\n",
              "   </g>\n",
              "   <g id=\"line2d_10\">\n",
              "    <path d=\"M 126.104674 286.583036  L 126.104674 24.934609  \" clip-path=\"url(#p299fd05a65)\" style=\"fill: none; stroke: #000000; stroke-linecap: square\"/>\n",
              "   </g>\n",
              "   <g id=\"line2d_11\">\n",
              "    <path d=\"M 9.816484 141.222799  L 271.464911 141.222799  \" clip-path=\"url(#p299fd05a65)\" style=\"fill: none; stroke: #000000; stroke-linecap: square\"/>\n",
              "   </g>\n",
              "   <g id=\"line2d_12\">\n",
              "    <path d=\"M 155.176721 286.583036  L 155.176721 24.934609  \" clip-path=\"url(#p299fd05a65)\" style=\"fill: none; stroke: #000000; stroke-linecap: square\"/>\n",
              "   </g>\n",
              "   <g id=\"line2d_13\">\n",
              "    <path d=\"M 9.816484 112.150751  L 271.464911 112.150751  \" clip-path=\"url(#p299fd05a65)\" style=\"fill: none; stroke: #000000; stroke-width: 2; stroke-linecap: square\"/>\n",
              "   </g>\n",
              "   <g id=\"line2d_14\">\n",
              "    <path d=\"M 184.248769 286.583036  L 184.248769 24.934609  \" clip-path=\"url(#p299fd05a65)\" style=\"fill: none; stroke: #000000; stroke-width: 2; stroke-linecap: square\"/>\n",
              "   </g>\n",
              "   <g id=\"line2d_15\">\n",
              "    <path d=\"M 9.816484 83.078704  L 271.464911 83.078704  \" clip-path=\"url(#p299fd05a65)\" style=\"fill: none; stroke: #000000; stroke-linecap: square\"/>\n",
              "   </g>\n",
              "   <g id=\"line2d_16\">\n",
              "    <path d=\"M 213.320816 286.583036  L 213.320816 24.934609  \" clip-path=\"url(#p299fd05a65)\" style=\"fill: none; stroke: #000000; stroke-linecap: square\"/>\n",
              "   </g>\n",
              "   <g id=\"line2d_17\">\n",
              "    <path d=\"M 9.816484 54.006657  L 271.464911 54.006657  \" clip-path=\"url(#p299fd05a65)\" style=\"fill: none; stroke: #000000; stroke-linecap: square\"/>\n",
              "   </g>\n",
              "   <g id=\"line2d_18\">\n",
              "    <path d=\"M 242.392863 286.583036  L 242.392863 24.934609  \" clip-path=\"url(#p299fd05a65)\" style=\"fill: none; stroke: #000000; stroke-linecap: square\"/>\n",
              "   </g>\n",
              "   <g id=\"line2d_19\">\n",
              "    <path d=\"M 9.816484 24.934609  L 271.464911 24.934609  \" clip-path=\"url(#p299fd05a65)\" style=\"fill: none; stroke: #000000; stroke-width: 2; stroke-linecap: square\"/>\n",
              "   </g>\n",
              "   <g id=\"line2d_20\">\n",
              "    <path d=\"M 271.464911 286.583036  L 271.464911 24.934609  \" clip-path=\"url(#p299fd05a65)\" style=\"fill: none; stroke: #000000; stroke-width: 2; stroke-linecap: square\"/>\n",
              "   </g>\n",
              "   <g id=\"text_1\">\n",
              "    <!--   -->\n",
              "    <g style=\"fill: #808080\" transform=\"translate(22.445633 275.358262) scale(0.12 -0.12)\">\n",
              "     <defs>\n",
              "      <path id=\"DejaVuSans-20\" transform=\"scale(0.015625)\"/>\n",
              "     </defs>\n",
              "     <use xlink:href=\"#DejaVuSans-20\"/>\n",
              "    </g>\n",
              "   </g>\n",
              "   <g id=\"text_2\">\n",
              "    <!--   -->\n",
              "    <g style=\"fill: #808080\" transform=\"translate(51.51768 275.358262) scale(0.12 -0.12)\">\n",
              "     <use xlink:href=\"#DejaVuSans-20\"/>\n",
              "    </g>\n",
              "   </g>\n",
              "   <g id=\"text_3\">\n",
              "    <!-- 5 -->\n",
              "    <g style=\"fill: #808080\" transform=\"translate(78.679103 275.358262) scale(0.12 -0.12)\">\n",
              "     <defs>\n",
              "      <path id=\"DejaVuSans-35\" d=\"M 691 4666  L 3169 4666  L 3169 4134  L 1269 4134  L 1269 2991  Q 1406 3038 1543 3061  Q 1681 3084 1819 3084  Q 2600 3084 3056 2656  Q 3513 2228 3513 1497  Q 3513 744 3044 326  Q 2575 -91 1722 -91  Q 1428 -91 1123 -41  Q 819 9 494 109  L 494 744  Q 775 591 1075 516  Q 1375 441 1709 441  Q 2250 441 2565 725  Q 2881 1009 2881 1497  Q 2881 1984 2565 2268  Q 2250 2553 1709 2553  Q 1456 2553 1204 2497  Q 953 2441 691 2322  L 691 4666  z \" transform=\"scale(0.015625)\"/>\n",
              "     </defs>\n",
              "     <use xlink:href=\"#DejaVuSans-35\"/>\n",
              "    </g>\n",
              "   </g>\n",
              "   <g id=\"text_4\">\n",
              "    <!--   -->\n",
              "    <g style=\"fill: #808080\" transform=\"translate(109.661775 275.358262) scale(0.12 -0.12)\">\n",
              "     <use xlink:href=\"#DejaVuSans-20\"/>\n",
              "    </g>\n",
              "   </g>\n",
              "   <g id=\"text_5\">\n",
              "    <!-- 1 -->\n",
              "    <g style=\"fill: #808080\" transform=\"translate(136.823197 275.358262) scale(0.12 -0.12)\">\n",
              "     <defs>\n",
              "      <path id=\"DejaVuSans-31\" d=\"M 794 531  L 1825 531  L 1825 4091  L 703 3866  L 703 4441  L 1819 4666  L 2450 4666  L 2450 531  L 3481 531  L 3481 0  L 794 0  L 794 531  z \" transform=\"scale(0.015625)\"/>\n",
              "     </defs>\n",
              "     <use xlink:href=\"#DejaVuSans-31\"/>\n",
              "    </g>\n",
              "   </g>\n",
              "   <g id=\"text_6\">\n",
              "    <!--   -->\n",
              "    <g style=\"fill: #808080\" transform=\"translate(167.80587 275.358262) scale(0.12 -0.12)\">\n",
              "     <use xlink:href=\"#DejaVuSans-20\"/>\n",
              "    </g>\n",
              "   </g>\n",
              "   <g id=\"text_7\">\n",
              "    <!-- 3 -->\n",
              "    <g style=\"fill: #808080\" transform=\"translate(194.967292 275.358262) scale(0.12 -0.12)\">\n",
              "     <defs>\n",
              "      <path id=\"DejaVuSans-33\" d=\"M 2597 2516  Q 3050 2419 3304 2112  Q 3559 1806 3559 1356  Q 3559 666 3084 287  Q 2609 -91 1734 -91  Q 1441 -91 1130 -33  Q 819 25 488 141  L 488 750  Q 750 597 1062 519  Q 1375 441 1716 441  Q 2309 441 2620 675  Q 2931 909 2931 1356  Q 2931 1769 2642 2001  Q 2353 2234 1838 2234  L 1294 2234  L 1294 2753  L 1863 2753  Q 2328 2753 2575 2939  Q 2822 3125 2822 3475  Q 2822 3834 2567 4026  Q 2313 4219 1838 4219  Q 1578 4219 1281 4162  Q 984 4106 628 3988  L 628 4550  Q 988 4650 1302 4700  Q 1616 4750 1894 4750  Q 2613 4750 3031 4423  Q 3450 4097 3450 3541  Q 3450 3153 3228 2886  Q 3006 2619 2597 2516  z \" transform=\"scale(0.015625)\"/>\n",
              "     </defs>\n",
              "     <use xlink:href=\"#DejaVuSans-33\"/>\n",
              "    </g>\n",
              "   </g>\n",
              "   <g id=\"text_8\">\n",
              "    <!--   -->\n",
              "    <g style=\"fill: #808080\" transform=\"translate(225.949965 275.358262) scale(0.12 -0.12)\">\n",
              "     <use xlink:href=\"#DejaVuSans-20\"/>\n",
              "    </g>\n",
              "   </g>\n",
              "   <g id=\"text_9\">\n",
              "    <!--   -->\n",
              "    <g style=\"fill: #808080\" transform=\"translate(255.022012 275.358262) scale(0.12 -0.12)\">\n",
              "     <use xlink:href=\"#DejaVuSans-20\"/>\n",
              "    </g>\n",
              "   </g>\n",
              "   <g id=\"text_10\">\n",
              "    <!-- 8 -->\n",
              "    <g style=\"fill: #808080\" transform=\"translate(20.535008 246.286215) scale(0.12 -0.12)\">\n",
              "     <defs>\n",
              "      <path id=\"DejaVuSans-38\" d=\"M 2034 2216  Q 1584 2216 1326 1975  Q 1069 1734 1069 1313  Q 1069 891 1326 650  Q 1584 409 2034 409  Q 2484 409 2743 651  Q 3003 894 3003 1313  Q 3003 1734 2745 1975  Q 2488 2216 2034 2216  z M 1403 2484  Q 997 2584 770 2862  Q 544 3141 544 3541  Q 544 4100 942 4425  Q 1341 4750 2034 4750  Q 2731 4750 3128 4425  Q 3525 4100 3525 3541  Q 3525 3141 3298 2862  Q 3072 2584 2669 2484  Q 3125 2378 3379 2068  Q 3634 1759 3634 1313  Q 3634 634 3220 271  Q 2806 -91 2034 -91  Q 1263 -91 848 271  Q 434 634 434 1313  Q 434 1759 690 2068  Q 947 2378 1403 2484  z M 1172 3481  Q 1172 3119 1398 2916  Q 1625 2713 2034 2713  Q 2441 2713 2670 2916  Q 2900 3119 2900 3481  Q 2900 3844 2670 4047  Q 2441 4250 2034 4250  Q 1625 4250 1398 4047  Q 1172 3844 1172 3481  z \" transform=\"scale(0.015625)\"/>\n",
              "     </defs>\n",
              "     <use xlink:href=\"#DejaVuSans-38\"/>\n",
              "    </g>\n",
              "   </g>\n",
              "   <g id=\"text_11\">\n",
              "    <!--   -->\n",
              "    <g style=\"fill: #808080\" transform=\"translate(51.51768 246.286215) scale(0.12 -0.12)\">\n",
              "     <use xlink:href=\"#DejaVuSans-20\"/>\n",
              "    </g>\n",
              "   </g>\n",
              "   <g id=\"text_12\">\n",
              "    <!--   -->\n",
              "    <g style=\"fill: #808080\" transform=\"translate(80.589728 246.286215) scale(0.12 -0.12)\">\n",
              "     <use xlink:href=\"#DejaVuSans-20\"/>\n",
              "    </g>\n",
              "   </g>\n",
              "   <g id=\"text_13\">\n",
              "    <!-- 2 -->\n",
              "    <g style=\"fill: #808080\" transform=\"translate(107.75115 246.286215) scale(0.12 -0.12)\">\n",
              "     <defs>\n",
              "      <path id=\"DejaVuSans-32\" d=\"M 1228 531  L 3431 531  L 3431 0  L 469 0  L 469 531  Q 828 903 1448 1529  Q 2069 2156 2228 2338  Q 2531 2678 2651 2914  Q 2772 3150 2772 3378  Q 2772 3750 2511 3984  Q 2250 4219 1831 4219  Q 1534 4219 1204 4116  Q 875 4013 500 3803  L 500 4441  Q 881 4594 1212 4672  Q 1544 4750 1819 4750  Q 2544 4750 2975 4387  Q 3406 4025 3406 3419  Q 3406 3131 3298 2873  Q 3191 2616 2906 2266  Q 2828 2175 2409 1742  Q 1991 1309 1228 531  z \" transform=\"scale(0.015625)\"/>\n",
              "     </defs>\n",
              "     <use xlink:href=\"#DejaVuSans-32\"/>\n",
              "    </g>\n",
              "   </g>\n",
              "   <g id=\"text_14\">\n",
              "    <!--   -->\n",
              "    <g style=\"fill: #808080\" transform=\"translate(138.733822 246.286215) scale(0.12 -0.12)\">\n",
              "     <use xlink:href=\"#DejaVuSans-20\"/>\n",
              "    </g>\n",
              "   </g>\n",
              "   <g id=\"text_15\">\n",
              "    <!-- 3 -->\n",
              "    <g style=\"fill: #808080\" transform=\"translate(165.895245 246.286215) scale(0.12 -0.12)\">\n",
              "     <use xlink:href=\"#DejaVuSans-33\"/>\n",
              "    </g>\n",
              "   </g>\n",
              "   <g id=\"text_16\">\n",
              "    <!--   -->\n",
              "    <g style=\"fill: #808080\" transform=\"translate(196.877917 246.286215) scale(0.12 -0.12)\">\n",
              "     <use xlink:href=\"#DejaVuSans-20\"/>\n",
              "    </g>\n",
              "   </g>\n",
              "   <g id=\"text_17\">\n",
              "    <!--   -->\n",
              "    <g style=\"fill: #808080\" transform=\"translate(225.949965 246.286215) scale(0.12 -0.12)\">\n",
              "     <use xlink:href=\"#DejaVuSans-20\"/>\n",
              "    </g>\n",
              "   </g>\n",
              "   <g id=\"text_18\">\n",
              "    <!-- 9 -->\n",
              "    <g style=\"fill: #808080\" transform=\"translate(253.111387 246.286215) scale(0.12 -0.12)\">\n",
              "     <defs>\n",
              "      <path id=\"DejaVuSans-39\" d=\"M 703 97  L 703 672  Q 941 559 1184 500  Q 1428 441 1663 441  Q 2288 441 2617 861  Q 2947 1281 2994 2138  Q 2813 1869 2534 1725  Q 2256 1581 1919 1581  Q 1219 1581 811 2004  Q 403 2428 403 3163  Q 403 3881 828 4315  Q 1253 4750 1959 4750  Q 2769 4750 3195 4129  Q 3622 3509 3622 2328  Q 3622 1225 3098 567  Q 2575 -91 1691 -91  Q 1453 -91 1209 -44  Q 966 3 703 97  z M 1959 2075  Q 2384 2075 2632 2365  Q 2881 2656 2881 3163  Q 2881 3666 2632 3958  Q 2384 4250 1959 4250  Q 1534 4250 1286 3958  Q 1038 3666 1038 3163  Q 1038 2656 1286 2365  Q 1534 2075 1959 2075  z \" transform=\"scale(0.015625)\"/>\n",
              "     </defs>\n",
              "     <use xlink:href=\"#DejaVuSans-39\"/>\n",
              "    </g>\n",
              "   </g>\n",
              "   <g id=\"text_19\">\n",
              "    <!--   -->\n",
              "    <g style=\"fill: #808080\" transform=\"translate(22.445633 217.214167) scale(0.12 -0.12)\">\n",
              "     <use xlink:href=\"#DejaVuSans-20\"/>\n",
              "    </g>\n",
              "   </g>\n",
              "   <g id=\"text_20\">\n",
              "    <!--   -->\n",
              "    <g style=\"fill: #808080\" transform=\"translate(51.51768 217.214167) scale(0.12 -0.12)\">\n",
              "     <use xlink:href=\"#DejaVuSans-20\"/>\n",
              "    </g>\n",
              "   </g>\n",
              "   <g id=\"text_21\">\n",
              "    <!-- 2 -->\n",
              "    <g style=\"fill: #808080\" transform=\"translate(78.679103 217.214167) scale(0.12 -0.12)\">\n",
              "     <use xlink:href=\"#DejaVuSans-32\"/>\n",
              "    </g>\n",
              "   </g>\n",
              "   <g id=\"text_22\">\n",
              "    <!-- 6 -->\n",
              "    <g style=\"fill: #808080\" transform=\"translate(107.75115 217.214167) scale(0.12 -0.12)\">\n",
              "     <defs>\n",
              "      <path id=\"DejaVuSans-36\" d=\"M 2113 2584  Q 1688 2584 1439 2293  Q 1191 2003 1191 1497  Q 1191 994 1439 701  Q 1688 409 2113 409  Q 2538 409 2786 701  Q 3034 994 3034 1497  Q 3034 2003 2786 2293  Q 2538 2584 2113 2584  z M 3366 4563  L 3366 3988  Q 3128 4100 2886 4159  Q 2644 4219 2406 4219  Q 1781 4219 1451 3797  Q 1122 3375 1075 2522  Q 1259 2794 1537 2939  Q 1816 3084 2150 3084  Q 2853 3084 3261 2657  Q 3669 2231 3669 1497  Q 3669 778 3244 343  Q 2819 -91 2113 -91  Q 1303 -91 875 529  Q 447 1150 447 2328  Q 447 3434 972 4092  Q 1497 4750 2381 4750  Q 2619 4750 2861 4703  Q 3103 4656 3366 4563  z \" transform=\"scale(0.015625)\"/>\n",
              "     </defs>\n",
              "     <use xlink:href=\"#DejaVuSans-36\"/>\n",
              "    </g>\n",
              "   </g>\n",
              "   <g id=\"text_23\">\n",
              "    <!--   -->\n",
              "    <g style=\"fill: #808080\" transform=\"translate(138.733822 217.214167) scale(0.12 -0.12)\">\n",
              "     <use xlink:href=\"#DejaVuSans-20\"/>\n",
              "    </g>\n",
              "   </g>\n",
              "   <g id=\"text_24\">\n",
              "    <!-- 9 -->\n",
              "    <g style=\"fill: #808080\" transform=\"translate(165.895245 217.214167) scale(0.12 -0.12)\">\n",
              "     <use xlink:href=\"#DejaVuSans-39\"/>\n",
              "    </g>\n",
              "   </g>\n",
              "   <g id=\"text_25\">\n",
              "    <!-- 5 -->\n",
              "    <g style=\"fill: #808080\" transform=\"translate(194.967292 217.214167) scale(0.12 -0.12)\">\n",
              "     <use xlink:href=\"#DejaVuSans-35\"/>\n",
              "    </g>\n",
              "   </g>\n",
              "   <g id=\"text_26\">\n",
              "    <!--   -->\n",
              "    <g style=\"fill: #808080\" transform=\"translate(225.949965 217.214167) scale(0.12 -0.12)\">\n",
              "     <use xlink:href=\"#DejaVuSans-20\"/>\n",
              "    </g>\n",
              "   </g>\n",
              "   <g id=\"text_27\">\n",
              "    <!--   -->\n",
              "    <g style=\"fill: #808080\" transform=\"translate(255.022012 217.214167) scale(0.12 -0.12)\">\n",
              "     <use xlink:href=\"#DejaVuSans-20\"/>\n",
              "    </g>\n",
              "   </g>\n",
              "   <g id=\"text_28\">\n",
              "    <!--   -->\n",
              "    <g style=\"fill: #808080\" transform=\"translate(22.445633 188.14212) scale(0.12 -0.12)\">\n",
              "     <use xlink:href=\"#DejaVuSans-20\"/>\n",
              "    </g>\n",
              "   </g>\n",
              "   <g id=\"text_29\">\n",
              "    <!--   -->\n",
              "    <g style=\"fill: #808080\" transform=\"translate(51.51768 188.14212) scale(0.12 -0.12)\">\n",
              "     <use xlink:href=\"#DejaVuSans-20\"/>\n",
              "    </g>\n",
              "   </g>\n",
              "   <g id=\"text_30\">\n",
              "    <!-- 6 -->\n",
              "    <g style=\"fill: #808080\" transform=\"translate(78.679103 188.14212) scale(0.12 -0.12)\">\n",
              "     <use xlink:href=\"#DejaVuSans-36\"/>\n",
              "    </g>\n",
              "   </g>\n",
              "   <g id=\"text_31\">\n",
              "    <!-- 7 -->\n",
              "    <g style=\"fill: #808080\" transform=\"translate(107.75115 188.14212) scale(0.12 -0.12)\">\n",
              "     <defs>\n",
              "      <path id=\"DejaVuSans-37\" d=\"M 525 4666  L 3525 4666  L 3525 4397  L 1831 0  L 1172 0  L 2766 4134  L 525 4134  L 525 4666  z \" transform=\"scale(0.015625)\"/>\n",
              "     </defs>\n",
              "     <use xlink:href=\"#DejaVuSans-37\"/>\n",
              "    </g>\n",
              "   </g>\n",
              "   <g id=\"text_32\">\n",
              "    <!--   -->\n",
              "    <g style=\"fill: #808080\" transform=\"translate(138.733822 188.14212) scale(0.12 -0.12)\">\n",
              "     <use xlink:href=\"#DejaVuSans-20\"/>\n",
              "    </g>\n",
              "   </g>\n",
              "   <g id=\"text_33\">\n",
              "    <!-- 8 -->\n",
              "    <g style=\"fill: #808080\" transform=\"translate(165.895245 188.14212) scale(0.12 -0.12)\">\n",
              "     <use xlink:href=\"#DejaVuSans-38\"/>\n",
              "    </g>\n",
              "   </g>\n",
              "   <g id=\"text_34\">\n",
              "    <!-- 2 -->\n",
              "    <g style=\"fill: #808080\" transform=\"translate(194.967292 188.14212) scale(0.12 -0.12)\">\n",
              "     <use xlink:href=\"#DejaVuSans-32\"/>\n",
              "    </g>\n",
              "   </g>\n",
              "   <g id=\"text_35\">\n",
              "    <!--   -->\n",
              "    <g style=\"fill: #808080\" transform=\"translate(225.949965 188.14212) scale(0.12 -0.12)\">\n",
              "     <use xlink:href=\"#DejaVuSans-20\"/>\n",
              "    </g>\n",
              "   </g>\n",
              "   <g id=\"text_36\">\n",
              "    <!--   -->\n",
              "    <g style=\"fill: #808080\" transform=\"translate(255.022012 188.14212) scale(0.12 -0.12)\">\n",
              "     <use xlink:href=\"#DejaVuSans-20\"/>\n",
              "    </g>\n",
              "   </g>\n",
              "   <g id=\"text_37\">\n",
              "    <!-- 7 -->\n",
              "    <g style=\"fill: #808080\" transform=\"translate(20.535008 159.070072) scale(0.12 -0.12)\">\n",
              "     <use xlink:href=\"#DejaVuSans-37\"/>\n",
              "    </g>\n",
              "   </g>\n",
              "   <g id=\"text_38\">\n",
              "    <!--   -->\n",
              "    <g style=\"fill: #808080\" transform=\"translate(51.51768 159.070072) scale(0.12 -0.12)\">\n",
              "     <use xlink:href=\"#DejaVuSans-20\"/>\n",
              "    </g>\n",
              "   </g>\n",
              "   <g id=\"text_39\">\n",
              "    <!--   -->\n",
              "    <g style=\"fill: #808080\" transform=\"translate(80.589728 159.070072) scale(0.12 -0.12)\">\n",
              "     <use xlink:href=\"#DejaVuSans-20\"/>\n",
              "    </g>\n",
              "   </g>\n",
              "   <g id=\"text_40\">\n",
              "    <!--   -->\n",
              "    <g style=\"fill: #808080\" transform=\"translate(109.661775 159.070072) scale(0.12 -0.12)\">\n",
              "     <use xlink:href=\"#DejaVuSans-20\"/>\n",
              "    </g>\n",
              "   </g>\n",
              "   <g id=\"text_41\">\n",
              "    <!--   -->\n",
              "    <g style=\"fill: #808080\" transform=\"translate(138.733822 159.070072) scale(0.12 -0.12)\">\n",
              "     <use xlink:href=\"#DejaVuSans-20\"/>\n",
              "    </g>\n",
              "   </g>\n",
              "   <g id=\"text_42\">\n",
              "    <!--   -->\n",
              "    <g style=\"fill: #808080\" transform=\"translate(167.80587 159.070072) scale(0.12 -0.12)\">\n",
              "     <use xlink:href=\"#DejaVuSans-20\"/>\n",
              "    </g>\n",
              "   </g>\n",
              "   <g id=\"text_43\">\n",
              "    <!--   -->\n",
              "    <g style=\"fill: #808080\" transform=\"translate(196.877917 159.070072) scale(0.12 -0.12)\">\n",
              "     <use xlink:href=\"#DejaVuSans-20\"/>\n",
              "    </g>\n",
              "   </g>\n",
              "   <g id=\"text_44\">\n",
              "    <!--   -->\n",
              "    <g style=\"fill: #808080\" transform=\"translate(225.949965 159.070072) scale(0.12 -0.12)\">\n",
              "     <use xlink:href=\"#DejaVuSans-20\"/>\n",
              "    </g>\n",
              "   </g>\n",
              "   <g id=\"text_45\">\n",
              "    <!-- 8 -->\n",
              "    <g style=\"fill: #808080\" transform=\"translate(253.111387 159.070072) scale(0.12 -0.12)\">\n",
              "     <use xlink:href=\"#DejaVuSans-38\"/>\n",
              "    </g>\n",
              "   </g>\n",
              "   <g id=\"text_46\">\n",
              "    <!--   -->\n",
              "    <g style=\"fill: #808080\" transform=\"translate(22.445633 129.998025) scale(0.12 -0.12)\">\n",
              "     <use xlink:href=\"#DejaVuSans-20\"/>\n",
              "    </g>\n",
              "   </g>\n",
              "   <g id=\"text_47\">\n",
              "    <!--   -->\n",
              "    <g style=\"fill: #808080\" transform=\"translate(51.51768 129.998025) scale(0.12 -0.12)\">\n",
              "     <use xlink:href=\"#DejaVuSans-20\"/>\n",
              "    </g>\n",
              "   </g>\n",
              "   <g id=\"text_48\">\n",
              "    <!-- 8 -->\n",
              "    <g style=\"fill: #808080\" transform=\"translate(78.679103 129.998025) scale(0.12 -0.12)\">\n",
              "     <use xlink:href=\"#DejaVuSans-38\"/>\n",
              "    </g>\n",
              "   </g>\n",
              "   <g id=\"text_49\">\n",
              "    <!-- 1 -->\n",
              "    <g style=\"fill: #808080\" transform=\"translate(107.75115 129.998025) scale(0.12 -0.12)\">\n",
              "     <use xlink:href=\"#DejaVuSans-31\"/>\n",
              "    </g>\n",
              "   </g>\n",
              "   <g id=\"text_50\">\n",
              "    <!--   -->\n",
              "    <g style=\"fill: #808080\" transform=\"translate(138.733822 129.998025) scale(0.12 -0.12)\">\n",
              "     <use xlink:href=\"#DejaVuSans-20\"/>\n",
              "    </g>\n",
              "   </g>\n",
              "   <g id=\"text_51\">\n",
              "    <!-- 2 -->\n",
              "    <g style=\"fill: #808080\" transform=\"translate(165.895245 129.998025) scale(0.12 -0.12)\">\n",
              "     <use xlink:href=\"#DejaVuSans-32\"/>\n",
              "    </g>\n",
              "   </g>\n",
              "   <g id=\"text_52\">\n",
              "    <!-- 9 -->\n",
              "    <g style=\"fill: #808080\" transform=\"translate(194.967292 129.998025) scale(0.12 -0.12)\">\n",
              "     <use xlink:href=\"#DejaVuSans-39\"/>\n",
              "    </g>\n",
              "   </g>\n",
              "   <g id=\"text_53\">\n",
              "    <!--   -->\n",
              "    <g style=\"fill: #808080\" transform=\"translate(225.949965 129.998025) scale(0.12 -0.12)\">\n",
              "     <use xlink:href=\"#DejaVuSans-20\"/>\n",
              "    </g>\n",
              "   </g>\n",
              "   <g id=\"text_54\">\n",
              "    <!--   -->\n",
              "    <g style=\"fill: #808080\" transform=\"translate(255.022012 129.998025) scale(0.12 -0.12)\">\n",
              "     <use xlink:href=\"#DejaVuSans-20\"/>\n",
              "    </g>\n",
              "   </g>\n",
              "   <g id=\"text_55\">\n",
              "    <!--   -->\n",
              "    <g style=\"fill: #808080\" transform=\"translate(22.445633 100.925978) scale(0.12 -0.12)\">\n",
              "     <use xlink:href=\"#DejaVuSans-20\"/>\n",
              "    </g>\n",
              "   </g>\n",
              "   <g id=\"text_56\">\n",
              "    <!--   -->\n",
              "    <g style=\"fill: #808080\" transform=\"translate(51.51768 100.925978) scale(0.12 -0.12)\">\n",
              "     <use xlink:href=\"#DejaVuSans-20\"/>\n",
              "    </g>\n",
              "   </g>\n",
              "   <g id=\"text_57\">\n",
              "    <!-- 1 -->\n",
              "    <g style=\"fill: #808080\" transform=\"translate(78.679103 100.925978) scale(0.12 -0.12)\">\n",
              "     <use xlink:href=\"#DejaVuSans-31\"/>\n",
              "    </g>\n",
              "   </g>\n",
              "   <g id=\"text_58\">\n",
              "    <!-- 8 -->\n",
              "    <g style=\"fill: #808080\" transform=\"translate(107.75115 100.925978) scale(0.12 -0.12)\">\n",
              "     <use xlink:href=\"#DejaVuSans-38\"/>\n",
              "    </g>\n",
              "   </g>\n",
              "   <g id=\"text_59\">\n",
              "    <!--   -->\n",
              "    <g style=\"fill: #808080\" transform=\"translate(138.733822 100.925978) scale(0.12 -0.12)\">\n",
              "     <use xlink:href=\"#DejaVuSans-20\"/>\n",
              "    </g>\n",
              "   </g>\n",
              "   <g id=\"text_60\">\n",
              "    <!-- 6 -->\n",
              "    <g style=\"fill: #808080\" transform=\"translate(165.895245 100.925978) scale(0.12 -0.12)\">\n",
              "     <use xlink:href=\"#DejaVuSans-36\"/>\n",
              "    </g>\n",
              "   </g>\n",
              "   <g id=\"text_61\">\n",
              "    <!-- 4 -->\n",
              "    <g style=\"fill: #808080\" transform=\"translate(194.967292 100.925978) scale(0.12 -0.12)\">\n",
              "     <defs>\n",
              "      <path id=\"DejaVuSans-34\" d=\"M 2419 4116  L 825 1625  L 2419 1625  L 2419 4116  z M 2253 4666  L 3047 4666  L 3047 1625  L 3713 1625  L 3713 1100  L 3047 1100  L 3047 0  L 2419 0  L 2419 1100  L 313 1100  L 313 1709  L 2253 4666  z \" transform=\"scale(0.015625)\"/>\n",
              "     </defs>\n",
              "     <use xlink:href=\"#DejaVuSans-34\"/>\n",
              "    </g>\n",
              "   </g>\n",
              "   <g id=\"text_62\">\n",
              "    <!--   -->\n",
              "    <g style=\"fill: #808080\" transform=\"translate(225.949965 100.925978) scale(0.12 -0.12)\">\n",
              "     <use xlink:href=\"#DejaVuSans-20\"/>\n",
              "    </g>\n",
              "   </g>\n",
              "   <g id=\"text_63\">\n",
              "    <!--   -->\n",
              "    <g style=\"fill: #808080\" transform=\"translate(255.022012 100.925978) scale(0.12 -0.12)\">\n",
              "     <use xlink:href=\"#DejaVuSans-20\"/>\n",
              "    </g>\n",
              "   </g>\n",
              "   <g id=\"text_64\">\n",
              "    <!-- 9 -->\n",
              "    <g style=\"fill: #808080\" transform=\"translate(20.535008 71.85393) scale(0.12 -0.12)\">\n",
              "     <use xlink:href=\"#DejaVuSans-39\"/>\n",
              "    </g>\n",
              "   </g>\n",
              "   <g id=\"text_65\">\n",
              "    <!--   -->\n",
              "    <g style=\"fill: #808080\" transform=\"translate(51.51768 71.85393) scale(0.12 -0.12)\">\n",
              "     <use xlink:href=\"#DejaVuSans-20\"/>\n",
              "    </g>\n",
              "   </g>\n",
              "   <g id=\"text_66\">\n",
              "    <!--   -->\n",
              "    <g style=\"fill: #808080\" transform=\"translate(80.589728 71.85393) scale(0.12 -0.12)\">\n",
              "     <use xlink:href=\"#DejaVuSans-20\"/>\n",
              "    </g>\n",
              "   </g>\n",
              "   <g id=\"text_67\">\n",
              "    <!-- 3 -->\n",
              "    <g style=\"fill: #808080\" transform=\"translate(107.75115 71.85393) scale(0.12 -0.12)\">\n",
              "     <use xlink:href=\"#DejaVuSans-33\"/>\n",
              "    </g>\n",
              "   </g>\n",
              "   <g id=\"text_68\">\n",
              "    <!--   -->\n",
              "    <g style=\"fill: #808080\" transform=\"translate(138.733822 71.85393) scale(0.12 -0.12)\">\n",
              "     <use xlink:href=\"#DejaVuSans-20\"/>\n",
              "    </g>\n",
              "   </g>\n",
              "   <g id=\"text_69\">\n",
              "    <!-- 5 -->\n",
              "    <g style=\"fill: #808080\" transform=\"translate(165.895245 71.85393) scale(0.12 -0.12)\">\n",
              "     <use xlink:href=\"#DejaVuSans-35\"/>\n",
              "    </g>\n",
              "   </g>\n",
              "   <g id=\"text_70\">\n",
              "    <!--   -->\n",
              "    <g style=\"fill: #808080\" transform=\"translate(196.877917 71.85393) scale(0.12 -0.12)\">\n",
              "     <use xlink:href=\"#DejaVuSans-20\"/>\n",
              "    </g>\n",
              "   </g>\n",
              "   <g id=\"text_71\">\n",
              "    <!--   -->\n",
              "    <g style=\"fill: #808080\" transform=\"translate(225.949965 71.85393) scale(0.12 -0.12)\">\n",
              "     <use xlink:href=\"#DejaVuSans-20\"/>\n",
              "    </g>\n",
              "   </g>\n",
              "   <g id=\"text_72\">\n",
              "    <!-- 1 -->\n",
              "    <g style=\"fill: #808080\" transform=\"translate(253.111387 71.85393) scale(0.12 -0.12)\">\n",
              "     <use xlink:href=\"#DejaVuSans-31\"/>\n",
              "    </g>\n",
              "   </g>\n",
              "   <g id=\"text_73\">\n",
              "    <!--   -->\n",
              "    <g style=\"fill: #808080\" transform=\"translate(22.445633 42.781883) scale(0.12 -0.12)\">\n",
              "     <use xlink:href=\"#DejaVuSans-20\"/>\n",
              "    </g>\n",
              "   </g>\n",
              "   <g id=\"text_74\">\n",
              "    <!--   -->\n",
              "    <g style=\"fill: #808080\" transform=\"translate(51.51768 42.781883) scale(0.12 -0.12)\">\n",
              "     <use xlink:href=\"#DejaVuSans-20\"/>\n",
              "    </g>\n",
              "   </g>\n",
              "   <g id=\"text_75\">\n",
              "    <!-- 3 -->\n",
              "    <g style=\"fill: #808080\" transform=\"translate(78.679103 42.781883) scale(0.12 -0.12)\">\n",
              "     <use xlink:href=\"#DejaVuSans-33\"/>\n",
              "    </g>\n",
              "   </g>\n",
              "   <g id=\"text_76\">\n",
              "    <!--   -->\n",
              "    <g style=\"fill: #808080\" transform=\"translate(109.661775 42.781883) scale(0.12 -0.12)\">\n",
              "     <use xlink:href=\"#DejaVuSans-20\"/>\n",
              "    </g>\n",
              "   </g>\n",
              "   <g id=\"text_77\">\n",
              "    <!-- 2 -->\n",
              "    <g style=\"fill: #808080\" transform=\"translate(136.823197 42.781883) scale(0.12 -0.12)\">\n",
              "     <use xlink:href=\"#DejaVuSans-32\"/>\n",
              "    </g>\n",
              "   </g>\n",
              "   <g id=\"text_78\">\n",
              "    <!--   -->\n",
              "    <g style=\"fill: #808080\" transform=\"translate(167.80587 42.781883) scale(0.12 -0.12)\">\n",
              "     <use xlink:href=\"#DejaVuSans-20\"/>\n",
              "    </g>\n",
              "   </g>\n",
              "   <g id=\"text_79\">\n",
              "    <!-- 6 -->\n",
              "    <g style=\"fill: #808080\" transform=\"translate(194.967292 42.781883) scale(0.12 -0.12)\">\n",
              "     <use xlink:href=\"#DejaVuSans-36\"/>\n",
              "    </g>\n",
              "   </g>\n",
              "   <g id=\"text_80\">\n",
              "    <!--   -->\n",
              "    <g style=\"fill: #808080\" transform=\"translate(225.949965 42.781883) scale(0.12 -0.12)\">\n",
              "     <use xlink:href=\"#DejaVuSans-20\"/>\n",
              "    </g>\n",
              "   </g>\n",
              "   <g id=\"text_81\">\n",
              "    <!--   -->\n",
              "    <g style=\"fill: #808080\" transform=\"translate(255.022012 42.781883) scale(0.12 -0.12)\">\n",
              "     <use xlink:href=\"#DejaVuSans-20\"/>\n",
              "    </g>\n",
              "   </g>\n",
              "   <g id=\"text_82\">\n",
              "    <!-- Grid 01 -->\n",
              "    <g transform=\"translate(7.2 16.318125) scale(0.12 -0.12)\">\n",
              "     <defs>\n",
              "      <path id=\"DejaVuSans-Bold-47\" d=\"M 4781 347  Q 4331 128 3847 18  Q 3363 -91 2847 -91  Q 1681 -91 1000 561  Q 319 1213 319 2328  Q 319 3456 1012 4103  Q 1706 4750 2913 4750  Q 3378 4750 3804 4662  Q 4231 4575 4609 4403  L 4609 3438  Q 4219 3659 3833 3768  Q 3447 3878 3059 3878  Q 2341 3878 1952 3476  Q 1563 3075 1563 2328  Q 1563 1588 1938 1184  Q 2313 781 3003 781  Q 3191 781 3352 804  Q 3513 828 3641 878  L 3641 1784  L 2906 1784  L 2906 2591  L 4781 2591  L 4781 347  z \" transform=\"scale(0.015625)\"/>\n",
              "      <path id=\"DejaVuSans-Bold-72\" d=\"M 3138 2547  Q 2991 2616 2845 2648  Q 2700 2681 2553 2681  Q 2122 2681 1889 2404  Q 1656 2128 1656 1613  L 1656 0  L 538 0  L 538 3500  L 1656 3500  L 1656 2925  Q 1872 3269 2151 3426  Q 2431 3584 2822 3584  Q 2878 3584 2943 3579  Q 3009 3575 3134 3559  L 3138 2547  z \" transform=\"scale(0.015625)\"/>\n",
              "      <path id=\"DejaVuSans-Bold-69\" d=\"M 538 3500  L 1656 3500  L 1656 0  L 538 0  L 538 3500  z M 538 4863  L 1656 4863  L 1656 3950  L 538 3950  L 538 4863  z \" transform=\"scale(0.015625)\"/>\n",
              "      <path id=\"DejaVuSans-Bold-64\" d=\"M 2919 2988  L 2919 4863  L 4044 4863  L 4044 0  L 2919 0  L 2919 506  Q 2688 197 2409 53  Q 2131 -91 1766 -91  Q 1119 -91 703 423  Q 288 938 288 1747  Q 288 2556 703 3070  Q 1119 3584 1766 3584  Q 2128 3584 2408 3439  Q 2688 3294 2919 2988  z M 2181 722  Q 2541 722 2730 984  Q 2919 1247 2919 1747  Q 2919 2247 2730 2509  Q 2541 2772 2181 2772  Q 1825 2772 1636 2509  Q 1447 2247 1447 1747  Q 1447 1247 1636 984  Q 1825 722 2181 722  z \" transform=\"scale(0.015625)\"/>\n",
              "      <path id=\"DejaVuSans-Bold-20\" transform=\"scale(0.015625)\"/>\n",
              "      <path id=\"DejaVuSans-Bold-30\" d=\"M 2944 2338  Q 2944 3213 2780 3570  Q 2616 3928 2228 3928  Q 1841 3928 1675 3570  Q 1509 3213 1509 2338  Q 1509 1453 1675 1090  Q 1841 728 2228 728  Q 2613 728 2778 1090  Q 2944 1453 2944 2338  z M 4147 2328  Q 4147 1169 3647 539  Q 3147 -91 2228 -91  Q 1306 -91 806 539  Q 306 1169 306 2328  Q 306 3491 806 4120  Q 1306 4750 2228 4750  Q 3147 4750 3647 4120  Q 4147 3491 4147 2328  z \" transform=\"scale(0.015625)\"/>\n",
              "      <path id=\"DejaVuSans-Bold-31\" d=\"M 750 831  L 1813 831  L 1813 3847  L 722 3622  L 722 4441  L 1806 4666  L 2950 4666  L 2950 831  L 4013 831  L 4013 0  L 750 0  L 750 831  z \" transform=\"scale(0.015625)\"/>\n",
              "     </defs>\n",
              "     <use xlink:href=\"#DejaVuSans-Bold-47\"/>\n",
              "     <use xlink:href=\"#DejaVuSans-Bold-72\" x=\"82.080078\"/>\n",
              "     <use xlink:href=\"#DejaVuSans-Bold-69\" x=\"131.396484\"/>\n",
              "     <use xlink:href=\"#DejaVuSans-Bold-64\" x=\"165.673828\"/>\n",
              "     <use xlink:href=\"#DejaVuSans-Bold-20\" x=\"237.255859\"/>\n",
              "     <use xlink:href=\"#DejaVuSans-Bold-30\" x=\"272.070312\"/>\n",
              "     <use xlink:href=\"#DejaVuSans-Bold-31\" x=\"341.650391\"/>\n",
              "    </g>\n",
              "   </g>\n",
              "  </g>\n",
              " </g>\n",
              " <defs>\n",
              "  <clipPath id=\"p299fd05a65\">\n",
              "   <rect x=\"7.2\" y=\"22.318125\" width=\"266.881395\" height=\"266.881395\"/>\n",
              "  </clipPath>\n",
              " </defs>\n",
              "</svg>"
            ],
            "text/plain": [
              "<IPython.core.display.SVG object>"
            ]
          },
          "metadata": {},
          "output_type": "display_data"
        }
      ],
      "source": [
        "from IPython.display import SVG\n",
        "\n",
        "print(sudoku)\n",
        "display(sudoku)\n",
        "display(SVG(sudoku.svg))\n"
      ]
    },
    {
      "cell_type": "code",
      "execution_count": null,
      "metadata": {
        "id": "NQXwvs-WfYMI"
      },
      "outputs": [],
      "source": [
        "def drop_comment(file):\n",
        "    while True:\n",
        "        try:\n",
        "            line = next(file).strip()\n",
        "        except EOFError:\n",
        "            return\n",
        "        if not line.startswith(\"#\"):\n",
        "            yield line"
      ]
    },
    {
      "cell_type": "code",
      "execution_count": null,
      "metadata": {
        "id": "985lE2tjfYMI"
      },
      "outputs": [],
      "source": [
        "if dowload_large:\n",
        "    with open('data/puzzles2_17_clue', 'r') as file:\n",
        "        line = next(drop_comment(file))\n",
        "        grid = [[int(ch) if ch.isdigit() else 0 for ch in line[i: i+9]] for i in range(0,81,9)]\n",
        "        sudoku = Sudoku(grid)\n",
        "    sudoku"
      ]
    },
    {
      "cell_type": "markdown",
      "metadata": {
        "id": "-wSezntXfYMI"
      },
      "source": [
        "## Hogyan fogalmazható meg a feladat a matek eszközeivel?"
      ]
    },
    {
      "cell_type": "markdown",
      "metadata": {
        "id": "P7pdV-e5fYMI"
      },
      "source": []
    },
    {
      "cell_type": "markdown",
      "metadata": {
        "id": "INdGDobPfYMI"
      },
      "source": [
        "Hf. Nézzünk utána a `scipy.optimize.milp` függvénynek, ill. a `picosat` python csomagnak."
      ]
    },
    {
      "cell_type": "markdown",
      "metadata": {
        "id": "NMFru1sxfYMI"
      },
      "source": [
        "# Ha maradna idő"
      ]
    },
    {
      "cell_type": "markdown",
      "metadata": {
        "id": "x0J9eiyKfYMI"
      },
      "source": [
        "## Feladatok előadásról"
      ]
    },
    {
      "cell_type": "markdown",
      "metadata": {
        "id": "OmnoWjyyfYMJ"
      },
      "source": [
        "### Ismétlődések törlése"
      ]
    },
    {
      "cell_type": "markdown",
      "metadata": {
        "id": "GC4nQME8fYMK"
      },
      "source": [
        "\n",
        "Egy adott sztringből távolítsuk el az egymás mellett álló ismétlődő karatereket.\n",
        "\n",
        "Példa:\n",
        "```\n",
        "\"kukkkuuuurrrriiiikuuuuuuuu\" -> \"kukuriku\".\n",
        "```\n",
        "\n",
        "(Ez már volt korábban. Most keressünk elegánsabb megoldást, pl. az `itertools` könyvtár függvényeinek segítségével.)\n"
      ]
    },
    {
      "cell_type": "code",
      "execution_count": null,
      "metadata": {
        "id": "WvPGYQNefYMK"
      },
      "outputs": [],
      "source": [
        "\n",
        "def remove_consecutive_duplicates(string):\n",
        "    pass\n"
      ]
    },
    {
      "cell_type": "markdown",
      "metadata": {
        "id": "PHaGDLdkfYMM"
      },
      "source": [
        "### Számolás polinomokkal"
      ]
    },
    {
      "cell_type": "markdown",
      "metadata": {
        "id": "b9xE_9VffYMN"
      },
      "source": [
        "Írjunk egy `Polynomial` osztályt, ahol a polinomot tároljuk el, mint az együtthatóinak listáját.\n",
        "\n",
        "Implementáljuk két ilyen polinom összeadását (azaz írjuk meg az `__add__`, valamint a `__repr__`  metódust, hogy lássuk, mi egy ilyen egyed ,,tartalma'').\n",
        "\n",
        "Egy polinom függvény is. Implementáljuk a `__call__` metódust is, ami kiértékeli a polinomot egy adott pontban!\n"
      ]
    },
    {
      "cell_type": "code",
      "execution_count": null,
      "metadata": {
        "id": "X0GLXRMmfYMN"
      },
      "outputs": [],
      "source": [
        "from itertools import dropwhile\n",
        "from fractions import Fraction\n"
      ]
    },
    {
      "cell_type": "code",
      "execution_count": null,
      "metadata": {
        "id": "AWiSvduifYMO"
      },
      "outputs": [],
      "source": [
        "def format_term(k, coeff, fmt=\"x^{k}\"):\n",
        "    sep = \"-\" if coeff < 0 else \"+\"\n",
        "    coeff = abs(coeff)\n",
        "    c = f\"{coeff}\" if coeff != 1 else \"\"\n",
        "    match k:\n",
        "        case 0:\n",
        "            x = \"\"\n",
        "            c = f\"{coeff}\"\n",
        "        case 1:\n",
        "            x = \"x\"\n",
        "        case _:\n",
        "            x = fmt.format(k=k)\n",
        "    return f\"{c}{x}\", sep\n",
        "\n",
        "class Polynomial:\n",
        "    def __init__(self, *coefficients):\n",
        "        self.coeff = tuple(dropwhile(lambda x: x==0, coefficients))[::-1]\n",
        "\n",
        "    def degree(self):\n",
        "        return len(self.coeff)-1 if self.coeff else 0\n",
        "\n",
        "    def __eq__(self, other):\n",
        "        return isinstance(other, type(self)) and self.coeff == other.coeff\n",
        "\n",
        "    def __add__(self, other):\n",
        "\n",
        "        coeff_a = self.coeff\n",
        "        coeff_b = other.coeff\n",
        "\n",
        "        if len(coeff_a) < len(coeff_b):\n",
        "            coeff_a, coeff_b = coeff_b, coeff_a\n",
        "\n",
        "        coeff = list(coeff_a)\n",
        "\n",
        "        for i, c in enumerate(coeff_b):\n",
        "            coeff[i] += c\n",
        "\n",
        "        return Polynomial(*reversed(coeff))\n",
        "\n",
        "    def __sub__(self, other):\n",
        "        return self+(-1)*other\n",
        "\n",
        "    def __mul__(self, other):\n",
        "        coeff = [0]*(len(self.coeff)+len(other.coeff)-1)\n",
        "        for i, ca in enumerate(self.coeff):\n",
        "            for j, cb in enumerate(other.coeff):\n",
        "                coeff[i+j] += ca*cb\n",
        "\n",
        "        return Polynomial(*reversed(coeff))\n",
        "\n",
        "    def __rmul__(self, c):\n",
        "        coeff = [c0*c for c0 in self.coeff]\n",
        "        return Polynomial(*reversed(coeff))\n",
        "\n",
        "    def leading_coeff(self):\n",
        "        return self.coeff[-1] if self.coeff else 0\n",
        "\n",
        "    def __divmod__(self, other):\n",
        "        if not isinstance(other, type(self)):\n",
        "            raise TypeError\n",
        "\n",
        "        m = Polynomial()\n",
        "        r = self\n",
        "        main_coeff = other.leading_coeff()\n",
        "        other_dg = other.degree()\n",
        "\n",
        "        while r.degree() >= other_dg:\n",
        "            c = r.leading_coeff()/main_coeff\n",
        "            m += c*monomial(r.degree()-other_dg)\n",
        "            r = self-m*other\n",
        "        return m, r\n",
        "\n",
        "    def __mod__(self, other):\n",
        "        return divmod(self, other)[1]\n",
        "\n",
        "    def __floordiv__(self, other):\n",
        "        return divmod(self, other)[0]\n",
        "\n",
        "    def __call__(self, x):\n",
        "        value = 0\n",
        "        for c in reversed(self.coeff):\n",
        "            value *= x\n",
        "            value += c\n",
        "        return value\n",
        "\n",
        "    def as_token_list(self, formatter, fmt):\n",
        "        coeffs = [(k, coeff) for k, coeff in enumerate(self.coeff) if coeff != 0]\n",
        "        if len(coeffs) == 0:\n",
        "            coeffs = [(0, 0)]\n",
        "        tokens = [token for k, coeff in coeffs for token in format_term(k, coeff, fmt)]\n",
        "        if tokens[-1] == \"+\":\n",
        "            tokens.pop()\n",
        "        tokens.reverse()\n",
        "        return tokens\n",
        "\n",
        "    def __str__(self):\n",
        "        return ''.join(self.as_token_list(format_term, \"x^{k}\"))\n",
        "\n",
        "    def __repr__(self):\n",
        "        return f\"{type(self).__name__}({', '.join(map(str, reversed(self.coeff)))})\"\n",
        "\n",
        "    def _repr_latex_(self):\n",
        "        formula = ''.join(self.as_token_list(format_term, \"x^{{{k}}}\"))\n",
        "        return f\"$x\\mapsto {formula}$\"\n",
        "\n",
        "\n",
        "def monomial(degree, unit=1):\n",
        "    coeff = [unit]+[0]*degree\n",
        "    return Polynomial(*coeff)"
      ]
    },
    {
      "cell_type": "markdown",
      "metadata": {
        "id": "xfgRIWazfYMO"
      },
      "source": [
        "Néhány példa:"
      ]
    },
    {
      "cell_type": "code",
      "execution_count": null,
      "metadata": {
        "id": "PrS2iHxFfYMP",
        "outputId": "0624495e-cc1c-4923-e5dc-25549fdb9d90"
      },
      "outputs": [
        {
          "data": {
            "text/latex": [
              "$x\\mapsto -x^{2}-3$"
            ],
            "text/plain": [
              "Polynomial(-1, -0.0, -3)"
            ]
          },
          "metadata": {},
          "output_type": "display_data"
        },
        {
          "data": {
            "text/latex": [
              "$x\\mapsto 2x^{3}-x+1$"
            ],
            "text/plain": [
              "Polynomial(2, 0, -1, 1)"
            ]
          },
          "metadata": {},
          "output_type": "display_data"
        },
        {
          "data": {
            "text/latex": [
              "$x\\mapsto -2x^{5}-5.0x^{3}-x^{2}+3.0x-3$"
            ],
            "text/plain": [
              "Polynomial(-2, 0.0, -5.0, -1.0, 3.0, -3)"
            ]
          },
          "metadata": {},
          "output_type": "display_data"
        },
        {
          "data": {
            "text/latex": [
              "$x\\mapsto -2x^{2}-6$"
            ],
            "text/plain": [
              "Polynomial(-2, -0.0, -6)"
            ]
          },
          "metadata": {},
          "output_type": "display_data"
        },
        {
          "name": "stdout",
          "output_type": "stream",
          "text": [
            "2x^3-x+1\n"
          ]
        }
      ],
      "source": [
        "p = Polynomial(-1, -0.0, -3)    # -> x^2 - 3\n",
        "q = Polynomial(2, 0, -1, 1)  # -> 2x^3 + 3x + 1\n",
        "display(p)\n",
        "display(q)\n",
        "display(p*q)\n",
        "display(2*p)\n",
        "print(str(q))\n",
        "## p**2"
      ]
    },
    {
      "cell_type": "code",
      "execution_count": null,
      "metadata": {
        "id": "5ccPeDyYfYMQ",
        "outputId": "073aa85f-d037-4a7d-c6f4-163ebd6f2e0d"
      },
      "outputs": [
        {
          "data": {
            "text/latex": [
              "$-2x$"
            ],
            "text/plain": [
              "Polynomial(-2, 0)"
            ]
          },
          "metadata": {},
          "output_type": "display_data"
        },
        {
          "data": {
            "text/latex": [
              "$-7x+1$"
            ],
            "text/plain": [
              "Polynomial(-7, 1)"
            ]
          },
          "metadata": {},
          "output_type": "display_data"
        },
        {
          "data": {
            "text/latex": [
              "$-x^{2}-3$"
            ],
            "text/plain": [
              "Polynomial(-1, 0, -3)"
            ]
          },
          "metadata": {},
          "output_type": "display_data"
        },
        {
          "data": {
            "text/latex": [
              "$2x^{3}-x+1$"
            ],
            "text/plain": [
              "Polynomial(2, 0, -1, 1)"
            ]
          },
          "metadata": {},
          "output_type": "display_data"
        },
        {
          "data": {
            "text/latex": [
              "$2x^{3}+6x$"
            ],
            "text/plain": [
              "Polynomial(2, 0, 6, 0)"
            ]
          },
          "metadata": {},
          "output_type": "display_data"
        }
      ],
      "source": [
        "p = Fraction(1,1)*p\n",
        "q = Fraction(1,1)*q\n",
        "\n",
        "m, r = divmod(q, p)\n",
        "display(m)\n",
        "display(r)\n",
        "display(p)\n",
        "display(q)\n",
        "display(m*p)"
      ]
    },
    {
      "cell_type": "markdown",
      "metadata": {
        "id": "gXq3QCsbfYMR"
      },
      "source": [
        "#### Korábbi feladat"
      ]
    },
    {
      "cell_type": "markdown",
      "metadata": {
        "id": "68adXyYJfYMR"
      },
      "source": [
        "Írjunk egy függvényt, ami kiszámolja az első $n$ természetes szám $p$-ik hatványösszegét.\n",
        "\n",
        "pl. `p = 0`-ra\n",
        "\n",
        "```Python\n",
        "def f0(n):\n",
        "    return n\n",
        "```\n",
        "\n",
        "jó, mert $k^0=1$ ha $k=1,\\dots,n$ és ezek összege pont $n$.\n",
        "\n",
        "Ha `p = 1`, akkor\n",
        "\n",
        "```Python\n",
        "def f1(n):\n",
        "    return n*(n+1)//2\n",
        "```\n",
        "\n",
        "jó, mert $\\sum_{k=1}^n k = n(n+1)/2$.\n",
        "\n",
        "Még `p = 2`-t is tanultuk\n",
        "\n",
        "```Python\n",
        "def f2(n):\n",
        "    return n*(n+1)*(2*n+1)//6\n",
        "```\n",
        "\n",
        "Általános $p$-re tudunk-e ilyen függvényt írni?"
      ]
    },
    {
      "cell_type": "code",
      "execution_count": null,
      "metadata": {
        "id": "q9Zk2KlPfYMS"
      },
      "outputs": [],
      "source": [
        "def mk_power_sum(p):\n",
        "    def f(n):\n",
        "        total = 0\n",
        "        for k in range(1, n+1):\n",
        "            total += k**p\n",
        "        return total\n",
        "\n",
        "    f.__doc__ = f\"\"\"\n",
        "        {p}-ik hatványok összegét számolja\n",
        "        \"\"\"\n",
        "\n",
        "    return f"
      ]
    },
    {
      "cell_type": "code",
      "execution_count": null,
      "metadata": {
        "id": "43cm9Ak-fYMS"
      },
      "outputs": [],
      "source": [
        "f2_slow = mk_power_sum(2)"
      ]
    },
    {
      "cell_type": "code",
      "execution_count": null,
      "metadata": {
        "id": "Y70sohWGfYMT",
        "outputId": "ffcd1dce-724a-49da-c891-96e1b32fa044"
      },
      "outputs": [
        {
          "name": "stdout",
          "output_type": "stream",
          "text": [
            "\u001b[0;31mSignature:\u001b[0m \u001b[0mf2_slow\u001b[0m\u001b[0;34m(\u001b[0m\u001b[0mn\u001b[0m\u001b[0;34m)\u001b[0m\u001b[0;34m\u001b[0m\u001b[0;34m\u001b[0m\u001b[0m\n",
            "\u001b[0;31mDocstring:\u001b[0m 2-ik hatványok összegét számolja\n",
            "\u001b[0;31mFile:\u001b[0m      /tmp/ipykernel_84317/3344454091.py\n",
            "\u001b[0;31mType:\u001b[0m      function"
          ]
        }
      ],
      "source": [
        "f2_slow?"
      ]
    },
    {
      "cell_type": "code",
      "execution_count": null,
      "metadata": {
        "id": "lJiDmeSwfYMU",
        "outputId": "ddeccc8b-e21e-47ab-b843-591f5bfa870c"
      },
      "outputs": [
        {
          "data": {
            "text/plain": [
              "[0, 1, 5, 14, 30, 55, 91, 140, 204, 285]"
            ]
          },
          "execution_count": 572,
          "metadata": {},
          "output_type": "execute_result"
        }
      ],
      "source": [
        "[f2_slow(i) for i in range(0, 10)]"
      ]
    },
    {
      "cell_type": "code",
      "execution_count": null,
      "metadata": {
        "id": "dPNKlKSGfYMU"
      },
      "outputs": [],
      "source": [
        "def f2_fast(n):\n",
        "    return n*(n+1)*(2*n+1)//6"
      ]
    },
    {
      "cell_type": "code",
      "execution_count": null,
      "metadata": {
        "id": "X0SjNApxfYMV",
        "outputId": "def33832-d0e1-4ac0-819d-a0af2dc3b919"
      },
      "outputs": [
        {
          "name": "stdout",
          "output_type": "stream",
          "text": [
            "2.04 ms ± 11.5 µs per loop (mean ± std. dev. of 7 runs, 100 loops each)\n",
            "742 ns ± 15.9 ns per loop (mean ± std. dev. of 7 runs, 1,000,000 loops each)\n"
          ]
        }
      ],
      "source": [
        "%timeit f2_slow(10_000)\n",
        "%timeit f2_fast(10_000)"
      ]
    },
    {
      "cell_type": "markdown",
      "metadata": {
        "id": "Y5er-SNCfYMV"
      },
      "source": [
        "### Ötlet"
      ]
    },
    {
      "cell_type": "markdown",
      "metadata": {
        "id": "mXoa__PMfYMV"
      },
      "source": [
        "$$\n",
        "    \\sum_{k=r}^n  \\binom{k}{r} = \\binom{n+1}{r+1}\n",
        "$$\n",
        "\n",
        "**Bizonyítás.**\n",
        "$\\{1,2,\\dots,n+1\\}$-ből válasszunk ki $r+1$ különböző számot.\n",
        "\n",
        "Összes lehetőség:\n",
        "$$\n",
        "\\binom{n+1}{r+1}.\n",
        "$$\n",
        "\n",
        "Számoljuk meg az eseteket aszerint szétbontva is, hogy legnagyobb kiválasztott szám mivel egyenlő.\n",
        "\n",
        "Ha a legnagyobb szám $k+1$, akkor a maradék $r$ számot $\\{1,2,\\dots, k\\}$ közül választjuk. Így az esetek száma\n",
        "$$\n",
        "    \\sum_{k+1=r+1}^{n+1} \\binom{k}{r} =  \\sum_{k=r}^{n} \\binom{k}{r}\n",
        "$$  \n",
        "$k+1$ helyett $k$ az összegzési változó"
      ]
    },
    {
      "cell_type": "markdown",
      "metadata": {
        "id": "OSGeHdgSfYMV"
      },
      "source": [
        "Ugyanez másképp.\n",
        "\n",
        "$$\n",
        "\\binom{k}{r} = \\frac{1}{r!} k(k-1)\\cdots(k-r+1) = \\frac{1}{r!}p_r(k-r+1),\\quad\\text{ahol}\\quad p_r(x) = x(x+1)\\cdots(x+r-1)\n",
        "$$\n",
        "és\n",
        "$$\n",
        "    \\sum_{j=1}^{n-r+1} \\frac{1}{r!}p_r(j) = \\frac{1}{(r+1)!}p_{r+1}(n+1-(r+1)+1)= \\frac{1}{(r+1)!} p_{r+1}(n-r+1)\\quad\\text{minden $n\\geq r$ és $r\\geq 0$-ra}\n",
        "$$\n",
        "\n",
        "Az összegzés felső határa és $p_{r+1}$ argumentuma ugyanaz, azaz\n",
        "\n",
        "$$\n",
        "\\sum_{j=0}^{n} p_r(j) = \\frac{1}{r+1}p_{r+1}(n)\n",
        "$$"
      ]
    },
    {
      "cell_type": "markdown",
      "metadata": {
        "id": "pcxzrJe7fYMV"
      },
      "source": [
        "**Lineáris algebra.**\n",
        "\n",
        "$$\n",
        "p_0\\equiv 1,\\quad p_1(x)=x,\\quad p_2(x)=x(x+1),\\quad\\dots,\\quad p_r(x)=x(x+1)\\cdots(x+r-1)\n",
        "$$\n",
        "\n",
        "bázis a legfeljebb $r$-edfokú polinomok vektorterében.\n",
        "\n",
        "$$\n",
        "    x^r = \\sum_{i=0}^r a_i p_i(x)\n",
        "$$\n",
        "és\n",
        "$$\n",
        "    \\sum_{k=0}^n k^r = \\sum_{k=0}^n \\sum_{i=0}^r a_i p_i(k) =  \\sum_{i=0}^r a_i  \\sum_{k=0}^n p_i(k) = \\sum_{i=0}^r \\frac{a_i}{r+1}  p_{i+1}(n)\n",
        "$$\n"
      ]
    },
    {
      "cell_type": "markdown",
      "metadata": {
        "id": "0LHlPY_ufYMW"
      },
      "source": [
        "### Összefoglalva\n"
      ]
    },
    {
      "cell_type": "markdown",
      "metadata": {
        "id": "rWih-ukmfYMW"
      },
      "source": [
        "\n",
        "- Egy polinomot az együtthatókkal ábrázolhatunk.\n",
        "- Kellene egy függvény, ami a természetes $1, x, x^2,\\dots$ bázisban felírt polinomot a $p_0,p_1,\\dots$ bázisban ír fel.\n",
        "- $p_0, p_1, \\dots,$ bázisban az összegzés könnyű, lényegében arrébb kell tolni az együtthatókat.\n",
        "- A $p_0,p_1,\\dots$ bázisban felírt polinomot vagy visszaszámoljuk a természetes bázisba, vagy megírjuk a függvényt, ami kiértékeli a függvényt egy adott pontban."
      ]
    },
    {
      "cell_type": "markdown",
      "metadata": {
        "id": "GHjvrgxmfYMW"
      },
      "source": [
        "Vegyük észre, hogy $p_0$ azonosan 1, $p_1(0)=0$, $p_2(0)=p_2(-1)=0$, stb.\n",
        "\n",
        "Ha $f=\\sum_i a_i p_i$, akkor\n",
        "$$\n",
        "    f(0) = \\sum_i a_i p(0) = a_0, \\quad f(-1) = a_0 p_0(-1) + a_1 p_1(-1),\\quad f(-k) = a_0 p_0(-k) + a_1 p_1(-k) + \\cdots + a_k p_k(-k).\n",
        "$$\n",
        "amiből\n",
        "\n",
        "$$\n",
        "\\begin{align*}\n",
        "    a_0 & = f(0)\\\\\n",
        "    a_1 & = \\frac{f(-1) - a_0 p_0(-1)}{p_1(-1)}\\\\\n",
        "    \\vdots\\\\\n",
        "    a_k & = \\frac{f(-k) - \\sum_{j=0}^{k-1} a_j p_j(-k)}{p_{k}(-k)}\\\\\n",
        "    \\vdots\n",
        "\\end{align*}\n",
        "$$  \n",
        "Kihasználhatjuk még, hogy\n",
        "$$\n",
        "p_k(-k)=(-k)(-k+1)\\cdots(-k+(k-1))=(-1)^k k!.\n",
        "$$"
      ]
    },
    {
      "cell_type": "code",
      "execution_count": null,
      "metadata": {
        "id": "6rABXFoWfYMW"
      },
      "outputs": [],
      "source": [
        "def basis():\n",
        "    i = 0\n",
        "    p = Polynomial(1)\n",
        "    while True:\n",
        "        yield p\n",
        "        p *= Polynomial(1,i)\n",
        "        i += 1\n"
      ]
    },
    {
      "cell_type": "code",
      "execution_count": null,
      "metadata": {
        "id": "SmOZxHvZfYMW"
      },
      "outputs": [],
      "source": [
        "from itertools import islice"
      ]
    },
    {
      "cell_type": "markdown",
      "metadata": {
        "id": "HmRvQak_fYMW"
      },
      "source": [
        "$$\n",
        "p_k(-k)=(-k)(-k+1)\\cdots(-k+(k-1))=(-1)^k k!.\n",
        "$$\n",
        "ellenőrzése.\n"
      ]
    },
    {
      "cell_type": "code",
      "execution_count": null,
      "metadata": {
        "id": "-P5kWSt_fYMX",
        "outputId": "266bb691-8877-4ebf-b3f8-c286888f2804"
      },
      "outputs": [
        {
          "data": {
            "text/latex": [
              "$x\\mapsto 1$"
            ],
            "text/plain": [
              "Polynomial(1)"
            ]
          },
          "metadata": {},
          "output_type": "display_data"
        },
        {
          "name": "stdout",
          "output_type": "stream",
          "text": [
            "i=0, p(-i)=1\n",
            "--------------------\n"
          ]
        },
        {
          "data": {
            "text/latex": [
              "$x\\mapsto x$"
            ],
            "text/plain": [
              "Polynomial(1, 0)"
            ]
          },
          "metadata": {},
          "output_type": "display_data"
        },
        {
          "name": "stdout",
          "output_type": "stream",
          "text": [
            "i=1, p(-i)=-1\n",
            "--------------------\n"
          ]
        },
        {
          "data": {
            "text/latex": [
              "$x\\mapsto x^{2}+x$"
            ],
            "text/plain": [
              "Polynomial(1, 1, 0)"
            ]
          },
          "metadata": {},
          "output_type": "display_data"
        },
        {
          "name": "stdout",
          "output_type": "stream",
          "text": [
            "i=2, p(-i)=2\n",
            "--------------------\n"
          ]
        },
        {
          "data": {
            "text/latex": [
              "$x\\mapsto x^{3}+3x^{2}+2x$"
            ],
            "text/plain": [
              "Polynomial(1, 3, 2, 0)"
            ]
          },
          "metadata": {},
          "output_type": "display_data"
        },
        {
          "name": "stdout",
          "output_type": "stream",
          "text": [
            "i=3, p(-i)=-6\n",
            "--------------------\n"
          ]
        },
        {
          "data": {
            "text/latex": [
              "$x\\mapsto x^{4}+6x^{3}+11x^{2}+6x$"
            ],
            "text/plain": [
              "Polynomial(1, 6, 11, 6, 0)"
            ]
          },
          "metadata": {},
          "output_type": "display_data"
        },
        {
          "name": "stdout",
          "output_type": "stream",
          "text": [
            "i=4, p(-i)=24\n",
            "--------------------\n"
          ]
        }
      ],
      "source": [
        "for i, p in zip(range(5), basis()):\n",
        "    display(p)\n",
        "    print(f\"{i=}, {p(-i)=}\")\n",
        "    print(\"-\"*20)"
      ]
    },
    {
      "cell_type": "code",
      "execution_count": null,
      "metadata": {
        "id": "ZOtOZz7AfYMX"
      },
      "outputs": [],
      "source": [
        "from typing import Callable\n",
        "\n",
        "def mk_fast_polynomial_sum(p: Polynomial) -> Polynomial:\n",
        "    \"\"\"return a polynomial q such that q(n)=sum_{k=1}^n p(k)\"\"\"\n",
        "    q = Polynomial()\n",
        "    q0 = Polynomial()\n",
        "\n",
        "    it = iter(basis())\n",
        "    i = 0\n",
        "\n",
        "    while q0 != p:\n",
        "        pi = next(it)\n",
        "        if i > 0:\n",
        "            q += (coeff/i)*pi\n",
        "        coeff = ((p(-i) - q0(-i))/pi(-i))\n",
        "        q0 += coeff*pi\n",
        "        i += 1\n",
        "\n",
        "    q += (coeff/i)*next(it)\n",
        "    return q\n",
        "\n",
        "def mk_fast_power_sum(k:int) -> Callable[[int], int]:\n",
        "    coeff = mk_fast_polynomial_sum(monomial(k, unit=Fraction(1,1))).coeff\n",
        "    f = math.lcm(*[c.denominator for c in coeff])\n",
        "    p = Polynomial(*[int(c*f) for c in reversed(coeff)])\n",
        "    def fun(x: int) -> int:\n",
        "        return p(x)//f\n",
        "\n",
        "    fun.__doc__ = f\"computes sum_{{k=1}}^n x^{k}\"\n",
        "    return fun\n"
      ]
    },
    {
      "cell_type": "markdown",
      "metadata": {
        "id": "vFq8XMEAfYMX"
      },
      "source": [
        "#### Gyors ellenőrzés."
      ]
    },
    {
      "cell_type": "code",
      "execution_count": null,
      "metadata": {
        "id": "VeosOToafYMY",
        "outputId": "4818a092-f04c-4c05-9fb0-7aa4d4344078"
      },
      "outputs": [
        {
          "name": "stdout",
          "output_type": "stream",
          "text": [
            "\u001b[32m.\u001b[0m\u001b[32m                                                                                            [100%]\u001b[0m\n",
            "\u001b[32m\u001b[32m\u001b[1m1 passed\u001b[0m\u001b[32m in 0.31s\u001b[0m\u001b[0m\n"
          ]
        }
      ],
      "source": [
        "%%ipytest\n",
        "\n",
        "def test_fast_power_sum():\n",
        "    for i in range(1, 4):\n",
        "        f = mk_fast_power_sum(i)\n",
        "        g = mk_power_sum(i)\n",
        "        for n in range(1000):\n",
        "            assert f(n) == g(n)"
      ]
    },
    {
      "cell_type": "code",
      "execution_count": null,
      "metadata": {
        "id": "mvmp4bzPfYMY"
      },
      "outputs": [],
      "source": [
        "f2 = mk_fast_polynomial_sum(monomial(2, Fraction(1,1)))\n",
        "f2a = mk_fast_power_sum(2)"
      ]
    },
    {
      "cell_type": "code",
      "execution_count": null,
      "metadata": {
        "id": "tnicvZk0fYMY",
        "outputId": "dadb31a7-4ca8-4215-d159-4899f8b7af15"
      },
      "outputs": [
        {
          "name": "stdout",
          "output_type": "stream",
          "text": [
            "2.09 ms ± 25.5 µs per loop (mean ± std. dev. of 7 runs, 100 loops each)\n",
            "9.43 µs ± 181 ns per loop (mean ± std. dev. of 7 runs, 100,000 loops each)\n",
            "1.04 µs ± 12.9 ns per loop (mean ± std. dev. of 7 runs, 1,000,000 loops each)\n",
            "747 ns ± 15.2 ns per loop (mean ± std. dev. of 7 runs, 1,000,000 loops each)\n"
          ]
        }
      ],
      "source": [
        "%timeit f2_slow(10_000)\n",
        "%timeit f2(10_000)\n",
        "%timeit f2a(10_000)\n",
        "%timeit f2_fast(10_000)"
      ]
    },
    {
      "cell_type": "markdown",
      "metadata": {
        "id": "s8HuC4fcfYMY"
      },
      "source": [
        "Törtekkel számolni kicsit lassabb!"
      ]
    },
    {
      "cell_type": "markdown",
      "metadata": {
        "id": "AE_nfVQOfYMZ"
      },
      "source": [
        "Hogyan emlékszik `f2a` a kiszámolt `p` és `f` értékre. A `__closure__` nevű attribútum tárolja."
      ]
    },
    {
      "cell_type": "code",
      "execution_count": null,
      "metadata": {
        "id": "ITKNmSnEfYMZ",
        "outputId": "a39a5a4c-5583-4eba-8f14-4abefc054fea"
      },
      "outputs": [
        {
          "name": "stdout",
          "output_type": "stream",
          "text": [
            "{'coeff': (Fraction(0, 1), Fraction(1, 6), Fraction(1, 2), Fraction(1, 3))}\n",
            "6\n",
            "2x^3+3x^2+x\n"
          ]
        }
      ],
      "source": [
        "print(f\"{f2.__dict__}\")\n",
        "for cell in f2a.__closure__:\n",
        "    print(cell.cell_contents)\n"
      ]
    },
    {
      "cell_type": "code",
      "execution_count": null,
      "metadata": {
        "id": "A-98cZZDfYMa",
        "outputId": "4848947f-26e9-4c1e-c13d-e09faa45581e"
      },
      "outputs": [
        {
          "name": "stdout",
          "output_type": "stream",
          "text": [
            "f2a.__closure__[0].cell_contents=6, f2a(2)=5\n",
            "f2a.__closure__[0].cell_contents=3, f2a(2)=10\n"
          ]
        }
      ],
      "source": [
        "f2a = mk_fast_power_sum(2)\n",
        "print(f\"{f2a.__closure__[0].cell_contents=}, {f2a(2)=}\")\n",
        "f2a.__closure__[0].cell_contents = 3\n",
        "print(f\"{f2a.__closure__[0].cell_contents=}, {f2a(2)=}\")"
      ]
    },
    {
      "cell_type": "code",
      "execution_count": null,
      "metadata": {
        "id": "SBtP6NK0fYMa",
        "outputId": "bc2c1e4a-5104-4934-b30e-83e366106d04"
      },
      "outputs": [
        {
          "name": "stdout",
          "output_type": "stream",
          "text": [
            "Help on function fun in module __main__:\n",
            "\n",
            "fun(x: int) -> int\n",
            "    computes sum_{k=1}^n x^2\n",
            "\n"
          ]
        }
      ],
      "source": [
        "help(mk_fast_power_sum(2))"
      ]
    },
    {
      "cell_type": "code",
      "execution_count": null,
      "metadata": {
        "id": "94wfpMUVfYMa",
        "outputId": "7d5c420e-6646-493e-f676-f2b44781ff95"
      },
      "outputs": [
        {
          "data": {
            "text/plain": [
              "[0, 1, 5, 14, 30]"
            ]
          },
          "execution_count": 657,
          "metadata": {},
          "output_type": "execute_result"
        }
      ],
      "source": [
        "[mk_fast_power_sum(2)(i) for i in range(5)]"
      ]
    },
    {
      "cell_type": "code",
      "execution_count": null,
      "metadata": {
        "id": "iG3xjjEcfYMa",
        "outputId": "1147eee3-fab8-4b66-e3b0-179d5f1e105f"
      },
      "outputs": [
        {
          "data": {
            "text/latex": [
              "$x\\mapsto 0.1111111111111111x^{9}+0.5x^{8}+0.6666666666666643x^{7}-0.46666666666715173x^{5}+0.22222222222444543x^{3}-0.03333333333284827x$"
            ],
            "text/plain": [
              "Polynomial(0.1111111111111111, 0.5, 0.6666666666666643, 0.0, -0.46666666666715173, 0.0, 0.22222222222444543, 0.0, -0.03333333333284827, 0.0)"
            ]
          },
          "execution_count": 658,
          "metadata": {},
          "output_type": "execute_result"
        }
      ],
      "source": [
        "mk_fast_polynomial_sum(monomial(8))"
      ]
    },
    {
      "cell_type": "markdown",
      "metadata": {
        "id": "uBb6OmJifYMb"
      },
      "source": [
        "Ugyanez a polinom racionális együtthatókkal"
      ]
    },
    {
      "cell_type": "code",
      "execution_count": null,
      "metadata": {
        "id": "gHCN9OjofYMb",
        "outputId": "9ac7b9d8-5bb9-4319-8512-7b463e96e71f"
      },
      "outputs": [
        {
          "data": {
            "text/latex": [
              "$x\\mapsto 1/9x^{9}+1/2x^{8}+2/3x^{7}-7/15x^{5}+2/9x^{3}-1/30x$"
            ],
            "text/plain": [
              "Polynomial(1/9, 1/2, 2/3, 0, -7/15, 0, 2/9, 0, -1/30, 0)"
            ]
          },
          "execution_count": 659,
          "metadata": {},
          "output_type": "execute_result"
        }
      ],
      "source": [
        "mk_fast_polynomial_sum(monomial(8, unit=Fraction(1, 1)))"
      ]
    },
    {
      "cell_type": "code",
      "execution_count": null,
      "metadata": {
        "id": "bjK4iI_DfYMb",
        "outputId": "480a5fab-05b8-4a34-8005-4af3e2936c9f"
      },
      "outputs": [
        {
          "data": {
            "text/latex": [
              "$x\\mapsto 1/5x^{5}+1/2x^{4}+1/3x^{3}-1/30x$"
            ],
            "text/plain": [
              "Polynomial(1/5, 1/2, 1/3, 0, -1/30, 0)"
            ]
          },
          "metadata": {},
          "output_type": "display_data"
        },
        {
          "data": {
            "text/latex": [
              "$x\\mapsto 6x^{5}+15x^{4}+10x^{3}-x$"
            ],
            "text/plain": [
              "Polynomial(6, 15, 10, 0, -1, 0)"
            ]
          },
          "metadata": {},
          "output_type": "display_data"
        }
      ],
      "source": [
        "q = mk_fast_polynomial_sum(monomial(4, Fraction(1,1)))\n",
        "display(q)\n",
        "display(30*q)"
      ]
    },
    {
      "cell_type": "markdown",
      "metadata": {
        "id": "EptKbH0IfYMc"
      },
      "source": [
        "Az első néhány hatványösszeget számoló polinom:"
      ]
    },
    {
      "cell_type": "code",
      "execution_count": null,
      "metadata": {
        "id": "tO2GpMM3fYMc",
        "outputId": "3ed9839b-5e40-4c38-b2f6-c8fa3c4da149"
      },
      "outputs": [
        {
          "name": "stdout",
          "output_type": "stream",
          "text": [
            "k=0, p_k=                                                 x,   1*p_k=                                       x\n",
            "k=1, p_k=                                       1/2x^2+1/2x,   2*p_k=                                   x^2+x\n",
            "k=2, p_k=                                1/3x^3+1/2x^2+1/6x,   6*p_k=                             2x^3+3x^2+x\n",
            "k=3, p_k=                              1/4x^4+1/2x^3+1/4x^2,   4*p_k=                            x^4+2x^3+x^2\n",
            "k=4, p_k=                        1/5x^5+1/2x^4+1/3x^3-1/30x,  30*p_k=                      6x^5+15x^4+10x^3-x\n",
            "k=5, p_k=                     1/6x^6+1/2x^5+5/12x^4-1/12x^2,  12*p_k=                      2x^6+6x^5+5x^4-x^2\n",
            "k=6, p_k=                 1/7x^7+1/2x^6+1/2x^5-1/6x^3+1/42x,  42*p_k=                 6x^7+21x^6+21x^5-7x^3+x\n",
            "k=7, p_k=             1/8x^8+1/2x^7+7/12x^6-7/24x^4+1/12x^2,  24*p_k=              3x^8+12x^7+14x^6-7x^4+2x^2\n",
            "k=8, p_k=         1/9x^9+1/2x^8+2/3x^7-7/15x^5+2/9x^3-1/30x,  90*p_k=        10x^9+45x^8+60x^7-42x^5+20x^3-3x\n",
            "k=9, p_k=     1/10x^10+1/2x^9+3/4x^8-7/10x^6+1/2x^4-3/20x^2,  20*p_k=      2x^10+10x^9+15x^8-14x^6+10x^4-3x^2\n"
          ]
        }
      ],
      "source": [
        "for k in range(10):\n",
        "    p_k = mk_fast_polynomial_sum(monomial(k, Fraction(1, 1)))\n",
        "    f = math.lcm(*(c.denominator for c in p_k.coeff))\n",
        "    print(f\"{k=}, {p_k=!s:>50}, {f:>3}*p_k={f*p_k!s:>40}\")\n"
      ]
    },
    {
      "cell_type": "markdown",
      "metadata": {
        "id": "3PDtXJVSfYMc"
      },
      "source": [
        "Igaz-e, hogy a gyökök racionálisak?\n",
        "\n",
        "$\\sum_{i=0}^n i^k = P_{k+1}(n)$\n",
        "\n",
        "$k=0,1,2,3$ esetén igen.\n",
        "\n",
        "$$\n",
        "\\begin{aligned}\n",
        "    x^2+x &= x(x+1)\\\\\n",
        "    2x^3+3x^2+x &= x(x+1)(2x+1)\\\\\n",
        "    x^4+2x^3+x^2&= x^2(x+1)^2\n",
        "\\end{aligned}\n",
        "$$\n"
      ]
    },
    {
      "cell_type": "code",
      "execution_count": null,
      "metadata": {
        "id": "0T2lt1TMfYMc",
        "outputId": "c38e129c-48d9-4239-e7de-c505787d38d1"
      },
      "outputs": [
        {
          "name": "stdout",
          "output_type": "stream",
          "text": [
            "p_5(0)=0, p_5(-1)=0, p_5(Fraction(-1, 2))=0, p_5.degree()=5\n"
          ]
        }
      ],
      "source": [
        "p_5 = mk_fast_polynomial_sum(monomial(4, unit=Fraction(1, 1)))\n",
        "\n",
        "print(f\"{p_5(0)=!s}, {p_5(-1)=!s}, {p_5(Fraction(-1, 2))=!s}, {p_5.degree()=}\")"
      ]
    },
    {
      "cell_type": "markdown",
      "metadata": {
        "id": "uZviQN35fYMd"
      },
      "source": [
        "Három gyököt találtunk. Legyen $q=x(x+1)(2x+1)$. Ekkor $q$ gyökei pont  a megtalált gyökök."
      ]
    },
    {
      "cell_type": "code",
      "execution_count": null,
      "metadata": {
        "id": "hpN4n8-dfYMd",
        "outputId": "b28aa2db-5204-4dfb-a874-b8693c7f1d93"
      },
      "outputs": [
        {
          "data": {
            "text/latex": [
              "$x\\mapsto 2x^{3}+3x^{2}+x$"
            ],
            "text/plain": [
              "Polynomial(2, 3, 1, 0)"
            ]
          },
          "metadata": {},
          "output_type": "display_data"
        },
        {
          "name": "stdout",
          "output_type": "stream",
          "text": [
            "q(0)=0, q(-1)=0, q(Fraction(-1, 2))=0\n"
          ]
        }
      ],
      "source": [
        "q = monomial(1)*Polynomial(1,1)*Polynomial(2,1)\n",
        "display(q)\n",
        "print(f\"{q(0)=!s}, {q(-1)=!s}, {q(Fraction(-1, 2))=!s}\")"
      ]
    },
    {
      "cell_type": "code",
      "execution_count": null,
      "metadata": {
        "id": "IpiIQREPfYMd",
        "outputId": "8f18eba7-6bfb-4745-d8a2-39ecaea86155"
      },
      "outputs": [
        {
          "name": "stdout",
          "output_type": "stream",
          "text": [
            "p=3x^2+3x-1, r=0\n"
          ]
        }
      ],
      "source": [
        "p, r = divmod(30*p_5, q)\n",
        "print(f\"{p=!s}, {r=!s}\")"
      ]
    },
    {
      "cell_type": "markdown",
      "metadata": {
        "id": "5WIx7j0BfYMe"
      },
      "source": [
        "Gyökök:\n",
        "$$\n",
        "    x_{1,2}=\\frac{-3\\pm\\sqrt{3^2-4\\cdot 3\\cdot(-1)}}{2\\cdot3}=\\frac12\\left(-1\\pm\\sqrt{\\frac7{3}}\\right)\n",
        "$$"
      ]
    },
    {
      "cell_type": "code",
      "execution_count": null,
      "metadata": {
        "id": "bT8fVyfXfYMe",
        "outputId": "fddadda8-6e93-4dd8-fd22-32d716b27621"
      },
      "outputs": [
        {
          "data": {
            "image/png": "[encoded data removed]",
            "text/plain": [
              "<Figure size 640x480 with 1 Axes>"
            ]
          },
          "metadata": {},
          "output_type": "display_data"
        }
      ],
      "source": [
        "xs = np.linspace(-2, 1, 201)\n",
        "plt.plot(xs, [p(x) for x in xs], label=\"p(x)\")\n",
        "plt.plot(xs, [10*p_5(x) for x in xs], label=\"10*p_5(x)\")\n",
        "plt.legend()\n",
        "plt.grid()\n",
        "plt.show()"
      ]
    },
    {
      "cell_type": "markdown",
      "metadata": {
        "id": "_ZyesYNyfYMe"
      },
      "source": [
        "# Egy gráfelméleti algoritmus"
      ]
    },
    {
      "cell_type": "markdown",
      "metadata": {
        "id": "U-bdOyDvfYMf"
      },
      "source": [
        "## Feladat"
      ]
    },
    {
      "cell_type": "markdown",
      "metadata": {
        "id": "TGPcX1L-fYMf"
      },
      "source": [
        "Adott egy `n` csúcsú irányítatlan gráf az élek listájával. A gráf csúcsait `0`-tól `n-1`-ig címkéztük meg, az éleket pedig a végpontokkal.\n",
        "\n",
        "Emellett adott egy kiindulási pont és egy végpont. Azt szeretnénk eldönteni, hogy el lehet-e jutni a kiindulási pontból a végpontba a gráf éleit használva.\n",
        "\n",
        "Gondolhatunk arra, hogy a gráf egy úthálózatot ír le és a kérdés az, hogy el tudunk-e jutni `A`-ból `B`-be."
      ]
    },
    {
      "cell_type": "markdown",
      "metadata": {
        "id": "6_0nkG6QfYMf"
      },
      "source": [
        "Pl. `n = 3`, élek `edges = [[0,1], [1,2], [2,0]]`, `A =  0`, `B = 2`."
      ]
    },
    {
      "cell_type": "markdown",
      "metadata": {
        "id": "OitNvJuLfYMf"
      },
      "source": [
        "Gráfok megjelenítésére egy hasznos könyvtár a `graphviz`."
      ]
    },
    {
      "cell_type": "code",
      "execution_count": null,
      "metadata": {
        "id": "dpXKHPXSfYMg"
      },
      "outputs": [],
      "source": [
        "import importlib\n",
        "if importlib.util.find_spec('graphviz') is None:\n",
        "    ! pip install graphviz\n",
        "import graphviz"
      ]
    },
    {
      "cell_type": "code",
      "execution_count": null,
      "metadata": {
        "id": "CbsBM5j0fYMg"
      },
      "outputs": [],
      "source": [
        "edges = [[0,1], [1,2], [2,0]]\n",
        "g0 = graphviz.Graph()\n",
        "\n",
        "g0.edges([(str(a), str(b)) for a, b in edges])\n",
        "g0"
      ]
    },
    {
      "cell_type": "markdown",
      "metadata": {
        "id": "bX4xTKw1fYMg"
      },
      "source": [
        "A gráf összefüggő, tetszőleges `A`, `B` esetén a válasz: `True`"
      ]
    },
    {
      "cell_type": "code",
      "execution_count": null,
      "metadata": {
        "id": "RZgPdoDIfYMg"
      },
      "outputs": [],
      "source": [
        "n = 6\n",
        "edges = [[0,1],[0,2],[3,5],[5,4],[4,3]]\n",
        "A = 0\n",
        "B = 5\n",
        "\n",
        "g1 = graphviz.Graph()\n",
        "g1.edges([(str(a), str(b)) for a, b in edges])\n",
        "g1"
      ]
    },
    {
      "cell_type": "markdown",
      "metadata": {
        "id": "f0Sf5fJ3fYMi"
      },
      "source": [
        "Nincs út 0 és 5 között. A válasz: `False`"
      ]
    },
    {
      "cell_type": "markdown",
      "metadata": {
        "id": "oLSRJ4wgfYMi"
      },
      "source": [
        "Összefüggőségi komponenseket szeretnénk számolni.\n",
        "\n"
      ]
    },
    {
      "cell_type": "markdown",
      "metadata": {
        "id": "RXoRUn8WfYMi"
      },
      "source": [
        "## Ötlet.\n",
        "\n",
        "Az él nélküli gráfból indulunk ki. Itt egy elemű komponensek vannak.\n",
        "\n",
        "Minden komponensből válasszunk egy reprezentáns és minden $i$ pontra feljegyezzük, melyik komponensben van.\n",
        "\n",
        "\n"
      ]
    },
    {
      "cell_type": "code",
      "execution_count": null,
      "metadata": {
        "id": "zdEJ9gpJfYMi"
      },
      "outputs": [],
      "source": [
        "def show_graph(roots, direction = 'LR'):\n",
        "    g = graphviz.Digraph(graph_attr={'rankdir': direction})\n",
        "    g.edges((str(i), str(r)) for i, r in enumerate(roots))\n",
        "    return g"
      ]
    },
    {
      "cell_type": "code",
      "execution_count": null,
      "metadata": {
        "id": "gZKDiGbifYMi"
      },
      "outputs": [],
      "source": [
        "n = 5\n",
        "roots = [i for i in range(n)]\n",
        "display(show_graph(roots, 'TD'))"
      ]
    },
    {
      "cell_type": "markdown",
      "metadata": {
        "id": "EdkkxItlfYMj"
      },
      "source": [
        "ha behúzzuk a $(0, 1)$ élet, akkor $0$ és $1$ azonos komponensbe kerül. Választhatunk a két összeuniózott komponens reprezentánsa között, legyen pl. 1"
      ]
    },
    {
      "cell_type": "code",
      "execution_count": null,
      "metadata": {
        "id": "IZYHX7rYfYMj"
      },
      "outputs": [],
      "source": [
        "roots[0] = 1\n",
        "display(show_graph(roots, 'TD'))"
      ]
    },
    {
      "cell_type": "markdown",
      "metadata": {
        "id": "Hyb0_PfgfYMj"
      },
      "source": [
        "Ha most a (0, 2) élet akarjuk behúzni, akkor nem állíthatjuk át `roots[0]`. Meg kell keresnünk `0` komponensének reprezentását, ez 1 és vagy `roots[1]`-et állítjuk 2 -re, vagy `roots[2]`-t 1-re."
      ]
    },
    {
      "cell_type": "code",
      "execution_count": null,
      "metadata": {
        "id": "27IxbBJ4fYMj"
      },
      "outputs": [],
      "source": [
        "def find(roots, a):\n",
        "    while a != roots[a]:\n",
        "        a = roots[a]\n",
        "    return a"
      ]
    },
    {
      "cell_type": "code",
      "execution_count": null,
      "metadata": {
        "id": "FSernHwKfYMk"
      },
      "outputs": [],
      "source": [
        "find(roots, 0), find(roots, 2)"
      ]
    },
    {
      "cell_type": "code",
      "execution_count": null,
      "metadata": {
        "id": "fdeHnw5sfYMk"
      },
      "outputs": [],
      "source": [
        "def union(roots, a, b):\n",
        "    ra = find(roots, a)\n",
        "    rb = find(roots, b)\n",
        "    roots[ra] = rb"
      ]
    },
    {
      "cell_type": "code",
      "execution_count": null,
      "metadata": {
        "id": "8GQuuvcEfYMl"
      },
      "outputs": [],
      "source": [
        "union(roots, 0, 2)\n",
        "print(f\"After union(0, 2) {roots=}\")\n",
        "display(show_graph(roots))\n",
        "\n",
        "union(roots, 3, 4)\n",
        "print(f\"After union(3, 4) {roots=}\")\n",
        "print(roots)\n",
        "display(show_graph(roots))\n",
        "\n",
        "union(roots, 3, 2)\n",
        "print(f\"After union(3, 2) {roots=}\")\n",
        "print(roots)\n",
        "display(show_graph(roots))"
      ]
    },
    {
      "cell_type": "markdown",
      "metadata": {
        "id": "YU0Muu0NfYMl"
      },
      "source": [
        "Ezután az a kérdés, hogy el lehet-e jutni `A`-ból, `B`-be könnyen eldönthető. Ha `A` és `B` azonos komponensben van, akkor `A` és `B` között megy út az eredeti gráfban, különben nem."
      ]
    },
    {
      "cell_type": "markdown",
      "metadata": {
        "id": "z_Rg6AtmfYMl"
      },
      "source": [
        "1. példa\n",
        "`n = 3`, élek `edges = [[0,1], [1,2], [2,0]]`, `A =  0`, `B = 2`."
      ]
    },
    {
      "cell_type": "code",
      "execution_count": null,
      "metadata": {
        "id": "aVsIbWDIfYMm"
      },
      "outputs": [],
      "source": [
        "def show_edges(edges, direction='LR'):\n",
        "    g = graphviz.Graph(graph_attr={'rankdir': direction})\n",
        "    g.edges([(str(a), str(b)) for a, b in edges])\n",
        "    return g"
      ]
    },
    {
      "cell_type": "code",
      "execution_count": null,
      "metadata": {
        "id": "KrSS6HNxfYMm"
      },
      "outputs": [],
      "source": [
        "n = 3\n",
        "edges = [[0,1], [1,2], [2,0]]\n",
        "A =  0\n",
        "B = 2\n",
        "\n",
        "display(show_edges(edges, 'TD'))\n",
        "print(f\"Eredeti gráf\")\n",
        "print(\"=\"*50)\n",
        "\n",
        "roots = [i for i in range(n)]\n",
        "for a, b in edges:\n",
        "    union(roots, a, b)\n",
        "\n",
        "display(show_graph(roots))\n",
        "print(f\"{A=} és {B=} {'azonos' if find(roots, A)==find(roots, B) else 'különböző'} komponensben van\")"
      ]
    },
    {
      "cell_type": "markdown",
      "metadata": {
        "id": "onQ37VMXfYMm"
      },
      "source": [
        "2. példa"
      ]
    },
    {
      "cell_type": "code",
      "execution_count": null,
      "metadata": {
        "id": "Yxse1J6KfYMn"
      },
      "outputs": [],
      "source": [
        "n = 6\n",
        "edges = [[0,1],[0,2],[3,5],[5,4],[4,3]]\n",
        "A = 0\n",
        "B = 5\n",
        "\n",
        "display(show_edges(edges))\n",
        "print(f\"Eredeti gráf\")\n",
        "print(\"=\"*50)\n",
        "\n",
        "roots = [i for i in range(n)]\n",
        "for a, b in edges:\n",
        "    union(roots, a, b)\n",
        "\n",
        "display(show_graph(roots))\n",
        "print(f\"{A=} és {B=} {'azonos' if find(roots, A)==find(roots, B) else 'különböző'} komponensben van\")\n"
      ]
    },
    {
      "cell_type": "markdown",
      "metadata": {
        "id": "HSMz8tjJfYMo"
      },
      "source": [
        "Látszik, hogy először létre kell hoznunk a `roots` tömböt, majd utána ezzel kell számolnunk.\n",
        "\n",
        "Célszerű egy osztályt léterhozni:"
      ]
    },
    {
      "cell_type": "code",
      "execution_count": null,
      "metadata": {
        "id": "ZxTQ7tjKfYMo"
      },
      "outputs": [],
      "source": [
        "class UnionFind:\n",
        "    def __init__(self, n):\n",
        "        self.roots = [i for i in range(n)]\n",
        "\n",
        "    def find(self, a):\n",
        "        while a != self.roots[a]:\n",
        "            a = self.roots[a]\n",
        "        return a\n",
        "\n",
        "    def union(self, a, b):\n",
        "        ra, rb = self.find(a), self.find(b)\n",
        "        if ra != rb:\n",
        "            self.roots[ra] = rb\n",
        "        return self\n",
        "\n",
        "    def show(self, *args, **kwargs):\n",
        "        display(show_graph(self.roots, *args, **kwargs))"
      ]
    },
    {
      "cell_type": "markdown",
      "metadata": {
        "id": "AO2XIjVzfYMo"
      },
      "source": [
        "Mi történik, ha nagyobb gráfunk van?"
      ]
    },
    {
      "cell_type": "code",
      "execution_count": null,
      "metadata": {
        "id": "JZxjZxnSfYMo"
      },
      "outputs": [],
      "source": [
        "n = 10\n",
        "edges = [(0,i+1) for i in range(n-1)]\n",
        "display(show_edges(edges, 'TD'))\n",
        "\n",
        "uf = UnionFind(n)\n",
        "for a, b in edges:\n",
        "    uf.union(a, b)\n",
        "\n",
        "uf.show()"
      ]
    },
    {
      "cell_type": "markdown",
      "metadata": {
        "id": "_jGMIoxcfYMo"
      },
      "source": [
        "Valahányszor behúzzuk a $(0, i)$ élet, meg kell keresni $0$ reprezentánsát. $k$ él behúzása után $k$-lépéssel találjuk meg. Ha 10 helyett 10_000 méretű a gráf ez nem fog működni.\n",
        "\n",
        "### Javítási lehetőségek.\n",
        "\n",
        "- Amikor megkeressük $i$ reprezentánsát végig megyünk a reprezentánshoz vezető úton. Minden meglátogatott csúcsra ismerté válik a reprezentáns értéke. Ezt beírhatjuk a `roots` tömbe. (path compression)\n",
        "\n",
        "- A nagyobb komponensbe kössük be a kisebbet és ne fordítva. Ehhez  a ,,méretet'' nyilván kell tartani."
      ]
    },
    {
      "cell_type": "code",
      "execution_count": null,
      "metadata": {
        "id": "y0y6sUK7fYMo"
      },
      "outputs": [],
      "source": [
        "def find_better(roots, a):\n",
        "    ra = roots[a]\n",
        "    if a != ra:\n",
        "        ra = find_better(roots, ra)\n",
        "        roots[a] = ra\n",
        "    return ra\n",
        "\n",
        "def find_better_without_recursion(roots, a):\n",
        "    stack = []\n",
        "\n",
        "    ra = roots[a]\n",
        "    while a != ra:\n",
        "        stack.append(a)\n",
        "        a = ra\n",
        "        ra = roots[a]\n",
        "\n",
        "    while stack:\n",
        "        roots[stack.pop()] = ra\n",
        "\n",
        "    return ra\n",
        "\n",
        "\n",
        "def union_sizes(roots, sizes, a, b):\n",
        "    ra = find_better(roots, a)\n",
        "    rb = find_better(roots, b)\n",
        "    if ra != rb:\n",
        "        if sizes[ra] < sizes[rb]:\n",
        "            ra, rb = rb, ra\n",
        "        roots[rb] = ra\n",
        "        sizes[ra] += sizes[rb]\n",
        "\n",
        "def union_ranks(roots, ranks, a, b):\n",
        "    ra = find_better(roots, a)\n",
        "    rb = find_better(roots, b)\n",
        "    if ra != rb:\n",
        "        if ranks[ra] < ranks[rb]:\n",
        "            ra, rb = rb, ra\n",
        "        roots[rb] = ra\n",
        "        if ranks[ra] == ranks[rb]:\n",
        "            ranks[ra] += 1"
      ]
    },
    {
      "cell_type": "code",
      "execution_count": null,
      "metadata": {
        "id": "XRA_j9UkfYMo"
      },
      "outputs": [],
      "source": [
        "n = 10\n",
        "edges = [(0, i) for i in range(1, n)]\n",
        "display(show_edges(edges, 'TD'))\n",
        "\n",
        "roots = [i for i in range(n)]\n",
        "\n",
        "for a, b in edges:\n",
        "    ra = find_better(roots, a)\n",
        "    rb = find_better(roots, b)\n",
        "    roots[ra] = rb\n",
        "\n",
        "display(show_graph(roots, 'LR'))\n"
      ]
    },
    {
      "cell_type": "code",
      "execution_count": null,
      "metadata": {
        "id": "Ve6dvn9KfYMo"
      },
      "outputs": [],
      "source": [
        "n = 10\n",
        "edges = [(0, i) for i in range(1, n)]\n",
        "display(show_edges(edges, 'TD'))\n",
        "\n",
        "roots = [i for i in range(n)]\n",
        "\n",
        "for a, b in edges:\n",
        "    ra = find_better(roots, a)\n",
        "    rb = find_better(roots, b)\n",
        "    roots[rb] = ra\n",
        "\n",
        "display(show_graph(roots, 'TD'))\n"
      ]
    },
    {
      "cell_type": "code",
      "execution_count": null,
      "metadata": {
        "id": "wx3jFadnfYMp"
      },
      "outputs": [],
      "source": [
        "n = 10\n",
        "edges = [(0, i) for i in range(1, n)]\n",
        "display(show_edges(edges, 'TD'))\n",
        "\n",
        "roots = [i for i in range(n)]\n",
        "sizes = [1]*n\n",
        "\n",
        "for a, b in edges:\n",
        "    union_sizes(roots, sizes, a, b)\n",
        "\n",
        "display(show_graph(roots, 'TD'))\n"
      ]
    },
    {
      "cell_type": "code",
      "execution_count": null,
      "metadata": {
        "id": "sLOXzxVxfYMp"
      },
      "outputs": [],
      "source": [
        "n = 10\n",
        "edges = [(0, i) for i in range(1, n)]\n",
        "display(show_edges(edges, 'TD'))\n",
        "\n",
        "roots = [i for i in range(n)]\n",
        "ranks = [0]*n\n",
        "\n",
        "for a, b in edges:\n",
        "    union_ranks(roots, ranks, a, b)\n",
        "\n",
        "display(show_graph(roots, 'TD'))\n"
      ]
    },
    {
      "cell_type": "markdown",
      "metadata": {
        "id": "MKL7rRBJfYMq"
      },
      "source": [
        "### Szokásos implementáció"
      ]
    },
    {
      "cell_type": "code",
      "execution_count": null,
      "metadata": {
        "id": "XxUElwYWfYMq"
      },
      "outputs": [],
      "source": [
        "class UnionFind:\n",
        "    def __init__(self, n):\n",
        "        self.roots = [i for i in range(n)]\n",
        "        self.sizes = [1]*n\n",
        "\n",
        "    def find(self, a):\n",
        "        ra = self.roots[a]\n",
        "        if a != ra:\n",
        "            ra = self.find( ra)\n",
        "            self.roots[a] = ra\n",
        "        return ra\n",
        "\n",
        "    def union(self, a, b):\n",
        "        ra = self.find(a)\n",
        "        rb = self.find(b)\n",
        "        if ra != rb:\n",
        "            if self.sizes[ra] < self.sizes[rb]:\n",
        "                ra, rb = rb, ra\n",
        "            self.roots[rb] = ra\n",
        "            self.sizes[ra] += self.sizes[rb]\n"
      ]
    },
    {
      "cell_type": "code",
      "execution_count": null,
      "metadata": {
        "id": "Jzg8FGgnfYMq"
      },
      "outputs": [],
      "source": [
        "uf = UnionFind(10)\n",
        "print(uf)\n",
        "uf.union(1, 2)\n",
        "print(uf)\n",
        "uf.union(5, 9)\n",
        "uf.union(6, 7)\n",
        "print(uf)\n",
        "\n",
        "uf"
      ]
    },
    {
      "cell_type": "markdown",
      "metadata": {
        "id": "4SnAqOKrfYMq"
      },
      "source": [
        "`__str__` és `__repr__` metódusok"
      ]
    },
    {
      "cell_type": "code",
      "execution_count": null,
      "metadata": {
        "id": "Y59-spcJfYMr"
      },
      "outputs": [],
      "source": [
        "def as_set(seq):\n",
        "    return f\"{{{', '.join(map(str, seq))}}}\"\n",
        "\n",
        "def uf_str(self):\n",
        "    components = {}\n",
        "    for a in range(len(self.roots)):\n",
        "        ra = self.find(a)\n",
        "        if ra not in components:\n",
        "            components[ra] = []\n",
        "        components[ra].append(a)\n",
        "    return f\"{{{ ', '.join(map(as_set, components.values()))}}}\"\n",
        "\n",
        "def uf_repr(self):\n",
        "    return f\"{type(self).__name__}({len(self.roots)})\"\n",
        "\n",
        "# Így is lehet:\n",
        "UnionFind.__str__ = uf_str\n",
        "UnionFind.__repr__ = uf_repr"
      ]
    },
    {
      "cell_type": "code",
      "execution_count": null,
      "metadata": {
        "id": "35r_TpJcfYMr"
      },
      "outputs": [],
      "source": [
        "uf = UnionFind(10)\n",
        "print(uf)\n",
        "uf.union(1, 2)\n",
        "print(uf)\n",
        "uf.union(5, 9)\n",
        "uf.union(6, 7)\n",
        "print(uf)\n",
        "\n",
        "uf"
      ]
    },
    {
      "cell_type": "markdown",
      "metadata": {
        "id": "7c7gst8EfYMr"
      },
      "source": [
        "### További kérdések\n",
        "\n",
        "- Tegyük fel, hogy a komponensek száma érdekel minket. Hogyan oldanánk, meg, hogy konstans idő alatt megkaphassuk.\n",
        "- Tegyük fel, hogy a legnagyobb komponens méretet érdekel minket. Hogyan oldanánk, meg, hogy konstans idő alatt megkaphassuk.\n",
        "- Hogyan ellenőriznénk, hogy két partíció azonos?"
      ]
    },
    {
      "cell_type": "markdown",
      "metadata": {
        "id": "JtPb06sffYMs"
      },
      "source": [
        "# Faktoriális értékének közelítése"
      ]
    },
    {
      "cell_type": "markdown",
      "metadata": {
        "id": "2bXEOatmfYMs"
      },
      "source": [
        "Mekkora $n!$, ha $n$ nagy?\n",
        "\n",
        "Ötlet:\n",
        "$$\n",
        "    \\log n! = \\sum_{k=1}^n \\log k \\approx \\int_1^{?} \\log x dx = \\left[ x(\\log x-1)\\right]_{x=1}^{x=?}\n",
        "$$"
      ]
    },
    {
      "cell_type": "code",
      "execution_count": null,
      "metadata": {
        "id": "H8Bh586IfYMs"
      },
      "outputs": [],
      "source": [
        "import matplotlib.pyplot as plt\n",
        "import math\n",
        "\n",
        "def subdivision(a, b, n):\n",
        "    d = (b-a)/n\n",
        "    return [a+i*d for i in range(n+1)]\n",
        "\n",
        "def add_function_curve(f, a, b, n=100):\n",
        "    xs = subdivision(a, b, n)\n",
        "    fxs = [f(x) for x in  xs]\n",
        "    plt.plot(xs, fxs, \"r-\")"
      ]
    },
    {
      "cell_type": "markdown",
      "metadata": {
        "id": "Stm6rr_2fYMs"
      },
      "source": [
        "## Téglalap közelítés"
      ]
    },
    {
      "cell_type": "code",
      "execution_count": null,
      "metadata": {
        "id": "3DLHt9bGfYMt"
      },
      "outputs": [],
      "source": [
        "k_values = [k for k in range(1, 11)]\n",
        "for k in k_values:\n",
        "    plt.fill_between([k+i for k in k_values for i in range(2)], [math.log(k) for k in k_values for i in range(2)], color='lightblue')\n",
        "\n",
        "add_function_curve(math.log, 1, 11)\n"
      ]
    },
    {
      "cell_type": "markdown",
      "metadata": {
        "id": "0B12UdPxfYMt"
      },
      "source": [
        "A hiba:"
      ]
    },
    {
      "cell_type": "code",
      "execution_count": null,
      "metadata": {
        "id": "ns2idmfHfYMt"
      },
      "outputs": [],
      "source": [
        "def primitive_function(x):\n",
        "    return x*(math.log(x)-1)\n",
        "\n",
        "def rectangle_error(k):\n",
        "    return primitive_function(k+1)-primitive_function(k)-math.log(k)\n",
        "\n",
        "def cummulative_error(n, error_fun=rectangle_error):\n",
        "    return sum(error_fun(k) for k in range(1, n+1))"
      ]
    },
    {
      "cell_type": "code",
      "execution_count": null,
      "metadata": {
        "id": "vBtbw5hAfYMt"
      },
      "outputs": [],
      "source": [
        "for n in [10, 100, 1000]:\n",
        "    print(f\"{n=}, {cummulative_error(n)=}\")"
      ]
    },
    {
      "cell_type": "markdown",
      "metadata": {
        "id": "5qAjlDwDfYMu"
      },
      "source": [
        "### Javítás, trapéz összeg közelítés"
      ]
    },
    {
      "cell_type": "markdown",
      "metadata": {
        "id": "KLgVNRDWfYMu"
      },
      "source": [
        "Téglalapok helyett minden egység intervallumon a beírt trapézt  használjuk."
      ]
    },
    {
      "cell_type": "code",
      "execution_count": null,
      "metadata": {
        "id": "XlNrparofYMu"
      },
      "outputs": [],
      "source": [
        "k_values = [k for k in range(1, 11)]\n",
        "for k in k_values:\n",
        "    plt.fill_between(k_values, [math.log(k) for k in k_values], color='lightblue')\n",
        "\n",
        "add_function_curve(math.log, 1, 10)\n"
      ]
    },
    {
      "cell_type": "code",
      "execution_count": null,
      "metadata": {
        "id": "d6sWvLNtfYMu"
      },
      "outputs": [],
      "source": [
        "def error_fun(x):\n",
        "    k, t = divmod(x, 1)\n",
        "    return math.log(x) - ((1-t)*math.log(k) + t*math.log(k+1))\n",
        "\n",
        "xs = subdivision(1, 10, 100)\n",
        "plt.fill_between(xs, [error_fun(x) for x in xs], color='lightblue')\n",
        "add_function_curve(error_fun, 1, 10, 500)\n"
      ]
    },
    {
      "cell_type": "code",
      "execution_count": null,
      "metadata": {
        "id": "mvyOXazDfYMv"
      },
      "outputs": [],
      "source": [
        "def modified_error_fun(x):\n",
        "    k = x//1\n",
        "    return k*k*error_fun(x)\n",
        "\n",
        "for a in [1, 100, 1000, 10000]:\n",
        "    b = a+10\n",
        "    xs = subdivision(a, b, 1000)\n",
        "\n",
        "    plt.fill_between(xs, [modified_error_fun(x) for x in xs], color='lightblue')\n",
        "    add_function_curve(modified_error_fun, a, b, 1000)\n",
        "    plt.show()"
      ]
    },
    {
      "cell_type": "code",
      "execution_count": null,
      "metadata": {
        "id": "BZjr0vFofYMv"
      },
      "outputs": [],
      "source": [
        "def trapezoid_error(k):\n",
        "    return primitive_function(k+1)-primitive_function(k)-0.5*(math.log(k)+math.log(k+1))\n"
      ]
    },
    {
      "cell_type": "code",
      "execution_count": null,
      "metadata": {
        "id": "50mt7olwfYMv"
      },
      "outputs": [],
      "source": [
        "for n in [10, 100, 1000]:\n",
        "    print(f\"{n = :>4}, {cummulative_error(n, trapezoid_error) = :.8f}\")"
      ]
    },
    {
      "cell_type": "markdown",
      "metadata": {
        "id": "MUcsfN3mfYMw"
      },
      "source": [
        "## Látszik, hogy a hiba lassan nő. Tudunk-e felső becslést adni rá?\n",
        "\n",
        "$$\n",
        "    \\int_{k}^{k+1} \\log x dx = \\int_0^1 \\log(k+x) dx\n",
        "$$\n",
        "\n",
        "A beírt trapéz területe integrállal\n",
        "\n",
        "$$\n",
        "    \\int_0^1 x\\log(k+1)+(1-x)\\log(k) dx\n",
        "$$\n",
        "\n",
        "Tudjuk-e becsülni a két integrandus különbségét?\n",
        "$$\n",
        "    \\log(k+x) - (x\\log(k+1)+(1-x)\\log(k))\n",
        "$$\n",
        "\n",
        "Átalakítás mindkét tagból levonunk $\\log(k)$-t:\n",
        "$$\n",
        "    \\log(k+x) - \\log(k) - (x\\log(k+1)+(1-x)\\log(k) -\\log(k)) = \\log(1+\\tfrac{x}{k}) - x\\log(1+\\tfrac1k)\n",
        "$$\n"
      ]
    },
    {
      "cell_type": "code",
      "execution_count": null,
      "metadata": {
        "id": "alig8LL6fYMw"
      },
      "outputs": [],
      "source": [
        "xs = subdivision(0, 1, 100)\n",
        "\n",
        "for k in range(1, 4):\n",
        "    plt.fill_between(xs, [math.log(k+x)-math.log(k) for x in xs], [math.log(k+1)*x+math.log(k)*(1-x)-math.log(k) for x in xs], color=\"blue\")\n",
        "\n",
        "plt.grid()"
      ]
    },
    {
      "cell_type": "markdown",
      "metadata": {
        "id": "Kc_FsoiUfYMw"
      },
      "source": [
        "A logaritmus függvény konkáv, a derivált monoton fogy ($1/x$) és egy beírt húr mindig a végponthoz behúzott érintő egyenesek alatt van.\n",
        "\n",
        "$$\n",
        "    \\log (1+x)\\leq x\n",
        "$$\n",
        "\n",
        "ezért\n",
        "$$\n",
        "    \\log(1+x/k) - x \\log(1+1/k)\\leq \\frac xk - x\\log(1+1/k) = x(1/k -\\log(1+1/k))\n",
        "$$\n",
        "\n",
        "de\n",
        "$$\n",
        "    \\log(1+1/k) = \\log\\frac{k+1}{k} = -\\log\\frac{k}{k+1} = -\\log(1-1/(k+1)) \\geq \\frac1{k+1}\n",
        "$$\n",
        "\n",
        "Így\n",
        "\n",
        "$$\n",
        "    \\log(1+x/k) - x \\log(1+1/k)\\leq x\\left(\\frac1k-\\frac1{k+1}\\right)\n",
        "$$\n",
        "és\n",
        "a $k$. intervallumon elkövetett hiba legfeljebb\n",
        "$$\n",
        "    \\int_{0}^{1} \\log(k+x) - ((1-x)\\log(k)+x\\log(k+1))dx = \\int_0^1 x dx \\left(\\frac1k -\\frac1{k+1}\\right)\n",
        "$$\n",
        "A hibák összege legfeljebb:\n",
        "$$\n",
        "    \\frac12 \\sum_{k=1}^\\infty \\frac1k -\\frac1{k+1} =\\frac12\n",
        "$$"
      ]
    },
    {
      "cell_type": "markdown",
      "metadata": {
        "id": "DftyWxmofYMw"
      },
      "source": [
        "Összefoglalva:\n",
        "\n",
        "$$\n",
        "    \\log n! = \\int_1^n \\log x dx + \\frac12 \\log n + r_n = n(\\log(n) - 1) + 1 + \\frac12 \\log (n) + r_n\n",
        "$$\n",
        "ahol $r_n$ a közelítés hibája az első $n$ intervallumon\n",
        "$$\n",
        "    r_n = \\sum_{k=1}^n \\int_0^1 \\log(1+x/k)-x\\log(1+1/k)dx \\leq 1/2\n",
        "$$\n",
        "$(r_n)$ monoton nő, ezért létezik limesze.\n",
        "\n",
        "Visszaírva faktoriálisra:\n",
        "\n",
        "$$\n",
        "    n! = \\sqrt{n}\\left(\\frac{n}{e}\\right)^n c_n\n",
        "$$\n",
        "ahol $c_n=e^{1+r_n}\\leq e^{3/2}$\n",
        "\n",
        "Analízisben a Wallis formula következményeként szerepel\n",
        "\n",
        "$$\n",
        "\\lim c_n = \\sqrt{2\\pi}\n",
        "$$\n",
        "\n",
        "Ez a nevezetes **Stirling** formula:\n",
        "$$\n",
        " \\frac{n!}{\\sqrt{2\\pi n}\\left(\\frac{n}{e}\\right)^n} \\to 1\n",
        "$$\n"
      ]
    },
    {
      "cell_type": "markdown",
      "metadata": {
        "id": "7GbIckTafYMx"
      },
      "source": [
        "### Wallis formula középiskolai eszközökkel"
      ]
    },
    {
      "cell_type": "markdown",
      "metadata": {
        "id": "wLGdQes5fYMx"
      },
      "source": [
        "\n",
        "Középiskolai tudást használva is kiszámíthatnánk a limeszt. Ehhez a\n",
        "$$\n",
        "    I_n = \\int_{0}^{\\pi/2} \\cos^n(x) dx\n",
        "$$\n",
        "sorozatot kellen vizsgálni. Parciálisan integrálva:\n",
        "$$\n",
        "    I_{n+2} = \\int_{0}^{\\pi/2} (1-\\sin^2x)\\cos^n(x) dx\n",
        "    = I_n - \\int_{0}^{\\pi/2} \\sin^2(x)\\cos^n(x) dx\n",
        "$$\n",
        "ahol\n",
        "$$\n",
        "\\begin{aligned}\n",
        "-\\int_{0}^{\\pi/2} \\sin^2(x)\\cos^n(x) dx\n",
        "& =\n",
        "\\frac1{n+1} \\int_{0}^{\\pi/2} \\sin(x)(\\cos^{n+1}(x))' dx\n",
        "\\\\\n",
        "&=\n",
        "\\frac{1}{n+1}\\left[\\sin(x)\\cos^{n+1}(x)\\right]_{x=0}^{x=\\pi/2}-\\frac{1}{n+1}\\int_0^{\\pi/2}\\cos^{n+2}(x)dx\n",
        "\\\\\n",
        "&= -\\frac{1}{n+1} I_{n+2}\n",
        "\\end{aligned}\n",
        "$$\n",
        "\n",
        "**Összefoglalva**:\n",
        "\n",
        "$$\n",
        "    I_{n+2} = \\int_{0}^{\\pi/2} (1-\\sin^2x)\\cos^n(x) dx\n",
        "    = I_n - \\frac{1}{n+1}I_{n+2} = \\frac{n+1}{n+2} I_n\n",
        "$$\n",
        "\n",
        "Ha $n=2k$ páros, akkor\n",
        "$$\n",
        "    I_{2k} = \\frac{2k-1}{2k} I_{2k-2} = \\frac{(2k-1)(2k-3)}{2k(2k-2)} I_{2k-4} =\\cdots=\\frac{(2k-1)!!}{2^k k!}I_0=\\frac{1}{2^{2k}}\\binom{2k}{k}\\frac{\\pi}2\n",
        "$$\n",
        "Ha $n=2k+1$ páratlan, akkor\n",
        "$$\n",
        "    I_{2k+1} = \\frac{2k}{2k-1} I_{2k-3} = \\frac{(2k)(2k-2)}{(2k+1)(2k-1)} I_{2k-3} =\\cdots=\\frac{2^k k!}{(2k+1)!!}I_1=\\frac{2^{2k}}{(2k+1)\\binom{2k}{k}}=\\frac{2^{2(k+1)}}{2(k+1)\\binom{2(k+1)}{k+1}}\n",
        "$$\n",
        "Mivel $(I_n)$ monoton fogyó:\n",
        "$$\n",
        "    I_{2k-1}=\\frac{2^{2k}}{2k\\binom{2k}{k}}  > I_{2k} = \\frac{1}{2^{2k}}\\binom{2k}{k}\\frac{\\pi}2  > I_{2k+1}= \\frac{2^k k!}{(2k+1)!!}I_1=\\frac{2^{2k}}{(2k+1)\\binom{2k}{k}}\n",
        "$$\n",
        "Átrendezés után\n",
        "$$\n",
        "\\frac{1}{2k\\pi/2} < \\left(\\frac{1}{2^{2k}}\\binom{2k}{k}\\right)^2 < \\frac{1}{(2k+1)\\pi/2}\n",
        "$$\n",
        "és\n",
        "$$\n",
        "    \\lim_{n\\to\\infty}\\sqrt{n} \\frac{1}{2^{2n}}\\binom{2n}{n} = \\frac{1}{\\sqrt{\\pi}}\n",
        "$$\n",
        "\n",
        "Másfelől a faktoriális közelítését használva:\n",
        "$$\n",
        "    \\sqrt{n}\\frac1{2^{2n}}\\binom{2n}{n}\n",
        "    = \\sqrt{n} \\frac1{2^{2n}} \\frac{c_{2n} \\sqrt{2n} \\left(\\frac{2n}{e}\\right)^{2n}}{c_n^2 n\\left(\\frac{n}{e}\\right)^{2n}}\n",
        "    \\to \\lim_{n\\to\\infty} \\frac{\\sqrt{2}c_{2n}}{c_n^2} = \\lim_{n\\to\\infty}\\frac{\\sqrt{2}}{c_n}=\\frac1{\\sqrt{\\pi}}\n",
        "$$\n",
        "amiből $\\lim_n c_n =\\sqrt{2\\pi}$.\n",
        "\n"
      ]
    },
    {
      "cell_type": "markdown",
      "metadata": {
        "id": "TGrUPloXfYMx"
      },
      "source": [
        "# Conway Game of Life"
      ]
    },
    {
      "cell_type": "markdown",
      "metadata": {
        "id": "uP0VMSzxfYMy"
      },
      "source": [
        "\n",
        "The Game of Life is a cellular automaton created by mathematician John Conway in 1970. The game consists of a board of cells that are either on or off. One creates an initial configuration of these on/off states and observes how it evolves. There are four simple rules to determine the next state of the game board, given the current state:\n",
        "\n",
        "- **Overpopulation**: if a living cell is surrounded by more than three living cells, it dies.\n",
        "- **Stasis**: if a living cell is surrounded by two or three living cells, it survives.\n",
        "- **Underpopulation**: if a living cell is surrounded by fewer than two living cells, it dies.\n",
        "- **Reproduction**: if a dead cell is surrounded by exactly three cells, it becomes a live cell.\n",
        "\n",
        "\n",
        "Írjunk egy osztályt a játékhoz, pl. az `__init__` metódus hozzalétre a megadott konfigurációnak megfelelő objektumot. Legyen egy `step` metódus, ami a rendszert a következő állapotába viszi és az `__str__` metódus pedig\n",
        "valahogy ábrázolja az aktuális állapotot.\n",
        "\n",
        "Tegyük fel, hogy a rács amin a rendszer él, egy $n\\times n$-es rács, ahol mindkét irányban ciklikusan körbemegyünk,\n",
        "azaz a csúcsokat modulo $n$ tekintjük.\n"
      ]
    },
    {
      "cell_type": "code",
      "execution_count": null,
      "metadata": {
        "id": "9XuSGdXWfYMy"
      },
      "outputs": [],
      "source": [
        "class ConwayGoL:\n",
        "\n",
        "    def __init__(self, state):\n",
        "        self.state = list(state)\n",
        "\n",
        "    def step(self):\n",
        "        return self\n",
        "\n",
        "    def __repr__(self):\n",
        "        return f\"{type(self).__name__}({self.state})\""
      ]
    },
    {
      "cell_type": "code",
      "execution_count": null,
      "metadata": {
        "id": "uTrrbkRxfYMy",
        "outputId": "291a51f6-c3eb-4f2f-be5d-ef34c41903cf"
      },
      "outputs": [
        {
          "data": {
            "text/plain": [
              "ConwayGoL([])"
            ]
          },
          "execution_count": 229,
          "metadata": {},
          "output_type": "execute_result"
        }
      ],
      "source": [
        "import random\n",
        "\n",
        "init_state = [] ## ???\n",
        "conway = ConwayGoL(init_state)\n",
        "\n",
        "conway.step()\n"
      ]
    },
    {
      "cell_type": "markdown",
      "metadata": {
        "id": "avS1McsPfYMy"
      },
      "source": [
        "A játék állapotának leírásához egy $m\\times n$ rács minden pontjáról tudni kell, hogy foglalt-e vagy sem.\n",
        "\n",
        "```python\n",
        "m, n = 11, 11\n",
        "state = [[0]*n for _ in range(m)]\n",
        "```\n",
        "\n",
        "Véletlenszerű kezdeti állapot:\n",
        "```python\n",
        "state = [[random.randint(0,1) for _ in range(n)] for _ in range(m)]\n",
        "```"
      ]
    },
    {
      "cell_type": "code",
      "execution_count": null,
      "metadata": {
        "id": "XgXvgxhvfYMy",
        "outputId": "ef1aa04d-c626-4880-cbd2-d27c5917a6d9"
      },
      "outputs": [
        {
          "name": "stdout",
          "output_type": "stream",
          "text": [
            "[[0, 0, 0, 0, 1, 0], [0, 1, 1, 1, 0, 1], [0, 0, 0, 0, 0, 0], [0, 0, 0, 1, 0, 0], [1, 1, 0, 0, 0, 0]]\n"
          ]
        }
      ],
      "source": [
        "def random_state(n, m, p):\n",
        "    return [[int(random.random()<p) for _ in range(m)] for _ in range(n)]\n",
        "\n",
        "state = random_state(5, 6, 0.2)\n",
        "print(state)"
      ]
    },
    {
      "cell_type": "markdown",
      "metadata": {
        "id": "5TdyIcm-fYMz"
      },
      "source": [
        "Szebb megjelenítés?"
      ]
    },
    {
      "cell_type": "code",
      "execution_count": null,
      "metadata": {
        "id": "nNsK0qjMfYMz",
        "outputId": "d88a5283-7794-44de-ef3d-fe403a8cb13c"
      },
      "outputs": [
        {
          "name": "stdout",
          "output_type": "stream",
          "text": [
            "000010\n",
            "011101\n",
            "000000\n",
            "000100\n",
            "110000\n"
          ]
        }
      ],
      "source": [
        "def as_matrix(lst, n):\n",
        "    return [lst[i:i+n] for i in range(0, len(lst), n)]\n",
        "\n",
        "print('\\n'.join(''.join(map(str, line)) for line in state))\n"
      ]
    },
    {
      "cell_type": "code",
      "execution_count": null,
      "metadata": {
        "id": "IF2sNfkCfYM0",
        "outputId": "a3a8f93a-7792-4964-940b-68e3ca399b30"
      },
      "outputs": [
        {
          "name": "stdout",
          "output_type": "stream",
          "text": [
            "⬜⬜⬜⬜⬛⬜\n",
            "⬜⬛⬛⬛⬜⬛\n",
            "⬜⬜⬜⬜⬜⬜\n",
            "⬜⬜⬜⬛⬜⬜\n",
            "⬛⬛⬜⬜⬜⬜\n",
            "····♥·\n",
            "·♥♥♥·♥\n",
            "······\n",
            "···♥··\n",
            "♥♥····\n",
            "🟡🟡🟡🟡🟥🟡\n",
            "🟡🟥🟥🟥🟡🟥\n",
            "🟡🟡🟡🟡🟡🟡\n",
            "🟡🟡🟡🟥🟡🟡\n",
            "🟥🟥🟡🟡🟡🟡\n"
          ]
        }
      ],
      "source": [
        "for symbols in [\n",
        "    \"\\u2b1c\\u2b1b\",\n",
        "    \"·♥\",\n",
        "    \"🟡🟥\"\n",
        "    ]:\n",
        "    print('\\n'.join(''.join(symbols[x] for x in line) for line in state))\n"
      ]
    },
    {
      "cell_type": "code",
      "execution_count": null,
      "metadata": {
        "id": "p3Cl_cMGfYM0",
        "outputId": "f36e71a1-1bb1-44ed-9655-15bb0c284ef4"
      },
      "outputs": [
        {
          "data": {
            "image/png": "[encoded data removed]",
            "text/plain": [
              "<Figure size 576x480 with 1 Axes>"
            ]
          },
          "metadata": {},
          "output_type": "display_data"
        }
      ],
      "source": [
        "import matplotlib.pyplot as plt\n",
        "\n",
        "img = plt.matshow(state, cmap=\"Pastel1\", vmax=1, vmin=0, alpha=0.8)\n",
        "img.axes.axis(\"off\")\n",
        "n, m = len(state), len(state[0])\n",
        "for pos in range(0, n+1):\n",
        "    img.axes.axhline(y=pos-0.5, color=\"gray\")\n",
        "for pos in range(0, m+1):\n",
        "    img.axes.axvline(x=pos-0.5, color=\"gray\")\n",
        "\n",
        "plt.show()\n"
      ]
    },
    {
      "cell_type": "code",
      "execution_count": null,
      "metadata": {
        "id": "gLH1sFgufYM0"
      },
      "outputs": [],
      "source": [
        "\n",
        "def cgol_str(self):\n",
        "    symbols = \"\\u2b1c\\u2b1b\"\n",
        "    return '\\n'.join(''.join(symbols[x] for x in line) for line in self.state)\n",
        "\n",
        "ConwayGoL.__str__ = cgol_str\n",
        "\n",
        ""
      ]
    },
    {
      "cell_type": "code",
      "execution_count": null,
      "metadata": {
        "id": "TCjPL6hcfYM0",
        "outputId": "0ef76fea-7406-47ae-e688-aac9b8b3277f"
      },
      "outputs": [
        {
          "name": "stdout",
          "output_type": "stream",
          "text": [
            "⬜⬜⬜⬜⬛⬜\n",
            "⬜⬛⬛⬛⬜⬛\n",
            "⬜⬜⬜⬜⬜⬜\n",
            "⬜⬜⬜⬛⬜⬜\n",
            "⬛⬛⬜⬜⬜⬜\n"
          ]
        }
      ],
      "source": [
        "conway = ConwayGoL(state)\n",
        "print(conway)"
      ]
    },
    {
      "cell_type": "markdown",
      "metadata": {
        "id": "mGjTUeiyfYM1"
      },
      "source": [
        "A `step` metódushoz ki kellene számolni egy adott csúcs foglalt szomszédainak számát `cnt`. Ha ez kész,\n",
        "akkor az $i$ csúcs új állapota:\n",
        "\n",
        "$$\n",
        "    \\text{state}_{t+1}[i]=\n",
        "    \\begin{cases}\n",
        "    1 &\\text{Ha $\\text{cnt}[i]\\in\\{2,3\\}$ és $\\text{state}_t[i]=1$}\\\\\n",
        "    1 &\\text{Ha $\\text{cnt}[i]\\in\\{3\\}$ és $\\text{state}_t[i]=0$}\\\\\n",
        "    0 &\\text{különben}\n",
        "    \\end{cases}\n",
        "$$"
      ]
    },
    {
      "cell_type": "code",
      "execution_count": null,
      "metadata": {
        "id": "2e9d6OVQfYM1"
      },
      "outputs": [],
      "source": [
        "def newstate(state, count):\n",
        "    return [int((c==3)|((c==2) & (s==1))) for s, c in  zip(state, count)]"
      ]
    },
    {
      "cell_type": "code",
      "execution_count": null,
      "metadata": {
        "id": "WUYnLDRefYM1"
      },
      "outputs": [],
      "source": [
        "import ipytest\n",
        "ipytest.autoconfig()"
      ]
    },
    {
      "cell_type": "code",
      "execution_count": null,
      "metadata": {
        "id": "5Wbv_JYyfYM1",
        "outputId": "72eefac9-eefd-4d17-c663-33f3074de8c2"
      },
      "outputs": [
        {
          "name": "stdout",
          "output_type": "stream",
          "text": [
            "\u001b[32m.\u001b[0m\u001b[32m                                                                                            [100%]\u001b[0m\n",
            "\u001b[32m\u001b[32m\u001b[1m1 passed\u001b[0m\u001b[32m in 0.01s\u001b[0m\u001b[0m\n"
          ]
        }
      ],
      "source": [
        "%%ipytest\n",
        "\n",
        "def test_newstate():\n",
        "    res = [0]*9\n",
        "    res[2] = 1\n",
        "    res[3] = 1\n",
        "    assert newstate([1]*9, list(range(9))) == res\n",
        "    res = [0]*9\n",
        "    res[3] = 1\n",
        "    assert newstate([0]*9, list(range(9))) == res\n"
      ]
    },
    {
      "cell_type": "code",
      "execution_count": null,
      "metadata": {
        "id": "uTZJihsKfYM1"
      },
      "outputs": [],
      "source": [
        "def count_neighbors(state):\n",
        "    delta = [(0,-1), (0, 1), (1,-1), (1,0), (1,1), (-1,-1), (-1,0), (-1,1)]\n",
        "    m, n = len(state), len(state[0])\n",
        "    return [ [sum(state[(i+di) % m][(j+dj) % n] for di, dj in delta) for j in range(n)] for i in range(m)]\n",
        "\n",
        "def cgol_step(self):\n",
        "    counts = count_neighbors(self.state)\n",
        "    self.state = [ newstate(line, cnt) for line, cnt in zip(self.state, counts) ]\n",
        "    return self\n",
        "\n",
        "ConwayGoL.step = cgol_step"
      ]
    },
    {
      "cell_type": "code",
      "execution_count": null,
      "metadata": {
        "id": "Ef8acL_wfYM2"
      },
      "outputs": [],
      "source": [
        "@classmethod\n",
        "def cgol_from_random_state(cls, n, m,  p):\n",
        "    return cls(random_state(n, m, p))\n",
        "\n",
        "ConwayGoL.from_random_state=cgol_from_random_state"
      ]
    },
    {
      "cell_type": "code",
      "execution_count": null,
      "metadata": {
        "id": "KswEyXxcfYM2",
        "outputId": "57fa0c41-add8-4ff8-d5f3-69ad68804cb7"
      },
      "outputs": [
        {
          "name": "stdout",
          "output_type": "stream",
          "text": [
            "⬜⬜⬛⬜⬜⬜⬜⬜⬜⬜\n",
            "⬜⬜⬛⬜⬜⬜⬜⬜⬜⬜\n",
            "⬜⬜⬛⬜⬜⬜⬛⬜⬛⬜\n",
            "⬜⬜⬜⬛⬜⬛⬜⬛⬜⬛\n",
            "⬜⬜⬛⬜⬛⬜⬜⬜⬜⬜\n",
            "[0, 3, 2, 4, 1, 1, 0, 0, 0, 0]\n",
            "[0, 3, 2, 3, 0, 1, 1, 2, 1, 1]\n",
            "[1, 2, 2, 3, 2, 2, 2, 3, 2, 2]\n",
            "[1, 2, 3, 3, 3, 2, 3, 2, 3, 1]\n",
            "[1, 2, 2, 4, 2, 2, 2, 1, 2, 1]\n"
          ]
        }
      ],
      "source": [
        "conway = ConwayGoL.from_random_state(5, 10, 0.2)\n",
        "print(conway)\n",
        "print(*count_neighbors(conway.state), sep='\\n')"
      ]
    },
    {
      "cell_type": "code",
      "execution_count": null,
      "metadata": {
        "id": "UHnpNLPFfYM3",
        "outputId": "968cfbc8-e726-4322-bf91-e7b47078f318"
      },
      "outputs": [
        {
          "name": "stdout",
          "output_type": "stream",
          "text": [
            "⬜⬜⬜⬜⬛\n",
            "⬛⬜⬜⬜⬜\n",
            "⬜⬜⬛⬜⬜\n",
            "⬜⬜⬛⬜⬜\n",
            "⬜⬛⬜⬜⬜\n",
            "--------------------\n",
            "⬛⬜⬜⬜⬛\n",
            "⬛⬜⬜⬜⬜\n",
            "⬜⬛⬛⬜⬜\n",
            "⬜⬛⬛⬜⬜\n",
            "⬜⬛⬜⬜⬜\n"
          ]
        }
      ],
      "source": [
        "conway = ConwayGoL.from_random_state(5, 5, 0.25)\n",
        "print(conway)\n",
        "print(\"-\"*20)\n",
        "print(conway.step())"
      ]
    },
    {
      "cell_type": "markdown",
      "metadata": {
        "id": "200synKofYM3"
      },
      "source": [
        "Tudunk-e valami animációszerűt készíteni? Jupyter notebook-ban pl. a következő képpen lehet:"
      ]
    },
    {
      "cell_type": "code",
      "execution_count": null,
      "metadata": {
        "id": "7OLRj8VKfYM4"
      },
      "outputs": [],
      "source": [
        "from ipywidgets import Output\n",
        "from time import sleep\n"
      ]
    },
    {
      "cell_type": "code",
      "execution_count": null,
      "metadata": {
        "id": "UNwoTfvhfYM4",
        "outputId": "fd3cd3a9-9db3-41db-d542-acb8a66186a3",
        "colab": {
          "referenced_widgets": [
            "9fcafc81e84f41ab96be315a37145b56"
          ]
        }
      },
      "outputs": [
        {
          "data": {
            "application/vnd.jupyter.widget-view+json": {
              "model_id": "9fcafc81e84f41ab96be315a37145b56",
              "version_major": 2,
              "version_minor": 0
            },
            "text/plain": [
              "Output()"
            ]
          },
          "metadata": {},
          "output_type": "display_data"
        }
      ],
      "source": [
        "\n",
        "out = Output()\n",
        "display(out)\n",
        "conway = ConwayGoL.from_random_state(n=21, m=51, p=0.2)\n",
        "\n",
        "for i in range(50):\n",
        "    out.clear_output(True)\n",
        "    with out:\n",
        "        print(f\"After {i} steps:\\n{conway}\")\n",
        "    sleep(0.15)\n",
        "    conway.step()\n"
      ]
    },
    {
      "cell_type": "markdown",
      "metadata": {
        "id": "8EeIir5AfYM4"
      },
      "source": [
        "## Ugyanez `numpy` tömbbel"
      ]
    },
    {
      "cell_type": "code",
      "execution_count": null,
      "metadata": {
        "id": "tna9JAarfYM4"
      },
      "outputs": [],
      "source": [
        "import numpy as np"
      ]
    },
    {
      "cell_type": "markdown",
      "metadata": {
        "id": "8aR4YI7hfYM5"
      },
      "source": [
        "### Random `state`"
      ]
    },
    {
      "cell_type": "code",
      "execution_count": null,
      "metadata": {
        "id": "m_AFInZ5fYM5"
      },
      "outputs": [],
      "source": [
        "def random_state_np(m, n, p):\n",
        "    return np.random.binomial(1, p, size=(m, n)).astype(np.int8)\n"
      ]
    },
    {
      "cell_type": "code",
      "execution_count": null,
      "metadata": {
        "id": "lk8pAZ5XfYM5",
        "outputId": "a6d49bbb-7f66-4ef0-b876-45c4c9d9ed71"
      },
      "outputs": [
        {
          "name": "stdout",
          "output_type": "stream",
          "text": [
            "[[0 0 0 0 0 0 0 1 0 0 0 0 1 1 0 0 0 0 0 0 0]\n",
            " [0 0 0 0 0 0 0 1 0 0 0 0 0 0 1 0 0 1 1 0 0]\n",
            " [0 0 0 1 0 0 1 1 0 0 0 0 0 0 0 1 0 0 0 0 0]\n",
            " [0 0 1 0 0 0 0 1 1 0 0 0 0 1 0 0 0 0 1 0 0]\n",
            " [1 0 0 1 0 1 1 0 0 0 1 0 1 0 0 0 0 1 1 0 0]\n",
            " [0 0 0 0 0 0 0 0 0 0 0 0 0 1 0 0 0 0 0 0 0]\n",
            " [1 1 1 0 1 0 0 0 0 0 0 0 0 0 0 0 0 0 0 0 0]\n",
            " [1 0 0 0 0 0 0 1 1 0 0 0 0 0 0 0 0 0 0 0 0]\n",
            " [0 0 1 1 0 0 0 0 0 1 0 1 0 0 1 0 0 0 1 0 0]\n",
            " [0 0 1 0 0 0 1 0 0 0 0 0 1 1 0 1 0 0 0 0 0]\n",
            " [1 0 0 0 0 1 0 0 0 1 0 0 0 0 0 1 0 1 0 1 0]]\n"
          ]
        }
      ],
      "source": [
        "print(random_state_np(11, 21, 0.2))"
      ]
    },
    {
      "cell_type": "markdown",
      "metadata": {
        "id": "XNrOO7wdfYM6"
      },
      "source": [
        "### `__str__` unicode karakterrel"
      ]
    },
    {
      "cell_type": "code",
      "execution_count": null,
      "metadata": {
        "id": "Fs98UqwwfYM6"
      },
      "outputs": [],
      "source": [
        "\n",
        "symbols_array = np.array([\"\\u2b1c\", \"\\u2b1b\"])\n",
        "\n",
        "def str_state_np(state):\n",
        "    return '\\n'.join(map(''.join, symbols_array[state]))"
      ]
    },
    {
      "cell_type": "code",
      "execution_count": null,
      "metadata": {
        "id": "GSDXg-_WfYM6",
        "outputId": "1b5ca9fa-b7e7-4390-f671-dde7e1915c76"
      },
      "outputs": [
        {
          "name": "stdout",
          "output_type": "stream",
          "text": [
            "⬜⬜⬛⬛⬛⬜⬜⬜⬛⬛⬛⬜⬛⬜⬛⬜⬜⬜⬜⬜⬜\n",
            "⬜⬛⬜⬛⬛⬜⬜⬛⬛⬜⬜⬜⬜⬜⬜⬜⬜⬜⬜⬜⬜\n",
            "⬜⬜⬜⬛⬜⬜⬜⬜⬜⬛⬜⬜⬛⬜⬛⬜⬜⬛⬜⬜⬛\n",
            "⬛⬜⬜⬜⬜⬛⬛⬜⬜⬜⬜⬜⬜⬜⬛⬛⬜⬜⬜⬜⬜\n",
            "⬜⬜⬛⬜⬜⬜⬜⬜⬜⬜⬛⬜⬛⬜⬜⬜⬜⬛⬜⬜⬛\n",
            "⬜⬜⬜⬜⬛⬜⬜⬛⬛⬜⬛⬜⬜⬛⬛⬜⬜⬜⬜⬛⬜\n",
            "⬜⬛⬜⬜⬛⬛⬜⬜⬜⬜⬜⬜⬛⬜⬜⬜⬛⬛⬜⬛⬜\n",
            "⬛⬜⬜⬜⬛⬜⬜⬜⬜⬜⬜⬜⬜⬜⬜⬜⬜⬜⬜⬜⬛\n",
            "⬛⬛⬛⬜⬛⬜⬜⬜⬜⬜⬜⬜⬜⬜⬜⬜⬛⬜⬛⬜⬜\n",
            "⬛⬜⬜⬜⬜⬜⬜⬜⬜⬜⬛⬜⬜⬜⬜⬜⬜⬛⬛⬜⬜\n",
            "⬛⬜⬜⬜⬜⬜⬜⬜⬜⬜⬛⬜⬛⬛⬜⬛⬜⬜⬛⬛⬜\n"
          ]
        }
      ],
      "source": [
        "print(str_state_np(random_state(11, 21, 0.2)))"
      ]
    },
    {
      "cell_type": "markdown",
      "metadata": {
        "id": "RRK9YbxmfYM6"
      },
      "source": [
        "### Szomszédszám `pad`-el"
      ]
    },
    {
      "cell_type": "code",
      "execution_count": null,
      "metadata": {
        "id": "qipbGPV4fYM7"
      },
      "outputs": [],
      "source": [
        "def count_neighbors_np(state, mode='wrap'):\n",
        "    count = np.pad(state, pad_width=((1,1), (1,1)), mode=mode)\n",
        "    count = count[2:]+ count[1:-1] + count[:-2]\n",
        "    count = count[:, 2:] + count[:, 1:-1] + count[:,:-2]\n",
        "    return count-state"
      ]
    },
    {
      "cell_type": "code",
      "execution_count": null,
      "metadata": {
        "id": "BXpfiCiHfYM7",
        "outputId": "62021821-226e-4bfa-a82b-263a5516a37e"
      },
      "outputs": [
        {
          "name": "stdout",
          "output_type": "stream",
          "text": [
            "⬛⬜⬜⬛⬜⬜⬜⬛\n",
            "⬜⬛⬜⬛⬜⬜⬛⬛\n",
            "⬜⬜⬜⬜⬜⬜⬛⬜\n",
            "⬜⬜⬜⬜⬜⬜⬜⬜\n",
            "⬜⬜⬛⬜⬜⬜⬜⬜\n",
            "[[3 3 4 2 2 1 3 3]\n",
            " [4 1 3 1 2 2 3 4]\n",
            " [2 1 2 1 1 2 2 3]\n",
            " [0 1 1 1 0 1 1 1]\n",
            " [2 2 1 2 1 0 1 2]]\n"
          ]
        }
      ],
      "source": [
        "state = random_state_np(5, 8, 0.2)\n",
        "print(str_state_np(state))\n",
        "print(count_neighbors_np(state))"
      ]
    },
    {
      "cell_type": "code",
      "execution_count": null,
      "metadata": {
        "id": "iWdcDtDLfYM8"
      },
      "outputs": [],
      "source": [
        "def new_state_np(state):\n",
        "    count = count_neighbors_np(state)\n",
        "    return ((count == 3)|((count == 2) & (state==1))).astype(np.int8)"
      ]
    },
    {
      "cell_type": "code",
      "execution_count": null,
      "metadata": {
        "id": "6S5j9xRXfYM8",
        "outputId": "df2f15c4-90f0-4927-a63b-b7e96a852c30"
      },
      "outputs": [
        {
          "data": {
            "text/plain": [
              "array([False, False, False,  True, False])"
            ]
          },
          "execution_count": 258,
          "metadata": {},
          "output_type": "execute_result"
        }
      ],
      "source": [
        "x = np.arange(5)\n",
        "(x<4)&(x>2)"
      ]
    },
    {
      "cell_type": "code",
      "execution_count": null,
      "metadata": {
        "id": "Cd3A9TikfYM8",
        "outputId": "289f6f1f-def5-4d05-8115-76026ab305fd"
      },
      "outputs": [
        {
          "name": "stdout",
          "output_type": "stream",
          "text": [
            "⬜⬜⬛⬛⬜⬜⬜⬜⬜⬜⬜⬜⬛⬜⬜⬜⬛⬜⬜⬜⬜\n",
            "⬜⬜⬜⬜⬛⬜⬜⬛⬜⬜⬜⬜⬜⬛⬛⬛⬜⬜⬜⬜⬜\n",
            "⬜⬜⬛⬜⬜⬜⬜⬛⬜⬜⬜⬜⬜⬜⬜⬜⬜⬜⬛⬜⬜\n",
            "⬜⬛⬜⬜⬛⬛⬜⬜⬜⬜⬜⬛⬜⬜⬛⬜⬛⬛⬜⬜⬜\n",
            "⬜⬜⬛⬜⬜⬜⬜⬜⬜⬜⬜⬜⬜⬜⬜⬜⬜⬜⬛⬜⬜\n",
            "⬜⬜⬜⬛⬜⬜⬜⬛⬜⬜⬜⬜⬜⬜⬜⬜⬛⬜⬛⬜⬜\n",
            "⬛⬛⬜⬛⬜⬜⬛⬛⬜⬜⬜⬜⬜⬜⬜⬜⬜⬜⬛⬛⬜\n",
            "⬜⬜⬜⬜⬜⬜⬛⬜⬜⬜⬜⬜⬜⬜⬜⬜⬜⬜⬜⬜⬜\n",
            "⬜⬜⬜⬛⬜⬜⬜⬜⬜⬜⬜⬜⬜⬜⬜⬜⬜⬜⬜⬛⬜\n",
            "⬜⬜⬜⬜⬜⬜⬜⬜⬜⬛⬜⬜⬛⬜⬜⬜⬛⬛⬜⬜⬜\n",
            "⬜⬜⬜⬜⬜⬜⬜⬜⬜⬜⬜⬜⬜⬜⬜⬜⬜⬜⬜⬛⬜\n",
            "==================================================\n",
            "⬜⬜⬜⬛⬜⬜⬜⬜⬜⬜⬜⬜⬜⬛⬛⬛⬜⬜⬜⬜⬜\n",
            "⬜⬜⬛⬜⬜⬜⬜⬜⬜⬜⬜⬜⬜⬛⬛⬛⬜⬜⬜⬜⬜\n",
            "⬜⬜⬜⬛⬛⬛⬛⬜⬜⬜⬜⬜⬜⬛⬜⬜⬛⬛⬜⬜⬜\n",
            "⬜⬛⬛⬛⬜⬜⬜⬜⬜⬜⬜⬜⬜⬜⬜⬜⬜⬛⬛⬜⬜\n",
            "⬜⬜⬛⬛⬛⬜⬜⬜⬜⬜⬜⬜⬜⬜⬜⬛⬛⬜⬛⬜⬜\n",
            "⬜⬛⬜⬛⬜⬜⬛⬛⬜⬜⬜⬜⬜⬜⬜⬜⬜⬜⬛⬜⬜\n",
            "⬜⬜⬛⬜⬜⬜⬛⬛⬜⬜⬜⬜⬜⬜⬜⬜⬜⬛⬛⬛⬜\n",
            "⬜⬜⬛⬜⬜⬜⬛⬛⬜⬜⬜⬜⬜⬜⬜⬜⬜⬜⬛⬛⬛\n",
            "⬜⬜⬜⬜⬜⬜⬜⬜⬜⬜⬜⬜⬜⬜⬜⬜⬜⬜⬜⬜⬜\n",
            "⬜⬜⬜⬜⬜⬜⬜⬜⬜⬜⬜⬜⬜⬜⬜⬜⬜⬜⬛⬜⬜\n",
            "⬜⬜⬜⬜⬜⬜⬜⬜⬜⬜⬜⬜⬜⬜⬜⬜⬛⬛⬜⬜⬜\n"
          ]
        }
      ],
      "source": [
        "state0 = random_state_np(11, 21, 0.2)\n",
        "state1 = new_state_np(state0)\n",
        "print(str_state_np(state0))\n",
        "print('='*50)\n",
        "print(str_state_np(state1))"
      ]
    },
    {
      "cell_type": "code",
      "execution_count": null,
      "metadata": {
        "id": "Geu3e2ftfYM9",
        "outputId": "7b21e78d-5d51-4905-f36b-5b91acd9d971"
      },
      "outputs": [
        {
          "data": {
            "image/png": "[encoded data removed]",
            "text/plain": [
              "<Figure size 640x480 with 1 Axes>"
            ]
          },
          "metadata": {},
          "output_type": "display_data"
        }
      ],
      "source": [
        "state = random_state_np(11, 21, 0.2)\n",
        "plt.imshow(state, cmap='Pastel1_r', vmax=1, vmin=0)\n",
        "plt.xticks(np.arange(state.shape[1]+1)-.5, minor=True)\n",
        "plt.xticks([])\n",
        "plt.yticks(np.arange(state.shape[0]+1)-.5, minor=True)\n",
        "plt.yticks([])\n",
        "plt.grid(which=\"minor\", color=\"gray\", linestyle='-', linewidth=1)\n",
        "plt.axis()\n",
        "\n",
        "for (i, j), cnt in np.ndenumerate(count_neighbors_np(state)):\n",
        "    plt.text(j, i, str(cnt), ha=\"center\", va=\"center\")\n",
        ""
      ]
    },
    {
      "cell_type": "code",
      "execution_count": null,
      "metadata": {
        "id": "omZ3_84-fYM-",
        "outputId": "1b6d3f76-b687-40bc-d3ab-a9e668b0259a"
      },
      "outputs": [
        {
          "data": {
            "image/png": "[encoded data removed]",
            "text/plain": [
              "<Figure size 640x480 with 1 Axes>"
            ]
          },
          "metadata": {},
          "output_type": "display_data"
        }
      ],
      "source": [
        "plt.imshow(state, cmap='Pastel1_r', vmax=1, vmin=0)\n",
        "plt.xticks(np.arange(state.shape[1]+1)-.5, minor=True)\n",
        "plt.xticks([])\n",
        "plt.yticks(np.arange(state.shape[0]+1)-.5, minor=True)\n",
        "plt.yticks([])\n",
        "plt.grid(which=\"minor\", color=\"gray\", linestyle='-', linewidth=1)\n",
        "plt.axis()\n",
        "\n",
        "for (i, j), cnt in np.ndenumerate(new_state_np(state)):\n",
        "    plt.text(j, i, str(cnt), ha=\"center\", va=\"center\")\n",
        ""
      ]
    },
    {
      "cell_type": "code",
      "execution_count": null,
      "metadata": {
        "id": "sUuZSPqdfYM-",
        "outputId": "7dd35db0-6c5e-4e98-d5d3-619d54d3e209",
        "colab": {
          "referenced_widgets": [
            "c771aa3e71564d6bbe4acc39b7d824ee"
          ]
        }
      },
      "outputs": [
        {
          "data": {
            "application/vnd.jupyter.widget-view+json": {
              "model_id": "c771aa3e71564d6bbe4acc39b7d824ee",
              "version_major": 2,
              "version_minor": 0
            },
            "text/plain": [
              "Output()"
            ]
          },
          "metadata": {},
          "output_type": "display_data"
        }
      ],
      "source": [
        "out = Output()\n",
        "display(out)\n",
        "state = random_state_np(n=51, m=21, p=0.2)\n",
        "\n",
        "for i in range(50):\n",
        "    out.clear_output(True)\n",
        "    with out:\n",
        "        print(f\"After {i} steps:\\n{str_state_np(state)}\")\n",
        "    sleep(0.15)\n",
        "    state = new_state_np(state)\n"
      ]
    },
    {
      "cell_type": "markdown",
      "metadata": {
        "id": "eCHpsRsDfYM-"
      },
      "source": [
        "## Parancssoros script"
      ]
    },
    {
      "cell_type": "markdown",
      "metadata": {
        "id": "bQjKUAxtfYM-"
      },
      "source": [
        "Ha parancssorból dolgozunk, akkor valami ilyesmit lehetne tenni"
      ]
    },
    {
      "cell_type": "code",
      "execution_count": null,
      "metadata": {
        "id": "kc901ns8fYM-",
        "outputId": "ebcda7c3-d4de-448b-dbe1-f3a394dca59f"
      },
      "outputs": [
        {
          "name": "stdout",
          "output_type": "stream",
          "text": [
            "Overwriting conway.py\n"
          ]
        }
      ],
      "source": [
        "%%writefile conway.py\n",
        "\n",
        "import random\n",
        "\n",
        "\n",
        "def random_state(m, n, p):\n",
        "    return [ [ int(random.random()<p) for _ in range(n) ] for _ in range(m) ]\n",
        "\n",
        "def count_neighbors(state):\n",
        "    delta = [(0,-1), (0, 1), (1,-1), (1,0), (1,1), (-1,-1), (-1,0), (-1,1)]\n",
        "    m, n = len(state), len(state[0])\n",
        "    return [ [sum(state[(i+di) % m][(j+dj) % n] for di, dj in delta) for j in range(n)] for i in range(m)]\n",
        "\n",
        "def newstate(state, count):\n",
        "    return [int((c==3)|((c==2) & (s==1))) for s, c in  zip(state, count)]\n",
        "\n",
        "class ConwayGoL:\n",
        "    symbols = \"\\u2b1c\\u2b1b\"\n",
        "\n",
        "    def __init__(self, state):\n",
        "        self.state = list(state)\n",
        "\n",
        "    def step(self):\n",
        "        counts = count_neighbors(self.state)\n",
        "        self.state = [ newstate(line, cnt) for line, cnt in zip(self.state, counts) ]\n",
        "        return self\n",
        "\n",
        "\n",
        "    def __str__(self):\n",
        "        symbols = self.symbols\n",
        "        return '\\n'.join(''.join(symbols[x] for x in line) for line in self.state)\n",
        "\n",
        "    def __repr__(self):\n",
        "        return f\"{type(self).__name__}({self.state})\"\n",
        "\n",
        "    @classmethod\n",
        "    def from_random_state(cls, m, n, p):\n",
        "        return cls(random_state(m, n, p))\n",
        "\n",
        "    def is_empty(self):\n",
        "        return not any(any(line) for line in self.state)\n",
        "\n",
        "\n",
        "def clear_terminal(n):\n",
        "    print(f\"{chr(27)}[{n+1}A\", end=\"\")\n",
        "\n",
        "def main(m=11, n=25, p=0.2, nsteps=10, clear_screen=clear_terminal):\n",
        "    from time import sleep\n",
        "    conway = ConwayGoL.from_random_state(m, n, p)\n",
        "    for i in range(nsteps+1):\n",
        "        if i>0:\n",
        "            clear_screen(m)\n",
        "        print(f\"after {i} step:\")\n",
        "        print(conway)\n",
        "        sleep(0.2)\n",
        "        conway.step()\n",
        "        if conway.is_empty():\n",
        "            break\n",
        "\n",
        "if __name__ == \"__main__\":\n",
        "    main()\n",
        ""
      ]
    },
    {
      "cell_type": "markdown",
      "metadata": {
        "id": "3qTfSmGPfYM-"
      },
      "source": [
        "Ha valamit már megírtunk és szeretnénk használni, `import`-tal elérhető. Pl."
      ]
    },
    {
      "cell_type": "markdown",
      "metadata": {
        "id": "-pEm3-10fYM_"
      },
      "source": [
        "### Tudunk-e paramétereket adni a python scriptnek?\n",
        "\n",
        "Amikor egy python scriptet futtatunk, a parancssor (amivel a futást indítottuk) a `sys` modul `argv` változójában érhető el."
      ]
    },
    {
      "cell_type": "code",
      "execution_count": null,
      "metadata": {
        "id": "-Ksfa74NfYM_"
      },
      "outputs": [],
      "source": [
        "import sys\n",
        "sys.argv"
      ]
    },
    {
      "cell_type": "code",
      "execution_count": null,
      "metadata": {
        "id": "kuVuaF77fYM_"
      },
      "outputs": [],
      "source": [
        "! python -c 'import sys; print(sys.argv)' -alma\n"
      ]
    },
    {
      "cell_type": "markdown",
      "metadata": {
        "id": "lmer-_3CfYM_"
      },
      "source": [
        "Egy nagyon egyszerű megoldás, ha minden opciónak a neve a paraméter amit beállít és egyenlőségjel után az értéke:\n",
        "pl. n=11 m=25 nstep=10 p=0.2"
      ]
    },
    {
      "cell_type": "code",
      "execution_count": null,
      "metadata": {
        "id": "1M_5CrlMfYM_"
      },
      "outputs": [],
      "source": [
        "cmdline = \"conway.py -n=11 -m=25 -nstep=10 -p=0.2\"\n",
        "argv = cmdline.split()\n",
        "params =[param.split(\"=\") for param in argv[1:]]\n",
        "params"
      ]
    },
    {
      "cell_type": "markdown",
      "metadata": {
        "id": "_F7Gd3kUfYM_"
      },
      "source": [
        "Minden paraméterről tudni kellene, hogy milyen típusú!"
      ]
    },
    {
      "cell_type": "code",
      "execution_count": null,
      "metadata": {
        "id": "M6Rg9SKZfYNA"
      },
      "outputs": [],
      "source": [
        "param_types={'-n': int, '-m': int, '-nstep': int, '-p': float}\n",
        "params = {k.replace(\"-\",\"\"): param_types[k](v)  for k, v in (param.split(\"=\") for param in argv[1:])}\n",
        "params"
      ]
    },
    {
      "cell_type": "markdown",
      "metadata": {
        "id": "p_KkCyXOfYNB"
      },
      "source": [
        "Ezek után a `main` függvényt a megadott paraméterekkel meg tudjuk hívni:\n",
        "\n",
        "```\n",
        "    main(**params)\n",
        "```\n",
        "Mi van a `default` értékekkel, `help`-pel stb.\n",
        "\n",
        "Ezeket mind meg tudnánk írni, de nem kell. Van kész megoldás `python`-ban.\n",
        "\n",
        "Az `argparse` könvytár mindent megcsinál, ami nekünk kell."
      ]
    },
    {
      "cell_type": "code",
      "execution_count": null,
      "metadata": {
        "id": "LMPTgEg7fYNB"
      },
      "outputs": [],
      "source": [
        "import argparse\n",
        "\n",
        "help(argparse)"
      ]
    },
    {
      "cell_type": "markdown",
      "metadata": {
        "id": "36_mMOtGfYNB"
      },
      "source": [
        "A `conway.py` file végét cseréljük le erre.\n",
        "```python\n",
        "if __name__ == \"__main__\":\n",
        "    import argparse\n",
        "    \n",
        "    parser = argparse.ArgumentParser(description='Conways Game of Life')\n",
        "\n",
        "    parser.add_argument(\n",
        "        '-n', '--nrows',\n",
        "        type=int,\n",
        "        default=11,\n",
        "        help='number of rows'\n",
        "        )\n",
        "\n",
        "    parser.add_argument(\n",
        "        '-m', '--ncols',\n",
        "        type=int,\n",
        "        default=25,\n",
        "        help='number of columns'\n",
        "        )\n",
        "\n",
        "    parser.add_argument(\n",
        "        '-p', '--density',\n",
        "        type=float,\n",
        "        default=0.2,\n",
        "        help='initial density')\n",
        "    \n",
        "    parser.add_argument(\n",
        "        '--nsteps',\n",
        "        type=int,\n",
        "        default=10,\n",
        "        help='steps to display'\n",
        "        )\n",
        "\n",
        "    args = parser.parse_args()\n",
        "    print(args)\n",
        "    \n",
        "    main(n=args.ncols, m=args.nrows, p=args.density, nsteps=args.nsteps)\n",
        "```\n",
        "    "
      ]
    },
    {
      "cell_type": "code",
      "execution_count": null,
      "metadata": {
        "id": "Nzt5nkN1fYNB"
      },
      "outputs": [],
      "source": [
        "# import importlib\n",
        "# importlib.reload(conway)"
      ]
    },
    {
      "cell_type": "code",
      "execution_count": null,
      "metadata": {
        "id": "zLcRTNS-fYNB",
        "outputId": "17c383e8-ad05-41d2-b371-2fe4a0253c08",
        "colab": {
          "referenced_widgets": [
            "61ccb099ef1541b09e05b782f76ef511"
          ]
        }
      },
      "outputs": [
        {
          "data": {
            "application/vnd.jupyter.widget-view+json": {
              "model_id": "61ccb099ef1541b09e05b782f76ef511",
              "version_major": 2,
              "version_minor": 0
            },
            "text/plain": [
              "Output()"
            ]
          },
          "metadata": {},
          "output_type": "display_data"
        }
      ],
      "source": [
        "import conway\n",
        "\n",
        "out1 = Output()\n",
        "display(out1)\n",
        "\n",
        "with out1:\n",
        "    conway.main(clear_screen=lambda n: out1.clear_output(True))"
      ]
    },
    {
      "cell_type": "markdown",
      "metadata": {
        "id": "S0wUTOQtfYNB"
      },
      "source": [
        "Az `argparse` könyvtár nem a legkényelmesebb. Alternatívák:\n",
        "\n",
        "- [Docopt](http://docopt.org/)\n",
        "- [Click](https://pypi.org/project/click/)\n",
        "- [clize](https://github.com/epsy/clize)\n",
        "\n",
        "és még sok másik is!"
      ]
    },
    {
      "cell_type": "markdown",
      "metadata": {
        "id": "0astSGnYfYNB"
      },
      "source": [
        "## Itt is használhattunk volna dekorátort"
      ]
    },
    {
      "cell_type": "markdown",
      "metadata": {
        "id": "yyvQpKYZfYNC"
      },
      "source": [
        "\n",
        "A `ConwayGoL` példában utólag adtunk metódusokat az osztályunkhoz. Ezt is megtehettük volna dekorátorral.  "
      ]
    },
    {
      "cell_type": "code",
      "execution_count": null,
      "metadata": {
        "id": "Agz3EScAfYNC"
      },
      "outputs": [],
      "source": [
        "def conway_method(f):\n",
        "    setattr(ConwayGoL, f.__name__, f)\n",
        "    return f\n",
        "\n",
        "\n",
        "@conway_method\n",
        "def dummy_method(self):\n",
        "    print(\"this is a message from the new method!\")\n",
        "\n",
        "c = ConwayGoL([], 0)\n",
        "c.dummy_method()"
      ]
    },
    {
      "cell_type": "markdown",
      "metadata": {
        "id": "jQ8S6ulafYNC"
      },
      "source": [
        "Azt is megtehettük volna, hogy a osztály nincs beleégetve a kódba."
      ]
    },
    {
      "cell_type": "code",
      "execution_count": null,
      "metadata": {
        "id": "aPULhp-TfYNC"
      },
      "outputs": [],
      "source": [
        "def new_method(cls):\n",
        "    def decorator(f):\n",
        "        setattr(cls, f.__name__, f)\n",
        "        return f\n",
        "    return decorator\n",
        "\n",
        "@new_method(ConwayGoL)\n",
        "def dummy_method(self):\n",
        "    print(\"Note that the old value of dummy_method is overwritten!\")"
      ]
    },
    {
      "cell_type": "code",
      "execution_count": null,
      "metadata": {
        "id": "oRuqRjqbfYNC"
      },
      "outputs": [],
      "source": [
        "c.dummy_method()"
      ]
    }
  ],
  "metadata": {
    "kernelspec": {
      "display_name": "python3.10",
      "language": "python",
      "name": "python3"
    },
    "language_info": {
      "codemirror_mode": {
        "name": "ipython",
        "version": 3
      },
      "file_extension": ".py",
      "mimetype": "text/x-python",
      "name": "python",
      "nbconvert_exporter": "python",
      "pygments_lexer": "ipython3",
      "version": "3.10.12"
    },
    "colab": {
      "provenance": []
    }
  },
  "nbformat": 4,
  "nbformat_minor": 0
}