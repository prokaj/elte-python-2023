{
  "cells": [
    {
      "cell_type": "markdown",
      "metadata": {
        "id": "eWQyionLy6Oc"
      },
      "source": [
        "[![Open In Colab](https://colab.research.google.com/assets/colab-badge.svg)](https://colab.research.google.com/github/prokaj/2023-elte-python/blob/main/2023-09-18.ipynb)   "
      ]
    },
    {
      "cell_type": "markdown",
      "metadata": {
        "id": "uaR5pqrJy6Oe"
      },
      "source": [
        "# Házi feladatok.\n",
        "\n"
      ]
    },
    {
      "cell_type": "markdown",
      "metadata": {
        "id": "FNGGKjEVy6Og"
      },
      "source": [
        "## Feladat\n",
        "\n",
        "Írjunk egy függvényt, ami a bemenetként kapott `text` és `number` értékekből összerak egy sztringet. Az eredményben a `text` sztring első 11 karaktere szerepeljen egy 13 karakter széles mezőben jobbra igazítva, majd kettős ponttal és szóközzel elválasztva következzen `number` három tizedes jegy pontossággal.\n",
        "\n",
        "Emellett írjunk egy `main` nevű függvényt is a fenti függvény kipróbálásához. Ez olvasson be a standard inputról két sort, az elsőből egy sztringet, a másodikból egy lebegőpontos számot. A kapott értékkel meghívja a fenti függvényt és az eredményt a standard outputra írja.\n",
        "\n",
        "Az első 11 karakter kiolvasása `text`-ből: `text[:11]`.\n",
        "\n",
        "pl. ha a függvény bemenete\n",
        "```Python\n",
        "text = \"A␣pi␣értéke␣jó␣közelítéssel\"\n",
        "number = 3.1415926535\n",
        "```\n",
        "akkor az eredmény\n",
        "```\n",
        "␣␣A␣pi␣értéke:␣3.142\n",
        "```\n",
        "Használjunk `f-string`-et.\n",
        "\n",
        "Próbáljuk ki arra az esetre is, ha text 11 karakternél hosszabb és arra az esetre is, amikor 11 karakternél rövidebb."
      ]
    },
    {
      "cell_type": "code",
      "execution_count": 13,
      "metadata": {
        "id": "WVYzYLgoy6Og"
      },
      "outputs": [],
      "source": [
        "def main():\n",
        "    number = float(input(\"Mi legyen a szám? \"))\n",
        "    text = input(\"Mi legyen a szöveg? \")\n",
        "    print(format_text_and_number(text, number))\n",
        "\n",
        "\n",
        "\n",
        "def format_text_and_number(text, number):\n",
        "    return f\"{text[:11]:>13}: {number:.3f}\"\n",
        "\n"
      ]
    },
    {
      "cell_type": "code",
      "execution_count": 14,
      "metadata": {
        "id": "aSdRHVbxy6Oh",
        "outputId": "23ac6bbd-2095-41fb-acbf-9692eb632c79",
        "colab": {
          "base_uri": "https://localhost:8080/"
        }
      },
      "outputs": [
        {
          "output_type": "stream",
          "name": "stdout",
          "text": [
            "Mi legyen a szám? 3.154789\n",
            "Mi legyen a szöveg? dgjsdjgwgwrgh\n",
            "  dgjsdjgwgwr: 3.155\n"
          ]
        }
      ],
      "source": [
        "\n",
        "main()\n"
      ]
    },
    {
      "cell_type": "code",
      "execution_count": 2,
      "metadata": {
        "id": "g-xy2QnGy6Oi"
      },
      "outputs": [],
      "source": [
        "def visual_test(text, number):\n",
        "    print(f\"{text = }\")\n",
        "    print(f\"{number = }\")\n",
        "    print(f\"{format_text_and_number(text, number) = }\")\n"
      ]
    },
    {
      "cell_type": "code",
      "execution_count": 12,
      "metadata": {
        "id": "JA6H_0oMy6Oi",
        "outputId": "e337e7c6-57c9-49bb-d297-68d901ea427b",
        "colab": {
          "base_uri": "https://localhost:8080/"
        }
      },
      "outputs": [
        {
          "output_type": "stream",
          "name": "stdout",
          "text": [
            "text = 'A pi értéke jó közelítéssel'\n",
            "number = 3.1415926535\n",
            "format_text_and_number(text, number) = '  A pi értéke: 3.142'\n"
          ]
        }
      ],
      "source": [
        "\n",
        "visual_test(text = \"A pi értéke jó közelítéssel\", number = 3.1415926535)\n"
      ]
    },
    {
      "cell_type": "markdown",
      "metadata": {
        "id": "yn-DRGl_y6Oj"
      },
      "source": [
        "## Bard (Google)\n"
      ]
    },
    {
      "cell_type": "markdown",
      "metadata": {
        "id": "zNkuQCqQy6Ok"
      },
      "source": [
        "\n",
        "\n",
        "https://bard.google.com\n",
        "\n",
        "Prompt:\n",
        "> I need to write a short python script, in which the main function inputs a text and a floating point number, calls another function and prints the result. The other function formats the number and the text such the text is truncated to length 11 adjusted to right and next to it comes the number with at most 3 digits after the decimal point. Can you help me to write this, with hungarian comments added to the source code?\n",
        "\n",
        "Válasz:\n",
        "> Sure, here is a short Python script to format a text and a floating point number, with Hungarian comments:\n",
        "\n",
        "```Python\n",
        "\n",
        "# Ez egy rövid Python-szkript, amely formáz egy szöveget és egy lebegőpontos számot.\n",
        "# A főfüggvény bemenetként kap egy szöveget és egy lebegőpontos számot, majd meghívja a formázófüggvényt, és kiírja az eredményt.\n",
        "# A formázófüggvény úgy formázza a számot és a szöveget, hogy a szöveg 11 karakterre legyen csonkítva, és jobb oldalon legyen igazítva, mellette pedig a szám legfeljebb 3 tizedesjegygyel.\n",
        "\n",
        "def format_text_and_number(text: str, number: float) -> str:\n",
        "  \"\"\"Formáz egy szöveget és egy lebegőpontos számot.\n",
        "\n",
        "  Args:\n",
        "    text: A formázandó szöveg.\n",
        "    number: A formázandó lebegőpontos szám.\n",
        "\n",
        "  Returns:\n",
        "    A formázott szöveg.\n",
        "  \"\"\"\n",
        "\n",
        "  # Csonkítja a szöveget 11 karakterre, és jobb oldalon igazítja.\n",
        "  formatted_text = text.rjust(11)[:11]\n",
        "\n",
        "  # Formázza a számot, hogy legfeljebb 3 tizedesjegye legyen.\n",
        "  formatted_number = f\"{number:.3f}\"\n",
        "\n",
        "  # Visszaadja a formázott szöveget és a számot.\n",
        "  return f\"{formatted_text} {formatted_number}\"\n",
        "\n",
        "\n",
        "def main():\n",
        "  \"\"\"A főfüggvény.\"\"\"\n",
        "\n",
        "  # Bekéri a szöveget és a lebegőpontos számot.\n",
        "  text = input(\"Szöveg: \")\n",
        "  number = float(input(\"Szám: \"))\n",
        "\n",
        "  # Meghívja a formázófüggvényt, és kiírja az eredményt.\n",
        "  formatted_text_and_number = format_text_and_number(text, number)\n",
        "  print(formatted_text_and_number)\n",
        "\n",
        "\n",
        "if __name__ == \"__main__\":\n",
        "  main()\n",
        "\n",
        "```\n",
        "> Példa használat:\n",
        "```Python\n",
        ">>> format_text_and_number(\"Ez egy hosszú szöveg.\", 3.14159)\n",
        "\"   Ez egy hosszú szöveg. 3.142\"\n",
        "```"
      ]
    },
    {
      "cell_type": "markdown",
      "metadata": {
        "id": "KFGGZAJNy6Ol"
      },
      "source": [
        "### Némi küzdelem után:\n",
        "\n",
        "Prompt:\n",
        "A feladat eredeti szövege + kérés, majd\n",
        "> Meg tudod-e oldani az rjust metódus nélkül, csak formátum sztringet használva?\n",
        "\n",
        "\n",
        "Válasz:\n",
        "> Igen, meg tudom oldani az rjust metódus nélkül, csak formátum sztringet használva. A következő megoldásban a {:>13} formátum sztringgel igazítjuk a szöveget jobb oldalon.\n",
        "\n",
        "```Python\n",
        "# Ez egy Jupyter notebook, amely formáz egy szöveget és egy lebegőpontos számot.\n",
        "\n",
        "# Definiáljuk a formázófüggvényt.\n",
        "def format_text_and_number(text: str, number: float) -> str:\n",
        "  \"\"\"Formáz egy szöveget és egy lebegőpontos számot.\n",
        "\n",
        "  Args:\n",
        "    text: A formázandó szöveg.\n",
        "    number: A formázandó lebegőpontos szám.\n",
        "\n",
        "  Returns:\n",
        "    A formázott szöveg.\n",
        "  \"\"\"\n",
        "\n",
        "  # Formázza a szöveget és a számot.\n",
        "  return f\"{text:>13}: {number:.3f}\"\n",
        "\n",
        "\n",
        "# Definiáljuk a main függvényt.\n",
        "def main():\n",
        "  \"\"\"A főfüggvény.\"\"\"\n",
        "\n",
        "  # Olvassuk be a standard inputról a szöveget és a számot.\n",
        "  text = input(\"Szöveg: \")\n",
        "  number = float(input(\"Szám: \"))\n",
        "\n",
        "  # Formázzuk a szöveget és a számot.\n",
        "  formatted_text_and_number = format_text_and_number(text, number)\n",
        "\n",
        "  # Írjuk ki az eredményt a standard outputra.\n",
        "  print(formatted_text_and_number)\n",
        "\n",
        "\n",
        "# Futtatás.\n",
        "if __name__ == \"__main__\":\n",
        "  main()\n",
        "```\n",
        ">Legyen körültekintő a kód használatakor. További információ.\n",
        ">\n",
        ">Példa használat:\n",
        ">\n",
        ">Szöveg: A␣pi␣értéke␣jó␣közelítéssel\n",
        ">Szám: 3.1415926535\n",
        ">\n",
        ">␣A␣pi␣értéke:␣3.142\n",
        ">\n",
        ">Szöveg: Ez egy rövid szöveg.\n",
        ">Szám: 123.456789\n",
        ">\n",
        ">Ez␣egy␣rövid␣szöveg:␣123.457\n",
        ">\n",
        ">Megoldás megjegyzései:\n",
        ">\n",
        ">  - A `{:>13}` formátum sztringgel igazítjuk a szöveget jobb oldalon.\n",
        ">  - A `f\"{text:>13}: {number:.3f}\"` kifejezéssel adjuk össze a szöveget és a számot.\n",
        ">\n",
        ">Ez a megoldás ugyanolyan eredményeket ad, mint az előző megoldás.\n"
      ]
    },
    {
      "cell_type": "markdown",
      "metadata": {
        "id": "FmmPNNVLy6Om"
      },
      "source": [
        "## Feladat\n",
        "Írjunk egy függvényt ami bemenetként kap egy egész értéket, a futási időt nanoszekundumokban és az eredményben visszaad egy formázott sztringet. Az eredmény szintén a futási időt adja meg, de milliszekundum, mikroszekundum, nanoszekundum felbontásban.\n",
        "\n",
        "pl. ha a futási idő 6800 (ns), akkor a függény eredménye:\n",
        "```\n",
        "\"  0 ms   6 µs 800 ns\"\n",
        "```\n",
        "\n",
        "Vegyük észre, hogy az eredményben mindegyik érték (ms, µs, ns) egy három karakterszéles mezőben van jobbra igazítva. (A mikro utf karaktert: µ másoljuk át a feladat szövegéből).\n",
        "\n",
        "Írjunk egy `main` függvényt is a fenti függvény kipróbálására, ami a standard inputról olvas be egy egész számot és a standard outputra írja a függvény eredményét. Feltehetjük, hogy a megadott egész szám kisebb mint $10^9$-en, azaz egy másodpercnél rövidebb a futás idő."
      ]
    },
    {
      "cell_type": "code",
      "execution_count": 22,
      "metadata": {
        "id": "sHNHYXcXy6Om"
      },
      "outputs": [],
      "source": [
        "def format_time(time):\n",
        "    time, nano = divmod(time, 1000)\n",
        "    milli, mikro = divmod(time, 1000)\n",
        "\n",
        "    return f\"{milli:3} ms {mikro:3} µs {nano:3} ns\"\n",
        "\n",
        "def main():\n",
        "    pass"
      ]
    },
    {
      "cell_type": "code",
      "execution_count": null,
      "metadata": {
        "id": "JzaqHLzJy6On"
      },
      "outputs": [],
      "source": [
        "main()"
      ]
    },
    {
      "cell_type": "code",
      "execution_count": 16,
      "metadata": {
        "id": "omrwOwbqy6On"
      },
      "outputs": [],
      "source": [
        "def visual_test_format_time(time):\n",
        "    print(f\"{time = }\")\n",
        "    print(f\"{format_time(time) = }\")"
      ]
    },
    {
      "cell_type": "code",
      "execution_count": 23,
      "metadata": {
        "id": "njRJfgsay6Oo",
        "outputId": "c7259a22-639d-4d2f-dfff-a04ab0fdaf72",
        "colab": {
          "base_uri": "https://localhost:8080/"
        }
      },
      "outputs": [
        {
          "output_type": "stream",
          "name": "stdout",
          "text": [
            "time = 7009006\n",
            "format_time(time) = '  7 ms   9 µs   6 ns'\n"
          ]
        }
      ],
      "source": [
        "visual_test_format_time(7_009_006)"
      ]
    },
    {
      "cell_type": "markdown",
      "metadata": {
        "id": "JB87ptDgy6Op"
      },
      "source": [
        "Otthon nézzük meg, hogy a Bard, ChatGPT milyen megoldást készítene!"
      ]
    },
    {
      "cell_type": "markdown",
      "metadata": {
        "id": "jPktYVGZy6Op"
      },
      "source": [
        "# Új téma\n",
        "\n",
        "Ehhez a részhez sokat használtam a [Harvard cs50](https://cs50.harvard.edu/python/2022/) kurzus második előadásából."
      ]
    },
    {
      "cell_type": "markdown",
      "metadata": {
        "id": "exsgETyAy6Oq"
      },
      "source": [
        "## Feltételek megadása\n"
      ]
    },
    {
      "cell_type": "markdown",
      "metadata": {
        "id": "L62RAfQOy6Oq"
      },
      "source": [
        "\n",
        "Időnként szükség van feltételek megadására ami alapján a program eldönti mit tegyen.\n",
        "\n",
        "Összehasonlító operátorok:\n",
        "\n",
        "- `<` ill. `>` a szokásos jelentéssel bírnak\n",
        "\n",
        "- `<=` ill. `>=` jelentése: $\\leq$ ill. $\\geq$\n",
        "\n",
        "- `==` egyenlőséget tesztel. `=` az értékadás operátora!\n",
        "\n",
        "- `!=` a különnbözőséget teszteli (nem egyenlő)\n",
        "\n",
        "\n",
        "Legtöbbször számokat hasonlítunk össze, de pl. sztring-eket (`str`) is lehet.\n",
        "\n",
        "**Sztringek esetében mi adja a rendezést?**"
      ]
    },
    {
      "cell_type": "code",
      "source": [
        "\"Vilmos\" < \"Anna\""
      ],
      "metadata": {
        "id": "Ba1Nd8ub7byx",
        "outputId": "a2094e99-e6cd-4f03-d3da-e355c08aa345",
        "colab": {
          "base_uri": "https://localhost:8080/"
        }
      },
      "execution_count": 25,
      "outputs": [
        {
          "output_type": "execute_result",
          "data": {
            "text/plain": [
              "False"
            ]
          },
          "metadata": {},
          "execution_count": 25
        }
      ]
    },
    {
      "cell_type": "markdown",
      "metadata": {
        "id": "88StgpUKy6Oq"
      },
      "source": [
        "## Elágazás: `if` és `elif` és `else`."
      ]
    },
    {
      "cell_type": "code",
      "execution_count": 26,
      "metadata": {
        "id": "t8AlnGViy6Or",
        "outputId": "86e2afd2-9fbe-4ed6-efc0-26036d9fc5b3",
        "colab": {
          "base_uri": "https://localhost:8080/"
        }
      },
      "outputs": [
        {
          "name": "stdout",
          "output_type": "stream",
          "text": [
            "Mi legyen x? 1\n",
            "Mi legyen y? 2\n"
          ]
        }
      ],
      "source": [
        "x = int(input(\"Mi legyen x? \"))\n",
        "y = int(input(\"Mi legyen y? \"))"
      ]
    },
    {
      "cell_type": "code",
      "execution_count": 28,
      "metadata": {
        "id": "xDpTL0EAy6Os"
      },
      "outputs": [],
      "source": [
        "x = 3\n",
        "if x < y:\n",
        "    print(\"Erre az ágra jutottunk\")\n",
        "    print(\"x kisebb mint y\")"
      ]
    },
    {
      "cell_type": "markdown",
      "metadata": {
        "id": "MFFhCLGxy6Ot"
      },
      "source": [
        "Ha `x` értéke kisebb, mint `y` akkor a feltétel értéke igaz és az interpreter végrehajtja az `if` utáni blokkot."
      ]
    },
    {
      "cell_type": "code",
      "execution_count": 30,
      "metadata": {
        "id": "gAq2VLYOy6Ot",
        "outputId": "b61d0d59-8cd9-4334-cff0-4ef088f5ae92",
        "colab": {
          "base_uri": "https://localhost:8080/"
        }
      },
      "outputs": [
        {
          "output_type": "stream",
          "name": "stdout",
          "text": [
            "x nagyobb mint y\n"
          ]
        }
      ],
      "source": [
        "if x < y:\n",
        "    print(\"x kisebb mint y\")\n",
        "if x > y:\n",
        "    print(\"x nagyobb mint y\")\n",
        "if x == y:\n",
        "    print(\"x egyenlő y-nal\")"
      ]
    },
    {
      "cell_type": "markdown",
      "metadata": {
        "id": "jNt5anpNy6Ou"
      },
      "source": [
        "Itt megvizsgáljuk a három lehetséges esetet egymás után.\n",
        "\n",
        "Bármi is `x` és `y` értéke mindig három összehasonlítást végzünk és abból az egyik lesz igaz, amihez tartozó blokkot végrehajtjuk.\n",
        "\n",
        "Kis javítás:"
      ]
    },
    {
      "cell_type": "code",
      "execution_count": 31,
      "metadata": {
        "id": "KGpleCWty6Ov",
        "outputId": "ad05edc6-104d-4425-85a6-a2c5914b540f",
        "colab": {
          "base_uri": "https://localhost:8080/"
        }
      },
      "outputs": [
        {
          "output_type": "stream",
          "name": "stdout",
          "text": [
            "x nagyobb mint y\n"
          ]
        }
      ],
      "source": [
        "if x < y:\n",
        "    print(\"x kisebb mint y\")\n",
        "elif x > y:\n",
        "    print(\"x nagyobb mint y\")\n",
        "elif x == y:\n",
        "    print(\"x egyenlő y-nal\")"
      ]
    },
    {
      "cell_type": "markdown",
      "metadata": {
        "id": "GWZ8ZmK8y6Ov"
      },
      "source": [
        "Az eredmény ugyanaz, mint előbb de `x` és `y` értékétől függően 1, 2 vagy 3 összehasonlítást végzünk.\n",
        "\n",
        "Szükség van-e, az utolsóra?"
      ]
    },
    {
      "cell_type": "code",
      "execution_count": 32,
      "metadata": {
        "id": "rNSenEn8y6Ov",
        "outputId": "358b0e78-bfe8-42eb-e69d-251618cf5bec",
        "colab": {
          "base_uri": "https://localhost:8080/"
        }
      },
      "outputs": [
        {
          "output_type": "stream",
          "name": "stdout",
          "text": [
            "x nagyobb mint y\n"
          ]
        }
      ],
      "source": [
        "if x < y:\n",
        "    print(\"x kisebb mint y\")\n",
        "elif x > y:\n",
        "    print(\"x nagyobb mint y\")\n",
        "else:\n",
        "    print(\"x egyenlő y-nal\")"
      ]
    },
    {
      "cell_type": "markdown",
      "metadata": {
        "id": "MX72WMvEy6Ov"
      },
      "source": [
        "Mi van ha csak az érdekel minket, hogy `x` és `y` egyenlő-e?"
      ]
    },
    {
      "cell_type": "code",
      "execution_count": null,
      "metadata": {
        "id": "SMyhtETWy6Ov"
      },
      "outputs": [],
      "source": [
        "if x < y:\n",
        "    print(\"x nem egyenlő y-nal\")\n",
        "elif x > y:\n",
        "    print(\"x nem egyenlő y-nal\")\n",
        "else:\n",
        "    print(\"x egyenlő y-nal\")"
      ]
    },
    {
      "cell_type": "markdown",
      "metadata": {
        "id": "eLuDfrvHy6Ov"
      },
      "source": [
        "Logikai értékeket `and` és `or` műveletekkel összekapcsolhatunk Tagadás `not`.\n",
        "\n",
        "Némi egyszerűsítés."
      ]
    },
    {
      "cell_type": "code",
      "execution_count": 33,
      "metadata": {
        "id": "UvzPz0RBy6Ov",
        "outputId": "82845db1-6ecc-4414-91c9-5e31f7caa1fc",
        "colab": {
          "base_uri": "https://localhost:8080/"
        }
      },
      "outputs": [
        {
          "output_type": "stream",
          "name": "stdout",
          "text": [
            "x nem egyenlő y-nal\n"
          ]
        }
      ],
      "source": [
        "if x < y or x > y:\n",
        "    print(\"x nem egyenlő y-nal\")\n",
        "else:\n",
        "    print(\"x egyenlő y-nal\")"
      ]
    },
    {
      "cell_type": "code",
      "source": [
        "True and \"\" and \"alma\""
      ],
      "metadata": {
        "id": "HmBYz10P9XnZ",
        "outputId": "1d38c4fd-d68a-4f0f-e563-3c162bf8aaba",
        "colab": {
          "base_uri": "https://localhost:8080/",
          "height": 35
        }
      },
      "execution_count": 39,
      "outputs": [
        {
          "output_type": "execute_result",
          "data": {
            "text/plain": [
              "''"
            ],
            "application/vnd.google.colaboratory.intrinsic+json": {
              "type": "string"
            }
          },
          "metadata": {},
          "execution_count": 39
        }
      ]
    },
    {
      "cell_type": "markdown",
      "metadata": {
        "id": "0ilPAyV7y6Ov"
      },
      "source": [
        "vagy egyszerűen"
      ]
    },
    {
      "cell_type": "code",
      "execution_count": 40,
      "metadata": {
        "id": "NOH5jcf6y6Ow",
        "outputId": "5a08d2bb-22dc-46aa-e0ad-42f1f75718b1",
        "colab": {
          "base_uri": "https://localhost:8080/"
        }
      },
      "outputs": [
        {
          "output_type": "stream",
          "name": "stdout",
          "text": [
            "x nem egyenlő y-nal\n"
          ]
        }
      ],
      "source": [
        "if x != y:\n",
        "    print(\"x nem egyenlő y-nal\")\n",
        "else:\n",
        "    print(\"x egyenlő y-nal\")"
      ]
    },
    {
      "cell_type": "markdown",
      "metadata": {
        "id": "OsFC8BPiy6Ow"
      },
      "source": [
        "alternatíva"
      ]
    },
    {
      "cell_type": "code",
      "execution_count": null,
      "metadata": {
        "id": "3ng6J8Gyy6Ow"
      },
      "outputs": [],
      "source": [
        "if x == y:\n",
        "    print(\"x egyenlő y-nal\")\n",
        "else:\n",
        "    print(\"x nem egyenlő y-nal\")"
      ]
    },
    {
      "cell_type": "markdown",
      "metadata": {
        "id": "fL5uDdezy6Ox"
      },
      "source": [
        "### Osztályozatok\n"
      ]
    },
    {
      "cell_type": "markdown",
      "metadata": {
        "id": "cFvJkvTEy6Ox"
      },
      "source": [
        "\n",
        "Ebben a kurzusban a jegy:\n",
        "\n",
        "- 90 % felett jeles\n",
        "\n",
        "- 80 és 90 % között jó\n",
        "\n",
        "- 70 és 80 % között közepes\n",
        "\n",
        "- 60 és 70 % között elégséges\n",
        "\n",
        "- 60 % alatt elégtelen\n",
        "\n",
        "Próbáljuk a százalékos eredményt szöveges eredménybe konvertálni!"
      ]
    },
    {
      "cell_type": "code",
      "execution_count": 42,
      "metadata": {
        "id": "ffly0aroy6Oy",
        "outputId": "3bc720a2-baff-4d9b-c377-1c97579f6a70",
        "colab": {
          "base_uri": "https://localhost:8080/"
        }
      },
      "outputs": [
        {
          "output_type": "stream",
          "name": "stdout",
          "text": [
            "Százalékos esermény: 85\n",
            "Százalékos eredmény: 85 %\n"
          ]
        }
      ],
      "source": [
        "percent = int(input(\"Százalékos esermény: \"))\n",
        "print(f\"Százalékos eredmény: {percent} %\")"
      ]
    },
    {
      "cell_type": "code",
      "execution_count": 45,
      "metadata": {
        "id": "oQYiI3fYy6Oy",
        "outputId": "0470885d-f774-42b2-91d1-25e418fafae7",
        "colab": {
          "base_uri": "https://localhost:8080/"
        }
      },
      "outputs": [
        {
          "output_type": "stream",
          "name": "stdout",
          "text": [
            "Százalékos eredmény: 85 %, jegy: jó\n"
          ]
        }
      ],
      "source": [
        "if percent >= 90:\n",
        "    grade = \"jeles\"\n",
        "elif percent < 90 and percent >= 80:\n",
        "    grade = \"jó\"\n",
        "elif percent < 80 and percent >= 70:\n",
        "    grade = \"közepes\"\n",
        "elif percent < 70 and percent >= 60:\n",
        "    grade = \"elégséges\"\n",
        "elif percent < 60:\n",
        "    grade = \"elégtelen\"\n",
        "\n",
        "print(f\"Százalékos eredmény: {percent} %, jegy: {grade}\")"
      ]
    },
    {
      "cell_type": "markdown",
      "metadata": {
        "id": "-CzLRi-Ly6Oz"
      },
      "source": [
        "Lehet-e egyszerűsíteni?\n",
        "\n",
        "pl.\n",
        "```\n",
        "percent < 70 and percent >= 60\n",
        "```\n",
        "ugyanarra az értékre vonatkozó két feltétel. Ez egyenértékű  a következővel:\n",
        "```\n",
        "60 <= percent < 70\n",
        "```"
      ]
    },
    {
      "cell_type": "code",
      "execution_count": null,
      "metadata": {
        "id": "uIccpMMey6Oz",
        "outputId": "0f9a4c01-d541-4a82-bf21-15984c7eb347"
      },
      "outputs": [
        {
          "name": "stdout",
          "output_type": "stream",
          "text": [
            "Százalékos eredmény: 85 %, jegy: jó\n"
          ]
        }
      ],
      "source": [
        "if percent >= 90:\n",
        "    grade = \"jeles\"\n",
        "elif 80 <= percent < 90:\n",
        "    grade = \"jó\"\n",
        "elif 70 <= percent < 80:\n",
        "    grade = \"közepes\"\n",
        "elif 60 <= percent < 70:\n",
        "    grade = \"elégséges\"\n",
        "elif percent < 60:\n",
        "    grade = \"elégtelen\"\n",
        "\n",
        "print(f\"Százalékos eredmény: {percent} %, jegy: {grade}\")"
      ]
    },
    {
      "cell_type": "markdown",
      "metadata": {
        "id": "F7keu5e6y6Oz"
      },
      "source": [
        "Kicsit tömörebb és talán jobban olvasható.\n",
        "\n",
        "Szükség van-e pl.\n",
        "```\n",
        "80 <= percent < 90\n",
        "```\n",
        "feltételben a 90-nel való összehasonlításra?\n",
        "\n",
        "Csak akkor jutunk erre az ágra, ha `percent` kisebb mint 90 a másik esetet már az első ág elintézi.\n",
        "\n",
        "További egyszerűsítés."
      ]
    },
    {
      "cell_type": "code",
      "execution_count": 46,
      "metadata": {
        "id": "lsVNdQUdy6Oz",
        "outputId": "077767fe-cbb7-41c1-8599-860c5df3db8d",
        "colab": {
          "base_uri": "https://localhost:8080/"
        }
      },
      "outputs": [
        {
          "output_type": "stream",
          "name": "stdout",
          "text": [
            "Százalékos eredmény: 85 %, jegy: jó\n"
          ]
        }
      ],
      "source": [
        "if 90 <= percent:\n",
        "    grade = \"jeles\"\n",
        "elif 80 <= percent:\n",
        "    grade = \"jó\"\n",
        "elif 70 <= percent:\n",
        "    grade = \"közepes\"\n",
        "elif 60 <= percent:\n",
        "    grade = \"elégséges\"\n",
        "else:\n",
        "    grade = \"elégtelen\"\n",
        "\n",
        "print(f\"Százalékos eredmény: {percent} %, jegy: {grade}\")"
      ]
    },
    {
      "cell_type": "markdown",
      "metadata": {
        "id": "xjK22P50y6Oz"
      },
      "source": [
        "## Eset széválasztás `match` segítségével"
      ]
    },
    {
      "cell_type": "markdown",
      "metadata": {
        "id": "tKuiOxzly6Oz"
      },
      "source": [
        "Ez egy viszonylag új konstrukció Python-ban.\n",
        "\n",
        "Példa."
      ]
    },
    {
      "cell_type": "code",
      "execution_count": null,
      "metadata": {
        "id": "ISViNykEy6O0",
        "outputId": "b36c9078-9595-45ef-bcd0-7b1c0710c387"
      },
      "outputs": [
        {
          "name": "stdout",
          "output_type": "stream",
          "text": [
            "Everything is good! status = 204\n"
          ]
        }
      ],
      "source": [
        "http_status = 204\n",
        "match http_status:\n",
        "    case 200 | 201 | 204 as status:\n",
        "        print(f\"Everything is good! {status = }\")\n",
        "\n",
        "    case 400 | 404 as status:\n",
        "        print(f\"You did something wrong! {status = }\")\n",
        "\n",
        "    case 500 as status:\n",
        "        print(f\"Oops... Is the server down!? {status = }\")\n",
        "\n",
        "    case _ as status:\n",
        "        print(f\"No clue what to do with {status = }!\")"
      ]
    },
    {
      "cell_type": "markdown",
      "metadata": {
        "id": "dfg46CY1y6O0"
      },
      "source": [
        "## Párosság ellenőrzése"
      ]
    },
    {
      "cell_type": "markdown",
      "metadata": {
        "id": "7WMCGVMTy6O1"
      },
      "source": [
        "Egy szám páros, ha kettővel osztva a maradék nulla páratlan, ha a maradék 1.\n",
        "\n",
        "(a nulla is páros)"
      ]
    },
    {
      "cell_type": "code",
      "execution_count": null,
      "metadata": {
        "id": "Dyh59Vpay6O1"
      },
      "outputs": [],
      "source": [
        "x = int(input(\"Mi legyen x? \"))\n",
        "\n",
        "if x % 2 == 0:\n",
        "    print(\"páros\")\n",
        "else:\n",
        "    print(\"páratlan\")"
      ]
    },
    {
      "cell_type": "markdown",
      "metadata": {
        "id": "-iXICDPry6O1"
      },
      "source": [
        "Ha függvényt akarnánk, akkor az első megoldás lehet:"
      ]
    },
    {
      "cell_type": "code",
      "execution_count": null,
      "metadata": {
        "id": "ENlhRuvuy6O2"
      },
      "outputs": [],
      "source": [
        "def is_even(n):\n",
        "    if n % 2 == 0:\n",
        "        return True\n",
        "    else:\n",
        "        return False"
      ]
    },
    {
      "cell_type": "markdown",
      "metadata": {
        "id": "WQXJR1G_y6O2"
      },
      "source": [
        "Rövidebben is lehetne."
      ]
    },
    {
      "cell_type": "code",
      "execution_count": 47,
      "metadata": {
        "id": "cNvsoNQ8y6O3"
      },
      "outputs": [],
      "source": [
        "def is_even(n):\n",
        "    return \"páros\" if n % 2 == 0 else \"páratlan\""
      ]
    },
    {
      "cell_type": "markdown",
      "metadata": {
        "id": "zzXcURcUy6O3"
      },
      "source": [
        "Nem csak `return` kifejezésben szerepelhet elágazás, értékadásnál is"
      ]
    },
    {
      "cell_type": "code",
      "execution_count": 50,
      "metadata": {
        "id": "6B2cON9Hy6O4",
        "outputId": "881328f6-323c-49ce-93ca-8c781d7a31f6",
        "colab": {
          "base_uri": "https://localhost:8080/",
          "height": 35
        }
      },
      "outputs": [
        {
          "output_type": "execute_result",
          "data": {
            "text/plain": [
              "'páratlan'"
            ],
            "application/vnd.google.colaboratory.intrinsic+json": {
              "type": "string"
            }
          },
          "metadata": {},
          "execution_count": 50
        }
      ],
      "source": [
        "n = 101\n",
        "parity = \"páros\" if n % 2 == 0 else \"páratlan\"\n",
        "parity"
      ]
    },
    {
      "cell_type": "markdown",
      "metadata": {
        "id": "MeqvYkvcy6O4"
      },
      "source": [
        "Ha `C` felől érkezünk, akkor az\n",
        "\n",
        "```\n",
        "(n % 2 == 0)? True: False\n",
        "```\n",
        "konstrukciónak felel meg, csak olvashatóbb.\n",
        "\n",
        "Az `is_even` függvény még rövidebb lehet."
      ]
    },
    {
      "cell_type": "code",
      "execution_count": 61,
      "metadata": {
        "id": "eGXOo3Jgy6O4"
      },
      "outputs": [],
      "source": [
        "def is_even(n):\n",
        "    return n & 2 == 0"
      ]
    },
    {
      "cell_type": "code",
      "source": [
        "print(f\"{13:08b}\\n{13&1:08b}\")"
      ],
      "metadata": {
        "id": "Xz13GFMHBtb2",
        "outputId": "5ee3f9a8-ae55-4509-e42f-c084cbe76de1",
        "colab": {
          "base_uri": "https://localhost:8080/"
        }
      },
      "execution_count": 60,
      "outputs": [
        {
          "output_type": "stream",
          "name": "stdout",
          "text": [
            "00001101\n",
            "00000001\n"
          ]
        }
      ]
    },
    {
      "cell_type": "markdown",
      "metadata": {
        "id": "taJO-IKXy6O4"
      },
      "source": [
        "## Ciklusok\n"
      ]
    },
    {
      "cell_type": "markdown",
      "metadata": {
        "id": "TaoQjlgWy6O4"
      },
      "source": [
        "A időkonveriós házi feladat megoldása során a következő néhány sor jött elő:"
      ]
    },
    {
      "cell_type": "code",
      "execution_count": null,
      "metadata": {
        "id": "5ItGgJ2Ny6O4"
      },
      "outputs": [],
      "source": [
        "time, nano = divmod(time, 1000)\n",
        "time, mikro = divmod(time, 1000)\n",
        "time, milli = divmod(time, 1000)"
      ]
    },
    {
      "cell_type": "markdown",
      "metadata": {
        "id": "eq2ZxOqVy6O4"
      },
      "source": [
        "Ugyanazt ismételtük 3 szor. Ha nem tesszük fel, hogy a futási idő legfeljebb $10^9$, akkor tovább is folytatódna a sor.\n",
        "\n",
        "Hasonló feladat, amikor egy számot a megadott számrendszerben akarunk felírni. pl. Írjuk fel 1000-at 13-as számrendszerben:"
      ]
    },
    {
      "cell_type": "code",
      "execution_count": 62,
      "metadata": {
        "id": "vJJTFk2My6O5",
        "outputId": "b16ed0ff-ce17-453f-9bdb-f205ddf2256c",
        "colab": {
          "base_uri": "https://localhost:8080/"
        }
      },
      "outputs": [
        {
          "output_type": "stream",
          "name": "stdout",
          "text": [
            "5|11|12| ellenőrzés: 5*13*13+11*13+12 = 1000\n"
          ]
        }
      ],
      "source": [
        "n = 1000\n",
        "\n",
        "n, d0 = divmod(n, 13)\n",
        "n, d1 = divmod(n, 13)\n",
        "n, d2 = divmod(n, 13)\n",
        "\n",
        "print(f\"{d2}|{d1}|{d0}| ellenőrzés: {d2}*13*13+{d1}*13+{d0} = {d2*13*13+d1*13+d0}\")"
      ]
    },
    {
      "cell_type": "markdown",
      "metadata": {
        "id": "yhAWEQFUy6O5"
      },
      "source": [
        "Itt most tudtuk, hogy három jegy elég, mit lehet tenni általában?"
      ]
    },
    {
      "cell_type": "markdown",
      "metadata": {
        "id": "uaSNXG44y6O5"
      },
      "source": [
        "### `while` ciklus"
      ]
    },
    {
      "cell_type": "markdown",
      "metadata": {
        "id": "xog6IVS3y6O6"
      },
      "source": [
        "A `while` ciklus szinte minden programozási nyelvben megtalálható.\n",
        "Addig ismétli a ciklus törzsének a végrehajtását, amíg a feltétel igaz.\n",
        "```Python\n",
        "i = 3\n",
        "while i > 0:\n",
        "    print(\"haha\")\n",
        "```\n",
        "Ez egy végtelen ciklus lenne. Miért?"
      ]
    },
    {
      "cell_type": "markdown",
      "metadata": {
        "id": "9ErT23iCy6O6"
      },
      "source": [
        "Javítás."
      ]
    },
    {
      "cell_type": "code",
      "execution_count": 64,
      "metadata": {
        "id": "iTRDlYrOy6O6",
        "outputId": "e12eaff2-8a57-47fd-dcd7-d8036dc84c7a",
        "colab": {
          "base_uri": "https://localhost:8080/"
        }
      },
      "outputs": [
        {
          "output_type": "stream",
          "name": "stdout",
          "text": [
            "haha\n",
            "haha\n",
            "haha\n",
            "véget ért a ciklus\n"
          ]
        }
      ],
      "source": [
        "i = 3\n",
        "while i > 0:\n",
        "    i = i - 1\n",
        "    print(\"haha\")\n",
        "\n",
        "print(\"véget ért a ciklus\")"
      ]
    },
    {
      "cell_type": "markdown",
      "metadata": {
        "id": "qvOP6zAWy6O6"
      },
      "source": [
        "Pl. a számjegyekre bontó rutin lehetne."
      ]
    },
    {
      "cell_type": "code",
      "execution_count": 65,
      "metadata": {
        "id": "j76sW1QIy6O7"
      },
      "outputs": [],
      "source": [
        "n = 1000\n",
        "base = 13\n",
        "while n > 0:\n",
        "    n, d = divmod(n, base)"
      ]
    },
    {
      "cell_type": "code",
      "source": [
        "d"
      ],
      "metadata": {
        "id": "O2F2HXZmEDeS",
        "outputId": "a959ba05-ab48-4bd4-9e42-df6f81a2958f",
        "colab": {
          "base_uri": "https://localhost:8080/"
        }
      },
      "execution_count": 67,
      "outputs": [
        {
          "output_type": "execute_result",
          "data": {
            "text/plain": [
              "5"
            ]
          },
          "metadata": {},
          "execution_count": 67
        }
      ]
    },
    {
      "cell_type": "markdown",
      "metadata": {
        "id": "EqqTz1hTy6O8"
      },
      "source": [
        "Hogyan tudjuk eltárolni a jegyeket?\n",
        "\n",
        "Erre használható a lista adattípus."
      ]
    },
    {
      "cell_type": "code",
      "execution_count": 70,
      "metadata": {
        "id": "-kSXMgUgy6O8",
        "outputId": "db5526a9-6349-44fd-a418-5b1831053c1e",
        "colab": {
          "base_uri": "https://localhost:8080/"
        }
      },
      "outputs": [
        {
          "output_type": "stream",
          "name": "stdout",
          "text": [
            "[4, 9, 6, 6, 3]\n"
          ]
        }
      ],
      "source": [
        "n = 100000\n",
        "base = 13\n",
        "digits = []\n",
        "while n > 0:\n",
        "    n, d = divmod(n, base)\n",
        "    digits.append(d)\n",
        "\n",
        "print(digits)"
      ]
    },
    {
      "cell_type": "markdown",
      "metadata": {
        "id": "C27v4EL2y6O8"
      },
      "source": [
        "Üres listát `[]` szögletes zárójellel hozhatunk létre.\n",
        "\n",
        "Ha az értékeket is ismerjük a létrehozáskor, akkor\n",
        "```Python\n",
        "names = [\"Attila\", \"Dávid\", \"Eszter\"]\n",
        "```\n",
        "\n",
        "Bármilyen adat tárolható egy listában, a következő mit sor mit adna:\n",
        "\n",
        "```Python\n",
        "mixed_list = [[], 1, 2, [\"Attila\", 1]]\n",
        "```\n",
        "\n",
        "A lista elemeihez indexeléssel férhetünk hozzá, **az index 0-tól indul**. Ehhez is szögletes zárójelet használunk.\n",
        "\n",
        "A lista elemeinek számát a `len` függvény adja vissza."
      ]
    },
    {
      "cell_type": "code",
      "execution_count": 73,
      "metadata": {
        "id": "A1rnJARNy6O9",
        "outputId": "55af1b2f-35de-4b38-f36a-0237d26fcc07",
        "colab": {
          "base_uri": "https://localhost:8080/"
        }
      },
      "outputs": [
        {
          "output_type": "stream",
          "name": "stdout",
          "text": [
            "A lista 0. eleme []\n",
            "A lista 1. eleme 1\n",
            "A lista 2. eleme 2\n",
            "A lista 3. eleme ['Attila', 1]\n"
          ]
        }
      ],
      "source": [
        "mixed_list = [[], 1, 2, [\"Attila\", 1]]\n",
        "\n",
        "i = 0\n",
        "while i < len(mixed_list):\n",
        "    print(f\"A lista {i}. eleme {mixed_list[i]}\")\n",
        "    i += 1"
      ]
    },
    {
      "cell_type": "markdown",
      "metadata": {
        "id": "8fwr9hJsy6O9"
      },
      "source": [
        "### Lista összefoglaló\n"
      ]
    },
    {
      "cell_type": "markdown",
      "metadata": {
        "id": "8VpFq9Z-y6O9"
      },
      "source": [
        "\n",
        "- létrehozás: szögletes zárójelek között az elemek felsorolásával (vesszővel elválasztva)\n",
        "  pl.\n",
        "  ```Python\n",
        "  empty_list = []\n",
        "  non_empty_list = [1, 2, 3]\n",
        "  ```\n",
        "\n",
        "- Az indexelés 0-tól indul. Az i. elemhez úgy férünk hozzá, ha a lista után `[i]`-t írunk.\n",
        "  pl.\n",
        "  ```Python\n",
        "  seq = [1, 2, 3]\n",
        "  seq[0] ## -> 1\n",
        "  seq[1] ## -> 2\n",
        "  seq[2] ## -> 3\n",
        "  seq[4] ## -> hiba!\n",
        "  ```\n",
        "  Mit ad a következő:\n",
        "  ```Python\n",
        "  [1, 2, 3][0]\n",
        "  ```\n",
        "- lista hosszát a `len` függvény adja vissza. pl.\n",
        "  ```Python\n",
        "  len([1, 2, 3]) ## -> 3\n",
        "  ```"
      ]
    },
    {
      "cell_type": "markdown",
      "metadata": {
        "id": "cw-_rGLyy6O9"
      },
      "source": [
        "### `for` ciklus"
      ]
    },
    {
      "cell_type": "markdown",
      "metadata": {
        "id": "n06JwSCBy6O-"
      },
      "source": [
        "Az eddigiek alapján úgy tudunk végigmenni egy listán, hogy lekérdezzük a hosszát, használunk egy index változót és egy `while` ciklusban addig növeljük\n",
        "nullától kezdve amíg el nem érjük a lista hosszát. Ez olyan gyakori, hogy másképp is megoldható.\n",
        "\n",
        "Erre szolgál a `for` ciklus.  "
      ]
    },
    {
      "cell_type": "code",
      "execution_count": 75,
      "metadata": {
        "id": "xfcFCtfdy6O-",
        "outputId": "762c4ba1-b906-4fed-8bf0-2107bab37d19",
        "colab": {
          "base_uri": "https://localhost:8080/"
        }
      },
      "outputs": [
        {
          "output_type": "stream",
          "name": "stdout",
          "text": [
            "0-ik haha\n",
            "1-ik haha\n",
            "2-ik haha\n"
          ]
        }
      ],
      "source": [
        "for i in range(3):\n",
        "    print(f\"{i}-ik haha\")"
      ]
    },
    {
      "cell_type": "markdown",
      "metadata": {
        "id": "VoXhZTUEy6O-"
      },
      "source": [
        "Itt annyi történt, hogy a `range` függvény előállít egy 3 hosszú sorozatot nullától indulva és a `for` ciklus a ciklus törzsét végrehajta a sorozat minden elemével.\n",
        "A törzsön belül a sorozat aktuális értékéhez az `i` változóval férhetünk hozzá, mert ezt adtuk meg az `in` előtt.  "
      ]
    },
    {
      "cell_type": "markdown",
      "metadata": {
        "id": "rGFAbK57y6O-"
      },
      "source": [
        "## ,,Végtelen'' ciklus alkalmazása"
      ]
    },
    {
      "cell_type": "code",
      "execution_count": null,
      "metadata": {
        "id": "2jTa2XCoy6O-"
      },
      "outputs": [],
      "source": [
        "while True:\n",
        "    n = int(input(\"Mi legyen n? \"))\n",
        "    if n <= 0:\n",
        "        continue\n",
        "    else:\n",
        "        break\n",
        "\n",
        "for i in range(n):\n",
        "    print(i)"
      ]
    },
    {
      "cell_type": "markdown",
      "metadata": {
        "id": "77aBAnjEy6O-"
      },
      "source": [
        "A fenti ciklus látszólag végtelen, mert a folytatási feltétel mindig igaz (`True`).\n",
        "\n",
        "Ha a bemenet nem pozitív folytatjuk ciklus törzs végrhajtását az elejétől.\n",
        "\n",
        "Ha pozitív megszakítjuk a ciklust!\n",
        "\n",
        "A `continue` és `break` for cikluson belül is használható!\n",
        "\n",
        "Némi rövidítés lehetséges."
      ]
    },
    {
      "cell_type": "code",
      "execution_count": null,
      "metadata": {
        "id": "99KnbLooy6O_"
      },
      "outputs": [],
      "source": [
        "while True:\n",
        "    n = int(input(\"Mi legyen n? \"))\n",
        "    if n > 0:\n",
        "        break\n",
        "\n",
        "for i in range(n):\n",
        "    print(i)"
      ]
    },
    {
      "cell_type": "markdown",
      "metadata": {
        "id": "qIIqfq7Ay6O_"
      },
      "source": [
        "# Prím számok\n"
      ]
    },
    {
      "cell_type": "markdown",
      "metadata": {
        "id": "teeBn2rvy6O_"
      },
      "source": [
        "\n",
        "Cél: `is_prime` függvény ami adott $n>1$ számról eldönti, hogy prím-e.\n",
        "\n"
      ]
    },
    {
      "cell_type": "markdown",
      "metadata": {
        "id": "2XB6MlTIy6PA"
      },
      "source": [
        "## Naív algoritmus"
      ]
    },
    {
      "cell_type": "code",
      "execution_count": 76,
      "metadata": {
        "id": "m5AGJgB3y6PA"
      },
      "outputs": [],
      "source": [
        "def is_prime_naive(n):\n",
        "    for d in range(2, n):\n",
        "        if n % d == 0:\n",
        "            return False\n",
        "    return n > 1\n"
      ]
    },
    {
      "cell_type": "code",
      "execution_count": 77,
      "metadata": {
        "id": "pt5KT7Xky6PA",
        "outputId": "15b7040d-4128-4f05-90a4-97e27ec18a13",
        "colab": {
          "base_uri": "https://localhost:8080/"
        }
      },
      "outputs": [
        {
          "output_type": "stream",
          "name": "stdout",
          "text": [
            "0 nem prím\n",
            "1 nem prím\n",
            "2 prím\n",
            "3 prím\n",
            "4 nem prím\n",
            "5 prím\n",
            "6 nem prím\n",
            "7 prím\n",
            "8 nem prím\n",
            "9 nem prím\n",
            "10 nem prím\n",
            "11 prím\n",
            "12 nem prím\n",
            "13 prím\n",
            "14 nem prím\n",
            "15 nem prím\n",
            "16 nem prím\n",
            "17 prím\n",
            "18 nem prím\n",
            "19 prím\n",
            "20 nem prím\n",
            "21 nem prím\n",
            "22 nem prím\n",
            "23 prím\n",
            "24 nem prím\n",
            "25 nem prím\n",
            "26 nem prím\n",
            "27 nem prím\n",
            "28 nem prím\n",
            "29 prím\n"
          ]
        }
      ],
      "source": [
        "for i in range(30):\n",
        "    if is_prime_naive(i):\n",
        "        print(f\"{i} prím\")\n",
        "    else:\n",
        "        print(f\"{i} nem prím\")\n"
      ]
    },
    {
      "cell_type": "code",
      "execution_count": 78,
      "metadata": {
        "id": "Qi0xMOuFy6PB",
        "outputId": "3934fb68-8ccd-43d1-81c3-5f0010b3431a",
        "colab": {
          "base_uri": "https://localhost:8080/"
        }
      },
      "outputs": [
        {
          "output_type": "stream",
          "name": "stdout",
          "text": [
            "CPU times: user 4.99 s, sys: 0 ns, total: 4.99 s\n",
            "Wall time: 5.07 s\n"
          ]
        }
      ],
      "source": [
        "%%time\n",
        "n = 30_000\n",
        "primes_naive = [i for i in range(n) if is_prime_naive(i)]"
      ]
    },
    {
      "cell_type": "code",
      "execution_count": null,
      "metadata": {
        "id": "61uAPfNNy6PB",
        "outputId": "8690980c-33f5-43f6-e28d-07deab7f299e"
      },
      "outputs": [
        {
          "name": "stdout",
          "output_type": "stream",
          "text": [
            "prímek száma 30000-ig: 3245\n"
          ]
        }
      ],
      "source": [
        "print(f\"prímek száma {n}-ig: {len(primes_naive)}\")"
      ]
    },
    {
      "cell_type": "markdown",
      "metadata": {
        "id": "guu72Xzsy6PB"
      },
      "source": [
        "## Kis gyorsítás\n",
        "\n",
        "Elég $d\\leq\\sqrt{n}$-re ellenőrizni, hogy $d$ osztja-e $n$-et.\n",
        "\n",
        "Ha $d$ osztja $n$-et, akkor $n/d$ is és a kettő közül a kisebbiknek a négyzete sem lehet nagyobb mint $n$.\n",
        "\n",
        "Egy egész szám négyzetgyökét számolhatjuk hatványozással:"
      ]
    },
    {
      "cell_type": "code",
      "execution_count": null,
      "metadata": {
        "id": "h7IO0zgay6PC",
        "outputId": "3305d261-181a-4770-991c-a34d3f7e6321"
      },
      "outputs": [
        {
          "data": {
            "text/plain": [
              "100.0"
            ]
          },
          "execution_count": 23,
          "metadata": {},
          "output_type": "execute_result"
        }
      ],
      "source": [
        "n = 10_000\n",
        "n**0.5"
      ]
    },
    {
      "cell_type": "markdown",
      "metadata": {
        "id": "qTTbaT9Uy6PC"
      },
      "source": [
        "Vegyük észre, hogy az eredmény lebegőpontos szám, azaz akármilyen nagy egészekre ez nem fog működni"
      ]
    },
    {
      "cell_type": "code",
      "execution_count": null,
      "metadata": {
        "id": "q-6LQBh7y6PC",
        "outputId": "c58fac8f-1dec-4086-dbb2-0e41ba1963c9"
      },
      "outputs": [
        {
          "ename": "OverflowError",
          "evalue": "int too large to convert to float",
          "output_type": "error",
          "traceback": [
            "\u001b[0;31m---------------------------------------------------------------------------\u001b[0m",
            "\u001b[0;31mOverflowError\u001b[0m                             Traceback (most recent call last)",
            "Cell \u001b[0;32mIn[29], line 2\u001b[0m\n\u001b[1;32m      1\u001b[0m n \u001b[39m=\u001b[39m \u001b[39mint\u001b[39m(\u001b[39m\"\u001b[39m\u001b[39m1\u001b[39m\u001b[39m\"\u001b[39m\u001b[39m+\u001b[39m\u001b[39m\"\u001b[39m\u001b[39m0\u001b[39m\u001b[39m\"\u001b[39m\u001b[39m*\u001b[39m\u001b[39m500\u001b[39m)\n\u001b[0;32m----> 2\u001b[0m sqrtn \u001b[39m=\u001b[39m (n\u001b[39m*\u001b[39;49m\u001b[39m*\u001b[39;49m\u001b[39m0.5\u001b[39;49m)\n",
            "\u001b[0;31mOverflowError\u001b[0m: int too large to convert to float"
          ]
        }
      ],
      "source": [
        "n = int(\"1\"+\"0\"*500)\n",
        "sqrtn = (n**0.5)"
      ]
    },
    {
      "cell_type": "markdown",
      "metadata": {
        "id": "LQW6nTeVy6PD"
      },
      "source": [
        "A `math` könyvtárban van egészgyökvonás, ami nem konvertál lebegőpontos számmá és tetszőleges egészre működik. Az eredmény a négyzetgyök egészrésze, tehát `int` típusú!"
      ]
    },
    {
      "cell_type": "code",
      "execution_count": null,
      "metadata": {
        "id": "Z-R5H5QYy6PE",
        "outputId": "46547f6c-1378-4311-c61f-41ad9bb03428"
      },
      "outputs": [
        {
          "data": {
            "text/plain": [
              "251"
            ]
          },
          "execution_count": 32,
          "metadata": {},
          "output_type": "execute_result"
        }
      ],
      "source": [
        "import math\n",
        "n = int(str(\"1\"+\"0\"*500))\n",
        "sqrtn = math.isqrt(n)\n",
        "len(str(sqrtn))"
      ]
    },
    {
      "cell_type": "code",
      "execution_count": null,
      "metadata": {
        "id": "RmXlR0sUy6PE"
      },
      "outputs": [],
      "source": [
        "\n",
        "import math\n",
        "\n",
        "def is_prime_faster(n):\n",
        "    for d in range(2, math.isqrt(n)+1):\n",
        "        if n % d == 0:\n",
        "            return False\n",
        "    return True\n"
      ]
    },
    {
      "cell_type": "code",
      "execution_count": null,
      "metadata": {
        "id": "N3LJZrNjy6PF",
        "outputId": "7c52af12-4bf2-4df4-ee77-ee687a1b9b80"
      },
      "outputs": [
        {
          "name": "stdout",
          "output_type": "stream",
          "text": [
            "CPU times: user 46.5 ms, sys: 405 µs, total: 46.9 ms\n",
            "Wall time: 45.6 ms\n"
          ]
        }
      ],
      "source": [
        "%%time\n",
        "n = 30_000\n",
        "primes_faster = [i for i in range(n) if is_prime_faster(i)]"
      ]
    },
    {
      "cell_type": "markdown",
      "metadata": {
        "id": "6-vnUa6xy6PG"
      },
      "source": [
        "A futási idő lényegesen csökkent 1.71 s-ről 45.6 ms-re"
      ]
    },
    {
      "cell_type": "code",
      "execution_count": null,
      "metadata": {
        "id": "0gzf5yQny6PH",
        "outputId": "2e131d31-ac77-4f3f-c28c-223ab8490ba0"
      },
      "outputs": [
        {
          "name": "stdout",
          "output_type": "stream",
          "text": [
            "A naív algorítmus 37.5-szor több ideig fut\n"
          ]
        }
      ],
      "source": [
        "print(f\"A naív algorítmus {1710/45.6}-szor több ideig fut\")"
      ]
    },
    {
      "cell_type": "markdown",
      "metadata": {
        "id": "iis_KFKky6PH"
      },
      "source": [
        "Hány műveletet kellett végezni az egyes esetekben?\n",
        "\n",
        "Csak az osztások számát nézzük. Az összehasonlítás számít persze."
      ]
    },
    {
      "cell_type": "code",
      "execution_count": null,
      "metadata": {
        "id": "asBAimn6y6PI"
      },
      "outputs": [],
      "source": [
        "\n",
        "def is_prime_naive_with_op_count(n):\n",
        "    nops = 0\n",
        "    for d in range(2, n):\n",
        "        nops += 1\n",
        "        if n % d == 0:\n",
        "            return nops\n",
        "    return nops\n",
        "\n",
        "def is_prime_faster_with_op_count(n):\n",
        "    nops = 0\n",
        "    for d in range(2, math.isqrt(n)+1):\n",
        "        nops += 1\n",
        "        if n % d == 0:\n",
        "            return nops\n",
        "    return nops\n",
        "\n",
        "n = 30_000\n",
        "\n",
        "def count_ops(fun, n):\n",
        "    return [fun(i) for i in range(n)]\n",
        "\n",
        "op_counts =[count_ops(fun, n) for fun in [is_prime_naiv_with_op_count, is_prime_faster_with_op_count]]\n",
        "\n"
      ]
    },
    {
      "cell_type": "code",
      "execution_count": null,
      "metadata": {
        "id": "2I42AnACy6PI",
        "outputId": "ef72970a-eeb6-42d7-c8d6-7c3acfbd7fe0"
      },
      "outputs": [
        {
          "name": "stdout",
          "output_type": "stream",
          "text": [
            "Osztások száma\n",
            "naive:\t  45_839_466\n",
            "faster:\t     523_928\n",
            "arány:\t       87.49\n"
          ]
        }
      ],
      "source": [
        "total_nops = [sum(nops) for nops in op_counts]\n",
        "print(f\"Osztások száma\\nnaive:\\t{total_nops[0]:>12_}\\nfaster:\\t{total_nops[1]:>12_}\\narány:\\t{total_nops[0]/total_nops[1]:>12.2f}\")"
      ]
    },
    {
      "cell_type": "code",
      "execution_count": null,
      "metadata": {
        "id": "yeW_GFeUy6PI"
      },
      "outputs": [],
      "source": [
        "import matplotlib.pyplot as plt"
      ]
    },
    {
      "cell_type": "code",
      "execution_count": null,
      "metadata": {
        "id": "0esAcvAyy6PJ",
        "outputId": "223692c8-afc3-4846-aeb8-7709e1c01426"
      },
      "outputs": [
        {
          "data": {
            "image/png": "[encoded data removed]",
            "text/plain": [
              "<Figure size 640x480 with 1 Axes>"
            ]
          },
          "metadata": {},
          "output_type": "display_data"
        },
        {
          "data": {
            "image/png": "[encoded data removed]",
            "text/plain": [
              "<Figure size 640x480 with 1 Axes>"
            ]
          },
          "metadata": {},
          "output_type": "display_data"
        }
      ],
      "source": [
        "\n",
        "plt.plot(op_counts[0][:], \"o\", markersize=1, alpha=0.5, label=\"naiv\")\n",
        "plt.legend()\n",
        "plt.show()\n",
        "plt.plot(op_counts[1][:], \"o\", markersize=1, alpha=0.5, label=\"faster\")\n",
        "plt.legend()\n",
        "plt.show()\n"
      ]
    },
    {
      "cell_type": "markdown",
      "metadata": {
        "id": "5fehtr60y6PJ"
      },
      "source": [
        "## Még több matek, még gyorsabb futás!"
      ]
    },
    {
      "cell_type": "markdown",
      "metadata": {
        "id": "xBnmLAVuy6PK"
      },
      "source": [
        "Ha $p$ prím, akkor tetszőleges $0 < a < p$ relatív prím $p$-hez. Elemi megfontolás mutatja, hogy\n",
        "$$\n",
        "a^{p-1} \\equiv 1 \\mod p,\n",
        "$$\n",
        "sőt ha\n",
        "$$\n",
        "a^k \\not\\equiv 1 \\mod p,\\quad\\text{de}\\quad a^{2*k} \\equiv 1 \\mod p\n",
        "$$\n",
        "akkor csak\n",
        "$$\n",
        "a^k \\equiv -1 \\mod p\n",
        "$$\n",
        "fordulhat elő.\n",
        "Ellenkező esetben, ha $a^k \\equiv b\\not\\equiv -1 \\mod p$ azt kapnánk, hogy\n",
        "$$\n",
        "    0 \\equiv b^2 - 1 \\mod p\n",
        "$$\n",
        "és  $(b-1)(b+1)$-nek osztója lenne $p$. Mivel $1 < b < p-1$, ezért $1 < b-1 < p$ és $1 < b+1 < p$ is teljesül, azaz ez lehetetlen.\n",
        "\n",
        "Ezen az észrevételen alapul a következő teszt. Az első néhány prímmel kiszorjuk a nem prímek nagy részét, majd $a=2$-re és $a=3$ ellenőrizzük az előző észrevételt\n",
        "Ha az első $k$ kitevő, amire $a^k\\equiv 1$ teljesül páros, akkor $a^{k//2}$-nek $-1$-gyel kongruensnek lennie modulo $p$.\n",
        "\n",
        "\n",
        "Az derül ki, hogy  a minket érdeklő tartományban elegendő az első néhány prím $a$-ra ellenőrizni:\n",
        "\n",
        "- ha $n < 1\\_373\\_653$ és átmegy a teszten $a=2,3$-ra, akkor $n$ prím.\n",
        "- ha $n < 25\\_326\\_001$ és átmegy a teszten $a=2,3,5$-re, akkor $n$ prím.\n",
        "- ha $n < 25\\_000\\_000\\_000$ és átmegy a teszten $a=2,3,5,7$-re, valamint $n\\neq 3\\_215\\_031\\_751$, akkor $n$ prím.\n",
        "- ha $n < 2\\_152\\_302\\_898\\_747$ és átmegy a teszten $a=2,3,5,7,11$-re, akkor $n$ prím.\n",
        "- ha $n < 3\\_474\\_749\\_660\\_383$ és átmegy a teszten $a=2,3,5,7,11,13$-ra, akkor $n$ prím.\n",
        "- ha $n < 341\\_550\\_071\\_728\\_321$ és átmegy a teszten $a=2,3,5,7,11,13,17$-re, akkor $n$ prím.\n",
        "\n",
        "Részletesebb leírás:\n",
        "\n",
        "https://t5k.org/prove/prove2_3.html"
      ]
    },
    {
      "cell_type": "code",
      "execution_count": null,
      "metadata": {
        "id": "lNQm7DeQy6PK"
      },
      "outputs": [],
      "source": [
        "\n",
        "def sprp(a, p):\n",
        "    t = p-1\n",
        "    d = t & (-t)\n",
        "    x = pow(a, t//d, p)\n",
        "    if x == 1 or x == p-1:\n",
        "        return True\n",
        "    while d > 0 and not (x == 1 or x == p-1):\n",
        "        d >>= 1\n",
        "        x = (x*x) % p\n",
        "    return x == p-1\n",
        "\n",
        "def is_prime_fast(n):\n",
        "    for p in [2, 3, 5, 7, 11, 13]:\n",
        "        if n % p == 0:\n",
        "            return n == p\n",
        "\n",
        "    is_prime = sprp(2, n) and sprp(3, n)\n",
        "    if n >= 1_373_653:\n",
        "        is_prime = is_prime and sprp(5, n)\n",
        "        if n >= 25_326_001:\n",
        "            is_prime = is_prime and (3_215_031_751!= n) and sprp(7, n)\n",
        "    return is_prime\n"
      ]
    },
    {
      "cell_type": "code",
      "execution_count": null,
      "metadata": {
        "id": "zwigdyrhy6PL",
        "outputId": "2657d676-83e5-4b28-c0d0-ac2dda437898"
      },
      "outputs": [
        {
          "name": "stdout",
          "output_type": "stream",
          "text": [
            "len(primes0)=78_498, primes0[-10:]=[999863, 999883, 999907, 999917, 999931, 999953, 999959, 999961, 999979, 999983]\n",
            "CPU times: user 2.57 s, sys: 7.2 ms, total: 2.57 s\n",
            "Wall time: 2.57 s\n"
          ]
        }
      ],
      "source": [
        "%%time\n",
        "primes0 = [k for k in range(2,1_000_000) if is_prime_faster(k)]\n",
        "print(f\"{len(primes0)=:_}, {primes0[-10:]=}\")"
      ]
    },
    {
      "cell_type": "code",
      "execution_count": null,
      "metadata": {
        "id": "9MLlBy9vy6PM",
        "outputId": "b4580fb1-c009-4665-d7b2-ecb19de9b277"
      },
      "outputs": [
        {
          "name": "stdout",
          "output_type": "stream",
          "text": [
            "len(primes1)=78_498, primes1[-10:]=[999863, 999883, 999907, 999917, 999931, 999953, 999959, 999961, 999979, 999983]\n",
            "CPU times: user 611 ms, sys: 2.2 ms, total: 613 ms\n",
            "Wall time: 626 ms\n"
          ]
        }
      ],
      "source": [
        "%%time\n",
        "primes1 = [k for k in range(2, 1_000_000) if is_prime_fast(k)]\n",
        "print(f\"{len(primes1)=:_}, {primes1[-10:]=}\")"
      ]
    },
    {
      "cell_type": "markdown",
      "metadata": {
        "id": "f537j8f_y6PN"
      },
      "source": [
        "## Szita módszer"
      ]
    },
    {
      "cell_type": "markdown",
      "metadata": {
        "id": "HPCpsfA0y6PN"
      },
      "source": [
        "A legegyszerűbb módszer a leggyorsabb, igaz itt meg a memória igény miatt nem tudunk feljebb menni $n$-nel."
      ]
    },
    {
      "cell_type": "code",
      "execution_count": null,
      "metadata": {
        "id": "H-vEd1S9y6PN",
        "outputId": "5852d2ab-876f-422e-bb9d-a00413b8334f"
      },
      "outputs": [
        {
          "name": "stdout",
          "output_type": "stream",
          "text": [
            "CPU times: user 2.02 s, sys: 0 ns, total: 2.02 s\n",
            "Wall time: 2.05 s\n"
          ]
        }
      ],
      "source": [
        "%%time\n",
        "n = 10_000_000\n",
        "\n",
        "# i. elem 1 ha i prím nulla különben első két elem nem számít\n",
        "sieve = [1]*n\n",
        "\n",
        "# a megtalált prímek listája\n",
        "primes = []\n",
        "\n",
        "# végigmegyünk a lehetséges értékeken\n",
        "for i in range(2, n):\n",
        "\n",
        "    # ha még nem zártuk ki, akkor i prím\n",
        "    if sieve[i]:\n",
        "        primes.append(i)\n",
        "\n",
        "        # i*i-nél kisebb számoknak ha nem prímek van i-nél kisebb osztója is\n",
        "        for k in range(i*i, n, i):\n",
        "\n",
        "            # i többszöröseit megjelöljük nem prímként\n",
        "            sieve[k] = 0"
      ]
    },
    {
      "cell_type": "code",
      "execution_count": null,
      "metadata": {
        "id": "rvcOlqPyy6PO",
        "outputId": "7feabc70-c198-4f1e-e77a-7638cb8664f7"
      },
      "outputs": [
        {
          "name": "stdout",
          "output_type": "stream",
          "text": [
            "prímek száma 10_000_000-ig: 664_579\n"
          ]
        }
      ],
      "source": [
        "print(f\"prímek száma {n:_}-ig: {len(primes):_}\")"
      ]
    },
    {
      "cell_type": "markdown",
      "metadata": {
        "id": "EQ7p6EVty6PP"
      },
      "source": [
        "## Prímek száma $n$-ig, $k$. prím nagyságrendje"
      ]
    },
    {
      "cell_type": "markdown",
      "metadata": {
        "id": "qkyHQKUJy6PP"
      },
      "source": [
        "Ha ábrát szeretnénk készíteni, akkor pythonban a `matplotlib` könytárat fogjuk használni."
      ]
    },
    {
      "cell_type": "code",
      "execution_count": null,
      "metadata": {
        "id": "Rgx-XJ8My6PQ"
      },
      "outputs": [],
      "source": [
        "import matplotlib.pyplot as plt\n",
        "import math"
      ]
    },
    {
      "cell_type": "code",
      "execution_count": null,
      "metadata": {
        "id": "FctVSJ82y6PQ",
        "outputId": "237fc0ec-2d86-470a-f5c6-31b5c30fcacc"
      },
      "outputs": [
        {
          "data": {
            "image/png": "[encoded data removed]",
            "text/plain": [
              "<Figure size 640x480 with 1 Axes>"
            ]
          },
          "metadata": {},
          "output_type": "display_data"
        }
      ],
      "source": [
        "x = [k for k in range(2, primes[-1], 1000)]\n",
        "plt.plot(primes, range(1,len(primes)+1), label=\"p_n\")\n",
        "plt.plot(x, [k/math.log(k) for k in x], label=\"n/log n\")\n",
        "plt.legend()\n",
        "plt.show()"
      ]
    },
    {
      "cell_type": "markdown",
      "metadata": {
        "id": "bXTE0mEmy6PQ"
      },
      "source": [
        "Ugyanez másképpen. Ábrázoljuk a $\\pi(n)/n$-et, ahol $\\pi(n)$ a prímek száma $n$-ig. Ha $p_k$ a $k.$ prím, akkor a $p_k$ helyen $k/p_k$ a függvény érték, a $n = p_{k+1}-1$ helyen pedig $k/(p_{k+1}-1)$.  "
      ]
    },
    {
      "cell_type": "code",
      "execution_count": null,
      "metadata": {
        "id": "zt3VBY8Gy6PQ",
        "outputId": "d0867b2a-f963-400a-fbfa-6a518d211f52"
      },
      "outputs": [
        {
          "data": {
            "image/png": "[encoded data removed]",
            "text/plain": [
              "<Figure size 640x480 with 1 Axes>"
            ]
          },
          "metadata": {},
          "output_type": "display_data"
        }
      ],
      "source": [
        "def seq_along(x, start=1, step=1):\n",
        "    return [i for i in range(start, len(x)+1, step)]\n",
        "\n",
        "p_k_per_k = [p_k/k for k, p_k in enumerate(primes, 1)]\n",
        "\n",
        "plt.plot(seq_along(p_k_per_k), p_k_per_k, label=\"p_k/k\")\n",
        "\n",
        "x = seq_along(primes, step=len(primes)//501)\n",
        "plt.plot(x, [math.log(k) for k in x], label=\"log(k)\")\n",
        "plt.legend(loc=\"lower right\")\n",
        "plt.show()"
      ]
    },
    {
      "cell_type": "markdown",
      "metadata": {
        "id": "GVIvsC_uy6PR"
      },
      "source": [
        "Nevezetes tétel számelméletben, hogy\n",
        "$$\n",
        "    \\frac{\\pi(n)}{\\frac{n}{\\log(n)}} \\approx 1,\\quad\\text{amint $n\\to\\infty$.}\n",
        "$$\n",
        "\n",
        "Mi azt árbázoltuk, hogy $n/\\pi(n)$ kb $\\log \\pi(n)$, vagy $p_k/k$ nagyjából $\\log k$."
      ]
    }
  ],
  "metadata": {
    "kernelspec": {
      "display_name": "python3.10",
      "language": "python",
      "name": "python3"
    },
    "language_info": {
      "codemirror_mode": {
        "name": "ipython",
        "version": 3
      },
      "file_extension": ".py",
      "mimetype": "text/x-python",
      "name": "python",
      "nbconvert_exporter": "python",
      "pygments_lexer": "ipython3",
      "version": "3.10.12"
    },
    "orig_nbformat": 4,
    "colab": {
      "provenance": []
    }
  },
  "nbformat": 4,
  "nbformat_minor": 0
}