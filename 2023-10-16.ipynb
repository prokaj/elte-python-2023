{
 "cells": [
  {
   "cell_type": "markdown",
   "metadata": {},
   "source": [
    "[![Open In Colab](https://colab.research.google.com/assets/colab-badge.svg)](https://colab.research.google.com/github/prokaj/elte-python-2023/blob/main/2023-10-16.ipynb)   "
   ]
  },
  {
   "cell_type": "markdown",
   "metadata": {},
   "source": [
    "Néhány import amit később használni fogunk:"
   ]
  },
  {
   "cell_type": "code",
   "execution_count": null,
   "metadata": {},
   "outputs": [],
   "source": [
    "import importlib\n",
    "import math\n",
    "\n",
    "if importlib.util.find_spec('ipytest') is None:\n",
    "    ! pip install --quiet ipytest\n",
    "\n",
    "import ipytest\n",
    "\n",
    "ipytest.autoconfig()"
   ]
  },
  {
   "cell_type": "markdown",
   "metadata": {},
   "source": [
    "# Házi feladat"
   ]
  },
  {
   "cell_type": "markdown",
   "metadata": {},
   "source": [
    "Írjunk egy függvényt, ami egy sorozatból kigyűjti a különböző elemeket és mindegyikhez feljegyzi hol fordulnak elő. Feltehető, hogy a sorozat elemei használhatóak kulcsként egy szótárban.\n",
    "\n",
    "Pl. Ha függvény neve `collect_positions`, akkor\n",
    "\n",
    "```python\n",
    "collect_positions(\"ababcda\")\n",
    "```\n",
    "\n",
    "hívás eredménye:\n",
    "\n",
    "```python\n",
    "{\"a\": [0, 2, 6], \"b\":[1, 3], \"c\": [4], \"d\": [5]}\n",
    "```\n",
    "\n",
    "A visszaadott szótárban az értékek legyenek nagyság szerinti sorba rendezve. \n",
    "Lássuk el a függvényt  docstring-gel (magyarul vagy angolul, ahogy kényelmesebb).\n",
    "\n",
    "Teszteljük a munkánkat az ipytest modullal, legalább az alábbi esetekre:\n",
    "\n",
    "- Az argumentum legalább 10 hosszú sztring.\n",
    "\n",
    "- Az argumentum sztringek legalább 10 hosszú listája.\n",
    "\n",
    "- Az argumentum map hivás eredménye, pl. ha az előző pontban használt lista lst, akkor map(str.upper, lst), vagy map(str.lower, lst)\n",
    "\n",
    "- A sorozat üres.\n",
    "\n",
    "- A sorozat elemei számok.\n",
    "\n",
    "A megoldásban jól jöhet az `enumerate` függvény. Ha nem muszáj, ne konvertáljuk a bemenő paramétert listává."
   ]
  },
  {
   "cell_type": "code",
   "execution_count": null,
   "metadata": {},
   "outputs": [],
   "source": [
    "def collect_positions(seq):\n",
    "    pos = {}\n",
    "    for i, item in enumerate(seq):\n",
    "        if item not in pos:\n",
    "            pos[item] = []\n",
    "        pos[item].append(i)\n",
    "    return pos"
   ]
  },
  {
   "cell_type": "code",
   "execution_count": null,
   "metadata": {},
   "outputs": [],
   "source": [
    "import collections\n",
    "\n",
    "def collect_positions(seq):\n",
    "    pos = collections.defaultdict(list)\n",
    "    for i, item in enumerate(seq):\n",
    "        pos[item].append(i)   \n",
    "    return dict(pos)"
   ]
  },
  {
   "cell_type": "code",
   "execution_count": null,
   "metadata": {},
   "outputs": [],
   "source": [
    "%%ipytest\n",
    "\n",
    "def test_positions_a():\n",
    "    \"10 hosszú sztring\"\n",
    "    seq = \"abracadabra\"\n",
    "    positions = {'a': [0, 3, 5, 7, 10], 'b': [1, 8], 'c': [4], 'd': [6], 'r': [2, 9]}\n",
    "    assert collect_positions(seq) == positions\n",
    "\n",
    "def test_positions_b():\n",
    "    \"sztringek legalább 10 hosszú listája\"\n",
    "    seq = list(\"abracadabra\")\n",
    "    positions = {'a': [0, 3, 5, 7, 10], 'b': [1, 8], 'c': [4], 'd': [6], 'r': [2, 9]}\n",
    "    assert collect_positions(seq) == positions\n",
    "\n",
    "def test_positions_c():\n",
    "    \"map objektum\"\n",
    "    seq = map(str.upper, \"abracadabra\")\n",
    "    positions = {'A': [0, 3, 5, 7, 10], 'B': [1, 8], 'C': [4], 'D': [6], 'R': [2, 9]}\n",
    "    assert collect_positions(seq) == positions\n",
    "\n",
    "\n",
    "def test_positions_d():\n",
    "    \"üres sorozat\"\n",
    "    assert collect_positions(\"\") == {}\n",
    "    assert collect_positions([]) == {}\n",
    "    assert collect_positions(map(int, \"\")) == {}\n",
    "    \n",
    "\n",
    "def test_positions_e():\n",
    "    \"számok sorozata\"\n",
    "    seq = [ord(x) for x in \"abracadabra\"]\n",
    "    positions = {ord('a'): [0, 3, 5, 7, 10], ord('b'): [1, 8], ord('c'): [4], ord('d'): [6], ord('r'): [2, 9]}\n",
    "    assert collect_positions(seq) == positions"
   ]
  },
  {
   "cell_type": "markdown",
   "metadata": {},
   "source": [
    "Lehet-e másképp?"
   ]
  },
  {
   "cell_type": "code",
   "execution_count": null,
   "metadata": {},
   "outputs": [],
   "source": [
    "\n",
    "def check_positions(positions, seq):\n",
    "    for key, key_positions in positions.items():\n",
    "        for pos in key_positions:\n",
    "            assert seq[pos] == key\n",
    "    assert sum(map(len, positions.values())) == len(seq)\n"
   ]
  },
  {
   "cell_type": "code",
   "execution_count": null,
   "metadata": {},
   "outputs": [],
   "source": [
    "%%ipytest\n",
    "\n",
    "texts = [\"abracadabra\", \n",
    "\"One foot in front of the other, \"\n",
    "\"One more step, and then one more. \"\n",
    "\"Jack's only thoughts were to keep moving \"\n",
    "\"no matter how much his body screamed to \"\n",
    "\"stop and rest. He's lost almost all his \"\n",
    "\"energy and his entire body ached beyond \"\n",
    "\"belief, but he forced himself to take \"\n",
    "\"another step. Then another. And then one more.\"]\n",
    "\n",
    "def test_positions_a():\n",
    "    \"10 hosszú sztring\"\n",
    "    for seq in texts:\n",
    "        check_positions(collect_positions(seq), seq)\n",
    "\n",
    "def test_positions_b():\n",
    "    \"sztringek legalább 10 hosszú listája\"\n",
    "    for seq in texts:\n",
    "        seq = seq.split()\n",
    "        check_positions(collect_positions(seq), seq)\n",
    "\n",
    "def test_positions_c():\n",
    "    \"map objektum\"\n",
    "    for seq in texts:\n",
    "        seq = seq.split()\n",
    "        seq_orig = map(str.upper, seq)\n",
    "        seq_copy = list(map(str.upper, seq))\n",
    "        check_positions(collect_positions(seq_orig), seq_copy)\n",
    "\n",
    "def test_positions_d():\n",
    "    \"üres sorozat\"\n",
    "    assert collect_positions(\"\") == {}\n",
    "    assert collect_positions([]) == {}\n",
    "    assert collect_positions(map(int, \"\")) == {}\n",
    "    \n",
    "def test_positions_e():\n",
    "    \"számok sorozata\"\n",
    "    for seq in texts:\n",
    "        seq = seq.split()\n",
    "        seq = [len(x) for x in seq]\n",
    "        check_positions(collect_positions(seq), seq)"
   ]
  },
  {
   "cell_type": "code",
   "execution_count": null,
   "metadata": {},
   "outputs": [],
   "source": [
    "(\n",
    "    f\"{test_positions_a.__name__} \"\n",
    "    f\"{test_positions_b.__name__} \"\n",
    ")"
   ]
  },
  {
   "cell_type": "code",
   "execution_count": null,
   "metadata": {},
   "outputs": [],
   "source": [
    "texts"
   ]
  },
  {
   "cell_type": "markdown",
   "metadata": {},
   "source": [
    "# Rendezett $n$-es (`tuple`), szótár (`dict`),  halmaz (`set`)"
   ]
  },
  {
   "cell_type": "markdown",
   "metadata": {},
   "source": [
    "## Rendezett $n$-es (`tuple`)"
   ]
  },
  {
   "cell_type": "code",
   "execution_count": null,
   "metadata": {},
   "outputs": [],
   "source": [
    "print(tuple.__doc__)"
   ]
  },
  {
   "cell_type": "markdown",
   "metadata": {},
   "source": [
    "Legfontosabb metódus:\n",
    "\n",
    "- összeadás (concatenation)\n",
    "\n",
    "indexelés ugyanolyan mint listánál.\n",
    "\n",
    "Ha egy függvény több értéket add vissza, akkor valójában tuple-t kapunk.\n"
   ]
  },
  {
   "cell_type": "markdown",
   "metadata": {},
   "source": [
    "A metódusok teljes listája:"
   ]
  },
  {
   "cell_type": "code",
   "execution_count": null,
   "metadata": {},
   "outputs": [],
   "source": [
    "[method for method in dir(tuple) if not method.startswith(\"__\")]"
   ]
  },
  {
   "cell_type": "markdown",
   "metadata": {},
   "source": [
    "Összehasonlításképpen a `list` típus metódusainak a listája:"
   ]
  },
  {
   "cell_type": "code",
   "execution_count": null,
   "metadata": {},
   "outputs": [],
   "source": [
    "[method for method in dir(list) if not method.startswith(\"__\")]"
   ]
  },
  {
   "cell_type": "markdown",
   "metadata": {},
   "source": [
    "### Tuple létrehozása, módosítása:"
   ]
  },
  {
   "cell_type": "code",
   "execution_count": null,
   "metadata": {},
   "outputs": [],
   "source": [
    "code = \"\"\"\n",
    "tuple()\n",
    "()\n",
    "(1, 2, 3)\n",
    "1, 2, 3\n",
    "1,\n",
    "(1)\n",
    "(1,)\n",
    "tuple(range(10))\n",
    "tuple(\"karakterlánc\")\n",
    "(1, ) + (1, 2, 3)\n",
    "(1, )*5\n",
    "\"\"\"\n",
    "\n",
    "for line in code.split(\"\\n\"):\n",
    "    if line.strip():\n",
    "        result = eval(line)\n",
    "        result_type = type(result).__name__\n",
    "        print(f\"{line:>30} -> ({result_type:>5}): {result}\")"
   ]
  },
  {
   "cell_type": "markdown",
   "metadata": {},
   "source": [
    "### Szótár, dictionary (`dict`)"
   ]
  },
  {
   "cell_type": "code",
   "execution_count": null,
   "metadata": {},
   "outputs": [],
   "source": [
    "print(dict.__doc__)"
   ]
  },
  {
   "cell_type": "markdown",
   "metadata": {},
   "source": [
    "Legfontosabb metódusok:\n",
    "\n",
    "- `get`. pl. `d.get(key, default)` lényegében ugyanaz, mint\n",
    "```python\n",
    "        if key in d:\n",
    "            return d[key]\n",
    "        else:\n",
    "            return default\n",
    "```\n",
    "\n",
    "- `pop`. pl. `d.pop(key, default)` lényegében ugyanaz, mint\n",
    "```python\n",
    "        if key in d:\n",
    "            value = d[key]\n",
    "            del d[\"key\"]\n",
    "            return value\n",
    "        else:\n",
    "            return default\n",
    "```\n",
    "\n",
    "- `values`, `items`.  `For` ciklusban, ha végig akarunk iterálni a dictionary értékein ill. kulcs, érték párjain.\n",
    "\n",
    "   Pl.\n",
    "```python\n",
    "        for key in d:\n",
    "            pass\n",
    "        for value in d.values():\n",
    "            pass\n",
    "        for key, value in d.items():\n",
    "            pass\n",
    "```\n",
    "   "
   ]
  },
  {
   "cell_type": "markdown",
   "metadata": {},
   "source": [
    "A metódusok teljes listája:"
   ]
  },
  {
   "cell_type": "code",
   "execution_count": null,
   "metadata": {},
   "outputs": [],
   "source": [
    "[method for method in dir(dict) if not method.startswith(\"__\")]\n"
   ]
  },
  {
   "cell_type": "code",
   "execution_count": null,
   "metadata": {},
   "outputs": [],
   "source": [
    "d = {\"a\": 1, \"b\": 2}\n",
    "print(f\"Ezt kapjuk, ha végig iterálunk d-n:        {list(d)}\")\n",
    "print(f\"Ezt kapjuk, ha végig iterálunk d értékein: {list(d.values())}\")\n",
    "print(f\"Ezt kapjuk, ha végig iterálunk d elemein:  {list(d.items())}\")"
   ]
  },
  {
   "cell_type": "markdown",
   "metadata": {},
   "source": [
    "Valami hasonló for ciklusban."
   ]
  },
  {
   "cell_type": "code",
   "execution_count": null,
   "metadata": {},
   "outputs": [],
   "source": [
    "print(\"iteráció d-n\")\n",
    "for x in d:\n",
    "    print(x)\n",
    "\n",
    "print(\"iteráció d értékein\")\n",
    "for x in d.values():\n",
    "    print(x)\n",
    "\n",
    "print(\"iteráció d elemein (items)\")\n",
    "for key, value in d.items():\n",
    "    print(key, value)"
   ]
  },
  {
   "cell_type": "markdown",
   "metadata": {},
   "source": [
    "Egy dictionary-nak szinte tetszőlegesen bonyolult kulcsa és értéke lehet.\n",
    "\n",
    "Próbáljuk ki a következőket:\n",
    "\n",
    "  - A kulcs string, egész, lebegőpontos szám, függvény ilyenekből képzett tuple\n",
    "  - Az érték srting, szám, függvény, lista, tuple, dictionary\n",
    "  - Működik-e, ha a kulcs lista, vagy olyan tuple, aminek legalább az egyik eleme lista"
   ]
  },
  {
   "cell_type": "code",
   "execution_count": null,
   "metadata": {},
   "outputs": [],
   "source": [
    "def f(): pass\n",
    "a = 1\n",
    "b = 3.14\n",
    "c = \"szöveg teszteléshez\"\n",
    "\n",
    "d = {\n",
    "    a: a,\n",
    "    b: (a, b),\n",
    "    c: f,\n",
    "    (a,b): f(),\n",
    "    f: \"ez egy függvény kulcs\"\n",
    "    ## próbáljunk ki további variációk\n",
    "}\n",
    "\n",
    "d"
   ]
  },
  {
   "cell_type": "markdown",
   "metadata": {},
   "source": [
    "Tudunk-e a fentihez hasonlót a `dict` függvény segítségével létrehozni."
   ]
  },
  {
   "cell_type": "code",
   "execution_count": null,
   "metadata": {},
   "outputs": [],
   "source": [
    "dict(a=a, b=(a,b), c=f, f=\"ez egy függvény kulcs\")"
   ]
  },
  {
   "cell_type": "markdown",
   "metadata": {},
   "source": [
    "Legfeljebb úgy, ha kulcs érték párok sorozatát adjunk meg! De akkor már a fenti alak kényelmesebb!"
   ]
  },
  {
   "cell_type": "code",
   "execution_count": null,
   "metadata": {},
   "outputs": [],
   "source": [
    "dict(((a, a), (b, (a, b)), ((a,b), f), (f, \"ez egy függvény kulcs\")))"
   ]
  },
  {
   "cell_type": "markdown",
   "metadata": {},
   "source": [
    "### Halmaz `set`"
   ]
  },
  {
   "cell_type": "code",
   "execution_count": null,
   "metadata": {},
   "outputs": [],
   "source": [
    "print(set.__doc__)"
   ]
  },
  {
   "cell_type": "markdown",
   "metadata": {},
   "source": [
    "Legfontosabb műveletek:\n",
    "\n",
    "- új elem hozzáadása: `add`\n",
    "  pl.\n",
    "  ```python\n",
    "    s = {1, 2, 3}\n",
    "    s.add(3)\n",
    "  ```\n",
    "  `s` értéke nem változik, mert 3 már benne volt.\n",
    "\n",
    "- törlés: `discard`\n",
    "  pl.\n",
    "  ```python\n",
    "    s = {1, 2, 3}\n",
    "    s.discard(3)\n",
    "    s.discard(4)\n",
    "  ```\n",
    "\n",
    "- bővítés egy sorozat elemeivel: `update`\n",
    "\n",
    "  ```python\n",
    "    s = {1, 2, 3}\n",
    "    s.update([2, 4, 5])\n",
    "  ```\n",
    "\n",
    "- metszet, unió különbség, szimmetrikus differencia: `intersection`, `union`, `difference`, `symmetric_difference` és ezek `update` változata.\n",
    "\n",
    "\n",
    "Nem minden lehet egy halmaz eleme, csak olyan aminek az értéke futás közben nem változhat: szám, sztring, tuple. Pl dictionary, vagy list nem lehet halmaz eleme!\n"
   ]
  },
  {
   "cell_type": "markdown",
   "metadata": {},
   "source": [
    "A metódusok teljes listája:"
   ]
  },
  {
   "cell_type": "code",
   "execution_count": null,
   "metadata": {},
   "outputs": [],
   "source": [
    "[method for method in dir(set) if not method.startswith(\"__\")]"
   ]
  },
  {
   "cell_type": "markdown",
   "metadata": {},
   "source": [
    "# Feladatok előadásról"
   ]
  },
  {
   "cell_type": "markdown",
   "metadata": {},
   "source": [
    "## Fibonacci számok:\n"
   ]
  },
  {
   "cell_type": "markdown",
   "metadata": {},
   "source": [
    "$f_0=0$, $f_1=1$ és\n",
    "$$\n",
    "    f_{n} = f_{n-1} + f_{n-2},\\quad\\text{ha $n\\geq 2$} \n",
    "$$\n",
    "A sorozat első néhány tagja: \n",
    "```\n",
    "0, 1, 1, 2, 3, 5, 8, 13, 21, 34, 55, 89, ...\n",
    "```"
   ]
  },
  {
   "cell_type": "markdown",
   "metadata": {},
   "source": [
    "Implementáció előadásról"
   ]
  },
  {
   "cell_type": "code",
   "execution_count": null,
   "metadata": {},
   "outputs": [],
   "source": [
    "def fibonacci(n):\n",
    "    a, b = 1, 0\n",
    "    for _ in range(n):\n",
    "        a, b = a+b, a\n",
    "    return b"
   ]
  },
  {
   "cell_type": "code",
   "execution_count": null,
   "metadata": {},
   "outputs": [],
   "source": [
    "[fibonacci(i) for i in range(15)]"
   ]
  },
  {
   "cell_type": "markdown",
   "metadata": {},
   "source": [
    "## Fibonacci zárt alakban\n",
    "\n",
    "Ötlet. $f_{n} = f_{n-1}+f_{n-2}$ megoldását keressük $f_n=x^n$ alakban, alkalmas $x$-szel. Azaz oldjuk meg a\n",
    "$$\n",
    "    x^{n} = x^{n-1}+x^{n-2},\\quad n\\geq 2\n",
    "$$\n",
    "egyenletet. Az azonosan nulla sorozat nem érdekel minket. Ha $x\\neq0$, akkor átosztás és átrendezés után\n",
    "$$\n",
    "    x^2-x-1=0\\quad x_{1,2}=\\frac{1\\pm\\sqrt{(-1)^2-4\\cdot(-1)}}{2}=\\frac{1\\pm\\sqrt{5}}2\n",
    "$$\n",
    "Tetszőleges $c_1,c_2\\in\\mathbb{R}$ számokra\n",
    "$$\n",
    "    f_n=c_1 x_1^n +c_2x_2^n\n",
    "$$ \n",
    "kielégíti a Fibinacci sorozat rekurzióját. Ahhoz, hogy $f_0=0$, $f_1=1$ is teljesüljön,\n",
    "$$\n",
    "    f_0 = c_1+c_2 = 0,\\quad f_1=c_1x_1+c_2x_2=c_1(x_1-x_2)=1\n",
    "$$\n",
    "is kell. $x_1-x_2=\\sqrt{5}$, azaz $c_1=\\frac{\\sqrt{5}}{5}$ és $c_2=-\\frac{\\sqrt{5}}{5}$.\n",
    "\n",
    "A $f_0=0$, $f_1=1$ kezdeti értékekből induló sorozat $n$. tagja zárt alakban tehát:\n",
    "$$\n",
    "    f_0=0,\\quad\n",
    "    f_1=1,\\quad\n",
    "    f_n = \\frac{1}{\\sqrt{5}}\\left(\\left(\\frac{1+\\sqrt{5}}{2}\\right)^n- \\left(\\frac{1-\\sqrt{5}}{2}\\right)^n\\right)\n",
    "$$\n",
    "\n",
    "\n",
    "Előadás a sorozatot $f_0=1$, $f_1=1$-ből indítottuk. Ez csak az index eltolását jelenti, ha ugyanis $f_0=0$, $f_1=1$, akkor $f_2=1$ és megkapjuk az elődáson szereplő értékeket az eggyel nagyobb indexű helyen.\n",
    "\n",
    "Előadás változatra a zárt alak:\n",
    "$$\n",
    "    f_0=1,\\quad\n",
    "    f_1=1,\\quad\n",
    "    f_n = \\frac{1}{\\sqrt{5}}\\left(\\left(\\frac{1+\\sqrt{5}}{2}\\right)^{n+1}- \\left(\\frac{1-\\sqrt{5}}{2}\\right)^{n+1}\\right)\n",
    "$$\n",
    "\n",
    "**Próbáljuk ki, hogy működik-e?**\n",
    "\n",
    "Egészítsük ki a következő függvény definíciót!"
   ]
  },
  {
   "cell_type": "code",
   "execution_count": null,
   "metadata": {},
   "outputs": [],
   "source": [
    "import math\n",
    "\n",
    "sqrt5 = math.sqrt(5)\n",
    "\n",
    "def fibonacci_super_fast(n):\n",
    "    pass"
   ]
  },
  {
   "cell_type": "code",
   "execution_count": null,
   "metadata": {},
   "outputs": [],
   "source": [
    "%%ipytest\n",
    "\n",
    "def test_fibonacci():\n",
    "    assert fibonacci(0) == 0\n",
    "    assert fibonacci(1) == 1\n",
    "    assert fibonacci(2) == 1\n",
    "    assert fibonacci(3) == 2\n",
    "    assert fibonacci(4) == 3\n",
    "    assert fibonacci(5) == 5\n",
    "    \n",
    "    \n",
    "def test_super_fibonacci_fast():\n",
    "    for n in range(100):\n",
    "        assert fibonacci(n) == fibonacci_super_fast(n)"
   ]
  },
  {
   "cell_type": "markdown",
   "metadata": {},
   "source": [
    "Mi okozza a hibát? Meg lehet oldani?\n",
    "\n",
    "Ötletek:\n",
    "\n",
    "1. $a+b\\sqrt{5}$ alakú számokkal dolgozunk, ahol $a$, $b$ racionális. A python képes kezelni racionális számokat.\n",
    "   \n",
    "   A `Fraction` típus szolgál erre. \n",
    "   Erre építve definálhatunk egy osztályt, ami a $\\mathbb(Q)(\\sqrt{5})=\\left\\{a+b\\sqrt{5}\\colon a,b\\in\\mathbb{Q}\\right\\}$ testet implementálja: Összeadás, kivonás, szorzás, osztás, hatványozás és akkor a kerekítési hibáktól megszabadulunk. (potenciális későbbi HF.)\n",
    "\n",
    "2. Újra gondoljuk a zárt alakot.\n",
    "   \n",
    "   Ha $v_n=(f_{n+1},f_n)^T$, akkor $n>0$-re\n",
    "   $$\n",
    "      v_n = \\begin{pmatrix}f_{n+1}\\\\f_{n}\\end{pmatrix} = \n",
    "      \\underbrace{\\begin{pmatrix}1 & 1\\\\ 1 & 0\\end{pmatrix}}_{=A}\\begin{pmatrix}f_{n}\\\\f_{n-1}\\end{pmatrix} = A v_{n-1}\n",
    "   $$\n",
    "   Itt $v_0=(1,0)^T$ és iterálva az összefüggést:\n",
    "   $$\n",
    "      v_n=Av_{n-1}=A(A v_{n-2})=\\cdots= A^n v_0\n",
    "   $$\n",
    "   Az $A$ mátrix elemei egészek, $A^n$ is ilyen, azaz elég az (egész értékű) $A$ mátrix $n$. hatványát kiszámolni.\n",
    "   $$\n",
    "      f_n = (0, 1) A^n v_0\n",
    "   $$\n",
    "\n",
    "   Ha $n = \\sum_{i} r_i 2^i$, ahol $r_i\\in\\{0,1\\}$ a diakikus jegyek sorozata, akkor\n",
    "   $$\n",
    "      A^n = \\prod_{i: r_i=1} A^{2^i}\n",
    "   $$ \n",
    "\n",
    "   Írjunk egy függvényt, ami $2\\times 2$ mátrixok szorzatát számolja ki! Ennek segítségével implementáljuk a mátrix hatványozást!\n",
    "\n",
    "   Mátrixokat kényelmesen ábrázolhatunk listákkal, pl. `A = [A_11, A_12, A_21, A_22]`. Ráadásul a mi esetünkben, a mátrix szimmetrikus, az hatványozásnál megmarad, akár ezt is kihasználhatjuk.\n",
    "\n",
    "\n",
    "#### Mi köze a két zárt alaknak egymáshoz?\n",
    "\n",
    "Otthon gondolkodjunk rajta!"
   ]
  },
  {
   "cell_type": "code",
   "execution_count": null,
   "metadata": {},
   "outputs": [],
   "source": [
    "\n",
    "def mat_mul(A, B):\n",
    "    \"\"\"\n",
    "    product of self-adjoint 2x2 matrices\n",
    "    given in the following format\n",
    "    A = [A_11, A_12, A_22]\n",
    "    \n",
    "    The return value has the same format!\n",
    "    \"\"\"\n",
    "    return [A[0]*B[0]+A[1]*B[1], A[0]*B[1]+A[1]*B[2], A[1]*B[1]+A[2]*B[2]]\n",
    "\n",
    "def mat_pow(A, n):\n",
    "    n, r = divmod(n, 2)\n",
    "    B =  A if r==1 else [1, 0, 1]## identity matrix \n",
    "    while n>0:\n",
    "        A = mat_mul(A, A)\n",
    "        n, r = divmod(n, 2)\n",
    "        if r==1:\n",
    "            B = mat_mul(B, A)\n",
    "    return B\n",
    "    \n",
    "\n",
    "def mat_str(A):\n",
    "    a = [str(ai) for ai in A]\n",
    "    max_width = max(len(ai) for ai in a)\n",
    "    format_str = f\">{max_width}\"\n",
    "    return  f\"\\n⎡{a[0]:{format_str}} {a[1]:{format_str}}⎤\\n⎣{a[1]:{format_str}} {a[2]:{format_str}}⎦\"\n"
   ]
  },
  {
   "cell_type": "code",
   "execution_count": null,
   "metadata": {},
   "outputs": [],
   "source": [
    "A = [1,1,0]\n",
    "print(f\"A=\\n{mat_str([1,1,0])}\\n---\")\n",
    "\n",
    "B = mat_mul(A, A)\n",
    "exponent=2\n",
    "print(f\"A^{exponent}=\\n{mat_str(B)}\\n---\")\n",
    "\n",
    "for _ in range(5):\n",
    "    B = mat_mul(B, B)\n",
    "    exponent *= 2\n",
    "    print(f\"A^{exponent}=\\n{mat_str(B)}\\n---\")\n"
   ]
  },
  {
   "cell_type": "code",
   "execution_count": null,
   "metadata": {},
   "outputs": [],
   "source": [
    "%%ipytest\n",
    "\n",
    "def test_mat_exp():\n",
    "    A = [1,1,1]\n",
    "    assert mat_pow(A, 0) == [1, 0, 1]\n",
    "    assert mat_pow(A, 1) == A\n",
    "    B = A\n",
    "    for k in range(2, 10):\n",
    "        B = mat_mul(B, A)\n",
    "        assert mat_pow(A, k) == B"
   ]
  },
  {
   "cell_type": "code",
   "execution_count": null,
   "metadata": {},
   "outputs": [],
   "source": [
    "def fibonacci_fast(n):\n",
    "    A = [1, 1, 0]\n",
    "    B = mat_pow(A, n)\n",
    "    # B = A**n\n",
    "    # (0, 1) B (1, 0)^T = B_21\n",
    "    return B[1]"
   ]
  },
  {
   "cell_type": "code",
   "execution_count": null,
   "metadata": {},
   "outputs": [],
   "source": [
    "%%ipytest\n",
    "\n",
    "def test_fibonacci_fast():\n",
    "    for n in range(100):\n",
    "        assert fibonacci(n) == fibonacci_fast(n)\n"
   ]
  },
  {
   "cell_type": "markdown",
   "metadata": {},
   "source": [
    "Melyik változat a gyorsabb?"
   ]
  },
  {
   "cell_type": "code",
   "execution_count": null,
   "metadata": {},
   "outputs": [],
   "source": [
    "for n in [10, 100, 1000, 10_000]:\n",
    "    for f in [fibonacci, fibonacci_fast]:\n",
    "        txt = f\"{f.__name__}({n}):\"\n",
    "        print(f\"{txt:>25}\", end=\" \")\n",
    "        %timeit f(n)\n",
    "\n"
   ]
  },
  {
   "cell_type": "markdown",
   "metadata": {},
   "source": [
    "### Mátrix class\n"
   ]
  },
  {
   "cell_type": "markdown",
   "metadata": {},
   "source": [
    "\n",
    "Néhány műveletet defináltunk 2x2 szimmetrikus mátrixokra. Ezt elegánsabban is megtehetjük. \n",
    "\n",
    "Amikor azt írjuk  `python`-ban, hogy\n",
    "```\n",
    "b*c\n",
    "```\n",
    "Az értelmező csak annyit tud, hogy szorzás műveletet kell végrehajtani. \n",
    "\n",
    "Honnan derül ki, hogy \n",
    "- ez az egész számok szorzása ha `b` és `c` egész, \n",
    "- lebegőpontos szorzás, ha legalább az egyik lebegő pontos szám\n",
    "- `c`-szer egymás után fűzése a `b`-nek, ha `c` egész és `b` sorozat (`list`, `tuple`, `str`)\n",
    "\n",
    "Ha az adott típusra értelmes a szorzás, akkor annak a szorzás műveletét hajta végre az python interpreter, különben hibát dob!"
   ]
  },
  {
   "cell_type": "code",
   "execution_count": null,
   "metadata": {},
   "outputs": [],
   "source": [
    "a = {1: 2}\n",
    "a*2"
   ]
  },
  {
   "cell_type": "markdown",
   "metadata": {},
   "source": [
    "Előadáson láttuk, hogy saját típust (osztályt) létrehozhatunk.\n",
    "\n",
    "Hogyan adhatjuk meg, hogy mit jelent az összeadás, szorzás, `<`, stb. az adott típusra?\n",
    "\n",
    "Erre szolgálnak a ,,dunder'' metódusok:\n",
    "- `__add__` összeadás\n",
    "- `__mul__` szorzás\n",
    "- `__pow__` hatványozás\n",
    "- `__truediv__` osztás (`/`)\n",
    "- `__floordiv__` egészosztás (`//`)\n",
    "- `__mod__` maradék (`%`)\n",
    "stb.\n",
    "\n",
    "Hasonló az előadáson látottakhoz:\n",
    "- `__str__` az `str` függvény ezt keresi, ennek az eredményét kapjuk amikor ki`print`elünk valamit.\n",
    "- `__repr__` a  `repr` függvény ezt keresi, ennek az eredménye a cella utolsó értéke."
   ]
  },
  {
   "cell_type": "code",
   "execution_count": null,
   "metadata": {},
   "outputs": [],
   "source": [
    "s = \"alma\"\n",
    "print(\"`s` értéke printtel:\")\n",
    "print(s)\n",
    "print(\"`s` értéke ha a cella utolsó kifejezése:\")\n",
    "s"
   ]
  },
  {
   "cell_type": "markdown",
   "metadata": {},
   "source": [
    "Vegyük észre, hogy a `print(s)`-nél nincs szimpla aposztróf, míg a másik esetben igen. "
   ]
  },
  {
   "cell_type": "code",
   "execution_count": null,
   "metadata": {},
   "outputs": [],
   "source": [
    "s = \"alma\"\n",
    "print(f\"{str(s)=}, {repr(s)=}\")\n",
    "print(s.__str__(), s.__repr__())"
   ]
  },
  {
   "cell_type": "markdown",
   "metadata": {},
   "source": [
    "Az általános elv az, hogy \n",
    "- `__str__` eredménye egy ,,emberi'' fogyasztásra szánt szöveges alak, \n",
    "- `__repr__` eredménye egy olyan sztring, amit kiértékelve visszakapjuk az eredeti objektumot"
   ]
  },
  {
   "cell_type": "code",
   "execution_count": null,
   "metadata": {},
   "outputs": [],
   "source": [
    "s = \"alma\"\n",
    "alma = 1\n",
    "s0 = eval(repr(s))\n",
    "s1 = eval(str(s))\n",
    "s0, s1"
   ]
  },
  {
   "cell_type": "code",
   "execution_count": null,
   "metadata": {},
   "outputs": [],
   "source": [
    "class SymmetricMatrix:\n",
    "    \"\"\"Symmetric 2x2 matrix\"\"\"\n",
    "    \n",
    "    def __init__(self, values):\n",
    "        self.values = list(values)\n",
    "    \n",
    "    def __mul__(self, other):\n",
    "        A = self.values\n",
    "        B = other.values \n",
    "        result = [A[0]*B[0]+A[1]*B[1], A[0]*B[1]+A[1]*B[2], A[1]*B[1]+A[2]*B[2]]\n",
    "        return type(self)(result)\n",
    "\n",
    "    def __add__(self, other):\n",
    "        return type(self)(ai+bi for ai, bi in zip(self.values, other.values))\n",
    "    \n",
    "    def __pow__(self, n):\n",
    "        n, r = divmod(n, 2)\n",
    "        B = self if r==1 else type(self)([1, 0, 1]) ## identity matrix\n",
    "        A = self \n",
    "        while n>0:\n",
    "            A = A * A\n",
    "            n, r = divmod(n, 2)\n",
    "            if r==1:\n",
    "                B = B * A\n",
    "        return B\n",
    "\n",
    "    def __repr__(self):\n",
    "        return f\"{type(self).__name__}({self.values})\"\n",
    "\n",
    "    def __str__(self):\n",
    "        a = [str(ai) for ai in self.values]\n",
    "        max_width = max(len(ai) for ai in a)\n",
    "        format_str = f\">{max_width}\"\n",
    "        return  f\"\\n⎡{a[0]:{format_str}} {a[1]:{format_str}}⎤\\n⎣{a[1]:{format_str}} {a[2]:{format_str}}⎦\"\n"
   ]
  },
  {
   "cell_type": "code",
   "execution_count": null,
   "metadata": {},
   "outputs": [],
   "source": [
    "A = SymmetricMatrix([1,1,0])\n",
    "print(f\"{A=}\")\n",
    "print(f\"{A=!s}\")"
   ]
  },
  {
   "cell_type": "code",
   "execution_count": null,
   "metadata": {},
   "outputs": [],
   "source": [
    "def fibonacci_fast2(n):\n",
    "    B = SymmetricMatrix([1, 1, 0])**n\n",
    "    # B = A**n\n",
    "    # (0, 1) B (1, 0)^T = B_21\n",
    "    return B.values[1]\n",
    "    "
   ]
  },
  {
   "cell_type": "code",
   "execution_count": null,
   "metadata": {},
   "outputs": [],
   "source": [
    "%%ipytest\n",
    "\n",
    "def test_fibonacci_fast():\n",
    "    for n in range(100):\n",
    "        assert fibonacci(n) == fibonacci_fast2(n)\n"
   ]
  },
  {
   "cell_type": "code",
   "execution_count": null,
   "metadata": {},
   "outputs": [],
   "source": [
    "for n in [100, 1000]:\n",
    "    for f in [fibonacci, fibonacci_fast, fibonacci_fast2]:\n",
    "        txt = f\"{f.__name__}({n}):\"\n",
    "        print(f\"{txt:>25}\", end=\" \")\n",
    "        %timeit f(n)\n"
   ]
  },
  {
   "cell_type": "markdown",
   "metadata": {},
   "source": [
    "Az eleganciának ára van. Lehetne optimalizálni a hatványozást úgy, \n",
    "hogy csak a végén hozzuk létre a SymmetricMatrix típust."
   ]
  },
  {
   "cell_type": "markdown",
   "metadata": {},
   "source": [
    "### Hatványozás ügyesebben"
   ]
  },
  {
   "cell_type": "markdown",
   "metadata": {},
   "source": [
    "A Fibonacci számokhoz nem kell a mátrix hatványozás általános alakja $2\\times2$ mátrixokra. Igazából csak\n",
    "az\n",
    "$$\n",
    "    A = \\begin{pmatrix}\n",
    "    1 & 1 \\\\ 1 & 0\n",
    "    \\end{pmatrix}\n",
    "$$\n",
    "mátrix hatványait szeretnénk számolni!\n",
    "\n",
    "Az első néhány hatvány:"
   ]
  },
  {
   "cell_type": "code",
   "execution_count": null,
   "metadata": {},
   "outputs": [],
   "source": [
    "A = SymmetricMatrix([1,1,0])\n",
    "for i in range(5):\n",
    "    print(f\"A^{i}={A**i!s}\\n===\")\n",
    "    "
   ]
  },
  {
   "cell_type": "markdown",
   "metadata": {},
   "source": [
    "Azaz \n",
    "$$\n",
    "A^2=A+I, \\quad A^3 =2A+I\\quad A^4 = 3A + 2\n",
    "$$\n",
    "és teljes indukcióval\n",
    "$$\n",
    "    A^n = f_n A + f_{n-1}I\n",
    "$$\n",
    "Azaz:\n",
    "$$\n",
    "\\begin{aligned}\n",
    "    A^{n + m} \n",
    "    & = f_{n+m}A+f_{n+m-1} = A^nA^m \\\\\n",
    "    & =(f_nA+f_{n-1}I)(f_mA+f_{m-1}I) \\\\\n",
    "    & = f_nf_m A^2 +(f_nf_{m-1} +f_mf_{n-1}) A + f_{n-1}f_{m-1} I\\\\ \n",
    "    & = f_nf_m (A+I) +(f_nf_{m-1} +f_mf_{n-1}) A + f_{n-1}f_{m-1} I\\\\\n",
    "    & = (f_nf_m + f_nf_{m-1} +f_mf_{n-1}) A + (f_nf_m+ f_{n-1}f_{m-1}) I\n",
    "\\end{aligned} \n",
    "$$"
   ]
  },
  {
   "cell_type": "code",
   "execution_count": null,
   "metadata": {},
   "outputs": [],
   "source": [
    "\n",
    "def fib_mul(a, b, c, d):\n",
    "    ac = a*c\n",
    "    return ac+a*d+b*c, ac+b*d\n",
    "\n",
    "def fib_square(a, b):\n",
    "    a2 = a*a\n",
    "    return a2+2*a*b, a2+b*b\n",
    "\n",
    "class Fib:\n",
    "    def __init__(self, a=0, b=0):\n",
    "        self.coeff = [a, b]\n",
    "\n",
    "\n",
    "    def __mul__(self, other):\n",
    "        return type(self)(*fib_mul(*self.coeff, *other.coeff))\n",
    "\n",
    "    def __add__(self, other):\n",
    "        a, b = self.coeff\n",
    "        c, d = other.coeff\n",
    "        return type(self)(a+c, b+d)\n",
    "    \n",
    "    def __pow__(self, n):\n",
    "        a, b = self.coeff\n",
    "        c, d = 0, 1\n",
    "        while n > 0:\n",
    "            if n&1:\n",
    "                ac = a*c\n",
    "                c, d = ac+a*d+b*c, ac+b*d\n",
    "            a2 = a*a\n",
    "            a, b = a2+2*a*b, a2+b*b\n",
    "            n >>= 1\n",
    "        return type(self)(c, d) \n",
    "    \n",
    "    def __str__(self):\n",
    "        a, b = self.coeff\n",
    "        return f\"{a}*A + {b}*I\"\n",
    "    \n",
    "    def __repr__(self):\n",
    "        return f\"{type(self).__name__}({', '.join(map(str, self.coeff))})\""
   ]
  },
  {
   "cell_type": "code",
   "execution_count": null,
   "metadata": {},
   "outputs": [],
   "source": [
    "def fibonacci_fast3(n):\n",
    "    return (Fib(1, 0)**n).coeff[0]\n"
   ]
  },
  {
   "cell_type": "code",
   "execution_count": null,
   "metadata": {},
   "outputs": [],
   "source": [
    "{i:fibonacci_fast3(i) for i in range(15)}"
   ]
  },
  {
   "cell_type": "code",
   "execution_count": null,
   "metadata": {},
   "outputs": [],
   "source": [
    "for n in [100, 1000]:\n",
    "    for f in [fibonacci_fast, fibonacci_fast2, fibonacci_fast3]:\n",
    "        txt = f\"{f.__name__}({n}):\"\n",
    "        print(f\"{txt:>25}\", end=\" \")\n",
    "        %timeit f(n)\n"
   ]
  },
  {
   "cell_type": "markdown",
   "metadata": {},
   "source": [
    "### Tanulság."
   ]
  },
  {
   "cell_type": "markdown",
   "metadata": {},
   "source": [
    "### Kódolás.\n"
   ]
  },
  {
   "cell_type": "markdown",
   "metadata": {},
   "source": [
    "Ha meg akarunk oldani egy feladatot, bontsuk kisebb részekre. A részfeladatok megoldásaiból rakjuk össze az eredeti feladat megoldását.\n",
    "\n",
    "Ezt **dinamikus programozás**nak hívják. \n",
    "\n",
    "A Fibonacci sorozatnál a kézenfekvő felbontást a definíció adja. \n",
    "Ez vezet a rekurzív megoldásra. \n",
    "```python\n",
    "def fib(n):\n",
    "    if n < 2:\n",
    "        return n\n",
    "    else:\n",
    "        return fib(n-1)+fib(n-2)\n",
    "```\n",
    "\n",
    "Itt ugyanazt a részfeladatot sokszor kell újra és újra kiszámolni, ezért ebben a formában nem szerencsés használni.\n",
    "\n",
    "Javítási lehetőségek:\n",
    "\n",
    "- Memorizálás. Ez sok dinamikus programozásra vezető feladatban használható. Eltároljuk a kiszámolt értékeket és ha már egyszer kiszámoltuk az használjuk.\n",
    "  ```python\n",
    "  memo = {}\n",
    "  def f(x):\n",
    "    if x not in memo:\n",
    "        ## compute f(x)\n",
    "        value = ...\n",
    "        memo[x] = value\n",
    "    return memo[x]\n",
    "  ```\n",
    "  Ahhoz, hogy ilyen formában használhassuk az szükséges hogy `f` paramétere kulcs lehessen a `dict` típusban!\n",
    "\n",
    "- Olyan sorrendben megyünk végig a részfeladatokon, hogy a szükséges részeredmény rendelkezésre álljon:\n",
    "  \n",
    "  ```python\n",
    "  def f(n):\n",
    "    dp = [0]*(n+1)\n",
    "    ## első néhány elem inicializálása\n",
    "    for i in range(n+1):\n",
    "        dp[i] = ... # számolás a már meglévő értékeke alapján\n",
    "    return dp[-1]\n",
    "  ```  \n",
    "\n",
    "  Például a Fibonacci-ra:\n",
    "  ```python\n",
    "  def fib(n):\n",
    "    dp = [0]*(n+1)\n",
    "    ## első néhány elem inicializálása\n",
    "    dp[1] = 1\n",
    "    for i in range(2, n+1):\n",
    "        dp[i] = dp[i-1] + dp[i-2] # számolás a már meglévő értékeke alapján\n",
    "    return dp[-1]\n",
    "  ```\n",
    "Optimalizáslás: csak `dp` utolsó két eleme kell. Ez vezet az előadáson látott függvényre."
   ]
  },
  {
   "cell_type": "markdown",
   "metadata": {},
   "source": [
    "## Matek"
   ]
  },
  {
   "cell_type": "markdown",
   "metadata": {},
   "source": [
    "Egy lineáris rekurzió:\n",
    "$$\n",
    "    a_n =\\sum_{i=1}^ r b_i a_{n-i}, \\quad n\\geq r\n",
    "$$\n",
    "megoldása mátrix szorzással is leírható.\n",
    "$$\n",
    "    v_n = (a_n, a_{n-1},\\dots,a_{n-r+1})^T\\quad v_{n+1} = A v_n\n",
    "$$\n",
    "ahol\n",
    "$$\n",
    "    A = \\begin{pmatrix}\n",
    "    b_1& b_2 &b_3 & \\dots &b_r\\\\\n",
    "    1 & 0 & 0 & \\dots& 0\\\\\n",
    "    0 & 1 & 0 & \\dots& 0\\\\\n",
    "    0 & 0 & 1 & \\dots& 0\\\\\n",
    "    \\vdots&&&&\\vdots\\\\\n",
    "    0 & 0& 0& \\dots& 1\n",
    "    \n",
    "    \\end{pmatrix}\n",
    "$$\n",
    "Így a sorozat $n$-eleme: $a_n= v_{n,1} = (1,0, \\dots 0)\\cdot v_n = (1,0,\\dots,0)\\cdot A^{n-r} v_r$\n",
    "\n",
    "Egy $r\\times r$ mátrix hatványai vektorok az $\\mathbb{R}^{r\\times r}$ véges dimenziós térben.\n",
    "$$\n",
    "    I, A, \\dots, A^{r^2}\n",
    "$$\n",
    "nem lehet lineárisan független, azaz létezik legfeljebb $r^2$ fokú 1 főegyütthatós polinom $p$, amire\n",
    "$$\n",
    "    p(A) = 0,\\quad\\Rightarrow\\quad A^{r^2} = \\sum_{i=0}^{r^2-1} c_i A^i\n",
    "$$\n",
    "Ha $A$ Fibonacci számok kapcsán előjött $2\\times 2$ mátrix, akkor másodfokú ($r=2$) polinomot is találtunk.\n",
    "\n",
    "Általában is igaz, ha $A$ $r\\times r$ mátrix, akkor\n",
    "$$\n",
    "    A^r = \\sum_{i=0}^{r-1} c_i A^i\n",
    "$$\n",
    "Lineáris algebrában úgy fog szerepelni, hogy $A$ kielégíti a **karakterisztikus** polinomját!\n",
    "Ebből az is látszik majd, hogy ha $A$ elemei egészek akkor a $c_i$ együtthatók is egészek.\n",
    "\n",
    "Mátrixok hasonlósági transzformációval ($UAU^{-1}$) egyszerűbb alakra hozhatóak.\n",
    "$$\n",
    "    A^n = U^{-1}(UAU^{-1})^n U\n",
    "$$\n",
    "pl. \n",
    "$$\n",
    "    A = \n",
    "    \\begin{pmatrix}\n",
    "    1 & 1 \\\\ 1 & 0\n",
    "    \\end{pmatrix},\n",
    "    \\qquad\n",
    "    u = \n",
    "    \\begin{pmatrix}\n",
    "    \\frac{1+\\sqrt{5}}{2}\\\\ 1\n",
    "    \\end{pmatrix},\n",
    "    \\qquad\n",
    "    v = \n",
    "    \\begin{pmatrix}\n",
    "    \\frac{1-\\sqrt{5}}{2}\\\\ 1\n",
    "    \\end{pmatrix}\n",
    "$$\n",
    "esetén \n",
    "$$\n",
    "    Au = \n",
    "    \\begin{pmatrix}\n",
    "    \\frac{3+\\sqrt{5}}{2}\\\\ \\frac{1+\\sqrt{5}}{2}\n",
    "    \\end{pmatrix} = \n",
    "    \\begin{pmatrix}\n",
    "    \\left(\\frac{1+\\sqrt{5}}{2}\\right)^2\\\\ \\frac{1+\\sqrt{5}}{2}\n",
    "    \\end{pmatrix} = \n",
    "    \\frac{1+\\sqrt{5}}{2} u\n",
    "$$\n",
    "Hasonlóan $v$-re:\n",
    "$$\n",
    "    Av = \n",
    "    \\begin{pmatrix}\n",
    "    \\frac{3-\\sqrt{5}}{2}\\\\ \\frac{1-\\sqrt{5}}{2}\n",
    "    \\end{pmatrix} = \n",
    "    \\begin{pmatrix}\n",
    "    \\left(\\frac{1-\\sqrt{5}}{2}\\right)^2\\\\ \\frac{1-\\sqrt{5}}{2}\n",
    "    \\end{pmatrix} = \n",
    "    \\frac{1-\\sqrt{5}}{2} v\n",
    "$$\n",
    "Legyen $U$ az a mátrix, aminek oszlopai $\\frac{1}{\\|u\\|} u$ és $\\frac{1}{\\|v\\|}v$. $U^T$ jelöli a transzponált mátrixot.\n",
    "Ezzel a választással\n",
    "$$\n",
    "    U^T U = \n",
    "    \\begin{pmatrix}\n",
    "    \\frac{\\langle u, u\\rangle}{\\|u\\|^2} & \\frac{\\langle u, v\\rangle}{\\|u\\|\\|v\\|}\\\\\n",
    "    \\frac{\\langle v u\\rangle}{\\|u\\|\\|v\\|} & \\frac{\\langle v, v\\rangle}{\\|v\\|^2}\n",
    "    \\end{pmatrix}\n",
    "    =\n",
    "    \\begin{pmatrix}\n",
    "    1& 0\\\\\n",
    "    0 & 1\n",
    "    \\end{pmatrix}\n",
    "$$\n",
    "és\n",
    "$$\n",
    "    U A U^T = \\begin{pmatrix}\n",
    "    \\frac{1+\\sqrt{5}}{2}& 0\\\\\n",
    "    0 & \\frac{1-\\sqrt5}{2}\n",
    "    \\end{pmatrix}\n",
    "$$\n",
    "Azaz\n",
    "$$\n",
    "    A^n = U^T \\begin{pmatrix}\n",
    "    \\frac{1+\\sqrt{5}}{2}& 0\\\\\n",
    "    0 & \\frac{1-\\sqrt5}{2}\n",
    "    \\end{pmatrix}^n U\n",
    "$$\n",
    "Az $A$ mátrixot *diagonalizáltuk* és ennek segítségével számoltuk a hatványt! Ez vezet a zárt formulára!\n",
    "\n",
    "Lineáris algebrában az erre vonatkozó összefüggés a **Jordan felbontás**. "
   ]
  },
  {
   "cell_type": "markdown",
   "metadata": {},
   "source": [
    "## 2-sum"
   ]
  },
  {
   "cell_type": "markdown",
   "metadata": {},
   "source": [
    "Adott egy $n\\leq 10^5$ szám és egy $n$ hosszú $a$ lista, melynek elemeire $-10^{5} \\leq a_i \\leq 10^5$ teljesül.\n",
    "\n",
    "Keressünk olyan $1\\leq p<q\\leq n$ indexpárt, hogy $a[p] = −a[q]$, ha ilyen létezik.\n",
    "\n",
    "\n",
    "Például:\n",
    "```\n",
    "5\n",
    "5 4 -5 6 8\n",
    "```\n",
    "\n",
    "itt egy lehetséges válasz `(0, 2)`\n",
    "\n",
    "**Ötlet**: iteráljunk végig az indexpárokon és vizsgáljuk meg minden esetben, hogy teljesíti-e a feltételeket.\n",
    "\n",
    "Ezt a megoldási módszert, amiben potenciálisan minden lehetséges jelöltet kipróbálunk, **brute force**-alapú (nyers erő) megoldásnak nevezünk. A brute force megoldás mindig működik, a kérdés inkább az, hogy vajon nem tudunk-e ennél jobbat kitalálni."
   ]
  },
  {
   "cell_type": "code",
   "execution_count": null,
   "metadata": {},
   "outputs": [],
   "source": [
    "from itertools import combinations\n",
    "\n",
    "def solve_2_sum(seq):\n",
    "    for (i1, x1), (i2, x2) in combinations(enumerate(seq), 2):\n",
    "        if x1 == -x2:\n",
    "            return i1, i2\n",
    "                \n",
    "    return None\n"
   ]
  },
  {
   "cell_type": "code",
   "execution_count": null,
   "metadata": {},
   "outputs": [],
   "source": [
    "def format_ns(t):\n",
    "    for unit in ['ns', 'μs', 'ms']:\n",
    "        if t<1000:\n",
    "            return f\"{t:.2f} {unit}\"\n",
    "        t /= 1000\n",
    "    return f\"{t:.2f} s\""
   ]
  },
  {
   "cell_type": "code",
   "execution_count": null,
   "metadata": {},
   "outputs": [],
   "source": [
    "import random\n",
    "import time\n",
    "\n",
    "random.seed(2112)\n",
    "\n",
    "xss = [[random.randint(-10**5, 10**5) for _ in range(50_000)],\n",
    "       list(range(1,51)),\n",
    "       list(range(1,501)),\n",
    "       list(range(1,5_001))]\n",
    "\n",
    "for xs in xss:\n",
    "    t = time.perf_counter_ns()\n",
    "    res = solve_2_sum(xs)\n",
    "    print(f\"run time: {format_ns(time.perf_counter_ns() - t)}\")\n",
    "    print(f\"solution: {res}, check xs[res]={tuple(xs[i] for i in res) if res else res}\")\n",
    "\n"
   ]
  },
  {
   "cell_type": "markdown",
   "metadata": {},
   "source": [
    "A futási idő négyzetes a sorozat hosszában. Ha a bemenet 50_000 hosszúságú, akkor várhatóan\n",
    "$$\n",
    "    550*100~\\text{ms} = 55~000~\\text{ms} = 55~\\text{s} \n",
    "$$\n",
    "a futási idő"
   ]
  },
  {
   "cell_type": "markdown",
   "metadata": {},
   "source": [
    "Milyen típus lenne alkalmas a már látott értékek és legalább egy hozzájuk tartozó index tárolására?\n",
    "\n",
    "Egészítsük ki a következő függvényt"
   ]
  },
  {
   "cell_type": "code",
   "execution_count": null,
   "metadata": {},
   "outputs": [],
   "source": [
    "def solve_2_sum_better(seq):\n",
    "    \n",
    "    for i, x in enumerate(seq):\n",
    "        ## ha -x volt korábban return \n",
    "        pass\n",
    "    return None"
   ]
  },
  {
   "cell_type": "code",
   "execution_count": null,
   "metadata": {},
   "outputs": [],
   "source": [
    "random.seed(2112)\n",
    "\n",
    "xss = [\n",
    "       [random.randint(-10**5, 10**5) for _ in range(50_000)], \n",
    "       list(range(1,51)),list(range(1,501)),\n",
    "       list(range(1,5_001)),\n",
    "       list(range(1,50_001)),\n",
    "       [1]*50, [1]*500, [1]*5_000, [1]*50_000\n",
    "       ]\n",
    "       \n",
    "\n",
    "for xs in xss:\n",
    "    print(f\"---xs min={min(xs)}, max={max(xs)}, len(xs)={len(xs)}\")\n",
    "\n",
    "    t = time.perf_counter_ns()\n",
    "    res = solve_2_sum_better(xs)\n",
    "    print(f\"   run time: {format_ns(time.perf_counter_ns() - t)}\")\n",
    "    print(f\"   solution: {res}, check xs[res]={tuple(xs[i] for i in res) if res else res}\")\n",
    "    print(\"---\")"
   ]
  },
  {
   "cell_type": "markdown",
   "metadata": {},
   "source": [
    "# Egy gráfelméleti algoritmus"
   ]
  },
  {
   "cell_type": "markdown",
   "metadata": {},
   "source": [
    "## Feladat"
   ]
  },
  {
   "cell_type": "markdown",
   "metadata": {},
   "source": [
    "Adott egy `n` csúcsú irányítatlan gráf az élek listájával. A gráf csúcsait `0`-tól `n-1`-ig címkéztük meg, az éleket pedig a végpontokkal.\n",
    "\n",
    "Emellett adott egy kiindulási pont és egy végpont. Azt szeretnénk eldönteni, hogy el lehet-e jutni a kiindulási pontból a végpontba a gráf éleit használva.\n",
    "\n",
    "Gondolhatunk arra, hogy a gráf egy úthálózatot ír le és a kérdés az, hogy el tudunk-e jutni `A`-ból `B`-be."
   ]
  },
  {
   "cell_type": "markdown",
   "metadata": {},
   "source": [
    "Pl. `n = 3`, élek `edges = [[0,1], [1,2], [2,0]]`, `A =  0`, `B = 2`."
   ]
  },
  {
   "cell_type": "markdown",
   "metadata": {},
   "source": [
    "Gráfok megjelenítésére egy hasznos könyvtár a `graphviz`."
   ]
  },
  {
   "cell_type": "code",
   "execution_count": null,
   "metadata": {},
   "outputs": [],
   "source": [
    "import importlib\n",
    "if importlib.util.find_spec('graphviz') is None:\n",
    "    ! pip install graphviz\n",
    "import graphviz"
   ]
  },
  {
   "cell_type": "code",
   "execution_count": null,
   "metadata": {},
   "outputs": [],
   "source": [
    "edges = [[0,1], [1,2], [2,0]]\n",
    "g0 = graphviz.Graph()\n",
    "\n",
    "g0.edges([(str(a), str(b)) for a, b in edges])\n",
    "g0"
   ]
  },
  {
   "cell_type": "markdown",
   "metadata": {},
   "source": [
    "A gráf összefüggő, tetszőleges `A`, `B` esetén a válasz: `True`"
   ]
  },
  {
   "cell_type": "code",
   "execution_count": null,
   "metadata": {},
   "outputs": [],
   "source": [
    "n = 6\n",
    "edges = [[0,1],[0,2],[3,5],[5,4],[4,3]]\n",
    "A = 0\n",
    "B = 5\n",
    "\n",
    "g1 = graphviz.Graph()\n",
    "g1.edges([(str(a), str(b)) for a, b in edges])\n",
    "g1"
   ]
  },
  {
   "cell_type": "markdown",
   "metadata": {},
   "source": [
    "Nincs út 0 és 5 között. A válasz: `False`"
   ]
  },
  {
   "cell_type": "markdown",
   "metadata": {},
   "source": [
    "Összefüggőségi komponenseket szeretnénk számolni.\n",
    "\n"
   ]
  },
  {
   "cell_type": "markdown",
   "metadata": {},
   "source": [
    "## Ötlet.\n",
    "\n",
    "Az él nélküli gráfból indulunk ki. Itt egy elemű komponensek vannak.\n",
    "\n",
    "Minden komponensből válasszunk egy reprezentáns és minden $i$ pontra feljegyezzük, melyik komponensben van.\n",
    "\n",
    "\n"
   ]
  },
  {
   "cell_type": "code",
   "execution_count": null,
   "metadata": {},
   "outputs": [],
   "source": [
    "def show_graph(roots, direction = 'LR'):\n",
    "    g = graphviz.Digraph(graph_attr={'rankdir': direction})\n",
    "    g.edges((str(i), str(r)) for i, r in enumerate(roots))\n",
    "    return g"
   ]
  },
  {
   "cell_type": "code",
   "execution_count": null,
   "metadata": {},
   "outputs": [],
   "source": [
    "n = 5\n",
    "roots = [i for i in range(n)]\n",
    "display(show_graph(roots, 'TD'))"
   ]
  },
  {
   "cell_type": "markdown",
   "metadata": {},
   "source": [
    "ha behúzzuk a $(0, 1)$ élet, akkor $0$ és $1$ azonos komponensbe kerül. Választhatunk a két összeuniózott komponens reprezentánsa között, legyen pl. 1"
   ]
  },
  {
   "cell_type": "code",
   "execution_count": null,
   "metadata": {},
   "outputs": [],
   "source": [
    "roots[0] = 1\n",
    "display(show_graph(roots, 'TD'))"
   ]
  },
  {
   "cell_type": "markdown",
   "metadata": {},
   "source": [
    "Ha most a (0, 2) élet akarjuk behúzni, akkor nem állíthatjuk át `roots[0]`. Meg kell keresnünk `0` komponensének reprezentását, ez 1 és vagy `roots[1]`-et állítjuk 2 -re, vagy `roots[2]`-t 1-re."
   ]
  },
  {
   "cell_type": "code",
   "execution_count": null,
   "metadata": {},
   "outputs": [],
   "source": [
    "def find(roots, a):\n",
    "    while a != roots[a]:\n",
    "        a = roots[a]\n",
    "    return a"
   ]
  },
  {
   "cell_type": "code",
   "execution_count": null,
   "metadata": {},
   "outputs": [],
   "source": [
    "find(roots, 0), find(roots, 2)"
   ]
  },
  {
   "cell_type": "code",
   "execution_count": null,
   "metadata": {},
   "outputs": [],
   "source": [
    "def union(roots, a, b):\n",
    "    ra = find(roots, a)\n",
    "    rb = find(roots, b)\n",
    "    roots[ra] = rb"
   ]
  },
  {
   "cell_type": "code",
   "execution_count": null,
   "metadata": {},
   "outputs": [],
   "source": [
    "union(roots, 0, 2)\n",
    "print(f\"After union(0, 2) {roots=}\")\n",
    "display(show_graph(roots))\n",
    "\n",
    "union(roots, 3, 4)\n",
    "print(f\"After union(3, 4) {roots=}\")\n",
    "print(roots)\n",
    "display(show_graph(roots))\n",
    "\n",
    "union(roots, 3, 2)\n",
    "print(f\"After union(3, 2) {roots=}\")\n",
    "print(roots)\n",
    "display(show_graph(roots))"
   ]
  },
  {
   "cell_type": "markdown",
   "metadata": {},
   "source": [
    "Ezután az a kérdés, hogy el lehet-e jutni `A`-ból, `B`-be könnyen eldönthető. Ha `A` és `B` azonos komponensben van, akkor `A` és `B` között megy út az eredeti gráfban, különben nem."
   ]
  },
  {
   "cell_type": "markdown",
   "metadata": {},
   "source": [
    "1. példa\n",
    "`n = 3`, élek `edges = [[0,1], [1,2], [2,0]]`, `A =  0`, `B = 2`."
   ]
  },
  {
   "cell_type": "code",
   "execution_count": null,
   "metadata": {},
   "outputs": [],
   "source": [
    "def show_edges(edges, direction='LR'):\n",
    "    g = graphviz.Graph(graph_attr={'rankdir': direction})\n",
    "    g.edges([(str(a), str(b)) for a, b in edges])\n",
    "    return g"
   ]
  },
  {
   "cell_type": "code",
   "execution_count": null,
   "metadata": {},
   "outputs": [],
   "source": [
    "n = 3\n",
    "edges = [[0,1], [1,2], [2,0]]\n",
    "A =  0\n",
    "B = 2\n",
    "\n",
    "display(show_edges(edges, 'TD'))\n",
    "print(f\"Eredeti gráf\")\n",
    "print(\"=\"*50)\n",
    "\n",
    "roots = [i for i in range(n)]\n",
    "for a, b in edges:\n",
    "    union(roots, a, b)\n",
    "\n",
    "display(show_graph(roots))\n",
    "print(f\"{A=} és {B=} {'azonos' if find(roots, A)==find(roots, B) else 'különböző'} komponensben van\")"
   ]
  },
  {
   "cell_type": "markdown",
   "metadata": {},
   "source": [
    "2. példa"
   ]
  },
  {
   "cell_type": "code",
   "execution_count": null,
   "metadata": {},
   "outputs": [],
   "source": [
    "n = 6\n",
    "edges = [[0,1],[0,2],[3,5],[5,4],[4,3]]\n",
    "A = 0\n",
    "B = 5\n",
    "\n",
    "display(show_edges(edges))\n",
    "print(f\"Eredeti gráf\")\n",
    "print(\"=\"*50)\n",
    "\n",
    "roots = [i for i in range(n)]\n",
    "for a, b in edges:\n",
    "    union(roots, a, b)\n",
    "\n",
    "display(show_graph(roots))\n",
    "print(f\"{A=} és {B=} {'azonos' if find(roots, A)==find(roots, B) else 'különböző'} komponensben van\")\n"
   ]
  },
  {
   "cell_type": "markdown",
   "metadata": {},
   "source": [
    "Mi történik, ha nagyobb gráfunk van?"
   ]
  },
  {
   "cell_type": "code",
   "execution_count": null,
   "metadata": {},
   "outputs": [],
   "source": [
    "n = 10\n",
    "edges = [(0,i+1) for i in range(n-1)]\n",
    "display(show_edges(edges, 'TD'))\n",
    "\n",
    "roots = [i for i in range(n)]\n",
    "for a, b in edges:\n",
    "    union(roots, a, b)\n",
    "\n",
    "display(show_graph(roots))\n"
   ]
  },
  {
   "cell_type": "markdown",
   "metadata": {},
   "source": [
    "Valahányszor behúzzuk a $(0, i)$ élet, meg kell keresni $0$ reprezentánsát. $k$ él behúzása után $k$-lépéssel találjuk meg. Ha 10 helyett 10_000 méretű a gráf ez nem fog működni.\n",
    "\n",
    "### Javítási lehetőségek.\n",
    "\n",
    "- Amikor megkeressük $i$ reprezentánsát végig megyünk a reprezentánshoz vezető úton. Minden meglátogatott csúcsra ismerté válik a reprezentáns értéke. Ezt beírhatjuk a `roots` tömbe. (path compression)\n",
    "\n",
    "- A nagyobb komponensbe kössük be a kisebbet és ne fordítva. Ehhez  a ,,méretet'' nyilván kell tartani."
   ]
  },
  {
   "cell_type": "code",
   "execution_count": null,
   "metadata": {},
   "outputs": [],
   "source": [
    "def find_better(roots, a):\n",
    "    ra = roots[a]\n",
    "    if a != ra:\n",
    "        ra = find_better(roots, ra)\n",
    "        roots[a] = ra\n",
    "    return ra\n",
    "\n",
    "def find_better_without_recursion(roots, a):\n",
    "    stack = []\n",
    "\n",
    "    ra = roots[a]\n",
    "    while a != ra:\n",
    "        stack.append(a)\n",
    "        a = ra\n",
    "        ra = roots[a]\n",
    "\n",
    "    while stack:\n",
    "        roots[stack.pop()] = ra\n",
    "\n",
    "    return ra\n",
    "\n",
    "\n",
    "def union_sizes(roots, sizes, a, b):\n",
    "    ra = find_better(roots, a)\n",
    "    rb = find_better(roots, b)\n",
    "    if ra != rb:\n",
    "        if sizes[ra] < sizes[rb]:\n",
    "            ra, rb = rb, ra\n",
    "        roots[rb] = ra\n",
    "        sizes[ra] += sizes[rb]\n",
    "\n",
    "def union_ranks(roots, ranks, a, b):\n",
    "    ra = find_better(roots, a)\n",
    "    rb = find_better(roots, b)\n",
    "    if ra != rb:\n",
    "        if ranks[ra] < ranks[rb]:\n",
    "            ra, rb = rb, ra\n",
    "        roots[rb] = ra\n",
    "        if ranks[ra] == ranks[rb]:\n",
    "            ranks[ra] += 1\n",
    "\n",
    "\n"
   ]
  },
  {
   "cell_type": "code",
   "execution_count": null,
   "metadata": {},
   "outputs": [],
   "source": [
    "n = 10\n",
    "edges = [(0, i) for i in range(1, n)]\n",
    "display(show_edges(edges, 'TD'))\n",
    "\n",
    "roots = [i for i in range(n)]\n",
    "\n",
    "for a, b in edges:\n",
    "    ra = find_better(roots, a)\n",
    "    rb = find_better(roots, b)\n",
    "    roots[ra] = rb\n",
    "\n",
    "display(show_graph(roots, 'LR'))\n"
   ]
  },
  {
   "cell_type": "code",
   "execution_count": null,
   "metadata": {},
   "outputs": [],
   "source": [
    "n = 10\n",
    "edges = [(0, i) for i in range(1, n)]\n",
    "display(show_edges(edges, 'TD'))\n",
    "\n",
    "roots = [i for i in range(n)]\n",
    "\n",
    "for a, b in edges:\n",
    "    ra = find_better(roots, a)\n",
    "    rb = find_better(roots, b)\n",
    "    roots[rb] = ra\n",
    "\n",
    "display(show_graph(roots, 'TD'))\n"
   ]
  },
  {
   "cell_type": "code",
   "execution_count": null,
   "metadata": {},
   "outputs": [],
   "source": [
    "n = 10\n",
    "edges = [(0, i) for i in range(1, n)]\n",
    "display(show_edges(edges, 'TD'))\n",
    "\n",
    "roots = [i for i in range(n)]\n",
    "sizes = [1]*n\n",
    "\n",
    "for a, b in edges:\n",
    "    union_sizes(roots, sizes, a, b)\n",
    "\n",
    "display(show_graph(roots, 'TD'))\n"
   ]
  },
  {
   "cell_type": "code",
   "execution_count": null,
   "metadata": {},
   "outputs": [],
   "source": [
    "n = 10\n",
    "edges = [(0, i) for i in range(1, n)]\n",
    "display(show_edges(edges, 'TD'))\n",
    "\n",
    "roots = [i for i in range(n)]\n",
    "ranks = [0]*n\n",
    "\n",
    "for a, b in edges:\n",
    "    union_ranks(roots, ranks, a, b)\n",
    "\n",
    "display(show_graph(roots, 'TD'))\n"
   ]
  },
  {
   "cell_type": "markdown",
   "metadata": {},
   "source": [
    "### Szokásos implementáció"
   ]
  },
  {
   "cell_type": "code",
   "execution_count": null,
   "metadata": {},
   "outputs": [],
   "source": [
    "class UnionFind:\n",
    "    def __init__(self, n):\n",
    "        self.roots = [i for i in range(n)]\n",
    "        self.sizes = [1]*n \n",
    "\n",
    "    def find(self, a):\n",
    "        ra = self.roots[a]\n",
    "        if a != ra:\n",
    "            ra = self.find( ra)\n",
    "            self.roots[a] = ra\n",
    "        return ra\n",
    "    \n",
    "    def union(self, a, b):\n",
    "        ra = self.find(a)\n",
    "        rb = self.find(b)\n",
    "        if ra != rb:\n",
    "            if self.sizes[ra] < self.sizes[rb]:\n",
    "                ra, rb = rb, ra\n",
    "            self.roots[rb] = ra\n",
    "            self.sizes[ra] += self.sizes[rb]\n"
   ]
  },
  {
   "cell_type": "code",
   "execution_count": null,
   "metadata": {},
   "outputs": [],
   "source": [
    "uf = UnionFind(10)\n",
    "print(uf)\n",
    "uf.union(1, 2)\n",
    "print(uf)\n",
    "uf.union(5, 9)\n",
    "uf.union(6, 7)\n",
    "print(uf)\n",
    "\n",
    "uf"
   ]
  },
  {
   "cell_type": "markdown",
   "metadata": {},
   "source": [
    "`__str__` és `__repr__` metódusok"
   ]
  },
  {
   "cell_type": "code",
   "execution_count": null,
   "metadata": {},
   "outputs": [],
   "source": [
    "def as_set(seq):\n",
    "    return f\"{{{', '.join(map(str, seq))}}}\"\n",
    "\n",
    "def uf_str(self):\n",
    "    components = {}\n",
    "    for a in range(len(self.roots)):\n",
    "        ra = self.find(a)\n",
    "        if ra not in components:\n",
    "            components[ra] = []\n",
    "        components[ra].append(a)\n",
    "    return f\"{{{ ', '.join(map(as_set, components.values()))}}}\"\n",
    "\n",
    "def uf_repr(self):\n",
    "    return f\"{type(self).__name__}({len(self.roots)})\"\n",
    "\n",
    "# Így is lehet:\n",
    "UnionFind.__str__ = uf_str\n",
    "UnionFind.__repr__ = uf_repr"
   ]
  },
  {
   "cell_type": "code",
   "execution_count": null,
   "metadata": {},
   "outputs": [],
   "source": [
    "uf = UnionFind(10)\n",
    "print(uf)\n",
    "uf.union(1, 2)\n",
    "print(uf)\n",
    "uf.union(5, 9)\n",
    "uf.union(6, 7)\n",
    "print(uf)\n",
    "\n",
    "uf"
   ]
  },
  {
   "cell_type": "markdown",
   "metadata": {},
   "source": [
    "### További kérdések\n",
    "\n",
    "- Tegyük fel, hogy a komponensek száma érdekel minket. Hogyan oldanánk, meg, hogy konstans idő alatt megkaphassuk.\n",
    "- Tegyük fel, hogy a legnagyobb komponens méretet érdekel minket. Hogyan oldanánk, meg, hogy konstans idő alatt megkaphassuk.\n",
    "- Hogyan ellenőriznénk, hogy két partíció azonos?"
   ]
  },
  {
   "cell_type": "markdown",
   "metadata": {},
   "source": [
    "## Feladat"
   ]
  },
  {
   "cell_type": "markdown",
   "metadata": {},
   "source": [
    "Írjunk egy függvényt, ami kiszámolja az első $n$ természetes szám $p$-ik hatványösszegét.\n",
    "\n",
    "pl. `p = 0`-ra\n",
    "\n",
    "```Python\n",
    "def f0(n):\n",
    "    return n\n",
    "```\n",
    "\n",
    "jó, mert $k^0=1$ ha $k=1,\\dots,n$ és ezek összege pont $n$.\n",
    "\n",
    "Ha `p = 1`, akkor\n",
    "\n",
    "```Python\n",
    "def f1(n):\n",
    "    return n*(n+1)//2\n",
    "```\n",
    "\n",
    "jó, mert $\\sum_{k=1}^n k = n(n+1)/2$.\n",
    "\n",
    "Még `p = 2`-t is tanultuk\n",
    "\n",
    "```Python\n",
    "def f2(n):\n",
    "    return n*(n+1)*(2*n+1)//6\n",
    "```\n",
    "\n",
    "Általános $p$-re tudunk-e ilyen függvényt írni?"
   ]
  },
  {
   "cell_type": "code",
   "execution_count": null,
   "metadata": {},
   "outputs": [],
   "source": [
    "def mk_power_sum(p):\n",
    "    def f(n):\n",
    "        total = 0\n",
    "        for k in range(1, n+1):\n",
    "            total += k**p\n",
    "        return total\n",
    "\n",
    "    f.__doc__ = f\"\"\"\n",
    "        {p}-ik hatványok összegét számolja\n",
    "        \"\"\"\n",
    "\n",
    "    return f"
   ]
  },
  {
   "cell_type": "code",
   "execution_count": null,
   "metadata": {},
   "outputs": [],
   "source": [
    "f2_slow = mk_power_sum(2)"
   ]
  },
  {
   "cell_type": "code",
   "execution_count": null,
   "metadata": {},
   "outputs": [],
   "source": [
    "f2_slow?"
   ]
  },
  {
   "cell_type": "code",
   "execution_count": null,
   "metadata": {},
   "outputs": [],
   "source": [
    "[f2_slow(i) for i in range(0, 10)]"
   ]
  },
  {
   "cell_type": "code",
   "execution_count": null,
   "metadata": {},
   "outputs": [],
   "source": [
    "def f2_fast(n):\n",
    "    return n*(n+1)*(2*n+1)//6"
   ]
  },
  {
   "cell_type": "code",
   "execution_count": null,
   "metadata": {},
   "outputs": [],
   "source": [
    "%timeit f2_slow(10_000)\n",
    "%timeit f2_fast(10_000)"
   ]
  },
  {
   "cell_type": "markdown",
   "metadata": {},
   "source": [
    "### Ötlet"
   ]
  },
  {
   "cell_type": "markdown",
   "metadata": {},
   "source": [
    "$$\n",
    "    \\sum_{k=r}^n  \\binom{k}{r} = \\binom{n+1}{r+1}\n",
    "$$\n",
    "\n",
    "**Bizonyítás.**\n",
    "$\\{1,2,\\dots,n+1\\}$-ből válasszunk ki $r+1$ különböző számot.\n",
    "\n",
    "Összes lehetőség:\n",
    "$$\n",
    "\\binom{n+1}{r+1}.\n",
    "$$\n",
    "\n",
    "Számoljuk meg az eseteket aszerint szétbontva is, hogy legnagyobb kiválasztott szám mivel egyenlő.\n",
    "\n",
    "Ha a legnagyobb szám $k+1$, akkor a maradék $r$ számot $\\{1,2,\\dots, k\\}$ közül választjuk. Így az esetek száma\n",
    "$$\n",
    "    \\sum_{k+1=r+1}^{n+1} \\binom{k}{r} =  \\sum_{k=r}^{n} \\binom{k}{r}\n",
    "$$  \n",
    "$k+1$ helyett $k$ az összegzési változó"
   ]
  },
  {
   "cell_type": "markdown",
   "metadata": {},
   "source": [
    "Ugyanez másképp.\n",
    "\n",
    "$$\n",
    "\\binom{k}{r} = \\frac{1}{r!} k(k-1)\\cdots(k-r+1) = p_r(k-r+1),\\quad\\text{ahol}\\quad p_r(x) = \\frac{x(x+1)\\cdots(x+r-1)}{r!}\n",
    "$$\n",
    "és\n",
    "$$\n",
    "    \\sum_{j=1}^{n-r+1} p_r(j) = p_{r+1}(n+1-(r+1)+1)= p_{r+1}(n-r+1)\\quad\\text{minden $n\\geq r$ és $r\\geq 0$-ra}\n",
    "$$\n",
    "\n",
    "Az összegzés felső határa és $p_{r+1}$ argumentuma ugyanaz, azaz\n",
    "\n",
    "$$\n",
    "\\sum_{j=0}^{n} p_r(j) = p_{r+1}(n)\n",
    "$$"
   ]
  },
  {
   "cell_type": "markdown",
   "metadata": {},
   "source": [
    "**Lineáris algebra.**\n",
    "\n",
    "$$\n",
    "p_0\\equiv 1,\\quad p_1(x)=x,\\quad p_2(x)=\\frac12x(x+1),\\quad\\dots,\\quad p_r(x)=\\frac1{r!}x(x+1)\\cdots(x+r-1)\n",
    "$$\n",
    "\n",
    "bázis a legfeljebb $r$-edfokú polinomok vektorterében.\n",
    "\n",
    "$$\n",
    "    x^r = \\sum_{i=0}^r a_i p_i(x)\n",
    "$$\n",
    "és\n",
    "$$\n",
    "    \\sum_{k=0}^n k^r = \\sum_{k=0}^n \\sum_{i=0}^r a_i p_i(k) =  \\sum_{i=0}^r a_i  \\sum_{k=0}^n p_i(k) = \\sum_{i=0}^r a_i  p_{i+1}(n)\n",
    "$$\n"
   ]
  },
  {
   "cell_type": "markdown",
   "metadata": {},
   "source": [
    "### Összefoglalva\n",
    "\n",
    "- Egy polinomot az együtthatókkal ábrázolhatunk.\n",
    "- Kellene egy függvény, ami a természetes $1, x, x^2,\\dots$ bázisban felírt polinomot a $p_0,p_1,\\dots$ bázisban ír fel.\n",
    "- $p_0, p_1, \\dots,$ bázisban az összegzés könnyű, lényegében arrébb kell tolni az együtthatókat.\n",
    "- A $p_0,p_1,\\dots$ bázisban felírt polinomot vagy visszaszámoljuk a természetes bázisba, vagy megírjuk a függvényt, ami kiértékeli a függvényt egy adott pontban."
   ]
  },
  {
   "cell_type": "code",
   "execution_count": null,
   "metadata": {},
   "outputs": [],
   "source": [
    "def poly_taylor(coeff):\n",
    "    \"\"\"\n",
    "    returns a polinomial function\n",
    "    sum coeff[i] x**i = coeff[0] + x*(coeff[1] + x*(...))\n",
    "    \"\"\"\n",
    "    def f(x):\n",
    "        value = 0\n",
    "        for c in reversed(coeff):\n",
    "            value = value*x+c\n",
    "        return value\n",
    "\n",
    "    return f\n",
    "\n",
    "def poly_other(coeff):\n",
    "    \"\"\"\n",
    "    returns a polinomial function\n",
    "    sum coeff[i] x*(x+1)*...(x+i-1) = coeff[0] + x*(coeff[1] + (x+1)*(...))\n",
    "    \"\"\"\n",
    "    def f(x):\n",
    "        value = 0\n",
    "        p = 1\n",
    "        for i, c in enumerate(coeff):\n",
    "            value += c*p\n",
    "            p = p*(x+i)/(i+1)\n",
    "        return value\n",
    "\n",
    "    return f"
   ]
  },
  {
   "cell_type": "code",
   "execution_count": null,
   "metadata": {},
   "outputs": [],
   "source": [
    "f = poly_taylor([0, 0, 1])\n",
    "\n",
    "f(0), f(1), f(2), f(0.5)\n"
   ]
  },
  {
   "cell_type": "code",
   "execution_count": null,
   "metadata": {},
   "outputs": [],
   "source": [
    "g = poly_other([0, 0, 1])\n",
    "\n",
    "g(0), g(1), g(2), g(0.5)\n"
   ]
  },
  {
   "cell_type": "markdown",
   "metadata": {},
   "source": [
    "Vegyük észre, hogy $p_0$ azonosan 1, $p_1(0)=0$, $p_2(0)=p_2(-1)=0$, stb.\n",
    "\n",
    "Ha $f=\\sum_i a_i p_i$, akkor\n",
    "$$\n",
    "    f(0) = \\sum_i a_i p(0) = a_0, \\quad f(-1) = a_0 p_0(-1) + a_1 p_1(-1),\\quad f(-k) = a_0 p_0(-k) + a_1 p_1(-k) + \\cdots + a_k p_k(-k).\n",
    "$$\n",
    "amiből\n",
    "\n",
    "$$\n",
    "\\begin{align*}\n",
    "    a_0 & = f(0)\\\\\n",
    "    a_1 & = \\frac{f(-1) - a_0 p_0(-1)}{p_1(-1)}\\\\\n",
    "    \\vdots\\\\\n",
    "    a_k & = \\frac{f(-k) - \\sum_{j=0}^{k-1} a_j p_j(-k)}{p_{k}(-k)}\\\\\n",
    "    \\vdots\n",
    "\\end{align*}\n",
    "$$  \n",
    "Kihasználhatjuk még, hogy\n",
    "$$\n",
    "p_k(-k)=\\frac{1}{k!}(-k)(-k+1)\\cdots(-k+(k-1))=(-1)^k.\n",
    "$$"
   ]
  },
  {
   "cell_type": "code",
   "execution_count": null,
   "metadata": {},
   "outputs": [],
   "source": [
    "def taylor_to_other(coeff):\n",
    "    f = poly_taylor(coeff)\n",
    "    new_coeff = []\n",
    "    def p_value(x):\n",
    "        value = 0\n",
    "        p = 1\n",
    "        for i, c in enumerate(new_coeff):\n",
    "            value += c*p\n",
    "            p = (p*(x+i))//(i+1)\n",
    "        return value\n",
    "\n",
    "    for i in range(len(coeff)):\n",
    "        c = f(-i)-p_value(-i)\n",
    "        if i % 2 == 1:\n",
    "            c = -c\n",
    "        new_coeff.append(c)\n",
    "\n",
    "    return new_coeff"
   ]
  },
  {
   "cell_type": "code",
   "execution_count": null,
   "metadata": {},
   "outputs": [],
   "source": [
    "taylor_to_other([0, 0, 0, 1])"
   ]
  },
  {
   "cell_type": "markdown",
   "metadata": {},
   "source": [
    "Gyors ellenőrzés."
   ]
  },
  {
   "cell_type": "code",
   "execution_count": null,
   "metadata": {},
   "outputs": [],
   "source": [
    "coeff = [0,0,0,1]\n",
    "f0 = poly_taylor(coeff)\n",
    "f1 = poly_other(taylor_to_other(coeff))\n",
    "\n",
    "for i in range(10):\n",
    "    print(f\"{i=}, {f0(i)=}, {f1(i)=}\")"
   ]
  },
  {
   "cell_type": "code",
   "execution_count": null,
   "metadata": {},
   "outputs": [],
   "source": [
    "def mk_fast_power_sum(p):\n",
    "    coeff = taylor_to_other([0]*p+[1])\n",
    "    def f(n: int) -> int:\n",
    "        value = 0\n",
    "        px = n\n",
    "        for i, c in enumerate(coeff, 1):\n",
    "            value += c*px\n",
    "            px = (px*(n+i))//(i+1)\n",
    "        return value\n",
    "\n",
    "\n",
    "    f.__doc__ = f\"\"\"\n",
    "    Computes the sum of the p-th power of the first `n` positive integer with {p = }.\n",
    "    \"\"\"\n",
    "    return f"
   ]
  },
  {
   "cell_type": "code",
   "execution_count": null,
   "metadata": {},
   "outputs": [],
   "source": [
    "taylor_to_other([0]*2+[1])"
   ]
  },
  {
   "cell_type": "code",
   "execution_count": null,
   "metadata": {},
   "outputs": [],
   "source": [
    "f2 = mk_fast_power_sum(2)"
   ]
  },
  {
   "cell_type": "code",
   "execution_count": null,
   "metadata": {},
   "outputs": [],
   "source": [
    "f2?"
   ]
  },
  {
   "cell_type": "code",
   "execution_count": null,
   "metadata": {},
   "outputs": [],
   "source": [
    "f2(0), f2(1), f2(2), f2(3)"
   ]
  },
  {
   "cell_type": "code",
   "execution_count": null,
   "metadata": {},
   "outputs": [],
   "source": [
    "%%ipytest\n",
    "\n",
    "def test_fast_power_sum():\n",
    "    for i in range(1, 4):\n",
    "        f = mk_fast_power_sum(i)\n",
    "        g = mk_power_sum(i)\n",
    "        for n in range(1000):\n",
    "            assert f(n) == g(n)"
   ]
  },
  {
   "cell_type": "code",
   "execution_count": null,
   "metadata": {},
   "outputs": [],
   "source": [
    "%timeit f2_slow(10_000)\n",
    "%timeit f2(10_000)\n",
    "%timeit f2_fast(10_000)"
   ]
  },
  {
   "cell_type": "code",
   "execution_count": null,
   "metadata": {},
   "outputs": [],
   "source": [
    "cell = f2.__closure__[0]\n",
    "cell.cell_contents"
   ]
  },
  {
   "cell_type": "markdown",
   "metadata": {},
   "source": [
    "# Faktoriális értékének közelítése"
   ]
  },
  {
   "cell_type": "markdown",
   "metadata": {},
   "source": [
    "Mekkora $n!$, ha $n$ nagy?\n",
    "\n",
    "Ötlet:\n",
    "$$\n",
    "    \\log n! = \\sum_{k=1}^n \\log k \\approx \\int_1^{?} \\log x dx = \\left[ x(\\log x-1)\\right]_{x=1}^{x=?}\n",
    "$$"
   ]
  },
  {
   "cell_type": "code",
   "execution_count": null,
   "metadata": {},
   "outputs": [],
   "source": [
    "import matplotlib.pyplot as plt\n",
    "import math\n",
    "\n",
    "def subdivision(a, b, n):\n",
    "    d = (b-a)/n\n",
    "    return [a+i*d for i in range(n+1)]\n",
    "\n",
    "def add_function_curve(f, a, b, n=100):\n",
    "    xs = subdivision(a, b, n)\n",
    "    fxs = [f(x) for x in  xs]\n",
    "    plt.plot(xs, fxs, \"r-\")"
   ]
  },
  {
   "cell_type": "markdown",
   "metadata": {},
   "source": [
    "## Téglalap közelítés"
   ]
  },
  {
   "cell_type": "code",
   "execution_count": null,
   "metadata": {},
   "outputs": [],
   "source": [
    "k_values = [k for k in range(1, 11)]\n",
    "for k in k_values:\n",
    "    plt.fill_between([k+i for k in k_values for i in range(2)], [math.log(k) for k in k_values for i in range(2)], color='lightblue')\n",
    "\n",
    "add_function_curve(math.log, 1, 11)\n"
   ]
  },
  {
   "cell_type": "markdown",
   "metadata": {},
   "source": [
    "A hiba:"
   ]
  },
  {
   "cell_type": "code",
   "execution_count": null,
   "metadata": {},
   "outputs": [],
   "source": [
    "def primitive_function(x):\n",
    "    return x*(math.log(x)-1)\n",
    "\n",
    "def rectangle_error(k):\n",
    "    return primitive_function(k+1)-primitive_function(k)-math.log(k)\n",
    "\n",
    "def cummulative_error(n, error_fun=rectangle_error):\n",
    "    return sum(error_fun(k) for k in range(1, n+1))"
   ]
  },
  {
   "cell_type": "code",
   "execution_count": null,
   "metadata": {},
   "outputs": [],
   "source": [
    "for n in [10, 100, 1000]:\n",
    "    print(f\"{n=}, {cummulative_error(n)=}\")"
   ]
  },
  {
   "cell_type": "markdown",
   "metadata": {},
   "source": [
    "### Javítás, trapéz összeg közelítés"
   ]
  },
  {
   "cell_type": "markdown",
   "metadata": {},
   "source": [
    "Téglalapok helyett minden egység intervallumon a beírt trapézt  használjuk."
   ]
  },
  {
   "cell_type": "code",
   "execution_count": null,
   "metadata": {},
   "outputs": [],
   "source": [
    "k_values = [k for k in range(1, 11)]\n",
    "for k in k_values:\n",
    "    plt.fill_between(k_values, [math.log(k) for k in k_values], color='lightblue')\n",
    "\n",
    "add_function_curve(math.log, 1, 10)\n"
   ]
  },
  {
   "cell_type": "code",
   "execution_count": null,
   "metadata": {},
   "outputs": [],
   "source": [
    "def error_fun(x):\n",
    "    k, t = divmod(x, 1)\n",
    "    return math.log(x) - ((1-t)*math.log(k) + t*math.log(k+1))\n",
    "\n",
    "xs = subdivision(1, 10, 100)\n",
    "plt.fill_between(xs, [error_fun(x) for x in xs], color='lightblue')\n",
    "add_function_curve(error_fun, 1, 10, 500)\n"
   ]
  },
  {
   "cell_type": "code",
   "execution_count": null,
   "metadata": {},
   "outputs": [],
   "source": [
    "def modified_error_fun(x):\n",
    "    k = x//1\n",
    "    return k*k*error_fun(x)\n",
    "\n",
    "for a in [1, 100, 1000, 10000]:\n",
    "    b = a+10\n",
    "    xs = subdivision(a, b, 1000)\n",
    "\n",
    "    plt.fill_between(xs, [modified_error_fun(x) for x in xs], color='lightblue')\n",
    "    add_function_curve(modified_error_fun, a, b, 1000)\n",
    "    plt.show()"
   ]
  },
  {
   "cell_type": "code",
   "execution_count": null,
   "metadata": {},
   "outputs": [],
   "source": [
    "def trapezoid_error(k):\n",
    "    return primitive_function(k+1)-primitive_function(k)-0.5*(math.log(k)+math.log(k+1))\n"
   ]
  },
  {
   "cell_type": "code",
   "execution_count": null,
   "metadata": {},
   "outputs": [],
   "source": [
    "for n in [10, 100, 1000]:\n",
    "    print(f\"{n = :>4}, {cummulative_error(n, trapezoid_error) = :.8f}\")"
   ]
  },
  {
   "cell_type": "markdown",
   "metadata": {},
   "source": [
    "## Látszik, hogy a hiba lassan nő. Tudunk-e felső becslést adni rá?\n",
    "\n",
    "$$\n",
    "    \\int_{k}^{k+1} \\log x dx = \\int_0^1 \\log(k+x) dx\n",
    "$$\n",
    "\n",
    "A beírt trapéz területe integrállal\n",
    "\n",
    "$$\n",
    "    \\int_0^1 x\\log(k+1)+(1-x)\\log(k) dx\n",
    "$$\n",
    "\n",
    "Tudjuk-e becsülni a két integrandus különbségét?\n",
    "$$\n",
    "    \\log(k+x) - (x\\log(k+1)+(1-x)\\log(k))\n",
    "$$\n",
    "\n",
    "Átalakítás mindkét tagból levonunk $\\log(k)$-t:\n",
    "$$\n",
    "    \\log(k+x) - \\log(k) - (x\\log(k+1)+(1-x)\\log(k) -\\log(k)) = \\log(1+\\tfrac{x}{k}) - x\\log(1+\\tfrac1k)\n",
    "$$\n"
   ]
  },
  {
   "cell_type": "code",
   "execution_count": null,
   "metadata": {},
   "outputs": [],
   "source": [
    "xs = subdivision(0, 1, 100)\n",
    "\n",
    "for k in range(1, 4):\n",
    "    plt.fill_between(xs, [math.log(k+x)-math.log(k) for x in xs], [math.log(k+1)*x+math.log(k)*(1-x)-math.log(k) for x in xs], color=\"blue\")\n",
    "\n",
    "plt.grid()"
   ]
  },
  {
   "cell_type": "markdown",
   "metadata": {},
   "source": [
    "A logaritmus függvény konkáv, a derivált monoton fogy ($1/x$) és egy beírt húr mindig a végponthoz behúzott érintő egyenesek alatt van.\n",
    "\n",
    "$$\n",
    "    \\log (1+x)\\leq x\n",
    "$$\n",
    "\n",
    "ezért\n",
    "$$\n",
    "    \\log(1+x/k) - x \\log(1+1/k)\\leq \\frac xk - x\\log(1+1/k) = x(1/k -\\log(1+1/k))\n",
    "$$\n",
    "\n",
    "de\n",
    "$$\n",
    "    \\log(1+1/k) = \\log\\frac{k+1}{k} = -\\log\\frac{k}{k+1} = -\\log(1-1/(k+1)) \\geq \\frac1{k+1}\n",
    "$$\n",
    "\n",
    "Így\n",
    "\n",
    "$$\n",
    "    \\log(1+x/k) - x \\log(1+1/k)\\leq x\\left(\\frac1k-\\frac1{k+1}\\right)\n",
    "$$\n",
    "és\n",
    "a $k$. intervallumon elkövetett hiba legfeljebb\n",
    "$$\n",
    "    \\int_{0}^{1} \\log(k+x) - ((1-x)\\log(k)+x\\log(k+1))dx = \\int_0^1 x dx \\left(\\frac1k -\\frac1{k+1}\\right)\n",
    "$$\n",
    "A hibák összege legfeljebb:\n",
    "$$\n",
    "    \\frac12 \\sum_{k=1}^\\infty \\frac1k -\\frac1{k+1} =\\frac12\n",
    "$$"
   ]
  },
  {
   "cell_type": "markdown",
   "metadata": {},
   "source": [
    "Összefoglalva:\n",
    "\n",
    "$$\n",
    "    \\log n! = \\int_1^n \\log x dx + \\frac12 \\log n + r_n = n(\\log(n) - 1) + 1 + \\frac12 \\log (n) + r_n\n",
    "$$\n",
    "ahol $r_n$ a közelítés hibája az első $n$ intervallumon\n",
    "$$\n",
    "    r_n = \\sum_{k=1}^n \\int_0^1 \\log(1+x/k)-x\\log(1+1/k)dx \\leq 1/2\n",
    "$$\n",
    "$(r_n)$ monoton nő, ezért létezik limesze.\n",
    "\n",
    "Visszaírva faktoriálisra:\n",
    "\n",
    "$$\n",
    "    n! = \\sqrt{n}\\left(\\frac{n}{e}\\right)^n c_n\n",
    "$$\n",
    "ahol $c_n=e^{1+r_n}\\leq e^{3/2}$\n",
    "\n",
    "Analízisben a Wallis formula következményeként szerepel\n",
    "\n",
    "$$\n",
    "\\lim c_n = \\sqrt{2\\pi}\n",
    "$$\n",
    "\n",
    "Középiskolai tudást használva is kiszámíthatnánk:\n",
    "$$\n",
    "    \\sqrt{n}\\frac1{2^{2n}}\\binom{2n}{n}\n",
    "    = \\sqrt{n} \\frac1{2^{2n}} \\frac{c_{2n} \\sqrt{2n} \\left(\\frac{2n}{e}\\right)^{2n}}{c_n^2 n\\left(\\frac{n}{e}\\right)^{2n}}\n",
    "    \\to \\lim_{n\\to\\infty} \\frac{c_{2n}}{c_n^2} = \\lim_{n\\to\\infty}\\frac{\\sqrt{2}}{c_n}\n",
    "$$\n",
    "\n",
    "Az\n",
    "$$\n",
    "    I_n = \\int_{0}^{\\pi/2} \\cos^n(x) dx\n",
    "$$\n",
    "sorozatot vizsgálva,\n",
    "$$\n",
    "\\frac1{2^{2n}}\\binom{2n}{n}\\approx \\frac{1}{\\sqrt{\\pi n}}\n",
    "$$\n",
    "adódik,  amiből $\\lim_n c_n =\\sqrt{2\\pi}$.\n",
    "\n",
    "Ez a nevezetes **Stirling** formula:\n",
    "$$\n",
    " \\frac{n!}{\\sqrt{2\\pi n}\\left(\\frac{n}{e}\\right)^n} \\to 1\n",
    "$$\n"
   ]
  },
  {
   "cell_type": "markdown",
   "metadata": {},
   "source": []
  }
 ],
 "metadata": {
  "kernelspec": {
   "display_name": "python3.10",
   "language": "python",
   "name": "python3"
  },
  "language_info": {
   "codemirror_mode": {
    "name": "ipython",
    "version": 3
   },
   "file_extension": ".py",
   "mimetype": "text/x-python",
   "name": "python",
   "nbconvert_exporter": "python",
   "pygments_lexer": "ipython3",
   "version": "3.10.12"
  }
 },
 "nbformat": 4,
 "nbformat_minor": 2
}
